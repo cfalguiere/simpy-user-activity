{
 "cells": [
  {
   "cell_type": "code",
   "execution_count": 117,
   "metadata": {},
   "outputs": [
    {
     "name": "stdout",
     "output_type": "stream",
     "text": [
      "Requirement already satisfied: simpy in /Users/cfalguiere/anaconda3/lib/python3.7/site-packages (4.0.1)\n",
      "Requirement already satisfied: plotly in /Users/cfalguiere/anaconda3/lib/python3.7/site-packages (5.3.1)\n",
      "Requirement already satisfied: tenacity>=6.2.0 in /Users/cfalguiere/anaconda3/lib/python3.7/site-packages (from plotly) (8.0.1)\n",
      "Requirement already satisfied: six in /Users/cfalguiere/anaconda3/lib/python3.7/site-packages (from plotly) (1.12.0)\n"
     ]
    }
   ],
   "source": [
    "!pip install simpy plotly"
   ]
  },
  {
   "cell_type": "code",
   "execution_count": 118,
   "metadata": {},
   "outputs": [],
   "source": [
    "import simpy"
   ]
  },
  {
   "cell_type": "code",
   "execution_count": 119,
   "metadata": {},
   "outputs": [],
   "source": [
    "# very basic process"
   ]
  },
  {
   "cell_type": "code",
   "execution_count": 120,
   "metadata": {},
   "outputs": [],
   "source": [
    "#"
   ]
  },
  {
   "cell_type": "code",
   "execution_count": 121,
   "metadata": {},
   "outputs": [],
   "source": [
    "class User():\n",
    "    def __init__(self, id, env):\n",
    "        self.id = id\n",
    "        self.env = env\n",
    "        self.name = f\"User-{id}\"\n",
    "        # Start the run process everytime an instance is created.\n",
    "        # create itself as a processs\n",
    "        self.action = env.process(self.run())\n",
    "\n",
    "    def run(self):\n",
    "        while True:\n",
    "            print(f\"{self.name} starts task at %d\" % self.env.now)\n",
    "            task_duration = 5\n",
    "            # We yield the process that process() returns\n",
    "            # to wait for it to finish\n",
    "            yield self.env.process(self.process_task(task_duration))\n",
    "            print(f\"{self.name} ends task at %d\" % self.env.now)\n",
    "\n",
    "            # The charge process has finished and\n",
    "            # we can start driving again.\n",
    "            print(f\"{self.name} starts verification at %d\" % self.env.now)\n",
    "            verification_duration = 2\n",
    "            yield self.env.timeout(verification_duration)\n",
    "            print(f\"{self.name} ends verification at %d\" % self.env.now)\n",
    "\n",
    "    def process_task(self, duration):\n",
    "        yield self.env.timeout(duration)\n"
   ]
  },
  {
   "cell_type": "code",
   "execution_count": 122,
   "metadata": {},
   "outputs": [
    {
     "name": "stdout",
     "output_type": "stream",
     "text": [
      "User-1 starts task at 0\n",
      "User-1 ends task at 5\n",
      "User-1 starts verification at 5\n",
      "User-1 ends verification at 7\n",
      "User-1 starts task at 7\n",
      "User-1 ends task at 12\n",
      "User-1 starts verification at 12\n",
      "User-1 ends verification at 14\n",
      "User-1 starts task at 14\n"
     ]
    }
   ],
   "source": [
    "env = simpy.Environment()\n",
    "user = User(1, env)\n",
    "env.run(until=15)"
   ]
  },
  {
   "cell_type": "code",
   "execution_count": 123,
   "metadata": {},
   "outputs": [],
   "source": [
    "def user_generator(size, env):\n",
    "    for i in range(size):\n",
    "        User(i, env).action\n",
    "        yield env.timeout(5)"
   ]
  },
  {
   "cell_type": "code",
   "execution_count": 124,
   "metadata": {},
   "outputs": [
    {
     "name": "stdout",
     "output_type": "stream",
     "text": [
      "User-0 starts task at 0\n",
      "User-1 starts task at 5\n",
      "User-0 ends task at 5\n",
      "User-0 starts verification at 5\n",
      "User-0 ends verification at 7\n",
      "User-0 starts task at 7\n",
      "User-2 starts task at 10\n",
      "User-1 ends task at 10\n",
      "User-1 starts verification at 10\n",
      "User-1 ends verification at 12\n",
      "User-1 starts task at 12\n",
      "User-0 ends task at 12\n",
      "User-0 starts verification at 12\n",
      "User-0 ends verification at 14\n",
      "User-0 starts task at 14\n"
     ]
    }
   ],
   "source": [
    "env = simpy.Environment()\n",
    "#user = User(env, res)\n",
    "user_gen = env.process(user_generator(4, env))\n",
    "\n",
    "env.run(until=15)"
   ]
  },
  {
   "cell_type": "code",
   "execution_count": null,
   "metadata": {},
   "outputs": [],
   "source": []
  },
  {
   "cell_type": "code",
   "execution_count": 125,
   "metadata": {},
   "outputs": [],
   "source": [
    "# plotly example"
   ]
  },
  {
   "cell_type": "code",
   "execution_count": 126,
   "metadata": {},
   "outputs": [
    {
     "name": "stdout",
     "output_type": "stream",
     "text": [
      "Requirement already satisfied: plotly in /Users/cfalguiere/anaconda3/lib/python3.7/site-packages (5.3.1)\r\n",
      "Requirement already satisfied: six in /Users/cfalguiere/anaconda3/lib/python3.7/site-packages (from plotly) (1.12.0)\r\n",
      "Requirement already satisfied: tenacity>=6.2.0 in /Users/cfalguiere/anaconda3/lib/python3.7/site-packages (from plotly) (8.0.1)\r\n"
     ]
    }
   ],
   "source": [
    "!pip install plotly"
   ]
  },
  {
   "cell_type": "code",
   "execution_count": 127,
   "metadata": {},
   "outputs": [
    {
     "data": {
      "application/vnd.plotly.v1+json": {
       "config": {
        "plotlyServerURL": "https://plot.ly"
       },
       "data": [
        {
         "alignmentgroup": "True",
         "base": [
          "2009-01-01",
          "2009-03-05",
          "2009-02-20"
         ],
         "hovertemplate": "Start=%{base}<br>Finish=%{x}<br>Task=%{y}<extra></extra>",
         "legendgroup": "",
         "marker": {
          "color": "#636efa"
         },
         "name": "",
         "offsetgroup": "",
         "orientation": "h",
         "showlegend": false,
         "textposition": "auto",
         "type": "bar",
         "x": [
          5011200000,
          3542400000,
          8553600000
         ],
         "xaxis": "x",
         "y": [
          "Job A",
          "Job B",
          "Job C"
         ],
         "yaxis": "y"
        }
       ],
       "layout": {
        "barmode": "overlay",
        "legend": {
         "tracegroupgap": 0
        },
        "margin": {
         "t": 60
        },
        "template": {
         "data": {
          "bar": [
           {
            "error_x": {
             "color": "#2a3f5f"
            },
            "error_y": {
             "color": "#2a3f5f"
            },
            "marker": {
             "line": {
              "color": "#E5ECF6",
              "width": 0.5
             },
             "pattern": {
              "fillmode": "overlay",
              "size": 10,
              "solidity": 0.2
             }
            },
            "type": "bar"
           }
          ],
          "barpolar": [
           {
            "marker": {
             "line": {
              "color": "#E5ECF6",
              "width": 0.5
             },
             "pattern": {
              "fillmode": "overlay",
              "size": 10,
              "solidity": 0.2
             }
            },
            "type": "barpolar"
           }
          ],
          "carpet": [
           {
            "aaxis": {
             "endlinecolor": "#2a3f5f",
             "gridcolor": "white",
             "linecolor": "white",
             "minorgridcolor": "white",
             "startlinecolor": "#2a3f5f"
            },
            "baxis": {
             "endlinecolor": "#2a3f5f",
             "gridcolor": "white",
             "linecolor": "white",
             "minorgridcolor": "white",
             "startlinecolor": "#2a3f5f"
            },
            "type": "carpet"
           }
          ],
          "choropleth": [
           {
            "colorbar": {
             "outlinewidth": 0,
             "ticks": ""
            },
            "type": "choropleth"
           }
          ],
          "contour": [
           {
            "colorbar": {
             "outlinewidth": 0,
             "ticks": ""
            },
            "colorscale": [
             [
              0,
              "#0d0887"
             ],
             [
              0.1111111111111111,
              "#46039f"
             ],
             [
              0.2222222222222222,
              "#7201a8"
             ],
             [
              0.3333333333333333,
              "#9c179e"
             ],
             [
              0.4444444444444444,
              "#bd3786"
             ],
             [
              0.5555555555555556,
              "#d8576b"
             ],
             [
              0.6666666666666666,
              "#ed7953"
             ],
             [
              0.7777777777777778,
              "#fb9f3a"
             ],
             [
              0.8888888888888888,
              "#fdca26"
             ],
             [
              1,
              "#f0f921"
             ]
            ],
            "type": "contour"
           }
          ],
          "contourcarpet": [
           {
            "colorbar": {
             "outlinewidth": 0,
             "ticks": ""
            },
            "type": "contourcarpet"
           }
          ],
          "heatmap": [
           {
            "colorbar": {
             "outlinewidth": 0,
             "ticks": ""
            },
            "colorscale": [
             [
              0,
              "#0d0887"
             ],
             [
              0.1111111111111111,
              "#46039f"
             ],
             [
              0.2222222222222222,
              "#7201a8"
             ],
             [
              0.3333333333333333,
              "#9c179e"
             ],
             [
              0.4444444444444444,
              "#bd3786"
             ],
             [
              0.5555555555555556,
              "#d8576b"
             ],
             [
              0.6666666666666666,
              "#ed7953"
             ],
             [
              0.7777777777777778,
              "#fb9f3a"
             ],
             [
              0.8888888888888888,
              "#fdca26"
             ],
             [
              1,
              "#f0f921"
             ]
            ],
            "type": "heatmap"
           }
          ],
          "heatmapgl": [
           {
            "colorbar": {
             "outlinewidth": 0,
             "ticks": ""
            },
            "colorscale": [
             [
              0,
              "#0d0887"
             ],
             [
              0.1111111111111111,
              "#46039f"
             ],
             [
              0.2222222222222222,
              "#7201a8"
             ],
             [
              0.3333333333333333,
              "#9c179e"
             ],
             [
              0.4444444444444444,
              "#bd3786"
             ],
             [
              0.5555555555555556,
              "#d8576b"
             ],
             [
              0.6666666666666666,
              "#ed7953"
             ],
             [
              0.7777777777777778,
              "#fb9f3a"
             ],
             [
              0.8888888888888888,
              "#fdca26"
             ],
             [
              1,
              "#f0f921"
             ]
            ],
            "type": "heatmapgl"
           }
          ],
          "histogram": [
           {
            "marker": {
             "pattern": {
              "fillmode": "overlay",
              "size": 10,
              "solidity": 0.2
             }
            },
            "type": "histogram"
           }
          ],
          "histogram2d": [
           {
            "colorbar": {
             "outlinewidth": 0,
             "ticks": ""
            },
            "colorscale": [
             [
              0,
              "#0d0887"
             ],
             [
              0.1111111111111111,
              "#46039f"
             ],
             [
              0.2222222222222222,
              "#7201a8"
             ],
             [
              0.3333333333333333,
              "#9c179e"
             ],
             [
              0.4444444444444444,
              "#bd3786"
             ],
             [
              0.5555555555555556,
              "#d8576b"
             ],
             [
              0.6666666666666666,
              "#ed7953"
             ],
             [
              0.7777777777777778,
              "#fb9f3a"
             ],
             [
              0.8888888888888888,
              "#fdca26"
             ],
             [
              1,
              "#f0f921"
             ]
            ],
            "type": "histogram2d"
           }
          ],
          "histogram2dcontour": [
           {
            "colorbar": {
             "outlinewidth": 0,
             "ticks": ""
            },
            "colorscale": [
             [
              0,
              "#0d0887"
             ],
             [
              0.1111111111111111,
              "#46039f"
             ],
             [
              0.2222222222222222,
              "#7201a8"
             ],
             [
              0.3333333333333333,
              "#9c179e"
             ],
             [
              0.4444444444444444,
              "#bd3786"
             ],
             [
              0.5555555555555556,
              "#d8576b"
             ],
             [
              0.6666666666666666,
              "#ed7953"
             ],
             [
              0.7777777777777778,
              "#fb9f3a"
             ],
             [
              0.8888888888888888,
              "#fdca26"
             ],
             [
              1,
              "#f0f921"
             ]
            ],
            "type": "histogram2dcontour"
           }
          ],
          "mesh3d": [
           {
            "colorbar": {
             "outlinewidth": 0,
             "ticks": ""
            },
            "type": "mesh3d"
           }
          ],
          "parcoords": [
           {
            "line": {
             "colorbar": {
              "outlinewidth": 0,
              "ticks": ""
             }
            },
            "type": "parcoords"
           }
          ],
          "pie": [
           {
            "automargin": true,
            "type": "pie"
           }
          ],
          "scatter": [
           {
            "marker": {
             "colorbar": {
              "outlinewidth": 0,
              "ticks": ""
             }
            },
            "type": "scatter"
           }
          ],
          "scatter3d": [
           {
            "line": {
             "colorbar": {
              "outlinewidth": 0,
              "ticks": ""
             }
            },
            "marker": {
             "colorbar": {
              "outlinewidth": 0,
              "ticks": ""
             }
            },
            "type": "scatter3d"
           }
          ],
          "scattercarpet": [
           {
            "marker": {
             "colorbar": {
              "outlinewidth": 0,
              "ticks": ""
             }
            },
            "type": "scattercarpet"
           }
          ],
          "scattergeo": [
           {
            "marker": {
             "colorbar": {
              "outlinewidth": 0,
              "ticks": ""
             }
            },
            "type": "scattergeo"
           }
          ],
          "scattergl": [
           {
            "marker": {
             "colorbar": {
              "outlinewidth": 0,
              "ticks": ""
             }
            },
            "type": "scattergl"
           }
          ],
          "scattermapbox": [
           {
            "marker": {
             "colorbar": {
              "outlinewidth": 0,
              "ticks": ""
             }
            },
            "type": "scattermapbox"
           }
          ],
          "scatterpolar": [
           {
            "marker": {
             "colorbar": {
              "outlinewidth": 0,
              "ticks": ""
             }
            },
            "type": "scatterpolar"
           }
          ],
          "scatterpolargl": [
           {
            "marker": {
             "colorbar": {
              "outlinewidth": 0,
              "ticks": ""
             }
            },
            "type": "scatterpolargl"
           }
          ],
          "scatterternary": [
           {
            "marker": {
             "colorbar": {
              "outlinewidth": 0,
              "ticks": ""
             }
            },
            "type": "scatterternary"
           }
          ],
          "surface": [
           {
            "colorbar": {
             "outlinewidth": 0,
             "ticks": ""
            },
            "colorscale": [
             [
              0,
              "#0d0887"
             ],
             [
              0.1111111111111111,
              "#46039f"
             ],
             [
              0.2222222222222222,
              "#7201a8"
             ],
             [
              0.3333333333333333,
              "#9c179e"
             ],
             [
              0.4444444444444444,
              "#bd3786"
             ],
             [
              0.5555555555555556,
              "#d8576b"
             ],
             [
              0.6666666666666666,
              "#ed7953"
             ],
             [
              0.7777777777777778,
              "#fb9f3a"
             ],
             [
              0.8888888888888888,
              "#fdca26"
             ],
             [
              1,
              "#f0f921"
             ]
            ],
            "type": "surface"
           }
          ],
          "table": [
           {
            "cells": {
             "fill": {
              "color": "#EBF0F8"
             },
             "line": {
              "color": "white"
             }
            },
            "header": {
             "fill": {
              "color": "#C8D4E3"
             },
             "line": {
              "color": "white"
             }
            },
            "type": "table"
           }
          ]
         },
         "layout": {
          "annotationdefaults": {
           "arrowcolor": "#2a3f5f",
           "arrowhead": 0,
           "arrowwidth": 1
          },
          "autotypenumbers": "strict",
          "coloraxis": {
           "colorbar": {
            "outlinewidth": 0,
            "ticks": ""
           }
          },
          "colorscale": {
           "diverging": [
            [
             0,
             "#8e0152"
            ],
            [
             0.1,
             "#c51b7d"
            ],
            [
             0.2,
             "#de77ae"
            ],
            [
             0.3,
             "#f1b6da"
            ],
            [
             0.4,
             "#fde0ef"
            ],
            [
             0.5,
             "#f7f7f7"
            ],
            [
             0.6,
             "#e6f5d0"
            ],
            [
             0.7,
             "#b8e186"
            ],
            [
             0.8,
             "#7fbc41"
            ],
            [
             0.9,
             "#4d9221"
            ],
            [
             1,
             "#276419"
            ]
           ],
           "sequential": [
            [
             0,
             "#0d0887"
            ],
            [
             0.1111111111111111,
             "#46039f"
            ],
            [
             0.2222222222222222,
             "#7201a8"
            ],
            [
             0.3333333333333333,
             "#9c179e"
            ],
            [
             0.4444444444444444,
             "#bd3786"
            ],
            [
             0.5555555555555556,
             "#d8576b"
            ],
            [
             0.6666666666666666,
             "#ed7953"
            ],
            [
             0.7777777777777778,
             "#fb9f3a"
            ],
            [
             0.8888888888888888,
             "#fdca26"
            ],
            [
             1,
             "#f0f921"
            ]
           ],
           "sequentialminus": [
            [
             0,
             "#0d0887"
            ],
            [
             0.1111111111111111,
             "#46039f"
            ],
            [
             0.2222222222222222,
             "#7201a8"
            ],
            [
             0.3333333333333333,
             "#9c179e"
            ],
            [
             0.4444444444444444,
             "#bd3786"
            ],
            [
             0.5555555555555556,
             "#d8576b"
            ],
            [
             0.6666666666666666,
             "#ed7953"
            ],
            [
             0.7777777777777778,
             "#fb9f3a"
            ],
            [
             0.8888888888888888,
             "#fdca26"
            ],
            [
             1,
             "#f0f921"
            ]
           ]
          },
          "colorway": [
           "#636efa",
           "#EF553B",
           "#00cc96",
           "#ab63fa",
           "#FFA15A",
           "#19d3f3",
           "#FF6692",
           "#B6E880",
           "#FF97FF",
           "#FECB52"
          ],
          "font": {
           "color": "#2a3f5f"
          },
          "geo": {
           "bgcolor": "white",
           "lakecolor": "white",
           "landcolor": "#E5ECF6",
           "showlakes": true,
           "showland": true,
           "subunitcolor": "white"
          },
          "hoverlabel": {
           "align": "left"
          },
          "hovermode": "closest",
          "mapbox": {
           "style": "light"
          },
          "paper_bgcolor": "white",
          "plot_bgcolor": "#E5ECF6",
          "polar": {
           "angularaxis": {
            "gridcolor": "white",
            "linecolor": "white",
            "ticks": ""
           },
           "bgcolor": "#E5ECF6",
           "radialaxis": {
            "gridcolor": "white",
            "linecolor": "white",
            "ticks": ""
           }
          },
          "scene": {
           "xaxis": {
            "backgroundcolor": "#E5ECF6",
            "gridcolor": "white",
            "gridwidth": 2,
            "linecolor": "white",
            "showbackground": true,
            "ticks": "",
            "zerolinecolor": "white"
           },
           "yaxis": {
            "backgroundcolor": "#E5ECF6",
            "gridcolor": "white",
            "gridwidth": 2,
            "linecolor": "white",
            "showbackground": true,
            "ticks": "",
            "zerolinecolor": "white"
           },
           "zaxis": {
            "backgroundcolor": "#E5ECF6",
            "gridcolor": "white",
            "gridwidth": 2,
            "linecolor": "white",
            "showbackground": true,
            "ticks": "",
            "zerolinecolor": "white"
           }
          },
          "shapedefaults": {
           "line": {
            "color": "#2a3f5f"
           }
          },
          "ternary": {
           "aaxis": {
            "gridcolor": "white",
            "linecolor": "white",
            "ticks": ""
           },
           "baxis": {
            "gridcolor": "white",
            "linecolor": "white",
            "ticks": ""
           },
           "bgcolor": "#E5ECF6",
           "caxis": {
            "gridcolor": "white",
            "linecolor": "white",
            "ticks": ""
           }
          },
          "title": {
           "x": 0.05
          },
          "xaxis": {
           "automargin": true,
           "gridcolor": "white",
           "linecolor": "white",
           "ticks": "",
           "title": {
            "standoff": 15
           },
           "zerolinecolor": "white",
           "zerolinewidth": 2
          },
          "yaxis": {
           "automargin": true,
           "gridcolor": "white",
           "linecolor": "white",
           "ticks": "",
           "title": {
            "standoff": 15
           },
           "zerolinecolor": "white",
           "zerolinewidth": 2
          }
         }
        },
        "xaxis": {
         "anchor": "y",
         "domain": [
          0,
          1
         ],
         "type": "date"
        },
        "yaxis": {
         "anchor": "x",
         "autorange": "reversed",
         "domain": [
          0,
          1
         ],
         "title": {
          "text": "Task"
         }
        }
       }
      },
      "text/html": [
       "<div>                            <div id=\"c966229a-fe0f-47a1-a36e-eab4b1dc6070\" class=\"plotly-graph-div\" style=\"height:525px; width:100%;\"></div>            <script type=\"text/javascript\">                require([\"plotly\"], function(Plotly) {                    window.PLOTLYENV=window.PLOTLYENV || {};                                    if (document.getElementById(\"c966229a-fe0f-47a1-a36e-eab4b1dc6070\")) {                    Plotly.newPlot(                        \"c966229a-fe0f-47a1-a36e-eab4b1dc6070\",                        [{\"alignmentgroup\":\"True\",\"base\":[\"2009-01-01\",\"2009-03-05\",\"2009-02-20\"],\"hovertemplate\":\"Start=%{base}<br>Finish=%{x}<br>Task=%{y}<extra></extra>\",\"legendgroup\":\"\",\"marker\":{\"color\":\"#636efa\"},\"name\":\"\",\"offsetgroup\":\"\",\"orientation\":\"h\",\"showlegend\":false,\"textposition\":\"auto\",\"type\":\"bar\",\"x\":[5011200000.0,3542400000.0,8553600000.0],\"xaxis\":\"x\",\"y\":[\"Job A\",\"Job B\",\"Job C\"],\"yaxis\":\"y\"}],                        {\"barmode\":\"overlay\",\"legend\":{\"tracegroupgap\":0},\"margin\":{\"t\":60},\"template\":{\"data\":{\"bar\":[{\"error_x\":{\"color\":\"#2a3f5f\"},\"error_y\":{\"color\":\"#2a3f5f\"},\"marker\":{\"line\":{\"color\":\"#E5ECF6\",\"width\":0.5},\"pattern\":{\"fillmode\":\"overlay\",\"size\":10,\"solidity\":0.2}},\"type\":\"bar\"}],\"barpolar\":[{\"marker\":{\"line\":{\"color\":\"#E5ECF6\",\"width\":0.5},\"pattern\":{\"fillmode\":\"overlay\",\"size\":10,\"solidity\":0.2}},\"type\":\"barpolar\"}],\"carpet\":[{\"aaxis\":{\"endlinecolor\":\"#2a3f5f\",\"gridcolor\":\"white\",\"linecolor\":\"white\",\"minorgridcolor\":\"white\",\"startlinecolor\":\"#2a3f5f\"},\"baxis\":{\"endlinecolor\":\"#2a3f5f\",\"gridcolor\":\"white\",\"linecolor\":\"white\",\"minorgridcolor\":\"white\",\"startlinecolor\":\"#2a3f5f\"},\"type\":\"carpet\"}],\"choropleth\":[{\"colorbar\":{\"outlinewidth\":0,\"ticks\":\"\"},\"type\":\"choropleth\"}],\"contour\":[{\"colorbar\":{\"outlinewidth\":0,\"ticks\":\"\"},\"colorscale\":[[0.0,\"#0d0887\"],[0.1111111111111111,\"#46039f\"],[0.2222222222222222,\"#7201a8\"],[0.3333333333333333,\"#9c179e\"],[0.4444444444444444,\"#bd3786\"],[0.5555555555555556,\"#d8576b\"],[0.6666666666666666,\"#ed7953\"],[0.7777777777777778,\"#fb9f3a\"],[0.8888888888888888,\"#fdca26\"],[1.0,\"#f0f921\"]],\"type\":\"contour\"}],\"contourcarpet\":[{\"colorbar\":{\"outlinewidth\":0,\"ticks\":\"\"},\"type\":\"contourcarpet\"}],\"heatmap\":[{\"colorbar\":{\"outlinewidth\":0,\"ticks\":\"\"},\"colorscale\":[[0.0,\"#0d0887\"],[0.1111111111111111,\"#46039f\"],[0.2222222222222222,\"#7201a8\"],[0.3333333333333333,\"#9c179e\"],[0.4444444444444444,\"#bd3786\"],[0.5555555555555556,\"#d8576b\"],[0.6666666666666666,\"#ed7953\"],[0.7777777777777778,\"#fb9f3a\"],[0.8888888888888888,\"#fdca26\"],[1.0,\"#f0f921\"]],\"type\":\"heatmap\"}],\"heatmapgl\":[{\"colorbar\":{\"outlinewidth\":0,\"ticks\":\"\"},\"colorscale\":[[0.0,\"#0d0887\"],[0.1111111111111111,\"#46039f\"],[0.2222222222222222,\"#7201a8\"],[0.3333333333333333,\"#9c179e\"],[0.4444444444444444,\"#bd3786\"],[0.5555555555555556,\"#d8576b\"],[0.6666666666666666,\"#ed7953\"],[0.7777777777777778,\"#fb9f3a\"],[0.8888888888888888,\"#fdca26\"],[1.0,\"#f0f921\"]],\"type\":\"heatmapgl\"}],\"histogram\":[{\"marker\":{\"pattern\":{\"fillmode\":\"overlay\",\"size\":10,\"solidity\":0.2}},\"type\":\"histogram\"}],\"histogram2d\":[{\"colorbar\":{\"outlinewidth\":0,\"ticks\":\"\"},\"colorscale\":[[0.0,\"#0d0887\"],[0.1111111111111111,\"#46039f\"],[0.2222222222222222,\"#7201a8\"],[0.3333333333333333,\"#9c179e\"],[0.4444444444444444,\"#bd3786\"],[0.5555555555555556,\"#d8576b\"],[0.6666666666666666,\"#ed7953\"],[0.7777777777777778,\"#fb9f3a\"],[0.8888888888888888,\"#fdca26\"],[1.0,\"#f0f921\"]],\"type\":\"histogram2d\"}],\"histogram2dcontour\":[{\"colorbar\":{\"outlinewidth\":0,\"ticks\":\"\"},\"colorscale\":[[0.0,\"#0d0887\"],[0.1111111111111111,\"#46039f\"],[0.2222222222222222,\"#7201a8\"],[0.3333333333333333,\"#9c179e\"],[0.4444444444444444,\"#bd3786\"],[0.5555555555555556,\"#d8576b\"],[0.6666666666666666,\"#ed7953\"],[0.7777777777777778,\"#fb9f3a\"],[0.8888888888888888,\"#fdca26\"],[1.0,\"#f0f921\"]],\"type\":\"histogram2dcontour\"}],\"mesh3d\":[{\"colorbar\":{\"outlinewidth\":0,\"ticks\":\"\"},\"type\":\"mesh3d\"}],\"parcoords\":[{\"line\":{\"colorbar\":{\"outlinewidth\":0,\"ticks\":\"\"}},\"type\":\"parcoords\"}],\"pie\":[{\"automargin\":true,\"type\":\"pie\"}],\"scatter\":[{\"marker\":{\"colorbar\":{\"outlinewidth\":0,\"ticks\":\"\"}},\"type\":\"scatter\"}],\"scatter3d\":[{\"line\":{\"colorbar\":{\"outlinewidth\":0,\"ticks\":\"\"}},\"marker\":{\"colorbar\":{\"outlinewidth\":0,\"ticks\":\"\"}},\"type\":\"scatter3d\"}],\"scattercarpet\":[{\"marker\":{\"colorbar\":{\"outlinewidth\":0,\"ticks\":\"\"}},\"type\":\"scattercarpet\"}],\"scattergeo\":[{\"marker\":{\"colorbar\":{\"outlinewidth\":0,\"ticks\":\"\"}},\"type\":\"scattergeo\"}],\"scattergl\":[{\"marker\":{\"colorbar\":{\"outlinewidth\":0,\"ticks\":\"\"}},\"type\":\"scattergl\"}],\"scattermapbox\":[{\"marker\":{\"colorbar\":{\"outlinewidth\":0,\"ticks\":\"\"}},\"type\":\"scattermapbox\"}],\"scatterpolar\":[{\"marker\":{\"colorbar\":{\"outlinewidth\":0,\"ticks\":\"\"}},\"type\":\"scatterpolar\"}],\"scatterpolargl\":[{\"marker\":{\"colorbar\":{\"outlinewidth\":0,\"ticks\":\"\"}},\"type\":\"scatterpolargl\"}],\"scatterternary\":[{\"marker\":{\"colorbar\":{\"outlinewidth\":0,\"ticks\":\"\"}},\"type\":\"scatterternary\"}],\"surface\":[{\"colorbar\":{\"outlinewidth\":0,\"ticks\":\"\"},\"colorscale\":[[0.0,\"#0d0887\"],[0.1111111111111111,\"#46039f\"],[0.2222222222222222,\"#7201a8\"],[0.3333333333333333,\"#9c179e\"],[0.4444444444444444,\"#bd3786\"],[0.5555555555555556,\"#d8576b\"],[0.6666666666666666,\"#ed7953\"],[0.7777777777777778,\"#fb9f3a\"],[0.8888888888888888,\"#fdca26\"],[1.0,\"#f0f921\"]],\"type\":\"surface\"}],\"table\":[{\"cells\":{\"fill\":{\"color\":\"#EBF0F8\"},\"line\":{\"color\":\"white\"}},\"header\":{\"fill\":{\"color\":\"#C8D4E3\"},\"line\":{\"color\":\"white\"}},\"type\":\"table\"}]},\"layout\":{\"annotationdefaults\":{\"arrowcolor\":\"#2a3f5f\",\"arrowhead\":0,\"arrowwidth\":1},\"autotypenumbers\":\"strict\",\"coloraxis\":{\"colorbar\":{\"outlinewidth\":0,\"ticks\":\"\"}},\"colorscale\":{\"diverging\":[[0,\"#8e0152\"],[0.1,\"#c51b7d\"],[0.2,\"#de77ae\"],[0.3,\"#f1b6da\"],[0.4,\"#fde0ef\"],[0.5,\"#f7f7f7\"],[0.6,\"#e6f5d0\"],[0.7,\"#b8e186\"],[0.8,\"#7fbc41\"],[0.9,\"#4d9221\"],[1,\"#276419\"]],\"sequential\":[[0.0,\"#0d0887\"],[0.1111111111111111,\"#46039f\"],[0.2222222222222222,\"#7201a8\"],[0.3333333333333333,\"#9c179e\"],[0.4444444444444444,\"#bd3786\"],[0.5555555555555556,\"#d8576b\"],[0.6666666666666666,\"#ed7953\"],[0.7777777777777778,\"#fb9f3a\"],[0.8888888888888888,\"#fdca26\"],[1.0,\"#f0f921\"]],\"sequentialminus\":[[0.0,\"#0d0887\"],[0.1111111111111111,\"#46039f\"],[0.2222222222222222,\"#7201a8\"],[0.3333333333333333,\"#9c179e\"],[0.4444444444444444,\"#bd3786\"],[0.5555555555555556,\"#d8576b\"],[0.6666666666666666,\"#ed7953\"],[0.7777777777777778,\"#fb9f3a\"],[0.8888888888888888,\"#fdca26\"],[1.0,\"#f0f921\"]]},\"colorway\":[\"#636efa\",\"#EF553B\",\"#00cc96\",\"#ab63fa\",\"#FFA15A\",\"#19d3f3\",\"#FF6692\",\"#B6E880\",\"#FF97FF\",\"#FECB52\"],\"font\":{\"color\":\"#2a3f5f\"},\"geo\":{\"bgcolor\":\"white\",\"lakecolor\":\"white\",\"landcolor\":\"#E5ECF6\",\"showlakes\":true,\"showland\":true,\"subunitcolor\":\"white\"},\"hoverlabel\":{\"align\":\"left\"},\"hovermode\":\"closest\",\"mapbox\":{\"style\":\"light\"},\"paper_bgcolor\":\"white\",\"plot_bgcolor\":\"#E5ECF6\",\"polar\":{\"angularaxis\":{\"gridcolor\":\"white\",\"linecolor\":\"white\",\"ticks\":\"\"},\"bgcolor\":\"#E5ECF6\",\"radialaxis\":{\"gridcolor\":\"white\",\"linecolor\":\"white\",\"ticks\":\"\"}},\"scene\":{\"xaxis\":{\"backgroundcolor\":\"#E5ECF6\",\"gridcolor\":\"white\",\"gridwidth\":2,\"linecolor\":\"white\",\"showbackground\":true,\"ticks\":\"\",\"zerolinecolor\":\"white\"},\"yaxis\":{\"backgroundcolor\":\"#E5ECF6\",\"gridcolor\":\"white\",\"gridwidth\":2,\"linecolor\":\"white\",\"showbackground\":true,\"ticks\":\"\",\"zerolinecolor\":\"white\"},\"zaxis\":{\"backgroundcolor\":\"#E5ECF6\",\"gridcolor\":\"white\",\"gridwidth\":2,\"linecolor\":\"white\",\"showbackground\":true,\"ticks\":\"\",\"zerolinecolor\":\"white\"}},\"shapedefaults\":{\"line\":{\"color\":\"#2a3f5f\"}},\"ternary\":{\"aaxis\":{\"gridcolor\":\"white\",\"linecolor\":\"white\",\"ticks\":\"\"},\"baxis\":{\"gridcolor\":\"white\",\"linecolor\":\"white\",\"ticks\":\"\"},\"bgcolor\":\"#E5ECF6\",\"caxis\":{\"gridcolor\":\"white\",\"linecolor\":\"white\",\"ticks\":\"\"}},\"title\":{\"x\":0.05},\"xaxis\":{\"automargin\":true,\"gridcolor\":\"white\",\"linecolor\":\"white\",\"ticks\":\"\",\"title\":{\"standoff\":15},\"zerolinecolor\":\"white\",\"zerolinewidth\":2},\"yaxis\":{\"automargin\":true,\"gridcolor\":\"white\",\"linecolor\":\"white\",\"ticks\":\"\",\"title\":{\"standoff\":15},\"zerolinecolor\":\"white\",\"zerolinewidth\":2}}},\"xaxis\":{\"anchor\":\"y\",\"domain\":[0.0,1.0],\"type\":\"date\"},\"yaxis\":{\"anchor\":\"x\",\"autorange\":\"reversed\",\"domain\":[0.0,1.0],\"title\":{\"text\":\"Task\"}}},                        {\"responsive\": true}                    ).then(function(){\n",
       "                            \n",
       "var gd = document.getElementById('c966229a-fe0f-47a1-a36e-eab4b1dc6070');\n",
       "var x = new MutationObserver(function (mutations, observer) {{\n",
       "        var display = window.getComputedStyle(gd).display;\n",
       "        if (!display || display === 'none') {{\n",
       "            console.log([gd, 'removed!']);\n",
       "            Plotly.purge(gd);\n",
       "            observer.disconnect();\n",
       "        }}\n",
       "}});\n",
       "\n",
       "// Listen for the removal of the full notebook cells\n",
       "var notebookContainer = gd.closest('#notebook-container');\n",
       "if (notebookContainer) {{\n",
       "    x.observe(notebookContainer, {childList: true});\n",
       "}}\n",
       "\n",
       "// Listen for the clearing of the current output cell\n",
       "var outputEl = gd.closest('.output');\n",
       "if (outputEl) {{\n",
       "    x.observe(outputEl, {childList: true});\n",
       "}}\n",
       "\n",
       "                        })                };                });            </script>        </div>"
      ]
     },
     "metadata": {},
     "output_type": "display_data"
    }
   ],
   "source": [
    "import plotly.express as px\n",
    "import pandas as pd\n",
    "\n",
    "df = pd.DataFrame([\n",
    "    dict(Task=\"Job A\", Start='2009-01-01', Finish='2009-02-28'),\n",
    "    dict(Task=\"Job B\", Start='2009-03-05', Finish='2009-04-15'),\n",
    "    dict(Task=\"Job C\", Start='2009-02-20', Finish='2009-05-30')\n",
    "])\n",
    "\n",
    "fig = px.timeline(df, x_start=\"Start\", x_end=\"Finish\", y=\"Task\")\n",
    "fig.update_yaxes(autorange=\"reversed\") # otherwise tasks are listed from the bottom up\n",
    "fig.show()"
   ]
  },
  {
   "cell_type": "code",
   "execution_count": 128,
   "metadata": {},
   "outputs": [],
   "source": [
    "import datetime\n",
    "class Clock:\n",
    "    def __init__(self):\n",
    "        #self.base_epoch = datetime.datetime(2021,9,10,0,0).timestamp()\n",
    "        self.base_epoch = datetime.datetime.now().timestamp()\n",
    "        print(f\"Clock created - base {self.base_epoch}\")\n",
    "\n",
    "    def to_date(self, tick):\n",
    "        epoch_time = self.base_epoch + tick*60 #mn\n",
    "        #print(f\"Clock {epoch_time}\")\n",
    "        datetime_time = datetime.datetime.fromtimestamp(epoch_time)\n",
    "        return datetime_time"
   ]
  },
  {
   "cell_type": "code",
   "execution_count": 129,
   "metadata": {},
   "outputs": [
    {
     "name": "stdout",
     "output_type": "stream",
     "text": [
      "Clock created - base 1631356937.664581\n"
     ]
    }
   ],
   "source": [
    "clock = Clock()"
   ]
  },
  {
   "cell_type": "code",
   "execution_count": 130,
   "metadata": {},
   "outputs": [
    {
     "name": "stdout",
     "output_type": "stream",
     "text": [
      "2021-09-11 12:43:17.664581\n",
      "2021-09-11 12:44:17.664581\n"
     ]
    }
   ],
   "source": [
    "print(clock.to_date(1))\n",
    "print(clock.to_date(2))"
   ]
  },
  {
   "cell_type": "code",
   "execution_count": 131,
   "metadata": {},
   "outputs": [
    {
     "data": {
      "application/vnd.plotly.v1+json": {
       "config": {
        "plotlyServerURL": "https://plot.ly"
       },
       "data": [
        {
         "alignmentgroup": "True",
         "base": [
          "2021-09-11T12:43:17.664581",
          "2021-09-11T12:44:17.664581",
          "2021-09-11T12:45:17.664581"
         ],
         "hovertemplate": "Start=%{base}<br>Finish=%{x}<br>Task=%{y}<extra></extra>",
         "legendgroup": "",
         "marker": {
          "color": "#636efa"
         },
         "name": "",
         "offsetgroup": "",
         "orientation": "h",
         "showlegend": false,
         "textposition": "auto",
         "type": "bar",
         "x": [
          120000,
          180000,
          60000
         ],
         "xaxis": "x",
         "y": [
          "Job A",
          "Job B",
          "Job C"
         ],
         "yaxis": "y"
        }
       ],
       "layout": {
        "barmode": "overlay",
        "legend": {
         "tracegroupgap": 0
        },
        "margin": {
         "t": 60
        },
        "template": {
         "data": {
          "bar": [
           {
            "error_x": {
             "color": "#2a3f5f"
            },
            "error_y": {
             "color": "#2a3f5f"
            },
            "marker": {
             "line": {
              "color": "#E5ECF6",
              "width": 0.5
             },
             "pattern": {
              "fillmode": "overlay",
              "size": 10,
              "solidity": 0.2
             }
            },
            "type": "bar"
           }
          ],
          "barpolar": [
           {
            "marker": {
             "line": {
              "color": "#E5ECF6",
              "width": 0.5
             },
             "pattern": {
              "fillmode": "overlay",
              "size": 10,
              "solidity": 0.2
             }
            },
            "type": "barpolar"
           }
          ],
          "carpet": [
           {
            "aaxis": {
             "endlinecolor": "#2a3f5f",
             "gridcolor": "white",
             "linecolor": "white",
             "minorgridcolor": "white",
             "startlinecolor": "#2a3f5f"
            },
            "baxis": {
             "endlinecolor": "#2a3f5f",
             "gridcolor": "white",
             "linecolor": "white",
             "minorgridcolor": "white",
             "startlinecolor": "#2a3f5f"
            },
            "type": "carpet"
           }
          ],
          "choropleth": [
           {
            "colorbar": {
             "outlinewidth": 0,
             "ticks": ""
            },
            "type": "choropleth"
           }
          ],
          "contour": [
           {
            "colorbar": {
             "outlinewidth": 0,
             "ticks": ""
            },
            "colorscale": [
             [
              0,
              "#0d0887"
             ],
             [
              0.1111111111111111,
              "#46039f"
             ],
             [
              0.2222222222222222,
              "#7201a8"
             ],
             [
              0.3333333333333333,
              "#9c179e"
             ],
             [
              0.4444444444444444,
              "#bd3786"
             ],
             [
              0.5555555555555556,
              "#d8576b"
             ],
             [
              0.6666666666666666,
              "#ed7953"
             ],
             [
              0.7777777777777778,
              "#fb9f3a"
             ],
             [
              0.8888888888888888,
              "#fdca26"
             ],
             [
              1,
              "#f0f921"
             ]
            ],
            "type": "contour"
           }
          ],
          "contourcarpet": [
           {
            "colorbar": {
             "outlinewidth": 0,
             "ticks": ""
            },
            "type": "contourcarpet"
           }
          ],
          "heatmap": [
           {
            "colorbar": {
             "outlinewidth": 0,
             "ticks": ""
            },
            "colorscale": [
             [
              0,
              "#0d0887"
             ],
             [
              0.1111111111111111,
              "#46039f"
             ],
             [
              0.2222222222222222,
              "#7201a8"
             ],
             [
              0.3333333333333333,
              "#9c179e"
             ],
             [
              0.4444444444444444,
              "#bd3786"
             ],
             [
              0.5555555555555556,
              "#d8576b"
             ],
             [
              0.6666666666666666,
              "#ed7953"
             ],
             [
              0.7777777777777778,
              "#fb9f3a"
             ],
             [
              0.8888888888888888,
              "#fdca26"
             ],
             [
              1,
              "#f0f921"
             ]
            ],
            "type": "heatmap"
           }
          ],
          "heatmapgl": [
           {
            "colorbar": {
             "outlinewidth": 0,
             "ticks": ""
            },
            "colorscale": [
             [
              0,
              "#0d0887"
             ],
             [
              0.1111111111111111,
              "#46039f"
             ],
             [
              0.2222222222222222,
              "#7201a8"
             ],
             [
              0.3333333333333333,
              "#9c179e"
             ],
             [
              0.4444444444444444,
              "#bd3786"
             ],
             [
              0.5555555555555556,
              "#d8576b"
             ],
             [
              0.6666666666666666,
              "#ed7953"
             ],
             [
              0.7777777777777778,
              "#fb9f3a"
             ],
             [
              0.8888888888888888,
              "#fdca26"
             ],
             [
              1,
              "#f0f921"
             ]
            ],
            "type": "heatmapgl"
           }
          ],
          "histogram": [
           {
            "marker": {
             "pattern": {
              "fillmode": "overlay",
              "size": 10,
              "solidity": 0.2
             }
            },
            "type": "histogram"
           }
          ],
          "histogram2d": [
           {
            "colorbar": {
             "outlinewidth": 0,
             "ticks": ""
            },
            "colorscale": [
             [
              0,
              "#0d0887"
             ],
             [
              0.1111111111111111,
              "#46039f"
             ],
             [
              0.2222222222222222,
              "#7201a8"
             ],
             [
              0.3333333333333333,
              "#9c179e"
             ],
             [
              0.4444444444444444,
              "#bd3786"
             ],
             [
              0.5555555555555556,
              "#d8576b"
             ],
             [
              0.6666666666666666,
              "#ed7953"
             ],
             [
              0.7777777777777778,
              "#fb9f3a"
             ],
             [
              0.8888888888888888,
              "#fdca26"
             ],
             [
              1,
              "#f0f921"
             ]
            ],
            "type": "histogram2d"
           }
          ],
          "histogram2dcontour": [
           {
            "colorbar": {
             "outlinewidth": 0,
             "ticks": ""
            },
            "colorscale": [
             [
              0,
              "#0d0887"
             ],
             [
              0.1111111111111111,
              "#46039f"
             ],
             [
              0.2222222222222222,
              "#7201a8"
             ],
             [
              0.3333333333333333,
              "#9c179e"
             ],
             [
              0.4444444444444444,
              "#bd3786"
             ],
             [
              0.5555555555555556,
              "#d8576b"
             ],
             [
              0.6666666666666666,
              "#ed7953"
             ],
             [
              0.7777777777777778,
              "#fb9f3a"
             ],
             [
              0.8888888888888888,
              "#fdca26"
             ],
             [
              1,
              "#f0f921"
             ]
            ],
            "type": "histogram2dcontour"
           }
          ],
          "mesh3d": [
           {
            "colorbar": {
             "outlinewidth": 0,
             "ticks": ""
            },
            "type": "mesh3d"
           }
          ],
          "parcoords": [
           {
            "line": {
             "colorbar": {
              "outlinewidth": 0,
              "ticks": ""
             }
            },
            "type": "parcoords"
           }
          ],
          "pie": [
           {
            "automargin": true,
            "type": "pie"
           }
          ],
          "scatter": [
           {
            "marker": {
             "colorbar": {
              "outlinewidth": 0,
              "ticks": ""
             }
            },
            "type": "scatter"
           }
          ],
          "scatter3d": [
           {
            "line": {
             "colorbar": {
              "outlinewidth": 0,
              "ticks": ""
             }
            },
            "marker": {
             "colorbar": {
              "outlinewidth": 0,
              "ticks": ""
             }
            },
            "type": "scatter3d"
           }
          ],
          "scattercarpet": [
           {
            "marker": {
             "colorbar": {
              "outlinewidth": 0,
              "ticks": ""
             }
            },
            "type": "scattercarpet"
           }
          ],
          "scattergeo": [
           {
            "marker": {
             "colorbar": {
              "outlinewidth": 0,
              "ticks": ""
             }
            },
            "type": "scattergeo"
           }
          ],
          "scattergl": [
           {
            "marker": {
             "colorbar": {
              "outlinewidth": 0,
              "ticks": ""
             }
            },
            "type": "scattergl"
           }
          ],
          "scattermapbox": [
           {
            "marker": {
             "colorbar": {
              "outlinewidth": 0,
              "ticks": ""
             }
            },
            "type": "scattermapbox"
           }
          ],
          "scatterpolar": [
           {
            "marker": {
             "colorbar": {
              "outlinewidth": 0,
              "ticks": ""
             }
            },
            "type": "scatterpolar"
           }
          ],
          "scatterpolargl": [
           {
            "marker": {
             "colorbar": {
              "outlinewidth": 0,
              "ticks": ""
             }
            },
            "type": "scatterpolargl"
           }
          ],
          "scatterternary": [
           {
            "marker": {
             "colorbar": {
              "outlinewidth": 0,
              "ticks": ""
             }
            },
            "type": "scatterternary"
           }
          ],
          "surface": [
           {
            "colorbar": {
             "outlinewidth": 0,
             "ticks": ""
            },
            "colorscale": [
             [
              0,
              "#0d0887"
             ],
             [
              0.1111111111111111,
              "#46039f"
             ],
             [
              0.2222222222222222,
              "#7201a8"
             ],
             [
              0.3333333333333333,
              "#9c179e"
             ],
             [
              0.4444444444444444,
              "#bd3786"
             ],
             [
              0.5555555555555556,
              "#d8576b"
             ],
             [
              0.6666666666666666,
              "#ed7953"
             ],
             [
              0.7777777777777778,
              "#fb9f3a"
             ],
             [
              0.8888888888888888,
              "#fdca26"
             ],
             [
              1,
              "#f0f921"
             ]
            ],
            "type": "surface"
           }
          ],
          "table": [
           {
            "cells": {
             "fill": {
              "color": "#EBF0F8"
             },
             "line": {
              "color": "white"
             }
            },
            "header": {
             "fill": {
              "color": "#C8D4E3"
             },
             "line": {
              "color": "white"
             }
            },
            "type": "table"
           }
          ]
         },
         "layout": {
          "annotationdefaults": {
           "arrowcolor": "#2a3f5f",
           "arrowhead": 0,
           "arrowwidth": 1
          },
          "autotypenumbers": "strict",
          "coloraxis": {
           "colorbar": {
            "outlinewidth": 0,
            "ticks": ""
           }
          },
          "colorscale": {
           "diverging": [
            [
             0,
             "#8e0152"
            ],
            [
             0.1,
             "#c51b7d"
            ],
            [
             0.2,
             "#de77ae"
            ],
            [
             0.3,
             "#f1b6da"
            ],
            [
             0.4,
             "#fde0ef"
            ],
            [
             0.5,
             "#f7f7f7"
            ],
            [
             0.6,
             "#e6f5d0"
            ],
            [
             0.7,
             "#b8e186"
            ],
            [
             0.8,
             "#7fbc41"
            ],
            [
             0.9,
             "#4d9221"
            ],
            [
             1,
             "#276419"
            ]
           ],
           "sequential": [
            [
             0,
             "#0d0887"
            ],
            [
             0.1111111111111111,
             "#46039f"
            ],
            [
             0.2222222222222222,
             "#7201a8"
            ],
            [
             0.3333333333333333,
             "#9c179e"
            ],
            [
             0.4444444444444444,
             "#bd3786"
            ],
            [
             0.5555555555555556,
             "#d8576b"
            ],
            [
             0.6666666666666666,
             "#ed7953"
            ],
            [
             0.7777777777777778,
             "#fb9f3a"
            ],
            [
             0.8888888888888888,
             "#fdca26"
            ],
            [
             1,
             "#f0f921"
            ]
           ],
           "sequentialminus": [
            [
             0,
             "#0d0887"
            ],
            [
             0.1111111111111111,
             "#46039f"
            ],
            [
             0.2222222222222222,
             "#7201a8"
            ],
            [
             0.3333333333333333,
             "#9c179e"
            ],
            [
             0.4444444444444444,
             "#bd3786"
            ],
            [
             0.5555555555555556,
             "#d8576b"
            ],
            [
             0.6666666666666666,
             "#ed7953"
            ],
            [
             0.7777777777777778,
             "#fb9f3a"
            ],
            [
             0.8888888888888888,
             "#fdca26"
            ],
            [
             1,
             "#f0f921"
            ]
           ]
          },
          "colorway": [
           "#636efa",
           "#EF553B",
           "#00cc96",
           "#ab63fa",
           "#FFA15A",
           "#19d3f3",
           "#FF6692",
           "#B6E880",
           "#FF97FF",
           "#FECB52"
          ],
          "font": {
           "color": "#2a3f5f"
          },
          "geo": {
           "bgcolor": "white",
           "lakecolor": "white",
           "landcolor": "#E5ECF6",
           "showlakes": true,
           "showland": true,
           "subunitcolor": "white"
          },
          "hoverlabel": {
           "align": "left"
          },
          "hovermode": "closest",
          "mapbox": {
           "style": "light"
          },
          "paper_bgcolor": "white",
          "plot_bgcolor": "#E5ECF6",
          "polar": {
           "angularaxis": {
            "gridcolor": "white",
            "linecolor": "white",
            "ticks": ""
           },
           "bgcolor": "#E5ECF6",
           "radialaxis": {
            "gridcolor": "white",
            "linecolor": "white",
            "ticks": ""
           }
          },
          "scene": {
           "xaxis": {
            "backgroundcolor": "#E5ECF6",
            "gridcolor": "white",
            "gridwidth": 2,
            "linecolor": "white",
            "showbackground": true,
            "ticks": "",
            "zerolinecolor": "white"
           },
           "yaxis": {
            "backgroundcolor": "#E5ECF6",
            "gridcolor": "white",
            "gridwidth": 2,
            "linecolor": "white",
            "showbackground": true,
            "ticks": "",
            "zerolinecolor": "white"
           },
           "zaxis": {
            "backgroundcolor": "#E5ECF6",
            "gridcolor": "white",
            "gridwidth": 2,
            "linecolor": "white",
            "showbackground": true,
            "ticks": "",
            "zerolinecolor": "white"
           }
          },
          "shapedefaults": {
           "line": {
            "color": "#2a3f5f"
           }
          },
          "ternary": {
           "aaxis": {
            "gridcolor": "white",
            "linecolor": "white",
            "ticks": ""
           },
           "baxis": {
            "gridcolor": "white",
            "linecolor": "white",
            "ticks": ""
           },
           "bgcolor": "#E5ECF6",
           "caxis": {
            "gridcolor": "white",
            "linecolor": "white",
            "ticks": ""
           }
          },
          "title": {
           "x": 0.05
          },
          "xaxis": {
           "automargin": true,
           "gridcolor": "white",
           "linecolor": "white",
           "ticks": "",
           "title": {
            "standoff": 15
           },
           "zerolinecolor": "white",
           "zerolinewidth": 2
          },
          "yaxis": {
           "automargin": true,
           "gridcolor": "white",
           "linecolor": "white",
           "ticks": "",
           "title": {
            "standoff": 15
           },
           "zerolinecolor": "white",
           "zerolinewidth": 2
          }
         }
        },
        "xaxis": {
         "anchor": "y",
         "domain": [
          0,
          1
         ],
         "type": "date"
        },
        "yaxis": {
         "anchor": "x",
         "autorange": "reversed",
         "domain": [
          0,
          1
         ],
         "title": {
          "text": "Task"
         }
        }
       }
      },
      "text/html": [
       "<div>                            <div id=\"e83c8d26-705c-4aaa-b85f-cfd6322f69f4\" class=\"plotly-graph-div\" style=\"height:525px; width:100%;\"></div>            <script type=\"text/javascript\">                require([\"plotly\"], function(Plotly) {                    window.PLOTLYENV=window.PLOTLYENV || {};                                    if (document.getElementById(\"e83c8d26-705c-4aaa-b85f-cfd6322f69f4\")) {                    Plotly.newPlot(                        \"e83c8d26-705c-4aaa-b85f-cfd6322f69f4\",                        [{\"alignmentgroup\":\"True\",\"base\":[\"2021-09-11T12:43:17.664581\",\"2021-09-11T12:44:17.664581\",\"2021-09-11T12:45:17.664581\"],\"hovertemplate\":\"Start=%{base}<br>Finish=%{x}<br>Task=%{y}<extra></extra>\",\"legendgroup\":\"\",\"marker\":{\"color\":\"#636efa\"},\"name\":\"\",\"offsetgroup\":\"\",\"orientation\":\"h\",\"showlegend\":false,\"textposition\":\"auto\",\"type\":\"bar\",\"x\":[120000.0,180000.0,60000.0],\"xaxis\":\"x\",\"y\":[\"Job A\",\"Job B\",\"Job C\"],\"yaxis\":\"y\"}],                        {\"barmode\":\"overlay\",\"legend\":{\"tracegroupgap\":0},\"margin\":{\"t\":60},\"template\":{\"data\":{\"bar\":[{\"error_x\":{\"color\":\"#2a3f5f\"},\"error_y\":{\"color\":\"#2a3f5f\"},\"marker\":{\"line\":{\"color\":\"#E5ECF6\",\"width\":0.5},\"pattern\":{\"fillmode\":\"overlay\",\"size\":10,\"solidity\":0.2}},\"type\":\"bar\"}],\"barpolar\":[{\"marker\":{\"line\":{\"color\":\"#E5ECF6\",\"width\":0.5},\"pattern\":{\"fillmode\":\"overlay\",\"size\":10,\"solidity\":0.2}},\"type\":\"barpolar\"}],\"carpet\":[{\"aaxis\":{\"endlinecolor\":\"#2a3f5f\",\"gridcolor\":\"white\",\"linecolor\":\"white\",\"minorgridcolor\":\"white\",\"startlinecolor\":\"#2a3f5f\"},\"baxis\":{\"endlinecolor\":\"#2a3f5f\",\"gridcolor\":\"white\",\"linecolor\":\"white\",\"minorgridcolor\":\"white\",\"startlinecolor\":\"#2a3f5f\"},\"type\":\"carpet\"}],\"choropleth\":[{\"colorbar\":{\"outlinewidth\":0,\"ticks\":\"\"},\"type\":\"choropleth\"}],\"contour\":[{\"colorbar\":{\"outlinewidth\":0,\"ticks\":\"\"},\"colorscale\":[[0.0,\"#0d0887\"],[0.1111111111111111,\"#46039f\"],[0.2222222222222222,\"#7201a8\"],[0.3333333333333333,\"#9c179e\"],[0.4444444444444444,\"#bd3786\"],[0.5555555555555556,\"#d8576b\"],[0.6666666666666666,\"#ed7953\"],[0.7777777777777778,\"#fb9f3a\"],[0.8888888888888888,\"#fdca26\"],[1.0,\"#f0f921\"]],\"type\":\"contour\"}],\"contourcarpet\":[{\"colorbar\":{\"outlinewidth\":0,\"ticks\":\"\"},\"type\":\"contourcarpet\"}],\"heatmap\":[{\"colorbar\":{\"outlinewidth\":0,\"ticks\":\"\"},\"colorscale\":[[0.0,\"#0d0887\"],[0.1111111111111111,\"#46039f\"],[0.2222222222222222,\"#7201a8\"],[0.3333333333333333,\"#9c179e\"],[0.4444444444444444,\"#bd3786\"],[0.5555555555555556,\"#d8576b\"],[0.6666666666666666,\"#ed7953\"],[0.7777777777777778,\"#fb9f3a\"],[0.8888888888888888,\"#fdca26\"],[1.0,\"#f0f921\"]],\"type\":\"heatmap\"}],\"heatmapgl\":[{\"colorbar\":{\"outlinewidth\":0,\"ticks\":\"\"},\"colorscale\":[[0.0,\"#0d0887\"],[0.1111111111111111,\"#46039f\"],[0.2222222222222222,\"#7201a8\"],[0.3333333333333333,\"#9c179e\"],[0.4444444444444444,\"#bd3786\"],[0.5555555555555556,\"#d8576b\"],[0.6666666666666666,\"#ed7953\"],[0.7777777777777778,\"#fb9f3a\"],[0.8888888888888888,\"#fdca26\"],[1.0,\"#f0f921\"]],\"type\":\"heatmapgl\"}],\"histogram\":[{\"marker\":{\"pattern\":{\"fillmode\":\"overlay\",\"size\":10,\"solidity\":0.2}},\"type\":\"histogram\"}],\"histogram2d\":[{\"colorbar\":{\"outlinewidth\":0,\"ticks\":\"\"},\"colorscale\":[[0.0,\"#0d0887\"],[0.1111111111111111,\"#46039f\"],[0.2222222222222222,\"#7201a8\"],[0.3333333333333333,\"#9c179e\"],[0.4444444444444444,\"#bd3786\"],[0.5555555555555556,\"#d8576b\"],[0.6666666666666666,\"#ed7953\"],[0.7777777777777778,\"#fb9f3a\"],[0.8888888888888888,\"#fdca26\"],[1.0,\"#f0f921\"]],\"type\":\"histogram2d\"}],\"histogram2dcontour\":[{\"colorbar\":{\"outlinewidth\":0,\"ticks\":\"\"},\"colorscale\":[[0.0,\"#0d0887\"],[0.1111111111111111,\"#46039f\"],[0.2222222222222222,\"#7201a8\"],[0.3333333333333333,\"#9c179e\"],[0.4444444444444444,\"#bd3786\"],[0.5555555555555556,\"#d8576b\"],[0.6666666666666666,\"#ed7953\"],[0.7777777777777778,\"#fb9f3a\"],[0.8888888888888888,\"#fdca26\"],[1.0,\"#f0f921\"]],\"type\":\"histogram2dcontour\"}],\"mesh3d\":[{\"colorbar\":{\"outlinewidth\":0,\"ticks\":\"\"},\"type\":\"mesh3d\"}],\"parcoords\":[{\"line\":{\"colorbar\":{\"outlinewidth\":0,\"ticks\":\"\"}},\"type\":\"parcoords\"}],\"pie\":[{\"automargin\":true,\"type\":\"pie\"}],\"scatter\":[{\"marker\":{\"colorbar\":{\"outlinewidth\":0,\"ticks\":\"\"}},\"type\":\"scatter\"}],\"scatter3d\":[{\"line\":{\"colorbar\":{\"outlinewidth\":0,\"ticks\":\"\"}},\"marker\":{\"colorbar\":{\"outlinewidth\":0,\"ticks\":\"\"}},\"type\":\"scatter3d\"}],\"scattercarpet\":[{\"marker\":{\"colorbar\":{\"outlinewidth\":0,\"ticks\":\"\"}},\"type\":\"scattercarpet\"}],\"scattergeo\":[{\"marker\":{\"colorbar\":{\"outlinewidth\":0,\"ticks\":\"\"}},\"type\":\"scattergeo\"}],\"scattergl\":[{\"marker\":{\"colorbar\":{\"outlinewidth\":0,\"ticks\":\"\"}},\"type\":\"scattergl\"}],\"scattermapbox\":[{\"marker\":{\"colorbar\":{\"outlinewidth\":0,\"ticks\":\"\"}},\"type\":\"scattermapbox\"}],\"scatterpolar\":[{\"marker\":{\"colorbar\":{\"outlinewidth\":0,\"ticks\":\"\"}},\"type\":\"scatterpolar\"}],\"scatterpolargl\":[{\"marker\":{\"colorbar\":{\"outlinewidth\":0,\"ticks\":\"\"}},\"type\":\"scatterpolargl\"}],\"scatterternary\":[{\"marker\":{\"colorbar\":{\"outlinewidth\":0,\"ticks\":\"\"}},\"type\":\"scatterternary\"}],\"surface\":[{\"colorbar\":{\"outlinewidth\":0,\"ticks\":\"\"},\"colorscale\":[[0.0,\"#0d0887\"],[0.1111111111111111,\"#46039f\"],[0.2222222222222222,\"#7201a8\"],[0.3333333333333333,\"#9c179e\"],[0.4444444444444444,\"#bd3786\"],[0.5555555555555556,\"#d8576b\"],[0.6666666666666666,\"#ed7953\"],[0.7777777777777778,\"#fb9f3a\"],[0.8888888888888888,\"#fdca26\"],[1.0,\"#f0f921\"]],\"type\":\"surface\"}],\"table\":[{\"cells\":{\"fill\":{\"color\":\"#EBF0F8\"},\"line\":{\"color\":\"white\"}},\"header\":{\"fill\":{\"color\":\"#C8D4E3\"},\"line\":{\"color\":\"white\"}},\"type\":\"table\"}]},\"layout\":{\"annotationdefaults\":{\"arrowcolor\":\"#2a3f5f\",\"arrowhead\":0,\"arrowwidth\":1},\"autotypenumbers\":\"strict\",\"coloraxis\":{\"colorbar\":{\"outlinewidth\":0,\"ticks\":\"\"}},\"colorscale\":{\"diverging\":[[0,\"#8e0152\"],[0.1,\"#c51b7d\"],[0.2,\"#de77ae\"],[0.3,\"#f1b6da\"],[0.4,\"#fde0ef\"],[0.5,\"#f7f7f7\"],[0.6,\"#e6f5d0\"],[0.7,\"#b8e186\"],[0.8,\"#7fbc41\"],[0.9,\"#4d9221\"],[1,\"#276419\"]],\"sequential\":[[0.0,\"#0d0887\"],[0.1111111111111111,\"#46039f\"],[0.2222222222222222,\"#7201a8\"],[0.3333333333333333,\"#9c179e\"],[0.4444444444444444,\"#bd3786\"],[0.5555555555555556,\"#d8576b\"],[0.6666666666666666,\"#ed7953\"],[0.7777777777777778,\"#fb9f3a\"],[0.8888888888888888,\"#fdca26\"],[1.0,\"#f0f921\"]],\"sequentialminus\":[[0.0,\"#0d0887\"],[0.1111111111111111,\"#46039f\"],[0.2222222222222222,\"#7201a8\"],[0.3333333333333333,\"#9c179e\"],[0.4444444444444444,\"#bd3786\"],[0.5555555555555556,\"#d8576b\"],[0.6666666666666666,\"#ed7953\"],[0.7777777777777778,\"#fb9f3a\"],[0.8888888888888888,\"#fdca26\"],[1.0,\"#f0f921\"]]},\"colorway\":[\"#636efa\",\"#EF553B\",\"#00cc96\",\"#ab63fa\",\"#FFA15A\",\"#19d3f3\",\"#FF6692\",\"#B6E880\",\"#FF97FF\",\"#FECB52\"],\"font\":{\"color\":\"#2a3f5f\"},\"geo\":{\"bgcolor\":\"white\",\"lakecolor\":\"white\",\"landcolor\":\"#E5ECF6\",\"showlakes\":true,\"showland\":true,\"subunitcolor\":\"white\"},\"hoverlabel\":{\"align\":\"left\"},\"hovermode\":\"closest\",\"mapbox\":{\"style\":\"light\"},\"paper_bgcolor\":\"white\",\"plot_bgcolor\":\"#E5ECF6\",\"polar\":{\"angularaxis\":{\"gridcolor\":\"white\",\"linecolor\":\"white\",\"ticks\":\"\"},\"bgcolor\":\"#E5ECF6\",\"radialaxis\":{\"gridcolor\":\"white\",\"linecolor\":\"white\",\"ticks\":\"\"}},\"scene\":{\"xaxis\":{\"backgroundcolor\":\"#E5ECF6\",\"gridcolor\":\"white\",\"gridwidth\":2,\"linecolor\":\"white\",\"showbackground\":true,\"ticks\":\"\",\"zerolinecolor\":\"white\"},\"yaxis\":{\"backgroundcolor\":\"#E5ECF6\",\"gridcolor\":\"white\",\"gridwidth\":2,\"linecolor\":\"white\",\"showbackground\":true,\"ticks\":\"\",\"zerolinecolor\":\"white\"},\"zaxis\":{\"backgroundcolor\":\"#E5ECF6\",\"gridcolor\":\"white\",\"gridwidth\":2,\"linecolor\":\"white\",\"showbackground\":true,\"ticks\":\"\",\"zerolinecolor\":\"white\"}},\"shapedefaults\":{\"line\":{\"color\":\"#2a3f5f\"}},\"ternary\":{\"aaxis\":{\"gridcolor\":\"white\",\"linecolor\":\"white\",\"ticks\":\"\"},\"baxis\":{\"gridcolor\":\"white\",\"linecolor\":\"white\",\"ticks\":\"\"},\"bgcolor\":\"#E5ECF6\",\"caxis\":{\"gridcolor\":\"white\",\"linecolor\":\"white\",\"ticks\":\"\"}},\"title\":{\"x\":0.05},\"xaxis\":{\"automargin\":true,\"gridcolor\":\"white\",\"linecolor\":\"white\",\"ticks\":\"\",\"title\":{\"standoff\":15},\"zerolinecolor\":\"white\",\"zerolinewidth\":2},\"yaxis\":{\"automargin\":true,\"gridcolor\":\"white\",\"linecolor\":\"white\",\"ticks\":\"\",\"title\":{\"standoff\":15},\"zerolinecolor\":\"white\",\"zerolinewidth\":2}}},\"xaxis\":{\"anchor\":\"y\",\"domain\":[0.0,1.0],\"type\":\"date\"},\"yaxis\":{\"anchor\":\"x\",\"autorange\":\"reversed\",\"domain\":[0.0,1.0],\"title\":{\"text\":\"Task\"}}},                        {\"responsive\": true}                    ).then(function(){\n",
       "                            \n",
       "var gd = document.getElementById('e83c8d26-705c-4aaa-b85f-cfd6322f69f4');\n",
       "var x = new MutationObserver(function (mutations, observer) {{\n",
       "        var display = window.getComputedStyle(gd).display;\n",
       "        if (!display || display === 'none') {{\n",
       "            console.log([gd, 'removed!']);\n",
       "            Plotly.purge(gd);\n",
       "            observer.disconnect();\n",
       "        }}\n",
       "}});\n",
       "\n",
       "// Listen for the removal of the full notebook cells\n",
       "var notebookContainer = gd.closest('#notebook-container');\n",
       "if (notebookContainer) {{\n",
       "    x.observe(notebookContainer, {childList: true});\n",
       "}}\n",
       "\n",
       "// Listen for the clearing of the current output cell\n",
       "var outputEl = gd.closest('.output');\n",
       "if (outputEl) {{\n",
       "    x.observe(outputEl, {childList: true});\n",
       "}}\n",
       "\n",
       "                        })                };                });            </script>        </div>"
      ]
     },
     "metadata": {},
     "output_type": "display_data"
    }
   ],
   "source": [
    "df = pd.DataFrame([\n",
    "    dict(Task=\"Job A\", Start=clock.to_date(1), Finish=clock.to_date(3)),\n",
    "    dict(Task=\"Job B\", Start=clock.to_date(2), Finish=clock.to_date(5)),\n",
    "    dict(Task=\"Job C\", Start=clock.to_date(3), Finish=clock.to_date(4))\n",
    "])\n",
    "\n",
    "fig = px.timeline(df, x_start=\"Start\", x_end=\"Finish\", y=\"Task\")\n",
    "fig.update_yaxes(autorange=\"reversed\") # otherwise tasks are listed from the bottom up\n",
    "fig.show()"
   ]
  },
  {
   "cell_type": "code",
   "execution_count": 132,
   "metadata": {},
   "outputs": [],
   "source": [
    "class User():\n",
    "    def __init__(self, id, env, monitor):\n",
    "        self.id = id\n",
    "        self.env = env\n",
    "        self.monitor = monitor\n",
    "        # ajoute apres sinon chevauchement\n",
    "        self.taskid = 1\n",
    "        self.name = f\"User-{id}\"\n",
    "        # Start the run process everytime an instance is created.\n",
    "        # create itself as a processs\n",
    "        self.action = env.process(self.run())\n",
    "\n",
    "    def run(self):\n",
    "        while True:\n",
    "            taskname = \"process_task\"\n",
    "            self.taskid += 1\n",
    "            self.monitor.report_start(self.name, taskname, self.taskid)\n",
    "            print(f\"{self.name} starts task at %d\" % self.env.now)\n",
    "            task_duration = 5\n",
    "            # We yield the process that process() returns\n",
    "            # to wait for it to finish\n",
    "            yield self.env.process(self.process_task(task_duration))\n",
    "            print(f\"{self.name} ends task at %d\" % self.env.now)\n",
    "            self.monitor.report_stop(self.name, taskname, self.taskid)\n",
    "     \n",
    "            # The charge process has finished and\n",
    "            # we can start driving again.\n",
    "            print(f\"{self.name} starts verification at %d\" % self.env.now)\n",
    "            verification_duration = 2\n",
    "            self.last_action_started_at = self.env.now\n",
    "            yield self.env.timeout(verification_duration)\n",
    "            print(f\"{self.name} ends verification at %d\" % self.env.now)\n",
    "\n",
    "    def process_task(self, duration):\n",
    "        yield self.env.timeout(duration)\n",
    "        \n"
   ]
  },
  {
   "cell_type": "code",
   "execution_count": 133,
   "metadata": {},
   "outputs": [],
   "source": [
    "import pandas as pd"
   ]
  },
  {
   "cell_type": "code",
   "execution_count": 138,
   "metadata": {},
   "outputs": [],
   "source": [
    "class UsersMonitor:\n",
    "    def __init__(self, env, clock):\n",
    "        self.env = env\n",
    "        self.start_data = []\n",
    "        self.stop_data = []\n",
    "        \n",
    "    def report_start(self, username, taskname, taskid):\n",
    "        mark = self.env.now\n",
    "        self.start_data.append(\n",
    "            dict(  \n",
    "                StartMark=mark,\n",
    "                Start=clock.to_date(mark),\n",
    "                Username=username,\n",
    "                Task=taskname,\n",
    "                TaskId=taskid\n",
    "            )\n",
    "        )       \n",
    "        \n",
    "    def report_stop(self, username, taskname, taskid):\n",
    "        mark = self.env.now\n",
    "        self.stop_data.append(\n",
    "            dict(  \n",
    "                FinishMark=mark,\n",
    "                Finish=clock.to_date(mark),\n",
    "                Username=username,\n",
    "                Task=taskname,\n",
    "                TaskId=taskid\n",
    "            )\n",
    "        )\n",
    "        \n",
    "                \n",
    "    def collect(self):\n",
    "        df_start = pd.DataFrame(self.start_data)\n",
    "        df_stop = pd.DataFrame(self.stop_data)\n",
    "        df = pd.merge(df_start, df_stop, how='left', \n",
    "                      on = ['Username', 'Task', 'TaskId'])\n",
    "        return df\n"
   ]
  },
  {
   "cell_type": "code",
   "execution_count": 139,
   "metadata": {},
   "outputs": [],
   "source": [
    "user_monitor = UsersMonitor(env, clock)"
   ]
  },
  {
   "cell_type": "code",
   "execution_count": 140,
   "metadata": {},
   "outputs": [
    {
     "name": "stdout",
     "output_type": "stream",
     "text": [
      "                       Start  StartMark     Task TaskId Username  \\\n",
      "0 2021-09-11 12:57:17.664581         15  process     P1       U1   \n",
      "1 2021-09-11 12:57:17.664581         15  process     P2       U2   \n",
      "\n",
      "                      Finish  FinishMark  \n",
      "0 2021-09-11 12:57:17.664581        15.0  \n",
      "1                        NaT         NaN  \n"
     ]
    }
   ],
   "source": [
    "user_monitor.report_start(\"U1\", \"process\", \"P1\")\n",
    "user_monitor.report_stop(\"U1\", \"process\", \"P1\")\n",
    "user_monitor.report_start(\"U2\", \"process\", \"P2\")\n",
    "print(user_monitor.collect())"
   ]
  },
  {
   "cell_type": "code",
   "execution_count": 141,
   "metadata": {},
   "outputs": [],
   "source": [
    "def user_generator(size, env, user_monitor):\n",
    "    for i in range(size):\n",
    "        User(i, env, user_monitor).action\n",
    "        yield env.timeout(5)"
   ]
  },
  {
   "cell_type": "code",
   "execution_count": 142,
   "metadata": {},
   "outputs": [
    {
     "name": "stdout",
     "output_type": "stream",
     "text": [
      "User-0 starts task at 0\n",
      "User-1 starts task at 5\n",
      "User-0 ends task at 5\n",
      "User-0 starts verification at 5\n",
      "User-0 ends verification at 7\n",
      "User-0 starts task at 7\n",
      "User-2 starts task at 10\n",
      "User-1 ends task at 10\n",
      "User-1 starts verification at 10\n",
      "User-1 ends verification at 12\n",
      "User-1 starts task at 12\n",
      "User-0 ends task at 12\n",
      "User-0 starts verification at 12\n",
      "User-0 ends verification at 14\n",
      "User-0 starts task at 14\n",
      "User-3 starts task at 15\n",
      "User-2 ends task at 15\n",
      "User-2 starts verification at 15\n",
      "User-2 ends verification at 17\n",
      "User-2 starts task at 17\n",
      "User-1 ends task at 17\n",
      "User-1 starts verification at 17\n",
      "User-1 ends verification at 19\n",
      "User-1 starts task at 19\n",
      "User-0 ends task at 19\n",
      "User-0 starts verification at 19\n",
      "User-4 starts task at 20\n",
      "User-3 ends task at 20\n",
      "User-3 starts verification at 20\n",
      "User-0 ends verification at 21\n",
      "User-0 starts task at 21\n",
      "User-3 ends verification at 22\n",
      "User-3 starts task at 22\n",
      "User-2 ends task at 22\n",
      "User-2 starts verification at 22\n",
      "User-2 ends verification at 24\n",
      "User-2 starts task at 24\n",
      "User-1 ends task at 24\n",
      "User-1 starts verification at 24\n",
      "User-5 starts task at 25\n",
      "User-4 ends task at 25\n",
      "User-4 starts verification at 25\n",
      "User-1 ends verification at 26\n",
      "User-1 starts task at 26\n",
      "User-0 ends task at 26\n",
      "User-0 starts verification at 26\n",
      "User-4 ends verification at 27\n",
      "User-4 starts task at 27\n",
      "User-3 ends task at 27\n",
      "User-3 starts verification at 27\n",
      "User-0 ends verification at 28\n",
      "User-0 starts task at 28\n",
      "User-3 ends verification at 29\n",
      "User-3 starts task at 29\n",
      "User-2 ends task at 29\n",
      "User-2 starts verification at 29\n",
      "User-6 starts task at 30\n",
      "User-5 ends task at 30\n",
      "User-5 starts verification at 30\n",
      "User-2 ends verification at 31\n",
      "User-2 starts task at 31\n",
      "User-1 ends task at 31\n",
      "User-1 starts verification at 31\n",
      "User-5 ends verification at 32\n",
      "User-5 starts task at 32\n",
      "User-4 ends task at 32\n",
      "User-4 starts verification at 32\n",
      "User-1 ends verification at 33\n",
      "User-1 starts task at 33\n",
      "User-0 ends task at 33\n",
      "User-0 starts verification at 33\n",
      "User-4 ends verification at 34\n",
      "User-4 starts task at 34\n",
      "User-3 ends task at 34\n",
      "User-3 starts verification at 34\n",
      "User-7 starts task at 35\n",
      "User-0 ends verification at 35\n",
      "User-0 starts task at 35\n",
      "User-6 ends task at 35\n",
      "User-6 starts verification at 35\n",
      "User-3 ends verification at 36\n",
      "User-3 starts task at 36\n",
      "User-2 ends task at 36\n",
      "User-2 starts verification at 36\n",
      "User-6 ends verification at 37\n",
      "User-6 starts task at 37\n",
      "User-5 ends task at 37\n",
      "User-5 starts verification at 37\n",
      "User-2 ends verification at 38\n",
      "User-2 starts task at 38\n",
      "User-1 ends task at 38\n",
      "User-1 starts verification at 38\n",
      "User-5 ends verification at 39\n",
      "User-5 starts task at 39\n",
      "User-4 ends task at 39\n",
      "User-4 starts verification at 39\n",
      "User-8 starts task at 40\n",
      "User-1 ends verification at 40\n",
      "User-1 starts task at 40\n",
      "User-7 ends task at 40\n",
      "User-7 starts verification at 40\n",
      "User-0 ends task at 40\n",
      "User-0 starts verification at 40\n",
      "User-4 ends verification at 41\n",
      "User-4 starts task at 41\n",
      "User-3 ends task at 41\n",
      "User-3 starts verification at 41\n",
      "User-7 ends verification at 42\n",
      "User-7 starts task at 42\n",
      "User-0 ends verification at 42\n",
      "User-0 starts task at 42\n",
      "User-6 ends task at 42\n",
      "User-6 starts verification at 42\n",
      "User-3 ends verification at 43\n",
      "User-3 starts task at 43\n",
      "User-2 ends task at 43\n",
      "User-2 starts verification at 43\n",
      "User-6 ends verification at 44\n",
      "User-6 starts task at 44\n",
      "User-5 ends task at 44\n",
      "User-5 starts verification at 44\n",
      "User-9 starts task at 45\n",
      "User-2 ends verification at 45\n",
      "User-2 starts task at 45\n",
      "User-8 ends task at 45\n",
      "User-8 starts verification at 45\n",
      "User-1 ends task at 45\n",
      "User-1 starts verification at 45\n",
      "User-5 ends verification at 46\n",
      "User-5 starts task at 46\n",
      "User-4 ends task at 46\n",
      "User-4 starts verification at 46\n",
      "User-8 ends verification at 47\n",
      "User-8 starts task at 47\n",
      "User-1 ends verification at 47\n",
      "User-1 starts task at 47\n",
      "User-7 ends task at 47\n",
      "User-7 starts verification at 47\n",
      "User-0 ends task at 47\n",
      "User-0 starts verification at 47\n",
      "User-4 ends verification at 48\n",
      "User-4 starts task at 48\n",
      "User-3 ends task at 48\n",
      "User-3 starts verification at 48\n",
      "User-7 ends verification at 49\n",
      "User-7 starts task at 49\n",
      "User-0 ends verification at 49\n",
      "User-0 starts task at 49\n",
      "User-6 ends task at 49\n",
      "User-6 starts verification at 49\n",
      "User-10 starts task at 50\n",
      "User-3 ends verification at 50\n",
      "User-3 starts task at 50\n",
      "User-9 ends task at 50\n",
      "User-9 starts verification at 50\n",
      "User-2 ends task at 50\n",
      "User-2 starts verification at 50\n",
      "User-6 ends verification at 51\n",
      "User-6 starts task at 51\n",
      "User-5 ends task at 51\n",
      "User-5 starts verification at 51\n",
      "User-9 ends verification at 52\n",
      "User-9 starts task at 52\n",
      "User-2 ends verification at 52\n",
      "User-2 starts task at 52\n",
      "User-8 ends task at 52\n",
      "User-8 starts verification at 52\n",
      "User-1 ends task at 52\n",
      "User-1 starts verification at 52\n",
      "User-5 ends verification at 53\n",
      "User-5 starts task at 53\n",
      "User-4 ends task at 53\n",
      "User-4 starts verification at 53\n",
      "User-8 ends verification at 54\n",
      "User-8 starts task at 54\n",
      "User-1 ends verification at 54\n",
      "User-1 starts task at 54\n",
      "User-7 ends task at 54\n",
      "User-7 starts verification at 54\n",
      "User-0 ends task at 54\n",
      "User-0 starts verification at 54\n",
      "User-11 starts task at 55\n",
      "User-4 ends verification at 55\n",
      "User-4 starts task at 55\n",
      "User-10 ends task at 55\n",
      "User-10 starts verification at 55\n",
      "User-3 ends task at 55\n",
      "User-3 starts verification at 55\n",
      "User-7 ends verification at 56\n",
      "User-7 starts task at 56\n",
      "User-0 ends verification at 56\n",
      "User-0 starts task at 56\n",
      "User-6 ends task at 56\n",
      "User-6 starts verification at 56\n",
      "User-10 ends verification at 57\n",
      "User-10 starts task at 57\n",
      "User-3 ends verification at 57\n",
      "User-3 starts task at 57\n",
      "User-9 ends task at 57\n",
      "User-9 starts verification at 57\n",
      "User-2 ends task at 57\n",
      "User-2 starts verification at 57\n",
      "User-6 ends verification at 58\n",
      "User-6 starts task at 58\n",
      "User-5 ends task at 58\n",
      "User-5 starts verification at 58\n",
      "User-9 ends verification at 59\n",
      "User-9 starts task at 59\n",
      "User-2 ends verification at 59\n",
      "User-2 starts task at 59\n",
      "User-8 ends task at 59\n",
      "User-8 starts verification at 59\n",
      "User-1 ends task at 59\n",
      "User-1 starts verification at 59\n",
      "User-12 starts task at 60\n",
      "User-5 ends verification at 60\n",
      "User-5 starts task at 60\n",
      "User-11 ends task at 60\n",
      "User-11 starts verification at 60\n",
      "User-4 ends task at 60\n",
      "User-4 starts verification at 60\n",
      "User-8 ends verification at 61\n",
      "User-8 starts task at 61\n",
      "User-1 ends verification at 61\n",
      "User-1 starts task at 61\n",
      "User-7 ends task at 61\n",
      "User-7 starts verification at 61\n",
      "User-0 ends task at 61\n",
      "User-0 starts verification at 61\n",
      "User-11 ends verification at 62\n",
      "User-11 starts task at 62\n",
      "User-4 ends verification at 62\n",
      "User-4 starts task at 62\n",
      "User-10 ends task at 62\n",
      "User-10 starts verification at 62\n",
      "User-3 ends task at 62\n",
      "User-3 starts verification at 62\n",
      "User-7 ends verification at 63\n",
      "User-7 starts task at 63\n",
      "User-0 ends verification at 63\n",
      "User-0 starts task at 63\n",
      "User-6 ends task at 63\n",
      "User-6 starts verification at 63\n",
      "User-10 ends verification at 64\n",
      "User-10 starts task at 64\n",
      "User-3 ends verification at 64\n",
      "User-3 starts task at 64\n",
      "User-9 ends task at 64\n",
      "User-9 starts verification at 64\n",
      "User-2 ends task at 64\n",
      "User-2 starts verification at 64\n",
      "User-13 starts task at 65\n",
      "User-6 ends verification at 65\n",
      "User-6 starts task at 65\n",
      "User-12 ends task at 65\n",
      "User-12 starts verification at 65\n",
      "User-5 ends task at 65\n",
      "User-5 starts verification at 65\n",
      "User-9 ends verification at 66\n",
      "User-9 starts task at 66\n",
      "User-2 ends verification at 66\n",
      "User-2 starts task at 66\n",
      "User-8 ends task at 66\n",
      "User-8 starts verification at 66\n",
      "User-1 ends task at 66\n",
      "User-1 starts verification at 66\n",
      "User-12 ends verification at 67\n",
      "User-12 starts task at 67\n",
      "User-5 ends verification at 67\n",
      "User-5 starts task at 67\n",
      "User-11 ends task at 67\n",
      "User-11 starts verification at 67\n",
      "User-4 ends task at 67\n",
      "User-4 starts verification at 67\n",
      "User-8 ends verification at 68\n",
      "User-8 starts task at 68\n",
      "User-1 ends verification at 68\n",
      "User-1 starts task at 68\n",
      "User-7 ends task at 68\n",
      "User-7 starts verification at 68\n",
      "User-0 ends task at 68\n",
      "User-0 starts verification at 68\n",
      "User-11 ends verification at 69\n",
      "User-11 starts task at 69\n",
      "User-4 ends verification at 69\n",
      "User-4 starts task at 69\n",
      "User-10 ends task at 69\n",
      "User-10 starts verification at 69\n",
      "User-3 ends task at 69\n",
      "User-3 starts verification at 69\n",
      "User-14 starts task at 70\n",
      "User-7 ends verification at 70\n",
      "User-7 starts task at 70\n",
      "User-0 ends verification at 70\n",
      "User-0 starts task at 70\n",
      "User-13 ends task at 70\n",
      "User-13 starts verification at 70\n",
      "User-6 ends task at 70\n",
      "User-6 starts verification at 70\n",
      "User-10 ends verification at 71\n",
      "User-10 starts task at 71\n",
      "User-3 ends verification at 71\n",
      "User-3 starts task at 71\n",
      "User-9 ends task at 71\n",
      "User-9 starts verification at 71\n",
      "User-2 ends task at 71\n",
      "User-2 starts verification at 71\n",
      "User-13 ends verification at 72\n",
      "User-13 starts task at 72\n",
      "User-6 ends verification at 72\n",
      "User-6 starts task at 72\n",
      "User-12 ends task at 72\n",
      "User-12 starts verification at 72\n",
      "User-5 ends task at 72\n",
      "User-5 starts verification at 72\n",
      "User-9 ends verification at 73\n",
      "User-9 starts task at 73\n",
      "User-2 ends verification at 73\n",
      "User-2 starts task at 73\n",
      "User-8 ends task at 73\n",
      "User-8 starts verification at 73\n",
      "User-1 ends task at 73\n",
      "User-1 starts verification at 73\n",
      "User-12 ends verification at 74\n",
      "User-12 starts task at 74\n",
      "User-5 ends verification at 74\n",
      "User-5 starts task at 74\n",
      "User-11 ends task at 74\n",
      "User-11 starts verification at 74\n",
      "User-4 ends task at 74\n",
      "User-4 starts verification at 74\n",
      "User-15 starts task at 75\n",
      "User-8 ends verification at 75\n",
      "User-8 starts task at 75\n",
      "User-1 ends verification at 75\n",
      "User-1 starts task at 75\n",
      "User-14 ends task at 75\n",
      "User-14 starts verification at 75\n",
      "User-7 ends task at 75\n",
      "User-7 starts verification at 75\n",
      "User-0 ends task at 75\n",
      "User-0 starts verification at 75\n",
      "User-11 ends verification at 76\n",
      "User-11 starts task at 76\n",
      "User-4 ends verification at 76\n",
      "User-4 starts task at 76\n",
      "User-10 ends task at 76\n",
      "User-10 starts verification at 76\n",
      "User-3 ends task at 76\n",
      "User-3 starts verification at 76\n",
      "User-14 ends verification at 77\n",
      "User-14 starts task at 77\n",
      "User-7 ends verification at 77\n",
      "User-7 starts task at 77\n",
      "User-0 ends verification at 77\n",
      "User-0 starts task at 77\n",
      "User-13 ends task at 77\n",
      "User-13 starts verification at 77\n",
      "User-6 ends task at 77\n",
      "User-6 starts verification at 77\n",
      "User-10 ends verification at 78\n",
      "User-10 starts task at 78\n",
      "User-3 ends verification at 78\n",
      "User-3 starts task at 78\n",
      "User-9 ends task at 78\n",
      "User-9 starts verification at 78\n",
      "User-2 ends task at 78\n",
      "User-2 starts verification at 78\n",
      "User-13 ends verification at 79\n",
      "User-13 starts task at 79\n",
      "User-6 ends verification at 79\n",
      "User-6 starts task at 79\n",
      "User-12 ends task at 79\n",
      "User-12 starts verification at 79\n",
      "User-5 ends task at 79\n",
      "User-5 starts verification at 79\n",
      "User-16 starts task at 80\n",
      "User-9 ends verification at 80\n",
      "User-9 starts task at 80\n",
      "User-2 ends verification at 80\n",
      "User-2 starts task at 80\n",
      "User-15 ends task at 80\n",
      "User-15 starts verification at 80\n",
      "User-8 ends task at 80\n",
      "User-8 starts verification at 80\n",
      "User-1 ends task at 80\n",
      "User-1 starts verification at 80\n",
      "User-12 ends verification at 81\n",
      "User-12 starts task at 81\n",
      "User-5 ends verification at 81\n",
      "User-5 starts task at 81\n",
      "User-11 ends task at 81\n",
      "User-11 starts verification at 81\n",
      "User-4 ends task at 81\n",
      "User-4 starts verification at 81\n",
      "User-15 ends verification at 82\n",
      "User-15 starts task at 82\n",
      "User-8 ends verification at 82\n",
      "User-8 starts task at 82\n",
      "User-1 ends verification at 82\n",
      "User-1 starts task at 82\n",
      "User-14 ends task at 82\n",
      "User-14 starts verification at 82\n",
      "User-7 ends task at 82\n",
      "User-7 starts verification at 82\n",
      "User-0 ends task at 82\n",
      "User-0 starts verification at 82\n",
      "User-11 ends verification at 83\n",
      "User-11 starts task at 83\n",
      "User-4 ends verification at 83\n",
      "User-4 starts task at 83\n",
      "User-10 ends task at 83\n",
      "User-10 starts verification at 83\n",
      "User-3 ends task at 83\n",
      "User-3 starts verification at 83\n",
      "User-14 ends verification at 84\n",
      "User-14 starts task at 84\n",
      "User-7 ends verification at 84\n",
      "User-7 starts task at 84\n",
      "User-0 ends verification at 84\n",
      "User-0 starts task at 84\n",
      "User-13 ends task at 84\n",
      "User-13 starts verification at 84\n",
      "User-6 ends task at 84\n",
      "User-6 starts verification at 84\n",
      "User-17 starts task at 85\n",
      "User-10 ends verification at 85\n",
      "User-10 starts task at 85\n",
      "User-3 ends verification at 85\n",
      "User-3 starts task at 85\n",
      "User-16 ends task at 85\n",
      "User-16 starts verification at 85\n",
      "User-9 ends task at 85\n",
      "User-9 starts verification at 85\n",
      "User-2 ends task at 85\n",
      "User-2 starts verification at 85\n",
      "User-13 ends verification at 86\n",
      "User-13 starts task at 86\n",
      "User-6 ends verification at 86\n",
      "User-6 starts task at 86\n",
      "User-12 ends task at 86\n",
      "User-12 starts verification at 86\n",
      "User-5 ends task at 86\n",
      "User-5 starts verification at 86\n",
      "User-16 ends verification at 87\n",
      "User-16 starts task at 87\n",
      "User-9 ends verification at 87\n",
      "User-9 starts task at 87\n",
      "User-2 ends verification at 87\n",
      "User-2 starts task at 87\n",
      "User-15 ends task at 87\n",
      "User-15 starts verification at 87\n",
      "User-8 ends task at 87\n",
      "User-8 starts verification at 87\n",
      "User-1 ends task at 87\n",
      "User-1 starts verification at 87\n",
      "User-12 ends verification at 88\n",
      "User-12 starts task at 88\n",
      "User-5 ends verification at 88\n",
      "User-5 starts task at 88\n",
      "User-11 ends task at 88\n",
      "User-11 starts verification at 88\n",
      "User-4 ends task at 88\n",
      "User-4 starts verification at 88\n",
      "User-15 ends verification at 89\n",
      "User-15 starts task at 89\n",
      "User-8 ends verification at 89\n",
      "User-8 starts task at 89\n",
      "User-1 ends verification at 89\n",
      "User-1 starts task at 89\n",
      "User-14 ends task at 89\n",
      "User-14 starts verification at 89\n",
      "User-7 ends task at 89\n",
      "User-7 starts verification at 89\n",
      "User-0 ends task at 89\n",
      "User-0 starts verification at 89\n",
      "User-18 starts task at 90\n",
      "User-11 ends verification at 90\n",
      "User-11 starts task at 90\n",
      "User-4 ends verification at 90\n",
      "User-4 starts task at 90\n",
      "User-17 ends task at 90\n",
      "User-17 starts verification at 90\n",
      "User-10 ends task at 90\n",
      "User-10 starts verification at 90\n",
      "User-3 ends task at 90\n",
      "User-3 starts verification at 90\n",
      "User-14 ends verification at 91\n",
      "User-14 starts task at 91\n",
      "User-7 ends verification at 91\n",
      "User-7 starts task at 91\n",
      "User-0 ends verification at 91\n",
      "User-0 starts task at 91\n",
      "User-13 ends task at 91\n",
      "User-13 starts verification at 91\n",
      "User-6 ends task at 91\n",
      "User-6 starts verification at 91\n",
      "User-17 ends verification at 92\n",
      "User-17 starts task at 92\n",
      "User-10 ends verification at 92\n",
      "User-10 starts task at 92\n",
      "User-3 ends verification at 92\n",
      "User-3 starts task at 92\n",
      "User-16 ends task at 92\n",
      "User-16 starts verification at 92\n",
      "User-9 ends task at 92\n",
      "User-9 starts verification at 92\n",
      "User-2 ends task at 92\n",
      "User-2 starts verification at 92\n",
      "User-13 ends verification at 93\n",
      "User-13 starts task at 93\n",
      "User-6 ends verification at 93\n",
      "User-6 starts task at 93\n",
      "User-12 ends task at 93\n",
      "User-12 starts verification at 93\n",
      "User-5 ends task at 93\n",
      "User-5 starts verification at 93\n",
      "User-16 ends verification at 94\n",
      "User-16 starts task at 94\n",
      "User-9 ends verification at 94\n",
      "User-9 starts task at 94\n",
      "User-2 ends verification at 94\n",
      "User-2 starts task at 94\n",
      "User-15 ends task at 94\n",
      "User-15 starts verification at 94\n",
      "User-8 ends task at 94\n",
      "User-8 starts verification at 94\n",
      "User-1 ends task at 94\n",
      "User-1 starts verification at 94\n",
      "User-19 starts task at 95\n",
      "User-12 ends verification at 95\n",
      "User-12 starts task at 95\n",
      "User-5 ends verification at 95\n",
      "User-5 starts task at 95\n",
      "User-18 ends task at 95\n",
      "User-18 starts verification at 95\n",
      "User-11 ends task at 95\n",
      "User-11 starts verification at 95\n",
      "User-4 ends task at 95\n",
      "User-4 starts verification at 95\n",
      "User-15 ends verification at 96\n",
      "User-15 starts task at 96\n",
      "User-8 ends verification at 96\n",
      "User-8 starts task at 96\n",
      "User-1 ends verification at 96\n",
      "User-1 starts task at 96\n",
      "User-14 ends task at 96\n",
      "User-14 starts verification at 96\n",
      "User-7 ends task at 96\n",
      "User-7 starts verification at 96\n",
      "User-0 ends task at 96\n",
      "User-0 starts verification at 96\n",
      "User-18 ends verification at 97\n",
      "User-18 starts task at 97\n",
      "User-11 ends verification at 97\n",
      "User-11 starts task at 97\n",
      "User-4 ends verification at 97\n",
      "User-4 starts task at 97\n",
      "User-17 ends task at 97\n",
      "User-17 starts verification at 97\n",
      "User-10 ends task at 97\n",
      "User-10 starts verification at 97\n",
      "User-3 ends task at 97\n",
      "User-3 starts verification at 97\n",
      "User-14 ends verification at 98\n",
      "User-14 starts task at 98\n",
      "User-7 ends verification at 98\n",
      "User-7 starts task at 98\n",
      "User-0 ends verification at 98\n",
      "User-0 starts task at 98\n",
      "User-13 ends task at 98\n",
      "User-13 starts verification at 98\n",
      "User-6 ends task at 98\n",
      "User-6 starts verification at 98\n",
      "User-17 ends verification at 99\n",
      "User-17 starts task at 99\n",
      "User-10 ends verification at 99\n",
      "User-10 starts task at 99\n",
      "User-3 ends verification at 99\n",
      "User-3 starts task at 99\n",
      "User-16 ends task at 99\n",
      "User-16 starts verification at 99\n",
      "User-9 ends task at 99\n",
      "User-9 starts verification at 99\n",
      "User-2 ends task at 99\n",
      "User-2 starts verification at 99\n",
      "Users Monitor\n",
      "                         Start  StartMark          Task  TaskId Username  \\\n",
      "0   2021-09-11 12:42:17.664581          0  process_task       2   User-0   \n",
      "1   2021-09-11 12:47:17.664581          5  process_task       2   User-1   \n",
      "2   2021-09-11 12:49:17.664581          7  process_task       3   User-0   \n",
      "3   2021-09-11 12:52:17.664581         10  process_task       2   User-2   \n",
      "4   2021-09-11 12:54:17.664581         12  process_task       3   User-1   \n",
      "5   2021-09-11 12:56:17.664581         14  process_task       4   User-0   \n",
      "6   2021-09-11 12:57:17.664581         15  process_task       2   User-3   \n",
      "7   2021-09-11 12:59:17.664581         17  process_task       3   User-2   \n",
      "8   2021-09-11 13:01:17.664581         19  process_task       4   User-1   \n",
      "9   2021-09-11 13:02:17.664581         20  process_task       2   User-4   \n",
      "10  2021-09-11 13:03:17.664581         21  process_task       5   User-0   \n",
      "11  2021-09-11 13:04:17.664581         22  process_task       3   User-3   \n",
      "12  2021-09-11 13:06:17.664581         24  process_task       4   User-2   \n",
      "13  2021-09-11 13:07:17.664581         25  process_task       2   User-5   \n",
      "14  2021-09-11 13:08:17.664581         26  process_task       5   User-1   \n",
      "15  2021-09-11 13:09:17.664581         27  process_task       3   User-4   \n",
      "16  2021-09-11 13:10:17.664581         28  process_task       6   User-0   \n",
      "17  2021-09-11 13:11:17.664581         29  process_task       4   User-3   \n",
      "18  2021-09-11 13:12:17.664581         30  process_task       2   User-6   \n",
      "19  2021-09-11 13:13:17.664581         31  process_task       5   User-2   \n",
      "20  2021-09-11 13:14:17.664581         32  process_task       3   User-5   \n",
      "21  2021-09-11 13:15:17.664581         33  process_task       6   User-1   \n",
      "22  2021-09-11 13:16:17.664581         34  process_task       4   User-4   \n",
      "23  2021-09-11 13:17:17.664581         35  process_task       2   User-7   \n",
      "24  2021-09-11 13:17:17.664581         35  process_task       7   User-0   \n",
      "25  2021-09-11 13:18:17.664581         36  process_task       5   User-3   \n",
      "26  2021-09-11 13:19:17.664581         37  process_task       3   User-6   \n",
      "27  2021-09-11 13:20:17.664581         38  process_task       6   User-2   \n",
      "28  2021-09-11 13:21:17.664581         39  process_task       4   User-5   \n",
      "29  2021-09-11 13:22:17.664581         40  process_task       2   User-8   \n",
      "..                         ...        ...           ...     ...      ...   \n",
      "129 2021-09-11 14:11:17.664581         89  process_task      14   User-1   \n",
      "130 2021-09-11 14:12:17.664581         90  process_task       2  User-18   \n",
      "131 2021-09-11 14:12:17.664581         90  process_task       7  User-11   \n",
      "132 2021-09-11 14:12:17.664581         90  process_task      12   User-4   \n",
      "133 2021-09-11 14:13:17.664581         91  process_task       5  User-14   \n",
      "134 2021-09-11 14:13:17.664581         91  process_task      10   User-7   \n",
      "135 2021-09-11 14:13:17.664581         91  process_task      15   User-0   \n",
      "136 2021-09-11 14:14:17.664581         92  process_task       3  User-17   \n",
      "137 2021-09-11 14:14:17.664581         92  process_task       8  User-10   \n",
      "138 2021-09-11 14:14:17.664581         92  process_task      13   User-3   \n",
      "139 2021-09-11 14:15:17.664581         93  process_task       6  User-13   \n",
      "140 2021-09-11 14:15:17.664581         93  process_task      11   User-6   \n",
      "141 2021-09-11 14:16:17.664581         94  process_task       4  User-16   \n",
      "142 2021-09-11 14:16:17.664581         94  process_task       9   User-9   \n",
      "143 2021-09-11 14:16:17.664581         94  process_task      14   User-2   \n",
      "144 2021-09-11 14:17:17.664581         95  process_task       2  User-19   \n",
      "145 2021-09-11 14:17:17.664581         95  process_task       7  User-12   \n",
      "146 2021-09-11 14:17:17.664581         95  process_task      12   User-5   \n",
      "147 2021-09-11 14:18:17.664581         96  process_task       5  User-15   \n",
      "148 2021-09-11 14:18:17.664581         96  process_task      10   User-8   \n",
      "149 2021-09-11 14:18:17.664581         96  process_task      15   User-1   \n",
      "150 2021-09-11 14:19:17.664581         97  process_task       3  User-18   \n",
      "151 2021-09-11 14:19:17.664581         97  process_task       8  User-11   \n",
      "152 2021-09-11 14:19:17.664581         97  process_task      13   User-4   \n",
      "153 2021-09-11 14:20:17.664581         98  process_task       6  User-14   \n",
      "154 2021-09-11 14:20:17.664581         98  process_task      11   User-7   \n",
      "155 2021-09-11 14:20:17.664581         98  process_task      16   User-0   \n",
      "156 2021-09-11 14:21:17.664581         99  process_task       4  User-17   \n",
      "157 2021-09-11 14:21:17.664581         99  process_task       9  User-10   \n",
      "158 2021-09-11 14:21:17.664581         99  process_task      14   User-3   \n",
      "\n",
      "                        Finish  FinishMark  \n",
      "0   2021-09-11 12:47:17.664581         5.0  \n",
      "1   2021-09-11 12:52:17.664581        10.0  \n",
      "2   2021-09-11 12:54:17.664581        12.0  \n",
      "3   2021-09-11 12:57:17.664581        15.0  \n",
      "4   2021-09-11 12:59:17.664581        17.0  \n",
      "5   2021-09-11 13:01:17.664581        19.0  \n",
      "6   2021-09-11 13:02:17.664581        20.0  \n",
      "7   2021-09-11 13:04:17.664581        22.0  \n",
      "8   2021-09-11 13:06:17.664581        24.0  \n",
      "9   2021-09-11 13:07:17.664581        25.0  \n",
      "10  2021-09-11 13:08:17.664581        26.0  \n",
      "11  2021-09-11 13:09:17.664581        27.0  \n",
      "12  2021-09-11 13:11:17.664581        29.0  \n",
      "13  2021-09-11 13:12:17.664581        30.0  \n",
      "14  2021-09-11 13:13:17.664581        31.0  \n",
      "15  2021-09-11 13:14:17.664581        32.0  \n",
      "16  2021-09-11 13:15:17.664581        33.0  \n",
      "17  2021-09-11 13:16:17.664581        34.0  \n",
      "18  2021-09-11 13:17:17.664581        35.0  \n",
      "19  2021-09-11 13:18:17.664581        36.0  \n",
      "20  2021-09-11 13:19:17.664581        37.0  \n",
      "21  2021-09-11 13:20:17.664581        38.0  \n",
      "22  2021-09-11 13:21:17.664581        39.0  \n",
      "23  2021-09-11 13:22:17.664581        40.0  \n",
      "24  2021-09-11 13:22:17.664581        40.0  \n",
      "25  2021-09-11 13:23:17.664581        41.0  \n",
      "26  2021-09-11 13:24:17.664581        42.0  \n",
      "27  2021-09-11 13:25:17.664581        43.0  \n",
      "28  2021-09-11 13:26:17.664581        44.0  \n",
      "29  2021-09-11 13:27:17.664581        45.0  \n",
      "..                         ...         ...  \n",
      "129 2021-09-11 14:16:17.664581        94.0  \n",
      "130 2021-09-11 14:17:17.664581        95.0  \n",
      "131 2021-09-11 14:17:17.664581        95.0  \n",
      "132 2021-09-11 14:17:17.664581        95.0  \n",
      "133 2021-09-11 14:18:17.664581        96.0  \n",
      "134 2021-09-11 14:18:17.664581        96.0  \n",
      "135 2021-09-11 14:18:17.664581        96.0  \n",
      "136 2021-09-11 14:19:17.664581        97.0  \n",
      "137 2021-09-11 14:19:17.664581        97.0  \n",
      "138 2021-09-11 14:19:17.664581        97.0  \n",
      "139 2021-09-11 14:20:17.664581        98.0  \n",
      "140 2021-09-11 14:20:17.664581        98.0  \n",
      "141 2021-09-11 14:21:17.664581        99.0  \n",
      "142 2021-09-11 14:21:17.664581        99.0  \n",
      "143 2021-09-11 14:21:17.664581        99.0  \n",
      "144                        NaT         NaN  \n",
      "145                        NaT         NaN  \n",
      "146                        NaT         NaN  \n",
      "147                        NaT         NaN  \n",
      "148                        NaT         NaN  \n",
      "149                        NaT         NaN  \n",
      "150                        NaT         NaN  \n",
      "151                        NaT         NaN  \n",
      "152                        NaT         NaN  \n",
      "153                        NaT         NaN  \n",
      "154                        NaT         NaN  \n",
      "155                        NaT         NaN  \n",
      "156                        NaT         NaN  \n",
      "157                        NaT         NaN  \n",
      "158                        NaT         NaN  \n",
      "\n",
      "[159 rows x 7 columns]\n"
     ]
    }
   ],
   "source": [
    "# au passage suppression de magix numbers\n",
    "sim_duration = 100\n",
    "nb_users = 20\n",
    "\n",
    "env = simpy.Environment()\n",
    "user_monitor = UsersMonitor(env, clock)\n",
    "#user = User(env, res)\n",
    "# note un process est appele à chaque tick\n",
    "user_gen = env.process(user_generator(nb_users, env, user_monitor))\n",
    "\n",
    "env.run(until=sim_duration)\n",
    "\n",
    "df_users = user_monitor.collect()\n",
    "print(\"Users Monitor\")\n",
    "print(df_users)"
   ]
  },
  {
   "cell_type": "code",
   "execution_count": 143,
   "metadata": {},
   "outputs": [],
   "source": [
    "import plotly.express as px\n",
    "import pandas as pd\n"
   ]
  },
  {
   "cell_type": "code",
   "execution_count": 144,
   "metadata": {},
   "outputs": [
    {
     "data": {
      "application/vnd.plotly.v1+json": {
       "config": {
        "plotlyServerURL": "https://plot.ly"
       },
       "data": [
        {
         "alignmentgroup": "True",
         "base": [
          "2021-09-11T12:42:17.664581",
          "2021-09-11T12:47:17.664581",
          "2021-09-11T12:49:17.664581",
          "2021-09-11T12:52:17.664581",
          "2021-09-11T12:54:17.664581",
          "2021-09-11T12:56:17.664581",
          "2021-09-11T12:57:17.664581",
          "2021-09-11T12:59:17.664581",
          "2021-09-11T13:01:17.664581",
          "2021-09-11T13:02:17.664581",
          "2021-09-11T13:03:17.664581",
          "2021-09-11T13:04:17.664581",
          "2021-09-11T13:06:17.664581",
          "2021-09-11T13:07:17.664581",
          "2021-09-11T13:08:17.664581",
          "2021-09-11T13:09:17.664581",
          "2021-09-11T13:10:17.664581",
          "2021-09-11T13:11:17.664581",
          "2021-09-11T13:12:17.664581",
          "2021-09-11T13:13:17.664581",
          "2021-09-11T13:14:17.664581",
          "2021-09-11T13:15:17.664581",
          "2021-09-11T13:16:17.664581",
          "2021-09-11T13:17:17.664581",
          "2021-09-11T13:17:17.664581",
          "2021-09-11T13:18:17.664581",
          "2021-09-11T13:19:17.664581",
          "2021-09-11T13:20:17.664581",
          "2021-09-11T13:21:17.664581",
          "2021-09-11T13:22:17.664581",
          "2021-09-11T13:22:17.664581",
          "2021-09-11T13:23:17.664581",
          "2021-09-11T13:24:17.664581",
          "2021-09-11T13:24:17.664581",
          "2021-09-11T13:25:17.664581",
          "2021-09-11T13:26:17.664581",
          "2021-09-11T13:27:17.664581",
          "2021-09-11T13:27:17.664581",
          "2021-09-11T13:28:17.664581",
          "2021-09-11T13:29:17.664581",
          "2021-09-11T13:29:17.664581",
          "2021-09-11T13:30:17.664581",
          "2021-09-11T13:31:17.664581",
          "2021-09-11T13:31:17.664581",
          "2021-09-11T13:32:17.664581",
          "2021-09-11T13:32:17.664581",
          "2021-09-11T13:33:17.664581",
          "2021-09-11T13:34:17.664581",
          "2021-09-11T13:34:17.664581",
          "2021-09-11T13:35:17.664581",
          "2021-09-11T13:36:17.664581",
          "2021-09-11T13:36:17.664581",
          "2021-09-11T13:37:17.664581",
          "2021-09-11T13:37:17.664581",
          "2021-09-11T13:38:17.664581",
          "2021-09-11T13:38:17.664581",
          "2021-09-11T13:39:17.664581",
          "2021-09-11T13:39:17.664581",
          "2021-09-11T13:40:17.664581",
          "2021-09-11T13:41:17.664581",
          "2021-09-11T13:41:17.664581",
          "2021-09-11T13:42:17.664581",
          "2021-09-11T13:42:17.664581",
          "2021-09-11T13:43:17.664581",
          "2021-09-11T13:43:17.664581",
          "2021-09-11T13:44:17.664581",
          "2021-09-11T13:44:17.664581",
          "2021-09-11T13:45:17.664581",
          "2021-09-11T13:45:17.664581",
          "2021-09-11T13:46:17.664581",
          "2021-09-11T13:46:17.664581",
          "2021-09-11T13:47:17.664581",
          "2021-09-11T13:47:17.664581",
          "2021-09-11T13:48:17.664581",
          "2021-09-11T13:48:17.664581",
          "2021-09-11T13:49:17.664581",
          "2021-09-11T13:49:17.664581",
          "2021-09-11T13:50:17.664581",
          "2021-09-11T13:50:17.664581",
          "2021-09-11T13:51:17.664581",
          "2021-09-11T13:51:17.664581",
          "2021-09-11T13:52:17.664581",
          "2021-09-11T13:52:17.664581",
          "2021-09-11T13:52:17.664581",
          "2021-09-11T13:53:17.664581",
          "2021-09-11T13:53:17.664581",
          "2021-09-11T13:54:17.664581",
          "2021-09-11T13:54:17.664581",
          "2021-09-11T13:55:17.664581",
          "2021-09-11T13:55:17.664581",
          "2021-09-11T13:56:17.664581",
          "2021-09-11T13:56:17.664581",
          "2021-09-11T13:57:17.664581",
          "2021-09-11T13:57:17.664581",
          "2021-09-11T13:57:17.664581",
          "2021-09-11T13:58:17.664581",
          "2021-09-11T13:58:17.664581",
          "2021-09-11T13:59:17.664581",
          "2021-09-11T13:59:17.664581",
          "2021-09-11T13:59:17.664581",
          "2021-09-11T14:00:17.664581",
          "2021-09-11T14:00:17.664581",
          "2021-09-11T14:01:17.664581",
          "2021-09-11T14:01:17.664581",
          "2021-09-11T14:02:17.664581",
          "2021-09-11T14:02:17.664581",
          "2021-09-11T14:02:17.664581",
          "2021-09-11T14:03:17.664581",
          "2021-09-11T14:03:17.664581",
          "2021-09-11T14:04:17.664581",
          "2021-09-11T14:04:17.664581",
          "2021-09-11T14:04:17.664581",
          "2021-09-11T14:05:17.664581",
          "2021-09-11T14:05:17.664581",
          "2021-09-11T14:06:17.664581",
          "2021-09-11T14:06:17.664581",
          "2021-09-11T14:06:17.664581",
          "2021-09-11T14:07:17.664581",
          "2021-09-11T14:07:17.664581",
          "2021-09-11T14:07:17.664581",
          "2021-09-11T14:08:17.664581",
          "2021-09-11T14:08:17.664581",
          "2021-09-11T14:09:17.664581",
          "2021-09-11T14:09:17.664581",
          "2021-09-11T14:09:17.664581",
          "2021-09-11T14:10:17.664581",
          "2021-09-11T14:10:17.664581",
          "2021-09-11T14:11:17.664581",
          "2021-09-11T14:11:17.664581",
          "2021-09-11T14:11:17.664581",
          "2021-09-11T14:12:17.664581",
          "2021-09-11T14:12:17.664581",
          "2021-09-11T14:12:17.664581",
          "2021-09-11T14:13:17.664581",
          "2021-09-11T14:13:17.664581",
          "2021-09-11T14:13:17.664581",
          "2021-09-11T14:14:17.664581",
          "2021-09-11T14:14:17.664581",
          "2021-09-11T14:14:17.664581",
          "2021-09-11T14:15:17.664581",
          "2021-09-11T14:15:17.664581",
          "2021-09-11T14:16:17.664581",
          "2021-09-11T14:16:17.664581",
          "2021-09-11T14:16:17.664581",
          "2021-09-11T14:17:17.664581",
          "2021-09-11T14:17:17.664581",
          "2021-09-11T14:17:17.664581",
          "2021-09-11T14:18:17.664581",
          "2021-09-11T14:18:17.664581",
          "2021-09-11T14:18:17.664581",
          "2021-09-11T14:19:17.664581",
          "2021-09-11T14:19:17.664581",
          "2021-09-11T14:19:17.664581",
          "2021-09-11T14:20:17.664581",
          "2021-09-11T14:20:17.664581",
          "2021-09-11T14:20:17.664581",
          "2021-09-11T14:21:17.664581",
          "2021-09-11T14:21:17.664581",
          "2021-09-11T14:21:17.664581"
         ],
         "hovertemplate": "Start=%{base}<br>Finish=%{x}<br>Username=%{y}<extra></extra>",
         "legendgroup": "",
         "marker": {
          "color": "#636efa"
         },
         "name": "",
         "offsetgroup": "",
         "orientation": "h",
         "showlegend": false,
         "textposition": "auto",
         "type": "bar",
         "x": [
          300000,
          300000,
          300000,
          300000,
          300000,
          300000,
          300000,
          300000,
          300000,
          300000,
          300000,
          300000,
          300000,
          300000,
          300000,
          300000,
          300000,
          300000,
          300000,
          300000,
          300000,
          300000,
          300000,
          300000,
          300000,
          300000,
          300000,
          300000,
          300000,
          300000,
          300000,
          300000,
          300000,
          300000,
          300000,
          300000,
          300000,
          300000,
          300000,
          300000,
          300000,
          300000,
          300000,
          300000,
          300000,
          300000,
          300000,
          300000,
          300000,
          300000,
          300000,
          300000,
          300000,
          300000,
          300000,
          300000,
          300000,
          300000,
          300000,
          300000,
          300000,
          300000,
          300000,
          300000,
          300000,
          300000,
          300000,
          300000,
          300000,
          300000,
          300000,
          300000,
          300000,
          300000,
          300000,
          300000,
          300000,
          300000,
          300000,
          300000,
          300000,
          300000,
          300000,
          300000,
          300000,
          300000,
          300000,
          300000,
          300000,
          300000,
          300000,
          300000,
          300000,
          300000,
          300000,
          300000,
          300000,
          300000,
          300000,
          300000,
          300000,
          300000,
          300000,
          300000,
          300000,
          300000,
          300000,
          300000,
          300000,
          300000,
          300000,
          300000,
          300000,
          300000,
          300000,
          300000,
          300000,
          300000,
          300000,
          300000,
          300000,
          300000,
          300000,
          300000,
          300000,
          300000,
          300000,
          300000,
          300000,
          300000,
          300000,
          300000,
          300000,
          300000,
          300000,
          300000,
          300000,
          300000,
          300000,
          300000,
          300000,
          300000,
          300000,
          300000,
          null,
          null,
          null,
          null,
          null,
          null,
          null,
          null,
          null,
          null,
          null,
          null,
          null,
          null,
          null
         ],
         "xaxis": "x",
         "y": [
          "User-0",
          "User-1",
          "User-0",
          "User-2",
          "User-1",
          "User-0",
          "User-3",
          "User-2",
          "User-1",
          "User-4",
          "User-0",
          "User-3",
          "User-2",
          "User-5",
          "User-1",
          "User-4",
          "User-0",
          "User-3",
          "User-6",
          "User-2",
          "User-5",
          "User-1",
          "User-4",
          "User-7",
          "User-0",
          "User-3",
          "User-6",
          "User-2",
          "User-5",
          "User-8",
          "User-1",
          "User-4",
          "User-7",
          "User-0",
          "User-3",
          "User-6",
          "User-9",
          "User-2",
          "User-5",
          "User-8",
          "User-1",
          "User-4",
          "User-7",
          "User-0",
          "User-10",
          "User-3",
          "User-6",
          "User-9",
          "User-2",
          "User-5",
          "User-8",
          "User-1",
          "User-11",
          "User-4",
          "User-7",
          "User-0",
          "User-10",
          "User-3",
          "User-6",
          "User-9",
          "User-2",
          "User-12",
          "User-5",
          "User-8",
          "User-1",
          "User-11",
          "User-4",
          "User-7",
          "User-0",
          "User-10",
          "User-3",
          "User-13",
          "User-6",
          "User-9",
          "User-2",
          "User-12",
          "User-5",
          "User-8",
          "User-1",
          "User-11",
          "User-4",
          "User-14",
          "User-7",
          "User-0",
          "User-10",
          "User-3",
          "User-13",
          "User-6",
          "User-9",
          "User-2",
          "User-12",
          "User-5",
          "User-15",
          "User-8",
          "User-1",
          "User-11",
          "User-4",
          "User-14",
          "User-7",
          "User-0",
          "User-10",
          "User-3",
          "User-13",
          "User-6",
          "User-16",
          "User-9",
          "User-2",
          "User-12",
          "User-5",
          "User-15",
          "User-8",
          "User-1",
          "User-11",
          "User-4",
          "User-14",
          "User-7",
          "User-0",
          "User-17",
          "User-10",
          "User-3",
          "User-13",
          "User-6",
          "User-16",
          "User-9",
          "User-2",
          "User-12",
          "User-5",
          "User-15",
          "User-8",
          "User-1",
          "User-18",
          "User-11",
          "User-4",
          "User-14",
          "User-7",
          "User-0",
          "User-17",
          "User-10",
          "User-3",
          "User-13",
          "User-6",
          "User-16",
          "User-9",
          "User-2",
          "User-19",
          "User-12",
          "User-5",
          "User-15",
          "User-8",
          "User-1",
          "User-18",
          "User-11",
          "User-4",
          "User-14",
          "User-7",
          "User-0",
          "User-17",
          "User-10",
          "User-3"
         ],
         "yaxis": "y"
        }
       ],
       "layout": {
        "barmode": "overlay",
        "legend": {
         "tracegroupgap": 0
        },
        "margin": {
         "t": 60
        },
        "template": {
         "data": {
          "bar": [
           {
            "error_x": {
             "color": "#2a3f5f"
            },
            "error_y": {
             "color": "#2a3f5f"
            },
            "marker": {
             "line": {
              "color": "#E5ECF6",
              "width": 0.5
             },
             "pattern": {
              "fillmode": "overlay",
              "size": 10,
              "solidity": 0.2
             }
            },
            "type": "bar"
           }
          ],
          "barpolar": [
           {
            "marker": {
             "line": {
              "color": "#E5ECF6",
              "width": 0.5
             },
             "pattern": {
              "fillmode": "overlay",
              "size": 10,
              "solidity": 0.2
             }
            },
            "type": "barpolar"
           }
          ],
          "carpet": [
           {
            "aaxis": {
             "endlinecolor": "#2a3f5f",
             "gridcolor": "white",
             "linecolor": "white",
             "minorgridcolor": "white",
             "startlinecolor": "#2a3f5f"
            },
            "baxis": {
             "endlinecolor": "#2a3f5f",
             "gridcolor": "white",
             "linecolor": "white",
             "minorgridcolor": "white",
             "startlinecolor": "#2a3f5f"
            },
            "type": "carpet"
           }
          ],
          "choropleth": [
           {
            "colorbar": {
             "outlinewidth": 0,
             "ticks": ""
            },
            "type": "choropleth"
           }
          ],
          "contour": [
           {
            "colorbar": {
             "outlinewidth": 0,
             "ticks": ""
            },
            "colorscale": [
             [
              0,
              "#0d0887"
             ],
             [
              0.1111111111111111,
              "#46039f"
             ],
             [
              0.2222222222222222,
              "#7201a8"
             ],
             [
              0.3333333333333333,
              "#9c179e"
             ],
             [
              0.4444444444444444,
              "#bd3786"
             ],
             [
              0.5555555555555556,
              "#d8576b"
             ],
             [
              0.6666666666666666,
              "#ed7953"
             ],
             [
              0.7777777777777778,
              "#fb9f3a"
             ],
             [
              0.8888888888888888,
              "#fdca26"
             ],
             [
              1,
              "#f0f921"
             ]
            ],
            "type": "contour"
           }
          ],
          "contourcarpet": [
           {
            "colorbar": {
             "outlinewidth": 0,
             "ticks": ""
            },
            "type": "contourcarpet"
           }
          ],
          "heatmap": [
           {
            "colorbar": {
             "outlinewidth": 0,
             "ticks": ""
            },
            "colorscale": [
             [
              0,
              "#0d0887"
             ],
             [
              0.1111111111111111,
              "#46039f"
             ],
             [
              0.2222222222222222,
              "#7201a8"
             ],
             [
              0.3333333333333333,
              "#9c179e"
             ],
             [
              0.4444444444444444,
              "#bd3786"
             ],
             [
              0.5555555555555556,
              "#d8576b"
             ],
             [
              0.6666666666666666,
              "#ed7953"
             ],
             [
              0.7777777777777778,
              "#fb9f3a"
             ],
             [
              0.8888888888888888,
              "#fdca26"
             ],
             [
              1,
              "#f0f921"
             ]
            ],
            "type": "heatmap"
           }
          ],
          "heatmapgl": [
           {
            "colorbar": {
             "outlinewidth": 0,
             "ticks": ""
            },
            "colorscale": [
             [
              0,
              "#0d0887"
             ],
             [
              0.1111111111111111,
              "#46039f"
             ],
             [
              0.2222222222222222,
              "#7201a8"
             ],
             [
              0.3333333333333333,
              "#9c179e"
             ],
             [
              0.4444444444444444,
              "#bd3786"
             ],
             [
              0.5555555555555556,
              "#d8576b"
             ],
             [
              0.6666666666666666,
              "#ed7953"
             ],
             [
              0.7777777777777778,
              "#fb9f3a"
             ],
             [
              0.8888888888888888,
              "#fdca26"
             ],
             [
              1,
              "#f0f921"
             ]
            ],
            "type": "heatmapgl"
           }
          ],
          "histogram": [
           {
            "marker": {
             "pattern": {
              "fillmode": "overlay",
              "size": 10,
              "solidity": 0.2
             }
            },
            "type": "histogram"
           }
          ],
          "histogram2d": [
           {
            "colorbar": {
             "outlinewidth": 0,
             "ticks": ""
            },
            "colorscale": [
             [
              0,
              "#0d0887"
             ],
             [
              0.1111111111111111,
              "#46039f"
             ],
             [
              0.2222222222222222,
              "#7201a8"
             ],
             [
              0.3333333333333333,
              "#9c179e"
             ],
             [
              0.4444444444444444,
              "#bd3786"
             ],
             [
              0.5555555555555556,
              "#d8576b"
             ],
             [
              0.6666666666666666,
              "#ed7953"
             ],
             [
              0.7777777777777778,
              "#fb9f3a"
             ],
             [
              0.8888888888888888,
              "#fdca26"
             ],
             [
              1,
              "#f0f921"
             ]
            ],
            "type": "histogram2d"
           }
          ],
          "histogram2dcontour": [
           {
            "colorbar": {
             "outlinewidth": 0,
             "ticks": ""
            },
            "colorscale": [
             [
              0,
              "#0d0887"
             ],
             [
              0.1111111111111111,
              "#46039f"
             ],
             [
              0.2222222222222222,
              "#7201a8"
             ],
             [
              0.3333333333333333,
              "#9c179e"
             ],
             [
              0.4444444444444444,
              "#bd3786"
             ],
             [
              0.5555555555555556,
              "#d8576b"
             ],
             [
              0.6666666666666666,
              "#ed7953"
             ],
             [
              0.7777777777777778,
              "#fb9f3a"
             ],
             [
              0.8888888888888888,
              "#fdca26"
             ],
             [
              1,
              "#f0f921"
             ]
            ],
            "type": "histogram2dcontour"
           }
          ],
          "mesh3d": [
           {
            "colorbar": {
             "outlinewidth": 0,
             "ticks": ""
            },
            "type": "mesh3d"
           }
          ],
          "parcoords": [
           {
            "line": {
             "colorbar": {
              "outlinewidth": 0,
              "ticks": ""
             }
            },
            "type": "parcoords"
           }
          ],
          "pie": [
           {
            "automargin": true,
            "type": "pie"
           }
          ],
          "scatter": [
           {
            "marker": {
             "colorbar": {
              "outlinewidth": 0,
              "ticks": ""
             }
            },
            "type": "scatter"
           }
          ],
          "scatter3d": [
           {
            "line": {
             "colorbar": {
              "outlinewidth": 0,
              "ticks": ""
             }
            },
            "marker": {
             "colorbar": {
              "outlinewidth": 0,
              "ticks": ""
             }
            },
            "type": "scatter3d"
           }
          ],
          "scattercarpet": [
           {
            "marker": {
             "colorbar": {
              "outlinewidth": 0,
              "ticks": ""
             }
            },
            "type": "scattercarpet"
           }
          ],
          "scattergeo": [
           {
            "marker": {
             "colorbar": {
              "outlinewidth": 0,
              "ticks": ""
             }
            },
            "type": "scattergeo"
           }
          ],
          "scattergl": [
           {
            "marker": {
             "colorbar": {
              "outlinewidth": 0,
              "ticks": ""
             }
            },
            "type": "scattergl"
           }
          ],
          "scattermapbox": [
           {
            "marker": {
             "colorbar": {
              "outlinewidth": 0,
              "ticks": ""
             }
            },
            "type": "scattermapbox"
           }
          ],
          "scatterpolar": [
           {
            "marker": {
             "colorbar": {
              "outlinewidth": 0,
              "ticks": ""
             }
            },
            "type": "scatterpolar"
           }
          ],
          "scatterpolargl": [
           {
            "marker": {
             "colorbar": {
              "outlinewidth": 0,
              "ticks": ""
             }
            },
            "type": "scatterpolargl"
           }
          ],
          "scatterternary": [
           {
            "marker": {
             "colorbar": {
              "outlinewidth": 0,
              "ticks": ""
             }
            },
            "type": "scatterternary"
           }
          ],
          "surface": [
           {
            "colorbar": {
             "outlinewidth": 0,
             "ticks": ""
            },
            "colorscale": [
             [
              0,
              "#0d0887"
             ],
             [
              0.1111111111111111,
              "#46039f"
             ],
             [
              0.2222222222222222,
              "#7201a8"
             ],
             [
              0.3333333333333333,
              "#9c179e"
             ],
             [
              0.4444444444444444,
              "#bd3786"
             ],
             [
              0.5555555555555556,
              "#d8576b"
             ],
             [
              0.6666666666666666,
              "#ed7953"
             ],
             [
              0.7777777777777778,
              "#fb9f3a"
             ],
             [
              0.8888888888888888,
              "#fdca26"
             ],
             [
              1,
              "#f0f921"
             ]
            ],
            "type": "surface"
           }
          ],
          "table": [
           {
            "cells": {
             "fill": {
              "color": "#EBF0F8"
             },
             "line": {
              "color": "white"
             }
            },
            "header": {
             "fill": {
              "color": "#C8D4E3"
             },
             "line": {
              "color": "white"
             }
            },
            "type": "table"
           }
          ]
         },
         "layout": {
          "annotationdefaults": {
           "arrowcolor": "#2a3f5f",
           "arrowhead": 0,
           "arrowwidth": 1
          },
          "autotypenumbers": "strict",
          "coloraxis": {
           "colorbar": {
            "outlinewidth": 0,
            "ticks": ""
           }
          },
          "colorscale": {
           "diverging": [
            [
             0,
             "#8e0152"
            ],
            [
             0.1,
             "#c51b7d"
            ],
            [
             0.2,
             "#de77ae"
            ],
            [
             0.3,
             "#f1b6da"
            ],
            [
             0.4,
             "#fde0ef"
            ],
            [
             0.5,
             "#f7f7f7"
            ],
            [
             0.6,
             "#e6f5d0"
            ],
            [
             0.7,
             "#b8e186"
            ],
            [
             0.8,
             "#7fbc41"
            ],
            [
             0.9,
             "#4d9221"
            ],
            [
             1,
             "#276419"
            ]
           ],
           "sequential": [
            [
             0,
             "#0d0887"
            ],
            [
             0.1111111111111111,
             "#46039f"
            ],
            [
             0.2222222222222222,
             "#7201a8"
            ],
            [
             0.3333333333333333,
             "#9c179e"
            ],
            [
             0.4444444444444444,
             "#bd3786"
            ],
            [
             0.5555555555555556,
             "#d8576b"
            ],
            [
             0.6666666666666666,
             "#ed7953"
            ],
            [
             0.7777777777777778,
             "#fb9f3a"
            ],
            [
             0.8888888888888888,
             "#fdca26"
            ],
            [
             1,
             "#f0f921"
            ]
           ],
           "sequentialminus": [
            [
             0,
             "#0d0887"
            ],
            [
             0.1111111111111111,
             "#46039f"
            ],
            [
             0.2222222222222222,
             "#7201a8"
            ],
            [
             0.3333333333333333,
             "#9c179e"
            ],
            [
             0.4444444444444444,
             "#bd3786"
            ],
            [
             0.5555555555555556,
             "#d8576b"
            ],
            [
             0.6666666666666666,
             "#ed7953"
            ],
            [
             0.7777777777777778,
             "#fb9f3a"
            ],
            [
             0.8888888888888888,
             "#fdca26"
            ],
            [
             1,
             "#f0f921"
            ]
           ]
          },
          "colorway": [
           "#636efa",
           "#EF553B",
           "#00cc96",
           "#ab63fa",
           "#FFA15A",
           "#19d3f3",
           "#FF6692",
           "#B6E880",
           "#FF97FF",
           "#FECB52"
          ],
          "font": {
           "color": "#2a3f5f"
          },
          "geo": {
           "bgcolor": "white",
           "lakecolor": "white",
           "landcolor": "#E5ECF6",
           "showlakes": true,
           "showland": true,
           "subunitcolor": "white"
          },
          "hoverlabel": {
           "align": "left"
          },
          "hovermode": "closest",
          "mapbox": {
           "style": "light"
          },
          "paper_bgcolor": "white",
          "plot_bgcolor": "#E5ECF6",
          "polar": {
           "angularaxis": {
            "gridcolor": "white",
            "linecolor": "white",
            "ticks": ""
           },
           "bgcolor": "#E5ECF6",
           "radialaxis": {
            "gridcolor": "white",
            "linecolor": "white",
            "ticks": ""
           }
          },
          "scene": {
           "xaxis": {
            "backgroundcolor": "#E5ECF6",
            "gridcolor": "white",
            "gridwidth": 2,
            "linecolor": "white",
            "showbackground": true,
            "ticks": "",
            "zerolinecolor": "white"
           },
           "yaxis": {
            "backgroundcolor": "#E5ECF6",
            "gridcolor": "white",
            "gridwidth": 2,
            "linecolor": "white",
            "showbackground": true,
            "ticks": "",
            "zerolinecolor": "white"
           },
           "zaxis": {
            "backgroundcolor": "#E5ECF6",
            "gridcolor": "white",
            "gridwidth": 2,
            "linecolor": "white",
            "showbackground": true,
            "ticks": "",
            "zerolinecolor": "white"
           }
          },
          "shapedefaults": {
           "line": {
            "color": "#2a3f5f"
           }
          },
          "ternary": {
           "aaxis": {
            "gridcolor": "white",
            "linecolor": "white",
            "ticks": ""
           },
           "baxis": {
            "gridcolor": "white",
            "linecolor": "white",
            "ticks": ""
           },
           "bgcolor": "#E5ECF6",
           "caxis": {
            "gridcolor": "white",
            "linecolor": "white",
            "ticks": ""
           }
          },
          "title": {
           "x": 0.05
          },
          "xaxis": {
           "automargin": true,
           "gridcolor": "white",
           "linecolor": "white",
           "ticks": "",
           "title": {
            "standoff": 15
           },
           "zerolinecolor": "white",
           "zerolinewidth": 2
          },
          "yaxis": {
           "automargin": true,
           "gridcolor": "white",
           "linecolor": "white",
           "ticks": "",
           "title": {
            "standoff": 15
           },
           "zerolinecolor": "white",
           "zerolinewidth": 2
          }
         }
        },
        "xaxis": {
         "anchor": "y",
         "domain": [
          0,
          1
         ],
         "type": "date"
        },
        "yaxis": {
         "anchor": "x",
         "autorange": "reversed",
         "domain": [
          0,
          1
         ],
         "title": {
          "text": "Username"
         }
        }
       }
      },
      "text/html": [
       "<div>                            <div id=\"0bda1617-03c4-4d10-86e6-060395a82028\" class=\"plotly-graph-div\" style=\"height:525px; width:100%;\"></div>            <script type=\"text/javascript\">                require([\"plotly\"], function(Plotly) {                    window.PLOTLYENV=window.PLOTLYENV || {};                                    if (document.getElementById(\"0bda1617-03c4-4d10-86e6-060395a82028\")) {                    Plotly.newPlot(                        \"0bda1617-03c4-4d10-86e6-060395a82028\",                        [{\"alignmentgroup\":\"True\",\"base\":[\"2021-09-11T12:42:17.664581\",\"2021-09-11T12:47:17.664581\",\"2021-09-11T12:49:17.664581\",\"2021-09-11T12:52:17.664581\",\"2021-09-11T12:54:17.664581\",\"2021-09-11T12:56:17.664581\",\"2021-09-11T12:57:17.664581\",\"2021-09-11T12:59:17.664581\",\"2021-09-11T13:01:17.664581\",\"2021-09-11T13:02:17.664581\",\"2021-09-11T13:03:17.664581\",\"2021-09-11T13:04:17.664581\",\"2021-09-11T13:06:17.664581\",\"2021-09-11T13:07:17.664581\",\"2021-09-11T13:08:17.664581\",\"2021-09-11T13:09:17.664581\",\"2021-09-11T13:10:17.664581\",\"2021-09-11T13:11:17.664581\",\"2021-09-11T13:12:17.664581\",\"2021-09-11T13:13:17.664581\",\"2021-09-11T13:14:17.664581\",\"2021-09-11T13:15:17.664581\",\"2021-09-11T13:16:17.664581\",\"2021-09-11T13:17:17.664581\",\"2021-09-11T13:17:17.664581\",\"2021-09-11T13:18:17.664581\",\"2021-09-11T13:19:17.664581\",\"2021-09-11T13:20:17.664581\",\"2021-09-11T13:21:17.664581\",\"2021-09-11T13:22:17.664581\",\"2021-09-11T13:22:17.664581\",\"2021-09-11T13:23:17.664581\",\"2021-09-11T13:24:17.664581\",\"2021-09-11T13:24:17.664581\",\"2021-09-11T13:25:17.664581\",\"2021-09-11T13:26:17.664581\",\"2021-09-11T13:27:17.664581\",\"2021-09-11T13:27:17.664581\",\"2021-09-11T13:28:17.664581\",\"2021-09-11T13:29:17.664581\",\"2021-09-11T13:29:17.664581\",\"2021-09-11T13:30:17.664581\",\"2021-09-11T13:31:17.664581\",\"2021-09-11T13:31:17.664581\",\"2021-09-11T13:32:17.664581\",\"2021-09-11T13:32:17.664581\",\"2021-09-11T13:33:17.664581\",\"2021-09-11T13:34:17.664581\",\"2021-09-11T13:34:17.664581\",\"2021-09-11T13:35:17.664581\",\"2021-09-11T13:36:17.664581\",\"2021-09-11T13:36:17.664581\",\"2021-09-11T13:37:17.664581\",\"2021-09-11T13:37:17.664581\",\"2021-09-11T13:38:17.664581\",\"2021-09-11T13:38:17.664581\",\"2021-09-11T13:39:17.664581\",\"2021-09-11T13:39:17.664581\",\"2021-09-11T13:40:17.664581\",\"2021-09-11T13:41:17.664581\",\"2021-09-11T13:41:17.664581\",\"2021-09-11T13:42:17.664581\",\"2021-09-11T13:42:17.664581\",\"2021-09-11T13:43:17.664581\",\"2021-09-11T13:43:17.664581\",\"2021-09-11T13:44:17.664581\",\"2021-09-11T13:44:17.664581\",\"2021-09-11T13:45:17.664581\",\"2021-09-11T13:45:17.664581\",\"2021-09-11T13:46:17.664581\",\"2021-09-11T13:46:17.664581\",\"2021-09-11T13:47:17.664581\",\"2021-09-11T13:47:17.664581\",\"2021-09-11T13:48:17.664581\",\"2021-09-11T13:48:17.664581\",\"2021-09-11T13:49:17.664581\",\"2021-09-11T13:49:17.664581\",\"2021-09-11T13:50:17.664581\",\"2021-09-11T13:50:17.664581\",\"2021-09-11T13:51:17.664581\",\"2021-09-11T13:51:17.664581\",\"2021-09-11T13:52:17.664581\",\"2021-09-11T13:52:17.664581\",\"2021-09-11T13:52:17.664581\",\"2021-09-11T13:53:17.664581\",\"2021-09-11T13:53:17.664581\",\"2021-09-11T13:54:17.664581\",\"2021-09-11T13:54:17.664581\",\"2021-09-11T13:55:17.664581\",\"2021-09-11T13:55:17.664581\",\"2021-09-11T13:56:17.664581\",\"2021-09-11T13:56:17.664581\",\"2021-09-11T13:57:17.664581\",\"2021-09-11T13:57:17.664581\",\"2021-09-11T13:57:17.664581\",\"2021-09-11T13:58:17.664581\",\"2021-09-11T13:58:17.664581\",\"2021-09-11T13:59:17.664581\",\"2021-09-11T13:59:17.664581\",\"2021-09-11T13:59:17.664581\",\"2021-09-11T14:00:17.664581\",\"2021-09-11T14:00:17.664581\",\"2021-09-11T14:01:17.664581\",\"2021-09-11T14:01:17.664581\",\"2021-09-11T14:02:17.664581\",\"2021-09-11T14:02:17.664581\",\"2021-09-11T14:02:17.664581\",\"2021-09-11T14:03:17.664581\",\"2021-09-11T14:03:17.664581\",\"2021-09-11T14:04:17.664581\",\"2021-09-11T14:04:17.664581\",\"2021-09-11T14:04:17.664581\",\"2021-09-11T14:05:17.664581\",\"2021-09-11T14:05:17.664581\",\"2021-09-11T14:06:17.664581\",\"2021-09-11T14:06:17.664581\",\"2021-09-11T14:06:17.664581\",\"2021-09-11T14:07:17.664581\",\"2021-09-11T14:07:17.664581\",\"2021-09-11T14:07:17.664581\",\"2021-09-11T14:08:17.664581\",\"2021-09-11T14:08:17.664581\",\"2021-09-11T14:09:17.664581\",\"2021-09-11T14:09:17.664581\",\"2021-09-11T14:09:17.664581\",\"2021-09-11T14:10:17.664581\",\"2021-09-11T14:10:17.664581\",\"2021-09-11T14:11:17.664581\",\"2021-09-11T14:11:17.664581\",\"2021-09-11T14:11:17.664581\",\"2021-09-11T14:12:17.664581\",\"2021-09-11T14:12:17.664581\",\"2021-09-11T14:12:17.664581\",\"2021-09-11T14:13:17.664581\",\"2021-09-11T14:13:17.664581\",\"2021-09-11T14:13:17.664581\",\"2021-09-11T14:14:17.664581\",\"2021-09-11T14:14:17.664581\",\"2021-09-11T14:14:17.664581\",\"2021-09-11T14:15:17.664581\",\"2021-09-11T14:15:17.664581\",\"2021-09-11T14:16:17.664581\",\"2021-09-11T14:16:17.664581\",\"2021-09-11T14:16:17.664581\",\"2021-09-11T14:17:17.664581\",\"2021-09-11T14:17:17.664581\",\"2021-09-11T14:17:17.664581\",\"2021-09-11T14:18:17.664581\",\"2021-09-11T14:18:17.664581\",\"2021-09-11T14:18:17.664581\",\"2021-09-11T14:19:17.664581\",\"2021-09-11T14:19:17.664581\",\"2021-09-11T14:19:17.664581\",\"2021-09-11T14:20:17.664581\",\"2021-09-11T14:20:17.664581\",\"2021-09-11T14:20:17.664581\",\"2021-09-11T14:21:17.664581\",\"2021-09-11T14:21:17.664581\",\"2021-09-11T14:21:17.664581\"],\"hovertemplate\":\"Start=%{base}<br>Finish=%{x}<br>Username=%{y}<extra></extra>\",\"legendgroup\":\"\",\"marker\":{\"color\":\"#636efa\"},\"name\":\"\",\"offsetgroup\":\"\",\"orientation\":\"h\",\"showlegend\":false,\"textposition\":\"auto\",\"type\":\"bar\",\"x\":[300000.0,300000.0,300000.0,300000.0,300000.0,300000.0,300000.0,300000.0,300000.0,300000.0,300000.0,300000.0,300000.0,300000.0,300000.0,300000.0,300000.0,300000.0,300000.0,300000.0,300000.0,300000.0,300000.0,300000.0,300000.0,300000.0,300000.0,300000.0,300000.0,300000.0,300000.0,300000.0,300000.0,300000.0,300000.0,300000.0,300000.0,300000.0,300000.0,300000.0,300000.0,300000.0,300000.0,300000.0,300000.0,300000.0,300000.0,300000.0,300000.0,300000.0,300000.0,300000.0,300000.0,300000.0,300000.0,300000.0,300000.0,300000.0,300000.0,300000.0,300000.0,300000.0,300000.0,300000.0,300000.0,300000.0,300000.0,300000.0,300000.0,300000.0,300000.0,300000.0,300000.0,300000.0,300000.0,300000.0,300000.0,300000.0,300000.0,300000.0,300000.0,300000.0,300000.0,300000.0,300000.0,300000.0,300000.0,300000.0,300000.0,300000.0,300000.0,300000.0,300000.0,300000.0,300000.0,300000.0,300000.0,300000.0,300000.0,300000.0,300000.0,300000.0,300000.0,300000.0,300000.0,300000.0,300000.0,300000.0,300000.0,300000.0,300000.0,300000.0,300000.0,300000.0,300000.0,300000.0,300000.0,300000.0,300000.0,300000.0,300000.0,300000.0,300000.0,300000.0,300000.0,300000.0,300000.0,300000.0,300000.0,300000.0,300000.0,300000.0,300000.0,300000.0,300000.0,300000.0,300000.0,300000.0,300000.0,300000.0,300000.0,300000.0,300000.0,300000.0,null,null,null,null,null,null,null,null,null,null,null,null,null,null,null],\"xaxis\":\"x\",\"y\":[\"User-0\",\"User-1\",\"User-0\",\"User-2\",\"User-1\",\"User-0\",\"User-3\",\"User-2\",\"User-1\",\"User-4\",\"User-0\",\"User-3\",\"User-2\",\"User-5\",\"User-1\",\"User-4\",\"User-0\",\"User-3\",\"User-6\",\"User-2\",\"User-5\",\"User-1\",\"User-4\",\"User-7\",\"User-0\",\"User-3\",\"User-6\",\"User-2\",\"User-5\",\"User-8\",\"User-1\",\"User-4\",\"User-7\",\"User-0\",\"User-3\",\"User-6\",\"User-9\",\"User-2\",\"User-5\",\"User-8\",\"User-1\",\"User-4\",\"User-7\",\"User-0\",\"User-10\",\"User-3\",\"User-6\",\"User-9\",\"User-2\",\"User-5\",\"User-8\",\"User-1\",\"User-11\",\"User-4\",\"User-7\",\"User-0\",\"User-10\",\"User-3\",\"User-6\",\"User-9\",\"User-2\",\"User-12\",\"User-5\",\"User-8\",\"User-1\",\"User-11\",\"User-4\",\"User-7\",\"User-0\",\"User-10\",\"User-3\",\"User-13\",\"User-6\",\"User-9\",\"User-2\",\"User-12\",\"User-5\",\"User-8\",\"User-1\",\"User-11\",\"User-4\",\"User-14\",\"User-7\",\"User-0\",\"User-10\",\"User-3\",\"User-13\",\"User-6\",\"User-9\",\"User-2\",\"User-12\",\"User-5\",\"User-15\",\"User-8\",\"User-1\",\"User-11\",\"User-4\",\"User-14\",\"User-7\",\"User-0\",\"User-10\",\"User-3\",\"User-13\",\"User-6\",\"User-16\",\"User-9\",\"User-2\",\"User-12\",\"User-5\",\"User-15\",\"User-8\",\"User-1\",\"User-11\",\"User-4\",\"User-14\",\"User-7\",\"User-0\",\"User-17\",\"User-10\",\"User-3\",\"User-13\",\"User-6\",\"User-16\",\"User-9\",\"User-2\",\"User-12\",\"User-5\",\"User-15\",\"User-8\",\"User-1\",\"User-18\",\"User-11\",\"User-4\",\"User-14\",\"User-7\",\"User-0\",\"User-17\",\"User-10\",\"User-3\",\"User-13\",\"User-6\",\"User-16\",\"User-9\",\"User-2\",\"User-19\",\"User-12\",\"User-5\",\"User-15\",\"User-8\",\"User-1\",\"User-18\",\"User-11\",\"User-4\",\"User-14\",\"User-7\",\"User-0\",\"User-17\",\"User-10\",\"User-3\"],\"yaxis\":\"y\"}],                        {\"barmode\":\"overlay\",\"legend\":{\"tracegroupgap\":0},\"margin\":{\"t\":60},\"template\":{\"data\":{\"bar\":[{\"error_x\":{\"color\":\"#2a3f5f\"},\"error_y\":{\"color\":\"#2a3f5f\"},\"marker\":{\"line\":{\"color\":\"#E5ECF6\",\"width\":0.5},\"pattern\":{\"fillmode\":\"overlay\",\"size\":10,\"solidity\":0.2}},\"type\":\"bar\"}],\"barpolar\":[{\"marker\":{\"line\":{\"color\":\"#E5ECF6\",\"width\":0.5},\"pattern\":{\"fillmode\":\"overlay\",\"size\":10,\"solidity\":0.2}},\"type\":\"barpolar\"}],\"carpet\":[{\"aaxis\":{\"endlinecolor\":\"#2a3f5f\",\"gridcolor\":\"white\",\"linecolor\":\"white\",\"minorgridcolor\":\"white\",\"startlinecolor\":\"#2a3f5f\"},\"baxis\":{\"endlinecolor\":\"#2a3f5f\",\"gridcolor\":\"white\",\"linecolor\":\"white\",\"minorgridcolor\":\"white\",\"startlinecolor\":\"#2a3f5f\"},\"type\":\"carpet\"}],\"choropleth\":[{\"colorbar\":{\"outlinewidth\":0,\"ticks\":\"\"},\"type\":\"choropleth\"}],\"contour\":[{\"colorbar\":{\"outlinewidth\":0,\"ticks\":\"\"},\"colorscale\":[[0.0,\"#0d0887\"],[0.1111111111111111,\"#46039f\"],[0.2222222222222222,\"#7201a8\"],[0.3333333333333333,\"#9c179e\"],[0.4444444444444444,\"#bd3786\"],[0.5555555555555556,\"#d8576b\"],[0.6666666666666666,\"#ed7953\"],[0.7777777777777778,\"#fb9f3a\"],[0.8888888888888888,\"#fdca26\"],[1.0,\"#f0f921\"]],\"type\":\"contour\"}],\"contourcarpet\":[{\"colorbar\":{\"outlinewidth\":0,\"ticks\":\"\"},\"type\":\"contourcarpet\"}],\"heatmap\":[{\"colorbar\":{\"outlinewidth\":0,\"ticks\":\"\"},\"colorscale\":[[0.0,\"#0d0887\"],[0.1111111111111111,\"#46039f\"],[0.2222222222222222,\"#7201a8\"],[0.3333333333333333,\"#9c179e\"],[0.4444444444444444,\"#bd3786\"],[0.5555555555555556,\"#d8576b\"],[0.6666666666666666,\"#ed7953\"],[0.7777777777777778,\"#fb9f3a\"],[0.8888888888888888,\"#fdca26\"],[1.0,\"#f0f921\"]],\"type\":\"heatmap\"}],\"heatmapgl\":[{\"colorbar\":{\"outlinewidth\":0,\"ticks\":\"\"},\"colorscale\":[[0.0,\"#0d0887\"],[0.1111111111111111,\"#46039f\"],[0.2222222222222222,\"#7201a8\"],[0.3333333333333333,\"#9c179e\"],[0.4444444444444444,\"#bd3786\"],[0.5555555555555556,\"#d8576b\"],[0.6666666666666666,\"#ed7953\"],[0.7777777777777778,\"#fb9f3a\"],[0.8888888888888888,\"#fdca26\"],[1.0,\"#f0f921\"]],\"type\":\"heatmapgl\"}],\"histogram\":[{\"marker\":{\"pattern\":{\"fillmode\":\"overlay\",\"size\":10,\"solidity\":0.2}},\"type\":\"histogram\"}],\"histogram2d\":[{\"colorbar\":{\"outlinewidth\":0,\"ticks\":\"\"},\"colorscale\":[[0.0,\"#0d0887\"],[0.1111111111111111,\"#46039f\"],[0.2222222222222222,\"#7201a8\"],[0.3333333333333333,\"#9c179e\"],[0.4444444444444444,\"#bd3786\"],[0.5555555555555556,\"#d8576b\"],[0.6666666666666666,\"#ed7953\"],[0.7777777777777778,\"#fb9f3a\"],[0.8888888888888888,\"#fdca26\"],[1.0,\"#f0f921\"]],\"type\":\"histogram2d\"}],\"histogram2dcontour\":[{\"colorbar\":{\"outlinewidth\":0,\"ticks\":\"\"},\"colorscale\":[[0.0,\"#0d0887\"],[0.1111111111111111,\"#46039f\"],[0.2222222222222222,\"#7201a8\"],[0.3333333333333333,\"#9c179e\"],[0.4444444444444444,\"#bd3786\"],[0.5555555555555556,\"#d8576b\"],[0.6666666666666666,\"#ed7953\"],[0.7777777777777778,\"#fb9f3a\"],[0.8888888888888888,\"#fdca26\"],[1.0,\"#f0f921\"]],\"type\":\"histogram2dcontour\"}],\"mesh3d\":[{\"colorbar\":{\"outlinewidth\":0,\"ticks\":\"\"},\"type\":\"mesh3d\"}],\"parcoords\":[{\"line\":{\"colorbar\":{\"outlinewidth\":0,\"ticks\":\"\"}},\"type\":\"parcoords\"}],\"pie\":[{\"automargin\":true,\"type\":\"pie\"}],\"scatter\":[{\"marker\":{\"colorbar\":{\"outlinewidth\":0,\"ticks\":\"\"}},\"type\":\"scatter\"}],\"scatter3d\":[{\"line\":{\"colorbar\":{\"outlinewidth\":0,\"ticks\":\"\"}},\"marker\":{\"colorbar\":{\"outlinewidth\":0,\"ticks\":\"\"}},\"type\":\"scatter3d\"}],\"scattercarpet\":[{\"marker\":{\"colorbar\":{\"outlinewidth\":0,\"ticks\":\"\"}},\"type\":\"scattercarpet\"}],\"scattergeo\":[{\"marker\":{\"colorbar\":{\"outlinewidth\":0,\"ticks\":\"\"}},\"type\":\"scattergeo\"}],\"scattergl\":[{\"marker\":{\"colorbar\":{\"outlinewidth\":0,\"ticks\":\"\"}},\"type\":\"scattergl\"}],\"scattermapbox\":[{\"marker\":{\"colorbar\":{\"outlinewidth\":0,\"ticks\":\"\"}},\"type\":\"scattermapbox\"}],\"scatterpolar\":[{\"marker\":{\"colorbar\":{\"outlinewidth\":0,\"ticks\":\"\"}},\"type\":\"scatterpolar\"}],\"scatterpolargl\":[{\"marker\":{\"colorbar\":{\"outlinewidth\":0,\"ticks\":\"\"}},\"type\":\"scatterpolargl\"}],\"scatterternary\":[{\"marker\":{\"colorbar\":{\"outlinewidth\":0,\"ticks\":\"\"}},\"type\":\"scatterternary\"}],\"surface\":[{\"colorbar\":{\"outlinewidth\":0,\"ticks\":\"\"},\"colorscale\":[[0.0,\"#0d0887\"],[0.1111111111111111,\"#46039f\"],[0.2222222222222222,\"#7201a8\"],[0.3333333333333333,\"#9c179e\"],[0.4444444444444444,\"#bd3786\"],[0.5555555555555556,\"#d8576b\"],[0.6666666666666666,\"#ed7953\"],[0.7777777777777778,\"#fb9f3a\"],[0.8888888888888888,\"#fdca26\"],[1.0,\"#f0f921\"]],\"type\":\"surface\"}],\"table\":[{\"cells\":{\"fill\":{\"color\":\"#EBF0F8\"},\"line\":{\"color\":\"white\"}},\"header\":{\"fill\":{\"color\":\"#C8D4E3\"},\"line\":{\"color\":\"white\"}},\"type\":\"table\"}]},\"layout\":{\"annotationdefaults\":{\"arrowcolor\":\"#2a3f5f\",\"arrowhead\":0,\"arrowwidth\":1},\"autotypenumbers\":\"strict\",\"coloraxis\":{\"colorbar\":{\"outlinewidth\":0,\"ticks\":\"\"}},\"colorscale\":{\"diverging\":[[0,\"#8e0152\"],[0.1,\"#c51b7d\"],[0.2,\"#de77ae\"],[0.3,\"#f1b6da\"],[0.4,\"#fde0ef\"],[0.5,\"#f7f7f7\"],[0.6,\"#e6f5d0\"],[0.7,\"#b8e186\"],[0.8,\"#7fbc41\"],[0.9,\"#4d9221\"],[1,\"#276419\"]],\"sequential\":[[0.0,\"#0d0887\"],[0.1111111111111111,\"#46039f\"],[0.2222222222222222,\"#7201a8\"],[0.3333333333333333,\"#9c179e\"],[0.4444444444444444,\"#bd3786\"],[0.5555555555555556,\"#d8576b\"],[0.6666666666666666,\"#ed7953\"],[0.7777777777777778,\"#fb9f3a\"],[0.8888888888888888,\"#fdca26\"],[1.0,\"#f0f921\"]],\"sequentialminus\":[[0.0,\"#0d0887\"],[0.1111111111111111,\"#46039f\"],[0.2222222222222222,\"#7201a8\"],[0.3333333333333333,\"#9c179e\"],[0.4444444444444444,\"#bd3786\"],[0.5555555555555556,\"#d8576b\"],[0.6666666666666666,\"#ed7953\"],[0.7777777777777778,\"#fb9f3a\"],[0.8888888888888888,\"#fdca26\"],[1.0,\"#f0f921\"]]},\"colorway\":[\"#636efa\",\"#EF553B\",\"#00cc96\",\"#ab63fa\",\"#FFA15A\",\"#19d3f3\",\"#FF6692\",\"#B6E880\",\"#FF97FF\",\"#FECB52\"],\"font\":{\"color\":\"#2a3f5f\"},\"geo\":{\"bgcolor\":\"white\",\"lakecolor\":\"white\",\"landcolor\":\"#E5ECF6\",\"showlakes\":true,\"showland\":true,\"subunitcolor\":\"white\"},\"hoverlabel\":{\"align\":\"left\"},\"hovermode\":\"closest\",\"mapbox\":{\"style\":\"light\"},\"paper_bgcolor\":\"white\",\"plot_bgcolor\":\"#E5ECF6\",\"polar\":{\"angularaxis\":{\"gridcolor\":\"white\",\"linecolor\":\"white\",\"ticks\":\"\"},\"bgcolor\":\"#E5ECF6\",\"radialaxis\":{\"gridcolor\":\"white\",\"linecolor\":\"white\",\"ticks\":\"\"}},\"scene\":{\"xaxis\":{\"backgroundcolor\":\"#E5ECF6\",\"gridcolor\":\"white\",\"gridwidth\":2,\"linecolor\":\"white\",\"showbackground\":true,\"ticks\":\"\",\"zerolinecolor\":\"white\"},\"yaxis\":{\"backgroundcolor\":\"#E5ECF6\",\"gridcolor\":\"white\",\"gridwidth\":2,\"linecolor\":\"white\",\"showbackground\":true,\"ticks\":\"\",\"zerolinecolor\":\"white\"},\"zaxis\":{\"backgroundcolor\":\"#E5ECF6\",\"gridcolor\":\"white\",\"gridwidth\":2,\"linecolor\":\"white\",\"showbackground\":true,\"ticks\":\"\",\"zerolinecolor\":\"white\"}},\"shapedefaults\":{\"line\":{\"color\":\"#2a3f5f\"}},\"ternary\":{\"aaxis\":{\"gridcolor\":\"white\",\"linecolor\":\"white\",\"ticks\":\"\"},\"baxis\":{\"gridcolor\":\"white\",\"linecolor\":\"white\",\"ticks\":\"\"},\"bgcolor\":\"#E5ECF6\",\"caxis\":{\"gridcolor\":\"white\",\"linecolor\":\"white\",\"ticks\":\"\"}},\"title\":{\"x\":0.05},\"xaxis\":{\"automargin\":true,\"gridcolor\":\"white\",\"linecolor\":\"white\",\"ticks\":\"\",\"title\":{\"standoff\":15},\"zerolinecolor\":\"white\",\"zerolinewidth\":2},\"yaxis\":{\"automargin\":true,\"gridcolor\":\"white\",\"linecolor\":\"white\",\"ticks\":\"\",\"title\":{\"standoff\":15},\"zerolinecolor\":\"white\",\"zerolinewidth\":2}}},\"xaxis\":{\"anchor\":\"y\",\"domain\":[0.0,1.0],\"type\":\"date\"},\"yaxis\":{\"anchor\":\"x\",\"autorange\":\"reversed\",\"domain\":[0.0,1.0],\"title\":{\"text\":\"Username\"}}},                        {\"responsive\": true}                    ).then(function(){\n",
       "                            \n",
       "var gd = document.getElementById('0bda1617-03c4-4d10-86e6-060395a82028');\n",
       "var x = new MutationObserver(function (mutations, observer) {{\n",
       "        var display = window.getComputedStyle(gd).display;\n",
       "        if (!display || display === 'none') {{\n",
       "            console.log([gd, 'removed!']);\n",
       "            Plotly.purge(gd);\n",
       "            observer.disconnect();\n",
       "        }}\n",
       "}});\n",
       "\n",
       "// Listen for the removal of the full notebook cells\n",
       "var notebookContainer = gd.closest('#notebook-container');\n",
       "if (notebookContainer) {{\n",
       "    x.observe(notebookContainer, {childList: true});\n",
       "}}\n",
       "\n",
       "// Listen for the clearing of the current output cell\n",
       "var outputEl = gd.closest('.output');\n",
       "if (outputEl) {{\n",
       "    x.observe(outputEl, {childList: true});\n",
       "}}\n",
       "\n",
       "                        })                };                });            </script>        </div>"
      ]
     },
     "metadata": {},
     "output_type": "display_data"
    }
   ],
   "source": [
    "fig = px.timeline(df_users, x_start=\"Start\", x_end=\"Finish\", y=\"Username\")\n",
    "fig.update_yaxes(autorange=\"reversed\") # otherwise tasks are listed from the bottom up\n",
    "fig.show()"
   ]
  },
  {
   "cell_type": "code",
   "execution_count": null,
   "metadata": {},
   "outputs": [],
   "source": []
  }
 ],
 "metadata": {
  "kernelspec": {
   "display_name": "Python 3",
   "language": "python",
   "name": "python3"
  },
  "language_info": {
   "codemirror_mode": {
    "name": "ipython",
    "version": 3
   },
   "file_extension": ".py",
   "mimetype": "text/x-python",
   "name": "python",
   "nbconvert_exporter": "python",
   "pygments_lexer": "ipython3",
   "version": "3.7.3"
  }
 },
 "nbformat": 4,
 "nbformat_minor": 2
}
