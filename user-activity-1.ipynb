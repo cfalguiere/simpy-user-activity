{
 "cells": [
  {
   "cell_type": "code",
   "execution_count": 21,
   "metadata": {},
   "outputs": [
    {
     "name": "stdout",
     "output_type": "stream",
     "text": [
      "Requirement already satisfied: simpy in /Users/cfalguiere/anaconda3/lib/python3.7/site-packages (4.0.1)\n",
      "Collecting plotly\n",
      "\u001b[?25l  Downloading https://files.pythonhosted.org/packages/68/b2/7c7d111affebb281b1085680db7358f6204920bb5574e9e84db05c530688/plotly-5.3.1-py2.py3-none-any.whl (23.9MB)\n",
      "\u001b[K    100% |████████████████████████████████| 23.9MB 949kB/s ta 0:00:011\n",
      "\u001b[?25hCollecting tenacity>=6.2.0 (from plotly)\n",
      "  Downloading https://files.pythonhosted.org/packages/f2/a5/f86bc8d67c979020438c8559cc70cfe3a1643fd160d35e09c9cca6a09189/tenacity-8.0.1-py3-none-any.whl\n",
      "Requirement already satisfied: six in /Users/cfalguiere/anaconda3/lib/python3.7/site-packages (from plotly) (1.12.0)\n",
      "Installing collected packages: tenacity, plotly\n",
      "Successfully installed plotly-5.3.1 tenacity-8.0.1\n"
     ]
    }
   ],
   "source": [
    "!pip install simpy plotly"
   ]
  },
  {
   "cell_type": "code",
   "execution_count": 2,
   "metadata": {},
   "outputs": [],
   "source": [
    "import simpy"
   ]
  },
  {
   "cell_type": "code",
   "execution_count": null,
   "metadata": {},
   "outputs": [],
   "source": [
    "# very basic process"
   ]
  },
  {
   "cell_type": "code",
   "execution_count": null,
   "metadata": {},
   "outputs": [],
   "source": [
    "# "
   ]
  },
  {
   "cell_type": "code",
   "execution_count": 25,
   "metadata": {},
   "outputs": [],
   "source": [
    "class User():\n",
    "    def __init__(self, id, env):\n",
    "        self.id = id\n",
    "        self.env = env\n",
    "        self.name = f\"User-{id}\"\n",
    "        # Start the run process everytime an instance is created.\n",
    "        # create itself as a processs\n",
    "        self.action = env.process(self.run())\n",
    "\n",
    "    def run(self):\n",
    "        while True:\n",
    "            print(f\"{self.name} starts task at %d\" % self.env.now)\n",
    "            task_duration = 5\n",
    "            # We yield the process that process() returns\n",
    "            # to wait for it to finish\n",
    "            yield self.env.process(self.process_task(task_duration))\n",
    "            print(f\"{self.name} ends task at %d\" % self.env.now)\n",
    "\n",
    "            # The charge process has finished and\n",
    "            # we can start driving again.\n",
    "            print(f\"{self.name} starts verification at %d\" % self.env.now)\n",
    "            verification_duration = 2\n",
    "            yield self.env.timeout(verification_duration)\n",
    "            print(f\"{self.name} ends verification at %d\" % self.env.now)\n",
    "\n",
    "    def process_task(self, duration):\n",
    "        yield self.env.timeout(duration)\n"
   ]
  },
  {
   "cell_type": "code",
   "execution_count": 29,
   "metadata": {},
   "outputs": [
    {
     "name": "stdout",
     "output_type": "stream",
     "text": [
      "User-1 starts task at 0\n",
      "User-1 ends task at 5\n",
      "User-1 starts verification at 5\n",
      "User-1 ends verification at 7\n",
      "User-1 starts task at 7\n",
      "User-1 ends task at 12\n",
      "User-1 starts verification at 12\n",
      "User-1 ends verification at 14\n",
      "User-1 starts task at 14\n"
     ]
    }
   ],
   "source": [
    "env = simpy.Environment()\n",
    "user = User(1, env)\n",
    "env.run(until=15)"
   ]
  },
  {
   "cell_type": "code",
   "execution_count": 33,
   "metadata": {},
   "outputs": [],
   "source": [
    "def user_generator(size, env):\n",
    "    for i in range(size):\n",
    "        User(i, env).action\n",
    "        yield env.timeout(5)"
   ]
  },
  {
   "cell_type": "code",
   "execution_count": 34,
   "metadata": {},
   "outputs": [
    {
     "name": "stdout",
     "output_type": "stream",
     "text": [
      "User-0 starts task at 0\n",
      "User-1 starts task at 5\n",
      "User-0 ends task at 5\n",
      "User-0 starts verification at 5\n",
      "User-0 ends verification at 7\n",
      "User-0 starts task at 7\n",
      "User-2 starts task at 10\n",
      "User-1 ends task at 10\n",
      "User-1 starts verification at 10\n",
      "User-1 ends verification at 12\n",
      "User-1 starts task at 12\n",
      "User-0 ends task at 12\n",
      "User-0 starts verification at 12\n",
      "User-0 ends verification at 14\n",
      "User-0 starts task at 14\n"
     ]
    }
   ],
   "source": [
    "env = simpy.Environment()\n",
    "#user = User(env, res)\n",
    "user_gen = env.process(user_generator(4, env))\n",
    "\n",
    "env.run(until=15)"
   ]
  },
  {
   "cell_type": "code",
   "execution_count": null,
   "metadata": {},
   "outputs": [],
   "source": []
  },
  {
   "cell_type": "code",
   "execution_count": null,
   "metadata": {},
   "outputs": [],
   "source": []
  }
 ],
 "metadata": {
  "kernelspec": {
   "display_name": "Python 3",
   "language": "python",
   "name": "python3"
  },
  "language_info": {
   "codemirror_mode": {
    "name": "ipython",
    "version": 3
   },
   "file_extension": ".py",
   "mimetype": "text/x-python",
   "name": "python",
   "nbconvert_exporter": "python",
   "pygments_lexer": "ipython3",
   "version": "3.7.3"
  }
 },
 "nbformat": 4,
 "nbformat_minor": 2
}
