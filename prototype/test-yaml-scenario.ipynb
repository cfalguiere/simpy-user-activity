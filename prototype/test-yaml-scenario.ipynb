{
 "cells": [
  {
   "cell_type": "code",
   "execution_count": 1,
   "metadata": {},
   "outputs": [
    {
     "name": "stdout",
     "output_type": "stream",
     "text": [
      "Requirement already satisfied: ruamel.yaml in /Users/cfalguiere/anaconda3/lib/python3.7/site-packages (0.17.16)\n",
      "Requirement already satisfied: ruamel.yaml.clib>=0.1.2; platform_python_implementation == \"CPython\" and python_version < \"3.10\" in /Users/cfalguiere/anaconda3/lib/python3.7/site-packages (from ruamel.yaml) (0.2.6)\n"
     ]
    }
   ],
   "source": [
    "!pip install ruamel.yaml"
   ]
  },
  {
   "cell_type": "code",
   "execution_count": 7,
   "metadata": {},
   "outputs": [],
   "source": [
    "from ruamel.yaml import YAML\n",
    "from itertools import repeat"
   ]
  },
  {
   "cell_type": "code",
   "execution_count": 53,
   "metadata": {},
   "outputs": [],
   "source": [
    "session_configuration = \"\"\"\\\n",
    "session:\n",
    "    name: nominal test\n",
    "    scenarios:\n",
    "        - name: Sc1\n",
    "          weight: 2\n",
    "          steps:\n",
    "                loop:\n",
    "                    tasks:\n",
    "                        - name: step 1\n",
    "                          duration: 10\n",
    "                          resources : 50   \n",
    "                          wait: 30\n",
    "        - name: Sc2\n",
    "          weight: 10\n",
    "          steps:\n",
    "                init:\n",
    "                    tasks:\n",
    "                        - name: load data\n",
    "                          duration: 5\n",
    "                          resources : 3\n",
    "                          parallel: 10\n",
    "                        - name: verify data\n",
    "                          duration: 10\n",
    "                loop:\n",
    "                    repeat: 2\n",
    "                    tasks:\n",
    "                        - name: step 1-3\n",
    "                          duration: 2\n",
    "                          resources : 5   \n",
    "                          wait: 5\n",
    "                          repeat: 3\n",
    "                        - name: step 7\n",
    "                          duration: 5\n",
    "                          resources : 10      \n",
    "                          wait: 30\n",
    "                finally:\n",
    "                    tasks:\n",
    "                        - name: whole step\n",
    "                          duration: 3\n",
    "                          resources : 7\n",
    "                          repeat: 4       \n",
    "\n",
    "\"\"\"\n",
    "\n"
   ]
  },
  {
   "cell_type": "code",
   "execution_count": 54,
   "metadata": {},
   "outputs": [],
   "source": [
    "yaml = YAML(typ='safe')   # default, if not specfied, is 'rt' (round-trip)\n",
    "\n",
    "scenarios = yaml.load(session_configuration)\n"
   ]
  },
  {
   "cell_type": "code",
   "execution_count": 5,
   "metadata": {},
   "outputs": [
    {
     "name": "stdout",
     "output_type": "stream",
     "text": [
      "session name: nominal test\n"
     ]
    }
   ],
   "source": [
    "print(f\"session name: {scenarios['session']['name']}\")"
   ]
  },
  {
   "cell_type": "code",
   "execution_count": null,
   "metadata": {},
   "outputs": [],
   "source": [
    "# scanario "
   ]
  },
  {
   "cell_type": "code",
   "execution_count": 55,
   "metadata": {},
   "outputs": [
    {
     "name": "stdout",
     "output_type": "stream",
     "text": [
      "pool: [0, 0, 1, 1, 1, 1, 1, 1, 1, 1, 1, 1]\n"
     ]
    }
   ],
   "source": [
    "scenarios_pool = scenarios['session']['scenarios']\n",
    "#print(scenarios_pool)\n",
    "pool = []\n",
    "for i in range(len(scenarios_pool)):\n",
    "    weight = scenarios_pool[i]['weight']\n",
    "    pool.extend(repeat(i, weight))\n",
    "\n",
    "print(f\"pool: {pool}\")"
   ]
  },
  {
   "cell_type": "code",
   "execution_count": 60,
   "metadata": {},
   "outputs": [],
   "source": [
    "def run_step_tasks(tasks):\n",
    "    print(f\"run_step_tasks::tasks: {tasks}\")\n",
    "    for task in tasks:\n",
    "        #run_task(task)\n",
    "        print(f\"run_step_tasks::task: {task}\")"
   ]
  },
  {
   "cell_type": "code",
   "execution_count": 61,
   "metadata": {},
   "outputs": [],
   "source": [
    "def run_scenario(index):\n",
    "    scenario = scenarios_pool[index]\n",
    "    print(\"scenario: {scenario}\")\n",
    "    print(f\"name: {scenario['name']}\")\n",
    "    print(f\"steps: {scenario['steps']}\")\n",
    "    if 'init' in scenario['steps']:\n",
    "        print(\"has init\") \n",
    "        print(\"run_step_tasks init\")\n",
    "        run_step_tasks(scenario['steps']['init']['tasks'])\n",
    "    if 'loop' in scenario['steps']:\n",
    "        print(\"has loop\")\n",
    "        step_loop = scenario['steps']['loop']\n",
    "        if 'repeat' in step_loop:\n",
    "            counter = 0\n",
    "            while counter < step_loop['repeat']:\n",
    "                print(\"run_step_tasks loop\")\n",
    "                run_step_tasks(scenario['steps']['loop']['tasks'])\n",
    "                counter += 1\n",
    "        else:\n",
    "            print(\"run_step_tasks loop infinite\")\n",
    "            run_step_tasks(scenario['steps']['loop']['tasks'])\n",
    "    if 'finally' in scenario['steps']:\n",
    "        print(\"has finally\")\n",
    "        print(\"run_step_tasks finally\")\n",
    "        run_step_tasks(scenario['steps']['finally']['tasks'])\n",
    "\n",
    "        "
   ]
  },
  {
   "cell_type": "code",
   "execution_count": 62,
   "metadata": {},
   "outputs": [
    {
     "name": "stdout",
     "output_type": "stream",
     "text": [
      "scenario: {scenario}\n",
      "name: Sc1\n",
      "steps: {'loop': {'tasks': [{'name': 'step 1', 'duration': 10, 'resources': 50, 'wait': 30}]}}\n",
      "has loop\n",
      "run_step_tasks loop infinite\n",
      "run_step_tasks::tasks: [{'name': 'step 1', 'duration': 10, 'resources': 50, 'wait': 30}]\n",
      "run_step_tasks::task: {'name': 'step 1', 'duration': 10, 'resources': 50, 'wait': 30}\n"
     ]
    }
   ],
   "source": [
    "run_scenario(0)"
   ]
  },
  {
   "cell_type": "code",
   "execution_count": 63,
   "metadata": {},
   "outputs": [
    {
     "name": "stdout",
     "output_type": "stream",
     "text": [
      "scenario: {scenario}\n",
      "name: Sc2\n",
      "steps: {'init': {'tasks': [{'name': 'load data', 'duration': 5, 'resources': 3, 'parallel': 10}, {'name': 'verify data', 'duration': 10}]}, 'loop': {'repeat': 2, 'tasks': [{'name': 'step 1-3', 'duration': 2, 'resources': 5, 'wait': 5, 'repeat': 3}, {'name': 'step 7', 'duration': 5, 'resources': 10, 'wait': 30}]}, 'finally': {'tasks': [{'name': 'whole step', 'duration': 3, 'resources': 7, 'repeat': 4}]}}\n",
      "has init\n",
      "run_step_tasks init\n",
      "run_step_tasks::tasks: [{'name': 'load data', 'duration': 5, 'resources': 3, 'parallel': 10}, {'name': 'verify data', 'duration': 10}]\n",
      "run_step_tasks::task: {'name': 'load data', 'duration': 5, 'resources': 3, 'parallel': 10}\n",
      "run_step_tasks::task: {'name': 'verify data', 'duration': 10}\n",
      "has loop\n",
      "run_step_tasks loop\n",
      "run_step_tasks::tasks: [{'name': 'step 1-3', 'duration': 2, 'resources': 5, 'wait': 5, 'repeat': 3}, {'name': 'step 7', 'duration': 5, 'resources': 10, 'wait': 30}]\n",
      "run_step_tasks::task: {'name': 'step 1-3', 'duration': 2, 'resources': 5, 'wait': 5, 'repeat': 3}\n",
      "run_step_tasks::task: {'name': 'step 7', 'duration': 5, 'resources': 10, 'wait': 30}\n",
      "run_step_tasks loop\n",
      "run_step_tasks::tasks: [{'name': 'step 1-3', 'duration': 2, 'resources': 5, 'wait': 5, 'repeat': 3}, {'name': 'step 7', 'duration': 5, 'resources': 10, 'wait': 30}]\n",
      "run_step_tasks::task: {'name': 'step 1-3', 'duration': 2, 'resources': 5, 'wait': 5, 'repeat': 3}\n",
      "run_step_tasks::task: {'name': 'step 7', 'duration': 5, 'resources': 10, 'wait': 30}\n",
      "has finally\n",
      "run_step_tasks finally\n",
      "run_step_tasks::tasks: [{'name': 'whole step', 'duration': 3, 'resources': 7, 'repeat': 4}]\n",
      "run_step_tasks::task: {'name': 'whole step', 'duration': 3, 'resources': 7, 'repeat': 4}\n"
     ]
    }
   ],
   "source": [
    "run_scenario(1)"
   ]
  },
  {
   "cell_type": "code",
   "execution_count": null,
   "metadata": {},
   "outputs": [],
   "source": [
    "# task "
   ]
  },
  {
   "cell_type": "code",
   "execution_count": 74,
   "metadata": {},
   "outputs": [],
   "source": [
    "def run_task(task):\n",
    "    print(f\"run_task::task: {task}\")\n",
    "    max_count = 1\n",
    "    if 'repeat' in task:\n",
    "        max_count = task['repeat']\n",
    "    counter = 0\n",
    "    while counter < max_count:\n",
    "        print(f\"run_task::running task {task['name']} for {task['duration']}\")\n",
    "        if 'resources' in task:\n",
    "            res_amount = task['resources']\n",
    "            if 'parallel' in task:\n",
    "                print(f\"run_task::in parallel\")\n",
    "                res_amount = res_amount * task['parallel']\n",
    "            print(f\"run_task::resources amount {res_amount}\")\n",
    "        if 'wait' in task:\n",
    "            print(f\"run_task::then wait for {task['wait']}\")\n",
    "        counter += 1"
   ]
  },
  {
   "cell_type": "code",
   "execution_count": 75,
   "metadata": {},
   "outputs": [
    {
     "name": "stdout",
     "output_type": "stream",
     "text": [
      "run_task::task: {'name': 'step 1', 'duration': 10, 'resources': 50, 'wait': 30}\n",
      "run_task::running task step 1 for 10\n",
      "run_task::resources amount 50\n",
      "run_task::then wait for 30\n"
     ]
    }
   ],
   "source": [
    "# basic 1 task and wait\n",
    "run_task(scenarios['session']['scenarios'][0]['steps']['loop']['tasks'][0])"
   ]
  },
  {
   "cell_type": "code",
   "execution_count": 76,
   "metadata": {},
   "outputs": [
    {
     "name": "stdout",
     "output_type": "stream",
     "text": [
      "run_task::task: {'name': 'load data', 'duration': 5, 'resources': 3, 'parallel': 10}\n",
      "run_task::running task load data for 5\n",
      "run_task::in parallel\n",
      "run_task::resources amount 30\n"
     ]
    }
   ],
   "source": [
    "# parallel task\n",
    "# should multiply ammount\n",
    "run_task(scenarios['session']['scenarios'][1]['steps']['init']['tasks'][0])"
   ]
  },
  {
   "cell_type": "code",
   "execution_count": 77,
   "metadata": {},
   "outputs": [
    {
     "name": "stdout",
     "output_type": "stream",
     "text": [
      "run_task::task: {'name': 'verify data', 'duration': 10}\n",
      "run_task::running task verify data for 10\n"
     ]
    }
   ],
   "source": [
    "# no res task (verify ...)\n",
    "run_task(scenarios['session']['scenarios'][1]['steps']['init']['tasks'][1])"
   ]
  },
  {
   "cell_type": "code",
   "execution_count": 78,
   "metadata": {},
   "outputs": [
    {
     "name": "stdout",
     "output_type": "stream",
     "text": [
      "run_task::task: {'name': 'step 7', 'duration': 5, 'resources': 10, 'wait': 30}\n",
      "run_task::running task step 7 for 5\n",
      "run_task::resources amount 10\n",
      "run_task::then wait for 30\n"
     ]
    }
   ],
   "source": [
    "# task with wait\n",
    "run_task(scenarios['session']['scenarios'][1]['steps']['loop']['tasks'][1])"
   ]
  },
  {
   "cell_type": "code",
   "execution_count": 79,
   "metadata": {},
   "outputs": [
    {
     "name": "stdout",
     "output_type": "stream",
     "text": [
      "run_task::task: {'name': 'whole step', 'duration': 3, 'resources': 7, 'repeat': 4}\n",
      "run_task::running task whole step for 3\n",
      "run_task::resources amount 7\n",
      "run_task::running task whole step for 3\n",
      "run_task::resources amount 7\n",
      "run_task::running task whole step for 3\n",
      "run_task::resources amount 7\n",
      "run_task::running task whole step for 3\n",
      "run_task::resources amount 7\n"
     ]
    }
   ],
   "source": [
    "# task with repeat (no wait between repeats)\n",
    "run_task(scenarios['session']['scenarios'][1]['steps']['finally']['tasks'][0])"
   ]
  },
  {
   "cell_type": "code",
   "execution_count": 80,
   "metadata": {},
   "outputs": [
    {
     "name": "stdout",
     "output_type": "stream",
     "text": [
      "run_task::task: {'name': 'step 1-3', 'duration': 2, 'resources': 5, 'wait': 5, 'repeat': 3}\n",
      "run_task::running task step 1-3 for 2\n",
      "run_task::resources amount 5\n",
      "run_task::then wait for 5\n",
      "run_task::running task step 1-3 for 2\n",
      "run_task::resources amount 5\n",
      "run_task::then wait for 5\n",
      "run_task::running task step 1-3 for 2\n",
      "run_task::resources amount 5\n",
      "run_task::then wait for 5\n"
     ]
    }
   ],
   "source": [
    "# task with repeat (wait between repeats)\n",
    "run_task(scenarios['session']['scenarios'][1]['steps']['loop']['tasks'][0])"
   ]
  },
  {
   "cell_type": "code",
   "execution_count": null,
   "metadata": {},
   "outputs": [],
   "source": []
  }
 ],
 "metadata": {
  "kernelspec": {
   "display_name": "Python 3",
   "language": "python",
   "name": "python3"
  },
  "language_info": {
   "codemirror_mode": {
    "name": "ipython",
    "version": 3
   },
   "file_extension": ".py",
   "mimetype": "text/x-python",
   "name": "python",
   "nbconvert_exporter": "python",
   "pygments_lexer": "ipython3",
   "version": "3.7.3"
  }
 },
 "nbformat": 4,
 "nbformat_minor": 2
}
