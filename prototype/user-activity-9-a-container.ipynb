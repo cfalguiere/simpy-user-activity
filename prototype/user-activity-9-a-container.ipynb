{
 "cells": [
  {
   "cell_type": "code",
   "execution_count": 310,
   "metadata": {},
   "outputs": [
    {
     "name": "stdout",
     "output_type": "stream",
     "text": [
      "Requirement already satisfied: simpy in /Users/cfalguiere/anaconda3/lib/python3.7/site-packages (4.0.1)\r\n",
      "Requirement already satisfied: plotly in /Users/cfalguiere/anaconda3/lib/python3.7/site-packages (5.3.1)\r\n",
      "Requirement already satisfied: tenacity>=6.2.0 in /Users/cfalguiere/anaconda3/lib/python3.7/site-packages (from plotly) (8.0.1)\r\n",
      "Requirement already satisfied: six in /Users/cfalguiere/anaconda3/lib/python3.7/site-packages (from plotly) (1.12.0)\r\n"
     ]
    }
   ],
   "source": [
    "!pip install simpy plotly"
   ]
  },
  {
   "cell_type": "code",
   "execution_count": 311,
   "metadata": {},
   "outputs": [],
   "source": [
    "import simpy"
   ]
  },
  {
   "cell_type": "code",
   "execution_count": 312,
   "metadata": {},
   "outputs": [],
   "source": [
    "# "
   ]
  },
  {
   "cell_type": "code",
   "execution_count": 313,
   "metadata": {},
   "outputs": [],
   "source": [
    "class Job:\n",
    "    def __init__(self, res, items=1):\n",
    "        self.res = res\n",
    "        self.items = items\n",
    "        \n",
    "    def __enter__(self):\n",
    "        print(\"__enter__\" )\n",
    "        return self.res.get(self.items)\n",
    "\n",
    "    def __exit__(self, exc_type, exc_val, exc_tb):\n",
    "        print(\"__exit__\" )\n",
    "        self.res.put(self.items)\n"
   ]
  },
  {
   "cell_type": "code",
   "execution_count": 314,
   "metadata": {},
   "outputs": [],
   "source": [
    "class SystemResource(simpy.resources.container.Container):\n",
    "    def __init__(self, *args, **kwargs):\n",
    "        super().__init__(*args, **kwargs)\n",
    "        self.processing_data = []\n",
    "        self.waiting_data = []\n",
    "\n",
    "    def get(self, *args, **kwargs):\n",
    "        #print(f\"args {args}\" )\n",
    "        #print(f\"args {kwargs}\" )\n",
    "        amount = args[0]\n",
    "        print(f\"received request resource - amount {amount} at %d\" % self._env.now)\n",
    "        print(f\"level (available) {self.level} at %d\" % self._env.now)\n",
    "        print(f\"{len(self.get_queue)} waiting at %d\" % self._env.now)\n",
    "        print(f\"{self.used()} processing at %d\" % self._env.now)\n",
    "        self.processing_data.append((self._env.now, self.used()))\n",
    "        self.waiting_data.append((self._env.now, len(self.get_queue)))\n",
    "        return super().get(*args, **kwargs)\n",
    "\n",
    "    def put(self, *args, **kwargs):\n",
    "        amount = args[0]\n",
    "        print(f\"received release resource - amount {amount} at %d\" % self._env.now)\n",
    "        print(f\"level (available) {self.level} at %d\" % self._env.now)\n",
    "        print(f\"{len(self.get_queue)} waiting at %d\" % self._env.now)\n",
    "        print(f\"{self.used()} processing at %d\" % self._env.now)\n",
    "        self.processing_data.append((self._env.now, self.used()))\n",
    "        self.waiting_data.append((self._env.now, len(self.get_queue)))\n",
    "        return super().put(*args, **kwargs)\n",
    "\n",
    "    def used(self):\n",
    "        return self.capacity - self.level"
   ]
  },
  {
   "cell_type": "code",
   "execution_count": 315,
   "metadata": {},
   "outputs": [],
   "source": [
    "class User():\n",
    "    def __init__(self, id, env, res):\n",
    "        self.id = id\n",
    "        self.env = env\n",
    "        self.res = res\n",
    "        # Start the run process everytime an instance is created.\n",
    "        # create itself as a processs\n",
    "        self.action = env.process(self.run())\n",
    "\n",
    "    def run(self):\n",
    "        while True:\n",
    "            taskname = \"process_task\"\n",
    "            print(f\"starts task at %d\" % self.env.now)\n",
    "            #task_duration = 5\n",
    "            task_duration = 2\n",
    "            yield self.env.process(self.process_task(task_duration))\n",
    "            print(f\"ends task at %d\" % self.env.now)\n",
    "\n",
    "    def process_task(self, duration):\n",
    "        with Job(self.res,2) as req:\n",
    "            yield req\n",
    "            yield self.env.timeout(duration)\n"
   ]
  },
  {
   "cell_type": "code",
   "execution_count": 316,
   "metadata": {},
   "outputs": [
    {
     "name": "stdout",
     "output_type": "stream",
     "text": [
      "starts task at 0\n",
      "__enter__\n",
      "received request resource - amount 2 at 0\n",
      "level (available) 10 at 0\n",
      "0 waiting at 0\n",
      "0 processing at 0\n",
      "__exit__\n",
      "received release resource - amount 2 at 2\n",
      "level (available) 8 at 2\n",
      "0 waiting at 2\n",
      "2 processing at 2\n",
      "ends task at 2\n",
      "starts task at 2\n",
      "__enter__\n",
      "received request resource - amount 2 at 2\n",
      "level (available) 10 at 2\n",
      "0 waiting at 2\n",
      "0 processing at 2\n",
      "__exit__\n",
      "received release resource - amount 2 at 4\n",
      "level (available) 8 at 4\n",
      "0 waiting at 4\n",
      "2 processing at 4\n",
      "ends task at 4\n",
      "starts task at 4\n",
      "__enter__\n",
      "received request resource - amount 2 at 4\n",
      "level (available) 10 at 4\n",
      "0 waiting at 4\n",
      "0 processing at 4\n",
      "Processing\n",
      "[(0, 0), (2, 2), (2, 0), (4, 2), (4, 0)]\n",
      "Waiting\n",
      "[(0, 0), (2, 0), (2, 0), (4, 0), (4, 0)]\n"
     ]
    }
   ],
   "source": [
    "env = simpy.Environment()\n",
    "\n",
    "res = SystemResource(env, init=10, capacity=10)\n",
    "user = User(1, env, res)\n",
    "env.run(until=5)\n",
    "\n",
    "print(\"Processing\")\n",
    "print(res.processing_data)\n",
    "print(\"Waiting\")\n",
    "print(res.waiting_data)"
   ]
  },
  {
   "cell_type": "code",
   "execution_count": 317,
   "metadata": {},
   "outputs": [],
   "source": [
    "def user_generator(size, env, res):\n",
    "    for i in range(size):\n",
    "        User(i, env, res).action\n",
    "        yield env.timeout(5)"
   ]
  },
  {
   "cell_type": "code",
   "execution_count": 319,
   "metadata": {
    "scrolled": true
   },
   "outputs": [
    {
     "name": "stdout",
     "output_type": "stream",
     "text": [
      "starts task at 0\n",
      "__enter__\n",
      "received request resource - amount 2 at 0\n",
      "level (available) 2 at 0\n",
      "0 waiting at 0\n",
      "0 processing at 0\n",
      "__exit__\n",
      "received release resource - amount 2 at 2\n",
      "level (available) 0 at 2\n",
      "0 waiting at 2\n",
      "2 processing at 2\n",
      "ends task at 2\n",
      "starts task at 2\n",
      "__enter__\n",
      "received request resource - amount 2 at 2\n",
      "level (available) 2 at 2\n",
      "0 waiting at 2\n",
      "0 processing at 2\n",
      "__exit__\n",
      "received release resource - amount 2 at 4\n",
      "level (available) 0 at 4\n",
      "0 waiting at 4\n",
      "2 processing at 4\n",
      "ends task at 4\n",
      "starts task at 4\n",
      "__enter__\n",
      "received request resource - amount 2 at 4\n",
      "level (available) 2 at 4\n",
      "0 waiting at 4\n",
      "0 processing at 4\n",
      "starts task at 5\n",
      "__enter__\n",
      "received request resource - amount 2 at 5\n",
      "level (available) 0 at 5\n",
      "0 waiting at 5\n",
      "2 processing at 5\n",
      "__exit__\n",
      "received release resource - amount 2 at 6\n",
      "level (available) 0 at 6\n",
      "1 waiting at 6\n",
      "2 processing at 6\n",
      "ends task at 6\n",
      "starts task at 6\n",
      "__enter__\n",
      "received request resource - amount 2 at 6\n",
      "level (available) 0 at 6\n",
      "0 waiting at 6\n",
      "2 processing at 6\n",
      "__exit__\n",
      "received release resource - amount 2 at 8\n",
      "level (available) 0 at 8\n",
      "1 waiting at 8\n",
      "2 processing at 8\n",
      "ends task at 8\n",
      "starts task at 8\n",
      "__enter__\n",
      "received request resource - amount 2 at 8\n",
      "level (available) 0 at 8\n",
      "0 waiting at 8\n",
      "2 processing at 8\n"
     ]
    }
   ],
   "source": [
    "# au passage suppression de magix numbers\n",
    "sim_duration = 10\n",
    "nb_users = 2\n",
    "capacity = 2\n",
    "\n",
    "env = simpy.Environment()\n",
    "res = SystemResource(env, init=capacity, capacity=capacity)\n",
    "#user = User(env, res)\n",
    "user_gen = env.process(user_generator(nb_users, env, res))\n",
    "\n",
    "env.run(until=sim_duration)\n",
    "\n"
   ]
  },
  {
   "cell_type": "code",
   "execution_count": null,
   "metadata": {},
   "outputs": [],
   "source": [
    "print(\"Processing\")\n",
    "print(res.processing_data)\n"
   ]
  },
  {
   "cell_type": "code",
   "execution_count": null,
   "metadata": {},
   "outputs": [],
   "source": [
    "print(\"Waiting\")\n",
    "print(res.waiting_data)"
   ]
  },
  {
   "cell_type": "code",
   "execution_count": null,
   "metadata": {},
   "outputs": [],
   "source": []
  }
 ],
 "metadata": {
  "kernelspec": {
   "display_name": "Python 3",
   "language": "python",
   "name": "python3"
  },
  "language_info": {
   "codemirror_mode": {
    "name": "ipython",
    "version": 3
   },
   "file_extension": ".py",
   "mimetype": "text/x-python",
   "name": "python",
   "nbconvert_exporter": "python",
   "pygments_lexer": "ipython3",
   "version": "3.7.3"
  }
 },
 "nbformat": 4,
 "nbformat_minor": 2
}
