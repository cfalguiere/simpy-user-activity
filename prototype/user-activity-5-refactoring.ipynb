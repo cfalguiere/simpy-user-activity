{
 "cells": [
  {
   "cell_type": "code",
   "execution_count": 43,
   "metadata": {},
   "outputs": [
    {
     "name": "stdout",
     "output_type": "stream",
     "text": [
      "Requirement already satisfied: simpy in /Users/cfalguiere/anaconda3/lib/python3.7/site-packages (4.0.1)\n",
      "Requirement already satisfied: plotly in /Users/cfalguiere/anaconda3/lib/python3.7/site-packages (5.3.1)\n",
      "Requirement already satisfied: six in /Users/cfalguiere/anaconda3/lib/python3.7/site-packages (from plotly) (1.12.0)\n",
      "Requirement already satisfied: tenacity>=6.2.0 in /Users/cfalguiere/anaconda3/lib/python3.7/site-packages (from plotly) (8.0.1)\n"
     ]
    }
   ],
   "source": [
    "!pip install simpy plotly"
   ]
  },
  {
   "cell_type": "markdown",
   "metadata": {},
   "source": [
    "### Goal\n",
    "- clean up \n",
    "- logging\n",
    "- merge system metrics"
   ]
  },
  {
   "cell_type": "code",
   "execution_count": 44,
   "metadata": {},
   "outputs": [],
   "source": [
    "import simpy\n",
    "import datetime\n",
    "import pandas as pd\n",
    "import plotly.express as px\n",
    "\n",
    "# new imports\n",
    "import logging\n",
    "from enum import Enum"
   ]
  },
  {
   "cell_type": "code",
   "execution_count": 45,
   "metadata": {},
   "outputs": [],
   "source": [
    "class Metric(Enum):\n",
    "    RW = \"Requests Waiting\"\n",
    "    BS = \"Busy Slots\""
   ]
  },
  {
   "cell_type": "code",
   "execution_count": 46,
   "metadata": {},
   "outputs": [],
   "source": [
    "log_filename = \"logs-5.log\"\n",
    "mainLogger = logging.getLogger()\n",
    "mainLogger = logging.getLogger()\n",
    "fhandler = logging.FileHandler(filename=log_filename, mode='w')\n",
    "formatter = logging.Formatter('%(asctime)s - %(name)s - %(levelname)s - %(message)s')\n",
    "fhandler.setFormatter(formatter)\n",
    "mainLogger.addHandler(fhandler)\n",
    "mainLogger.setLevel(logging.DEBUG)\n",
    "mainLogger.debug(\"test\")"
   ]
  },
  {
   "cell_type": "code",
   "execution_count": 47,
   "metadata": {},
   "outputs": [],
   "source": [
    "class User():\n",
    "    def __init__(self, id, env, res, monitor):\n",
    "        self.id = id\n",
    "        self.env = env\n",
    "        self.res = res\n",
    "        self.monitor = monitor\n",
    "        self.taskid = 1\n",
    "        self.name = f\"User-{id}\"\n",
    "        mainLogger.info(f\"creating user {self.name}\")\n",
    "        #print(f\"creating user {self.name}\")\n",
    "        # Start the run process everytime an instance is created.\n",
    "        # create itself as a processs\n",
    "        self.action = env.process(self.run())\n",
    "\n",
    "    def run(self):\n",
    "        while True:\n",
    "            taskname = \"process_task\"\n",
    "            self.taskid += 1\n",
    "            self.monitor.report_start(self.name, taskname, self.taskid)\n",
    "            #print(f\"{self.name} starts task at %d\" % self.env.now)\n",
    "            mainLogger.debug(f\"{self.name} starts task at %d\" % self.env.now)\n",
    "            task_duration = 5\n",
    "            # We yield the process that process() returns\n",
    "            # to wait for it to finish\n",
    "            yield self.env.process(self.process_task(task_duration))\n",
    "            #print(f\"{self.name} ends task at %d\" % self.env.now)\n",
    "            mainLogger.debug(f\"{self.name} ends task at %d\" % self.env.now)\n",
    "            self.monitor.report_stop(self.name, taskname, self.taskid)\n",
    "     \n",
    "            # The charge process has finished and\n",
    "            # we can start driving again.\n",
    "            #print(f\"{self.name} starts verification at %d\" % self.env.now)\n",
    "            mainLogger.debug(f\"{self.name} starts verification at %d\" % self.env.now)\n",
    "            verification_duration = 2\n",
    "            yield self.env.timeout(verification_duration)\n",
    "            #print(f\"{self.name} ends verification at %d\" % self.env.now)\n",
    "            mainLogger.debug(f\"{self.name} ends verification at %d\" % self.env.now)\n",
    "\n",
    "    def process_task(self, duration):\n",
    "        with self.res.request() as req:\n",
    "            yield req\n",
    "            yield self.env.timeout(duration)\n"
   ]
  },
  {
   "cell_type": "code",
   "execution_count": 48,
   "metadata": {},
   "outputs": [],
   "source": [
    "class Clock:\n",
    "    def __init__(self):\n",
    "        #self.base_epoch = datetime.datetime(2021,9,10,0,0).timestamp()\n",
    "        self.base_epoch = datetime.datetime.now().timestamp()\n",
    "        #print(f\"Clock created - base {self.base_epoch}\")\n",
    "        mainLogger.info(f\"Clock created - base {self.base_epoch}\")\n",
    "\n",
    "    def to_date(self, tick):\n",
    "        epoch_time = self.base_epoch + tick*60 #mn\n",
    "        #print(f\"Clock {epoch_time}\")\n",
    "        datetime_time = datetime.datetime.fromtimestamp(epoch_time)\n",
    "        return datetime_time"
   ]
  },
  {
   "cell_type": "code",
   "execution_count": 49,
   "metadata": {},
   "outputs": [],
   "source": [
    "class UsersMonitor:\n",
    "    def __init__(self, env, clock):\n",
    "        self.env = env\n",
    "        self.start_data = []\n",
    "        self.stop_data = []\n",
    "        \n",
    "    def report_start(self, username, taskname, taskid):\n",
    "        mark = self.env.now\n",
    "        self.start_data.append(\n",
    "            dict(  \n",
    "                StartMark=mark,\n",
    "                Start=clock.to_date(mark),\n",
    "                Username=username,\n",
    "                Task=taskname,\n",
    "                TaskId=taskid\n",
    "            )\n",
    "        )       \n",
    "        \n",
    "    def report_stop(self, username, taskname, taskid):\n",
    "        mark = self.env.now\n",
    "        self.stop_data.append(\n",
    "            dict(  \n",
    "                FinishMark=mark,\n",
    "                Finish=clock.to_date(mark),\n",
    "                Username=username,\n",
    "                Task=taskname,\n",
    "                TaskId=taskid\n",
    "            )\n",
    "        )\n",
    "        \n",
    "                \n",
    "    def collect(self):\n",
    "        df_start = pd.DataFrame(self.start_data)\n",
    "        df_stop = pd.DataFrame(self.stop_data)\n",
    "        df = pd.merge(df_start, df_stop, how='left', \n",
    "                      on = ['Username', 'Task', 'TaskId'])\n",
    "        df['Duration'] = df['FinishMark'] - df['StartMark']\n",
    "        return df\n"
   ]
  },
  {
   "cell_type": "code",
   "execution_count": 50,
   "metadata": {},
   "outputs": [],
   "source": [
    "def user_generator(size, env, res, user_monitor):\n",
    "    for i in range(size):\n",
    "        User(i, env, res, user_monitor).action\n",
    "        yield env.timeout(5)"
   ]
  },
  {
   "cell_type": "code",
   "execution_count": 51,
   "metadata": {},
   "outputs": [],
   "source": [
    "class SystemResource(simpy.Resource):\n",
    "    def __init__(self, *args, **kwargs):\n",
    "        super().__init__(*args, **kwargs)\n",
    "        #print(f\"create resource with capacity {self.capacity}\")\n",
    "        mainLogger.info(f\"create resource with capacity {self.capacity}\")\n",
    "\n",
    "    def request(self, *args, **kwargs):\n",
    "        #print(\"request resource at %d\" % self._env.now)\n",
    "        mainLogger.debug(\"request resource at %d\" % self._env.now)\n",
    "        return super().request(*args, **kwargs)\n",
    "\n",
    "    def release(self, *args, **kwargs):\n",
    "        #print(\"release resource at %d\" % self._env.now)\n",
    "        mainLogger.debug(\"release resource at %d\" % self._env.now)\n",
    "        return super().release(*args, **kwargs)\n"
   ]
  },
  {
   "cell_type": "code",
   "execution_count": 52,
   "metadata": {},
   "outputs": [],
   "source": [
    "# wake up every tick and collect\n",
    "class SystemMonitoringAgent:\n",
    "    def __init__(self, env, res, clock):\n",
    "        self.env = env\n",
    "        self.res = res\n",
    "        self.clock = clock\n",
    "        #print(\"creating agent\")\n",
    "        mainLogger.info(\"creating agent\")\n",
    "        #self.occupied_slots_data = []\n",
    "        #self.requests_waiting_data = []\n",
    "        self.data = []\n",
    "        # this will be used as a process\n",
    "        self.action = env.process(self.run())\n",
    "\n",
    "    def run(self):\n",
    "        while True:\n",
    "\n",
    "            mark = self.env.now\n",
    "            occupied_slots = res.count\n",
    "            requests_waiting = len(res.queue)\n",
    "            \n",
    "            #print(f\"{occupied_slots} occupied slots at %d\" % mark)\n",
    "            #print(f\"{requests_waiting} requests waiting at %d\" % mark)\n",
    "            mainLogger.info(f\"{occupied_slots} occupied slots at %d\" % mark)\n",
    "            mainLogger.info(f\"{requests_waiting} requests waiting at %d\" % mark)\n",
    "\n",
    "            #self.occupied_slots_data.append(\n",
    "            self.data.append(\n",
    "                dict(  \n",
    "                    Mark=mark,\n",
    "                    Timestamp=clock.to_date(mark),\n",
    "                    Metric=Metric.BS.value,\n",
    "                    Value=occupied_slots\n",
    "                )\n",
    "            )       \n",
    "            #self.requests_waiting_data.append(\n",
    "            self.data.append(\n",
    "                dict(  \n",
    "                    Mark=mark,\n",
    "                    Timestamp=clock.to_date(mark),\n",
    "                    Metric=Metric.RW.value,\n",
    "                    Value=requests_waiting\n",
    "                )\n",
    "            ) \n",
    "            \n",
    "            tick_duration = 1\n",
    "            yield self.env.timeout(tick_duration)\n",
    "\n",
    "        \n",
    "                \n",
    "    def collect(self):\n",
    "        #return { 'occupied_slots': pd.DataFrame(self.occupied_slots_data), \n",
    "        #        'requests_waiting': pd.DataFrame(self.requests_waiting_data),\n",
    "        #        'users_count': pd.DataFrame(self.users_count_data)}\n",
    "        return pd.DataFrame(self.data)\n"
   ]
  },
  {
   "cell_type": "markdown",
   "metadata": {},
   "source": [
    "## Configuration"
   ]
  },
  {
   "cell_type": "code",
   "execution_count": 53,
   "metadata": {},
   "outputs": [],
   "source": [
    "# sim\n",
    "sim_duration = 200\n",
    "nb_users = 20\n",
    "resource_capacity = 5 # 1 -> 5\n",
    "\n",
    "mainLogger.setLevel(logging.INFO)\n"
   ]
  },
  {
   "cell_type": "markdown",
   "metadata": {},
   "source": [
    "## Main process"
   ]
  },
  {
   "cell_type": "code",
   "execution_count": 54,
   "metadata": {},
   "outputs": [],
   "source": [
    "env = simpy.Environment()\n",
    "clock = Clock()\n",
    "res = SystemResource(env, capacity=resource_capacity)\n",
    "user_monitor = UsersMonitor(env, clock)\n",
    "user_gen = env.process(user_generator(nb_users, env, res, user_monitor))\n",
    "res_agent = SystemMonitoringAgent(env, res, clock)\n",
    "\n",
    "env.run(until=sim_duration)"
   ]
  },
  {
   "cell_type": "code",
   "execution_count": 55,
   "metadata": {},
   "outputs": [
    {
     "data": {
      "text/html": [
       "<div>\n",
       "<style scoped>\n",
       "    .dataframe tbody tr th:only-of-type {\n",
       "        vertical-align: middle;\n",
       "    }\n",
       "\n",
       "    .dataframe tbody tr th {\n",
       "        vertical-align: top;\n",
       "    }\n",
       "\n",
       "    .dataframe thead th {\n",
       "        text-align: right;\n",
       "    }\n",
       "</style>\n",
       "<table border=\"1\" class=\"dataframe\">\n",
       "  <thead>\n",
       "    <tr style=\"text-align: right;\">\n",
       "      <th></th>\n",
       "      <th>Mark</th>\n",
       "      <th>Metric</th>\n",
       "      <th>Timestamp</th>\n",
       "      <th>Value</th>\n",
       "    </tr>\n",
       "  </thead>\n",
       "  <tbody>\n",
       "    <tr>\n",
       "      <th>0</th>\n",
       "      <td>0</td>\n",
       "      <td>Busy Slots</td>\n",
       "      <td>2021-09-12 11:25:51.294027</td>\n",
       "      <td>0</td>\n",
       "    </tr>\n",
       "    <tr>\n",
       "      <th>1</th>\n",
       "      <td>0</td>\n",
       "      <td>Requests Waiting</td>\n",
       "      <td>2021-09-12 11:25:51.294027</td>\n",
       "      <td>0</td>\n",
       "    </tr>\n",
       "    <tr>\n",
       "      <th>2</th>\n",
       "      <td>1</td>\n",
       "      <td>Busy Slots</td>\n",
       "      <td>2021-09-12 11:26:51.294027</td>\n",
       "      <td>1</td>\n",
       "    </tr>\n",
       "    <tr>\n",
       "      <th>3</th>\n",
       "      <td>1</td>\n",
       "      <td>Requests Waiting</td>\n",
       "      <td>2021-09-12 11:26:51.294027</td>\n",
       "      <td>0</td>\n",
       "    </tr>\n",
       "    <tr>\n",
       "      <th>4</th>\n",
       "      <td>2</td>\n",
       "      <td>Busy Slots</td>\n",
       "      <td>2021-09-12 11:27:51.294027</td>\n",
       "      <td>1</td>\n",
       "    </tr>\n",
       "    <tr>\n",
       "      <th>5</th>\n",
       "      <td>2</td>\n",
       "      <td>Requests Waiting</td>\n",
       "      <td>2021-09-12 11:27:51.294027</td>\n",
       "      <td>0</td>\n",
       "    </tr>\n",
       "    <tr>\n",
       "      <th>6</th>\n",
       "      <td>3</td>\n",
       "      <td>Busy Slots</td>\n",
       "      <td>2021-09-12 11:28:51.294027</td>\n",
       "      <td>1</td>\n",
       "    </tr>\n",
       "    <tr>\n",
       "      <th>7</th>\n",
       "      <td>3</td>\n",
       "      <td>Requests Waiting</td>\n",
       "      <td>2021-09-12 11:28:51.294027</td>\n",
       "      <td>0</td>\n",
       "    </tr>\n",
       "    <tr>\n",
       "      <th>8</th>\n",
       "      <td>4</td>\n",
       "      <td>Busy Slots</td>\n",
       "      <td>2021-09-12 11:29:51.294027</td>\n",
       "      <td>1</td>\n",
       "    </tr>\n",
       "    <tr>\n",
       "      <th>9</th>\n",
       "      <td>4</td>\n",
       "      <td>Requests Waiting</td>\n",
       "      <td>2021-09-12 11:29:51.294027</td>\n",
       "      <td>0</td>\n",
       "    </tr>\n",
       "    <tr>\n",
       "      <th>10</th>\n",
       "      <td>5</td>\n",
       "      <td>Busy Slots</td>\n",
       "      <td>2021-09-12 11:30:51.294027</td>\n",
       "      <td>1</td>\n",
       "    </tr>\n",
       "    <tr>\n",
       "      <th>11</th>\n",
       "      <td>5</td>\n",
       "      <td>Requests Waiting</td>\n",
       "      <td>2021-09-12 11:30:51.294027</td>\n",
       "      <td>0</td>\n",
       "    </tr>\n",
       "    <tr>\n",
       "      <th>12</th>\n",
       "      <td>6</td>\n",
       "      <td>Busy Slots</td>\n",
       "      <td>2021-09-12 11:31:51.294027</td>\n",
       "      <td>1</td>\n",
       "    </tr>\n",
       "    <tr>\n",
       "      <th>13</th>\n",
       "      <td>6</td>\n",
       "      <td>Requests Waiting</td>\n",
       "      <td>2021-09-12 11:31:51.294027</td>\n",
       "      <td>0</td>\n",
       "    </tr>\n",
       "    <tr>\n",
       "      <th>14</th>\n",
       "      <td>7</td>\n",
       "      <td>Busy Slots</td>\n",
       "      <td>2021-09-12 11:32:51.294027</td>\n",
       "      <td>2</td>\n",
       "    </tr>\n",
       "    <tr>\n",
       "      <th>15</th>\n",
       "      <td>7</td>\n",
       "      <td>Requests Waiting</td>\n",
       "      <td>2021-09-12 11:32:51.294027</td>\n",
       "      <td>0</td>\n",
       "    </tr>\n",
       "    <tr>\n",
       "      <th>16</th>\n",
       "      <td>8</td>\n",
       "      <td>Busy Slots</td>\n",
       "      <td>2021-09-12 11:33:51.294027</td>\n",
       "      <td>2</td>\n",
       "    </tr>\n",
       "    <tr>\n",
       "      <th>17</th>\n",
       "      <td>8</td>\n",
       "      <td>Requests Waiting</td>\n",
       "      <td>2021-09-12 11:33:51.294027</td>\n",
       "      <td>0</td>\n",
       "    </tr>\n",
       "    <tr>\n",
       "      <th>18</th>\n",
       "      <td>9</td>\n",
       "      <td>Busy Slots</td>\n",
       "      <td>2021-09-12 11:34:51.294027</td>\n",
       "      <td>2</td>\n",
       "    </tr>\n",
       "    <tr>\n",
       "      <th>19</th>\n",
       "      <td>9</td>\n",
       "      <td>Requests Waiting</td>\n",
       "      <td>2021-09-12 11:34:51.294027</td>\n",
       "      <td>0</td>\n",
       "    </tr>\n",
       "    <tr>\n",
       "      <th>20</th>\n",
       "      <td>10</td>\n",
       "      <td>Busy Slots</td>\n",
       "      <td>2021-09-12 11:35:51.294027</td>\n",
       "      <td>2</td>\n",
       "    </tr>\n",
       "    <tr>\n",
       "      <th>21</th>\n",
       "      <td>10</td>\n",
       "      <td>Requests Waiting</td>\n",
       "      <td>2021-09-12 11:35:51.294027</td>\n",
       "      <td>0</td>\n",
       "    </tr>\n",
       "    <tr>\n",
       "      <th>22</th>\n",
       "      <td>11</td>\n",
       "      <td>Busy Slots</td>\n",
       "      <td>2021-09-12 11:36:51.294027</td>\n",
       "      <td>2</td>\n",
       "    </tr>\n",
       "    <tr>\n",
       "      <th>23</th>\n",
       "      <td>11</td>\n",
       "      <td>Requests Waiting</td>\n",
       "      <td>2021-09-12 11:36:51.294027</td>\n",
       "      <td>0</td>\n",
       "    </tr>\n",
       "    <tr>\n",
       "      <th>24</th>\n",
       "      <td>12</td>\n",
       "      <td>Busy Slots</td>\n",
       "      <td>2021-09-12 11:37:51.294027</td>\n",
       "      <td>2</td>\n",
       "    </tr>\n",
       "    <tr>\n",
       "      <th>25</th>\n",
       "      <td>12</td>\n",
       "      <td>Requests Waiting</td>\n",
       "      <td>2021-09-12 11:37:51.294027</td>\n",
       "      <td>0</td>\n",
       "    </tr>\n",
       "    <tr>\n",
       "      <th>26</th>\n",
       "      <td>13</td>\n",
       "      <td>Busy Slots</td>\n",
       "      <td>2021-09-12 11:38:51.294027</td>\n",
       "      <td>2</td>\n",
       "    </tr>\n",
       "    <tr>\n",
       "      <th>27</th>\n",
       "      <td>13</td>\n",
       "      <td>Requests Waiting</td>\n",
       "      <td>2021-09-12 11:38:51.294027</td>\n",
       "      <td>0</td>\n",
       "    </tr>\n",
       "    <tr>\n",
       "      <th>28</th>\n",
       "      <td>14</td>\n",
       "      <td>Busy Slots</td>\n",
       "      <td>2021-09-12 11:39:51.294027</td>\n",
       "      <td>3</td>\n",
       "    </tr>\n",
       "    <tr>\n",
       "      <th>29</th>\n",
       "      <td>14</td>\n",
       "      <td>Requests Waiting</td>\n",
       "      <td>2021-09-12 11:39:51.294027</td>\n",
       "      <td>0</td>\n",
       "    </tr>\n",
       "    <tr>\n",
       "      <th>...</th>\n",
       "      <td>...</td>\n",
       "      <td>...</td>\n",
       "      <td>...</td>\n",
       "      <td>...</td>\n",
       "    </tr>\n",
       "    <tr>\n",
       "      <th>370</th>\n",
       "      <td>185</td>\n",
       "      <td>Busy Slots</td>\n",
       "      <td>2021-09-12 14:30:51.294027</td>\n",
       "      <td>5</td>\n",
       "    </tr>\n",
       "    <tr>\n",
       "      <th>371</th>\n",
       "      <td>185</td>\n",
       "      <td>Requests Waiting</td>\n",
       "      <td>2021-09-12 14:30:51.294027</td>\n",
       "      <td>13</td>\n",
       "    </tr>\n",
       "    <tr>\n",
       "      <th>372</th>\n",
       "      <td>186</td>\n",
       "      <td>Busy Slots</td>\n",
       "      <td>2021-09-12 14:31:51.294027</td>\n",
       "      <td>5</td>\n",
       "    </tr>\n",
       "    <tr>\n",
       "      <th>373</th>\n",
       "      <td>186</td>\n",
       "      <td>Requests Waiting</td>\n",
       "      <td>2021-09-12 14:31:51.294027</td>\n",
       "      <td>13</td>\n",
       "    </tr>\n",
       "    <tr>\n",
       "      <th>374</th>\n",
       "      <td>187</td>\n",
       "      <td>Busy Slots</td>\n",
       "      <td>2021-09-12 14:32:51.294027</td>\n",
       "      <td>5</td>\n",
       "    </tr>\n",
       "    <tr>\n",
       "      <th>375</th>\n",
       "      <td>187</td>\n",
       "      <td>Requests Waiting</td>\n",
       "      <td>2021-09-12 14:32:51.294027</td>\n",
       "      <td>13</td>\n",
       "    </tr>\n",
       "    <tr>\n",
       "      <th>376</th>\n",
       "      <td>188</td>\n",
       "      <td>Busy Slots</td>\n",
       "      <td>2021-09-12 14:33:51.294027</td>\n",
       "      <td>5</td>\n",
       "    </tr>\n",
       "    <tr>\n",
       "      <th>377</th>\n",
       "      <td>188</td>\n",
       "      <td>Requests Waiting</td>\n",
       "      <td>2021-09-12 14:33:51.294027</td>\n",
       "      <td>13</td>\n",
       "    </tr>\n",
       "    <tr>\n",
       "      <th>378</th>\n",
       "      <td>189</td>\n",
       "      <td>Busy Slots</td>\n",
       "      <td>2021-09-12 14:34:51.294027</td>\n",
       "      <td>5</td>\n",
       "    </tr>\n",
       "    <tr>\n",
       "      <th>379</th>\n",
       "      <td>189</td>\n",
       "      <td>Requests Waiting</td>\n",
       "      <td>2021-09-12 14:34:51.294027</td>\n",
       "      <td>13</td>\n",
       "    </tr>\n",
       "    <tr>\n",
       "      <th>380</th>\n",
       "      <td>190</td>\n",
       "      <td>Busy Slots</td>\n",
       "      <td>2021-09-12 14:35:51.294027</td>\n",
       "      <td>5</td>\n",
       "    </tr>\n",
       "    <tr>\n",
       "      <th>381</th>\n",
       "      <td>190</td>\n",
       "      <td>Requests Waiting</td>\n",
       "      <td>2021-09-12 14:35:51.294027</td>\n",
       "      <td>13</td>\n",
       "    </tr>\n",
       "    <tr>\n",
       "      <th>382</th>\n",
       "      <td>191</td>\n",
       "      <td>Busy Slots</td>\n",
       "      <td>2021-09-12 14:36:51.294027</td>\n",
       "      <td>5</td>\n",
       "    </tr>\n",
       "    <tr>\n",
       "      <th>383</th>\n",
       "      <td>191</td>\n",
       "      <td>Requests Waiting</td>\n",
       "      <td>2021-09-12 14:36:51.294027</td>\n",
       "      <td>13</td>\n",
       "    </tr>\n",
       "    <tr>\n",
       "      <th>384</th>\n",
       "      <td>192</td>\n",
       "      <td>Busy Slots</td>\n",
       "      <td>2021-09-12 14:37:51.294027</td>\n",
       "      <td>5</td>\n",
       "    </tr>\n",
       "    <tr>\n",
       "      <th>385</th>\n",
       "      <td>192</td>\n",
       "      <td>Requests Waiting</td>\n",
       "      <td>2021-09-12 14:37:51.294027</td>\n",
       "      <td>13</td>\n",
       "    </tr>\n",
       "    <tr>\n",
       "      <th>386</th>\n",
       "      <td>193</td>\n",
       "      <td>Busy Slots</td>\n",
       "      <td>2021-09-12 14:38:51.294027</td>\n",
       "      <td>5</td>\n",
       "    </tr>\n",
       "    <tr>\n",
       "      <th>387</th>\n",
       "      <td>193</td>\n",
       "      <td>Requests Waiting</td>\n",
       "      <td>2021-09-12 14:38:51.294027</td>\n",
       "      <td>13</td>\n",
       "    </tr>\n",
       "    <tr>\n",
       "      <th>388</th>\n",
       "      <td>194</td>\n",
       "      <td>Busy Slots</td>\n",
       "      <td>2021-09-12 14:39:51.294027</td>\n",
       "      <td>5</td>\n",
       "    </tr>\n",
       "    <tr>\n",
       "      <th>389</th>\n",
       "      <td>194</td>\n",
       "      <td>Requests Waiting</td>\n",
       "      <td>2021-09-12 14:39:51.294027</td>\n",
       "      <td>13</td>\n",
       "    </tr>\n",
       "    <tr>\n",
       "      <th>390</th>\n",
       "      <td>195</td>\n",
       "      <td>Busy Slots</td>\n",
       "      <td>2021-09-12 14:40:51.294027</td>\n",
       "      <td>5</td>\n",
       "    </tr>\n",
       "    <tr>\n",
       "      <th>391</th>\n",
       "      <td>195</td>\n",
       "      <td>Requests Waiting</td>\n",
       "      <td>2021-09-12 14:40:51.294027</td>\n",
       "      <td>13</td>\n",
       "    </tr>\n",
       "    <tr>\n",
       "      <th>392</th>\n",
       "      <td>196</td>\n",
       "      <td>Busy Slots</td>\n",
       "      <td>2021-09-12 14:41:51.294027</td>\n",
       "      <td>5</td>\n",
       "    </tr>\n",
       "    <tr>\n",
       "      <th>393</th>\n",
       "      <td>196</td>\n",
       "      <td>Requests Waiting</td>\n",
       "      <td>2021-09-12 14:41:51.294027</td>\n",
       "      <td>13</td>\n",
       "    </tr>\n",
       "    <tr>\n",
       "      <th>394</th>\n",
       "      <td>197</td>\n",
       "      <td>Busy Slots</td>\n",
       "      <td>2021-09-12 14:42:51.294027</td>\n",
       "      <td>5</td>\n",
       "    </tr>\n",
       "    <tr>\n",
       "      <th>395</th>\n",
       "      <td>197</td>\n",
       "      <td>Requests Waiting</td>\n",
       "      <td>2021-09-12 14:42:51.294027</td>\n",
       "      <td>13</td>\n",
       "    </tr>\n",
       "    <tr>\n",
       "      <th>396</th>\n",
       "      <td>198</td>\n",
       "      <td>Busy Slots</td>\n",
       "      <td>2021-09-12 14:43:51.294027</td>\n",
       "      <td>5</td>\n",
       "    </tr>\n",
       "    <tr>\n",
       "      <th>397</th>\n",
       "      <td>198</td>\n",
       "      <td>Requests Waiting</td>\n",
       "      <td>2021-09-12 14:43:51.294027</td>\n",
       "      <td>13</td>\n",
       "    </tr>\n",
       "    <tr>\n",
       "      <th>398</th>\n",
       "      <td>199</td>\n",
       "      <td>Busy Slots</td>\n",
       "      <td>2021-09-12 14:44:51.294027</td>\n",
       "      <td>5</td>\n",
       "    </tr>\n",
       "    <tr>\n",
       "      <th>399</th>\n",
       "      <td>199</td>\n",
       "      <td>Requests Waiting</td>\n",
       "      <td>2021-09-12 14:44:51.294027</td>\n",
       "      <td>13</td>\n",
       "    </tr>\n",
       "  </tbody>\n",
       "</table>\n",
       "<p>400 rows × 4 columns</p>\n",
       "</div>"
      ],
      "text/plain": [
       "     Mark            Metric                  Timestamp  Value\n",
       "0       0        Busy Slots 2021-09-12 11:25:51.294027      0\n",
       "1       0  Requests Waiting 2021-09-12 11:25:51.294027      0\n",
       "2       1        Busy Slots 2021-09-12 11:26:51.294027      1\n",
       "3       1  Requests Waiting 2021-09-12 11:26:51.294027      0\n",
       "4       2        Busy Slots 2021-09-12 11:27:51.294027      1\n",
       "5       2  Requests Waiting 2021-09-12 11:27:51.294027      0\n",
       "6       3        Busy Slots 2021-09-12 11:28:51.294027      1\n",
       "7       3  Requests Waiting 2021-09-12 11:28:51.294027      0\n",
       "8       4        Busy Slots 2021-09-12 11:29:51.294027      1\n",
       "9       4  Requests Waiting 2021-09-12 11:29:51.294027      0\n",
       "10      5        Busy Slots 2021-09-12 11:30:51.294027      1\n",
       "11      5  Requests Waiting 2021-09-12 11:30:51.294027      0\n",
       "12      6        Busy Slots 2021-09-12 11:31:51.294027      1\n",
       "13      6  Requests Waiting 2021-09-12 11:31:51.294027      0\n",
       "14      7        Busy Slots 2021-09-12 11:32:51.294027      2\n",
       "15      7  Requests Waiting 2021-09-12 11:32:51.294027      0\n",
       "16      8        Busy Slots 2021-09-12 11:33:51.294027      2\n",
       "17      8  Requests Waiting 2021-09-12 11:33:51.294027      0\n",
       "18      9        Busy Slots 2021-09-12 11:34:51.294027      2\n",
       "19      9  Requests Waiting 2021-09-12 11:34:51.294027      0\n",
       "20     10        Busy Slots 2021-09-12 11:35:51.294027      2\n",
       "21     10  Requests Waiting 2021-09-12 11:35:51.294027      0\n",
       "22     11        Busy Slots 2021-09-12 11:36:51.294027      2\n",
       "23     11  Requests Waiting 2021-09-12 11:36:51.294027      0\n",
       "24     12        Busy Slots 2021-09-12 11:37:51.294027      2\n",
       "25     12  Requests Waiting 2021-09-12 11:37:51.294027      0\n",
       "26     13        Busy Slots 2021-09-12 11:38:51.294027      2\n",
       "27     13  Requests Waiting 2021-09-12 11:38:51.294027      0\n",
       "28     14        Busy Slots 2021-09-12 11:39:51.294027      3\n",
       "29     14  Requests Waiting 2021-09-12 11:39:51.294027      0\n",
       "..    ...               ...                        ...    ...\n",
       "370   185        Busy Slots 2021-09-12 14:30:51.294027      5\n",
       "371   185  Requests Waiting 2021-09-12 14:30:51.294027     13\n",
       "372   186        Busy Slots 2021-09-12 14:31:51.294027      5\n",
       "373   186  Requests Waiting 2021-09-12 14:31:51.294027     13\n",
       "374   187        Busy Slots 2021-09-12 14:32:51.294027      5\n",
       "375   187  Requests Waiting 2021-09-12 14:32:51.294027     13\n",
       "376   188        Busy Slots 2021-09-12 14:33:51.294027      5\n",
       "377   188  Requests Waiting 2021-09-12 14:33:51.294027     13\n",
       "378   189        Busy Slots 2021-09-12 14:34:51.294027      5\n",
       "379   189  Requests Waiting 2021-09-12 14:34:51.294027     13\n",
       "380   190        Busy Slots 2021-09-12 14:35:51.294027      5\n",
       "381   190  Requests Waiting 2021-09-12 14:35:51.294027     13\n",
       "382   191        Busy Slots 2021-09-12 14:36:51.294027      5\n",
       "383   191  Requests Waiting 2021-09-12 14:36:51.294027     13\n",
       "384   192        Busy Slots 2021-09-12 14:37:51.294027      5\n",
       "385   192  Requests Waiting 2021-09-12 14:37:51.294027     13\n",
       "386   193        Busy Slots 2021-09-12 14:38:51.294027      5\n",
       "387   193  Requests Waiting 2021-09-12 14:38:51.294027     13\n",
       "388   194        Busy Slots 2021-09-12 14:39:51.294027      5\n",
       "389   194  Requests Waiting 2021-09-12 14:39:51.294027     13\n",
       "390   195        Busy Slots 2021-09-12 14:40:51.294027      5\n",
       "391   195  Requests Waiting 2021-09-12 14:40:51.294027     13\n",
       "392   196        Busy Slots 2021-09-12 14:41:51.294027      5\n",
       "393   196  Requests Waiting 2021-09-12 14:41:51.294027     13\n",
       "394   197        Busy Slots 2021-09-12 14:42:51.294027      5\n",
       "395   197  Requests Waiting 2021-09-12 14:42:51.294027     13\n",
       "396   198        Busy Slots 2021-09-12 14:43:51.294027      5\n",
       "397   198  Requests Waiting 2021-09-12 14:43:51.294027     13\n",
       "398   199        Busy Slots 2021-09-12 14:44:51.294027      5\n",
       "399   199  Requests Waiting 2021-09-12 14:44:51.294027     13\n",
       "\n",
       "[400 rows x 4 columns]"
      ]
     },
     "metadata": {},
     "output_type": "display_data"
    }
   ],
   "source": [
    "#dfs = res_agent.collect()\n",
    "#print(dfs)\n",
    "df_system = res_agent.collect()\n",
    "display(df_system)"
   ]
  },
  {
   "cell_type": "markdown",
   "metadata": {},
   "source": [
    "## Occupied slots"
   ]
  },
  {
   "cell_type": "code",
   "execution_count": 56,
   "metadata": {},
   "outputs": [
    {
     "data": {
      "application/vnd.plotly.v1+json": {
       "config": {
        "plotlyServerURL": "https://plot.ly"
       },
       "data": [
        {
         "alignmentgroup": "True",
         "hovertemplate": "Timestamp=%{x}<br>Value=%{y}<extra></extra>",
         "legendgroup": "",
         "marker": {
          "color": "#636efa",
          "pattern": {
           "shape": ""
          }
         },
         "name": "",
         "offsetgroup": "",
         "orientation": "v",
         "showlegend": false,
         "textposition": "auto",
         "type": "bar",
         "x": [
          "2021-09-12T11:25:51.294027",
          "2021-09-12T11:26:51.294027",
          "2021-09-12T11:27:51.294027",
          "2021-09-12T11:28:51.294027",
          "2021-09-12T11:29:51.294027",
          "2021-09-12T11:30:51.294027",
          "2021-09-12T11:31:51.294027",
          "2021-09-12T11:32:51.294027",
          "2021-09-12T11:33:51.294027",
          "2021-09-12T11:34:51.294027",
          "2021-09-12T11:35:51.294027",
          "2021-09-12T11:36:51.294027",
          "2021-09-12T11:37:51.294027",
          "2021-09-12T11:38:51.294027",
          "2021-09-12T11:39:51.294027",
          "2021-09-12T11:40:51.294027",
          "2021-09-12T11:41:51.294027",
          "2021-09-12T11:42:51.294027",
          "2021-09-12T11:43:51.294027",
          "2021-09-12T11:44:51.294027",
          "2021-09-12T11:45:51.294027",
          "2021-09-12T11:46:51.294027",
          "2021-09-12T11:47:51.294027",
          "2021-09-12T11:48:51.294027",
          "2021-09-12T11:49:51.294027",
          "2021-09-12T11:50:51.294027",
          "2021-09-12T11:51:51.294027",
          "2021-09-12T11:52:51.294027",
          "2021-09-12T11:53:51.294027",
          "2021-09-12T11:54:51.294027",
          "2021-09-12T11:55:51.294027",
          "2021-09-12T11:56:51.294027",
          "2021-09-12T11:57:51.294027",
          "2021-09-12T11:58:51.294027",
          "2021-09-12T11:59:51.294027",
          "2021-09-12T12:00:51.294027",
          "2021-09-12T12:01:51.294027",
          "2021-09-12T12:02:51.294027",
          "2021-09-12T12:03:51.294027",
          "2021-09-12T12:04:51.294027",
          "2021-09-12T12:05:51.294027",
          "2021-09-12T12:06:51.294027",
          "2021-09-12T12:07:51.294027",
          "2021-09-12T12:08:51.294027",
          "2021-09-12T12:09:51.294027",
          "2021-09-12T12:10:51.294027",
          "2021-09-12T12:11:51.294027",
          "2021-09-12T12:12:51.294027",
          "2021-09-12T12:13:51.294027",
          "2021-09-12T12:14:51.294027",
          "2021-09-12T12:15:51.294027",
          "2021-09-12T12:16:51.294027",
          "2021-09-12T12:17:51.294027",
          "2021-09-12T12:18:51.294027",
          "2021-09-12T12:19:51.294027",
          "2021-09-12T12:20:51.294027",
          "2021-09-12T12:21:51.294027",
          "2021-09-12T12:22:51.294027",
          "2021-09-12T12:23:51.294027",
          "2021-09-12T12:24:51.294027",
          "2021-09-12T12:25:51.294027",
          "2021-09-12T12:26:51.294027",
          "2021-09-12T12:27:51.294027",
          "2021-09-12T12:28:51.294027",
          "2021-09-12T12:29:51.294027",
          "2021-09-12T12:30:51.294027",
          "2021-09-12T12:31:51.294027",
          "2021-09-12T12:32:51.294027",
          "2021-09-12T12:33:51.294027",
          "2021-09-12T12:34:51.294027",
          "2021-09-12T12:35:51.294027",
          "2021-09-12T12:36:51.294027",
          "2021-09-12T12:37:51.294027",
          "2021-09-12T12:38:51.294027",
          "2021-09-12T12:39:51.294027",
          "2021-09-12T12:40:51.294027",
          "2021-09-12T12:41:51.294027",
          "2021-09-12T12:42:51.294027",
          "2021-09-12T12:43:51.294027",
          "2021-09-12T12:44:51.294027",
          "2021-09-12T12:45:51.294027",
          "2021-09-12T12:46:51.294027",
          "2021-09-12T12:47:51.294027",
          "2021-09-12T12:48:51.294027",
          "2021-09-12T12:49:51.294027",
          "2021-09-12T12:50:51.294027",
          "2021-09-12T12:51:51.294027",
          "2021-09-12T12:52:51.294027",
          "2021-09-12T12:53:51.294027",
          "2021-09-12T12:54:51.294027",
          "2021-09-12T12:55:51.294027",
          "2021-09-12T12:56:51.294027",
          "2021-09-12T12:57:51.294027",
          "2021-09-12T12:58:51.294027",
          "2021-09-12T12:59:51.294027",
          "2021-09-12T13:00:51.294027",
          "2021-09-12T13:01:51.294027",
          "2021-09-12T13:02:51.294027",
          "2021-09-12T13:03:51.294027",
          "2021-09-12T13:04:51.294027",
          "2021-09-12T13:05:51.294027",
          "2021-09-12T13:06:51.294027",
          "2021-09-12T13:07:51.294027",
          "2021-09-12T13:08:51.294027",
          "2021-09-12T13:09:51.294027",
          "2021-09-12T13:10:51.294027",
          "2021-09-12T13:11:51.294027",
          "2021-09-12T13:12:51.294027",
          "2021-09-12T13:13:51.294027",
          "2021-09-12T13:14:51.294027",
          "2021-09-12T13:15:51.294027",
          "2021-09-12T13:16:51.294027",
          "2021-09-12T13:17:51.294027",
          "2021-09-12T13:18:51.294027",
          "2021-09-12T13:19:51.294027",
          "2021-09-12T13:20:51.294027",
          "2021-09-12T13:21:51.294027",
          "2021-09-12T13:22:51.294027",
          "2021-09-12T13:23:51.294027",
          "2021-09-12T13:24:51.294027",
          "2021-09-12T13:25:51.294027",
          "2021-09-12T13:26:51.294027",
          "2021-09-12T13:27:51.294027",
          "2021-09-12T13:28:51.294027",
          "2021-09-12T13:29:51.294027",
          "2021-09-12T13:30:51.294027",
          "2021-09-12T13:31:51.294027",
          "2021-09-12T13:32:51.294027",
          "2021-09-12T13:33:51.294027",
          "2021-09-12T13:34:51.294027",
          "2021-09-12T13:35:51.294027",
          "2021-09-12T13:36:51.294027",
          "2021-09-12T13:37:51.294027",
          "2021-09-12T13:38:51.294027",
          "2021-09-12T13:39:51.294027",
          "2021-09-12T13:40:51.294027",
          "2021-09-12T13:41:51.294027",
          "2021-09-12T13:42:51.294027",
          "2021-09-12T13:43:51.294027",
          "2021-09-12T13:44:51.294027",
          "2021-09-12T13:45:51.294027",
          "2021-09-12T13:46:51.294027",
          "2021-09-12T13:47:51.294027",
          "2021-09-12T13:48:51.294027",
          "2021-09-12T13:49:51.294027",
          "2021-09-12T13:50:51.294027",
          "2021-09-12T13:51:51.294027",
          "2021-09-12T13:52:51.294027",
          "2021-09-12T13:53:51.294027",
          "2021-09-12T13:54:51.294027",
          "2021-09-12T13:55:51.294027",
          "2021-09-12T13:56:51.294027",
          "2021-09-12T13:57:51.294027",
          "2021-09-12T13:58:51.294027",
          "2021-09-12T13:59:51.294027",
          "2021-09-12T14:00:51.294027",
          "2021-09-12T14:01:51.294027",
          "2021-09-12T14:02:51.294027",
          "2021-09-12T14:03:51.294027",
          "2021-09-12T14:04:51.294027",
          "2021-09-12T14:05:51.294027",
          "2021-09-12T14:06:51.294027",
          "2021-09-12T14:07:51.294027",
          "2021-09-12T14:08:51.294027",
          "2021-09-12T14:09:51.294027",
          "2021-09-12T14:10:51.294027",
          "2021-09-12T14:11:51.294027",
          "2021-09-12T14:12:51.294027",
          "2021-09-12T14:13:51.294027",
          "2021-09-12T14:14:51.294027",
          "2021-09-12T14:15:51.294027",
          "2021-09-12T14:16:51.294027",
          "2021-09-12T14:17:51.294027",
          "2021-09-12T14:18:51.294027",
          "2021-09-12T14:19:51.294027",
          "2021-09-12T14:20:51.294027",
          "2021-09-12T14:21:51.294027",
          "2021-09-12T14:22:51.294027",
          "2021-09-12T14:23:51.294027",
          "2021-09-12T14:24:51.294027",
          "2021-09-12T14:25:51.294027",
          "2021-09-12T14:26:51.294027",
          "2021-09-12T14:27:51.294027",
          "2021-09-12T14:28:51.294027",
          "2021-09-12T14:29:51.294027",
          "2021-09-12T14:30:51.294027",
          "2021-09-12T14:31:51.294027",
          "2021-09-12T14:32:51.294027",
          "2021-09-12T14:33:51.294027",
          "2021-09-12T14:34:51.294027",
          "2021-09-12T14:35:51.294027",
          "2021-09-12T14:36:51.294027",
          "2021-09-12T14:37:51.294027",
          "2021-09-12T14:38:51.294027",
          "2021-09-12T14:39:51.294027",
          "2021-09-12T14:40:51.294027",
          "2021-09-12T14:41:51.294027",
          "2021-09-12T14:42:51.294027",
          "2021-09-12T14:43:51.294027",
          "2021-09-12T14:44:51.294027"
         ],
         "xaxis": "x",
         "y": [
          0,
          1,
          1,
          1,
          1,
          1,
          1,
          2,
          2,
          2,
          2,
          2,
          2,
          2,
          3,
          3,
          3,
          3,
          3,
          3,
          3,
          4,
          4,
          4,
          4,
          4,
          4,
          4,
          5,
          5,
          4,
          5,
          5,
          5,
          5,
          5,
          5,
          5,
          5,
          5,
          5,
          5,
          5,
          5,
          5,
          5,
          5,
          5,
          5,
          5,
          5,
          5,
          5,
          5,
          5,
          5,
          5,
          5,
          5,
          5,
          5,
          5,
          5,
          5,
          5,
          5,
          5,
          5,
          5,
          5,
          5,
          5,
          5,
          5,
          5,
          5,
          5,
          5,
          5,
          5,
          5,
          5,
          5,
          5,
          5,
          5,
          5,
          5,
          5,
          5,
          5,
          5,
          5,
          5,
          5,
          5,
          5,
          5,
          5,
          5,
          5,
          5,
          5,
          5,
          5,
          5,
          5,
          5,
          5,
          5,
          5,
          5,
          5,
          5,
          5,
          5,
          5,
          5,
          5,
          5,
          5,
          5,
          5,
          5,
          5,
          5,
          5,
          5,
          5,
          5,
          5,
          5,
          5,
          5,
          5,
          5,
          5,
          5,
          5,
          5,
          5,
          5,
          5,
          5,
          5,
          5,
          5,
          5,
          5,
          5,
          5,
          5,
          5,
          5,
          5,
          5,
          5,
          5,
          5,
          5,
          5,
          5,
          5,
          5,
          5,
          5,
          5,
          5,
          5,
          5,
          5,
          5,
          5,
          5,
          5,
          5,
          5,
          5,
          5,
          5,
          5,
          5,
          5,
          5,
          5,
          5,
          5,
          5,
          5,
          5,
          5,
          5,
          5,
          5,
          5,
          5,
          5,
          5,
          5,
          5
         ],
         "yaxis": "y"
        }
       ],
       "layout": {
        "barmode": "relative",
        "legend": {
         "tracegroupgap": 0
        },
        "margin": {
         "t": 60
        },
        "template": {
         "data": {
          "bar": [
           {
            "error_x": {
             "color": "#2a3f5f"
            },
            "error_y": {
             "color": "#2a3f5f"
            },
            "marker": {
             "line": {
              "color": "#E5ECF6",
              "width": 0.5
             },
             "pattern": {
              "fillmode": "overlay",
              "size": 10,
              "solidity": 0.2
             }
            },
            "type": "bar"
           }
          ],
          "barpolar": [
           {
            "marker": {
             "line": {
              "color": "#E5ECF6",
              "width": 0.5
             },
             "pattern": {
              "fillmode": "overlay",
              "size": 10,
              "solidity": 0.2
             }
            },
            "type": "barpolar"
           }
          ],
          "carpet": [
           {
            "aaxis": {
             "endlinecolor": "#2a3f5f",
             "gridcolor": "white",
             "linecolor": "white",
             "minorgridcolor": "white",
             "startlinecolor": "#2a3f5f"
            },
            "baxis": {
             "endlinecolor": "#2a3f5f",
             "gridcolor": "white",
             "linecolor": "white",
             "minorgridcolor": "white",
             "startlinecolor": "#2a3f5f"
            },
            "type": "carpet"
           }
          ],
          "choropleth": [
           {
            "colorbar": {
             "outlinewidth": 0,
             "ticks": ""
            },
            "type": "choropleth"
           }
          ],
          "contour": [
           {
            "colorbar": {
             "outlinewidth": 0,
             "ticks": ""
            },
            "colorscale": [
             [
              0,
              "#0d0887"
             ],
             [
              0.1111111111111111,
              "#46039f"
             ],
             [
              0.2222222222222222,
              "#7201a8"
             ],
             [
              0.3333333333333333,
              "#9c179e"
             ],
             [
              0.4444444444444444,
              "#bd3786"
             ],
             [
              0.5555555555555556,
              "#d8576b"
             ],
             [
              0.6666666666666666,
              "#ed7953"
             ],
             [
              0.7777777777777778,
              "#fb9f3a"
             ],
             [
              0.8888888888888888,
              "#fdca26"
             ],
             [
              1,
              "#f0f921"
             ]
            ],
            "type": "contour"
           }
          ],
          "contourcarpet": [
           {
            "colorbar": {
             "outlinewidth": 0,
             "ticks": ""
            },
            "type": "contourcarpet"
           }
          ],
          "heatmap": [
           {
            "colorbar": {
             "outlinewidth": 0,
             "ticks": ""
            },
            "colorscale": [
             [
              0,
              "#0d0887"
             ],
             [
              0.1111111111111111,
              "#46039f"
             ],
             [
              0.2222222222222222,
              "#7201a8"
             ],
             [
              0.3333333333333333,
              "#9c179e"
             ],
             [
              0.4444444444444444,
              "#bd3786"
             ],
             [
              0.5555555555555556,
              "#d8576b"
             ],
             [
              0.6666666666666666,
              "#ed7953"
             ],
             [
              0.7777777777777778,
              "#fb9f3a"
             ],
             [
              0.8888888888888888,
              "#fdca26"
             ],
             [
              1,
              "#f0f921"
             ]
            ],
            "type": "heatmap"
           }
          ],
          "heatmapgl": [
           {
            "colorbar": {
             "outlinewidth": 0,
             "ticks": ""
            },
            "colorscale": [
             [
              0,
              "#0d0887"
             ],
             [
              0.1111111111111111,
              "#46039f"
             ],
             [
              0.2222222222222222,
              "#7201a8"
             ],
             [
              0.3333333333333333,
              "#9c179e"
             ],
             [
              0.4444444444444444,
              "#bd3786"
             ],
             [
              0.5555555555555556,
              "#d8576b"
             ],
             [
              0.6666666666666666,
              "#ed7953"
             ],
             [
              0.7777777777777778,
              "#fb9f3a"
             ],
             [
              0.8888888888888888,
              "#fdca26"
             ],
             [
              1,
              "#f0f921"
             ]
            ],
            "type": "heatmapgl"
           }
          ],
          "histogram": [
           {
            "marker": {
             "pattern": {
              "fillmode": "overlay",
              "size": 10,
              "solidity": 0.2
             }
            },
            "type": "histogram"
           }
          ],
          "histogram2d": [
           {
            "colorbar": {
             "outlinewidth": 0,
             "ticks": ""
            },
            "colorscale": [
             [
              0,
              "#0d0887"
             ],
             [
              0.1111111111111111,
              "#46039f"
             ],
             [
              0.2222222222222222,
              "#7201a8"
             ],
             [
              0.3333333333333333,
              "#9c179e"
             ],
             [
              0.4444444444444444,
              "#bd3786"
             ],
             [
              0.5555555555555556,
              "#d8576b"
             ],
             [
              0.6666666666666666,
              "#ed7953"
             ],
             [
              0.7777777777777778,
              "#fb9f3a"
             ],
             [
              0.8888888888888888,
              "#fdca26"
             ],
             [
              1,
              "#f0f921"
             ]
            ],
            "type": "histogram2d"
           }
          ],
          "histogram2dcontour": [
           {
            "colorbar": {
             "outlinewidth": 0,
             "ticks": ""
            },
            "colorscale": [
             [
              0,
              "#0d0887"
             ],
             [
              0.1111111111111111,
              "#46039f"
             ],
             [
              0.2222222222222222,
              "#7201a8"
             ],
             [
              0.3333333333333333,
              "#9c179e"
             ],
             [
              0.4444444444444444,
              "#bd3786"
             ],
             [
              0.5555555555555556,
              "#d8576b"
             ],
             [
              0.6666666666666666,
              "#ed7953"
             ],
             [
              0.7777777777777778,
              "#fb9f3a"
             ],
             [
              0.8888888888888888,
              "#fdca26"
             ],
             [
              1,
              "#f0f921"
             ]
            ],
            "type": "histogram2dcontour"
           }
          ],
          "mesh3d": [
           {
            "colorbar": {
             "outlinewidth": 0,
             "ticks": ""
            },
            "type": "mesh3d"
           }
          ],
          "parcoords": [
           {
            "line": {
             "colorbar": {
              "outlinewidth": 0,
              "ticks": ""
             }
            },
            "type": "parcoords"
           }
          ],
          "pie": [
           {
            "automargin": true,
            "type": "pie"
           }
          ],
          "scatter": [
           {
            "marker": {
             "colorbar": {
              "outlinewidth": 0,
              "ticks": ""
             }
            },
            "type": "scatter"
           }
          ],
          "scatter3d": [
           {
            "line": {
             "colorbar": {
              "outlinewidth": 0,
              "ticks": ""
             }
            },
            "marker": {
             "colorbar": {
              "outlinewidth": 0,
              "ticks": ""
             }
            },
            "type": "scatter3d"
           }
          ],
          "scattercarpet": [
           {
            "marker": {
             "colorbar": {
              "outlinewidth": 0,
              "ticks": ""
             }
            },
            "type": "scattercarpet"
           }
          ],
          "scattergeo": [
           {
            "marker": {
             "colorbar": {
              "outlinewidth": 0,
              "ticks": ""
             }
            },
            "type": "scattergeo"
           }
          ],
          "scattergl": [
           {
            "marker": {
             "colorbar": {
              "outlinewidth": 0,
              "ticks": ""
             }
            },
            "type": "scattergl"
           }
          ],
          "scattermapbox": [
           {
            "marker": {
             "colorbar": {
              "outlinewidth": 0,
              "ticks": ""
             }
            },
            "type": "scattermapbox"
           }
          ],
          "scatterpolar": [
           {
            "marker": {
             "colorbar": {
              "outlinewidth": 0,
              "ticks": ""
             }
            },
            "type": "scatterpolar"
           }
          ],
          "scatterpolargl": [
           {
            "marker": {
             "colorbar": {
              "outlinewidth": 0,
              "ticks": ""
             }
            },
            "type": "scatterpolargl"
           }
          ],
          "scatterternary": [
           {
            "marker": {
             "colorbar": {
              "outlinewidth": 0,
              "ticks": ""
             }
            },
            "type": "scatterternary"
           }
          ],
          "surface": [
           {
            "colorbar": {
             "outlinewidth": 0,
             "ticks": ""
            },
            "colorscale": [
             [
              0,
              "#0d0887"
             ],
             [
              0.1111111111111111,
              "#46039f"
             ],
             [
              0.2222222222222222,
              "#7201a8"
             ],
             [
              0.3333333333333333,
              "#9c179e"
             ],
             [
              0.4444444444444444,
              "#bd3786"
             ],
             [
              0.5555555555555556,
              "#d8576b"
             ],
             [
              0.6666666666666666,
              "#ed7953"
             ],
             [
              0.7777777777777778,
              "#fb9f3a"
             ],
             [
              0.8888888888888888,
              "#fdca26"
             ],
             [
              1,
              "#f0f921"
             ]
            ],
            "type": "surface"
           }
          ],
          "table": [
           {
            "cells": {
             "fill": {
              "color": "#EBF0F8"
             },
             "line": {
              "color": "white"
             }
            },
            "header": {
             "fill": {
              "color": "#C8D4E3"
             },
             "line": {
              "color": "white"
             }
            },
            "type": "table"
           }
          ]
         },
         "layout": {
          "annotationdefaults": {
           "arrowcolor": "#2a3f5f",
           "arrowhead": 0,
           "arrowwidth": 1
          },
          "autotypenumbers": "strict",
          "coloraxis": {
           "colorbar": {
            "outlinewidth": 0,
            "ticks": ""
           }
          },
          "colorscale": {
           "diverging": [
            [
             0,
             "#8e0152"
            ],
            [
             0.1,
             "#c51b7d"
            ],
            [
             0.2,
             "#de77ae"
            ],
            [
             0.3,
             "#f1b6da"
            ],
            [
             0.4,
             "#fde0ef"
            ],
            [
             0.5,
             "#f7f7f7"
            ],
            [
             0.6,
             "#e6f5d0"
            ],
            [
             0.7,
             "#b8e186"
            ],
            [
             0.8,
             "#7fbc41"
            ],
            [
             0.9,
             "#4d9221"
            ],
            [
             1,
             "#276419"
            ]
           ],
           "sequential": [
            [
             0,
             "#0d0887"
            ],
            [
             0.1111111111111111,
             "#46039f"
            ],
            [
             0.2222222222222222,
             "#7201a8"
            ],
            [
             0.3333333333333333,
             "#9c179e"
            ],
            [
             0.4444444444444444,
             "#bd3786"
            ],
            [
             0.5555555555555556,
             "#d8576b"
            ],
            [
             0.6666666666666666,
             "#ed7953"
            ],
            [
             0.7777777777777778,
             "#fb9f3a"
            ],
            [
             0.8888888888888888,
             "#fdca26"
            ],
            [
             1,
             "#f0f921"
            ]
           ],
           "sequentialminus": [
            [
             0,
             "#0d0887"
            ],
            [
             0.1111111111111111,
             "#46039f"
            ],
            [
             0.2222222222222222,
             "#7201a8"
            ],
            [
             0.3333333333333333,
             "#9c179e"
            ],
            [
             0.4444444444444444,
             "#bd3786"
            ],
            [
             0.5555555555555556,
             "#d8576b"
            ],
            [
             0.6666666666666666,
             "#ed7953"
            ],
            [
             0.7777777777777778,
             "#fb9f3a"
            ],
            [
             0.8888888888888888,
             "#fdca26"
            ],
            [
             1,
             "#f0f921"
            ]
           ]
          },
          "colorway": [
           "#636efa",
           "#EF553B",
           "#00cc96",
           "#ab63fa",
           "#FFA15A",
           "#19d3f3",
           "#FF6692",
           "#B6E880",
           "#FF97FF",
           "#FECB52"
          ],
          "font": {
           "color": "#2a3f5f"
          },
          "geo": {
           "bgcolor": "white",
           "lakecolor": "white",
           "landcolor": "#E5ECF6",
           "showlakes": true,
           "showland": true,
           "subunitcolor": "white"
          },
          "hoverlabel": {
           "align": "left"
          },
          "hovermode": "closest",
          "mapbox": {
           "style": "light"
          },
          "paper_bgcolor": "white",
          "plot_bgcolor": "#E5ECF6",
          "polar": {
           "angularaxis": {
            "gridcolor": "white",
            "linecolor": "white",
            "ticks": ""
           },
           "bgcolor": "#E5ECF6",
           "radialaxis": {
            "gridcolor": "white",
            "linecolor": "white",
            "ticks": ""
           }
          },
          "scene": {
           "xaxis": {
            "backgroundcolor": "#E5ECF6",
            "gridcolor": "white",
            "gridwidth": 2,
            "linecolor": "white",
            "showbackground": true,
            "ticks": "",
            "zerolinecolor": "white"
           },
           "yaxis": {
            "backgroundcolor": "#E5ECF6",
            "gridcolor": "white",
            "gridwidth": 2,
            "linecolor": "white",
            "showbackground": true,
            "ticks": "",
            "zerolinecolor": "white"
           },
           "zaxis": {
            "backgroundcolor": "#E5ECF6",
            "gridcolor": "white",
            "gridwidth": 2,
            "linecolor": "white",
            "showbackground": true,
            "ticks": "",
            "zerolinecolor": "white"
           }
          },
          "shapedefaults": {
           "line": {
            "color": "#2a3f5f"
           }
          },
          "ternary": {
           "aaxis": {
            "gridcolor": "white",
            "linecolor": "white",
            "ticks": ""
           },
           "baxis": {
            "gridcolor": "white",
            "linecolor": "white",
            "ticks": ""
           },
           "bgcolor": "#E5ECF6",
           "caxis": {
            "gridcolor": "white",
            "linecolor": "white",
            "ticks": ""
           }
          },
          "title": {
           "x": 0.05
          },
          "xaxis": {
           "automargin": true,
           "gridcolor": "white",
           "linecolor": "white",
           "ticks": "",
           "title": {
            "standoff": 15
           },
           "zerolinecolor": "white",
           "zerolinewidth": 2
          },
          "yaxis": {
           "automargin": true,
           "gridcolor": "white",
           "linecolor": "white",
           "ticks": "",
           "title": {
            "standoff": 15
           },
           "zerolinecolor": "white",
           "zerolinewidth": 2
          }
         }
        },
        "xaxis": {
         "anchor": "y",
         "domain": [
          0,
          1
         ],
         "title": {
          "text": "Timestamp"
         }
        },
        "yaxis": {
         "anchor": "x",
         "domain": [
          0,
          1
         ],
         "title": {
          "text": "Value"
         }
        }
       }
      },
      "text/html": [
       "<div>                            <div id=\"f4dc7a5e-5b18-4237-9333-d1069f6654fd\" class=\"plotly-graph-div\" style=\"height:525px; width:100%;\"></div>            <script type=\"text/javascript\">                require([\"plotly\"], function(Plotly) {                    window.PLOTLYENV=window.PLOTLYENV || {};                                    if (document.getElementById(\"f4dc7a5e-5b18-4237-9333-d1069f6654fd\")) {                    Plotly.newPlot(                        \"f4dc7a5e-5b18-4237-9333-d1069f6654fd\",                        [{\"alignmentgroup\":\"True\",\"hovertemplate\":\"Timestamp=%{x}<br>Value=%{y}<extra></extra>\",\"legendgroup\":\"\",\"marker\":{\"color\":\"#636efa\",\"pattern\":{\"shape\":\"\"}},\"name\":\"\",\"offsetgroup\":\"\",\"orientation\":\"v\",\"showlegend\":false,\"textposition\":\"auto\",\"type\":\"bar\",\"x\":[\"2021-09-12T11:25:51.294027\",\"2021-09-12T11:26:51.294027\",\"2021-09-12T11:27:51.294027\",\"2021-09-12T11:28:51.294027\",\"2021-09-12T11:29:51.294027\",\"2021-09-12T11:30:51.294027\",\"2021-09-12T11:31:51.294027\",\"2021-09-12T11:32:51.294027\",\"2021-09-12T11:33:51.294027\",\"2021-09-12T11:34:51.294027\",\"2021-09-12T11:35:51.294027\",\"2021-09-12T11:36:51.294027\",\"2021-09-12T11:37:51.294027\",\"2021-09-12T11:38:51.294027\",\"2021-09-12T11:39:51.294027\",\"2021-09-12T11:40:51.294027\",\"2021-09-12T11:41:51.294027\",\"2021-09-12T11:42:51.294027\",\"2021-09-12T11:43:51.294027\",\"2021-09-12T11:44:51.294027\",\"2021-09-12T11:45:51.294027\",\"2021-09-12T11:46:51.294027\",\"2021-09-12T11:47:51.294027\",\"2021-09-12T11:48:51.294027\",\"2021-09-12T11:49:51.294027\",\"2021-09-12T11:50:51.294027\",\"2021-09-12T11:51:51.294027\",\"2021-09-12T11:52:51.294027\",\"2021-09-12T11:53:51.294027\",\"2021-09-12T11:54:51.294027\",\"2021-09-12T11:55:51.294027\",\"2021-09-12T11:56:51.294027\",\"2021-09-12T11:57:51.294027\",\"2021-09-12T11:58:51.294027\",\"2021-09-12T11:59:51.294027\",\"2021-09-12T12:00:51.294027\",\"2021-09-12T12:01:51.294027\",\"2021-09-12T12:02:51.294027\",\"2021-09-12T12:03:51.294027\",\"2021-09-12T12:04:51.294027\",\"2021-09-12T12:05:51.294027\",\"2021-09-12T12:06:51.294027\",\"2021-09-12T12:07:51.294027\",\"2021-09-12T12:08:51.294027\",\"2021-09-12T12:09:51.294027\",\"2021-09-12T12:10:51.294027\",\"2021-09-12T12:11:51.294027\",\"2021-09-12T12:12:51.294027\",\"2021-09-12T12:13:51.294027\",\"2021-09-12T12:14:51.294027\",\"2021-09-12T12:15:51.294027\",\"2021-09-12T12:16:51.294027\",\"2021-09-12T12:17:51.294027\",\"2021-09-12T12:18:51.294027\",\"2021-09-12T12:19:51.294027\",\"2021-09-12T12:20:51.294027\",\"2021-09-12T12:21:51.294027\",\"2021-09-12T12:22:51.294027\",\"2021-09-12T12:23:51.294027\",\"2021-09-12T12:24:51.294027\",\"2021-09-12T12:25:51.294027\",\"2021-09-12T12:26:51.294027\",\"2021-09-12T12:27:51.294027\",\"2021-09-12T12:28:51.294027\",\"2021-09-12T12:29:51.294027\",\"2021-09-12T12:30:51.294027\",\"2021-09-12T12:31:51.294027\",\"2021-09-12T12:32:51.294027\",\"2021-09-12T12:33:51.294027\",\"2021-09-12T12:34:51.294027\",\"2021-09-12T12:35:51.294027\",\"2021-09-12T12:36:51.294027\",\"2021-09-12T12:37:51.294027\",\"2021-09-12T12:38:51.294027\",\"2021-09-12T12:39:51.294027\",\"2021-09-12T12:40:51.294027\",\"2021-09-12T12:41:51.294027\",\"2021-09-12T12:42:51.294027\",\"2021-09-12T12:43:51.294027\",\"2021-09-12T12:44:51.294027\",\"2021-09-12T12:45:51.294027\",\"2021-09-12T12:46:51.294027\",\"2021-09-12T12:47:51.294027\",\"2021-09-12T12:48:51.294027\",\"2021-09-12T12:49:51.294027\",\"2021-09-12T12:50:51.294027\",\"2021-09-12T12:51:51.294027\",\"2021-09-12T12:52:51.294027\",\"2021-09-12T12:53:51.294027\",\"2021-09-12T12:54:51.294027\",\"2021-09-12T12:55:51.294027\",\"2021-09-12T12:56:51.294027\",\"2021-09-12T12:57:51.294027\",\"2021-09-12T12:58:51.294027\",\"2021-09-12T12:59:51.294027\",\"2021-09-12T13:00:51.294027\",\"2021-09-12T13:01:51.294027\",\"2021-09-12T13:02:51.294027\",\"2021-09-12T13:03:51.294027\",\"2021-09-12T13:04:51.294027\",\"2021-09-12T13:05:51.294027\",\"2021-09-12T13:06:51.294027\",\"2021-09-12T13:07:51.294027\",\"2021-09-12T13:08:51.294027\",\"2021-09-12T13:09:51.294027\",\"2021-09-12T13:10:51.294027\",\"2021-09-12T13:11:51.294027\",\"2021-09-12T13:12:51.294027\",\"2021-09-12T13:13:51.294027\",\"2021-09-12T13:14:51.294027\",\"2021-09-12T13:15:51.294027\",\"2021-09-12T13:16:51.294027\",\"2021-09-12T13:17:51.294027\",\"2021-09-12T13:18:51.294027\",\"2021-09-12T13:19:51.294027\",\"2021-09-12T13:20:51.294027\",\"2021-09-12T13:21:51.294027\",\"2021-09-12T13:22:51.294027\",\"2021-09-12T13:23:51.294027\",\"2021-09-12T13:24:51.294027\",\"2021-09-12T13:25:51.294027\",\"2021-09-12T13:26:51.294027\",\"2021-09-12T13:27:51.294027\",\"2021-09-12T13:28:51.294027\",\"2021-09-12T13:29:51.294027\",\"2021-09-12T13:30:51.294027\",\"2021-09-12T13:31:51.294027\",\"2021-09-12T13:32:51.294027\",\"2021-09-12T13:33:51.294027\",\"2021-09-12T13:34:51.294027\",\"2021-09-12T13:35:51.294027\",\"2021-09-12T13:36:51.294027\",\"2021-09-12T13:37:51.294027\",\"2021-09-12T13:38:51.294027\",\"2021-09-12T13:39:51.294027\",\"2021-09-12T13:40:51.294027\",\"2021-09-12T13:41:51.294027\",\"2021-09-12T13:42:51.294027\",\"2021-09-12T13:43:51.294027\",\"2021-09-12T13:44:51.294027\",\"2021-09-12T13:45:51.294027\",\"2021-09-12T13:46:51.294027\",\"2021-09-12T13:47:51.294027\",\"2021-09-12T13:48:51.294027\",\"2021-09-12T13:49:51.294027\",\"2021-09-12T13:50:51.294027\",\"2021-09-12T13:51:51.294027\",\"2021-09-12T13:52:51.294027\",\"2021-09-12T13:53:51.294027\",\"2021-09-12T13:54:51.294027\",\"2021-09-12T13:55:51.294027\",\"2021-09-12T13:56:51.294027\",\"2021-09-12T13:57:51.294027\",\"2021-09-12T13:58:51.294027\",\"2021-09-12T13:59:51.294027\",\"2021-09-12T14:00:51.294027\",\"2021-09-12T14:01:51.294027\",\"2021-09-12T14:02:51.294027\",\"2021-09-12T14:03:51.294027\",\"2021-09-12T14:04:51.294027\",\"2021-09-12T14:05:51.294027\",\"2021-09-12T14:06:51.294027\",\"2021-09-12T14:07:51.294027\",\"2021-09-12T14:08:51.294027\",\"2021-09-12T14:09:51.294027\",\"2021-09-12T14:10:51.294027\",\"2021-09-12T14:11:51.294027\",\"2021-09-12T14:12:51.294027\",\"2021-09-12T14:13:51.294027\",\"2021-09-12T14:14:51.294027\",\"2021-09-12T14:15:51.294027\",\"2021-09-12T14:16:51.294027\",\"2021-09-12T14:17:51.294027\",\"2021-09-12T14:18:51.294027\",\"2021-09-12T14:19:51.294027\",\"2021-09-12T14:20:51.294027\",\"2021-09-12T14:21:51.294027\",\"2021-09-12T14:22:51.294027\",\"2021-09-12T14:23:51.294027\",\"2021-09-12T14:24:51.294027\",\"2021-09-12T14:25:51.294027\",\"2021-09-12T14:26:51.294027\",\"2021-09-12T14:27:51.294027\",\"2021-09-12T14:28:51.294027\",\"2021-09-12T14:29:51.294027\",\"2021-09-12T14:30:51.294027\",\"2021-09-12T14:31:51.294027\",\"2021-09-12T14:32:51.294027\",\"2021-09-12T14:33:51.294027\",\"2021-09-12T14:34:51.294027\",\"2021-09-12T14:35:51.294027\",\"2021-09-12T14:36:51.294027\",\"2021-09-12T14:37:51.294027\",\"2021-09-12T14:38:51.294027\",\"2021-09-12T14:39:51.294027\",\"2021-09-12T14:40:51.294027\",\"2021-09-12T14:41:51.294027\",\"2021-09-12T14:42:51.294027\",\"2021-09-12T14:43:51.294027\",\"2021-09-12T14:44:51.294027\"],\"xaxis\":\"x\",\"y\":[0,1,1,1,1,1,1,2,2,2,2,2,2,2,3,3,3,3,3,3,3,4,4,4,4,4,4,4,5,5,4,5,5,5,5,5,5,5,5,5,5,5,5,5,5,5,5,5,5,5,5,5,5,5,5,5,5,5,5,5,5,5,5,5,5,5,5,5,5,5,5,5,5,5,5,5,5,5,5,5,5,5,5,5,5,5,5,5,5,5,5,5,5,5,5,5,5,5,5,5,5,5,5,5,5,5,5,5,5,5,5,5,5,5,5,5,5,5,5,5,5,5,5,5,5,5,5,5,5,5,5,5,5,5,5,5,5,5,5,5,5,5,5,5,5,5,5,5,5,5,5,5,5,5,5,5,5,5,5,5,5,5,5,5,5,5,5,5,5,5,5,5,5,5,5,5,5,5,5,5,5,5,5,5,5,5,5,5,5,5,5,5,5,5,5,5,5,5,5,5],\"yaxis\":\"y\"}],                        {\"barmode\":\"relative\",\"legend\":{\"tracegroupgap\":0},\"margin\":{\"t\":60},\"template\":{\"data\":{\"bar\":[{\"error_x\":{\"color\":\"#2a3f5f\"},\"error_y\":{\"color\":\"#2a3f5f\"},\"marker\":{\"line\":{\"color\":\"#E5ECF6\",\"width\":0.5},\"pattern\":{\"fillmode\":\"overlay\",\"size\":10,\"solidity\":0.2}},\"type\":\"bar\"}],\"barpolar\":[{\"marker\":{\"line\":{\"color\":\"#E5ECF6\",\"width\":0.5},\"pattern\":{\"fillmode\":\"overlay\",\"size\":10,\"solidity\":0.2}},\"type\":\"barpolar\"}],\"carpet\":[{\"aaxis\":{\"endlinecolor\":\"#2a3f5f\",\"gridcolor\":\"white\",\"linecolor\":\"white\",\"minorgridcolor\":\"white\",\"startlinecolor\":\"#2a3f5f\"},\"baxis\":{\"endlinecolor\":\"#2a3f5f\",\"gridcolor\":\"white\",\"linecolor\":\"white\",\"minorgridcolor\":\"white\",\"startlinecolor\":\"#2a3f5f\"},\"type\":\"carpet\"}],\"choropleth\":[{\"colorbar\":{\"outlinewidth\":0,\"ticks\":\"\"},\"type\":\"choropleth\"}],\"contour\":[{\"colorbar\":{\"outlinewidth\":0,\"ticks\":\"\"},\"colorscale\":[[0.0,\"#0d0887\"],[0.1111111111111111,\"#46039f\"],[0.2222222222222222,\"#7201a8\"],[0.3333333333333333,\"#9c179e\"],[0.4444444444444444,\"#bd3786\"],[0.5555555555555556,\"#d8576b\"],[0.6666666666666666,\"#ed7953\"],[0.7777777777777778,\"#fb9f3a\"],[0.8888888888888888,\"#fdca26\"],[1.0,\"#f0f921\"]],\"type\":\"contour\"}],\"contourcarpet\":[{\"colorbar\":{\"outlinewidth\":0,\"ticks\":\"\"},\"type\":\"contourcarpet\"}],\"heatmap\":[{\"colorbar\":{\"outlinewidth\":0,\"ticks\":\"\"},\"colorscale\":[[0.0,\"#0d0887\"],[0.1111111111111111,\"#46039f\"],[0.2222222222222222,\"#7201a8\"],[0.3333333333333333,\"#9c179e\"],[0.4444444444444444,\"#bd3786\"],[0.5555555555555556,\"#d8576b\"],[0.6666666666666666,\"#ed7953\"],[0.7777777777777778,\"#fb9f3a\"],[0.8888888888888888,\"#fdca26\"],[1.0,\"#f0f921\"]],\"type\":\"heatmap\"}],\"heatmapgl\":[{\"colorbar\":{\"outlinewidth\":0,\"ticks\":\"\"},\"colorscale\":[[0.0,\"#0d0887\"],[0.1111111111111111,\"#46039f\"],[0.2222222222222222,\"#7201a8\"],[0.3333333333333333,\"#9c179e\"],[0.4444444444444444,\"#bd3786\"],[0.5555555555555556,\"#d8576b\"],[0.6666666666666666,\"#ed7953\"],[0.7777777777777778,\"#fb9f3a\"],[0.8888888888888888,\"#fdca26\"],[1.0,\"#f0f921\"]],\"type\":\"heatmapgl\"}],\"histogram\":[{\"marker\":{\"pattern\":{\"fillmode\":\"overlay\",\"size\":10,\"solidity\":0.2}},\"type\":\"histogram\"}],\"histogram2d\":[{\"colorbar\":{\"outlinewidth\":0,\"ticks\":\"\"},\"colorscale\":[[0.0,\"#0d0887\"],[0.1111111111111111,\"#46039f\"],[0.2222222222222222,\"#7201a8\"],[0.3333333333333333,\"#9c179e\"],[0.4444444444444444,\"#bd3786\"],[0.5555555555555556,\"#d8576b\"],[0.6666666666666666,\"#ed7953\"],[0.7777777777777778,\"#fb9f3a\"],[0.8888888888888888,\"#fdca26\"],[1.0,\"#f0f921\"]],\"type\":\"histogram2d\"}],\"histogram2dcontour\":[{\"colorbar\":{\"outlinewidth\":0,\"ticks\":\"\"},\"colorscale\":[[0.0,\"#0d0887\"],[0.1111111111111111,\"#46039f\"],[0.2222222222222222,\"#7201a8\"],[0.3333333333333333,\"#9c179e\"],[0.4444444444444444,\"#bd3786\"],[0.5555555555555556,\"#d8576b\"],[0.6666666666666666,\"#ed7953\"],[0.7777777777777778,\"#fb9f3a\"],[0.8888888888888888,\"#fdca26\"],[1.0,\"#f0f921\"]],\"type\":\"histogram2dcontour\"}],\"mesh3d\":[{\"colorbar\":{\"outlinewidth\":0,\"ticks\":\"\"},\"type\":\"mesh3d\"}],\"parcoords\":[{\"line\":{\"colorbar\":{\"outlinewidth\":0,\"ticks\":\"\"}},\"type\":\"parcoords\"}],\"pie\":[{\"automargin\":true,\"type\":\"pie\"}],\"scatter\":[{\"marker\":{\"colorbar\":{\"outlinewidth\":0,\"ticks\":\"\"}},\"type\":\"scatter\"}],\"scatter3d\":[{\"line\":{\"colorbar\":{\"outlinewidth\":0,\"ticks\":\"\"}},\"marker\":{\"colorbar\":{\"outlinewidth\":0,\"ticks\":\"\"}},\"type\":\"scatter3d\"}],\"scattercarpet\":[{\"marker\":{\"colorbar\":{\"outlinewidth\":0,\"ticks\":\"\"}},\"type\":\"scattercarpet\"}],\"scattergeo\":[{\"marker\":{\"colorbar\":{\"outlinewidth\":0,\"ticks\":\"\"}},\"type\":\"scattergeo\"}],\"scattergl\":[{\"marker\":{\"colorbar\":{\"outlinewidth\":0,\"ticks\":\"\"}},\"type\":\"scattergl\"}],\"scattermapbox\":[{\"marker\":{\"colorbar\":{\"outlinewidth\":0,\"ticks\":\"\"}},\"type\":\"scattermapbox\"}],\"scatterpolar\":[{\"marker\":{\"colorbar\":{\"outlinewidth\":0,\"ticks\":\"\"}},\"type\":\"scatterpolar\"}],\"scatterpolargl\":[{\"marker\":{\"colorbar\":{\"outlinewidth\":0,\"ticks\":\"\"}},\"type\":\"scatterpolargl\"}],\"scatterternary\":[{\"marker\":{\"colorbar\":{\"outlinewidth\":0,\"ticks\":\"\"}},\"type\":\"scatterternary\"}],\"surface\":[{\"colorbar\":{\"outlinewidth\":0,\"ticks\":\"\"},\"colorscale\":[[0.0,\"#0d0887\"],[0.1111111111111111,\"#46039f\"],[0.2222222222222222,\"#7201a8\"],[0.3333333333333333,\"#9c179e\"],[0.4444444444444444,\"#bd3786\"],[0.5555555555555556,\"#d8576b\"],[0.6666666666666666,\"#ed7953\"],[0.7777777777777778,\"#fb9f3a\"],[0.8888888888888888,\"#fdca26\"],[1.0,\"#f0f921\"]],\"type\":\"surface\"}],\"table\":[{\"cells\":{\"fill\":{\"color\":\"#EBF0F8\"},\"line\":{\"color\":\"white\"}},\"header\":{\"fill\":{\"color\":\"#C8D4E3\"},\"line\":{\"color\":\"white\"}},\"type\":\"table\"}]},\"layout\":{\"annotationdefaults\":{\"arrowcolor\":\"#2a3f5f\",\"arrowhead\":0,\"arrowwidth\":1},\"autotypenumbers\":\"strict\",\"coloraxis\":{\"colorbar\":{\"outlinewidth\":0,\"ticks\":\"\"}},\"colorscale\":{\"diverging\":[[0,\"#8e0152\"],[0.1,\"#c51b7d\"],[0.2,\"#de77ae\"],[0.3,\"#f1b6da\"],[0.4,\"#fde0ef\"],[0.5,\"#f7f7f7\"],[0.6,\"#e6f5d0\"],[0.7,\"#b8e186\"],[0.8,\"#7fbc41\"],[0.9,\"#4d9221\"],[1,\"#276419\"]],\"sequential\":[[0.0,\"#0d0887\"],[0.1111111111111111,\"#46039f\"],[0.2222222222222222,\"#7201a8\"],[0.3333333333333333,\"#9c179e\"],[0.4444444444444444,\"#bd3786\"],[0.5555555555555556,\"#d8576b\"],[0.6666666666666666,\"#ed7953\"],[0.7777777777777778,\"#fb9f3a\"],[0.8888888888888888,\"#fdca26\"],[1.0,\"#f0f921\"]],\"sequentialminus\":[[0.0,\"#0d0887\"],[0.1111111111111111,\"#46039f\"],[0.2222222222222222,\"#7201a8\"],[0.3333333333333333,\"#9c179e\"],[0.4444444444444444,\"#bd3786\"],[0.5555555555555556,\"#d8576b\"],[0.6666666666666666,\"#ed7953\"],[0.7777777777777778,\"#fb9f3a\"],[0.8888888888888888,\"#fdca26\"],[1.0,\"#f0f921\"]]},\"colorway\":[\"#636efa\",\"#EF553B\",\"#00cc96\",\"#ab63fa\",\"#FFA15A\",\"#19d3f3\",\"#FF6692\",\"#B6E880\",\"#FF97FF\",\"#FECB52\"],\"font\":{\"color\":\"#2a3f5f\"},\"geo\":{\"bgcolor\":\"white\",\"lakecolor\":\"white\",\"landcolor\":\"#E5ECF6\",\"showlakes\":true,\"showland\":true,\"subunitcolor\":\"white\"},\"hoverlabel\":{\"align\":\"left\"},\"hovermode\":\"closest\",\"mapbox\":{\"style\":\"light\"},\"paper_bgcolor\":\"white\",\"plot_bgcolor\":\"#E5ECF6\",\"polar\":{\"angularaxis\":{\"gridcolor\":\"white\",\"linecolor\":\"white\",\"ticks\":\"\"},\"bgcolor\":\"#E5ECF6\",\"radialaxis\":{\"gridcolor\":\"white\",\"linecolor\":\"white\",\"ticks\":\"\"}},\"scene\":{\"xaxis\":{\"backgroundcolor\":\"#E5ECF6\",\"gridcolor\":\"white\",\"gridwidth\":2,\"linecolor\":\"white\",\"showbackground\":true,\"ticks\":\"\",\"zerolinecolor\":\"white\"},\"yaxis\":{\"backgroundcolor\":\"#E5ECF6\",\"gridcolor\":\"white\",\"gridwidth\":2,\"linecolor\":\"white\",\"showbackground\":true,\"ticks\":\"\",\"zerolinecolor\":\"white\"},\"zaxis\":{\"backgroundcolor\":\"#E5ECF6\",\"gridcolor\":\"white\",\"gridwidth\":2,\"linecolor\":\"white\",\"showbackground\":true,\"ticks\":\"\",\"zerolinecolor\":\"white\"}},\"shapedefaults\":{\"line\":{\"color\":\"#2a3f5f\"}},\"ternary\":{\"aaxis\":{\"gridcolor\":\"white\",\"linecolor\":\"white\",\"ticks\":\"\"},\"baxis\":{\"gridcolor\":\"white\",\"linecolor\":\"white\",\"ticks\":\"\"},\"bgcolor\":\"#E5ECF6\",\"caxis\":{\"gridcolor\":\"white\",\"linecolor\":\"white\",\"ticks\":\"\"}},\"title\":{\"x\":0.05},\"xaxis\":{\"automargin\":true,\"gridcolor\":\"white\",\"linecolor\":\"white\",\"ticks\":\"\",\"title\":{\"standoff\":15},\"zerolinecolor\":\"white\",\"zerolinewidth\":2},\"yaxis\":{\"automargin\":true,\"gridcolor\":\"white\",\"linecolor\":\"white\",\"ticks\":\"\",\"title\":{\"standoff\":15},\"zerolinecolor\":\"white\",\"zerolinewidth\":2}}},\"xaxis\":{\"anchor\":\"y\",\"domain\":[0.0,1.0],\"title\":{\"text\":\"Timestamp\"}},\"yaxis\":{\"anchor\":\"x\",\"domain\":[0.0,1.0],\"title\":{\"text\":\"Value\"}}},                        {\"responsive\": true}                    ).then(function(){\n",
       "                            \n",
       "var gd = document.getElementById('f4dc7a5e-5b18-4237-9333-d1069f6654fd');\n",
       "var x = new MutationObserver(function (mutations, observer) {{\n",
       "        var display = window.getComputedStyle(gd).display;\n",
       "        if (!display || display === 'none') {{\n",
       "            console.log([gd, 'removed!']);\n",
       "            Plotly.purge(gd);\n",
       "            observer.disconnect();\n",
       "        }}\n",
       "}});\n",
       "\n",
       "// Listen for the removal of the full notebook cells\n",
       "var notebookContainer = gd.closest('#notebook-container');\n",
       "if (notebookContainer) {{\n",
       "    x.observe(notebookContainer, {childList: true});\n",
       "}}\n",
       "\n",
       "// Listen for the clearing of the current output cell\n",
       "var outputEl = gd.closest('.output');\n",
       "if (outputEl) {{\n",
       "    x.observe(outputEl, {childList: true});\n",
       "}}\n",
       "\n",
       "                        })                };                });            </script>        </div>"
      ]
     },
     "metadata": {},
     "output_type": "display_data"
    }
   ],
   "source": [
    "#df = dfs['occupied_slots']\n",
    "df = df_system[ df_system.Metric == Metric.BS.value ]\n",
    "fig = px.bar(df, x='Timestamp', y='Value')\n",
    "fig.show()"
   ]
  },
  {
   "cell_type": "markdown",
   "metadata": {},
   "source": [
    "## Requests waiting"
   ]
  },
  {
   "cell_type": "code",
   "execution_count": 57,
   "metadata": {},
   "outputs": [
    {
     "data": {
      "application/vnd.plotly.v1+json": {
       "config": {
        "plotlyServerURL": "https://plot.ly"
       },
       "data": [
        {
         "alignmentgroup": "True",
         "hovertemplate": "Timestamp=%{x}<br>Value=%{y}<extra></extra>",
         "legendgroup": "",
         "marker": {
          "color": "#636efa",
          "pattern": {
           "shape": ""
          }
         },
         "name": "",
         "offsetgroup": "",
         "orientation": "v",
         "showlegend": false,
         "textposition": "auto",
         "type": "bar",
         "x": [
          "2021-09-12T11:25:51.294027",
          "2021-09-12T11:26:51.294027",
          "2021-09-12T11:27:51.294027",
          "2021-09-12T11:28:51.294027",
          "2021-09-12T11:29:51.294027",
          "2021-09-12T11:30:51.294027",
          "2021-09-12T11:31:51.294027",
          "2021-09-12T11:32:51.294027",
          "2021-09-12T11:33:51.294027",
          "2021-09-12T11:34:51.294027",
          "2021-09-12T11:35:51.294027",
          "2021-09-12T11:36:51.294027",
          "2021-09-12T11:37:51.294027",
          "2021-09-12T11:38:51.294027",
          "2021-09-12T11:39:51.294027",
          "2021-09-12T11:40:51.294027",
          "2021-09-12T11:41:51.294027",
          "2021-09-12T11:42:51.294027",
          "2021-09-12T11:43:51.294027",
          "2021-09-12T11:44:51.294027",
          "2021-09-12T11:45:51.294027",
          "2021-09-12T11:46:51.294027",
          "2021-09-12T11:47:51.294027",
          "2021-09-12T11:48:51.294027",
          "2021-09-12T11:49:51.294027",
          "2021-09-12T11:50:51.294027",
          "2021-09-12T11:51:51.294027",
          "2021-09-12T11:52:51.294027",
          "2021-09-12T11:53:51.294027",
          "2021-09-12T11:54:51.294027",
          "2021-09-12T11:55:51.294027",
          "2021-09-12T11:56:51.294027",
          "2021-09-12T11:57:51.294027",
          "2021-09-12T11:58:51.294027",
          "2021-09-12T11:59:51.294027",
          "2021-09-12T12:00:51.294027",
          "2021-09-12T12:01:51.294027",
          "2021-09-12T12:02:51.294027",
          "2021-09-12T12:03:51.294027",
          "2021-09-12T12:04:51.294027",
          "2021-09-12T12:05:51.294027",
          "2021-09-12T12:06:51.294027",
          "2021-09-12T12:07:51.294027",
          "2021-09-12T12:08:51.294027",
          "2021-09-12T12:09:51.294027",
          "2021-09-12T12:10:51.294027",
          "2021-09-12T12:11:51.294027",
          "2021-09-12T12:12:51.294027",
          "2021-09-12T12:13:51.294027",
          "2021-09-12T12:14:51.294027",
          "2021-09-12T12:15:51.294027",
          "2021-09-12T12:16:51.294027",
          "2021-09-12T12:17:51.294027",
          "2021-09-12T12:18:51.294027",
          "2021-09-12T12:19:51.294027",
          "2021-09-12T12:20:51.294027",
          "2021-09-12T12:21:51.294027",
          "2021-09-12T12:22:51.294027",
          "2021-09-12T12:23:51.294027",
          "2021-09-12T12:24:51.294027",
          "2021-09-12T12:25:51.294027",
          "2021-09-12T12:26:51.294027",
          "2021-09-12T12:27:51.294027",
          "2021-09-12T12:28:51.294027",
          "2021-09-12T12:29:51.294027",
          "2021-09-12T12:30:51.294027",
          "2021-09-12T12:31:51.294027",
          "2021-09-12T12:32:51.294027",
          "2021-09-12T12:33:51.294027",
          "2021-09-12T12:34:51.294027",
          "2021-09-12T12:35:51.294027",
          "2021-09-12T12:36:51.294027",
          "2021-09-12T12:37:51.294027",
          "2021-09-12T12:38:51.294027",
          "2021-09-12T12:39:51.294027",
          "2021-09-12T12:40:51.294027",
          "2021-09-12T12:41:51.294027",
          "2021-09-12T12:42:51.294027",
          "2021-09-12T12:43:51.294027",
          "2021-09-12T12:44:51.294027",
          "2021-09-12T12:45:51.294027",
          "2021-09-12T12:46:51.294027",
          "2021-09-12T12:47:51.294027",
          "2021-09-12T12:48:51.294027",
          "2021-09-12T12:49:51.294027",
          "2021-09-12T12:50:51.294027",
          "2021-09-12T12:51:51.294027",
          "2021-09-12T12:52:51.294027",
          "2021-09-12T12:53:51.294027",
          "2021-09-12T12:54:51.294027",
          "2021-09-12T12:55:51.294027",
          "2021-09-12T12:56:51.294027",
          "2021-09-12T12:57:51.294027",
          "2021-09-12T12:58:51.294027",
          "2021-09-12T12:59:51.294027",
          "2021-09-12T13:00:51.294027",
          "2021-09-12T13:01:51.294027",
          "2021-09-12T13:02:51.294027",
          "2021-09-12T13:03:51.294027",
          "2021-09-12T13:04:51.294027",
          "2021-09-12T13:05:51.294027",
          "2021-09-12T13:06:51.294027",
          "2021-09-12T13:07:51.294027",
          "2021-09-12T13:08:51.294027",
          "2021-09-12T13:09:51.294027",
          "2021-09-12T13:10:51.294027",
          "2021-09-12T13:11:51.294027",
          "2021-09-12T13:12:51.294027",
          "2021-09-12T13:13:51.294027",
          "2021-09-12T13:14:51.294027",
          "2021-09-12T13:15:51.294027",
          "2021-09-12T13:16:51.294027",
          "2021-09-12T13:17:51.294027",
          "2021-09-12T13:18:51.294027",
          "2021-09-12T13:19:51.294027",
          "2021-09-12T13:20:51.294027",
          "2021-09-12T13:21:51.294027",
          "2021-09-12T13:22:51.294027",
          "2021-09-12T13:23:51.294027",
          "2021-09-12T13:24:51.294027",
          "2021-09-12T13:25:51.294027",
          "2021-09-12T13:26:51.294027",
          "2021-09-12T13:27:51.294027",
          "2021-09-12T13:28:51.294027",
          "2021-09-12T13:29:51.294027",
          "2021-09-12T13:30:51.294027",
          "2021-09-12T13:31:51.294027",
          "2021-09-12T13:32:51.294027",
          "2021-09-12T13:33:51.294027",
          "2021-09-12T13:34:51.294027",
          "2021-09-12T13:35:51.294027",
          "2021-09-12T13:36:51.294027",
          "2021-09-12T13:37:51.294027",
          "2021-09-12T13:38:51.294027",
          "2021-09-12T13:39:51.294027",
          "2021-09-12T13:40:51.294027",
          "2021-09-12T13:41:51.294027",
          "2021-09-12T13:42:51.294027",
          "2021-09-12T13:43:51.294027",
          "2021-09-12T13:44:51.294027",
          "2021-09-12T13:45:51.294027",
          "2021-09-12T13:46:51.294027",
          "2021-09-12T13:47:51.294027",
          "2021-09-12T13:48:51.294027",
          "2021-09-12T13:49:51.294027",
          "2021-09-12T13:50:51.294027",
          "2021-09-12T13:51:51.294027",
          "2021-09-12T13:52:51.294027",
          "2021-09-12T13:53:51.294027",
          "2021-09-12T13:54:51.294027",
          "2021-09-12T13:55:51.294027",
          "2021-09-12T13:56:51.294027",
          "2021-09-12T13:57:51.294027",
          "2021-09-12T13:58:51.294027",
          "2021-09-12T13:59:51.294027",
          "2021-09-12T14:00:51.294027",
          "2021-09-12T14:01:51.294027",
          "2021-09-12T14:02:51.294027",
          "2021-09-12T14:03:51.294027",
          "2021-09-12T14:04:51.294027",
          "2021-09-12T14:05:51.294027",
          "2021-09-12T14:06:51.294027",
          "2021-09-12T14:07:51.294027",
          "2021-09-12T14:08:51.294027",
          "2021-09-12T14:09:51.294027",
          "2021-09-12T14:10:51.294027",
          "2021-09-12T14:11:51.294027",
          "2021-09-12T14:12:51.294027",
          "2021-09-12T14:13:51.294027",
          "2021-09-12T14:14:51.294027",
          "2021-09-12T14:15:51.294027",
          "2021-09-12T14:16:51.294027",
          "2021-09-12T14:17:51.294027",
          "2021-09-12T14:18:51.294027",
          "2021-09-12T14:19:51.294027",
          "2021-09-12T14:20:51.294027",
          "2021-09-12T14:21:51.294027",
          "2021-09-12T14:22:51.294027",
          "2021-09-12T14:23:51.294027",
          "2021-09-12T14:24:51.294027",
          "2021-09-12T14:25:51.294027",
          "2021-09-12T14:26:51.294027",
          "2021-09-12T14:27:51.294027",
          "2021-09-12T14:28:51.294027",
          "2021-09-12T14:29:51.294027",
          "2021-09-12T14:30:51.294027",
          "2021-09-12T14:31:51.294027",
          "2021-09-12T14:32:51.294027",
          "2021-09-12T14:33:51.294027",
          "2021-09-12T14:34:51.294027",
          "2021-09-12T14:35:51.294027",
          "2021-09-12T14:36:51.294027",
          "2021-09-12T14:37:51.294027",
          "2021-09-12T14:38:51.294027",
          "2021-09-12T14:39:51.294027",
          "2021-09-12T14:40:51.294027",
          "2021-09-12T14:41:51.294027",
          "2021-09-12T14:42:51.294027",
          "2021-09-12T14:43:51.294027",
          "2021-09-12T14:44:51.294027"
         ],
         "xaxis": "x",
         "y": [
          0,
          0,
          0,
          0,
          0,
          0,
          0,
          0,
          0,
          0,
          0,
          0,
          0,
          0,
          0,
          0,
          0,
          0,
          0,
          0,
          0,
          0,
          0,
          0,
          0,
          0,
          0,
          0,
          0,
          0,
          1,
          0,
          0,
          0,
          0,
          1,
          1,
          1,
          1,
          1,
          2,
          2,
          2,
          2,
          2,
          3,
          3,
          3,
          3,
          3,
          4,
          4,
          4,
          4,
          4,
          5,
          5,
          5,
          5,
          5,
          6,
          6,
          6,
          6,
          6,
          7,
          7,
          7,
          7,
          7,
          8,
          8,
          8,
          8,
          8,
          9,
          9,
          9,
          9,
          9,
          10,
          10,
          10,
          10,
          10,
          11,
          11,
          11,
          11,
          11,
          12,
          12,
          12,
          12,
          12,
          13,
          13,
          13,
          13,
          13,
          13,
          13,
          13,
          13,
          13,
          13,
          13,
          13,
          13,
          13,
          13,
          13,
          13,
          13,
          13,
          13,
          13,
          13,
          13,
          13,
          13,
          13,
          13,
          13,
          13,
          13,
          13,
          13,
          13,
          13,
          13,
          13,
          13,
          13,
          13,
          13,
          13,
          13,
          13,
          13,
          13,
          13,
          13,
          13,
          13,
          13,
          13,
          13,
          13,
          13,
          13,
          13,
          13,
          13,
          13,
          13,
          13,
          13,
          13,
          13,
          13,
          13,
          13,
          13,
          13,
          13,
          13,
          13,
          13,
          13,
          13,
          13,
          13,
          13,
          13,
          13,
          13,
          13,
          13,
          13,
          13,
          13,
          13,
          13,
          13,
          13,
          13,
          13,
          13,
          13,
          13,
          13,
          13,
          13,
          13,
          13,
          13,
          13,
          13,
          13
         ],
         "yaxis": "y"
        }
       ],
       "layout": {
        "barmode": "relative",
        "legend": {
         "tracegroupgap": 0
        },
        "margin": {
         "t": 60
        },
        "template": {
         "data": {
          "bar": [
           {
            "error_x": {
             "color": "#2a3f5f"
            },
            "error_y": {
             "color": "#2a3f5f"
            },
            "marker": {
             "line": {
              "color": "#E5ECF6",
              "width": 0.5
             },
             "pattern": {
              "fillmode": "overlay",
              "size": 10,
              "solidity": 0.2
             }
            },
            "type": "bar"
           }
          ],
          "barpolar": [
           {
            "marker": {
             "line": {
              "color": "#E5ECF6",
              "width": 0.5
             },
             "pattern": {
              "fillmode": "overlay",
              "size": 10,
              "solidity": 0.2
             }
            },
            "type": "barpolar"
           }
          ],
          "carpet": [
           {
            "aaxis": {
             "endlinecolor": "#2a3f5f",
             "gridcolor": "white",
             "linecolor": "white",
             "minorgridcolor": "white",
             "startlinecolor": "#2a3f5f"
            },
            "baxis": {
             "endlinecolor": "#2a3f5f",
             "gridcolor": "white",
             "linecolor": "white",
             "minorgridcolor": "white",
             "startlinecolor": "#2a3f5f"
            },
            "type": "carpet"
           }
          ],
          "choropleth": [
           {
            "colorbar": {
             "outlinewidth": 0,
             "ticks": ""
            },
            "type": "choropleth"
           }
          ],
          "contour": [
           {
            "colorbar": {
             "outlinewidth": 0,
             "ticks": ""
            },
            "colorscale": [
             [
              0,
              "#0d0887"
             ],
             [
              0.1111111111111111,
              "#46039f"
             ],
             [
              0.2222222222222222,
              "#7201a8"
             ],
             [
              0.3333333333333333,
              "#9c179e"
             ],
             [
              0.4444444444444444,
              "#bd3786"
             ],
             [
              0.5555555555555556,
              "#d8576b"
             ],
             [
              0.6666666666666666,
              "#ed7953"
             ],
             [
              0.7777777777777778,
              "#fb9f3a"
             ],
             [
              0.8888888888888888,
              "#fdca26"
             ],
             [
              1,
              "#f0f921"
             ]
            ],
            "type": "contour"
           }
          ],
          "contourcarpet": [
           {
            "colorbar": {
             "outlinewidth": 0,
             "ticks": ""
            },
            "type": "contourcarpet"
           }
          ],
          "heatmap": [
           {
            "colorbar": {
             "outlinewidth": 0,
             "ticks": ""
            },
            "colorscale": [
             [
              0,
              "#0d0887"
             ],
             [
              0.1111111111111111,
              "#46039f"
             ],
             [
              0.2222222222222222,
              "#7201a8"
             ],
             [
              0.3333333333333333,
              "#9c179e"
             ],
             [
              0.4444444444444444,
              "#bd3786"
             ],
             [
              0.5555555555555556,
              "#d8576b"
             ],
             [
              0.6666666666666666,
              "#ed7953"
             ],
             [
              0.7777777777777778,
              "#fb9f3a"
             ],
             [
              0.8888888888888888,
              "#fdca26"
             ],
             [
              1,
              "#f0f921"
             ]
            ],
            "type": "heatmap"
           }
          ],
          "heatmapgl": [
           {
            "colorbar": {
             "outlinewidth": 0,
             "ticks": ""
            },
            "colorscale": [
             [
              0,
              "#0d0887"
             ],
             [
              0.1111111111111111,
              "#46039f"
             ],
             [
              0.2222222222222222,
              "#7201a8"
             ],
             [
              0.3333333333333333,
              "#9c179e"
             ],
             [
              0.4444444444444444,
              "#bd3786"
             ],
             [
              0.5555555555555556,
              "#d8576b"
             ],
             [
              0.6666666666666666,
              "#ed7953"
             ],
             [
              0.7777777777777778,
              "#fb9f3a"
             ],
             [
              0.8888888888888888,
              "#fdca26"
             ],
             [
              1,
              "#f0f921"
             ]
            ],
            "type": "heatmapgl"
           }
          ],
          "histogram": [
           {
            "marker": {
             "pattern": {
              "fillmode": "overlay",
              "size": 10,
              "solidity": 0.2
             }
            },
            "type": "histogram"
           }
          ],
          "histogram2d": [
           {
            "colorbar": {
             "outlinewidth": 0,
             "ticks": ""
            },
            "colorscale": [
             [
              0,
              "#0d0887"
             ],
             [
              0.1111111111111111,
              "#46039f"
             ],
             [
              0.2222222222222222,
              "#7201a8"
             ],
             [
              0.3333333333333333,
              "#9c179e"
             ],
             [
              0.4444444444444444,
              "#bd3786"
             ],
             [
              0.5555555555555556,
              "#d8576b"
             ],
             [
              0.6666666666666666,
              "#ed7953"
             ],
             [
              0.7777777777777778,
              "#fb9f3a"
             ],
             [
              0.8888888888888888,
              "#fdca26"
             ],
             [
              1,
              "#f0f921"
             ]
            ],
            "type": "histogram2d"
           }
          ],
          "histogram2dcontour": [
           {
            "colorbar": {
             "outlinewidth": 0,
             "ticks": ""
            },
            "colorscale": [
             [
              0,
              "#0d0887"
             ],
             [
              0.1111111111111111,
              "#46039f"
             ],
             [
              0.2222222222222222,
              "#7201a8"
             ],
             [
              0.3333333333333333,
              "#9c179e"
             ],
             [
              0.4444444444444444,
              "#bd3786"
             ],
             [
              0.5555555555555556,
              "#d8576b"
             ],
             [
              0.6666666666666666,
              "#ed7953"
             ],
             [
              0.7777777777777778,
              "#fb9f3a"
             ],
             [
              0.8888888888888888,
              "#fdca26"
             ],
             [
              1,
              "#f0f921"
             ]
            ],
            "type": "histogram2dcontour"
           }
          ],
          "mesh3d": [
           {
            "colorbar": {
             "outlinewidth": 0,
             "ticks": ""
            },
            "type": "mesh3d"
           }
          ],
          "parcoords": [
           {
            "line": {
             "colorbar": {
              "outlinewidth": 0,
              "ticks": ""
             }
            },
            "type": "parcoords"
           }
          ],
          "pie": [
           {
            "automargin": true,
            "type": "pie"
           }
          ],
          "scatter": [
           {
            "marker": {
             "colorbar": {
              "outlinewidth": 0,
              "ticks": ""
             }
            },
            "type": "scatter"
           }
          ],
          "scatter3d": [
           {
            "line": {
             "colorbar": {
              "outlinewidth": 0,
              "ticks": ""
             }
            },
            "marker": {
             "colorbar": {
              "outlinewidth": 0,
              "ticks": ""
             }
            },
            "type": "scatter3d"
           }
          ],
          "scattercarpet": [
           {
            "marker": {
             "colorbar": {
              "outlinewidth": 0,
              "ticks": ""
             }
            },
            "type": "scattercarpet"
           }
          ],
          "scattergeo": [
           {
            "marker": {
             "colorbar": {
              "outlinewidth": 0,
              "ticks": ""
             }
            },
            "type": "scattergeo"
           }
          ],
          "scattergl": [
           {
            "marker": {
             "colorbar": {
              "outlinewidth": 0,
              "ticks": ""
             }
            },
            "type": "scattergl"
           }
          ],
          "scattermapbox": [
           {
            "marker": {
             "colorbar": {
              "outlinewidth": 0,
              "ticks": ""
             }
            },
            "type": "scattermapbox"
           }
          ],
          "scatterpolar": [
           {
            "marker": {
             "colorbar": {
              "outlinewidth": 0,
              "ticks": ""
             }
            },
            "type": "scatterpolar"
           }
          ],
          "scatterpolargl": [
           {
            "marker": {
             "colorbar": {
              "outlinewidth": 0,
              "ticks": ""
             }
            },
            "type": "scatterpolargl"
           }
          ],
          "scatterternary": [
           {
            "marker": {
             "colorbar": {
              "outlinewidth": 0,
              "ticks": ""
             }
            },
            "type": "scatterternary"
           }
          ],
          "surface": [
           {
            "colorbar": {
             "outlinewidth": 0,
             "ticks": ""
            },
            "colorscale": [
             [
              0,
              "#0d0887"
             ],
             [
              0.1111111111111111,
              "#46039f"
             ],
             [
              0.2222222222222222,
              "#7201a8"
             ],
             [
              0.3333333333333333,
              "#9c179e"
             ],
             [
              0.4444444444444444,
              "#bd3786"
             ],
             [
              0.5555555555555556,
              "#d8576b"
             ],
             [
              0.6666666666666666,
              "#ed7953"
             ],
             [
              0.7777777777777778,
              "#fb9f3a"
             ],
             [
              0.8888888888888888,
              "#fdca26"
             ],
             [
              1,
              "#f0f921"
             ]
            ],
            "type": "surface"
           }
          ],
          "table": [
           {
            "cells": {
             "fill": {
              "color": "#EBF0F8"
             },
             "line": {
              "color": "white"
             }
            },
            "header": {
             "fill": {
              "color": "#C8D4E3"
             },
             "line": {
              "color": "white"
             }
            },
            "type": "table"
           }
          ]
         },
         "layout": {
          "annotationdefaults": {
           "arrowcolor": "#2a3f5f",
           "arrowhead": 0,
           "arrowwidth": 1
          },
          "autotypenumbers": "strict",
          "coloraxis": {
           "colorbar": {
            "outlinewidth": 0,
            "ticks": ""
           }
          },
          "colorscale": {
           "diverging": [
            [
             0,
             "#8e0152"
            ],
            [
             0.1,
             "#c51b7d"
            ],
            [
             0.2,
             "#de77ae"
            ],
            [
             0.3,
             "#f1b6da"
            ],
            [
             0.4,
             "#fde0ef"
            ],
            [
             0.5,
             "#f7f7f7"
            ],
            [
             0.6,
             "#e6f5d0"
            ],
            [
             0.7,
             "#b8e186"
            ],
            [
             0.8,
             "#7fbc41"
            ],
            [
             0.9,
             "#4d9221"
            ],
            [
             1,
             "#276419"
            ]
           ],
           "sequential": [
            [
             0,
             "#0d0887"
            ],
            [
             0.1111111111111111,
             "#46039f"
            ],
            [
             0.2222222222222222,
             "#7201a8"
            ],
            [
             0.3333333333333333,
             "#9c179e"
            ],
            [
             0.4444444444444444,
             "#bd3786"
            ],
            [
             0.5555555555555556,
             "#d8576b"
            ],
            [
             0.6666666666666666,
             "#ed7953"
            ],
            [
             0.7777777777777778,
             "#fb9f3a"
            ],
            [
             0.8888888888888888,
             "#fdca26"
            ],
            [
             1,
             "#f0f921"
            ]
           ],
           "sequentialminus": [
            [
             0,
             "#0d0887"
            ],
            [
             0.1111111111111111,
             "#46039f"
            ],
            [
             0.2222222222222222,
             "#7201a8"
            ],
            [
             0.3333333333333333,
             "#9c179e"
            ],
            [
             0.4444444444444444,
             "#bd3786"
            ],
            [
             0.5555555555555556,
             "#d8576b"
            ],
            [
             0.6666666666666666,
             "#ed7953"
            ],
            [
             0.7777777777777778,
             "#fb9f3a"
            ],
            [
             0.8888888888888888,
             "#fdca26"
            ],
            [
             1,
             "#f0f921"
            ]
           ]
          },
          "colorway": [
           "#636efa",
           "#EF553B",
           "#00cc96",
           "#ab63fa",
           "#FFA15A",
           "#19d3f3",
           "#FF6692",
           "#B6E880",
           "#FF97FF",
           "#FECB52"
          ],
          "font": {
           "color": "#2a3f5f"
          },
          "geo": {
           "bgcolor": "white",
           "lakecolor": "white",
           "landcolor": "#E5ECF6",
           "showlakes": true,
           "showland": true,
           "subunitcolor": "white"
          },
          "hoverlabel": {
           "align": "left"
          },
          "hovermode": "closest",
          "mapbox": {
           "style": "light"
          },
          "paper_bgcolor": "white",
          "plot_bgcolor": "#E5ECF6",
          "polar": {
           "angularaxis": {
            "gridcolor": "white",
            "linecolor": "white",
            "ticks": ""
           },
           "bgcolor": "#E5ECF6",
           "radialaxis": {
            "gridcolor": "white",
            "linecolor": "white",
            "ticks": ""
           }
          },
          "scene": {
           "xaxis": {
            "backgroundcolor": "#E5ECF6",
            "gridcolor": "white",
            "gridwidth": 2,
            "linecolor": "white",
            "showbackground": true,
            "ticks": "",
            "zerolinecolor": "white"
           },
           "yaxis": {
            "backgroundcolor": "#E5ECF6",
            "gridcolor": "white",
            "gridwidth": 2,
            "linecolor": "white",
            "showbackground": true,
            "ticks": "",
            "zerolinecolor": "white"
           },
           "zaxis": {
            "backgroundcolor": "#E5ECF6",
            "gridcolor": "white",
            "gridwidth": 2,
            "linecolor": "white",
            "showbackground": true,
            "ticks": "",
            "zerolinecolor": "white"
           }
          },
          "shapedefaults": {
           "line": {
            "color": "#2a3f5f"
           }
          },
          "ternary": {
           "aaxis": {
            "gridcolor": "white",
            "linecolor": "white",
            "ticks": ""
           },
           "baxis": {
            "gridcolor": "white",
            "linecolor": "white",
            "ticks": ""
           },
           "bgcolor": "#E5ECF6",
           "caxis": {
            "gridcolor": "white",
            "linecolor": "white",
            "ticks": ""
           }
          },
          "title": {
           "x": 0.05
          },
          "xaxis": {
           "automargin": true,
           "gridcolor": "white",
           "linecolor": "white",
           "ticks": "",
           "title": {
            "standoff": 15
           },
           "zerolinecolor": "white",
           "zerolinewidth": 2
          },
          "yaxis": {
           "automargin": true,
           "gridcolor": "white",
           "linecolor": "white",
           "ticks": "",
           "title": {
            "standoff": 15
           },
           "zerolinecolor": "white",
           "zerolinewidth": 2
          }
         }
        },
        "xaxis": {
         "anchor": "y",
         "domain": [
          0,
          1
         ],
         "title": {
          "text": "Timestamp"
         }
        },
        "yaxis": {
         "anchor": "x",
         "domain": [
          0,
          1
         ],
         "title": {
          "text": "Value"
         }
        }
       }
      },
      "text/html": [
       "<div>                            <div id=\"1cde384d-4360-4cd8-9392-c2fe184454e4\" class=\"plotly-graph-div\" style=\"height:525px; width:100%;\"></div>            <script type=\"text/javascript\">                require([\"plotly\"], function(Plotly) {                    window.PLOTLYENV=window.PLOTLYENV || {};                                    if (document.getElementById(\"1cde384d-4360-4cd8-9392-c2fe184454e4\")) {                    Plotly.newPlot(                        \"1cde384d-4360-4cd8-9392-c2fe184454e4\",                        [{\"alignmentgroup\":\"True\",\"hovertemplate\":\"Timestamp=%{x}<br>Value=%{y}<extra></extra>\",\"legendgroup\":\"\",\"marker\":{\"color\":\"#636efa\",\"pattern\":{\"shape\":\"\"}},\"name\":\"\",\"offsetgroup\":\"\",\"orientation\":\"v\",\"showlegend\":false,\"textposition\":\"auto\",\"type\":\"bar\",\"x\":[\"2021-09-12T11:25:51.294027\",\"2021-09-12T11:26:51.294027\",\"2021-09-12T11:27:51.294027\",\"2021-09-12T11:28:51.294027\",\"2021-09-12T11:29:51.294027\",\"2021-09-12T11:30:51.294027\",\"2021-09-12T11:31:51.294027\",\"2021-09-12T11:32:51.294027\",\"2021-09-12T11:33:51.294027\",\"2021-09-12T11:34:51.294027\",\"2021-09-12T11:35:51.294027\",\"2021-09-12T11:36:51.294027\",\"2021-09-12T11:37:51.294027\",\"2021-09-12T11:38:51.294027\",\"2021-09-12T11:39:51.294027\",\"2021-09-12T11:40:51.294027\",\"2021-09-12T11:41:51.294027\",\"2021-09-12T11:42:51.294027\",\"2021-09-12T11:43:51.294027\",\"2021-09-12T11:44:51.294027\",\"2021-09-12T11:45:51.294027\",\"2021-09-12T11:46:51.294027\",\"2021-09-12T11:47:51.294027\",\"2021-09-12T11:48:51.294027\",\"2021-09-12T11:49:51.294027\",\"2021-09-12T11:50:51.294027\",\"2021-09-12T11:51:51.294027\",\"2021-09-12T11:52:51.294027\",\"2021-09-12T11:53:51.294027\",\"2021-09-12T11:54:51.294027\",\"2021-09-12T11:55:51.294027\",\"2021-09-12T11:56:51.294027\",\"2021-09-12T11:57:51.294027\",\"2021-09-12T11:58:51.294027\",\"2021-09-12T11:59:51.294027\",\"2021-09-12T12:00:51.294027\",\"2021-09-12T12:01:51.294027\",\"2021-09-12T12:02:51.294027\",\"2021-09-12T12:03:51.294027\",\"2021-09-12T12:04:51.294027\",\"2021-09-12T12:05:51.294027\",\"2021-09-12T12:06:51.294027\",\"2021-09-12T12:07:51.294027\",\"2021-09-12T12:08:51.294027\",\"2021-09-12T12:09:51.294027\",\"2021-09-12T12:10:51.294027\",\"2021-09-12T12:11:51.294027\",\"2021-09-12T12:12:51.294027\",\"2021-09-12T12:13:51.294027\",\"2021-09-12T12:14:51.294027\",\"2021-09-12T12:15:51.294027\",\"2021-09-12T12:16:51.294027\",\"2021-09-12T12:17:51.294027\",\"2021-09-12T12:18:51.294027\",\"2021-09-12T12:19:51.294027\",\"2021-09-12T12:20:51.294027\",\"2021-09-12T12:21:51.294027\",\"2021-09-12T12:22:51.294027\",\"2021-09-12T12:23:51.294027\",\"2021-09-12T12:24:51.294027\",\"2021-09-12T12:25:51.294027\",\"2021-09-12T12:26:51.294027\",\"2021-09-12T12:27:51.294027\",\"2021-09-12T12:28:51.294027\",\"2021-09-12T12:29:51.294027\",\"2021-09-12T12:30:51.294027\",\"2021-09-12T12:31:51.294027\",\"2021-09-12T12:32:51.294027\",\"2021-09-12T12:33:51.294027\",\"2021-09-12T12:34:51.294027\",\"2021-09-12T12:35:51.294027\",\"2021-09-12T12:36:51.294027\",\"2021-09-12T12:37:51.294027\",\"2021-09-12T12:38:51.294027\",\"2021-09-12T12:39:51.294027\",\"2021-09-12T12:40:51.294027\",\"2021-09-12T12:41:51.294027\",\"2021-09-12T12:42:51.294027\",\"2021-09-12T12:43:51.294027\",\"2021-09-12T12:44:51.294027\",\"2021-09-12T12:45:51.294027\",\"2021-09-12T12:46:51.294027\",\"2021-09-12T12:47:51.294027\",\"2021-09-12T12:48:51.294027\",\"2021-09-12T12:49:51.294027\",\"2021-09-12T12:50:51.294027\",\"2021-09-12T12:51:51.294027\",\"2021-09-12T12:52:51.294027\",\"2021-09-12T12:53:51.294027\",\"2021-09-12T12:54:51.294027\",\"2021-09-12T12:55:51.294027\",\"2021-09-12T12:56:51.294027\",\"2021-09-12T12:57:51.294027\",\"2021-09-12T12:58:51.294027\",\"2021-09-12T12:59:51.294027\",\"2021-09-12T13:00:51.294027\",\"2021-09-12T13:01:51.294027\",\"2021-09-12T13:02:51.294027\",\"2021-09-12T13:03:51.294027\",\"2021-09-12T13:04:51.294027\",\"2021-09-12T13:05:51.294027\",\"2021-09-12T13:06:51.294027\",\"2021-09-12T13:07:51.294027\",\"2021-09-12T13:08:51.294027\",\"2021-09-12T13:09:51.294027\",\"2021-09-12T13:10:51.294027\",\"2021-09-12T13:11:51.294027\",\"2021-09-12T13:12:51.294027\",\"2021-09-12T13:13:51.294027\",\"2021-09-12T13:14:51.294027\",\"2021-09-12T13:15:51.294027\",\"2021-09-12T13:16:51.294027\",\"2021-09-12T13:17:51.294027\",\"2021-09-12T13:18:51.294027\",\"2021-09-12T13:19:51.294027\",\"2021-09-12T13:20:51.294027\",\"2021-09-12T13:21:51.294027\",\"2021-09-12T13:22:51.294027\",\"2021-09-12T13:23:51.294027\",\"2021-09-12T13:24:51.294027\",\"2021-09-12T13:25:51.294027\",\"2021-09-12T13:26:51.294027\",\"2021-09-12T13:27:51.294027\",\"2021-09-12T13:28:51.294027\",\"2021-09-12T13:29:51.294027\",\"2021-09-12T13:30:51.294027\",\"2021-09-12T13:31:51.294027\",\"2021-09-12T13:32:51.294027\",\"2021-09-12T13:33:51.294027\",\"2021-09-12T13:34:51.294027\",\"2021-09-12T13:35:51.294027\",\"2021-09-12T13:36:51.294027\",\"2021-09-12T13:37:51.294027\",\"2021-09-12T13:38:51.294027\",\"2021-09-12T13:39:51.294027\",\"2021-09-12T13:40:51.294027\",\"2021-09-12T13:41:51.294027\",\"2021-09-12T13:42:51.294027\",\"2021-09-12T13:43:51.294027\",\"2021-09-12T13:44:51.294027\",\"2021-09-12T13:45:51.294027\",\"2021-09-12T13:46:51.294027\",\"2021-09-12T13:47:51.294027\",\"2021-09-12T13:48:51.294027\",\"2021-09-12T13:49:51.294027\",\"2021-09-12T13:50:51.294027\",\"2021-09-12T13:51:51.294027\",\"2021-09-12T13:52:51.294027\",\"2021-09-12T13:53:51.294027\",\"2021-09-12T13:54:51.294027\",\"2021-09-12T13:55:51.294027\",\"2021-09-12T13:56:51.294027\",\"2021-09-12T13:57:51.294027\",\"2021-09-12T13:58:51.294027\",\"2021-09-12T13:59:51.294027\",\"2021-09-12T14:00:51.294027\",\"2021-09-12T14:01:51.294027\",\"2021-09-12T14:02:51.294027\",\"2021-09-12T14:03:51.294027\",\"2021-09-12T14:04:51.294027\",\"2021-09-12T14:05:51.294027\",\"2021-09-12T14:06:51.294027\",\"2021-09-12T14:07:51.294027\",\"2021-09-12T14:08:51.294027\",\"2021-09-12T14:09:51.294027\",\"2021-09-12T14:10:51.294027\",\"2021-09-12T14:11:51.294027\",\"2021-09-12T14:12:51.294027\",\"2021-09-12T14:13:51.294027\",\"2021-09-12T14:14:51.294027\",\"2021-09-12T14:15:51.294027\",\"2021-09-12T14:16:51.294027\",\"2021-09-12T14:17:51.294027\",\"2021-09-12T14:18:51.294027\",\"2021-09-12T14:19:51.294027\",\"2021-09-12T14:20:51.294027\",\"2021-09-12T14:21:51.294027\",\"2021-09-12T14:22:51.294027\",\"2021-09-12T14:23:51.294027\",\"2021-09-12T14:24:51.294027\",\"2021-09-12T14:25:51.294027\",\"2021-09-12T14:26:51.294027\",\"2021-09-12T14:27:51.294027\",\"2021-09-12T14:28:51.294027\",\"2021-09-12T14:29:51.294027\",\"2021-09-12T14:30:51.294027\",\"2021-09-12T14:31:51.294027\",\"2021-09-12T14:32:51.294027\",\"2021-09-12T14:33:51.294027\",\"2021-09-12T14:34:51.294027\",\"2021-09-12T14:35:51.294027\",\"2021-09-12T14:36:51.294027\",\"2021-09-12T14:37:51.294027\",\"2021-09-12T14:38:51.294027\",\"2021-09-12T14:39:51.294027\",\"2021-09-12T14:40:51.294027\",\"2021-09-12T14:41:51.294027\",\"2021-09-12T14:42:51.294027\",\"2021-09-12T14:43:51.294027\",\"2021-09-12T14:44:51.294027\"],\"xaxis\":\"x\",\"y\":[0,0,0,0,0,0,0,0,0,0,0,0,0,0,0,0,0,0,0,0,0,0,0,0,0,0,0,0,0,0,1,0,0,0,0,1,1,1,1,1,2,2,2,2,2,3,3,3,3,3,4,4,4,4,4,5,5,5,5,5,6,6,6,6,6,7,7,7,7,7,8,8,8,8,8,9,9,9,9,9,10,10,10,10,10,11,11,11,11,11,12,12,12,12,12,13,13,13,13,13,13,13,13,13,13,13,13,13,13,13,13,13,13,13,13,13,13,13,13,13,13,13,13,13,13,13,13,13,13,13,13,13,13,13,13,13,13,13,13,13,13,13,13,13,13,13,13,13,13,13,13,13,13,13,13,13,13,13,13,13,13,13,13,13,13,13,13,13,13,13,13,13,13,13,13,13,13,13,13,13,13,13,13,13,13,13,13,13,13,13,13,13,13,13,13,13,13,13,13,13],\"yaxis\":\"y\"}],                        {\"barmode\":\"relative\",\"legend\":{\"tracegroupgap\":0},\"margin\":{\"t\":60},\"template\":{\"data\":{\"bar\":[{\"error_x\":{\"color\":\"#2a3f5f\"},\"error_y\":{\"color\":\"#2a3f5f\"},\"marker\":{\"line\":{\"color\":\"#E5ECF6\",\"width\":0.5},\"pattern\":{\"fillmode\":\"overlay\",\"size\":10,\"solidity\":0.2}},\"type\":\"bar\"}],\"barpolar\":[{\"marker\":{\"line\":{\"color\":\"#E5ECF6\",\"width\":0.5},\"pattern\":{\"fillmode\":\"overlay\",\"size\":10,\"solidity\":0.2}},\"type\":\"barpolar\"}],\"carpet\":[{\"aaxis\":{\"endlinecolor\":\"#2a3f5f\",\"gridcolor\":\"white\",\"linecolor\":\"white\",\"minorgridcolor\":\"white\",\"startlinecolor\":\"#2a3f5f\"},\"baxis\":{\"endlinecolor\":\"#2a3f5f\",\"gridcolor\":\"white\",\"linecolor\":\"white\",\"minorgridcolor\":\"white\",\"startlinecolor\":\"#2a3f5f\"},\"type\":\"carpet\"}],\"choropleth\":[{\"colorbar\":{\"outlinewidth\":0,\"ticks\":\"\"},\"type\":\"choropleth\"}],\"contour\":[{\"colorbar\":{\"outlinewidth\":0,\"ticks\":\"\"},\"colorscale\":[[0.0,\"#0d0887\"],[0.1111111111111111,\"#46039f\"],[0.2222222222222222,\"#7201a8\"],[0.3333333333333333,\"#9c179e\"],[0.4444444444444444,\"#bd3786\"],[0.5555555555555556,\"#d8576b\"],[0.6666666666666666,\"#ed7953\"],[0.7777777777777778,\"#fb9f3a\"],[0.8888888888888888,\"#fdca26\"],[1.0,\"#f0f921\"]],\"type\":\"contour\"}],\"contourcarpet\":[{\"colorbar\":{\"outlinewidth\":0,\"ticks\":\"\"},\"type\":\"contourcarpet\"}],\"heatmap\":[{\"colorbar\":{\"outlinewidth\":0,\"ticks\":\"\"},\"colorscale\":[[0.0,\"#0d0887\"],[0.1111111111111111,\"#46039f\"],[0.2222222222222222,\"#7201a8\"],[0.3333333333333333,\"#9c179e\"],[0.4444444444444444,\"#bd3786\"],[0.5555555555555556,\"#d8576b\"],[0.6666666666666666,\"#ed7953\"],[0.7777777777777778,\"#fb9f3a\"],[0.8888888888888888,\"#fdca26\"],[1.0,\"#f0f921\"]],\"type\":\"heatmap\"}],\"heatmapgl\":[{\"colorbar\":{\"outlinewidth\":0,\"ticks\":\"\"},\"colorscale\":[[0.0,\"#0d0887\"],[0.1111111111111111,\"#46039f\"],[0.2222222222222222,\"#7201a8\"],[0.3333333333333333,\"#9c179e\"],[0.4444444444444444,\"#bd3786\"],[0.5555555555555556,\"#d8576b\"],[0.6666666666666666,\"#ed7953\"],[0.7777777777777778,\"#fb9f3a\"],[0.8888888888888888,\"#fdca26\"],[1.0,\"#f0f921\"]],\"type\":\"heatmapgl\"}],\"histogram\":[{\"marker\":{\"pattern\":{\"fillmode\":\"overlay\",\"size\":10,\"solidity\":0.2}},\"type\":\"histogram\"}],\"histogram2d\":[{\"colorbar\":{\"outlinewidth\":0,\"ticks\":\"\"},\"colorscale\":[[0.0,\"#0d0887\"],[0.1111111111111111,\"#46039f\"],[0.2222222222222222,\"#7201a8\"],[0.3333333333333333,\"#9c179e\"],[0.4444444444444444,\"#bd3786\"],[0.5555555555555556,\"#d8576b\"],[0.6666666666666666,\"#ed7953\"],[0.7777777777777778,\"#fb9f3a\"],[0.8888888888888888,\"#fdca26\"],[1.0,\"#f0f921\"]],\"type\":\"histogram2d\"}],\"histogram2dcontour\":[{\"colorbar\":{\"outlinewidth\":0,\"ticks\":\"\"},\"colorscale\":[[0.0,\"#0d0887\"],[0.1111111111111111,\"#46039f\"],[0.2222222222222222,\"#7201a8\"],[0.3333333333333333,\"#9c179e\"],[0.4444444444444444,\"#bd3786\"],[0.5555555555555556,\"#d8576b\"],[0.6666666666666666,\"#ed7953\"],[0.7777777777777778,\"#fb9f3a\"],[0.8888888888888888,\"#fdca26\"],[1.0,\"#f0f921\"]],\"type\":\"histogram2dcontour\"}],\"mesh3d\":[{\"colorbar\":{\"outlinewidth\":0,\"ticks\":\"\"},\"type\":\"mesh3d\"}],\"parcoords\":[{\"line\":{\"colorbar\":{\"outlinewidth\":0,\"ticks\":\"\"}},\"type\":\"parcoords\"}],\"pie\":[{\"automargin\":true,\"type\":\"pie\"}],\"scatter\":[{\"marker\":{\"colorbar\":{\"outlinewidth\":0,\"ticks\":\"\"}},\"type\":\"scatter\"}],\"scatter3d\":[{\"line\":{\"colorbar\":{\"outlinewidth\":0,\"ticks\":\"\"}},\"marker\":{\"colorbar\":{\"outlinewidth\":0,\"ticks\":\"\"}},\"type\":\"scatter3d\"}],\"scattercarpet\":[{\"marker\":{\"colorbar\":{\"outlinewidth\":0,\"ticks\":\"\"}},\"type\":\"scattercarpet\"}],\"scattergeo\":[{\"marker\":{\"colorbar\":{\"outlinewidth\":0,\"ticks\":\"\"}},\"type\":\"scattergeo\"}],\"scattergl\":[{\"marker\":{\"colorbar\":{\"outlinewidth\":0,\"ticks\":\"\"}},\"type\":\"scattergl\"}],\"scattermapbox\":[{\"marker\":{\"colorbar\":{\"outlinewidth\":0,\"ticks\":\"\"}},\"type\":\"scattermapbox\"}],\"scatterpolar\":[{\"marker\":{\"colorbar\":{\"outlinewidth\":0,\"ticks\":\"\"}},\"type\":\"scatterpolar\"}],\"scatterpolargl\":[{\"marker\":{\"colorbar\":{\"outlinewidth\":0,\"ticks\":\"\"}},\"type\":\"scatterpolargl\"}],\"scatterternary\":[{\"marker\":{\"colorbar\":{\"outlinewidth\":0,\"ticks\":\"\"}},\"type\":\"scatterternary\"}],\"surface\":[{\"colorbar\":{\"outlinewidth\":0,\"ticks\":\"\"},\"colorscale\":[[0.0,\"#0d0887\"],[0.1111111111111111,\"#46039f\"],[0.2222222222222222,\"#7201a8\"],[0.3333333333333333,\"#9c179e\"],[0.4444444444444444,\"#bd3786\"],[0.5555555555555556,\"#d8576b\"],[0.6666666666666666,\"#ed7953\"],[0.7777777777777778,\"#fb9f3a\"],[0.8888888888888888,\"#fdca26\"],[1.0,\"#f0f921\"]],\"type\":\"surface\"}],\"table\":[{\"cells\":{\"fill\":{\"color\":\"#EBF0F8\"},\"line\":{\"color\":\"white\"}},\"header\":{\"fill\":{\"color\":\"#C8D4E3\"},\"line\":{\"color\":\"white\"}},\"type\":\"table\"}]},\"layout\":{\"annotationdefaults\":{\"arrowcolor\":\"#2a3f5f\",\"arrowhead\":0,\"arrowwidth\":1},\"autotypenumbers\":\"strict\",\"coloraxis\":{\"colorbar\":{\"outlinewidth\":0,\"ticks\":\"\"}},\"colorscale\":{\"diverging\":[[0,\"#8e0152\"],[0.1,\"#c51b7d\"],[0.2,\"#de77ae\"],[0.3,\"#f1b6da\"],[0.4,\"#fde0ef\"],[0.5,\"#f7f7f7\"],[0.6,\"#e6f5d0\"],[0.7,\"#b8e186\"],[0.8,\"#7fbc41\"],[0.9,\"#4d9221\"],[1,\"#276419\"]],\"sequential\":[[0.0,\"#0d0887\"],[0.1111111111111111,\"#46039f\"],[0.2222222222222222,\"#7201a8\"],[0.3333333333333333,\"#9c179e\"],[0.4444444444444444,\"#bd3786\"],[0.5555555555555556,\"#d8576b\"],[0.6666666666666666,\"#ed7953\"],[0.7777777777777778,\"#fb9f3a\"],[0.8888888888888888,\"#fdca26\"],[1.0,\"#f0f921\"]],\"sequentialminus\":[[0.0,\"#0d0887\"],[0.1111111111111111,\"#46039f\"],[0.2222222222222222,\"#7201a8\"],[0.3333333333333333,\"#9c179e\"],[0.4444444444444444,\"#bd3786\"],[0.5555555555555556,\"#d8576b\"],[0.6666666666666666,\"#ed7953\"],[0.7777777777777778,\"#fb9f3a\"],[0.8888888888888888,\"#fdca26\"],[1.0,\"#f0f921\"]]},\"colorway\":[\"#636efa\",\"#EF553B\",\"#00cc96\",\"#ab63fa\",\"#FFA15A\",\"#19d3f3\",\"#FF6692\",\"#B6E880\",\"#FF97FF\",\"#FECB52\"],\"font\":{\"color\":\"#2a3f5f\"},\"geo\":{\"bgcolor\":\"white\",\"lakecolor\":\"white\",\"landcolor\":\"#E5ECF6\",\"showlakes\":true,\"showland\":true,\"subunitcolor\":\"white\"},\"hoverlabel\":{\"align\":\"left\"},\"hovermode\":\"closest\",\"mapbox\":{\"style\":\"light\"},\"paper_bgcolor\":\"white\",\"plot_bgcolor\":\"#E5ECF6\",\"polar\":{\"angularaxis\":{\"gridcolor\":\"white\",\"linecolor\":\"white\",\"ticks\":\"\"},\"bgcolor\":\"#E5ECF6\",\"radialaxis\":{\"gridcolor\":\"white\",\"linecolor\":\"white\",\"ticks\":\"\"}},\"scene\":{\"xaxis\":{\"backgroundcolor\":\"#E5ECF6\",\"gridcolor\":\"white\",\"gridwidth\":2,\"linecolor\":\"white\",\"showbackground\":true,\"ticks\":\"\",\"zerolinecolor\":\"white\"},\"yaxis\":{\"backgroundcolor\":\"#E5ECF6\",\"gridcolor\":\"white\",\"gridwidth\":2,\"linecolor\":\"white\",\"showbackground\":true,\"ticks\":\"\",\"zerolinecolor\":\"white\"},\"zaxis\":{\"backgroundcolor\":\"#E5ECF6\",\"gridcolor\":\"white\",\"gridwidth\":2,\"linecolor\":\"white\",\"showbackground\":true,\"ticks\":\"\",\"zerolinecolor\":\"white\"}},\"shapedefaults\":{\"line\":{\"color\":\"#2a3f5f\"}},\"ternary\":{\"aaxis\":{\"gridcolor\":\"white\",\"linecolor\":\"white\",\"ticks\":\"\"},\"baxis\":{\"gridcolor\":\"white\",\"linecolor\":\"white\",\"ticks\":\"\"},\"bgcolor\":\"#E5ECF6\",\"caxis\":{\"gridcolor\":\"white\",\"linecolor\":\"white\",\"ticks\":\"\"}},\"title\":{\"x\":0.05},\"xaxis\":{\"automargin\":true,\"gridcolor\":\"white\",\"linecolor\":\"white\",\"ticks\":\"\",\"title\":{\"standoff\":15},\"zerolinecolor\":\"white\",\"zerolinewidth\":2},\"yaxis\":{\"automargin\":true,\"gridcolor\":\"white\",\"linecolor\":\"white\",\"ticks\":\"\",\"title\":{\"standoff\":15},\"zerolinecolor\":\"white\",\"zerolinewidth\":2}}},\"xaxis\":{\"anchor\":\"y\",\"domain\":[0.0,1.0],\"title\":{\"text\":\"Timestamp\"}},\"yaxis\":{\"anchor\":\"x\",\"domain\":[0.0,1.0],\"title\":{\"text\":\"Value\"}}},                        {\"responsive\": true}                    ).then(function(){\n",
       "                            \n",
       "var gd = document.getElementById('1cde384d-4360-4cd8-9392-c2fe184454e4');\n",
       "var x = new MutationObserver(function (mutations, observer) {{\n",
       "        var display = window.getComputedStyle(gd).display;\n",
       "        if (!display || display === 'none') {{\n",
       "            console.log([gd, 'removed!']);\n",
       "            Plotly.purge(gd);\n",
       "            observer.disconnect();\n",
       "        }}\n",
       "}});\n",
       "\n",
       "// Listen for the removal of the full notebook cells\n",
       "var notebookContainer = gd.closest('#notebook-container');\n",
       "if (notebookContainer) {{\n",
       "    x.observe(notebookContainer, {childList: true});\n",
       "}}\n",
       "\n",
       "// Listen for the clearing of the current output cell\n",
       "var outputEl = gd.closest('.output');\n",
       "if (outputEl) {{\n",
       "    x.observe(outputEl, {childList: true});\n",
       "}}\n",
       "\n",
       "                        })                };                });            </script>        </div>"
      ]
     },
     "metadata": {},
     "output_type": "display_data"
    }
   ],
   "source": [
    "#df = dfs['requests_waiting']\n",
    "df = df_system[ df_system.Metric == Metric.RW.value ]\n",
    "fig = px.bar(df, x='Timestamp', y='Value')\n",
    "fig.show()"
   ]
  },
  {
   "cell_type": "markdown",
   "metadata": {},
   "source": [
    "## Users activity"
   ]
  },
  {
   "cell_type": "code",
   "execution_count": 58,
   "metadata": {},
   "outputs": [
    {
     "data": {
      "text/html": [
       "<div>\n",
       "<style scoped>\n",
       "    .dataframe tbody tr th:only-of-type {\n",
       "        vertical-align: middle;\n",
       "    }\n",
       "\n",
       "    .dataframe tbody tr th {\n",
       "        vertical-align: top;\n",
       "    }\n",
       "\n",
       "    .dataframe thead th {\n",
       "        text-align: right;\n",
       "    }\n",
       "</style>\n",
       "<table border=\"1\" class=\"dataframe\">\n",
       "  <thead>\n",
       "    <tr style=\"text-align: right;\">\n",
       "      <th></th>\n",
       "      <th>Start</th>\n",
       "      <th>StartMark</th>\n",
       "      <th>Task</th>\n",
       "      <th>TaskId</th>\n",
       "      <th>Username</th>\n",
       "      <th>Finish</th>\n",
       "      <th>FinishMark</th>\n",
       "      <th>Duration</th>\n",
       "    </tr>\n",
       "  </thead>\n",
       "  <tbody>\n",
       "    <tr>\n",
       "      <th>0</th>\n",
       "      <td>2021-09-12 11:25:51.294027</td>\n",
       "      <td>0</td>\n",
       "      <td>process_task</td>\n",
       "      <td>2</td>\n",
       "      <td>User-0</td>\n",
       "      <td>2021-09-12 11:30:51.294027</td>\n",
       "      <td>5.0</td>\n",
       "      <td>5.0</td>\n",
       "    </tr>\n",
       "    <tr>\n",
       "      <th>1</th>\n",
       "      <td>2021-09-12 11:30:51.294027</td>\n",
       "      <td>5</td>\n",
       "      <td>process_task</td>\n",
       "      <td>2</td>\n",
       "      <td>User-1</td>\n",
       "      <td>2021-09-12 11:35:51.294027</td>\n",
       "      <td>10.0</td>\n",
       "      <td>5.0</td>\n",
       "    </tr>\n",
       "    <tr>\n",
       "      <th>2</th>\n",
       "      <td>2021-09-12 11:32:51.294027</td>\n",
       "      <td>7</td>\n",
       "      <td>process_task</td>\n",
       "      <td>3</td>\n",
       "      <td>User-0</td>\n",
       "      <td>2021-09-12 11:37:51.294027</td>\n",
       "      <td>12.0</td>\n",
       "      <td>5.0</td>\n",
       "    </tr>\n",
       "    <tr>\n",
       "      <th>3</th>\n",
       "      <td>2021-09-12 11:35:51.294027</td>\n",
       "      <td>10</td>\n",
       "      <td>process_task</td>\n",
       "      <td>2</td>\n",
       "      <td>User-2</td>\n",
       "      <td>2021-09-12 11:40:51.294027</td>\n",
       "      <td>15.0</td>\n",
       "      <td>5.0</td>\n",
       "    </tr>\n",
       "    <tr>\n",
       "      <th>4</th>\n",
       "      <td>2021-09-12 11:37:51.294027</td>\n",
       "      <td>12</td>\n",
       "      <td>process_task</td>\n",
       "      <td>3</td>\n",
       "      <td>User-1</td>\n",
       "      <td>2021-09-12 11:42:51.294027</td>\n",
       "      <td>17.0</td>\n",
       "      <td>5.0</td>\n",
       "    </tr>\n",
       "    <tr>\n",
       "      <th>5</th>\n",
       "      <td>2021-09-12 11:39:51.294027</td>\n",
       "      <td>14</td>\n",
       "      <td>process_task</td>\n",
       "      <td>4</td>\n",
       "      <td>User-0</td>\n",
       "      <td>2021-09-12 11:44:51.294027</td>\n",
       "      <td>19.0</td>\n",
       "      <td>5.0</td>\n",
       "    </tr>\n",
       "    <tr>\n",
       "      <th>6</th>\n",
       "      <td>2021-09-12 11:40:51.294027</td>\n",
       "      <td>15</td>\n",
       "      <td>process_task</td>\n",
       "      <td>2</td>\n",
       "      <td>User-3</td>\n",
       "      <td>2021-09-12 11:45:51.294027</td>\n",
       "      <td>20.0</td>\n",
       "      <td>5.0</td>\n",
       "    </tr>\n",
       "    <tr>\n",
       "      <th>7</th>\n",
       "      <td>2021-09-12 11:42:51.294027</td>\n",
       "      <td>17</td>\n",
       "      <td>process_task</td>\n",
       "      <td>3</td>\n",
       "      <td>User-2</td>\n",
       "      <td>2021-09-12 11:47:51.294027</td>\n",
       "      <td>22.0</td>\n",
       "      <td>5.0</td>\n",
       "    </tr>\n",
       "    <tr>\n",
       "      <th>8</th>\n",
       "      <td>2021-09-12 11:44:51.294027</td>\n",
       "      <td>19</td>\n",
       "      <td>process_task</td>\n",
       "      <td>4</td>\n",
       "      <td>User-1</td>\n",
       "      <td>2021-09-12 11:49:51.294027</td>\n",
       "      <td>24.0</td>\n",
       "      <td>5.0</td>\n",
       "    </tr>\n",
       "    <tr>\n",
       "      <th>9</th>\n",
       "      <td>2021-09-12 11:45:51.294027</td>\n",
       "      <td>20</td>\n",
       "      <td>process_task</td>\n",
       "      <td>2</td>\n",
       "      <td>User-4</td>\n",
       "      <td>2021-09-12 11:50:51.294027</td>\n",
       "      <td>25.0</td>\n",
       "      <td>5.0</td>\n",
       "    </tr>\n",
       "    <tr>\n",
       "      <th>10</th>\n",
       "      <td>2021-09-12 11:46:51.294027</td>\n",
       "      <td>21</td>\n",
       "      <td>process_task</td>\n",
       "      <td>5</td>\n",
       "      <td>User-0</td>\n",
       "      <td>2021-09-12 11:51:51.294027</td>\n",
       "      <td>26.0</td>\n",
       "      <td>5.0</td>\n",
       "    </tr>\n",
       "    <tr>\n",
       "      <th>11</th>\n",
       "      <td>2021-09-12 11:47:51.294027</td>\n",
       "      <td>22</td>\n",
       "      <td>process_task</td>\n",
       "      <td>3</td>\n",
       "      <td>User-3</td>\n",
       "      <td>2021-09-12 11:52:51.294027</td>\n",
       "      <td>27.0</td>\n",
       "      <td>5.0</td>\n",
       "    </tr>\n",
       "    <tr>\n",
       "      <th>12</th>\n",
       "      <td>2021-09-12 11:49:51.294027</td>\n",
       "      <td>24</td>\n",
       "      <td>process_task</td>\n",
       "      <td>4</td>\n",
       "      <td>User-2</td>\n",
       "      <td>2021-09-12 11:54:51.294027</td>\n",
       "      <td>29.0</td>\n",
       "      <td>5.0</td>\n",
       "    </tr>\n",
       "    <tr>\n",
       "      <th>13</th>\n",
       "      <td>2021-09-12 11:50:51.294027</td>\n",
       "      <td>25</td>\n",
       "      <td>process_task</td>\n",
       "      <td>2</td>\n",
       "      <td>User-5</td>\n",
       "      <td>2021-09-12 11:55:51.294027</td>\n",
       "      <td>30.0</td>\n",
       "      <td>5.0</td>\n",
       "    </tr>\n",
       "    <tr>\n",
       "      <th>14</th>\n",
       "      <td>2021-09-12 11:51:51.294027</td>\n",
       "      <td>26</td>\n",
       "      <td>process_task</td>\n",
       "      <td>5</td>\n",
       "      <td>User-1</td>\n",
       "      <td>2021-09-12 11:56:51.294027</td>\n",
       "      <td>31.0</td>\n",
       "      <td>5.0</td>\n",
       "    </tr>\n",
       "    <tr>\n",
       "      <th>15</th>\n",
       "      <td>2021-09-12 11:52:51.294027</td>\n",
       "      <td>27</td>\n",
       "      <td>process_task</td>\n",
       "      <td>3</td>\n",
       "      <td>User-4</td>\n",
       "      <td>2021-09-12 11:57:51.294027</td>\n",
       "      <td>32.0</td>\n",
       "      <td>5.0</td>\n",
       "    </tr>\n",
       "    <tr>\n",
       "      <th>16</th>\n",
       "      <td>2021-09-12 11:53:51.294027</td>\n",
       "      <td>28</td>\n",
       "      <td>process_task</td>\n",
       "      <td>6</td>\n",
       "      <td>User-0</td>\n",
       "      <td>2021-09-12 11:58:51.294027</td>\n",
       "      <td>33.0</td>\n",
       "      <td>5.0</td>\n",
       "    </tr>\n",
       "    <tr>\n",
       "      <th>17</th>\n",
       "      <td>2021-09-12 11:54:51.294027</td>\n",
       "      <td>29</td>\n",
       "      <td>process_task</td>\n",
       "      <td>4</td>\n",
       "      <td>User-3</td>\n",
       "      <td>2021-09-12 11:59:51.294027</td>\n",
       "      <td>34.0</td>\n",
       "      <td>5.0</td>\n",
       "    </tr>\n",
       "    <tr>\n",
       "      <th>18</th>\n",
       "      <td>2021-09-12 11:55:51.294027</td>\n",
       "      <td>30</td>\n",
       "      <td>process_task</td>\n",
       "      <td>2</td>\n",
       "      <td>User-6</td>\n",
       "      <td>2021-09-12 12:00:51.294027</td>\n",
       "      <td>35.0</td>\n",
       "      <td>5.0</td>\n",
       "    </tr>\n",
       "    <tr>\n",
       "      <th>19</th>\n",
       "      <td>2021-09-12 11:56:51.294027</td>\n",
       "      <td>31</td>\n",
       "      <td>process_task</td>\n",
       "      <td>5</td>\n",
       "      <td>User-2</td>\n",
       "      <td>2021-09-12 12:01:51.294027</td>\n",
       "      <td>36.0</td>\n",
       "      <td>5.0</td>\n",
       "    </tr>\n",
       "    <tr>\n",
       "      <th>20</th>\n",
       "      <td>2021-09-12 11:57:51.294027</td>\n",
       "      <td>32</td>\n",
       "      <td>process_task</td>\n",
       "      <td>3</td>\n",
       "      <td>User-5</td>\n",
       "      <td>2021-09-12 12:02:51.294027</td>\n",
       "      <td>37.0</td>\n",
       "      <td>5.0</td>\n",
       "    </tr>\n",
       "    <tr>\n",
       "      <th>21</th>\n",
       "      <td>2021-09-12 11:58:51.294027</td>\n",
       "      <td>33</td>\n",
       "      <td>process_task</td>\n",
       "      <td>6</td>\n",
       "      <td>User-1</td>\n",
       "      <td>2021-09-12 12:03:51.294027</td>\n",
       "      <td>38.0</td>\n",
       "      <td>5.0</td>\n",
       "    </tr>\n",
       "    <tr>\n",
       "      <th>22</th>\n",
       "      <td>2021-09-12 11:59:51.294027</td>\n",
       "      <td>34</td>\n",
       "      <td>process_task</td>\n",
       "      <td>4</td>\n",
       "      <td>User-4</td>\n",
       "      <td>2021-09-12 12:04:51.294027</td>\n",
       "      <td>39.0</td>\n",
       "      <td>5.0</td>\n",
       "    </tr>\n",
       "    <tr>\n",
       "      <th>23</th>\n",
       "      <td>2021-09-12 12:00:51.294027</td>\n",
       "      <td>35</td>\n",
       "      <td>process_task</td>\n",
       "      <td>2</td>\n",
       "      <td>User-7</td>\n",
       "      <td>2021-09-12 12:05:51.294027</td>\n",
       "      <td>40.0</td>\n",
       "      <td>5.0</td>\n",
       "    </tr>\n",
       "    <tr>\n",
       "      <th>24</th>\n",
       "      <td>2021-09-12 12:00:51.294027</td>\n",
       "      <td>35</td>\n",
       "      <td>process_task</td>\n",
       "      <td>7</td>\n",
       "      <td>User-0</td>\n",
       "      <td>2021-09-12 12:06:51.294027</td>\n",
       "      <td>41.0</td>\n",
       "      <td>6.0</td>\n",
       "    </tr>\n",
       "    <tr>\n",
       "      <th>25</th>\n",
       "      <td>2021-09-12 12:01:51.294027</td>\n",
       "      <td>36</td>\n",
       "      <td>process_task</td>\n",
       "      <td>5</td>\n",
       "      <td>User-3</td>\n",
       "      <td>2021-09-12 12:07:51.294027</td>\n",
       "      <td>42.0</td>\n",
       "      <td>6.0</td>\n",
       "    </tr>\n",
       "    <tr>\n",
       "      <th>26</th>\n",
       "      <td>2021-09-12 12:02:51.294027</td>\n",
       "      <td>37</td>\n",
       "      <td>process_task</td>\n",
       "      <td>3</td>\n",
       "      <td>User-6</td>\n",
       "      <td>2021-09-12 12:08:51.294027</td>\n",
       "      <td>43.0</td>\n",
       "      <td>6.0</td>\n",
       "    </tr>\n",
       "    <tr>\n",
       "      <th>27</th>\n",
       "      <td>2021-09-12 12:03:51.294027</td>\n",
       "      <td>38</td>\n",
       "      <td>process_task</td>\n",
       "      <td>6</td>\n",
       "      <td>User-2</td>\n",
       "      <td>2021-09-12 12:09:51.294027</td>\n",
       "      <td>44.0</td>\n",
       "      <td>6.0</td>\n",
       "    </tr>\n",
       "    <tr>\n",
       "      <th>28</th>\n",
       "      <td>2021-09-12 12:04:51.294027</td>\n",
       "      <td>39</td>\n",
       "      <td>process_task</td>\n",
       "      <td>4</td>\n",
       "      <td>User-5</td>\n",
       "      <td>2021-09-12 12:10:51.294027</td>\n",
       "      <td>45.0</td>\n",
       "      <td>6.0</td>\n",
       "    </tr>\n",
       "    <tr>\n",
       "      <th>29</th>\n",
       "      <td>2021-09-12 12:05:51.294027</td>\n",
       "      <td>40</td>\n",
       "      <td>process_task</td>\n",
       "      <td>2</td>\n",
       "      <td>User-8</td>\n",
       "      <td>2021-09-12 12:11:51.294027</td>\n",
       "      <td>46.0</td>\n",
       "      <td>6.0</td>\n",
       "    </tr>\n",
       "    <tr>\n",
       "      <th>...</th>\n",
       "      <td>...</td>\n",
       "      <td>...</td>\n",
       "      <td>...</td>\n",
       "      <td>...</td>\n",
       "      <td>...</td>\n",
       "      <td>...</td>\n",
       "      <td>...</td>\n",
       "      <td>...</td>\n",
       "    </tr>\n",
       "    <tr>\n",
       "      <th>171</th>\n",
       "      <td>2021-09-12 14:15:51.294027</td>\n",
       "      <td>170</td>\n",
       "      <td>process_task</td>\n",
       "      <td>11</td>\n",
       "      <td>User-7</td>\n",
       "      <td>2021-09-12 14:33:51.294027</td>\n",
       "      <td>188.0</td>\n",
       "      <td>18.0</td>\n",
       "    </tr>\n",
       "    <tr>\n",
       "      <th>172</th>\n",
       "      <td>2021-09-12 14:16:51.294027</td>\n",
       "      <td>171</td>\n",
       "      <td>process_task</td>\n",
       "      <td>16</td>\n",
       "      <td>User-0</td>\n",
       "      <td>2021-09-12 14:34:51.294027</td>\n",
       "      <td>189.0</td>\n",
       "      <td>18.0</td>\n",
       "    </tr>\n",
       "    <tr>\n",
       "      <th>173</th>\n",
       "      <td>2021-09-12 14:17:51.294027</td>\n",
       "      <td>172</td>\n",
       "      <td>process_task</td>\n",
       "      <td>14</td>\n",
       "      <td>User-3</td>\n",
       "      <td>2021-09-12 14:35:51.294027</td>\n",
       "      <td>190.0</td>\n",
       "      <td>18.0</td>\n",
       "    </tr>\n",
       "    <tr>\n",
       "      <th>174</th>\n",
       "      <td>2021-09-12 14:18:51.294027</td>\n",
       "      <td>173</td>\n",
       "      <td>process_task</td>\n",
       "      <td>8</td>\n",
       "      <td>User-13</td>\n",
       "      <td>2021-09-12 14:36:51.294027</td>\n",
       "      <td>191.0</td>\n",
       "      <td>18.0</td>\n",
       "    </tr>\n",
       "    <tr>\n",
       "      <th>175</th>\n",
       "      <td>2021-09-12 14:19:51.294027</td>\n",
       "      <td>174</td>\n",
       "      <td>process_task</td>\n",
       "      <td>6</td>\n",
       "      <td>User-19</td>\n",
       "      <td>2021-09-12 14:37:51.294027</td>\n",
       "      <td>192.0</td>\n",
       "      <td>18.0</td>\n",
       "    </tr>\n",
       "    <tr>\n",
       "      <th>176</th>\n",
       "      <td>2021-09-12 14:20:51.294027</td>\n",
       "      <td>175</td>\n",
       "      <td>process_task</td>\n",
       "      <td>10</td>\n",
       "      <td>User-9</td>\n",
       "      <td>2021-09-12 14:38:51.294027</td>\n",
       "      <td>193.0</td>\n",
       "      <td>18.0</td>\n",
       "    </tr>\n",
       "    <tr>\n",
       "      <th>177</th>\n",
       "      <td>2021-09-12 14:21:51.294027</td>\n",
       "      <td>176</td>\n",
       "      <td>process_task</td>\n",
       "      <td>7</td>\n",
       "      <td>User-16</td>\n",
       "      <td>2021-09-12 14:39:51.294027</td>\n",
       "      <td>194.0</td>\n",
       "      <td>18.0</td>\n",
       "    </tr>\n",
       "    <tr>\n",
       "      <th>178</th>\n",
       "      <td>2021-09-12 14:22:51.294027</td>\n",
       "      <td>177</td>\n",
       "      <td>process_task</td>\n",
       "      <td>9</td>\n",
       "      <td>User-11</td>\n",
       "      <td>2021-09-12 14:40:51.294027</td>\n",
       "      <td>195.0</td>\n",
       "      <td>18.0</td>\n",
       "    </tr>\n",
       "    <tr>\n",
       "      <th>179</th>\n",
       "      <td>2021-09-12 14:23:51.294027</td>\n",
       "      <td>178</td>\n",
       "      <td>process_task</td>\n",
       "      <td>12</td>\n",
       "      <td>User-6</td>\n",
       "      <td>2021-09-12 14:41:51.294027</td>\n",
       "      <td>196.0</td>\n",
       "      <td>18.0</td>\n",
       "    </tr>\n",
       "    <tr>\n",
       "      <th>180</th>\n",
       "      <td>2021-09-12 14:24:51.294027</td>\n",
       "      <td>179</td>\n",
       "      <td>process_task</td>\n",
       "      <td>15</td>\n",
       "      <td>User-2</td>\n",
       "      <td>2021-09-12 14:42:51.294027</td>\n",
       "      <td>197.0</td>\n",
       "      <td>18.0</td>\n",
       "    </tr>\n",
       "    <tr>\n",
       "      <th>181</th>\n",
       "      <td>2021-09-12 14:25:51.294027</td>\n",
       "      <td>180</td>\n",
       "      <td>process_task</td>\n",
       "      <td>13</td>\n",
       "      <td>User-5</td>\n",
       "      <td>2021-09-12 14:43:51.294027</td>\n",
       "      <td>198.0</td>\n",
       "      <td>18.0</td>\n",
       "    </tr>\n",
       "    <tr>\n",
       "      <th>182</th>\n",
       "      <td>2021-09-12 14:26:51.294027</td>\n",
       "      <td>181</td>\n",
       "      <td>process_task</td>\n",
       "      <td>8</td>\n",
       "      <td>User-14</td>\n",
       "      <td>2021-09-12 14:44:51.294027</td>\n",
       "      <td>199.0</td>\n",
       "      <td>18.0</td>\n",
       "    </tr>\n",
       "    <tr>\n",
       "      <th>183</th>\n",
       "      <td>2021-09-12 14:27:51.294027</td>\n",
       "      <td>182</td>\n",
       "      <td>process_task</td>\n",
       "      <td>7</td>\n",
       "      <td>User-17</td>\n",
       "      <td>NaT</td>\n",
       "      <td>NaN</td>\n",
       "      <td>NaN</td>\n",
       "    </tr>\n",
       "    <tr>\n",
       "      <th>184</th>\n",
       "      <td>2021-09-12 14:28:51.294027</td>\n",
       "      <td>183</td>\n",
       "      <td>process_task</td>\n",
       "      <td>11</td>\n",
       "      <td>User-8</td>\n",
       "      <td>NaT</td>\n",
       "      <td>NaN</td>\n",
       "      <td>NaN</td>\n",
       "    </tr>\n",
       "    <tr>\n",
       "      <th>185</th>\n",
       "      <td>2021-09-12 14:29:51.294027</td>\n",
       "      <td>184</td>\n",
       "      <td>process_task</td>\n",
       "      <td>16</td>\n",
       "      <td>User-1</td>\n",
       "      <td>NaT</td>\n",
       "      <td>NaN</td>\n",
       "      <td>NaN</td>\n",
       "    </tr>\n",
       "    <tr>\n",
       "      <th>186</th>\n",
       "      <td>2021-09-12 14:30:51.294027</td>\n",
       "      <td>185</td>\n",
       "      <td>process_task</td>\n",
       "      <td>9</td>\n",
       "      <td>User-12</td>\n",
       "      <td>NaT</td>\n",
       "      <td>NaN</td>\n",
       "      <td>NaN</td>\n",
       "    </tr>\n",
       "    <tr>\n",
       "      <th>187</th>\n",
       "      <td>2021-09-12 14:31:51.294027</td>\n",
       "      <td>186</td>\n",
       "      <td>process_task</td>\n",
       "      <td>10</td>\n",
       "      <td>User-10</td>\n",
       "      <td>NaT</td>\n",
       "      <td>NaN</td>\n",
       "      <td>NaN</td>\n",
       "    </tr>\n",
       "    <tr>\n",
       "      <th>188</th>\n",
       "      <td>2021-09-12 14:32:51.294027</td>\n",
       "      <td>187</td>\n",
       "      <td>process_task</td>\n",
       "      <td>14</td>\n",
       "      <td>User-4</td>\n",
       "      <td>NaT</td>\n",
       "      <td>NaN</td>\n",
       "      <td>NaN</td>\n",
       "    </tr>\n",
       "    <tr>\n",
       "      <th>189</th>\n",
       "      <td>2021-09-12 14:33:51.294027</td>\n",
       "      <td>188</td>\n",
       "      <td>process_task</td>\n",
       "      <td>7</td>\n",
       "      <td>User-18</td>\n",
       "      <td>NaT</td>\n",
       "      <td>NaN</td>\n",
       "      <td>NaN</td>\n",
       "    </tr>\n",
       "    <tr>\n",
       "      <th>190</th>\n",
       "      <td>2021-09-12 14:34:51.294027</td>\n",
       "      <td>189</td>\n",
       "      <td>process_task</td>\n",
       "      <td>8</td>\n",
       "      <td>User-15</td>\n",
       "      <td>NaT</td>\n",
       "      <td>NaN</td>\n",
       "      <td>NaN</td>\n",
       "    </tr>\n",
       "    <tr>\n",
       "      <th>191</th>\n",
       "      <td>2021-09-12 14:35:51.294027</td>\n",
       "      <td>190</td>\n",
       "      <td>process_task</td>\n",
       "      <td>12</td>\n",
       "      <td>User-7</td>\n",
       "      <td>NaT</td>\n",
       "      <td>NaN</td>\n",
       "      <td>NaN</td>\n",
       "    </tr>\n",
       "    <tr>\n",
       "      <th>192</th>\n",
       "      <td>2021-09-12 14:36:51.294027</td>\n",
       "      <td>191</td>\n",
       "      <td>process_task</td>\n",
       "      <td>17</td>\n",
       "      <td>User-0</td>\n",
       "      <td>NaT</td>\n",
       "      <td>NaN</td>\n",
       "      <td>NaN</td>\n",
       "    </tr>\n",
       "    <tr>\n",
       "      <th>193</th>\n",
       "      <td>2021-09-12 14:37:51.294027</td>\n",
       "      <td>192</td>\n",
       "      <td>process_task</td>\n",
       "      <td>15</td>\n",
       "      <td>User-3</td>\n",
       "      <td>NaT</td>\n",
       "      <td>NaN</td>\n",
       "      <td>NaN</td>\n",
       "    </tr>\n",
       "    <tr>\n",
       "      <th>194</th>\n",
       "      <td>2021-09-12 14:38:51.294027</td>\n",
       "      <td>193</td>\n",
       "      <td>process_task</td>\n",
       "      <td>9</td>\n",
       "      <td>User-13</td>\n",
       "      <td>NaT</td>\n",
       "      <td>NaN</td>\n",
       "      <td>NaN</td>\n",
       "    </tr>\n",
       "    <tr>\n",
       "      <th>195</th>\n",
       "      <td>2021-09-12 14:39:51.294027</td>\n",
       "      <td>194</td>\n",
       "      <td>process_task</td>\n",
       "      <td>7</td>\n",
       "      <td>User-19</td>\n",
       "      <td>NaT</td>\n",
       "      <td>NaN</td>\n",
       "      <td>NaN</td>\n",
       "    </tr>\n",
       "    <tr>\n",
       "      <th>196</th>\n",
       "      <td>2021-09-12 14:40:51.294027</td>\n",
       "      <td>195</td>\n",
       "      <td>process_task</td>\n",
       "      <td>11</td>\n",
       "      <td>User-9</td>\n",
       "      <td>NaT</td>\n",
       "      <td>NaN</td>\n",
       "      <td>NaN</td>\n",
       "    </tr>\n",
       "    <tr>\n",
       "      <th>197</th>\n",
       "      <td>2021-09-12 14:41:51.294027</td>\n",
       "      <td>196</td>\n",
       "      <td>process_task</td>\n",
       "      <td>8</td>\n",
       "      <td>User-16</td>\n",
       "      <td>NaT</td>\n",
       "      <td>NaN</td>\n",
       "      <td>NaN</td>\n",
       "    </tr>\n",
       "    <tr>\n",
       "      <th>198</th>\n",
       "      <td>2021-09-12 14:42:51.294027</td>\n",
       "      <td>197</td>\n",
       "      <td>process_task</td>\n",
       "      <td>10</td>\n",
       "      <td>User-11</td>\n",
       "      <td>NaT</td>\n",
       "      <td>NaN</td>\n",
       "      <td>NaN</td>\n",
       "    </tr>\n",
       "    <tr>\n",
       "      <th>199</th>\n",
       "      <td>2021-09-12 14:43:51.294027</td>\n",
       "      <td>198</td>\n",
       "      <td>process_task</td>\n",
       "      <td>13</td>\n",
       "      <td>User-6</td>\n",
       "      <td>NaT</td>\n",
       "      <td>NaN</td>\n",
       "      <td>NaN</td>\n",
       "    </tr>\n",
       "    <tr>\n",
       "      <th>200</th>\n",
       "      <td>2021-09-12 14:44:51.294027</td>\n",
       "      <td>199</td>\n",
       "      <td>process_task</td>\n",
       "      <td>16</td>\n",
       "      <td>User-2</td>\n",
       "      <td>NaT</td>\n",
       "      <td>NaN</td>\n",
       "      <td>NaN</td>\n",
       "    </tr>\n",
       "  </tbody>\n",
       "</table>\n",
       "<p>201 rows × 8 columns</p>\n",
       "</div>"
      ],
      "text/plain": [
       "                         Start  StartMark          Task  TaskId Username  \\\n",
       "0   2021-09-12 11:25:51.294027          0  process_task       2   User-0   \n",
       "1   2021-09-12 11:30:51.294027          5  process_task       2   User-1   \n",
       "2   2021-09-12 11:32:51.294027          7  process_task       3   User-0   \n",
       "3   2021-09-12 11:35:51.294027         10  process_task       2   User-2   \n",
       "4   2021-09-12 11:37:51.294027         12  process_task       3   User-1   \n",
       "5   2021-09-12 11:39:51.294027         14  process_task       4   User-0   \n",
       "6   2021-09-12 11:40:51.294027         15  process_task       2   User-3   \n",
       "7   2021-09-12 11:42:51.294027         17  process_task       3   User-2   \n",
       "8   2021-09-12 11:44:51.294027         19  process_task       4   User-1   \n",
       "9   2021-09-12 11:45:51.294027         20  process_task       2   User-4   \n",
       "10  2021-09-12 11:46:51.294027         21  process_task       5   User-0   \n",
       "11  2021-09-12 11:47:51.294027         22  process_task       3   User-3   \n",
       "12  2021-09-12 11:49:51.294027         24  process_task       4   User-2   \n",
       "13  2021-09-12 11:50:51.294027         25  process_task       2   User-5   \n",
       "14  2021-09-12 11:51:51.294027         26  process_task       5   User-1   \n",
       "15  2021-09-12 11:52:51.294027         27  process_task       3   User-4   \n",
       "16  2021-09-12 11:53:51.294027         28  process_task       6   User-0   \n",
       "17  2021-09-12 11:54:51.294027         29  process_task       4   User-3   \n",
       "18  2021-09-12 11:55:51.294027         30  process_task       2   User-6   \n",
       "19  2021-09-12 11:56:51.294027         31  process_task       5   User-2   \n",
       "20  2021-09-12 11:57:51.294027         32  process_task       3   User-5   \n",
       "21  2021-09-12 11:58:51.294027         33  process_task       6   User-1   \n",
       "22  2021-09-12 11:59:51.294027         34  process_task       4   User-4   \n",
       "23  2021-09-12 12:00:51.294027         35  process_task       2   User-7   \n",
       "24  2021-09-12 12:00:51.294027         35  process_task       7   User-0   \n",
       "25  2021-09-12 12:01:51.294027         36  process_task       5   User-3   \n",
       "26  2021-09-12 12:02:51.294027         37  process_task       3   User-6   \n",
       "27  2021-09-12 12:03:51.294027         38  process_task       6   User-2   \n",
       "28  2021-09-12 12:04:51.294027         39  process_task       4   User-5   \n",
       "29  2021-09-12 12:05:51.294027         40  process_task       2   User-8   \n",
       "..                         ...        ...           ...     ...      ...   \n",
       "171 2021-09-12 14:15:51.294027        170  process_task      11   User-7   \n",
       "172 2021-09-12 14:16:51.294027        171  process_task      16   User-0   \n",
       "173 2021-09-12 14:17:51.294027        172  process_task      14   User-3   \n",
       "174 2021-09-12 14:18:51.294027        173  process_task       8  User-13   \n",
       "175 2021-09-12 14:19:51.294027        174  process_task       6  User-19   \n",
       "176 2021-09-12 14:20:51.294027        175  process_task      10   User-9   \n",
       "177 2021-09-12 14:21:51.294027        176  process_task       7  User-16   \n",
       "178 2021-09-12 14:22:51.294027        177  process_task       9  User-11   \n",
       "179 2021-09-12 14:23:51.294027        178  process_task      12   User-6   \n",
       "180 2021-09-12 14:24:51.294027        179  process_task      15   User-2   \n",
       "181 2021-09-12 14:25:51.294027        180  process_task      13   User-5   \n",
       "182 2021-09-12 14:26:51.294027        181  process_task       8  User-14   \n",
       "183 2021-09-12 14:27:51.294027        182  process_task       7  User-17   \n",
       "184 2021-09-12 14:28:51.294027        183  process_task      11   User-8   \n",
       "185 2021-09-12 14:29:51.294027        184  process_task      16   User-1   \n",
       "186 2021-09-12 14:30:51.294027        185  process_task       9  User-12   \n",
       "187 2021-09-12 14:31:51.294027        186  process_task      10  User-10   \n",
       "188 2021-09-12 14:32:51.294027        187  process_task      14   User-4   \n",
       "189 2021-09-12 14:33:51.294027        188  process_task       7  User-18   \n",
       "190 2021-09-12 14:34:51.294027        189  process_task       8  User-15   \n",
       "191 2021-09-12 14:35:51.294027        190  process_task      12   User-7   \n",
       "192 2021-09-12 14:36:51.294027        191  process_task      17   User-0   \n",
       "193 2021-09-12 14:37:51.294027        192  process_task      15   User-3   \n",
       "194 2021-09-12 14:38:51.294027        193  process_task       9  User-13   \n",
       "195 2021-09-12 14:39:51.294027        194  process_task       7  User-19   \n",
       "196 2021-09-12 14:40:51.294027        195  process_task      11   User-9   \n",
       "197 2021-09-12 14:41:51.294027        196  process_task       8  User-16   \n",
       "198 2021-09-12 14:42:51.294027        197  process_task      10  User-11   \n",
       "199 2021-09-12 14:43:51.294027        198  process_task      13   User-6   \n",
       "200 2021-09-12 14:44:51.294027        199  process_task      16   User-2   \n",
       "\n",
       "                        Finish  FinishMark  Duration  \n",
       "0   2021-09-12 11:30:51.294027         5.0       5.0  \n",
       "1   2021-09-12 11:35:51.294027        10.0       5.0  \n",
       "2   2021-09-12 11:37:51.294027        12.0       5.0  \n",
       "3   2021-09-12 11:40:51.294027        15.0       5.0  \n",
       "4   2021-09-12 11:42:51.294027        17.0       5.0  \n",
       "5   2021-09-12 11:44:51.294027        19.0       5.0  \n",
       "6   2021-09-12 11:45:51.294027        20.0       5.0  \n",
       "7   2021-09-12 11:47:51.294027        22.0       5.0  \n",
       "8   2021-09-12 11:49:51.294027        24.0       5.0  \n",
       "9   2021-09-12 11:50:51.294027        25.0       5.0  \n",
       "10  2021-09-12 11:51:51.294027        26.0       5.0  \n",
       "11  2021-09-12 11:52:51.294027        27.0       5.0  \n",
       "12  2021-09-12 11:54:51.294027        29.0       5.0  \n",
       "13  2021-09-12 11:55:51.294027        30.0       5.0  \n",
       "14  2021-09-12 11:56:51.294027        31.0       5.0  \n",
       "15  2021-09-12 11:57:51.294027        32.0       5.0  \n",
       "16  2021-09-12 11:58:51.294027        33.0       5.0  \n",
       "17  2021-09-12 11:59:51.294027        34.0       5.0  \n",
       "18  2021-09-12 12:00:51.294027        35.0       5.0  \n",
       "19  2021-09-12 12:01:51.294027        36.0       5.0  \n",
       "20  2021-09-12 12:02:51.294027        37.0       5.0  \n",
       "21  2021-09-12 12:03:51.294027        38.0       5.0  \n",
       "22  2021-09-12 12:04:51.294027        39.0       5.0  \n",
       "23  2021-09-12 12:05:51.294027        40.0       5.0  \n",
       "24  2021-09-12 12:06:51.294027        41.0       6.0  \n",
       "25  2021-09-12 12:07:51.294027        42.0       6.0  \n",
       "26  2021-09-12 12:08:51.294027        43.0       6.0  \n",
       "27  2021-09-12 12:09:51.294027        44.0       6.0  \n",
       "28  2021-09-12 12:10:51.294027        45.0       6.0  \n",
       "29  2021-09-12 12:11:51.294027        46.0       6.0  \n",
       "..                         ...         ...       ...  \n",
       "171 2021-09-12 14:33:51.294027       188.0      18.0  \n",
       "172 2021-09-12 14:34:51.294027       189.0      18.0  \n",
       "173 2021-09-12 14:35:51.294027       190.0      18.0  \n",
       "174 2021-09-12 14:36:51.294027       191.0      18.0  \n",
       "175 2021-09-12 14:37:51.294027       192.0      18.0  \n",
       "176 2021-09-12 14:38:51.294027       193.0      18.0  \n",
       "177 2021-09-12 14:39:51.294027       194.0      18.0  \n",
       "178 2021-09-12 14:40:51.294027       195.0      18.0  \n",
       "179 2021-09-12 14:41:51.294027       196.0      18.0  \n",
       "180 2021-09-12 14:42:51.294027       197.0      18.0  \n",
       "181 2021-09-12 14:43:51.294027       198.0      18.0  \n",
       "182 2021-09-12 14:44:51.294027       199.0      18.0  \n",
       "183                        NaT         NaN       NaN  \n",
       "184                        NaT         NaN       NaN  \n",
       "185                        NaT         NaN       NaN  \n",
       "186                        NaT         NaN       NaN  \n",
       "187                        NaT         NaN       NaN  \n",
       "188                        NaT         NaN       NaN  \n",
       "189                        NaT         NaN       NaN  \n",
       "190                        NaT         NaN       NaN  \n",
       "191                        NaT         NaN       NaN  \n",
       "192                        NaT         NaN       NaN  \n",
       "193                        NaT         NaN       NaN  \n",
       "194                        NaT         NaN       NaN  \n",
       "195                        NaT         NaN       NaN  \n",
       "196                        NaT         NaN       NaN  \n",
       "197                        NaT         NaN       NaN  \n",
       "198                        NaT         NaN       NaN  \n",
       "199                        NaT         NaN       NaN  \n",
       "200                        NaT         NaN       NaN  \n",
       "\n",
       "[201 rows x 8 columns]"
      ]
     },
     "metadata": {},
     "output_type": "display_data"
    }
   ],
   "source": [
    "df_users = user_monitor.collect()\n",
    "display(df_users)"
   ]
  },
  {
   "cell_type": "code",
   "execution_count": 59,
   "metadata": {},
   "outputs": [
    {
     "data": {
      "application/vnd.plotly.v1+json": {
       "config": {
        "plotlyServerURL": "https://plot.ly"
       },
       "data": [
        {
         "alignmentgroup": "True",
         "base": [
          "2021-09-12T11:25:51.294027",
          "2021-09-12T11:30:51.294027",
          "2021-09-12T11:32:51.294027",
          "2021-09-12T11:35:51.294027",
          "2021-09-12T11:37:51.294027",
          "2021-09-12T11:39:51.294027",
          "2021-09-12T11:40:51.294027",
          "2021-09-12T11:42:51.294027",
          "2021-09-12T11:44:51.294027",
          "2021-09-12T11:45:51.294027",
          "2021-09-12T11:46:51.294027",
          "2021-09-12T11:47:51.294027",
          "2021-09-12T11:49:51.294027",
          "2021-09-12T11:50:51.294027",
          "2021-09-12T11:51:51.294027",
          "2021-09-12T11:52:51.294027",
          "2021-09-12T11:53:51.294027",
          "2021-09-12T11:54:51.294027",
          "2021-09-12T11:55:51.294027",
          "2021-09-12T11:56:51.294027",
          "2021-09-12T11:57:51.294027",
          "2021-09-12T11:58:51.294027",
          "2021-09-12T11:59:51.294027",
          "2021-09-12T12:00:51.294027",
          "2021-09-12T12:00:51.294027",
          "2021-09-12T12:01:51.294027",
          "2021-09-12T12:02:51.294027",
          "2021-09-12T12:03:51.294027",
          "2021-09-12T12:04:51.294027",
          "2021-09-12T12:05:51.294027",
          "2021-09-12T12:05:51.294027",
          "2021-09-12T12:06:51.294027",
          "2021-09-12T12:07:51.294027",
          "2021-09-12T12:08:51.294027",
          "2021-09-12T12:09:51.294027",
          "2021-09-12T12:10:51.294027",
          "2021-09-12T12:10:51.294027",
          "2021-09-12T12:11:51.294027",
          "2021-09-12T12:12:51.294027",
          "2021-09-12T12:13:51.294027",
          "2021-09-12T12:14:51.294027",
          "2021-09-12T12:15:51.294027",
          "2021-09-12T12:15:51.294027",
          "2021-09-12T12:16:51.294027",
          "2021-09-12T12:17:51.294027",
          "2021-09-12T12:18:51.294027",
          "2021-09-12T12:19:51.294027",
          "2021-09-12T12:20:51.294027",
          "2021-09-12T12:20:51.294027",
          "2021-09-12T12:21:51.294027",
          "2021-09-12T12:22:51.294027",
          "2021-09-12T12:23:51.294027",
          "2021-09-12T12:24:51.294027",
          "2021-09-12T12:25:51.294027",
          "2021-09-12T12:25:51.294027",
          "2021-09-12T12:26:51.294027",
          "2021-09-12T12:27:51.294027",
          "2021-09-12T12:28:51.294027",
          "2021-09-12T12:29:51.294027",
          "2021-09-12T12:30:51.294027",
          "2021-09-12T12:30:51.294027",
          "2021-09-12T12:31:51.294027",
          "2021-09-12T12:32:51.294027",
          "2021-09-12T12:33:51.294027",
          "2021-09-12T12:34:51.294027",
          "2021-09-12T12:35:51.294027",
          "2021-09-12T12:35:51.294027",
          "2021-09-12T12:36:51.294027",
          "2021-09-12T12:37:51.294027",
          "2021-09-12T12:38:51.294027",
          "2021-09-12T12:39:51.294027",
          "2021-09-12T12:40:51.294027",
          "2021-09-12T12:40:51.294027",
          "2021-09-12T12:41:51.294027",
          "2021-09-12T12:42:51.294027",
          "2021-09-12T12:43:51.294027",
          "2021-09-12T12:44:51.294027",
          "2021-09-12T12:45:51.294027",
          "2021-09-12T12:45:51.294027",
          "2021-09-12T12:46:51.294027",
          "2021-09-12T12:47:51.294027",
          "2021-09-12T12:48:51.294027",
          "2021-09-12T12:49:51.294027",
          "2021-09-12T12:50:51.294027",
          "2021-09-12T12:50:51.294027",
          "2021-09-12T12:51:51.294027",
          "2021-09-12T12:52:51.294027",
          "2021-09-12T12:53:51.294027",
          "2021-09-12T12:54:51.294027",
          "2021-09-12T12:55:51.294027",
          "2021-09-12T12:55:51.294027",
          "2021-09-12T12:56:51.294027",
          "2021-09-12T12:57:51.294027",
          "2021-09-12T12:58:51.294027",
          "2021-09-12T12:59:51.294027",
          "2021-09-12T13:00:51.294027",
          "2021-09-12T13:00:51.294027",
          "2021-09-12T13:01:51.294027",
          "2021-09-12T13:02:51.294027",
          "2021-09-12T13:03:51.294027",
          "2021-09-12T13:04:51.294027",
          "2021-09-12T13:05:51.294027",
          "2021-09-12T13:06:51.294027",
          "2021-09-12T13:07:51.294027",
          "2021-09-12T13:08:51.294027",
          "2021-09-12T13:09:51.294027",
          "2021-09-12T13:10:51.294027",
          "2021-09-12T13:11:51.294027",
          "2021-09-12T13:12:51.294027",
          "2021-09-12T13:13:51.294027",
          "2021-09-12T13:14:51.294027",
          "2021-09-12T13:15:51.294027",
          "2021-09-12T13:16:51.294027",
          "2021-09-12T13:17:51.294027",
          "2021-09-12T13:18:51.294027",
          "2021-09-12T13:19:51.294027",
          "2021-09-12T13:20:51.294027",
          "2021-09-12T13:21:51.294027",
          "2021-09-12T13:22:51.294027",
          "2021-09-12T13:23:51.294027",
          "2021-09-12T13:24:51.294027",
          "2021-09-12T13:25:51.294027",
          "2021-09-12T13:26:51.294027",
          "2021-09-12T13:27:51.294027",
          "2021-09-12T13:28:51.294027",
          "2021-09-12T13:29:51.294027",
          "2021-09-12T13:30:51.294027",
          "2021-09-12T13:31:51.294027",
          "2021-09-12T13:32:51.294027",
          "2021-09-12T13:33:51.294027",
          "2021-09-12T13:34:51.294027",
          "2021-09-12T13:35:51.294027",
          "2021-09-12T13:36:51.294027",
          "2021-09-12T13:37:51.294027",
          "2021-09-12T13:38:51.294027",
          "2021-09-12T13:39:51.294027",
          "2021-09-12T13:40:51.294027",
          "2021-09-12T13:41:51.294027",
          "2021-09-12T13:42:51.294027",
          "2021-09-12T13:43:51.294027",
          "2021-09-12T13:44:51.294027",
          "2021-09-12T13:45:51.294027",
          "2021-09-12T13:46:51.294027",
          "2021-09-12T13:47:51.294027",
          "2021-09-12T13:48:51.294027",
          "2021-09-12T13:49:51.294027",
          "2021-09-12T13:50:51.294027",
          "2021-09-12T13:51:51.294027",
          "2021-09-12T13:52:51.294027",
          "2021-09-12T13:53:51.294027",
          "2021-09-12T13:54:51.294027",
          "2021-09-12T13:55:51.294027",
          "2021-09-12T13:56:51.294027",
          "2021-09-12T13:57:51.294027",
          "2021-09-12T13:58:51.294027",
          "2021-09-12T13:59:51.294027",
          "2021-09-12T14:00:51.294027",
          "2021-09-12T14:01:51.294027",
          "2021-09-12T14:02:51.294027",
          "2021-09-12T14:03:51.294027",
          "2021-09-12T14:04:51.294027",
          "2021-09-12T14:05:51.294027",
          "2021-09-12T14:06:51.294027",
          "2021-09-12T14:07:51.294027",
          "2021-09-12T14:08:51.294027",
          "2021-09-12T14:09:51.294027",
          "2021-09-12T14:10:51.294027",
          "2021-09-12T14:11:51.294027",
          "2021-09-12T14:12:51.294027",
          "2021-09-12T14:13:51.294027",
          "2021-09-12T14:14:51.294027",
          "2021-09-12T14:15:51.294027",
          "2021-09-12T14:16:51.294027",
          "2021-09-12T14:17:51.294027",
          "2021-09-12T14:18:51.294027",
          "2021-09-12T14:19:51.294027",
          "2021-09-12T14:20:51.294027",
          "2021-09-12T14:21:51.294027",
          "2021-09-12T14:22:51.294027",
          "2021-09-12T14:23:51.294027",
          "2021-09-12T14:24:51.294027",
          "2021-09-12T14:25:51.294027",
          "2021-09-12T14:26:51.294027",
          "2021-09-12T14:27:51.294027",
          "2021-09-12T14:28:51.294027",
          "2021-09-12T14:29:51.294027",
          "2021-09-12T14:30:51.294027",
          "2021-09-12T14:31:51.294027",
          "2021-09-12T14:32:51.294027",
          "2021-09-12T14:33:51.294027",
          "2021-09-12T14:34:51.294027",
          "2021-09-12T14:35:51.294027",
          "2021-09-12T14:36:51.294027",
          "2021-09-12T14:37:51.294027",
          "2021-09-12T14:38:51.294027",
          "2021-09-12T14:39:51.294027",
          "2021-09-12T14:40:51.294027",
          "2021-09-12T14:41:51.294027",
          "2021-09-12T14:42:51.294027",
          "2021-09-12T14:43:51.294027",
          "2021-09-12T14:44:51.294027"
         ],
         "hovertemplate": "Start=%{base}<br>Finish=%{x}<br>Username=%{y}<extra></extra>",
         "legendgroup": "",
         "marker": {
          "color": "#636efa"
         },
         "name": "",
         "offsetgroup": "",
         "orientation": "h",
         "showlegend": false,
         "textposition": "auto",
         "type": "bar",
         "x": [
          300000,
          300000,
          300000,
          300000,
          300000,
          300000,
          300000,
          300000,
          300000,
          300000,
          300000,
          300000,
          300000,
          300000,
          300000,
          300000,
          300000,
          300000,
          300000,
          300000,
          300000,
          300000,
          300000,
          300000,
          360000,
          360000,
          360000,
          360000,
          360000,
          360000,
          420000,
          420000,
          420000,
          420000,
          420000,
          420000,
          480000,
          480000,
          480000,
          480000,
          480000,
          480000,
          540000,
          540000,
          540000,
          540000,
          540000,
          540000,
          600000,
          600000,
          600000,
          600000,
          600000,
          600000,
          660000,
          660000,
          660000,
          660000,
          660000,
          660000,
          720000,
          720000,
          720000,
          720000,
          720000,
          720000,
          780000,
          780000,
          780000,
          780000,
          780000,
          780000,
          840000,
          840000,
          840000,
          840000,
          840000,
          840000,
          900000,
          900000,
          900000,
          900000,
          900000,
          900000,
          960000,
          960000,
          960000,
          960000,
          960000,
          960000,
          1020000,
          1020000,
          1020000,
          1020000,
          1020000,
          1020000,
          1080000,
          1080000,
          1080000,
          1080000,
          1080000,
          1080000,
          1080000,
          1080000,
          1080000,
          1080000,
          1080000,
          1080000,
          1080000,
          1080000,
          1080000,
          1080000,
          1080000,
          1080000,
          1080000,
          1080000,
          1080000,
          1080000,
          1080000,
          1080000,
          1080000,
          1080000,
          1080000,
          1080000,
          1080000,
          1080000,
          1080000,
          1080000,
          1080000,
          1080000,
          1080000,
          1080000,
          1080000,
          1080000,
          1080000,
          1080000,
          1080000,
          1080000,
          1080000,
          1080000,
          1080000,
          1080000,
          1080000,
          1080000,
          1080000,
          1080000,
          1080000,
          1080000,
          1080000,
          1080000,
          1080000,
          1080000,
          1080000,
          1080000,
          1080000,
          1080000,
          1080000,
          1080000,
          1080000,
          1080000,
          1080000,
          1080000,
          1080000,
          1080000,
          1080000,
          1080000,
          1080000,
          1080000,
          1080000,
          1080000,
          1080000,
          1080000,
          1080000,
          1080000,
          1080000,
          1080000,
          1080000,
          1080000,
          1080000,
          1080000,
          1080000,
          1080000,
          1080000,
          null,
          null,
          null,
          null,
          null,
          null,
          null,
          null,
          null,
          null,
          null,
          null,
          null,
          null,
          null,
          null,
          null,
          null
         ],
         "xaxis": "x",
         "y": [
          "User-0",
          "User-1",
          "User-0",
          "User-2",
          "User-1",
          "User-0",
          "User-3",
          "User-2",
          "User-1",
          "User-4",
          "User-0",
          "User-3",
          "User-2",
          "User-5",
          "User-1",
          "User-4",
          "User-0",
          "User-3",
          "User-6",
          "User-2",
          "User-5",
          "User-1",
          "User-4",
          "User-7",
          "User-0",
          "User-3",
          "User-6",
          "User-2",
          "User-5",
          "User-8",
          "User-1",
          "User-4",
          "User-7",
          "User-0",
          "User-3",
          "User-9",
          "User-6",
          "User-2",
          "User-5",
          "User-8",
          "User-1",
          "User-10",
          "User-4",
          "User-7",
          "User-0",
          "User-3",
          "User-9",
          "User-11",
          "User-6",
          "User-2",
          "User-5",
          "User-8",
          "User-1",
          "User-12",
          "User-10",
          "User-4",
          "User-7",
          "User-0",
          "User-3",
          "User-13",
          "User-9",
          "User-11",
          "User-6",
          "User-2",
          "User-5",
          "User-14",
          "User-8",
          "User-1",
          "User-12",
          "User-10",
          "User-4",
          "User-15",
          "User-7",
          "User-0",
          "User-3",
          "User-13",
          "User-9",
          "User-16",
          "User-11",
          "User-6",
          "User-2",
          "User-5",
          "User-14",
          "User-17",
          "User-8",
          "User-1",
          "User-12",
          "User-10",
          "User-4",
          "User-18",
          "User-15",
          "User-7",
          "User-0",
          "User-3",
          "User-13",
          "User-19",
          "User-9",
          "User-16",
          "User-11",
          "User-6",
          "User-2",
          "User-5",
          "User-14",
          "User-17",
          "User-8",
          "User-1",
          "User-12",
          "User-10",
          "User-4",
          "User-18",
          "User-15",
          "User-7",
          "User-0",
          "User-3",
          "User-13",
          "User-19",
          "User-9",
          "User-16",
          "User-11",
          "User-6",
          "User-2",
          "User-5",
          "User-14",
          "User-17",
          "User-8",
          "User-1",
          "User-12",
          "User-10",
          "User-4",
          "User-18",
          "User-15",
          "User-7",
          "User-0",
          "User-3",
          "User-13",
          "User-19",
          "User-9",
          "User-16",
          "User-11",
          "User-6",
          "User-2",
          "User-5",
          "User-14",
          "User-17",
          "User-8",
          "User-1",
          "User-12",
          "User-10",
          "User-4",
          "User-18",
          "User-15",
          "User-7",
          "User-0",
          "User-3",
          "User-13",
          "User-19",
          "User-9",
          "User-16",
          "User-11",
          "User-6",
          "User-2",
          "User-5",
          "User-14",
          "User-17",
          "User-8",
          "User-1",
          "User-12",
          "User-10",
          "User-4",
          "User-18",
          "User-15",
          "User-7",
          "User-0",
          "User-3",
          "User-13",
          "User-19",
          "User-9",
          "User-16",
          "User-11",
          "User-6",
          "User-2",
          "User-5",
          "User-14",
          "User-17",
          "User-8",
          "User-1",
          "User-12",
          "User-10",
          "User-4",
          "User-18",
          "User-15",
          "User-7",
          "User-0",
          "User-3",
          "User-13",
          "User-19",
          "User-9",
          "User-16",
          "User-11",
          "User-6",
          "User-2"
         ],
         "yaxis": "y"
        }
       ],
       "layout": {
        "barmode": "overlay",
        "legend": {
         "tracegroupgap": 0
        },
        "margin": {
         "t": 60
        },
        "template": {
         "data": {
          "bar": [
           {
            "error_x": {
             "color": "#2a3f5f"
            },
            "error_y": {
             "color": "#2a3f5f"
            },
            "marker": {
             "line": {
              "color": "#E5ECF6",
              "width": 0.5
             },
             "pattern": {
              "fillmode": "overlay",
              "size": 10,
              "solidity": 0.2
             }
            },
            "type": "bar"
           }
          ],
          "barpolar": [
           {
            "marker": {
             "line": {
              "color": "#E5ECF6",
              "width": 0.5
             },
             "pattern": {
              "fillmode": "overlay",
              "size": 10,
              "solidity": 0.2
             }
            },
            "type": "barpolar"
           }
          ],
          "carpet": [
           {
            "aaxis": {
             "endlinecolor": "#2a3f5f",
             "gridcolor": "white",
             "linecolor": "white",
             "minorgridcolor": "white",
             "startlinecolor": "#2a3f5f"
            },
            "baxis": {
             "endlinecolor": "#2a3f5f",
             "gridcolor": "white",
             "linecolor": "white",
             "minorgridcolor": "white",
             "startlinecolor": "#2a3f5f"
            },
            "type": "carpet"
           }
          ],
          "choropleth": [
           {
            "colorbar": {
             "outlinewidth": 0,
             "ticks": ""
            },
            "type": "choropleth"
           }
          ],
          "contour": [
           {
            "colorbar": {
             "outlinewidth": 0,
             "ticks": ""
            },
            "colorscale": [
             [
              0,
              "#0d0887"
             ],
             [
              0.1111111111111111,
              "#46039f"
             ],
             [
              0.2222222222222222,
              "#7201a8"
             ],
             [
              0.3333333333333333,
              "#9c179e"
             ],
             [
              0.4444444444444444,
              "#bd3786"
             ],
             [
              0.5555555555555556,
              "#d8576b"
             ],
             [
              0.6666666666666666,
              "#ed7953"
             ],
             [
              0.7777777777777778,
              "#fb9f3a"
             ],
             [
              0.8888888888888888,
              "#fdca26"
             ],
             [
              1,
              "#f0f921"
             ]
            ],
            "type": "contour"
           }
          ],
          "contourcarpet": [
           {
            "colorbar": {
             "outlinewidth": 0,
             "ticks": ""
            },
            "type": "contourcarpet"
           }
          ],
          "heatmap": [
           {
            "colorbar": {
             "outlinewidth": 0,
             "ticks": ""
            },
            "colorscale": [
             [
              0,
              "#0d0887"
             ],
             [
              0.1111111111111111,
              "#46039f"
             ],
             [
              0.2222222222222222,
              "#7201a8"
             ],
             [
              0.3333333333333333,
              "#9c179e"
             ],
             [
              0.4444444444444444,
              "#bd3786"
             ],
             [
              0.5555555555555556,
              "#d8576b"
             ],
             [
              0.6666666666666666,
              "#ed7953"
             ],
             [
              0.7777777777777778,
              "#fb9f3a"
             ],
             [
              0.8888888888888888,
              "#fdca26"
             ],
             [
              1,
              "#f0f921"
             ]
            ],
            "type": "heatmap"
           }
          ],
          "heatmapgl": [
           {
            "colorbar": {
             "outlinewidth": 0,
             "ticks": ""
            },
            "colorscale": [
             [
              0,
              "#0d0887"
             ],
             [
              0.1111111111111111,
              "#46039f"
             ],
             [
              0.2222222222222222,
              "#7201a8"
             ],
             [
              0.3333333333333333,
              "#9c179e"
             ],
             [
              0.4444444444444444,
              "#bd3786"
             ],
             [
              0.5555555555555556,
              "#d8576b"
             ],
             [
              0.6666666666666666,
              "#ed7953"
             ],
             [
              0.7777777777777778,
              "#fb9f3a"
             ],
             [
              0.8888888888888888,
              "#fdca26"
             ],
             [
              1,
              "#f0f921"
             ]
            ],
            "type": "heatmapgl"
           }
          ],
          "histogram": [
           {
            "marker": {
             "pattern": {
              "fillmode": "overlay",
              "size": 10,
              "solidity": 0.2
             }
            },
            "type": "histogram"
           }
          ],
          "histogram2d": [
           {
            "colorbar": {
             "outlinewidth": 0,
             "ticks": ""
            },
            "colorscale": [
             [
              0,
              "#0d0887"
             ],
             [
              0.1111111111111111,
              "#46039f"
             ],
             [
              0.2222222222222222,
              "#7201a8"
             ],
             [
              0.3333333333333333,
              "#9c179e"
             ],
             [
              0.4444444444444444,
              "#bd3786"
             ],
             [
              0.5555555555555556,
              "#d8576b"
             ],
             [
              0.6666666666666666,
              "#ed7953"
             ],
             [
              0.7777777777777778,
              "#fb9f3a"
             ],
             [
              0.8888888888888888,
              "#fdca26"
             ],
             [
              1,
              "#f0f921"
             ]
            ],
            "type": "histogram2d"
           }
          ],
          "histogram2dcontour": [
           {
            "colorbar": {
             "outlinewidth": 0,
             "ticks": ""
            },
            "colorscale": [
             [
              0,
              "#0d0887"
             ],
             [
              0.1111111111111111,
              "#46039f"
             ],
             [
              0.2222222222222222,
              "#7201a8"
             ],
             [
              0.3333333333333333,
              "#9c179e"
             ],
             [
              0.4444444444444444,
              "#bd3786"
             ],
             [
              0.5555555555555556,
              "#d8576b"
             ],
             [
              0.6666666666666666,
              "#ed7953"
             ],
             [
              0.7777777777777778,
              "#fb9f3a"
             ],
             [
              0.8888888888888888,
              "#fdca26"
             ],
             [
              1,
              "#f0f921"
             ]
            ],
            "type": "histogram2dcontour"
           }
          ],
          "mesh3d": [
           {
            "colorbar": {
             "outlinewidth": 0,
             "ticks": ""
            },
            "type": "mesh3d"
           }
          ],
          "parcoords": [
           {
            "line": {
             "colorbar": {
              "outlinewidth": 0,
              "ticks": ""
             }
            },
            "type": "parcoords"
           }
          ],
          "pie": [
           {
            "automargin": true,
            "type": "pie"
           }
          ],
          "scatter": [
           {
            "marker": {
             "colorbar": {
              "outlinewidth": 0,
              "ticks": ""
             }
            },
            "type": "scatter"
           }
          ],
          "scatter3d": [
           {
            "line": {
             "colorbar": {
              "outlinewidth": 0,
              "ticks": ""
             }
            },
            "marker": {
             "colorbar": {
              "outlinewidth": 0,
              "ticks": ""
             }
            },
            "type": "scatter3d"
           }
          ],
          "scattercarpet": [
           {
            "marker": {
             "colorbar": {
              "outlinewidth": 0,
              "ticks": ""
             }
            },
            "type": "scattercarpet"
           }
          ],
          "scattergeo": [
           {
            "marker": {
             "colorbar": {
              "outlinewidth": 0,
              "ticks": ""
             }
            },
            "type": "scattergeo"
           }
          ],
          "scattergl": [
           {
            "marker": {
             "colorbar": {
              "outlinewidth": 0,
              "ticks": ""
             }
            },
            "type": "scattergl"
           }
          ],
          "scattermapbox": [
           {
            "marker": {
             "colorbar": {
              "outlinewidth": 0,
              "ticks": ""
             }
            },
            "type": "scattermapbox"
           }
          ],
          "scatterpolar": [
           {
            "marker": {
             "colorbar": {
              "outlinewidth": 0,
              "ticks": ""
             }
            },
            "type": "scatterpolar"
           }
          ],
          "scatterpolargl": [
           {
            "marker": {
             "colorbar": {
              "outlinewidth": 0,
              "ticks": ""
             }
            },
            "type": "scatterpolargl"
           }
          ],
          "scatterternary": [
           {
            "marker": {
             "colorbar": {
              "outlinewidth": 0,
              "ticks": ""
             }
            },
            "type": "scatterternary"
           }
          ],
          "surface": [
           {
            "colorbar": {
             "outlinewidth": 0,
             "ticks": ""
            },
            "colorscale": [
             [
              0,
              "#0d0887"
             ],
             [
              0.1111111111111111,
              "#46039f"
             ],
             [
              0.2222222222222222,
              "#7201a8"
             ],
             [
              0.3333333333333333,
              "#9c179e"
             ],
             [
              0.4444444444444444,
              "#bd3786"
             ],
             [
              0.5555555555555556,
              "#d8576b"
             ],
             [
              0.6666666666666666,
              "#ed7953"
             ],
             [
              0.7777777777777778,
              "#fb9f3a"
             ],
             [
              0.8888888888888888,
              "#fdca26"
             ],
             [
              1,
              "#f0f921"
             ]
            ],
            "type": "surface"
           }
          ],
          "table": [
           {
            "cells": {
             "fill": {
              "color": "#EBF0F8"
             },
             "line": {
              "color": "white"
             }
            },
            "header": {
             "fill": {
              "color": "#C8D4E3"
             },
             "line": {
              "color": "white"
             }
            },
            "type": "table"
           }
          ]
         },
         "layout": {
          "annotationdefaults": {
           "arrowcolor": "#2a3f5f",
           "arrowhead": 0,
           "arrowwidth": 1
          },
          "autotypenumbers": "strict",
          "coloraxis": {
           "colorbar": {
            "outlinewidth": 0,
            "ticks": ""
           }
          },
          "colorscale": {
           "diverging": [
            [
             0,
             "#8e0152"
            ],
            [
             0.1,
             "#c51b7d"
            ],
            [
             0.2,
             "#de77ae"
            ],
            [
             0.3,
             "#f1b6da"
            ],
            [
             0.4,
             "#fde0ef"
            ],
            [
             0.5,
             "#f7f7f7"
            ],
            [
             0.6,
             "#e6f5d0"
            ],
            [
             0.7,
             "#b8e186"
            ],
            [
             0.8,
             "#7fbc41"
            ],
            [
             0.9,
             "#4d9221"
            ],
            [
             1,
             "#276419"
            ]
           ],
           "sequential": [
            [
             0,
             "#0d0887"
            ],
            [
             0.1111111111111111,
             "#46039f"
            ],
            [
             0.2222222222222222,
             "#7201a8"
            ],
            [
             0.3333333333333333,
             "#9c179e"
            ],
            [
             0.4444444444444444,
             "#bd3786"
            ],
            [
             0.5555555555555556,
             "#d8576b"
            ],
            [
             0.6666666666666666,
             "#ed7953"
            ],
            [
             0.7777777777777778,
             "#fb9f3a"
            ],
            [
             0.8888888888888888,
             "#fdca26"
            ],
            [
             1,
             "#f0f921"
            ]
           ],
           "sequentialminus": [
            [
             0,
             "#0d0887"
            ],
            [
             0.1111111111111111,
             "#46039f"
            ],
            [
             0.2222222222222222,
             "#7201a8"
            ],
            [
             0.3333333333333333,
             "#9c179e"
            ],
            [
             0.4444444444444444,
             "#bd3786"
            ],
            [
             0.5555555555555556,
             "#d8576b"
            ],
            [
             0.6666666666666666,
             "#ed7953"
            ],
            [
             0.7777777777777778,
             "#fb9f3a"
            ],
            [
             0.8888888888888888,
             "#fdca26"
            ],
            [
             1,
             "#f0f921"
            ]
           ]
          },
          "colorway": [
           "#636efa",
           "#EF553B",
           "#00cc96",
           "#ab63fa",
           "#FFA15A",
           "#19d3f3",
           "#FF6692",
           "#B6E880",
           "#FF97FF",
           "#FECB52"
          ],
          "font": {
           "color": "#2a3f5f"
          },
          "geo": {
           "bgcolor": "white",
           "lakecolor": "white",
           "landcolor": "#E5ECF6",
           "showlakes": true,
           "showland": true,
           "subunitcolor": "white"
          },
          "hoverlabel": {
           "align": "left"
          },
          "hovermode": "closest",
          "mapbox": {
           "style": "light"
          },
          "paper_bgcolor": "white",
          "plot_bgcolor": "#E5ECF6",
          "polar": {
           "angularaxis": {
            "gridcolor": "white",
            "linecolor": "white",
            "ticks": ""
           },
           "bgcolor": "#E5ECF6",
           "radialaxis": {
            "gridcolor": "white",
            "linecolor": "white",
            "ticks": ""
           }
          },
          "scene": {
           "xaxis": {
            "backgroundcolor": "#E5ECF6",
            "gridcolor": "white",
            "gridwidth": 2,
            "linecolor": "white",
            "showbackground": true,
            "ticks": "",
            "zerolinecolor": "white"
           },
           "yaxis": {
            "backgroundcolor": "#E5ECF6",
            "gridcolor": "white",
            "gridwidth": 2,
            "linecolor": "white",
            "showbackground": true,
            "ticks": "",
            "zerolinecolor": "white"
           },
           "zaxis": {
            "backgroundcolor": "#E5ECF6",
            "gridcolor": "white",
            "gridwidth": 2,
            "linecolor": "white",
            "showbackground": true,
            "ticks": "",
            "zerolinecolor": "white"
           }
          },
          "shapedefaults": {
           "line": {
            "color": "#2a3f5f"
           }
          },
          "ternary": {
           "aaxis": {
            "gridcolor": "white",
            "linecolor": "white",
            "ticks": ""
           },
           "baxis": {
            "gridcolor": "white",
            "linecolor": "white",
            "ticks": ""
           },
           "bgcolor": "#E5ECF6",
           "caxis": {
            "gridcolor": "white",
            "linecolor": "white",
            "ticks": ""
           }
          },
          "title": {
           "x": 0.05
          },
          "xaxis": {
           "automargin": true,
           "gridcolor": "white",
           "linecolor": "white",
           "ticks": "",
           "title": {
            "standoff": 15
           },
           "zerolinecolor": "white",
           "zerolinewidth": 2
          },
          "yaxis": {
           "automargin": true,
           "gridcolor": "white",
           "linecolor": "white",
           "ticks": "",
           "title": {
            "standoff": 15
           },
           "zerolinecolor": "white",
           "zerolinewidth": 2
          }
         }
        },
        "xaxis": {
         "anchor": "y",
         "domain": [
          0,
          1
         ],
         "type": "date"
        },
        "yaxis": {
         "anchor": "x",
         "autorange": "reversed",
         "domain": [
          0,
          1
         ],
         "title": {
          "text": "Username"
         }
        }
       }
      },
      "text/html": [
       "<div>                            <div id=\"a49b2855-4e64-4e27-9bef-842b1ae0fbb0\" class=\"plotly-graph-div\" style=\"height:525px; width:100%;\"></div>            <script type=\"text/javascript\">                require([\"plotly\"], function(Plotly) {                    window.PLOTLYENV=window.PLOTLYENV || {};                                    if (document.getElementById(\"a49b2855-4e64-4e27-9bef-842b1ae0fbb0\")) {                    Plotly.newPlot(                        \"a49b2855-4e64-4e27-9bef-842b1ae0fbb0\",                        [{\"alignmentgroup\":\"True\",\"base\":[\"2021-09-12T11:25:51.294027\",\"2021-09-12T11:30:51.294027\",\"2021-09-12T11:32:51.294027\",\"2021-09-12T11:35:51.294027\",\"2021-09-12T11:37:51.294027\",\"2021-09-12T11:39:51.294027\",\"2021-09-12T11:40:51.294027\",\"2021-09-12T11:42:51.294027\",\"2021-09-12T11:44:51.294027\",\"2021-09-12T11:45:51.294027\",\"2021-09-12T11:46:51.294027\",\"2021-09-12T11:47:51.294027\",\"2021-09-12T11:49:51.294027\",\"2021-09-12T11:50:51.294027\",\"2021-09-12T11:51:51.294027\",\"2021-09-12T11:52:51.294027\",\"2021-09-12T11:53:51.294027\",\"2021-09-12T11:54:51.294027\",\"2021-09-12T11:55:51.294027\",\"2021-09-12T11:56:51.294027\",\"2021-09-12T11:57:51.294027\",\"2021-09-12T11:58:51.294027\",\"2021-09-12T11:59:51.294027\",\"2021-09-12T12:00:51.294027\",\"2021-09-12T12:00:51.294027\",\"2021-09-12T12:01:51.294027\",\"2021-09-12T12:02:51.294027\",\"2021-09-12T12:03:51.294027\",\"2021-09-12T12:04:51.294027\",\"2021-09-12T12:05:51.294027\",\"2021-09-12T12:05:51.294027\",\"2021-09-12T12:06:51.294027\",\"2021-09-12T12:07:51.294027\",\"2021-09-12T12:08:51.294027\",\"2021-09-12T12:09:51.294027\",\"2021-09-12T12:10:51.294027\",\"2021-09-12T12:10:51.294027\",\"2021-09-12T12:11:51.294027\",\"2021-09-12T12:12:51.294027\",\"2021-09-12T12:13:51.294027\",\"2021-09-12T12:14:51.294027\",\"2021-09-12T12:15:51.294027\",\"2021-09-12T12:15:51.294027\",\"2021-09-12T12:16:51.294027\",\"2021-09-12T12:17:51.294027\",\"2021-09-12T12:18:51.294027\",\"2021-09-12T12:19:51.294027\",\"2021-09-12T12:20:51.294027\",\"2021-09-12T12:20:51.294027\",\"2021-09-12T12:21:51.294027\",\"2021-09-12T12:22:51.294027\",\"2021-09-12T12:23:51.294027\",\"2021-09-12T12:24:51.294027\",\"2021-09-12T12:25:51.294027\",\"2021-09-12T12:25:51.294027\",\"2021-09-12T12:26:51.294027\",\"2021-09-12T12:27:51.294027\",\"2021-09-12T12:28:51.294027\",\"2021-09-12T12:29:51.294027\",\"2021-09-12T12:30:51.294027\",\"2021-09-12T12:30:51.294027\",\"2021-09-12T12:31:51.294027\",\"2021-09-12T12:32:51.294027\",\"2021-09-12T12:33:51.294027\",\"2021-09-12T12:34:51.294027\",\"2021-09-12T12:35:51.294027\",\"2021-09-12T12:35:51.294027\",\"2021-09-12T12:36:51.294027\",\"2021-09-12T12:37:51.294027\",\"2021-09-12T12:38:51.294027\",\"2021-09-12T12:39:51.294027\",\"2021-09-12T12:40:51.294027\",\"2021-09-12T12:40:51.294027\",\"2021-09-12T12:41:51.294027\",\"2021-09-12T12:42:51.294027\",\"2021-09-12T12:43:51.294027\",\"2021-09-12T12:44:51.294027\",\"2021-09-12T12:45:51.294027\",\"2021-09-12T12:45:51.294027\",\"2021-09-12T12:46:51.294027\",\"2021-09-12T12:47:51.294027\",\"2021-09-12T12:48:51.294027\",\"2021-09-12T12:49:51.294027\",\"2021-09-12T12:50:51.294027\",\"2021-09-12T12:50:51.294027\",\"2021-09-12T12:51:51.294027\",\"2021-09-12T12:52:51.294027\",\"2021-09-12T12:53:51.294027\",\"2021-09-12T12:54:51.294027\",\"2021-09-12T12:55:51.294027\",\"2021-09-12T12:55:51.294027\",\"2021-09-12T12:56:51.294027\",\"2021-09-12T12:57:51.294027\",\"2021-09-12T12:58:51.294027\",\"2021-09-12T12:59:51.294027\",\"2021-09-12T13:00:51.294027\",\"2021-09-12T13:00:51.294027\",\"2021-09-12T13:01:51.294027\",\"2021-09-12T13:02:51.294027\",\"2021-09-12T13:03:51.294027\",\"2021-09-12T13:04:51.294027\",\"2021-09-12T13:05:51.294027\",\"2021-09-12T13:06:51.294027\",\"2021-09-12T13:07:51.294027\",\"2021-09-12T13:08:51.294027\",\"2021-09-12T13:09:51.294027\",\"2021-09-12T13:10:51.294027\",\"2021-09-12T13:11:51.294027\",\"2021-09-12T13:12:51.294027\",\"2021-09-12T13:13:51.294027\",\"2021-09-12T13:14:51.294027\",\"2021-09-12T13:15:51.294027\",\"2021-09-12T13:16:51.294027\",\"2021-09-12T13:17:51.294027\",\"2021-09-12T13:18:51.294027\",\"2021-09-12T13:19:51.294027\",\"2021-09-12T13:20:51.294027\",\"2021-09-12T13:21:51.294027\",\"2021-09-12T13:22:51.294027\",\"2021-09-12T13:23:51.294027\",\"2021-09-12T13:24:51.294027\",\"2021-09-12T13:25:51.294027\",\"2021-09-12T13:26:51.294027\",\"2021-09-12T13:27:51.294027\",\"2021-09-12T13:28:51.294027\",\"2021-09-12T13:29:51.294027\",\"2021-09-12T13:30:51.294027\",\"2021-09-12T13:31:51.294027\",\"2021-09-12T13:32:51.294027\",\"2021-09-12T13:33:51.294027\",\"2021-09-12T13:34:51.294027\",\"2021-09-12T13:35:51.294027\",\"2021-09-12T13:36:51.294027\",\"2021-09-12T13:37:51.294027\",\"2021-09-12T13:38:51.294027\",\"2021-09-12T13:39:51.294027\",\"2021-09-12T13:40:51.294027\",\"2021-09-12T13:41:51.294027\",\"2021-09-12T13:42:51.294027\",\"2021-09-12T13:43:51.294027\",\"2021-09-12T13:44:51.294027\",\"2021-09-12T13:45:51.294027\",\"2021-09-12T13:46:51.294027\",\"2021-09-12T13:47:51.294027\",\"2021-09-12T13:48:51.294027\",\"2021-09-12T13:49:51.294027\",\"2021-09-12T13:50:51.294027\",\"2021-09-12T13:51:51.294027\",\"2021-09-12T13:52:51.294027\",\"2021-09-12T13:53:51.294027\",\"2021-09-12T13:54:51.294027\",\"2021-09-12T13:55:51.294027\",\"2021-09-12T13:56:51.294027\",\"2021-09-12T13:57:51.294027\",\"2021-09-12T13:58:51.294027\",\"2021-09-12T13:59:51.294027\",\"2021-09-12T14:00:51.294027\",\"2021-09-12T14:01:51.294027\",\"2021-09-12T14:02:51.294027\",\"2021-09-12T14:03:51.294027\",\"2021-09-12T14:04:51.294027\",\"2021-09-12T14:05:51.294027\",\"2021-09-12T14:06:51.294027\",\"2021-09-12T14:07:51.294027\",\"2021-09-12T14:08:51.294027\",\"2021-09-12T14:09:51.294027\",\"2021-09-12T14:10:51.294027\",\"2021-09-12T14:11:51.294027\",\"2021-09-12T14:12:51.294027\",\"2021-09-12T14:13:51.294027\",\"2021-09-12T14:14:51.294027\",\"2021-09-12T14:15:51.294027\",\"2021-09-12T14:16:51.294027\",\"2021-09-12T14:17:51.294027\",\"2021-09-12T14:18:51.294027\",\"2021-09-12T14:19:51.294027\",\"2021-09-12T14:20:51.294027\",\"2021-09-12T14:21:51.294027\",\"2021-09-12T14:22:51.294027\",\"2021-09-12T14:23:51.294027\",\"2021-09-12T14:24:51.294027\",\"2021-09-12T14:25:51.294027\",\"2021-09-12T14:26:51.294027\",\"2021-09-12T14:27:51.294027\",\"2021-09-12T14:28:51.294027\",\"2021-09-12T14:29:51.294027\",\"2021-09-12T14:30:51.294027\",\"2021-09-12T14:31:51.294027\",\"2021-09-12T14:32:51.294027\",\"2021-09-12T14:33:51.294027\",\"2021-09-12T14:34:51.294027\",\"2021-09-12T14:35:51.294027\",\"2021-09-12T14:36:51.294027\",\"2021-09-12T14:37:51.294027\",\"2021-09-12T14:38:51.294027\",\"2021-09-12T14:39:51.294027\",\"2021-09-12T14:40:51.294027\",\"2021-09-12T14:41:51.294027\",\"2021-09-12T14:42:51.294027\",\"2021-09-12T14:43:51.294027\",\"2021-09-12T14:44:51.294027\"],\"hovertemplate\":\"Start=%{base}<br>Finish=%{x}<br>Username=%{y}<extra></extra>\",\"legendgroup\":\"\",\"marker\":{\"color\":\"#636efa\"},\"name\":\"\",\"offsetgroup\":\"\",\"orientation\":\"h\",\"showlegend\":false,\"textposition\":\"auto\",\"type\":\"bar\",\"x\":[300000.0,300000.0,300000.0,300000.0,300000.0,300000.0,300000.0,300000.0,300000.0,300000.0,300000.0,300000.0,300000.0,300000.0,300000.0,300000.0,300000.0,300000.0,300000.0,300000.0,300000.0,300000.0,300000.0,300000.0,360000.0,360000.0,360000.0,360000.0,360000.0,360000.0,420000.0,420000.0,420000.0,420000.0,420000.0,420000.0,480000.0,480000.0,480000.0,480000.0,480000.0,480000.0,540000.0,540000.0,540000.0,540000.0,540000.0,540000.0,600000.0,600000.0,600000.0,600000.0,600000.0,600000.0,660000.0,660000.0,660000.0,660000.0,660000.0,660000.0,720000.0,720000.0,720000.0,720000.0,720000.0,720000.0,780000.0,780000.0,780000.0,780000.0,780000.0,780000.0,840000.0,840000.0,840000.0,840000.0,840000.0,840000.0,900000.0,900000.0,900000.0,900000.0,900000.0,900000.0,960000.0,960000.0,960000.0,960000.0,960000.0,960000.0,1020000.0,1020000.0,1020000.0,1020000.0,1020000.0,1020000.0,1080000.0,1080000.0,1080000.0,1080000.0,1080000.0,1080000.0,1080000.0,1080000.0,1080000.0,1080000.0,1080000.0,1080000.0,1080000.0,1080000.0,1080000.0,1080000.0,1080000.0,1080000.0,1080000.0,1080000.0,1080000.0,1080000.0,1080000.0,1080000.0,1080000.0,1080000.0,1080000.0,1080000.0,1080000.0,1080000.0,1080000.0,1080000.0,1080000.0,1080000.0,1080000.0,1080000.0,1080000.0,1080000.0,1080000.0,1080000.0,1080000.0,1080000.0,1080000.0,1080000.0,1080000.0,1080000.0,1080000.0,1080000.0,1080000.0,1080000.0,1080000.0,1080000.0,1080000.0,1080000.0,1080000.0,1080000.0,1080000.0,1080000.0,1080000.0,1080000.0,1080000.0,1080000.0,1080000.0,1080000.0,1080000.0,1080000.0,1080000.0,1080000.0,1080000.0,1080000.0,1080000.0,1080000.0,1080000.0,1080000.0,1080000.0,1080000.0,1080000.0,1080000.0,1080000.0,1080000.0,1080000.0,1080000.0,1080000.0,1080000.0,1080000.0,1080000.0,1080000.0,null,null,null,null,null,null,null,null,null,null,null,null,null,null,null,null,null,null],\"xaxis\":\"x\",\"y\":[\"User-0\",\"User-1\",\"User-0\",\"User-2\",\"User-1\",\"User-0\",\"User-3\",\"User-2\",\"User-1\",\"User-4\",\"User-0\",\"User-3\",\"User-2\",\"User-5\",\"User-1\",\"User-4\",\"User-0\",\"User-3\",\"User-6\",\"User-2\",\"User-5\",\"User-1\",\"User-4\",\"User-7\",\"User-0\",\"User-3\",\"User-6\",\"User-2\",\"User-5\",\"User-8\",\"User-1\",\"User-4\",\"User-7\",\"User-0\",\"User-3\",\"User-9\",\"User-6\",\"User-2\",\"User-5\",\"User-8\",\"User-1\",\"User-10\",\"User-4\",\"User-7\",\"User-0\",\"User-3\",\"User-9\",\"User-11\",\"User-6\",\"User-2\",\"User-5\",\"User-8\",\"User-1\",\"User-12\",\"User-10\",\"User-4\",\"User-7\",\"User-0\",\"User-3\",\"User-13\",\"User-9\",\"User-11\",\"User-6\",\"User-2\",\"User-5\",\"User-14\",\"User-8\",\"User-1\",\"User-12\",\"User-10\",\"User-4\",\"User-15\",\"User-7\",\"User-0\",\"User-3\",\"User-13\",\"User-9\",\"User-16\",\"User-11\",\"User-6\",\"User-2\",\"User-5\",\"User-14\",\"User-17\",\"User-8\",\"User-1\",\"User-12\",\"User-10\",\"User-4\",\"User-18\",\"User-15\",\"User-7\",\"User-0\",\"User-3\",\"User-13\",\"User-19\",\"User-9\",\"User-16\",\"User-11\",\"User-6\",\"User-2\",\"User-5\",\"User-14\",\"User-17\",\"User-8\",\"User-1\",\"User-12\",\"User-10\",\"User-4\",\"User-18\",\"User-15\",\"User-7\",\"User-0\",\"User-3\",\"User-13\",\"User-19\",\"User-9\",\"User-16\",\"User-11\",\"User-6\",\"User-2\",\"User-5\",\"User-14\",\"User-17\",\"User-8\",\"User-1\",\"User-12\",\"User-10\",\"User-4\",\"User-18\",\"User-15\",\"User-7\",\"User-0\",\"User-3\",\"User-13\",\"User-19\",\"User-9\",\"User-16\",\"User-11\",\"User-6\",\"User-2\",\"User-5\",\"User-14\",\"User-17\",\"User-8\",\"User-1\",\"User-12\",\"User-10\",\"User-4\",\"User-18\",\"User-15\",\"User-7\",\"User-0\",\"User-3\",\"User-13\",\"User-19\",\"User-9\",\"User-16\",\"User-11\",\"User-6\",\"User-2\",\"User-5\",\"User-14\",\"User-17\",\"User-8\",\"User-1\",\"User-12\",\"User-10\",\"User-4\",\"User-18\",\"User-15\",\"User-7\",\"User-0\",\"User-3\",\"User-13\",\"User-19\",\"User-9\",\"User-16\",\"User-11\",\"User-6\",\"User-2\",\"User-5\",\"User-14\",\"User-17\",\"User-8\",\"User-1\",\"User-12\",\"User-10\",\"User-4\",\"User-18\",\"User-15\",\"User-7\",\"User-0\",\"User-3\",\"User-13\",\"User-19\",\"User-9\",\"User-16\",\"User-11\",\"User-6\",\"User-2\"],\"yaxis\":\"y\"}],                        {\"barmode\":\"overlay\",\"legend\":{\"tracegroupgap\":0},\"margin\":{\"t\":60},\"template\":{\"data\":{\"bar\":[{\"error_x\":{\"color\":\"#2a3f5f\"},\"error_y\":{\"color\":\"#2a3f5f\"},\"marker\":{\"line\":{\"color\":\"#E5ECF6\",\"width\":0.5},\"pattern\":{\"fillmode\":\"overlay\",\"size\":10,\"solidity\":0.2}},\"type\":\"bar\"}],\"barpolar\":[{\"marker\":{\"line\":{\"color\":\"#E5ECF6\",\"width\":0.5},\"pattern\":{\"fillmode\":\"overlay\",\"size\":10,\"solidity\":0.2}},\"type\":\"barpolar\"}],\"carpet\":[{\"aaxis\":{\"endlinecolor\":\"#2a3f5f\",\"gridcolor\":\"white\",\"linecolor\":\"white\",\"minorgridcolor\":\"white\",\"startlinecolor\":\"#2a3f5f\"},\"baxis\":{\"endlinecolor\":\"#2a3f5f\",\"gridcolor\":\"white\",\"linecolor\":\"white\",\"minorgridcolor\":\"white\",\"startlinecolor\":\"#2a3f5f\"},\"type\":\"carpet\"}],\"choropleth\":[{\"colorbar\":{\"outlinewidth\":0,\"ticks\":\"\"},\"type\":\"choropleth\"}],\"contour\":[{\"colorbar\":{\"outlinewidth\":0,\"ticks\":\"\"},\"colorscale\":[[0.0,\"#0d0887\"],[0.1111111111111111,\"#46039f\"],[0.2222222222222222,\"#7201a8\"],[0.3333333333333333,\"#9c179e\"],[0.4444444444444444,\"#bd3786\"],[0.5555555555555556,\"#d8576b\"],[0.6666666666666666,\"#ed7953\"],[0.7777777777777778,\"#fb9f3a\"],[0.8888888888888888,\"#fdca26\"],[1.0,\"#f0f921\"]],\"type\":\"contour\"}],\"contourcarpet\":[{\"colorbar\":{\"outlinewidth\":0,\"ticks\":\"\"},\"type\":\"contourcarpet\"}],\"heatmap\":[{\"colorbar\":{\"outlinewidth\":0,\"ticks\":\"\"},\"colorscale\":[[0.0,\"#0d0887\"],[0.1111111111111111,\"#46039f\"],[0.2222222222222222,\"#7201a8\"],[0.3333333333333333,\"#9c179e\"],[0.4444444444444444,\"#bd3786\"],[0.5555555555555556,\"#d8576b\"],[0.6666666666666666,\"#ed7953\"],[0.7777777777777778,\"#fb9f3a\"],[0.8888888888888888,\"#fdca26\"],[1.0,\"#f0f921\"]],\"type\":\"heatmap\"}],\"heatmapgl\":[{\"colorbar\":{\"outlinewidth\":0,\"ticks\":\"\"},\"colorscale\":[[0.0,\"#0d0887\"],[0.1111111111111111,\"#46039f\"],[0.2222222222222222,\"#7201a8\"],[0.3333333333333333,\"#9c179e\"],[0.4444444444444444,\"#bd3786\"],[0.5555555555555556,\"#d8576b\"],[0.6666666666666666,\"#ed7953\"],[0.7777777777777778,\"#fb9f3a\"],[0.8888888888888888,\"#fdca26\"],[1.0,\"#f0f921\"]],\"type\":\"heatmapgl\"}],\"histogram\":[{\"marker\":{\"pattern\":{\"fillmode\":\"overlay\",\"size\":10,\"solidity\":0.2}},\"type\":\"histogram\"}],\"histogram2d\":[{\"colorbar\":{\"outlinewidth\":0,\"ticks\":\"\"},\"colorscale\":[[0.0,\"#0d0887\"],[0.1111111111111111,\"#46039f\"],[0.2222222222222222,\"#7201a8\"],[0.3333333333333333,\"#9c179e\"],[0.4444444444444444,\"#bd3786\"],[0.5555555555555556,\"#d8576b\"],[0.6666666666666666,\"#ed7953\"],[0.7777777777777778,\"#fb9f3a\"],[0.8888888888888888,\"#fdca26\"],[1.0,\"#f0f921\"]],\"type\":\"histogram2d\"}],\"histogram2dcontour\":[{\"colorbar\":{\"outlinewidth\":0,\"ticks\":\"\"},\"colorscale\":[[0.0,\"#0d0887\"],[0.1111111111111111,\"#46039f\"],[0.2222222222222222,\"#7201a8\"],[0.3333333333333333,\"#9c179e\"],[0.4444444444444444,\"#bd3786\"],[0.5555555555555556,\"#d8576b\"],[0.6666666666666666,\"#ed7953\"],[0.7777777777777778,\"#fb9f3a\"],[0.8888888888888888,\"#fdca26\"],[1.0,\"#f0f921\"]],\"type\":\"histogram2dcontour\"}],\"mesh3d\":[{\"colorbar\":{\"outlinewidth\":0,\"ticks\":\"\"},\"type\":\"mesh3d\"}],\"parcoords\":[{\"line\":{\"colorbar\":{\"outlinewidth\":0,\"ticks\":\"\"}},\"type\":\"parcoords\"}],\"pie\":[{\"automargin\":true,\"type\":\"pie\"}],\"scatter\":[{\"marker\":{\"colorbar\":{\"outlinewidth\":0,\"ticks\":\"\"}},\"type\":\"scatter\"}],\"scatter3d\":[{\"line\":{\"colorbar\":{\"outlinewidth\":0,\"ticks\":\"\"}},\"marker\":{\"colorbar\":{\"outlinewidth\":0,\"ticks\":\"\"}},\"type\":\"scatter3d\"}],\"scattercarpet\":[{\"marker\":{\"colorbar\":{\"outlinewidth\":0,\"ticks\":\"\"}},\"type\":\"scattercarpet\"}],\"scattergeo\":[{\"marker\":{\"colorbar\":{\"outlinewidth\":0,\"ticks\":\"\"}},\"type\":\"scattergeo\"}],\"scattergl\":[{\"marker\":{\"colorbar\":{\"outlinewidth\":0,\"ticks\":\"\"}},\"type\":\"scattergl\"}],\"scattermapbox\":[{\"marker\":{\"colorbar\":{\"outlinewidth\":0,\"ticks\":\"\"}},\"type\":\"scattermapbox\"}],\"scatterpolar\":[{\"marker\":{\"colorbar\":{\"outlinewidth\":0,\"ticks\":\"\"}},\"type\":\"scatterpolar\"}],\"scatterpolargl\":[{\"marker\":{\"colorbar\":{\"outlinewidth\":0,\"ticks\":\"\"}},\"type\":\"scatterpolargl\"}],\"scatterternary\":[{\"marker\":{\"colorbar\":{\"outlinewidth\":0,\"ticks\":\"\"}},\"type\":\"scatterternary\"}],\"surface\":[{\"colorbar\":{\"outlinewidth\":0,\"ticks\":\"\"},\"colorscale\":[[0.0,\"#0d0887\"],[0.1111111111111111,\"#46039f\"],[0.2222222222222222,\"#7201a8\"],[0.3333333333333333,\"#9c179e\"],[0.4444444444444444,\"#bd3786\"],[0.5555555555555556,\"#d8576b\"],[0.6666666666666666,\"#ed7953\"],[0.7777777777777778,\"#fb9f3a\"],[0.8888888888888888,\"#fdca26\"],[1.0,\"#f0f921\"]],\"type\":\"surface\"}],\"table\":[{\"cells\":{\"fill\":{\"color\":\"#EBF0F8\"},\"line\":{\"color\":\"white\"}},\"header\":{\"fill\":{\"color\":\"#C8D4E3\"},\"line\":{\"color\":\"white\"}},\"type\":\"table\"}]},\"layout\":{\"annotationdefaults\":{\"arrowcolor\":\"#2a3f5f\",\"arrowhead\":0,\"arrowwidth\":1},\"autotypenumbers\":\"strict\",\"coloraxis\":{\"colorbar\":{\"outlinewidth\":0,\"ticks\":\"\"}},\"colorscale\":{\"diverging\":[[0,\"#8e0152\"],[0.1,\"#c51b7d\"],[0.2,\"#de77ae\"],[0.3,\"#f1b6da\"],[0.4,\"#fde0ef\"],[0.5,\"#f7f7f7\"],[0.6,\"#e6f5d0\"],[0.7,\"#b8e186\"],[0.8,\"#7fbc41\"],[0.9,\"#4d9221\"],[1,\"#276419\"]],\"sequential\":[[0.0,\"#0d0887\"],[0.1111111111111111,\"#46039f\"],[0.2222222222222222,\"#7201a8\"],[0.3333333333333333,\"#9c179e\"],[0.4444444444444444,\"#bd3786\"],[0.5555555555555556,\"#d8576b\"],[0.6666666666666666,\"#ed7953\"],[0.7777777777777778,\"#fb9f3a\"],[0.8888888888888888,\"#fdca26\"],[1.0,\"#f0f921\"]],\"sequentialminus\":[[0.0,\"#0d0887\"],[0.1111111111111111,\"#46039f\"],[0.2222222222222222,\"#7201a8\"],[0.3333333333333333,\"#9c179e\"],[0.4444444444444444,\"#bd3786\"],[0.5555555555555556,\"#d8576b\"],[0.6666666666666666,\"#ed7953\"],[0.7777777777777778,\"#fb9f3a\"],[0.8888888888888888,\"#fdca26\"],[1.0,\"#f0f921\"]]},\"colorway\":[\"#636efa\",\"#EF553B\",\"#00cc96\",\"#ab63fa\",\"#FFA15A\",\"#19d3f3\",\"#FF6692\",\"#B6E880\",\"#FF97FF\",\"#FECB52\"],\"font\":{\"color\":\"#2a3f5f\"},\"geo\":{\"bgcolor\":\"white\",\"lakecolor\":\"white\",\"landcolor\":\"#E5ECF6\",\"showlakes\":true,\"showland\":true,\"subunitcolor\":\"white\"},\"hoverlabel\":{\"align\":\"left\"},\"hovermode\":\"closest\",\"mapbox\":{\"style\":\"light\"},\"paper_bgcolor\":\"white\",\"plot_bgcolor\":\"#E5ECF6\",\"polar\":{\"angularaxis\":{\"gridcolor\":\"white\",\"linecolor\":\"white\",\"ticks\":\"\"},\"bgcolor\":\"#E5ECF6\",\"radialaxis\":{\"gridcolor\":\"white\",\"linecolor\":\"white\",\"ticks\":\"\"}},\"scene\":{\"xaxis\":{\"backgroundcolor\":\"#E5ECF6\",\"gridcolor\":\"white\",\"gridwidth\":2,\"linecolor\":\"white\",\"showbackground\":true,\"ticks\":\"\",\"zerolinecolor\":\"white\"},\"yaxis\":{\"backgroundcolor\":\"#E5ECF6\",\"gridcolor\":\"white\",\"gridwidth\":2,\"linecolor\":\"white\",\"showbackground\":true,\"ticks\":\"\",\"zerolinecolor\":\"white\"},\"zaxis\":{\"backgroundcolor\":\"#E5ECF6\",\"gridcolor\":\"white\",\"gridwidth\":2,\"linecolor\":\"white\",\"showbackground\":true,\"ticks\":\"\",\"zerolinecolor\":\"white\"}},\"shapedefaults\":{\"line\":{\"color\":\"#2a3f5f\"}},\"ternary\":{\"aaxis\":{\"gridcolor\":\"white\",\"linecolor\":\"white\",\"ticks\":\"\"},\"baxis\":{\"gridcolor\":\"white\",\"linecolor\":\"white\",\"ticks\":\"\"},\"bgcolor\":\"#E5ECF6\",\"caxis\":{\"gridcolor\":\"white\",\"linecolor\":\"white\",\"ticks\":\"\"}},\"title\":{\"x\":0.05},\"xaxis\":{\"automargin\":true,\"gridcolor\":\"white\",\"linecolor\":\"white\",\"ticks\":\"\",\"title\":{\"standoff\":15},\"zerolinecolor\":\"white\",\"zerolinewidth\":2},\"yaxis\":{\"automargin\":true,\"gridcolor\":\"white\",\"linecolor\":\"white\",\"ticks\":\"\",\"title\":{\"standoff\":15},\"zerolinecolor\":\"white\",\"zerolinewidth\":2}}},\"xaxis\":{\"anchor\":\"y\",\"domain\":[0.0,1.0],\"type\":\"date\"},\"yaxis\":{\"anchor\":\"x\",\"autorange\":\"reversed\",\"domain\":[0.0,1.0],\"title\":{\"text\":\"Username\"}}},                        {\"responsive\": true}                    ).then(function(){\n",
       "                            \n",
       "var gd = document.getElementById('a49b2855-4e64-4e27-9bef-842b1ae0fbb0');\n",
       "var x = new MutationObserver(function (mutations, observer) {{\n",
       "        var display = window.getComputedStyle(gd).display;\n",
       "        if (!display || display === 'none') {{\n",
       "            console.log([gd, 'removed!']);\n",
       "            Plotly.purge(gd);\n",
       "            observer.disconnect();\n",
       "        }}\n",
       "}});\n",
       "\n",
       "// Listen for the removal of the full notebook cells\n",
       "var notebookContainer = gd.closest('#notebook-container');\n",
       "if (notebookContainer) {{\n",
       "    x.observe(notebookContainer, {childList: true});\n",
       "}}\n",
       "\n",
       "// Listen for the clearing of the current output cell\n",
       "var outputEl = gd.closest('.output');\n",
       "if (outputEl) {{\n",
       "    x.observe(outputEl, {childList: true});\n",
       "}}\n",
       "\n",
       "                        })                };                });            </script>        </div>"
      ]
     },
     "metadata": {},
     "output_type": "display_data"
    }
   ],
   "source": [
    "fig = px.timeline(df_users, x_start=\"Start\", x_end=\"Finish\", y=\"Username\")\n",
    "fig.update_yaxes(autorange=\"reversed\") # otherwise tasks are listed from the bottom up\n",
    "fig.show()"
   ]
  },
  {
   "cell_type": "markdown",
   "metadata": {},
   "source": [
    "## Users activity distribution"
   ]
  },
  {
   "cell_type": "code",
   "execution_count": 60,
   "metadata": {},
   "outputs": [
    {
     "data": {
      "text/html": [
       "<div>\n",
       "<style scoped>\n",
       "    .dataframe tbody tr th:only-of-type {\n",
       "        vertical-align: middle;\n",
       "    }\n",
       "\n",
       "    .dataframe tbody tr th {\n",
       "        vertical-align: top;\n",
       "    }\n",
       "\n",
       "    .dataframe thead th {\n",
       "        text-align: right;\n",
       "    }\n",
       "</style>\n",
       "<table border=\"1\" class=\"dataframe\">\n",
       "  <thead>\n",
       "    <tr style=\"text-align: right;\">\n",
       "      <th></th>\n",
       "      <th>Duration</th>\n",
       "    </tr>\n",
       "  </thead>\n",
       "  <tbody>\n",
       "    <tr>\n",
       "      <th>count</th>\n",
       "      <td>183.000000</td>\n",
       "    </tr>\n",
       "    <tr>\n",
       "      <th>mean</th>\n",
       "      <td>13.737705</td>\n",
       "    </tr>\n",
       "    <tr>\n",
       "      <th>std</th>\n",
       "      <td>5.044532</td>\n",
       "    </tr>\n",
       "    <tr>\n",
       "      <th>min</th>\n",
       "      <td>5.000000</td>\n",
       "    </tr>\n",
       "    <tr>\n",
       "      <th>25%</th>\n",
       "      <td>9.000000</td>\n",
       "    </tr>\n",
       "    <tr>\n",
       "      <th>50%</th>\n",
       "      <td>17.000000</td>\n",
       "    </tr>\n",
       "    <tr>\n",
       "      <th>75%</th>\n",
       "      <td>18.000000</td>\n",
       "    </tr>\n",
       "    <tr>\n",
       "      <th>max</th>\n",
       "      <td>18.000000</td>\n",
       "    </tr>\n",
       "  </tbody>\n",
       "</table>\n",
       "</div>"
      ],
      "text/plain": [
       "         Duration\n",
       "count  183.000000\n",
       "mean    13.737705\n",
       "std      5.044532\n",
       "min      5.000000\n",
       "25%      9.000000\n",
       "50%     17.000000\n",
       "75%     18.000000\n",
       "max     18.000000"
      ]
     },
     "execution_count": 60,
     "metadata": {},
     "output_type": "execute_result"
    }
   ],
   "source": [
    "df_users[[\"Duration\"]].describe()"
   ]
  },
  {
   "cell_type": "code",
   "execution_count": 61,
   "metadata": {},
   "outputs": [
    {
     "data": {
      "application/vnd.plotly.v1+json": {
       "config": {
        "plotlyServerURL": "https://plot.ly"
       },
       "data": [
        {
         "alignmentgroup": "True",
         "bingroup": "x",
         "hovertemplate": "Duration=%{x}<br>count=%{y}<extra></extra>",
         "legendgroup": "",
         "marker": {
          "color": "#636efa",
          "pattern": {
           "shape": ""
          }
         },
         "name": "",
         "nbinsx": 20,
         "offsetgroup": "",
         "orientation": "v",
         "showlegend": false,
         "type": "histogram",
         "x": [
          5,
          5,
          5,
          5,
          5,
          5,
          5,
          5,
          5,
          5,
          5,
          5,
          5,
          5,
          5,
          5,
          5,
          5,
          5,
          5,
          5,
          5,
          5,
          5,
          6,
          6,
          6,
          6,
          6,
          6,
          7,
          7,
          7,
          7,
          7,
          7,
          8,
          8,
          8,
          8,
          8,
          8,
          9,
          9,
          9,
          9,
          9,
          9,
          10,
          10,
          10,
          10,
          10,
          10,
          11,
          11,
          11,
          11,
          11,
          11,
          12,
          12,
          12,
          12,
          12,
          12,
          13,
          13,
          13,
          13,
          13,
          13,
          14,
          14,
          14,
          14,
          14,
          14,
          15,
          15,
          15,
          15,
          15,
          15,
          16,
          16,
          16,
          16,
          16,
          16,
          17,
          17,
          17,
          17,
          17,
          17,
          18,
          18,
          18,
          18,
          18,
          18,
          18,
          18,
          18,
          18,
          18,
          18,
          18,
          18,
          18,
          18,
          18,
          18,
          18,
          18,
          18,
          18,
          18,
          18,
          18,
          18,
          18,
          18,
          18,
          18,
          18,
          18,
          18,
          18,
          18,
          18,
          18,
          18,
          18,
          18,
          18,
          18,
          18,
          18,
          18,
          18,
          18,
          18,
          18,
          18,
          18,
          18,
          18,
          18,
          18,
          18,
          18,
          18,
          18,
          18,
          18,
          18,
          18,
          18,
          18,
          18,
          18,
          18,
          18,
          18,
          18,
          18,
          18,
          18,
          18,
          18,
          18,
          18,
          18,
          18,
          18,
          18,
          18,
          18,
          18,
          18,
          18,
          null,
          null,
          null,
          null,
          null,
          null,
          null,
          null,
          null,
          null,
          null,
          null,
          null,
          null,
          null,
          null,
          null,
          null
         ],
         "xaxis": "x",
         "yaxis": "y"
        }
       ],
       "layout": {
        "barmode": "relative",
        "legend": {
         "tracegroupgap": 0
        },
        "margin": {
         "t": 60
        },
        "template": {
         "data": {
          "bar": [
           {
            "error_x": {
             "color": "#2a3f5f"
            },
            "error_y": {
             "color": "#2a3f5f"
            },
            "marker": {
             "line": {
              "color": "#E5ECF6",
              "width": 0.5
             },
             "pattern": {
              "fillmode": "overlay",
              "size": 10,
              "solidity": 0.2
             }
            },
            "type": "bar"
           }
          ],
          "barpolar": [
           {
            "marker": {
             "line": {
              "color": "#E5ECF6",
              "width": 0.5
             },
             "pattern": {
              "fillmode": "overlay",
              "size": 10,
              "solidity": 0.2
             }
            },
            "type": "barpolar"
           }
          ],
          "carpet": [
           {
            "aaxis": {
             "endlinecolor": "#2a3f5f",
             "gridcolor": "white",
             "linecolor": "white",
             "minorgridcolor": "white",
             "startlinecolor": "#2a3f5f"
            },
            "baxis": {
             "endlinecolor": "#2a3f5f",
             "gridcolor": "white",
             "linecolor": "white",
             "minorgridcolor": "white",
             "startlinecolor": "#2a3f5f"
            },
            "type": "carpet"
           }
          ],
          "choropleth": [
           {
            "colorbar": {
             "outlinewidth": 0,
             "ticks": ""
            },
            "type": "choropleth"
           }
          ],
          "contour": [
           {
            "colorbar": {
             "outlinewidth": 0,
             "ticks": ""
            },
            "colorscale": [
             [
              0,
              "#0d0887"
             ],
             [
              0.1111111111111111,
              "#46039f"
             ],
             [
              0.2222222222222222,
              "#7201a8"
             ],
             [
              0.3333333333333333,
              "#9c179e"
             ],
             [
              0.4444444444444444,
              "#bd3786"
             ],
             [
              0.5555555555555556,
              "#d8576b"
             ],
             [
              0.6666666666666666,
              "#ed7953"
             ],
             [
              0.7777777777777778,
              "#fb9f3a"
             ],
             [
              0.8888888888888888,
              "#fdca26"
             ],
             [
              1,
              "#f0f921"
             ]
            ],
            "type": "contour"
           }
          ],
          "contourcarpet": [
           {
            "colorbar": {
             "outlinewidth": 0,
             "ticks": ""
            },
            "type": "contourcarpet"
           }
          ],
          "heatmap": [
           {
            "colorbar": {
             "outlinewidth": 0,
             "ticks": ""
            },
            "colorscale": [
             [
              0,
              "#0d0887"
             ],
             [
              0.1111111111111111,
              "#46039f"
             ],
             [
              0.2222222222222222,
              "#7201a8"
             ],
             [
              0.3333333333333333,
              "#9c179e"
             ],
             [
              0.4444444444444444,
              "#bd3786"
             ],
             [
              0.5555555555555556,
              "#d8576b"
             ],
             [
              0.6666666666666666,
              "#ed7953"
             ],
             [
              0.7777777777777778,
              "#fb9f3a"
             ],
             [
              0.8888888888888888,
              "#fdca26"
             ],
             [
              1,
              "#f0f921"
             ]
            ],
            "type": "heatmap"
           }
          ],
          "heatmapgl": [
           {
            "colorbar": {
             "outlinewidth": 0,
             "ticks": ""
            },
            "colorscale": [
             [
              0,
              "#0d0887"
             ],
             [
              0.1111111111111111,
              "#46039f"
             ],
             [
              0.2222222222222222,
              "#7201a8"
             ],
             [
              0.3333333333333333,
              "#9c179e"
             ],
             [
              0.4444444444444444,
              "#bd3786"
             ],
             [
              0.5555555555555556,
              "#d8576b"
             ],
             [
              0.6666666666666666,
              "#ed7953"
             ],
             [
              0.7777777777777778,
              "#fb9f3a"
             ],
             [
              0.8888888888888888,
              "#fdca26"
             ],
             [
              1,
              "#f0f921"
             ]
            ],
            "type": "heatmapgl"
           }
          ],
          "histogram": [
           {
            "marker": {
             "pattern": {
              "fillmode": "overlay",
              "size": 10,
              "solidity": 0.2
             }
            },
            "type": "histogram"
           }
          ],
          "histogram2d": [
           {
            "colorbar": {
             "outlinewidth": 0,
             "ticks": ""
            },
            "colorscale": [
             [
              0,
              "#0d0887"
             ],
             [
              0.1111111111111111,
              "#46039f"
             ],
             [
              0.2222222222222222,
              "#7201a8"
             ],
             [
              0.3333333333333333,
              "#9c179e"
             ],
             [
              0.4444444444444444,
              "#bd3786"
             ],
             [
              0.5555555555555556,
              "#d8576b"
             ],
             [
              0.6666666666666666,
              "#ed7953"
             ],
             [
              0.7777777777777778,
              "#fb9f3a"
             ],
             [
              0.8888888888888888,
              "#fdca26"
             ],
             [
              1,
              "#f0f921"
             ]
            ],
            "type": "histogram2d"
           }
          ],
          "histogram2dcontour": [
           {
            "colorbar": {
             "outlinewidth": 0,
             "ticks": ""
            },
            "colorscale": [
             [
              0,
              "#0d0887"
             ],
             [
              0.1111111111111111,
              "#46039f"
             ],
             [
              0.2222222222222222,
              "#7201a8"
             ],
             [
              0.3333333333333333,
              "#9c179e"
             ],
             [
              0.4444444444444444,
              "#bd3786"
             ],
             [
              0.5555555555555556,
              "#d8576b"
             ],
             [
              0.6666666666666666,
              "#ed7953"
             ],
             [
              0.7777777777777778,
              "#fb9f3a"
             ],
             [
              0.8888888888888888,
              "#fdca26"
             ],
             [
              1,
              "#f0f921"
             ]
            ],
            "type": "histogram2dcontour"
           }
          ],
          "mesh3d": [
           {
            "colorbar": {
             "outlinewidth": 0,
             "ticks": ""
            },
            "type": "mesh3d"
           }
          ],
          "parcoords": [
           {
            "line": {
             "colorbar": {
              "outlinewidth": 0,
              "ticks": ""
             }
            },
            "type": "parcoords"
           }
          ],
          "pie": [
           {
            "automargin": true,
            "type": "pie"
           }
          ],
          "scatter": [
           {
            "marker": {
             "colorbar": {
              "outlinewidth": 0,
              "ticks": ""
             }
            },
            "type": "scatter"
           }
          ],
          "scatter3d": [
           {
            "line": {
             "colorbar": {
              "outlinewidth": 0,
              "ticks": ""
             }
            },
            "marker": {
             "colorbar": {
              "outlinewidth": 0,
              "ticks": ""
             }
            },
            "type": "scatter3d"
           }
          ],
          "scattercarpet": [
           {
            "marker": {
             "colorbar": {
              "outlinewidth": 0,
              "ticks": ""
             }
            },
            "type": "scattercarpet"
           }
          ],
          "scattergeo": [
           {
            "marker": {
             "colorbar": {
              "outlinewidth": 0,
              "ticks": ""
             }
            },
            "type": "scattergeo"
           }
          ],
          "scattergl": [
           {
            "marker": {
             "colorbar": {
              "outlinewidth": 0,
              "ticks": ""
             }
            },
            "type": "scattergl"
           }
          ],
          "scattermapbox": [
           {
            "marker": {
             "colorbar": {
              "outlinewidth": 0,
              "ticks": ""
             }
            },
            "type": "scattermapbox"
           }
          ],
          "scatterpolar": [
           {
            "marker": {
             "colorbar": {
              "outlinewidth": 0,
              "ticks": ""
             }
            },
            "type": "scatterpolar"
           }
          ],
          "scatterpolargl": [
           {
            "marker": {
             "colorbar": {
              "outlinewidth": 0,
              "ticks": ""
             }
            },
            "type": "scatterpolargl"
           }
          ],
          "scatterternary": [
           {
            "marker": {
             "colorbar": {
              "outlinewidth": 0,
              "ticks": ""
             }
            },
            "type": "scatterternary"
           }
          ],
          "surface": [
           {
            "colorbar": {
             "outlinewidth": 0,
             "ticks": ""
            },
            "colorscale": [
             [
              0,
              "#0d0887"
             ],
             [
              0.1111111111111111,
              "#46039f"
             ],
             [
              0.2222222222222222,
              "#7201a8"
             ],
             [
              0.3333333333333333,
              "#9c179e"
             ],
             [
              0.4444444444444444,
              "#bd3786"
             ],
             [
              0.5555555555555556,
              "#d8576b"
             ],
             [
              0.6666666666666666,
              "#ed7953"
             ],
             [
              0.7777777777777778,
              "#fb9f3a"
             ],
             [
              0.8888888888888888,
              "#fdca26"
             ],
             [
              1,
              "#f0f921"
             ]
            ],
            "type": "surface"
           }
          ],
          "table": [
           {
            "cells": {
             "fill": {
              "color": "#EBF0F8"
             },
             "line": {
              "color": "white"
             }
            },
            "header": {
             "fill": {
              "color": "#C8D4E3"
             },
             "line": {
              "color": "white"
             }
            },
            "type": "table"
           }
          ]
         },
         "layout": {
          "annotationdefaults": {
           "arrowcolor": "#2a3f5f",
           "arrowhead": 0,
           "arrowwidth": 1
          },
          "autotypenumbers": "strict",
          "coloraxis": {
           "colorbar": {
            "outlinewidth": 0,
            "ticks": ""
           }
          },
          "colorscale": {
           "diverging": [
            [
             0,
             "#8e0152"
            ],
            [
             0.1,
             "#c51b7d"
            ],
            [
             0.2,
             "#de77ae"
            ],
            [
             0.3,
             "#f1b6da"
            ],
            [
             0.4,
             "#fde0ef"
            ],
            [
             0.5,
             "#f7f7f7"
            ],
            [
             0.6,
             "#e6f5d0"
            ],
            [
             0.7,
             "#b8e186"
            ],
            [
             0.8,
             "#7fbc41"
            ],
            [
             0.9,
             "#4d9221"
            ],
            [
             1,
             "#276419"
            ]
           ],
           "sequential": [
            [
             0,
             "#0d0887"
            ],
            [
             0.1111111111111111,
             "#46039f"
            ],
            [
             0.2222222222222222,
             "#7201a8"
            ],
            [
             0.3333333333333333,
             "#9c179e"
            ],
            [
             0.4444444444444444,
             "#bd3786"
            ],
            [
             0.5555555555555556,
             "#d8576b"
            ],
            [
             0.6666666666666666,
             "#ed7953"
            ],
            [
             0.7777777777777778,
             "#fb9f3a"
            ],
            [
             0.8888888888888888,
             "#fdca26"
            ],
            [
             1,
             "#f0f921"
            ]
           ],
           "sequentialminus": [
            [
             0,
             "#0d0887"
            ],
            [
             0.1111111111111111,
             "#46039f"
            ],
            [
             0.2222222222222222,
             "#7201a8"
            ],
            [
             0.3333333333333333,
             "#9c179e"
            ],
            [
             0.4444444444444444,
             "#bd3786"
            ],
            [
             0.5555555555555556,
             "#d8576b"
            ],
            [
             0.6666666666666666,
             "#ed7953"
            ],
            [
             0.7777777777777778,
             "#fb9f3a"
            ],
            [
             0.8888888888888888,
             "#fdca26"
            ],
            [
             1,
             "#f0f921"
            ]
           ]
          },
          "colorway": [
           "#636efa",
           "#EF553B",
           "#00cc96",
           "#ab63fa",
           "#FFA15A",
           "#19d3f3",
           "#FF6692",
           "#B6E880",
           "#FF97FF",
           "#FECB52"
          ],
          "font": {
           "color": "#2a3f5f"
          },
          "geo": {
           "bgcolor": "white",
           "lakecolor": "white",
           "landcolor": "#E5ECF6",
           "showlakes": true,
           "showland": true,
           "subunitcolor": "white"
          },
          "hoverlabel": {
           "align": "left"
          },
          "hovermode": "closest",
          "mapbox": {
           "style": "light"
          },
          "paper_bgcolor": "white",
          "plot_bgcolor": "#E5ECF6",
          "polar": {
           "angularaxis": {
            "gridcolor": "white",
            "linecolor": "white",
            "ticks": ""
           },
           "bgcolor": "#E5ECF6",
           "radialaxis": {
            "gridcolor": "white",
            "linecolor": "white",
            "ticks": ""
           }
          },
          "scene": {
           "xaxis": {
            "backgroundcolor": "#E5ECF6",
            "gridcolor": "white",
            "gridwidth": 2,
            "linecolor": "white",
            "showbackground": true,
            "ticks": "",
            "zerolinecolor": "white"
           },
           "yaxis": {
            "backgroundcolor": "#E5ECF6",
            "gridcolor": "white",
            "gridwidth": 2,
            "linecolor": "white",
            "showbackground": true,
            "ticks": "",
            "zerolinecolor": "white"
           },
           "zaxis": {
            "backgroundcolor": "#E5ECF6",
            "gridcolor": "white",
            "gridwidth": 2,
            "linecolor": "white",
            "showbackground": true,
            "ticks": "",
            "zerolinecolor": "white"
           }
          },
          "shapedefaults": {
           "line": {
            "color": "#2a3f5f"
           }
          },
          "ternary": {
           "aaxis": {
            "gridcolor": "white",
            "linecolor": "white",
            "ticks": ""
           },
           "baxis": {
            "gridcolor": "white",
            "linecolor": "white",
            "ticks": ""
           },
           "bgcolor": "#E5ECF6",
           "caxis": {
            "gridcolor": "white",
            "linecolor": "white",
            "ticks": ""
           }
          },
          "title": {
           "x": 0.05
          },
          "xaxis": {
           "automargin": true,
           "gridcolor": "white",
           "linecolor": "white",
           "ticks": "",
           "title": {
            "standoff": 15
           },
           "zerolinecolor": "white",
           "zerolinewidth": 2
          },
          "yaxis": {
           "automargin": true,
           "gridcolor": "white",
           "linecolor": "white",
           "ticks": "",
           "title": {
            "standoff": 15
           },
           "zerolinecolor": "white",
           "zerolinewidth": 2
          }
         }
        },
        "xaxis": {
         "anchor": "y",
         "domain": [
          0,
          1
         ],
         "title": {
          "text": "Duration"
         }
        },
        "yaxis": {
         "anchor": "x",
         "domain": [
          0,
          1
         ],
         "title": {
          "text": "count"
         }
        }
       }
      },
      "text/html": [
       "<div>                            <div id=\"b33df4d3-5a9e-47c9-9c5e-fa589fee6d2a\" class=\"plotly-graph-div\" style=\"height:525px; width:100%;\"></div>            <script type=\"text/javascript\">                require([\"plotly\"], function(Plotly) {                    window.PLOTLYENV=window.PLOTLYENV || {};                                    if (document.getElementById(\"b33df4d3-5a9e-47c9-9c5e-fa589fee6d2a\")) {                    Plotly.newPlot(                        \"b33df4d3-5a9e-47c9-9c5e-fa589fee6d2a\",                        [{\"alignmentgroup\":\"True\",\"bingroup\":\"x\",\"hovertemplate\":\"Duration=%{x}<br>count=%{y}<extra></extra>\",\"legendgroup\":\"\",\"marker\":{\"color\":\"#636efa\",\"pattern\":{\"shape\":\"\"}},\"name\":\"\",\"nbinsx\":20,\"offsetgroup\":\"\",\"orientation\":\"v\",\"showlegend\":false,\"type\":\"histogram\",\"x\":[5.0,5.0,5.0,5.0,5.0,5.0,5.0,5.0,5.0,5.0,5.0,5.0,5.0,5.0,5.0,5.0,5.0,5.0,5.0,5.0,5.0,5.0,5.0,5.0,6.0,6.0,6.0,6.0,6.0,6.0,7.0,7.0,7.0,7.0,7.0,7.0,8.0,8.0,8.0,8.0,8.0,8.0,9.0,9.0,9.0,9.0,9.0,9.0,10.0,10.0,10.0,10.0,10.0,10.0,11.0,11.0,11.0,11.0,11.0,11.0,12.0,12.0,12.0,12.0,12.0,12.0,13.0,13.0,13.0,13.0,13.0,13.0,14.0,14.0,14.0,14.0,14.0,14.0,15.0,15.0,15.0,15.0,15.0,15.0,16.0,16.0,16.0,16.0,16.0,16.0,17.0,17.0,17.0,17.0,17.0,17.0,18.0,18.0,18.0,18.0,18.0,18.0,18.0,18.0,18.0,18.0,18.0,18.0,18.0,18.0,18.0,18.0,18.0,18.0,18.0,18.0,18.0,18.0,18.0,18.0,18.0,18.0,18.0,18.0,18.0,18.0,18.0,18.0,18.0,18.0,18.0,18.0,18.0,18.0,18.0,18.0,18.0,18.0,18.0,18.0,18.0,18.0,18.0,18.0,18.0,18.0,18.0,18.0,18.0,18.0,18.0,18.0,18.0,18.0,18.0,18.0,18.0,18.0,18.0,18.0,18.0,18.0,18.0,18.0,18.0,18.0,18.0,18.0,18.0,18.0,18.0,18.0,18.0,18.0,18.0,18.0,18.0,18.0,18.0,18.0,18.0,18.0,18.0,null,null,null,null,null,null,null,null,null,null,null,null,null,null,null,null,null,null],\"xaxis\":\"x\",\"yaxis\":\"y\"}],                        {\"barmode\":\"relative\",\"legend\":{\"tracegroupgap\":0},\"margin\":{\"t\":60},\"template\":{\"data\":{\"bar\":[{\"error_x\":{\"color\":\"#2a3f5f\"},\"error_y\":{\"color\":\"#2a3f5f\"},\"marker\":{\"line\":{\"color\":\"#E5ECF6\",\"width\":0.5},\"pattern\":{\"fillmode\":\"overlay\",\"size\":10,\"solidity\":0.2}},\"type\":\"bar\"}],\"barpolar\":[{\"marker\":{\"line\":{\"color\":\"#E5ECF6\",\"width\":0.5},\"pattern\":{\"fillmode\":\"overlay\",\"size\":10,\"solidity\":0.2}},\"type\":\"barpolar\"}],\"carpet\":[{\"aaxis\":{\"endlinecolor\":\"#2a3f5f\",\"gridcolor\":\"white\",\"linecolor\":\"white\",\"minorgridcolor\":\"white\",\"startlinecolor\":\"#2a3f5f\"},\"baxis\":{\"endlinecolor\":\"#2a3f5f\",\"gridcolor\":\"white\",\"linecolor\":\"white\",\"minorgridcolor\":\"white\",\"startlinecolor\":\"#2a3f5f\"},\"type\":\"carpet\"}],\"choropleth\":[{\"colorbar\":{\"outlinewidth\":0,\"ticks\":\"\"},\"type\":\"choropleth\"}],\"contour\":[{\"colorbar\":{\"outlinewidth\":0,\"ticks\":\"\"},\"colorscale\":[[0.0,\"#0d0887\"],[0.1111111111111111,\"#46039f\"],[0.2222222222222222,\"#7201a8\"],[0.3333333333333333,\"#9c179e\"],[0.4444444444444444,\"#bd3786\"],[0.5555555555555556,\"#d8576b\"],[0.6666666666666666,\"#ed7953\"],[0.7777777777777778,\"#fb9f3a\"],[0.8888888888888888,\"#fdca26\"],[1.0,\"#f0f921\"]],\"type\":\"contour\"}],\"contourcarpet\":[{\"colorbar\":{\"outlinewidth\":0,\"ticks\":\"\"},\"type\":\"contourcarpet\"}],\"heatmap\":[{\"colorbar\":{\"outlinewidth\":0,\"ticks\":\"\"},\"colorscale\":[[0.0,\"#0d0887\"],[0.1111111111111111,\"#46039f\"],[0.2222222222222222,\"#7201a8\"],[0.3333333333333333,\"#9c179e\"],[0.4444444444444444,\"#bd3786\"],[0.5555555555555556,\"#d8576b\"],[0.6666666666666666,\"#ed7953\"],[0.7777777777777778,\"#fb9f3a\"],[0.8888888888888888,\"#fdca26\"],[1.0,\"#f0f921\"]],\"type\":\"heatmap\"}],\"heatmapgl\":[{\"colorbar\":{\"outlinewidth\":0,\"ticks\":\"\"},\"colorscale\":[[0.0,\"#0d0887\"],[0.1111111111111111,\"#46039f\"],[0.2222222222222222,\"#7201a8\"],[0.3333333333333333,\"#9c179e\"],[0.4444444444444444,\"#bd3786\"],[0.5555555555555556,\"#d8576b\"],[0.6666666666666666,\"#ed7953\"],[0.7777777777777778,\"#fb9f3a\"],[0.8888888888888888,\"#fdca26\"],[1.0,\"#f0f921\"]],\"type\":\"heatmapgl\"}],\"histogram\":[{\"marker\":{\"pattern\":{\"fillmode\":\"overlay\",\"size\":10,\"solidity\":0.2}},\"type\":\"histogram\"}],\"histogram2d\":[{\"colorbar\":{\"outlinewidth\":0,\"ticks\":\"\"},\"colorscale\":[[0.0,\"#0d0887\"],[0.1111111111111111,\"#46039f\"],[0.2222222222222222,\"#7201a8\"],[0.3333333333333333,\"#9c179e\"],[0.4444444444444444,\"#bd3786\"],[0.5555555555555556,\"#d8576b\"],[0.6666666666666666,\"#ed7953\"],[0.7777777777777778,\"#fb9f3a\"],[0.8888888888888888,\"#fdca26\"],[1.0,\"#f0f921\"]],\"type\":\"histogram2d\"}],\"histogram2dcontour\":[{\"colorbar\":{\"outlinewidth\":0,\"ticks\":\"\"},\"colorscale\":[[0.0,\"#0d0887\"],[0.1111111111111111,\"#46039f\"],[0.2222222222222222,\"#7201a8\"],[0.3333333333333333,\"#9c179e\"],[0.4444444444444444,\"#bd3786\"],[0.5555555555555556,\"#d8576b\"],[0.6666666666666666,\"#ed7953\"],[0.7777777777777778,\"#fb9f3a\"],[0.8888888888888888,\"#fdca26\"],[1.0,\"#f0f921\"]],\"type\":\"histogram2dcontour\"}],\"mesh3d\":[{\"colorbar\":{\"outlinewidth\":0,\"ticks\":\"\"},\"type\":\"mesh3d\"}],\"parcoords\":[{\"line\":{\"colorbar\":{\"outlinewidth\":0,\"ticks\":\"\"}},\"type\":\"parcoords\"}],\"pie\":[{\"automargin\":true,\"type\":\"pie\"}],\"scatter\":[{\"marker\":{\"colorbar\":{\"outlinewidth\":0,\"ticks\":\"\"}},\"type\":\"scatter\"}],\"scatter3d\":[{\"line\":{\"colorbar\":{\"outlinewidth\":0,\"ticks\":\"\"}},\"marker\":{\"colorbar\":{\"outlinewidth\":0,\"ticks\":\"\"}},\"type\":\"scatter3d\"}],\"scattercarpet\":[{\"marker\":{\"colorbar\":{\"outlinewidth\":0,\"ticks\":\"\"}},\"type\":\"scattercarpet\"}],\"scattergeo\":[{\"marker\":{\"colorbar\":{\"outlinewidth\":0,\"ticks\":\"\"}},\"type\":\"scattergeo\"}],\"scattergl\":[{\"marker\":{\"colorbar\":{\"outlinewidth\":0,\"ticks\":\"\"}},\"type\":\"scattergl\"}],\"scattermapbox\":[{\"marker\":{\"colorbar\":{\"outlinewidth\":0,\"ticks\":\"\"}},\"type\":\"scattermapbox\"}],\"scatterpolar\":[{\"marker\":{\"colorbar\":{\"outlinewidth\":0,\"ticks\":\"\"}},\"type\":\"scatterpolar\"}],\"scatterpolargl\":[{\"marker\":{\"colorbar\":{\"outlinewidth\":0,\"ticks\":\"\"}},\"type\":\"scatterpolargl\"}],\"scatterternary\":[{\"marker\":{\"colorbar\":{\"outlinewidth\":0,\"ticks\":\"\"}},\"type\":\"scatterternary\"}],\"surface\":[{\"colorbar\":{\"outlinewidth\":0,\"ticks\":\"\"},\"colorscale\":[[0.0,\"#0d0887\"],[0.1111111111111111,\"#46039f\"],[0.2222222222222222,\"#7201a8\"],[0.3333333333333333,\"#9c179e\"],[0.4444444444444444,\"#bd3786\"],[0.5555555555555556,\"#d8576b\"],[0.6666666666666666,\"#ed7953\"],[0.7777777777777778,\"#fb9f3a\"],[0.8888888888888888,\"#fdca26\"],[1.0,\"#f0f921\"]],\"type\":\"surface\"}],\"table\":[{\"cells\":{\"fill\":{\"color\":\"#EBF0F8\"},\"line\":{\"color\":\"white\"}},\"header\":{\"fill\":{\"color\":\"#C8D4E3\"},\"line\":{\"color\":\"white\"}},\"type\":\"table\"}]},\"layout\":{\"annotationdefaults\":{\"arrowcolor\":\"#2a3f5f\",\"arrowhead\":0,\"arrowwidth\":1},\"autotypenumbers\":\"strict\",\"coloraxis\":{\"colorbar\":{\"outlinewidth\":0,\"ticks\":\"\"}},\"colorscale\":{\"diverging\":[[0,\"#8e0152\"],[0.1,\"#c51b7d\"],[0.2,\"#de77ae\"],[0.3,\"#f1b6da\"],[0.4,\"#fde0ef\"],[0.5,\"#f7f7f7\"],[0.6,\"#e6f5d0\"],[0.7,\"#b8e186\"],[0.8,\"#7fbc41\"],[0.9,\"#4d9221\"],[1,\"#276419\"]],\"sequential\":[[0.0,\"#0d0887\"],[0.1111111111111111,\"#46039f\"],[0.2222222222222222,\"#7201a8\"],[0.3333333333333333,\"#9c179e\"],[0.4444444444444444,\"#bd3786\"],[0.5555555555555556,\"#d8576b\"],[0.6666666666666666,\"#ed7953\"],[0.7777777777777778,\"#fb9f3a\"],[0.8888888888888888,\"#fdca26\"],[1.0,\"#f0f921\"]],\"sequentialminus\":[[0.0,\"#0d0887\"],[0.1111111111111111,\"#46039f\"],[0.2222222222222222,\"#7201a8\"],[0.3333333333333333,\"#9c179e\"],[0.4444444444444444,\"#bd3786\"],[0.5555555555555556,\"#d8576b\"],[0.6666666666666666,\"#ed7953\"],[0.7777777777777778,\"#fb9f3a\"],[0.8888888888888888,\"#fdca26\"],[1.0,\"#f0f921\"]]},\"colorway\":[\"#636efa\",\"#EF553B\",\"#00cc96\",\"#ab63fa\",\"#FFA15A\",\"#19d3f3\",\"#FF6692\",\"#B6E880\",\"#FF97FF\",\"#FECB52\"],\"font\":{\"color\":\"#2a3f5f\"},\"geo\":{\"bgcolor\":\"white\",\"lakecolor\":\"white\",\"landcolor\":\"#E5ECF6\",\"showlakes\":true,\"showland\":true,\"subunitcolor\":\"white\"},\"hoverlabel\":{\"align\":\"left\"},\"hovermode\":\"closest\",\"mapbox\":{\"style\":\"light\"},\"paper_bgcolor\":\"white\",\"plot_bgcolor\":\"#E5ECF6\",\"polar\":{\"angularaxis\":{\"gridcolor\":\"white\",\"linecolor\":\"white\",\"ticks\":\"\"},\"bgcolor\":\"#E5ECF6\",\"radialaxis\":{\"gridcolor\":\"white\",\"linecolor\":\"white\",\"ticks\":\"\"}},\"scene\":{\"xaxis\":{\"backgroundcolor\":\"#E5ECF6\",\"gridcolor\":\"white\",\"gridwidth\":2,\"linecolor\":\"white\",\"showbackground\":true,\"ticks\":\"\",\"zerolinecolor\":\"white\"},\"yaxis\":{\"backgroundcolor\":\"#E5ECF6\",\"gridcolor\":\"white\",\"gridwidth\":2,\"linecolor\":\"white\",\"showbackground\":true,\"ticks\":\"\",\"zerolinecolor\":\"white\"},\"zaxis\":{\"backgroundcolor\":\"#E5ECF6\",\"gridcolor\":\"white\",\"gridwidth\":2,\"linecolor\":\"white\",\"showbackground\":true,\"ticks\":\"\",\"zerolinecolor\":\"white\"}},\"shapedefaults\":{\"line\":{\"color\":\"#2a3f5f\"}},\"ternary\":{\"aaxis\":{\"gridcolor\":\"white\",\"linecolor\":\"white\",\"ticks\":\"\"},\"baxis\":{\"gridcolor\":\"white\",\"linecolor\":\"white\",\"ticks\":\"\"},\"bgcolor\":\"#E5ECF6\",\"caxis\":{\"gridcolor\":\"white\",\"linecolor\":\"white\",\"ticks\":\"\"}},\"title\":{\"x\":0.05},\"xaxis\":{\"automargin\":true,\"gridcolor\":\"white\",\"linecolor\":\"white\",\"ticks\":\"\",\"title\":{\"standoff\":15},\"zerolinecolor\":\"white\",\"zerolinewidth\":2},\"yaxis\":{\"automargin\":true,\"gridcolor\":\"white\",\"linecolor\":\"white\",\"ticks\":\"\",\"title\":{\"standoff\":15},\"zerolinecolor\":\"white\",\"zerolinewidth\":2}}},\"xaxis\":{\"anchor\":\"y\",\"domain\":[0.0,1.0],\"title\":{\"text\":\"Duration\"}},\"yaxis\":{\"anchor\":\"x\",\"domain\":[0.0,1.0],\"title\":{\"text\":\"count\"}}},                        {\"responsive\": true}                    ).then(function(){\n",
       "                            \n",
       "var gd = document.getElementById('b33df4d3-5a9e-47c9-9c5e-fa589fee6d2a');\n",
       "var x = new MutationObserver(function (mutations, observer) {{\n",
       "        var display = window.getComputedStyle(gd).display;\n",
       "        if (!display || display === 'none') {{\n",
       "            console.log([gd, 'removed!']);\n",
       "            Plotly.purge(gd);\n",
       "            observer.disconnect();\n",
       "        }}\n",
       "}});\n",
       "\n",
       "// Listen for the removal of the full notebook cells\n",
       "var notebookContainer = gd.closest('#notebook-container');\n",
       "if (notebookContainer) {{\n",
       "    x.observe(notebookContainer, {childList: true});\n",
       "}}\n",
       "\n",
       "// Listen for the clearing of the current output cell\n",
       "var outputEl = gd.closest('.output');\n",
       "if (outputEl) {{\n",
       "    x.observe(outputEl, {childList: true});\n",
       "}}\n",
       "\n",
       "                        })                };                });            </script>        </div>"
      ]
     },
     "metadata": {},
     "output_type": "display_data"
    }
   ],
   "source": [
    "mainLogger.debug(f\"max={max}\")\n",
    "fig = px.histogram(df_users, x=\"Duration\", nbins=20)\n",
    "fig.show()"
   ]
  },
  {
   "cell_type": "code",
   "execution_count": 62,
   "metadata": {},
   "outputs": [],
   "source": [
    "# when starts waiting - more or less 8 users\n",
    "# as much as processes - more or less 13 users"
   ]
  },
  {
   "cell_type": "markdown",
   "metadata": {},
   "source": [
    "# Logs"
   ]
  },
  {
   "cell_type": "code",
   "execution_count": 63,
   "metadata": {},
   "outputs": [
    {
     "name": "stdout",
     "output_type": "stream",
     "text": [
      "2021-09-12 11:25:51,229 - root - DEBUG - test\n",
      "2021-09-12 11:25:51,294 - root - INFO - Clock created - base 1631438751.294027\n",
      "2021-09-12 11:25:51,294 - root - INFO - create resource with capacity 5\n",
      "2021-09-12 11:25:51,294 - root - INFO - creating agent\n",
      "2021-09-12 11:25:51,294 - root - INFO - creating user User-0\n",
      "2021-09-12 11:25:51,295 - root - INFO - 0 occupied slots at 0\n",
      "2021-09-12 11:25:51,295 - root - INFO - 0 requests waiting at 0\n",
      "2021-09-12 11:25:51,295 - root - INFO - 1 occupied slots at 1\n",
      "2021-09-12 11:25:51,295 - root - INFO - 0 requests waiting at 1\n",
      "2021-09-12 11:25:51,295 - root - INFO - 1 occupied slots at 2\n",
      "2021-09-12 11:25:51,296 - root - INFO - 0 requests waiting at 2\n",
      "2021-09-12 11:25:51,296 - root - INFO - 1 occupied slots at 3\n",
      "2021-09-12 11:25:51,296 - root - INFO - 0 requests waiting at 3\n",
      "2021-09-12 11:25:51,296 - root - INFO - 1 occupied slots at 4\n",
      "2021-09-12 11:25:51,296 - root - INFO - 0 requests waiting at 4\n",
      "2021-09-12 11:25:51,296 - root - INFO - creating user User-1\n",
      "2021-09-12 11:25:51,296 - root - INFO - 1 occupied slots at 5\n",
      "2021-09-12 11:25:51,296 - root - INFO - 0 requests waiting at 5\n",
      "2021-09-12 11:25:51,296 - root - INFO - 1 occupied slots at 6\n",
      "2021-09-12 11:25:51,296 - root - INFO - 0 requests waiting at 6\n",
      "2021-09-12 11:25:51,296 - root - INFO - 2 occupied slots at 7\n",
      "2021-09-12 11:25:51,297 - root - INFO - 0 requests waiting at 7\n",
      "2021-09-12 11:25:51,297 - root - INFO - 2 occupied slots at 8\n",
      "2021-09-12 11:25:51,297 - root - INFO - 0 requests waiting at 8\n",
      "2021-09-12 11:25:51,297 - root - INFO - 2 occupied slots at 9\n",
      "2021-09-12 11:25:51,297 - root - INFO - 0 requests waiting at 9\n",
      "2021-09-12 11:25:51,297 - root - INFO - creating user User-2\n",
      "2021-09-12 11:25:51,297 - root - INFO - 2 occupied slots at 10\n",
      "2021-09-12 11:25:51,297 - root - INFO - 0 requests waiting at 10\n",
      "2021-09-12 11:25:51,297 - root - INFO - 2 occupied slots at 11\n",
      "2021-09-12 11:25:51,297 - root - INFO - 0 requests waiting at 11\n",
      "2021-09-12 11:25:51,297 - root - INFO - 2 occupied slots at 12\n",
      "2021-09-12 11:25:51,297 - root - INFO - 0 requests waiting at 12\n",
      "2021-09-12 11:25:51,297 - root - INFO - 2 occupied slots at 13\n",
      "2021-09-12 11:25:51,298 - root - INFO - 0 requests waiting at 13\n",
      "2021-09-12 11:25:51,298 - root - INFO - 3 occupied slots at 14\n",
      "2021-09-12 11:25:51,298 - root - INFO - 0 requests waiting at 14\n",
      "2021-09-12 11:25:51,298 - root - INFO - creating user User-3\n",
      "2021-09-12 11:25:51,298 - root - INFO - 3 occupied slots at 15\n",
      "2021-09-12 11:25:51,298 - root - INFO - 0 requests waiting at 15\n",
      "2021-09-12 11:25:51,298 - root - INFO - 3 occupied slots at 16\n",
      "2021-09-12 11:25:51,298 - root - INFO - 0 requests waiting at 16\n",
      "2021-09-12 11:25:51,298 - root - INFO - 3 occupied slots at 17\n",
      "2021-09-12 11:25:51,298 - root - INFO - 0 requests waiting at 17\n",
      "2021-09-12 11:25:51,298 - root - INFO - 3 occupied slots at 18\n",
      "2021-09-12 11:25:51,298 - root - INFO - 0 requests waiting at 18\n",
      "2021-09-12 11:25:51,299 - root - INFO - 3 occupied slots at 19\n",
      "2021-09-12 11:25:51,299 - root - INFO - 0 requests waiting at 19\n",
      "2021-09-12 11:25:51,299 - root - INFO - creating user User-4\n",
      "2021-09-12 11:25:51,299 - root - INFO - 3 occupied slots at 20\n",
      "2021-09-12 11:25:51,299 - root - INFO - 0 requests waiting at 20\n",
      "2021-09-12 11:25:51,299 - root - INFO - 4 occupied slots at 21\n",
      "2021-09-12 11:25:51,299 - root - INFO - 0 requests waiting at 21\n",
      "2021-09-12 11:25:51,299 - root - INFO - 4 occupied slots at 22\n",
      "2021-09-12 11:25:51,299 - root - INFO - 0 requests waiting at 22\n",
      "2021-09-12 11:25:51,299 - root - INFO - 4 occupied slots at 23\n",
      "2021-09-12 11:25:51,299 - root - INFO - 0 requests waiting at 23\n",
      "2021-09-12 11:25:51,299 - root - INFO - 4 occupied slots at 24\n",
      "2021-09-12 11:25:51,299 - root - INFO - 0 requests waiting at 24\n",
      "2021-09-12 11:25:51,300 - root - INFO - creating user User-5\n",
      "2021-09-12 11:25:51,300 - root - INFO - 4 occupied slots at 25\n",
      "2021-09-12 11:25:51,300 - root - INFO - 0 requests waiting at 25\n",
      "2021-09-12 11:25:51,300 - root - INFO - 4 occupied slots at 26\n",
      "2021-09-12 11:25:51,300 - root - INFO - 0 requests waiting at 26\n",
      "2021-09-12 11:25:51,300 - root - INFO - 4 occupied slots at 27\n",
      "2021-09-12 11:25:51,300 - root - INFO - 0 requests waiting at 27\n",
      "2021-09-12 11:25:51,300 - root - INFO - 5 occupied slots at 28\n",
      "2021-09-12 11:25:51,300 - root - INFO - 0 requests waiting at 28\n",
      "2021-09-12 11:25:51,300 - root - INFO - 5 occupied slots at 29\n",
      "2021-09-12 11:25:51,300 - root - INFO - 0 requests waiting at 29\n",
      "2021-09-12 11:25:51,301 - root - INFO - creating user User-6\n",
      "2021-09-12 11:25:51,301 - root - INFO - 4 occupied slots at 30\n",
      "2021-09-12 11:25:51,301 - root - INFO - 1 requests waiting at 30\n",
      "2021-09-12 11:25:51,301 - root - INFO - 5 occupied slots at 31\n",
      "2021-09-12 11:25:51,301 - root - INFO - 0 requests waiting at 31\n",
      "2021-09-12 11:25:51,301 - root - INFO - 5 occupied slots at 32\n",
      "2021-09-12 11:25:51,301 - root - INFO - 0 requests waiting at 32\n",
      "2021-09-12 11:25:51,301 - root - INFO - 5 occupied slots at 33\n",
      "2021-09-12 11:25:51,301 - root - INFO - 0 requests waiting at 33\n",
      "2021-09-12 11:25:51,302 - root - INFO - 5 occupied slots at 34\n",
      "2021-09-12 11:25:51,302 - root - INFO - 0 requests waiting at 34\n",
      "2021-09-12 11:25:51,302 - root - INFO - creating user User-7\n",
      "2021-09-12 11:25:51,302 - root - INFO - 5 occupied slots at 35\n",
      "2021-09-12 11:25:51,302 - root - INFO - 1 requests waiting at 35\n",
      "2021-09-12 11:25:51,302 - root - INFO - 5 occupied slots at 36\n",
      "2021-09-12 11:25:51,302 - root - INFO - 1 requests waiting at 36\n",
      "2021-09-12 11:25:51,303 - root - INFO - 5 occupied slots at 37\n",
      "2021-09-12 11:25:51,303 - root - INFO - 1 requests waiting at 37\n",
      "2021-09-12 11:25:51,303 - root - INFO - 5 occupied slots at 38\n",
      "2021-09-12 11:25:51,303 - root - INFO - 1 requests waiting at 38\n",
      "2021-09-12 11:25:51,303 - root - INFO - 5 occupied slots at 39\n",
      "2021-09-12 11:25:51,303 - root - INFO - 1 requests waiting at 39\n",
      "2021-09-12 11:25:51,303 - root - INFO - creating user User-8\n",
      "2021-09-12 11:25:51,303 - root - INFO - 5 occupied slots at 40\n",
      "2021-09-12 11:25:51,303 - root - INFO - 2 requests waiting at 40\n",
      "2021-09-12 11:25:51,304 - root - INFO - 5 occupied slots at 41\n",
      "2021-09-12 11:25:51,304 - root - INFO - 2 requests waiting at 41\n",
      "2021-09-12 11:25:51,304 - root - INFO - 5 occupied slots at 42\n",
      "2021-09-12 11:25:51,304 - root - INFO - 2 requests waiting at 42\n",
      "2021-09-12 11:25:51,304 - root - INFO - 5 occupied slots at 43\n",
      "2021-09-12 11:25:51,304 - root - INFO - 2 requests waiting at 43\n",
      "2021-09-12 11:25:51,304 - root - INFO - 5 occupied slots at 44\n",
      "2021-09-12 11:25:51,304 - root - INFO - 2 requests waiting at 44\n",
      "2021-09-12 11:25:51,304 - root - INFO - creating user User-9\n",
      "2021-09-12 11:25:51,304 - root - INFO - 5 occupied slots at 45\n",
      "2021-09-12 11:25:51,305 - root - INFO - 3 requests waiting at 45\n",
      "2021-09-12 11:25:51,305 - root - INFO - 5 occupied slots at 46\n",
      "2021-09-12 11:25:51,305 - root - INFO - 3 requests waiting at 46\n",
      "2021-09-12 11:25:51,305 - root - INFO - 5 occupied slots at 47\n",
      "2021-09-12 11:25:51,305 - root - INFO - 3 requests waiting at 47\n",
      "2021-09-12 11:25:51,305 - root - INFO - 5 occupied slots at 48\n",
      "2021-09-12 11:25:51,305 - root - INFO - 3 requests waiting at 48\n",
      "2021-09-12 11:25:51,305 - root - INFO - 5 occupied slots at 49\n",
      "2021-09-12 11:25:51,305 - root - INFO - 3 requests waiting at 49\n",
      "2021-09-12 11:25:51,305 - root - INFO - creating user User-10\n",
      "2021-09-12 11:25:51,305 - root - INFO - 5 occupied slots at 50\n",
      "2021-09-12 11:25:51,306 - root - INFO - 4 requests waiting at 50\n",
      "2021-09-12 11:25:51,306 - root - INFO - 5 occupied slots at 51\n",
      "2021-09-12 11:25:51,306 - root - INFO - 4 requests waiting at 51\n",
      "2021-09-12 11:25:51,306 - root - INFO - 5 occupied slots at 52\n",
      "2021-09-12 11:25:51,306 - root - INFO - 4 requests waiting at 52\n",
      "2021-09-12 11:25:51,306 - root - INFO - 5 occupied slots at 53\n",
      "2021-09-12 11:25:51,306 - root - INFO - 4 requests waiting at 53\n",
      "2021-09-12 11:25:51,306 - root - INFO - 5 occupied slots at 54\n",
      "2021-09-12 11:25:51,307 - root - INFO - 4 requests waiting at 54\n",
      "2021-09-12 11:25:51,307 - root - INFO - creating user User-11\n",
      "2021-09-12 11:25:51,307 - root - INFO - 5 occupied slots at 55\n",
      "2021-09-12 11:25:51,307 - root - INFO - 5 requests waiting at 55\n",
      "2021-09-12 11:25:51,307 - root - INFO - 5 occupied slots at 56\n",
      "2021-09-12 11:25:51,307 - root - INFO - 5 requests waiting at 56\n",
      "2021-09-12 11:25:51,307 - root - INFO - 5 occupied slots at 57\n",
      "2021-09-12 11:25:51,307 - root - INFO - 5 requests waiting at 57\n",
      "2021-09-12 11:25:51,307 - root - INFO - 5 occupied slots at 58\n",
      "2021-09-12 11:25:51,308 - root - INFO - 5 requests waiting at 58\n",
      "2021-09-12 11:25:51,308 - root - INFO - 5 occupied slots at 59\n",
      "2021-09-12 11:25:51,308 - root - INFO - 5 requests waiting at 59\n",
      "2021-09-12 11:25:51,308 - root - INFO - creating user User-12\n",
      "2021-09-12 11:25:51,308 - root - INFO - 5 occupied slots at 60\n",
      "2021-09-12 11:25:51,308 - root - INFO - 6 requests waiting at 60\n",
      "2021-09-12 11:25:51,308 - root - INFO - 5 occupied slots at 61\n",
      "2021-09-12 11:25:51,308 - root - INFO - 6 requests waiting at 61\n",
      "2021-09-12 11:25:51,308 - root - INFO - 5 occupied slots at 62\n",
      "2021-09-12 11:25:51,308 - root - INFO - 6 requests waiting at 62\n",
      "2021-09-12 11:25:51,309 - root - INFO - 5 occupied slots at 63\n",
      "2021-09-12 11:25:51,309 - root - INFO - 6 requests waiting at 63\n",
      "2021-09-12 11:25:51,309 - root - INFO - 5 occupied slots at 64\n",
      "2021-09-12 11:25:51,309 - root - INFO - 6 requests waiting at 64\n",
      "2021-09-12 11:25:51,309 - root - INFO - creating user User-13\n",
      "2021-09-12 11:25:51,309 - root - INFO - 5 occupied slots at 65\n",
      "2021-09-12 11:25:51,309 - root - INFO - 7 requests waiting at 65\n",
      "2021-09-12 11:25:51,309 - root - INFO - 5 occupied slots at 66\n",
      "2021-09-12 11:25:51,309 - root - INFO - 7 requests waiting at 66\n",
      "2021-09-12 11:25:51,309 - root - INFO - 5 occupied slots at 67\n",
      "2021-09-12 11:25:51,309 - root - INFO - 7 requests waiting at 67\n",
      "2021-09-12 11:25:51,310 - root - INFO - 5 occupied slots at 68\n",
      "2021-09-12 11:25:51,310 - root - INFO - 7 requests waiting at 68\n",
      "2021-09-12 11:25:51,310 - root - INFO - 5 occupied slots at 69\n",
      "2021-09-12 11:25:51,310 - root - INFO - 7 requests waiting at 69\n",
      "2021-09-12 11:25:51,310 - root - INFO - creating user User-14\n",
      "2021-09-12 11:25:51,310 - root - INFO - 5 occupied slots at 70\n",
      "2021-09-12 11:25:51,310 - root - INFO - 8 requests waiting at 70\n",
      "2021-09-12 11:25:51,310 - root - INFO - 5 occupied slots at 71\n",
      "2021-09-12 11:25:51,310 - root - INFO - 8 requests waiting at 71\n",
      "2021-09-12 11:25:51,310 - root - INFO - 5 occupied slots at 72\n",
      "2021-09-12 11:25:51,310 - root - INFO - 8 requests waiting at 72\n",
      "2021-09-12 11:25:51,311 - root - INFO - 5 occupied slots at 73\n",
      "2021-09-12 11:25:51,311 - root - INFO - 8 requests waiting at 73\n",
      "2021-09-12 11:25:51,311 - root - INFO - 5 occupied slots at 74\n",
      "2021-09-12 11:25:51,311 - root - INFO - 8 requests waiting at 74\n",
      "2021-09-12 11:25:51,311 - root - INFO - creating user User-15\n",
      "2021-09-12 11:25:51,311 - root - INFO - 5 occupied slots at 75\n",
      "2021-09-12 11:25:51,311 - root - INFO - 9 requests waiting at 75\n",
      "2021-09-12 11:25:51,311 - root - INFO - 5 occupied slots at 76\n",
      "2021-09-12 11:25:51,311 - root - INFO - 9 requests waiting at 76\n",
      "2021-09-12 11:25:51,311 - root - INFO - 5 occupied slots at 77\n",
      "2021-09-12 11:25:51,312 - root - INFO - 9 requests waiting at 77\n",
      "2021-09-12 11:25:51,312 - root - INFO - 5 occupied slots at 78\n",
      "2021-09-12 11:25:51,312 - root - INFO - 9 requests waiting at 78\n",
      "2021-09-12 11:25:51,312 - root - INFO - 5 occupied slots at 79\n",
      "2021-09-12 11:25:51,312 - root - INFO - 9 requests waiting at 79\n",
      "2021-09-12 11:25:51,312 - root - INFO - creating user User-16\n",
      "2021-09-12 11:25:51,312 - root - INFO - 5 occupied slots at 80\n",
      "2021-09-12 11:25:51,312 - root - INFO - 10 requests waiting at 80\n",
      "2021-09-12 11:25:51,312 - root - INFO - 5 occupied slots at 81\n",
      "2021-09-12 11:25:51,312 - root - INFO - 10 requests waiting at 81\n",
      "2021-09-12 11:25:51,312 - root - INFO - 5 occupied slots at 82\n",
      "2021-09-12 11:25:51,313 - root - INFO - 10 requests waiting at 82\n",
      "2021-09-12 11:25:51,313 - root - INFO - 5 occupied slots at 83\n",
      "2021-09-12 11:25:51,313 - root - INFO - 10 requests waiting at 83\n",
      "2021-09-12 11:25:51,313 - root - INFO - 5 occupied slots at 84\n",
      "2021-09-12 11:25:51,313 - root - INFO - 10 requests waiting at 84\n",
      "2021-09-12 11:25:51,313 - root - INFO - creating user User-17\n",
      "2021-09-12 11:25:51,313 - root - INFO - 5 occupied slots at 85\n",
      "2021-09-12 11:25:51,313 - root - INFO - 11 requests waiting at 85\n",
      "2021-09-12 11:25:51,313 - root - INFO - 5 occupied slots at 86\n",
      "2021-09-12 11:25:51,313 - root - INFO - 11 requests waiting at 86\n",
      "2021-09-12 11:25:51,314 - root - INFO - 5 occupied slots at 87\n",
      "2021-09-12 11:25:51,314 - root - INFO - 11 requests waiting at 87\n",
      "2021-09-12 11:25:51,314 - root - INFO - 5 occupied slots at 88\n",
      "2021-09-12 11:25:51,314 - root - INFO - 11 requests waiting at 88\n",
      "2021-09-12 11:25:51,314 - root - INFO - 5 occupied slots at 89\n",
      "2021-09-12 11:25:51,314 - root - INFO - 11 requests waiting at 89\n",
      "2021-09-12 11:25:51,314 - root - INFO - creating user User-18\n",
      "2021-09-12 11:25:51,314 - root - INFO - 5 occupied slots at 90\n",
      "2021-09-12 11:25:51,314 - root - INFO - 12 requests waiting at 90\n",
      "2021-09-12 11:25:51,315 - root - INFO - 5 occupied slots at 91\n",
      "2021-09-12 11:25:51,315 - root - INFO - 12 requests waiting at 91\n",
      "2021-09-12 11:25:51,315 - root - INFO - 5 occupied slots at 92\n",
      "2021-09-12 11:25:51,315 - root - INFO - 12 requests waiting at 92\n",
      "2021-09-12 11:25:51,315 - root - INFO - 5 occupied slots at 93\n",
      "2021-09-12 11:25:51,315 - root - INFO - 12 requests waiting at 93\n",
      "2021-09-12 11:25:51,315 - root - INFO - 5 occupied slots at 94\n",
      "2021-09-12 11:25:51,315 - root - INFO - 12 requests waiting at 94\n",
      "2021-09-12 11:25:51,315 - root - INFO - creating user User-19\n",
      "2021-09-12 11:25:51,315 - root - INFO - 5 occupied slots at 95\n",
      "2021-09-12 11:25:51,315 - root - INFO - 13 requests waiting at 95\n",
      "2021-09-12 11:25:51,316 - root - INFO - 5 occupied slots at 96\n",
      "2021-09-12 11:25:51,316 - root - INFO - 13 requests waiting at 96\n",
      "2021-09-12 11:25:51,316 - root - INFO - 5 occupied slots at 97\n",
      "2021-09-12 11:25:51,316 - root - INFO - 13 requests waiting at 97\n",
      "2021-09-12 11:25:51,316 - root - INFO - 5 occupied slots at 98\n",
      "2021-09-12 11:25:51,316 - root - INFO - 13 requests waiting at 98\n",
      "2021-09-12 11:25:51,316 - root - INFO - 5 occupied slots at 99\n",
      "2021-09-12 11:25:51,316 - root - INFO - 13 requests waiting at 99\n",
      "2021-09-12 11:25:51,316 - root - INFO - 5 occupied slots at 100\n",
      "2021-09-12 11:25:51,316 - root - INFO - 13 requests waiting at 100\n",
      "2021-09-12 11:25:51,316 - root - INFO - 5 occupied slots at 101\n",
      "2021-09-12 11:25:51,317 - root - INFO - 13 requests waiting at 101\n",
      "2021-09-12 11:25:51,317 - root - INFO - 5 occupied slots at 102\n",
      "2021-09-12 11:25:51,317 - root - INFO - 13 requests waiting at 102\n",
      "2021-09-12 11:25:51,317 - root - INFO - 5 occupied slots at 103\n",
      "2021-09-12 11:25:51,317 - root - INFO - 13 requests waiting at 103\n",
      "2021-09-12 11:25:51,317 - root - INFO - 5 occupied slots at 104\n",
      "2021-09-12 11:25:51,317 - root - INFO - 13 requests waiting at 104\n",
      "2021-09-12 11:25:51,317 - root - INFO - 5 occupied slots at 105\n",
      "2021-09-12 11:25:51,317 - root - INFO - 13 requests waiting at 105\n",
      "2021-09-12 11:25:51,318 - root - INFO - 5 occupied slots at 106\n",
      "2021-09-12 11:25:51,318 - root - INFO - 13 requests waiting at 106\n",
      "2021-09-12 11:25:51,318 - root - INFO - 5 occupied slots at 107\n",
      "2021-09-12 11:25:51,318 - root - INFO - 13 requests waiting at 107\n",
      "2021-09-12 11:25:51,318 - root - INFO - 5 occupied slots at 108\n",
      "2021-09-12 11:25:51,318 - root - INFO - 13 requests waiting at 108\n",
      "2021-09-12 11:25:51,318 - root - INFO - 5 occupied slots at 109\n",
      "2021-09-12 11:25:51,318 - root - INFO - 13 requests waiting at 109\n",
      "2021-09-12 11:25:51,318 - root - INFO - 5 occupied slots at 110\n",
      "2021-09-12 11:25:51,319 - root - INFO - 13 requests waiting at 110\n",
      "2021-09-12 11:25:51,319 - root - INFO - 5 occupied slots at 111\n",
      "2021-09-12 11:25:51,319 - root - INFO - 13 requests waiting at 111\n",
      "2021-09-12 11:25:51,319 - root - INFO - 5 occupied slots at 112\n",
      "2021-09-12 11:25:51,319 - root - INFO - 13 requests waiting at 112\n",
      "2021-09-12 11:25:51,319 - root - INFO - 5 occupied slots at 113\n",
      "2021-09-12 11:25:51,319 - root - INFO - 13 requests waiting at 113\n",
      "2021-09-12 11:25:51,319 - root - INFO - 5 occupied slots at 114\n",
      "2021-09-12 11:25:51,319 - root - INFO - 13 requests waiting at 114\n",
      "2021-09-12 11:25:51,320 - root - INFO - 5 occupied slots at 115\n",
      "2021-09-12 11:25:51,320 - root - INFO - 13 requests waiting at 115\n",
      "2021-09-12 11:25:51,320 - root - INFO - 5 occupied slots at 116\n",
      "2021-09-12 11:25:51,320 - root - INFO - 13 requests waiting at 116\n",
      "2021-09-12 11:25:51,320 - root - INFO - 5 occupied slots at 117\n",
      "2021-09-12 11:25:51,320 - root - INFO - 13 requests waiting at 117\n",
      "2021-09-12 11:25:51,320 - root - INFO - 5 occupied slots at 118\n",
      "2021-09-12 11:25:51,320 - root - INFO - 13 requests waiting at 118\n",
      "2021-09-12 11:25:51,321 - root - INFO - 5 occupied slots at 119\n",
      "2021-09-12 11:25:51,321 - root - INFO - 13 requests waiting at 119\n",
      "2021-09-12 11:25:51,321 - root - INFO - 5 occupied slots at 120\n",
      "2021-09-12 11:25:51,321 - root - INFO - 13 requests waiting at 120\n",
      "2021-09-12 11:25:51,321 - root - INFO - 5 occupied slots at 121\n",
      "2021-09-12 11:25:51,321 - root - INFO - 13 requests waiting at 121\n",
      "2021-09-12 11:25:51,321 - root - INFO - 5 occupied slots at 122\n",
      "2021-09-12 11:25:51,321 - root - INFO - 13 requests waiting at 122\n",
      "2021-09-12 11:25:51,321 - root - INFO - 5 occupied slots at 123\n",
      "2021-09-12 11:25:51,321 - root - INFO - 13 requests waiting at 123\n",
      "2021-09-12 11:25:51,322 - root - INFO - 5 occupied slots at 124\n",
      "2021-09-12 11:25:51,322 - root - INFO - 13 requests waiting at 124\n",
      "2021-09-12 11:25:51,322 - root - INFO - 5 occupied slots at 125\n",
      "2021-09-12 11:25:51,322 - root - INFO - 13 requests waiting at 125\n",
      "2021-09-12 11:25:51,322 - root - INFO - 5 occupied slots at 126\n",
      "2021-09-12 11:25:51,322 - root - INFO - 13 requests waiting at 126\n",
      "2021-09-12 11:25:51,322 - root - INFO - 5 occupied slots at 127\n",
      "2021-09-12 11:25:51,322 - root - INFO - 13 requests waiting at 127\n",
      "2021-09-12 11:25:51,322 - root - INFO - 5 occupied slots at 128\n",
      "2021-09-12 11:25:51,322 - root - INFO - 13 requests waiting at 128\n",
      "2021-09-12 11:25:51,323 - root - INFO - 5 occupied slots at 129\n",
      "2021-09-12 11:25:51,323 - root - INFO - 13 requests waiting at 129\n",
      "2021-09-12 11:25:51,323 - root - INFO - 5 occupied slots at 130\n",
      "2021-09-12 11:25:51,323 - root - INFO - 13 requests waiting at 130\n",
      "2021-09-12 11:25:51,323 - root - INFO - 5 occupied slots at 131\n",
      "2021-09-12 11:25:51,323 - root - INFO - 13 requests waiting at 131\n",
      "2021-09-12 11:25:51,323 - root - INFO - 5 occupied slots at 132\n",
      "2021-09-12 11:25:51,323 - root - INFO - 13 requests waiting at 132\n",
      "2021-09-12 11:25:51,323 - root - INFO - 5 occupied slots at 133\n",
      "2021-09-12 11:25:51,323 - root - INFO - 13 requests waiting at 133\n",
      "2021-09-12 11:25:51,324 - root - INFO - 5 occupied slots at 134\n",
      "2021-09-12 11:25:51,324 - root - INFO - 13 requests waiting at 134\n",
      "2021-09-12 11:25:51,324 - root - INFO - 5 occupied slots at 135\n",
      "2021-09-12 11:25:51,324 - root - INFO - 13 requests waiting at 135\n",
      "2021-09-12 11:25:51,324 - root - INFO - 5 occupied slots at 136\n",
      "2021-09-12 11:25:51,324 - root - INFO - 13 requests waiting at 136\n",
      "2021-09-12 11:25:51,324 - root - INFO - 5 occupied slots at 137\n",
      "2021-09-12 11:25:51,324 - root - INFO - 13 requests waiting at 137\n",
      "2021-09-12 11:25:51,324 - root - INFO - 5 occupied slots at 138\n",
      "2021-09-12 11:25:51,324 - root - INFO - 13 requests waiting at 138\n",
      "2021-09-12 11:25:51,324 - root - INFO - 5 occupied slots at 139\n",
      "2021-09-12 11:25:51,325 - root - INFO - 13 requests waiting at 139\n",
      "2021-09-12 11:25:51,325 - root - INFO - 5 occupied slots at 140\n",
      "2021-09-12 11:25:51,325 - root - INFO - 13 requests waiting at 140\n",
      "2021-09-12 11:25:51,325 - root - INFO - 5 occupied slots at 141\n",
      "2021-09-12 11:25:51,325 - root - INFO - 13 requests waiting at 141\n",
      "2021-09-12 11:25:51,325 - root - INFO - 5 occupied slots at 142\n",
      "2021-09-12 11:25:51,325 - root - INFO - 13 requests waiting at 142\n",
      "2021-09-12 11:25:51,325 - root - INFO - 5 occupied slots at 143\n",
      "2021-09-12 11:25:51,325 - root - INFO - 13 requests waiting at 143\n",
      "2021-09-12 11:25:51,325 - root - INFO - 5 occupied slots at 144\n",
      "2021-09-12 11:25:51,325 - root - INFO - 13 requests waiting at 144\n",
      "2021-09-12 11:25:51,326 - root - INFO - 5 occupied slots at 145\n",
      "2021-09-12 11:25:51,326 - root - INFO - 13 requests waiting at 145\n",
      "2021-09-12 11:25:51,326 - root - INFO - 5 occupied slots at 146\n",
      "2021-09-12 11:25:51,326 - root - INFO - 13 requests waiting at 146\n",
      "2021-09-12 11:25:51,326 - root - INFO - 5 occupied slots at 147\n",
      "2021-09-12 11:25:51,326 - root - INFO - 13 requests waiting at 147\n",
      "2021-09-12 11:25:51,326 - root - INFO - 5 occupied slots at 148\n",
      "2021-09-12 11:25:51,326 - root - INFO - 13 requests waiting at 148\n",
      "2021-09-12 11:25:51,326 - root - INFO - 5 occupied slots at 149\n",
      "2021-09-12 11:25:51,326 - root - INFO - 13 requests waiting at 149\n",
      "2021-09-12 11:25:51,327 - root - INFO - 5 occupied slots at 150\n",
      "2021-09-12 11:25:51,327 - root - INFO - 13 requests waiting at 150\n",
      "2021-09-12 11:25:51,327 - root - INFO - 5 occupied slots at 151\n",
      "2021-09-12 11:25:51,327 - root - INFO - 13 requests waiting at 151\n",
      "2021-09-12 11:25:51,327 - root - INFO - 5 occupied slots at 152\n",
      "2021-09-12 11:25:51,327 - root - INFO - 13 requests waiting at 152\n",
      "2021-09-12 11:25:51,327 - root - INFO - 5 occupied slots at 153\n",
      "2021-09-12 11:25:51,327 - root - INFO - 13 requests waiting at 153\n",
      "2021-09-12 11:25:51,327 - root - INFO - 5 occupied slots at 154\n",
      "2021-09-12 11:25:51,327 - root - INFO - 13 requests waiting at 154\n",
      "2021-09-12 11:25:51,327 - root - INFO - 5 occupied slots at 155\n",
      "2021-09-12 11:25:51,327 - root - INFO - 13 requests waiting at 155\n",
      "2021-09-12 11:25:51,328 - root - INFO - 5 occupied slots at 156\n",
      "2021-09-12 11:25:51,328 - root - INFO - 13 requests waiting at 156\n",
      "2021-09-12 11:25:51,328 - root - INFO - 5 occupied slots at 157\n",
      "2021-09-12 11:25:51,328 - root - INFO - 13 requests waiting at 157\n",
      "2021-09-12 11:25:51,328 - root - INFO - 5 occupied slots at 158\n",
      "2021-09-12 11:25:51,328 - root - INFO - 13 requests waiting at 158\n",
      "2021-09-12 11:25:51,328 - root - INFO - 5 occupied slots at 159\n",
      "2021-09-12 11:25:51,328 - root - INFO - 13 requests waiting at 159\n",
      "2021-09-12 11:25:51,328 - root - INFO - 5 occupied slots at 160\n",
      "2021-09-12 11:25:51,328 - root - INFO - 13 requests waiting at 160\n",
      "2021-09-12 11:25:51,329 - root - INFO - 5 occupied slots at 161\n",
      "2021-09-12 11:25:51,329 - root - INFO - 13 requests waiting at 161\n",
      "2021-09-12 11:25:51,329 - root - INFO - 5 occupied slots at 162\n",
      "2021-09-12 11:25:51,329 - root - INFO - 13 requests waiting at 162\n",
      "2021-09-12 11:25:51,329 - root - INFO - 5 occupied slots at 163\n",
      "2021-09-12 11:25:51,329 - root - INFO - 13 requests waiting at 163\n",
      "2021-09-12 11:25:51,329 - root - INFO - 5 occupied slots at 164\n",
      "2021-09-12 11:25:51,329 - root - INFO - 13 requests waiting at 164\n",
      "2021-09-12 11:25:51,329 - root - INFO - 5 occupied slots at 165\n",
      "2021-09-12 11:25:51,329 - root - INFO - 13 requests waiting at 165\n",
      "2021-09-12 11:25:51,329 - root - INFO - 5 occupied slots at 166\n",
      "2021-09-12 11:25:51,330 - root - INFO - 13 requests waiting at 166\n",
      "2021-09-12 11:25:51,330 - root - INFO - 5 occupied slots at 167\n",
      "2021-09-12 11:25:51,330 - root - INFO - 13 requests waiting at 167\n",
      "2021-09-12 11:25:51,330 - root - INFO - 5 occupied slots at 168\n",
      "2021-09-12 11:25:51,330 - root - INFO - 13 requests waiting at 168\n",
      "2021-09-12 11:25:51,330 - root - INFO - 5 occupied slots at 169\n",
      "2021-09-12 11:25:51,330 - root - INFO - 13 requests waiting at 169\n",
      "2021-09-12 11:25:51,331 - root - INFO - 5 occupied slots at 170\n",
      "2021-09-12 11:25:51,331 - root - INFO - 13 requests waiting at 170\n",
      "2021-09-12 11:25:51,331 - root - INFO - 5 occupied slots at 171\n",
      "2021-09-12 11:25:51,331 - root - INFO - 13 requests waiting at 171\n",
      "2021-09-12 11:25:51,331 - root - INFO - 5 occupied slots at 172\n",
      "2021-09-12 11:25:51,331 - root - INFO - 13 requests waiting at 172\n",
      "2021-09-12 11:25:51,332 - root - INFO - 5 occupied slots at 173\n",
      "2021-09-12 11:25:51,332 - root - INFO - 13 requests waiting at 173\n",
      "2021-09-12 11:25:51,332 - root - INFO - 5 occupied slots at 174\n",
      "2021-09-12 11:25:51,332 - root - INFO - 13 requests waiting at 174\n",
      "2021-09-12 11:25:51,332 - root - INFO - 5 occupied slots at 175\n",
      "2021-09-12 11:25:51,332 - root - INFO - 13 requests waiting at 175\n",
      "2021-09-12 11:25:51,332 - root - INFO - 5 occupied slots at 176\n",
      "2021-09-12 11:25:51,332 - root - INFO - 13 requests waiting at 176\n",
      "2021-09-12 11:25:51,333 - root - INFO - 5 occupied slots at 177\n",
      "2021-09-12 11:25:51,333 - root - INFO - 13 requests waiting at 177\n",
      "2021-09-12 11:25:51,333 - root - INFO - 5 occupied slots at 178\n",
      "2021-09-12 11:25:51,333 - root - INFO - 13 requests waiting at 178\n",
      "2021-09-12 11:25:51,333 - root - INFO - 5 occupied slots at 179\n",
      "2021-09-12 11:25:51,333 - root - INFO - 13 requests waiting at 179\n",
      "2021-09-12 11:25:51,333 - root - INFO - 5 occupied slots at 180\n",
      "2021-09-12 11:25:51,334 - root - INFO - 13 requests waiting at 180\n",
      "2021-09-12 11:25:51,334 - root - INFO - 5 occupied slots at 181\n",
      "2021-09-12 11:25:51,334 - root - INFO - 13 requests waiting at 181\n",
      "2021-09-12 11:25:51,334 - root - INFO - 5 occupied slots at 182\n",
      "2021-09-12 11:25:51,334 - root - INFO - 13 requests waiting at 182\n",
      "2021-09-12 11:25:51,334 - root - INFO - 5 occupied slots at 183\n",
      "2021-09-12 11:25:51,334 - root - INFO - 13 requests waiting at 183\n",
      "2021-09-12 11:25:51,334 - root - INFO - 5 occupied slots at 184\n",
      "2021-09-12 11:25:51,334 - root - INFO - 13 requests waiting at 184\n",
      "2021-09-12 11:25:51,335 - root - INFO - 5 occupied slots at 185\n",
      "2021-09-12 11:25:51,335 - root - INFO - 13 requests waiting at 185\n",
      "2021-09-12 11:25:51,335 - root - INFO - 5 occupied slots at 186\n",
      "2021-09-12 11:25:51,335 - root - INFO - 13 requests waiting at 186\n",
      "2021-09-12 11:25:51,335 - root - INFO - 5 occupied slots at 187\n",
      "2021-09-12 11:25:51,335 - root - INFO - 13 requests waiting at 187\n",
      "2021-09-12 11:25:51,335 - root - INFO - 5 occupied slots at 188\n",
      "2021-09-12 11:25:51,335 - root - INFO - 13 requests waiting at 188\n",
      "2021-09-12 11:25:51,335 - root - INFO - 5 occupied slots at 189\n",
      "2021-09-12 11:25:51,336 - root - INFO - 13 requests waiting at 189\n",
      "2021-09-12 11:25:51,336 - root - INFO - 5 occupied slots at 190\n",
      "2021-09-12 11:25:51,336 - root - INFO - 13 requests waiting at 190\n",
      "2021-09-12 11:25:51,336 - root - INFO - 5 occupied slots at 191\n",
      "2021-09-12 11:25:51,336 - root - INFO - 13 requests waiting at 191\n",
      "2021-09-12 11:25:51,336 - root - INFO - 5 occupied slots at 192\n",
      "2021-09-12 11:25:51,336 - root - INFO - 13 requests waiting at 192\n",
      "2021-09-12 11:25:51,336 - root - INFO - 5 occupied slots at 193\n",
      "2021-09-12 11:25:51,337 - root - INFO - 13 requests waiting at 193\n",
      "2021-09-12 11:25:51,337 - root - INFO - 5 occupied slots at 194\n",
      "2021-09-12 11:25:51,337 - root - INFO - 13 requests waiting at 194\n",
      "2021-09-12 11:25:51,337 - root - INFO - 5 occupied slots at 195\n",
      "2021-09-12 11:25:51,337 - root - INFO - 13 requests waiting at 195\n",
      "2021-09-12 11:25:51,337 - root - INFO - 5 occupied slots at 196\n",
      "2021-09-12 11:25:51,337 - root - INFO - 13 requests waiting at 196\n",
      "2021-09-12 11:25:51,337 - root - INFO - 5 occupied slots at 197\n",
      "2021-09-12 11:25:51,337 - root - INFO - 13 requests waiting at 197\n",
      "2021-09-12 11:25:51,338 - root - INFO - 5 occupied slots at 198\n",
      "2021-09-12 11:25:51,338 - root - INFO - 13 requests waiting at 198\n",
      "2021-09-12 11:25:51,338 - root - INFO - 5 occupied slots at 199\n",
      "2021-09-12 11:25:51,338 - root - INFO - 13 requests waiting at 199\n",
      "\n"
     ]
    }
   ],
   "source": [
    "with open(log_filename) as log:\n",
    "            print(log.read())"
   ]
  }
 ],
 "metadata": {
  "kernelspec": {
   "display_name": "Python 3",
   "language": "python",
   "name": "python3"
  },
  "language_info": {
   "codemirror_mode": {
    "name": "ipython",
    "version": 3
   },
   "file_extension": ".py",
   "mimetype": "text/x-python",
   "name": "python",
   "nbconvert_exporter": "python",
   "pygments_lexer": "ipython3",
   "version": "3.7.3"
  }
 },
 "nbformat": 4,
 "nbformat_minor": 2
}
