{
 "cells": [
  {
   "cell_type": "code",
   "execution_count": 378,
   "metadata": {},
   "outputs": [
    {
     "name": "stdout",
     "output_type": "stream",
     "text": [
      "Requirement already satisfied: simpy in /Users/cfalguiere/anaconda3/lib/python3.7/site-packages (4.0.1)\r\n",
      "Requirement already satisfied: plotly in /Users/cfalguiere/anaconda3/lib/python3.7/site-packages (5.3.1)\r\n",
      "Requirement already satisfied: six in /Users/cfalguiere/anaconda3/lib/python3.7/site-packages (from plotly) (1.12.0)\r\n",
      "Requirement already satisfied: tenacity>=6.2.0 in /Users/cfalguiere/anaconda3/lib/python3.7/site-packages (from plotly) (8.0.1)\r\n"
     ]
    }
   ],
   "source": [
    "!pip install simpy plotly"
   ]
  },
  {
   "cell_type": "markdown",
   "metadata": {},
   "source": [
    "### Goal\n",
    "- randomization of tasks duration\n",
    "- structure of user scenario\n"
   ]
  },
  {
   "cell_type": "code",
   "execution_count": 379,
   "metadata": {},
   "outputs": [],
   "source": [
    "import simpy\n",
    "import datetime\n",
    "import pandas as pd\n",
    "import plotly.express as px\n",
    "import logging\n",
    "from enum import Enum\n",
    "\n",
    "# new\n",
    "import random\n",
    "from itertools import repeat\n"
   ]
  },
  {
   "cell_type": "code",
   "execution_count": 380,
   "metadata": {},
   "outputs": [],
   "source": [
    "class Metric(Enum):\n",
    "    RW = \"Requests Waiting\"\n",
    "    BS = \"Busy Slots\"\n",
    "    AU = \"Active Users\""
   ]
  },
  {
   "cell_type": "code",
   "execution_count": 381,
   "metadata": {},
   "outputs": [],
   "source": [
    "log_filename = \"logs-9.log\"\n",
    "mainLogger = logging.getLogger()\n",
    "mainLogger = logging.getLogger()\n",
    "fhandler = logging.FileHandler(filename=log_filename, mode='w')\n",
    "formatter = logging.Formatter('%(asctime)s - %(name)s - %(levelname)s - %(message)s')\n",
    "fhandler.setFormatter(formatter)\n",
    "mainLogger.addHandler(fhandler)\n",
    "mainLogger.setLevel(logging.DEBUG)\n",
    "mainLogger.debug(\"test\")"
   ]
  },
  {
   "cell_type": "code",
   "execution_count": 382,
   "metadata": {},
   "outputs": [],
   "source": [
    "class Scenario1:\n",
    "    def __init__(self):\n",
    "        self.name = \"Sc1\"\n",
    "        self.tasks = []\n",
    "        self.tasks.append( \n",
    "            { 'Name': \"Process-1\",\n",
    "              'Duration': 5,\n",
    "              'Res': 10\n",
    "            })        \n",
    "        self.tasks.append( \n",
    "            { 'Name': \"Verify-1\",\n",
    "              'Duration': 2\n",
    "            })\n",
    "\n",
    "class Scenario2:\n",
    "    def __init__(self):\n",
    "        self.name = \"Sc2\"\n",
    "        self.tasks = []\n",
    "        self.tasks.append( \n",
    "            { 'Name': \"Process-2.1\",\n",
    "              'Duration': 2,\n",
    "              'Res': 5\n",
    "            })        \n",
    "        self.tasks.append( \n",
    "            { 'Name': \"Verify-2.1\",\n",
    "              'Duration': 1\n",
    "            })\n",
    "        self.tasks.append( \n",
    "            { 'Name': \"Wait-2.1\",\n",
    "              'Duration': 1\n",
    "            })\n",
    "        self.tasks.append( \n",
    "            { 'Name': \"Process-2.2\",\n",
    "              'Duration': 3,\n",
    "              'Res': 5\n",
    "            })        \n",
    "        self.tasks.append( \n",
    "            { 'Name': \"Verify-2.2\",\n",
    "              'Duration': 1\n",
    "            })\n",
    "        \n",
    "class Scenario3:\n",
    "    def __init__(self):\n",
    "        self.name = \"Sc3\"\n",
    "        self.tasks = []\n",
    "        self.tasks.append( \n",
    "            { 'Name': \"Process-1\",\n",
    "              'Duration': 8,\n",
    "              'Res': 40\n",
    "            })        \n",
    "        self.tasks.append( \n",
    "            { 'Name': \"Verify-1\",\n",
    "              'Duration': 2\n",
    "            })\n",
    "\n"
   ]
  },
  {
   "cell_type": "code",
   "execution_count": 383,
   "metadata": {},
   "outputs": [],
   "source": [
    "class User:\n",
    "    def __init__(self, id, scenario, world):\n",
    "        self.id = id\n",
    "        self.scenario = scenario\n",
    "        self._world = world\n",
    "        self.taskid = 0 # new\n",
    "        self.create()\n",
    "        # Start the run process everytime an instance is created.\n",
    "        # create itself as a processs\n",
    "        self.action = self._world.env.process(self.run())\n",
    "\n",
    "    def create(self):\n",
    "        self.enteringAt = self._world.env.now\n",
    "        self.name = \"User-%03d\" % self.id\n",
    "        mainLogger.info(f\"user created {self.name}\")\n",
    "        self._world.user_monitor.report_new_user(self)\n",
    "\n",
    "    def run(self):\n",
    "        while True:\n",
    "            self.taskid += 1\n",
    "            for task in self.scenario.tasks:\n",
    "                taskname = task['Name']\n",
    "                task_duration = task['Duration']\n",
    "                mark = self._world.env.now\n",
    "                mainLogger.debug(f\"{self.name} starts task {taskname} at %d\" % mark)\n",
    "\n",
    "                if 'Res' in task:\n",
    "                    self._world.user_monitor.report_start(\n",
    "                            self.name, \n",
    "                            self.scenario, #new\n",
    "                            taskname, \n",
    "                            self.taskid)\n",
    "                    # We yield the process that process() returns\n",
    "                    # to wait for it to finish\n",
    "                    amount = task['Res']\n",
    "                    yield self._world.env.process(self.process_task(task_duration, amount))\n",
    "                    #yield self._world.env.process(self.process_task(task_duration))\n",
    "                    self._world.user_monitor.report_stop(\n",
    "                            self.name, \n",
    "                            self.scenario, #new\n",
    "                            taskname, \n",
    "                            self.taskid)\n",
    "                else:\n",
    "                    # wait some time even if no tracked\n",
    "                    yield self._world.env.timeout(task_duration)\n",
    "\n",
    "                mainLogger.debug(f\"{self.name} ends task {taskname} at %d\" % mark)\n",
    "                 \n",
    "    #def process_task(self, duration):\n",
    "    def process_task(self, duration, amount):\n",
    "        #with self._world.res.request() as req:\n",
    "        with Job(self._world.res,amount) as req:\n",
    "            yield req\n",
    "            yield self._world.env.timeout(duration)\n",
    "        mainLogger.debug(f\"exiting process task at %d\" % self._world.env.now)\n"
   ]
  },
  {
   "cell_type": "code",
   "execution_count": 384,
   "metadata": {},
   "outputs": [],
   "source": [
    "class Clock:\n",
    "    def __init__(self):\n",
    "        self.base_epoch = datetime.datetime.now().timestamp()\n",
    "        mainLogger.info(f\"Clock created - base {self.base_epoch}\")\n",
    "\n",
    "    def to_date(self, tick):\n",
    "        epoch_time = self.base_epoch + tick*60 #mn\n",
    "        datetime_time = datetime.datetime.fromtimestamp(epoch_time)\n",
    "        return datetime_time"
   ]
  },
  {
   "cell_type": "code",
   "execution_count": 385,
   "metadata": {},
   "outputs": [],
   "source": [
    "class UsersMonitor:\n",
    "    def __init__(self, world):\n",
    "        self._world = world # new\n",
    "        # init parameters are self reported\n",
    "        # start and stop events\n",
    "        self.start_data = []\n",
    "        self.stop_data = []\n",
    "        # list of users\n",
    "        self.users = []\n",
    "        \n",
    "    def report_new_user(self, user):\n",
    "        self.users.append(user)            \n",
    "        \n",
    "    #def report_start(self, username, taskname, taskid):\n",
    "    def report_start(self, username, scenario, taskname, taskid):\n",
    "        mark = self._world.env.now\n",
    "        self.start_data.append(\n",
    "            dict(  \n",
    "                StartMark=mark,\n",
    "                Start=world.clock.to_date(mark),\n",
    "                Username=username,\n",
    "                Scenario=scenario.name, # new\n",
    "                Task=taskname,\n",
    "                TaskId=taskid\n",
    "            )\n",
    "        )       \n",
    "        \n",
    "    #def report_stop(self, username, taskname, taskid):\n",
    "    def report_stop(self, username, scenario, taskname, taskid):\n",
    "        mark = self._world.env.now\n",
    "        self.stop_data.append(\n",
    "            dict(  \n",
    "                FinishMark=mark,\n",
    "                Finish=world.clock.to_date(mark),\n",
    "                Username=username,\n",
    "                Scenario=scenario.name, # new\n",
    "                Task=taskname,\n",
    "                TaskId=taskid\n",
    "            )\n",
    "        )\n",
    "        \n",
    "                \n",
    "    def collect(self):\n",
    "        df_start = pd.DataFrame(self.start_data)\n",
    "        df_stop = pd.DataFrame(self.stop_data)\n",
    "        df = pd.merge(df_start, df_stop, how='left', \n",
    "                      on = ['Username', 'Scenario', 'Task', 'TaskId'])\n",
    "        df['Duration'] = df['FinishMark'] - df['StartMark']\n",
    "        return df\n"
   ]
  },
  {
   "cell_type": "code",
   "execution_count": 386,
   "metadata": {},
   "outputs": [],
   "source": [
    "# wake up every tick and collect\n",
    "class UsersGenerator:\n",
    "    def __init__(self, world, max_nb_users=10):\n",
    "        self._world = world\n",
    "        self._max_nb_users = max_nb_users\n",
    "        mainLogger.info(\"creating user generator for %s users\", self._max_nb_users)\n",
    "        self.data = []\n",
    "        self.active_users = []\n",
    "        self.user_count = 0\n",
    "        # this will be used as a process\n",
    "        self.action = world.env.process(self.run())\n",
    "        # new - randomize order\n",
    "        random.shuffle(self._world.scenarios)\n",
    "\n",
    "    def run(self):\n",
    "        while True:\n",
    "\n",
    "            if self.user_count < self._max_nb_users:\n",
    "                self.create_user()\n",
    "        \n",
    "            self.report()\n",
    "\n",
    "            tick_duration = 1\n",
    "            yield self._world.env.timeout(tick_duration)\n",
    "\n",
    "    def create_user(self):\n",
    "\n",
    "        # new - replaced method\n",
    "        #scenario = random.choice(self._world.scenarios)\n",
    "        # never run rare scenarios\n",
    "        \n",
    "        # count start at base 0\n",
    "        i_scenario = self.user_count % len(scenarios)\n",
    "        scenario = self._world.scenarios[i_scenario]\n",
    "\n",
    "        # first user is labelled -001\n",
    "        self.user_count += 1\n",
    "        user = User(self.user_count, \n",
    "                    scenario,\n",
    "                    self._world)\n",
    "        self.active_users.append(user)\n",
    "        mark = self._world.env.now\n",
    "        mainLogger.debug(f\"{len(self.active_users)} active users at %d\" % mark)\n",
    "        \n",
    "    def report(self):\n",
    "        mark = self._world.env.now\n",
    "        active_users_count = len(self.active_users)\n",
    "\n",
    "        self.data.append(\n",
    "            dict(  \n",
    "                Mark=mark,\n",
    "                Timestamp=self._world.clock.to_date(mark),\n",
    "                Metric=Metric.AU.value,\n",
    "                Value=active_users_count\n",
    "            )\n",
    "        )       \n",
    "        \n",
    "    \n",
    "    def collect(self):\n",
    "        return pd.DataFrame(self.data)\n"
   ]
  },
  {
   "cell_type": "code",
   "execution_count": 387,
   "metadata": {},
   "outputs": [],
   "source": [
    "class Job:\n",
    "    def __init__(self, res, items=1):\n",
    "        self.res = res\n",
    "        self.items = items\n",
    "        mainLogger.debug(f\"creating job with amount {self.items}\")\n",
    "        \n",
    "    def __enter__(self):\n",
    "        mainLogger.debug(\"__enter__\" )\n",
    "        return self.res.get(self.items).__enter__()\n",
    "\n",
    "    def __exit__(self, exc_type, exc_val, exc_tb):\n",
    "        mainLogger.debug(\"__exit__\" )\n",
    "        mainLogger.debug(\"exc_type {exc_type} exc_val {exc_val} exc_tb {exc_tb}\" )\n",
    "        self.res.put(self.items).__exit__(exc_type, exc_val, exc_tb)\n"
   ]
  },
  {
   "cell_type": "code",
   "execution_count": 388,
   "metadata": {},
   "outputs": [],
   "source": [
    "class SystemResource(simpy.resources.container.Container):\n",
    "    def __init__(self, *args, **kwargs):\n",
    "        super().__init__(*args, **kwargs)\n",
    "        mainLogger.info(f\"create resource with capacity {self.capacity}\")\n",
    "        self.processing_data = []\n",
    "        self.waiting_data = []\n",
    "        mainLogger.info(f\"initial level {self.level}\")\n",
    "\n",
    "    def get(self, *args, **kwargs):\n",
    "        amount = args[0]\n",
    "        mainLogger.debug(f\"received request resource - amount {amount} at %d\" % self._env.now)\n",
    "        mainLogger.debug(f\"level (available) {self.level} at %d\" % self._env.now)\n",
    "        mainLogger.debug(f\"{len(self.get_queue)} waiting at %d\" % self._env.now)\n",
    "        mainLogger.debug(f\"{self.used()} processing at %d\" % self._env.now)\n",
    "        self.processing_data.append((self._env.now, self.used()))\n",
    "        self.waiting_data.append((self._env.now, len(self.get_queue)))\n",
    "        return super().get(*args, **kwargs)\n",
    "\n",
    "    def put(self, *args, **kwargs):\n",
    "        amount = args[0]\n",
    "        mainLogger.debug(f\"received release resource - amount {amount} at %d\" % self._env.now)\n",
    "        mainLogger.debug(f\"level (available) {self.level} at %d\" % self._env.now)\n",
    "        mainLogger.debug(f\"{len(self.get_queue)} waiting at %d\" % self._env.now)\n",
    "        mainLogger.debug(f\"{self.used()} processing at %d\" % self._env.now)\n",
    "        self.processing_data.append((self._env.now, self.used()))\n",
    "        self.waiting_data.append((self._env.now, len(self.get_queue)))\n",
    "        return super().put(*args, **kwargs)\n",
    "\n",
    "    def used(self):\n",
    "        return self.capacity - self.level"
   ]
  },
  {
   "cell_type": "code",
   "execution_count": 389,
   "metadata": {},
   "outputs": [],
   "source": [
    "class SystemResource_old(simpy.Resource):\n",
    "    def __init__(self, *args, **kwargs):\n",
    "        super().__init__(*args, **kwargs)\n",
    "        mainLogger.info(f\"create resource with capacity {self.capacity}\")\n",
    "\n",
    "    def request(self, *args, **kwargs):\n",
    "        mainLogger.debug(\"request resource at %d\" % self._env.now)\n",
    "        return super().request(*args, **kwargs)\n",
    "\n",
    "    def release(self, *args, **kwargs):\n",
    "        mainLogger.debug(\"release resource at %d\" % self._env.now)\n",
    "        return super().release(*args, **kwargs)\n"
   ]
  },
  {
   "cell_type": "code",
   "execution_count": 390,
   "metadata": {},
   "outputs": [],
   "source": [
    "# wake up every tick and collect\n",
    "class SystemMonitoringAgent:\n",
    "    def __init__(self, world):\n",
    "        self._world = world\n",
    "        mainLogger.info(\"creating agent\")\n",
    "        self.data = []\n",
    "        # this will be used as a process\n",
    "        self.action = world.env.process(self.run())\n",
    "\n",
    "    def run(self):\n",
    "        while True:\n",
    "\n",
    "            mark = self._world.env.now\n",
    "            #occupied_slots = self._world.res.count\n",
    "            occupied_slots = self._world.res.used()\n",
    "            #requests_waiting = len(self._world.res.queue)\n",
    "            requests_waiting = len(self._world.res.get_queue)\n",
    "            \n",
    "            #new\n",
    "            mainLogger.debug(f\"level {self._world.res.level} at %d\" % mark)\n",
    "            mainLogger.debug(f\"{occupied_slots} occupied slots at %d\" % mark)\n",
    "            mainLogger.debug(f\"{requests_waiting} requests waiting at %d\" % mark)\n",
    "\n",
    "            self.data.append(\n",
    "                dict(  \n",
    "                    Mark=mark,\n",
    "                    Timestamp=self._world.clock.to_date(mark),\n",
    "                    Metric=Metric.BS.value,\n",
    "                    Value=occupied_slots\n",
    "                )\n",
    "            )       \n",
    "            self.data.append(\n",
    "                dict(  \n",
    "                    Mark=mark,\n",
    "                    Timestamp=self._world.clock.to_date(mark),\n",
    "                    Metric=Metric.RW.value,\n",
    "                    Value=requests_waiting\n",
    "                )\n",
    "            ) \n",
    "            \n",
    "            tick_duration = 1\n",
    "            yield self._world.env.timeout(tick_duration)\n",
    "\n",
    "        \n",
    "                \n",
    "    def collect(self):\n",
    "        return pd.DataFrame(self.data)\n"
   ]
  },
  {
   "cell_type": "code",
   "execution_count": 391,
   "metadata": {},
   "outputs": [],
   "source": [
    "class World:\n",
    "    \n",
    "    def __init__(self, scenarios, nb_users=20, resource_capacity=5):\n",
    "        mainLogger.info(f\"creating simulation\")\n",
    "        self.scenarios = scenarios\n",
    "        self.env = simpy.Environment()\n",
    "        self.clock = Clock()\n",
    "        self.res = SystemResource(self.env, \n",
    "                                  init=resource_capacity, #new\n",
    "                                  capacity=resource_capacity)\n",
    "        self.user_monitor = UsersMonitor(self)\n",
    "        self.user_gen = UsersGenerator(self, max_nb_users=nb_users)\n",
    "        self.res_agent = SystemMonitoringAgent(self)\n",
    "\n",
    "    def start(self, sim_duration = 20):\n",
    "        mainLogger.info(f\"starting simulation\")\n",
    "        self.env.run(until=sim_duration)"
   ]
  },
  {
   "cell_type": "markdown",
   "metadata": {},
   "source": [
    "## Configuration"
   ]
  },
  {
   "cell_type": "code",
   "execution_count": 392,
   "metadata": {},
   "outputs": [],
   "source": [
    "mainLogger.setLevel(logging.INFO)\n",
    "#mainLogger.setLevel(logging.DEBUG)\n",
    "        \n",
    "scenarios = []\n",
    "scenarios.extend(repeat(Scenario1(), 8))\n",
    "scenarios.extend(repeat(Scenario2(), 20))\n",
    "scenarios.extend(repeat(Scenario3(), 2))\n",
    "\n",
    "world = World(scenarios, # new\n",
    "              nb_users = 60,\n",
    "              resource_capacity = 80 ) # 240 half a cluster\n",
    "\n",
    "# debug\n",
    "#world = World(scenarios, nb_users = 1, resource_capacity = 5 )\n"
   ]
  },
  {
   "cell_type": "code",
   "execution_count": 393,
   "metadata": {},
   "outputs": [],
   "source": [
    "world.start(sim_duration = 180) # 1 = 1mn\n",
    "# debug\n",
    "#world.start(sim_duration = 20)"
   ]
  },
  {
   "cell_type": "markdown",
   "metadata": {},
   "source": [
    "# Time Series"
   ]
  },
  {
   "cell_type": "code",
   "execution_count": 394,
   "metadata": {},
   "outputs": [
    {
     "data": {
      "text/html": [
       "<div>\n",
       "<style scoped>\n",
       "    .dataframe tbody tr th:only-of-type {\n",
       "        vertical-align: middle;\n",
       "    }\n",
       "\n",
       "    .dataframe tbody tr th {\n",
       "        vertical-align: top;\n",
       "    }\n",
       "\n",
       "    .dataframe thead th {\n",
       "        text-align: right;\n",
       "    }\n",
       "</style>\n",
       "<table border=\"1\" class=\"dataframe\">\n",
       "  <thead>\n",
       "    <tr style=\"text-align: right;\">\n",
       "      <th></th>\n",
       "      <th>Mark</th>\n",
       "      <th>Metric</th>\n",
       "      <th>Timestamp</th>\n",
       "      <th>Value</th>\n",
       "    </tr>\n",
       "  </thead>\n",
       "  <tbody>\n",
       "    <tr>\n",
       "      <th>0</th>\n",
       "      <td>0</td>\n",
       "      <td>Busy Slots</td>\n",
       "      <td>2021-09-12 12:32:58.604829</td>\n",
       "      <td>0</td>\n",
       "    </tr>\n",
       "    <tr>\n",
       "      <th>1</th>\n",
       "      <td>0</td>\n",
       "      <td>Requests Waiting</td>\n",
       "      <td>2021-09-12 12:32:58.604829</td>\n",
       "      <td>0</td>\n",
       "    </tr>\n",
       "    <tr>\n",
       "      <th>2</th>\n",
       "      <td>1</td>\n",
       "      <td>Busy Slots</td>\n",
       "      <td>2021-09-12 12:33:58.604829</td>\n",
       "      <td>10</td>\n",
       "    </tr>\n",
       "    <tr>\n",
       "      <th>3</th>\n",
       "      <td>1</td>\n",
       "      <td>Requests Waiting</td>\n",
       "      <td>2021-09-12 12:33:58.604829</td>\n",
       "      <td>0</td>\n",
       "    </tr>\n",
       "    <tr>\n",
       "      <th>4</th>\n",
       "      <td>2</td>\n",
       "      <td>Busy Slots</td>\n",
       "      <td>2021-09-12 12:34:58.604829</td>\n",
       "      <td>10</td>\n",
       "    </tr>\n",
       "    <tr>\n",
       "      <th>5</th>\n",
       "      <td>2</td>\n",
       "      <td>Requests Waiting</td>\n",
       "      <td>2021-09-12 12:34:58.604829</td>\n",
       "      <td>0</td>\n",
       "    </tr>\n",
       "    <tr>\n",
       "      <th>6</th>\n",
       "      <td>3</td>\n",
       "      <td>Busy Slots</td>\n",
       "      <td>2021-09-12 12:35:58.604829</td>\n",
       "      <td>10</td>\n",
       "    </tr>\n",
       "    <tr>\n",
       "      <th>7</th>\n",
       "      <td>3</td>\n",
       "      <td>Requests Waiting</td>\n",
       "      <td>2021-09-12 12:35:58.604829</td>\n",
       "      <td>0</td>\n",
       "    </tr>\n",
       "    <tr>\n",
       "      <th>8</th>\n",
       "      <td>4</td>\n",
       "      <td>Busy Slots</td>\n",
       "      <td>2021-09-12 12:36:58.604829</td>\n",
       "      <td>10</td>\n",
       "    </tr>\n",
       "    <tr>\n",
       "      <th>9</th>\n",
       "      <td>4</td>\n",
       "      <td>Requests Waiting</td>\n",
       "      <td>2021-09-12 12:36:58.604829</td>\n",
       "      <td>0</td>\n",
       "    </tr>\n",
       "    <tr>\n",
       "      <th>10</th>\n",
       "      <td>5</td>\n",
       "      <td>Busy Slots</td>\n",
       "      <td>2021-09-12 12:37:58.604829</td>\n",
       "      <td>20</td>\n",
       "    </tr>\n",
       "    <tr>\n",
       "      <th>11</th>\n",
       "      <td>5</td>\n",
       "      <td>Requests Waiting</td>\n",
       "      <td>2021-09-12 12:37:58.604829</td>\n",
       "      <td>0</td>\n",
       "    </tr>\n",
       "    <tr>\n",
       "      <th>12</th>\n",
       "      <td>6</td>\n",
       "      <td>Busy Slots</td>\n",
       "      <td>2021-09-12 12:38:58.604829</td>\n",
       "      <td>30</td>\n",
       "    </tr>\n",
       "    <tr>\n",
       "      <th>13</th>\n",
       "      <td>6</td>\n",
       "      <td>Requests Waiting</td>\n",
       "      <td>2021-09-12 12:38:58.604829</td>\n",
       "      <td>0</td>\n",
       "    </tr>\n",
       "    <tr>\n",
       "      <th>14</th>\n",
       "      <td>7</td>\n",
       "      <td>Busy Slots</td>\n",
       "      <td>2021-09-12 12:39:58.604829</td>\n",
       "      <td>35</td>\n",
       "    </tr>\n",
       "    <tr>\n",
       "      <th>15</th>\n",
       "      <td>7</td>\n",
       "      <td>Requests Waiting</td>\n",
       "      <td>2021-09-12 12:39:58.604829</td>\n",
       "      <td>0</td>\n",
       "    </tr>\n",
       "    <tr>\n",
       "      <th>16</th>\n",
       "      <td>8</td>\n",
       "      <td>Busy Slots</td>\n",
       "      <td>2021-09-12 12:40:58.604829</td>\n",
       "      <td>40</td>\n",
       "    </tr>\n",
       "    <tr>\n",
       "      <th>17</th>\n",
       "      <td>8</td>\n",
       "      <td>Requests Waiting</td>\n",
       "      <td>2021-09-12 12:40:58.604829</td>\n",
       "      <td>0</td>\n",
       "    </tr>\n",
       "    <tr>\n",
       "      <th>18</th>\n",
       "      <td>9</td>\n",
       "      <td>Busy Slots</td>\n",
       "      <td>2021-09-12 12:41:58.604829</td>\n",
       "      <td>50</td>\n",
       "    </tr>\n",
       "    <tr>\n",
       "      <th>19</th>\n",
       "      <td>9</td>\n",
       "      <td>Requests Waiting</td>\n",
       "      <td>2021-09-12 12:41:58.604829</td>\n",
       "      <td>0</td>\n",
       "    </tr>\n",
       "    <tr>\n",
       "      <th>20</th>\n",
       "      <td>10</td>\n",
       "      <td>Busy Slots</td>\n",
       "      <td>2021-09-12 12:42:58.604829</td>\n",
       "      <td>35</td>\n",
       "    </tr>\n",
       "    <tr>\n",
       "      <th>21</th>\n",
       "      <td>10</td>\n",
       "      <td>Requests Waiting</td>\n",
       "      <td>2021-09-12 12:42:58.604829</td>\n",
       "      <td>0</td>\n",
       "    </tr>\n",
       "    <tr>\n",
       "      <th>22</th>\n",
       "      <td>11</td>\n",
       "      <td>Busy Slots</td>\n",
       "      <td>2021-09-12 12:43:58.604829</td>\n",
       "      <td>30</td>\n",
       "    </tr>\n",
       "    <tr>\n",
       "      <th>23</th>\n",
       "      <td>11</td>\n",
       "      <td>Requests Waiting</td>\n",
       "      <td>2021-09-12 12:43:58.604829</td>\n",
       "      <td>0</td>\n",
       "    </tr>\n",
       "    <tr>\n",
       "      <th>24</th>\n",
       "      <td>12</td>\n",
       "      <td>Busy Slots</td>\n",
       "      <td>2021-09-12 12:44:58.604829</td>\n",
       "      <td>80</td>\n",
       "    </tr>\n",
       "    <tr>\n",
       "      <th>25</th>\n",
       "      <td>12</td>\n",
       "      <td>Requests Waiting</td>\n",
       "      <td>2021-09-12 12:44:58.604829</td>\n",
       "      <td>0</td>\n",
       "    </tr>\n",
       "    <tr>\n",
       "      <th>26</th>\n",
       "      <td>13</td>\n",
       "      <td>Busy Slots</td>\n",
       "      <td>2021-09-12 12:45:58.604829</td>\n",
       "      <td>80</td>\n",
       "    </tr>\n",
       "    <tr>\n",
       "      <th>27</th>\n",
       "      <td>13</td>\n",
       "      <td>Requests Waiting</td>\n",
       "      <td>2021-09-12 12:45:58.604829</td>\n",
       "      <td>4</td>\n",
       "    </tr>\n",
       "    <tr>\n",
       "      <th>28</th>\n",
       "      <td>14</td>\n",
       "      <td>Busy Slots</td>\n",
       "      <td>2021-09-12 12:46:58.604829</td>\n",
       "      <td>75</td>\n",
       "    </tr>\n",
       "    <tr>\n",
       "      <th>29</th>\n",
       "      <td>14</td>\n",
       "      <td>Requests Waiting</td>\n",
       "      <td>2021-09-12 12:46:58.604829</td>\n",
       "      <td>4</td>\n",
       "    </tr>\n",
       "    <tr>\n",
       "      <th>...</th>\n",
       "      <td>...</td>\n",
       "      <td>...</td>\n",
       "      <td>...</td>\n",
       "      <td>...</td>\n",
       "    </tr>\n",
       "    <tr>\n",
       "      <th>330</th>\n",
       "      <td>165</td>\n",
       "      <td>Busy Slots</td>\n",
       "      <td>2021-09-12 15:17:58.604829</td>\n",
       "      <td>40</td>\n",
       "    </tr>\n",
       "    <tr>\n",
       "      <th>331</th>\n",
       "      <td>165</td>\n",
       "      <td>Requests Waiting</td>\n",
       "      <td>2021-09-12 15:17:58.604829</td>\n",
       "      <td>55</td>\n",
       "    </tr>\n",
       "    <tr>\n",
       "      <th>332</th>\n",
       "      <td>166</td>\n",
       "      <td>Busy Slots</td>\n",
       "      <td>2021-09-12 15:18:58.604829</td>\n",
       "      <td>80</td>\n",
       "    </tr>\n",
       "    <tr>\n",
       "      <th>333</th>\n",
       "      <td>166</td>\n",
       "      <td>Requests Waiting</td>\n",
       "      <td>2021-09-12 15:18:58.604829</td>\n",
       "      <td>54</td>\n",
       "    </tr>\n",
       "    <tr>\n",
       "      <th>334</th>\n",
       "      <td>167</td>\n",
       "      <td>Busy Slots</td>\n",
       "      <td>2021-09-12 15:19:58.604829</td>\n",
       "      <td>40</td>\n",
       "    </tr>\n",
       "    <tr>\n",
       "      <th>335</th>\n",
       "      <td>167</td>\n",
       "      <td>Requests Waiting</td>\n",
       "      <td>2021-09-12 15:19:58.604829</td>\n",
       "      <td>54</td>\n",
       "    </tr>\n",
       "    <tr>\n",
       "      <th>336</th>\n",
       "      <td>168</td>\n",
       "      <td>Busy Slots</td>\n",
       "      <td>2021-09-12 15:20:58.604829</td>\n",
       "      <td>80</td>\n",
       "    </tr>\n",
       "    <tr>\n",
       "      <th>337</th>\n",
       "      <td>168</td>\n",
       "      <td>Requests Waiting</td>\n",
       "      <td>2021-09-12 15:20:58.604829</td>\n",
       "      <td>52</td>\n",
       "    </tr>\n",
       "    <tr>\n",
       "      <th>338</th>\n",
       "      <td>169</td>\n",
       "      <td>Busy Slots</td>\n",
       "      <td>2021-09-12 15:21:58.604829</td>\n",
       "      <td>80</td>\n",
       "    </tr>\n",
       "    <tr>\n",
       "      <th>339</th>\n",
       "      <td>169</td>\n",
       "      <td>Requests Waiting</td>\n",
       "      <td>2021-09-12 15:21:58.604829</td>\n",
       "      <td>53</td>\n",
       "    </tr>\n",
       "    <tr>\n",
       "      <th>340</th>\n",
       "      <td>170</td>\n",
       "      <td>Busy Slots</td>\n",
       "      <td>2021-09-12 15:22:58.604829</td>\n",
       "      <td>60</td>\n",
       "    </tr>\n",
       "    <tr>\n",
       "      <th>341</th>\n",
       "      <td>170</td>\n",
       "      <td>Requests Waiting</td>\n",
       "      <td>2021-09-12 15:22:58.604829</td>\n",
       "      <td>53</td>\n",
       "    </tr>\n",
       "    <tr>\n",
       "      <th>342</th>\n",
       "      <td>171</td>\n",
       "      <td>Busy Slots</td>\n",
       "      <td>2021-09-12 15:23:58.604829</td>\n",
       "      <td>80</td>\n",
       "    </tr>\n",
       "    <tr>\n",
       "      <th>343</th>\n",
       "      <td>171</td>\n",
       "      <td>Requests Waiting</td>\n",
       "      <td>2021-09-12 15:23:58.604829</td>\n",
       "      <td>49</td>\n",
       "    </tr>\n",
       "    <tr>\n",
       "      <th>344</th>\n",
       "      <td>172</td>\n",
       "      <td>Busy Slots</td>\n",
       "      <td>2021-09-12 15:24:58.604829</td>\n",
       "      <td>55</td>\n",
       "    </tr>\n",
       "    <tr>\n",
       "      <th>345</th>\n",
       "      <td>172</td>\n",
       "      <td>Requests Waiting</td>\n",
       "      <td>2021-09-12 15:24:58.604829</td>\n",
       "      <td>53</td>\n",
       "    </tr>\n",
       "    <tr>\n",
       "      <th>346</th>\n",
       "      <td>173</td>\n",
       "      <td>Busy Slots</td>\n",
       "      <td>2021-09-12 15:25:58.604829</td>\n",
       "      <td>25</td>\n",
       "    </tr>\n",
       "    <tr>\n",
       "      <th>347</th>\n",
       "      <td>173</td>\n",
       "      <td>Requests Waiting</td>\n",
       "      <td>2021-09-12 15:25:58.604829</td>\n",
       "      <td>48</td>\n",
       "    </tr>\n",
       "    <tr>\n",
       "      <th>348</th>\n",
       "      <td>174</td>\n",
       "      <td>Busy Slots</td>\n",
       "      <td>2021-09-12 15:26:58.604829</td>\n",
       "      <td>60</td>\n",
       "    </tr>\n",
       "    <tr>\n",
       "      <th>349</th>\n",
       "      <td>174</td>\n",
       "      <td>Requests Waiting</td>\n",
       "      <td>2021-09-12 15:26:58.604829</td>\n",
       "      <td>42</td>\n",
       "    </tr>\n",
       "    <tr>\n",
       "      <th>350</th>\n",
       "      <td>175</td>\n",
       "      <td>Busy Slots</td>\n",
       "      <td>2021-09-12 15:27:58.604829</td>\n",
       "      <td>65</td>\n",
       "    </tr>\n",
       "    <tr>\n",
       "      <th>351</th>\n",
       "      <td>175</td>\n",
       "      <td>Requests Waiting</td>\n",
       "      <td>2021-09-12 15:27:58.604829</td>\n",
       "      <td>45</td>\n",
       "    </tr>\n",
       "    <tr>\n",
       "      <th>352</th>\n",
       "      <td>176</td>\n",
       "      <td>Busy Slots</td>\n",
       "      <td>2021-09-12 15:28:58.604829</td>\n",
       "      <td>65</td>\n",
       "    </tr>\n",
       "    <tr>\n",
       "      <th>353</th>\n",
       "      <td>176</td>\n",
       "      <td>Requests Waiting</td>\n",
       "      <td>2021-09-12 15:28:58.604829</td>\n",
       "      <td>43</td>\n",
       "    </tr>\n",
       "    <tr>\n",
       "      <th>354</th>\n",
       "      <td>177</td>\n",
       "      <td>Busy Slots</td>\n",
       "      <td>2021-09-12 15:29:58.604829</td>\n",
       "      <td>80</td>\n",
       "    </tr>\n",
       "    <tr>\n",
       "      <th>355</th>\n",
       "      <td>177</td>\n",
       "      <td>Requests Waiting</td>\n",
       "      <td>2021-09-12 15:29:58.604829</td>\n",
       "      <td>45</td>\n",
       "    </tr>\n",
       "    <tr>\n",
       "      <th>356</th>\n",
       "      <td>178</td>\n",
       "      <td>Busy Slots</td>\n",
       "      <td>2021-09-12 15:30:58.604829</td>\n",
       "      <td>35</td>\n",
       "    </tr>\n",
       "    <tr>\n",
       "      <th>357</th>\n",
       "      <td>178</td>\n",
       "      <td>Requests Waiting</td>\n",
       "      <td>2021-09-12 15:30:58.604829</td>\n",
       "      <td>50</td>\n",
       "    </tr>\n",
       "    <tr>\n",
       "      <th>358</th>\n",
       "      <td>179</td>\n",
       "      <td>Busy Slots</td>\n",
       "      <td>2021-09-12 15:31:58.604829</td>\n",
       "      <td>55</td>\n",
       "    </tr>\n",
       "    <tr>\n",
       "      <th>359</th>\n",
       "      <td>179</td>\n",
       "      <td>Requests Waiting</td>\n",
       "      <td>2021-09-12 15:31:58.604829</td>\n",
       "      <td>44</td>\n",
       "    </tr>\n",
       "  </tbody>\n",
       "</table>\n",
       "<p>360 rows × 4 columns</p>\n",
       "</div>"
      ],
      "text/plain": [
       "     Mark            Metric                  Timestamp  Value\n",
       "0       0        Busy Slots 2021-09-12 12:32:58.604829      0\n",
       "1       0  Requests Waiting 2021-09-12 12:32:58.604829      0\n",
       "2       1        Busy Slots 2021-09-12 12:33:58.604829     10\n",
       "3       1  Requests Waiting 2021-09-12 12:33:58.604829      0\n",
       "4       2        Busy Slots 2021-09-12 12:34:58.604829     10\n",
       "5       2  Requests Waiting 2021-09-12 12:34:58.604829      0\n",
       "6       3        Busy Slots 2021-09-12 12:35:58.604829     10\n",
       "7       3  Requests Waiting 2021-09-12 12:35:58.604829      0\n",
       "8       4        Busy Slots 2021-09-12 12:36:58.604829     10\n",
       "9       4  Requests Waiting 2021-09-12 12:36:58.604829      0\n",
       "10      5        Busy Slots 2021-09-12 12:37:58.604829     20\n",
       "11      5  Requests Waiting 2021-09-12 12:37:58.604829      0\n",
       "12      6        Busy Slots 2021-09-12 12:38:58.604829     30\n",
       "13      6  Requests Waiting 2021-09-12 12:38:58.604829      0\n",
       "14      7        Busy Slots 2021-09-12 12:39:58.604829     35\n",
       "15      7  Requests Waiting 2021-09-12 12:39:58.604829      0\n",
       "16      8        Busy Slots 2021-09-12 12:40:58.604829     40\n",
       "17      8  Requests Waiting 2021-09-12 12:40:58.604829      0\n",
       "18      9        Busy Slots 2021-09-12 12:41:58.604829     50\n",
       "19      9  Requests Waiting 2021-09-12 12:41:58.604829      0\n",
       "20     10        Busy Slots 2021-09-12 12:42:58.604829     35\n",
       "21     10  Requests Waiting 2021-09-12 12:42:58.604829      0\n",
       "22     11        Busy Slots 2021-09-12 12:43:58.604829     30\n",
       "23     11  Requests Waiting 2021-09-12 12:43:58.604829      0\n",
       "24     12        Busy Slots 2021-09-12 12:44:58.604829     80\n",
       "25     12  Requests Waiting 2021-09-12 12:44:58.604829      0\n",
       "26     13        Busy Slots 2021-09-12 12:45:58.604829     80\n",
       "27     13  Requests Waiting 2021-09-12 12:45:58.604829      4\n",
       "28     14        Busy Slots 2021-09-12 12:46:58.604829     75\n",
       "29     14  Requests Waiting 2021-09-12 12:46:58.604829      4\n",
       "..    ...               ...                        ...    ...\n",
       "330   165        Busy Slots 2021-09-12 15:17:58.604829     40\n",
       "331   165  Requests Waiting 2021-09-12 15:17:58.604829     55\n",
       "332   166        Busy Slots 2021-09-12 15:18:58.604829     80\n",
       "333   166  Requests Waiting 2021-09-12 15:18:58.604829     54\n",
       "334   167        Busy Slots 2021-09-12 15:19:58.604829     40\n",
       "335   167  Requests Waiting 2021-09-12 15:19:58.604829     54\n",
       "336   168        Busy Slots 2021-09-12 15:20:58.604829     80\n",
       "337   168  Requests Waiting 2021-09-12 15:20:58.604829     52\n",
       "338   169        Busy Slots 2021-09-12 15:21:58.604829     80\n",
       "339   169  Requests Waiting 2021-09-12 15:21:58.604829     53\n",
       "340   170        Busy Slots 2021-09-12 15:22:58.604829     60\n",
       "341   170  Requests Waiting 2021-09-12 15:22:58.604829     53\n",
       "342   171        Busy Slots 2021-09-12 15:23:58.604829     80\n",
       "343   171  Requests Waiting 2021-09-12 15:23:58.604829     49\n",
       "344   172        Busy Slots 2021-09-12 15:24:58.604829     55\n",
       "345   172  Requests Waiting 2021-09-12 15:24:58.604829     53\n",
       "346   173        Busy Slots 2021-09-12 15:25:58.604829     25\n",
       "347   173  Requests Waiting 2021-09-12 15:25:58.604829     48\n",
       "348   174        Busy Slots 2021-09-12 15:26:58.604829     60\n",
       "349   174  Requests Waiting 2021-09-12 15:26:58.604829     42\n",
       "350   175        Busy Slots 2021-09-12 15:27:58.604829     65\n",
       "351   175  Requests Waiting 2021-09-12 15:27:58.604829     45\n",
       "352   176        Busy Slots 2021-09-12 15:28:58.604829     65\n",
       "353   176  Requests Waiting 2021-09-12 15:28:58.604829     43\n",
       "354   177        Busy Slots 2021-09-12 15:29:58.604829     80\n",
       "355   177  Requests Waiting 2021-09-12 15:29:58.604829     45\n",
       "356   178        Busy Slots 2021-09-12 15:30:58.604829     35\n",
       "357   178  Requests Waiting 2021-09-12 15:30:58.604829     50\n",
       "358   179        Busy Slots 2021-09-12 15:31:58.604829     55\n",
       "359   179  Requests Waiting 2021-09-12 15:31:58.604829     44\n",
       "\n",
       "[360 rows x 4 columns]"
      ]
     },
     "metadata": {},
     "output_type": "display_data"
    }
   ],
   "source": [
    "df_system = world.res_agent.collect()\n",
    "display(df_system)"
   ]
  },
  {
   "cell_type": "markdown",
   "metadata": {},
   "source": [
    "## Occupied slots"
   ]
  },
  {
   "cell_type": "code",
   "execution_count": 395,
   "metadata": {},
   "outputs": [
    {
     "data": {
      "application/vnd.plotly.v1+json": {
       "config": {
        "plotlyServerURL": "https://plot.ly"
       },
       "data": [
        {
         "alignmentgroup": "True",
         "hovertemplate": "Timestamp=%{x}<br>Value=%{y}<extra></extra>",
         "legendgroup": "",
         "marker": {
          "color": "#636efa",
          "pattern": {
           "shape": ""
          }
         },
         "name": "",
         "offsetgroup": "",
         "orientation": "v",
         "showlegend": false,
         "textposition": "auto",
         "type": "bar",
         "x": [
          "2021-09-12T12:32:58.604829",
          "2021-09-12T12:33:58.604829",
          "2021-09-12T12:34:58.604829",
          "2021-09-12T12:35:58.604829",
          "2021-09-12T12:36:58.604829",
          "2021-09-12T12:37:58.604829",
          "2021-09-12T12:38:58.604829",
          "2021-09-12T12:39:58.604829",
          "2021-09-12T12:40:58.604829",
          "2021-09-12T12:41:58.604829",
          "2021-09-12T12:42:58.604829",
          "2021-09-12T12:43:58.604829",
          "2021-09-12T12:44:58.604829",
          "2021-09-12T12:45:58.604829",
          "2021-09-12T12:46:58.604829",
          "2021-09-12T12:47:58.604829",
          "2021-09-12T12:48:58.604829",
          "2021-09-12T12:49:58.604829",
          "2021-09-12T12:50:58.604829",
          "2021-09-12T12:51:58.604829",
          "2021-09-12T12:52:58.604829",
          "2021-09-12T12:53:58.604829",
          "2021-09-12T12:54:58.604829",
          "2021-09-12T12:55:58.604829",
          "2021-09-12T12:56:58.604829",
          "2021-09-12T12:57:58.604829",
          "2021-09-12T12:58:58.604829",
          "2021-09-12T12:59:58.604829",
          "2021-09-12T13:00:58.604829",
          "2021-09-12T13:01:58.604829",
          "2021-09-12T13:02:58.604829",
          "2021-09-12T13:03:58.604829",
          "2021-09-12T13:04:58.604829",
          "2021-09-12T13:05:58.604829",
          "2021-09-12T13:06:58.604829",
          "2021-09-12T13:07:58.604829",
          "2021-09-12T13:08:58.604829",
          "2021-09-12T13:09:58.604829",
          "2021-09-12T13:10:58.604829",
          "2021-09-12T13:11:58.604829",
          "2021-09-12T13:12:58.604829",
          "2021-09-12T13:13:58.604829",
          "2021-09-12T13:14:58.604829",
          "2021-09-12T13:15:58.604829",
          "2021-09-12T13:16:58.604829",
          "2021-09-12T13:17:58.604829",
          "2021-09-12T13:18:58.604829",
          "2021-09-12T13:19:58.604829",
          "2021-09-12T13:20:58.604829",
          "2021-09-12T13:21:58.604829",
          "2021-09-12T13:22:58.604829",
          "2021-09-12T13:23:58.604829",
          "2021-09-12T13:24:58.604829",
          "2021-09-12T13:25:58.604829",
          "2021-09-12T13:26:58.604829",
          "2021-09-12T13:27:58.604829",
          "2021-09-12T13:28:58.604829",
          "2021-09-12T13:29:58.604829",
          "2021-09-12T13:30:58.604829",
          "2021-09-12T13:31:58.604829",
          "2021-09-12T13:32:58.604829",
          "2021-09-12T13:33:58.604829",
          "2021-09-12T13:34:58.604829",
          "2021-09-12T13:35:58.604829",
          "2021-09-12T13:36:58.604829",
          "2021-09-12T13:37:58.604829",
          "2021-09-12T13:38:58.604829",
          "2021-09-12T13:39:58.604829",
          "2021-09-12T13:40:58.604829",
          "2021-09-12T13:41:58.604829",
          "2021-09-12T13:42:58.604829",
          "2021-09-12T13:43:58.604829",
          "2021-09-12T13:44:58.604829",
          "2021-09-12T13:45:58.604829",
          "2021-09-12T13:46:58.604829",
          "2021-09-12T13:47:58.604829",
          "2021-09-12T13:48:58.604829",
          "2021-09-12T13:49:58.604829",
          "2021-09-12T13:50:58.604829",
          "2021-09-12T13:51:58.604829",
          "2021-09-12T13:52:58.604829",
          "2021-09-12T13:53:58.604829",
          "2021-09-12T13:54:58.604829",
          "2021-09-12T13:55:58.604829",
          "2021-09-12T13:56:58.604829",
          "2021-09-12T13:57:58.604829",
          "2021-09-12T13:58:58.604829",
          "2021-09-12T13:59:58.604829",
          "2021-09-12T14:00:58.604829",
          "2021-09-12T14:01:58.604829",
          "2021-09-12T14:02:58.604829",
          "2021-09-12T14:03:58.604829",
          "2021-09-12T14:04:58.604829",
          "2021-09-12T14:05:58.604829",
          "2021-09-12T14:06:58.604829",
          "2021-09-12T14:07:58.604829",
          "2021-09-12T14:08:58.604829",
          "2021-09-12T14:09:58.604829",
          "2021-09-12T14:10:58.604829",
          "2021-09-12T14:11:58.604829",
          "2021-09-12T14:12:58.604829",
          "2021-09-12T14:13:58.604829",
          "2021-09-12T14:14:58.604829",
          "2021-09-12T14:15:58.604829",
          "2021-09-12T14:16:58.604829",
          "2021-09-12T14:17:58.604829",
          "2021-09-12T14:18:58.604829",
          "2021-09-12T14:19:58.604829",
          "2021-09-12T14:20:58.604829",
          "2021-09-12T14:21:58.604829",
          "2021-09-12T14:22:58.604829",
          "2021-09-12T14:23:58.604829",
          "2021-09-12T14:24:58.604829",
          "2021-09-12T14:25:58.604829",
          "2021-09-12T14:26:58.604829",
          "2021-09-12T14:27:58.604829",
          "2021-09-12T14:28:58.604829",
          "2021-09-12T14:29:58.604829",
          "2021-09-12T14:30:58.604829",
          "2021-09-12T14:31:58.604829",
          "2021-09-12T14:32:58.604829",
          "2021-09-12T14:33:58.604829",
          "2021-09-12T14:34:58.604829",
          "2021-09-12T14:35:58.604829",
          "2021-09-12T14:36:58.604829",
          "2021-09-12T14:37:58.604829",
          "2021-09-12T14:38:58.604829",
          "2021-09-12T14:39:58.604829",
          "2021-09-12T14:40:58.604829",
          "2021-09-12T14:41:58.604829",
          "2021-09-12T14:42:58.604829",
          "2021-09-12T14:43:58.604829",
          "2021-09-12T14:44:58.604829",
          "2021-09-12T14:45:58.604829",
          "2021-09-12T14:46:58.604829",
          "2021-09-12T14:47:58.604829",
          "2021-09-12T14:48:58.604829",
          "2021-09-12T14:49:58.604829",
          "2021-09-12T14:50:58.604829",
          "2021-09-12T14:51:58.604829",
          "2021-09-12T14:52:58.604829",
          "2021-09-12T14:53:58.604829",
          "2021-09-12T14:54:58.604829",
          "2021-09-12T14:55:58.604829",
          "2021-09-12T14:56:58.604829",
          "2021-09-12T14:57:58.604829",
          "2021-09-12T14:58:58.604829",
          "2021-09-12T14:59:58.604829",
          "2021-09-12T15:00:58.604829",
          "2021-09-12T15:01:58.604829",
          "2021-09-12T15:02:58.604829",
          "2021-09-12T15:03:58.604829",
          "2021-09-12T15:04:58.604829",
          "2021-09-12T15:05:58.604829",
          "2021-09-12T15:06:58.604829",
          "2021-09-12T15:07:58.604829",
          "2021-09-12T15:08:58.604829",
          "2021-09-12T15:09:58.604829",
          "2021-09-12T15:10:58.604829",
          "2021-09-12T15:11:58.604829",
          "2021-09-12T15:12:58.604829",
          "2021-09-12T15:13:58.604829",
          "2021-09-12T15:14:58.604829",
          "2021-09-12T15:15:58.604829",
          "2021-09-12T15:16:58.604829",
          "2021-09-12T15:17:58.604829",
          "2021-09-12T15:18:58.604829",
          "2021-09-12T15:19:58.604829",
          "2021-09-12T15:20:58.604829",
          "2021-09-12T15:21:58.604829",
          "2021-09-12T15:22:58.604829",
          "2021-09-12T15:23:58.604829",
          "2021-09-12T15:24:58.604829",
          "2021-09-12T15:25:58.604829",
          "2021-09-12T15:26:58.604829",
          "2021-09-12T15:27:58.604829",
          "2021-09-12T15:28:58.604829",
          "2021-09-12T15:29:58.604829",
          "2021-09-12T15:30:58.604829",
          "2021-09-12T15:31:58.604829"
         ],
         "xaxis": "x",
         "y": [
          0,
          10,
          10,
          10,
          10,
          20,
          30,
          35,
          40,
          50,
          35,
          30,
          80,
          80,
          75,
          75,
          80,
          75,
          80,
          80,
          80,
          75,
          80,
          70,
          60,
          80,
          80,
          80,
          80,
          80,
          80,
          80,
          65,
          75,
          75,
          80,
          75,
          80,
          75,
          80,
          80,
          75,
          80,
          80,
          55,
          80,
          75,
          80,
          80,
          80,
          80,
          80,
          80,
          65,
          60,
          80,
          80,
          70,
          80,
          80,
          80,
          80,
          80,
          40,
          80,
          65,
          35,
          80,
          65,
          55,
          65,
          45,
          75,
          65,
          45,
          80,
          75,
          80,
          55,
          50,
          50,
          40,
          80,
          80,
          80,
          70,
          60,
          75,
          60,
          40,
          80,
          80,
          80,
          45,
          40,
          80,
          80,
          40,
          80,
          65,
          75,
          75,
          5,
          75,
          55,
          50,
          65,
          50,
          75,
          65,
          40,
          80,
          80,
          80,
          55,
          55,
          55,
          50,
          10,
          70,
          70,
          80,
          80,
          60,
          60,
          45,
          75,
          75,
          60,
          40,
          80,
          80,
          80,
          80,
          40,
          80,
          80,
          20,
          80,
          40,
          55,
          65,
          60,
          80,
          50,
          60,
          55,
          75,
          80,
          80,
          70,
          80,
          70,
          70,
          70,
          75,
          80,
          65,
          45,
          40,
          80,
          80,
          80,
          40,
          60,
          40,
          80,
          40,
          80,
          80,
          60,
          80,
          55,
          25,
          60,
          65,
          65,
          80,
          35,
          55
         ],
         "yaxis": "y"
        }
       ],
       "layout": {
        "barmode": "relative",
        "legend": {
         "tracegroupgap": 0
        },
        "margin": {
         "t": 60
        },
        "template": {
         "data": {
          "bar": [
           {
            "error_x": {
             "color": "#2a3f5f"
            },
            "error_y": {
             "color": "#2a3f5f"
            },
            "marker": {
             "line": {
              "color": "#E5ECF6",
              "width": 0.5
             },
             "pattern": {
              "fillmode": "overlay",
              "size": 10,
              "solidity": 0.2
             }
            },
            "type": "bar"
           }
          ],
          "barpolar": [
           {
            "marker": {
             "line": {
              "color": "#E5ECF6",
              "width": 0.5
             },
             "pattern": {
              "fillmode": "overlay",
              "size": 10,
              "solidity": 0.2
             }
            },
            "type": "barpolar"
           }
          ],
          "carpet": [
           {
            "aaxis": {
             "endlinecolor": "#2a3f5f",
             "gridcolor": "white",
             "linecolor": "white",
             "minorgridcolor": "white",
             "startlinecolor": "#2a3f5f"
            },
            "baxis": {
             "endlinecolor": "#2a3f5f",
             "gridcolor": "white",
             "linecolor": "white",
             "minorgridcolor": "white",
             "startlinecolor": "#2a3f5f"
            },
            "type": "carpet"
           }
          ],
          "choropleth": [
           {
            "colorbar": {
             "outlinewidth": 0,
             "ticks": ""
            },
            "type": "choropleth"
           }
          ],
          "contour": [
           {
            "colorbar": {
             "outlinewidth": 0,
             "ticks": ""
            },
            "colorscale": [
             [
              0,
              "#0d0887"
             ],
             [
              0.1111111111111111,
              "#46039f"
             ],
             [
              0.2222222222222222,
              "#7201a8"
             ],
             [
              0.3333333333333333,
              "#9c179e"
             ],
             [
              0.4444444444444444,
              "#bd3786"
             ],
             [
              0.5555555555555556,
              "#d8576b"
             ],
             [
              0.6666666666666666,
              "#ed7953"
             ],
             [
              0.7777777777777778,
              "#fb9f3a"
             ],
             [
              0.8888888888888888,
              "#fdca26"
             ],
             [
              1,
              "#f0f921"
             ]
            ],
            "type": "contour"
           }
          ],
          "contourcarpet": [
           {
            "colorbar": {
             "outlinewidth": 0,
             "ticks": ""
            },
            "type": "contourcarpet"
           }
          ],
          "heatmap": [
           {
            "colorbar": {
             "outlinewidth": 0,
             "ticks": ""
            },
            "colorscale": [
             [
              0,
              "#0d0887"
             ],
             [
              0.1111111111111111,
              "#46039f"
             ],
             [
              0.2222222222222222,
              "#7201a8"
             ],
             [
              0.3333333333333333,
              "#9c179e"
             ],
             [
              0.4444444444444444,
              "#bd3786"
             ],
             [
              0.5555555555555556,
              "#d8576b"
             ],
             [
              0.6666666666666666,
              "#ed7953"
             ],
             [
              0.7777777777777778,
              "#fb9f3a"
             ],
             [
              0.8888888888888888,
              "#fdca26"
             ],
             [
              1,
              "#f0f921"
             ]
            ],
            "type": "heatmap"
           }
          ],
          "heatmapgl": [
           {
            "colorbar": {
             "outlinewidth": 0,
             "ticks": ""
            },
            "colorscale": [
             [
              0,
              "#0d0887"
             ],
             [
              0.1111111111111111,
              "#46039f"
             ],
             [
              0.2222222222222222,
              "#7201a8"
             ],
             [
              0.3333333333333333,
              "#9c179e"
             ],
             [
              0.4444444444444444,
              "#bd3786"
             ],
             [
              0.5555555555555556,
              "#d8576b"
             ],
             [
              0.6666666666666666,
              "#ed7953"
             ],
             [
              0.7777777777777778,
              "#fb9f3a"
             ],
             [
              0.8888888888888888,
              "#fdca26"
             ],
             [
              1,
              "#f0f921"
             ]
            ],
            "type": "heatmapgl"
           }
          ],
          "histogram": [
           {
            "marker": {
             "pattern": {
              "fillmode": "overlay",
              "size": 10,
              "solidity": 0.2
             }
            },
            "type": "histogram"
           }
          ],
          "histogram2d": [
           {
            "colorbar": {
             "outlinewidth": 0,
             "ticks": ""
            },
            "colorscale": [
             [
              0,
              "#0d0887"
             ],
             [
              0.1111111111111111,
              "#46039f"
             ],
             [
              0.2222222222222222,
              "#7201a8"
             ],
             [
              0.3333333333333333,
              "#9c179e"
             ],
             [
              0.4444444444444444,
              "#bd3786"
             ],
             [
              0.5555555555555556,
              "#d8576b"
             ],
             [
              0.6666666666666666,
              "#ed7953"
             ],
             [
              0.7777777777777778,
              "#fb9f3a"
             ],
             [
              0.8888888888888888,
              "#fdca26"
             ],
             [
              1,
              "#f0f921"
             ]
            ],
            "type": "histogram2d"
           }
          ],
          "histogram2dcontour": [
           {
            "colorbar": {
             "outlinewidth": 0,
             "ticks": ""
            },
            "colorscale": [
             [
              0,
              "#0d0887"
             ],
             [
              0.1111111111111111,
              "#46039f"
             ],
             [
              0.2222222222222222,
              "#7201a8"
             ],
             [
              0.3333333333333333,
              "#9c179e"
             ],
             [
              0.4444444444444444,
              "#bd3786"
             ],
             [
              0.5555555555555556,
              "#d8576b"
             ],
             [
              0.6666666666666666,
              "#ed7953"
             ],
             [
              0.7777777777777778,
              "#fb9f3a"
             ],
             [
              0.8888888888888888,
              "#fdca26"
             ],
             [
              1,
              "#f0f921"
             ]
            ],
            "type": "histogram2dcontour"
           }
          ],
          "mesh3d": [
           {
            "colorbar": {
             "outlinewidth": 0,
             "ticks": ""
            },
            "type": "mesh3d"
           }
          ],
          "parcoords": [
           {
            "line": {
             "colorbar": {
              "outlinewidth": 0,
              "ticks": ""
             }
            },
            "type": "parcoords"
           }
          ],
          "pie": [
           {
            "automargin": true,
            "type": "pie"
           }
          ],
          "scatter": [
           {
            "marker": {
             "colorbar": {
              "outlinewidth": 0,
              "ticks": ""
             }
            },
            "type": "scatter"
           }
          ],
          "scatter3d": [
           {
            "line": {
             "colorbar": {
              "outlinewidth": 0,
              "ticks": ""
             }
            },
            "marker": {
             "colorbar": {
              "outlinewidth": 0,
              "ticks": ""
             }
            },
            "type": "scatter3d"
           }
          ],
          "scattercarpet": [
           {
            "marker": {
             "colorbar": {
              "outlinewidth": 0,
              "ticks": ""
             }
            },
            "type": "scattercarpet"
           }
          ],
          "scattergeo": [
           {
            "marker": {
             "colorbar": {
              "outlinewidth": 0,
              "ticks": ""
             }
            },
            "type": "scattergeo"
           }
          ],
          "scattergl": [
           {
            "marker": {
             "colorbar": {
              "outlinewidth": 0,
              "ticks": ""
             }
            },
            "type": "scattergl"
           }
          ],
          "scattermapbox": [
           {
            "marker": {
             "colorbar": {
              "outlinewidth": 0,
              "ticks": ""
             }
            },
            "type": "scattermapbox"
           }
          ],
          "scatterpolar": [
           {
            "marker": {
             "colorbar": {
              "outlinewidth": 0,
              "ticks": ""
             }
            },
            "type": "scatterpolar"
           }
          ],
          "scatterpolargl": [
           {
            "marker": {
             "colorbar": {
              "outlinewidth": 0,
              "ticks": ""
             }
            },
            "type": "scatterpolargl"
           }
          ],
          "scatterternary": [
           {
            "marker": {
             "colorbar": {
              "outlinewidth": 0,
              "ticks": ""
             }
            },
            "type": "scatterternary"
           }
          ],
          "surface": [
           {
            "colorbar": {
             "outlinewidth": 0,
             "ticks": ""
            },
            "colorscale": [
             [
              0,
              "#0d0887"
             ],
             [
              0.1111111111111111,
              "#46039f"
             ],
             [
              0.2222222222222222,
              "#7201a8"
             ],
             [
              0.3333333333333333,
              "#9c179e"
             ],
             [
              0.4444444444444444,
              "#bd3786"
             ],
             [
              0.5555555555555556,
              "#d8576b"
             ],
             [
              0.6666666666666666,
              "#ed7953"
             ],
             [
              0.7777777777777778,
              "#fb9f3a"
             ],
             [
              0.8888888888888888,
              "#fdca26"
             ],
             [
              1,
              "#f0f921"
             ]
            ],
            "type": "surface"
           }
          ],
          "table": [
           {
            "cells": {
             "fill": {
              "color": "#EBF0F8"
             },
             "line": {
              "color": "white"
             }
            },
            "header": {
             "fill": {
              "color": "#C8D4E3"
             },
             "line": {
              "color": "white"
             }
            },
            "type": "table"
           }
          ]
         },
         "layout": {
          "annotationdefaults": {
           "arrowcolor": "#2a3f5f",
           "arrowhead": 0,
           "arrowwidth": 1
          },
          "autotypenumbers": "strict",
          "coloraxis": {
           "colorbar": {
            "outlinewidth": 0,
            "ticks": ""
           }
          },
          "colorscale": {
           "diverging": [
            [
             0,
             "#8e0152"
            ],
            [
             0.1,
             "#c51b7d"
            ],
            [
             0.2,
             "#de77ae"
            ],
            [
             0.3,
             "#f1b6da"
            ],
            [
             0.4,
             "#fde0ef"
            ],
            [
             0.5,
             "#f7f7f7"
            ],
            [
             0.6,
             "#e6f5d0"
            ],
            [
             0.7,
             "#b8e186"
            ],
            [
             0.8,
             "#7fbc41"
            ],
            [
             0.9,
             "#4d9221"
            ],
            [
             1,
             "#276419"
            ]
           ],
           "sequential": [
            [
             0,
             "#0d0887"
            ],
            [
             0.1111111111111111,
             "#46039f"
            ],
            [
             0.2222222222222222,
             "#7201a8"
            ],
            [
             0.3333333333333333,
             "#9c179e"
            ],
            [
             0.4444444444444444,
             "#bd3786"
            ],
            [
             0.5555555555555556,
             "#d8576b"
            ],
            [
             0.6666666666666666,
             "#ed7953"
            ],
            [
             0.7777777777777778,
             "#fb9f3a"
            ],
            [
             0.8888888888888888,
             "#fdca26"
            ],
            [
             1,
             "#f0f921"
            ]
           ],
           "sequentialminus": [
            [
             0,
             "#0d0887"
            ],
            [
             0.1111111111111111,
             "#46039f"
            ],
            [
             0.2222222222222222,
             "#7201a8"
            ],
            [
             0.3333333333333333,
             "#9c179e"
            ],
            [
             0.4444444444444444,
             "#bd3786"
            ],
            [
             0.5555555555555556,
             "#d8576b"
            ],
            [
             0.6666666666666666,
             "#ed7953"
            ],
            [
             0.7777777777777778,
             "#fb9f3a"
            ],
            [
             0.8888888888888888,
             "#fdca26"
            ],
            [
             1,
             "#f0f921"
            ]
           ]
          },
          "colorway": [
           "#636efa",
           "#EF553B",
           "#00cc96",
           "#ab63fa",
           "#FFA15A",
           "#19d3f3",
           "#FF6692",
           "#B6E880",
           "#FF97FF",
           "#FECB52"
          ],
          "font": {
           "color": "#2a3f5f"
          },
          "geo": {
           "bgcolor": "white",
           "lakecolor": "white",
           "landcolor": "#E5ECF6",
           "showlakes": true,
           "showland": true,
           "subunitcolor": "white"
          },
          "hoverlabel": {
           "align": "left"
          },
          "hovermode": "closest",
          "mapbox": {
           "style": "light"
          },
          "paper_bgcolor": "white",
          "plot_bgcolor": "#E5ECF6",
          "polar": {
           "angularaxis": {
            "gridcolor": "white",
            "linecolor": "white",
            "ticks": ""
           },
           "bgcolor": "#E5ECF6",
           "radialaxis": {
            "gridcolor": "white",
            "linecolor": "white",
            "ticks": ""
           }
          },
          "scene": {
           "xaxis": {
            "backgroundcolor": "#E5ECF6",
            "gridcolor": "white",
            "gridwidth": 2,
            "linecolor": "white",
            "showbackground": true,
            "ticks": "",
            "zerolinecolor": "white"
           },
           "yaxis": {
            "backgroundcolor": "#E5ECF6",
            "gridcolor": "white",
            "gridwidth": 2,
            "linecolor": "white",
            "showbackground": true,
            "ticks": "",
            "zerolinecolor": "white"
           },
           "zaxis": {
            "backgroundcolor": "#E5ECF6",
            "gridcolor": "white",
            "gridwidth": 2,
            "linecolor": "white",
            "showbackground": true,
            "ticks": "",
            "zerolinecolor": "white"
           }
          },
          "shapedefaults": {
           "line": {
            "color": "#2a3f5f"
           }
          },
          "ternary": {
           "aaxis": {
            "gridcolor": "white",
            "linecolor": "white",
            "ticks": ""
           },
           "baxis": {
            "gridcolor": "white",
            "linecolor": "white",
            "ticks": ""
           },
           "bgcolor": "#E5ECF6",
           "caxis": {
            "gridcolor": "white",
            "linecolor": "white",
            "ticks": ""
           }
          },
          "title": {
           "x": 0.05
          },
          "xaxis": {
           "automargin": true,
           "gridcolor": "white",
           "linecolor": "white",
           "ticks": "",
           "title": {
            "standoff": 15
           },
           "zerolinecolor": "white",
           "zerolinewidth": 2
          },
          "yaxis": {
           "automargin": true,
           "gridcolor": "white",
           "linecolor": "white",
           "ticks": "",
           "title": {
            "standoff": 15
           },
           "zerolinecolor": "white",
           "zerolinewidth": 2
          }
         }
        },
        "xaxis": {
         "anchor": "y",
         "domain": [
          0,
          1
         ],
         "title": {
          "text": "Timestamp"
         }
        },
        "yaxis": {
         "anchor": "x",
         "domain": [
          0,
          1
         ],
         "title": {
          "text": "Value"
         }
        }
       }
      },
      "text/html": [
       "<div>                            <div id=\"ee3f7af5-5510-474d-8adc-ea1dfe7e4bcd\" class=\"plotly-graph-div\" style=\"height:525px; width:100%;\"></div>            <script type=\"text/javascript\">                require([\"plotly\"], function(Plotly) {                    window.PLOTLYENV=window.PLOTLYENV || {};                                    if (document.getElementById(\"ee3f7af5-5510-474d-8adc-ea1dfe7e4bcd\")) {                    Plotly.newPlot(                        \"ee3f7af5-5510-474d-8adc-ea1dfe7e4bcd\",                        [{\"alignmentgroup\":\"True\",\"hovertemplate\":\"Timestamp=%{x}<br>Value=%{y}<extra></extra>\",\"legendgroup\":\"\",\"marker\":{\"color\":\"#636efa\",\"pattern\":{\"shape\":\"\"}},\"name\":\"\",\"offsetgroup\":\"\",\"orientation\":\"v\",\"showlegend\":false,\"textposition\":\"auto\",\"type\":\"bar\",\"x\":[\"2021-09-12T12:32:58.604829\",\"2021-09-12T12:33:58.604829\",\"2021-09-12T12:34:58.604829\",\"2021-09-12T12:35:58.604829\",\"2021-09-12T12:36:58.604829\",\"2021-09-12T12:37:58.604829\",\"2021-09-12T12:38:58.604829\",\"2021-09-12T12:39:58.604829\",\"2021-09-12T12:40:58.604829\",\"2021-09-12T12:41:58.604829\",\"2021-09-12T12:42:58.604829\",\"2021-09-12T12:43:58.604829\",\"2021-09-12T12:44:58.604829\",\"2021-09-12T12:45:58.604829\",\"2021-09-12T12:46:58.604829\",\"2021-09-12T12:47:58.604829\",\"2021-09-12T12:48:58.604829\",\"2021-09-12T12:49:58.604829\",\"2021-09-12T12:50:58.604829\",\"2021-09-12T12:51:58.604829\",\"2021-09-12T12:52:58.604829\",\"2021-09-12T12:53:58.604829\",\"2021-09-12T12:54:58.604829\",\"2021-09-12T12:55:58.604829\",\"2021-09-12T12:56:58.604829\",\"2021-09-12T12:57:58.604829\",\"2021-09-12T12:58:58.604829\",\"2021-09-12T12:59:58.604829\",\"2021-09-12T13:00:58.604829\",\"2021-09-12T13:01:58.604829\",\"2021-09-12T13:02:58.604829\",\"2021-09-12T13:03:58.604829\",\"2021-09-12T13:04:58.604829\",\"2021-09-12T13:05:58.604829\",\"2021-09-12T13:06:58.604829\",\"2021-09-12T13:07:58.604829\",\"2021-09-12T13:08:58.604829\",\"2021-09-12T13:09:58.604829\",\"2021-09-12T13:10:58.604829\",\"2021-09-12T13:11:58.604829\",\"2021-09-12T13:12:58.604829\",\"2021-09-12T13:13:58.604829\",\"2021-09-12T13:14:58.604829\",\"2021-09-12T13:15:58.604829\",\"2021-09-12T13:16:58.604829\",\"2021-09-12T13:17:58.604829\",\"2021-09-12T13:18:58.604829\",\"2021-09-12T13:19:58.604829\",\"2021-09-12T13:20:58.604829\",\"2021-09-12T13:21:58.604829\",\"2021-09-12T13:22:58.604829\",\"2021-09-12T13:23:58.604829\",\"2021-09-12T13:24:58.604829\",\"2021-09-12T13:25:58.604829\",\"2021-09-12T13:26:58.604829\",\"2021-09-12T13:27:58.604829\",\"2021-09-12T13:28:58.604829\",\"2021-09-12T13:29:58.604829\",\"2021-09-12T13:30:58.604829\",\"2021-09-12T13:31:58.604829\",\"2021-09-12T13:32:58.604829\",\"2021-09-12T13:33:58.604829\",\"2021-09-12T13:34:58.604829\",\"2021-09-12T13:35:58.604829\",\"2021-09-12T13:36:58.604829\",\"2021-09-12T13:37:58.604829\",\"2021-09-12T13:38:58.604829\",\"2021-09-12T13:39:58.604829\",\"2021-09-12T13:40:58.604829\",\"2021-09-12T13:41:58.604829\",\"2021-09-12T13:42:58.604829\",\"2021-09-12T13:43:58.604829\",\"2021-09-12T13:44:58.604829\",\"2021-09-12T13:45:58.604829\",\"2021-09-12T13:46:58.604829\",\"2021-09-12T13:47:58.604829\",\"2021-09-12T13:48:58.604829\",\"2021-09-12T13:49:58.604829\",\"2021-09-12T13:50:58.604829\",\"2021-09-12T13:51:58.604829\",\"2021-09-12T13:52:58.604829\",\"2021-09-12T13:53:58.604829\",\"2021-09-12T13:54:58.604829\",\"2021-09-12T13:55:58.604829\",\"2021-09-12T13:56:58.604829\",\"2021-09-12T13:57:58.604829\",\"2021-09-12T13:58:58.604829\",\"2021-09-12T13:59:58.604829\",\"2021-09-12T14:00:58.604829\",\"2021-09-12T14:01:58.604829\",\"2021-09-12T14:02:58.604829\",\"2021-09-12T14:03:58.604829\",\"2021-09-12T14:04:58.604829\",\"2021-09-12T14:05:58.604829\",\"2021-09-12T14:06:58.604829\",\"2021-09-12T14:07:58.604829\",\"2021-09-12T14:08:58.604829\",\"2021-09-12T14:09:58.604829\",\"2021-09-12T14:10:58.604829\",\"2021-09-12T14:11:58.604829\",\"2021-09-12T14:12:58.604829\",\"2021-09-12T14:13:58.604829\",\"2021-09-12T14:14:58.604829\",\"2021-09-12T14:15:58.604829\",\"2021-09-12T14:16:58.604829\",\"2021-09-12T14:17:58.604829\",\"2021-09-12T14:18:58.604829\",\"2021-09-12T14:19:58.604829\",\"2021-09-12T14:20:58.604829\",\"2021-09-12T14:21:58.604829\",\"2021-09-12T14:22:58.604829\",\"2021-09-12T14:23:58.604829\",\"2021-09-12T14:24:58.604829\",\"2021-09-12T14:25:58.604829\",\"2021-09-12T14:26:58.604829\",\"2021-09-12T14:27:58.604829\",\"2021-09-12T14:28:58.604829\",\"2021-09-12T14:29:58.604829\",\"2021-09-12T14:30:58.604829\",\"2021-09-12T14:31:58.604829\",\"2021-09-12T14:32:58.604829\",\"2021-09-12T14:33:58.604829\",\"2021-09-12T14:34:58.604829\",\"2021-09-12T14:35:58.604829\",\"2021-09-12T14:36:58.604829\",\"2021-09-12T14:37:58.604829\",\"2021-09-12T14:38:58.604829\",\"2021-09-12T14:39:58.604829\",\"2021-09-12T14:40:58.604829\",\"2021-09-12T14:41:58.604829\",\"2021-09-12T14:42:58.604829\",\"2021-09-12T14:43:58.604829\",\"2021-09-12T14:44:58.604829\",\"2021-09-12T14:45:58.604829\",\"2021-09-12T14:46:58.604829\",\"2021-09-12T14:47:58.604829\",\"2021-09-12T14:48:58.604829\",\"2021-09-12T14:49:58.604829\",\"2021-09-12T14:50:58.604829\",\"2021-09-12T14:51:58.604829\",\"2021-09-12T14:52:58.604829\",\"2021-09-12T14:53:58.604829\",\"2021-09-12T14:54:58.604829\",\"2021-09-12T14:55:58.604829\",\"2021-09-12T14:56:58.604829\",\"2021-09-12T14:57:58.604829\",\"2021-09-12T14:58:58.604829\",\"2021-09-12T14:59:58.604829\",\"2021-09-12T15:00:58.604829\",\"2021-09-12T15:01:58.604829\",\"2021-09-12T15:02:58.604829\",\"2021-09-12T15:03:58.604829\",\"2021-09-12T15:04:58.604829\",\"2021-09-12T15:05:58.604829\",\"2021-09-12T15:06:58.604829\",\"2021-09-12T15:07:58.604829\",\"2021-09-12T15:08:58.604829\",\"2021-09-12T15:09:58.604829\",\"2021-09-12T15:10:58.604829\",\"2021-09-12T15:11:58.604829\",\"2021-09-12T15:12:58.604829\",\"2021-09-12T15:13:58.604829\",\"2021-09-12T15:14:58.604829\",\"2021-09-12T15:15:58.604829\",\"2021-09-12T15:16:58.604829\",\"2021-09-12T15:17:58.604829\",\"2021-09-12T15:18:58.604829\",\"2021-09-12T15:19:58.604829\",\"2021-09-12T15:20:58.604829\",\"2021-09-12T15:21:58.604829\",\"2021-09-12T15:22:58.604829\",\"2021-09-12T15:23:58.604829\",\"2021-09-12T15:24:58.604829\",\"2021-09-12T15:25:58.604829\",\"2021-09-12T15:26:58.604829\",\"2021-09-12T15:27:58.604829\",\"2021-09-12T15:28:58.604829\",\"2021-09-12T15:29:58.604829\",\"2021-09-12T15:30:58.604829\",\"2021-09-12T15:31:58.604829\"],\"xaxis\":\"x\",\"y\":[0,10,10,10,10,20,30,35,40,50,35,30,80,80,75,75,80,75,80,80,80,75,80,70,60,80,80,80,80,80,80,80,65,75,75,80,75,80,75,80,80,75,80,80,55,80,75,80,80,80,80,80,80,65,60,80,80,70,80,80,80,80,80,40,80,65,35,80,65,55,65,45,75,65,45,80,75,80,55,50,50,40,80,80,80,70,60,75,60,40,80,80,80,45,40,80,80,40,80,65,75,75,5,75,55,50,65,50,75,65,40,80,80,80,55,55,55,50,10,70,70,80,80,60,60,45,75,75,60,40,80,80,80,80,40,80,80,20,80,40,55,65,60,80,50,60,55,75,80,80,70,80,70,70,70,75,80,65,45,40,80,80,80,40,60,40,80,40,80,80,60,80,55,25,60,65,65,80,35,55],\"yaxis\":\"y\"}],                        {\"barmode\":\"relative\",\"legend\":{\"tracegroupgap\":0},\"margin\":{\"t\":60},\"template\":{\"data\":{\"bar\":[{\"error_x\":{\"color\":\"#2a3f5f\"},\"error_y\":{\"color\":\"#2a3f5f\"},\"marker\":{\"line\":{\"color\":\"#E5ECF6\",\"width\":0.5},\"pattern\":{\"fillmode\":\"overlay\",\"size\":10,\"solidity\":0.2}},\"type\":\"bar\"}],\"barpolar\":[{\"marker\":{\"line\":{\"color\":\"#E5ECF6\",\"width\":0.5},\"pattern\":{\"fillmode\":\"overlay\",\"size\":10,\"solidity\":0.2}},\"type\":\"barpolar\"}],\"carpet\":[{\"aaxis\":{\"endlinecolor\":\"#2a3f5f\",\"gridcolor\":\"white\",\"linecolor\":\"white\",\"minorgridcolor\":\"white\",\"startlinecolor\":\"#2a3f5f\"},\"baxis\":{\"endlinecolor\":\"#2a3f5f\",\"gridcolor\":\"white\",\"linecolor\":\"white\",\"minorgridcolor\":\"white\",\"startlinecolor\":\"#2a3f5f\"},\"type\":\"carpet\"}],\"choropleth\":[{\"colorbar\":{\"outlinewidth\":0,\"ticks\":\"\"},\"type\":\"choropleth\"}],\"contour\":[{\"colorbar\":{\"outlinewidth\":0,\"ticks\":\"\"},\"colorscale\":[[0.0,\"#0d0887\"],[0.1111111111111111,\"#46039f\"],[0.2222222222222222,\"#7201a8\"],[0.3333333333333333,\"#9c179e\"],[0.4444444444444444,\"#bd3786\"],[0.5555555555555556,\"#d8576b\"],[0.6666666666666666,\"#ed7953\"],[0.7777777777777778,\"#fb9f3a\"],[0.8888888888888888,\"#fdca26\"],[1.0,\"#f0f921\"]],\"type\":\"contour\"}],\"contourcarpet\":[{\"colorbar\":{\"outlinewidth\":0,\"ticks\":\"\"},\"type\":\"contourcarpet\"}],\"heatmap\":[{\"colorbar\":{\"outlinewidth\":0,\"ticks\":\"\"},\"colorscale\":[[0.0,\"#0d0887\"],[0.1111111111111111,\"#46039f\"],[0.2222222222222222,\"#7201a8\"],[0.3333333333333333,\"#9c179e\"],[0.4444444444444444,\"#bd3786\"],[0.5555555555555556,\"#d8576b\"],[0.6666666666666666,\"#ed7953\"],[0.7777777777777778,\"#fb9f3a\"],[0.8888888888888888,\"#fdca26\"],[1.0,\"#f0f921\"]],\"type\":\"heatmap\"}],\"heatmapgl\":[{\"colorbar\":{\"outlinewidth\":0,\"ticks\":\"\"},\"colorscale\":[[0.0,\"#0d0887\"],[0.1111111111111111,\"#46039f\"],[0.2222222222222222,\"#7201a8\"],[0.3333333333333333,\"#9c179e\"],[0.4444444444444444,\"#bd3786\"],[0.5555555555555556,\"#d8576b\"],[0.6666666666666666,\"#ed7953\"],[0.7777777777777778,\"#fb9f3a\"],[0.8888888888888888,\"#fdca26\"],[1.0,\"#f0f921\"]],\"type\":\"heatmapgl\"}],\"histogram\":[{\"marker\":{\"pattern\":{\"fillmode\":\"overlay\",\"size\":10,\"solidity\":0.2}},\"type\":\"histogram\"}],\"histogram2d\":[{\"colorbar\":{\"outlinewidth\":0,\"ticks\":\"\"},\"colorscale\":[[0.0,\"#0d0887\"],[0.1111111111111111,\"#46039f\"],[0.2222222222222222,\"#7201a8\"],[0.3333333333333333,\"#9c179e\"],[0.4444444444444444,\"#bd3786\"],[0.5555555555555556,\"#d8576b\"],[0.6666666666666666,\"#ed7953\"],[0.7777777777777778,\"#fb9f3a\"],[0.8888888888888888,\"#fdca26\"],[1.0,\"#f0f921\"]],\"type\":\"histogram2d\"}],\"histogram2dcontour\":[{\"colorbar\":{\"outlinewidth\":0,\"ticks\":\"\"},\"colorscale\":[[0.0,\"#0d0887\"],[0.1111111111111111,\"#46039f\"],[0.2222222222222222,\"#7201a8\"],[0.3333333333333333,\"#9c179e\"],[0.4444444444444444,\"#bd3786\"],[0.5555555555555556,\"#d8576b\"],[0.6666666666666666,\"#ed7953\"],[0.7777777777777778,\"#fb9f3a\"],[0.8888888888888888,\"#fdca26\"],[1.0,\"#f0f921\"]],\"type\":\"histogram2dcontour\"}],\"mesh3d\":[{\"colorbar\":{\"outlinewidth\":0,\"ticks\":\"\"},\"type\":\"mesh3d\"}],\"parcoords\":[{\"line\":{\"colorbar\":{\"outlinewidth\":0,\"ticks\":\"\"}},\"type\":\"parcoords\"}],\"pie\":[{\"automargin\":true,\"type\":\"pie\"}],\"scatter\":[{\"marker\":{\"colorbar\":{\"outlinewidth\":0,\"ticks\":\"\"}},\"type\":\"scatter\"}],\"scatter3d\":[{\"line\":{\"colorbar\":{\"outlinewidth\":0,\"ticks\":\"\"}},\"marker\":{\"colorbar\":{\"outlinewidth\":0,\"ticks\":\"\"}},\"type\":\"scatter3d\"}],\"scattercarpet\":[{\"marker\":{\"colorbar\":{\"outlinewidth\":0,\"ticks\":\"\"}},\"type\":\"scattercarpet\"}],\"scattergeo\":[{\"marker\":{\"colorbar\":{\"outlinewidth\":0,\"ticks\":\"\"}},\"type\":\"scattergeo\"}],\"scattergl\":[{\"marker\":{\"colorbar\":{\"outlinewidth\":0,\"ticks\":\"\"}},\"type\":\"scattergl\"}],\"scattermapbox\":[{\"marker\":{\"colorbar\":{\"outlinewidth\":0,\"ticks\":\"\"}},\"type\":\"scattermapbox\"}],\"scatterpolar\":[{\"marker\":{\"colorbar\":{\"outlinewidth\":0,\"ticks\":\"\"}},\"type\":\"scatterpolar\"}],\"scatterpolargl\":[{\"marker\":{\"colorbar\":{\"outlinewidth\":0,\"ticks\":\"\"}},\"type\":\"scatterpolargl\"}],\"scatterternary\":[{\"marker\":{\"colorbar\":{\"outlinewidth\":0,\"ticks\":\"\"}},\"type\":\"scatterternary\"}],\"surface\":[{\"colorbar\":{\"outlinewidth\":0,\"ticks\":\"\"},\"colorscale\":[[0.0,\"#0d0887\"],[0.1111111111111111,\"#46039f\"],[0.2222222222222222,\"#7201a8\"],[0.3333333333333333,\"#9c179e\"],[0.4444444444444444,\"#bd3786\"],[0.5555555555555556,\"#d8576b\"],[0.6666666666666666,\"#ed7953\"],[0.7777777777777778,\"#fb9f3a\"],[0.8888888888888888,\"#fdca26\"],[1.0,\"#f0f921\"]],\"type\":\"surface\"}],\"table\":[{\"cells\":{\"fill\":{\"color\":\"#EBF0F8\"},\"line\":{\"color\":\"white\"}},\"header\":{\"fill\":{\"color\":\"#C8D4E3\"},\"line\":{\"color\":\"white\"}},\"type\":\"table\"}]},\"layout\":{\"annotationdefaults\":{\"arrowcolor\":\"#2a3f5f\",\"arrowhead\":0,\"arrowwidth\":1},\"autotypenumbers\":\"strict\",\"coloraxis\":{\"colorbar\":{\"outlinewidth\":0,\"ticks\":\"\"}},\"colorscale\":{\"diverging\":[[0,\"#8e0152\"],[0.1,\"#c51b7d\"],[0.2,\"#de77ae\"],[0.3,\"#f1b6da\"],[0.4,\"#fde0ef\"],[0.5,\"#f7f7f7\"],[0.6,\"#e6f5d0\"],[0.7,\"#b8e186\"],[0.8,\"#7fbc41\"],[0.9,\"#4d9221\"],[1,\"#276419\"]],\"sequential\":[[0.0,\"#0d0887\"],[0.1111111111111111,\"#46039f\"],[0.2222222222222222,\"#7201a8\"],[0.3333333333333333,\"#9c179e\"],[0.4444444444444444,\"#bd3786\"],[0.5555555555555556,\"#d8576b\"],[0.6666666666666666,\"#ed7953\"],[0.7777777777777778,\"#fb9f3a\"],[0.8888888888888888,\"#fdca26\"],[1.0,\"#f0f921\"]],\"sequentialminus\":[[0.0,\"#0d0887\"],[0.1111111111111111,\"#46039f\"],[0.2222222222222222,\"#7201a8\"],[0.3333333333333333,\"#9c179e\"],[0.4444444444444444,\"#bd3786\"],[0.5555555555555556,\"#d8576b\"],[0.6666666666666666,\"#ed7953\"],[0.7777777777777778,\"#fb9f3a\"],[0.8888888888888888,\"#fdca26\"],[1.0,\"#f0f921\"]]},\"colorway\":[\"#636efa\",\"#EF553B\",\"#00cc96\",\"#ab63fa\",\"#FFA15A\",\"#19d3f3\",\"#FF6692\",\"#B6E880\",\"#FF97FF\",\"#FECB52\"],\"font\":{\"color\":\"#2a3f5f\"},\"geo\":{\"bgcolor\":\"white\",\"lakecolor\":\"white\",\"landcolor\":\"#E5ECF6\",\"showlakes\":true,\"showland\":true,\"subunitcolor\":\"white\"},\"hoverlabel\":{\"align\":\"left\"},\"hovermode\":\"closest\",\"mapbox\":{\"style\":\"light\"},\"paper_bgcolor\":\"white\",\"plot_bgcolor\":\"#E5ECF6\",\"polar\":{\"angularaxis\":{\"gridcolor\":\"white\",\"linecolor\":\"white\",\"ticks\":\"\"},\"bgcolor\":\"#E5ECF6\",\"radialaxis\":{\"gridcolor\":\"white\",\"linecolor\":\"white\",\"ticks\":\"\"}},\"scene\":{\"xaxis\":{\"backgroundcolor\":\"#E5ECF6\",\"gridcolor\":\"white\",\"gridwidth\":2,\"linecolor\":\"white\",\"showbackground\":true,\"ticks\":\"\",\"zerolinecolor\":\"white\"},\"yaxis\":{\"backgroundcolor\":\"#E5ECF6\",\"gridcolor\":\"white\",\"gridwidth\":2,\"linecolor\":\"white\",\"showbackground\":true,\"ticks\":\"\",\"zerolinecolor\":\"white\"},\"zaxis\":{\"backgroundcolor\":\"#E5ECF6\",\"gridcolor\":\"white\",\"gridwidth\":2,\"linecolor\":\"white\",\"showbackground\":true,\"ticks\":\"\",\"zerolinecolor\":\"white\"}},\"shapedefaults\":{\"line\":{\"color\":\"#2a3f5f\"}},\"ternary\":{\"aaxis\":{\"gridcolor\":\"white\",\"linecolor\":\"white\",\"ticks\":\"\"},\"baxis\":{\"gridcolor\":\"white\",\"linecolor\":\"white\",\"ticks\":\"\"},\"bgcolor\":\"#E5ECF6\",\"caxis\":{\"gridcolor\":\"white\",\"linecolor\":\"white\",\"ticks\":\"\"}},\"title\":{\"x\":0.05},\"xaxis\":{\"automargin\":true,\"gridcolor\":\"white\",\"linecolor\":\"white\",\"ticks\":\"\",\"title\":{\"standoff\":15},\"zerolinecolor\":\"white\",\"zerolinewidth\":2},\"yaxis\":{\"automargin\":true,\"gridcolor\":\"white\",\"linecolor\":\"white\",\"ticks\":\"\",\"title\":{\"standoff\":15},\"zerolinecolor\":\"white\",\"zerolinewidth\":2}}},\"xaxis\":{\"anchor\":\"y\",\"domain\":[0.0,1.0],\"title\":{\"text\":\"Timestamp\"}},\"yaxis\":{\"anchor\":\"x\",\"domain\":[0.0,1.0],\"title\":{\"text\":\"Value\"}}},                        {\"responsive\": true}                    ).then(function(){\n",
       "                            \n",
       "var gd = document.getElementById('ee3f7af5-5510-474d-8adc-ea1dfe7e4bcd');\n",
       "var x = new MutationObserver(function (mutations, observer) {{\n",
       "        var display = window.getComputedStyle(gd).display;\n",
       "        if (!display || display === 'none') {{\n",
       "            console.log([gd, 'removed!']);\n",
       "            Plotly.purge(gd);\n",
       "            observer.disconnect();\n",
       "        }}\n",
       "}});\n",
       "\n",
       "// Listen for the removal of the full notebook cells\n",
       "var notebookContainer = gd.closest('#notebook-container');\n",
       "if (notebookContainer) {{\n",
       "    x.observe(notebookContainer, {childList: true});\n",
       "}}\n",
       "\n",
       "// Listen for the clearing of the current output cell\n",
       "var outputEl = gd.closest('.output');\n",
       "if (outputEl) {{\n",
       "    x.observe(outputEl, {childList: true});\n",
       "}}\n",
       "\n",
       "                        })                };                });            </script>        </div>"
      ]
     },
     "metadata": {},
     "output_type": "display_data"
    }
   ],
   "source": [
    "#df = dfs['occupied_slots']\n",
    "df = df_system[ df_system.Metric == Metric.BS.value ]\n",
    "fig = px.bar(df, x='Timestamp', y='Value')\n",
    "fig.show()"
   ]
  },
  {
   "cell_type": "markdown",
   "metadata": {},
   "source": [
    "## Requests waiting"
   ]
  },
  {
   "cell_type": "code",
   "execution_count": 396,
   "metadata": {},
   "outputs": [
    {
     "data": {
      "application/vnd.plotly.v1+json": {
       "config": {
        "plotlyServerURL": "https://plot.ly"
       },
       "data": [
        {
         "alignmentgroup": "True",
         "hovertemplate": "Timestamp=%{x}<br>Value=%{y}<extra></extra>",
         "legendgroup": "",
         "marker": {
          "color": "#636efa",
          "pattern": {
           "shape": ""
          }
         },
         "name": "",
         "offsetgroup": "",
         "orientation": "v",
         "showlegend": false,
         "textposition": "auto",
         "type": "bar",
         "x": [
          "2021-09-12T12:32:58.604829",
          "2021-09-12T12:33:58.604829",
          "2021-09-12T12:34:58.604829",
          "2021-09-12T12:35:58.604829",
          "2021-09-12T12:36:58.604829",
          "2021-09-12T12:37:58.604829",
          "2021-09-12T12:38:58.604829",
          "2021-09-12T12:39:58.604829",
          "2021-09-12T12:40:58.604829",
          "2021-09-12T12:41:58.604829",
          "2021-09-12T12:42:58.604829",
          "2021-09-12T12:43:58.604829",
          "2021-09-12T12:44:58.604829",
          "2021-09-12T12:45:58.604829",
          "2021-09-12T12:46:58.604829",
          "2021-09-12T12:47:58.604829",
          "2021-09-12T12:48:58.604829",
          "2021-09-12T12:49:58.604829",
          "2021-09-12T12:50:58.604829",
          "2021-09-12T12:51:58.604829",
          "2021-09-12T12:52:58.604829",
          "2021-09-12T12:53:58.604829",
          "2021-09-12T12:54:58.604829",
          "2021-09-12T12:55:58.604829",
          "2021-09-12T12:56:58.604829",
          "2021-09-12T12:57:58.604829",
          "2021-09-12T12:58:58.604829",
          "2021-09-12T12:59:58.604829",
          "2021-09-12T13:00:58.604829",
          "2021-09-12T13:01:58.604829",
          "2021-09-12T13:02:58.604829",
          "2021-09-12T13:03:58.604829",
          "2021-09-12T13:04:58.604829",
          "2021-09-12T13:05:58.604829",
          "2021-09-12T13:06:58.604829",
          "2021-09-12T13:07:58.604829",
          "2021-09-12T13:08:58.604829",
          "2021-09-12T13:09:58.604829",
          "2021-09-12T13:10:58.604829",
          "2021-09-12T13:11:58.604829",
          "2021-09-12T13:12:58.604829",
          "2021-09-12T13:13:58.604829",
          "2021-09-12T13:14:58.604829",
          "2021-09-12T13:15:58.604829",
          "2021-09-12T13:16:58.604829",
          "2021-09-12T13:17:58.604829",
          "2021-09-12T13:18:58.604829",
          "2021-09-12T13:19:58.604829",
          "2021-09-12T13:20:58.604829",
          "2021-09-12T13:21:58.604829",
          "2021-09-12T13:22:58.604829",
          "2021-09-12T13:23:58.604829",
          "2021-09-12T13:24:58.604829",
          "2021-09-12T13:25:58.604829",
          "2021-09-12T13:26:58.604829",
          "2021-09-12T13:27:58.604829",
          "2021-09-12T13:28:58.604829",
          "2021-09-12T13:29:58.604829",
          "2021-09-12T13:30:58.604829",
          "2021-09-12T13:31:58.604829",
          "2021-09-12T13:32:58.604829",
          "2021-09-12T13:33:58.604829",
          "2021-09-12T13:34:58.604829",
          "2021-09-12T13:35:58.604829",
          "2021-09-12T13:36:58.604829",
          "2021-09-12T13:37:58.604829",
          "2021-09-12T13:38:58.604829",
          "2021-09-12T13:39:58.604829",
          "2021-09-12T13:40:58.604829",
          "2021-09-12T13:41:58.604829",
          "2021-09-12T13:42:58.604829",
          "2021-09-12T13:43:58.604829",
          "2021-09-12T13:44:58.604829",
          "2021-09-12T13:45:58.604829",
          "2021-09-12T13:46:58.604829",
          "2021-09-12T13:47:58.604829",
          "2021-09-12T13:48:58.604829",
          "2021-09-12T13:49:58.604829",
          "2021-09-12T13:50:58.604829",
          "2021-09-12T13:51:58.604829",
          "2021-09-12T13:52:58.604829",
          "2021-09-12T13:53:58.604829",
          "2021-09-12T13:54:58.604829",
          "2021-09-12T13:55:58.604829",
          "2021-09-12T13:56:58.604829",
          "2021-09-12T13:57:58.604829",
          "2021-09-12T13:58:58.604829",
          "2021-09-12T13:59:58.604829",
          "2021-09-12T14:00:58.604829",
          "2021-09-12T14:01:58.604829",
          "2021-09-12T14:02:58.604829",
          "2021-09-12T14:03:58.604829",
          "2021-09-12T14:04:58.604829",
          "2021-09-12T14:05:58.604829",
          "2021-09-12T14:06:58.604829",
          "2021-09-12T14:07:58.604829",
          "2021-09-12T14:08:58.604829",
          "2021-09-12T14:09:58.604829",
          "2021-09-12T14:10:58.604829",
          "2021-09-12T14:11:58.604829",
          "2021-09-12T14:12:58.604829",
          "2021-09-12T14:13:58.604829",
          "2021-09-12T14:14:58.604829",
          "2021-09-12T14:15:58.604829",
          "2021-09-12T14:16:58.604829",
          "2021-09-12T14:17:58.604829",
          "2021-09-12T14:18:58.604829",
          "2021-09-12T14:19:58.604829",
          "2021-09-12T14:20:58.604829",
          "2021-09-12T14:21:58.604829",
          "2021-09-12T14:22:58.604829",
          "2021-09-12T14:23:58.604829",
          "2021-09-12T14:24:58.604829",
          "2021-09-12T14:25:58.604829",
          "2021-09-12T14:26:58.604829",
          "2021-09-12T14:27:58.604829",
          "2021-09-12T14:28:58.604829",
          "2021-09-12T14:29:58.604829",
          "2021-09-12T14:30:58.604829",
          "2021-09-12T14:31:58.604829",
          "2021-09-12T14:32:58.604829",
          "2021-09-12T14:33:58.604829",
          "2021-09-12T14:34:58.604829",
          "2021-09-12T14:35:58.604829",
          "2021-09-12T14:36:58.604829",
          "2021-09-12T14:37:58.604829",
          "2021-09-12T14:38:58.604829",
          "2021-09-12T14:39:58.604829",
          "2021-09-12T14:40:58.604829",
          "2021-09-12T14:41:58.604829",
          "2021-09-12T14:42:58.604829",
          "2021-09-12T14:43:58.604829",
          "2021-09-12T14:44:58.604829",
          "2021-09-12T14:45:58.604829",
          "2021-09-12T14:46:58.604829",
          "2021-09-12T14:47:58.604829",
          "2021-09-12T14:48:58.604829",
          "2021-09-12T14:49:58.604829",
          "2021-09-12T14:50:58.604829",
          "2021-09-12T14:51:58.604829",
          "2021-09-12T14:52:58.604829",
          "2021-09-12T14:53:58.604829",
          "2021-09-12T14:54:58.604829",
          "2021-09-12T14:55:58.604829",
          "2021-09-12T14:56:58.604829",
          "2021-09-12T14:57:58.604829",
          "2021-09-12T14:58:58.604829",
          "2021-09-12T14:59:58.604829",
          "2021-09-12T15:00:58.604829",
          "2021-09-12T15:01:58.604829",
          "2021-09-12T15:02:58.604829",
          "2021-09-12T15:03:58.604829",
          "2021-09-12T15:04:58.604829",
          "2021-09-12T15:05:58.604829",
          "2021-09-12T15:06:58.604829",
          "2021-09-12T15:07:58.604829",
          "2021-09-12T15:08:58.604829",
          "2021-09-12T15:09:58.604829",
          "2021-09-12T15:10:58.604829",
          "2021-09-12T15:11:58.604829",
          "2021-09-12T15:12:58.604829",
          "2021-09-12T15:13:58.604829",
          "2021-09-12T15:14:58.604829",
          "2021-09-12T15:15:58.604829",
          "2021-09-12T15:16:58.604829",
          "2021-09-12T15:17:58.604829",
          "2021-09-12T15:18:58.604829",
          "2021-09-12T15:19:58.604829",
          "2021-09-12T15:20:58.604829",
          "2021-09-12T15:21:58.604829",
          "2021-09-12T15:22:58.604829",
          "2021-09-12T15:23:58.604829",
          "2021-09-12T15:24:58.604829",
          "2021-09-12T15:25:58.604829",
          "2021-09-12T15:26:58.604829",
          "2021-09-12T15:27:58.604829",
          "2021-09-12T15:28:58.604829",
          "2021-09-12T15:29:58.604829",
          "2021-09-12T15:30:58.604829",
          "2021-09-12T15:31:58.604829"
         ],
         "xaxis": "x",
         "y": [
          0,
          0,
          0,
          0,
          0,
          0,
          0,
          0,
          0,
          0,
          0,
          0,
          0,
          4,
          4,
          7,
          7,
          6,
          7,
          10,
          3,
          5,
          4,
          5,
          7,
          11,
          11,
          15,
          18,
          19,
          19,
          21,
          24,
          21,
          24,
          24,
          25,
          27,
          32,
          32,
          32,
          27,
          27,
          24,
          25,
          26,
          34,
          36,
          40,
          41,
          41,
          42,
          42,
          37,
          41,
          45,
          47,
          50,
          53,
          55,
          58,
          58,
          58,
          58,
          52,
          53,
          50,
          42,
          41,
          39,
          41,
          46,
          40,
          46,
          45,
          45,
          50,
          51,
          53,
          54,
          56,
          58,
          57,
          51,
          51,
          52,
          51,
          49,
          55,
          53,
          51,
          51,
          52,
          53,
          53,
          56,
          58,
          58,
          52,
          53,
          50,
          49,
          52,
          39,
          44,
          41,
          38,
          47,
          44,
          48,
          50,
          49,
          49,
          50,
          50,
          50,
          53,
          57,
          57,
          53,
          53,
          53,
          53,
          55,
          53,
          55,
          48,
          49,
          52,
          52,
          51,
          58,
          58,
          58,
          58,
          52,
          53,
          53,
          41,
          44,
          38,
          37,
          48,
          46,
          51,
          47,
          47,
          46,
          45,
          50,
          53,
          53,
          55,
          54,
          53,
          49,
          48,
          49,
          51,
          52,
          56,
          57,
          58,
          58,
          54,
          55,
          54,
          54,
          52,
          53,
          53,
          49,
          53,
          48,
          42,
          45,
          43,
          45,
          50,
          44
         ],
         "yaxis": "y"
        }
       ],
       "layout": {
        "barmode": "relative",
        "legend": {
         "tracegroupgap": 0
        },
        "margin": {
         "t": 60
        },
        "template": {
         "data": {
          "bar": [
           {
            "error_x": {
             "color": "#2a3f5f"
            },
            "error_y": {
             "color": "#2a3f5f"
            },
            "marker": {
             "line": {
              "color": "#E5ECF6",
              "width": 0.5
             },
             "pattern": {
              "fillmode": "overlay",
              "size": 10,
              "solidity": 0.2
             }
            },
            "type": "bar"
           }
          ],
          "barpolar": [
           {
            "marker": {
             "line": {
              "color": "#E5ECF6",
              "width": 0.5
             },
             "pattern": {
              "fillmode": "overlay",
              "size": 10,
              "solidity": 0.2
             }
            },
            "type": "barpolar"
           }
          ],
          "carpet": [
           {
            "aaxis": {
             "endlinecolor": "#2a3f5f",
             "gridcolor": "white",
             "linecolor": "white",
             "minorgridcolor": "white",
             "startlinecolor": "#2a3f5f"
            },
            "baxis": {
             "endlinecolor": "#2a3f5f",
             "gridcolor": "white",
             "linecolor": "white",
             "minorgridcolor": "white",
             "startlinecolor": "#2a3f5f"
            },
            "type": "carpet"
           }
          ],
          "choropleth": [
           {
            "colorbar": {
             "outlinewidth": 0,
             "ticks": ""
            },
            "type": "choropleth"
           }
          ],
          "contour": [
           {
            "colorbar": {
             "outlinewidth": 0,
             "ticks": ""
            },
            "colorscale": [
             [
              0,
              "#0d0887"
             ],
             [
              0.1111111111111111,
              "#46039f"
             ],
             [
              0.2222222222222222,
              "#7201a8"
             ],
             [
              0.3333333333333333,
              "#9c179e"
             ],
             [
              0.4444444444444444,
              "#bd3786"
             ],
             [
              0.5555555555555556,
              "#d8576b"
             ],
             [
              0.6666666666666666,
              "#ed7953"
             ],
             [
              0.7777777777777778,
              "#fb9f3a"
             ],
             [
              0.8888888888888888,
              "#fdca26"
             ],
             [
              1,
              "#f0f921"
             ]
            ],
            "type": "contour"
           }
          ],
          "contourcarpet": [
           {
            "colorbar": {
             "outlinewidth": 0,
             "ticks": ""
            },
            "type": "contourcarpet"
           }
          ],
          "heatmap": [
           {
            "colorbar": {
             "outlinewidth": 0,
             "ticks": ""
            },
            "colorscale": [
             [
              0,
              "#0d0887"
             ],
             [
              0.1111111111111111,
              "#46039f"
             ],
             [
              0.2222222222222222,
              "#7201a8"
             ],
             [
              0.3333333333333333,
              "#9c179e"
             ],
             [
              0.4444444444444444,
              "#bd3786"
             ],
             [
              0.5555555555555556,
              "#d8576b"
             ],
             [
              0.6666666666666666,
              "#ed7953"
             ],
             [
              0.7777777777777778,
              "#fb9f3a"
             ],
             [
              0.8888888888888888,
              "#fdca26"
             ],
             [
              1,
              "#f0f921"
             ]
            ],
            "type": "heatmap"
           }
          ],
          "heatmapgl": [
           {
            "colorbar": {
             "outlinewidth": 0,
             "ticks": ""
            },
            "colorscale": [
             [
              0,
              "#0d0887"
             ],
             [
              0.1111111111111111,
              "#46039f"
             ],
             [
              0.2222222222222222,
              "#7201a8"
             ],
             [
              0.3333333333333333,
              "#9c179e"
             ],
             [
              0.4444444444444444,
              "#bd3786"
             ],
             [
              0.5555555555555556,
              "#d8576b"
             ],
             [
              0.6666666666666666,
              "#ed7953"
             ],
             [
              0.7777777777777778,
              "#fb9f3a"
             ],
             [
              0.8888888888888888,
              "#fdca26"
             ],
             [
              1,
              "#f0f921"
             ]
            ],
            "type": "heatmapgl"
           }
          ],
          "histogram": [
           {
            "marker": {
             "pattern": {
              "fillmode": "overlay",
              "size": 10,
              "solidity": 0.2
             }
            },
            "type": "histogram"
           }
          ],
          "histogram2d": [
           {
            "colorbar": {
             "outlinewidth": 0,
             "ticks": ""
            },
            "colorscale": [
             [
              0,
              "#0d0887"
             ],
             [
              0.1111111111111111,
              "#46039f"
             ],
             [
              0.2222222222222222,
              "#7201a8"
             ],
             [
              0.3333333333333333,
              "#9c179e"
             ],
             [
              0.4444444444444444,
              "#bd3786"
             ],
             [
              0.5555555555555556,
              "#d8576b"
             ],
             [
              0.6666666666666666,
              "#ed7953"
             ],
             [
              0.7777777777777778,
              "#fb9f3a"
             ],
             [
              0.8888888888888888,
              "#fdca26"
             ],
             [
              1,
              "#f0f921"
             ]
            ],
            "type": "histogram2d"
           }
          ],
          "histogram2dcontour": [
           {
            "colorbar": {
             "outlinewidth": 0,
             "ticks": ""
            },
            "colorscale": [
             [
              0,
              "#0d0887"
             ],
             [
              0.1111111111111111,
              "#46039f"
             ],
             [
              0.2222222222222222,
              "#7201a8"
             ],
             [
              0.3333333333333333,
              "#9c179e"
             ],
             [
              0.4444444444444444,
              "#bd3786"
             ],
             [
              0.5555555555555556,
              "#d8576b"
             ],
             [
              0.6666666666666666,
              "#ed7953"
             ],
             [
              0.7777777777777778,
              "#fb9f3a"
             ],
             [
              0.8888888888888888,
              "#fdca26"
             ],
             [
              1,
              "#f0f921"
             ]
            ],
            "type": "histogram2dcontour"
           }
          ],
          "mesh3d": [
           {
            "colorbar": {
             "outlinewidth": 0,
             "ticks": ""
            },
            "type": "mesh3d"
           }
          ],
          "parcoords": [
           {
            "line": {
             "colorbar": {
              "outlinewidth": 0,
              "ticks": ""
             }
            },
            "type": "parcoords"
           }
          ],
          "pie": [
           {
            "automargin": true,
            "type": "pie"
           }
          ],
          "scatter": [
           {
            "marker": {
             "colorbar": {
              "outlinewidth": 0,
              "ticks": ""
             }
            },
            "type": "scatter"
           }
          ],
          "scatter3d": [
           {
            "line": {
             "colorbar": {
              "outlinewidth": 0,
              "ticks": ""
             }
            },
            "marker": {
             "colorbar": {
              "outlinewidth": 0,
              "ticks": ""
             }
            },
            "type": "scatter3d"
           }
          ],
          "scattercarpet": [
           {
            "marker": {
             "colorbar": {
              "outlinewidth": 0,
              "ticks": ""
             }
            },
            "type": "scattercarpet"
           }
          ],
          "scattergeo": [
           {
            "marker": {
             "colorbar": {
              "outlinewidth": 0,
              "ticks": ""
             }
            },
            "type": "scattergeo"
           }
          ],
          "scattergl": [
           {
            "marker": {
             "colorbar": {
              "outlinewidth": 0,
              "ticks": ""
             }
            },
            "type": "scattergl"
           }
          ],
          "scattermapbox": [
           {
            "marker": {
             "colorbar": {
              "outlinewidth": 0,
              "ticks": ""
             }
            },
            "type": "scattermapbox"
           }
          ],
          "scatterpolar": [
           {
            "marker": {
             "colorbar": {
              "outlinewidth": 0,
              "ticks": ""
             }
            },
            "type": "scatterpolar"
           }
          ],
          "scatterpolargl": [
           {
            "marker": {
             "colorbar": {
              "outlinewidth": 0,
              "ticks": ""
             }
            },
            "type": "scatterpolargl"
           }
          ],
          "scatterternary": [
           {
            "marker": {
             "colorbar": {
              "outlinewidth": 0,
              "ticks": ""
             }
            },
            "type": "scatterternary"
           }
          ],
          "surface": [
           {
            "colorbar": {
             "outlinewidth": 0,
             "ticks": ""
            },
            "colorscale": [
             [
              0,
              "#0d0887"
             ],
             [
              0.1111111111111111,
              "#46039f"
             ],
             [
              0.2222222222222222,
              "#7201a8"
             ],
             [
              0.3333333333333333,
              "#9c179e"
             ],
             [
              0.4444444444444444,
              "#bd3786"
             ],
             [
              0.5555555555555556,
              "#d8576b"
             ],
             [
              0.6666666666666666,
              "#ed7953"
             ],
             [
              0.7777777777777778,
              "#fb9f3a"
             ],
             [
              0.8888888888888888,
              "#fdca26"
             ],
             [
              1,
              "#f0f921"
             ]
            ],
            "type": "surface"
           }
          ],
          "table": [
           {
            "cells": {
             "fill": {
              "color": "#EBF0F8"
             },
             "line": {
              "color": "white"
             }
            },
            "header": {
             "fill": {
              "color": "#C8D4E3"
             },
             "line": {
              "color": "white"
             }
            },
            "type": "table"
           }
          ]
         },
         "layout": {
          "annotationdefaults": {
           "arrowcolor": "#2a3f5f",
           "arrowhead": 0,
           "arrowwidth": 1
          },
          "autotypenumbers": "strict",
          "coloraxis": {
           "colorbar": {
            "outlinewidth": 0,
            "ticks": ""
           }
          },
          "colorscale": {
           "diverging": [
            [
             0,
             "#8e0152"
            ],
            [
             0.1,
             "#c51b7d"
            ],
            [
             0.2,
             "#de77ae"
            ],
            [
             0.3,
             "#f1b6da"
            ],
            [
             0.4,
             "#fde0ef"
            ],
            [
             0.5,
             "#f7f7f7"
            ],
            [
             0.6,
             "#e6f5d0"
            ],
            [
             0.7,
             "#b8e186"
            ],
            [
             0.8,
             "#7fbc41"
            ],
            [
             0.9,
             "#4d9221"
            ],
            [
             1,
             "#276419"
            ]
           ],
           "sequential": [
            [
             0,
             "#0d0887"
            ],
            [
             0.1111111111111111,
             "#46039f"
            ],
            [
             0.2222222222222222,
             "#7201a8"
            ],
            [
             0.3333333333333333,
             "#9c179e"
            ],
            [
             0.4444444444444444,
             "#bd3786"
            ],
            [
             0.5555555555555556,
             "#d8576b"
            ],
            [
             0.6666666666666666,
             "#ed7953"
            ],
            [
             0.7777777777777778,
             "#fb9f3a"
            ],
            [
             0.8888888888888888,
             "#fdca26"
            ],
            [
             1,
             "#f0f921"
            ]
           ],
           "sequentialminus": [
            [
             0,
             "#0d0887"
            ],
            [
             0.1111111111111111,
             "#46039f"
            ],
            [
             0.2222222222222222,
             "#7201a8"
            ],
            [
             0.3333333333333333,
             "#9c179e"
            ],
            [
             0.4444444444444444,
             "#bd3786"
            ],
            [
             0.5555555555555556,
             "#d8576b"
            ],
            [
             0.6666666666666666,
             "#ed7953"
            ],
            [
             0.7777777777777778,
             "#fb9f3a"
            ],
            [
             0.8888888888888888,
             "#fdca26"
            ],
            [
             1,
             "#f0f921"
            ]
           ]
          },
          "colorway": [
           "#636efa",
           "#EF553B",
           "#00cc96",
           "#ab63fa",
           "#FFA15A",
           "#19d3f3",
           "#FF6692",
           "#B6E880",
           "#FF97FF",
           "#FECB52"
          ],
          "font": {
           "color": "#2a3f5f"
          },
          "geo": {
           "bgcolor": "white",
           "lakecolor": "white",
           "landcolor": "#E5ECF6",
           "showlakes": true,
           "showland": true,
           "subunitcolor": "white"
          },
          "hoverlabel": {
           "align": "left"
          },
          "hovermode": "closest",
          "mapbox": {
           "style": "light"
          },
          "paper_bgcolor": "white",
          "plot_bgcolor": "#E5ECF6",
          "polar": {
           "angularaxis": {
            "gridcolor": "white",
            "linecolor": "white",
            "ticks": ""
           },
           "bgcolor": "#E5ECF6",
           "radialaxis": {
            "gridcolor": "white",
            "linecolor": "white",
            "ticks": ""
           }
          },
          "scene": {
           "xaxis": {
            "backgroundcolor": "#E5ECF6",
            "gridcolor": "white",
            "gridwidth": 2,
            "linecolor": "white",
            "showbackground": true,
            "ticks": "",
            "zerolinecolor": "white"
           },
           "yaxis": {
            "backgroundcolor": "#E5ECF6",
            "gridcolor": "white",
            "gridwidth": 2,
            "linecolor": "white",
            "showbackground": true,
            "ticks": "",
            "zerolinecolor": "white"
           },
           "zaxis": {
            "backgroundcolor": "#E5ECF6",
            "gridcolor": "white",
            "gridwidth": 2,
            "linecolor": "white",
            "showbackground": true,
            "ticks": "",
            "zerolinecolor": "white"
           }
          },
          "shapedefaults": {
           "line": {
            "color": "#2a3f5f"
           }
          },
          "ternary": {
           "aaxis": {
            "gridcolor": "white",
            "linecolor": "white",
            "ticks": ""
           },
           "baxis": {
            "gridcolor": "white",
            "linecolor": "white",
            "ticks": ""
           },
           "bgcolor": "#E5ECF6",
           "caxis": {
            "gridcolor": "white",
            "linecolor": "white",
            "ticks": ""
           }
          },
          "title": {
           "x": 0.05
          },
          "xaxis": {
           "automargin": true,
           "gridcolor": "white",
           "linecolor": "white",
           "ticks": "",
           "title": {
            "standoff": 15
           },
           "zerolinecolor": "white",
           "zerolinewidth": 2
          },
          "yaxis": {
           "automargin": true,
           "gridcolor": "white",
           "linecolor": "white",
           "ticks": "",
           "title": {
            "standoff": 15
           },
           "zerolinecolor": "white",
           "zerolinewidth": 2
          }
         }
        },
        "xaxis": {
         "anchor": "y",
         "domain": [
          0,
          1
         ],
         "title": {
          "text": "Timestamp"
         }
        },
        "yaxis": {
         "anchor": "x",
         "domain": [
          0,
          1
         ],
         "title": {
          "text": "Value"
         }
        }
       }
      },
      "text/html": [
       "<div>                            <div id=\"eed058f8-57b5-4557-ac8a-0fab018d796a\" class=\"plotly-graph-div\" style=\"height:525px; width:100%;\"></div>            <script type=\"text/javascript\">                require([\"plotly\"], function(Plotly) {                    window.PLOTLYENV=window.PLOTLYENV || {};                                    if (document.getElementById(\"eed058f8-57b5-4557-ac8a-0fab018d796a\")) {                    Plotly.newPlot(                        \"eed058f8-57b5-4557-ac8a-0fab018d796a\",                        [{\"alignmentgroup\":\"True\",\"hovertemplate\":\"Timestamp=%{x}<br>Value=%{y}<extra></extra>\",\"legendgroup\":\"\",\"marker\":{\"color\":\"#636efa\",\"pattern\":{\"shape\":\"\"}},\"name\":\"\",\"offsetgroup\":\"\",\"orientation\":\"v\",\"showlegend\":false,\"textposition\":\"auto\",\"type\":\"bar\",\"x\":[\"2021-09-12T12:32:58.604829\",\"2021-09-12T12:33:58.604829\",\"2021-09-12T12:34:58.604829\",\"2021-09-12T12:35:58.604829\",\"2021-09-12T12:36:58.604829\",\"2021-09-12T12:37:58.604829\",\"2021-09-12T12:38:58.604829\",\"2021-09-12T12:39:58.604829\",\"2021-09-12T12:40:58.604829\",\"2021-09-12T12:41:58.604829\",\"2021-09-12T12:42:58.604829\",\"2021-09-12T12:43:58.604829\",\"2021-09-12T12:44:58.604829\",\"2021-09-12T12:45:58.604829\",\"2021-09-12T12:46:58.604829\",\"2021-09-12T12:47:58.604829\",\"2021-09-12T12:48:58.604829\",\"2021-09-12T12:49:58.604829\",\"2021-09-12T12:50:58.604829\",\"2021-09-12T12:51:58.604829\",\"2021-09-12T12:52:58.604829\",\"2021-09-12T12:53:58.604829\",\"2021-09-12T12:54:58.604829\",\"2021-09-12T12:55:58.604829\",\"2021-09-12T12:56:58.604829\",\"2021-09-12T12:57:58.604829\",\"2021-09-12T12:58:58.604829\",\"2021-09-12T12:59:58.604829\",\"2021-09-12T13:00:58.604829\",\"2021-09-12T13:01:58.604829\",\"2021-09-12T13:02:58.604829\",\"2021-09-12T13:03:58.604829\",\"2021-09-12T13:04:58.604829\",\"2021-09-12T13:05:58.604829\",\"2021-09-12T13:06:58.604829\",\"2021-09-12T13:07:58.604829\",\"2021-09-12T13:08:58.604829\",\"2021-09-12T13:09:58.604829\",\"2021-09-12T13:10:58.604829\",\"2021-09-12T13:11:58.604829\",\"2021-09-12T13:12:58.604829\",\"2021-09-12T13:13:58.604829\",\"2021-09-12T13:14:58.604829\",\"2021-09-12T13:15:58.604829\",\"2021-09-12T13:16:58.604829\",\"2021-09-12T13:17:58.604829\",\"2021-09-12T13:18:58.604829\",\"2021-09-12T13:19:58.604829\",\"2021-09-12T13:20:58.604829\",\"2021-09-12T13:21:58.604829\",\"2021-09-12T13:22:58.604829\",\"2021-09-12T13:23:58.604829\",\"2021-09-12T13:24:58.604829\",\"2021-09-12T13:25:58.604829\",\"2021-09-12T13:26:58.604829\",\"2021-09-12T13:27:58.604829\",\"2021-09-12T13:28:58.604829\",\"2021-09-12T13:29:58.604829\",\"2021-09-12T13:30:58.604829\",\"2021-09-12T13:31:58.604829\",\"2021-09-12T13:32:58.604829\",\"2021-09-12T13:33:58.604829\",\"2021-09-12T13:34:58.604829\",\"2021-09-12T13:35:58.604829\",\"2021-09-12T13:36:58.604829\",\"2021-09-12T13:37:58.604829\",\"2021-09-12T13:38:58.604829\",\"2021-09-12T13:39:58.604829\",\"2021-09-12T13:40:58.604829\",\"2021-09-12T13:41:58.604829\",\"2021-09-12T13:42:58.604829\",\"2021-09-12T13:43:58.604829\",\"2021-09-12T13:44:58.604829\",\"2021-09-12T13:45:58.604829\",\"2021-09-12T13:46:58.604829\",\"2021-09-12T13:47:58.604829\",\"2021-09-12T13:48:58.604829\",\"2021-09-12T13:49:58.604829\",\"2021-09-12T13:50:58.604829\",\"2021-09-12T13:51:58.604829\",\"2021-09-12T13:52:58.604829\",\"2021-09-12T13:53:58.604829\",\"2021-09-12T13:54:58.604829\",\"2021-09-12T13:55:58.604829\",\"2021-09-12T13:56:58.604829\",\"2021-09-12T13:57:58.604829\",\"2021-09-12T13:58:58.604829\",\"2021-09-12T13:59:58.604829\",\"2021-09-12T14:00:58.604829\",\"2021-09-12T14:01:58.604829\",\"2021-09-12T14:02:58.604829\",\"2021-09-12T14:03:58.604829\",\"2021-09-12T14:04:58.604829\",\"2021-09-12T14:05:58.604829\",\"2021-09-12T14:06:58.604829\",\"2021-09-12T14:07:58.604829\",\"2021-09-12T14:08:58.604829\",\"2021-09-12T14:09:58.604829\",\"2021-09-12T14:10:58.604829\",\"2021-09-12T14:11:58.604829\",\"2021-09-12T14:12:58.604829\",\"2021-09-12T14:13:58.604829\",\"2021-09-12T14:14:58.604829\",\"2021-09-12T14:15:58.604829\",\"2021-09-12T14:16:58.604829\",\"2021-09-12T14:17:58.604829\",\"2021-09-12T14:18:58.604829\",\"2021-09-12T14:19:58.604829\",\"2021-09-12T14:20:58.604829\",\"2021-09-12T14:21:58.604829\",\"2021-09-12T14:22:58.604829\",\"2021-09-12T14:23:58.604829\",\"2021-09-12T14:24:58.604829\",\"2021-09-12T14:25:58.604829\",\"2021-09-12T14:26:58.604829\",\"2021-09-12T14:27:58.604829\",\"2021-09-12T14:28:58.604829\",\"2021-09-12T14:29:58.604829\",\"2021-09-12T14:30:58.604829\",\"2021-09-12T14:31:58.604829\",\"2021-09-12T14:32:58.604829\",\"2021-09-12T14:33:58.604829\",\"2021-09-12T14:34:58.604829\",\"2021-09-12T14:35:58.604829\",\"2021-09-12T14:36:58.604829\",\"2021-09-12T14:37:58.604829\",\"2021-09-12T14:38:58.604829\",\"2021-09-12T14:39:58.604829\",\"2021-09-12T14:40:58.604829\",\"2021-09-12T14:41:58.604829\",\"2021-09-12T14:42:58.604829\",\"2021-09-12T14:43:58.604829\",\"2021-09-12T14:44:58.604829\",\"2021-09-12T14:45:58.604829\",\"2021-09-12T14:46:58.604829\",\"2021-09-12T14:47:58.604829\",\"2021-09-12T14:48:58.604829\",\"2021-09-12T14:49:58.604829\",\"2021-09-12T14:50:58.604829\",\"2021-09-12T14:51:58.604829\",\"2021-09-12T14:52:58.604829\",\"2021-09-12T14:53:58.604829\",\"2021-09-12T14:54:58.604829\",\"2021-09-12T14:55:58.604829\",\"2021-09-12T14:56:58.604829\",\"2021-09-12T14:57:58.604829\",\"2021-09-12T14:58:58.604829\",\"2021-09-12T14:59:58.604829\",\"2021-09-12T15:00:58.604829\",\"2021-09-12T15:01:58.604829\",\"2021-09-12T15:02:58.604829\",\"2021-09-12T15:03:58.604829\",\"2021-09-12T15:04:58.604829\",\"2021-09-12T15:05:58.604829\",\"2021-09-12T15:06:58.604829\",\"2021-09-12T15:07:58.604829\",\"2021-09-12T15:08:58.604829\",\"2021-09-12T15:09:58.604829\",\"2021-09-12T15:10:58.604829\",\"2021-09-12T15:11:58.604829\",\"2021-09-12T15:12:58.604829\",\"2021-09-12T15:13:58.604829\",\"2021-09-12T15:14:58.604829\",\"2021-09-12T15:15:58.604829\",\"2021-09-12T15:16:58.604829\",\"2021-09-12T15:17:58.604829\",\"2021-09-12T15:18:58.604829\",\"2021-09-12T15:19:58.604829\",\"2021-09-12T15:20:58.604829\",\"2021-09-12T15:21:58.604829\",\"2021-09-12T15:22:58.604829\",\"2021-09-12T15:23:58.604829\",\"2021-09-12T15:24:58.604829\",\"2021-09-12T15:25:58.604829\",\"2021-09-12T15:26:58.604829\",\"2021-09-12T15:27:58.604829\",\"2021-09-12T15:28:58.604829\",\"2021-09-12T15:29:58.604829\",\"2021-09-12T15:30:58.604829\",\"2021-09-12T15:31:58.604829\"],\"xaxis\":\"x\",\"y\":[0,0,0,0,0,0,0,0,0,0,0,0,0,4,4,7,7,6,7,10,3,5,4,5,7,11,11,15,18,19,19,21,24,21,24,24,25,27,32,32,32,27,27,24,25,26,34,36,40,41,41,42,42,37,41,45,47,50,53,55,58,58,58,58,52,53,50,42,41,39,41,46,40,46,45,45,50,51,53,54,56,58,57,51,51,52,51,49,55,53,51,51,52,53,53,56,58,58,52,53,50,49,52,39,44,41,38,47,44,48,50,49,49,50,50,50,53,57,57,53,53,53,53,55,53,55,48,49,52,52,51,58,58,58,58,52,53,53,41,44,38,37,48,46,51,47,47,46,45,50,53,53,55,54,53,49,48,49,51,52,56,57,58,58,54,55,54,54,52,53,53,49,53,48,42,45,43,45,50,44],\"yaxis\":\"y\"}],                        {\"barmode\":\"relative\",\"legend\":{\"tracegroupgap\":0},\"margin\":{\"t\":60},\"template\":{\"data\":{\"bar\":[{\"error_x\":{\"color\":\"#2a3f5f\"},\"error_y\":{\"color\":\"#2a3f5f\"},\"marker\":{\"line\":{\"color\":\"#E5ECF6\",\"width\":0.5},\"pattern\":{\"fillmode\":\"overlay\",\"size\":10,\"solidity\":0.2}},\"type\":\"bar\"}],\"barpolar\":[{\"marker\":{\"line\":{\"color\":\"#E5ECF6\",\"width\":0.5},\"pattern\":{\"fillmode\":\"overlay\",\"size\":10,\"solidity\":0.2}},\"type\":\"barpolar\"}],\"carpet\":[{\"aaxis\":{\"endlinecolor\":\"#2a3f5f\",\"gridcolor\":\"white\",\"linecolor\":\"white\",\"minorgridcolor\":\"white\",\"startlinecolor\":\"#2a3f5f\"},\"baxis\":{\"endlinecolor\":\"#2a3f5f\",\"gridcolor\":\"white\",\"linecolor\":\"white\",\"minorgridcolor\":\"white\",\"startlinecolor\":\"#2a3f5f\"},\"type\":\"carpet\"}],\"choropleth\":[{\"colorbar\":{\"outlinewidth\":0,\"ticks\":\"\"},\"type\":\"choropleth\"}],\"contour\":[{\"colorbar\":{\"outlinewidth\":0,\"ticks\":\"\"},\"colorscale\":[[0.0,\"#0d0887\"],[0.1111111111111111,\"#46039f\"],[0.2222222222222222,\"#7201a8\"],[0.3333333333333333,\"#9c179e\"],[0.4444444444444444,\"#bd3786\"],[0.5555555555555556,\"#d8576b\"],[0.6666666666666666,\"#ed7953\"],[0.7777777777777778,\"#fb9f3a\"],[0.8888888888888888,\"#fdca26\"],[1.0,\"#f0f921\"]],\"type\":\"contour\"}],\"contourcarpet\":[{\"colorbar\":{\"outlinewidth\":0,\"ticks\":\"\"},\"type\":\"contourcarpet\"}],\"heatmap\":[{\"colorbar\":{\"outlinewidth\":0,\"ticks\":\"\"},\"colorscale\":[[0.0,\"#0d0887\"],[0.1111111111111111,\"#46039f\"],[0.2222222222222222,\"#7201a8\"],[0.3333333333333333,\"#9c179e\"],[0.4444444444444444,\"#bd3786\"],[0.5555555555555556,\"#d8576b\"],[0.6666666666666666,\"#ed7953\"],[0.7777777777777778,\"#fb9f3a\"],[0.8888888888888888,\"#fdca26\"],[1.0,\"#f0f921\"]],\"type\":\"heatmap\"}],\"heatmapgl\":[{\"colorbar\":{\"outlinewidth\":0,\"ticks\":\"\"},\"colorscale\":[[0.0,\"#0d0887\"],[0.1111111111111111,\"#46039f\"],[0.2222222222222222,\"#7201a8\"],[0.3333333333333333,\"#9c179e\"],[0.4444444444444444,\"#bd3786\"],[0.5555555555555556,\"#d8576b\"],[0.6666666666666666,\"#ed7953\"],[0.7777777777777778,\"#fb9f3a\"],[0.8888888888888888,\"#fdca26\"],[1.0,\"#f0f921\"]],\"type\":\"heatmapgl\"}],\"histogram\":[{\"marker\":{\"pattern\":{\"fillmode\":\"overlay\",\"size\":10,\"solidity\":0.2}},\"type\":\"histogram\"}],\"histogram2d\":[{\"colorbar\":{\"outlinewidth\":0,\"ticks\":\"\"},\"colorscale\":[[0.0,\"#0d0887\"],[0.1111111111111111,\"#46039f\"],[0.2222222222222222,\"#7201a8\"],[0.3333333333333333,\"#9c179e\"],[0.4444444444444444,\"#bd3786\"],[0.5555555555555556,\"#d8576b\"],[0.6666666666666666,\"#ed7953\"],[0.7777777777777778,\"#fb9f3a\"],[0.8888888888888888,\"#fdca26\"],[1.0,\"#f0f921\"]],\"type\":\"histogram2d\"}],\"histogram2dcontour\":[{\"colorbar\":{\"outlinewidth\":0,\"ticks\":\"\"},\"colorscale\":[[0.0,\"#0d0887\"],[0.1111111111111111,\"#46039f\"],[0.2222222222222222,\"#7201a8\"],[0.3333333333333333,\"#9c179e\"],[0.4444444444444444,\"#bd3786\"],[0.5555555555555556,\"#d8576b\"],[0.6666666666666666,\"#ed7953\"],[0.7777777777777778,\"#fb9f3a\"],[0.8888888888888888,\"#fdca26\"],[1.0,\"#f0f921\"]],\"type\":\"histogram2dcontour\"}],\"mesh3d\":[{\"colorbar\":{\"outlinewidth\":0,\"ticks\":\"\"},\"type\":\"mesh3d\"}],\"parcoords\":[{\"line\":{\"colorbar\":{\"outlinewidth\":0,\"ticks\":\"\"}},\"type\":\"parcoords\"}],\"pie\":[{\"automargin\":true,\"type\":\"pie\"}],\"scatter\":[{\"marker\":{\"colorbar\":{\"outlinewidth\":0,\"ticks\":\"\"}},\"type\":\"scatter\"}],\"scatter3d\":[{\"line\":{\"colorbar\":{\"outlinewidth\":0,\"ticks\":\"\"}},\"marker\":{\"colorbar\":{\"outlinewidth\":0,\"ticks\":\"\"}},\"type\":\"scatter3d\"}],\"scattercarpet\":[{\"marker\":{\"colorbar\":{\"outlinewidth\":0,\"ticks\":\"\"}},\"type\":\"scattercarpet\"}],\"scattergeo\":[{\"marker\":{\"colorbar\":{\"outlinewidth\":0,\"ticks\":\"\"}},\"type\":\"scattergeo\"}],\"scattergl\":[{\"marker\":{\"colorbar\":{\"outlinewidth\":0,\"ticks\":\"\"}},\"type\":\"scattergl\"}],\"scattermapbox\":[{\"marker\":{\"colorbar\":{\"outlinewidth\":0,\"ticks\":\"\"}},\"type\":\"scattermapbox\"}],\"scatterpolar\":[{\"marker\":{\"colorbar\":{\"outlinewidth\":0,\"ticks\":\"\"}},\"type\":\"scatterpolar\"}],\"scatterpolargl\":[{\"marker\":{\"colorbar\":{\"outlinewidth\":0,\"ticks\":\"\"}},\"type\":\"scatterpolargl\"}],\"scatterternary\":[{\"marker\":{\"colorbar\":{\"outlinewidth\":0,\"ticks\":\"\"}},\"type\":\"scatterternary\"}],\"surface\":[{\"colorbar\":{\"outlinewidth\":0,\"ticks\":\"\"},\"colorscale\":[[0.0,\"#0d0887\"],[0.1111111111111111,\"#46039f\"],[0.2222222222222222,\"#7201a8\"],[0.3333333333333333,\"#9c179e\"],[0.4444444444444444,\"#bd3786\"],[0.5555555555555556,\"#d8576b\"],[0.6666666666666666,\"#ed7953\"],[0.7777777777777778,\"#fb9f3a\"],[0.8888888888888888,\"#fdca26\"],[1.0,\"#f0f921\"]],\"type\":\"surface\"}],\"table\":[{\"cells\":{\"fill\":{\"color\":\"#EBF0F8\"},\"line\":{\"color\":\"white\"}},\"header\":{\"fill\":{\"color\":\"#C8D4E3\"},\"line\":{\"color\":\"white\"}},\"type\":\"table\"}]},\"layout\":{\"annotationdefaults\":{\"arrowcolor\":\"#2a3f5f\",\"arrowhead\":0,\"arrowwidth\":1},\"autotypenumbers\":\"strict\",\"coloraxis\":{\"colorbar\":{\"outlinewidth\":0,\"ticks\":\"\"}},\"colorscale\":{\"diverging\":[[0,\"#8e0152\"],[0.1,\"#c51b7d\"],[0.2,\"#de77ae\"],[0.3,\"#f1b6da\"],[0.4,\"#fde0ef\"],[0.5,\"#f7f7f7\"],[0.6,\"#e6f5d0\"],[0.7,\"#b8e186\"],[0.8,\"#7fbc41\"],[0.9,\"#4d9221\"],[1,\"#276419\"]],\"sequential\":[[0.0,\"#0d0887\"],[0.1111111111111111,\"#46039f\"],[0.2222222222222222,\"#7201a8\"],[0.3333333333333333,\"#9c179e\"],[0.4444444444444444,\"#bd3786\"],[0.5555555555555556,\"#d8576b\"],[0.6666666666666666,\"#ed7953\"],[0.7777777777777778,\"#fb9f3a\"],[0.8888888888888888,\"#fdca26\"],[1.0,\"#f0f921\"]],\"sequentialminus\":[[0.0,\"#0d0887\"],[0.1111111111111111,\"#46039f\"],[0.2222222222222222,\"#7201a8\"],[0.3333333333333333,\"#9c179e\"],[0.4444444444444444,\"#bd3786\"],[0.5555555555555556,\"#d8576b\"],[0.6666666666666666,\"#ed7953\"],[0.7777777777777778,\"#fb9f3a\"],[0.8888888888888888,\"#fdca26\"],[1.0,\"#f0f921\"]]},\"colorway\":[\"#636efa\",\"#EF553B\",\"#00cc96\",\"#ab63fa\",\"#FFA15A\",\"#19d3f3\",\"#FF6692\",\"#B6E880\",\"#FF97FF\",\"#FECB52\"],\"font\":{\"color\":\"#2a3f5f\"},\"geo\":{\"bgcolor\":\"white\",\"lakecolor\":\"white\",\"landcolor\":\"#E5ECF6\",\"showlakes\":true,\"showland\":true,\"subunitcolor\":\"white\"},\"hoverlabel\":{\"align\":\"left\"},\"hovermode\":\"closest\",\"mapbox\":{\"style\":\"light\"},\"paper_bgcolor\":\"white\",\"plot_bgcolor\":\"#E5ECF6\",\"polar\":{\"angularaxis\":{\"gridcolor\":\"white\",\"linecolor\":\"white\",\"ticks\":\"\"},\"bgcolor\":\"#E5ECF6\",\"radialaxis\":{\"gridcolor\":\"white\",\"linecolor\":\"white\",\"ticks\":\"\"}},\"scene\":{\"xaxis\":{\"backgroundcolor\":\"#E5ECF6\",\"gridcolor\":\"white\",\"gridwidth\":2,\"linecolor\":\"white\",\"showbackground\":true,\"ticks\":\"\",\"zerolinecolor\":\"white\"},\"yaxis\":{\"backgroundcolor\":\"#E5ECF6\",\"gridcolor\":\"white\",\"gridwidth\":2,\"linecolor\":\"white\",\"showbackground\":true,\"ticks\":\"\",\"zerolinecolor\":\"white\"},\"zaxis\":{\"backgroundcolor\":\"#E5ECF6\",\"gridcolor\":\"white\",\"gridwidth\":2,\"linecolor\":\"white\",\"showbackground\":true,\"ticks\":\"\",\"zerolinecolor\":\"white\"}},\"shapedefaults\":{\"line\":{\"color\":\"#2a3f5f\"}},\"ternary\":{\"aaxis\":{\"gridcolor\":\"white\",\"linecolor\":\"white\",\"ticks\":\"\"},\"baxis\":{\"gridcolor\":\"white\",\"linecolor\":\"white\",\"ticks\":\"\"},\"bgcolor\":\"#E5ECF6\",\"caxis\":{\"gridcolor\":\"white\",\"linecolor\":\"white\",\"ticks\":\"\"}},\"title\":{\"x\":0.05},\"xaxis\":{\"automargin\":true,\"gridcolor\":\"white\",\"linecolor\":\"white\",\"ticks\":\"\",\"title\":{\"standoff\":15},\"zerolinecolor\":\"white\",\"zerolinewidth\":2},\"yaxis\":{\"automargin\":true,\"gridcolor\":\"white\",\"linecolor\":\"white\",\"ticks\":\"\",\"title\":{\"standoff\":15},\"zerolinecolor\":\"white\",\"zerolinewidth\":2}}},\"xaxis\":{\"anchor\":\"y\",\"domain\":[0.0,1.0],\"title\":{\"text\":\"Timestamp\"}},\"yaxis\":{\"anchor\":\"x\",\"domain\":[0.0,1.0],\"title\":{\"text\":\"Value\"}}},                        {\"responsive\": true}                    ).then(function(){\n",
       "                            \n",
       "var gd = document.getElementById('eed058f8-57b5-4557-ac8a-0fab018d796a');\n",
       "var x = new MutationObserver(function (mutations, observer) {{\n",
       "        var display = window.getComputedStyle(gd).display;\n",
       "        if (!display || display === 'none') {{\n",
       "            console.log([gd, 'removed!']);\n",
       "            Plotly.purge(gd);\n",
       "            observer.disconnect();\n",
       "        }}\n",
       "}});\n",
       "\n",
       "// Listen for the removal of the full notebook cells\n",
       "var notebookContainer = gd.closest('#notebook-container');\n",
       "if (notebookContainer) {{\n",
       "    x.observe(notebookContainer, {childList: true});\n",
       "}}\n",
       "\n",
       "// Listen for the clearing of the current output cell\n",
       "var outputEl = gd.closest('.output');\n",
       "if (outputEl) {{\n",
       "    x.observe(outputEl, {childList: true});\n",
       "}}\n",
       "\n",
       "                        })                };                });            </script>        </div>"
      ]
     },
     "metadata": {},
     "output_type": "display_data"
    }
   ],
   "source": [
    "#df = dfs['requests_waiting']\n",
    "df = df_system[ df_system.Metric == Metric.RW.value ]\n",
    "fig = px.bar(df, x='Timestamp', y='Value')\n",
    "fig.show()"
   ]
  },
  {
   "cell_type": "markdown",
   "metadata": {},
   "source": [
    "## Active Users"
   ]
  },
  {
   "cell_type": "code",
   "execution_count": 397,
   "metadata": {},
   "outputs": [],
   "source": [
    "df_users_active = world.user_gen.collect()\n",
    "#display(df_users_active)"
   ]
  },
  {
   "cell_type": "code",
   "execution_count": 398,
   "metadata": {},
   "outputs": [
    {
     "data": {
      "application/vnd.plotly.v1+json": {
       "config": {
        "plotlyServerURL": "https://plot.ly"
       },
       "data": [
        {
         "alignmentgroup": "True",
         "hovertemplate": "Timestamp=%{x}<br>Value=%{y}<extra></extra>",
         "legendgroup": "",
         "marker": {
          "color": "#636efa",
          "pattern": {
           "shape": ""
          }
         },
         "name": "",
         "offsetgroup": "",
         "orientation": "v",
         "showlegend": false,
         "textposition": "auto",
         "type": "bar",
         "x": [
          "2021-09-12T12:32:58.604829",
          "2021-09-12T12:33:58.604829",
          "2021-09-12T12:34:58.604829",
          "2021-09-12T12:35:58.604829",
          "2021-09-12T12:36:58.604829",
          "2021-09-12T12:37:58.604829",
          "2021-09-12T12:38:58.604829",
          "2021-09-12T12:39:58.604829",
          "2021-09-12T12:40:58.604829",
          "2021-09-12T12:41:58.604829",
          "2021-09-12T12:42:58.604829",
          "2021-09-12T12:43:58.604829",
          "2021-09-12T12:44:58.604829",
          "2021-09-12T12:45:58.604829",
          "2021-09-12T12:46:58.604829",
          "2021-09-12T12:47:58.604829",
          "2021-09-12T12:48:58.604829",
          "2021-09-12T12:49:58.604829",
          "2021-09-12T12:50:58.604829",
          "2021-09-12T12:51:58.604829",
          "2021-09-12T12:52:58.604829",
          "2021-09-12T12:53:58.604829",
          "2021-09-12T12:54:58.604829",
          "2021-09-12T12:55:58.604829",
          "2021-09-12T12:56:58.604829",
          "2021-09-12T12:57:58.604829",
          "2021-09-12T12:58:58.604829",
          "2021-09-12T12:59:58.604829",
          "2021-09-12T13:00:58.604829",
          "2021-09-12T13:01:58.604829",
          "2021-09-12T13:02:58.604829",
          "2021-09-12T13:03:58.604829",
          "2021-09-12T13:04:58.604829",
          "2021-09-12T13:05:58.604829",
          "2021-09-12T13:06:58.604829",
          "2021-09-12T13:07:58.604829",
          "2021-09-12T13:08:58.604829",
          "2021-09-12T13:09:58.604829",
          "2021-09-12T13:10:58.604829",
          "2021-09-12T13:11:58.604829",
          "2021-09-12T13:12:58.604829",
          "2021-09-12T13:13:58.604829",
          "2021-09-12T13:14:58.604829",
          "2021-09-12T13:15:58.604829",
          "2021-09-12T13:16:58.604829",
          "2021-09-12T13:17:58.604829",
          "2021-09-12T13:18:58.604829",
          "2021-09-12T13:19:58.604829",
          "2021-09-12T13:20:58.604829",
          "2021-09-12T13:21:58.604829",
          "2021-09-12T13:22:58.604829",
          "2021-09-12T13:23:58.604829",
          "2021-09-12T13:24:58.604829",
          "2021-09-12T13:25:58.604829",
          "2021-09-12T13:26:58.604829",
          "2021-09-12T13:27:58.604829",
          "2021-09-12T13:28:58.604829",
          "2021-09-12T13:29:58.604829",
          "2021-09-12T13:30:58.604829",
          "2021-09-12T13:31:58.604829",
          "2021-09-12T13:32:58.604829",
          "2021-09-12T13:33:58.604829",
          "2021-09-12T13:34:58.604829",
          "2021-09-12T13:35:58.604829",
          "2021-09-12T13:36:58.604829",
          "2021-09-12T13:37:58.604829",
          "2021-09-12T13:38:58.604829",
          "2021-09-12T13:39:58.604829",
          "2021-09-12T13:40:58.604829",
          "2021-09-12T13:41:58.604829",
          "2021-09-12T13:42:58.604829",
          "2021-09-12T13:43:58.604829",
          "2021-09-12T13:44:58.604829",
          "2021-09-12T13:45:58.604829",
          "2021-09-12T13:46:58.604829",
          "2021-09-12T13:47:58.604829",
          "2021-09-12T13:48:58.604829",
          "2021-09-12T13:49:58.604829",
          "2021-09-12T13:50:58.604829",
          "2021-09-12T13:51:58.604829",
          "2021-09-12T13:52:58.604829",
          "2021-09-12T13:53:58.604829",
          "2021-09-12T13:54:58.604829",
          "2021-09-12T13:55:58.604829",
          "2021-09-12T13:56:58.604829",
          "2021-09-12T13:57:58.604829",
          "2021-09-12T13:58:58.604829",
          "2021-09-12T13:59:58.604829",
          "2021-09-12T14:00:58.604829",
          "2021-09-12T14:01:58.604829",
          "2021-09-12T14:02:58.604829",
          "2021-09-12T14:03:58.604829",
          "2021-09-12T14:04:58.604829",
          "2021-09-12T14:05:58.604829",
          "2021-09-12T14:06:58.604829",
          "2021-09-12T14:07:58.604829",
          "2021-09-12T14:08:58.604829",
          "2021-09-12T14:09:58.604829",
          "2021-09-12T14:10:58.604829",
          "2021-09-12T14:11:58.604829",
          "2021-09-12T14:12:58.604829",
          "2021-09-12T14:13:58.604829",
          "2021-09-12T14:14:58.604829",
          "2021-09-12T14:15:58.604829",
          "2021-09-12T14:16:58.604829",
          "2021-09-12T14:17:58.604829",
          "2021-09-12T14:18:58.604829",
          "2021-09-12T14:19:58.604829",
          "2021-09-12T14:20:58.604829",
          "2021-09-12T14:21:58.604829",
          "2021-09-12T14:22:58.604829",
          "2021-09-12T14:23:58.604829",
          "2021-09-12T14:24:58.604829",
          "2021-09-12T14:25:58.604829",
          "2021-09-12T14:26:58.604829",
          "2021-09-12T14:27:58.604829",
          "2021-09-12T14:28:58.604829",
          "2021-09-12T14:29:58.604829",
          "2021-09-12T14:30:58.604829",
          "2021-09-12T14:31:58.604829",
          "2021-09-12T14:32:58.604829",
          "2021-09-12T14:33:58.604829",
          "2021-09-12T14:34:58.604829",
          "2021-09-12T14:35:58.604829",
          "2021-09-12T14:36:58.604829",
          "2021-09-12T14:37:58.604829",
          "2021-09-12T14:38:58.604829",
          "2021-09-12T14:39:58.604829",
          "2021-09-12T14:40:58.604829",
          "2021-09-12T14:41:58.604829",
          "2021-09-12T14:42:58.604829",
          "2021-09-12T14:43:58.604829",
          "2021-09-12T14:44:58.604829",
          "2021-09-12T14:45:58.604829",
          "2021-09-12T14:46:58.604829",
          "2021-09-12T14:47:58.604829",
          "2021-09-12T14:48:58.604829",
          "2021-09-12T14:49:58.604829",
          "2021-09-12T14:50:58.604829",
          "2021-09-12T14:51:58.604829",
          "2021-09-12T14:52:58.604829",
          "2021-09-12T14:53:58.604829",
          "2021-09-12T14:54:58.604829",
          "2021-09-12T14:55:58.604829",
          "2021-09-12T14:56:58.604829",
          "2021-09-12T14:57:58.604829",
          "2021-09-12T14:58:58.604829",
          "2021-09-12T14:59:58.604829",
          "2021-09-12T15:00:58.604829",
          "2021-09-12T15:01:58.604829",
          "2021-09-12T15:02:58.604829",
          "2021-09-12T15:03:58.604829",
          "2021-09-12T15:04:58.604829",
          "2021-09-12T15:05:58.604829",
          "2021-09-12T15:06:58.604829",
          "2021-09-12T15:07:58.604829",
          "2021-09-12T15:08:58.604829",
          "2021-09-12T15:09:58.604829",
          "2021-09-12T15:10:58.604829",
          "2021-09-12T15:11:58.604829",
          "2021-09-12T15:12:58.604829",
          "2021-09-12T15:13:58.604829",
          "2021-09-12T15:14:58.604829",
          "2021-09-12T15:15:58.604829",
          "2021-09-12T15:16:58.604829",
          "2021-09-12T15:17:58.604829",
          "2021-09-12T15:18:58.604829",
          "2021-09-12T15:19:58.604829",
          "2021-09-12T15:20:58.604829",
          "2021-09-12T15:21:58.604829",
          "2021-09-12T15:22:58.604829",
          "2021-09-12T15:23:58.604829",
          "2021-09-12T15:24:58.604829",
          "2021-09-12T15:25:58.604829",
          "2021-09-12T15:26:58.604829",
          "2021-09-12T15:27:58.604829",
          "2021-09-12T15:28:58.604829",
          "2021-09-12T15:29:58.604829",
          "2021-09-12T15:30:58.604829",
          "2021-09-12T15:31:58.604829"
         ],
         "xaxis": "x",
         "y": [
          1,
          2,
          3,
          4,
          5,
          6,
          7,
          8,
          9,
          10,
          11,
          12,
          13,
          14,
          15,
          16,
          17,
          18,
          19,
          20,
          21,
          22,
          23,
          24,
          25,
          26,
          27,
          28,
          29,
          30,
          31,
          32,
          33,
          34,
          35,
          36,
          37,
          38,
          39,
          40,
          41,
          42,
          43,
          44,
          45,
          46,
          47,
          48,
          49,
          50,
          51,
          52,
          53,
          54,
          55,
          56,
          57,
          58,
          59,
          60,
          60,
          60,
          60,
          60,
          60,
          60,
          60,
          60,
          60,
          60,
          60,
          60,
          60,
          60,
          60,
          60,
          60,
          60,
          60,
          60,
          60,
          60,
          60,
          60,
          60,
          60,
          60,
          60,
          60,
          60,
          60,
          60,
          60,
          60,
          60,
          60,
          60,
          60,
          60,
          60,
          60,
          60,
          60,
          60,
          60,
          60,
          60,
          60,
          60,
          60,
          60,
          60,
          60,
          60,
          60,
          60,
          60,
          60,
          60,
          60,
          60,
          60,
          60,
          60,
          60,
          60,
          60,
          60,
          60,
          60,
          60,
          60,
          60,
          60,
          60,
          60,
          60,
          60,
          60,
          60,
          60,
          60,
          60,
          60,
          60,
          60,
          60,
          60,
          60,
          60,
          60,
          60,
          60,
          60,
          60,
          60,
          60,
          60,
          60,
          60,
          60,
          60,
          60,
          60,
          60,
          60,
          60,
          60,
          60,
          60,
          60,
          60,
          60,
          60,
          60,
          60,
          60,
          60,
          60,
          60
         ],
         "yaxis": "y"
        }
       ],
       "layout": {
        "barmode": "relative",
        "legend": {
         "tracegroupgap": 0
        },
        "margin": {
         "t": 60
        },
        "template": {
         "data": {
          "bar": [
           {
            "error_x": {
             "color": "#2a3f5f"
            },
            "error_y": {
             "color": "#2a3f5f"
            },
            "marker": {
             "line": {
              "color": "#E5ECF6",
              "width": 0.5
             },
             "pattern": {
              "fillmode": "overlay",
              "size": 10,
              "solidity": 0.2
             }
            },
            "type": "bar"
           }
          ],
          "barpolar": [
           {
            "marker": {
             "line": {
              "color": "#E5ECF6",
              "width": 0.5
             },
             "pattern": {
              "fillmode": "overlay",
              "size": 10,
              "solidity": 0.2
             }
            },
            "type": "barpolar"
           }
          ],
          "carpet": [
           {
            "aaxis": {
             "endlinecolor": "#2a3f5f",
             "gridcolor": "white",
             "linecolor": "white",
             "minorgridcolor": "white",
             "startlinecolor": "#2a3f5f"
            },
            "baxis": {
             "endlinecolor": "#2a3f5f",
             "gridcolor": "white",
             "linecolor": "white",
             "minorgridcolor": "white",
             "startlinecolor": "#2a3f5f"
            },
            "type": "carpet"
           }
          ],
          "choropleth": [
           {
            "colorbar": {
             "outlinewidth": 0,
             "ticks": ""
            },
            "type": "choropleth"
           }
          ],
          "contour": [
           {
            "colorbar": {
             "outlinewidth": 0,
             "ticks": ""
            },
            "colorscale": [
             [
              0,
              "#0d0887"
             ],
             [
              0.1111111111111111,
              "#46039f"
             ],
             [
              0.2222222222222222,
              "#7201a8"
             ],
             [
              0.3333333333333333,
              "#9c179e"
             ],
             [
              0.4444444444444444,
              "#bd3786"
             ],
             [
              0.5555555555555556,
              "#d8576b"
             ],
             [
              0.6666666666666666,
              "#ed7953"
             ],
             [
              0.7777777777777778,
              "#fb9f3a"
             ],
             [
              0.8888888888888888,
              "#fdca26"
             ],
             [
              1,
              "#f0f921"
             ]
            ],
            "type": "contour"
           }
          ],
          "contourcarpet": [
           {
            "colorbar": {
             "outlinewidth": 0,
             "ticks": ""
            },
            "type": "contourcarpet"
           }
          ],
          "heatmap": [
           {
            "colorbar": {
             "outlinewidth": 0,
             "ticks": ""
            },
            "colorscale": [
             [
              0,
              "#0d0887"
             ],
             [
              0.1111111111111111,
              "#46039f"
             ],
             [
              0.2222222222222222,
              "#7201a8"
             ],
             [
              0.3333333333333333,
              "#9c179e"
             ],
             [
              0.4444444444444444,
              "#bd3786"
             ],
             [
              0.5555555555555556,
              "#d8576b"
             ],
             [
              0.6666666666666666,
              "#ed7953"
             ],
             [
              0.7777777777777778,
              "#fb9f3a"
             ],
             [
              0.8888888888888888,
              "#fdca26"
             ],
             [
              1,
              "#f0f921"
             ]
            ],
            "type": "heatmap"
           }
          ],
          "heatmapgl": [
           {
            "colorbar": {
             "outlinewidth": 0,
             "ticks": ""
            },
            "colorscale": [
             [
              0,
              "#0d0887"
             ],
             [
              0.1111111111111111,
              "#46039f"
             ],
             [
              0.2222222222222222,
              "#7201a8"
             ],
             [
              0.3333333333333333,
              "#9c179e"
             ],
             [
              0.4444444444444444,
              "#bd3786"
             ],
             [
              0.5555555555555556,
              "#d8576b"
             ],
             [
              0.6666666666666666,
              "#ed7953"
             ],
             [
              0.7777777777777778,
              "#fb9f3a"
             ],
             [
              0.8888888888888888,
              "#fdca26"
             ],
             [
              1,
              "#f0f921"
             ]
            ],
            "type": "heatmapgl"
           }
          ],
          "histogram": [
           {
            "marker": {
             "pattern": {
              "fillmode": "overlay",
              "size": 10,
              "solidity": 0.2
             }
            },
            "type": "histogram"
           }
          ],
          "histogram2d": [
           {
            "colorbar": {
             "outlinewidth": 0,
             "ticks": ""
            },
            "colorscale": [
             [
              0,
              "#0d0887"
             ],
             [
              0.1111111111111111,
              "#46039f"
             ],
             [
              0.2222222222222222,
              "#7201a8"
             ],
             [
              0.3333333333333333,
              "#9c179e"
             ],
             [
              0.4444444444444444,
              "#bd3786"
             ],
             [
              0.5555555555555556,
              "#d8576b"
             ],
             [
              0.6666666666666666,
              "#ed7953"
             ],
             [
              0.7777777777777778,
              "#fb9f3a"
             ],
             [
              0.8888888888888888,
              "#fdca26"
             ],
             [
              1,
              "#f0f921"
             ]
            ],
            "type": "histogram2d"
           }
          ],
          "histogram2dcontour": [
           {
            "colorbar": {
             "outlinewidth": 0,
             "ticks": ""
            },
            "colorscale": [
             [
              0,
              "#0d0887"
             ],
             [
              0.1111111111111111,
              "#46039f"
             ],
             [
              0.2222222222222222,
              "#7201a8"
             ],
             [
              0.3333333333333333,
              "#9c179e"
             ],
             [
              0.4444444444444444,
              "#bd3786"
             ],
             [
              0.5555555555555556,
              "#d8576b"
             ],
             [
              0.6666666666666666,
              "#ed7953"
             ],
             [
              0.7777777777777778,
              "#fb9f3a"
             ],
             [
              0.8888888888888888,
              "#fdca26"
             ],
             [
              1,
              "#f0f921"
             ]
            ],
            "type": "histogram2dcontour"
           }
          ],
          "mesh3d": [
           {
            "colorbar": {
             "outlinewidth": 0,
             "ticks": ""
            },
            "type": "mesh3d"
           }
          ],
          "parcoords": [
           {
            "line": {
             "colorbar": {
              "outlinewidth": 0,
              "ticks": ""
             }
            },
            "type": "parcoords"
           }
          ],
          "pie": [
           {
            "automargin": true,
            "type": "pie"
           }
          ],
          "scatter": [
           {
            "marker": {
             "colorbar": {
              "outlinewidth": 0,
              "ticks": ""
             }
            },
            "type": "scatter"
           }
          ],
          "scatter3d": [
           {
            "line": {
             "colorbar": {
              "outlinewidth": 0,
              "ticks": ""
             }
            },
            "marker": {
             "colorbar": {
              "outlinewidth": 0,
              "ticks": ""
             }
            },
            "type": "scatter3d"
           }
          ],
          "scattercarpet": [
           {
            "marker": {
             "colorbar": {
              "outlinewidth": 0,
              "ticks": ""
             }
            },
            "type": "scattercarpet"
           }
          ],
          "scattergeo": [
           {
            "marker": {
             "colorbar": {
              "outlinewidth": 0,
              "ticks": ""
             }
            },
            "type": "scattergeo"
           }
          ],
          "scattergl": [
           {
            "marker": {
             "colorbar": {
              "outlinewidth": 0,
              "ticks": ""
             }
            },
            "type": "scattergl"
           }
          ],
          "scattermapbox": [
           {
            "marker": {
             "colorbar": {
              "outlinewidth": 0,
              "ticks": ""
             }
            },
            "type": "scattermapbox"
           }
          ],
          "scatterpolar": [
           {
            "marker": {
             "colorbar": {
              "outlinewidth": 0,
              "ticks": ""
             }
            },
            "type": "scatterpolar"
           }
          ],
          "scatterpolargl": [
           {
            "marker": {
             "colorbar": {
              "outlinewidth": 0,
              "ticks": ""
             }
            },
            "type": "scatterpolargl"
           }
          ],
          "scatterternary": [
           {
            "marker": {
             "colorbar": {
              "outlinewidth": 0,
              "ticks": ""
             }
            },
            "type": "scatterternary"
           }
          ],
          "surface": [
           {
            "colorbar": {
             "outlinewidth": 0,
             "ticks": ""
            },
            "colorscale": [
             [
              0,
              "#0d0887"
             ],
             [
              0.1111111111111111,
              "#46039f"
             ],
             [
              0.2222222222222222,
              "#7201a8"
             ],
             [
              0.3333333333333333,
              "#9c179e"
             ],
             [
              0.4444444444444444,
              "#bd3786"
             ],
             [
              0.5555555555555556,
              "#d8576b"
             ],
             [
              0.6666666666666666,
              "#ed7953"
             ],
             [
              0.7777777777777778,
              "#fb9f3a"
             ],
             [
              0.8888888888888888,
              "#fdca26"
             ],
             [
              1,
              "#f0f921"
             ]
            ],
            "type": "surface"
           }
          ],
          "table": [
           {
            "cells": {
             "fill": {
              "color": "#EBF0F8"
             },
             "line": {
              "color": "white"
             }
            },
            "header": {
             "fill": {
              "color": "#C8D4E3"
             },
             "line": {
              "color": "white"
             }
            },
            "type": "table"
           }
          ]
         },
         "layout": {
          "annotationdefaults": {
           "arrowcolor": "#2a3f5f",
           "arrowhead": 0,
           "arrowwidth": 1
          },
          "autotypenumbers": "strict",
          "coloraxis": {
           "colorbar": {
            "outlinewidth": 0,
            "ticks": ""
           }
          },
          "colorscale": {
           "diverging": [
            [
             0,
             "#8e0152"
            ],
            [
             0.1,
             "#c51b7d"
            ],
            [
             0.2,
             "#de77ae"
            ],
            [
             0.3,
             "#f1b6da"
            ],
            [
             0.4,
             "#fde0ef"
            ],
            [
             0.5,
             "#f7f7f7"
            ],
            [
             0.6,
             "#e6f5d0"
            ],
            [
             0.7,
             "#b8e186"
            ],
            [
             0.8,
             "#7fbc41"
            ],
            [
             0.9,
             "#4d9221"
            ],
            [
             1,
             "#276419"
            ]
           ],
           "sequential": [
            [
             0,
             "#0d0887"
            ],
            [
             0.1111111111111111,
             "#46039f"
            ],
            [
             0.2222222222222222,
             "#7201a8"
            ],
            [
             0.3333333333333333,
             "#9c179e"
            ],
            [
             0.4444444444444444,
             "#bd3786"
            ],
            [
             0.5555555555555556,
             "#d8576b"
            ],
            [
             0.6666666666666666,
             "#ed7953"
            ],
            [
             0.7777777777777778,
             "#fb9f3a"
            ],
            [
             0.8888888888888888,
             "#fdca26"
            ],
            [
             1,
             "#f0f921"
            ]
           ],
           "sequentialminus": [
            [
             0,
             "#0d0887"
            ],
            [
             0.1111111111111111,
             "#46039f"
            ],
            [
             0.2222222222222222,
             "#7201a8"
            ],
            [
             0.3333333333333333,
             "#9c179e"
            ],
            [
             0.4444444444444444,
             "#bd3786"
            ],
            [
             0.5555555555555556,
             "#d8576b"
            ],
            [
             0.6666666666666666,
             "#ed7953"
            ],
            [
             0.7777777777777778,
             "#fb9f3a"
            ],
            [
             0.8888888888888888,
             "#fdca26"
            ],
            [
             1,
             "#f0f921"
            ]
           ]
          },
          "colorway": [
           "#636efa",
           "#EF553B",
           "#00cc96",
           "#ab63fa",
           "#FFA15A",
           "#19d3f3",
           "#FF6692",
           "#B6E880",
           "#FF97FF",
           "#FECB52"
          ],
          "font": {
           "color": "#2a3f5f"
          },
          "geo": {
           "bgcolor": "white",
           "lakecolor": "white",
           "landcolor": "#E5ECF6",
           "showlakes": true,
           "showland": true,
           "subunitcolor": "white"
          },
          "hoverlabel": {
           "align": "left"
          },
          "hovermode": "closest",
          "mapbox": {
           "style": "light"
          },
          "paper_bgcolor": "white",
          "plot_bgcolor": "#E5ECF6",
          "polar": {
           "angularaxis": {
            "gridcolor": "white",
            "linecolor": "white",
            "ticks": ""
           },
           "bgcolor": "#E5ECF6",
           "radialaxis": {
            "gridcolor": "white",
            "linecolor": "white",
            "ticks": ""
           }
          },
          "scene": {
           "xaxis": {
            "backgroundcolor": "#E5ECF6",
            "gridcolor": "white",
            "gridwidth": 2,
            "linecolor": "white",
            "showbackground": true,
            "ticks": "",
            "zerolinecolor": "white"
           },
           "yaxis": {
            "backgroundcolor": "#E5ECF6",
            "gridcolor": "white",
            "gridwidth": 2,
            "linecolor": "white",
            "showbackground": true,
            "ticks": "",
            "zerolinecolor": "white"
           },
           "zaxis": {
            "backgroundcolor": "#E5ECF6",
            "gridcolor": "white",
            "gridwidth": 2,
            "linecolor": "white",
            "showbackground": true,
            "ticks": "",
            "zerolinecolor": "white"
           }
          },
          "shapedefaults": {
           "line": {
            "color": "#2a3f5f"
           }
          },
          "ternary": {
           "aaxis": {
            "gridcolor": "white",
            "linecolor": "white",
            "ticks": ""
           },
           "baxis": {
            "gridcolor": "white",
            "linecolor": "white",
            "ticks": ""
           },
           "bgcolor": "#E5ECF6",
           "caxis": {
            "gridcolor": "white",
            "linecolor": "white",
            "ticks": ""
           }
          },
          "title": {
           "x": 0.05
          },
          "xaxis": {
           "automargin": true,
           "gridcolor": "white",
           "linecolor": "white",
           "ticks": "",
           "title": {
            "standoff": 15
           },
           "zerolinecolor": "white",
           "zerolinewidth": 2
          },
          "yaxis": {
           "automargin": true,
           "gridcolor": "white",
           "linecolor": "white",
           "ticks": "",
           "title": {
            "standoff": 15
           },
           "zerolinecolor": "white",
           "zerolinewidth": 2
          }
         }
        },
        "xaxis": {
         "anchor": "y",
         "domain": [
          0,
          1
         ],
         "title": {
          "text": "Timestamp"
         }
        },
        "yaxis": {
         "anchor": "x",
         "domain": [
          0,
          1
         ],
         "title": {
          "text": "Value"
         }
        }
       }
      },
      "text/html": [
       "<div>                            <div id=\"eaae65e3-6c3f-4452-ac91-2273ab6b8259\" class=\"plotly-graph-div\" style=\"height:525px; width:100%;\"></div>            <script type=\"text/javascript\">                require([\"plotly\"], function(Plotly) {                    window.PLOTLYENV=window.PLOTLYENV || {};                                    if (document.getElementById(\"eaae65e3-6c3f-4452-ac91-2273ab6b8259\")) {                    Plotly.newPlot(                        \"eaae65e3-6c3f-4452-ac91-2273ab6b8259\",                        [{\"alignmentgroup\":\"True\",\"hovertemplate\":\"Timestamp=%{x}<br>Value=%{y}<extra></extra>\",\"legendgroup\":\"\",\"marker\":{\"color\":\"#636efa\",\"pattern\":{\"shape\":\"\"}},\"name\":\"\",\"offsetgroup\":\"\",\"orientation\":\"v\",\"showlegend\":false,\"textposition\":\"auto\",\"type\":\"bar\",\"x\":[\"2021-09-12T12:32:58.604829\",\"2021-09-12T12:33:58.604829\",\"2021-09-12T12:34:58.604829\",\"2021-09-12T12:35:58.604829\",\"2021-09-12T12:36:58.604829\",\"2021-09-12T12:37:58.604829\",\"2021-09-12T12:38:58.604829\",\"2021-09-12T12:39:58.604829\",\"2021-09-12T12:40:58.604829\",\"2021-09-12T12:41:58.604829\",\"2021-09-12T12:42:58.604829\",\"2021-09-12T12:43:58.604829\",\"2021-09-12T12:44:58.604829\",\"2021-09-12T12:45:58.604829\",\"2021-09-12T12:46:58.604829\",\"2021-09-12T12:47:58.604829\",\"2021-09-12T12:48:58.604829\",\"2021-09-12T12:49:58.604829\",\"2021-09-12T12:50:58.604829\",\"2021-09-12T12:51:58.604829\",\"2021-09-12T12:52:58.604829\",\"2021-09-12T12:53:58.604829\",\"2021-09-12T12:54:58.604829\",\"2021-09-12T12:55:58.604829\",\"2021-09-12T12:56:58.604829\",\"2021-09-12T12:57:58.604829\",\"2021-09-12T12:58:58.604829\",\"2021-09-12T12:59:58.604829\",\"2021-09-12T13:00:58.604829\",\"2021-09-12T13:01:58.604829\",\"2021-09-12T13:02:58.604829\",\"2021-09-12T13:03:58.604829\",\"2021-09-12T13:04:58.604829\",\"2021-09-12T13:05:58.604829\",\"2021-09-12T13:06:58.604829\",\"2021-09-12T13:07:58.604829\",\"2021-09-12T13:08:58.604829\",\"2021-09-12T13:09:58.604829\",\"2021-09-12T13:10:58.604829\",\"2021-09-12T13:11:58.604829\",\"2021-09-12T13:12:58.604829\",\"2021-09-12T13:13:58.604829\",\"2021-09-12T13:14:58.604829\",\"2021-09-12T13:15:58.604829\",\"2021-09-12T13:16:58.604829\",\"2021-09-12T13:17:58.604829\",\"2021-09-12T13:18:58.604829\",\"2021-09-12T13:19:58.604829\",\"2021-09-12T13:20:58.604829\",\"2021-09-12T13:21:58.604829\",\"2021-09-12T13:22:58.604829\",\"2021-09-12T13:23:58.604829\",\"2021-09-12T13:24:58.604829\",\"2021-09-12T13:25:58.604829\",\"2021-09-12T13:26:58.604829\",\"2021-09-12T13:27:58.604829\",\"2021-09-12T13:28:58.604829\",\"2021-09-12T13:29:58.604829\",\"2021-09-12T13:30:58.604829\",\"2021-09-12T13:31:58.604829\",\"2021-09-12T13:32:58.604829\",\"2021-09-12T13:33:58.604829\",\"2021-09-12T13:34:58.604829\",\"2021-09-12T13:35:58.604829\",\"2021-09-12T13:36:58.604829\",\"2021-09-12T13:37:58.604829\",\"2021-09-12T13:38:58.604829\",\"2021-09-12T13:39:58.604829\",\"2021-09-12T13:40:58.604829\",\"2021-09-12T13:41:58.604829\",\"2021-09-12T13:42:58.604829\",\"2021-09-12T13:43:58.604829\",\"2021-09-12T13:44:58.604829\",\"2021-09-12T13:45:58.604829\",\"2021-09-12T13:46:58.604829\",\"2021-09-12T13:47:58.604829\",\"2021-09-12T13:48:58.604829\",\"2021-09-12T13:49:58.604829\",\"2021-09-12T13:50:58.604829\",\"2021-09-12T13:51:58.604829\",\"2021-09-12T13:52:58.604829\",\"2021-09-12T13:53:58.604829\",\"2021-09-12T13:54:58.604829\",\"2021-09-12T13:55:58.604829\",\"2021-09-12T13:56:58.604829\",\"2021-09-12T13:57:58.604829\",\"2021-09-12T13:58:58.604829\",\"2021-09-12T13:59:58.604829\",\"2021-09-12T14:00:58.604829\",\"2021-09-12T14:01:58.604829\",\"2021-09-12T14:02:58.604829\",\"2021-09-12T14:03:58.604829\",\"2021-09-12T14:04:58.604829\",\"2021-09-12T14:05:58.604829\",\"2021-09-12T14:06:58.604829\",\"2021-09-12T14:07:58.604829\",\"2021-09-12T14:08:58.604829\",\"2021-09-12T14:09:58.604829\",\"2021-09-12T14:10:58.604829\",\"2021-09-12T14:11:58.604829\",\"2021-09-12T14:12:58.604829\",\"2021-09-12T14:13:58.604829\",\"2021-09-12T14:14:58.604829\",\"2021-09-12T14:15:58.604829\",\"2021-09-12T14:16:58.604829\",\"2021-09-12T14:17:58.604829\",\"2021-09-12T14:18:58.604829\",\"2021-09-12T14:19:58.604829\",\"2021-09-12T14:20:58.604829\",\"2021-09-12T14:21:58.604829\",\"2021-09-12T14:22:58.604829\",\"2021-09-12T14:23:58.604829\",\"2021-09-12T14:24:58.604829\",\"2021-09-12T14:25:58.604829\",\"2021-09-12T14:26:58.604829\",\"2021-09-12T14:27:58.604829\",\"2021-09-12T14:28:58.604829\",\"2021-09-12T14:29:58.604829\",\"2021-09-12T14:30:58.604829\",\"2021-09-12T14:31:58.604829\",\"2021-09-12T14:32:58.604829\",\"2021-09-12T14:33:58.604829\",\"2021-09-12T14:34:58.604829\",\"2021-09-12T14:35:58.604829\",\"2021-09-12T14:36:58.604829\",\"2021-09-12T14:37:58.604829\",\"2021-09-12T14:38:58.604829\",\"2021-09-12T14:39:58.604829\",\"2021-09-12T14:40:58.604829\",\"2021-09-12T14:41:58.604829\",\"2021-09-12T14:42:58.604829\",\"2021-09-12T14:43:58.604829\",\"2021-09-12T14:44:58.604829\",\"2021-09-12T14:45:58.604829\",\"2021-09-12T14:46:58.604829\",\"2021-09-12T14:47:58.604829\",\"2021-09-12T14:48:58.604829\",\"2021-09-12T14:49:58.604829\",\"2021-09-12T14:50:58.604829\",\"2021-09-12T14:51:58.604829\",\"2021-09-12T14:52:58.604829\",\"2021-09-12T14:53:58.604829\",\"2021-09-12T14:54:58.604829\",\"2021-09-12T14:55:58.604829\",\"2021-09-12T14:56:58.604829\",\"2021-09-12T14:57:58.604829\",\"2021-09-12T14:58:58.604829\",\"2021-09-12T14:59:58.604829\",\"2021-09-12T15:00:58.604829\",\"2021-09-12T15:01:58.604829\",\"2021-09-12T15:02:58.604829\",\"2021-09-12T15:03:58.604829\",\"2021-09-12T15:04:58.604829\",\"2021-09-12T15:05:58.604829\",\"2021-09-12T15:06:58.604829\",\"2021-09-12T15:07:58.604829\",\"2021-09-12T15:08:58.604829\",\"2021-09-12T15:09:58.604829\",\"2021-09-12T15:10:58.604829\",\"2021-09-12T15:11:58.604829\",\"2021-09-12T15:12:58.604829\",\"2021-09-12T15:13:58.604829\",\"2021-09-12T15:14:58.604829\",\"2021-09-12T15:15:58.604829\",\"2021-09-12T15:16:58.604829\",\"2021-09-12T15:17:58.604829\",\"2021-09-12T15:18:58.604829\",\"2021-09-12T15:19:58.604829\",\"2021-09-12T15:20:58.604829\",\"2021-09-12T15:21:58.604829\",\"2021-09-12T15:22:58.604829\",\"2021-09-12T15:23:58.604829\",\"2021-09-12T15:24:58.604829\",\"2021-09-12T15:25:58.604829\",\"2021-09-12T15:26:58.604829\",\"2021-09-12T15:27:58.604829\",\"2021-09-12T15:28:58.604829\",\"2021-09-12T15:29:58.604829\",\"2021-09-12T15:30:58.604829\",\"2021-09-12T15:31:58.604829\"],\"xaxis\":\"x\",\"y\":[1,2,3,4,5,6,7,8,9,10,11,12,13,14,15,16,17,18,19,20,21,22,23,24,25,26,27,28,29,30,31,32,33,34,35,36,37,38,39,40,41,42,43,44,45,46,47,48,49,50,51,52,53,54,55,56,57,58,59,60,60,60,60,60,60,60,60,60,60,60,60,60,60,60,60,60,60,60,60,60,60,60,60,60,60,60,60,60,60,60,60,60,60,60,60,60,60,60,60,60,60,60,60,60,60,60,60,60,60,60,60,60,60,60,60,60,60,60,60,60,60,60,60,60,60,60,60,60,60,60,60,60,60,60,60,60,60,60,60,60,60,60,60,60,60,60,60,60,60,60,60,60,60,60,60,60,60,60,60,60,60,60,60,60,60,60,60,60,60,60,60,60,60,60,60,60,60,60,60,60],\"yaxis\":\"y\"}],                        {\"barmode\":\"relative\",\"legend\":{\"tracegroupgap\":0},\"margin\":{\"t\":60},\"template\":{\"data\":{\"bar\":[{\"error_x\":{\"color\":\"#2a3f5f\"},\"error_y\":{\"color\":\"#2a3f5f\"},\"marker\":{\"line\":{\"color\":\"#E5ECF6\",\"width\":0.5},\"pattern\":{\"fillmode\":\"overlay\",\"size\":10,\"solidity\":0.2}},\"type\":\"bar\"}],\"barpolar\":[{\"marker\":{\"line\":{\"color\":\"#E5ECF6\",\"width\":0.5},\"pattern\":{\"fillmode\":\"overlay\",\"size\":10,\"solidity\":0.2}},\"type\":\"barpolar\"}],\"carpet\":[{\"aaxis\":{\"endlinecolor\":\"#2a3f5f\",\"gridcolor\":\"white\",\"linecolor\":\"white\",\"minorgridcolor\":\"white\",\"startlinecolor\":\"#2a3f5f\"},\"baxis\":{\"endlinecolor\":\"#2a3f5f\",\"gridcolor\":\"white\",\"linecolor\":\"white\",\"minorgridcolor\":\"white\",\"startlinecolor\":\"#2a3f5f\"},\"type\":\"carpet\"}],\"choropleth\":[{\"colorbar\":{\"outlinewidth\":0,\"ticks\":\"\"},\"type\":\"choropleth\"}],\"contour\":[{\"colorbar\":{\"outlinewidth\":0,\"ticks\":\"\"},\"colorscale\":[[0.0,\"#0d0887\"],[0.1111111111111111,\"#46039f\"],[0.2222222222222222,\"#7201a8\"],[0.3333333333333333,\"#9c179e\"],[0.4444444444444444,\"#bd3786\"],[0.5555555555555556,\"#d8576b\"],[0.6666666666666666,\"#ed7953\"],[0.7777777777777778,\"#fb9f3a\"],[0.8888888888888888,\"#fdca26\"],[1.0,\"#f0f921\"]],\"type\":\"contour\"}],\"contourcarpet\":[{\"colorbar\":{\"outlinewidth\":0,\"ticks\":\"\"},\"type\":\"contourcarpet\"}],\"heatmap\":[{\"colorbar\":{\"outlinewidth\":0,\"ticks\":\"\"},\"colorscale\":[[0.0,\"#0d0887\"],[0.1111111111111111,\"#46039f\"],[0.2222222222222222,\"#7201a8\"],[0.3333333333333333,\"#9c179e\"],[0.4444444444444444,\"#bd3786\"],[0.5555555555555556,\"#d8576b\"],[0.6666666666666666,\"#ed7953\"],[0.7777777777777778,\"#fb9f3a\"],[0.8888888888888888,\"#fdca26\"],[1.0,\"#f0f921\"]],\"type\":\"heatmap\"}],\"heatmapgl\":[{\"colorbar\":{\"outlinewidth\":0,\"ticks\":\"\"},\"colorscale\":[[0.0,\"#0d0887\"],[0.1111111111111111,\"#46039f\"],[0.2222222222222222,\"#7201a8\"],[0.3333333333333333,\"#9c179e\"],[0.4444444444444444,\"#bd3786\"],[0.5555555555555556,\"#d8576b\"],[0.6666666666666666,\"#ed7953\"],[0.7777777777777778,\"#fb9f3a\"],[0.8888888888888888,\"#fdca26\"],[1.0,\"#f0f921\"]],\"type\":\"heatmapgl\"}],\"histogram\":[{\"marker\":{\"pattern\":{\"fillmode\":\"overlay\",\"size\":10,\"solidity\":0.2}},\"type\":\"histogram\"}],\"histogram2d\":[{\"colorbar\":{\"outlinewidth\":0,\"ticks\":\"\"},\"colorscale\":[[0.0,\"#0d0887\"],[0.1111111111111111,\"#46039f\"],[0.2222222222222222,\"#7201a8\"],[0.3333333333333333,\"#9c179e\"],[0.4444444444444444,\"#bd3786\"],[0.5555555555555556,\"#d8576b\"],[0.6666666666666666,\"#ed7953\"],[0.7777777777777778,\"#fb9f3a\"],[0.8888888888888888,\"#fdca26\"],[1.0,\"#f0f921\"]],\"type\":\"histogram2d\"}],\"histogram2dcontour\":[{\"colorbar\":{\"outlinewidth\":0,\"ticks\":\"\"},\"colorscale\":[[0.0,\"#0d0887\"],[0.1111111111111111,\"#46039f\"],[0.2222222222222222,\"#7201a8\"],[0.3333333333333333,\"#9c179e\"],[0.4444444444444444,\"#bd3786\"],[0.5555555555555556,\"#d8576b\"],[0.6666666666666666,\"#ed7953\"],[0.7777777777777778,\"#fb9f3a\"],[0.8888888888888888,\"#fdca26\"],[1.0,\"#f0f921\"]],\"type\":\"histogram2dcontour\"}],\"mesh3d\":[{\"colorbar\":{\"outlinewidth\":0,\"ticks\":\"\"},\"type\":\"mesh3d\"}],\"parcoords\":[{\"line\":{\"colorbar\":{\"outlinewidth\":0,\"ticks\":\"\"}},\"type\":\"parcoords\"}],\"pie\":[{\"automargin\":true,\"type\":\"pie\"}],\"scatter\":[{\"marker\":{\"colorbar\":{\"outlinewidth\":0,\"ticks\":\"\"}},\"type\":\"scatter\"}],\"scatter3d\":[{\"line\":{\"colorbar\":{\"outlinewidth\":0,\"ticks\":\"\"}},\"marker\":{\"colorbar\":{\"outlinewidth\":0,\"ticks\":\"\"}},\"type\":\"scatter3d\"}],\"scattercarpet\":[{\"marker\":{\"colorbar\":{\"outlinewidth\":0,\"ticks\":\"\"}},\"type\":\"scattercarpet\"}],\"scattergeo\":[{\"marker\":{\"colorbar\":{\"outlinewidth\":0,\"ticks\":\"\"}},\"type\":\"scattergeo\"}],\"scattergl\":[{\"marker\":{\"colorbar\":{\"outlinewidth\":0,\"ticks\":\"\"}},\"type\":\"scattergl\"}],\"scattermapbox\":[{\"marker\":{\"colorbar\":{\"outlinewidth\":0,\"ticks\":\"\"}},\"type\":\"scattermapbox\"}],\"scatterpolar\":[{\"marker\":{\"colorbar\":{\"outlinewidth\":0,\"ticks\":\"\"}},\"type\":\"scatterpolar\"}],\"scatterpolargl\":[{\"marker\":{\"colorbar\":{\"outlinewidth\":0,\"ticks\":\"\"}},\"type\":\"scatterpolargl\"}],\"scatterternary\":[{\"marker\":{\"colorbar\":{\"outlinewidth\":0,\"ticks\":\"\"}},\"type\":\"scatterternary\"}],\"surface\":[{\"colorbar\":{\"outlinewidth\":0,\"ticks\":\"\"},\"colorscale\":[[0.0,\"#0d0887\"],[0.1111111111111111,\"#46039f\"],[0.2222222222222222,\"#7201a8\"],[0.3333333333333333,\"#9c179e\"],[0.4444444444444444,\"#bd3786\"],[0.5555555555555556,\"#d8576b\"],[0.6666666666666666,\"#ed7953\"],[0.7777777777777778,\"#fb9f3a\"],[0.8888888888888888,\"#fdca26\"],[1.0,\"#f0f921\"]],\"type\":\"surface\"}],\"table\":[{\"cells\":{\"fill\":{\"color\":\"#EBF0F8\"},\"line\":{\"color\":\"white\"}},\"header\":{\"fill\":{\"color\":\"#C8D4E3\"},\"line\":{\"color\":\"white\"}},\"type\":\"table\"}]},\"layout\":{\"annotationdefaults\":{\"arrowcolor\":\"#2a3f5f\",\"arrowhead\":0,\"arrowwidth\":1},\"autotypenumbers\":\"strict\",\"coloraxis\":{\"colorbar\":{\"outlinewidth\":0,\"ticks\":\"\"}},\"colorscale\":{\"diverging\":[[0,\"#8e0152\"],[0.1,\"#c51b7d\"],[0.2,\"#de77ae\"],[0.3,\"#f1b6da\"],[0.4,\"#fde0ef\"],[0.5,\"#f7f7f7\"],[0.6,\"#e6f5d0\"],[0.7,\"#b8e186\"],[0.8,\"#7fbc41\"],[0.9,\"#4d9221\"],[1,\"#276419\"]],\"sequential\":[[0.0,\"#0d0887\"],[0.1111111111111111,\"#46039f\"],[0.2222222222222222,\"#7201a8\"],[0.3333333333333333,\"#9c179e\"],[0.4444444444444444,\"#bd3786\"],[0.5555555555555556,\"#d8576b\"],[0.6666666666666666,\"#ed7953\"],[0.7777777777777778,\"#fb9f3a\"],[0.8888888888888888,\"#fdca26\"],[1.0,\"#f0f921\"]],\"sequentialminus\":[[0.0,\"#0d0887\"],[0.1111111111111111,\"#46039f\"],[0.2222222222222222,\"#7201a8\"],[0.3333333333333333,\"#9c179e\"],[0.4444444444444444,\"#bd3786\"],[0.5555555555555556,\"#d8576b\"],[0.6666666666666666,\"#ed7953\"],[0.7777777777777778,\"#fb9f3a\"],[0.8888888888888888,\"#fdca26\"],[1.0,\"#f0f921\"]]},\"colorway\":[\"#636efa\",\"#EF553B\",\"#00cc96\",\"#ab63fa\",\"#FFA15A\",\"#19d3f3\",\"#FF6692\",\"#B6E880\",\"#FF97FF\",\"#FECB52\"],\"font\":{\"color\":\"#2a3f5f\"},\"geo\":{\"bgcolor\":\"white\",\"lakecolor\":\"white\",\"landcolor\":\"#E5ECF6\",\"showlakes\":true,\"showland\":true,\"subunitcolor\":\"white\"},\"hoverlabel\":{\"align\":\"left\"},\"hovermode\":\"closest\",\"mapbox\":{\"style\":\"light\"},\"paper_bgcolor\":\"white\",\"plot_bgcolor\":\"#E5ECF6\",\"polar\":{\"angularaxis\":{\"gridcolor\":\"white\",\"linecolor\":\"white\",\"ticks\":\"\"},\"bgcolor\":\"#E5ECF6\",\"radialaxis\":{\"gridcolor\":\"white\",\"linecolor\":\"white\",\"ticks\":\"\"}},\"scene\":{\"xaxis\":{\"backgroundcolor\":\"#E5ECF6\",\"gridcolor\":\"white\",\"gridwidth\":2,\"linecolor\":\"white\",\"showbackground\":true,\"ticks\":\"\",\"zerolinecolor\":\"white\"},\"yaxis\":{\"backgroundcolor\":\"#E5ECF6\",\"gridcolor\":\"white\",\"gridwidth\":2,\"linecolor\":\"white\",\"showbackground\":true,\"ticks\":\"\",\"zerolinecolor\":\"white\"},\"zaxis\":{\"backgroundcolor\":\"#E5ECF6\",\"gridcolor\":\"white\",\"gridwidth\":2,\"linecolor\":\"white\",\"showbackground\":true,\"ticks\":\"\",\"zerolinecolor\":\"white\"}},\"shapedefaults\":{\"line\":{\"color\":\"#2a3f5f\"}},\"ternary\":{\"aaxis\":{\"gridcolor\":\"white\",\"linecolor\":\"white\",\"ticks\":\"\"},\"baxis\":{\"gridcolor\":\"white\",\"linecolor\":\"white\",\"ticks\":\"\"},\"bgcolor\":\"#E5ECF6\",\"caxis\":{\"gridcolor\":\"white\",\"linecolor\":\"white\",\"ticks\":\"\"}},\"title\":{\"x\":0.05},\"xaxis\":{\"automargin\":true,\"gridcolor\":\"white\",\"linecolor\":\"white\",\"ticks\":\"\",\"title\":{\"standoff\":15},\"zerolinecolor\":\"white\",\"zerolinewidth\":2},\"yaxis\":{\"automargin\":true,\"gridcolor\":\"white\",\"linecolor\":\"white\",\"ticks\":\"\",\"title\":{\"standoff\":15},\"zerolinecolor\":\"white\",\"zerolinewidth\":2}}},\"xaxis\":{\"anchor\":\"y\",\"domain\":[0.0,1.0],\"title\":{\"text\":\"Timestamp\"}},\"yaxis\":{\"anchor\":\"x\",\"domain\":[0.0,1.0],\"title\":{\"text\":\"Value\"}}},                        {\"responsive\": true}                    ).then(function(){\n",
       "                            \n",
       "var gd = document.getElementById('eaae65e3-6c3f-4452-ac91-2273ab6b8259');\n",
       "var x = new MutationObserver(function (mutations, observer) {{\n",
       "        var display = window.getComputedStyle(gd).display;\n",
       "        if (!display || display === 'none') {{\n",
       "            console.log([gd, 'removed!']);\n",
       "            Plotly.purge(gd);\n",
       "            observer.disconnect();\n",
       "        }}\n",
       "}});\n",
       "\n",
       "// Listen for the removal of the full notebook cells\n",
       "var notebookContainer = gd.closest('#notebook-container');\n",
       "if (notebookContainer) {{\n",
       "    x.observe(notebookContainer, {childList: true});\n",
       "}}\n",
       "\n",
       "// Listen for the clearing of the current output cell\n",
       "var outputEl = gd.closest('.output');\n",
       "if (outputEl) {{\n",
       "    x.observe(outputEl, {childList: true});\n",
       "}}\n",
       "\n",
       "                        })                };                });            </script>        </div>"
      ]
     },
     "metadata": {},
     "output_type": "display_data"
    }
   ],
   "source": [
    "fig = px.bar(df_users_active, x='Timestamp', y='Value')\n",
    "fig.show()"
   ]
  },
  {
   "cell_type": "markdown",
   "metadata": {},
   "source": [
    "# Users activity"
   ]
  },
  {
   "cell_type": "code",
   "execution_count": 399,
   "metadata": {},
   "outputs": [],
   "source": [
    "# debug\n",
    "#df_start = pd.DataFrame(world.user_monitor.start_data)\n",
    "#display(df_start)"
   ]
  },
  {
   "cell_type": "code",
   "execution_count": 400,
   "metadata": {},
   "outputs": [],
   "source": [
    "# debug\n",
    "#df_stop = pd.DataFrame(world.user_monitor.stop_data)\n",
    "#display(df_stop)"
   ]
  },
  {
   "cell_type": "code",
   "execution_count": 401,
   "metadata": {},
   "outputs": [],
   "source": [
    "# debug\n",
    "#df_stop.shape"
   ]
  },
  {
   "cell_type": "markdown",
   "metadata": {},
   "source": [
    "## Users chronogram"
   ]
  },
  {
   "cell_type": "code",
   "execution_count": 402,
   "metadata": {},
   "outputs": [],
   "source": [
    "df_users = world.user_monitor.collect()\n",
    "#display(df_users)"
   ]
  },
  {
   "cell_type": "code",
   "execution_count": 403,
   "metadata": {},
   "outputs": [
    {
     "data": {
      "application/vnd.plotly.v1+json": {
       "config": {
        "plotlyServerURL": "https://plot.ly"
       },
       "data": [
        {
         "alignmentgroup": "True",
         "base": [
          "2021-09-12T12:32:58.604829",
          "2021-09-12T12:33:58.604829",
          "2021-09-12T12:34:58.604829",
          "2021-09-12T12:35:58.604829",
          "2021-09-12T12:36:58.604829",
          "2021-09-12T12:36:58.604829",
          "2021-09-12T12:37:58.604829",
          "2021-09-12T12:38:58.604829",
          "2021-09-12T12:39:58.604829",
          "2021-09-12T12:39:58.604829",
          "2021-09-12T12:40:58.604829",
          "2021-09-12T12:40:58.604829",
          "2021-09-12T12:40:58.604829",
          "2021-09-12T12:41:58.604829",
          "2021-09-12T12:42:58.604829",
          "2021-09-12T12:42:58.604829",
          "2021-09-12T12:43:58.604829",
          "2021-09-12T12:43:58.604829",
          "2021-09-12T12:44:58.604829",
          "2021-09-12T12:44:58.604829",
          "2021-09-12T12:44:58.604829",
          "2021-09-12T12:45:58.604829",
          "2021-09-12T12:45:58.604829",
          "2021-09-12T12:46:58.604829",
          "2021-09-12T12:46:58.604829",
          "2021-09-12T12:46:58.604829",
          "2021-09-12T12:47:58.604829",
          "2021-09-12T12:47:58.604829",
          "2021-09-12T12:48:58.604829",
          "2021-09-12T12:49:58.604829",
          "2021-09-12T12:49:58.604829",
          "2021-09-12T12:50:58.604829",
          "2021-09-12T12:50:58.604829",
          "2021-09-12T12:50:58.604829",
          "2021-09-12T12:51:58.604829",
          "2021-09-12T12:52:58.604829",
          "2021-09-12T12:52:58.604829",
          "2021-09-12T12:52:58.604829",
          "2021-09-12T12:53:58.604829",
          "2021-09-12T12:53:58.604829",
          "2021-09-12T12:53:58.604829",
          "2021-09-12T12:54:58.604829",
          "2021-09-12T12:54:58.604829",
          "2021-09-12T12:55:58.604829",
          "2021-09-12T12:55:58.604829",
          "2021-09-12T12:56:58.604829",
          "2021-09-12T12:56:58.604829",
          "2021-09-12T12:56:58.604829",
          "2021-09-12T12:56:58.604829",
          "2021-09-12T12:56:58.604829",
          "2021-09-12T12:56:58.604829",
          "2021-09-12T12:57:58.604829",
          "2021-09-12T12:57:58.604829",
          "2021-09-12T12:58:58.604829",
          "2021-09-12T12:58:58.604829",
          "2021-09-12T12:58:58.604829",
          "2021-09-12T12:58:58.604829",
          "2021-09-12T12:59:58.604829",
          "2021-09-12T12:59:58.604829",
          "2021-09-12T12:59:58.604829",
          "2021-09-12T13:01:58.604829",
          "2021-09-12T13:01:58.604829",
          "2021-09-12T13:01:58.604829",
          "2021-09-12T13:02:58.604829",
          "2021-09-12T13:02:58.604829",
          "2021-09-12T13:02:58.604829",
          "2021-09-12T13:03:58.604829",
          "2021-09-12T13:03:58.604829",
          "2021-09-12T13:03:58.604829",
          "2021-09-12T13:04:58.604829",
          "2021-09-12T13:04:58.604829",
          "2021-09-12T13:05:58.604829",
          "2021-09-12T13:05:58.604829",
          "2021-09-12T13:06:58.604829",
          "2021-09-12T13:06:58.604829",
          "2021-09-12T13:06:58.604829",
          "2021-09-12T13:07:58.604829",
          "2021-09-12T13:08:58.604829",
          "2021-09-12T13:09:58.604829",
          "2021-09-12T13:09:58.604829",
          "2021-09-12T13:09:58.604829",
          "2021-09-12T13:09:58.604829",
          "2021-09-12T13:09:58.604829",
          "2021-09-12T13:10:58.604829",
          "2021-09-12T13:11:58.604829",
          "2021-09-12T13:11:58.604829",
          "2021-09-12T13:12:58.604829",
          "2021-09-12T13:12:58.604829",
          "2021-09-12T13:15:58.604829",
          "2021-09-12T13:16:58.604829",
          "2021-09-12T13:16:58.604829",
          "2021-09-12T13:16:58.604829",
          "2021-09-12T13:17:58.604829",
          "2021-09-12T13:17:58.604829",
          "2021-09-12T13:17:58.604829",
          "2021-09-12T13:17:58.604829",
          "2021-09-12T13:17:58.604829",
          "2021-09-12T13:17:58.604829",
          "2021-09-12T13:17:58.604829",
          "2021-09-12T13:18:58.604829",
          "2021-09-12T13:18:58.604829",
          "2021-09-12T13:18:58.604829",
          "2021-09-12T13:19:58.604829",
          "2021-09-12T13:19:58.604829",
          "2021-09-12T13:19:58.604829",
          "2021-09-12T13:19:58.604829",
          "2021-09-12T13:19:58.604829",
          "2021-09-12T13:20:58.604829",
          "2021-09-12T13:20:58.604829",
          "2021-09-12T13:21:58.604829",
          "2021-09-12T13:22:58.604829",
          "2021-09-12T13:23:58.604829",
          "2021-09-12T13:23:58.604829",
          "2021-09-12T13:24:58.604829",
          "2021-09-12T13:25:58.604829",
          "2021-09-12T13:25:58.604829",
          "2021-09-12T13:25:58.604829",
          "2021-09-12T13:26:58.604829",
          "2021-09-12T13:26:58.604829",
          "2021-09-12T13:27:58.604829",
          "2021-09-12T13:27:58.604829",
          "2021-09-12T13:28:58.604829",
          "2021-09-12T13:28:58.604829",
          "2021-09-12T13:29:58.604829",
          "2021-09-12T13:29:58.604829",
          "2021-09-12T13:29:58.604829",
          "2021-09-12T13:29:58.604829",
          "2021-09-12T13:31:58.604829",
          "2021-09-12T13:39:58.604829",
          "2021-09-12T13:39:58.604829",
          "2021-09-12T13:39:58.604829",
          "2021-09-12T13:39:58.604829",
          "2021-09-12T13:41:58.604829",
          "2021-09-12T13:41:58.604829",
          "2021-09-12T13:41:58.604829",
          "2021-09-12T13:42:58.604829",
          "2021-09-12T13:42:58.604829",
          "2021-09-12T13:42:58.604829",
          "2021-09-12T13:42:58.604829",
          "2021-09-12T13:42:58.604829",
          "2021-09-12T13:42:58.604829",
          "2021-09-12T13:42:58.604829",
          "2021-09-12T13:44:58.604829",
          "2021-09-12T13:44:58.604829",
          "2021-09-12T13:44:58.604829",
          "2021-09-12T13:44:58.604829",
          "2021-09-12T13:44:58.604829",
          "2021-09-12T13:44:58.604829",
          "2021-09-12T13:44:58.604829",
          "2021-09-12T13:45:58.604829",
          "2021-09-12T13:46:58.604829",
          "2021-09-12T13:47:58.604829",
          "2021-09-12T13:47:58.604829",
          "2021-09-12T13:47:58.604829",
          "2021-09-12T13:47:58.604829",
          "2021-09-12T13:47:58.604829",
          "2021-09-12T13:48:58.604829",
          "2021-09-12T13:49:58.604829",
          "2021-09-12T13:50:58.604829",
          "2021-09-12T13:52:58.604829",
          "2021-09-12T13:52:58.604829",
          "2021-09-12T13:59:58.604829",
          "2021-09-12T13:59:58.604829",
          "2021-09-12T13:59:58.604829",
          "2021-09-12T13:59:58.604829",
          "2021-09-12T13:59:58.604829",
          "2021-09-12T13:59:58.604829",
          "2021-09-12T14:02:58.604829",
          "2021-09-12T14:06:58.604829",
          "2021-09-12T14:06:58.604829",
          "2021-09-12T14:07:58.604829",
          "2021-09-12T14:07:58.604829",
          "2021-09-12T14:13:58.604829",
          "2021-09-12T14:13:58.604829",
          "2021-09-12T14:13:58.604829",
          "2021-09-12T14:13:58.604829",
          "2021-09-12T14:15:58.604829",
          "2021-09-12T14:15:58.604829",
          "2021-09-12T14:15:58.604829",
          "2021-09-12T14:16:58.604829",
          "2021-09-12T14:17:58.604829",
          "2021-09-12T14:18:58.604829",
          "2021-09-12T14:18:58.604829",
          "2021-09-12T14:18:58.604829",
          "2021-09-12T14:18:58.604829",
          "2021-09-12T14:18:58.604829",
          "2021-09-12T14:18:58.604829",
          "2021-09-12T14:18:58.604829",
          "2021-09-12T14:18:58.604829",
          "2021-09-12T14:18:58.604829",
          "2021-09-12T14:18:58.604829",
          "2021-09-12T14:18:58.604829",
          "2021-09-12T14:19:58.604829",
          "2021-09-12T14:20:58.604829",
          "2021-09-12T14:20:58.604829",
          "2021-09-12T14:20:58.604829",
          "2021-09-12T14:21:58.604829",
          "2021-09-12T14:21:58.604829",
          "2021-09-12T14:22:58.604829",
          "2021-09-12T14:23:58.604829",
          "2021-09-12T14:23:58.604829",
          "2021-09-12T14:27:58.604829",
          "2021-09-12T14:27:58.604829",
          "2021-09-12T14:28:58.604829",
          "2021-09-12T14:28:58.604829",
          "2021-09-12T14:28:58.604829",
          "2021-09-12T14:28:58.604829",
          "2021-09-12T14:30:58.604829",
          "2021-09-12T14:34:58.604829",
          "2021-09-12T14:34:58.604829",
          "2021-09-12T14:39:58.604829",
          "2021-09-12T14:39:58.604829",
          "2021-09-12T14:42:58.604829",
          "2021-09-12T14:42:58.604829",
          "2021-09-12T14:42:58.604829",
          "2021-09-12T14:42:58.604829",
          "2021-09-12T14:42:58.604829",
          "2021-09-12T14:42:58.604829",
          "2021-09-12T14:42:58.604829",
          "2021-09-12T14:50:58.604829",
          "2021-09-12T14:50:58.604829",
          "2021-09-12T14:50:58.604829",
          "2021-09-12T14:50:58.604829",
          "2021-09-12T14:53:58.604829",
          "2021-09-12T14:53:58.604829",
          "2021-09-12T14:53:58.604829",
          "2021-09-12T14:53:58.604829",
          "2021-09-12T14:53:58.604829",
          "2021-09-12T14:53:58.604829",
          "2021-09-12T14:53:58.604829",
          "2021-09-12T14:53:58.604829",
          "2021-09-12T14:53:58.604829",
          "2021-09-12T14:53:58.604829",
          "2021-09-12T14:53:58.604829",
          "2021-09-12T14:53:58.604829",
          "2021-09-12T14:55:58.604829",
          "2021-09-12T14:55:58.604829",
          "2021-09-12T14:55:58.604829",
          "2021-09-12T14:55:58.604829",
          "2021-09-12T14:55:58.604829",
          "2021-09-12T14:56:58.604829",
          "2021-09-12T15:00:58.604829",
          "2021-09-12T15:00:58.604829",
          "2021-09-12T15:00:58.604829",
          "2021-09-12T15:00:58.604829",
          "2021-09-12T15:01:58.604829",
          "2021-09-12T15:01:58.604829",
          "2021-09-12T15:01:58.604829",
          "2021-09-12T15:03:58.604829",
          "2021-09-12T15:03:58.604829",
          "2021-09-12T15:09:58.604829",
          "2021-09-12T15:09:58.604829",
          "2021-09-12T15:11:58.604829",
          "2021-09-12T15:11:58.604829",
          "2021-09-12T15:11:58.604829",
          "2021-09-12T15:11:58.604829",
          "2021-09-12T15:11:58.604829",
          "2021-09-12T15:12:58.604829",
          "2021-09-12T15:13:58.604829",
          "2021-09-12T15:19:58.604829",
          "2021-09-12T15:19:58.604829",
          "2021-09-12T15:19:58.604829",
          "2021-09-12T15:19:58.604829",
          "2021-09-12T15:23:58.604829",
          "2021-09-12T15:23:58.604829",
          "2021-09-12T15:23:58.604829",
          "2021-09-12T15:23:58.604829",
          "2021-09-12T15:26:58.604829",
          "2021-09-12T15:26:58.604829",
          "2021-09-12T15:26:58.604829",
          "2021-09-12T15:26:58.604829",
          "2021-09-12T15:28:58.604829",
          "2021-09-12T15:28:58.604829",
          "2021-09-12T15:28:58.604829",
          "2021-09-12T15:28:58.604829",
          "2021-09-12T15:28:58.604829",
          "2021-09-12T15:29:58.604829",
          "2021-09-12T15:29:58.604829",
          "2021-09-12T15:29:58.604829",
          "2021-09-12T15:29:58.604829",
          "2021-09-12T15:29:58.604829",
          "2021-09-12T15:31:58.604829"
         ],
         "hovertemplate": "Scenario=Sc2<br>Start=%{base}<br>Finish=%{x}<br>Username=%{y}<extra></extra>",
         "legendgroup": "Sc2",
         "marker": {
          "color": "#636efa"
         },
         "name": "Sc2",
         "offsetgroup": "Sc2",
         "orientation": "h",
         "showlegend": true,
         "textposition": "auto",
         "type": "bar",
         "x": [
          120000,
          120000,
          120000,
          120000,
          120000,
          180000,
          180000,
          180000,
          120000,
          180000,
          120000,
          180000,
          120000,
          120000,
          120000,
          120000,
          180000,
          120000,
          240000,
          300000,
          240000,
          300000,
          360000,
          240000,
          360000,
          360000,
          360000,
          360000,
          360000,
          300000,
          300000,
          240000,
          300000,
          240000,
          240000,
          300000,
          300000,
          240000,
          180000,
          240000,
          240000,
          300000,
          300000,
          300000,
          360000,
          360000,
          360000,
          420000,
          480000,
          540000,
          480000,
          480000,
          600000,
          600000,
          600000,
          540000,
          540000,
          600000,
          660000,
          720000,
          780000,
          840000,
          900000,
          780000,
          840000,
          780000,
          720000,
          720000,
          720000,
          720000,
          720000,
          720000,
          720000,
          660000,
          720000,
          720000,
          840000,
          780000,
          840000,
          900000,
          960000,
          900000,
          960000,
          960000,
          960000,
          960000,
          900000,
          900000,
          1320000,
          1260000,
          1320000,
          1260000,
          1380000,
          1380000,
          1380000,
          1440000,
          1440000,
          1380000,
          1380000,
          1320000,
          1380000,
          1380000,
          1380000,
          1440000,
          1440000,
          1440000,
          1380000,
          1320000,
          1380000,
          1320000,
          1320000,
          1320000,
          1380000,
          1260000,
          1200000,
          1260000,
          1260000,
          1320000,
          1320000,
          1380000,
          1440000,
          1800000,
          1740000,
          1680000,
          1740000,
          1740000,
          1740000,
          1740000,
          1560000,
          1560000,
          1620000,
          1560000,
          1800000,
          1800000,
          1800000,
          1800000,
          1920000,
          1920000,
          1860000,
          1920000,
          1980000,
          2040000,
          1980000,
          1980000,
          1980000,
          1920000,
          1920000,
          1920000,
          1920000,
          1920000,
          1860000,
          1800000,
          1860000,
          1920000,
          1860000,
          1860000,
          1920000,
          1800000,
          1860000,
          1800000,
          1740000,
          1620000,
          1620000,
          1620000,
          1620000,
          1620000,
          1620000,
          1620000,
          1560000,
          1560000,
          1860000,
          1800000,
          1680000,
          1680000,
          1680000,
          1620000,
          1560000,
          1500000,
          1500000,
          1980000,
          1920000,
          1860000,
          1860000,
          2040000,
          2040000,
          2040000,
          1980000,
          1980000,
          1980000,
          1980000,
          1980000,
          1980000,
          1920000,
          1920000,
          1920000,
          1980000,
          1980000,
          1920000,
          1860000,
          1860000,
          1860000,
          1860000,
          1860000,
          1860000,
          1860000,
          1920000,
          1920000,
          1740000,
          1680000,
          1680000,
          1740000,
          1680000,
          1680000,
          1680000,
          1680000,
          1620000,
          1620000,
          1680000,
          1740000,
          1620000,
          1620000,
          1620000,
          1620000,
          1740000,
          1740000,
          1740000,
          1740000,
          1920000,
          1920000,
          1920000,
          1860000,
          1980000,
          1980000,
          1980000,
          1980000,
          1920000,
          1980000,
          1980000,
          1920000,
          1920000,
          1920000,
          1800000,
          1860000,
          1800000,
          1800000,
          null,
          null,
          null,
          null,
          null,
          null,
          null,
          null,
          null,
          null,
          null,
          null,
          null,
          null,
          null,
          null,
          null,
          null,
          null,
          null,
          null,
          null,
          null,
          null,
          null,
          null,
          null,
          null,
          null,
          null,
          null,
          null,
          null,
          null,
          null,
          null,
          null
         ],
         "xaxis": "x",
         "y": [
          "User-001",
          "User-002",
          "User-003",
          "User-004",
          "User-005",
          "User-001",
          "User-002",
          "User-003",
          "User-008",
          "User-004",
          "User-009",
          "User-005",
          "User-001",
          "User-002",
          "User-011",
          "User-003",
          "User-008",
          "User-004",
          "User-009",
          "User-001",
          "User-005",
          "User-014",
          "User-002",
          "User-015",
          "User-011",
          "User-003",
          "User-004",
          "User-008",
          "User-017",
          "User-018",
          "User-009",
          "User-019",
          "User-005",
          "User-001",
          "User-020",
          "User-014",
          "User-015",
          "User-002",
          "User-022",
          "User-011",
          "User-003",
          "User-023",
          "User-004",
          "User-024",
          "User-008",
          "User-017",
          "User-018",
          "User-009",
          "User-019",
          "User-001",
          "User-005",
          "User-026",
          "User-020",
          "User-002",
          "User-022",
          "User-014",
          "User-015",
          "User-028",
          "User-011",
          "User-003",
          "User-030",
          "User-023",
          "User-004",
          "User-031",
          "User-024",
          "User-008",
          "User-032",
          "User-017",
          "User-018",
          "User-033",
          "User-009",
          "User-034",
          "User-019",
          "User-035",
          "User-005",
          "User-001",
          "User-026",
          "User-020",
          "User-038",
          "User-014",
          "User-015",
          "User-002",
          "User-022",
          "User-039",
          "User-028",
          "User-011",
          "User-041",
          "User-003",
          "User-044",
          "User-045",
          "User-030",
          "User-023",
          "User-031",
          "User-008",
          "User-032",
          "User-017",
          "User-018",
          "User-004",
          "User-024",
          "User-047",
          "User-033",
          "User-009",
          "User-048",
          "User-034",
          "User-019",
          "User-035",
          "User-005",
          "User-049",
          "User-001",
          "User-050",
          "User-026",
          "User-052",
          "User-020",
          "User-053",
          "User-054",
          "User-038",
          "User-014",
          "User-002",
          "User-015",
          "User-056",
          "User-022",
          "User-039",
          "User-028",
          "User-058",
          "User-011",
          "User-041",
          "User-003",
          "User-060",
          "User-044",
          "User-045",
          "User-023",
          "User-030",
          "User-031",
          "User-008",
          "User-032",
          "User-004",
          "User-024",
          "User-047",
          "User-017",
          "User-018",
          "User-033",
          "User-009",
          "User-048",
          "User-005",
          "User-049",
          "User-034",
          "User-019",
          "User-035",
          "User-001",
          "User-050",
          "User-026",
          "User-052",
          "User-053",
          "User-054",
          "User-020",
          "User-038",
          "User-014",
          "User-002",
          "User-015",
          "User-056",
          "User-022",
          "User-028",
          "User-058",
          "User-039",
          "User-011",
          "User-041",
          "User-003",
          "User-060",
          "User-044",
          "User-045",
          "User-030",
          "User-023",
          "User-031",
          "User-008",
          "User-032",
          "User-004",
          "User-017",
          "User-024",
          "User-047",
          "User-018",
          "User-033",
          "User-009",
          "User-034",
          "User-019",
          "User-035",
          "User-001",
          "User-048",
          "User-005",
          "User-049",
          "User-050",
          "User-026",
          "User-052",
          "User-053",
          "User-020",
          "User-038",
          "User-054",
          "User-002",
          "User-014",
          "User-015",
          "User-022",
          "User-056",
          "User-028",
          "User-058",
          "User-039",
          "User-011",
          "User-041",
          "User-003",
          "User-060",
          "User-044",
          "User-045",
          "User-023",
          "User-030",
          "User-004",
          "User-024",
          "User-047",
          "User-031",
          "User-008",
          "User-032",
          "User-017",
          "User-018",
          "User-033",
          "User-009",
          "User-034",
          "User-048",
          "User-005",
          "User-049",
          "User-050",
          "User-026",
          "User-052",
          "User-053",
          "User-019",
          "User-035",
          "User-001",
          "User-020",
          "User-038",
          "User-054",
          "User-014",
          "User-015",
          "User-002",
          "User-022",
          "User-056",
          "User-028",
          "User-058",
          "User-039",
          "User-011",
          "User-060",
          "User-041",
          "User-003",
          "User-044",
          "User-045",
          "User-030",
          "User-023",
          "User-031",
          "User-008",
          "User-004",
          "User-024",
          "User-047",
          "User-032",
          "User-017",
          "User-018",
          "User-033",
          "User-009",
          "User-034",
          "User-048",
          "User-005",
          "User-049",
          "User-050",
          "User-019",
          "User-026",
          "User-052",
          "User-053",
          "User-035",
          "User-001",
          "User-020",
          "User-038",
          "User-054",
          "User-002",
          "User-022",
          "User-014",
          "User-015",
          "User-056",
          "User-028"
         ],
         "yaxis": "y"
        },
        {
         "alignmentgroup": "True",
         "base": [
          "2021-09-12T12:37:58.604829",
          "2021-09-12T12:38:58.604829",
          "2021-09-12T12:41:58.604829",
          "2021-09-12T12:43:58.604829",
          "2021-09-12T12:44:58.604829",
          "2021-09-12T12:45:58.604829",
          "2021-09-12T12:47:58.604829",
          "2021-09-12T12:48:58.604829",
          "2021-09-12T12:50:58.604829",
          "2021-09-12T12:51:58.604829",
          "2021-09-12T12:52:58.604829",
          "2021-09-12T12:55:58.604829",
          "2021-09-12T12:56:58.604829",
          "2021-09-12T12:57:58.604829",
          "2021-09-12T12:59:58.604829",
          "2021-09-12T12:59:58.604829",
          "2021-09-12T13:00:58.604829",
          "2021-09-12T13:00:58.604829",
          "2021-09-12T13:01:58.604829",
          "2021-09-12T13:04:58.604829",
          "2021-09-12T13:06:58.604829",
          "2021-09-12T13:07:58.604829",
          "2021-09-12T13:08:58.604829",
          "2021-09-12T13:09:58.604829",
          "2021-09-12T13:11:58.604829",
          "2021-09-12T13:13:58.604829",
          "2021-09-12T13:14:58.604829",
          "2021-09-12T13:14:58.604829",
          "2021-09-12T13:16:58.604829",
          "2021-09-12T13:17:58.604829",
          "2021-09-12T13:18:58.604829",
          "2021-09-12T13:19:58.604829",
          "2021-09-12T13:21:58.604829",
          "2021-09-12T13:22:58.604829",
          "2021-09-12T13:22:58.604829",
          "2021-09-12T13:24:58.604829",
          "2021-09-12T13:26:58.604829",
          "2021-09-12T13:26:58.604829",
          "2021-09-12T13:27:58.604829",
          "2021-09-12T13:30:58.604829",
          "2021-09-12T13:31:58.604829",
          "2021-09-12T13:32:58.604829",
          "2021-09-12T13:32:58.604829",
          "2021-09-12T13:32:58.604829",
          "2021-09-12T13:42:58.604829",
          "2021-09-12T13:42:58.604829",
          "2021-09-12T13:45:58.604829",
          "2021-09-12T13:47:58.604829",
          "2021-09-12T13:48:58.604829",
          "2021-09-12T13:48:58.604829",
          "2021-09-12T13:49:58.604829",
          "2021-09-12T13:50:58.604829",
          "2021-09-12T13:52:58.604829",
          "2021-09-12T13:52:58.604829",
          "2021-09-12T13:55:58.604829",
          "2021-09-12T14:02:58.604829",
          "2021-09-12T14:04:58.604829",
          "2021-09-12T14:05:58.604829",
          "2021-09-12T14:07:58.604829",
          "2021-09-12T14:07:58.604829",
          "2021-09-12T14:16:58.604829",
          "2021-09-12T14:16:58.604829",
          "2021-09-12T14:21:58.604829",
          "2021-09-12T14:21:58.604829",
          "2021-09-12T14:23:58.604829",
          "2021-09-12T14:24:58.604829",
          "2021-09-12T14:24:58.604829",
          "2021-09-12T14:25:58.604829",
          "2021-09-12T14:26:58.604829",
          "2021-09-12T14:26:58.604829",
          "2021-09-12T14:28:58.604829",
          "2021-09-12T14:33:58.604829",
          "2021-09-12T14:37:58.604829",
          "2021-09-12T14:37:58.604829",
          "2021-09-12T14:38:58.604829",
          "2021-09-12T14:39:58.604829",
          "2021-09-12T14:53:58.604829",
          "2021-09-12T14:53:58.604829",
          "2021-09-12T14:58:58.604829",
          "2021-09-12T14:58:58.604829",
          "2021-09-12T14:58:58.604829",
          "2021-09-12T14:59:58.604829",
          "2021-09-12T14:59:58.604829",
          "2021-09-12T15:00:58.604829",
          "2021-09-12T15:01:58.604829",
          "2021-09-12T15:01:58.604829",
          "2021-09-12T15:03:58.604829",
          "2021-09-12T15:06:58.604829",
          "2021-09-12T15:07:58.604829",
          "2021-09-12T15:08:58.604829",
          "2021-09-12T15:09:58.604829",
          "2021-09-12T15:11:58.604829",
          "2021-09-12T15:26:58.604829",
          "2021-09-12T15:26:58.604829"
         ],
         "hovertemplate": "Scenario=Sc1<br>Start=%{base}<br>Finish=%{x}<br>Username=%{y}<extra></extra>",
         "legendgroup": "Sc1",
         "marker": {
          "color": "#EF553B"
         },
         "name": "Sc1",
         "offsetgroup": "Sc1",
         "orientation": "h",
         "showlegend": true,
         "textposition": "auto",
         "type": "bar",
         "x": [
          300000,
          300000,
          300000,
          300000,
          300000,
          480000,
          480000,
          540000,
          420000,
          420000,
          420000,
          420000,
          480000,
          600000,
          780000,
          780000,
          840000,
          960000,
          960000,
          900000,
          840000,
          900000,
          960000,
          960000,
          1080000,
          1020000,
          960000,
          960000,
          1440000,
          1380000,
          1500000,
          1560000,
          1500000,
          1440000,
          1500000,
          1440000,
          1440000,
          1440000,
          1560000,
          1800000,
          1860000,
          1860000,
          1980000,
          1980000,
          1920000,
          1920000,
          2040000,
          1920000,
          1980000,
          2040000,
          1980000,
          1980000,
          1920000,
          1920000,
          1860000,
          1740000,
          1860000,
          1800000,
          1740000,
          1800000,
          2100000,
          2100000,
          2100000,
          2100000,
          1980000,
          1980000,
          1980000,
          1980000,
          1980000,
          1980000,
          1980000,
          1860000,
          1680000,
          1740000,
          1740000,
          1800000,
          1860000,
          1860000,
          1920000,
          1920000,
          1920000,
          1920000,
          1920000,
          null,
          null,
          null,
          null,
          null,
          null,
          null,
          null,
          null,
          null,
          null
         ],
         "xaxis": "x",
         "y": [
          "User-006",
          "User-007",
          "User-010",
          "User-012",
          "User-006",
          "User-007",
          "User-016",
          "User-010",
          "User-012",
          "User-006",
          "User-021",
          "User-007",
          "User-025",
          "User-016",
          "User-010",
          "User-012",
          "User-006",
          "User-029",
          "User-021",
          "User-007",
          "User-025",
          "User-036",
          "User-037",
          "User-016",
          "User-040",
          "User-042",
          "User-010",
          "User-012",
          "User-006",
          "User-046",
          "User-029",
          "User-021",
          "User-007",
          "User-025",
          "User-051",
          "User-036",
          "User-037",
          "User-055",
          "User-016",
          "User-059",
          "User-040",
          "User-042",
          "User-010",
          "User-012",
          "User-006",
          "User-046",
          "User-029",
          "User-021",
          "User-007",
          "User-025",
          "User-051",
          "User-036",
          "User-037",
          "User-055",
          "User-016",
          "User-059",
          "User-040",
          "User-042",
          "User-010",
          "User-012",
          "User-006",
          "User-046",
          "User-029",
          "User-021",
          "User-007",
          "User-025",
          "User-051",
          "User-036",
          "User-037",
          "User-055",
          "User-016",
          "User-059",
          "User-040",
          "User-042",
          "User-010",
          "User-012",
          "User-006",
          "User-046",
          "User-029",
          "User-021",
          "User-007",
          "User-025",
          "User-051",
          "User-036",
          "User-037",
          "User-055",
          "User-016",
          "User-059",
          "User-040",
          "User-042",
          "User-010",
          "User-012",
          "User-006",
          "User-046"
         ],
         "yaxis": "y"
        },
        {
         "alignmentgroup": "True",
         "base": [
          "2021-09-12T12:44:58.604829",
          "2021-09-12T12:54:58.604829",
          "2021-09-12T12:58:58.604829",
          "2021-09-12T13:07:58.604829",
          "2021-09-12T13:14:58.604829",
          "2021-09-12T13:15:58.604829",
          "2021-09-12T13:27:58.604829",
          "2021-09-12T13:28:58.604829",
          "2021-09-12T13:37:58.604829",
          "2021-09-12T13:40:58.604829",
          "2021-09-12T13:57:58.604829",
          "2021-09-12T14:03:58.604829",
          "2021-09-12T14:11:58.604829",
          "2021-09-12T14:16:58.604829",
          "2021-09-12T14:32:58.604829",
          "2021-09-12T14:40:58.604829",
          "2021-09-12T14:48:58.604829",
          "2021-09-12T14:51:58.604829",
          "2021-09-12T15:09:58.604829",
          "2021-09-12T15:17:58.604829",
          "2021-09-12T15:21:58.604829",
          "2021-09-12T15:27:58.604829"
         ],
         "hovertemplate": "Scenario=Sc3<br>Start=%{base}<br>Finish=%{x}<br>Username=%{y}<extra></extra>",
         "legendgroup": "Sc3",
         "marker": {
          "color": "#00cc96"
         },
         "name": "Sc3",
         "offsetgroup": "Sc3",
         "orientation": "h",
         "showlegend": true,
         "textposition": "auto",
         "type": "bar",
         "x": [
          480000,
          660000,
          900000,
          1080000,
          1260000,
          1380000,
          1680000,
          1980000,
          1920000,
          2040000,
          1980000,
          2100000,
          2100000,
          1980000,
          2100000,
          2100000,
          1860000,
          2040000,
          null,
          null,
          null,
          null
         ],
         "xaxis": "x",
         "y": [
          "User-013",
          "User-013",
          "User-027",
          "User-013",
          "User-043",
          "User-027",
          "User-013",
          "User-057",
          "User-043",
          "User-027",
          "User-013",
          "User-057",
          "User-043",
          "User-027",
          "User-013",
          "User-057",
          "User-043",
          "User-027",
          "User-013",
          "User-057",
          "User-043",
          "User-027"
         ],
         "yaxis": "y"
        }
       ],
       "layout": {
        "barmode": "overlay",
        "legend": {
         "title": {
          "text": "Scenario"
         },
         "tracegroupgap": 0
        },
        "margin": {
         "t": 60
        },
        "template": {
         "data": {
          "bar": [
           {
            "error_x": {
             "color": "#2a3f5f"
            },
            "error_y": {
             "color": "#2a3f5f"
            },
            "marker": {
             "line": {
              "color": "#E5ECF6",
              "width": 0.5
             },
             "pattern": {
              "fillmode": "overlay",
              "size": 10,
              "solidity": 0.2
             }
            },
            "type": "bar"
           }
          ],
          "barpolar": [
           {
            "marker": {
             "line": {
              "color": "#E5ECF6",
              "width": 0.5
             },
             "pattern": {
              "fillmode": "overlay",
              "size": 10,
              "solidity": 0.2
             }
            },
            "type": "barpolar"
           }
          ],
          "carpet": [
           {
            "aaxis": {
             "endlinecolor": "#2a3f5f",
             "gridcolor": "white",
             "linecolor": "white",
             "minorgridcolor": "white",
             "startlinecolor": "#2a3f5f"
            },
            "baxis": {
             "endlinecolor": "#2a3f5f",
             "gridcolor": "white",
             "linecolor": "white",
             "minorgridcolor": "white",
             "startlinecolor": "#2a3f5f"
            },
            "type": "carpet"
           }
          ],
          "choropleth": [
           {
            "colorbar": {
             "outlinewidth": 0,
             "ticks": ""
            },
            "type": "choropleth"
           }
          ],
          "contour": [
           {
            "colorbar": {
             "outlinewidth": 0,
             "ticks": ""
            },
            "colorscale": [
             [
              0,
              "#0d0887"
             ],
             [
              0.1111111111111111,
              "#46039f"
             ],
             [
              0.2222222222222222,
              "#7201a8"
             ],
             [
              0.3333333333333333,
              "#9c179e"
             ],
             [
              0.4444444444444444,
              "#bd3786"
             ],
             [
              0.5555555555555556,
              "#d8576b"
             ],
             [
              0.6666666666666666,
              "#ed7953"
             ],
             [
              0.7777777777777778,
              "#fb9f3a"
             ],
             [
              0.8888888888888888,
              "#fdca26"
             ],
             [
              1,
              "#f0f921"
             ]
            ],
            "type": "contour"
           }
          ],
          "contourcarpet": [
           {
            "colorbar": {
             "outlinewidth": 0,
             "ticks": ""
            },
            "type": "contourcarpet"
           }
          ],
          "heatmap": [
           {
            "colorbar": {
             "outlinewidth": 0,
             "ticks": ""
            },
            "colorscale": [
             [
              0,
              "#0d0887"
             ],
             [
              0.1111111111111111,
              "#46039f"
             ],
             [
              0.2222222222222222,
              "#7201a8"
             ],
             [
              0.3333333333333333,
              "#9c179e"
             ],
             [
              0.4444444444444444,
              "#bd3786"
             ],
             [
              0.5555555555555556,
              "#d8576b"
             ],
             [
              0.6666666666666666,
              "#ed7953"
             ],
             [
              0.7777777777777778,
              "#fb9f3a"
             ],
             [
              0.8888888888888888,
              "#fdca26"
             ],
             [
              1,
              "#f0f921"
             ]
            ],
            "type": "heatmap"
           }
          ],
          "heatmapgl": [
           {
            "colorbar": {
             "outlinewidth": 0,
             "ticks": ""
            },
            "colorscale": [
             [
              0,
              "#0d0887"
             ],
             [
              0.1111111111111111,
              "#46039f"
             ],
             [
              0.2222222222222222,
              "#7201a8"
             ],
             [
              0.3333333333333333,
              "#9c179e"
             ],
             [
              0.4444444444444444,
              "#bd3786"
             ],
             [
              0.5555555555555556,
              "#d8576b"
             ],
             [
              0.6666666666666666,
              "#ed7953"
             ],
             [
              0.7777777777777778,
              "#fb9f3a"
             ],
             [
              0.8888888888888888,
              "#fdca26"
             ],
             [
              1,
              "#f0f921"
             ]
            ],
            "type": "heatmapgl"
           }
          ],
          "histogram": [
           {
            "marker": {
             "pattern": {
              "fillmode": "overlay",
              "size": 10,
              "solidity": 0.2
             }
            },
            "type": "histogram"
           }
          ],
          "histogram2d": [
           {
            "colorbar": {
             "outlinewidth": 0,
             "ticks": ""
            },
            "colorscale": [
             [
              0,
              "#0d0887"
             ],
             [
              0.1111111111111111,
              "#46039f"
             ],
             [
              0.2222222222222222,
              "#7201a8"
             ],
             [
              0.3333333333333333,
              "#9c179e"
             ],
             [
              0.4444444444444444,
              "#bd3786"
             ],
             [
              0.5555555555555556,
              "#d8576b"
             ],
             [
              0.6666666666666666,
              "#ed7953"
             ],
             [
              0.7777777777777778,
              "#fb9f3a"
             ],
             [
              0.8888888888888888,
              "#fdca26"
             ],
             [
              1,
              "#f0f921"
             ]
            ],
            "type": "histogram2d"
           }
          ],
          "histogram2dcontour": [
           {
            "colorbar": {
             "outlinewidth": 0,
             "ticks": ""
            },
            "colorscale": [
             [
              0,
              "#0d0887"
             ],
             [
              0.1111111111111111,
              "#46039f"
             ],
             [
              0.2222222222222222,
              "#7201a8"
             ],
             [
              0.3333333333333333,
              "#9c179e"
             ],
             [
              0.4444444444444444,
              "#bd3786"
             ],
             [
              0.5555555555555556,
              "#d8576b"
             ],
             [
              0.6666666666666666,
              "#ed7953"
             ],
             [
              0.7777777777777778,
              "#fb9f3a"
             ],
             [
              0.8888888888888888,
              "#fdca26"
             ],
             [
              1,
              "#f0f921"
             ]
            ],
            "type": "histogram2dcontour"
           }
          ],
          "mesh3d": [
           {
            "colorbar": {
             "outlinewidth": 0,
             "ticks": ""
            },
            "type": "mesh3d"
           }
          ],
          "parcoords": [
           {
            "line": {
             "colorbar": {
              "outlinewidth": 0,
              "ticks": ""
             }
            },
            "type": "parcoords"
           }
          ],
          "pie": [
           {
            "automargin": true,
            "type": "pie"
           }
          ],
          "scatter": [
           {
            "marker": {
             "colorbar": {
              "outlinewidth": 0,
              "ticks": ""
             }
            },
            "type": "scatter"
           }
          ],
          "scatter3d": [
           {
            "line": {
             "colorbar": {
              "outlinewidth": 0,
              "ticks": ""
             }
            },
            "marker": {
             "colorbar": {
              "outlinewidth": 0,
              "ticks": ""
             }
            },
            "type": "scatter3d"
           }
          ],
          "scattercarpet": [
           {
            "marker": {
             "colorbar": {
              "outlinewidth": 0,
              "ticks": ""
             }
            },
            "type": "scattercarpet"
           }
          ],
          "scattergeo": [
           {
            "marker": {
             "colorbar": {
              "outlinewidth": 0,
              "ticks": ""
             }
            },
            "type": "scattergeo"
           }
          ],
          "scattergl": [
           {
            "marker": {
             "colorbar": {
              "outlinewidth": 0,
              "ticks": ""
             }
            },
            "type": "scattergl"
           }
          ],
          "scattermapbox": [
           {
            "marker": {
             "colorbar": {
              "outlinewidth": 0,
              "ticks": ""
             }
            },
            "type": "scattermapbox"
           }
          ],
          "scatterpolar": [
           {
            "marker": {
             "colorbar": {
              "outlinewidth": 0,
              "ticks": ""
             }
            },
            "type": "scatterpolar"
           }
          ],
          "scatterpolargl": [
           {
            "marker": {
             "colorbar": {
              "outlinewidth": 0,
              "ticks": ""
             }
            },
            "type": "scatterpolargl"
           }
          ],
          "scatterternary": [
           {
            "marker": {
             "colorbar": {
              "outlinewidth": 0,
              "ticks": ""
             }
            },
            "type": "scatterternary"
           }
          ],
          "surface": [
           {
            "colorbar": {
             "outlinewidth": 0,
             "ticks": ""
            },
            "colorscale": [
             [
              0,
              "#0d0887"
             ],
             [
              0.1111111111111111,
              "#46039f"
             ],
             [
              0.2222222222222222,
              "#7201a8"
             ],
             [
              0.3333333333333333,
              "#9c179e"
             ],
             [
              0.4444444444444444,
              "#bd3786"
             ],
             [
              0.5555555555555556,
              "#d8576b"
             ],
             [
              0.6666666666666666,
              "#ed7953"
             ],
             [
              0.7777777777777778,
              "#fb9f3a"
             ],
             [
              0.8888888888888888,
              "#fdca26"
             ],
             [
              1,
              "#f0f921"
             ]
            ],
            "type": "surface"
           }
          ],
          "table": [
           {
            "cells": {
             "fill": {
              "color": "#EBF0F8"
             },
             "line": {
              "color": "white"
             }
            },
            "header": {
             "fill": {
              "color": "#C8D4E3"
             },
             "line": {
              "color": "white"
             }
            },
            "type": "table"
           }
          ]
         },
         "layout": {
          "annotationdefaults": {
           "arrowcolor": "#2a3f5f",
           "arrowhead": 0,
           "arrowwidth": 1
          },
          "autotypenumbers": "strict",
          "coloraxis": {
           "colorbar": {
            "outlinewidth": 0,
            "ticks": ""
           }
          },
          "colorscale": {
           "diverging": [
            [
             0,
             "#8e0152"
            ],
            [
             0.1,
             "#c51b7d"
            ],
            [
             0.2,
             "#de77ae"
            ],
            [
             0.3,
             "#f1b6da"
            ],
            [
             0.4,
             "#fde0ef"
            ],
            [
             0.5,
             "#f7f7f7"
            ],
            [
             0.6,
             "#e6f5d0"
            ],
            [
             0.7,
             "#b8e186"
            ],
            [
             0.8,
             "#7fbc41"
            ],
            [
             0.9,
             "#4d9221"
            ],
            [
             1,
             "#276419"
            ]
           ],
           "sequential": [
            [
             0,
             "#0d0887"
            ],
            [
             0.1111111111111111,
             "#46039f"
            ],
            [
             0.2222222222222222,
             "#7201a8"
            ],
            [
             0.3333333333333333,
             "#9c179e"
            ],
            [
             0.4444444444444444,
             "#bd3786"
            ],
            [
             0.5555555555555556,
             "#d8576b"
            ],
            [
             0.6666666666666666,
             "#ed7953"
            ],
            [
             0.7777777777777778,
             "#fb9f3a"
            ],
            [
             0.8888888888888888,
             "#fdca26"
            ],
            [
             1,
             "#f0f921"
            ]
           ],
           "sequentialminus": [
            [
             0,
             "#0d0887"
            ],
            [
             0.1111111111111111,
             "#46039f"
            ],
            [
             0.2222222222222222,
             "#7201a8"
            ],
            [
             0.3333333333333333,
             "#9c179e"
            ],
            [
             0.4444444444444444,
             "#bd3786"
            ],
            [
             0.5555555555555556,
             "#d8576b"
            ],
            [
             0.6666666666666666,
             "#ed7953"
            ],
            [
             0.7777777777777778,
             "#fb9f3a"
            ],
            [
             0.8888888888888888,
             "#fdca26"
            ],
            [
             1,
             "#f0f921"
            ]
           ]
          },
          "colorway": [
           "#636efa",
           "#EF553B",
           "#00cc96",
           "#ab63fa",
           "#FFA15A",
           "#19d3f3",
           "#FF6692",
           "#B6E880",
           "#FF97FF",
           "#FECB52"
          ],
          "font": {
           "color": "#2a3f5f"
          },
          "geo": {
           "bgcolor": "white",
           "lakecolor": "white",
           "landcolor": "#E5ECF6",
           "showlakes": true,
           "showland": true,
           "subunitcolor": "white"
          },
          "hoverlabel": {
           "align": "left"
          },
          "hovermode": "closest",
          "mapbox": {
           "style": "light"
          },
          "paper_bgcolor": "white",
          "plot_bgcolor": "#E5ECF6",
          "polar": {
           "angularaxis": {
            "gridcolor": "white",
            "linecolor": "white",
            "ticks": ""
           },
           "bgcolor": "#E5ECF6",
           "radialaxis": {
            "gridcolor": "white",
            "linecolor": "white",
            "ticks": ""
           }
          },
          "scene": {
           "xaxis": {
            "backgroundcolor": "#E5ECF6",
            "gridcolor": "white",
            "gridwidth": 2,
            "linecolor": "white",
            "showbackground": true,
            "ticks": "",
            "zerolinecolor": "white"
           },
           "yaxis": {
            "backgroundcolor": "#E5ECF6",
            "gridcolor": "white",
            "gridwidth": 2,
            "linecolor": "white",
            "showbackground": true,
            "ticks": "",
            "zerolinecolor": "white"
           },
           "zaxis": {
            "backgroundcolor": "#E5ECF6",
            "gridcolor": "white",
            "gridwidth": 2,
            "linecolor": "white",
            "showbackground": true,
            "ticks": "",
            "zerolinecolor": "white"
           }
          },
          "shapedefaults": {
           "line": {
            "color": "#2a3f5f"
           }
          },
          "ternary": {
           "aaxis": {
            "gridcolor": "white",
            "linecolor": "white",
            "ticks": ""
           },
           "baxis": {
            "gridcolor": "white",
            "linecolor": "white",
            "ticks": ""
           },
           "bgcolor": "#E5ECF6",
           "caxis": {
            "gridcolor": "white",
            "linecolor": "white",
            "ticks": ""
           }
          },
          "title": {
           "x": 0.05
          },
          "xaxis": {
           "automargin": true,
           "gridcolor": "white",
           "linecolor": "white",
           "ticks": "",
           "title": {
            "standoff": 15
           },
           "zerolinecolor": "white",
           "zerolinewidth": 2
          },
          "yaxis": {
           "automargin": true,
           "gridcolor": "white",
           "linecolor": "white",
           "ticks": "",
           "title": {
            "standoff": 15
           },
           "zerolinecolor": "white",
           "zerolinewidth": 2
          }
         }
        },
        "xaxis": {
         "anchor": "y",
         "domain": [
          0,
          1
         ],
         "type": "date"
        },
        "yaxis": {
         "anchor": "x",
         "categoryorder": "category descending",
         "domain": [
          0,
          1
         ],
         "title": {
          "text": "Username"
         }
        }
       }
      },
      "text/html": [
       "<div>                            <div id=\"e880db52-5844-4ba3-8f3a-62e68b0eb414\" class=\"plotly-graph-div\" style=\"height:525px; width:100%;\"></div>            <script type=\"text/javascript\">                require([\"plotly\"], function(Plotly) {                    window.PLOTLYENV=window.PLOTLYENV || {};                                    if (document.getElementById(\"e880db52-5844-4ba3-8f3a-62e68b0eb414\")) {                    Plotly.newPlot(                        \"e880db52-5844-4ba3-8f3a-62e68b0eb414\",                        [{\"alignmentgroup\":\"True\",\"base\":[\"2021-09-12T12:32:58.604829\",\"2021-09-12T12:33:58.604829\",\"2021-09-12T12:34:58.604829\",\"2021-09-12T12:35:58.604829\",\"2021-09-12T12:36:58.604829\",\"2021-09-12T12:36:58.604829\",\"2021-09-12T12:37:58.604829\",\"2021-09-12T12:38:58.604829\",\"2021-09-12T12:39:58.604829\",\"2021-09-12T12:39:58.604829\",\"2021-09-12T12:40:58.604829\",\"2021-09-12T12:40:58.604829\",\"2021-09-12T12:40:58.604829\",\"2021-09-12T12:41:58.604829\",\"2021-09-12T12:42:58.604829\",\"2021-09-12T12:42:58.604829\",\"2021-09-12T12:43:58.604829\",\"2021-09-12T12:43:58.604829\",\"2021-09-12T12:44:58.604829\",\"2021-09-12T12:44:58.604829\",\"2021-09-12T12:44:58.604829\",\"2021-09-12T12:45:58.604829\",\"2021-09-12T12:45:58.604829\",\"2021-09-12T12:46:58.604829\",\"2021-09-12T12:46:58.604829\",\"2021-09-12T12:46:58.604829\",\"2021-09-12T12:47:58.604829\",\"2021-09-12T12:47:58.604829\",\"2021-09-12T12:48:58.604829\",\"2021-09-12T12:49:58.604829\",\"2021-09-12T12:49:58.604829\",\"2021-09-12T12:50:58.604829\",\"2021-09-12T12:50:58.604829\",\"2021-09-12T12:50:58.604829\",\"2021-09-12T12:51:58.604829\",\"2021-09-12T12:52:58.604829\",\"2021-09-12T12:52:58.604829\",\"2021-09-12T12:52:58.604829\",\"2021-09-12T12:53:58.604829\",\"2021-09-12T12:53:58.604829\",\"2021-09-12T12:53:58.604829\",\"2021-09-12T12:54:58.604829\",\"2021-09-12T12:54:58.604829\",\"2021-09-12T12:55:58.604829\",\"2021-09-12T12:55:58.604829\",\"2021-09-12T12:56:58.604829\",\"2021-09-12T12:56:58.604829\",\"2021-09-12T12:56:58.604829\",\"2021-09-12T12:56:58.604829\",\"2021-09-12T12:56:58.604829\",\"2021-09-12T12:56:58.604829\",\"2021-09-12T12:57:58.604829\",\"2021-09-12T12:57:58.604829\",\"2021-09-12T12:58:58.604829\",\"2021-09-12T12:58:58.604829\",\"2021-09-12T12:58:58.604829\",\"2021-09-12T12:58:58.604829\",\"2021-09-12T12:59:58.604829\",\"2021-09-12T12:59:58.604829\",\"2021-09-12T12:59:58.604829\",\"2021-09-12T13:01:58.604829\",\"2021-09-12T13:01:58.604829\",\"2021-09-12T13:01:58.604829\",\"2021-09-12T13:02:58.604829\",\"2021-09-12T13:02:58.604829\",\"2021-09-12T13:02:58.604829\",\"2021-09-12T13:03:58.604829\",\"2021-09-12T13:03:58.604829\",\"2021-09-12T13:03:58.604829\",\"2021-09-12T13:04:58.604829\",\"2021-09-12T13:04:58.604829\",\"2021-09-12T13:05:58.604829\",\"2021-09-12T13:05:58.604829\",\"2021-09-12T13:06:58.604829\",\"2021-09-12T13:06:58.604829\",\"2021-09-12T13:06:58.604829\",\"2021-09-12T13:07:58.604829\",\"2021-09-12T13:08:58.604829\",\"2021-09-12T13:09:58.604829\",\"2021-09-12T13:09:58.604829\",\"2021-09-12T13:09:58.604829\",\"2021-09-12T13:09:58.604829\",\"2021-09-12T13:09:58.604829\",\"2021-09-12T13:10:58.604829\",\"2021-09-12T13:11:58.604829\",\"2021-09-12T13:11:58.604829\",\"2021-09-12T13:12:58.604829\",\"2021-09-12T13:12:58.604829\",\"2021-09-12T13:15:58.604829\",\"2021-09-12T13:16:58.604829\",\"2021-09-12T13:16:58.604829\",\"2021-09-12T13:16:58.604829\",\"2021-09-12T13:17:58.604829\",\"2021-09-12T13:17:58.604829\",\"2021-09-12T13:17:58.604829\",\"2021-09-12T13:17:58.604829\",\"2021-09-12T13:17:58.604829\",\"2021-09-12T13:17:58.604829\",\"2021-09-12T13:17:58.604829\",\"2021-09-12T13:18:58.604829\",\"2021-09-12T13:18:58.604829\",\"2021-09-12T13:18:58.604829\",\"2021-09-12T13:19:58.604829\",\"2021-09-12T13:19:58.604829\",\"2021-09-12T13:19:58.604829\",\"2021-09-12T13:19:58.604829\",\"2021-09-12T13:19:58.604829\",\"2021-09-12T13:20:58.604829\",\"2021-09-12T13:20:58.604829\",\"2021-09-12T13:21:58.604829\",\"2021-09-12T13:22:58.604829\",\"2021-09-12T13:23:58.604829\",\"2021-09-12T13:23:58.604829\",\"2021-09-12T13:24:58.604829\",\"2021-09-12T13:25:58.604829\",\"2021-09-12T13:25:58.604829\",\"2021-09-12T13:25:58.604829\",\"2021-09-12T13:26:58.604829\",\"2021-09-12T13:26:58.604829\",\"2021-09-12T13:27:58.604829\",\"2021-09-12T13:27:58.604829\",\"2021-09-12T13:28:58.604829\",\"2021-09-12T13:28:58.604829\",\"2021-09-12T13:29:58.604829\",\"2021-09-12T13:29:58.604829\",\"2021-09-12T13:29:58.604829\",\"2021-09-12T13:29:58.604829\",\"2021-09-12T13:31:58.604829\",\"2021-09-12T13:39:58.604829\",\"2021-09-12T13:39:58.604829\",\"2021-09-12T13:39:58.604829\",\"2021-09-12T13:39:58.604829\",\"2021-09-12T13:41:58.604829\",\"2021-09-12T13:41:58.604829\",\"2021-09-12T13:41:58.604829\",\"2021-09-12T13:42:58.604829\",\"2021-09-12T13:42:58.604829\",\"2021-09-12T13:42:58.604829\",\"2021-09-12T13:42:58.604829\",\"2021-09-12T13:42:58.604829\",\"2021-09-12T13:42:58.604829\",\"2021-09-12T13:42:58.604829\",\"2021-09-12T13:44:58.604829\",\"2021-09-12T13:44:58.604829\",\"2021-09-12T13:44:58.604829\",\"2021-09-12T13:44:58.604829\",\"2021-09-12T13:44:58.604829\",\"2021-09-12T13:44:58.604829\",\"2021-09-12T13:44:58.604829\",\"2021-09-12T13:45:58.604829\",\"2021-09-12T13:46:58.604829\",\"2021-09-12T13:47:58.604829\",\"2021-09-12T13:47:58.604829\",\"2021-09-12T13:47:58.604829\",\"2021-09-12T13:47:58.604829\",\"2021-09-12T13:47:58.604829\",\"2021-09-12T13:48:58.604829\",\"2021-09-12T13:49:58.604829\",\"2021-09-12T13:50:58.604829\",\"2021-09-12T13:52:58.604829\",\"2021-09-12T13:52:58.604829\",\"2021-09-12T13:59:58.604829\",\"2021-09-12T13:59:58.604829\",\"2021-09-12T13:59:58.604829\",\"2021-09-12T13:59:58.604829\",\"2021-09-12T13:59:58.604829\",\"2021-09-12T13:59:58.604829\",\"2021-09-12T14:02:58.604829\",\"2021-09-12T14:06:58.604829\",\"2021-09-12T14:06:58.604829\",\"2021-09-12T14:07:58.604829\",\"2021-09-12T14:07:58.604829\",\"2021-09-12T14:13:58.604829\",\"2021-09-12T14:13:58.604829\",\"2021-09-12T14:13:58.604829\",\"2021-09-12T14:13:58.604829\",\"2021-09-12T14:15:58.604829\",\"2021-09-12T14:15:58.604829\",\"2021-09-12T14:15:58.604829\",\"2021-09-12T14:16:58.604829\",\"2021-09-12T14:17:58.604829\",\"2021-09-12T14:18:58.604829\",\"2021-09-12T14:18:58.604829\",\"2021-09-12T14:18:58.604829\",\"2021-09-12T14:18:58.604829\",\"2021-09-12T14:18:58.604829\",\"2021-09-12T14:18:58.604829\",\"2021-09-12T14:18:58.604829\",\"2021-09-12T14:18:58.604829\",\"2021-09-12T14:18:58.604829\",\"2021-09-12T14:18:58.604829\",\"2021-09-12T14:18:58.604829\",\"2021-09-12T14:19:58.604829\",\"2021-09-12T14:20:58.604829\",\"2021-09-12T14:20:58.604829\",\"2021-09-12T14:20:58.604829\",\"2021-09-12T14:21:58.604829\",\"2021-09-12T14:21:58.604829\",\"2021-09-12T14:22:58.604829\",\"2021-09-12T14:23:58.604829\",\"2021-09-12T14:23:58.604829\",\"2021-09-12T14:27:58.604829\",\"2021-09-12T14:27:58.604829\",\"2021-09-12T14:28:58.604829\",\"2021-09-12T14:28:58.604829\",\"2021-09-12T14:28:58.604829\",\"2021-09-12T14:28:58.604829\",\"2021-09-12T14:30:58.604829\",\"2021-09-12T14:34:58.604829\",\"2021-09-12T14:34:58.604829\",\"2021-09-12T14:39:58.604829\",\"2021-09-12T14:39:58.604829\",\"2021-09-12T14:42:58.604829\",\"2021-09-12T14:42:58.604829\",\"2021-09-12T14:42:58.604829\",\"2021-09-12T14:42:58.604829\",\"2021-09-12T14:42:58.604829\",\"2021-09-12T14:42:58.604829\",\"2021-09-12T14:42:58.604829\",\"2021-09-12T14:50:58.604829\",\"2021-09-12T14:50:58.604829\",\"2021-09-12T14:50:58.604829\",\"2021-09-12T14:50:58.604829\",\"2021-09-12T14:53:58.604829\",\"2021-09-12T14:53:58.604829\",\"2021-09-12T14:53:58.604829\",\"2021-09-12T14:53:58.604829\",\"2021-09-12T14:53:58.604829\",\"2021-09-12T14:53:58.604829\",\"2021-09-12T14:53:58.604829\",\"2021-09-12T14:53:58.604829\",\"2021-09-12T14:53:58.604829\",\"2021-09-12T14:53:58.604829\",\"2021-09-12T14:53:58.604829\",\"2021-09-12T14:53:58.604829\",\"2021-09-12T14:55:58.604829\",\"2021-09-12T14:55:58.604829\",\"2021-09-12T14:55:58.604829\",\"2021-09-12T14:55:58.604829\",\"2021-09-12T14:55:58.604829\",\"2021-09-12T14:56:58.604829\",\"2021-09-12T15:00:58.604829\",\"2021-09-12T15:00:58.604829\",\"2021-09-12T15:00:58.604829\",\"2021-09-12T15:00:58.604829\",\"2021-09-12T15:01:58.604829\",\"2021-09-12T15:01:58.604829\",\"2021-09-12T15:01:58.604829\",\"2021-09-12T15:03:58.604829\",\"2021-09-12T15:03:58.604829\",\"2021-09-12T15:09:58.604829\",\"2021-09-12T15:09:58.604829\",\"2021-09-12T15:11:58.604829\",\"2021-09-12T15:11:58.604829\",\"2021-09-12T15:11:58.604829\",\"2021-09-12T15:11:58.604829\",\"2021-09-12T15:11:58.604829\",\"2021-09-12T15:12:58.604829\",\"2021-09-12T15:13:58.604829\",\"2021-09-12T15:19:58.604829\",\"2021-09-12T15:19:58.604829\",\"2021-09-12T15:19:58.604829\",\"2021-09-12T15:19:58.604829\",\"2021-09-12T15:23:58.604829\",\"2021-09-12T15:23:58.604829\",\"2021-09-12T15:23:58.604829\",\"2021-09-12T15:23:58.604829\",\"2021-09-12T15:26:58.604829\",\"2021-09-12T15:26:58.604829\",\"2021-09-12T15:26:58.604829\",\"2021-09-12T15:26:58.604829\",\"2021-09-12T15:28:58.604829\",\"2021-09-12T15:28:58.604829\",\"2021-09-12T15:28:58.604829\",\"2021-09-12T15:28:58.604829\",\"2021-09-12T15:28:58.604829\",\"2021-09-12T15:29:58.604829\",\"2021-09-12T15:29:58.604829\",\"2021-09-12T15:29:58.604829\",\"2021-09-12T15:29:58.604829\",\"2021-09-12T15:29:58.604829\",\"2021-09-12T15:31:58.604829\"],\"hovertemplate\":\"Scenario=Sc2<br>Start=%{base}<br>Finish=%{x}<br>Username=%{y}<extra></extra>\",\"legendgroup\":\"Sc2\",\"marker\":{\"color\":\"#636efa\"},\"name\":\"Sc2\",\"offsetgroup\":\"Sc2\",\"orientation\":\"h\",\"showlegend\":true,\"textposition\":\"auto\",\"type\":\"bar\",\"x\":[120000.0,120000.0,120000.0,120000.0,120000.0,180000.0,180000.0,180000.0,120000.0,180000.0,120000.0,180000.0,120000.0,120000.0,120000.0,120000.0,180000.0,120000.0,240000.0,300000.0,240000.0,300000.0,360000.0,240000.0,360000.0,360000.0,360000.0,360000.0,360000.0,300000.0,300000.0,240000.0,300000.0,240000.0,240000.0,300000.0,300000.0,240000.0,180000.0,240000.0,240000.0,300000.0,300000.0,300000.0,360000.0,360000.0,360000.0,420000.0,480000.0,540000.0,480000.0,480000.0,600000.0,600000.0,600000.0,540000.0,540000.0,600000.0,660000.0,720000.0,780000.0,840000.0,900000.0,780000.0,840000.0,780000.0,720000.0,720000.0,720000.0,720000.0,720000.0,720000.0,720000.0,660000.0,720000.0,720000.0,840000.0,780000.0,840000.0,900000.0,960000.0,900000.0,960000.0,960000.0,960000.0,960000.0,900000.0,900000.0,1320000.0,1260000.0,1320000.0,1260000.0,1380000.0,1380000.0,1380000.0,1440000.0,1440000.0,1380000.0,1380000.0,1320000.0,1380000.0,1380000.0,1380000.0,1440000.0,1440000.0,1440000.0,1380000.0,1320000.0,1380000.0,1320000.0,1320000.0,1320000.0,1380000.0,1260000.0,1200000.0,1260000.0,1260000.0,1320000.0,1320000.0,1380000.0,1440000.0,1800000.0,1740000.0,1680000.0,1740000.0,1740000.0,1740000.0,1740000.0,1560000.0,1560000.0,1620000.0,1560000.0,1800000.0,1800000.0,1800000.0,1800000.0,1920000.0,1920000.0,1860000.0,1920000.0,1980000.0,2040000.0,1980000.0,1980000.0,1980000.0,1920000.0,1920000.0,1920000.0,1920000.0,1920000.0,1860000.0,1800000.0,1860000.0,1920000.0,1860000.0,1860000.0,1920000.0,1800000.0,1860000.0,1800000.0,1740000.0,1620000.0,1620000.0,1620000.0,1620000.0,1620000.0,1620000.0,1620000.0,1560000.0,1560000.0,1860000.0,1800000.0,1680000.0,1680000.0,1680000.0,1620000.0,1560000.0,1500000.0,1500000.0,1980000.0,1920000.0,1860000.0,1860000.0,2040000.0,2040000.0,2040000.0,1980000.0,1980000.0,1980000.0,1980000.0,1980000.0,1980000.0,1920000.0,1920000.0,1920000.0,1980000.0,1980000.0,1920000.0,1860000.0,1860000.0,1860000.0,1860000.0,1860000.0,1860000.0,1860000.0,1920000.0,1920000.0,1740000.0,1680000.0,1680000.0,1740000.0,1680000.0,1680000.0,1680000.0,1680000.0,1620000.0,1620000.0,1680000.0,1740000.0,1620000.0,1620000.0,1620000.0,1620000.0,1740000.0,1740000.0,1740000.0,1740000.0,1920000.0,1920000.0,1920000.0,1860000.0,1980000.0,1980000.0,1980000.0,1980000.0,1920000.0,1980000.0,1980000.0,1920000.0,1920000.0,1920000.0,1800000.0,1860000.0,1800000.0,1800000.0,null,null,null,null,null,null,null,null,null,null,null,null,null,null,null,null,null,null,null,null,null,null,null,null,null,null,null,null,null,null,null,null,null,null,null,null,null],\"xaxis\":\"x\",\"y\":[\"User-001\",\"User-002\",\"User-003\",\"User-004\",\"User-005\",\"User-001\",\"User-002\",\"User-003\",\"User-008\",\"User-004\",\"User-009\",\"User-005\",\"User-001\",\"User-002\",\"User-011\",\"User-003\",\"User-008\",\"User-004\",\"User-009\",\"User-001\",\"User-005\",\"User-014\",\"User-002\",\"User-015\",\"User-011\",\"User-003\",\"User-004\",\"User-008\",\"User-017\",\"User-018\",\"User-009\",\"User-019\",\"User-005\",\"User-001\",\"User-020\",\"User-014\",\"User-015\",\"User-002\",\"User-022\",\"User-011\",\"User-003\",\"User-023\",\"User-004\",\"User-024\",\"User-008\",\"User-017\",\"User-018\",\"User-009\",\"User-019\",\"User-001\",\"User-005\",\"User-026\",\"User-020\",\"User-002\",\"User-022\",\"User-014\",\"User-015\",\"User-028\",\"User-011\",\"User-003\",\"User-030\",\"User-023\",\"User-004\",\"User-031\",\"User-024\",\"User-008\",\"User-032\",\"User-017\",\"User-018\",\"User-033\",\"User-009\",\"User-034\",\"User-019\",\"User-035\",\"User-005\",\"User-001\",\"User-026\",\"User-020\",\"User-038\",\"User-014\",\"User-015\",\"User-002\",\"User-022\",\"User-039\",\"User-028\",\"User-011\",\"User-041\",\"User-003\",\"User-044\",\"User-045\",\"User-030\",\"User-023\",\"User-031\",\"User-008\",\"User-032\",\"User-017\",\"User-018\",\"User-004\",\"User-024\",\"User-047\",\"User-033\",\"User-009\",\"User-048\",\"User-034\",\"User-019\",\"User-035\",\"User-005\",\"User-049\",\"User-001\",\"User-050\",\"User-026\",\"User-052\",\"User-020\",\"User-053\",\"User-054\",\"User-038\",\"User-014\",\"User-002\",\"User-015\",\"User-056\",\"User-022\",\"User-039\",\"User-028\",\"User-058\",\"User-011\",\"User-041\",\"User-003\",\"User-060\",\"User-044\",\"User-045\",\"User-023\",\"User-030\",\"User-031\",\"User-008\",\"User-032\",\"User-004\",\"User-024\",\"User-047\",\"User-017\",\"User-018\",\"User-033\",\"User-009\",\"User-048\",\"User-005\",\"User-049\",\"User-034\",\"User-019\",\"User-035\",\"User-001\",\"User-050\",\"User-026\",\"User-052\",\"User-053\",\"User-054\",\"User-020\",\"User-038\",\"User-014\",\"User-002\",\"User-015\",\"User-056\",\"User-022\",\"User-028\",\"User-058\",\"User-039\",\"User-011\",\"User-041\",\"User-003\",\"User-060\",\"User-044\",\"User-045\",\"User-030\",\"User-023\",\"User-031\",\"User-008\",\"User-032\",\"User-004\",\"User-017\",\"User-024\",\"User-047\",\"User-018\",\"User-033\",\"User-009\",\"User-034\",\"User-019\",\"User-035\",\"User-001\",\"User-048\",\"User-005\",\"User-049\",\"User-050\",\"User-026\",\"User-052\",\"User-053\",\"User-020\",\"User-038\",\"User-054\",\"User-002\",\"User-014\",\"User-015\",\"User-022\",\"User-056\",\"User-028\",\"User-058\",\"User-039\",\"User-011\",\"User-041\",\"User-003\",\"User-060\",\"User-044\",\"User-045\",\"User-023\",\"User-030\",\"User-004\",\"User-024\",\"User-047\",\"User-031\",\"User-008\",\"User-032\",\"User-017\",\"User-018\",\"User-033\",\"User-009\",\"User-034\",\"User-048\",\"User-005\",\"User-049\",\"User-050\",\"User-026\",\"User-052\",\"User-053\",\"User-019\",\"User-035\",\"User-001\",\"User-020\",\"User-038\",\"User-054\",\"User-014\",\"User-015\",\"User-002\",\"User-022\",\"User-056\",\"User-028\",\"User-058\",\"User-039\",\"User-011\",\"User-060\",\"User-041\",\"User-003\",\"User-044\",\"User-045\",\"User-030\",\"User-023\",\"User-031\",\"User-008\",\"User-004\",\"User-024\",\"User-047\",\"User-032\",\"User-017\",\"User-018\",\"User-033\",\"User-009\",\"User-034\",\"User-048\",\"User-005\",\"User-049\",\"User-050\",\"User-019\",\"User-026\",\"User-052\",\"User-053\",\"User-035\",\"User-001\",\"User-020\",\"User-038\",\"User-054\",\"User-002\",\"User-022\",\"User-014\",\"User-015\",\"User-056\",\"User-028\"],\"yaxis\":\"y\"},{\"alignmentgroup\":\"True\",\"base\":[\"2021-09-12T12:37:58.604829\",\"2021-09-12T12:38:58.604829\",\"2021-09-12T12:41:58.604829\",\"2021-09-12T12:43:58.604829\",\"2021-09-12T12:44:58.604829\",\"2021-09-12T12:45:58.604829\",\"2021-09-12T12:47:58.604829\",\"2021-09-12T12:48:58.604829\",\"2021-09-12T12:50:58.604829\",\"2021-09-12T12:51:58.604829\",\"2021-09-12T12:52:58.604829\",\"2021-09-12T12:55:58.604829\",\"2021-09-12T12:56:58.604829\",\"2021-09-12T12:57:58.604829\",\"2021-09-12T12:59:58.604829\",\"2021-09-12T12:59:58.604829\",\"2021-09-12T13:00:58.604829\",\"2021-09-12T13:00:58.604829\",\"2021-09-12T13:01:58.604829\",\"2021-09-12T13:04:58.604829\",\"2021-09-12T13:06:58.604829\",\"2021-09-12T13:07:58.604829\",\"2021-09-12T13:08:58.604829\",\"2021-09-12T13:09:58.604829\",\"2021-09-12T13:11:58.604829\",\"2021-09-12T13:13:58.604829\",\"2021-09-12T13:14:58.604829\",\"2021-09-12T13:14:58.604829\",\"2021-09-12T13:16:58.604829\",\"2021-09-12T13:17:58.604829\",\"2021-09-12T13:18:58.604829\",\"2021-09-12T13:19:58.604829\",\"2021-09-12T13:21:58.604829\",\"2021-09-12T13:22:58.604829\",\"2021-09-12T13:22:58.604829\",\"2021-09-12T13:24:58.604829\",\"2021-09-12T13:26:58.604829\",\"2021-09-12T13:26:58.604829\",\"2021-09-12T13:27:58.604829\",\"2021-09-12T13:30:58.604829\",\"2021-09-12T13:31:58.604829\",\"2021-09-12T13:32:58.604829\",\"2021-09-12T13:32:58.604829\",\"2021-09-12T13:32:58.604829\",\"2021-09-12T13:42:58.604829\",\"2021-09-12T13:42:58.604829\",\"2021-09-12T13:45:58.604829\",\"2021-09-12T13:47:58.604829\",\"2021-09-12T13:48:58.604829\",\"2021-09-12T13:48:58.604829\",\"2021-09-12T13:49:58.604829\",\"2021-09-12T13:50:58.604829\",\"2021-09-12T13:52:58.604829\",\"2021-09-12T13:52:58.604829\",\"2021-09-12T13:55:58.604829\",\"2021-09-12T14:02:58.604829\",\"2021-09-12T14:04:58.604829\",\"2021-09-12T14:05:58.604829\",\"2021-09-12T14:07:58.604829\",\"2021-09-12T14:07:58.604829\",\"2021-09-12T14:16:58.604829\",\"2021-09-12T14:16:58.604829\",\"2021-09-12T14:21:58.604829\",\"2021-09-12T14:21:58.604829\",\"2021-09-12T14:23:58.604829\",\"2021-09-12T14:24:58.604829\",\"2021-09-12T14:24:58.604829\",\"2021-09-12T14:25:58.604829\",\"2021-09-12T14:26:58.604829\",\"2021-09-12T14:26:58.604829\",\"2021-09-12T14:28:58.604829\",\"2021-09-12T14:33:58.604829\",\"2021-09-12T14:37:58.604829\",\"2021-09-12T14:37:58.604829\",\"2021-09-12T14:38:58.604829\",\"2021-09-12T14:39:58.604829\",\"2021-09-12T14:53:58.604829\",\"2021-09-12T14:53:58.604829\",\"2021-09-12T14:58:58.604829\",\"2021-09-12T14:58:58.604829\",\"2021-09-12T14:58:58.604829\",\"2021-09-12T14:59:58.604829\",\"2021-09-12T14:59:58.604829\",\"2021-09-12T15:00:58.604829\",\"2021-09-12T15:01:58.604829\",\"2021-09-12T15:01:58.604829\",\"2021-09-12T15:03:58.604829\",\"2021-09-12T15:06:58.604829\",\"2021-09-12T15:07:58.604829\",\"2021-09-12T15:08:58.604829\",\"2021-09-12T15:09:58.604829\",\"2021-09-12T15:11:58.604829\",\"2021-09-12T15:26:58.604829\",\"2021-09-12T15:26:58.604829\"],\"hovertemplate\":\"Scenario=Sc1<br>Start=%{base}<br>Finish=%{x}<br>Username=%{y}<extra></extra>\",\"legendgroup\":\"Sc1\",\"marker\":{\"color\":\"#EF553B\"},\"name\":\"Sc1\",\"offsetgroup\":\"Sc1\",\"orientation\":\"h\",\"showlegend\":true,\"textposition\":\"auto\",\"type\":\"bar\",\"x\":[300000.0,300000.0,300000.0,300000.0,300000.0,480000.0,480000.0,540000.0,420000.0,420000.0,420000.0,420000.0,480000.0,600000.0,780000.0,780000.0,840000.0,960000.0,960000.0,900000.0,840000.0,900000.0,960000.0,960000.0,1080000.0,1020000.0,960000.0,960000.0,1440000.0,1380000.0,1500000.0,1560000.0,1500000.0,1440000.0,1500000.0,1440000.0,1440000.0,1440000.0,1560000.0,1800000.0,1860000.0,1860000.0,1980000.0,1980000.0,1920000.0,1920000.0,2040000.0,1920000.0,1980000.0,2040000.0,1980000.0,1980000.0,1920000.0,1920000.0,1860000.0,1740000.0,1860000.0,1800000.0,1740000.0,1800000.0,2100000.0,2100000.0,2100000.0,2100000.0,1980000.0,1980000.0,1980000.0,1980000.0,1980000.0,1980000.0,1980000.0,1860000.0,1680000.0,1740000.0,1740000.0,1800000.0,1860000.0,1860000.0,1920000.0,1920000.0,1920000.0,1920000.0,1920000.0,null,null,null,null,null,null,null,null,null,null,null],\"xaxis\":\"x\",\"y\":[\"User-006\",\"User-007\",\"User-010\",\"User-012\",\"User-006\",\"User-007\",\"User-016\",\"User-010\",\"User-012\",\"User-006\",\"User-021\",\"User-007\",\"User-025\",\"User-016\",\"User-010\",\"User-012\",\"User-006\",\"User-029\",\"User-021\",\"User-007\",\"User-025\",\"User-036\",\"User-037\",\"User-016\",\"User-040\",\"User-042\",\"User-010\",\"User-012\",\"User-006\",\"User-046\",\"User-029\",\"User-021\",\"User-007\",\"User-025\",\"User-051\",\"User-036\",\"User-037\",\"User-055\",\"User-016\",\"User-059\",\"User-040\",\"User-042\",\"User-010\",\"User-012\",\"User-006\",\"User-046\",\"User-029\",\"User-021\",\"User-007\",\"User-025\",\"User-051\",\"User-036\",\"User-037\",\"User-055\",\"User-016\",\"User-059\",\"User-040\",\"User-042\",\"User-010\",\"User-012\",\"User-006\",\"User-046\",\"User-029\",\"User-021\",\"User-007\",\"User-025\",\"User-051\",\"User-036\",\"User-037\",\"User-055\",\"User-016\",\"User-059\",\"User-040\",\"User-042\",\"User-010\",\"User-012\",\"User-006\",\"User-046\",\"User-029\",\"User-021\",\"User-007\",\"User-025\",\"User-051\",\"User-036\",\"User-037\",\"User-055\",\"User-016\",\"User-059\",\"User-040\",\"User-042\",\"User-010\",\"User-012\",\"User-006\",\"User-046\"],\"yaxis\":\"y\"},{\"alignmentgroup\":\"True\",\"base\":[\"2021-09-12T12:44:58.604829\",\"2021-09-12T12:54:58.604829\",\"2021-09-12T12:58:58.604829\",\"2021-09-12T13:07:58.604829\",\"2021-09-12T13:14:58.604829\",\"2021-09-12T13:15:58.604829\",\"2021-09-12T13:27:58.604829\",\"2021-09-12T13:28:58.604829\",\"2021-09-12T13:37:58.604829\",\"2021-09-12T13:40:58.604829\",\"2021-09-12T13:57:58.604829\",\"2021-09-12T14:03:58.604829\",\"2021-09-12T14:11:58.604829\",\"2021-09-12T14:16:58.604829\",\"2021-09-12T14:32:58.604829\",\"2021-09-12T14:40:58.604829\",\"2021-09-12T14:48:58.604829\",\"2021-09-12T14:51:58.604829\",\"2021-09-12T15:09:58.604829\",\"2021-09-12T15:17:58.604829\",\"2021-09-12T15:21:58.604829\",\"2021-09-12T15:27:58.604829\"],\"hovertemplate\":\"Scenario=Sc3<br>Start=%{base}<br>Finish=%{x}<br>Username=%{y}<extra></extra>\",\"legendgroup\":\"Sc3\",\"marker\":{\"color\":\"#00cc96\"},\"name\":\"Sc3\",\"offsetgroup\":\"Sc3\",\"orientation\":\"h\",\"showlegend\":true,\"textposition\":\"auto\",\"type\":\"bar\",\"x\":[480000.0,660000.0,900000.0,1080000.0,1260000.0,1380000.0,1680000.0,1980000.0,1920000.0,2040000.0,1980000.0,2100000.0,2100000.0,1980000.0,2100000.0,2100000.0,1860000.0,2040000.0,null,null,null,null],\"xaxis\":\"x\",\"y\":[\"User-013\",\"User-013\",\"User-027\",\"User-013\",\"User-043\",\"User-027\",\"User-013\",\"User-057\",\"User-043\",\"User-027\",\"User-013\",\"User-057\",\"User-043\",\"User-027\",\"User-013\",\"User-057\",\"User-043\",\"User-027\",\"User-013\",\"User-057\",\"User-043\",\"User-027\"],\"yaxis\":\"y\"}],                        {\"barmode\":\"overlay\",\"legend\":{\"title\":{\"text\":\"Scenario\"},\"tracegroupgap\":0},\"margin\":{\"t\":60},\"template\":{\"data\":{\"bar\":[{\"error_x\":{\"color\":\"#2a3f5f\"},\"error_y\":{\"color\":\"#2a3f5f\"},\"marker\":{\"line\":{\"color\":\"#E5ECF6\",\"width\":0.5},\"pattern\":{\"fillmode\":\"overlay\",\"size\":10,\"solidity\":0.2}},\"type\":\"bar\"}],\"barpolar\":[{\"marker\":{\"line\":{\"color\":\"#E5ECF6\",\"width\":0.5},\"pattern\":{\"fillmode\":\"overlay\",\"size\":10,\"solidity\":0.2}},\"type\":\"barpolar\"}],\"carpet\":[{\"aaxis\":{\"endlinecolor\":\"#2a3f5f\",\"gridcolor\":\"white\",\"linecolor\":\"white\",\"minorgridcolor\":\"white\",\"startlinecolor\":\"#2a3f5f\"},\"baxis\":{\"endlinecolor\":\"#2a3f5f\",\"gridcolor\":\"white\",\"linecolor\":\"white\",\"minorgridcolor\":\"white\",\"startlinecolor\":\"#2a3f5f\"},\"type\":\"carpet\"}],\"choropleth\":[{\"colorbar\":{\"outlinewidth\":0,\"ticks\":\"\"},\"type\":\"choropleth\"}],\"contour\":[{\"colorbar\":{\"outlinewidth\":0,\"ticks\":\"\"},\"colorscale\":[[0.0,\"#0d0887\"],[0.1111111111111111,\"#46039f\"],[0.2222222222222222,\"#7201a8\"],[0.3333333333333333,\"#9c179e\"],[0.4444444444444444,\"#bd3786\"],[0.5555555555555556,\"#d8576b\"],[0.6666666666666666,\"#ed7953\"],[0.7777777777777778,\"#fb9f3a\"],[0.8888888888888888,\"#fdca26\"],[1.0,\"#f0f921\"]],\"type\":\"contour\"}],\"contourcarpet\":[{\"colorbar\":{\"outlinewidth\":0,\"ticks\":\"\"},\"type\":\"contourcarpet\"}],\"heatmap\":[{\"colorbar\":{\"outlinewidth\":0,\"ticks\":\"\"},\"colorscale\":[[0.0,\"#0d0887\"],[0.1111111111111111,\"#46039f\"],[0.2222222222222222,\"#7201a8\"],[0.3333333333333333,\"#9c179e\"],[0.4444444444444444,\"#bd3786\"],[0.5555555555555556,\"#d8576b\"],[0.6666666666666666,\"#ed7953\"],[0.7777777777777778,\"#fb9f3a\"],[0.8888888888888888,\"#fdca26\"],[1.0,\"#f0f921\"]],\"type\":\"heatmap\"}],\"heatmapgl\":[{\"colorbar\":{\"outlinewidth\":0,\"ticks\":\"\"},\"colorscale\":[[0.0,\"#0d0887\"],[0.1111111111111111,\"#46039f\"],[0.2222222222222222,\"#7201a8\"],[0.3333333333333333,\"#9c179e\"],[0.4444444444444444,\"#bd3786\"],[0.5555555555555556,\"#d8576b\"],[0.6666666666666666,\"#ed7953\"],[0.7777777777777778,\"#fb9f3a\"],[0.8888888888888888,\"#fdca26\"],[1.0,\"#f0f921\"]],\"type\":\"heatmapgl\"}],\"histogram\":[{\"marker\":{\"pattern\":{\"fillmode\":\"overlay\",\"size\":10,\"solidity\":0.2}},\"type\":\"histogram\"}],\"histogram2d\":[{\"colorbar\":{\"outlinewidth\":0,\"ticks\":\"\"},\"colorscale\":[[0.0,\"#0d0887\"],[0.1111111111111111,\"#46039f\"],[0.2222222222222222,\"#7201a8\"],[0.3333333333333333,\"#9c179e\"],[0.4444444444444444,\"#bd3786\"],[0.5555555555555556,\"#d8576b\"],[0.6666666666666666,\"#ed7953\"],[0.7777777777777778,\"#fb9f3a\"],[0.8888888888888888,\"#fdca26\"],[1.0,\"#f0f921\"]],\"type\":\"histogram2d\"}],\"histogram2dcontour\":[{\"colorbar\":{\"outlinewidth\":0,\"ticks\":\"\"},\"colorscale\":[[0.0,\"#0d0887\"],[0.1111111111111111,\"#46039f\"],[0.2222222222222222,\"#7201a8\"],[0.3333333333333333,\"#9c179e\"],[0.4444444444444444,\"#bd3786\"],[0.5555555555555556,\"#d8576b\"],[0.6666666666666666,\"#ed7953\"],[0.7777777777777778,\"#fb9f3a\"],[0.8888888888888888,\"#fdca26\"],[1.0,\"#f0f921\"]],\"type\":\"histogram2dcontour\"}],\"mesh3d\":[{\"colorbar\":{\"outlinewidth\":0,\"ticks\":\"\"},\"type\":\"mesh3d\"}],\"parcoords\":[{\"line\":{\"colorbar\":{\"outlinewidth\":0,\"ticks\":\"\"}},\"type\":\"parcoords\"}],\"pie\":[{\"automargin\":true,\"type\":\"pie\"}],\"scatter\":[{\"marker\":{\"colorbar\":{\"outlinewidth\":0,\"ticks\":\"\"}},\"type\":\"scatter\"}],\"scatter3d\":[{\"line\":{\"colorbar\":{\"outlinewidth\":0,\"ticks\":\"\"}},\"marker\":{\"colorbar\":{\"outlinewidth\":0,\"ticks\":\"\"}},\"type\":\"scatter3d\"}],\"scattercarpet\":[{\"marker\":{\"colorbar\":{\"outlinewidth\":0,\"ticks\":\"\"}},\"type\":\"scattercarpet\"}],\"scattergeo\":[{\"marker\":{\"colorbar\":{\"outlinewidth\":0,\"ticks\":\"\"}},\"type\":\"scattergeo\"}],\"scattergl\":[{\"marker\":{\"colorbar\":{\"outlinewidth\":0,\"ticks\":\"\"}},\"type\":\"scattergl\"}],\"scattermapbox\":[{\"marker\":{\"colorbar\":{\"outlinewidth\":0,\"ticks\":\"\"}},\"type\":\"scattermapbox\"}],\"scatterpolar\":[{\"marker\":{\"colorbar\":{\"outlinewidth\":0,\"ticks\":\"\"}},\"type\":\"scatterpolar\"}],\"scatterpolargl\":[{\"marker\":{\"colorbar\":{\"outlinewidth\":0,\"ticks\":\"\"}},\"type\":\"scatterpolargl\"}],\"scatterternary\":[{\"marker\":{\"colorbar\":{\"outlinewidth\":0,\"ticks\":\"\"}},\"type\":\"scatterternary\"}],\"surface\":[{\"colorbar\":{\"outlinewidth\":0,\"ticks\":\"\"},\"colorscale\":[[0.0,\"#0d0887\"],[0.1111111111111111,\"#46039f\"],[0.2222222222222222,\"#7201a8\"],[0.3333333333333333,\"#9c179e\"],[0.4444444444444444,\"#bd3786\"],[0.5555555555555556,\"#d8576b\"],[0.6666666666666666,\"#ed7953\"],[0.7777777777777778,\"#fb9f3a\"],[0.8888888888888888,\"#fdca26\"],[1.0,\"#f0f921\"]],\"type\":\"surface\"}],\"table\":[{\"cells\":{\"fill\":{\"color\":\"#EBF0F8\"},\"line\":{\"color\":\"white\"}},\"header\":{\"fill\":{\"color\":\"#C8D4E3\"},\"line\":{\"color\":\"white\"}},\"type\":\"table\"}]},\"layout\":{\"annotationdefaults\":{\"arrowcolor\":\"#2a3f5f\",\"arrowhead\":0,\"arrowwidth\":1},\"autotypenumbers\":\"strict\",\"coloraxis\":{\"colorbar\":{\"outlinewidth\":0,\"ticks\":\"\"}},\"colorscale\":{\"diverging\":[[0,\"#8e0152\"],[0.1,\"#c51b7d\"],[0.2,\"#de77ae\"],[0.3,\"#f1b6da\"],[0.4,\"#fde0ef\"],[0.5,\"#f7f7f7\"],[0.6,\"#e6f5d0\"],[0.7,\"#b8e186\"],[0.8,\"#7fbc41\"],[0.9,\"#4d9221\"],[1,\"#276419\"]],\"sequential\":[[0.0,\"#0d0887\"],[0.1111111111111111,\"#46039f\"],[0.2222222222222222,\"#7201a8\"],[0.3333333333333333,\"#9c179e\"],[0.4444444444444444,\"#bd3786\"],[0.5555555555555556,\"#d8576b\"],[0.6666666666666666,\"#ed7953\"],[0.7777777777777778,\"#fb9f3a\"],[0.8888888888888888,\"#fdca26\"],[1.0,\"#f0f921\"]],\"sequentialminus\":[[0.0,\"#0d0887\"],[0.1111111111111111,\"#46039f\"],[0.2222222222222222,\"#7201a8\"],[0.3333333333333333,\"#9c179e\"],[0.4444444444444444,\"#bd3786\"],[0.5555555555555556,\"#d8576b\"],[0.6666666666666666,\"#ed7953\"],[0.7777777777777778,\"#fb9f3a\"],[0.8888888888888888,\"#fdca26\"],[1.0,\"#f0f921\"]]},\"colorway\":[\"#636efa\",\"#EF553B\",\"#00cc96\",\"#ab63fa\",\"#FFA15A\",\"#19d3f3\",\"#FF6692\",\"#B6E880\",\"#FF97FF\",\"#FECB52\"],\"font\":{\"color\":\"#2a3f5f\"},\"geo\":{\"bgcolor\":\"white\",\"lakecolor\":\"white\",\"landcolor\":\"#E5ECF6\",\"showlakes\":true,\"showland\":true,\"subunitcolor\":\"white\"},\"hoverlabel\":{\"align\":\"left\"},\"hovermode\":\"closest\",\"mapbox\":{\"style\":\"light\"},\"paper_bgcolor\":\"white\",\"plot_bgcolor\":\"#E5ECF6\",\"polar\":{\"angularaxis\":{\"gridcolor\":\"white\",\"linecolor\":\"white\",\"ticks\":\"\"},\"bgcolor\":\"#E5ECF6\",\"radialaxis\":{\"gridcolor\":\"white\",\"linecolor\":\"white\",\"ticks\":\"\"}},\"scene\":{\"xaxis\":{\"backgroundcolor\":\"#E5ECF6\",\"gridcolor\":\"white\",\"gridwidth\":2,\"linecolor\":\"white\",\"showbackground\":true,\"ticks\":\"\",\"zerolinecolor\":\"white\"},\"yaxis\":{\"backgroundcolor\":\"#E5ECF6\",\"gridcolor\":\"white\",\"gridwidth\":2,\"linecolor\":\"white\",\"showbackground\":true,\"ticks\":\"\",\"zerolinecolor\":\"white\"},\"zaxis\":{\"backgroundcolor\":\"#E5ECF6\",\"gridcolor\":\"white\",\"gridwidth\":2,\"linecolor\":\"white\",\"showbackground\":true,\"ticks\":\"\",\"zerolinecolor\":\"white\"}},\"shapedefaults\":{\"line\":{\"color\":\"#2a3f5f\"}},\"ternary\":{\"aaxis\":{\"gridcolor\":\"white\",\"linecolor\":\"white\",\"ticks\":\"\"},\"baxis\":{\"gridcolor\":\"white\",\"linecolor\":\"white\",\"ticks\":\"\"},\"bgcolor\":\"#E5ECF6\",\"caxis\":{\"gridcolor\":\"white\",\"linecolor\":\"white\",\"ticks\":\"\"}},\"title\":{\"x\":0.05},\"xaxis\":{\"automargin\":true,\"gridcolor\":\"white\",\"linecolor\":\"white\",\"ticks\":\"\",\"title\":{\"standoff\":15},\"zerolinecolor\":\"white\",\"zerolinewidth\":2},\"yaxis\":{\"automargin\":true,\"gridcolor\":\"white\",\"linecolor\":\"white\",\"ticks\":\"\",\"title\":{\"standoff\":15},\"zerolinecolor\":\"white\",\"zerolinewidth\":2}}},\"xaxis\":{\"anchor\":\"y\",\"domain\":[0.0,1.0],\"type\":\"date\"},\"yaxis\":{\"anchor\":\"x\",\"categoryorder\":\"category descending\",\"domain\":[0.0,1.0],\"title\":{\"text\":\"Username\"}}},                        {\"responsive\": true}                    ).then(function(){\n",
       "                            \n",
       "var gd = document.getElementById('e880db52-5844-4ba3-8f3a-62e68b0eb414');\n",
       "var x = new MutationObserver(function (mutations, observer) {{\n",
       "        var display = window.getComputedStyle(gd).display;\n",
       "        if (!display || display === 'none') {{\n",
       "            console.log([gd, 'removed!']);\n",
       "            Plotly.purge(gd);\n",
       "            observer.disconnect();\n",
       "        }}\n",
       "}});\n",
       "\n",
       "// Listen for the removal of the full notebook cells\n",
       "var notebookContainer = gd.closest('#notebook-container');\n",
       "if (notebookContainer) {{\n",
       "    x.observe(notebookContainer, {childList: true});\n",
       "}}\n",
       "\n",
       "// Listen for the clearing of the current output cell\n",
       "var outputEl = gd.closest('.output');\n",
       "if (outputEl) {{\n",
       "    x.observe(outputEl, {childList: true});\n",
       "}}\n",
       "\n",
       "                        })                };                });            </script>        </div>"
      ]
     },
     "metadata": {},
     "output_type": "display_data"
    }
   ],
   "source": [
    "#new\n",
    "#fig = px.timeline(df_users, x_start=\"Start\", x_end=\"Finish\", y=\"Username\")\n",
    "fig = px.timeline(df_users, x_start=\"Start\", x_end=\"Finish\", y=\"Username\", color=\"Scenario\")\n",
    "#fig.update_yaxes(autorange=\"reversed\") # otherwise tasks are listed from the bottom up\n",
    "fig.update_yaxes(categoryorder='category descending')\n",
    "fig.show()"
   ]
  },
  {
   "cell_type": "markdown",
   "metadata": {},
   "source": [
    "## Users activity distribution"
   ]
  },
  {
   "cell_type": "code",
   "execution_count": 404,
   "metadata": {},
   "outputs": [
    {
     "data": {
      "text/html": [
       "<div>\n",
       "<style scoped>\n",
       "    .dataframe tbody tr th:only-of-type {\n",
       "        vertical-align: middle;\n",
       "    }\n",
       "\n",
       "    .dataframe tbody tr th {\n",
       "        vertical-align: top;\n",
       "    }\n",
       "\n",
       "    .dataframe thead th {\n",
       "        text-align: right;\n",
       "    }\n",
       "</style>\n",
       "<table border=\"1\" class=\"dataframe\">\n",
       "  <thead>\n",
       "    <tr style=\"text-align: right;\">\n",
       "      <th></th>\n",
       "      <th>Duration</th>\n",
       "    </tr>\n",
       "  </thead>\n",
       "  <tbody>\n",
       "    <tr>\n",
       "      <th>count</th>\n",
       "      <td>346.000000</td>\n",
       "    </tr>\n",
       "    <tr>\n",
       "      <th>mean</th>\n",
       "      <td>22.127168</td>\n",
       "    </tr>\n",
       "    <tr>\n",
       "      <th>std</th>\n",
       "      <td>10.633881</td>\n",
       "    </tr>\n",
       "    <tr>\n",
       "      <th>min</th>\n",
       "      <td>2.000000</td>\n",
       "    </tr>\n",
       "    <tr>\n",
       "      <th>25%</th>\n",
       "      <td>13.000000</td>\n",
       "    </tr>\n",
       "    <tr>\n",
       "      <th>50%</th>\n",
       "      <td>26.000000</td>\n",
       "    </tr>\n",
       "    <tr>\n",
       "      <th>75%</th>\n",
       "      <td>31.000000</td>\n",
       "    </tr>\n",
       "    <tr>\n",
       "      <th>max</th>\n",
       "      <td>35.000000</td>\n",
       "    </tr>\n",
       "  </tbody>\n",
       "</table>\n",
       "</div>"
      ],
      "text/plain": [
       "         Duration\n",
       "count  346.000000\n",
       "mean    22.127168\n",
       "std     10.633881\n",
       "min      2.000000\n",
       "25%     13.000000\n",
       "50%     26.000000\n",
       "75%     31.000000\n",
       "max     35.000000"
      ]
     },
     "execution_count": 404,
     "metadata": {},
     "output_type": "execute_result"
    }
   ],
   "source": [
    "df_users[[\"Duration\"]].describe()"
   ]
  },
  {
   "cell_type": "code",
   "execution_count": 405,
   "metadata": {},
   "outputs": [
    {
     "data": {
      "application/vnd.plotly.v1+json": {
       "config": {
        "plotlyServerURL": "https://plot.ly"
       },
       "data": [
        {
         "alignmentgroup": "True",
         "bingroup": "x",
         "hovertemplate": "Duration=%{x}<br>count=%{y}<extra></extra>",
         "legendgroup": "",
         "marker": {
          "color": "#636efa",
          "pattern": {
           "shape": ""
          }
         },
         "name": "",
         "nbinsx": 20,
         "offsetgroup": "",
         "orientation": "v",
         "showlegend": false,
         "type": "histogram",
         "x": [
          2,
          2,
          2,
          2,
          2,
          3,
          5,
          3,
          5,
          3,
          2,
          3,
          2,
          3,
          2,
          5,
          2,
          2,
          2,
          5,
          3,
          2,
          5,
          8,
          4,
          5,
          4,
          8,
          5,
          6,
          4,
          6,
          6,
          8,
          6,
          6,
          9,
          6,
          5,
          5,
          7,
          4,
          5,
          4,
          7,
          4,
          7,
          5,
          5,
          4,
          3,
          4,
          4,
          11,
          5,
          5,
          7,
          5,
          6,
          8,
          6,
          6,
          7,
          8,
          9,
          8,
          10,
          8,
          10,
          15,
          10,
          10,
          9,
          9,
          13,
          13,
          10,
          11,
          12,
          14,
          16,
          16,
          13,
          14,
          15,
          13,
          14,
          13,
          12,
          12,
          12,
          15,
          12,
          12,
          12,
          12,
          14,
          11,
          12,
          12,
          18,
          15,
          14,
          16,
          13,
          16,
          14,
          15,
          16,
          15,
          16,
          16,
          18,
          16,
          16,
          15,
          15,
          17,
          16,
          16,
          21,
          23,
          22,
          24,
          21,
          22,
          21,
          23,
          23,
          23,
          23,
          24,
          24,
          23,
          23,
          25,
          22,
          23,
          23,
          26,
          23,
          24,
          24,
          24,
          23,
          22,
          23,
          25,
          22,
          24,
          25,
          22,
          22,
          23,
          24,
          21,
          20,
          21,
          21,
          24,
          24,
          22,
          22,
          28,
          26,
          23,
          24,
          33,
          30,
          29,
          28,
          29,
          29,
          29,
          30,
          31,
          29,
          31,
          33,
          33,
          32,
          26,
          26,
          27,
          26,
          34,
          30,
          30,
          30,
          32,
          32,
          30,
          32,
          32,
          31,
          32,
          33,
          34,
          33,
          33,
          33,
          32,
          32,
          32,
          32,
          34,
          32,
          31,
          32,
          30,
          31,
          32,
          31,
          31,
          33,
          34,
          32,
          33,
          30,
          33,
          31,
          32,
          32,
          30,
          29,
          31,
          33,
          27,
          27,
          27,
          27,
          27,
          27,
          29,
          27,
          35,
          31,
          30,
          26,
          26,
          29,
          30,
          31,
          30,
          35,
          28,
          28,
          28,
          27,
          26,
          25,
          25,
          33,
          35,
          35,
          33,
          32,
          31,
          31,
          34,
          34,
          34,
          33,
          33,
          33,
          33,
          33,
          33,
          32,
          32,
          32,
          33,
          35,
          35,
          33,
          32,
          31,
          33,
          31,
          31,
          33,
          33,
          33,
          33,
          33,
          31,
          31,
          33,
          31,
          31,
          32,
          32,
          29,
          35,
          31,
          28,
          28,
          28,
          29,
          29,
          30,
          29,
          28,
          35,
          28,
          28,
          28,
          27,
          27,
          28,
          29,
          31,
          27,
          27,
          27,
          27,
          34,
          31,
          31,
          29,
          29,
          29,
          29,
          32,
          32,
          32,
          31,
          33,
          33,
          33,
          33,
          32,
          33,
          33,
          32,
          32,
          32,
          32,
          32,
          32,
          32,
          32,
          null,
          30,
          31,
          30,
          30,
          null,
          null,
          null,
          null,
          null,
          null,
          null,
          null,
          null,
          null,
          null,
          null,
          null,
          null,
          null,
          null,
          null,
          null,
          null,
          null,
          null,
          null,
          null,
          null,
          null,
          null,
          null,
          null,
          null,
          null,
          null,
          null,
          null,
          null,
          null,
          null,
          null,
          null,
          null,
          null,
          null,
          null,
          null,
          null,
          null,
          null,
          null,
          null,
          null,
          null,
          null
         ],
         "xaxis": "x",
         "yaxis": "y"
        }
       ],
       "layout": {
        "barmode": "relative",
        "legend": {
         "tracegroupgap": 0
        },
        "margin": {
         "t": 60
        },
        "template": {
         "data": {
          "bar": [
           {
            "error_x": {
             "color": "#2a3f5f"
            },
            "error_y": {
             "color": "#2a3f5f"
            },
            "marker": {
             "line": {
              "color": "#E5ECF6",
              "width": 0.5
             },
             "pattern": {
              "fillmode": "overlay",
              "size": 10,
              "solidity": 0.2
             }
            },
            "type": "bar"
           }
          ],
          "barpolar": [
           {
            "marker": {
             "line": {
              "color": "#E5ECF6",
              "width": 0.5
             },
             "pattern": {
              "fillmode": "overlay",
              "size": 10,
              "solidity": 0.2
             }
            },
            "type": "barpolar"
           }
          ],
          "carpet": [
           {
            "aaxis": {
             "endlinecolor": "#2a3f5f",
             "gridcolor": "white",
             "linecolor": "white",
             "minorgridcolor": "white",
             "startlinecolor": "#2a3f5f"
            },
            "baxis": {
             "endlinecolor": "#2a3f5f",
             "gridcolor": "white",
             "linecolor": "white",
             "minorgridcolor": "white",
             "startlinecolor": "#2a3f5f"
            },
            "type": "carpet"
           }
          ],
          "choropleth": [
           {
            "colorbar": {
             "outlinewidth": 0,
             "ticks": ""
            },
            "type": "choropleth"
           }
          ],
          "contour": [
           {
            "colorbar": {
             "outlinewidth": 0,
             "ticks": ""
            },
            "colorscale": [
             [
              0,
              "#0d0887"
             ],
             [
              0.1111111111111111,
              "#46039f"
             ],
             [
              0.2222222222222222,
              "#7201a8"
             ],
             [
              0.3333333333333333,
              "#9c179e"
             ],
             [
              0.4444444444444444,
              "#bd3786"
             ],
             [
              0.5555555555555556,
              "#d8576b"
             ],
             [
              0.6666666666666666,
              "#ed7953"
             ],
             [
              0.7777777777777778,
              "#fb9f3a"
             ],
             [
              0.8888888888888888,
              "#fdca26"
             ],
             [
              1,
              "#f0f921"
             ]
            ],
            "type": "contour"
           }
          ],
          "contourcarpet": [
           {
            "colorbar": {
             "outlinewidth": 0,
             "ticks": ""
            },
            "type": "contourcarpet"
           }
          ],
          "heatmap": [
           {
            "colorbar": {
             "outlinewidth": 0,
             "ticks": ""
            },
            "colorscale": [
             [
              0,
              "#0d0887"
             ],
             [
              0.1111111111111111,
              "#46039f"
             ],
             [
              0.2222222222222222,
              "#7201a8"
             ],
             [
              0.3333333333333333,
              "#9c179e"
             ],
             [
              0.4444444444444444,
              "#bd3786"
             ],
             [
              0.5555555555555556,
              "#d8576b"
             ],
             [
              0.6666666666666666,
              "#ed7953"
             ],
             [
              0.7777777777777778,
              "#fb9f3a"
             ],
             [
              0.8888888888888888,
              "#fdca26"
             ],
             [
              1,
              "#f0f921"
             ]
            ],
            "type": "heatmap"
           }
          ],
          "heatmapgl": [
           {
            "colorbar": {
             "outlinewidth": 0,
             "ticks": ""
            },
            "colorscale": [
             [
              0,
              "#0d0887"
             ],
             [
              0.1111111111111111,
              "#46039f"
             ],
             [
              0.2222222222222222,
              "#7201a8"
             ],
             [
              0.3333333333333333,
              "#9c179e"
             ],
             [
              0.4444444444444444,
              "#bd3786"
             ],
             [
              0.5555555555555556,
              "#d8576b"
             ],
             [
              0.6666666666666666,
              "#ed7953"
             ],
             [
              0.7777777777777778,
              "#fb9f3a"
             ],
             [
              0.8888888888888888,
              "#fdca26"
             ],
             [
              1,
              "#f0f921"
             ]
            ],
            "type": "heatmapgl"
           }
          ],
          "histogram": [
           {
            "marker": {
             "pattern": {
              "fillmode": "overlay",
              "size": 10,
              "solidity": 0.2
             }
            },
            "type": "histogram"
           }
          ],
          "histogram2d": [
           {
            "colorbar": {
             "outlinewidth": 0,
             "ticks": ""
            },
            "colorscale": [
             [
              0,
              "#0d0887"
             ],
             [
              0.1111111111111111,
              "#46039f"
             ],
             [
              0.2222222222222222,
              "#7201a8"
             ],
             [
              0.3333333333333333,
              "#9c179e"
             ],
             [
              0.4444444444444444,
              "#bd3786"
             ],
             [
              0.5555555555555556,
              "#d8576b"
             ],
             [
              0.6666666666666666,
              "#ed7953"
             ],
             [
              0.7777777777777778,
              "#fb9f3a"
             ],
             [
              0.8888888888888888,
              "#fdca26"
             ],
             [
              1,
              "#f0f921"
             ]
            ],
            "type": "histogram2d"
           }
          ],
          "histogram2dcontour": [
           {
            "colorbar": {
             "outlinewidth": 0,
             "ticks": ""
            },
            "colorscale": [
             [
              0,
              "#0d0887"
             ],
             [
              0.1111111111111111,
              "#46039f"
             ],
             [
              0.2222222222222222,
              "#7201a8"
             ],
             [
              0.3333333333333333,
              "#9c179e"
             ],
             [
              0.4444444444444444,
              "#bd3786"
             ],
             [
              0.5555555555555556,
              "#d8576b"
             ],
             [
              0.6666666666666666,
              "#ed7953"
             ],
             [
              0.7777777777777778,
              "#fb9f3a"
             ],
             [
              0.8888888888888888,
              "#fdca26"
             ],
             [
              1,
              "#f0f921"
             ]
            ],
            "type": "histogram2dcontour"
           }
          ],
          "mesh3d": [
           {
            "colorbar": {
             "outlinewidth": 0,
             "ticks": ""
            },
            "type": "mesh3d"
           }
          ],
          "parcoords": [
           {
            "line": {
             "colorbar": {
              "outlinewidth": 0,
              "ticks": ""
             }
            },
            "type": "parcoords"
           }
          ],
          "pie": [
           {
            "automargin": true,
            "type": "pie"
           }
          ],
          "scatter": [
           {
            "marker": {
             "colorbar": {
              "outlinewidth": 0,
              "ticks": ""
             }
            },
            "type": "scatter"
           }
          ],
          "scatter3d": [
           {
            "line": {
             "colorbar": {
              "outlinewidth": 0,
              "ticks": ""
             }
            },
            "marker": {
             "colorbar": {
              "outlinewidth": 0,
              "ticks": ""
             }
            },
            "type": "scatter3d"
           }
          ],
          "scattercarpet": [
           {
            "marker": {
             "colorbar": {
              "outlinewidth": 0,
              "ticks": ""
             }
            },
            "type": "scattercarpet"
           }
          ],
          "scattergeo": [
           {
            "marker": {
             "colorbar": {
              "outlinewidth": 0,
              "ticks": ""
             }
            },
            "type": "scattergeo"
           }
          ],
          "scattergl": [
           {
            "marker": {
             "colorbar": {
              "outlinewidth": 0,
              "ticks": ""
             }
            },
            "type": "scattergl"
           }
          ],
          "scattermapbox": [
           {
            "marker": {
             "colorbar": {
              "outlinewidth": 0,
              "ticks": ""
             }
            },
            "type": "scattermapbox"
           }
          ],
          "scatterpolar": [
           {
            "marker": {
             "colorbar": {
              "outlinewidth": 0,
              "ticks": ""
             }
            },
            "type": "scatterpolar"
           }
          ],
          "scatterpolargl": [
           {
            "marker": {
             "colorbar": {
              "outlinewidth": 0,
              "ticks": ""
             }
            },
            "type": "scatterpolargl"
           }
          ],
          "scatterternary": [
           {
            "marker": {
             "colorbar": {
              "outlinewidth": 0,
              "ticks": ""
             }
            },
            "type": "scatterternary"
           }
          ],
          "surface": [
           {
            "colorbar": {
             "outlinewidth": 0,
             "ticks": ""
            },
            "colorscale": [
             [
              0,
              "#0d0887"
             ],
             [
              0.1111111111111111,
              "#46039f"
             ],
             [
              0.2222222222222222,
              "#7201a8"
             ],
             [
              0.3333333333333333,
              "#9c179e"
             ],
             [
              0.4444444444444444,
              "#bd3786"
             ],
             [
              0.5555555555555556,
              "#d8576b"
             ],
             [
              0.6666666666666666,
              "#ed7953"
             ],
             [
              0.7777777777777778,
              "#fb9f3a"
             ],
             [
              0.8888888888888888,
              "#fdca26"
             ],
             [
              1,
              "#f0f921"
             ]
            ],
            "type": "surface"
           }
          ],
          "table": [
           {
            "cells": {
             "fill": {
              "color": "#EBF0F8"
             },
             "line": {
              "color": "white"
             }
            },
            "header": {
             "fill": {
              "color": "#C8D4E3"
             },
             "line": {
              "color": "white"
             }
            },
            "type": "table"
           }
          ]
         },
         "layout": {
          "annotationdefaults": {
           "arrowcolor": "#2a3f5f",
           "arrowhead": 0,
           "arrowwidth": 1
          },
          "autotypenumbers": "strict",
          "coloraxis": {
           "colorbar": {
            "outlinewidth": 0,
            "ticks": ""
           }
          },
          "colorscale": {
           "diverging": [
            [
             0,
             "#8e0152"
            ],
            [
             0.1,
             "#c51b7d"
            ],
            [
             0.2,
             "#de77ae"
            ],
            [
             0.3,
             "#f1b6da"
            ],
            [
             0.4,
             "#fde0ef"
            ],
            [
             0.5,
             "#f7f7f7"
            ],
            [
             0.6,
             "#e6f5d0"
            ],
            [
             0.7,
             "#b8e186"
            ],
            [
             0.8,
             "#7fbc41"
            ],
            [
             0.9,
             "#4d9221"
            ],
            [
             1,
             "#276419"
            ]
           ],
           "sequential": [
            [
             0,
             "#0d0887"
            ],
            [
             0.1111111111111111,
             "#46039f"
            ],
            [
             0.2222222222222222,
             "#7201a8"
            ],
            [
             0.3333333333333333,
             "#9c179e"
            ],
            [
             0.4444444444444444,
             "#bd3786"
            ],
            [
             0.5555555555555556,
             "#d8576b"
            ],
            [
             0.6666666666666666,
             "#ed7953"
            ],
            [
             0.7777777777777778,
             "#fb9f3a"
            ],
            [
             0.8888888888888888,
             "#fdca26"
            ],
            [
             1,
             "#f0f921"
            ]
           ],
           "sequentialminus": [
            [
             0,
             "#0d0887"
            ],
            [
             0.1111111111111111,
             "#46039f"
            ],
            [
             0.2222222222222222,
             "#7201a8"
            ],
            [
             0.3333333333333333,
             "#9c179e"
            ],
            [
             0.4444444444444444,
             "#bd3786"
            ],
            [
             0.5555555555555556,
             "#d8576b"
            ],
            [
             0.6666666666666666,
             "#ed7953"
            ],
            [
             0.7777777777777778,
             "#fb9f3a"
            ],
            [
             0.8888888888888888,
             "#fdca26"
            ],
            [
             1,
             "#f0f921"
            ]
           ]
          },
          "colorway": [
           "#636efa",
           "#EF553B",
           "#00cc96",
           "#ab63fa",
           "#FFA15A",
           "#19d3f3",
           "#FF6692",
           "#B6E880",
           "#FF97FF",
           "#FECB52"
          ],
          "font": {
           "color": "#2a3f5f"
          },
          "geo": {
           "bgcolor": "white",
           "lakecolor": "white",
           "landcolor": "#E5ECF6",
           "showlakes": true,
           "showland": true,
           "subunitcolor": "white"
          },
          "hoverlabel": {
           "align": "left"
          },
          "hovermode": "closest",
          "mapbox": {
           "style": "light"
          },
          "paper_bgcolor": "white",
          "plot_bgcolor": "#E5ECF6",
          "polar": {
           "angularaxis": {
            "gridcolor": "white",
            "linecolor": "white",
            "ticks": ""
           },
           "bgcolor": "#E5ECF6",
           "radialaxis": {
            "gridcolor": "white",
            "linecolor": "white",
            "ticks": ""
           }
          },
          "scene": {
           "xaxis": {
            "backgroundcolor": "#E5ECF6",
            "gridcolor": "white",
            "gridwidth": 2,
            "linecolor": "white",
            "showbackground": true,
            "ticks": "",
            "zerolinecolor": "white"
           },
           "yaxis": {
            "backgroundcolor": "#E5ECF6",
            "gridcolor": "white",
            "gridwidth": 2,
            "linecolor": "white",
            "showbackground": true,
            "ticks": "",
            "zerolinecolor": "white"
           },
           "zaxis": {
            "backgroundcolor": "#E5ECF6",
            "gridcolor": "white",
            "gridwidth": 2,
            "linecolor": "white",
            "showbackground": true,
            "ticks": "",
            "zerolinecolor": "white"
           }
          },
          "shapedefaults": {
           "line": {
            "color": "#2a3f5f"
           }
          },
          "ternary": {
           "aaxis": {
            "gridcolor": "white",
            "linecolor": "white",
            "ticks": ""
           },
           "baxis": {
            "gridcolor": "white",
            "linecolor": "white",
            "ticks": ""
           },
           "bgcolor": "#E5ECF6",
           "caxis": {
            "gridcolor": "white",
            "linecolor": "white",
            "ticks": ""
           }
          },
          "title": {
           "x": 0.05
          },
          "xaxis": {
           "automargin": true,
           "gridcolor": "white",
           "linecolor": "white",
           "ticks": "",
           "title": {
            "standoff": 15
           },
           "zerolinecolor": "white",
           "zerolinewidth": 2
          },
          "yaxis": {
           "automargin": true,
           "gridcolor": "white",
           "linecolor": "white",
           "ticks": "",
           "title": {
            "standoff": 15
           },
           "zerolinecolor": "white",
           "zerolinewidth": 2
          }
         }
        },
        "xaxis": {
         "anchor": "y",
         "domain": [
          0,
          1
         ],
         "title": {
          "text": "Duration"
         }
        },
        "yaxis": {
         "anchor": "x",
         "domain": [
          0,
          1
         ],
         "title": {
          "text": "count"
         }
        }
       }
      },
      "text/html": [
       "<div>                            <div id=\"b781103e-e88e-4721-84f2-85fa5477f842\" class=\"plotly-graph-div\" style=\"height:525px; width:100%;\"></div>            <script type=\"text/javascript\">                require([\"plotly\"], function(Plotly) {                    window.PLOTLYENV=window.PLOTLYENV || {};                                    if (document.getElementById(\"b781103e-e88e-4721-84f2-85fa5477f842\")) {                    Plotly.newPlot(                        \"b781103e-e88e-4721-84f2-85fa5477f842\",                        [{\"alignmentgroup\":\"True\",\"bingroup\":\"x\",\"hovertemplate\":\"Duration=%{x}<br>count=%{y}<extra></extra>\",\"legendgroup\":\"\",\"marker\":{\"color\":\"#636efa\",\"pattern\":{\"shape\":\"\"}},\"name\":\"\",\"nbinsx\":20,\"offsetgroup\":\"\",\"orientation\":\"v\",\"showlegend\":false,\"type\":\"histogram\",\"x\":[2.0,2.0,2.0,2.0,2.0,3.0,5.0,3.0,5.0,3.0,2.0,3.0,2.0,3.0,2.0,5.0,2.0,2.0,2.0,5.0,3.0,2.0,5.0,8.0,4.0,5.0,4.0,8.0,5.0,6.0,4.0,6.0,6.0,8.0,6.0,6.0,9.0,6.0,5.0,5.0,7.0,4.0,5.0,4.0,7.0,4.0,7.0,5.0,5.0,4.0,3.0,4.0,4.0,11.0,5.0,5.0,7.0,5.0,6.0,8.0,6.0,6.0,7.0,8.0,9.0,8.0,10.0,8.0,10.0,15.0,10.0,10.0,9.0,9.0,13.0,13.0,10.0,11.0,12.0,14.0,16.0,16.0,13.0,14.0,15.0,13.0,14.0,13.0,12.0,12.0,12.0,15.0,12.0,12.0,12.0,12.0,14.0,11.0,12.0,12.0,18.0,15.0,14.0,16.0,13.0,16.0,14.0,15.0,16.0,15.0,16.0,16.0,18.0,16.0,16.0,15.0,15.0,17.0,16.0,16.0,21.0,23.0,22.0,24.0,21.0,22.0,21.0,23.0,23.0,23.0,23.0,24.0,24.0,23.0,23.0,25.0,22.0,23.0,23.0,26.0,23.0,24.0,24.0,24.0,23.0,22.0,23.0,25.0,22.0,24.0,25.0,22.0,22.0,23.0,24.0,21.0,20.0,21.0,21.0,24.0,24.0,22.0,22.0,28.0,26.0,23.0,24.0,33.0,30.0,29.0,28.0,29.0,29.0,29.0,30.0,31.0,29.0,31.0,33.0,33.0,32.0,26.0,26.0,27.0,26.0,34.0,30.0,30.0,30.0,32.0,32.0,30.0,32.0,32.0,31.0,32.0,33.0,34.0,33.0,33.0,33.0,32.0,32.0,32.0,32.0,34.0,32.0,31.0,32.0,30.0,31.0,32.0,31.0,31.0,33.0,34.0,32.0,33.0,30.0,33.0,31.0,32.0,32.0,30.0,29.0,31.0,33.0,27.0,27.0,27.0,27.0,27.0,27.0,29.0,27.0,35.0,31.0,30.0,26.0,26.0,29.0,30.0,31.0,30.0,35.0,28.0,28.0,28.0,27.0,26.0,25.0,25.0,33.0,35.0,35.0,33.0,32.0,31.0,31.0,34.0,34.0,34.0,33.0,33.0,33.0,33.0,33.0,33.0,32.0,32.0,32.0,33.0,35.0,35.0,33.0,32.0,31.0,33.0,31.0,31.0,33.0,33.0,33.0,33.0,33.0,31.0,31.0,33.0,31.0,31.0,32.0,32.0,29.0,35.0,31.0,28.0,28.0,28.0,29.0,29.0,30.0,29.0,28.0,35.0,28.0,28.0,28.0,27.0,27.0,28.0,29.0,31.0,27.0,27.0,27.0,27.0,34.0,31.0,31.0,29.0,29.0,29.0,29.0,32.0,32.0,32.0,31.0,33.0,33.0,33.0,33.0,32.0,33.0,33.0,32.0,32.0,32.0,32.0,32.0,32.0,32.0,32.0,null,30.0,31.0,30.0,30.0,null,null,null,null,null,null,null,null,null,null,null,null,null,null,null,null,null,null,null,null,null,null,null,null,null,null,null,null,null,null,null,null,null,null,null,null,null,null,null,null,null,null,null,null,null,null,null,null,null,null,null],\"xaxis\":\"x\",\"yaxis\":\"y\"}],                        {\"barmode\":\"relative\",\"legend\":{\"tracegroupgap\":0},\"margin\":{\"t\":60},\"template\":{\"data\":{\"bar\":[{\"error_x\":{\"color\":\"#2a3f5f\"},\"error_y\":{\"color\":\"#2a3f5f\"},\"marker\":{\"line\":{\"color\":\"#E5ECF6\",\"width\":0.5},\"pattern\":{\"fillmode\":\"overlay\",\"size\":10,\"solidity\":0.2}},\"type\":\"bar\"}],\"barpolar\":[{\"marker\":{\"line\":{\"color\":\"#E5ECF6\",\"width\":0.5},\"pattern\":{\"fillmode\":\"overlay\",\"size\":10,\"solidity\":0.2}},\"type\":\"barpolar\"}],\"carpet\":[{\"aaxis\":{\"endlinecolor\":\"#2a3f5f\",\"gridcolor\":\"white\",\"linecolor\":\"white\",\"minorgridcolor\":\"white\",\"startlinecolor\":\"#2a3f5f\"},\"baxis\":{\"endlinecolor\":\"#2a3f5f\",\"gridcolor\":\"white\",\"linecolor\":\"white\",\"minorgridcolor\":\"white\",\"startlinecolor\":\"#2a3f5f\"},\"type\":\"carpet\"}],\"choropleth\":[{\"colorbar\":{\"outlinewidth\":0,\"ticks\":\"\"},\"type\":\"choropleth\"}],\"contour\":[{\"colorbar\":{\"outlinewidth\":0,\"ticks\":\"\"},\"colorscale\":[[0.0,\"#0d0887\"],[0.1111111111111111,\"#46039f\"],[0.2222222222222222,\"#7201a8\"],[0.3333333333333333,\"#9c179e\"],[0.4444444444444444,\"#bd3786\"],[0.5555555555555556,\"#d8576b\"],[0.6666666666666666,\"#ed7953\"],[0.7777777777777778,\"#fb9f3a\"],[0.8888888888888888,\"#fdca26\"],[1.0,\"#f0f921\"]],\"type\":\"contour\"}],\"contourcarpet\":[{\"colorbar\":{\"outlinewidth\":0,\"ticks\":\"\"},\"type\":\"contourcarpet\"}],\"heatmap\":[{\"colorbar\":{\"outlinewidth\":0,\"ticks\":\"\"},\"colorscale\":[[0.0,\"#0d0887\"],[0.1111111111111111,\"#46039f\"],[0.2222222222222222,\"#7201a8\"],[0.3333333333333333,\"#9c179e\"],[0.4444444444444444,\"#bd3786\"],[0.5555555555555556,\"#d8576b\"],[0.6666666666666666,\"#ed7953\"],[0.7777777777777778,\"#fb9f3a\"],[0.8888888888888888,\"#fdca26\"],[1.0,\"#f0f921\"]],\"type\":\"heatmap\"}],\"heatmapgl\":[{\"colorbar\":{\"outlinewidth\":0,\"ticks\":\"\"},\"colorscale\":[[0.0,\"#0d0887\"],[0.1111111111111111,\"#46039f\"],[0.2222222222222222,\"#7201a8\"],[0.3333333333333333,\"#9c179e\"],[0.4444444444444444,\"#bd3786\"],[0.5555555555555556,\"#d8576b\"],[0.6666666666666666,\"#ed7953\"],[0.7777777777777778,\"#fb9f3a\"],[0.8888888888888888,\"#fdca26\"],[1.0,\"#f0f921\"]],\"type\":\"heatmapgl\"}],\"histogram\":[{\"marker\":{\"pattern\":{\"fillmode\":\"overlay\",\"size\":10,\"solidity\":0.2}},\"type\":\"histogram\"}],\"histogram2d\":[{\"colorbar\":{\"outlinewidth\":0,\"ticks\":\"\"},\"colorscale\":[[0.0,\"#0d0887\"],[0.1111111111111111,\"#46039f\"],[0.2222222222222222,\"#7201a8\"],[0.3333333333333333,\"#9c179e\"],[0.4444444444444444,\"#bd3786\"],[0.5555555555555556,\"#d8576b\"],[0.6666666666666666,\"#ed7953\"],[0.7777777777777778,\"#fb9f3a\"],[0.8888888888888888,\"#fdca26\"],[1.0,\"#f0f921\"]],\"type\":\"histogram2d\"}],\"histogram2dcontour\":[{\"colorbar\":{\"outlinewidth\":0,\"ticks\":\"\"},\"colorscale\":[[0.0,\"#0d0887\"],[0.1111111111111111,\"#46039f\"],[0.2222222222222222,\"#7201a8\"],[0.3333333333333333,\"#9c179e\"],[0.4444444444444444,\"#bd3786\"],[0.5555555555555556,\"#d8576b\"],[0.6666666666666666,\"#ed7953\"],[0.7777777777777778,\"#fb9f3a\"],[0.8888888888888888,\"#fdca26\"],[1.0,\"#f0f921\"]],\"type\":\"histogram2dcontour\"}],\"mesh3d\":[{\"colorbar\":{\"outlinewidth\":0,\"ticks\":\"\"},\"type\":\"mesh3d\"}],\"parcoords\":[{\"line\":{\"colorbar\":{\"outlinewidth\":0,\"ticks\":\"\"}},\"type\":\"parcoords\"}],\"pie\":[{\"automargin\":true,\"type\":\"pie\"}],\"scatter\":[{\"marker\":{\"colorbar\":{\"outlinewidth\":0,\"ticks\":\"\"}},\"type\":\"scatter\"}],\"scatter3d\":[{\"line\":{\"colorbar\":{\"outlinewidth\":0,\"ticks\":\"\"}},\"marker\":{\"colorbar\":{\"outlinewidth\":0,\"ticks\":\"\"}},\"type\":\"scatter3d\"}],\"scattercarpet\":[{\"marker\":{\"colorbar\":{\"outlinewidth\":0,\"ticks\":\"\"}},\"type\":\"scattercarpet\"}],\"scattergeo\":[{\"marker\":{\"colorbar\":{\"outlinewidth\":0,\"ticks\":\"\"}},\"type\":\"scattergeo\"}],\"scattergl\":[{\"marker\":{\"colorbar\":{\"outlinewidth\":0,\"ticks\":\"\"}},\"type\":\"scattergl\"}],\"scattermapbox\":[{\"marker\":{\"colorbar\":{\"outlinewidth\":0,\"ticks\":\"\"}},\"type\":\"scattermapbox\"}],\"scatterpolar\":[{\"marker\":{\"colorbar\":{\"outlinewidth\":0,\"ticks\":\"\"}},\"type\":\"scatterpolar\"}],\"scatterpolargl\":[{\"marker\":{\"colorbar\":{\"outlinewidth\":0,\"ticks\":\"\"}},\"type\":\"scatterpolargl\"}],\"scatterternary\":[{\"marker\":{\"colorbar\":{\"outlinewidth\":0,\"ticks\":\"\"}},\"type\":\"scatterternary\"}],\"surface\":[{\"colorbar\":{\"outlinewidth\":0,\"ticks\":\"\"},\"colorscale\":[[0.0,\"#0d0887\"],[0.1111111111111111,\"#46039f\"],[0.2222222222222222,\"#7201a8\"],[0.3333333333333333,\"#9c179e\"],[0.4444444444444444,\"#bd3786\"],[0.5555555555555556,\"#d8576b\"],[0.6666666666666666,\"#ed7953\"],[0.7777777777777778,\"#fb9f3a\"],[0.8888888888888888,\"#fdca26\"],[1.0,\"#f0f921\"]],\"type\":\"surface\"}],\"table\":[{\"cells\":{\"fill\":{\"color\":\"#EBF0F8\"},\"line\":{\"color\":\"white\"}},\"header\":{\"fill\":{\"color\":\"#C8D4E3\"},\"line\":{\"color\":\"white\"}},\"type\":\"table\"}]},\"layout\":{\"annotationdefaults\":{\"arrowcolor\":\"#2a3f5f\",\"arrowhead\":0,\"arrowwidth\":1},\"autotypenumbers\":\"strict\",\"coloraxis\":{\"colorbar\":{\"outlinewidth\":0,\"ticks\":\"\"}},\"colorscale\":{\"diverging\":[[0,\"#8e0152\"],[0.1,\"#c51b7d\"],[0.2,\"#de77ae\"],[0.3,\"#f1b6da\"],[0.4,\"#fde0ef\"],[0.5,\"#f7f7f7\"],[0.6,\"#e6f5d0\"],[0.7,\"#b8e186\"],[0.8,\"#7fbc41\"],[0.9,\"#4d9221\"],[1,\"#276419\"]],\"sequential\":[[0.0,\"#0d0887\"],[0.1111111111111111,\"#46039f\"],[0.2222222222222222,\"#7201a8\"],[0.3333333333333333,\"#9c179e\"],[0.4444444444444444,\"#bd3786\"],[0.5555555555555556,\"#d8576b\"],[0.6666666666666666,\"#ed7953\"],[0.7777777777777778,\"#fb9f3a\"],[0.8888888888888888,\"#fdca26\"],[1.0,\"#f0f921\"]],\"sequentialminus\":[[0.0,\"#0d0887\"],[0.1111111111111111,\"#46039f\"],[0.2222222222222222,\"#7201a8\"],[0.3333333333333333,\"#9c179e\"],[0.4444444444444444,\"#bd3786\"],[0.5555555555555556,\"#d8576b\"],[0.6666666666666666,\"#ed7953\"],[0.7777777777777778,\"#fb9f3a\"],[0.8888888888888888,\"#fdca26\"],[1.0,\"#f0f921\"]]},\"colorway\":[\"#636efa\",\"#EF553B\",\"#00cc96\",\"#ab63fa\",\"#FFA15A\",\"#19d3f3\",\"#FF6692\",\"#B6E880\",\"#FF97FF\",\"#FECB52\"],\"font\":{\"color\":\"#2a3f5f\"},\"geo\":{\"bgcolor\":\"white\",\"lakecolor\":\"white\",\"landcolor\":\"#E5ECF6\",\"showlakes\":true,\"showland\":true,\"subunitcolor\":\"white\"},\"hoverlabel\":{\"align\":\"left\"},\"hovermode\":\"closest\",\"mapbox\":{\"style\":\"light\"},\"paper_bgcolor\":\"white\",\"plot_bgcolor\":\"#E5ECF6\",\"polar\":{\"angularaxis\":{\"gridcolor\":\"white\",\"linecolor\":\"white\",\"ticks\":\"\"},\"bgcolor\":\"#E5ECF6\",\"radialaxis\":{\"gridcolor\":\"white\",\"linecolor\":\"white\",\"ticks\":\"\"}},\"scene\":{\"xaxis\":{\"backgroundcolor\":\"#E5ECF6\",\"gridcolor\":\"white\",\"gridwidth\":2,\"linecolor\":\"white\",\"showbackground\":true,\"ticks\":\"\",\"zerolinecolor\":\"white\"},\"yaxis\":{\"backgroundcolor\":\"#E5ECF6\",\"gridcolor\":\"white\",\"gridwidth\":2,\"linecolor\":\"white\",\"showbackground\":true,\"ticks\":\"\",\"zerolinecolor\":\"white\"},\"zaxis\":{\"backgroundcolor\":\"#E5ECF6\",\"gridcolor\":\"white\",\"gridwidth\":2,\"linecolor\":\"white\",\"showbackground\":true,\"ticks\":\"\",\"zerolinecolor\":\"white\"}},\"shapedefaults\":{\"line\":{\"color\":\"#2a3f5f\"}},\"ternary\":{\"aaxis\":{\"gridcolor\":\"white\",\"linecolor\":\"white\",\"ticks\":\"\"},\"baxis\":{\"gridcolor\":\"white\",\"linecolor\":\"white\",\"ticks\":\"\"},\"bgcolor\":\"#E5ECF6\",\"caxis\":{\"gridcolor\":\"white\",\"linecolor\":\"white\",\"ticks\":\"\"}},\"title\":{\"x\":0.05},\"xaxis\":{\"automargin\":true,\"gridcolor\":\"white\",\"linecolor\":\"white\",\"ticks\":\"\",\"title\":{\"standoff\":15},\"zerolinecolor\":\"white\",\"zerolinewidth\":2},\"yaxis\":{\"automargin\":true,\"gridcolor\":\"white\",\"linecolor\":\"white\",\"ticks\":\"\",\"title\":{\"standoff\":15},\"zerolinecolor\":\"white\",\"zerolinewidth\":2}}},\"xaxis\":{\"anchor\":\"y\",\"domain\":[0.0,1.0],\"title\":{\"text\":\"Duration\"}},\"yaxis\":{\"anchor\":\"x\",\"domain\":[0.0,1.0],\"title\":{\"text\":\"count\"}}},                        {\"responsive\": true}                    ).then(function(){\n",
       "                            \n",
       "var gd = document.getElementById('b781103e-e88e-4721-84f2-85fa5477f842');\n",
       "var x = new MutationObserver(function (mutations, observer) {{\n",
       "        var display = window.getComputedStyle(gd).display;\n",
       "        if (!display || display === 'none') {{\n",
       "            console.log([gd, 'removed!']);\n",
       "            Plotly.purge(gd);\n",
       "            observer.disconnect();\n",
       "        }}\n",
       "}});\n",
       "\n",
       "// Listen for the removal of the full notebook cells\n",
       "var notebookContainer = gd.closest('#notebook-container');\n",
       "if (notebookContainer) {{\n",
       "    x.observe(notebookContainer, {childList: true});\n",
       "}}\n",
       "\n",
       "// Listen for the clearing of the current output cell\n",
       "var outputEl = gd.closest('.output');\n",
       "if (outputEl) {{\n",
       "    x.observe(outputEl, {childList: true});\n",
       "}}\n",
       "\n",
       "                        })                };                });            </script>        </div>"
      ]
     },
     "metadata": {},
     "output_type": "display_data"
    }
   ],
   "source": [
    "mainLogger.debug(f\"max={max}\")\n",
    "fig = px.histogram(df_users, x=\"Duration\", nbins=20)\n",
    "fig.show()"
   ]
  },
  {
   "cell_type": "code",
   "execution_count": 406,
   "metadata": {},
   "outputs": [],
   "source": [
    "# when starts waiting - more or less 8 users\n",
    "# as much as processes - more or less 13 users"
   ]
  },
  {
   "cell_type": "markdown",
   "metadata": {},
   "source": [
    "# Logs"
   ]
  },
  {
   "cell_type": "code",
   "execution_count": 407,
   "metadata": {},
   "outputs": [
    {
     "name": "stdout",
     "output_type": "stream",
     "text": [
      "2021-09-12 12:32:58,269 - root - DEBUG - test\n",
      "2021-09-12 12:32:58,337 - root - DEBUG - __exit__\n",
      "2021-09-12 12:32:58,338 - root - DEBUG - exc_type {exc_type} exc_val {exc_val} exc_tb {exc_tb}\n",
      "2021-09-12 12:32:58,338 - root - DEBUG - received release resource - amount 40 at 180\n",
      "2021-09-12 12:32:58,338 - root - DEBUG - level (available) 35 at 180\n",
      "2021-09-12 12:32:58,338 - root - DEBUG - 0 waiting at 180\n",
      "2021-09-12 12:32:58,339 - root - DEBUG - 205 processing at 180\n",
      "2021-09-12 12:32:58,339 - root - DEBUG - __exit__\n",
      "2021-09-12 12:32:58,339 - root - DEBUG - exc_type {exc_type} exc_val {exc_val} exc_tb {exc_tb}\n",
      "2021-09-12 12:32:58,340 - root - DEBUG - received release resource - amount 10 at 180\n",
      "2021-09-12 12:32:58,340 - root - DEBUG - level (available) 75 at 180\n",
      "2021-09-12 12:32:58,340 - root - DEBUG - 0 waiting at 180\n",
      "2021-09-12 12:32:58,341 - root - DEBUG - 165 processing at 180\n",
      "2021-09-12 12:32:58,341 - root - DEBUG - __exit__\n",
      "2021-09-12 12:32:58,341 - root - DEBUG - exc_type {exc_type} exc_val {exc_val} exc_tb {exc_tb}\n",
      "2021-09-12 12:32:58,341 - root - DEBUG - received release resource - amount 10 at 180\n",
      "2021-09-12 12:32:58,342 - root - DEBUG - level (available) 85 at 180\n",
      "2021-09-12 12:32:58,342 - root - DEBUG - 0 waiting at 180\n",
      "2021-09-12 12:32:58,342 - root - DEBUG - 155 processing at 180\n",
      "2021-09-12 12:32:58,343 - root - DEBUG - __exit__\n",
      "2021-09-12 12:32:58,343 - root - DEBUG - exc_type {exc_type} exc_val {exc_val} exc_tb {exc_tb}\n",
      "2021-09-12 12:32:58,343 - root - DEBUG - received release resource - amount 10 at 180\n",
      "2021-09-12 12:32:58,344 - root - DEBUG - level (available) 95 at 180\n",
      "2021-09-12 12:32:58,344 - root - DEBUG - 0 waiting at 180\n",
      "2021-09-12 12:32:58,344 - root - DEBUG - 145 processing at 180\n",
      "2021-09-12 12:32:58,344 - root - DEBUG - __exit__\n",
      "2021-09-12 12:32:58,344 - root - DEBUG - exc_type {exc_type} exc_val {exc_val} exc_tb {exc_tb}\n",
      "2021-09-12 12:32:58,345 - root - DEBUG - received release resource - amount 40 at 180\n",
      "2021-09-12 12:32:58,345 - root - DEBUG - level (available) 105 at 180\n",
      "2021-09-12 12:32:58,345 - root - DEBUG - 0 waiting at 180\n",
      "2021-09-12 12:32:58,345 - root - DEBUG - 135 processing at 180\n",
      "2021-09-12 12:32:58,346 - root - DEBUG - __exit__\n",
      "2021-09-12 12:32:58,346 - root - DEBUG - exc_type {exc_type} exc_val {exc_val} exc_tb {exc_tb}\n",
      "2021-09-12 12:32:58,346 - root - DEBUG - received release resource - amount 10 at 180\n",
      "2021-09-12 12:32:58,346 - root - DEBUG - level (available) 145 at 180\n",
      "2021-09-12 12:32:58,347 - root - DEBUG - 0 waiting at 180\n",
      "2021-09-12 12:32:58,347 - root - DEBUG - 95 processing at 180\n",
      "2021-09-12 12:32:58,347 - root - DEBUG - __exit__\n",
      "2021-09-12 12:32:58,347 - root - DEBUG - exc_type {exc_type} exc_val {exc_val} exc_tb {exc_tb}\n",
      "2021-09-12 12:32:58,348 - root - DEBUG - received release resource - amount 10 at 180\n",
      "2021-09-12 12:32:58,348 - root - DEBUG - level (available) 155 at 180\n",
      "2021-09-12 12:32:58,348 - root - DEBUG - 0 waiting at 180\n",
      "2021-09-12 12:32:58,348 - root - DEBUG - 85 processing at 180\n",
      "2021-09-12 12:32:58,349 - root - DEBUG - __exit__\n",
      "2021-09-12 12:32:58,349 - root - DEBUG - exc_type {exc_type} exc_val {exc_val} exc_tb {exc_tb}\n",
      "2021-09-12 12:32:58,349 - root - DEBUG - received release resource - amount 5 at 180\n",
      "2021-09-12 12:32:58,350 - root - DEBUG - level (available) 165 at 180\n",
      "2021-09-12 12:32:58,350 - root - DEBUG - 0 waiting at 180\n",
      "2021-09-12 12:32:58,350 - root - DEBUG - 75 processing at 180\n",
      "2021-09-12 12:32:58,351 - root - DEBUG - __exit__\n",
      "2021-09-12 12:32:58,351 - root - DEBUG - exc_type {exc_type} exc_val {exc_val} exc_tb {exc_tb}\n",
      "2021-09-12 12:32:58,351 - root - DEBUG - received release resource - amount 5 at 180\n",
      "2021-09-12 12:32:58,351 - root - DEBUG - level (available) 170 at 180\n",
      "2021-09-12 12:32:58,352 - root - DEBUG - 0 waiting at 180\n",
      "2021-09-12 12:32:58,352 - root - DEBUG - 70 processing at 180\n",
      "2021-09-12 12:32:58,352 - root - DEBUG - __exit__\n",
      "2021-09-12 12:32:58,352 - root - DEBUG - exc_type {exc_type} exc_val {exc_val} exc_tb {exc_tb}\n",
      "2021-09-12 12:32:58,353 - root - DEBUG - received release resource - amount 5 at 180\n",
      "2021-09-12 12:32:58,353 - root - DEBUG - level (available) 175 at 180\n",
      "2021-09-12 12:32:58,353 - root - DEBUG - 0 waiting at 180\n",
      "2021-09-12 12:32:58,353 - root - DEBUG - 65 processing at 180\n",
      "2021-09-12 12:32:58,353 - root - DEBUG - __exit__\n",
      "2021-09-12 12:32:58,354 - root - DEBUG - exc_type {exc_type} exc_val {exc_val} exc_tb {exc_tb}\n",
      "2021-09-12 12:32:58,354 - root - DEBUG - received release resource - amount 5 at 180\n",
      "2021-09-12 12:32:58,354 - root - DEBUG - level (available) 180 at 180\n",
      "2021-09-12 12:32:58,354 - root - DEBUG - 0 waiting at 180\n",
      "2021-09-12 12:32:58,355 - root - DEBUG - 60 processing at 180\n",
      "2021-09-12 12:32:58,355 - root - DEBUG - __exit__\n",
      "2021-09-12 12:32:58,355 - root - DEBUG - exc_type {exc_type} exc_val {exc_val} exc_tb {exc_tb}\n",
      "2021-09-12 12:32:58,355 - root - DEBUG - received release resource - amount 5 at 180\n",
      "2021-09-12 12:32:58,356 - root - DEBUG - level (available) 185 at 180\n",
      "2021-09-12 12:32:58,356 - root - DEBUG - 0 waiting at 180\n",
      "2021-09-12 12:32:58,356 - root - DEBUG - 55 processing at 180\n",
      "2021-09-12 12:32:58,357 - root - DEBUG - __exit__\n",
      "2021-09-12 12:32:58,357 - root - DEBUG - exc_type {exc_type} exc_val {exc_val} exc_tb {exc_tb}\n",
      "2021-09-12 12:32:58,357 - root - DEBUG - received release resource - amount 5 at 180\n",
      "2021-09-12 12:32:58,357 - root - DEBUG - level (available) 190 at 180\n",
      "2021-09-12 12:32:58,358 - root - DEBUG - 0 waiting at 180\n",
      "2021-09-12 12:32:58,358 - root - DEBUG - 50 processing at 180\n",
      "2021-09-12 12:32:58,359 - root - DEBUG - __exit__\n",
      "2021-09-12 12:32:58,359 - root - DEBUG - exc_type {exc_type} exc_val {exc_val} exc_tb {exc_tb}\n",
      "2021-09-12 12:32:58,359 - root - DEBUG - received release resource - amount 5 at 180\n",
      "2021-09-12 12:32:58,360 - root - DEBUG - level (available) 195 at 180\n",
      "2021-09-12 12:32:58,360 - root - DEBUG - 0 waiting at 180\n",
      "2021-09-12 12:32:58,360 - root - DEBUG - 45 processing at 180\n",
      "2021-09-12 12:32:58,361 - root - DEBUG - __exit__\n",
      "2021-09-12 12:32:58,361 - root - DEBUG - exc_type {exc_type} exc_val {exc_val} exc_tb {exc_tb}\n",
      "2021-09-12 12:32:58,362 - root - DEBUG - received release resource - amount 10 at 180\n",
      "2021-09-12 12:32:58,362 - root - DEBUG - level (available) 200 at 180\n",
      "2021-09-12 12:32:58,362 - root - DEBUG - 0 waiting at 180\n",
      "2021-09-12 12:32:58,362 - root - DEBUG - 40 processing at 180\n",
      "2021-09-12 12:32:58,363 - root - DEBUG - __exit__\n",
      "2021-09-12 12:32:58,363 - root - DEBUG - exc_type {exc_type} exc_val {exc_val} exc_tb {exc_tb}\n",
      "2021-09-12 12:32:58,363 - root - DEBUG - received release resource - amount 10 at 180\n",
      "2021-09-12 12:32:58,363 - root - DEBUG - level (available) 210 at 180\n",
      "2021-09-12 12:32:58,363 - root - DEBUG - 0 waiting at 180\n",
      "2021-09-12 12:32:58,364 - root - DEBUG - 30 processing at 180\n",
      "2021-09-12 12:32:58,364 - root - DEBUG - __exit__\n",
      "2021-09-12 12:32:58,364 - root - DEBUG - exc_type {exc_type} exc_val {exc_val} exc_tb {exc_tb}\n",
      "2021-09-12 12:32:58,365 - root - DEBUG - received release resource - amount 5 at 180\n",
      "2021-09-12 12:32:58,365 - root - DEBUG - level (available) 220 at 180\n",
      "2021-09-12 12:32:58,365 - root - DEBUG - 0 waiting at 180\n",
      "2021-09-12 12:32:58,366 - root - DEBUG - 20 processing at 180\n",
      "2021-09-12 12:32:58,366 - root - DEBUG - __exit__\n",
      "2021-09-12 12:32:58,366 - root - DEBUG - exc_type {exc_type} exc_val {exc_val} exc_tb {exc_tb}\n",
      "2021-09-12 12:32:58,366 - root - DEBUG - received release resource - amount 5 at 180\n",
      "2021-09-12 12:32:58,367 - root - DEBUG - level (available) 225 at 180\n",
      "2021-09-12 12:32:58,367 - root - DEBUG - 0 waiting at 180\n",
      "2021-09-12 12:32:58,367 - root - DEBUG - 15 processing at 180\n",
      "2021-09-12 12:32:58,367 - root - DEBUG - __exit__\n",
      "2021-09-12 12:32:58,368 - root - DEBUG - exc_type {exc_type} exc_val {exc_val} exc_tb {exc_tb}\n",
      "2021-09-12 12:32:58,368 - root - DEBUG - received release resource - amount 5 at 180\n",
      "2021-09-12 12:32:58,368 - root - DEBUG - level (available) 230 at 180\n",
      "2021-09-12 12:32:58,368 - root - DEBUG - 0 waiting at 180\n",
      "2021-09-12 12:32:58,369 - root - DEBUG - 10 processing at 180\n",
      "2021-09-12 12:32:58,369 - root - DEBUG - __exit__\n",
      "2021-09-12 12:32:58,369 - root - DEBUG - exc_type {exc_type} exc_val {exc_val} exc_tb {exc_tb}\n",
      "2021-09-12 12:32:58,369 - root - DEBUG - received release resource - amount 5 at 180\n",
      "2021-09-12 12:32:58,369 - root - DEBUG - level (available) 235 at 180\n",
      "2021-09-12 12:32:58,370 - root - DEBUG - 0 waiting at 180\n",
      "2021-09-12 12:32:58,370 - root - DEBUG - 5 processing at 180\n",
      "2021-09-12 12:32:58,371 - root - DEBUG - __exit__\n",
      "2021-09-12 12:32:58,372 - root - DEBUG - exc_type {exc_type} exc_val {exc_val} exc_tb {exc_tb}\n",
      "2021-09-12 12:32:58,372 - root - DEBUG - received release resource - amount 10 at 180\n",
      "2021-09-12 12:32:58,373 - root - DEBUG - level (available) 65 at 180\n",
      "2021-09-12 12:32:58,373 - root - DEBUG - 0 waiting at 180\n",
      "2021-09-12 12:32:58,373 - root - DEBUG - 175 processing at 180\n",
      "2021-09-12 12:32:58,374 - root - DEBUG - __exit__\n",
      "2021-09-12 12:32:58,374 - root - DEBUG - exc_type {exc_type} exc_val {exc_val} exc_tb {exc_tb}\n",
      "2021-09-12 12:32:58,374 - root - DEBUG - received release resource - amount 10 at 180\n",
      "2021-09-12 12:32:58,375 - root - DEBUG - level (available) 75 at 180\n",
      "2021-09-12 12:32:58,375 - root - DEBUG - 0 waiting at 180\n",
      "2021-09-12 12:32:58,375 - root - DEBUG - 165 processing at 180\n",
      "2021-09-12 12:32:58,375 - root - DEBUG - __exit__\n",
      "2021-09-12 12:32:58,376 - root - DEBUG - exc_type {exc_type} exc_val {exc_val} exc_tb {exc_tb}\n",
      "2021-09-12 12:32:58,376 - root - DEBUG - received release resource - amount 5 at 180\n",
      "2021-09-12 12:32:58,376 - root - DEBUG - level (available) 85 at 180\n",
      "2021-09-12 12:32:58,376 - root - DEBUG - 0 waiting at 180\n",
      "2021-09-12 12:32:58,377 - root - DEBUG - 155 processing at 180\n",
      "2021-09-12 12:32:58,377 - root - DEBUG - __exit__\n",
      "2021-09-12 12:32:58,377 - root - DEBUG - exc_type {exc_type} exc_val {exc_val} exc_tb {exc_tb}\n",
      "2021-09-12 12:32:58,377 - root - DEBUG - received release resource - amount 5 at 180\n",
      "2021-09-12 12:32:58,377 - root - DEBUG - level (available) 90 at 180\n",
      "2021-09-12 12:32:58,378 - root - DEBUG - 0 waiting at 180\n",
      "2021-09-12 12:32:58,378 - root - DEBUG - 150 processing at 180\n",
      "2021-09-12 12:32:58,378 - root - DEBUG - __exit__\n",
      "2021-09-12 12:32:58,378 - root - DEBUG - exc_type {exc_type} exc_val {exc_val} exc_tb {exc_tb}\n",
      "2021-09-12 12:32:58,379 - root - DEBUG - received release resource - amount 5 at 180\n",
      "2021-09-12 12:32:58,379 - root - DEBUG - level (available) 95 at 180\n",
      "2021-09-12 12:32:58,379 - root - DEBUG - 0 waiting at 180\n",
      "2021-09-12 12:32:58,379 - root - DEBUG - 145 processing at 180\n",
      "2021-09-12 12:32:58,380 - root - DEBUG - __exit__\n",
      "2021-09-12 12:32:58,380 - root - DEBUG - exc_type {exc_type} exc_val {exc_val} exc_tb {exc_tb}\n",
      "2021-09-12 12:32:58,380 - root - DEBUG - received release resource - amount 5 at 180\n",
      "2021-09-12 12:32:58,381 - root - DEBUG - level (available) 100 at 180\n",
      "2021-09-12 12:32:58,381 - root - DEBUG - 0 waiting at 180\n",
      "2021-09-12 12:32:58,381 - root - DEBUG - 140 processing at 180\n",
      "2021-09-12 12:32:58,381 - root - DEBUG - __exit__\n",
      "2021-09-12 12:32:58,381 - root - DEBUG - exc_type {exc_type} exc_val {exc_val} exc_tb {exc_tb}\n",
      "2021-09-12 12:32:58,382 - root - DEBUG - received release resource - amount 40 at 180\n",
      "2021-09-12 12:32:58,382 - root - DEBUG - level (available) 105 at 180\n",
      "2021-09-12 12:32:58,382 - root - DEBUG - 0 waiting at 180\n",
      "2021-09-12 12:32:58,382 - root - DEBUG - 135 processing at 180\n",
      "2021-09-12 12:32:58,383 - root - DEBUG - __exit__\n",
      "2021-09-12 12:32:58,383 - root - DEBUG - exc_type {exc_type} exc_val {exc_val} exc_tb {exc_tb}\n",
      "2021-09-12 12:32:58,383 - root - DEBUG - received release resource - amount 10 at 180\n",
      "2021-09-12 12:32:58,383 - root - DEBUG - level (available) 145 at 180\n",
      "2021-09-12 12:32:58,384 - root - DEBUG - 0 waiting at 180\n",
      "2021-09-12 12:32:58,384 - root - DEBUG - 95 processing at 180\n",
      "2021-09-12 12:32:58,384 - root - DEBUG - __exit__\n",
      "2021-09-12 12:32:58,384 - root - DEBUG - exc_type {exc_type} exc_val {exc_val} exc_tb {exc_tb}\n",
      "2021-09-12 12:32:58,385 - root - DEBUG - received release resource - amount 10 at 180\n",
      "2021-09-12 12:32:58,385 - root - DEBUG - level (available) 155 at 180\n",
      "2021-09-12 12:32:58,385 - root - DEBUG - 0 waiting at 180\n",
      "2021-09-12 12:32:58,385 - root - DEBUG - 85 processing at 180\n",
      "2021-09-12 12:32:58,386 - root - DEBUG - __exit__\n",
      "2021-09-12 12:32:58,386 - root - DEBUG - exc_type {exc_type} exc_val {exc_val} exc_tb {exc_tb}\n",
      "2021-09-12 12:32:58,386 - root - DEBUG - received release resource - amount 10 at 180\n",
      "2021-09-12 12:32:58,386 - root - DEBUG - level (available) 165 at 180\n",
      "2021-09-12 12:32:58,386 - root - DEBUG - 0 waiting at 180\n",
      "2021-09-12 12:32:58,387 - root - DEBUG - 75 processing at 180\n",
      "2021-09-12 12:32:58,387 - root - DEBUG - __exit__\n",
      "2021-09-12 12:32:58,388 - root - DEBUG - exc_type {exc_type} exc_val {exc_val} exc_tb {exc_tb}\n",
      "2021-09-12 12:32:58,388 - root - DEBUG - received release resource - amount 5 at 180\n",
      "2021-09-12 12:32:58,388 - root - DEBUG - level (available) 175 at 180\n",
      "2021-09-12 12:32:58,388 - root - DEBUG - 0 waiting at 180\n",
      "2021-09-12 12:32:58,389 - root - DEBUG - 65 processing at 180\n",
      "2021-09-12 12:32:58,389 - root - DEBUG - __exit__\n",
      "2021-09-12 12:32:58,389 - root - DEBUG - exc_type {exc_type} exc_val {exc_val} exc_tb {exc_tb}\n",
      "2021-09-12 12:32:58,390 - root - DEBUG - received release resource - amount 5 at 180\n",
      "2021-09-12 12:32:58,390 - root - DEBUG - level (available) 180 at 180\n",
      "2021-09-12 12:32:58,390 - root - DEBUG - 0 waiting at 180\n",
      "2021-09-12 12:32:58,390 - root - DEBUG - 60 processing at 180\n",
      "2021-09-12 12:32:58,391 - root - DEBUG - __exit__\n",
      "2021-09-12 12:32:58,391 - root - DEBUG - exc_type {exc_type} exc_val {exc_val} exc_tb {exc_tb}\n",
      "2021-09-12 12:32:58,391 - root - DEBUG - received release resource - amount 5 at 180\n",
      "2021-09-12 12:32:58,391 - root - DEBUG - level (available) 185 at 180\n",
      "2021-09-12 12:32:58,392 - root - DEBUG - 0 waiting at 180\n",
      "2021-09-12 12:32:58,392 - root - DEBUG - 55 processing at 180\n",
      "2021-09-12 12:32:58,392 - root - DEBUG - __exit__\n",
      "2021-09-12 12:32:58,392 - root - DEBUG - exc_type {exc_type} exc_val {exc_val} exc_tb {exc_tb}\n",
      "2021-09-12 12:32:58,393 - root - DEBUG - received release resource - amount 5 at 180\n",
      "2021-09-12 12:32:58,393 - root - DEBUG - level (available) 190 at 180\n",
      "2021-09-12 12:32:58,393 - root - DEBUG - 0 waiting at 180\n",
      "2021-09-12 12:32:58,393 - root - DEBUG - 50 processing at 180\n",
      "2021-09-12 12:32:58,393 - root - DEBUG - __exit__\n",
      "2021-09-12 12:32:58,394 - root - DEBUG - exc_type {exc_type} exc_val {exc_val} exc_tb {exc_tb}\n",
      "2021-09-12 12:32:58,394 - root - DEBUG - received release resource - amount 10 at 180\n",
      "2021-09-12 12:32:58,394 - root - DEBUG - level (available) 195 at 180\n",
      "2021-09-12 12:32:58,395 - root - DEBUG - 0 waiting at 180\n",
      "2021-09-12 12:32:58,395 - root - DEBUG - 45 processing at 180\n",
      "2021-09-12 12:32:58,395 - root - DEBUG - __exit__\n",
      "2021-09-12 12:32:58,396 - root - DEBUG - exc_type {exc_type} exc_val {exc_val} exc_tb {exc_tb}\n",
      "2021-09-12 12:32:58,396 - root - DEBUG - received release resource - amount 10 at 180\n",
      "2021-09-12 12:32:58,396 - root - DEBUG - level (available) 205 at 180\n",
      "2021-09-12 12:32:58,396 - root - DEBUG - 0 waiting at 180\n",
      "2021-09-12 12:32:58,396 - root - DEBUG - 35 processing at 180\n",
      "2021-09-12 12:32:58,397 - root - DEBUG - __exit__\n",
      "2021-09-12 12:32:58,397 - root - DEBUG - exc_type {exc_type} exc_val {exc_val} exc_tb {exc_tb}\n",
      "2021-09-12 12:32:58,397 - root - DEBUG - received release resource - amount 5 at 180\n",
      "2021-09-12 12:32:58,397 - root - DEBUG - level (available) 215 at 180\n",
      "2021-09-12 12:32:58,398 - root - DEBUG - 0 waiting at 180\n",
      "2021-09-12 12:32:58,398 - root - DEBUG - 25 processing at 180\n",
      "2021-09-12 12:32:58,398 - root - DEBUG - __exit__\n",
      "2021-09-12 12:32:58,398 - root - DEBUG - exc_type {exc_type} exc_val {exc_val} exc_tb {exc_tb}\n",
      "2021-09-12 12:32:58,398 - root - DEBUG - received release resource - amount 5 at 180\n",
      "2021-09-12 12:32:58,399 - root - DEBUG - level (available) 220 at 180\n",
      "2021-09-12 12:32:58,399 - root - DEBUG - 0 waiting at 180\n",
      "2021-09-12 12:32:58,399 - root - DEBUG - 20 processing at 180\n",
      "2021-09-12 12:32:58,399 - root - DEBUG - __exit__\n",
      "2021-09-12 12:32:58,400 - root - DEBUG - exc_type {exc_type} exc_val {exc_val} exc_tb {exc_tb}\n",
      "2021-09-12 12:32:58,400 - root - DEBUG - received release resource - amount 5 at 180\n",
      "2021-09-12 12:32:58,400 - root - DEBUG - level (available) 225 at 180\n",
      "2021-09-12 12:32:58,400 - root - DEBUG - 0 waiting at 180\n",
      "2021-09-12 12:32:58,401 - root - DEBUG - 15 processing at 180\n",
      "2021-09-12 12:32:58,401 - root - DEBUG - __exit__\n",
      "2021-09-12 12:32:58,401 - root - DEBUG - exc_type {exc_type} exc_val {exc_val} exc_tb {exc_tb}\n",
      "2021-09-12 12:32:58,401 - root - DEBUG - received release resource - amount 5 at 180\n",
      "2021-09-12 12:32:58,401 - root - DEBUG - level (available) 230 at 180\n",
      "2021-09-12 12:32:58,402 - root - DEBUG - 0 waiting at 180\n",
      "2021-09-12 12:32:58,402 - root - DEBUG - 10 processing at 180\n",
      "2021-09-12 12:32:58,403 - root - DEBUG - __exit__\n",
      "2021-09-12 12:32:58,403 - root - DEBUG - exc_type {exc_type} exc_val {exc_val} exc_tb {exc_tb}\n",
      "2021-09-12 12:32:58,403 - root - DEBUG - received release resource - amount 5 at 180\n",
      "2021-09-12 12:32:58,403 - root - DEBUG - level (available) 235 at 180\n",
      "2021-09-12 12:32:58,403 - root - DEBUG - 0 waiting at 180\n",
      "2021-09-12 12:32:58,404 - root - DEBUG - 5 processing at 180\n",
      "2021-09-12 12:32:58,404 - root - DEBUG - __exit__\n",
      "2021-09-12 12:32:58,404 - root - DEBUG - exc_type {exc_type} exc_val {exc_val} exc_tb {exc_tb}\n",
      "2021-09-12 12:32:58,405 - root - DEBUG - received release resource - amount 40 at 180\n",
      "2021-09-12 12:32:58,405 - root - DEBUG - level (available) 45 at 180\n",
      "2021-09-12 12:32:58,405 - root - DEBUG - 0 waiting at 180\n",
      "2021-09-12 12:32:58,405 - root - DEBUG - 195 processing at 180\n",
      "2021-09-12 12:32:58,406 - root - DEBUG - __exit__\n",
      "2021-09-12 12:32:58,406 - root - DEBUG - exc_type {exc_type} exc_val {exc_val} exc_tb {exc_tb}\n",
      "2021-09-12 12:32:58,406 - root - DEBUG - received release resource - amount 10 at 180\n",
      "2021-09-12 12:32:58,406 - root - DEBUG - level (available) 85 at 180\n",
      "2021-09-12 12:32:58,406 - root - DEBUG - 0 waiting at 180\n",
      "2021-09-12 12:32:58,407 - root - DEBUG - 155 processing at 180\n",
      "2021-09-12 12:32:58,407 - root - DEBUG - __exit__\n",
      "2021-09-12 12:32:58,407 - root - DEBUG - exc_type {exc_type} exc_val {exc_val} exc_tb {exc_tb}\n",
      "2021-09-12 12:32:58,407 - root - DEBUG - received release resource - amount 10 at 180\n",
      "2021-09-12 12:32:58,408 - root - DEBUG - level (available) 95 at 180\n",
      "2021-09-12 12:32:58,408 - root - DEBUG - 0 waiting at 180\n",
      "2021-09-12 12:32:58,408 - root - DEBUG - 145 processing at 180\n",
      "2021-09-12 12:32:58,408 - root - DEBUG - __exit__\n",
      "2021-09-12 12:32:58,408 - root - DEBUG - exc_type {exc_type} exc_val {exc_val} exc_tb {exc_tb}\n",
      "2021-09-12 12:32:58,409 - root - DEBUG - received release resource - amount 10 at 180\n",
      "2021-09-12 12:32:58,409 - root - DEBUG - level (available) 105 at 180\n",
      "2021-09-12 12:32:58,409 - root - DEBUG - 0 waiting at 180\n",
      "2021-09-12 12:32:58,410 - root - DEBUG - 135 processing at 180\n",
      "2021-09-12 12:32:58,410 - root - DEBUG - __exit__\n",
      "2021-09-12 12:32:58,410 - root - DEBUG - exc_type {exc_type} exc_val {exc_val} exc_tb {exc_tb}\n",
      "2021-09-12 12:32:58,410 - root - DEBUG - received release resource - amount 10 at 180\n",
      "2021-09-12 12:32:58,411 - root - DEBUG - level (available) 115 at 180\n",
      "2021-09-12 12:32:58,411 - root - DEBUG - 0 waiting at 180\n",
      "2021-09-12 12:32:58,411 - root - DEBUG - 125 processing at 180\n",
      "2021-09-12 12:32:58,411 - root - DEBUG - __exit__\n",
      "2021-09-12 12:32:58,412 - root - DEBUG - exc_type {exc_type} exc_val {exc_val} exc_tb {exc_tb}\n",
      "2021-09-12 12:32:58,412 - root - DEBUG - received release resource - amount 5 at 180\n",
      "2021-09-12 12:32:58,412 - root - DEBUG - level (available) 125 at 180\n",
      "2021-09-12 12:32:58,412 - root - DEBUG - 0 waiting at 180\n",
      "2021-09-12 12:32:58,412 - root - DEBUG - 115 processing at 180\n",
      "2021-09-12 12:32:58,413 - root - DEBUG - __exit__\n",
      "2021-09-12 12:32:58,413 - root - DEBUG - exc_type {exc_type} exc_val {exc_val} exc_tb {exc_tb}\n",
      "2021-09-12 12:32:58,413 - root - DEBUG - received release resource - amount 5 at 180\n",
      "2021-09-12 12:32:58,413 - root - DEBUG - level (available) 130 at 180\n",
      "2021-09-12 12:32:58,414 - root - DEBUG - 0 waiting at 180\n",
      "2021-09-12 12:32:58,414 - root - DEBUG - 110 processing at 180\n",
      "2021-09-12 12:32:58,414 - root - DEBUG - __exit__\n",
      "2021-09-12 12:32:58,414 - root - DEBUG - exc_type {exc_type} exc_val {exc_val} exc_tb {exc_tb}\n",
      "2021-09-12 12:32:58,415 - root - DEBUG - received release resource - amount 10 at 180\n",
      "2021-09-12 12:32:58,415 - root - DEBUG - level (available) 135 at 180\n",
      "2021-09-12 12:32:58,415 - root - DEBUG - 0 waiting at 180\n",
      "2021-09-12 12:32:58,415 - root - DEBUG - 105 processing at 180\n",
      "2021-09-12 12:32:58,416 - root - DEBUG - __exit__\n",
      "2021-09-12 12:32:58,416 - root - DEBUG - exc_type {exc_type} exc_val {exc_val} exc_tb {exc_tb}\n",
      "2021-09-12 12:32:58,416 - root - DEBUG - received release resource - amount 5 at 180\n",
      "2021-09-12 12:32:58,416 - root - DEBUG - level (available) 145 at 180\n",
      "2021-09-12 12:32:58,416 - root - DEBUG - 0 waiting at 180\n",
      "2021-09-12 12:32:58,417 - root - DEBUG - 95 processing at 180\n",
      "2021-09-12 12:32:58,417 - root - DEBUG - __exit__\n",
      "2021-09-12 12:32:58,418 - root - DEBUG - exc_type {exc_type} exc_val {exc_val} exc_tb {exc_tb}\n",
      "2021-09-12 12:32:58,418 - root - DEBUG - received release resource - amount 5 at 180\n",
      "2021-09-12 12:32:58,418 - root - DEBUG - level (available) 150 at 180\n",
      "2021-09-12 12:32:58,418 - root - DEBUG - 0 waiting at 180\n",
      "2021-09-12 12:32:58,418 - root - DEBUG - 90 processing at 180\n",
      "2021-09-12 12:32:58,419 - root - DEBUG - __exit__\n",
      "2021-09-12 12:32:58,419 - root - DEBUG - exc_type {exc_type} exc_val {exc_val} exc_tb {exc_tb}\n",
      "2021-09-12 12:32:58,419 - root - DEBUG - received release resource - amount 5 at 180\n",
      "2021-09-12 12:32:58,419 - root - DEBUG - level (available) 155 at 180\n",
      "2021-09-12 12:32:58,420 - root - DEBUG - 0 waiting at 180\n",
      "2021-09-12 12:32:58,420 - root - DEBUG - 85 processing at 180\n",
      "2021-09-12 12:32:58,420 - root - DEBUG - __exit__\n",
      "2021-09-12 12:32:58,420 - root - DEBUG - exc_type {exc_type} exc_val {exc_val} exc_tb {exc_tb}\n",
      "2021-09-12 12:32:58,420 - root - DEBUG - received release resource - amount 5 at 180\n",
      "2021-09-12 12:32:58,421 - root - DEBUG - level (available) 160 at 180\n",
      "2021-09-12 12:32:58,421 - root - DEBUG - 0 waiting at 180\n",
      "2021-09-12 12:32:58,421 - root - DEBUG - 80 processing at 180\n",
      "2021-09-12 12:32:58,421 - root - DEBUG - __exit__\n",
      "2021-09-12 12:32:58,421 - root - DEBUG - exc_type {exc_type} exc_val {exc_val} exc_tb {exc_tb}\n",
      "2021-09-12 12:32:58,422 - root - DEBUG - received release resource - amount 5 at 180\n",
      "2021-09-12 12:32:58,422 - root - DEBUG - level (available) 165 at 180\n",
      "2021-09-12 12:32:58,422 - root - DEBUG - 0 waiting at 180\n",
      "2021-09-12 12:32:58,422 - root - DEBUG - 75 processing at 180\n",
      "2021-09-12 12:32:58,423 - root - DEBUG - __exit__\n",
      "2021-09-12 12:32:58,423 - root - DEBUG - exc_type {exc_type} exc_val {exc_val} exc_tb {exc_tb}\n",
      "2021-09-12 12:32:58,423 - root - DEBUG - received release resource - amount 40 at 180\n",
      "2021-09-12 12:32:58,423 - root - DEBUG - level (available) 170 at 180\n",
      "2021-09-12 12:32:58,423 - root - DEBUG - 0 waiting at 180\n",
      "2021-09-12 12:32:58,424 - root - DEBUG - 70 processing at 180\n",
      "2021-09-12 12:32:58,424 - root - DEBUG - __exit__\n",
      "2021-09-12 12:32:58,424 - root - DEBUG - exc_type {exc_type} exc_val {exc_val} exc_tb {exc_tb}\n",
      "2021-09-12 12:32:58,424 - root - DEBUG - received release resource - amount 10 at 180\n",
      "2021-09-12 12:32:58,425 - root - DEBUG - level (available) 210 at 180\n",
      "2021-09-12 12:32:58,425 - root - DEBUG - 0 waiting at 180\n",
      "2021-09-12 12:32:58,425 - root - DEBUG - 30 processing at 180\n",
      "2021-09-12 12:32:58,426 - root - DEBUG - __exit__\n",
      "2021-09-12 12:32:58,426 - root - DEBUG - exc_type {exc_type} exc_val {exc_val} exc_tb {exc_tb}\n",
      "2021-09-12 12:32:58,426 - root - DEBUG - received release resource - amount 5 at 180\n",
      "2021-09-12 12:32:58,426 - root - DEBUG - level (available) 220 at 180\n",
      "2021-09-12 12:32:58,426 - root - DEBUG - 0 waiting at 180\n",
      "2021-09-12 12:32:58,427 - root - DEBUG - 20 processing at 180\n",
      "2021-09-12 12:32:58,427 - root - DEBUG - __exit__\n",
      "2021-09-12 12:32:58,427 - root - DEBUG - exc_type {exc_type} exc_val {exc_val} exc_tb {exc_tb}\n",
      "2021-09-12 12:32:58,427 - root - DEBUG - received release resource - amount 5 at 180\n",
      "2021-09-12 12:32:58,427 - root - DEBUG - level (available) 225 at 180\n",
      "2021-09-12 12:32:58,428 - root - DEBUG - 0 waiting at 180\n",
      "2021-09-12 12:32:58,428 - root - DEBUG - 15 processing at 180\n",
      "2021-09-12 12:32:58,428 - root - DEBUG - __exit__\n",
      "2021-09-12 12:32:58,428 - root - DEBUG - exc_type {exc_type} exc_val {exc_val} exc_tb {exc_tb}\n",
      "2021-09-12 12:32:58,428 - root - DEBUG - received release resource - amount 5 at 180\n",
      "2021-09-12 12:32:58,429 - root - DEBUG - level (available) 230 at 180\n",
      "2021-09-12 12:32:58,429 - root - DEBUG - 0 waiting at 180\n",
      "2021-09-12 12:32:58,429 - root - DEBUG - 10 processing at 180\n",
      "2021-09-12 12:32:58,429 - root - DEBUG - __exit__\n",
      "2021-09-12 12:32:58,429 - root - DEBUG - exc_type {exc_type} exc_val {exc_val} exc_tb {exc_tb}\n",
      "2021-09-12 12:32:58,430 - root - DEBUG - received release resource - amount 5 at 180\n",
      "2021-09-12 12:32:58,430 - root - DEBUG - level (available) 235 at 180\n",
      "2021-09-12 12:32:58,430 - root - DEBUG - 0 waiting at 180\n",
      "2021-09-12 12:32:58,430 - root - DEBUG - 5 processing at 180\n",
      "2021-09-12 12:32:58,431 - root - DEBUG - __exit__\n",
      "2021-09-12 12:32:58,431 - root - DEBUG - exc_type {exc_type} exc_val {exc_val} exc_tb {exc_tb}\n",
      "2021-09-12 12:32:58,431 - root - DEBUG - received release resource - amount 40 at 180\n",
      "2021-09-12 12:32:58,431 - root - DEBUG - level (available) 0 at 180\n",
      "2021-09-12 12:32:58,432 - root - DEBUG - 24 waiting at 180\n",
      "2021-09-12 12:32:58,432 - root - DEBUG - 240 processing at 180\n",
      "2021-09-12 12:32:58,432 - root - DEBUG - __exit__\n",
      "2021-09-12 12:32:58,433 - root - DEBUG - exc_type {exc_type} exc_val {exc_val} exc_tb {exc_tb}\n",
      "2021-09-12 12:32:58,433 - root - DEBUG - received release resource - amount 40 at 180\n",
      "2021-09-12 12:32:58,433 - root - DEBUG - level (available) 40 at 180\n",
      "2021-09-12 12:32:58,433 - root - DEBUG - 24 waiting at 180\n",
      "2021-09-12 12:32:58,433 - root - DEBUG - 200 processing at 180\n",
      "2021-09-12 12:32:58,434 - root - DEBUG - __exit__\n",
      "2021-09-12 12:32:58,434 - root - DEBUG - exc_type {exc_type} exc_val {exc_val} exc_tb {exc_tb}\n",
      "2021-09-12 12:32:58,434 - root - DEBUG - received release resource - amount 10 at 180\n",
      "2021-09-12 12:32:58,434 - root - DEBUG - level (available) 80 at 180\n",
      "2021-09-12 12:32:58,434 - root - DEBUG - 24 waiting at 180\n",
      "2021-09-12 12:32:58,435 - root - DEBUG - 160 processing at 180\n",
      "2021-09-12 12:32:58,435 - root - DEBUG - __exit__\n",
      "2021-09-12 12:32:58,435 - root - DEBUG - exc_type {exc_type} exc_val {exc_val} exc_tb {exc_tb}\n",
      "2021-09-12 12:32:58,435 - root - DEBUG - received release resource - amount 10 at 180\n",
      "2021-09-12 12:32:58,435 - root - DEBUG - level (available) 90 at 180\n",
      "2021-09-12 12:32:58,436 - root - DEBUG - 24 waiting at 180\n",
      "2021-09-12 12:32:58,436 - root - DEBUG - 150 processing at 180\n",
      "2021-09-12 12:32:58,436 - root - DEBUG - __exit__\n",
      "2021-09-12 12:32:58,436 - root - DEBUG - exc_type {exc_type} exc_val {exc_val} exc_tb {exc_tb}\n",
      "2021-09-12 12:32:58,436 - root - DEBUG - received release resource - amount 10 at 180\n",
      "2021-09-12 12:32:58,437 - root - DEBUG - level (available) 100 at 180\n",
      "2021-09-12 12:32:58,437 - root - DEBUG - 24 waiting at 180\n",
      "2021-09-12 12:32:58,437 - root - DEBUG - 140 processing at 180\n",
      "2021-09-12 12:32:58,437 - root - DEBUG - __exit__\n",
      "2021-09-12 12:32:58,437 - root - DEBUG - exc_type {exc_type} exc_val {exc_val} exc_tb {exc_tb}\n",
      "2021-09-12 12:32:58,438 - root - DEBUG - received release resource - amount 5 at 180\n",
      "2021-09-12 12:32:58,438 - root - DEBUG - level (available) 110 at 180\n",
      "2021-09-12 12:32:58,438 - root - DEBUG - 24 waiting at 180\n",
      "2021-09-12 12:32:58,438 - root - DEBUG - 130 processing at 180\n",
      "2021-09-12 12:32:58,438 - root - DEBUG - __exit__\n",
      "2021-09-12 12:32:58,439 - root - DEBUG - exc_type {exc_type} exc_val {exc_val} exc_tb {exc_tb}\n",
      "2021-09-12 12:32:58,439 - root - DEBUG - received release resource - amount 5 at 180\n",
      "2021-09-12 12:32:58,439 - root - DEBUG - level (available) 115 at 180\n",
      "2021-09-12 12:32:58,439 - root - DEBUG - 24 waiting at 180\n",
      "2021-09-12 12:32:58,440 - root - DEBUG - 125 processing at 180\n",
      "2021-09-12 12:32:58,440 - root - DEBUG - __exit__\n",
      "2021-09-12 12:32:58,440 - root - DEBUG - exc_type {exc_type} exc_val {exc_val} exc_tb {exc_tb}\n",
      "2021-09-12 12:32:58,440 - root - DEBUG - received release resource - amount 5 at 180\n",
      "2021-09-12 12:32:58,440 - root - DEBUG - level (available) 120 at 180\n",
      "2021-09-12 12:32:58,441 - root - DEBUG - 24 waiting at 180\n",
      "2021-09-12 12:32:58,441 - root - DEBUG - 120 processing at 180\n",
      "2021-09-12 12:32:58,441 - root - DEBUG - __exit__\n",
      "2021-09-12 12:32:58,441 - root - DEBUG - exc_type {exc_type} exc_val {exc_val} exc_tb {exc_tb}\n",
      "2021-09-12 12:32:58,441 - root - DEBUG - received release resource - amount 5 at 180\n",
      "2021-09-12 12:32:58,442 - root - DEBUG - level (available) 125 at 180\n",
      "2021-09-12 12:32:58,442 - root - DEBUG - 24 waiting at 180\n",
      "2021-09-12 12:32:58,442 - root - DEBUG - 115 processing at 180\n",
      "2021-09-12 12:32:58,442 - root - DEBUG - __exit__\n",
      "2021-09-12 12:32:58,442 - root - DEBUG - exc_type {exc_type} exc_val {exc_val} exc_tb {exc_tb}\n",
      "2021-09-12 12:32:58,443 - root - DEBUG - received release resource - amount 10 at 180\n",
      "2021-09-12 12:32:58,443 - root - DEBUG - level (available) 130 at 180\n",
      "2021-09-12 12:32:58,443 - root - DEBUG - 24 waiting at 180\n",
      "2021-09-12 12:32:58,443 - root - DEBUG - 110 processing at 180\n",
      "2021-09-12 12:32:58,443 - root - DEBUG - __exit__\n",
      "2021-09-12 12:32:58,444 - root - DEBUG - exc_type {exc_type} exc_val {exc_val} exc_tb {exc_tb}\n",
      "2021-09-12 12:32:58,444 - root - DEBUG - received release resource - amount 10 at 180\n",
      "2021-09-12 12:32:58,444 - root - DEBUG - level (available) 140 at 180\n",
      "2021-09-12 12:32:58,444 - root - DEBUG - 24 waiting at 180\n",
      "2021-09-12 12:32:58,444 - root - DEBUG - 100 processing at 180\n",
      "2021-09-12 12:32:58,445 - root - DEBUG - __exit__\n",
      "2021-09-12 12:32:58,445 - root - DEBUG - exc_type {exc_type} exc_val {exc_val} exc_tb {exc_tb}\n",
      "2021-09-12 12:32:58,445 - root - DEBUG - received release resource - amount 10 at 180\n",
      "2021-09-12 12:32:58,445 - root - DEBUG - level (available) 150 at 180\n",
      "2021-09-12 12:32:58,445 - root - DEBUG - 24 waiting at 180\n",
      "2021-09-12 12:32:58,445 - root - DEBUG - 90 processing at 180\n",
      "2021-09-12 12:32:58,446 - root - DEBUG - __exit__\n",
      "2021-09-12 12:32:58,446 - root - DEBUG - exc_type {exc_type} exc_val {exc_val} exc_tb {exc_tb}\n",
      "2021-09-12 12:32:58,446 - root - DEBUG - received release resource - amount 10 at 180\n",
      "2021-09-12 12:32:58,446 - root - DEBUG - level (available) 160 at 180\n",
      "2021-09-12 12:32:58,446 - root - DEBUG - 24 waiting at 180\n",
      "2021-09-12 12:32:58,447 - root - DEBUG - 80 processing at 180\n",
      "2021-09-12 12:32:58,447 - root - DEBUG - __exit__\n",
      "2021-09-12 12:32:58,447 - root - DEBUG - exc_type {exc_type} exc_val {exc_val} exc_tb {exc_tb}\n",
      "2021-09-12 12:32:58,448 - root - DEBUG - received release resource - amount 5 at 180\n",
      "2021-09-12 12:32:58,448 - root - DEBUG - level (available) 170 at 180\n",
      "2021-09-12 12:32:58,448 - root - DEBUG - 24 waiting at 180\n",
      "2021-09-12 12:32:58,449 - root - DEBUG - 70 processing at 180\n",
      "2021-09-12 12:32:58,449 - root - DEBUG - __exit__\n",
      "2021-09-12 12:32:58,449 - root - DEBUG - exc_type {exc_type} exc_val {exc_val} exc_tb {exc_tb}\n",
      "2021-09-12 12:32:58,449 - root - DEBUG - received release resource - amount 5 at 180\n",
      "2021-09-12 12:32:58,449 - root - DEBUG - level (available) 175 at 180\n",
      "2021-09-12 12:32:58,450 - root - DEBUG - 24 waiting at 180\n",
      "2021-09-12 12:32:58,450 - root - DEBUG - 65 processing at 180\n",
      "2021-09-12 12:32:58,450 - root - DEBUG - __exit__\n",
      "2021-09-12 12:32:58,450 - root - DEBUG - exc_type {exc_type} exc_val {exc_val} exc_tb {exc_tb}\n",
      "2021-09-12 12:32:58,450 - root - DEBUG - received release resource - amount 5 at 180\n",
      "2021-09-12 12:32:58,451 - root - DEBUG - level (available) 180 at 180\n",
      "2021-09-12 12:32:58,451 - root - DEBUG - 24 waiting at 180\n",
      "2021-09-12 12:32:58,451 - root - DEBUG - 60 processing at 180\n",
      "2021-09-12 12:32:58,451 - root - DEBUG - __exit__\n",
      "2021-09-12 12:32:58,451 - root - DEBUG - exc_type {exc_type} exc_val {exc_val} exc_tb {exc_tb}\n",
      "2021-09-12 12:32:58,452 - root - DEBUG - received release resource - amount 5 at 180\n",
      "2021-09-12 12:32:58,452 - root - DEBUG - level (available) 185 at 180\n",
      "2021-09-12 12:32:58,452 - root - DEBUG - 24 waiting at 180\n",
      "2021-09-12 12:32:58,452 - root - DEBUG - 55 processing at 180\n",
      "2021-09-12 12:32:58,452 - root - DEBUG - __exit__\n",
      "2021-09-12 12:32:58,452 - root - DEBUG - exc_type {exc_type} exc_val {exc_val} exc_tb {exc_tb}\n",
      "2021-09-12 12:32:58,453 - root - DEBUG - received release resource - amount 5 at 180\n",
      "2021-09-12 12:32:58,453 - root - DEBUG - level (available) 190 at 180\n",
      "2021-09-12 12:32:58,453 - root - DEBUG - 24 waiting at 180\n",
      "2021-09-12 12:32:58,453 - root - DEBUG - 50 processing at 180\n",
      "2021-09-12 12:32:58,453 - root - DEBUG - __exit__\n",
      "2021-09-12 12:32:58,454 - root - DEBUG - exc_type {exc_type} exc_val {exc_val} exc_tb {exc_tb}\n",
      "2021-09-12 12:32:58,454 - root - DEBUG - received release resource - amount 5 at 180\n",
      "2021-09-12 12:32:58,454 - root - DEBUG - level (available) 195 at 180\n",
      "2021-09-12 12:32:58,454 - root - DEBUG - 24 waiting at 180\n",
      "2021-09-12 12:32:58,455 - root - DEBUG - 45 processing at 180\n",
      "2021-09-12 12:32:58,455 - root - DEBUG - __exit__\n",
      "2021-09-12 12:32:58,455 - root - DEBUG - exc_type {exc_type} exc_val {exc_val} exc_tb {exc_tb}\n",
      "2021-09-12 12:32:58,455 - root - DEBUG - received release resource - amount 10 at 180\n",
      "2021-09-12 12:32:58,456 - root - DEBUG - level (available) 200 at 180\n",
      "2021-09-12 12:32:58,456 - root - DEBUG - 24 waiting at 180\n",
      "2021-09-12 12:32:58,456 - root - DEBUG - 40 processing at 180\n",
      "2021-09-12 12:32:58,456 - root - DEBUG - __exit__\n",
      "2021-09-12 12:32:58,456 - root - DEBUG - exc_type {exc_type} exc_val {exc_val} exc_tb {exc_tb}\n",
      "2021-09-12 12:32:58,457 - root - DEBUG - received release resource - amount 10 at 180\n",
      "2021-09-12 12:32:58,457 - root - DEBUG - level (available) 210 at 180\n",
      "2021-09-12 12:32:58,457 - root - DEBUG - 24 waiting at 180\n",
      "2021-09-12 12:32:58,457 - root - DEBUG - 30 processing at 180\n",
      "2021-09-12 12:32:58,457 - root - DEBUG - __exit__\n",
      "2021-09-12 12:32:58,458 - root - DEBUG - exc_type {exc_type} exc_val {exc_val} exc_tb {exc_tb}\n",
      "2021-09-12 12:32:58,458 - root - DEBUG - received release resource - amount 10 at 180\n",
      "2021-09-12 12:32:58,458 - root - DEBUG - level (available) 220 at 180\n",
      "2021-09-12 12:32:58,458 - root - DEBUG - 24 waiting at 180\n",
      "2021-09-12 12:32:58,458 - root - DEBUG - 20 processing at 180\n",
      "2021-09-12 12:32:58,459 - root - DEBUG - __exit__\n",
      "2021-09-12 12:32:58,459 - root - DEBUG - exc_type {exc_type} exc_val {exc_val} exc_tb {exc_tb}\n",
      "2021-09-12 12:32:58,459 - root - DEBUG - received release resource - amount 10 at 180\n",
      "2021-09-12 12:32:58,459 - root - DEBUG - level (available) 230 at 180\n",
      "2021-09-12 12:32:58,459 - root - DEBUG - 24 waiting at 180\n",
      "2021-09-12 12:32:58,459 - root - DEBUG - 10 processing at 180\n",
      "2021-09-12 12:32:58,460 - root - DEBUG - __exit__\n",
      "2021-09-12 12:32:58,460 - root - DEBUG - exc_type {exc_type} exc_val {exc_val} exc_tb {exc_tb}\n",
      "2021-09-12 12:32:58,460 - root - DEBUG - received release resource - amount 10 at 180\n",
      "2021-09-12 12:32:58,460 - root - DEBUG - level (available) 240 at 180\n",
      "2021-09-12 12:32:58,460 - root - DEBUG - 24 waiting at 180\n",
      "2021-09-12 12:32:58,461 - root - DEBUG - 0 processing at 180\n",
      "2021-09-12 12:32:58,461 - root - DEBUG - __exit__\n",
      "2021-09-12 12:32:58,461 - root - DEBUG - exc_type {exc_type} exc_val {exc_val} exc_tb {exc_tb}\n",
      "2021-09-12 12:32:58,461 - root - DEBUG - received release resource - amount 5 at 180\n",
      "2021-09-12 12:32:58,461 - root - DEBUG - level (available) 240 at 180\n",
      "2021-09-12 12:32:58,462 - root - DEBUG - 24 waiting at 180\n",
      "2021-09-12 12:32:58,462 - root - DEBUG - 0 processing at 180\n",
      "2021-09-12 12:32:58,462 - root - DEBUG - __exit__\n",
      "2021-09-12 12:32:58,462 - root - DEBUG - exc_type {exc_type} exc_val {exc_val} exc_tb {exc_tb}\n",
      "2021-09-12 12:32:58,463 - root - DEBUG - received release resource - amount 5 at 180\n",
      "2021-09-12 12:32:58,463 - root - DEBUG - level (available) 240 at 180\n",
      "2021-09-12 12:32:58,463 - root - DEBUG - 24 waiting at 180\n",
      "2021-09-12 12:32:58,463 - root - DEBUG - 0 processing at 180\n",
      "2021-09-12 12:32:58,463 - root - DEBUG - __exit__\n",
      "2021-09-12 12:32:58,464 - root - DEBUG - exc_type {exc_type} exc_val {exc_val} exc_tb {exc_tb}\n",
      "2021-09-12 12:32:58,464 - root - DEBUG - received release resource - amount 40 at 180\n",
      "2021-09-12 12:32:58,464 - root - DEBUG - level (available) 240 at 180\n",
      "2021-09-12 12:32:58,464 - root - DEBUG - 24 waiting at 180\n",
      "2021-09-12 12:32:58,464 - root - DEBUG - 0 processing at 180\n",
      "2021-09-12 12:32:58,465 - root - DEBUG - __exit__\n",
      "2021-09-12 12:32:58,465 - root - DEBUG - exc_type {exc_type} exc_val {exc_val} exc_tb {exc_tb}\n",
      "2021-09-12 12:32:58,465 - root - DEBUG - received release resource - amount 10 at 180\n",
      "2021-09-12 12:32:58,465 - root - DEBUG - level (available) 240 at 180\n",
      "2021-09-12 12:32:58,465 - root - DEBUG - 24 waiting at 180\n",
      "2021-09-12 12:32:58,466 - root - DEBUG - 0 processing at 180\n",
      "2021-09-12 12:32:58,466 - root - DEBUG - __exit__\n",
      "2021-09-12 12:32:58,466 - root - DEBUG - exc_type {exc_type} exc_val {exc_val} exc_tb {exc_tb}\n",
      "2021-09-12 12:32:58,466 - root - DEBUG - received release resource - amount 5 at 180\n",
      "2021-09-12 12:32:58,466 - root - DEBUG - level (available) 240 at 180\n",
      "2021-09-12 12:32:58,467 - root - DEBUG - 24 waiting at 180\n",
      "2021-09-12 12:32:58,467 - root - DEBUG - 0 processing at 180\n",
      "2021-09-12 12:32:58,467 - root - DEBUG - __exit__\n",
      "2021-09-12 12:32:58,467 - root - DEBUG - exc_type {exc_type} exc_val {exc_val} exc_tb {exc_tb}\n",
      "2021-09-12 12:32:58,467 - root - DEBUG - received release resource - amount 5 at 180\n",
      "2021-09-12 12:32:58,468 - root - DEBUG - level (available) 240 at 180\n",
      "2021-09-12 12:32:58,468 - root - DEBUG - 24 waiting at 180\n",
      "2021-09-12 12:32:58,468 - root - DEBUG - 0 processing at 180\n",
      "2021-09-12 12:32:58,468 - root - DEBUG - __exit__\n",
      "2021-09-12 12:32:58,468 - root - DEBUG - exc_type {exc_type} exc_val {exc_val} exc_tb {exc_tb}\n",
      "2021-09-12 12:32:58,468 - root - DEBUG - received release resource - amount 5 at 180\n",
      "2021-09-12 12:32:58,469 - root - DEBUG - level (available) 240 at 180\n",
      "2021-09-12 12:32:58,469 - root - DEBUG - 24 waiting at 180\n",
      "2021-09-12 12:32:58,469 - root - DEBUG - 0 processing at 180\n",
      "2021-09-12 12:32:58,469 - root - DEBUG - __exit__\n",
      "2021-09-12 12:32:58,470 - root - DEBUG - exc_type {exc_type} exc_val {exc_val} exc_tb {exc_tb}\n",
      "2021-09-12 12:32:58,470 - root - DEBUG - received release resource - amount 10 at 180\n",
      "2021-09-12 12:32:58,470 - root - DEBUG - level (available) 240 at 180\n",
      "2021-09-12 12:32:58,470 - root - DEBUG - 24 waiting at 180\n",
      "2021-09-12 12:32:58,471 - root - DEBUG - 0 processing at 180\n",
      "2021-09-12 12:32:58,471 - root - DEBUG - __exit__\n",
      "2021-09-12 12:32:58,471 - root - DEBUG - exc_type {exc_type} exc_val {exc_val} exc_tb {exc_tb}\n",
      "2021-09-12 12:32:58,471 - root - DEBUG - received release resource - amount 5 at 180\n",
      "2021-09-12 12:32:58,471 - root - DEBUG - level (available) 240 at 180\n",
      "2021-09-12 12:32:58,472 - root - DEBUG - 24 waiting at 180\n",
      "2021-09-12 12:32:58,472 - root - DEBUG - 0 processing at 180\n",
      "2021-09-12 12:32:58,472 - root - DEBUG - __exit__\n",
      "2021-09-12 12:32:58,472 - root - DEBUG - exc_type {exc_type} exc_val {exc_val} exc_tb {exc_tb}\n",
      "2021-09-12 12:32:58,472 - root - DEBUG - received release resource - amount 5 at 180\n",
      "2021-09-12 12:32:58,472 - root - DEBUG - level (available) 240 at 180\n",
      "2021-09-12 12:32:58,473 - root - DEBUG - 24 waiting at 180\n",
      "2021-09-12 12:32:58,473 - root - DEBUG - 0 processing at 180\n",
      "2021-09-12 12:32:58,473 - root - DEBUG - __exit__\n",
      "2021-09-12 12:32:58,473 - root - DEBUG - exc_type {exc_type} exc_val {exc_val} exc_tb {exc_tb}\n",
      "2021-09-12 12:32:58,473 - root - DEBUG - received release resource - amount 5 at 180\n",
      "2021-09-12 12:32:58,474 - root - DEBUG - level (available) 240 at 180\n",
      "2021-09-12 12:32:58,474 - root - DEBUG - 24 waiting at 180\n",
      "2021-09-12 12:32:58,474 - root - DEBUG - 0 processing at 180\n",
      "2021-09-12 12:32:58,474 - root - DEBUG - __exit__\n",
      "2021-09-12 12:32:58,474 - root - DEBUG - exc_type {exc_type} exc_val {exc_val} exc_tb {exc_tb}\n",
      "2021-09-12 12:32:58,475 - root - DEBUG - received release resource - amount 5 at 180\n",
      "2021-09-12 12:32:58,475 - root - DEBUG - level (available) 240 at 180\n",
      "2021-09-12 12:32:58,475 - root - DEBUG - 24 waiting at 180\n",
      "2021-09-12 12:32:58,475 - root - DEBUG - 0 processing at 180\n",
      "2021-09-12 12:32:58,475 - root - DEBUG - __exit__\n",
      "2021-09-12 12:32:58,476 - root - DEBUG - exc_type {exc_type} exc_val {exc_val} exc_tb {exc_tb}\n",
      "2021-09-12 12:32:58,476 - root - DEBUG - received release resource - amount 5 at 180\n",
      "2021-09-12 12:32:58,476 - root - DEBUG - level (available) 240 at 180\n",
      "2021-09-12 12:32:58,476 - root - DEBUG - 24 waiting at 180\n",
      "2021-09-12 12:32:58,476 - root - DEBUG - 0 processing at 180\n",
      "2021-09-12 12:32:58,476 - root - DEBUG - __exit__\n",
      "2021-09-12 12:32:58,477 - root - DEBUG - exc_type {exc_type} exc_val {exc_val} exc_tb {exc_tb}\n",
      "2021-09-12 12:32:58,477 - root - DEBUG - received release resource - amount 5 at 180\n",
      "2021-09-12 12:32:58,477 - root - DEBUG - level (available) 240 at 180\n",
      "2021-09-12 12:32:58,478 - root - DEBUG - 24 waiting at 180\n",
      "2021-09-12 12:32:58,478 - root - DEBUG - 0 processing at 180\n",
      "2021-09-12 12:32:58,478 - root - DEBUG - __exit__\n",
      "2021-09-12 12:32:58,478 - root - DEBUG - exc_type {exc_type} exc_val {exc_val} exc_tb {exc_tb}\n",
      "2021-09-12 12:32:58,478 - root - DEBUG - received release resource - amount 5 at 180\n",
      "2021-09-12 12:32:58,478 - root - DEBUG - level (available) 240 at 180\n",
      "2021-09-12 12:32:58,479 - root - DEBUG - 24 waiting at 180\n",
      "2021-09-12 12:32:58,479 - root - DEBUG - 0 processing at 180\n",
      "2021-09-12 12:32:58,479 - root - DEBUG - __exit__\n",
      "2021-09-12 12:32:58,479 - root - DEBUG - exc_type {exc_type} exc_val {exc_val} exc_tb {exc_tb}\n",
      "2021-09-12 12:32:58,479 - root - DEBUG - received release resource - amount 5 at 180\n",
      "2021-09-12 12:32:58,480 - root - DEBUG - level (available) 240 at 180\n",
      "2021-09-12 12:32:58,480 - root - DEBUG - 24 waiting at 180\n",
      "2021-09-12 12:32:58,480 - root - DEBUG - 0 processing at 180\n",
      "2021-09-12 12:32:58,480 - root - DEBUG - __exit__\n",
      "2021-09-12 12:32:58,480 - root - DEBUG - exc_type {exc_type} exc_val {exc_val} exc_tb {exc_tb}\n",
      "2021-09-12 12:32:58,481 - root - DEBUG - received release resource - amount 5 at 180\n",
      "2021-09-12 12:32:58,481 - root - DEBUG - level (available) 240 at 180\n",
      "2021-09-12 12:32:58,481 - root - DEBUG - 24 waiting at 180\n",
      "2021-09-12 12:32:58,481 - root - DEBUG - 0 processing at 180\n",
      "2021-09-12 12:32:58,481 - root - DEBUG - __exit__\n",
      "2021-09-12 12:32:58,482 - root - DEBUG - exc_type {exc_type} exc_val {exc_val} exc_tb {exc_tb}\n",
      "2021-09-12 12:32:58,482 - root - DEBUG - received release resource - amount 5 at 180\n",
      "2021-09-12 12:32:58,482 - root - DEBUG - level (available) 240 at 180\n",
      "2021-09-12 12:32:58,482 - root - DEBUG - 24 waiting at 180\n",
      "2021-09-12 12:32:58,482 - root - DEBUG - 0 processing at 180\n",
      "2021-09-12 12:32:58,483 - root - DEBUG - __exit__\n",
      "2021-09-12 12:32:58,483 - root - DEBUG - exc_type {exc_type} exc_val {exc_val} exc_tb {exc_tb}\n",
      "2021-09-12 12:32:58,483 - root - DEBUG - received release resource - amount 5 at 180\n",
      "2021-09-12 12:32:58,483 - root - DEBUG - level (available) 240 at 180\n",
      "2021-09-12 12:32:58,483 - root - DEBUG - 24 waiting at 180\n",
      "2021-09-12 12:32:58,484 - root - DEBUG - 0 processing at 180\n",
      "2021-09-12 12:32:58,484 - root - DEBUG - __exit__\n",
      "2021-09-12 12:32:58,484 - root - DEBUG - exc_type {exc_type} exc_val {exc_val} exc_tb {exc_tb}\n",
      "2021-09-12 12:32:58,484 - root - DEBUG - received release resource - amount 40 at 180\n",
      "2021-09-12 12:32:58,484 - root - DEBUG - level (available) 240 at 180\n",
      "2021-09-12 12:32:58,485 - root - DEBUG - 24 waiting at 180\n",
      "2021-09-12 12:32:58,485 - root - DEBUG - 0 processing at 180\n",
      "2021-09-12 12:32:58,485 - root - DEBUG - __exit__\n",
      "2021-09-12 12:32:58,486 - root - DEBUG - exc_type {exc_type} exc_val {exc_val} exc_tb {exc_tb}\n",
      "2021-09-12 12:32:58,486 - root - DEBUG - received release resource - amount 10 at 180\n",
      "2021-09-12 12:32:58,486 - root - DEBUG - level (available) 240 at 180\n",
      "2021-09-12 12:32:58,486 - root - DEBUG - 24 waiting at 180\n",
      "2021-09-12 12:32:58,486 - root - DEBUG - 0 processing at 180\n",
      "2021-09-12 12:32:58,487 - root - DEBUG - __exit__\n",
      "2021-09-12 12:32:58,487 - root - DEBUG - exc_type {exc_type} exc_val {exc_val} exc_tb {exc_tb}\n",
      "2021-09-12 12:32:58,487 - root - DEBUG - received release resource - amount 5 at 180\n",
      "2021-09-12 12:32:58,487 - root - DEBUG - level (available) 240 at 180\n",
      "2021-09-12 12:32:58,487 - root - DEBUG - 24 waiting at 180\n",
      "2021-09-12 12:32:58,487 - root - DEBUG - 0 processing at 180\n",
      "2021-09-12 12:32:58,488 - root - DEBUG - __exit__\n",
      "2021-09-12 12:32:58,488 - root - DEBUG - exc_type {exc_type} exc_val {exc_val} exc_tb {exc_tb}\n",
      "2021-09-12 12:32:58,488 - root - DEBUG - received release resource - amount 5 at 180\n",
      "2021-09-12 12:32:58,488 - root - DEBUG - level (available) 240 at 180\n",
      "2021-09-12 12:32:58,488 - root - DEBUG - 24 waiting at 180\n",
      "2021-09-12 12:32:58,489 - root - DEBUG - 0 processing at 180\n",
      "2021-09-12 12:32:58,603 - root - INFO - creating simulation\n",
      "2021-09-12 12:32:58,604 - root - INFO - Clock created - base 1631442778.604829\n",
      "2021-09-12 12:32:58,605 - root - INFO - create resource with capacity 80\n",
      "2021-09-12 12:32:58,606 - root - INFO - initial level 80\n",
      "2021-09-12 12:32:58,606 - root - INFO - creating user generator for 60 users\n",
      "2021-09-12 12:32:58,607 - root - INFO - creating agent\n",
      "2021-09-12 12:32:58,611 - root - INFO - starting simulation\n",
      "2021-09-12 12:32:58,611 - root - INFO - user created User-001\n",
      "2021-09-12 12:32:58,613 - root - INFO - user created User-002\n",
      "2021-09-12 12:32:58,613 - root - INFO - user created User-003\n",
      "2021-09-12 12:32:58,614 - root - INFO - user created User-004\n",
      "2021-09-12 12:32:58,614 - root - INFO - user created User-005\n",
      "2021-09-12 12:32:58,615 - root - INFO - user created User-006\n",
      "2021-09-12 12:32:58,615 - root - INFO - user created User-007\n",
      "2021-09-12 12:32:58,616 - root - INFO - user created User-008\n",
      "2021-09-12 12:32:58,616 - root - INFO - user created User-009\n",
      "2021-09-12 12:32:58,617 - root - INFO - user created User-010\n",
      "2021-09-12 12:32:58,617 - root - INFO - user created User-011\n",
      "2021-09-12 12:32:58,618 - root - INFO - user created User-012\n",
      "2021-09-12 12:32:58,618 - root - INFO - user created User-013\n",
      "2021-09-12 12:32:58,619 - root - INFO - user created User-014\n",
      "2021-09-12 12:32:58,620 - root - INFO - user created User-015\n",
      "2021-09-12 12:32:58,620 - root - INFO - user created User-016\n",
      "2021-09-12 12:32:58,621 - root - INFO - user created User-017\n",
      "2021-09-12 12:32:58,621 - root - INFO - user created User-018\n",
      "2021-09-12 12:32:58,622 - root - INFO - user created User-019\n",
      "2021-09-12 12:32:58,622 - root - INFO - user created User-020\n",
      "2021-09-12 12:32:58,623 - root - INFO - user created User-021\n",
      "2021-09-12 12:32:58,623 - root - INFO - user created User-022\n",
      "2021-09-12 12:32:58,624 - root - INFO - user created User-023\n",
      "2021-09-12 12:32:58,625 - root - INFO - user created User-024\n",
      "2021-09-12 12:32:58,625 - root - INFO - user created User-025\n",
      "2021-09-12 12:32:58,626 - root - INFO - user created User-026\n",
      "2021-09-12 12:32:58,627 - root - INFO - user created User-027\n",
      "2021-09-12 12:32:58,628 - root - INFO - user created User-028\n",
      "2021-09-12 12:32:58,628 - root - INFO - user created User-029\n",
      "2021-09-12 12:32:58,629 - root - INFO - user created User-030\n",
      "2021-09-12 12:32:58,629 - root - INFO - user created User-031\n",
      "2021-09-12 12:32:58,630 - root - INFO - user created User-032\n",
      "2021-09-12 12:32:58,630 - root - INFO - user created User-033\n",
      "2021-09-12 12:32:58,631 - root - INFO - user created User-034\n",
      "2021-09-12 12:32:58,631 - root - INFO - user created User-035\n",
      "2021-09-12 12:32:58,632 - root - INFO - user created User-036\n",
      "2021-09-12 12:32:58,632 - root - INFO - user created User-037\n",
      "2021-09-12 12:32:58,633 - root - INFO - user created User-038\n",
      "2021-09-12 12:32:58,633 - root - INFO - user created User-039\n",
      "2021-09-12 12:32:58,634 - root - INFO - user created User-040\n",
      "2021-09-12 12:32:58,634 - root - INFO - user created User-041\n",
      "2021-09-12 12:32:58,635 - root - INFO - user created User-042\n",
      "2021-09-12 12:32:58,635 - root - INFO - user created User-043\n",
      "2021-09-12 12:32:58,636 - root - INFO - user created User-044\n",
      "2021-09-12 12:32:58,637 - root - INFO - user created User-045\n",
      "2021-09-12 12:32:58,637 - root - INFO - user created User-046\n",
      "2021-09-12 12:32:58,638 - root - INFO - user created User-047\n",
      "2021-09-12 12:32:58,638 - root - INFO - user created User-048\n",
      "2021-09-12 12:32:58,639 - root - INFO - user created User-049\n",
      "2021-09-12 12:32:58,639 - root - INFO - user created User-050\n",
      "2021-09-12 12:32:58,640 - root - INFO - user created User-051\n",
      "2021-09-12 12:32:58,640 - root - INFO - user created User-052\n",
      "2021-09-12 12:32:58,641 - root - INFO - user created User-053\n",
      "2021-09-12 12:32:58,641 - root - INFO - user created User-054\n",
      "2021-09-12 12:32:58,642 - root - INFO - user created User-055\n",
      "2021-09-12 12:32:58,643 - root - INFO - user created User-056\n",
      "2021-09-12 12:32:58,643 - root - INFO - user created User-057\n",
      "2021-09-12 12:32:58,644 - root - INFO - user created User-058\n",
      "2021-09-12 12:32:58,644 - root - INFO - user created User-059\n",
      "2021-09-12 12:32:58,645 - root - INFO - user created User-060\n",
      "2:58,489 - root - DEBUG - 0 processing at 180\n",
      "2021-09-12 12:32:58,603 - root - INFO - creating simulation\n",
      "2021-09-12 12:32:58,604 - root - INFO - Clock created - base 1631442778.604829\n",
      "2021-09-12 12:32:58,605 - root - INFO - create resource with capacity 80\n",
      "2021-09-12 12:32:58,606 - root - INFO - initial level 80\n",
      "2021-09-12 12:32:58,606 - root - INFO - creating user generator for 60 users\n",
      "2021-09-12 12:32:58,607 - root - INFO - creating agent\n",
      "2021-09-12 12:32:58,611 - root - INFO - starting simulation\n",
      "2021-09-12 12:32:58,611 - root - INFO - user created User-001\n",
      "2021-09-12 12:32:58,613 - root - INFO - user created User-002\n",
      "2021-09-12 12:32:58,613 - root - INFO - user created User-003\n",
      "2021-09-12 12:32:58,614 - root - INFO - user created User-004\n",
      "2021-09-12 12:32:58,614 - root - INFO - user created User-005\n",
      "2021-09-12 12:32:58,615 - root - INFO - user created User-006\n",
      "2021-09-12 12:32:58,615 - root - INFO - user created User-007\n",
      "2021-09-12 12:32:58,616 - root - INFO - user created User-008\n",
      "2021-09-12 12:32:58,616 - root - INFO - user created User-009\n",
      "2021-09-12 12:32:58,617 - root - INFO - user created User-010\n",
      "2021-09-12 12:32:58,617 - root - INFO - user created User-011\n",
      "2021-09-12 12:32:58,618 - root - INFO - user created User-012\n",
      "2021-09-12 12:32:58,618 - root - INFO - user created User-013\n",
      "2021-09-12 12:32:58,619 - root - INFO - user created User-014\n",
      "2021-09-12 12:32:58,620 - root - INFO - user created User-015\n",
      "2021-09-12 12:32:58,620 - root - INFO - user created User-016\n",
      "2021-09-12 12:32:58,621 - root - INFO - user created User-017\n",
      "2021-09-12 12:32:58,621 - root - INFO - user created User-018\n",
      "2021-09-12 12:32:58,622 - root - INFO - user created User-019\n",
      "2021-09-12 12:32:58,622 - root - INFO - user created User-020\n",
      "2021-09-12 12:32:58,623 - root - INFO - user created User-021\n",
      "2021-09-12 12:32:58,623 - root - INFO - user created User-022\n",
      "2021-09-12 12:32:58,624 - root - INFO - user created User-023\n",
      "2021-09-12 12:32:58,625 - root - INFO - user created User-024\n",
      "2021-09-12 12:32:58,625 - root - INFO - user created User-025\n",
      "2021-09-12 12:32:58,626 - root - INFO - user created User-026\n",
      "2021-09-12 12:32:58,627 - root - INFO - user created User-027\n",
      "2021-09-12 12:32:58,628 - root - INFO - user created User-028\n",
      "2021-09-12 12:32:58,628 - root - INFO - user created User-029\n",
      "2021-09-12 12:32:58,629 - root - INFO - user created User-030\n",
      "2021-09-12 12:32:58,629 - root - INFO - user created User-031\n",
      "2021-09-12 12:32:58,630 - root - INFO - user created User-032\n",
      "2021-09-12 12:32:58,630 - root - INFO - user created User-033\n",
      "2021-09-12 12:32:58,631 - root - INFO - user created User-034\n",
      "2021-09-12 12:32:58,631 - root - INFO - user created User-035\n",
      "2021-09-12 12:32:58,632 - root - INFO - user created User-036\n",
      "2021-09-12 12:32:58,632 - root - INFO - user created User-037\n",
      "2021-09-12 12:32:58,633 - root - INFO - user created User-038\n",
      "2021-09-12 12:32:58,633 - root - INFO - user created User-039\n",
      "2021-09-12 12:32:58,634 - root - INFO - user created User-040\n",
      "2021-09-12 12:32:58,634 - root - INFO - user created User-041\n",
      "2021-09-12 12:32:58,635 - root - INFO - user created User-042\n",
      "2021-09-12 12:32:58,635 - root - INFO - user created User-043\n",
      "2021-09-12 12:32:58,636 - root - INFO - user created User-044\n",
      "2021-09-12 12:32:58,637 - root - INFO - user created User-045\n",
      "2021-09-12 12:32:58,637 - root - INFO - user created User-046\n",
      "2021-09-12 12:32:58,638 - root - INFO - user created User-047\n",
      "2021-09-12 12:32:58,638 - root - INFO - user created User-048\n",
      "2021-09-12 12:32:58,639 - root - INFO - user created User-049\n",
      "2021-09-12 12:32:58,639 - root - INFO - user created User-050\n",
      "2021-09-12 12:32:58,640 - root - INFO - user created User-051\n",
      "2021-09-12 12:32:58,640 - root - INFO - user created User-052\n",
      "2021-09-12 12:32:58,641 - root - INFO - user created User-053\n",
      "2021-09-12 12:32:58,641 - root - INFO - user created User-054\n",
      "2021-09-12 12:32:58,642 - root - INFO - user created User-055\n",
      "2021-09-12 12:32:58,643 - root - INFO - user created User-056\n",
      "2021-09-12 12:32:58,643 - root - INFO - user created User-057\n",
      "2021-09-12 12:32:58,644 - root - INFO - user created User-058\n",
      "2021-09-12 12:32:58,644 - root - INFO - user created User-059\n",
      "2021-09-12 12:32:58,645 - root - INFO - user created User-060\n",
      "2:58,489 - root - DEBUG - 0 processing at 180\n",
      "2021-09-12 12:32:58,603 - root - INFO - creating simulation\n",
      "2021-09-12 12:32:58,604 - root - INFO - Clock created - base 1631442778.604829\n",
      "2021-09-12 12:32:58,605 - root - INFO - create resource with capacity 80\n",
      "2021-09-12 12:32:58,606 - root - INFO - initial level 80\n",
      "2021-09-12 12:32:58,606 - root - INFO - creating user generator for 60 users\n",
      "2021-09-12 12:32:58,607 - root - INFO - creating agent\n",
      "2021-09-12 12:32:58,611 - root - INFO - starting simulation\n",
      "2021-09-12 12:32:58,611 - root - INFO - user created User-001\n",
      "2021-09-12 12:32:58,613 - root - INFO - user created User-002\n",
      "2021-09-12 12:32:58,613 - root - INFO - user created User-003\n",
      "2021-09-12 12:32:58,614 - root - INFO - user created User-004\n",
      "2021-09-12 12:32:58,614 - root - INFO - user created User-005\n",
      "2021-09-12 12:32:58,615 - root - INFO - user created User-006\n",
      "2021-09-12 12:32:58,615 - root - INFO - user created User-007\n",
      "2021-09-12 12:32:58,616 - root - INFO - user created User-008\n",
      "2021-09-12 12:32:58,616 - root - INFO - user created User-009\n",
      "2021-09-12 12:32:58,617 - root - INFO - user created User-010\n",
      "2021-09-12 12:32:58,617 - root - INFO - user created User-011\n",
      "2021-09-12 12:32:58,618 - root - INFO - user created User-012\n",
      "2021-09-12 12:32:58,618 - root - INFO - user created User-013\n",
      "2021-09-12 12:32:58,619 - root - INFO - user created User-014\n",
      "2021-09-12 12:32:58,620 - root - INFO - user created User-015\n",
      "2021-09-12 12:32:58,620 - root - INFO - user created User-016\n",
      "2021-09-12 12:32:58,621 - root - INFO - user created User-017\n",
      "2021-09-12 12:32:58,621 - root - INFO - user created User-018\n",
      "2021-09-12 12:32:58,622 - root - INFO - user created User-019\n",
      "2021-09-12 12:32:58,622 - root - INFO - user created User-020\n",
      "2021-09-12 12:32:58,623 - root - INFO - user created User-021\n",
      "2021-09-12 12:32:58,623 - root - INFO - user created User-022\n",
      "2021-09-12 12:32:58,624 - root - INFO - user created User-023\n",
      "2021-09-12 12:32:58,625 - root - INFO - user created User-024\n",
      "2021-09-12 12:32:58,625 - root - INFO - user created User-025\n",
      "2021-09-12 12:32:58,626 - root - INFO - user created User-026\n",
      "2021-09-12 12:32:58,627 - root - INFO - user created User-027\n",
      "2021-09-12 12:32:58,628 - root - INFO - user created User-028\n",
      "2021-09-12 12:32:58,628 - root - INFO - user created User-029\n",
      "2021-09-12 12:32:58,629 - root - INFO - user created User-030\n",
      "2021-09-12 12:32:58,629 - root - INFO - user created User-031\n",
      "2021-09-12 12:32:58,630 - root - INFO - user created User-032\n",
      "2021-09-12 12:32:58,630 - root - INFO - user created User-033\n",
      "2021-09-12 12:32:58,631 - root - INFO - user created User-034\n",
      "2021-09-12 12:32:58,631 - root - INFO - user created User-035\n",
      "2021-09-12 12:32:58,632 - root - INFO - user created User-036\n",
      "2021-09-12 12:32:58,632 - root - INFO - user created User-037\n",
      "2021-09-12 12:32:58,633 - root - INFO - user created User-038\n",
      "2021-09-12 12:32:58,633 - root - INFO - user created User-039\n",
      "2021-09-12 12:32:58,634 - root - INFO - user created User-040\n",
      "2021-09-12 12:32:58,634 - root - INFO - user created User-041\n",
      "2021-09-12 12:32:58,635 - root - INFO - user created User-042\n",
      "2021-09-12 12:32:58,635 - root - INFO - user created User-043\n",
      "2021-09-12 12:32:58,636 - root - INFO - user created User-044\n",
      "2021-09-12 12:32:58,637 - root - INFO - user created User-045\n",
      "2021-09-12 12:32:58,637 - root - INFO - user created User-046\n",
      "2021-09-12 12:32:58,638 - root - INFO - user created User-047\n",
      "2021-09-12 12:32:58,638 - root - INFO - user created User-048\n",
      "2021-09-12 12:32:58,639 - root - INFO - user created User-049\n",
      "2021-09-12 12:32:58,639 - root - INFO - user created User-050\n",
      "2021-09-12 12:32:58,640 - root - INFO - user created User-051\n",
      "2021-09-12 12:32:58,640 - root - INFO - user created User-052\n",
      "2021-09-12 12:32:58,641 - root - INFO - user created User-053\n",
      "2021-09-12 12:32:58,641 - root - INFO - user created User-054\n",
      "2021-09-12 12:32:58,642 - root - INFO - user created User-055\n",
      "2021-09-12 12:32:58,643 - root - INFO - user created User-056\n",
      "2021-09-12 12:32:58,643 - root - INFO - user created User-057\n",
      "2021-09-12 12:32:58,644 - root - INFO - user created User-058\n",
      "2021-09-12 12:32:58,644 - root - INFO - user created User-059\n",
      "2021-09-12 12:32:58,645 - root - INFO - user created User-060\n",
      "ted User-022\n",
      "2021-09-12 12:32:58,624 - root - INFO - user created User-023\n",
      "2021-09-12 12:32:58,625 - root - INFO - user created User-024\n",
      "2021-09-12 12:32:58,625 - root - INFO - user created User-025\n",
      "2021-09-12 12:32:58,626 - root - INFO - user created User-026\n",
      "2021-09-12 12:32:58,627 - root - INFO - user created User-027\n",
      "2021-09-12 12:32:58,628 - root - INFO - user created User-028\n",
      "2021-09-12 12:32:58,628 - root - INFO - user created User-029\n",
      "2021-09-12 12:32:58,629 - root - INFO - user created User-030\n",
      "2021-09-12 12:32:58,629 - root - INFO - user created User-031\n",
      "2021-09-12 12:32:58,630 - root - INFO - user created User-032\n",
      "2021-09-12 12:32:58,630 - root - INFO - user created User-033\n",
      "2021-09-12 12:32:58,631 - root - INFO - user created User-034\n",
      "2021-09-12 12:32:58,631 - root - INFO - user created User-035\n",
      "2021-09-12 12:32:58,632 - root - INFO - user created User-036\n",
      "2021-09-12 12:32:58,632 - root - INFO - user created User-037\n",
      "2021-09-12 12:32:58,633 - root - INFO - user created User-038\n",
      "2021-09-12 12:32:58,633 - root - INFO - user created User-039\n",
      "2021-09-12 12:32:58,634 - root - INFO - user created User-040\n",
      "2021-09-12 12:32:58,634 - root - INFO - user created User-041\n",
      "2021-09-12 12:32:58,635 - root - INFO - user created User-042\n",
      "2021-09-12 12:32:58,635 - root - INFO - user created User-043\n",
      "2021-09-12 12:32:58,636 - root - INFO - user created User-044\n",
      "2021-09-12 12:32:58,637 - root - INFO - user created User-045\n",
      "2021-09-12 12:32:58,637 - root - INFO - user created User-046\n",
      "2021-09-12 12:32:58,638 - root - INFO - user created User-047\n",
      "2021-09-12 12:32:58,638 - root - INFO - user created User-048\n",
      "2021-09-12 12:32:58,639 - root - INFO - user created User-049\n",
      "2021-09-12 12:32:58,639 - root - INFO - user created User-050\n",
      "2021-09-12 12:32:58,640 - root - INFO - user created User-051\n",
      "2021-09-12 12:32:58,640 - root - INFO - user created User-052\n",
      "2021-09-12 12:32:58,641 - root - INFO - user created User-053\n",
      "2021-09-12 12:32:58,641 - root - INFO - user created User-054\n",
      "2021-09-12 12:32:58,642 - root - INFO - user created User-055\n",
      "2021-09-12 12:32:58,643 - root - INFO - user created User-056\n",
      "2021-09-12 12:32:58,643 - root - INFO - user created User-057\n",
      "2021-09-12 12:32:58,644 - root - INFO - user created User-058\n",
      "2021-09-12 12:32:58,644 - root - INFO - user created User-059\n",
      "2021-09-12 12:32:58,645 - root - INFO - user created User-060\n",
      "ed User-022\n",
      "2021-09-12 12:32:58,624 - root - INFO - user created User-023\n",
      "2021-09-12 12:32:58,625 - root - INFO - user created User-024\n",
      "2021-09-12 12:32:58,625 - root - INFO - user created User-025\n",
      "2021-09-12 12:32:58,626 - root - INFO - user created User-026\n",
      "2021-09-12 12:32:58,627 - root - INFO - user created User-027\n",
      "2021-09-12 12:32:58,628 - root - INFO - user created User-028\n",
      "2021-09-12 12:32:58,628 - root - INFO - user created User-029\n",
      "2021-09-12 12:32:58,629 - root - INFO - user created User-030\n",
      "2021-09-12 12:32:58,629 - root - INFO - user created User-031\n",
      "2021-09-12 12:32:58,630 - root - INFO - user created User-032\n",
      "2021-09-12 12:32:58,630 - root - INFO - user created User-033\n",
      "2021-09-12 12:32:58,631 - root - INFO - user created User-034\n",
      "2021-09-12 12:32:58,631 - root - INFO - user created User-035\n",
      "2021-09-12 12:32:58,632 - root - INFO - user created User-036\n",
      "2021-09-12 12:32:58,632 - root - INFO - user created User-037\n",
      "2021-09-12 12:32:58,633 - root - INFO - user created User-038\n",
      "2021-09-12 12:32:58,633 - root - INFO - user created User-039\n",
      "2021-09-12 12:32:58,634 - root - INFO - user created User-040\n",
      "2021-09-12 12:32:58,634 - root - INFO - user created User-041\n",
      "2021-09-12 12:32:58,635 - root - INFO - user created User-042\n",
      "2021-09-12 12:32:58,635 - root - INFO - user created User-043\n",
      "2021-09-12 12:32:58,636 - root - INFO - user created User-044\n",
      "2021-09-12 12:32:58,637 - root - INFO - user created User-045\n",
      "2021-09-12 12:32:58,637 - root - INFO - user created User-046\n",
      "2021-09-12 12:32:58,638 - root - INFO - user created User-047\n",
      "2021-09-12 12:32:58,638 - root - INFO - user created User-048\n",
      "2021-09-12 12:32:58,639 - root - INFO - user created User-049\n",
      "2021-09-12 12:32:58,639 - root - INFO - user created User-050\n",
      "2021-09-12 12:32:58,640 - root - INFO - user created User-051\n",
      "2021-09-12 12:32:58,640 - root - INFO - user created User-052\n",
      "2021-09-12 12:32:58,641 - root - INFO - user created User-053\n",
      "2021-09-12 12:32:58,641 - root - INFO - user created User-054\n",
      "2021-09-12 12:32:58,642 - root - INFO - user created User-055\n",
      "2021-09-12 12:32:58,643 - root - INFO - user created User-056\n",
      "2021-09-12 12:32:58,643 - root - INFO - user created User-057\n",
      "2021-09-12 12:32:58,644 - root - INFO - user created User-058\n",
      "2021-09-12 12:32:58,644 - root - INFO - user created User-059\n",
      "2021-09-12 12:32:58,645 - root - INFO - user created User-060\n",
      "ted User-022\n",
      "2021-09-12 12:32:58,624 - root - INFO - user created User-023\n",
      "2021-09-12 12:32:58,625 - root - INFO - user created User-024\n",
      "2021-09-12 12:32:58,625 - root - INFO - user created User-025\n",
      "2021-09-12 12:32:58,626 - root - INFO - user created User-026\n",
      "2021-09-12 12:32:58,627 - root - INFO - user created User-027\n",
      "2021-09-12 12:32:58,628 - root - INFO - user created User-028\n",
      "2021-09-12 12:32:58,628 - root - INFO - user created User-029\n",
      "2021-09-12 12:32:58,629 - root - INFO - user created User-030\n",
      "2021-09-12 12:32:58,629 - root - INFO - user created User-031\n",
      "2021-09-12 12:32:58,630 - root - INFO - user created User-032\n",
      "2021-09-12 12:32:58,630 - root - INFO - user created User-033\n",
      "2021-09-12 12:32:58,631 - root - INFO - user created User-034\n",
      "2021-09-12 12:32:58,631 - root - INFO - user created User-035\n",
      "2021-09-12 12:32:58,632 - root - INFO - user created User-036\n",
      "2021-09-12 12:32:58,632 - root - INFO - user created User-037\n",
      "2021-09-12 12:32:58,633 - root - INFO - user created User-038\n",
      "2021-09-12 12:32:58,633 - root - INFO - user created User-039\n",
      "2021-09-12 12:32:58,634 - root - INFO - user created User-040\n",
      "2021-09-12 12:32:58,634 - root - INFO - user created User-041\n",
      "2021-09-12 12:32:58,635 - root - INFO - user created User-042\n",
      "2021-09-12 12:32:58,635 - root - INFO - user created User-043\n",
      "2021-09-12 12:32:58,636 - root - INFO - user created User-044\n",
      "2021-09-12 12:32:58,637 - root - INFO - user created User-045\n",
      "2021-09-12 12:32:58,637 - root - INFO - user created User-046\n",
      "2021-09-12 12:32:58,638 - root - INFO - user created User-047\n",
      "2021-09-12 12:32:58,638 - root - INFO - user created User-048\n",
      "2021-09-12 12:32:58,639 - root - INFO - user created User-049\n",
      "2021-09-12 12:32:58,639 - root - INFO - user created User-050\n",
      "2021-09-12 12:32:58,640 - root - INFO - user created User-051\n",
      "2021-09-12 12:32:58,640 - root - INFO - user created User-052\n",
      "2021-09-12 12:32:58,641 - root - INFO - user created User-053\n",
      "2021-09-12 12:32:58,641 - root - INFO - user created User-054\n",
      "2021-09-12 12:32:58,642 - root - INFO - user created User-055\n",
      "2021-09-12 12:32:58,643 - root - INFO - user created User-056\n",
      "2021-09-12 12:32:58,643 - root - INFO - user created User-057\n",
      "2021-09-12 12:32:58,644 - root - INFO - user created User-058\n",
      "2021-09-12 12:32:58,644 - root - INFO - user created User-059\n",
      "2021-09-12 12:32:58,645 - root - INFO - user created User-060\n",
      "ted User-052\n",
      "2021-09-12 12:32:58,641 - root - INFO - user created User-053\n",
      "2021-09-12 12:32:58,641 - root - INFO - user created User-054\n",
      "2021-09-12 12:32:58,642 - root - INFO - user created User-055\n",
      "2021-09-12 12:32:58,643 - root - INFO - user created User-056\n",
      "2021-09-12 12:32:58,643 - root - INFO - user created User-057\n",
      "2021-09-12 12:32:58,644 - root - INFO - user created User-058\n",
      "2021-09-12 12:32:58,644 - root - INFO - user created User-059\n",
      "2021-09-12 12:32:58,645 - root - INFO - user created User-060\n",
      "ted User-022\n",
      "2021-09-12 12:32:58,624 - root - INFO - user created User-023\n",
      "2021-09-12 12:32:58,625 - root - INFO - user created User-024\n",
      "2021-09-12 12:32:58,625 - root - INFO - user created User-025\n",
      "2021-09-12 12:32:58,626 - root - INFO - user created User-026\n",
      "2021-09-12 12:32:58,627 - root - INFO - user created User-027\n",
      "2021-09-12 12:32:58,628 - root - INFO - user created User-028\n",
      "2021-09-12 12:32:58,628 - root - INFO - user created User-029\n",
      "2021-09-12 12:32:58,629 - root - INFO - user created User-030\n",
      "2021-09-12 12:32:58,629 - root - INFO - user created User-031\n",
      "2021-09-12 12:32:58,630 - root - INFO - user created User-032\n",
      "2021-09-12 12:32:58,630 - root - INFO - user created User-033\n",
      "2021-09-12 12:32:58,631 - root - INFO - user created User-034\n",
      "2021-09-12 12:32:58,631 - root - INFO - user created User-035\n",
      "2021-09-12 12:32:58,632 - root - INFO - user created User-036\n",
      "2021-09-12 12:32:58,632 - root - INFO - user created User-037\n",
      "2021-09-12 12:32:58,633 - root - INFO - user created User-038\n",
      "2021-09-12 12:32:58,633 - root - INFO - user created User-039\n",
      "2021-09-12 12:32:58,634 - root - INFO - user created User-040\n",
      "2021-09-12 12:32:58,634 - root - INFO - user created User-041\n",
      "2021-09-12 12:32:58,635 - root - INFO - user created User-042\n",
      "2021-09-12 12:32:58,635 - root - INFO - user created User-043\n",
      "2021-09-12 12:32:58,636 - root - INFO - user created User-044\n",
      "2021-09-12 12:32:58,637 - root - INFO - user created User-045\n",
      "2021-09-12 12:32:58,637 - root - INFO - user created User-046\n",
      "2021-09-12 12:32:58,638 - root - INFO - user created User-047\n",
      "2021-09-12 12:32:58,638 - root - INFO - user created User-048\n",
      "2021-09-12 12:32:58,639 - root - INFO - user created User-049\n",
      "2021-09-12 12:32:58,639 - root - INFO - user created User-050\n",
      "2021-09-12 12:32:58,640 - root - INFO - user created User-051\n",
      "2021-09-12 12:32:58,640 - root - INFO - user created User-052\n",
      "2021-09-12 12:32:58,641 - root - INFO - user created User-053\n",
      "2021-09-12 12:32:58,641 - root - INFO - user created User-054\n",
      "2021-09-12 12:32:58,642 - root - INFO - user created User-055\n",
      "2021-09-12 12:32:58,643 - root - INFO - user created User-056\n",
      "2021-09-12 12:32:58,643 - root - INFO - user created User-057\n",
      "2021-09-12 12:32:58,644 - root - INFO - user created User-058\n",
      "2021-09-12 12:32:58,644 - root - INFO - user created User-059\n",
      "2021-09-12 12:32:58,645 - root - INFO - user created User-060\n",
      "ted User-022\n",
      "2021-09-12 12:32:58,624 - root - INFO - user created User-023\n",
      "2021-09-12 12:32:58,625 - root - INFO - user created User-024\n",
      "2021-09-12 12:32:58,625 - root - INFO - user created User-025\n",
      "2021-09-12 12:32:58,626 - root - INFO - user created User-026\n",
      "2021-09-12 12:32:58,627 - root - INFO - user created User-027\n",
      "2021-09-12 12:32:58,628 - root - INFO - user created User-028\n",
      "2021-09-12 12:32:58,628 - root - INFO - user created User-029\n",
      "2021-09-12 12:32:58,629 - root - INFO - user created User-030\n",
      "2021-09-12 12:32:58,629 - root - INFO - user created User-031\n",
      "2021-09-12 12:32:58,630 - root - INFO - user created User-032\n",
      "2021-09-12 12:32:58,630 - root - INFO - user created User-033\n",
      "2021-09-12 12:32:58,631 - root - INFO - user created User-034\n",
      "2021-09-12 12:32:58,631 - root - INFO - user created User-035\n",
      "2021-09-12 12:32:58,632 - root - INFO - user created User-036\n",
      "2021-09-12 12:32:58,632 - root - INFO - user created User-037\n",
      "2021-09-12 12:32:58,633 - root - INFO - user created User-038\n",
      "2021-09-12 12:32:58,633 - root - INFO - user created User-039\n",
      "2021-09-12 12:32:58,634 - root - INFO - user created User-040\n",
      "2021-09-12 12:32:58,634 - root - INFO - user created User-041\n",
      "2021-09-12 12:32:58,635 - root - INFO - user created User-042\n",
      "2021-09-12 12:32:58,635 - root - INFO - user created User-043\n",
      "2021-09-12 12:32:58,636 - root - INFO - user created User-044\n",
      "2021-09-12 12:32:58,637 - root - INFO - user created User-045\n",
      "2021-09-12 12:32:58,637 - root - INFO - user created User-046\n",
      "2021-09-12 12:32:58,638 - root - INFO - user created User-047\n",
      "2021-09-12 12:32:58,638 - root - INFO - user created User-048\n",
      "2021-09-12 12:32:58,639 - root - INFO - user created User-049\n",
      "2021-09-12 12:32:58,639 - root - INFO - user created User-050\n",
      "2021-09-12 12:32:58,640 - root - INFO - user created User-051\n",
      "2021-09-12 12:32:58,640 - root - INFO - user created User-052\n",
      "2021-09-12 12:32:58,641 - root - INFO - user created User-053\n",
      "2021-09-12 12:32:58,641 - root - INFO - user created User-054\n",
      "2021-09-12 12:32:58,642 - root - INFO - user created User-055\n",
      "2021-09-12 12:32:58,643 - root - INFO - user created User-056\n",
      "2021-09-12 12:32:58,643 - root - INFO - user created User-057\n",
      "2021-09-12 12:32:58,644 - root - INFO - user created User-058\n",
      "2021-09-12 12:32:58,644 - root - INFO - user created User-059\n",
      "2021-09-12 12:32:58,645 - root - INFO - user created User-060\n",
      "ted User-022\n",
      "2021-09-12 12:32:58,624 - root - INFO - user created User-023\n",
      "2021-09-12 12:32:58,625 - root - INFO - user created User-024\n",
      "2021-09-12 12:32:58,625 - root - INFO - user created User-025\n",
      "2021-09-12 12:32:58,626 - root - INFO - user created User-026\n",
      "2021-09-12 12:32:58,627 - root - INFO - user created User-027\n",
      "2021-09-12 12:32:58,628 - root - INFO - user created User-028\n",
      "2021-09-12 12:32:58,628 - root - INFO - user created User-029\n",
      "2021-09-12 12:32:58,629 - root - INFO - user created User-030\n",
      "2021-09-12 12:32:58,629 - root - INFO - user created User-031\n",
      "2021-09-12 12:32:58,630 - root - INFO - user created User-032\n",
      "2021-09-12 12:32:58,630 - root - INFO - user created User-033\n",
      "2021-09-12 12:32:58,631 - root - INFO - user created User-034\n",
      "2021-09-12 12:32:58,631 - root - INFO - user created User-035\n",
      "2021-09-12 12:32:58,632 - root - INFO - user created User-036\n",
      "2021-09-12 12:32:58,632 - root - INFO - user created User-037\n",
      "2021-09-12 12:32:58,633 - root - INFO - user created User-038\n",
      "2021-09-12 12:32:58,633 - root - INFO - user created User-039\n",
      "2021-09-12 12:32:58,634 - root - INFO - user created User-040\n",
      "2021-09-12 12:32:58,634 - root - INFO - user created User-041\n",
      "2021-09-12 12:32:58,635 - root - INFO - user created User-042\n",
      "2021-09-12 12:32:58,635 - root - INFO - user created User-043\n",
      "2021-09-12 12:32:58,636 - root - INFO - user created User-044\n",
      "2021-09-12 12:32:58,637 - root - INFO - user created User-045\n",
      "2021-09-12 12:32:58,637 - root - INFO - user created User-046\n",
      "2021-09-12 12:32:58,638 - root - INFO - user created User-047\n",
      "2021-09-12 12:32:58,638 - root - INFO - user created User-048\n",
      "2021-09-12 12:32:58,639 - root - INFO - user created User-049\n",
      "2021-09-12 12:32:58,639 - root - INFO - user created User-050\n",
      "2021-09-12 12:32:58,640 - root - INFO - user created User-051\n",
      "2021-09-12 12:32:58,640 - root - INFO - user created User-052\n",
      "2021-09-12 12:32:58,641 - root - INFO - user created User-053\n",
      "2021-09-12 12:32:58,641 - root - INFO - user created User-054\n",
      "2021-09-12 12:32:58,642 - root - INFO - user created User-055\n",
      "2021-09-12 12:32:58,643 - root - INFO - user created User-056\n",
      "2021-09-12 12:32:58,643 - root - INFO - user created User-057\n",
      "2021-09-12 12:32:58,644 - root - INFO - user created User-058\n",
      "2021-09-12 12:32:58,644 - root - INFO - user created User-059\n",
      "2021-09-12 12:32:58,645 - root - INFO - user created User-060\n",
      "ted User-022\n",
      "2021-09-12 12:32:58,624 - root - INFO - user created User-023\n",
      "2021-09-12 12:32:58,625 - root - INFO - user created User-024\n",
      "2021-09-12 12:32:58,625 - root - INFO - user created User-025\n",
      "2021-09-12 12:32:58,626 - root - INFO - user created User-026\n",
      "2021-09-12 12:32:58,627 - root - INFO - user created User-027\n",
      "2021-09-12 12:32:58,628 - root - INFO - user created User-028\n",
      "2021-09-12 12:32:58,628 - root - INFO - user created User-029\n",
      "2021-09-12 12:32:58,629 - root - INFO - user created User-030\n",
      "2021-09-12 12:32:58,629 - root - INFO - user created User-031\n",
      "2021-09-12 12:32:58,630 - root - INFO - user created User-032\n",
      "2021-09-12 12:32:58,630 - root - INFO - user created User-033\n",
      "2021-09-12 12:32:58,631 - root - INFO - user created User-034\n",
      "2021-09-12 12:32:58,631 - root - INFO - user created User-035\n",
      "2021-09-12 12:32:58,632 - root - INFO - user created User-036\n",
      "2021-09-12 12:32:58,632 - root - INFO - user created User-037\n",
      "2021-09-12 12:32:58,633 - root - INFO - user created User-038\n",
      "2021-09-12 12:32:58,633 - root - INFO - user created User-039\n",
      "2021-09-12 12:32:58,634 - root - INFO - user created User-040\n",
      "2021-09-12 12:32:58,634 - root - INFO - user created User-041\n",
      "2021-09-12 12:32:58,635 - root - INFO - user created User-042\n",
      "2021-09-12 12:32:58,635 - root - INFO - user created User-043\n",
      "2021-09-12 12:32:58,636 - root - INFO - user created User-044\n",
      "2021-09-12 12:32:58,637 - root - INFO - user created User-045\n",
      "2021-09-12 12:32:58,637 - root - INFO - user created User-046\n",
      "2021-09-12 12:32:58,638 - root - INFO - user created User-047\n",
      "2021-09-12 12:32:58,638 - root - INFO - user created User-048\n",
      "2021-09-12 12:32:58,639 - root - INFO - user created User-049\n",
      "2021-09-12 12:32:58,639 - root - INFO - user created User-050\n",
      "2021-09-12 12:32:58,640 - root - INFO - user created User-051\n",
      "2021-09-12 12:32:58,640 - root - INFO - user created User-052\n",
      "2021-09-12 12:32:58,641 - root - INFO - user created User-053\n",
      "2021-09-12 12:32:58,641 - root - INFO - user created User-054\n",
      "2021-09-12 12:32:58,642 - root - INFO - user created User-055\n",
      "2021-09-12 12:32:58,643 - root - INFO - user created User-056\n",
      "2021-09-12 12:32:58,643 - root - INFO - user created User-057\n",
      "2021-09-12 12:32:58,644 - root - INFO - user created User-058\n",
      "2021-09-12 12:32:58,644 - root - INFO - user created User-059\n",
      "2021-09-12 12:32:58,645 - root - INFO - user created User-060\n",
      "ted User-022\n",
      "2021-09-12 12:32:58,624 - root - INFO - user created User-023\n",
      "2021-09-12 12:32:58,625 - root - INFO - user created User-024\n",
      "2021-09-12 12:32:58,625 - root - INFO - user created User-025\n",
      "2021-09-12 12:32:58,626 - root - INFO - user created User-026\n",
      "2021-09-12 12:32:58,627 - root - INFO - user created User-027\n",
      "2021-09-12 12:32:58,628 - root - INFO - user created User-028\n",
      "2021-09-12 12:32:58,628 - root - INFO - user created User-029\n",
      "2021-09-12 12:32:58,629 - root - INFO - user created User-030\n",
      "2021-09-12 12:32:58,629 - root - INFO - user created User-031\n",
      "2021-09-12 12:32:58,630 - root - INFO - user created User-032\n",
      "2021-09-12 12:32:58,630 - root - INFO - user created User-033\n",
      "2021-09-12 12:32:58,631 - root - INFO - user created User-034\n",
      "2021-09-12 12:32:58,631 - root - INFO - user created User-035\n",
      "2021-09-12 12:32:58,632 - root - INFO - user created User-036\n",
      "2021-09-12 12:32:58,632 - root - INFO - user created User-037\n",
      "2021-09-12 12:32:58,633 - root - INFO - user created User-038\n",
      "2021-09-12 12:32:58,633 - root - INFO - user created User-039\n",
      "2021-09-12 12:32:58,634 - root - INFO - user created User-040\n",
      "2021-09-12 12:32:58,634 - root - INFO - user created User-041\n",
      "2021-09-12 12:32:58,635 - root - INFO - user created User-042\n",
      "2021-09-12 12:32:58,635 - root - INFO - user created User-043\n",
      "2021-09-12 12:32:58,636 - root - INFO - user created User-044\n",
      "2021-09-12 12:32:58,637 - root - INFO - user created User-045\n",
      "2021-09-12 12:32:58,637 - root - INFO - user created User-046\n",
      "2021-09-12 12:32:58,638 - root - INFO - user created User-047\n",
      "2021-09-12 12:32:58,638 - root - INFO - user created User-048\n",
      "2021-09-12 12:32:58,639 - root - INFO - user created User-049\n",
      "2021-09-12 12:32:58,639 - root - INFO - user created User-050\n",
      "2021-09-12 12:32:58,640 - root - INFO - user created User-051\n",
      "2021-09-12 12:32:58,640 - root - INFO - user created User-052\n",
      "2021-09-12 12:32:58,641 - root - INFO - user created User-053\n",
      "2021-09-12 12:32:58,641 - root - INFO - user created User-054\n",
      "2021-09-12 12:32:58,642 - root - INFO - user created User-055\n",
      "2021-09-12 12:32:58,643 - root - INFO - user created User-056\n",
      "2021-09-12 12:32:58,643 - root - INFO - user created User-057\n",
      "2021-09-12 12:32:58,644 - root - INFO - user created User-058\n",
      "2021-09-12 12:32:58,644 - root - INFO - user created User-059\n",
      "2021-09-12 12:32:58,645 - root - INFO - user created User-060\n",
      "\n"
     ]
    }
   ],
   "source": [
    "with open(log_filename) as log:\n",
    "            print(log.read())"
   ]
  },
  {
   "cell_type": "code",
   "execution_count": null,
   "metadata": {},
   "outputs": [],
   "source": []
  }
 ],
 "metadata": {
  "kernelspec": {
   "display_name": "Python 3",
   "language": "python",
   "name": "python3"
  },
  "language_info": {
   "codemirror_mode": {
    "name": "ipython",
    "version": 3
   },
   "file_extension": ".py",
   "mimetype": "text/x-python",
   "name": "python",
   "nbconvert_exporter": "python",
   "pygments_lexer": "ipython3",
   "version": "3.7.3"
  }
 },
 "nbformat": 4,
 "nbformat_minor": 2
}
