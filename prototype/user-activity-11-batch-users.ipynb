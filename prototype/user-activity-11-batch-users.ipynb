{
 "cells": [
  {
   "cell_type": "markdown",
   "metadata": {},
   "source": [
    "# Configuration"
   ]
  },
  {
   "cell_type": "code",
   "execution_count": 35,
   "metadata": {},
   "outputs": [],
   "source": [
    "nb_users = 60\n",
    "resource_capacity = 80\n",
    "sim_duration = 360 # 1 = 1 mn"
   ]
  },
  {
   "cell_type": "code",
   "execution_count": 36,
   "metadata": {},
   "outputs": [],
   "source": [
    "#debug\n",
    "#nb_users = 1\n",
    "#resource_capacity = 80\n",
    "#sim_duration = 180 # 1 = 1 mn"
   ]
  },
  {
   "cell_type": "code",
   "execution_count": 37,
   "metadata": {},
   "outputs": [],
   "source": [
    "session_configuration = \"\"\"\\\n",
    "session:\n",
    "    name: nominal test\n",
    "    scenarios:\n",
    "        - name: Sc1\n",
    "          weight: 2\n",
    "          steps:\n",
    "                loop:\n",
    "                    tasks:\n",
    "                        - name: step 1\n",
    "                          duration: 10\n",
    "                          resources : 5   \n",
    "                          wait: 30\n",
    "\n",
    "\"\"\"\n",
    "\n"
   ]
  },
  {
   "cell_type": "markdown",
   "metadata": {},
   "source": [
    "# Functions"
   ]
  },
  {
   "cell_type": "code",
   "execution_count": 38,
   "metadata": {},
   "outputs": [
    {
     "name": "stdout",
     "output_type": "stream",
     "text": [
      "Requirement already satisfied: simpy in /Users/cfalguiere/anaconda3/lib/python3.7/site-packages (4.0.1)\r\n",
      "Requirement already satisfied: plotly in /Users/cfalguiere/anaconda3/lib/python3.7/site-packages (5.3.1)\r\n",
      "Requirement already satisfied: tenacity>=6.2.0 in /Users/cfalguiere/anaconda3/lib/python3.7/site-packages (from plotly) (8.0.1)\r\n",
      "Requirement already satisfied: six in /Users/cfalguiere/anaconda3/lib/python3.7/site-packages (from plotly) (1.12.0)\r\n"
     ]
    }
   ],
   "source": [
    "!pip install simpy plotly"
   ]
  },
  {
   "cell_type": "markdown",
   "metadata": {},
   "source": [
    "### Refactoring Goal\n",
    "- randomization of tasks duration\n",
    "- structure of user scenario\n"
   ]
  },
  {
   "cell_type": "code",
   "execution_count": 39,
   "metadata": {},
   "outputs": [],
   "source": [
    "import simpy\n",
    "import datetime\n",
    "import pandas as pd\n",
    "import plotly.express as px\n",
    "import logging\n",
    "from enum import Enum\n",
    "\n",
    "import random\n",
    "from itertools import repeat\n",
    "\n",
    "# new\n",
    "from ruamel.yaml import YAML\n"
   ]
  },
  {
   "cell_type": "code",
   "execution_count": 40,
   "metadata": {},
   "outputs": [],
   "source": [
    "log_filename = \"logs-10.log\"\n",
    "mainLogger = logging.getLogger()\n",
    "mainLogger = logging.getLogger()\n",
    "fhandler = logging.FileHandler(filename=log_filename, mode='w')\n",
    "formatter = logging.Formatter('%(asctime)s - %(name)s - %(levelname)s - %(message)s')\n",
    "fhandler.setFormatter(formatter)\n",
    "mainLogger.addHandler(fhandler)\n",
    "mainLogger.setLevel(logging.DEBUG)\n",
    "mainLogger.debug(\"test\")"
   ]
  },
  {
   "cell_type": "code",
   "execution_count": 41,
   "metadata": {},
   "outputs": [],
   "source": [
    "class Metric(Enum):\n",
    "    RW = \"Requests Waiting\"\n",
    "    BS = \"Busy Slots\"\n",
    "    AU = \"Active Users\""
   ]
  },
  {
   "cell_type": "code",
   "execution_count": 42,
   "metadata": {},
   "outputs": [],
   "source": [
    "class Scenario1_old:\n",
    "    def __init__(self):\n",
    "        self.name = \"Sc1\"\n",
    "        self.tasks = []\n",
    "        self.tasks.append( \n",
    "            { 'Name': \"Process-1\",\n",
    "              'Duration': 5,\n",
    "              'Res': 10\n",
    "            })        \n",
    "        self.tasks.append( \n",
    "            { 'Name': \"Verify-1\",\n",
    "              'Duration': 2\n",
    "            })\n",
    "\n",
    "class Scenario2_old:\n",
    "    def __init__(self):\n",
    "        self.name = \"Sc2\"\n",
    "        self.tasks = []\n",
    "        self.tasks.append( \n",
    "            { 'Name': \"Process-2.1\",\n",
    "              'Duration': 2,\n",
    "              'Res': 5\n",
    "            })        \n",
    "        self.tasks.append( \n",
    "            { 'Name': \"Verify-2.1\",\n",
    "              'Duration': 1\n",
    "            })\n",
    "        self.tasks.append( \n",
    "            { 'Name': \"Wait-2.1\",\n",
    "              'Duration': 1\n",
    "            })\n",
    "        self.tasks.append( \n",
    "            { 'Name': \"Process-2.2\",\n",
    "              'Duration': 3,\n",
    "              'Res': 5\n",
    "            })        \n",
    "        self.tasks.append( \n",
    "            { 'Name': \"Verify-2.2\",\n",
    "              'Duration': 1\n",
    "            })\n",
    "        \n",
    "class Scenario3_old:\n",
    "    def __init__(self):\n",
    "        self.name = \"Sc3\"\n",
    "        self.tasks = []\n",
    "        self.tasks.append( \n",
    "            { 'Name': \"Process-1\",\n",
    "              'Duration': 8,\n",
    "              'Res': 40\n",
    "            })        \n",
    "        self.tasks.append( \n",
    "            { 'Name': \"Verify-1\",\n",
    "              'Duration': 2\n",
    "            })\n",
    "\n"
   ]
  },
  {
   "cell_type": "code",
   "execution_count": 43,
   "metadata": {},
   "outputs": [],
   "source": [
    "class User:\n",
    "    def __init__(self, id, scenario, world):\n",
    "        self.id = id\n",
    "        self.scenario = scenario\n",
    "        self._world = world\n",
    "        self.taskid = 0 # new\n",
    "        self.create()\n",
    "        # Start the run process everytime an instance is created.\n",
    "        # create itself as a processs\n",
    "        self.action = self._world.env.process(self.run())\n",
    "\n",
    "    def create(self):\n",
    "        self.enteringAt = self._world.env.now\n",
    "        self.name = \"User-%03d\" % self.id\n",
    "        mainLogger.info(f\"user created {self.name}\")\n",
    "        self._world.user_monitor.report_new_user(self)\n",
    "\n",
    "    def run_old(self):\n",
    "        while True:\n",
    "            self.taskid += 1\n",
    "            for task in self.scenario.tasks:\n",
    "                taskname = task['Name']\n",
    "                task_duration = task['Duration']\n",
    "                mark = self._world.env.now\n",
    "                mainLogger.debug(f\"{self.name} starts task {taskname} at %d\" % mark)\n",
    "\n",
    "                if 'Res' in task:\n",
    "                    self._world.user_monitor.report_start(\n",
    "                            self.name, \n",
    "                            self.scenario, #new\n",
    "                            taskname, \n",
    "                            self.taskid)\n",
    "                    # We yield the process that process() returns\n",
    "                    # to wait for it to finish\n",
    "                    amount = task['Res']\n",
    "                    yield self._world.env.process(self.process_task(task_duration, amount))\n",
    "                    #yield self._world.env.process(self.process_task(task_duration))\n",
    "                    self._world.user_monitor.report_stop(\n",
    "                            self.name, \n",
    "                            self.scenario, #new\n",
    "                            taskname, \n",
    "                            self.taskid)\n",
    "                else:\n",
    "                    # wait some time even if no tracked\n",
    "                    yield self._world.env.timeout(task_duration)\n",
    "\n",
    "                mainLogger.debug(f\"{self.name} ends task {taskname} at %d\" % mark)\n",
    "\n",
    "    def run(self):\n",
    "        scenario = self.scenario\n",
    "        mainLogger.debug(f\"entering scenario: {scenario['name']}\")\n",
    "        mainLogger.debug(f\"steps: {scenario['steps']}\")\n",
    "        if 'init' in scenario['steps']:\n",
    "            mainLogger.debug(\"has init\") \n",
    "            mainLogger.debug(\"run_step_tasks init\")\n",
    "            process = self.run_step_tasks(scenario['steps']['init']['tasks'])\n",
    "            yield self._world.env.process(process)             \n",
    "\n",
    "        if 'loop' in scenario['steps']:\n",
    "            mainLogger.debug(\"has loop\")\n",
    "            step_loop = scenario['steps']['loop']\n",
    "            if 'repeat' in step_loop:\n",
    "                counter = 0\n",
    "                while counter < step_loop['repeat']:\n",
    "                    mainLogger.debug(\"run_step_tasks loop\")\n",
    "                    process = self.run_step_tasks(scenario['steps']['loop']['tasks'])\n",
    "                    yield self._world.env.process(process)             \n",
    "                    counter += 1\n",
    "            else:\n",
    "                mainLogger.debug(\"run_step_tasks loop infinite\")\n",
    "                process = self.run_step_tasks(scenario['steps']['loop']['tasks'])\n",
    "                yield self._world.env.process(process)             \n",
    "\n",
    "        if 'finally' in scenario['steps']:\n",
    "            mainLogger.debug(\"has finally\")\n",
    "            mainLogger.debug(\"run_step_tasks finally\")\n",
    "            process = self.run_step_tasks(scenario['steps']['finally']['tasks'])\n",
    "            yield self._world.env.process(process)             \n",
    "\n",
    "    def run_step_tasks(self, tasks):\n",
    "        mainLogger.debug(f\"entering run_step_tasks {tasks}\")\n",
    "        for task in tasks:\n",
    "            mainLogger.debug(f\"run_step_tasks::task: {task}\")\n",
    "            yield self._world.env.process(self.run_task(task))\n",
    "\n",
    "    def run_task(self, task):\n",
    "        mainLogger.debug(f\"entering run_task {task} id:{self.taskid}\")\n",
    "        max_count = 1\n",
    "        if 'repeat' in task:\n",
    "            max_count = task['repeat']\n",
    "        counter = 0\n",
    "        while counter < max_count:\n",
    "            self.taskid += 1\n",
    "            mainLogger.debug(f\"run task {task['name']} for {task['duration']}\")\n",
    "            if 'resources' in task:\n",
    "                res_amount = task['resources']\n",
    "                if 'parallel' in task:\n",
    "                    mainLogger.debug(f\"run_task::in parallel\")\n",
    "                    res_amount = res_amount * task['parallel']\n",
    "                mainLogger.debug(f\"task resources amount {res_amount}\")\n",
    "                self._world.user_monitor.report_start(\n",
    "                        self.name, \n",
    "                        self.scenario['name'],\n",
    "                        task['name'], \n",
    "                        self.taskid)\n",
    "                process = self.process_task(task['duration'], res_amount)\n",
    "                yield self._world.env.process(process)\n",
    "                self._world.user_monitor.report_stop(\n",
    "                        self.name, \n",
    "                        self.scenario['name'], \n",
    "                        task['name'], \n",
    "                        self.taskid)\n",
    "                mainLogger.debug(f\"task processing completed\")\n",
    "            else:\n",
    "                mainLogger.debug(f\"wait after task for {task['duration']}\")\n",
    "                yield self._world.env.timeout(task['duration'])\n",
    "                mainLogger.debug(f\"wait after task completed\")\n",
    "                            \n",
    "            if 'wait' in task:\n",
    "                mainLogger.debug(f\"manual task for {task['wait']}\")\n",
    "                yield self._world.env.timeout(task['wait'])\n",
    "                mainLogger.debug(f\"manual task completed\")\n",
    "            \n",
    "            # increment counter                    \n",
    "            counter += 1\n",
    "                  \n",
    "    def process_task(self, duration, amount):\n",
    "        mainLogger.debug(f\"entering process task at %d\" % self._world.env.now)\n",
    "        with Job(self._world.res,amount) as req:\n",
    "            yield req\n",
    "            yield self._world.env.timeout(duration)\n",
    "        mainLogger.debug(f\"exiting process task at %d\" % self._world.env.now)\n",
    "\n"
   ]
  },
  {
   "cell_type": "code",
   "execution_count": 44,
   "metadata": {},
   "outputs": [],
   "source": [
    "class Clock:\n",
    "    def __init__(self):\n",
    "        self.base_epoch = datetime.datetime.now().timestamp()\n",
    "        mainLogger.info(f\"Clock created - base {self.base_epoch}\")\n",
    "\n",
    "    def to_date(self, tick):\n",
    "        epoch_time = self.base_epoch + tick*60 #mn\n",
    "        datetime_time = datetime.datetime.fromtimestamp(epoch_time)\n",
    "        return datetime_time"
   ]
  },
  {
   "cell_type": "code",
   "execution_count": 45,
   "metadata": {},
   "outputs": [],
   "source": [
    "class UsersMonitor:\n",
    "    def __init__(self, world):\n",
    "        self._world = world # new\n",
    "        # init parameters are self reported\n",
    "        # start and stop events\n",
    "        self.start_data = []\n",
    "        self.stop_data = []\n",
    "        # list of users\n",
    "        self.users = []\n",
    "        \n",
    "    def report_new_user(self, user):\n",
    "        self.users.append(user)            \n",
    "        \n",
    "    #def report_start(self, username, taskname, taskid):\n",
    "    def report_start(self, username, scenarioname, taskname, taskid):\n",
    "        mark = self._world.env.now\n",
    "        self.start_data.append(\n",
    "            dict(  \n",
    "                StartMark=mark,\n",
    "                Start=world.clock.to_date(mark),\n",
    "                Username=username,\n",
    "                Scenario=scenarioname, # new\n",
    "                Task=taskname,\n",
    "                TaskId=taskid\n",
    "            )\n",
    "        )       \n",
    "        \n",
    "    #def report_stop(self, username, taskname, taskid):\n",
    "    def report_stop(self, username, scenarioname, taskname, taskid):\n",
    "        mark = self._world.env.now\n",
    "        self.stop_data.append(\n",
    "            dict(  \n",
    "                FinishMark=mark,\n",
    "                Finish=world.clock.to_date(mark),\n",
    "                Username=username,\n",
    "                Scenario=scenarioname, # new\n",
    "                Task=taskname,\n",
    "                TaskId=taskid\n",
    "            )\n",
    "        )\n",
    "        \n",
    "                \n",
    "    def collect(self):\n",
    "        df_start = pd.DataFrame(self.start_data)\n",
    "        df_stop = pd.DataFrame(self.stop_data)\n",
    "        df = pd.merge(df_start, df_stop, how='left', \n",
    "                      on = ['Username', 'Scenario', 'Task', 'TaskId'])\n",
    "        df['Duration'] = df['FinishMark'] - df['StartMark']\n",
    "        return df\n"
   ]
  },
  {
   "cell_type": "code",
   "execution_count": 46,
   "metadata": {},
   "outputs": [],
   "source": [
    "# wake up every tick and collect\n",
    "class UsersGenerator:\n",
    "    def __init__(self, world, max_nb_users=10):\n",
    "        self._world = world\n",
    "        self._max_nb_users = max_nb_users\n",
    "        mainLogger.info(\"creating user generator for %s users\", self._max_nb_users)\n",
    "        self.data = []\n",
    "        self.active_users = []\n",
    "        self.user_count = 0\n",
    "        # this will be used as a process\n",
    "        self.action = world.env.process(self.run())\n",
    "        # new - moves in world \n",
    "        #random.shuffle(self._world.scenarios)\n",
    "\n",
    "    def run(self):\n",
    "        while True:\n",
    "\n",
    "            if self.user_count < self._max_nb_users:\n",
    "                for counter in range(1,4):  # batch size\n",
    "                    self.create_user()\n",
    "        \n",
    "            self.report()\n",
    "\n",
    "            tick_duration = 1\n",
    "            yield self._world.env.timeout(tick_duration)\n",
    "\n",
    "    def create_user(self):\n",
    "\n",
    "        # new - replaced method\n",
    "        #scenario = random.choice(self._world.scenarios)\n",
    "        # never run rare scenarios\n",
    "        \n",
    "        # count start at base 0\n",
    "        #i_scenario = self.user_count % len(scenarios)\n",
    "        #scenario = self._world.scenarios[i_scenario]\n",
    " \n",
    "        #new - first get scenario index in randomized list \n",
    "        # count start at base 0\n",
    "        #i_scenario = self.user_count % len(scenarios)\n",
    "        #scenario = self._world.scenarios[i_scenario]\n",
    "\n",
    "        i_scenario_index = self.user_count % len(self._world.scenarios_index)\n",
    "        i_scenario = self._world.scenarios_index[i_scenario_index]\n",
    "        scenario = self._world.scenarios[i_scenario]\n",
    "    \n",
    "        # first user is labelled -001\n",
    "        self.user_count += 1\n",
    "        user = User(self.user_count, \n",
    "                    scenario,\n",
    "                    self._world)\n",
    "        self.active_users.append(user)\n",
    "        mark = self._world.env.now\n",
    "        mainLogger.debug(f\"{len(self.active_users)} active users at %d\" % mark)\n",
    "        \n",
    "    def report(self):\n",
    "        mark = self._world.env.now\n",
    "        active_users_count = len(self.active_users)\n",
    "\n",
    "        self.data.append(\n",
    "            dict(  \n",
    "                Mark=mark,\n",
    "                Timestamp=self._world.clock.to_date(mark),\n",
    "                Metric=Metric.AU.value,\n",
    "                Value=active_users_count\n",
    "            )\n",
    "        )       \n",
    "        \n",
    "    \n",
    "    def collect(self):\n",
    "        return pd.DataFrame(self.data)\n"
   ]
  },
  {
   "cell_type": "code",
   "execution_count": 47,
   "metadata": {},
   "outputs": [],
   "source": [
    "class Job:\n",
    "    def __init__(self, res, items=1):\n",
    "        self.res = res\n",
    "        self.items = items\n",
    "        mainLogger.debug(f\"creating job with amount {self.items}\")\n",
    "        \n",
    "    def __enter__(self):\n",
    "        mainLogger.debug(\"__enter__\" )\n",
    "        return self.res.get(self.items).__enter__()\n",
    "\n",
    "    def __exit__(self, exc_type, exc_val, exc_tb):\n",
    "        mainLogger.debug(\"__exit__\" )\n",
    "        mainLogger.debug(\"exc_type {exc_type} exc_val {exc_val} exc_tb {exc_tb}\" )\n",
    "        self.res.put(self.items).__exit__(exc_type, exc_val, exc_tb)\n"
   ]
  },
  {
   "cell_type": "code",
   "execution_count": 48,
   "metadata": {},
   "outputs": [],
   "source": [
    "class SystemResource(simpy.resources.container.Container):\n",
    "    def __init__(self, *args, **kwargs):\n",
    "        super().__init__(*args, **kwargs)\n",
    "        mainLogger.info(f\"create resource with capacity {self.capacity}\")\n",
    "        self.processing_data = []\n",
    "        self.waiting_data = []\n",
    "        mainLogger.info(f\"initial level {self.level}\")\n",
    "\n",
    "    def get(self, *args, **kwargs):\n",
    "        amount = args[0]\n",
    "        mainLogger.debug(f\"received request resource - amount {amount} at %d\" % self._env.now)\n",
    "        mainLogger.debug(f\"level (available) {self.level} at %d\" % self._env.now)\n",
    "        mainLogger.debug(f\"{len(self.get_queue)} waiting at %d\" % self._env.now)\n",
    "        mainLogger.debug(f\"{self.used()} processing at %d\" % self._env.now)\n",
    "        self.processing_data.append((self._env.now, self.used()))\n",
    "        self.waiting_data.append((self._env.now, len(self.get_queue)))\n",
    "        return super().get(*args, **kwargs)\n",
    "\n",
    "    def put(self, *args, **kwargs):\n",
    "        amount = args[0]\n",
    "        mainLogger.debug(f\"received release resource - amount {amount} at %d\" % self._env.now)\n",
    "        mainLogger.debug(f\"level (available) {self.level} at %d\" % self._env.now)\n",
    "        mainLogger.debug(f\"{len(self.get_queue)} waiting at %d\" % self._env.now)\n",
    "        mainLogger.debug(f\"{self.used()} processing at %d\" % self._env.now)\n",
    "        self.processing_data.append((self._env.now, self.used()))\n",
    "        self.waiting_data.append((self._env.now, len(self.get_queue)))\n",
    "        return super().put(*args, **kwargs)\n",
    "\n",
    "    def used(self):\n",
    "        return self.capacity - self.level"
   ]
  },
  {
   "cell_type": "code",
   "execution_count": 49,
   "metadata": {},
   "outputs": [],
   "source": [
    "class SystemResource_old(simpy.Resource):\n",
    "    def __init__(self, *args, **kwargs):\n",
    "        super().__init__(*args, **kwargs)\n",
    "        mainLogger.info(f\"create resource with capacity {self.capacity}\")\n",
    "\n",
    "    def request(self, *args, **kwargs):\n",
    "        mainLogger.debug(\"request resource at %d\" % self._env.now)\n",
    "        return super().request(*args, **kwargs)\n",
    "\n",
    "    def release(self, *args, **kwargs):\n",
    "        mainLogger.debug(\"release resource at %d\" % self._env.now)\n",
    "        return super().release(*args, **kwargs)\n"
   ]
  },
  {
   "cell_type": "code",
   "execution_count": 50,
   "metadata": {},
   "outputs": [],
   "source": [
    "# wake up every tick and collect\n",
    "class SystemMonitoringAgent:\n",
    "    def __init__(self, world):\n",
    "        self._world = world\n",
    "        mainLogger.info(\"creating agent\")\n",
    "        self.data = []\n",
    "        # this will be used as a process\n",
    "        self.action = world.env.process(self.run())\n",
    "\n",
    "    def run(self):\n",
    "        while True:\n",
    "\n",
    "            mark = self._world.env.now\n",
    "            #occupied_slots = self._world.res.count\n",
    "            occupied_slots = self._world.res.used()\n",
    "            #requests_waiting = len(self._world.res.queue)\n",
    "            requests_waiting = len(self._world.res.get_queue)\n",
    "            \n",
    "            #new\n",
    "            mainLogger.debug(f\"level {self._world.res.level} at %d\" % mark)\n",
    "            mainLogger.debug(f\"{occupied_slots} occupied slots at %d\" % mark)\n",
    "            mainLogger.debug(f\"{requests_waiting} requests waiting at %d\" % mark)\n",
    "\n",
    "            self.data.append(\n",
    "                dict(  \n",
    "                    Mark=mark,\n",
    "                    Timestamp=self._world.clock.to_date(mark),\n",
    "                    Metric=Metric.BS.value,\n",
    "                    Value=occupied_slots\n",
    "                )\n",
    "            )       \n",
    "            self.data.append(\n",
    "                dict(  \n",
    "                    Mark=mark,\n",
    "                    Timestamp=self._world.clock.to_date(mark),\n",
    "                    Metric=Metric.RW.value,\n",
    "                    Value=requests_waiting\n",
    "                )\n",
    "            ) \n",
    "            \n",
    "            tick_duration = 1\n",
    "            yield self._world.env.timeout(tick_duration)\n",
    "\n",
    "        \n",
    "                \n",
    "    def collect(self):\n",
    "        return pd.DataFrame(self.data)\n"
   ]
  },
  {
   "cell_type": "code",
   "execution_count": 51,
   "metadata": {},
   "outputs": [],
   "source": [
    "class World:\n",
    "    \n",
    "    #def __init__(self, scenarios, nb_users=20, resource_capacity=5):\n",
    "    def __init__(self,  session_configuration, nb_users=20, resource_capacity=5):\n",
    "        mainLogger.info(f\"creating simulation\")\n",
    "        #self.scenarios = scenarios # new\n",
    "        self.load_scenarios(session_configuration)\n",
    "\n",
    "        self.env = simpy.Environment()\n",
    "        self.clock = Clock()\n",
    "        self.res = SystemResource(self.env, \n",
    "                                  init=resource_capacity, #new\n",
    "                                  capacity=resource_capacity)\n",
    "        self.user_monitor = UsersMonitor(self)\n",
    "        self.user_gen = UsersGenerator(self, max_nb_users=nb_users)\n",
    "        self.res_agent = SystemMonitoringAgent(self)\n",
    "        self.load_scenarios(session_configuration)\n",
    "        \n",
    "    # new                \n",
    "    def load_scenarios(self, session_configuration):\n",
    "        yaml = YAML(typ='safe')   # default, if not specfied, is 'rt' (round-trip)\n",
    "        session = yaml.load(session_configuration)\n",
    "        self.session_name = session['session']['name']\n",
    "        mainLogger.info(f\"session name: {self.session_name}\")\n",
    "        \n",
    "        self.scenarios = session['session']['scenarios']\n",
    "        self.scenarios_index = []\n",
    "        for i in range(len(self.scenarios)):\n",
    "            weight = self.scenarios[i]['weight']\n",
    "            self.scenarios_index.extend(repeat(i, weight))\n",
    "        # randomize index\n",
    "        random.shuffle(self.scenarios_index)\n",
    "        mainLogger.info(f\"scenarios_index: {self.scenarios_index}\")\n",
    "                        \n",
    "    def start(self, sim_duration = 20):\n",
    "        mainLogger.info(f\"starting simulation\")\n",
    "        self.env.run(until=sim_duration)"
   ]
  },
  {
   "cell_type": "markdown",
   "metadata": {},
   "source": [
    "## Main "
   ]
  },
  {
   "cell_type": "code",
   "execution_count": 52,
   "metadata": {
    "scrolled": true
   },
   "outputs": [],
   "source": [
    "# new -> remplace par yaml et variables en debut de notebook\n",
    "world = World(session_configuration, nb_users = nb_users, resource_capacity = resource_capacity)"
   ]
  },
  {
   "cell_type": "code",
   "execution_count": 53,
   "metadata": {},
   "outputs": [],
   "source": [
    "mainLogger.setLevel(logging.INFO)\n",
    "world.start(sim_duration = sim_duration) # 1 = 1mn"
   ]
  },
  {
   "cell_type": "code",
   "execution_count": 54,
   "metadata": {},
   "outputs": [],
   "source": [
    "# debug\n",
    "if False:\n",
    "    session_configuration = \"\"\"\\\n",
    "    session:\n",
    "        name: nominal test\n",
    "        scenarios:\n",
    "            - name: Sc1\n",
    "              weight: 2\n",
    "              steps:\n",
    "                    loop:\n",
    "                        tasks:\n",
    "                            - name: step 1 debug\n",
    "                              duration: 10\n",
    "                              resources : 3   \n",
    "                              wait: 5\n",
    "    \"\"\"\n",
    "    world = World(session_configuration, nb_users = 1, resource_capacity = 5 )\n",
    "    mainLogger.setLevel(logging.DEBUG)\n",
    "    world.start(sim_duration = 20)\n"
   ]
  },
  {
   "cell_type": "markdown",
   "metadata": {},
   "source": [
    "# Time Series"
   ]
  },
  {
   "cell_type": "code",
   "execution_count": 55,
   "metadata": {},
   "outputs": [],
   "source": [
    "df_system = world.res_agent.collect()\n",
    "#display(df_system)"
   ]
  },
  {
   "cell_type": "markdown",
   "metadata": {},
   "source": [
    "## Occupied slots"
   ]
  },
  {
   "cell_type": "code",
   "execution_count": 56,
   "metadata": {},
   "outputs": [
    {
     "data": {
      "application/vnd.plotly.v1+json": {
       "config": {
        "plotlyServerURL": "https://plot.ly"
       },
       "data": [
        {
         "alignmentgroup": "True",
         "hovertemplate": "Timestamp=%{x}<br>Value=%{y}<extra></extra>",
         "legendgroup": "",
         "marker": {
          "color": "#636efa",
          "pattern": {
           "shape": ""
          }
         },
         "name": "",
         "offsetgroup": "",
         "orientation": "v",
         "showlegend": false,
         "textposition": "auto",
         "type": "bar",
         "x": [
          "2021-09-14T22:10:31.035134",
          "2021-09-14T22:11:31.035134",
          "2021-09-14T22:12:31.035134",
          "2021-09-14T22:13:31.035134",
          "2021-09-14T22:14:31.035134",
          "2021-09-14T22:15:31.035134",
          "2021-09-14T22:16:31.035134",
          "2021-09-14T22:17:31.035134",
          "2021-09-14T22:18:31.035134",
          "2021-09-14T22:19:31.035134",
          "2021-09-14T22:20:31.035134",
          "2021-09-14T22:21:31.035134",
          "2021-09-14T22:22:31.035134",
          "2021-09-14T22:23:31.035134",
          "2021-09-14T22:24:31.035134",
          "2021-09-14T22:25:31.035134",
          "2021-09-14T22:26:31.035134",
          "2021-09-14T22:27:31.035134",
          "2021-09-14T22:28:31.035134",
          "2021-09-14T22:29:31.035134",
          "2021-09-14T22:30:31.035134",
          "2021-09-14T22:31:31.035134",
          "2021-09-14T22:32:31.035134",
          "2021-09-14T22:33:31.035134",
          "2021-09-14T22:34:31.035134",
          "2021-09-14T22:35:31.035134",
          "2021-09-14T22:36:31.035134",
          "2021-09-14T22:37:31.035134",
          "2021-09-14T22:38:31.035134",
          "2021-09-14T22:39:31.035134",
          "2021-09-14T22:40:31.035134",
          "2021-09-14T22:41:31.035134",
          "2021-09-14T22:42:31.035134",
          "2021-09-14T22:43:31.035134",
          "2021-09-14T22:44:31.035134",
          "2021-09-14T22:45:31.035134",
          "2021-09-14T22:46:31.035134",
          "2021-09-14T22:47:31.035134",
          "2021-09-14T22:48:31.035134",
          "2021-09-14T22:49:31.035134",
          "2021-09-14T22:50:31.035134",
          "2021-09-14T22:51:31.035134",
          "2021-09-14T22:52:31.035134",
          "2021-09-14T22:53:31.035134",
          "2021-09-14T22:54:31.035134",
          "2021-09-14T22:55:31.035134",
          "2021-09-14T22:56:31.035134",
          "2021-09-14T22:57:31.035134",
          "2021-09-14T22:58:31.035134",
          "2021-09-14T22:59:31.035134",
          "2021-09-14T23:00:31.035134",
          "2021-09-14T23:01:31.035134",
          "2021-09-14T23:02:31.035134",
          "2021-09-14T23:03:31.035134",
          "2021-09-14T23:04:31.035134",
          "2021-09-14T23:05:31.035134",
          "2021-09-14T23:06:31.035134",
          "2021-09-14T23:07:31.035134",
          "2021-09-14T23:08:31.035134",
          "2021-09-14T23:09:31.035134",
          "2021-09-14T23:10:31.035134",
          "2021-09-14T23:11:31.035134",
          "2021-09-14T23:12:31.035134",
          "2021-09-14T23:13:31.035134",
          "2021-09-14T23:14:31.035134",
          "2021-09-14T23:15:31.035134",
          "2021-09-14T23:16:31.035134",
          "2021-09-14T23:17:31.035134",
          "2021-09-14T23:18:31.035134",
          "2021-09-14T23:19:31.035134",
          "2021-09-14T23:20:31.035134",
          "2021-09-14T23:21:31.035134",
          "2021-09-14T23:22:31.035134",
          "2021-09-14T23:23:31.035134",
          "2021-09-14T23:24:31.035134",
          "2021-09-14T23:25:31.035134",
          "2021-09-14T23:26:31.035134",
          "2021-09-14T23:27:31.035134",
          "2021-09-14T23:28:31.035134",
          "2021-09-14T23:29:31.035134",
          "2021-09-14T23:30:31.035134",
          "2021-09-14T23:31:31.035134",
          "2021-09-14T23:32:31.035134",
          "2021-09-14T23:33:31.035134",
          "2021-09-14T23:34:31.035134",
          "2021-09-14T23:35:31.035134",
          "2021-09-14T23:36:31.035134",
          "2021-09-14T23:37:31.035134",
          "2021-09-14T23:38:31.035134",
          "2021-09-14T23:39:31.035134",
          "2021-09-14T23:40:31.035134",
          "2021-09-14T23:41:31.035134",
          "2021-09-14T23:42:31.035134",
          "2021-09-14T23:43:31.035134",
          "2021-09-14T23:44:31.035134",
          "2021-09-14T23:45:31.035134",
          "2021-09-14T23:46:31.035134",
          "2021-09-14T23:47:31.035134",
          "2021-09-14T23:48:31.035134",
          "2021-09-14T23:49:31.035134",
          "2021-09-14T23:50:31.035134",
          "2021-09-14T23:51:31.035134",
          "2021-09-14T23:52:31.035134",
          "2021-09-14T23:53:31.035134",
          "2021-09-14T23:54:31.035134",
          "2021-09-14T23:55:31.035134",
          "2021-09-14T23:56:31.035134",
          "2021-09-14T23:57:31.035134",
          "2021-09-14T23:58:31.035134",
          "2021-09-14T23:59:31.035134",
          "2021-09-15T00:00:31.035134",
          "2021-09-15T00:01:31.035134",
          "2021-09-15T00:02:31.035134",
          "2021-09-15T00:03:31.035134",
          "2021-09-15T00:04:31.035134",
          "2021-09-15T00:05:31.035134",
          "2021-09-15T00:06:31.035134",
          "2021-09-15T00:07:31.035134",
          "2021-09-15T00:08:31.035134",
          "2021-09-15T00:09:31.035134",
          "2021-09-15T00:10:31.035134",
          "2021-09-15T00:11:31.035134",
          "2021-09-15T00:12:31.035134",
          "2021-09-15T00:13:31.035134",
          "2021-09-15T00:14:31.035134",
          "2021-09-15T00:15:31.035134",
          "2021-09-15T00:16:31.035134",
          "2021-09-15T00:17:31.035134",
          "2021-09-15T00:18:31.035134",
          "2021-09-15T00:19:31.035134",
          "2021-09-15T00:20:31.035134",
          "2021-09-15T00:21:31.035134",
          "2021-09-15T00:22:31.035134",
          "2021-09-15T00:23:31.035134",
          "2021-09-15T00:24:31.035134",
          "2021-09-15T00:25:31.035134",
          "2021-09-15T00:26:31.035134",
          "2021-09-15T00:27:31.035134",
          "2021-09-15T00:28:31.035134",
          "2021-09-15T00:29:31.035134",
          "2021-09-15T00:30:31.035134",
          "2021-09-15T00:31:31.035134",
          "2021-09-15T00:32:31.035134",
          "2021-09-15T00:33:31.035134",
          "2021-09-15T00:34:31.035134",
          "2021-09-15T00:35:31.035134",
          "2021-09-15T00:36:31.035134",
          "2021-09-15T00:37:31.035134",
          "2021-09-15T00:38:31.035134",
          "2021-09-15T00:39:31.035134",
          "2021-09-15T00:40:31.035134",
          "2021-09-15T00:41:31.035134",
          "2021-09-15T00:42:31.035134",
          "2021-09-15T00:43:31.035134",
          "2021-09-15T00:44:31.035134",
          "2021-09-15T00:45:31.035134",
          "2021-09-15T00:46:31.035134",
          "2021-09-15T00:47:31.035134",
          "2021-09-15T00:48:31.035134",
          "2021-09-15T00:49:31.035134",
          "2021-09-15T00:50:31.035134",
          "2021-09-15T00:51:31.035134",
          "2021-09-15T00:52:31.035134",
          "2021-09-15T00:53:31.035134",
          "2021-09-15T00:54:31.035134",
          "2021-09-15T00:55:31.035134",
          "2021-09-15T00:56:31.035134",
          "2021-09-15T00:57:31.035134",
          "2021-09-15T00:58:31.035134",
          "2021-09-15T00:59:31.035134",
          "2021-09-15T01:00:31.035134",
          "2021-09-15T01:01:31.035134",
          "2021-09-15T01:02:31.035134",
          "2021-09-15T01:03:31.035134",
          "2021-09-15T01:04:31.035134",
          "2021-09-15T01:05:31.035134",
          "2021-09-15T01:06:31.035134",
          "2021-09-15T01:07:31.035134",
          "2021-09-15T01:08:31.035134",
          "2021-09-15T01:09:31.035134",
          "2021-09-15T01:10:31.035134",
          "2021-09-15T01:11:31.035134",
          "2021-09-15T01:12:31.035134",
          "2021-09-15T01:13:31.035134",
          "2021-09-15T01:14:31.035134",
          "2021-09-15T01:15:31.035134",
          "2021-09-15T01:16:31.035134",
          "2021-09-15T01:17:31.035134",
          "2021-09-15T01:18:31.035134",
          "2021-09-15T01:19:31.035134",
          "2021-09-15T01:20:31.035134",
          "2021-09-15T01:21:31.035134",
          "2021-09-15T01:22:31.035134",
          "2021-09-15T01:23:31.035134",
          "2021-09-15T01:24:31.035134",
          "2021-09-15T01:25:31.035134",
          "2021-09-15T01:26:31.035134",
          "2021-09-15T01:27:31.035134",
          "2021-09-15T01:28:31.035134",
          "2021-09-15T01:29:31.035134",
          "2021-09-15T01:30:31.035134",
          "2021-09-15T01:31:31.035134",
          "2021-09-15T01:32:31.035134",
          "2021-09-15T01:33:31.035134",
          "2021-09-15T01:34:31.035134",
          "2021-09-15T01:35:31.035134",
          "2021-09-15T01:36:31.035134",
          "2021-09-15T01:37:31.035134",
          "2021-09-15T01:38:31.035134",
          "2021-09-15T01:39:31.035134",
          "2021-09-15T01:40:31.035134",
          "2021-09-15T01:41:31.035134",
          "2021-09-15T01:42:31.035134",
          "2021-09-15T01:43:31.035134",
          "2021-09-15T01:44:31.035134",
          "2021-09-15T01:45:31.035134",
          "2021-09-15T01:46:31.035134",
          "2021-09-15T01:47:31.035134",
          "2021-09-15T01:48:31.035134",
          "2021-09-15T01:49:31.035134",
          "2021-09-15T01:50:31.035134",
          "2021-09-15T01:51:31.035134",
          "2021-09-15T01:52:31.035134",
          "2021-09-15T01:53:31.035134",
          "2021-09-15T01:54:31.035134",
          "2021-09-15T01:55:31.035134",
          "2021-09-15T01:56:31.035134",
          "2021-09-15T01:57:31.035134",
          "2021-09-15T01:58:31.035134",
          "2021-09-15T01:59:31.035134",
          "2021-09-15T02:00:31.035134",
          "2021-09-15T02:01:31.035134",
          "2021-09-15T02:02:31.035134",
          "2021-09-15T02:03:31.035134",
          "2021-09-15T02:04:31.035134",
          "2021-09-15T02:05:31.035134",
          "2021-09-15T02:06:31.035134",
          "2021-09-15T02:07:31.035134",
          "2021-09-15T02:08:31.035134",
          "2021-09-15T02:09:31.035134",
          "2021-09-15T02:10:31.035134",
          "2021-09-15T02:11:31.035134",
          "2021-09-15T02:12:31.035134",
          "2021-09-15T02:13:31.035134",
          "2021-09-15T02:14:31.035134",
          "2021-09-15T02:15:31.035134",
          "2021-09-15T02:16:31.035134",
          "2021-09-15T02:17:31.035134",
          "2021-09-15T02:18:31.035134",
          "2021-09-15T02:19:31.035134",
          "2021-09-15T02:20:31.035134",
          "2021-09-15T02:21:31.035134",
          "2021-09-15T02:22:31.035134",
          "2021-09-15T02:23:31.035134",
          "2021-09-15T02:24:31.035134",
          "2021-09-15T02:25:31.035134",
          "2021-09-15T02:26:31.035134",
          "2021-09-15T02:27:31.035134",
          "2021-09-15T02:28:31.035134",
          "2021-09-15T02:29:31.035134",
          "2021-09-15T02:30:31.035134",
          "2021-09-15T02:31:31.035134",
          "2021-09-15T02:32:31.035134",
          "2021-09-15T02:33:31.035134",
          "2021-09-15T02:34:31.035134",
          "2021-09-15T02:35:31.035134",
          "2021-09-15T02:36:31.035134",
          "2021-09-15T02:37:31.035134",
          "2021-09-15T02:38:31.035134",
          "2021-09-15T02:39:31.035134",
          "2021-09-15T02:40:31.035134",
          "2021-09-15T02:41:31.035134",
          "2021-09-15T02:42:31.035134",
          "2021-09-15T02:43:31.035134",
          "2021-09-15T02:44:31.035134",
          "2021-09-15T02:45:31.035134",
          "2021-09-15T02:46:31.035134",
          "2021-09-15T02:47:31.035134",
          "2021-09-15T02:48:31.035134",
          "2021-09-15T02:49:31.035134",
          "2021-09-15T02:50:31.035134",
          "2021-09-15T02:51:31.035134",
          "2021-09-15T02:52:31.035134",
          "2021-09-15T02:53:31.035134",
          "2021-09-15T02:54:31.035134",
          "2021-09-15T02:55:31.035134",
          "2021-09-15T02:56:31.035134",
          "2021-09-15T02:57:31.035134",
          "2021-09-15T02:58:31.035134",
          "2021-09-15T02:59:31.035134",
          "2021-09-15T03:00:31.035134",
          "2021-09-15T03:01:31.035134",
          "2021-09-15T03:02:31.035134",
          "2021-09-15T03:03:31.035134",
          "2021-09-15T03:04:31.035134",
          "2021-09-15T03:05:31.035134",
          "2021-09-15T03:06:31.035134",
          "2021-09-15T03:07:31.035134",
          "2021-09-15T03:08:31.035134",
          "2021-09-15T03:09:31.035134",
          "2021-09-15T03:10:31.035134",
          "2021-09-15T03:11:31.035134",
          "2021-09-15T03:12:31.035134",
          "2021-09-15T03:13:31.035134",
          "2021-09-15T03:14:31.035134",
          "2021-09-15T03:15:31.035134",
          "2021-09-15T03:16:31.035134",
          "2021-09-15T03:17:31.035134",
          "2021-09-15T03:18:31.035134",
          "2021-09-15T03:19:31.035134",
          "2021-09-15T03:20:31.035134",
          "2021-09-15T03:21:31.035134",
          "2021-09-15T03:22:31.035134",
          "2021-09-15T03:23:31.035134",
          "2021-09-15T03:24:31.035134",
          "2021-09-15T03:25:31.035134",
          "2021-09-15T03:26:31.035134",
          "2021-09-15T03:27:31.035134",
          "2021-09-15T03:28:31.035134",
          "2021-09-15T03:29:31.035134",
          "2021-09-15T03:30:31.035134",
          "2021-09-15T03:31:31.035134",
          "2021-09-15T03:32:31.035134",
          "2021-09-15T03:33:31.035134",
          "2021-09-15T03:34:31.035134",
          "2021-09-15T03:35:31.035134",
          "2021-09-15T03:36:31.035134",
          "2021-09-15T03:37:31.035134",
          "2021-09-15T03:38:31.035134",
          "2021-09-15T03:39:31.035134",
          "2021-09-15T03:40:31.035134",
          "2021-09-15T03:41:31.035134",
          "2021-09-15T03:42:31.035134",
          "2021-09-15T03:43:31.035134",
          "2021-09-15T03:44:31.035134",
          "2021-09-15T03:45:31.035134",
          "2021-09-15T03:46:31.035134",
          "2021-09-15T03:47:31.035134",
          "2021-09-15T03:48:31.035134",
          "2021-09-15T03:49:31.035134",
          "2021-09-15T03:50:31.035134",
          "2021-09-15T03:51:31.035134",
          "2021-09-15T03:52:31.035134",
          "2021-09-15T03:53:31.035134",
          "2021-09-15T03:54:31.035134",
          "2021-09-15T03:55:31.035134",
          "2021-09-15T03:56:31.035134",
          "2021-09-15T03:57:31.035134",
          "2021-09-15T03:58:31.035134",
          "2021-09-15T03:59:31.035134",
          "2021-09-15T04:00:31.035134",
          "2021-09-15T04:01:31.035134",
          "2021-09-15T04:02:31.035134",
          "2021-09-15T04:03:31.035134",
          "2021-09-15T04:04:31.035134",
          "2021-09-15T04:05:31.035134",
          "2021-09-15T04:06:31.035134",
          "2021-09-15T04:07:31.035134",
          "2021-09-15T04:08:31.035134",
          "2021-09-15T04:09:31.035134"
         ],
         "xaxis": "x",
         "y": [
          0,
          30,
          45,
          60,
          75,
          80,
          80,
          80,
          80,
          80,
          80,
          80,
          80,
          80,
          80,
          80,
          80,
          80,
          80,
          80,
          65,
          65,
          65,
          65,
          65,
          75,
          80,
          80,
          80,
          80,
          65,
          65,
          65,
          65,
          65,
          60,
          60,
          60,
          60,
          60,
          45,
          30,
          15,
          0,
          0,
          0,
          0,
          0,
          0,
          0,
          0,
          0,
          0,
          0,
          0,
          0,
          0,
          0,
          0,
          0,
          0,
          0,
          0,
          0,
          0,
          0,
          0,
          0,
          0,
          0,
          0,
          0,
          0,
          0,
          0,
          0,
          0,
          0,
          0,
          0,
          0,
          0,
          0,
          0,
          0,
          0,
          0,
          0,
          0,
          0,
          0,
          0,
          0,
          0,
          0,
          0,
          0,
          0,
          0,
          0,
          0,
          0,
          0,
          0,
          0,
          0,
          0,
          0,
          0,
          0,
          0,
          0,
          0,
          0,
          0,
          0,
          0,
          0,
          0,
          0,
          0,
          0,
          0,
          0,
          0,
          0,
          0,
          0,
          0,
          0,
          0,
          0,
          0,
          0,
          0,
          0,
          0,
          0,
          0,
          0,
          0,
          0,
          0,
          0,
          0,
          0,
          0,
          0,
          0,
          0,
          0,
          0,
          0,
          0,
          0,
          0,
          0,
          0,
          0,
          0,
          0,
          0,
          0,
          0,
          0,
          0,
          0,
          0,
          0,
          0,
          0,
          0,
          0,
          0,
          0,
          0,
          0,
          0,
          0,
          0,
          0,
          0,
          0,
          0,
          0,
          0,
          0,
          0,
          0,
          0,
          0,
          0,
          0,
          0,
          0,
          0,
          0,
          0,
          0,
          0,
          0,
          0,
          0,
          0,
          0,
          0,
          0,
          0,
          0,
          0,
          0,
          0,
          0,
          0,
          0,
          0,
          0,
          0,
          0,
          0,
          0,
          0,
          0,
          0,
          0,
          0,
          0,
          0,
          0,
          0,
          0,
          0,
          0,
          0,
          0,
          0,
          0,
          0,
          0,
          0,
          0,
          0,
          0,
          0,
          0,
          0,
          0,
          0,
          0,
          0,
          0,
          0,
          0,
          0,
          0,
          0,
          0,
          0,
          0,
          0,
          0,
          0,
          0,
          0,
          0,
          0,
          0,
          0,
          0,
          0,
          0,
          0,
          0,
          0,
          0,
          0,
          0,
          0,
          0,
          0,
          0,
          0,
          0,
          0,
          0,
          0,
          0,
          0,
          0,
          0,
          0,
          0,
          0,
          0,
          0,
          0,
          0,
          0,
          0,
          0,
          0,
          0,
          0,
          0,
          0,
          0,
          0,
          0,
          0,
          0,
          0,
          0,
          0,
          0,
          0,
          0,
          0,
          0,
          0,
          0,
          0,
          0,
          0,
          0,
          0,
          0,
          0,
          0,
          0,
          0,
          0,
          0,
          0,
          0,
          0,
          0,
          0,
          0,
          0,
          0,
          0,
          0,
          0,
          0,
          0,
          0,
          0,
          0,
          0,
          0,
          0,
          0,
          0,
          0,
          0,
          0,
          0,
          0,
          0,
          0
         ],
         "yaxis": "y"
        }
       ],
       "layout": {
        "barmode": "relative",
        "legend": {
         "tracegroupgap": 0
        },
        "margin": {
         "t": 60
        },
        "template": {
         "data": {
          "bar": [
           {
            "error_x": {
             "color": "#2a3f5f"
            },
            "error_y": {
             "color": "#2a3f5f"
            },
            "marker": {
             "line": {
              "color": "#E5ECF6",
              "width": 0.5
             },
             "pattern": {
              "fillmode": "overlay",
              "size": 10,
              "solidity": 0.2
             }
            },
            "type": "bar"
           }
          ],
          "barpolar": [
           {
            "marker": {
             "line": {
              "color": "#E5ECF6",
              "width": 0.5
             },
             "pattern": {
              "fillmode": "overlay",
              "size": 10,
              "solidity": 0.2
             }
            },
            "type": "barpolar"
           }
          ],
          "carpet": [
           {
            "aaxis": {
             "endlinecolor": "#2a3f5f",
             "gridcolor": "white",
             "linecolor": "white",
             "minorgridcolor": "white",
             "startlinecolor": "#2a3f5f"
            },
            "baxis": {
             "endlinecolor": "#2a3f5f",
             "gridcolor": "white",
             "linecolor": "white",
             "minorgridcolor": "white",
             "startlinecolor": "#2a3f5f"
            },
            "type": "carpet"
           }
          ],
          "choropleth": [
           {
            "colorbar": {
             "outlinewidth": 0,
             "ticks": ""
            },
            "type": "choropleth"
           }
          ],
          "contour": [
           {
            "colorbar": {
             "outlinewidth": 0,
             "ticks": ""
            },
            "colorscale": [
             [
              0,
              "#0d0887"
             ],
             [
              0.1111111111111111,
              "#46039f"
             ],
             [
              0.2222222222222222,
              "#7201a8"
             ],
             [
              0.3333333333333333,
              "#9c179e"
             ],
             [
              0.4444444444444444,
              "#bd3786"
             ],
             [
              0.5555555555555556,
              "#d8576b"
             ],
             [
              0.6666666666666666,
              "#ed7953"
             ],
             [
              0.7777777777777778,
              "#fb9f3a"
             ],
             [
              0.8888888888888888,
              "#fdca26"
             ],
             [
              1,
              "#f0f921"
             ]
            ],
            "type": "contour"
           }
          ],
          "contourcarpet": [
           {
            "colorbar": {
             "outlinewidth": 0,
             "ticks": ""
            },
            "type": "contourcarpet"
           }
          ],
          "heatmap": [
           {
            "colorbar": {
             "outlinewidth": 0,
             "ticks": ""
            },
            "colorscale": [
             [
              0,
              "#0d0887"
             ],
             [
              0.1111111111111111,
              "#46039f"
             ],
             [
              0.2222222222222222,
              "#7201a8"
             ],
             [
              0.3333333333333333,
              "#9c179e"
             ],
             [
              0.4444444444444444,
              "#bd3786"
             ],
             [
              0.5555555555555556,
              "#d8576b"
             ],
             [
              0.6666666666666666,
              "#ed7953"
             ],
             [
              0.7777777777777778,
              "#fb9f3a"
             ],
             [
              0.8888888888888888,
              "#fdca26"
             ],
             [
              1,
              "#f0f921"
             ]
            ],
            "type": "heatmap"
           }
          ],
          "heatmapgl": [
           {
            "colorbar": {
             "outlinewidth": 0,
             "ticks": ""
            },
            "colorscale": [
             [
              0,
              "#0d0887"
             ],
             [
              0.1111111111111111,
              "#46039f"
             ],
             [
              0.2222222222222222,
              "#7201a8"
             ],
             [
              0.3333333333333333,
              "#9c179e"
             ],
             [
              0.4444444444444444,
              "#bd3786"
             ],
             [
              0.5555555555555556,
              "#d8576b"
             ],
             [
              0.6666666666666666,
              "#ed7953"
             ],
             [
              0.7777777777777778,
              "#fb9f3a"
             ],
             [
              0.8888888888888888,
              "#fdca26"
             ],
             [
              1,
              "#f0f921"
             ]
            ],
            "type": "heatmapgl"
           }
          ],
          "histogram": [
           {
            "marker": {
             "pattern": {
              "fillmode": "overlay",
              "size": 10,
              "solidity": 0.2
             }
            },
            "type": "histogram"
           }
          ],
          "histogram2d": [
           {
            "colorbar": {
             "outlinewidth": 0,
             "ticks": ""
            },
            "colorscale": [
             [
              0,
              "#0d0887"
             ],
             [
              0.1111111111111111,
              "#46039f"
             ],
             [
              0.2222222222222222,
              "#7201a8"
             ],
             [
              0.3333333333333333,
              "#9c179e"
             ],
             [
              0.4444444444444444,
              "#bd3786"
             ],
             [
              0.5555555555555556,
              "#d8576b"
             ],
             [
              0.6666666666666666,
              "#ed7953"
             ],
             [
              0.7777777777777778,
              "#fb9f3a"
             ],
             [
              0.8888888888888888,
              "#fdca26"
             ],
             [
              1,
              "#f0f921"
             ]
            ],
            "type": "histogram2d"
           }
          ],
          "histogram2dcontour": [
           {
            "colorbar": {
             "outlinewidth": 0,
             "ticks": ""
            },
            "colorscale": [
             [
              0,
              "#0d0887"
             ],
             [
              0.1111111111111111,
              "#46039f"
             ],
             [
              0.2222222222222222,
              "#7201a8"
             ],
             [
              0.3333333333333333,
              "#9c179e"
             ],
             [
              0.4444444444444444,
              "#bd3786"
             ],
             [
              0.5555555555555556,
              "#d8576b"
             ],
             [
              0.6666666666666666,
              "#ed7953"
             ],
             [
              0.7777777777777778,
              "#fb9f3a"
             ],
             [
              0.8888888888888888,
              "#fdca26"
             ],
             [
              1,
              "#f0f921"
             ]
            ],
            "type": "histogram2dcontour"
           }
          ],
          "mesh3d": [
           {
            "colorbar": {
             "outlinewidth": 0,
             "ticks": ""
            },
            "type": "mesh3d"
           }
          ],
          "parcoords": [
           {
            "line": {
             "colorbar": {
              "outlinewidth": 0,
              "ticks": ""
             }
            },
            "type": "parcoords"
           }
          ],
          "pie": [
           {
            "automargin": true,
            "type": "pie"
           }
          ],
          "scatter": [
           {
            "marker": {
             "colorbar": {
              "outlinewidth": 0,
              "ticks": ""
             }
            },
            "type": "scatter"
           }
          ],
          "scatter3d": [
           {
            "line": {
             "colorbar": {
              "outlinewidth": 0,
              "ticks": ""
             }
            },
            "marker": {
             "colorbar": {
              "outlinewidth": 0,
              "ticks": ""
             }
            },
            "type": "scatter3d"
           }
          ],
          "scattercarpet": [
           {
            "marker": {
             "colorbar": {
              "outlinewidth": 0,
              "ticks": ""
             }
            },
            "type": "scattercarpet"
           }
          ],
          "scattergeo": [
           {
            "marker": {
             "colorbar": {
              "outlinewidth": 0,
              "ticks": ""
             }
            },
            "type": "scattergeo"
           }
          ],
          "scattergl": [
           {
            "marker": {
             "colorbar": {
              "outlinewidth": 0,
              "ticks": ""
             }
            },
            "type": "scattergl"
           }
          ],
          "scattermapbox": [
           {
            "marker": {
             "colorbar": {
              "outlinewidth": 0,
              "ticks": ""
             }
            },
            "type": "scattermapbox"
           }
          ],
          "scatterpolar": [
           {
            "marker": {
             "colorbar": {
              "outlinewidth": 0,
              "ticks": ""
             }
            },
            "type": "scatterpolar"
           }
          ],
          "scatterpolargl": [
           {
            "marker": {
             "colorbar": {
              "outlinewidth": 0,
              "ticks": ""
             }
            },
            "type": "scatterpolargl"
           }
          ],
          "scatterternary": [
           {
            "marker": {
             "colorbar": {
              "outlinewidth": 0,
              "ticks": ""
             }
            },
            "type": "scatterternary"
           }
          ],
          "surface": [
           {
            "colorbar": {
             "outlinewidth": 0,
             "ticks": ""
            },
            "colorscale": [
             [
              0,
              "#0d0887"
             ],
             [
              0.1111111111111111,
              "#46039f"
             ],
             [
              0.2222222222222222,
              "#7201a8"
             ],
             [
              0.3333333333333333,
              "#9c179e"
             ],
             [
              0.4444444444444444,
              "#bd3786"
             ],
             [
              0.5555555555555556,
              "#d8576b"
             ],
             [
              0.6666666666666666,
              "#ed7953"
             ],
             [
              0.7777777777777778,
              "#fb9f3a"
             ],
             [
              0.8888888888888888,
              "#fdca26"
             ],
             [
              1,
              "#f0f921"
             ]
            ],
            "type": "surface"
           }
          ],
          "table": [
           {
            "cells": {
             "fill": {
              "color": "#EBF0F8"
             },
             "line": {
              "color": "white"
             }
            },
            "header": {
             "fill": {
              "color": "#C8D4E3"
             },
             "line": {
              "color": "white"
             }
            },
            "type": "table"
           }
          ]
         },
         "layout": {
          "annotationdefaults": {
           "arrowcolor": "#2a3f5f",
           "arrowhead": 0,
           "arrowwidth": 1
          },
          "autotypenumbers": "strict",
          "coloraxis": {
           "colorbar": {
            "outlinewidth": 0,
            "ticks": ""
           }
          },
          "colorscale": {
           "diverging": [
            [
             0,
             "#8e0152"
            ],
            [
             0.1,
             "#c51b7d"
            ],
            [
             0.2,
             "#de77ae"
            ],
            [
             0.3,
             "#f1b6da"
            ],
            [
             0.4,
             "#fde0ef"
            ],
            [
             0.5,
             "#f7f7f7"
            ],
            [
             0.6,
             "#e6f5d0"
            ],
            [
             0.7,
             "#b8e186"
            ],
            [
             0.8,
             "#7fbc41"
            ],
            [
             0.9,
             "#4d9221"
            ],
            [
             1,
             "#276419"
            ]
           ],
           "sequential": [
            [
             0,
             "#0d0887"
            ],
            [
             0.1111111111111111,
             "#46039f"
            ],
            [
             0.2222222222222222,
             "#7201a8"
            ],
            [
             0.3333333333333333,
             "#9c179e"
            ],
            [
             0.4444444444444444,
             "#bd3786"
            ],
            [
             0.5555555555555556,
             "#d8576b"
            ],
            [
             0.6666666666666666,
             "#ed7953"
            ],
            [
             0.7777777777777778,
             "#fb9f3a"
            ],
            [
             0.8888888888888888,
             "#fdca26"
            ],
            [
             1,
             "#f0f921"
            ]
           ],
           "sequentialminus": [
            [
             0,
             "#0d0887"
            ],
            [
             0.1111111111111111,
             "#46039f"
            ],
            [
             0.2222222222222222,
             "#7201a8"
            ],
            [
             0.3333333333333333,
             "#9c179e"
            ],
            [
             0.4444444444444444,
             "#bd3786"
            ],
            [
             0.5555555555555556,
             "#d8576b"
            ],
            [
             0.6666666666666666,
             "#ed7953"
            ],
            [
             0.7777777777777778,
             "#fb9f3a"
            ],
            [
             0.8888888888888888,
             "#fdca26"
            ],
            [
             1,
             "#f0f921"
            ]
           ]
          },
          "colorway": [
           "#636efa",
           "#EF553B",
           "#00cc96",
           "#ab63fa",
           "#FFA15A",
           "#19d3f3",
           "#FF6692",
           "#B6E880",
           "#FF97FF",
           "#FECB52"
          ],
          "font": {
           "color": "#2a3f5f"
          },
          "geo": {
           "bgcolor": "white",
           "lakecolor": "white",
           "landcolor": "#E5ECF6",
           "showlakes": true,
           "showland": true,
           "subunitcolor": "white"
          },
          "hoverlabel": {
           "align": "left"
          },
          "hovermode": "closest",
          "mapbox": {
           "style": "light"
          },
          "paper_bgcolor": "white",
          "plot_bgcolor": "#E5ECF6",
          "polar": {
           "angularaxis": {
            "gridcolor": "white",
            "linecolor": "white",
            "ticks": ""
           },
           "bgcolor": "#E5ECF6",
           "radialaxis": {
            "gridcolor": "white",
            "linecolor": "white",
            "ticks": ""
           }
          },
          "scene": {
           "xaxis": {
            "backgroundcolor": "#E5ECF6",
            "gridcolor": "white",
            "gridwidth": 2,
            "linecolor": "white",
            "showbackground": true,
            "ticks": "",
            "zerolinecolor": "white"
           },
           "yaxis": {
            "backgroundcolor": "#E5ECF6",
            "gridcolor": "white",
            "gridwidth": 2,
            "linecolor": "white",
            "showbackground": true,
            "ticks": "",
            "zerolinecolor": "white"
           },
           "zaxis": {
            "backgroundcolor": "#E5ECF6",
            "gridcolor": "white",
            "gridwidth": 2,
            "linecolor": "white",
            "showbackground": true,
            "ticks": "",
            "zerolinecolor": "white"
           }
          },
          "shapedefaults": {
           "line": {
            "color": "#2a3f5f"
           }
          },
          "ternary": {
           "aaxis": {
            "gridcolor": "white",
            "linecolor": "white",
            "ticks": ""
           },
           "baxis": {
            "gridcolor": "white",
            "linecolor": "white",
            "ticks": ""
           },
           "bgcolor": "#E5ECF6",
           "caxis": {
            "gridcolor": "white",
            "linecolor": "white",
            "ticks": ""
           }
          },
          "title": {
           "x": 0.05
          },
          "xaxis": {
           "automargin": true,
           "gridcolor": "white",
           "linecolor": "white",
           "ticks": "",
           "title": {
            "standoff": 15
           },
           "zerolinecolor": "white",
           "zerolinewidth": 2
          },
          "yaxis": {
           "automargin": true,
           "gridcolor": "white",
           "linecolor": "white",
           "ticks": "",
           "title": {
            "standoff": 15
           },
           "zerolinecolor": "white",
           "zerolinewidth": 2
          }
         }
        },
        "xaxis": {
         "anchor": "y",
         "domain": [
          0,
          1
         ],
         "title": {
          "text": "Timestamp"
         }
        },
        "yaxis": {
         "anchor": "x",
         "domain": [
          0,
          1
         ],
         "title": {
          "text": "Value"
         }
        }
       }
      },
      "text/html": [
       "<div>                            <div id=\"46be1341-fc85-40cf-982f-5f60b7a719c4\" class=\"plotly-graph-div\" style=\"height:525px; width:100%;\"></div>            <script type=\"text/javascript\">                require([\"plotly\"], function(Plotly) {                    window.PLOTLYENV=window.PLOTLYENV || {};                                    if (document.getElementById(\"46be1341-fc85-40cf-982f-5f60b7a719c4\")) {                    Plotly.newPlot(                        \"46be1341-fc85-40cf-982f-5f60b7a719c4\",                        [{\"alignmentgroup\":\"True\",\"hovertemplate\":\"Timestamp=%{x}<br>Value=%{y}<extra></extra>\",\"legendgroup\":\"\",\"marker\":{\"color\":\"#636efa\",\"pattern\":{\"shape\":\"\"}},\"name\":\"\",\"offsetgroup\":\"\",\"orientation\":\"v\",\"showlegend\":false,\"textposition\":\"auto\",\"type\":\"bar\",\"x\":[\"2021-09-14T22:10:31.035134\",\"2021-09-14T22:11:31.035134\",\"2021-09-14T22:12:31.035134\",\"2021-09-14T22:13:31.035134\",\"2021-09-14T22:14:31.035134\",\"2021-09-14T22:15:31.035134\",\"2021-09-14T22:16:31.035134\",\"2021-09-14T22:17:31.035134\",\"2021-09-14T22:18:31.035134\",\"2021-09-14T22:19:31.035134\",\"2021-09-14T22:20:31.035134\",\"2021-09-14T22:21:31.035134\",\"2021-09-14T22:22:31.035134\",\"2021-09-14T22:23:31.035134\",\"2021-09-14T22:24:31.035134\",\"2021-09-14T22:25:31.035134\",\"2021-09-14T22:26:31.035134\",\"2021-09-14T22:27:31.035134\",\"2021-09-14T22:28:31.035134\",\"2021-09-14T22:29:31.035134\",\"2021-09-14T22:30:31.035134\",\"2021-09-14T22:31:31.035134\",\"2021-09-14T22:32:31.035134\",\"2021-09-14T22:33:31.035134\",\"2021-09-14T22:34:31.035134\",\"2021-09-14T22:35:31.035134\",\"2021-09-14T22:36:31.035134\",\"2021-09-14T22:37:31.035134\",\"2021-09-14T22:38:31.035134\",\"2021-09-14T22:39:31.035134\",\"2021-09-14T22:40:31.035134\",\"2021-09-14T22:41:31.035134\",\"2021-09-14T22:42:31.035134\",\"2021-09-14T22:43:31.035134\",\"2021-09-14T22:44:31.035134\",\"2021-09-14T22:45:31.035134\",\"2021-09-14T22:46:31.035134\",\"2021-09-14T22:47:31.035134\",\"2021-09-14T22:48:31.035134\",\"2021-09-14T22:49:31.035134\",\"2021-09-14T22:50:31.035134\",\"2021-09-14T22:51:31.035134\",\"2021-09-14T22:52:31.035134\",\"2021-09-14T22:53:31.035134\",\"2021-09-14T22:54:31.035134\",\"2021-09-14T22:55:31.035134\",\"2021-09-14T22:56:31.035134\",\"2021-09-14T22:57:31.035134\",\"2021-09-14T22:58:31.035134\",\"2021-09-14T22:59:31.035134\",\"2021-09-14T23:00:31.035134\",\"2021-09-14T23:01:31.035134\",\"2021-09-14T23:02:31.035134\",\"2021-09-14T23:03:31.035134\",\"2021-09-14T23:04:31.035134\",\"2021-09-14T23:05:31.035134\",\"2021-09-14T23:06:31.035134\",\"2021-09-14T23:07:31.035134\",\"2021-09-14T23:08:31.035134\",\"2021-09-14T23:09:31.035134\",\"2021-09-14T23:10:31.035134\",\"2021-09-14T23:11:31.035134\",\"2021-09-14T23:12:31.035134\",\"2021-09-14T23:13:31.035134\",\"2021-09-14T23:14:31.035134\",\"2021-09-14T23:15:31.035134\",\"2021-09-14T23:16:31.035134\",\"2021-09-14T23:17:31.035134\",\"2021-09-14T23:18:31.035134\",\"2021-09-14T23:19:31.035134\",\"2021-09-14T23:20:31.035134\",\"2021-09-14T23:21:31.035134\",\"2021-09-14T23:22:31.035134\",\"2021-09-14T23:23:31.035134\",\"2021-09-14T23:24:31.035134\",\"2021-09-14T23:25:31.035134\",\"2021-09-14T23:26:31.035134\",\"2021-09-14T23:27:31.035134\",\"2021-09-14T23:28:31.035134\",\"2021-09-14T23:29:31.035134\",\"2021-09-14T23:30:31.035134\",\"2021-09-14T23:31:31.035134\",\"2021-09-14T23:32:31.035134\",\"2021-09-14T23:33:31.035134\",\"2021-09-14T23:34:31.035134\",\"2021-09-14T23:35:31.035134\",\"2021-09-14T23:36:31.035134\",\"2021-09-14T23:37:31.035134\",\"2021-09-14T23:38:31.035134\",\"2021-09-14T23:39:31.035134\",\"2021-09-14T23:40:31.035134\",\"2021-09-14T23:41:31.035134\",\"2021-09-14T23:42:31.035134\",\"2021-09-14T23:43:31.035134\",\"2021-09-14T23:44:31.035134\",\"2021-09-14T23:45:31.035134\",\"2021-09-14T23:46:31.035134\",\"2021-09-14T23:47:31.035134\",\"2021-09-14T23:48:31.035134\",\"2021-09-14T23:49:31.035134\",\"2021-09-14T23:50:31.035134\",\"2021-09-14T23:51:31.035134\",\"2021-09-14T23:52:31.035134\",\"2021-09-14T23:53:31.035134\",\"2021-09-14T23:54:31.035134\",\"2021-09-14T23:55:31.035134\",\"2021-09-14T23:56:31.035134\",\"2021-09-14T23:57:31.035134\",\"2021-09-14T23:58:31.035134\",\"2021-09-14T23:59:31.035134\",\"2021-09-15T00:00:31.035134\",\"2021-09-15T00:01:31.035134\",\"2021-09-15T00:02:31.035134\",\"2021-09-15T00:03:31.035134\",\"2021-09-15T00:04:31.035134\",\"2021-09-15T00:05:31.035134\",\"2021-09-15T00:06:31.035134\",\"2021-09-15T00:07:31.035134\",\"2021-09-15T00:08:31.035134\",\"2021-09-15T00:09:31.035134\",\"2021-09-15T00:10:31.035134\",\"2021-09-15T00:11:31.035134\",\"2021-09-15T00:12:31.035134\",\"2021-09-15T00:13:31.035134\",\"2021-09-15T00:14:31.035134\",\"2021-09-15T00:15:31.035134\",\"2021-09-15T00:16:31.035134\",\"2021-09-15T00:17:31.035134\",\"2021-09-15T00:18:31.035134\",\"2021-09-15T00:19:31.035134\",\"2021-09-15T00:20:31.035134\",\"2021-09-15T00:21:31.035134\",\"2021-09-15T00:22:31.035134\",\"2021-09-15T00:23:31.035134\",\"2021-09-15T00:24:31.035134\",\"2021-09-15T00:25:31.035134\",\"2021-09-15T00:26:31.035134\",\"2021-09-15T00:27:31.035134\",\"2021-09-15T00:28:31.035134\",\"2021-09-15T00:29:31.035134\",\"2021-09-15T00:30:31.035134\",\"2021-09-15T00:31:31.035134\",\"2021-09-15T00:32:31.035134\",\"2021-09-15T00:33:31.035134\",\"2021-09-15T00:34:31.035134\",\"2021-09-15T00:35:31.035134\",\"2021-09-15T00:36:31.035134\",\"2021-09-15T00:37:31.035134\",\"2021-09-15T00:38:31.035134\",\"2021-09-15T00:39:31.035134\",\"2021-09-15T00:40:31.035134\",\"2021-09-15T00:41:31.035134\",\"2021-09-15T00:42:31.035134\",\"2021-09-15T00:43:31.035134\",\"2021-09-15T00:44:31.035134\",\"2021-09-15T00:45:31.035134\",\"2021-09-15T00:46:31.035134\",\"2021-09-15T00:47:31.035134\",\"2021-09-15T00:48:31.035134\",\"2021-09-15T00:49:31.035134\",\"2021-09-15T00:50:31.035134\",\"2021-09-15T00:51:31.035134\",\"2021-09-15T00:52:31.035134\",\"2021-09-15T00:53:31.035134\",\"2021-09-15T00:54:31.035134\",\"2021-09-15T00:55:31.035134\",\"2021-09-15T00:56:31.035134\",\"2021-09-15T00:57:31.035134\",\"2021-09-15T00:58:31.035134\",\"2021-09-15T00:59:31.035134\",\"2021-09-15T01:00:31.035134\",\"2021-09-15T01:01:31.035134\",\"2021-09-15T01:02:31.035134\",\"2021-09-15T01:03:31.035134\",\"2021-09-15T01:04:31.035134\",\"2021-09-15T01:05:31.035134\",\"2021-09-15T01:06:31.035134\",\"2021-09-15T01:07:31.035134\",\"2021-09-15T01:08:31.035134\",\"2021-09-15T01:09:31.035134\",\"2021-09-15T01:10:31.035134\",\"2021-09-15T01:11:31.035134\",\"2021-09-15T01:12:31.035134\",\"2021-09-15T01:13:31.035134\",\"2021-09-15T01:14:31.035134\",\"2021-09-15T01:15:31.035134\",\"2021-09-15T01:16:31.035134\",\"2021-09-15T01:17:31.035134\",\"2021-09-15T01:18:31.035134\",\"2021-09-15T01:19:31.035134\",\"2021-09-15T01:20:31.035134\",\"2021-09-15T01:21:31.035134\",\"2021-09-15T01:22:31.035134\",\"2021-09-15T01:23:31.035134\",\"2021-09-15T01:24:31.035134\",\"2021-09-15T01:25:31.035134\",\"2021-09-15T01:26:31.035134\",\"2021-09-15T01:27:31.035134\",\"2021-09-15T01:28:31.035134\",\"2021-09-15T01:29:31.035134\",\"2021-09-15T01:30:31.035134\",\"2021-09-15T01:31:31.035134\",\"2021-09-15T01:32:31.035134\",\"2021-09-15T01:33:31.035134\",\"2021-09-15T01:34:31.035134\",\"2021-09-15T01:35:31.035134\",\"2021-09-15T01:36:31.035134\",\"2021-09-15T01:37:31.035134\",\"2021-09-15T01:38:31.035134\",\"2021-09-15T01:39:31.035134\",\"2021-09-15T01:40:31.035134\",\"2021-09-15T01:41:31.035134\",\"2021-09-15T01:42:31.035134\",\"2021-09-15T01:43:31.035134\",\"2021-09-15T01:44:31.035134\",\"2021-09-15T01:45:31.035134\",\"2021-09-15T01:46:31.035134\",\"2021-09-15T01:47:31.035134\",\"2021-09-15T01:48:31.035134\",\"2021-09-15T01:49:31.035134\",\"2021-09-15T01:50:31.035134\",\"2021-09-15T01:51:31.035134\",\"2021-09-15T01:52:31.035134\",\"2021-09-15T01:53:31.035134\",\"2021-09-15T01:54:31.035134\",\"2021-09-15T01:55:31.035134\",\"2021-09-15T01:56:31.035134\",\"2021-09-15T01:57:31.035134\",\"2021-09-15T01:58:31.035134\",\"2021-09-15T01:59:31.035134\",\"2021-09-15T02:00:31.035134\",\"2021-09-15T02:01:31.035134\",\"2021-09-15T02:02:31.035134\",\"2021-09-15T02:03:31.035134\",\"2021-09-15T02:04:31.035134\",\"2021-09-15T02:05:31.035134\",\"2021-09-15T02:06:31.035134\",\"2021-09-15T02:07:31.035134\",\"2021-09-15T02:08:31.035134\",\"2021-09-15T02:09:31.035134\",\"2021-09-15T02:10:31.035134\",\"2021-09-15T02:11:31.035134\",\"2021-09-15T02:12:31.035134\",\"2021-09-15T02:13:31.035134\",\"2021-09-15T02:14:31.035134\",\"2021-09-15T02:15:31.035134\",\"2021-09-15T02:16:31.035134\",\"2021-09-15T02:17:31.035134\",\"2021-09-15T02:18:31.035134\",\"2021-09-15T02:19:31.035134\",\"2021-09-15T02:20:31.035134\",\"2021-09-15T02:21:31.035134\",\"2021-09-15T02:22:31.035134\",\"2021-09-15T02:23:31.035134\",\"2021-09-15T02:24:31.035134\",\"2021-09-15T02:25:31.035134\",\"2021-09-15T02:26:31.035134\",\"2021-09-15T02:27:31.035134\",\"2021-09-15T02:28:31.035134\",\"2021-09-15T02:29:31.035134\",\"2021-09-15T02:30:31.035134\",\"2021-09-15T02:31:31.035134\",\"2021-09-15T02:32:31.035134\",\"2021-09-15T02:33:31.035134\",\"2021-09-15T02:34:31.035134\",\"2021-09-15T02:35:31.035134\",\"2021-09-15T02:36:31.035134\",\"2021-09-15T02:37:31.035134\",\"2021-09-15T02:38:31.035134\",\"2021-09-15T02:39:31.035134\",\"2021-09-15T02:40:31.035134\",\"2021-09-15T02:41:31.035134\",\"2021-09-15T02:42:31.035134\",\"2021-09-15T02:43:31.035134\",\"2021-09-15T02:44:31.035134\",\"2021-09-15T02:45:31.035134\",\"2021-09-15T02:46:31.035134\",\"2021-09-15T02:47:31.035134\",\"2021-09-15T02:48:31.035134\",\"2021-09-15T02:49:31.035134\",\"2021-09-15T02:50:31.035134\",\"2021-09-15T02:51:31.035134\",\"2021-09-15T02:52:31.035134\",\"2021-09-15T02:53:31.035134\",\"2021-09-15T02:54:31.035134\",\"2021-09-15T02:55:31.035134\",\"2021-09-15T02:56:31.035134\",\"2021-09-15T02:57:31.035134\",\"2021-09-15T02:58:31.035134\",\"2021-09-15T02:59:31.035134\",\"2021-09-15T03:00:31.035134\",\"2021-09-15T03:01:31.035134\",\"2021-09-15T03:02:31.035134\",\"2021-09-15T03:03:31.035134\",\"2021-09-15T03:04:31.035134\",\"2021-09-15T03:05:31.035134\",\"2021-09-15T03:06:31.035134\",\"2021-09-15T03:07:31.035134\",\"2021-09-15T03:08:31.035134\",\"2021-09-15T03:09:31.035134\",\"2021-09-15T03:10:31.035134\",\"2021-09-15T03:11:31.035134\",\"2021-09-15T03:12:31.035134\",\"2021-09-15T03:13:31.035134\",\"2021-09-15T03:14:31.035134\",\"2021-09-15T03:15:31.035134\",\"2021-09-15T03:16:31.035134\",\"2021-09-15T03:17:31.035134\",\"2021-09-15T03:18:31.035134\",\"2021-09-15T03:19:31.035134\",\"2021-09-15T03:20:31.035134\",\"2021-09-15T03:21:31.035134\",\"2021-09-15T03:22:31.035134\",\"2021-09-15T03:23:31.035134\",\"2021-09-15T03:24:31.035134\",\"2021-09-15T03:25:31.035134\",\"2021-09-15T03:26:31.035134\",\"2021-09-15T03:27:31.035134\",\"2021-09-15T03:28:31.035134\",\"2021-09-15T03:29:31.035134\",\"2021-09-15T03:30:31.035134\",\"2021-09-15T03:31:31.035134\",\"2021-09-15T03:32:31.035134\",\"2021-09-15T03:33:31.035134\",\"2021-09-15T03:34:31.035134\",\"2021-09-15T03:35:31.035134\",\"2021-09-15T03:36:31.035134\",\"2021-09-15T03:37:31.035134\",\"2021-09-15T03:38:31.035134\",\"2021-09-15T03:39:31.035134\",\"2021-09-15T03:40:31.035134\",\"2021-09-15T03:41:31.035134\",\"2021-09-15T03:42:31.035134\",\"2021-09-15T03:43:31.035134\",\"2021-09-15T03:44:31.035134\",\"2021-09-15T03:45:31.035134\",\"2021-09-15T03:46:31.035134\",\"2021-09-15T03:47:31.035134\",\"2021-09-15T03:48:31.035134\",\"2021-09-15T03:49:31.035134\",\"2021-09-15T03:50:31.035134\",\"2021-09-15T03:51:31.035134\",\"2021-09-15T03:52:31.035134\",\"2021-09-15T03:53:31.035134\",\"2021-09-15T03:54:31.035134\",\"2021-09-15T03:55:31.035134\",\"2021-09-15T03:56:31.035134\",\"2021-09-15T03:57:31.035134\",\"2021-09-15T03:58:31.035134\",\"2021-09-15T03:59:31.035134\",\"2021-09-15T04:00:31.035134\",\"2021-09-15T04:01:31.035134\",\"2021-09-15T04:02:31.035134\",\"2021-09-15T04:03:31.035134\",\"2021-09-15T04:04:31.035134\",\"2021-09-15T04:05:31.035134\",\"2021-09-15T04:06:31.035134\",\"2021-09-15T04:07:31.035134\",\"2021-09-15T04:08:31.035134\",\"2021-09-15T04:09:31.035134\"],\"xaxis\":\"x\",\"y\":[0,30,45,60,75,80,80,80,80,80,80,80,80,80,80,80,80,80,80,80,65,65,65,65,65,75,80,80,80,80,65,65,65,65,65,60,60,60,60,60,45,30,15,0,0,0,0,0,0,0,0,0,0,0,0,0,0,0,0,0,0,0,0,0,0,0,0,0,0,0,0,0,0,0,0,0,0,0,0,0,0,0,0,0,0,0,0,0,0,0,0,0,0,0,0,0,0,0,0,0,0,0,0,0,0,0,0,0,0,0,0,0,0,0,0,0,0,0,0,0,0,0,0,0,0,0,0,0,0,0,0,0,0,0,0,0,0,0,0,0,0,0,0,0,0,0,0,0,0,0,0,0,0,0,0,0,0,0,0,0,0,0,0,0,0,0,0,0,0,0,0,0,0,0,0,0,0,0,0,0,0,0,0,0,0,0,0,0,0,0,0,0,0,0,0,0,0,0,0,0,0,0,0,0,0,0,0,0,0,0,0,0,0,0,0,0,0,0,0,0,0,0,0,0,0,0,0,0,0,0,0,0,0,0,0,0,0,0,0,0,0,0,0,0,0,0,0,0,0,0,0,0,0,0,0,0,0,0,0,0,0,0,0,0,0,0,0,0,0,0,0,0,0,0,0,0,0,0,0,0,0,0,0,0,0,0,0,0,0,0,0,0,0,0,0,0,0,0,0,0,0,0,0,0,0,0,0,0,0,0,0,0,0,0,0,0,0,0,0,0,0,0,0,0,0,0,0,0,0,0,0,0,0,0,0,0,0,0,0,0,0,0,0,0,0,0,0,0,0,0,0,0,0,0,0,0,0,0,0,0],\"yaxis\":\"y\"}],                        {\"barmode\":\"relative\",\"legend\":{\"tracegroupgap\":0},\"margin\":{\"t\":60},\"template\":{\"data\":{\"bar\":[{\"error_x\":{\"color\":\"#2a3f5f\"},\"error_y\":{\"color\":\"#2a3f5f\"},\"marker\":{\"line\":{\"color\":\"#E5ECF6\",\"width\":0.5},\"pattern\":{\"fillmode\":\"overlay\",\"size\":10,\"solidity\":0.2}},\"type\":\"bar\"}],\"barpolar\":[{\"marker\":{\"line\":{\"color\":\"#E5ECF6\",\"width\":0.5},\"pattern\":{\"fillmode\":\"overlay\",\"size\":10,\"solidity\":0.2}},\"type\":\"barpolar\"}],\"carpet\":[{\"aaxis\":{\"endlinecolor\":\"#2a3f5f\",\"gridcolor\":\"white\",\"linecolor\":\"white\",\"minorgridcolor\":\"white\",\"startlinecolor\":\"#2a3f5f\"},\"baxis\":{\"endlinecolor\":\"#2a3f5f\",\"gridcolor\":\"white\",\"linecolor\":\"white\",\"minorgridcolor\":\"white\",\"startlinecolor\":\"#2a3f5f\"},\"type\":\"carpet\"}],\"choropleth\":[{\"colorbar\":{\"outlinewidth\":0,\"ticks\":\"\"},\"type\":\"choropleth\"}],\"contour\":[{\"colorbar\":{\"outlinewidth\":0,\"ticks\":\"\"},\"colorscale\":[[0.0,\"#0d0887\"],[0.1111111111111111,\"#46039f\"],[0.2222222222222222,\"#7201a8\"],[0.3333333333333333,\"#9c179e\"],[0.4444444444444444,\"#bd3786\"],[0.5555555555555556,\"#d8576b\"],[0.6666666666666666,\"#ed7953\"],[0.7777777777777778,\"#fb9f3a\"],[0.8888888888888888,\"#fdca26\"],[1.0,\"#f0f921\"]],\"type\":\"contour\"}],\"contourcarpet\":[{\"colorbar\":{\"outlinewidth\":0,\"ticks\":\"\"},\"type\":\"contourcarpet\"}],\"heatmap\":[{\"colorbar\":{\"outlinewidth\":0,\"ticks\":\"\"},\"colorscale\":[[0.0,\"#0d0887\"],[0.1111111111111111,\"#46039f\"],[0.2222222222222222,\"#7201a8\"],[0.3333333333333333,\"#9c179e\"],[0.4444444444444444,\"#bd3786\"],[0.5555555555555556,\"#d8576b\"],[0.6666666666666666,\"#ed7953\"],[0.7777777777777778,\"#fb9f3a\"],[0.8888888888888888,\"#fdca26\"],[1.0,\"#f0f921\"]],\"type\":\"heatmap\"}],\"heatmapgl\":[{\"colorbar\":{\"outlinewidth\":0,\"ticks\":\"\"},\"colorscale\":[[0.0,\"#0d0887\"],[0.1111111111111111,\"#46039f\"],[0.2222222222222222,\"#7201a8\"],[0.3333333333333333,\"#9c179e\"],[0.4444444444444444,\"#bd3786\"],[0.5555555555555556,\"#d8576b\"],[0.6666666666666666,\"#ed7953\"],[0.7777777777777778,\"#fb9f3a\"],[0.8888888888888888,\"#fdca26\"],[1.0,\"#f0f921\"]],\"type\":\"heatmapgl\"}],\"histogram\":[{\"marker\":{\"pattern\":{\"fillmode\":\"overlay\",\"size\":10,\"solidity\":0.2}},\"type\":\"histogram\"}],\"histogram2d\":[{\"colorbar\":{\"outlinewidth\":0,\"ticks\":\"\"},\"colorscale\":[[0.0,\"#0d0887\"],[0.1111111111111111,\"#46039f\"],[0.2222222222222222,\"#7201a8\"],[0.3333333333333333,\"#9c179e\"],[0.4444444444444444,\"#bd3786\"],[0.5555555555555556,\"#d8576b\"],[0.6666666666666666,\"#ed7953\"],[0.7777777777777778,\"#fb9f3a\"],[0.8888888888888888,\"#fdca26\"],[1.0,\"#f0f921\"]],\"type\":\"histogram2d\"}],\"histogram2dcontour\":[{\"colorbar\":{\"outlinewidth\":0,\"ticks\":\"\"},\"colorscale\":[[0.0,\"#0d0887\"],[0.1111111111111111,\"#46039f\"],[0.2222222222222222,\"#7201a8\"],[0.3333333333333333,\"#9c179e\"],[0.4444444444444444,\"#bd3786\"],[0.5555555555555556,\"#d8576b\"],[0.6666666666666666,\"#ed7953\"],[0.7777777777777778,\"#fb9f3a\"],[0.8888888888888888,\"#fdca26\"],[1.0,\"#f0f921\"]],\"type\":\"histogram2dcontour\"}],\"mesh3d\":[{\"colorbar\":{\"outlinewidth\":0,\"ticks\":\"\"},\"type\":\"mesh3d\"}],\"parcoords\":[{\"line\":{\"colorbar\":{\"outlinewidth\":0,\"ticks\":\"\"}},\"type\":\"parcoords\"}],\"pie\":[{\"automargin\":true,\"type\":\"pie\"}],\"scatter\":[{\"marker\":{\"colorbar\":{\"outlinewidth\":0,\"ticks\":\"\"}},\"type\":\"scatter\"}],\"scatter3d\":[{\"line\":{\"colorbar\":{\"outlinewidth\":0,\"ticks\":\"\"}},\"marker\":{\"colorbar\":{\"outlinewidth\":0,\"ticks\":\"\"}},\"type\":\"scatter3d\"}],\"scattercarpet\":[{\"marker\":{\"colorbar\":{\"outlinewidth\":0,\"ticks\":\"\"}},\"type\":\"scattercarpet\"}],\"scattergeo\":[{\"marker\":{\"colorbar\":{\"outlinewidth\":0,\"ticks\":\"\"}},\"type\":\"scattergeo\"}],\"scattergl\":[{\"marker\":{\"colorbar\":{\"outlinewidth\":0,\"ticks\":\"\"}},\"type\":\"scattergl\"}],\"scattermapbox\":[{\"marker\":{\"colorbar\":{\"outlinewidth\":0,\"ticks\":\"\"}},\"type\":\"scattermapbox\"}],\"scatterpolar\":[{\"marker\":{\"colorbar\":{\"outlinewidth\":0,\"ticks\":\"\"}},\"type\":\"scatterpolar\"}],\"scatterpolargl\":[{\"marker\":{\"colorbar\":{\"outlinewidth\":0,\"ticks\":\"\"}},\"type\":\"scatterpolargl\"}],\"scatterternary\":[{\"marker\":{\"colorbar\":{\"outlinewidth\":0,\"ticks\":\"\"}},\"type\":\"scatterternary\"}],\"surface\":[{\"colorbar\":{\"outlinewidth\":0,\"ticks\":\"\"},\"colorscale\":[[0.0,\"#0d0887\"],[0.1111111111111111,\"#46039f\"],[0.2222222222222222,\"#7201a8\"],[0.3333333333333333,\"#9c179e\"],[0.4444444444444444,\"#bd3786\"],[0.5555555555555556,\"#d8576b\"],[0.6666666666666666,\"#ed7953\"],[0.7777777777777778,\"#fb9f3a\"],[0.8888888888888888,\"#fdca26\"],[1.0,\"#f0f921\"]],\"type\":\"surface\"}],\"table\":[{\"cells\":{\"fill\":{\"color\":\"#EBF0F8\"},\"line\":{\"color\":\"white\"}},\"header\":{\"fill\":{\"color\":\"#C8D4E3\"},\"line\":{\"color\":\"white\"}},\"type\":\"table\"}]},\"layout\":{\"annotationdefaults\":{\"arrowcolor\":\"#2a3f5f\",\"arrowhead\":0,\"arrowwidth\":1},\"autotypenumbers\":\"strict\",\"coloraxis\":{\"colorbar\":{\"outlinewidth\":0,\"ticks\":\"\"}},\"colorscale\":{\"diverging\":[[0,\"#8e0152\"],[0.1,\"#c51b7d\"],[0.2,\"#de77ae\"],[0.3,\"#f1b6da\"],[0.4,\"#fde0ef\"],[0.5,\"#f7f7f7\"],[0.6,\"#e6f5d0\"],[0.7,\"#b8e186\"],[0.8,\"#7fbc41\"],[0.9,\"#4d9221\"],[1,\"#276419\"]],\"sequential\":[[0.0,\"#0d0887\"],[0.1111111111111111,\"#46039f\"],[0.2222222222222222,\"#7201a8\"],[0.3333333333333333,\"#9c179e\"],[0.4444444444444444,\"#bd3786\"],[0.5555555555555556,\"#d8576b\"],[0.6666666666666666,\"#ed7953\"],[0.7777777777777778,\"#fb9f3a\"],[0.8888888888888888,\"#fdca26\"],[1.0,\"#f0f921\"]],\"sequentialminus\":[[0.0,\"#0d0887\"],[0.1111111111111111,\"#46039f\"],[0.2222222222222222,\"#7201a8\"],[0.3333333333333333,\"#9c179e\"],[0.4444444444444444,\"#bd3786\"],[0.5555555555555556,\"#d8576b\"],[0.6666666666666666,\"#ed7953\"],[0.7777777777777778,\"#fb9f3a\"],[0.8888888888888888,\"#fdca26\"],[1.0,\"#f0f921\"]]},\"colorway\":[\"#636efa\",\"#EF553B\",\"#00cc96\",\"#ab63fa\",\"#FFA15A\",\"#19d3f3\",\"#FF6692\",\"#B6E880\",\"#FF97FF\",\"#FECB52\"],\"font\":{\"color\":\"#2a3f5f\"},\"geo\":{\"bgcolor\":\"white\",\"lakecolor\":\"white\",\"landcolor\":\"#E5ECF6\",\"showlakes\":true,\"showland\":true,\"subunitcolor\":\"white\"},\"hoverlabel\":{\"align\":\"left\"},\"hovermode\":\"closest\",\"mapbox\":{\"style\":\"light\"},\"paper_bgcolor\":\"white\",\"plot_bgcolor\":\"#E5ECF6\",\"polar\":{\"angularaxis\":{\"gridcolor\":\"white\",\"linecolor\":\"white\",\"ticks\":\"\"},\"bgcolor\":\"#E5ECF6\",\"radialaxis\":{\"gridcolor\":\"white\",\"linecolor\":\"white\",\"ticks\":\"\"}},\"scene\":{\"xaxis\":{\"backgroundcolor\":\"#E5ECF6\",\"gridcolor\":\"white\",\"gridwidth\":2,\"linecolor\":\"white\",\"showbackground\":true,\"ticks\":\"\",\"zerolinecolor\":\"white\"},\"yaxis\":{\"backgroundcolor\":\"#E5ECF6\",\"gridcolor\":\"white\",\"gridwidth\":2,\"linecolor\":\"white\",\"showbackground\":true,\"ticks\":\"\",\"zerolinecolor\":\"white\"},\"zaxis\":{\"backgroundcolor\":\"#E5ECF6\",\"gridcolor\":\"white\",\"gridwidth\":2,\"linecolor\":\"white\",\"showbackground\":true,\"ticks\":\"\",\"zerolinecolor\":\"white\"}},\"shapedefaults\":{\"line\":{\"color\":\"#2a3f5f\"}},\"ternary\":{\"aaxis\":{\"gridcolor\":\"white\",\"linecolor\":\"white\",\"ticks\":\"\"},\"baxis\":{\"gridcolor\":\"white\",\"linecolor\":\"white\",\"ticks\":\"\"},\"bgcolor\":\"#E5ECF6\",\"caxis\":{\"gridcolor\":\"white\",\"linecolor\":\"white\",\"ticks\":\"\"}},\"title\":{\"x\":0.05},\"xaxis\":{\"automargin\":true,\"gridcolor\":\"white\",\"linecolor\":\"white\",\"ticks\":\"\",\"title\":{\"standoff\":15},\"zerolinecolor\":\"white\",\"zerolinewidth\":2},\"yaxis\":{\"automargin\":true,\"gridcolor\":\"white\",\"linecolor\":\"white\",\"ticks\":\"\",\"title\":{\"standoff\":15},\"zerolinecolor\":\"white\",\"zerolinewidth\":2}}},\"xaxis\":{\"anchor\":\"y\",\"domain\":[0.0,1.0],\"title\":{\"text\":\"Timestamp\"}},\"yaxis\":{\"anchor\":\"x\",\"domain\":[0.0,1.0],\"title\":{\"text\":\"Value\"}}},                        {\"responsive\": true}                    ).then(function(){\n",
       "                            \n",
       "var gd = document.getElementById('46be1341-fc85-40cf-982f-5f60b7a719c4');\n",
       "var x = new MutationObserver(function (mutations, observer) {{\n",
       "        var display = window.getComputedStyle(gd).display;\n",
       "        if (!display || display === 'none') {{\n",
       "            console.log([gd, 'removed!']);\n",
       "            Plotly.purge(gd);\n",
       "            observer.disconnect();\n",
       "        }}\n",
       "}});\n",
       "\n",
       "// Listen for the removal of the full notebook cells\n",
       "var notebookContainer = gd.closest('#notebook-container');\n",
       "if (notebookContainer) {{\n",
       "    x.observe(notebookContainer, {childList: true});\n",
       "}}\n",
       "\n",
       "// Listen for the clearing of the current output cell\n",
       "var outputEl = gd.closest('.output');\n",
       "if (outputEl) {{\n",
       "    x.observe(outputEl, {childList: true});\n",
       "}}\n",
       "\n",
       "                        })                };                });            </script>        </div>"
      ]
     },
     "metadata": {},
     "output_type": "display_data"
    }
   ],
   "source": [
    "#df = dfs['occupied_slots']\n",
    "df = df_system[ df_system.Metric == Metric.BS.value ]\n",
    "fig = px.bar(df, x='Timestamp', y='Value')\n",
    "fig.show()"
   ]
  },
  {
   "cell_type": "markdown",
   "metadata": {},
   "source": [
    "## Requests waiting"
   ]
  },
  {
   "cell_type": "code",
   "execution_count": 57,
   "metadata": {},
   "outputs": [
    {
     "data": {
      "application/vnd.plotly.v1+json": {
       "config": {
        "plotlyServerURL": "https://plot.ly"
       },
       "data": [
        {
         "alignmentgroup": "True",
         "hovertemplate": "Timestamp=%{x}<br>Value=%{y}<extra></extra>",
         "legendgroup": "",
         "marker": {
          "color": "#636efa",
          "pattern": {
           "shape": ""
          }
         },
         "name": "",
         "offsetgroup": "",
         "orientation": "v",
         "showlegend": false,
         "textposition": "auto",
         "type": "bar",
         "x": [
          "2021-09-14T22:10:31.035134",
          "2021-09-14T22:11:31.035134",
          "2021-09-14T22:12:31.035134",
          "2021-09-14T22:13:31.035134",
          "2021-09-14T22:14:31.035134",
          "2021-09-14T22:15:31.035134",
          "2021-09-14T22:16:31.035134",
          "2021-09-14T22:17:31.035134",
          "2021-09-14T22:18:31.035134",
          "2021-09-14T22:19:31.035134",
          "2021-09-14T22:20:31.035134",
          "2021-09-14T22:21:31.035134",
          "2021-09-14T22:22:31.035134",
          "2021-09-14T22:23:31.035134",
          "2021-09-14T22:24:31.035134",
          "2021-09-14T22:25:31.035134",
          "2021-09-14T22:26:31.035134",
          "2021-09-14T22:27:31.035134",
          "2021-09-14T22:28:31.035134",
          "2021-09-14T22:29:31.035134",
          "2021-09-14T22:30:31.035134",
          "2021-09-14T22:31:31.035134",
          "2021-09-14T22:32:31.035134",
          "2021-09-14T22:33:31.035134",
          "2021-09-14T22:34:31.035134",
          "2021-09-14T22:35:31.035134",
          "2021-09-14T22:36:31.035134",
          "2021-09-14T22:37:31.035134",
          "2021-09-14T22:38:31.035134",
          "2021-09-14T22:39:31.035134",
          "2021-09-14T22:40:31.035134",
          "2021-09-14T22:41:31.035134",
          "2021-09-14T22:42:31.035134",
          "2021-09-14T22:43:31.035134",
          "2021-09-14T22:44:31.035134",
          "2021-09-14T22:45:31.035134",
          "2021-09-14T22:46:31.035134",
          "2021-09-14T22:47:31.035134",
          "2021-09-14T22:48:31.035134",
          "2021-09-14T22:49:31.035134",
          "2021-09-14T22:50:31.035134",
          "2021-09-14T22:51:31.035134",
          "2021-09-14T22:52:31.035134",
          "2021-09-14T22:53:31.035134",
          "2021-09-14T22:54:31.035134",
          "2021-09-14T22:55:31.035134",
          "2021-09-14T22:56:31.035134",
          "2021-09-14T22:57:31.035134",
          "2021-09-14T22:58:31.035134",
          "2021-09-14T22:59:31.035134",
          "2021-09-14T23:00:31.035134",
          "2021-09-14T23:01:31.035134",
          "2021-09-14T23:02:31.035134",
          "2021-09-14T23:03:31.035134",
          "2021-09-14T23:04:31.035134",
          "2021-09-14T23:05:31.035134",
          "2021-09-14T23:06:31.035134",
          "2021-09-14T23:07:31.035134",
          "2021-09-14T23:08:31.035134",
          "2021-09-14T23:09:31.035134",
          "2021-09-14T23:10:31.035134",
          "2021-09-14T23:11:31.035134",
          "2021-09-14T23:12:31.035134",
          "2021-09-14T23:13:31.035134",
          "2021-09-14T23:14:31.035134",
          "2021-09-14T23:15:31.035134",
          "2021-09-14T23:16:31.035134",
          "2021-09-14T23:17:31.035134",
          "2021-09-14T23:18:31.035134",
          "2021-09-14T23:19:31.035134",
          "2021-09-14T23:20:31.035134",
          "2021-09-14T23:21:31.035134",
          "2021-09-14T23:22:31.035134",
          "2021-09-14T23:23:31.035134",
          "2021-09-14T23:24:31.035134",
          "2021-09-14T23:25:31.035134",
          "2021-09-14T23:26:31.035134",
          "2021-09-14T23:27:31.035134",
          "2021-09-14T23:28:31.035134",
          "2021-09-14T23:29:31.035134",
          "2021-09-14T23:30:31.035134",
          "2021-09-14T23:31:31.035134",
          "2021-09-14T23:32:31.035134",
          "2021-09-14T23:33:31.035134",
          "2021-09-14T23:34:31.035134",
          "2021-09-14T23:35:31.035134",
          "2021-09-14T23:36:31.035134",
          "2021-09-14T23:37:31.035134",
          "2021-09-14T23:38:31.035134",
          "2021-09-14T23:39:31.035134",
          "2021-09-14T23:40:31.035134",
          "2021-09-14T23:41:31.035134",
          "2021-09-14T23:42:31.035134",
          "2021-09-14T23:43:31.035134",
          "2021-09-14T23:44:31.035134",
          "2021-09-14T23:45:31.035134",
          "2021-09-14T23:46:31.035134",
          "2021-09-14T23:47:31.035134",
          "2021-09-14T23:48:31.035134",
          "2021-09-14T23:49:31.035134",
          "2021-09-14T23:50:31.035134",
          "2021-09-14T23:51:31.035134",
          "2021-09-14T23:52:31.035134",
          "2021-09-14T23:53:31.035134",
          "2021-09-14T23:54:31.035134",
          "2021-09-14T23:55:31.035134",
          "2021-09-14T23:56:31.035134",
          "2021-09-14T23:57:31.035134",
          "2021-09-14T23:58:31.035134",
          "2021-09-14T23:59:31.035134",
          "2021-09-15T00:00:31.035134",
          "2021-09-15T00:01:31.035134",
          "2021-09-15T00:02:31.035134",
          "2021-09-15T00:03:31.035134",
          "2021-09-15T00:04:31.035134",
          "2021-09-15T00:05:31.035134",
          "2021-09-15T00:06:31.035134",
          "2021-09-15T00:07:31.035134",
          "2021-09-15T00:08:31.035134",
          "2021-09-15T00:09:31.035134",
          "2021-09-15T00:10:31.035134",
          "2021-09-15T00:11:31.035134",
          "2021-09-15T00:12:31.035134",
          "2021-09-15T00:13:31.035134",
          "2021-09-15T00:14:31.035134",
          "2021-09-15T00:15:31.035134",
          "2021-09-15T00:16:31.035134",
          "2021-09-15T00:17:31.035134",
          "2021-09-15T00:18:31.035134",
          "2021-09-15T00:19:31.035134",
          "2021-09-15T00:20:31.035134",
          "2021-09-15T00:21:31.035134",
          "2021-09-15T00:22:31.035134",
          "2021-09-15T00:23:31.035134",
          "2021-09-15T00:24:31.035134",
          "2021-09-15T00:25:31.035134",
          "2021-09-15T00:26:31.035134",
          "2021-09-15T00:27:31.035134",
          "2021-09-15T00:28:31.035134",
          "2021-09-15T00:29:31.035134",
          "2021-09-15T00:30:31.035134",
          "2021-09-15T00:31:31.035134",
          "2021-09-15T00:32:31.035134",
          "2021-09-15T00:33:31.035134",
          "2021-09-15T00:34:31.035134",
          "2021-09-15T00:35:31.035134",
          "2021-09-15T00:36:31.035134",
          "2021-09-15T00:37:31.035134",
          "2021-09-15T00:38:31.035134",
          "2021-09-15T00:39:31.035134",
          "2021-09-15T00:40:31.035134",
          "2021-09-15T00:41:31.035134",
          "2021-09-15T00:42:31.035134",
          "2021-09-15T00:43:31.035134",
          "2021-09-15T00:44:31.035134",
          "2021-09-15T00:45:31.035134",
          "2021-09-15T00:46:31.035134",
          "2021-09-15T00:47:31.035134",
          "2021-09-15T00:48:31.035134",
          "2021-09-15T00:49:31.035134",
          "2021-09-15T00:50:31.035134",
          "2021-09-15T00:51:31.035134",
          "2021-09-15T00:52:31.035134",
          "2021-09-15T00:53:31.035134",
          "2021-09-15T00:54:31.035134",
          "2021-09-15T00:55:31.035134",
          "2021-09-15T00:56:31.035134",
          "2021-09-15T00:57:31.035134",
          "2021-09-15T00:58:31.035134",
          "2021-09-15T00:59:31.035134",
          "2021-09-15T01:00:31.035134",
          "2021-09-15T01:01:31.035134",
          "2021-09-15T01:02:31.035134",
          "2021-09-15T01:03:31.035134",
          "2021-09-15T01:04:31.035134",
          "2021-09-15T01:05:31.035134",
          "2021-09-15T01:06:31.035134",
          "2021-09-15T01:07:31.035134",
          "2021-09-15T01:08:31.035134",
          "2021-09-15T01:09:31.035134",
          "2021-09-15T01:10:31.035134",
          "2021-09-15T01:11:31.035134",
          "2021-09-15T01:12:31.035134",
          "2021-09-15T01:13:31.035134",
          "2021-09-15T01:14:31.035134",
          "2021-09-15T01:15:31.035134",
          "2021-09-15T01:16:31.035134",
          "2021-09-15T01:17:31.035134",
          "2021-09-15T01:18:31.035134",
          "2021-09-15T01:19:31.035134",
          "2021-09-15T01:20:31.035134",
          "2021-09-15T01:21:31.035134",
          "2021-09-15T01:22:31.035134",
          "2021-09-15T01:23:31.035134",
          "2021-09-15T01:24:31.035134",
          "2021-09-15T01:25:31.035134",
          "2021-09-15T01:26:31.035134",
          "2021-09-15T01:27:31.035134",
          "2021-09-15T01:28:31.035134",
          "2021-09-15T01:29:31.035134",
          "2021-09-15T01:30:31.035134",
          "2021-09-15T01:31:31.035134",
          "2021-09-15T01:32:31.035134",
          "2021-09-15T01:33:31.035134",
          "2021-09-15T01:34:31.035134",
          "2021-09-15T01:35:31.035134",
          "2021-09-15T01:36:31.035134",
          "2021-09-15T01:37:31.035134",
          "2021-09-15T01:38:31.035134",
          "2021-09-15T01:39:31.035134",
          "2021-09-15T01:40:31.035134",
          "2021-09-15T01:41:31.035134",
          "2021-09-15T01:42:31.035134",
          "2021-09-15T01:43:31.035134",
          "2021-09-15T01:44:31.035134",
          "2021-09-15T01:45:31.035134",
          "2021-09-15T01:46:31.035134",
          "2021-09-15T01:47:31.035134",
          "2021-09-15T01:48:31.035134",
          "2021-09-15T01:49:31.035134",
          "2021-09-15T01:50:31.035134",
          "2021-09-15T01:51:31.035134",
          "2021-09-15T01:52:31.035134",
          "2021-09-15T01:53:31.035134",
          "2021-09-15T01:54:31.035134",
          "2021-09-15T01:55:31.035134",
          "2021-09-15T01:56:31.035134",
          "2021-09-15T01:57:31.035134",
          "2021-09-15T01:58:31.035134",
          "2021-09-15T01:59:31.035134",
          "2021-09-15T02:00:31.035134",
          "2021-09-15T02:01:31.035134",
          "2021-09-15T02:02:31.035134",
          "2021-09-15T02:03:31.035134",
          "2021-09-15T02:04:31.035134",
          "2021-09-15T02:05:31.035134",
          "2021-09-15T02:06:31.035134",
          "2021-09-15T02:07:31.035134",
          "2021-09-15T02:08:31.035134",
          "2021-09-15T02:09:31.035134",
          "2021-09-15T02:10:31.035134",
          "2021-09-15T02:11:31.035134",
          "2021-09-15T02:12:31.035134",
          "2021-09-15T02:13:31.035134",
          "2021-09-15T02:14:31.035134",
          "2021-09-15T02:15:31.035134",
          "2021-09-15T02:16:31.035134",
          "2021-09-15T02:17:31.035134",
          "2021-09-15T02:18:31.035134",
          "2021-09-15T02:19:31.035134",
          "2021-09-15T02:20:31.035134",
          "2021-09-15T02:21:31.035134",
          "2021-09-15T02:22:31.035134",
          "2021-09-15T02:23:31.035134",
          "2021-09-15T02:24:31.035134",
          "2021-09-15T02:25:31.035134",
          "2021-09-15T02:26:31.035134",
          "2021-09-15T02:27:31.035134",
          "2021-09-15T02:28:31.035134",
          "2021-09-15T02:29:31.035134",
          "2021-09-15T02:30:31.035134",
          "2021-09-15T02:31:31.035134",
          "2021-09-15T02:32:31.035134",
          "2021-09-15T02:33:31.035134",
          "2021-09-15T02:34:31.035134",
          "2021-09-15T02:35:31.035134",
          "2021-09-15T02:36:31.035134",
          "2021-09-15T02:37:31.035134",
          "2021-09-15T02:38:31.035134",
          "2021-09-15T02:39:31.035134",
          "2021-09-15T02:40:31.035134",
          "2021-09-15T02:41:31.035134",
          "2021-09-15T02:42:31.035134",
          "2021-09-15T02:43:31.035134",
          "2021-09-15T02:44:31.035134",
          "2021-09-15T02:45:31.035134",
          "2021-09-15T02:46:31.035134",
          "2021-09-15T02:47:31.035134",
          "2021-09-15T02:48:31.035134",
          "2021-09-15T02:49:31.035134",
          "2021-09-15T02:50:31.035134",
          "2021-09-15T02:51:31.035134",
          "2021-09-15T02:52:31.035134",
          "2021-09-15T02:53:31.035134",
          "2021-09-15T02:54:31.035134",
          "2021-09-15T02:55:31.035134",
          "2021-09-15T02:56:31.035134",
          "2021-09-15T02:57:31.035134",
          "2021-09-15T02:58:31.035134",
          "2021-09-15T02:59:31.035134",
          "2021-09-15T03:00:31.035134",
          "2021-09-15T03:01:31.035134",
          "2021-09-15T03:02:31.035134",
          "2021-09-15T03:03:31.035134",
          "2021-09-15T03:04:31.035134",
          "2021-09-15T03:05:31.035134",
          "2021-09-15T03:06:31.035134",
          "2021-09-15T03:07:31.035134",
          "2021-09-15T03:08:31.035134",
          "2021-09-15T03:09:31.035134",
          "2021-09-15T03:10:31.035134",
          "2021-09-15T03:11:31.035134",
          "2021-09-15T03:12:31.035134",
          "2021-09-15T03:13:31.035134",
          "2021-09-15T03:14:31.035134",
          "2021-09-15T03:15:31.035134",
          "2021-09-15T03:16:31.035134",
          "2021-09-15T03:17:31.035134",
          "2021-09-15T03:18:31.035134",
          "2021-09-15T03:19:31.035134",
          "2021-09-15T03:20:31.035134",
          "2021-09-15T03:21:31.035134",
          "2021-09-15T03:22:31.035134",
          "2021-09-15T03:23:31.035134",
          "2021-09-15T03:24:31.035134",
          "2021-09-15T03:25:31.035134",
          "2021-09-15T03:26:31.035134",
          "2021-09-15T03:27:31.035134",
          "2021-09-15T03:28:31.035134",
          "2021-09-15T03:29:31.035134",
          "2021-09-15T03:30:31.035134",
          "2021-09-15T03:31:31.035134",
          "2021-09-15T03:32:31.035134",
          "2021-09-15T03:33:31.035134",
          "2021-09-15T03:34:31.035134",
          "2021-09-15T03:35:31.035134",
          "2021-09-15T03:36:31.035134",
          "2021-09-15T03:37:31.035134",
          "2021-09-15T03:38:31.035134",
          "2021-09-15T03:39:31.035134",
          "2021-09-15T03:40:31.035134",
          "2021-09-15T03:41:31.035134",
          "2021-09-15T03:42:31.035134",
          "2021-09-15T03:43:31.035134",
          "2021-09-15T03:44:31.035134",
          "2021-09-15T03:45:31.035134",
          "2021-09-15T03:46:31.035134",
          "2021-09-15T03:47:31.035134",
          "2021-09-15T03:48:31.035134",
          "2021-09-15T03:49:31.035134",
          "2021-09-15T03:50:31.035134",
          "2021-09-15T03:51:31.035134",
          "2021-09-15T03:52:31.035134",
          "2021-09-15T03:53:31.035134",
          "2021-09-15T03:54:31.035134",
          "2021-09-15T03:55:31.035134",
          "2021-09-15T03:56:31.035134",
          "2021-09-15T03:57:31.035134",
          "2021-09-15T03:58:31.035134",
          "2021-09-15T03:59:31.035134",
          "2021-09-15T04:00:31.035134",
          "2021-09-15T04:01:31.035134",
          "2021-09-15T04:02:31.035134",
          "2021-09-15T04:03:31.035134",
          "2021-09-15T04:04:31.035134",
          "2021-09-15T04:05:31.035134",
          "2021-09-15T04:06:31.035134",
          "2021-09-15T04:07:31.035134",
          "2021-09-15T04:08:31.035134",
          "2021-09-15T04:09:31.035134"
         ],
         "xaxis": "x",
         "y": [
          0,
          0,
          0,
          0,
          0,
          2,
          5,
          8,
          11,
          14,
          14,
          14,
          14,
          14,
          14,
          16,
          19,
          22,
          25,
          28,
          28,
          25,
          22,
          19,
          16,
          13,
          12,
          12,
          12,
          12,
          12,
          9,
          6,
          3,
          0,
          0,
          0,
          0,
          0,
          0,
          0,
          0,
          0,
          0,
          0,
          0,
          0,
          0,
          0,
          0,
          0,
          0,
          0,
          0,
          0,
          0,
          0,
          0,
          0,
          0,
          0,
          0,
          0,
          0,
          0,
          0,
          0,
          0,
          0,
          0,
          0,
          0,
          0,
          0,
          0,
          0,
          0,
          0,
          0,
          0,
          0,
          0,
          0,
          0,
          0,
          0,
          0,
          0,
          0,
          0,
          0,
          0,
          0,
          0,
          0,
          0,
          0,
          0,
          0,
          0,
          0,
          0,
          0,
          0,
          0,
          0,
          0,
          0,
          0,
          0,
          0,
          0,
          0,
          0,
          0,
          0,
          0,
          0,
          0,
          0,
          0,
          0,
          0,
          0,
          0,
          0,
          0,
          0,
          0,
          0,
          0,
          0,
          0,
          0,
          0,
          0,
          0,
          0,
          0,
          0,
          0,
          0,
          0,
          0,
          0,
          0,
          0,
          0,
          0,
          0,
          0,
          0,
          0,
          0,
          0,
          0,
          0,
          0,
          0,
          0,
          0,
          0,
          0,
          0,
          0,
          0,
          0,
          0,
          0,
          0,
          0,
          0,
          0,
          0,
          0,
          0,
          0,
          0,
          0,
          0,
          0,
          0,
          0,
          0,
          0,
          0,
          0,
          0,
          0,
          0,
          0,
          0,
          0,
          0,
          0,
          0,
          0,
          0,
          0,
          0,
          0,
          0,
          0,
          0,
          0,
          0,
          0,
          0,
          0,
          0,
          0,
          0,
          0,
          0,
          0,
          0,
          0,
          0,
          0,
          0,
          0,
          0,
          0,
          0,
          0,
          0,
          0,
          0,
          0,
          0,
          0,
          0,
          0,
          0,
          0,
          0,
          0,
          0,
          0,
          0,
          0,
          0,
          0,
          0,
          0,
          0,
          0,
          0,
          0,
          0,
          0,
          0,
          0,
          0,
          0,
          0,
          0,
          0,
          0,
          0,
          0,
          0,
          0,
          0,
          0,
          0,
          0,
          0,
          0,
          0,
          0,
          0,
          0,
          0,
          0,
          0,
          0,
          0,
          0,
          0,
          0,
          0,
          0,
          0,
          0,
          0,
          0,
          0,
          0,
          0,
          0,
          0,
          0,
          0,
          0,
          0,
          0,
          0,
          0,
          0,
          0,
          0,
          0,
          0,
          0,
          0,
          0,
          0,
          0,
          0,
          0,
          0,
          0,
          0,
          0,
          0,
          0,
          0,
          0,
          0,
          0,
          0,
          0,
          0,
          0,
          0,
          0,
          0,
          0,
          0,
          0,
          0,
          0,
          0,
          0,
          0,
          0,
          0,
          0,
          0,
          0,
          0,
          0,
          0,
          0,
          0,
          0,
          0,
          0,
          0,
          0,
          0,
          0,
          0,
          0,
          0,
          0,
          0,
          0,
          0
         ],
         "yaxis": "y"
        }
       ],
       "layout": {
        "barmode": "relative",
        "legend": {
         "tracegroupgap": 0
        },
        "margin": {
         "t": 60
        },
        "template": {
         "data": {
          "bar": [
           {
            "error_x": {
             "color": "#2a3f5f"
            },
            "error_y": {
             "color": "#2a3f5f"
            },
            "marker": {
             "line": {
              "color": "#E5ECF6",
              "width": 0.5
             },
             "pattern": {
              "fillmode": "overlay",
              "size": 10,
              "solidity": 0.2
             }
            },
            "type": "bar"
           }
          ],
          "barpolar": [
           {
            "marker": {
             "line": {
              "color": "#E5ECF6",
              "width": 0.5
             },
             "pattern": {
              "fillmode": "overlay",
              "size": 10,
              "solidity": 0.2
             }
            },
            "type": "barpolar"
           }
          ],
          "carpet": [
           {
            "aaxis": {
             "endlinecolor": "#2a3f5f",
             "gridcolor": "white",
             "linecolor": "white",
             "minorgridcolor": "white",
             "startlinecolor": "#2a3f5f"
            },
            "baxis": {
             "endlinecolor": "#2a3f5f",
             "gridcolor": "white",
             "linecolor": "white",
             "minorgridcolor": "white",
             "startlinecolor": "#2a3f5f"
            },
            "type": "carpet"
           }
          ],
          "choropleth": [
           {
            "colorbar": {
             "outlinewidth": 0,
             "ticks": ""
            },
            "type": "choropleth"
           }
          ],
          "contour": [
           {
            "colorbar": {
             "outlinewidth": 0,
             "ticks": ""
            },
            "colorscale": [
             [
              0,
              "#0d0887"
             ],
             [
              0.1111111111111111,
              "#46039f"
             ],
             [
              0.2222222222222222,
              "#7201a8"
             ],
             [
              0.3333333333333333,
              "#9c179e"
             ],
             [
              0.4444444444444444,
              "#bd3786"
             ],
             [
              0.5555555555555556,
              "#d8576b"
             ],
             [
              0.6666666666666666,
              "#ed7953"
             ],
             [
              0.7777777777777778,
              "#fb9f3a"
             ],
             [
              0.8888888888888888,
              "#fdca26"
             ],
             [
              1,
              "#f0f921"
             ]
            ],
            "type": "contour"
           }
          ],
          "contourcarpet": [
           {
            "colorbar": {
             "outlinewidth": 0,
             "ticks": ""
            },
            "type": "contourcarpet"
           }
          ],
          "heatmap": [
           {
            "colorbar": {
             "outlinewidth": 0,
             "ticks": ""
            },
            "colorscale": [
             [
              0,
              "#0d0887"
             ],
             [
              0.1111111111111111,
              "#46039f"
             ],
             [
              0.2222222222222222,
              "#7201a8"
             ],
             [
              0.3333333333333333,
              "#9c179e"
             ],
             [
              0.4444444444444444,
              "#bd3786"
             ],
             [
              0.5555555555555556,
              "#d8576b"
             ],
             [
              0.6666666666666666,
              "#ed7953"
             ],
             [
              0.7777777777777778,
              "#fb9f3a"
             ],
             [
              0.8888888888888888,
              "#fdca26"
             ],
             [
              1,
              "#f0f921"
             ]
            ],
            "type": "heatmap"
           }
          ],
          "heatmapgl": [
           {
            "colorbar": {
             "outlinewidth": 0,
             "ticks": ""
            },
            "colorscale": [
             [
              0,
              "#0d0887"
             ],
             [
              0.1111111111111111,
              "#46039f"
             ],
             [
              0.2222222222222222,
              "#7201a8"
             ],
             [
              0.3333333333333333,
              "#9c179e"
             ],
             [
              0.4444444444444444,
              "#bd3786"
             ],
             [
              0.5555555555555556,
              "#d8576b"
             ],
             [
              0.6666666666666666,
              "#ed7953"
             ],
             [
              0.7777777777777778,
              "#fb9f3a"
             ],
             [
              0.8888888888888888,
              "#fdca26"
             ],
             [
              1,
              "#f0f921"
             ]
            ],
            "type": "heatmapgl"
           }
          ],
          "histogram": [
           {
            "marker": {
             "pattern": {
              "fillmode": "overlay",
              "size": 10,
              "solidity": 0.2
             }
            },
            "type": "histogram"
           }
          ],
          "histogram2d": [
           {
            "colorbar": {
             "outlinewidth": 0,
             "ticks": ""
            },
            "colorscale": [
             [
              0,
              "#0d0887"
             ],
             [
              0.1111111111111111,
              "#46039f"
             ],
             [
              0.2222222222222222,
              "#7201a8"
             ],
             [
              0.3333333333333333,
              "#9c179e"
             ],
             [
              0.4444444444444444,
              "#bd3786"
             ],
             [
              0.5555555555555556,
              "#d8576b"
             ],
             [
              0.6666666666666666,
              "#ed7953"
             ],
             [
              0.7777777777777778,
              "#fb9f3a"
             ],
             [
              0.8888888888888888,
              "#fdca26"
             ],
             [
              1,
              "#f0f921"
             ]
            ],
            "type": "histogram2d"
           }
          ],
          "histogram2dcontour": [
           {
            "colorbar": {
             "outlinewidth": 0,
             "ticks": ""
            },
            "colorscale": [
             [
              0,
              "#0d0887"
             ],
             [
              0.1111111111111111,
              "#46039f"
             ],
             [
              0.2222222222222222,
              "#7201a8"
             ],
             [
              0.3333333333333333,
              "#9c179e"
             ],
             [
              0.4444444444444444,
              "#bd3786"
             ],
             [
              0.5555555555555556,
              "#d8576b"
             ],
             [
              0.6666666666666666,
              "#ed7953"
             ],
             [
              0.7777777777777778,
              "#fb9f3a"
             ],
             [
              0.8888888888888888,
              "#fdca26"
             ],
             [
              1,
              "#f0f921"
             ]
            ],
            "type": "histogram2dcontour"
           }
          ],
          "mesh3d": [
           {
            "colorbar": {
             "outlinewidth": 0,
             "ticks": ""
            },
            "type": "mesh3d"
           }
          ],
          "parcoords": [
           {
            "line": {
             "colorbar": {
              "outlinewidth": 0,
              "ticks": ""
             }
            },
            "type": "parcoords"
           }
          ],
          "pie": [
           {
            "automargin": true,
            "type": "pie"
           }
          ],
          "scatter": [
           {
            "marker": {
             "colorbar": {
              "outlinewidth": 0,
              "ticks": ""
             }
            },
            "type": "scatter"
           }
          ],
          "scatter3d": [
           {
            "line": {
             "colorbar": {
              "outlinewidth": 0,
              "ticks": ""
             }
            },
            "marker": {
             "colorbar": {
              "outlinewidth": 0,
              "ticks": ""
             }
            },
            "type": "scatter3d"
           }
          ],
          "scattercarpet": [
           {
            "marker": {
             "colorbar": {
              "outlinewidth": 0,
              "ticks": ""
             }
            },
            "type": "scattercarpet"
           }
          ],
          "scattergeo": [
           {
            "marker": {
             "colorbar": {
              "outlinewidth": 0,
              "ticks": ""
             }
            },
            "type": "scattergeo"
           }
          ],
          "scattergl": [
           {
            "marker": {
             "colorbar": {
              "outlinewidth": 0,
              "ticks": ""
             }
            },
            "type": "scattergl"
           }
          ],
          "scattermapbox": [
           {
            "marker": {
             "colorbar": {
              "outlinewidth": 0,
              "ticks": ""
             }
            },
            "type": "scattermapbox"
           }
          ],
          "scatterpolar": [
           {
            "marker": {
             "colorbar": {
              "outlinewidth": 0,
              "ticks": ""
             }
            },
            "type": "scatterpolar"
           }
          ],
          "scatterpolargl": [
           {
            "marker": {
             "colorbar": {
              "outlinewidth": 0,
              "ticks": ""
             }
            },
            "type": "scatterpolargl"
           }
          ],
          "scatterternary": [
           {
            "marker": {
             "colorbar": {
              "outlinewidth": 0,
              "ticks": ""
             }
            },
            "type": "scatterternary"
           }
          ],
          "surface": [
           {
            "colorbar": {
             "outlinewidth": 0,
             "ticks": ""
            },
            "colorscale": [
             [
              0,
              "#0d0887"
             ],
             [
              0.1111111111111111,
              "#46039f"
             ],
             [
              0.2222222222222222,
              "#7201a8"
             ],
             [
              0.3333333333333333,
              "#9c179e"
             ],
             [
              0.4444444444444444,
              "#bd3786"
             ],
             [
              0.5555555555555556,
              "#d8576b"
             ],
             [
              0.6666666666666666,
              "#ed7953"
             ],
             [
              0.7777777777777778,
              "#fb9f3a"
             ],
             [
              0.8888888888888888,
              "#fdca26"
             ],
             [
              1,
              "#f0f921"
             ]
            ],
            "type": "surface"
           }
          ],
          "table": [
           {
            "cells": {
             "fill": {
              "color": "#EBF0F8"
             },
             "line": {
              "color": "white"
             }
            },
            "header": {
             "fill": {
              "color": "#C8D4E3"
             },
             "line": {
              "color": "white"
             }
            },
            "type": "table"
           }
          ]
         },
         "layout": {
          "annotationdefaults": {
           "arrowcolor": "#2a3f5f",
           "arrowhead": 0,
           "arrowwidth": 1
          },
          "autotypenumbers": "strict",
          "coloraxis": {
           "colorbar": {
            "outlinewidth": 0,
            "ticks": ""
           }
          },
          "colorscale": {
           "diverging": [
            [
             0,
             "#8e0152"
            ],
            [
             0.1,
             "#c51b7d"
            ],
            [
             0.2,
             "#de77ae"
            ],
            [
             0.3,
             "#f1b6da"
            ],
            [
             0.4,
             "#fde0ef"
            ],
            [
             0.5,
             "#f7f7f7"
            ],
            [
             0.6,
             "#e6f5d0"
            ],
            [
             0.7,
             "#b8e186"
            ],
            [
             0.8,
             "#7fbc41"
            ],
            [
             0.9,
             "#4d9221"
            ],
            [
             1,
             "#276419"
            ]
           ],
           "sequential": [
            [
             0,
             "#0d0887"
            ],
            [
             0.1111111111111111,
             "#46039f"
            ],
            [
             0.2222222222222222,
             "#7201a8"
            ],
            [
             0.3333333333333333,
             "#9c179e"
            ],
            [
             0.4444444444444444,
             "#bd3786"
            ],
            [
             0.5555555555555556,
             "#d8576b"
            ],
            [
             0.6666666666666666,
             "#ed7953"
            ],
            [
             0.7777777777777778,
             "#fb9f3a"
            ],
            [
             0.8888888888888888,
             "#fdca26"
            ],
            [
             1,
             "#f0f921"
            ]
           ],
           "sequentialminus": [
            [
             0,
             "#0d0887"
            ],
            [
             0.1111111111111111,
             "#46039f"
            ],
            [
             0.2222222222222222,
             "#7201a8"
            ],
            [
             0.3333333333333333,
             "#9c179e"
            ],
            [
             0.4444444444444444,
             "#bd3786"
            ],
            [
             0.5555555555555556,
             "#d8576b"
            ],
            [
             0.6666666666666666,
             "#ed7953"
            ],
            [
             0.7777777777777778,
             "#fb9f3a"
            ],
            [
             0.8888888888888888,
             "#fdca26"
            ],
            [
             1,
             "#f0f921"
            ]
           ]
          },
          "colorway": [
           "#636efa",
           "#EF553B",
           "#00cc96",
           "#ab63fa",
           "#FFA15A",
           "#19d3f3",
           "#FF6692",
           "#B6E880",
           "#FF97FF",
           "#FECB52"
          ],
          "font": {
           "color": "#2a3f5f"
          },
          "geo": {
           "bgcolor": "white",
           "lakecolor": "white",
           "landcolor": "#E5ECF6",
           "showlakes": true,
           "showland": true,
           "subunitcolor": "white"
          },
          "hoverlabel": {
           "align": "left"
          },
          "hovermode": "closest",
          "mapbox": {
           "style": "light"
          },
          "paper_bgcolor": "white",
          "plot_bgcolor": "#E5ECF6",
          "polar": {
           "angularaxis": {
            "gridcolor": "white",
            "linecolor": "white",
            "ticks": ""
           },
           "bgcolor": "#E5ECF6",
           "radialaxis": {
            "gridcolor": "white",
            "linecolor": "white",
            "ticks": ""
           }
          },
          "scene": {
           "xaxis": {
            "backgroundcolor": "#E5ECF6",
            "gridcolor": "white",
            "gridwidth": 2,
            "linecolor": "white",
            "showbackground": true,
            "ticks": "",
            "zerolinecolor": "white"
           },
           "yaxis": {
            "backgroundcolor": "#E5ECF6",
            "gridcolor": "white",
            "gridwidth": 2,
            "linecolor": "white",
            "showbackground": true,
            "ticks": "",
            "zerolinecolor": "white"
           },
           "zaxis": {
            "backgroundcolor": "#E5ECF6",
            "gridcolor": "white",
            "gridwidth": 2,
            "linecolor": "white",
            "showbackground": true,
            "ticks": "",
            "zerolinecolor": "white"
           }
          },
          "shapedefaults": {
           "line": {
            "color": "#2a3f5f"
           }
          },
          "ternary": {
           "aaxis": {
            "gridcolor": "white",
            "linecolor": "white",
            "ticks": ""
           },
           "baxis": {
            "gridcolor": "white",
            "linecolor": "white",
            "ticks": ""
           },
           "bgcolor": "#E5ECF6",
           "caxis": {
            "gridcolor": "white",
            "linecolor": "white",
            "ticks": ""
           }
          },
          "title": {
           "x": 0.05
          },
          "xaxis": {
           "automargin": true,
           "gridcolor": "white",
           "linecolor": "white",
           "ticks": "",
           "title": {
            "standoff": 15
           },
           "zerolinecolor": "white",
           "zerolinewidth": 2
          },
          "yaxis": {
           "automargin": true,
           "gridcolor": "white",
           "linecolor": "white",
           "ticks": "",
           "title": {
            "standoff": 15
           },
           "zerolinecolor": "white",
           "zerolinewidth": 2
          }
         }
        },
        "xaxis": {
         "anchor": "y",
         "domain": [
          0,
          1
         ],
         "title": {
          "text": "Timestamp"
         }
        },
        "yaxis": {
         "anchor": "x",
         "domain": [
          0,
          1
         ],
         "title": {
          "text": "Value"
         }
        }
       }
      },
      "text/html": [
       "<div>                            <div id=\"a02d2ad2-5b69-4d5f-baf1-d04e4ae9b36b\" class=\"plotly-graph-div\" style=\"height:525px; width:100%;\"></div>            <script type=\"text/javascript\">                require([\"plotly\"], function(Plotly) {                    window.PLOTLYENV=window.PLOTLYENV || {};                                    if (document.getElementById(\"a02d2ad2-5b69-4d5f-baf1-d04e4ae9b36b\")) {                    Plotly.newPlot(                        \"a02d2ad2-5b69-4d5f-baf1-d04e4ae9b36b\",                        [{\"alignmentgroup\":\"True\",\"hovertemplate\":\"Timestamp=%{x}<br>Value=%{y}<extra></extra>\",\"legendgroup\":\"\",\"marker\":{\"color\":\"#636efa\",\"pattern\":{\"shape\":\"\"}},\"name\":\"\",\"offsetgroup\":\"\",\"orientation\":\"v\",\"showlegend\":false,\"textposition\":\"auto\",\"type\":\"bar\",\"x\":[\"2021-09-14T22:10:31.035134\",\"2021-09-14T22:11:31.035134\",\"2021-09-14T22:12:31.035134\",\"2021-09-14T22:13:31.035134\",\"2021-09-14T22:14:31.035134\",\"2021-09-14T22:15:31.035134\",\"2021-09-14T22:16:31.035134\",\"2021-09-14T22:17:31.035134\",\"2021-09-14T22:18:31.035134\",\"2021-09-14T22:19:31.035134\",\"2021-09-14T22:20:31.035134\",\"2021-09-14T22:21:31.035134\",\"2021-09-14T22:22:31.035134\",\"2021-09-14T22:23:31.035134\",\"2021-09-14T22:24:31.035134\",\"2021-09-14T22:25:31.035134\",\"2021-09-14T22:26:31.035134\",\"2021-09-14T22:27:31.035134\",\"2021-09-14T22:28:31.035134\",\"2021-09-14T22:29:31.035134\",\"2021-09-14T22:30:31.035134\",\"2021-09-14T22:31:31.035134\",\"2021-09-14T22:32:31.035134\",\"2021-09-14T22:33:31.035134\",\"2021-09-14T22:34:31.035134\",\"2021-09-14T22:35:31.035134\",\"2021-09-14T22:36:31.035134\",\"2021-09-14T22:37:31.035134\",\"2021-09-14T22:38:31.035134\",\"2021-09-14T22:39:31.035134\",\"2021-09-14T22:40:31.035134\",\"2021-09-14T22:41:31.035134\",\"2021-09-14T22:42:31.035134\",\"2021-09-14T22:43:31.035134\",\"2021-09-14T22:44:31.035134\",\"2021-09-14T22:45:31.035134\",\"2021-09-14T22:46:31.035134\",\"2021-09-14T22:47:31.035134\",\"2021-09-14T22:48:31.035134\",\"2021-09-14T22:49:31.035134\",\"2021-09-14T22:50:31.035134\",\"2021-09-14T22:51:31.035134\",\"2021-09-14T22:52:31.035134\",\"2021-09-14T22:53:31.035134\",\"2021-09-14T22:54:31.035134\",\"2021-09-14T22:55:31.035134\",\"2021-09-14T22:56:31.035134\",\"2021-09-14T22:57:31.035134\",\"2021-09-14T22:58:31.035134\",\"2021-09-14T22:59:31.035134\",\"2021-09-14T23:00:31.035134\",\"2021-09-14T23:01:31.035134\",\"2021-09-14T23:02:31.035134\",\"2021-09-14T23:03:31.035134\",\"2021-09-14T23:04:31.035134\",\"2021-09-14T23:05:31.035134\",\"2021-09-14T23:06:31.035134\",\"2021-09-14T23:07:31.035134\",\"2021-09-14T23:08:31.035134\",\"2021-09-14T23:09:31.035134\",\"2021-09-14T23:10:31.035134\",\"2021-09-14T23:11:31.035134\",\"2021-09-14T23:12:31.035134\",\"2021-09-14T23:13:31.035134\",\"2021-09-14T23:14:31.035134\",\"2021-09-14T23:15:31.035134\",\"2021-09-14T23:16:31.035134\",\"2021-09-14T23:17:31.035134\",\"2021-09-14T23:18:31.035134\",\"2021-09-14T23:19:31.035134\",\"2021-09-14T23:20:31.035134\",\"2021-09-14T23:21:31.035134\",\"2021-09-14T23:22:31.035134\",\"2021-09-14T23:23:31.035134\",\"2021-09-14T23:24:31.035134\",\"2021-09-14T23:25:31.035134\",\"2021-09-14T23:26:31.035134\",\"2021-09-14T23:27:31.035134\",\"2021-09-14T23:28:31.035134\",\"2021-09-14T23:29:31.035134\",\"2021-09-14T23:30:31.035134\",\"2021-09-14T23:31:31.035134\",\"2021-09-14T23:32:31.035134\",\"2021-09-14T23:33:31.035134\",\"2021-09-14T23:34:31.035134\",\"2021-09-14T23:35:31.035134\",\"2021-09-14T23:36:31.035134\",\"2021-09-14T23:37:31.035134\",\"2021-09-14T23:38:31.035134\",\"2021-09-14T23:39:31.035134\",\"2021-09-14T23:40:31.035134\",\"2021-09-14T23:41:31.035134\",\"2021-09-14T23:42:31.035134\",\"2021-09-14T23:43:31.035134\",\"2021-09-14T23:44:31.035134\",\"2021-09-14T23:45:31.035134\",\"2021-09-14T23:46:31.035134\",\"2021-09-14T23:47:31.035134\",\"2021-09-14T23:48:31.035134\",\"2021-09-14T23:49:31.035134\",\"2021-09-14T23:50:31.035134\",\"2021-09-14T23:51:31.035134\",\"2021-09-14T23:52:31.035134\",\"2021-09-14T23:53:31.035134\",\"2021-09-14T23:54:31.035134\",\"2021-09-14T23:55:31.035134\",\"2021-09-14T23:56:31.035134\",\"2021-09-14T23:57:31.035134\",\"2021-09-14T23:58:31.035134\",\"2021-09-14T23:59:31.035134\",\"2021-09-15T00:00:31.035134\",\"2021-09-15T00:01:31.035134\",\"2021-09-15T00:02:31.035134\",\"2021-09-15T00:03:31.035134\",\"2021-09-15T00:04:31.035134\",\"2021-09-15T00:05:31.035134\",\"2021-09-15T00:06:31.035134\",\"2021-09-15T00:07:31.035134\",\"2021-09-15T00:08:31.035134\",\"2021-09-15T00:09:31.035134\",\"2021-09-15T00:10:31.035134\",\"2021-09-15T00:11:31.035134\",\"2021-09-15T00:12:31.035134\",\"2021-09-15T00:13:31.035134\",\"2021-09-15T00:14:31.035134\",\"2021-09-15T00:15:31.035134\",\"2021-09-15T00:16:31.035134\",\"2021-09-15T00:17:31.035134\",\"2021-09-15T00:18:31.035134\",\"2021-09-15T00:19:31.035134\",\"2021-09-15T00:20:31.035134\",\"2021-09-15T00:21:31.035134\",\"2021-09-15T00:22:31.035134\",\"2021-09-15T00:23:31.035134\",\"2021-09-15T00:24:31.035134\",\"2021-09-15T00:25:31.035134\",\"2021-09-15T00:26:31.035134\",\"2021-09-15T00:27:31.035134\",\"2021-09-15T00:28:31.035134\",\"2021-09-15T00:29:31.035134\",\"2021-09-15T00:30:31.035134\",\"2021-09-15T00:31:31.035134\",\"2021-09-15T00:32:31.035134\",\"2021-09-15T00:33:31.035134\",\"2021-09-15T00:34:31.035134\",\"2021-09-15T00:35:31.035134\",\"2021-09-15T00:36:31.035134\",\"2021-09-15T00:37:31.035134\",\"2021-09-15T00:38:31.035134\",\"2021-09-15T00:39:31.035134\",\"2021-09-15T00:40:31.035134\",\"2021-09-15T00:41:31.035134\",\"2021-09-15T00:42:31.035134\",\"2021-09-15T00:43:31.035134\",\"2021-09-15T00:44:31.035134\",\"2021-09-15T00:45:31.035134\",\"2021-09-15T00:46:31.035134\",\"2021-09-15T00:47:31.035134\",\"2021-09-15T00:48:31.035134\",\"2021-09-15T00:49:31.035134\",\"2021-09-15T00:50:31.035134\",\"2021-09-15T00:51:31.035134\",\"2021-09-15T00:52:31.035134\",\"2021-09-15T00:53:31.035134\",\"2021-09-15T00:54:31.035134\",\"2021-09-15T00:55:31.035134\",\"2021-09-15T00:56:31.035134\",\"2021-09-15T00:57:31.035134\",\"2021-09-15T00:58:31.035134\",\"2021-09-15T00:59:31.035134\",\"2021-09-15T01:00:31.035134\",\"2021-09-15T01:01:31.035134\",\"2021-09-15T01:02:31.035134\",\"2021-09-15T01:03:31.035134\",\"2021-09-15T01:04:31.035134\",\"2021-09-15T01:05:31.035134\",\"2021-09-15T01:06:31.035134\",\"2021-09-15T01:07:31.035134\",\"2021-09-15T01:08:31.035134\",\"2021-09-15T01:09:31.035134\",\"2021-09-15T01:10:31.035134\",\"2021-09-15T01:11:31.035134\",\"2021-09-15T01:12:31.035134\",\"2021-09-15T01:13:31.035134\",\"2021-09-15T01:14:31.035134\",\"2021-09-15T01:15:31.035134\",\"2021-09-15T01:16:31.035134\",\"2021-09-15T01:17:31.035134\",\"2021-09-15T01:18:31.035134\",\"2021-09-15T01:19:31.035134\",\"2021-09-15T01:20:31.035134\",\"2021-09-15T01:21:31.035134\",\"2021-09-15T01:22:31.035134\",\"2021-09-15T01:23:31.035134\",\"2021-09-15T01:24:31.035134\",\"2021-09-15T01:25:31.035134\",\"2021-09-15T01:26:31.035134\",\"2021-09-15T01:27:31.035134\",\"2021-09-15T01:28:31.035134\",\"2021-09-15T01:29:31.035134\",\"2021-09-15T01:30:31.035134\",\"2021-09-15T01:31:31.035134\",\"2021-09-15T01:32:31.035134\",\"2021-09-15T01:33:31.035134\",\"2021-09-15T01:34:31.035134\",\"2021-09-15T01:35:31.035134\",\"2021-09-15T01:36:31.035134\",\"2021-09-15T01:37:31.035134\",\"2021-09-15T01:38:31.035134\",\"2021-09-15T01:39:31.035134\",\"2021-09-15T01:40:31.035134\",\"2021-09-15T01:41:31.035134\",\"2021-09-15T01:42:31.035134\",\"2021-09-15T01:43:31.035134\",\"2021-09-15T01:44:31.035134\",\"2021-09-15T01:45:31.035134\",\"2021-09-15T01:46:31.035134\",\"2021-09-15T01:47:31.035134\",\"2021-09-15T01:48:31.035134\",\"2021-09-15T01:49:31.035134\",\"2021-09-15T01:50:31.035134\",\"2021-09-15T01:51:31.035134\",\"2021-09-15T01:52:31.035134\",\"2021-09-15T01:53:31.035134\",\"2021-09-15T01:54:31.035134\",\"2021-09-15T01:55:31.035134\",\"2021-09-15T01:56:31.035134\",\"2021-09-15T01:57:31.035134\",\"2021-09-15T01:58:31.035134\",\"2021-09-15T01:59:31.035134\",\"2021-09-15T02:00:31.035134\",\"2021-09-15T02:01:31.035134\",\"2021-09-15T02:02:31.035134\",\"2021-09-15T02:03:31.035134\",\"2021-09-15T02:04:31.035134\",\"2021-09-15T02:05:31.035134\",\"2021-09-15T02:06:31.035134\",\"2021-09-15T02:07:31.035134\",\"2021-09-15T02:08:31.035134\",\"2021-09-15T02:09:31.035134\",\"2021-09-15T02:10:31.035134\",\"2021-09-15T02:11:31.035134\",\"2021-09-15T02:12:31.035134\",\"2021-09-15T02:13:31.035134\",\"2021-09-15T02:14:31.035134\",\"2021-09-15T02:15:31.035134\",\"2021-09-15T02:16:31.035134\",\"2021-09-15T02:17:31.035134\",\"2021-09-15T02:18:31.035134\",\"2021-09-15T02:19:31.035134\",\"2021-09-15T02:20:31.035134\",\"2021-09-15T02:21:31.035134\",\"2021-09-15T02:22:31.035134\",\"2021-09-15T02:23:31.035134\",\"2021-09-15T02:24:31.035134\",\"2021-09-15T02:25:31.035134\",\"2021-09-15T02:26:31.035134\",\"2021-09-15T02:27:31.035134\",\"2021-09-15T02:28:31.035134\",\"2021-09-15T02:29:31.035134\",\"2021-09-15T02:30:31.035134\",\"2021-09-15T02:31:31.035134\",\"2021-09-15T02:32:31.035134\",\"2021-09-15T02:33:31.035134\",\"2021-09-15T02:34:31.035134\",\"2021-09-15T02:35:31.035134\",\"2021-09-15T02:36:31.035134\",\"2021-09-15T02:37:31.035134\",\"2021-09-15T02:38:31.035134\",\"2021-09-15T02:39:31.035134\",\"2021-09-15T02:40:31.035134\",\"2021-09-15T02:41:31.035134\",\"2021-09-15T02:42:31.035134\",\"2021-09-15T02:43:31.035134\",\"2021-09-15T02:44:31.035134\",\"2021-09-15T02:45:31.035134\",\"2021-09-15T02:46:31.035134\",\"2021-09-15T02:47:31.035134\",\"2021-09-15T02:48:31.035134\",\"2021-09-15T02:49:31.035134\",\"2021-09-15T02:50:31.035134\",\"2021-09-15T02:51:31.035134\",\"2021-09-15T02:52:31.035134\",\"2021-09-15T02:53:31.035134\",\"2021-09-15T02:54:31.035134\",\"2021-09-15T02:55:31.035134\",\"2021-09-15T02:56:31.035134\",\"2021-09-15T02:57:31.035134\",\"2021-09-15T02:58:31.035134\",\"2021-09-15T02:59:31.035134\",\"2021-09-15T03:00:31.035134\",\"2021-09-15T03:01:31.035134\",\"2021-09-15T03:02:31.035134\",\"2021-09-15T03:03:31.035134\",\"2021-09-15T03:04:31.035134\",\"2021-09-15T03:05:31.035134\",\"2021-09-15T03:06:31.035134\",\"2021-09-15T03:07:31.035134\",\"2021-09-15T03:08:31.035134\",\"2021-09-15T03:09:31.035134\",\"2021-09-15T03:10:31.035134\",\"2021-09-15T03:11:31.035134\",\"2021-09-15T03:12:31.035134\",\"2021-09-15T03:13:31.035134\",\"2021-09-15T03:14:31.035134\",\"2021-09-15T03:15:31.035134\",\"2021-09-15T03:16:31.035134\",\"2021-09-15T03:17:31.035134\",\"2021-09-15T03:18:31.035134\",\"2021-09-15T03:19:31.035134\",\"2021-09-15T03:20:31.035134\",\"2021-09-15T03:21:31.035134\",\"2021-09-15T03:22:31.035134\",\"2021-09-15T03:23:31.035134\",\"2021-09-15T03:24:31.035134\",\"2021-09-15T03:25:31.035134\",\"2021-09-15T03:26:31.035134\",\"2021-09-15T03:27:31.035134\",\"2021-09-15T03:28:31.035134\",\"2021-09-15T03:29:31.035134\",\"2021-09-15T03:30:31.035134\",\"2021-09-15T03:31:31.035134\",\"2021-09-15T03:32:31.035134\",\"2021-09-15T03:33:31.035134\",\"2021-09-15T03:34:31.035134\",\"2021-09-15T03:35:31.035134\",\"2021-09-15T03:36:31.035134\",\"2021-09-15T03:37:31.035134\",\"2021-09-15T03:38:31.035134\",\"2021-09-15T03:39:31.035134\",\"2021-09-15T03:40:31.035134\",\"2021-09-15T03:41:31.035134\",\"2021-09-15T03:42:31.035134\",\"2021-09-15T03:43:31.035134\",\"2021-09-15T03:44:31.035134\",\"2021-09-15T03:45:31.035134\",\"2021-09-15T03:46:31.035134\",\"2021-09-15T03:47:31.035134\",\"2021-09-15T03:48:31.035134\",\"2021-09-15T03:49:31.035134\",\"2021-09-15T03:50:31.035134\",\"2021-09-15T03:51:31.035134\",\"2021-09-15T03:52:31.035134\",\"2021-09-15T03:53:31.035134\",\"2021-09-15T03:54:31.035134\",\"2021-09-15T03:55:31.035134\",\"2021-09-15T03:56:31.035134\",\"2021-09-15T03:57:31.035134\",\"2021-09-15T03:58:31.035134\",\"2021-09-15T03:59:31.035134\",\"2021-09-15T04:00:31.035134\",\"2021-09-15T04:01:31.035134\",\"2021-09-15T04:02:31.035134\",\"2021-09-15T04:03:31.035134\",\"2021-09-15T04:04:31.035134\",\"2021-09-15T04:05:31.035134\",\"2021-09-15T04:06:31.035134\",\"2021-09-15T04:07:31.035134\",\"2021-09-15T04:08:31.035134\",\"2021-09-15T04:09:31.035134\"],\"xaxis\":\"x\",\"y\":[0,0,0,0,0,2,5,8,11,14,14,14,14,14,14,16,19,22,25,28,28,25,22,19,16,13,12,12,12,12,12,9,6,3,0,0,0,0,0,0,0,0,0,0,0,0,0,0,0,0,0,0,0,0,0,0,0,0,0,0,0,0,0,0,0,0,0,0,0,0,0,0,0,0,0,0,0,0,0,0,0,0,0,0,0,0,0,0,0,0,0,0,0,0,0,0,0,0,0,0,0,0,0,0,0,0,0,0,0,0,0,0,0,0,0,0,0,0,0,0,0,0,0,0,0,0,0,0,0,0,0,0,0,0,0,0,0,0,0,0,0,0,0,0,0,0,0,0,0,0,0,0,0,0,0,0,0,0,0,0,0,0,0,0,0,0,0,0,0,0,0,0,0,0,0,0,0,0,0,0,0,0,0,0,0,0,0,0,0,0,0,0,0,0,0,0,0,0,0,0,0,0,0,0,0,0,0,0,0,0,0,0,0,0,0,0,0,0,0,0,0,0,0,0,0,0,0,0,0,0,0,0,0,0,0,0,0,0,0,0,0,0,0,0,0,0,0,0,0,0,0,0,0,0,0,0,0,0,0,0,0,0,0,0,0,0,0,0,0,0,0,0,0,0,0,0,0,0,0,0,0,0,0,0,0,0,0,0,0,0,0,0,0,0,0,0,0,0,0,0,0,0,0,0,0,0,0,0,0,0,0,0,0,0,0,0,0,0,0,0,0,0,0,0,0,0,0,0,0,0,0,0,0,0,0,0,0,0,0,0,0,0,0,0,0,0,0,0,0,0,0,0,0,0,0,0,0,0,0,0],\"yaxis\":\"y\"}],                        {\"barmode\":\"relative\",\"legend\":{\"tracegroupgap\":0},\"margin\":{\"t\":60},\"template\":{\"data\":{\"bar\":[{\"error_x\":{\"color\":\"#2a3f5f\"},\"error_y\":{\"color\":\"#2a3f5f\"},\"marker\":{\"line\":{\"color\":\"#E5ECF6\",\"width\":0.5},\"pattern\":{\"fillmode\":\"overlay\",\"size\":10,\"solidity\":0.2}},\"type\":\"bar\"}],\"barpolar\":[{\"marker\":{\"line\":{\"color\":\"#E5ECF6\",\"width\":0.5},\"pattern\":{\"fillmode\":\"overlay\",\"size\":10,\"solidity\":0.2}},\"type\":\"barpolar\"}],\"carpet\":[{\"aaxis\":{\"endlinecolor\":\"#2a3f5f\",\"gridcolor\":\"white\",\"linecolor\":\"white\",\"minorgridcolor\":\"white\",\"startlinecolor\":\"#2a3f5f\"},\"baxis\":{\"endlinecolor\":\"#2a3f5f\",\"gridcolor\":\"white\",\"linecolor\":\"white\",\"minorgridcolor\":\"white\",\"startlinecolor\":\"#2a3f5f\"},\"type\":\"carpet\"}],\"choropleth\":[{\"colorbar\":{\"outlinewidth\":0,\"ticks\":\"\"},\"type\":\"choropleth\"}],\"contour\":[{\"colorbar\":{\"outlinewidth\":0,\"ticks\":\"\"},\"colorscale\":[[0.0,\"#0d0887\"],[0.1111111111111111,\"#46039f\"],[0.2222222222222222,\"#7201a8\"],[0.3333333333333333,\"#9c179e\"],[0.4444444444444444,\"#bd3786\"],[0.5555555555555556,\"#d8576b\"],[0.6666666666666666,\"#ed7953\"],[0.7777777777777778,\"#fb9f3a\"],[0.8888888888888888,\"#fdca26\"],[1.0,\"#f0f921\"]],\"type\":\"contour\"}],\"contourcarpet\":[{\"colorbar\":{\"outlinewidth\":0,\"ticks\":\"\"},\"type\":\"contourcarpet\"}],\"heatmap\":[{\"colorbar\":{\"outlinewidth\":0,\"ticks\":\"\"},\"colorscale\":[[0.0,\"#0d0887\"],[0.1111111111111111,\"#46039f\"],[0.2222222222222222,\"#7201a8\"],[0.3333333333333333,\"#9c179e\"],[0.4444444444444444,\"#bd3786\"],[0.5555555555555556,\"#d8576b\"],[0.6666666666666666,\"#ed7953\"],[0.7777777777777778,\"#fb9f3a\"],[0.8888888888888888,\"#fdca26\"],[1.0,\"#f0f921\"]],\"type\":\"heatmap\"}],\"heatmapgl\":[{\"colorbar\":{\"outlinewidth\":0,\"ticks\":\"\"},\"colorscale\":[[0.0,\"#0d0887\"],[0.1111111111111111,\"#46039f\"],[0.2222222222222222,\"#7201a8\"],[0.3333333333333333,\"#9c179e\"],[0.4444444444444444,\"#bd3786\"],[0.5555555555555556,\"#d8576b\"],[0.6666666666666666,\"#ed7953\"],[0.7777777777777778,\"#fb9f3a\"],[0.8888888888888888,\"#fdca26\"],[1.0,\"#f0f921\"]],\"type\":\"heatmapgl\"}],\"histogram\":[{\"marker\":{\"pattern\":{\"fillmode\":\"overlay\",\"size\":10,\"solidity\":0.2}},\"type\":\"histogram\"}],\"histogram2d\":[{\"colorbar\":{\"outlinewidth\":0,\"ticks\":\"\"},\"colorscale\":[[0.0,\"#0d0887\"],[0.1111111111111111,\"#46039f\"],[0.2222222222222222,\"#7201a8\"],[0.3333333333333333,\"#9c179e\"],[0.4444444444444444,\"#bd3786\"],[0.5555555555555556,\"#d8576b\"],[0.6666666666666666,\"#ed7953\"],[0.7777777777777778,\"#fb9f3a\"],[0.8888888888888888,\"#fdca26\"],[1.0,\"#f0f921\"]],\"type\":\"histogram2d\"}],\"histogram2dcontour\":[{\"colorbar\":{\"outlinewidth\":0,\"ticks\":\"\"},\"colorscale\":[[0.0,\"#0d0887\"],[0.1111111111111111,\"#46039f\"],[0.2222222222222222,\"#7201a8\"],[0.3333333333333333,\"#9c179e\"],[0.4444444444444444,\"#bd3786\"],[0.5555555555555556,\"#d8576b\"],[0.6666666666666666,\"#ed7953\"],[0.7777777777777778,\"#fb9f3a\"],[0.8888888888888888,\"#fdca26\"],[1.0,\"#f0f921\"]],\"type\":\"histogram2dcontour\"}],\"mesh3d\":[{\"colorbar\":{\"outlinewidth\":0,\"ticks\":\"\"},\"type\":\"mesh3d\"}],\"parcoords\":[{\"line\":{\"colorbar\":{\"outlinewidth\":0,\"ticks\":\"\"}},\"type\":\"parcoords\"}],\"pie\":[{\"automargin\":true,\"type\":\"pie\"}],\"scatter\":[{\"marker\":{\"colorbar\":{\"outlinewidth\":0,\"ticks\":\"\"}},\"type\":\"scatter\"}],\"scatter3d\":[{\"line\":{\"colorbar\":{\"outlinewidth\":0,\"ticks\":\"\"}},\"marker\":{\"colorbar\":{\"outlinewidth\":0,\"ticks\":\"\"}},\"type\":\"scatter3d\"}],\"scattercarpet\":[{\"marker\":{\"colorbar\":{\"outlinewidth\":0,\"ticks\":\"\"}},\"type\":\"scattercarpet\"}],\"scattergeo\":[{\"marker\":{\"colorbar\":{\"outlinewidth\":0,\"ticks\":\"\"}},\"type\":\"scattergeo\"}],\"scattergl\":[{\"marker\":{\"colorbar\":{\"outlinewidth\":0,\"ticks\":\"\"}},\"type\":\"scattergl\"}],\"scattermapbox\":[{\"marker\":{\"colorbar\":{\"outlinewidth\":0,\"ticks\":\"\"}},\"type\":\"scattermapbox\"}],\"scatterpolar\":[{\"marker\":{\"colorbar\":{\"outlinewidth\":0,\"ticks\":\"\"}},\"type\":\"scatterpolar\"}],\"scatterpolargl\":[{\"marker\":{\"colorbar\":{\"outlinewidth\":0,\"ticks\":\"\"}},\"type\":\"scatterpolargl\"}],\"scatterternary\":[{\"marker\":{\"colorbar\":{\"outlinewidth\":0,\"ticks\":\"\"}},\"type\":\"scatterternary\"}],\"surface\":[{\"colorbar\":{\"outlinewidth\":0,\"ticks\":\"\"},\"colorscale\":[[0.0,\"#0d0887\"],[0.1111111111111111,\"#46039f\"],[0.2222222222222222,\"#7201a8\"],[0.3333333333333333,\"#9c179e\"],[0.4444444444444444,\"#bd3786\"],[0.5555555555555556,\"#d8576b\"],[0.6666666666666666,\"#ed7953\"],[0.7777777777777778,\"#fb9f3a\"],[0.8888888888888888,\"#fdca26\"],[1.0,\"#f0f921\"]],\"type\":\"surface\"}],\"table\":[{\"cells\":{\"fill\":{\"color\":\"#EBF0F8\"},\"line\":{\"color\":\"white\"}},\"header\":{\"fill\":{\"color\":\"#C8D4E3\"},\"line\":{\"color\":\"white\"}},\"type\":\"table\"}]},\"layout\":{\"annotationdefaults\":{\"arrowcolor\":\"#2a3f5f\",\"arrowhead\":0,\"arrowwidth\":1},\"autotypenumbers\":\"strict\",\"coloraxis\":{\"colorbar\":{\"outlinewidth\":0,\"ticks\":\"\"}},\"colorscale\":{\"diverging\":[[0,\"#8e0152\"],[0.1,\"#c51b7d\"],[0.2,\"#de77ae\"],[0.3,\"#f1b6da\"],[0.4,\"#fde0ef\"],[0.5,\"#f7f7f7\"],[0.6,\"#e6f5d0\"],[0.7,\"#b8e186\"],[0.8,\"#7fbc41\"],[0.9,\"#4d9221\"],[1,\"#276419\"]],\"sequential\":[[0.0,\"#0d0887\"],[0.1111111111111111,\"#46039f\"],[0.2222222222222222,\"#7201a8\"],[0.3333333333333333,\"#9c179e\"],[0.4444444444444444,\"#bd3786\"],[0.5555555555555556,\"#d8576b\"],[0.6666666666666666,\"#ed7953\"],[0.7777777777777778,\"#fb9f3a\"],[0.8888888888888888,\"#fdca26\"],[1.0,\"#f0f921\"]],\"sequentialminus\":[[0.0,\"#0d0887\"],[0.1111111111111111,\"#46039f\"],[0.2222222222222222,\"#7201a8\"],[0.3333333333333333,\"#9c179e\"],[0.4444444444444444,\"#bd3786\"],[0.5555555555555556,\"#d8576b\"],[0.6666666666666666,\"#ed7953\"],[0.7777777777777778,\"#fb9f3a\"],[0.8888888888888888,\"#fdca26\"],[1.0,\"#f0f921\"]]},\"colorway\":[\"#636efa\",\"#EF553B\",\"#00cc96\",\"#ab63fa\",\"#FFA15A\",\"#19d3f3\",\"#FF6692\",\"#B6E880\",\"#FF97FF\",\"#FECB52\"],\"font\":{\"color\":\"#2a3f5f\"},\"geo\":{\"bgcolor\":\"white\",\"lakecolor\":\"white\",\"landcolor\":\"#E5ECF6\",\"showlakes\":true,\"showland\":true,\"subunitcolor\":\"white\"},\"hoverlabel\":{\"align\":\"left\"},\"hovermode\":\"closest\",\"mapbox\":{\"style\":\"light\"},\"paper_bgcolor\":\"white\",\"plot_bgcolor\":\"#E5ECF6\",\"polar\":{\"angularaxis\":{\"gridcolor\":\"white\",\"linecolor\":\"white\",\"ticks\":\"\"},\"bgcolor\":\"#E5ECF6\",\"radialaxis\":{\"gridcolor\":\"white\",\"linecolor\":\"white\",\"ticks\":\"\"}},\"scene\":{\"xaxis\":{\"backgroundcolor\":\"#E5ECF6\",\"gridcolor\":\"white\",\"gridwidth\":2,\"linecolor\":\"white\",\"showbackground\":true,\"ticks\":\"\",\"zerolinecolor\":\"white\"},\"yaxis\":{\"backgroundcolor\":\"#E5ECF6\",\"gridcolor\":\"white\",\"gridwidth\":2,\"linecolor\":\"white\",\"showbackground\":true,\"ticks\":\"\",\"zerolinecolor\":\"white\"},\"zaxis\":{\"backgroundcolor\":\"#E5ECF6\",\"gridcolor\":\"white\",\"gridwidth\":2,\"linecolor\":\"white\",\"showbackground\":true,\"ticks\":\"\",\"zerolinecolor\":\"white\"}},\"shapedefaults\":{\"line\":{\"color\":\"#2a3f5f\"}},\"ternary\":{\"aaxis\":{\"gridcolor\":\"white\",\"linecolor\":\"white\",\"ticks\":\"\"},\"baxis\":{\"gridcolor\":\"white\",\"linecolor\":\"white\",\"ticks\":\"\"},\"bgcolor\":\"#E5ECF6\",\"caxis\":{\"gridcolor\":\"white\",\"linecolor\":\"white\",\"ticks\":\"\"}},\"title\":{\"x\":0.05},\"xaxis\":{\"automargin\":true,\"gridcolor\":\"white\",\"linecolor\":\"white\",\"ticks\":\"\",\"title\":{\"standoff\":15},\"zerolinecolor\":\"white\",\"zerolinewidth\":2},\"yaxis\":{\"automargin\":true,\"gridcolor\":\"white\",\"linecolor\":\"white\",\"ticks\":\"\",\"title\":{\"standoff\":15},\"zerolinecolor\":\"white\",\"zerolinewidth\":2}}},\"xaxis\":{\"anchor\":\"y\",\"domain\":[0.0,1.0],\"title\":{\"text\":\"Timestamp\"}},\"yaxis\":{\"anchor\":\"x\",\"domain\":[0.0,1.0],\"title\":{\"text\":\"Value\"}}},                        {\"responsive\": true}                    ).then(function(){\n",
       "                            \n",
       "var gd = document.getElementById('a02d2ad2-5b69-4d5f-baf1-d04e4ae9b36b');\n",
       "var x = new MutationObserver(function (mutations, observer) {{\n",
       "        var display = window.getComputedStyle(gd).display;\n",
       "        if (!display || display === 'none') {{\n",
       "            console.log([gd, 'removed!']);\n",
       "            Plotly.purge(gd);\n",
       "            observer.disconnect();\n",
       "        }}\n",
       "}});\n",
       "\n",
       "// Listen for the removal of the full notebook cells\n",
       "var notebookContainer = gd.closest('#notebook-container');\n",
       "if (notebookContainer) {{\n",
       "    x.observe(notebookContainer, {childList: true});\n",
       "}}\n",
       "\n",
       "// Listen for the clearing of the current output cell\n",
       "var outputEl = gd.closest('.output');\n",
       "if (outputEl) {{\n",
       "    x.observe(outputEl, {childList: true});\n",
       "}}\n",
       "\n",
       "                        })                };                });            </script>        </div>"
      ]
     },
     "metadata": {},
     "output_type": "display_data"
    }
   ],
   "source": [
    "#df = dfs['requests_waiting']\n",
    "df = df_system[ df_system.Metric == Metric.RW.value ]\n",
    "fig = px.bar(df, x='Timestamp', y='Value')\n",
    "fig.show()"
   ]
  },
  {
   "cell_type": "markdown",
   "metadata": {},
   "source": [
    "## Active Users"
   ]
  },
  {
   "cell_type": "code",
   "execution_count": 58,
   "metadata": {},
   "outputs": [],
   "source": [
    "df_users_active = world.user_gen.collect()\n",
    "#display(df_users_active)"
   ]
  },
  {
   "cell_type": "code",
   "execution_count": 59,
   "metadata": {},
   "outputs": [
    {
     "data": {
      "application/vnd.plotly.v1+json": {
       "config": {
        "plotlyServerURL": "https://plot.ly"
       },
       "data": [
        {
         "alignmentgroup": "True",
         "hovertemplate": "Timestamp=%{x}<br>Value=%{y}<extra></extra>",
         "legendgroup": "",
         "marker": {
          "color": "#636efa",
          "pattern": {
           "shape": ""
          }
         },
         "name": "",
         "offsetgroup": "",
         "orientation": "v",
         "showlegend": false,
         "textposition": "auto",
         "type": "bar",
         "x": [
          "2021-09-14T22:10:31.035134",
          "2021-09-14T22:11:31.035134",
          "2021-09-14T22:12:31.035134",
          "2021-09-14T22:13:31.035134",
          "2021-09-14T22:14:31.035134",
          "2021-09-14T22:15:31.035134",
          "2021-09-14T22:16:31.035134",
          "2021-09-14T22:17:31.035134",
          "2021-09-14T22:18:31.035134",
          "2021-09-14T22:19:31.035134",
          "2021-09-14T22:20:31.035134",
          "2021-09-14T22:21:31.035134",
          "2021-09-14T22:22:31.035134",
          "2021-09-14T22:23:31.035134",
          "2021-09-14T22:24:31.035134",
          "2021-09-14T22:25:31.035134",
          "2021-09-14T22:26:31.035134",
          "2021-09-14T22:27:31.035134",
          "2021-09-14T22:28:31.035134",
          "2021-09-14T22:29:31.035134",
          "2021-09-14T22:30:31.035134",
          "2021-09-14T22:31:31.035134",
          "2021-09-14T22:32:31.035134",
          "2021-09-14T22:33:31.035134",
          "2021-09-14T22:34:31.035134",
          "2021-09-14T22:35:31.035134",
          "2021-09-14T22:36:31.035134",
          "2021-09-14T22:37:31.035134",
          "2021-09-14T22:38:31.035134",
          "2021-09-14T22:39:31.035134",
          "2021-09-14T22:40:31.035134",
          "2021-09-14T22:41:31.035134",
          "2021-09-14T22:42:31.035134",
          "2021-09-14T22:43:31.035134",
          "2021-09-14T22:44:31.035134",
          "2021-09-14T22:45:31.035134",
          "2021-09-14T22:46:31.035134",
          "2021-09-14T22:47:31.035134",
          "2021-09-14T22:48:31.035134",
          "2021-09-14T22:49:31.035134",
          "2021-09-14T22:50:31.035134",
          "2021-09-14T22:51:31.035134",
          "2021-09-14T22:52:31.035134",
          "2021-09-14T22:53:31.035134",
          "2021-09-14T22:54:31.035134",
          "2021-09-14T22:55:31.035134",
          "2021-09-14T22:56:31.035134",
          "2021-09-14T22:57:31.035134",
          "2021-09-14T22:58:31.035134",
          "2021-09-14T22:59:31.035134",
          "2021-09-14T23:00:31.035134",
          "2021-09-14T23:01:31.035134",
          "2021-09-14T23:02:31.035134",
          "2021-09-14T23:03:31.035134",
          "2021-09-14T23:04:31.035134",
          "2021-09-14T23:05:31.035134",
          "2021-09-14T23:06:31.035134",
          "2021-09-14T23:07:31.035134",
          "2021-09-14T23:08:31.035134",
          "2021-09-14T23:09:31.035134",
          "2021-09-14T23:10:31.035134",
          "2021-09-14T23:11:31.035134",
          "2021-09-14T23:12:31.035134",
          "2021-09-14T23:13:31.035134",
          "2021-09-14T23:14:31.035134",
          "2021-09-14T23:15:31.035134",
          "2021-09-14T23:16:31.035134",
          "2021-09-14T23:17:31.035134",
          "2021-09-14T23:18:31.035134",
          "2021-09-14T23:19:31.035134",
          "2021-09-14T23:20:31.035134",
          "2021-09-14T23:21:31.035134",
          "2021-09-14T23:22:31.035134",
          "2021-09-14T23:23:31.035134",
          "2021-09-14T23:24:31.035134",
          "2021-09-14T23:25:31.035134",
          "2021-09-14T23:26:31.035134",
          "2021-09-14T23:27:31.035134",
          "2021-09-14T23:28:31.035134",
          "2021-09-14T23:29:31.035134",
          "2021-09-14T23:30:31.035134",
          "2021-09-14T23:31:31.035134",
          "2021-09-14T23:32:31.035134",
          "2021-09-14T23:33:31.035134",
          "2021-09-14T23:34:31.035134",
          "2021-09-14T23:35:31.035134",
          "2021-09-14T23:36:31.035134",
          "2021-09-14T23:37:31.035134",
          "2021-09-14T23:38:31.035134",
          "2021-09-14T23:39:31.035134",
          "2021-09-14T23:40:31.035134",
          "2021-09-14T23:41:31.035134",
          "2021-09-14T23:42:31.035134",
          "2021-09-14T23:43:31.035134",
          "2021-09-14T23:44:31.035134",
          "2021-09-14T23:45:31.035134",
          "2021-09-14T23:46:31.035134",
          "2021-09-14T23:47:31.035134",
          "2021-09-14T23:48:31.035134",
          "2021-09-14T23:49:31.035134",
          "2021-09-14T23:50:31.035134",
          "2021-09-14T23:51:31.035134",
          "2021-09-14T23:52:31.035134",
          "2021-09-14T23:53:31.035134",
          "2021-09-14T23:54:31.035134",
          "2021-09-14T23:55:31.035134",
          "2021-09-14T23:56:31.035134",
          "2021-09-14T23:57:31.035134",
          "2021-09-14T23:58:31.035134",
          "2021-09-14T23:59:31.035134",
          "2021-09-15T00:00:31.035134",
          "2021-09-15T00:01:31.035134",
          "2021-09-15T00:02:31.035134",
          "2021-09-15T00:03:31.035134",
          "2021-09-15T00:04:31.035134",
          "2021-09-15T00:05:31.035134",
          "2021-09-15T00:06:31.035134",
          "2021-09-15T00:07:31.035134",
          "2021-09-15T00:08:31.035134",
          "2021-09-15T00:09:31.035134",
          "2021-09-15T00:10:31.035134",
          "2021-09-15T00:11:31.035134",
          "2021-09-15T00:12:31.035134",
          "2021-09-15T00:13:31.035134",
          "2021-09-15T00:14:31.035134",
          "2021-09-15T00:15:31.035134",
          "2021-09-15T00:16:31.035134",
          "2021-09-15T00:17:31.035134",
          "2021-09-15T00:18:31.035134",
          "2021-09-15T00:19:31.035134",
          "2021-09-15T00:20:31.035134",
          "2021-09-15T00:21:31.035134",
          "2021-09-15T00:22:31.035134",
          "2021-09-15T00:23:31.035134",
          "2021-09-15T00:24:31.035134",
          "2021-09-15T00:25:31.035134",
          "2021-09-15T00:26:31.035134",
          "2021-09-15T00:27:31.035134",
          "2021-09-15T00:28:31.035134",
          "2021-09-15T00:29:31.035134",
          "2021-09-15T00:30:31.035134",
          "2021-09-15T00:31:31.035134",
          "2021-09-15T00:32:31.035134",
          "2021-09-15T00:33:31.035134",
          "2021-09-15T00:34:31.035134",
          "2021-09-15T00:35:31.035134",
          "2021-09-15T00:36:31.035134",
          "2021-09-15T00:37:31.035134",
          "2021-09-15T00:38:31.035134",
          "2021-09-15T00:39:31.035134",
          "2021-09-15T00:40:31.035134",
          "2021-09-15T00:41:31.035134",
          "2021-09-15T00:42:31.035134",
          "2021-09-15T00:43:31.035134",
          "2021-09-15T00:44:31.035134",
          "2021-09-15T00:45:31.035134",
          "2021-09-15T00:46:31.035134",
          "2021-09-15T00:47:31.035134",
          "2021-09-15T00:48:31.035134",
          "2021-09-15T00:49:31.035134",
          "2021-09-15T00:50:31.035134",
          "2021-09-15T00:51:31.035134",
          "2021-09-15T00:52:31.035134",
          "2021-09-15T00:53:31.035134",
          "2021-09-15T00:54:31.035134",
          "2021-09-15T00:55:31.035134",
          "2021-09-15T00:56:31.035134",
          "2021-09-15T00:57:31.035134",
          "2021-09-15T00:58:31.035134",
          "2021-09-15T00:59:31.035134",
          "2021-09-15T01:00:31.035134",
          "2021-09-15T01:01:31.035134",
          "2021-09-15T01:02:31.035134",
          "2021-09-15T01:03:31.035134",
          "2021-09-15T01:04:31.035134",
          "2021-09-15T01:05:31.035134",
          "2021-09-15T01:06:31.035134",
          "2021-09-15T01:07:31.035134",
          "2021-09-15T01:08:31.035134",
          "2021-09-15T01:09:31.035134",
          "2021-09-15T01:10:31.035134",
          "2021-09-15T01:11:31.035134",
          "2021-09-15T01:12:31.035134",
          "2021-09-15T01:13:31.035134",
          "2021-09-15T01:14:31.035134",
          "2021-09-15T01:15:31.035134",
          "2021-09-15T01:16:31.035134",
          "2021-09-15T01:17:31.035134",
          "2021-09-15T01:18:31.035134",
          "2021-09-15T01:19:31.035134",
          "2021-09-15T01:20:31.035134",
          "2021-09-15T01:21:31.035134",
          "2021-09-15T01:22:31.035134",
          "2021-09-15T01:23:31.035134",
          "2021-09-15T01:24:31.035134",
          "2021-09-15T01:25:31.035134",
          "2021-09-15T01:26:31.035134",
          "2021-09-15T01:27:31.035134",
          "2021-09-15T01:28:31.035134",
          "2021-09-15T01:29:31.035134",
          "2021-09-15T01:30:31.035134",
          "2021-09-15T01:31:31.035134",
          "2021-09-15T01:32:31.035134",
          "2021-09-15T01:33:31.035134",
          "2021-09-15T01:34:31.035134",
          "2021-09-15T01:35:31.035134",
          "2021-09-15T01:36:31.035134",
          "2021-09-15T01:37:31.035134",
          "2021-09-15T01:38:31.035134",
          "2021-09-15T01:39:31.035134",
          "2021-09-15T01:40:31.035134",
          "2021-09-15T01:41:31.035134",
          "2021-09-15T01:42:31.035134",
          "2021-09-15T01:43:31.035134",
          "2021-09-15T01:44:31.035134",
          "2021-09-15T01:45:31.035134",
          "2021-09-15T01:46:31.035134",
          "2021-09-15T01:47:31.035134",
          "2021-09-15T01:48:31.035134",
          "2021-09-15T01:49:31.035134",
          "2021-09-15T01:50:31.035134",
          "2021-09-15T01:51:31.035134",
          "2021-09-15T01:52:31.035134",
          "2021-09-15T01:53:31.035134",
          "2021-09-15T01:54:31.035134",
          "2021-09-15T01:55:31.035134",
          "2021-09-15T01:56:31.035134",
          "2021-09-15T01:57:31.035134",
          "2021-09-15T01:58:31.035134",
          "2021-09-15T01:59:31.035134",
          "2021-09-15T02:00:31.035134",
          "2021-09-15T02:01:31.035134",
          "2021-09-15T02:02:31.035134",
          "2021-09-15T02:03:31.035134",
          "2021-09-15T02:04:31.035134",
          "2021-09-15T02:05:31.035134",
          "2021-09-15T02:06:31.035134",
          "2021-09-15T02:07:31.035134",
          "2021-09-15T02:08:31.035134",
          "2021-09-15T02:09:31.035134",
          "2021-09-15T02:10:31.035134",
          "2021-09-15T02:11:31.035134",
          "2021-09-15T02:12:31.035134",
          "2021-09-15T02:13:31.035134",
          "2021-09-15T02:14:31.035134",
          "2021-09-15T02:15:31.035134",
          "2021-09-15T02:16:31.035134",
          "2021-09-15T02:17:31.035134",
          "2021-09-15T02:18:31.035134",
          "2021-09-15T02:19:31.035134",
          "2021-09-15T02:20:31.035134",
          "2021-09-15T02:21:31.035134",
          "2021-09-15T02:22:31.035134",
          "2021-09-15T02:23:31.035134",
          "2021-09-15T02:24:31.035134",
          "2021-09-15T02:25:31.035134",
          "2021-09-15T02:26:31.035134",
          "2021-09-15T02:27:31.035134",
          "2021-09-15T02:28:31.035134",
          "2021-09-15T02:29:31.035134",
          "2021-09-15T02:30:31.035134",
          "2021-09-15T02:31:31.035134",
          "2021-09-15T02:32:31.035134",
          "2021-09-15T02:33:31.035134",
          "2021-09-15T02:34:31.035134",
          "2021-09-15T02:35:31.035134",
          "2021-09-15T02:36:31.035134",
          "2021-09-15T02:37:31.035134",
          "2021-09-15T02:38:31.035134",
          "2021-09-15T02:39:31.035134",
          "2021-09-15T02:40:31.035134",
          "2021-09-15T02:41:31.035134",
          "2021-09-15T02:42:31.035134",
          "2021-09-15T02:43:31.035134",
          "2021-09-15T02:44:31.035134",
          "2021-09-15T02:45:31.035134",
          "2021-09-15T02:46:31.035134",
          "2021-09-15T02:47:31.035134",
          "2021-09-15T02:48:31.035134",
          "2021-09-15T02:49:31.035134",
          "2021-09-15T02:50:31.035134",
          "2021-09-15T02:51:31.035134",
          "2021-09-15T02:52:31.035134",
          "2021-09-15T02:53:31.035134",
          "2021-09-15T02:54:31.035134",
          "2021-09-15T02:55:31.035134",
          "2021-09-15T02:56:31.035134",
          "2021-09-15T02:57:31.035134",
          "2021-09-15T02:58:31.035134",
          "2021-09-15T02:59:31.035134",
          "2021-09-15T03:00:31.035134",
          "2021-09-15T03:01:31.035134",
          "2021-09-15T03:02:31.035134",
          "2021-09-15T03:03:31.035134",
          "2021-09-15T03:04:31.035134",
          "2021-09-15T03:05:31.035134",
          "2021-09-15T03:06:31.035134",
          "2021-09-15T03:07:31.035134",
          "2021-09-15T03:08:31.035134",
          "2021-09-15T03:09:31.035134",
          "2021-09-15T03:10:31.035134",
          "2021-09-15T03:11:31.035134",
          "2021-09-15T03:12:31.035134",
          "2021-09-15T03:13:31.035134",
          "2021-09-15T03:14:31.035134",
          "2021-09-15T03:15:31.035134",
          "2021-09-15T03:16:31.035134",
          "2021-09-15T03:17:31.035134",
          "2021-09-15T03:18:31.035134",
          "2021-09-15T03:19:31.035134",
          "2021-09-15T03:20:31.035134",
          "2021-09-15T03:21:31.035134",
          "2021-09-15T03:22:31.035134",
          "2021-09-15T03:23:31.035134",
          "2021-09-15T03:24:31.035134",
          "2021-09-15T03:25:31.035134",
          "2021-09-15T03:26:31.035134",
          "2021-09-15T03:27:31.035134",
          "2021-09-15T03:28:31.035134",
          "2021-09-15T03:29:31.035134",
          "2021-09-15T03:30:31.035134",
          "2021-09-15T03:31:31.035134",
          "2021-09-15T03:32:31.035134",
          "2021-09-15T03:33:31.035134",
          "2021-09-15T03:34:31.035134",
          "2021-09-15T03:35:31.035134",
          "2021-09-15T03:36:31.035134",
          "2021-09-15T03:37:31.035134",
          "2021-09-15T03:38:31.035134",
          "2021-09-15T03:39:31.035134",
          "2021-09-15T03:40:31.035134",
          "2021-09-15T03:41:31.035134",
          "2021-09-15T03:42:31.035134",
          "2021-09-15T03:43:31.035134",
          "2021-09-15T03:44:31.035134",
          "2021-09-15T03:45:31.035134",
          "2021-09-15T03:46:31.035134",
          "2021-09-15T03:47:31.035134",
          "2021-09-15T03:48:31.035134",
          "2021-09-15T03:49:31.035134",
          "2021-09-15T03:50:31.035134",
          "2021-09-15T03:51:31.035134",
          "2021-09-15T03:52:31.035134",
          "2021-09-15T03:53:31.035134",
          "2021-09-15T03:54:31.035134",
          "2021-09-15T03:55:31.035134",
          "2021-09-15T03:56:31.035134",
          "2021-09-15T03:57:31.035134",
          "2021-09-15T03:58:31.035134",
          "2021-09-15T03:59:31.035134",
          "2021-09-15T04:00:31.035134",
          "2021-09-15T04:01:31.035134",
          "2021-09-15T04:02:31.035134",
          "2021-09-15T04:03:31.035134",
          "2021-09-15T04:04:31.035134",
          "2021-09-15T04:05:31.035134",
          "2021-09-15T04:06:31.035134",
          "2021-09-15T04:07:31.035134",
          "2021-09-15T04:08:31.035134",
          "2021-09-15T04:09:31.035134"
         ],
         "xaxis": "x",
         "y": [
          3,
          6,
          9,
          12,
          15,
          18,
          21,
          24,
          27,
          30,
          33,
          36,
          39,
          42,
          45,
          48,
          51,
          54,
          57,
          60,
          60,
          60,
          60,
          60,
          60,
          60,
          60,
          60,
          60,
          60,
          60,
          60,
          60,
          60,
          60,
          60,
          60,
          60,
          60,
          60,
          60,
          60,
          60,
          60,
          60,
          60,
          60,
          60,
          60,
          60,
          60,
          60,
          60,
          60,
          60,
          60,
          60,
          60,
          60,
          60,
          60,
          60,
          60,
          60,
          60,
          60,
          60,
          60,
          60,
          60,
          60,
          60,
          60,
          60,
          60,
          60,
          60,
          60,
          60,
          60,
          60,
          60,
          60,
          60,
          60,
          60,
          60,
          60,
          60,
          60,
          60,
          60,
          60,
          60,
          60,
          60,
          60,
          60,
          60,
          60,
          60,
          60,
          60,
          60,
          60,
          60,
          60,
          60,
          60,
          60,
          60,
          60,
          60,
          60,
          60,
          60,
          60,
          60,
          60,
          60,
          60,
          60,
          60,
          60,
          60,
          60,
          60,
          60,
          60,
          60,
          60,
          60,
          60,
          60,
          60,
          60,
          60,
          60,
          60,
          60,
          60,
          60,
          60,
          60,
          60,
          60,
          60,
          60,
          60,
          60,
          60,
          60,
          60,
          60,
          60,
          60,
          60,
          60,
          60,
          60,
          60,
          60,
          60,
          60,
          60,
          60,
          60,
          60,
          60,
          60,
          60,
          60,
          60,
          60,
          60,
          60,
          60,
          60,
          60,
          60,
          60,
          60,
          60,
          60,
          60,
          60,
          60,
          60,
          60,
          60,
          60,
          60,
          60,
          60,
          60,
          60,
          60,
          60,
          60,
          60,
          60,
          60,
          60,
          60,
          60,
          60,
          60,
          60,
          60,
          60,
          60,
          60,
          60,
          60,
          60,
          60,
          60,
          60,
          60,
          60,
          60,
          60,
          60,
          60,
          60,
          60,
          60,
          60,
          60,
          60,
          60,
          60,
          60,
          60,
          60,
          60,
          60,
          60,
          60,
          60,
          60,
          60,
          60,
          60,
          60,
          60,
          60,
          60,
          60,
          60,
          60,
          60,
          60,
          60,
          60,
          60,
          60,
          60,
          60,
          60,
          60,
          60,
          60,
          60,
          60,
          60,
          60,
          60,
          60,
          60,
          60,
          60,
          60,
          60,
          60,
          60,
          60,
          60,
          60,
          60,
          60,
          60,
          60,
          60,
          60,
          60,
          60,
          60,
          60,
          60,
          60,
          60,
          60,
          60,
          60,
          60,
          60,
          60,
          60,
          60,
          60,
          60,
          60,
          60,
          60,
          60,
          60,
          60,
          60,
          60,
          60,
          60,
          60,
          60,
          60,
          60,
          60,
          60,
          60,
          60,
          60,
          60,
          60,
          60,
          60,
          60,
          60,
          60,
          60,
          60,
          60,
          60,
          60,
          60,
          60,
          60,
          60,
          60,
          60,
          60,
          60,
          60,
          60,
          60,
          60,
          60,
          60,
          60,
          60,
          60,
          60,
          60,
          60,
          60,
          60,
          60,
          60,
          60,
          60,
          60
         ],
         "yaxis": "y"
        }
       ],
       "layout": {
        "barmode": "relative",
        "legend": {
         "tracegroupgap": 0
        },
        "margin": {
         "t": 60
        },
        "template": {
         "data": {
          "bar": [
           {
            "error_x": {
             "color": "#2a3f5f"
            },
            "error_y": {
             "color": "#2a3f5f"
            },
            "marker": {
             "line": {
              "color": "#E5ECF6",
              "width": 0.5
             },
             "pattern": {
              "fillmode": "overlay",
              "size": 10,
              "solidity": 0.2
             }
            },
            "type": "bar"
           }
          ],
          "barpolar": [
           {
            "marker": {
             "line": {
              "color": "#E5ECF6",
              "width": 0.5
             },
             "pattern": {
              "fillmode": "overlay",
              "size": 10,
              "solidity": 0.2
             }
            },
            "type": "barpolar"
           }
          ],
          "carpet": [
           {
            "aaxis": {
             "endlinecolor": "#2a3f5f",
             "gridcolor": "white",
             "linecolor": "white",
             "minorgridcolor": "white",
             "startlinecolor": "#2a3f5f"
            },
            "baxis": {
             "endlinecolor": "#2a3f5f",
             "gridcolor": "white",
             "linecolor": "white",
             "minorgridcolor": "white",
             "startlinecolor": "#2a3f5f"
            },
            "type": "carpet"
           }
          ],
          "choropleth": [
           {
            "colorbar": {
             "outlinewidth": 0,
             "ticks": ""
            },
            "type": "choropleth"
           }
          ],
          "contour": [
           {
            "colorbar": {
             "outlinewidth": 0,
             "ticks": ""
            },
            "colorscale": [
             [
              0,
              "#0d0887"
             ],
             [
              0.1111111111111111,
              "#46039f"
             ],
             [
              0.2222222222222222,
              "#7201a8"
             ],
             [
              0.3333333333333333,
              "#9c179e"
             ],
             [
              0.4444444444444444,
              "#bd3786"
             ],
             [
              0.5555555555555556,
              "#d8576b"
             ],
             [
              0.6666666666666666,
              "#ed7953"
             ],
             [
              0.7777777777777778,
              "#fb9f3a"
             ],
             [
              0.8888888888888888,
              "#fdca26"
             ],
             [
              1,
              "#f0f921"
             ]
            ],
            "type": "contour"
           }
          ],
          "contourcarpet": [
           {
            "colorbar": {
             "outlinewidth": 0,
             "ticks": ""
            },
            "type": "contourcarpet"
           }
          ],
          "heatmap": [
           {
            "colorbar": {
             "outlinewidth": 0,
             "ticks": ""
            },
            "colorscale": [
             [
              0,
              "#0d0887"
             ],
             [
              0.1111111111111111,
              "#46039f"
             ],
             [
              0.2222222222222222,
              "#7201a8"
             ],
             [
              0.3333333333333333,
              "#9c179e"
             ],
             [
              0.4444444444444444,
              "#bd3786"
             ],
             [
              0.5555555555555556,
              "#d8576b"
             ],
             [
              0.6666666666666666,
              "#ed7953"
             ],
             [
              0.7777777777777778,
              "#fb9f3a"
             ],
             [
              0.8888888888888888,
              "#fdca26"
             ],
             [
              1,
              "#f0f921"
             ]
            ],
            "type": "heatmap"
           }
          ],
          "heatmapgl": [
           {
            "colorbar": {
             "outlinewidth": 0,
             "ticks": ""
            },
            "colorscale": [
             [
              0,
              "#0d0887"
             ],
             [
              0.1111111111111111,
              "#46039f"
             ],
             [
              0.2222222222222222,
              "#7201a8"
             ],
             [
              0.3333333333333333,
              "#9c179e"
             ],
             [
              0.4444444444444444,
              "#bd3786"
             ],
             [
              0.5555555555555556,
              "#d8576b"
             ],
             [
              0.6666666666666666,
              "#ed7953"
             ],
             [
              0.7777777777777778,
              "#fb9f3a"
             ],
             [
              0.8888888888888888,
              "#fdca26"
             ],
             [
              1,
              "#f0f921"
             ]
            ],
            "type": "heatmapgl"
           }
          ],
          "histogram": [
           {
            "marker": {
             "pattern": {
              "fillmode": "overlay",
              "size": 10,
              "solidity": 0.2
             }
            },
            "type": "histogram"
           }
          ],
          "histogram2d": [
           {
            "colorbar": {
             "outlinewidth": 0,
             "ticks": ""
            },
            "colorscale": [
             [
              0,
              "#0d0887"
             ],
             [
              0.1111111111111111,
              "#46039f"
             ],
             [
              0.2222222222222222,
              "#7201a8"
             ],
             [
              0.3333333333333333,
              "#9c179e"
             ],
             [
              0.4444444444444444,
              "#bd3786"
             ],
             [
              0.5555555555555556,
              "#d8576b"
             ],
             [
              0.6666666666666666,
              "#ed7953"
             ],
             [
              0.7777777777777778,
              "#fb9f3a"
             ],
             [
              0.8888888888888888,
              "#fdca26"
             ],
             [
              1,
              "#f0f921"
             ]
            ],
            "type": "histogram2d"
           }
          ],
          "histogram2dcontour": [
           {
            "colorbar": {
             "outlinewidth": 0,
             "ticks": ""
            },
            "colorscale": [
             [
              0,
              "#0d0887"
             ],
             [
              0.1111111111111111,
              "#46039f"
             ],
             [
              0.2222222222222222,
              "#7201a8"
             ],
             [
              0.3333333333333333,
              "#9c179e"
             ],
             [
              0.4444444444444444,
              "#bd3786"
             ],
             [
              0.5555555555555556,
              "#d8576b"
             ],
             [
              0.6666666666666666,
              "#ed7953"
             ],
             [
              0.7777777777777778,
              "#fb9f3a"
             ],
             [
              0.8888888888888888,
              "#fdca26"
             ],
             [
              1,
              "#f0f921"
             ]
            ],
            "type": "histogram2dcontour"
           }
          ],
          "mesh3d": [
           {
            "colorbar": {
             "outlinewidth": 0,
             "ticks": ""
            },
            "type": "mesh3d"
           }
          ],
          "parcoords": [
           {
            "line": {
             "colorbar": {
              "outlinewidth": 0,
              "ticks": ""
             }
            },
            "type": "parcoords"
           }
          ],
          "pie": [
           {
            "automargin": true,
            "type": "pie"
           }
          ],
          "scatter": [
           {
            "marker": {
             "colorbar": {
              "outlinewidth": 0,
              "ticks": ""
             }
            },
            "type": "scatter"
           }
          ],
          "scatter3d": [
           {
            "line": {
             "colorbar": {
              "outlinewidth": 0,
              "ticks": ""
             }
            },
            "marker": {
             "colorbar": {
              "outlinewidth": 0,
              "ticks": ""
             }
            },
            "type": "scatter3d"
           }
          ],
          "scattercarpet": [
           {
            "marker": {
             "colorbar": {
              "outlinewidth": 0,
              "ticks": ""
             }
            },
            "type": "scattercarpet"
           }
          ],
          "scattergeo": [
           {
            "marker": {
             "colorbar": {
              "outlinewidth": 0,
              "ticks": ""
             }
            },
            "type": "scattergeo"
           }
          ],
          "scattergl": [
           {
            "marker": {
             "colorbar": {
              "outlinewidth": 0,
              "ticks": ""
             }
            },
            "type": "scattergl"
           }
          ],
          "scattermapbox": [
           {
            "marker": {
             "colorbar": {
              "outlinewidth": 0,
              "ticks": ""
             }
            },
            "type": "scattermapbox"
           }
          ],
          "scatterpolar": [
           {
            "marker": {
             "colorbar": {
              "outlinewidth": 0,
              "ticks": ""
             }
            },
            "type": "scatterpolar"
           }
          ],
          "scatterpolargl": [
           {
            "marker": {
             "colorbar": {
              "outlinewidth": 0,
              "ticks": ""
             }
            },
            "type": "scatterpolargl"
           }
          ],
          "scatterternary": [
           {
            "marker": {
             "colorbar": {
              "outlinewidth": 0,
              "ticks": ""
             }
            },
            "type": "scatterternary"
           }
          ],
          "surface": [
           {
            "colorbar": {
             "outlinewidth": 0,
             "ticks": ""
            },
            "colorscale": [
             [
              0,
              "#0d0887"
             ],
             [
              0.1111111111111111,
              "#46039f"
             ],
             [
              0.2222222222222222,
              "#7201a8"
             ],
             [
              0.3333333333333333,
              "#9c179e"
             ],
             [
              0.4444444444444444,
              "#bd3786"
             ],
             [
              0.5555555555555556,
              "#d8576b"
             ],
             [
              0.6666666666666666,
              "#ed7953"
             ],
             [
              0.7777777777777778,
              "#fb9f3a"
             ],
             [
              0.8888888888888888,
              "#fdca26"
             ],
             [
              1,
              "#f0f921"
             ]
            ],
            "type": "surface"
           }
          ],
          "table": [
           {
            "cells": {
             "fill": {
              "color": "#EBF0F8"
             },
             "line": {
              "color": "white"
             }
            },
            "header": {
             "fill": {
              "color": "#C8D4E3"
             },
             "line": {
              "color": "white"
             }
            },
            "type": "table"
           }
          ]
         },
         "layout": {
          "annotationdefaults": {
           "arrowcolor": "#2a3f5f",
           "arrowhead": 0,
           "arrowwidth": 1
          },
          "autotypenumbers": "strict",
          "coloraxis": {
           "colorbar": {
            "outlinewidth": 0,
            "ticks": ""
           }
          },
          "colorscale": {
           "diverging": [
            [
             0,
             "#8e0152"
            ],
            [
             0.1,
             "#c51b7d"
            ],
            [
             0.2,
             "#de77ae"
            ],
            [
             0.3,
             "#f1b6da"
            ],
            [
             0.4,
             "#fde0ef"
            ],
            [
             0.5,
             "#f7f7f7"
            ],
            [
             0.6,
             "#e6f5d0"
            ],
            [
             0.7,
             "#b8e186"
            ],
            [
             0.8,
             "#7fbc41"
            ],
            [
             0.9,
             "#4d9221"
            ],
            [
             1,
             "#276419"
            ]
           ],
           "sequential": [
            [
             0,
             "#0d0887"
            ],
            [
             0.1111111111111111,
             "#46039f"
            ],
            [
             0.2222222222222222,
             "#7201a8"
            ],
            [
             0.3333333333333333,
             "#9c179e"
            ],
            [
             0.4444444444444444,
             "#bd3786"
            ],
            [
             0.5555555555555556,
             "#d8576b"
            ],
            [
             0.6666666666666666,
             "#ed7953"
            ],
            [
             0.7777777777777778,
             "#fb9f3a"
            ],
            [
             0.8888888888888888,
             "#fdca26"
            ],
            [
             1,
             "#f0f921"
            ]
           ],
           "sequentialminus": [
            [
             0,
             "#0d0887"
            ],
            [
             0.1111111111111111,
             "#46039f"
            ],
            [
             0.2222222222222222,
             "#7201a8"
            ],
            [
             0.3333333333333333,
             "#9c179e"
            ],
            [
             0.4444444444444444,
             "#bd3786"
            ],
            [
             0.5555555555555556,
             "#d8576b"
            ],
            [
             0.6666666666666666,
             "#ed7953"
            ],
            [
             0.7777777777777778,
             "#fb9f3a"
            ],
            [
             0.8888888888888888,
             "#fdca26"
            ],
            [
             1,
             "#f0f921"
            ]
           ]
          },
          "colorway": [
           "#636efa",
           "#EF553B",
           "#00cc96",
           "#ab63fa",
           "#FFA15A",
           "#19d3f3",
           "#FF6692",
           "#B6E880",
           "#FF97FF",
           "#FECB52"
          ],
          "font": {
           "color": "#2a3f5f"
          },
          "geo": {
           "bgcolor": "white",
           "lakecolor": "white",
           "landcolor": "#E5ECF6",
           "showlakes": true,
           "showland": true,
           "subunitcolor": "white"
          },
          "hoverlabel": {
           "align": "left"
          },
          "hovermode": "closest",
          "mapbox": {
           "style": "light"
          },
          "paper_bgcolor": "white",
          "plot_bgcolor": "#E5ECF6",
          "polar": {
           "angularaxis": {
            "gridcolor": "white",
            "linecolor": "white",
            "ticks": ""
           },
           "bgcolor": "#E5ECF6",
           "radialaxis": {
            "gridcolor": "white",
            "linecolor": "white",
            "ticks": ""
           }
          },
          "scene": {
           "xaxis": {
            "backgroundcolor": "#E5ECF6",
            "gridcolor": "white",
            "gridwidth": 2,
            "linecolor": "white",
            "showbackground": true,
            "ticks": "",
            "zerolinecolor": "white"
           },
           "yaxis": {
            "backgroundcolor": "#E5ECF6",
            "gridcolor": "white",
            "gridwidth": 2,
            "linecolor": "white",
            "showbackground": true,
            "ticks": "",
            "zerolinecolor": "white"
           },
           "zaxis": {
            "backgroundcolor": "#E5ECF6",
            "gridcolor": "white",
            "gridwidth": 2,
            "linecolor": "white",
            "showbackground": true,
            "ticks": "",
            "zerolinecolor": "white"
           }
          },
          "shapedefaults": {
           "line": {
            "color": "#2a3f5f"
           }
          },
          "ternary": {
           "aaxis": {
            "gridcolor": "white",
            "linecolor": "white",
            "ticks": ""
           },
           "baxis": {
            "gridcolor": "white",
            "linecolor": "white",
            "ticks": ""
           },
           "bgcolor": "#E5ECF6",
           "caxis": {
            "gridcolor": "white",
            "linecolor": "white",
            "ticks": ""
           }
          },
          "title": {
           "x": 0.05
          },
          "xaxis": {
           "automargin": true,
           "gridcolor": "white",
           "linecolor": "white",
           "ticks": "",
           "title": {
            "standoff": 15
           },
           "zerolinecolor": "white",
           "zerolinewidth": 2
          },
          "yaxis": {
           "automargin": true,
           "gridcolor": "white",
           "linecolor": "white",
           "ticks": "",
           "title": {
            "standoff": 15
           },
           "zerolinecolor": "white",
           "zerolinewidth": 2
          }
         }
        },
        "xaxis": {
         "anchor": "y",
         "domain": [
          0,
          1
         ],
         "title": {
          "text": "Timestamp"
         }
        },
        "yaxis": {
         "anchor": "x",
         "domain": [
          0,
          1
         ],
         "title": {
          "text": "Value"
         }
        }
       }
      },
      "text/html": [
       "<div>                            <div id=\"296f0fa3-6cdf-4e0e-88fa-4c578f72a757\" class=\"plotly-graph-div\" style=\"height:525px; width:100%;\"></div>            <script type=\"text/javascript\">                require([\"plotly\"], function(Plotly) {                    window.PLOTLYENV=window.PLOTLYENV || {};                                    if (document.getElementById(\"296f0fa3-6cdf-4e0e-88fa-4c578f72a757\")) {                    Plotly.newPlot(                        \"296f0fa3-6cdf-4e0e-88fa-4c578f72a757\",                        [{\"alignmentgroup\":\"True\",\"hovertemplate\":\"Timestamp=%{x}<br>Value=%{y}<extra></extra>\",\"legendgroup\":\"\",\"marker\":{\"color\":\"#636efa\",\"pattern\":{\"shape\":\"\"}},\"name\":\"\",\"offsetgroup\":\"\",\"orientation\":\"v\",\"showlegend\":false,\"textposition\":\"auto\",\"type\":\"bar\",\"x\":[\"2021-09-14T22:10:31.035134\",\"2021-09-14T22:11:31.035134\",\"2021-09-14T22:12:31.035134\",\"2021-09-14T22:13:31.035134\",\"2021-09-14T22:14:31.035134\",\"2021-09-14T22:15:31.035134\",\"2021-09-14T22:16:31.035134\",\"2021-09-14T22:17:31.035134\",\"2021-09-14T22:18:31.035134\",\"2021-09-14T22:19:31.035134\",\"2021-09-14T22:20:31.035134\",\"2021-09-14T22:21:31.035134\",\"2021-09-14T22:22:31.035134\",\"2021-09-14T22:23:31.035134\",\"2021-09-14T22:24:31.035134\",\"2021-09-14T22:25:31.035134\",\"2021-09-14T22:26:31.035134\",\"2021-09-14T22:27:31.035134\",\"2021-09-14T22:28:31.035134\",\"2021-09-14T22:29:31.035134\",\"2021-09-14T22:30:31.035134\",\"2021-09-14T22:31:31.035134\",\"2021-09-14T22:32:31.035134\",\"2021-09-14T22:33:31.035134\",\"2021-09-14T22:34:31.035134\",\"2021-09-14T22:35:31.035134\",\"2021-09-14T22:36:31.035134\",\"2021-09-14T22:37:31.035134\",\"2021-09-14T22:38:31.035134\",\"2021-09-14T22:39:31.035134\",\"2021-09-14T22:40:31.035134\",\"2021-09-14T22:41:31.035134\",\"2021-09-14T22:42:31.035134\",\"2021-09-14T22:43:31.035134\",\"2021-09-14T22:44:31.035134\",\"2021-09-14T22:45:31.035134\",\"2021-09-14T22:46:31.035134\",\"2021-09-14T22:47:31.035134\",\"2021-09-14T22:48:31.035134\",\"2021-09-14T22:49:31.035134\",\"2021-09-14T22:50:31.035134\",\"2021-09-14T22:51:31.035134\",\"2021-09-14T22:52:31.035134\",\"2021-09-14T22:53:31.035134\",\"2021-09-14T22:54:31.035134\",\"2021-09-14T22:55:31.035134\",\"2021-09-14T22:56:31.035134\",\"2021-09-14T22:57:31.035134\",\"2021-09-14T22:58:31.035134\",\"2021-09-14T22:59:31.035134\",\"2021-09-14T23:00:31.035134\",\"2021-09-14T23:01:31.035134\",\"2021-09-14T23:02:31.035134\",\"2021-09-14T23:03:31.035134\",\"2021-09-14T23:04:31.035134\",\"2021-09-14T23:05:31.035134\",\"2021-09-14T23:06:31.035134\",\"2021-09-14T23:07:31.035134\",\"2021-09-14T23:08:31.035134\",\"2021-09-14T23:09:31.035134\",\"2021-09-14T23:10:31.035134\",\"2021-09-14T23:11:31.035134\",\"2021-09-14T23:12:31.035134\",\"2021-09-14T23:13:31.035134\",\"2021-09-14T23:14:31.035134\",\"2021-09-14T23:15:31.035134\",\"2021-09-14T23:16:31.035134\",\"2021-09-14T23:17:31.035134\",\"2021-09-14T23:18:31.035134\",\"2021-09-14T23:19:31.035134\",\"2021-09-14T23:20:31.035134\",\"2021-09-14T23:21:31.035134\",\"2021-09-14T23:22:31.035134\",\"2021-09-14T23:23:31.035134\",\"2021-09-14T23:24:31.035134\",\"2021-09-14T23:25:31.035134\",\"2021-09-14T23:26:31.035134\",\"2021-09-14T23:27:31.035134\",\"2021-09-14T23:28:31.035134\",\"2021-09-14T23:29:31.035134\",\"2021-09-14T23:30:31.035134\",\"2021-09-14T23:31:31.035134\",\"2021-09-14T23:32:31.035134\",\"2021-09-14T23:33:31.035134\",\"2021-09-14T23:34:31.035134\",\"2021-09-14T23:35:31.035134\",\"2021-09-14T23:36:31.035134\",\"2021-09-14T23:37:31.035134\",\"2021-09-14T23:38:31.035134\",\"2021-09-14T23:39:31.035134\",\"2021-09-14T23:40:31.035134\",\"2021-09-14T23:41:31.035134\",\"2021-09-14T23:42:31.035134\",\"2021-09-14T23:43:31.035134\",\"2021-09-14T23:44:31.035134\",\"2021-09-14T23:45:31.035134\",\"2021-09-14T23:46:31.035134\",\"2021-09-14T23:47:31.035134\",\"2021-09-14T23:48:31.035134\",\"2021-09-14T23:49:31.035134\",\"2021-09-14T23:50:31.035134\",\"2021-09-14T23:51:31.035134\",\"2021-09-14T23:52:31.035134\",\"2021-09-14T23:53:31.035134\",\"2021-09-14T23:54:31.035134\",\"2021-09-14T23:55:31.035134\",\"2021-09-14T23:56:31.035134\",\"2021-09-14T23:57:31.035134\",\"2021-09-14T23:58:31.035134\",\"2021-09-14T23:59:31.035134\",\"2021-09-15T00:00:31.035134\",\"2021-09-15T00:01:31.035134\",\"2021-09-15T00:02:31.035134\",\"2021-09-15T00:03:31.035134\",\"2021-09-15T00:04:31.035134\",\"2021-09-15T00:05:31.035134\",\"2021-09-15T00:06:31.035134\",\"2021-09-15T00:07:31.035134\",\"2021-09-15T00:08:31.035134\",\"2021-09-15T00:09:31.035134\",\"2021-09-15T00:10:31.035134\",\"2021-09-15T00:11:31.035134\",\"2021-09-15T00:12:31.035134\",\"2021-09-15T00:13:31.035134\",\"2021-09-15T00:14:31.035134\",\"2021-09-15T00:15:31.035134\",\"2021-09-15T00:16:31.035134\",\"2021-09-15T00:17:31.035134\",\"2021-09-15T00:18:31.035134\",\"2021-09-15T00:19:31.035134\",\"2021-09-15T00:20:31.035134\",\"2021-09-15T00:21:31.035134\",\"2021-09-15T00:22:31.035134\",\"2021-09-15T00:23:31.035134\",\"2021-09-15T00:24:31.035134\",\"2021-09-15T00:25:31.035134\",\"2021-09-15T00:26:31.035134\",\"2021-09-15T00:27:31.035134\",\"2021-09-15T00:28:31.035134\",\"2021-09-15T00:29:31.035134\",\"2021-09-15T00:30:31.035134\",\"2021-09-15T00:31:31.035134\",\"2021-09-15T00:32:31.035134\",\"2021-09-15T00:33:31.035134\",\"2021-09-15T00:34:31.035134\",\"2021-09-15T00:35:31.035134\",\"2021-09-15T00:36:31.035134\",\"2021-09-15T00:37:31.035134\",\"2021-09-15T00:38:31.035134\",\"2021-09-15T00:39:31.035134\",\"2021-09-15T00:40:31.035134\",\"2021-09-15T00:41:31.035134\",\"2021-09-15T00:42:31.035134\",\"2021-09-15T00:43:31.035134\",\"2021-09-15T00:44:31.035134\",\"2021-09-15T00:45:31.035134\",\"2021-09-15T00:46:31.035134\",\"2021-09-15T00:47:31.035134\",\"2021-09-15T00:48:31.035134\",\"2021-09-15T00:49:31.035134\",\"2021-09-15T00:50:31.035134\",\"2021-09-15T00:51:31.035134\",\"2021-09-15T00:52:31.035134\",\"2021-09-15T00:53:31.035134\",\"2021-09-15T00:54:31.035134\",\"2021-09-15T00:55:31.035134\",\"2021-09-15T00:56:31.035134\",\"2021-09-15T00:57:31.035134\",\"2021-09-15T00:58:31.035134\",\"2021-09-15T00:59:31.035134\",\"2021-09-15T01:00:31.035134\",\"2021-09-15T01:01:31.035134\",\"2021-09-15T01:02:31.035134\",\"2021-09-15T01:03:31.035134\",\"2021-09-15T01:04:31.035134\",\"2021-09-15T01:05:31.035134\",\"2021-09-15T01:06:31.035134\",\"2021-09-15T01:07:31.035134\",\"2021-09-15T01:08:31.035134\",\"2021-09-15T01:09:31.035134\",\"2021-09-15T01:10:31.035134\",\"2021-09-15T01:11:31.035134\",\"2021-09-15T01:12:31.035134\",\"2021-09-15T01:13:31.035134\",\"2021-09-15T01:14:31.035134\",\"2021-09-15T01:15:31.035134\",\"2021-09-15T01:16:31.035134\",\"2021-09-15T01:17:31.035134\",\"2021-09-15T01:18:31.035134\",\"2021-09-15T01:19:31.035134\",\"2021-09-15T01:20:31.035134\",\"2021-09-15T01:21:31.035134\",\"2021-09-15T01:22:31.035134\",\"2021-09-15T01:23:31.035134\",\"2021-09-15T01:24:31.035134\",\"2021-09-15T01:25:31.035134\",\"2021-09-15T01:26:31.035134\",\"2021-09-15T01:27:31.035134\",\"2021-09-15T01:28:31.035134\",\"2021-09-15T01:29:31.035134\",\"2021-09-15T01:30:31.035134\",\"2021-09-15T01:31:31.035134\",\"2021-09-15T01:32:31.035134\",\"2021-09-15T01:33:31.035134\",\"2021-09-15T01:34:31.035134\",\"2021-09-15T01:35:31.035134\",\"2021-09-15T01:36:31.035134\",\"2021-09-15T01:37:31.035134\",\"2021-09-15T01:38:31.035134\",\"2021-09-15T01:39:31.035134\",\"2021-09-15T01:40:31.035134\",\"2021-09-15T01:41:31.035134\",\"2021-09-15T01:42:31.035134\",\"2021-09-15T01:43:31.035134\",\"2021-09-15T01:44:31.035134\",\"2021-09-15T01:45:31.035134\",\"2021-09-15T01:46:31.035134\",\"2021-09-15T01:47:31.035134\",\"2021-09-15T01:48:31.035134\",\"2021-09-15T01:49:31.035134\",\"2021-09-15T01:50:31.035134\",\"2021-09-15T01:51:31.035134\",\"2021-09-15T01:52:31.035134\",\"2021-09-15T01:53:31.035134\",\"2021-09-15T01:54:31.035134\",\"2021-09-15T01:55:31.035134\",\"2021-09-15T01:56:31.035134\",\"2021-09-15T01:57:31.035134\",\"2021-09-15T01:58:31.035134\",\"2021-09-15T01:59:31.035134\",\"2021-09-15T02:00:31.035134\",\"2021-09-15T02:01:31.035134\",\"2021-09-15T02:02:31.035134\",\"2021-09-15T02:03:31.035134\",\"2021-09-15T02:04:31.035134\",\"2021-09-15T02:05:31.035134\",\"2021-09-15T02:06:31.035134\",\"2021-09-15T02:07:31.035134\",\"2021-09-15T02:08:31.035134\",\"2021-09-15T02:09:31.035134\",\"2021-09-15T02:10:31.035134\",\"2021-09-15T02:11:31.035134\",\"2021-09-15T02:12:31.035134\",\"2021-09-15T02:13:31.035134\",\"2021-09-15T02:14:31.035134\",\"2021-09-15T02:15:31.035134\",\"2021-09-15T02:16:31.035134\",\"2021-09-15T02:17:31.035134\",\"2021-09-15T02:18:31.035134\",\"2021-09-15T02:19:31.035134\",\"2021-09-15T02:20:31.035134\",\"2021-09-15T02:21:31.035134\",\"2021-09-15T02:22:31.035134\",\"2021-09-15T02:23:31.035134\",\"2021-09-15T02:24:31.035134\",\"2021-09-15T02:25:31.035134\",\"2021-09-15T02:26:31.035134\",\"2021-09-15T02:27:31.035134\",\"2021-09-15T02:28:31.035134\",\"2021-09-15T02:29:31.035134\",\"2021-09-15T02:30:31.035134\",\"2021-09-15T02:31:31.035134\",\"2021-09-15T02:32:31.035134\",\"2021-09-15T02:33:31.035134\",\"2021-09-15T02:34:31.035134\",\"2021-09-15T02:35:31.035134\",\"2021-09-15T02:36:31.035134\",\"2021-09-15T02:37:31.035134\",\"2021-09-15T02:38:31.035134\",\"2021-09-15T02:39:31.035134\",\"2021-09-15T02:40:31.035134\",\"2021-09-15T02:41:31.035134\",\"2021-09-15T02:42:31.035134\",\"2021-09-15T02:43:31.035134\",\"2021-09-15T02:44:31.035134\",\"2021-09-15T02:45:31.035134\",\"2021-09-15T02:46:31.035134\",\"2021-09-15T02:47:31.035134\",\"2021-09-15T02:48:31.035134\",\"2021-09-15T02:49:31.035134\",\"2021-09-15T02:50:31.035134\",\"2021-09-15T02:51:31.035134\",\"2021-09-15T02:52:31.035134\",\"2021-09-15T02:53:31.035134\",\"2021-09-15T02:54:31.035134\",\"2021-09-15T02:55:31.035134\",\"2021-09-15T02:56:31.035134\",\"2021-09-15T02:57:31.035134\",\"2021-09-15T02:58:31.035134\",\"2021-09-15T02:59:31.035134\",\"2021-09-15T03:00:31.035134\",\"2021-09-15T03:01:31.035134\",\"2021-09-15T03:02:31.035134\",\"2021-09-15T03:03:31.035134\",\"2021-09-15T03:04:31.035134\",\"2021-09-15T03:05:31.035134\",\"2021-09-15T03:06:31.035134\",\"2021-09-15T03:07:31.035134\",\"2021-09-15T03:08:31.035134\",\"2021-09-15T03:09:31.035134\",\"2021-09-15T03:10:31.035134\",\"2021-09-15T03:11:31.035134\",\"2021-09-15T03:12:31.035134\",\"2021-09-15T03:13:31.035134\",\"2021-09-15T03:14:31.035134\",\"2021-09-15T03:15:31.035134\",\"2021-09-15T03:16:31.035134\",\"2021-09-15T03:17:31.035134\",\"2021-09-15T03:18:31.035134\",\"2021-09-15T03:19:31.035134\",\"2021-09-15T03:20:31.035134\",\"2021-09-15T03:21:31.035134\",\"2021-09-15T03:22:31.035134\",\"2021-09-15T03:23:31.035134\",\"2021-09-15T03:24:31.035134\",\"2021-09-15T03:25:31.035134\",\"2021-09-15T03:26:31.035134\",\"2021-09-15T03:27:31.035134\",\"2021-09-15T03:28:31.035134\",\"2021-09-15T03:29:31.035134\",\"2021-09-15T03:30:31.035134\",\"2021-09-15T03:31:31.035134\",\"2021-09-15T03:32:31.035134\",\"2021-09-15T03:33:31.035134\",\"2021-09-15T03:34:31.035134\",\"2021-09-15T03:35:31.035134\",\"2021-09-15T03:36:31.035134\",\"2021-09-15T03:37:31.035134\",\"2021-09-15T03:38:31.035134\",\"2021-09-15T03:39:31.035134\",\"2021-09-15T03:40:31.035134\",\"2021-09-15T03:41:31.035134\",\"2021-09-15T03:42:31.035134\",\"2021-09-15T03:43:31.035134\",\"2021-09-15T03:44:31.035134\",\"2021-09-15T03:45:31.035134\",\"2021-09-15T03:46:31.035134\",\"2021-09-15T03:47:31.035134\",\"2021-09-15T03:48:31.035134\",\"2021-09-15T03:49:31.035134\",\"2021-09-15T03:50:31.035134\",\"2021-09-15T03:51:31.035134\",\"2021-09-15T03:52:31.035134\",\"2021-09-15T03:53:31.035134\",\"2021-09-15T03:54:31.035134\",\"2021-09-15T03:55:31.035134\",\"2021-09-15T03:56:31.035134\",\"2021-09-15T03:57:31.035134\",\"2021-09-15T03:58:31.035134\",\"2021-09-15T03:59:31.035134\",\"2021-09-15T04:00:31.035134\",\"2021-09-15T04:01:31.035134\",\"2021-09-15T04:02:31.035134\",\"2021-09-15T04:03:31.035134\",\"2021-09-15T04:04:31.035134\",\"2021-09-15T04:05:31.035134\",\"2021-09-15T04:06:31.035134\",\"2021-09-15T04:07:31.035134\",\"2021-09-15T04:08:31.035134\",\"2021-09-15T04:09:31.035134\"],\"xaxis\":\"x\",\"y\":[3,6,9,12,15,18,21,24,27,30,33,36,39,42,45,48,51,54,57,60,60,60,60,60,60,60,60,60,60,60,60,60,60,60,60,60,60,60,60,60,60,60,60,60,60,60,60,60,60,60,60,60,60,60,60,60,60,60,60,60,60,60,60,60,60,60,60,60,60,60,60,60,60,60,60,60,60,60,60,60,60,60,60,60,60,60,60,60,60,60,60,60,60,60,60,60,60,60,60,60,60,60,60,60,60,60,60,60,60,60,60,60,60,60,60,60,60,60,60,60,60,60,60,60,60,60,60,60,60,60,60,60,60,60,60,60,60,60,60,60,60,60,60,60,60,60,60,60,60,60,60,60,60,60,60,60,60,60,60,60,60,60,60,60,60,60,60,60,60,60,60,60,60,60,60,60,60,60,60,60,60,60,60,60,60,60,60,60,60,60,60,60,60,60,60,60,60,60,60,60,60,60,60,60,60,60,60,60,60,60,60,60,60,60,60,60,60,60,60,60,60,60,60,60,60,60,60,60,60,60,60,60,60,60,60,60,60,60,60,60,60,60,60,60,60,60,60,60,60,60,60,60,60,60,60,60,60,60,60,60,60,60,60,60,60,60,60,60,60,60,60,60,60,60,60,60,60,60,60,60,60,60,60,60,60,60,60,60,60,60,60,60,60,60,60,60,60,60,60,60,60,60,60,60,60,60,60,60,60,60,60,60,60,60,60,60,60,60,60,60,60,60,60,60,60,60,60,60,60,60,60,60,60,60,60,60,60,60,60,60,60,60,60,60,60,60,60,60,60,60,60,60,60,60,60,60,60,60,60,60],\"yaxis\":\"y\"}],                        {\"barmode\":\"relative\",\"legend\":{\"tracegroupgap\":0},\"margin\":{\"t\":60},\"template\":{\"data\":{\"bar\":[{\"error_x\":{\"color\":\"#2a3f5f\"},\"error_y\":{\"color\":\"#2a3f5f\"},\"marker\":{\"line\":{\"color\":\"#E5ECF6\",\"width\":0.5},\"pattern\":{\"fillmode\":\"overlay\",\"size\":10,\"solidity\":0.2}},\"type\":\"bar\"}],\"barpolar\":[{\"marker\":{\"line\":{\"color\":\"#E5ECF6\",\"width\":0.5},\"pattern\":{\"fillmode\":\"overlay\",\"size\":10,\"solidity\":0.2}},\"type\":\"barpolar\"}],\"carpet\":[{\"aaxis\":{\"endlinecolor\":\"#2a3f5f\",\"gridcolor\":\"white\",\"linecolor\":\"white\",\"minorgridcolor\":\"white\",\"startlinecolor\":\"#2a3f5f\"},\"baxis\":{\"endlinecolor\":\"#2a3f5f\",\"gridcolor\":\"white\",\"linecolor\":\"white\",\"minorgridcolor\":\"white\",\"startlinecolor\":\"#2a3f5f\"},\"type\":\"carpet\"}],\"choropleth\":[{\"colorbar\":{\"outlinewidth\":0,\"ticks\":\"\"},\"type\":\"choropleth\"}],\"contour\":[{\"colorbar\":{\"outlinewidth\":0,\"ticks\":\"\"},\"colorscale\":[[0.0,\"#0d0887\"],[0.1111111111111111,\"#46039f\"],[0.2222222222222222,\"#7201a8\"],[0.3333333333333333,\"#9c179e\"],[0.4444444444444444,\"#bd3786\"],[0.5555555555555556,\"#d8576b\"],[0.6666666666666666,\"#ed7953\"],[0.7777777777777778,\"#fb9f3a\"],[0.8888888888888888,\"#fdca26\"],[1.0,\"#f0f921\"]],\"type\":\"contour\"}],\"contourcarpet\":[{\"colorbar\":{\"outlinewidth\":0,\"ticks\":\"\"},\"type\":\"contourcarpet\"}],\"heatmap\":[{\"colorbar\":{\"outlinewidth\":0,\"ticks\":\"\"},\"colorscale\":[[0.0,\"#0d0887\"],[0.1111111111111111,\"#46039f\"],[0.2222222222222222,\"#7201a8\"],[0.3333333333333333,\"#9c179e\"],[0.4444444444444444,\"#bd3786\"],[0.5555555555555556,\"#d8576b\"],[0.6666666666666666,\"#ed7953\"],[0.7777777777777778,\"#fb9f3a\"],[0.8888888888888888,\"#fdca26\"],[1.0,\"#f0f921\"]],\"type\":\"heatmap\"}],\"heatmapgl\":[{\"colorbar\":{\"outlinewidth\":0,\"ticks\":\"\"},\"colorscale\":[[0.0,\"#0d0887\"],[0.1111111111111111,\"#46039f\"],[0.2222222222222222,\"#7201a8\"],[0.3333333333333333,\"#9c179e\"],[0.4444444444444444,\"#bd3786\"],[0.5555555555555556,\"#d8576b\"],[0.6666666666666666,\"#ed7953\"],[0.7777777777777778,\"#fb9f3a\"],[0.8888888888888888,\"#fdca26\"],[1.0,\"#f0f921\"]],\"type\":\"heatmapgl\"}],\"histogram\":[{\"marker\":{\"pattern\":{\"fillmode\":\"overlay\",\"size\":10,\"solidity\":0.2}},\"type\":\"histogram\"}],\"histogram2d\":[{\"colorbar\":{\"outlinewidth\":0,\"ticks\":\"\"},\"colorscale\":[[0.0,\"#0d0887\"],[0.1111111111111111,\"#46039f\"],[0.2222222222222222,\"#7201a8\"],[0.3333333333333333,\"#9c179e\"],[0.4444444444444444,\"#bd3786\"],[0.5555555555555556,\"#d8576b\"],[0.6666666666666666,\"#ed7953\"],[0.7777777777777778,\"#fb9f3a\"],[0.8888888888888888,\"#fdca26\"],[1.0,\"#f0f921\"]],\"type\":\"histogram2d\"}],\"histogram2dcontour\":[{\"colorbar\":{\"outlinewidth\":0,\"ticks\":\"\"},\"colorscale\":[[0.0,\"#0d0887\"],[0.1111111111111111,\"#46039f\"],[0.2222222222222222,\"#7201a8\"],[0.3333333333333333,\"#9c179e\"],[0.4444444444444444,\"#bd3786\"],[0.5555555555555556,\"#d8576b\"],[0.6666666666666666,\"#ed7953\"],[0.7777777777777778,\"#fb9f3a\"],[0.8888888888888888,\"#fdca26\"],[1.0,\"#f0f921\"]],\"type\":\"histogram2dcontour\"}],\"mesh3d\":[{\"colorbar\":{\"outlinewidth\":0,\"ticks\":\"\"},\"type\":\"mesh3d\"}],\"parcoords\":[{\"line\":{\"colorbar\":{\"outlinewidth\":0,\"ticks\":\"\"}},\"type\":\"parcoords\"}],\"pie\":[{\"automargin\":true,\"type\":\"pie\"}],\"scatter\":[{\"marker\":{\"colorbar\":{\"outlinewidth\":0,\"ticks\":\"\"}},\"type\":\"scatter\"}],\"scatter3d\":[{\"line\":{\"colorbar\":{\"outlinewidth\":0,\"ticks\":\"\"}},\"marker\":{\"colorbar\":{\"outlinewidth\":0,\"ticks\":\"\"}},\"type\":\"scatter3d\"}],\"scattercarpet\":[{\"marker\":{\"colorbar\":{\"outlinewidth\":0,\"ticks\":\"\"}},\"type\":\"scattercarpet\"}],\"scattergeo\":[{\"marker\":{\"colorbar\":{\"outlinewidth\":0,\"ticks\":\"\"}},\"type\":\"scattergeo\"}],\"scattergl\":[{\"marker\":{\"colorbar\":{\"outlinewidth\":0,\"ticks\":\"\"}},\"type\":\"scattergl\"}],\"scattermapbox\":[{\"marker\":{\"colorbar\":{\"outlinewidth\":0,\"ticks\":\"\"}},\"type\":\"scattermapbox\"}],\"scatterpolar\":[{\"marker\":{\"colorbar\":{\"outlinewidth\":0,\"ticks\":\"\"}},\"type\":\"scatterpolar\"}],\"scatterpolargl\":[{\"marker\":{\"colorbar\":{\"outlinewidth\":0,\"ticks\":\"\"}},\"type\":\"scatterpolargl\"}],\"scatterternary\":[{\"marker\":{\"colorbar\":{\"outlinewidth\":0,\"ticks\":\"\"}},\"type\":\"scatterternary\"}],\"surface\":[{\"colorbar\":{\"outlinewidth\":0,\"ticks\":\"\"},\"colorscale\":[[0.0,\"#0d0887\"],[0.1111111111111111,\"#46039f\"],[0.2222222222222222,\"#7201a8\"],[0.3333333333333333,\"#9c179e\"],[0.4444444444444444,\"#bd3786\"],[0.5555555555555556,\"#d8576b\"],[0.6666666666666666,\"#ed7953\"],[0.7777777777777778,\"#fb9f3a\"],[0.8888888888888888,\"#fdca26\"],[1.0,\"#f0f921\"]],\"type\":\"surface\"}],\"table\":[{\"cells\":{\"fill\":{\"color\":\"#EBF0F8\"},\"line\":{\"color\":\"white\"}},\"header\":{\"fill\":{\"color\":\"#C8D4E3\"},\"line\":{\"color\":\"white\"}},\"type\":\"table\"}]},\"layout\":{\"annotationdefaults\":{\"arrowcolor\":\"#2a3f5f\",\"arrowhead\":0,\"arrowwidth\":1},\"autotypenumbers\":\"strict\",\"coloraxis\":{\"colorbar\":{\"outlinewidth\":0,\"ticks\":\"\"}},\"colorscale\":{\"diverging\":[[0,\"#8e0152\"],[0.1,\"#c51b7d\"],[0.2,\"#de77ae\"],[0.3,\"#f1b6da\"],[0.4,\"#fde0ef\"],[0.5,\"#f7f7f7\"],[0.6,\"#e6f5d0\"],[0.7,\"#b8e186\"],[0.8,\"#7fbc41\"],[0.9,\"#4d9221\"],[1,\"#276419\"]],\"sequential\":[[0.0,\"#0d0887\"],[0.1111111111111111,\"#46039f\"],[0.2222222222222222,\"#7201a8\"],[0.3333333333333333,\"#9c179e\"],[0.4444444444444444,\"#bd3786\"],[0.5555555555555556,\"#d8576b\"],[0.6666666666666666,\"#ed7953\"],[0.7777777777777778,\"#fb9f3a\"],[0.8888888888888888,\"#fdca26\"],[1.0,\"#f0f921\"]],\"sequentialminus\":[[0.0,\"#0d0887\"],[0.1111111111111111,\"#46039f\"],[0.2222222222222222,\"#7201a8\"],[0.3333333333333333,\"#9c179e\"],[0.4444444444444444,\"#bd3786\"],[0.5555555555555556,\"#d8576b\"],[0.6666666666666666,\"#ed7953\"],[0.7777777777777778,\"#fb9f3a\"],[0.8888888888888888,\"#fdca26\"],[1.0,\"#f0f921\"]]},\"colorway\":[\"#636efa\",\"#EF553B\",\"#00cc96\",\"#ab63fa\",\"#FFA15A\",\"#19d3f3\",\"#FF6692\",\"#B6E880\",\"#FF97FF\",\"#FECB52\"],\"font\":{\"color\":\"#2a3f5f\"},\"geo\":{\"bgcolor\":\"white\",\"lakecolor\":\"white\",\"landcolor\":\"#E5ECF6\",\"showlakes\":true,\"showland\":true,\"subunitcolor\":\"white\"},\"hoverlabel\":{\"align\":\"left\"},\"hovermode\":\"closest\",\"mapbox\":{\"style\":\"light\"},\"paper_bgcolor\":\"white\",\"plot_bgcolor\":\"#E5ECF6\",\"polar\":{\"angularaxis\":{\"gridcolor\":\"white\",\"linecolor\":\"white\",\"ticks\":\"\"},\"bgcolor\":\"#E5ECF6\",\"radialaxis\":{\"gridcolor\":\"white\",\"linecolor\":\"white\",\"ticks\":\"\"}},\"scene\":{\"xaxis\":{\"backgroundcolor\":\"#E5ECF6\",\"gridcolor\":\"white\",\"gridwidth\":2,\"linecolor\":\"white\",\"showbackground\":true,\"ticks\":\"\",\"zerolinecolor\":\"white\"},\"yaxis\":{\"backgroundcolor\":\"#E5ECF6\",\"gridcolor\":\"white\",\"gridwidth\":2,\"linecolor\":\"white\",\"showbackground\":true,\"ticks\":\"\",\"zerolinecolor\":\"white\"},\"zaxis\":{\"backgroundcolor\":\"#E5ECF6\",\"gridcolor\":\"white\",\"gridwidth\":2,\"linecolor\":\"white\",\"showbackground\":true,\"ticks\":\"\",\"zerolinecolor\":\"white\"}},\"shapedefaults\":{\"line\":{\"color\":\"#2a3f5f\"}},\"ternary\":{\"aaxis\":{\"gridcolor\":\"white\",\"linecolor\":\"white\",\"ticks\":\"\"},\"baxis\":{\"gridcolor\":\"white\",\"linecolor\":\"white\",\"ticks\":\"\"},\"bgcolor\":\"#E5ECF6\",\"caxis\":{\"gridcolor\":\"white\",\"linecolor\":\"white\",\"ticks\":\"\"}},\"title\":{\"x\":0.05},\"xaxis\":{\"automargin\":true,\"gridcolor\":\"white\",\"linecolor\":\"white\",\"ticks\":\"\",\"title\":{\"standoff\":15},\"zerolinecolor\":\"white\",\"zerolinewidth\":2},\"yaxis\":{\"automargin\":true,\"gridcolor\":\"white\",\"linecolor\":\"white\",\"ticks\":\"\",\"title\":{\"standoff\":15},\"zerolinecolor\":\"white\",\"zerolinewidth\":2}}},\"xaxis\":{\"anchor\":\"y\",\"domain\":[0.0,1.0],\"title\":{\"text\":\"Timestamp\"}},\"yaxis\":{\"anchor\":\"x\",\"domain\":[0.0,1.0],\"title\":{\"text\":\"Value\"}}},                        {\"responsive\": true}                    ).then(function(){\n",
       "                            \n",
       "var gd = document.getElementById('296f0fa3-6cdf-4e0e-88fa-4c578f72a757');\n",
       "var x = new MutationObserver(function (mutations, observer) {{\n",
       "        var display = window.getComputedStyle(gd).display;\n",
       "        if (!display || display === 'none') {{\n",
       "            console.log([gd, 'removed!']);\n",
       "            Plotly.purge(gd);\n",
       "            observer.disconnect();\n",
       "        }}\n",
       "}});\n",
       "\n",
       "// Listen for the removal of the full notebook cells\n",
       "var notebookContainer = gd.closest('#notebook-container');\n",
       "if (notebookContainer) {{\n",
       "    x.observe(notebookContainer, {childList: true});\n",
       "}}\n",
       "\n",
       "// Listen for the clearing of the current output cell\n",
       "var outputEl = gd.closest('.output');\n",
       "if (outputEl) {{\n",
       "    x.observe(outputEl, {childList: true});\n",
       "}}\n",
       "\n",
       "                        })                };                });            </script>        </div>"
      ]
     },
     "metadata": {},
     "output_type": "display_data"
    }
   ],
   "source": [
    "fig = px.bar(df_users_active, x='Timestamp', y='Value')\n",
    "fig.show()"
   ]
  },
  {
   "cell_type": "markdown",
   "metadata": {},
   "source": [
    "# Users activity"
   ]
  },
  {
   "cell_type": "code",
   "execution_count": 60,
   "metadata": {},
   "outputs": [
    {
     "data": {
      "text/html": [
       "<div>\n",
       "<style scoped>\n",
       "    .dataframe tbody tr th:only-of-type {\n",
       "        vertical-align: middle;\n",
       "    }\n",
       "\n",
       "    .dataframe tbody tr th {\n",
       "        vertical-align: top;\n",
       "    }\n",
       "\n",
       "    .dataframe thead th {\n",
       "        text-align: right;\n",
       "    }\n",
       "</style>\n",
       "<table border=\"1\" class=\"dataframe\">\n",
       "  <thead>\n",
       "    <tr style=\"text-align: right;\">\n",
       "      <th></th>\n",
       "      <th>Scenario</th>\n",
       "      <th>Start</th>\n",
       "      <th>StartMark</th>\n",
       "      <th>Task</th>\n",
       "      <th>TaskId</th>\n",
       "      <th>Username</th>\n",
       "    </tr>\n",
       "  </thead>\n",
       "  <tbody>\n",
       "    <tr>\n",
       "      <th>0</th>\n",
       "      <td>Sc1</td>\n",
       "      <td>2021-09-14 22:10:31.035134</td>\n",
       "      <td>0</td>\n",
       "      <td>step 1</td>\n",
       "      <td>1</td>\n",
       "      <td>User-001</td>\n",
       "    </tr>\n",
       "    <tr>\n",
       "      <th>1</th>\n",
       "      <td>Sc1</td>\n",
       "      <td>2021-09-14 22:10:31.035134</td>\n",
       "      <td>0</td>\n",
       "      <td>step 1</td>\n",
       "      <td>1</td>\n",
       "      <td>User-002</td>\n",
       "    </tr>\n",
       "    <tr>\n",
       "      <th>2</th>\n",
       "      <td>Sc1</td>\n",
       "      <td>2021-09-14 22:10:31.035134</td>\n",
       "      <td>0</td>\n",
       "      <td>step 1</td>\n",
       "      <td>1</td>\n",
       "      <td>User-003</td>\n",
       "    </tr>\n",
       "    <tr>\n",
       "      <th>3</th>\n",
       "      <td>Sc1</td>\n",
       "      <td>2021-09-14 22:11:31.035134</td>\n",
       "      <td>1</td>\n",
       "      <td>step 1</td>\n",
       "      <td>1</td>\n",
       "      <td>User-004</td>\n",
       "    </tr>\n",
       "    <tr>\n",
       "      <th>4</th>\n",
       "      <td>Sc1</td>\n",
       "      <td>2021-09-14 22:11:31.035134</td>\n",
       "      <td>1</td>\n",
       "      <td>step 1</td>\n",
       "      <td>1</td>\n",
       "      <td>User-005</td>\n",
       "    </tr>\n",
       "    <tr>\n",
       "      <th>5</th>\n",
       "      <td>Sc1</td>\n",
       "      <td>2021-09-14 22:11:31.035134</td>\n",
       "      <td>1</td>\n",
       "      <td>step 1</td>\n",
       "      <td>1</td>\n",
       "      <td>User-006</td>\n",
       "    </tr>\n",
       "    <tr>\n",
       "      <th>6</th>\n",
       "      <td>Sc1</td>\n",
       "      <td>2021-09-14 22:12:31.035134</td>\n",
       "      <td>2</td>\n",
       "      <td>step 1</td>\n",
       "      <td>1</td>\n",
       "      <td>User-007</td>\n",
       "    </tr>\n",
       "    <tr>\n",
       "      <th>7</th>\n",
       "      <td>Sc1</td>\n",
       "      <td>2021-09-14 22:12:31.035134</td>\n",
       "      <td>2</td>\n",
       "      <td>step 1</td>\n",
       "      <td>1</td>\n",
       "      <td>User-008</td>\n",
       "    </tr>\n",
       "    <tr>\n",
       "      <th>8</th>\n",
       "      <td>Sc1</td>\n",
       "      <td>2021-09-14 22:12:31.035134</td>\n",
       "      <td>2</td>\n",
       "      <td>step 1</td>\n",
       "      <td>1</td>\n",
       "      <td>User-009</td>\n",
       "    </tr>\n",
       "    <tr>\n",
       "      <th>9</th>\n",
       "      <td>Sc1</td>\n",
       "      <td>2021-09-14 22:13:31.035134</td>\n",
       "      <td>3</td>\n",
       "      <td>step 1</td>\n",
       "      <td>1</td>\n",
       "      <td>User-010</td>\n",
       "    </tr>\n",
       "    <tr>\n",
       "      <th>10</th>\n",
       "      <td>Sc1</td>\n",
       "      <td>2021-09-14 22:13:31.035134</td>\n",
       "      <td>3</td>\n",
       "      <td>step 1</td>\n",
       "      <td>1</td>\n",
       "      <td>User-011</td>\n",
       "    </tr>\n",
       "    <tr>\n",
       "      <th>11</th>\n",
       "      <td>Sc1</td>\n",
       "      <td>2021-09-14 22:13:31.035134</td>\n",
       "      <td>3</td>\n",
       "      <td>step 1</td>\n",
       "      <td>1</td>\n",
       "      <td>User-012</td>\n",
       "    </tr>\n",
       "    <tr>\n",
       "      <th>12</th>\n",
       "      <td>Sc1</td>\n",
       "      <td>2021-09-14 22:14:31.035134</td>\n",
       "      <td>4</td>\n",
       "      <td>step 1</td>\n",
       "      <td>1</td>\n",
       "      <td>User-013</td>\n",
       "    </tr>\n",
       "    <tr>\n",
       "      <th>13</th>\n",
       "      <td>Sc1</td>\n",
       "      <td>2021-09-14 22:14:31.035134</td>\n",
       "      <td>4</td>\n",
       "      <td>step 1</td>\n",
       "      <td>1</td>\n",
       "      <td>User-014</td>\n",
       "    </tr>\n",
       "    <tr>\n",
       "      <th>14</th>\n",
       "      <td>Sc1</td>\n",
       "      <td>2021-09-14 22:14:31.035134</td>\n",
       "      <td>4</td>\n",
       "      <td>step 1</td>\n",
       "      <td>1</td>\n",
       "      <td>User-015</td>\n",
       "    </tr>\n",
       "    <tr>\n",
       "      <th>15</th>\n",
       "      <td>Sc1</td>\n",
       "      <td>2021-09-14 22:15:31.035134</td>\n",
       "      <td>5</td>\n",
       "      <td>step 1</td>\n",
       "      <td>1</td>\n",
       "      <td>User-016</td>\n",
       "    </tr>\n",
       "    <tr>\n",
       "      <th>16</th>\n",
       "      <td>Sc1</td>\n",
       "      <td>2021-09-14 22:15:31.035134</td>\n",
       "      <td>5</td>\n",
       "      <td>step 1</td>\n",
       "      <td>1</td>\n",
       "      <td>User-017</td>\n",
       "    </tr>\n",
       "    <tr>\n",
       "      <th>17</th>\n",
       "      <td>Sc1</td>\n",
       "      <td>2021-09-14 22:15:31.035134</td>\n",
       "      <td>5</td>\n",
       "      <td>step 1</td>\n",
       "      <td>1</td>\n",
       "      <td>User-018</td>\n",
       "    </tr>\n",
       "    <tr>\n",
       "      <th>18</th>\n",
       "      <td>Sc1</td>\n",
       "      <td>2021-09-14 22:16:31.035134</td>\n",
       "      <td>6</td>\n",
       "      <td>step 1</td>\n",
       "      <td>1</td>\n",
       "      <td>User-019</td>\n",
       "    </tr>\n",
       "    <tr>\n",
       "      <th>19</th>\n",
       "      <td>Sc1</td>\n",
       "      <td>2021-09-14 22:16:31.035134</td>\n",
       "      <td>6</td>\n",
       "      <td>step 1</td>\n",
       "      <td>1</td>\n",
       "      <td>User-020</td>\n",
       "    </tr>\n",
       "    <tr>\n",
       "      <th>20</th>\n",
       "      <td>Sc1</td>\n",
       "      <td>2021-09-14 22:16:31.035134</td>\n",
       "      <td>6</td>\n",
       "      <td>step 1</td>\n",
       "      <td>1</td>\n",
       "      <td>User-021</td>\n",
       "    </tr>\n",
       "    <tr>\n",
       "      <th>21</th>\n",
       "      <td>Sc1</td>\n",
       "      <td>2021-09-14 22:17:31.035134</td>\n",
       "      <td>7</td>\n",
       "      <td>step 1</td>\n",
       "      <td>1</td>\n",
       "      <td>User-022</td>\n",
       "    </tr>\n",
       "    <tr>\n",
       "      <th>22</th>\n",
       "      <td>Sc1</td>\n",
       "      <td>2021-09-14 22:17:31.035134</td>\n",
       "      <td>7</td>\n",
       "      <td>step 1</td>\n",
       "      <td>1</td>\n",
       "      <td>User-023</td>\n",
       "    </tr>\n",
       "    <tr>\n",
       "      <th>23</th>\n",
       "      <td>Sc1</td>\n",
       "      <td>2021-09-14 22:17:31.035134</td>\n",
       "      <td>7</td>\n",
       "      <td>step 1</td>\n",
       "      <td>1</td>\n",
       "      <td>User-024</td>\n",
       "    </tr>\n",
       "    <tr>\n",
       "      <th>24</th>\n",
       "      <td>Sc1</td>\n",
       "      <td>2021-09-14 22:18:31.035134</td>\n",
       "      <td>8</td>\n",
       "      <td>step 1</td>\n",
       "      <td>1</td>\n",
       "      <td>User-025</td>\n",
       "    </tr>\n",
       "    <tr>\n",
       "      <th>25</th>\n",
       "      <td>Sc1</td>\n",
       "      <td>2021-09-14 22:18:31.035134</td>\n",
       "      <td>8</td>\n",
       "      <td>step 1</td>\n",
       "      <td>1</td>\n",
       "      <td>User-026</td>\n",
       "    </tr>\n",
       "    <tr>\n",
       "      <th>26</th>\n",
       "      <td>Sc1</td>\n",
       "      <td>2021-09-14 22:18:31.035134</td>\n",
       "      <td>8</td>\n",
       "      <td>step 1</td>\n",
       "      <td>1</td>\n",
       "      <td>User-027</td>\n",
       "    </tr>\n",
       "    <tr>\n",
       "      <th>27</th>\n",
       "      <td>Sc1</td>\n",
       "      <td>2021-09-14 22:19:31.035134</td>\n",
       "      <td>9</td>\n",
       "      <td>step 1</td>\n",
       "      <td>1</td>\n",
       "      <td>User-028</td>\n",
       "    </tr>\n",
       "    <tr>\n",
       "      <th>28</th>\n",
       "      <td>Sc1</td>\n",
       "      <td>2021-09-14 22:19:31.035134</td>\n",
       "      <td>9</td>\n",
       "      <td>step 1</td>\n",
       "      <td>1</td>\n",
       "      <td>User-029</td>\n",
       "    </tr>\n",
       "    <tr>\n",
       "      <th>29</th>\n",
       "      <td>Sc1</td>\n",
       "      <td>2021-09-14 22:19:31.035134</td>\n",
       "      <td>9</td>\n",
       "      <td>step 1</td>\n",
       "      <td>1</td>\n",
       "      <td>User-030</td>\n",
       "    </tr>\n",
       "    <tr>\n",
       "      <th>30</th>\n",
       "      <td>Sc1</td>\n",
       "      <td>2021-09-14 22:20:31.035134</td>\n",
       "      <td>10</td>\n",
       "      <td>step 1</td>\n",
       "      <td>1</td>\n",
       "      <td>User-031</td>\n",
       "    </tr>\n",
       "    <tr>\n",
       "      <th>31</th>\n",
       "      <td>Sc1</td>\n",
       "      <td>2021-09-14 22:20:31.035134</td>\n",
       "      <td>10</td>\n",
       "      <td>step 1</td>\n",
       "      <td>1</td>\n",
       "      <td>User-032</td>\n",
       "    </tr>\n",
       "    <tr>\n",
       "      <th>32</th>\n",
       "      <td>Sc1</td>\n",
       "      <td>2021-09-14 22:20:31.035134</td>\n",
       "      <td>10</td>\n",
       "      <td>step 1</td>\n",
       "      <td>1</td>\n",
       "      <td>User-033</td>\n",
       "    </tr>\n",
       "    <tr>\n",
       "      <th>33</th>\n",
       "      <td>Sc1</td>\n",
       "      <td>2021-09-14 22:21:31.035134</td>\n",
       "      <td>11</td>\n",
       "      <td>step 1</td>\n",
       "      <td>1</td>\n",
       "      <td>User-034</td>\n",
       "    </tr>\n",
       "    <tr>\n",
       "      <th>34</th>\n",
       "      <td>Sc1</td>\n",
       "      <td>2021-09-14 22:21:31.035134</td>\n",
       "      <td>11</td>\n",
       "      <td>step 1</td>\n",
       "      <td>1</td>\n",
       "      <td>User-035</td>\n",
       "    </tr>\n",
       "    <tr>\n",
       "      <th>35</th>\n",
       "      <td>Sc1</td>\n",
       "      <td>2021-09-14 22:21:31.035134</td>\n",
       "      <td>11</td>\n",
       "      <td>step 1</td>\n",
       "      <td>1</td>\n",
       "      <td>User-036</td>\n",
       "    </tr>\n",
       "    <tr>\n",
       "      <th>36</th>\n",
       "      <td>Sc1</td>\n",
       "      <td>2021-09-14 22:22:31.035134</td>\n",
       "      <td>12</td>\n",
       "      <td>step 1</td>\n",
       "      <td>1</td>\n",
       "      <td>User-037</td>\n",
       "    </tr>\n",
       "    <tr>\n",
       "      <th>37</th>\n",
       "      <td>Sc1</td>\n",
       "      <td>2021-09-14 22:22:31.035134</td>\n",
       "      <td>12</td>\n",
       "      <td>step 1</td>\n",
       "      <td>1</td>\n",
       "      <td>User-038</td>\n",
       "    </tr>\n",
       "    <tr>\n",
       "      <th>38</th>\n",
       "      <td>Sc1</td>\n",
       "      <td>2021-09-14 22:22:31.035134</td>\n",
       "      <td>12</td>\n",
       "      <td>step 1</td>\n",
       "      <td>1</td>\n",
       "      <td>User-039</td>\n",
       "    </tr>\n",
       "    <tr>\n",
       "      <th>39</th>\n",
       "      <td>Sc1</td>\n",
       "      <td>2021-09-14 22:23:31.035134</td>\n",
       "      <td>13</td>\n",
       "      <td>step 1</td>\n",
       "      <td>1</td>\n",
       "      <td>User-040</td>\n",
       "    </tr>\n",
       "    <tr>\n",
       "      <th>40</th>\n",
       "      <td>Sc1</td>\n",
       "      <td>2021-09-14 22:23:31.035134</td>\n",
       "      <td>13</td>\n",
       "      <td>step 1</td>\n",
       "      <td>1</td>\n",
       "      <td>User-041</td>\n",
       "    </tr>\n",
       "    <tr>\n",
       "      <th>41</th>\n",
       "      <td>Sc1</td>\n",
       "      <td>2021-09-14 22:23:31.035134</td>\n",
       "      <td>13</td>\n",
       "      <td>step 1</td>\n",
       "      <td>1</td>\n",
       "      <td>User-042</td>\n",
       "    </tr>\n",
       "    <tr>\n",
       "      <th>42</th>\n",
       "      <td>Sc1</td>\n",
       "      <td>2021-09-14 22:24:31.035134</td>\n",
       "      <td>14</td>\n",
       "      <td>step 1</td>\n",
       "      <td>1</td>\n",
       "      <td>User-043</td>\n",
       "    </tr>\n",
       "    <tr>\n",
       "      <th>43</th>\n",
       "      <td>Sc1</td>\n",
       "      <td>2021-09-14 22:24:31.035134</td>\n",
       "      <td>14</td>\n",
       "      <td>step 1</td>\n",
       "      <td>1</td>\n",
       "      <td>User-044</td>\n",
       "    </tr>\n",
       "    <tr>\n",
       "      <th>44</th>\n",
       "      <td>Sc1</td>\n",
       "      <td>2021-09-14 22:24:31.035134</td>\n",
       "      <td>14</td>\n",
       "      <td>step 1</td>\n",
       "      <td>1</td>\n",
       "      <td>User-045</td>\n",
       "    </tr>\n",
       "    <tr>\n",
       "      <th>45</th>\n",
       "      <td>Sc1</td>\n",
       "      <td>2021-09-14 22:25:31.035134</td>\n",
       "      <td>15</td>\n",
       "      <td>step 1</td>\n",
       "      <td>1</td>\n",
       "      <td>User-046</td>\n",
       "    </tr>\n",
       "    <tr>\n",
       "      <th>46</th>\n",
       "      <td>Sc1</td>\n",
       "      <td>2021-09-14 22:25:31.035134</td>\n",
       "      <td>15</td>\n",
       "      <td>step 1</td>\n",
       "      <td>1</td>\n",
       "      <td>User-047</td>\n",
       "    </tr>\n",
       "    <tr>\n",
       "      <th>47</th>\n",
       "      <td>Sc1</td>\n",
       "      <td>2021-09-14 22:25:31.035134</td>\n",
       "      <td>15</td>\n",
       "      <td>step 1</td>\n",
       "      <td>1</td>\n",
       "      <td>User-048</td>\n",
       "    </tr>\n",
       "    <tr>\n",
       "      <th>48</th>\n",
       "      <td>Sc1</td>\n",
       "      <td>2021-09-14 22:26:31.035134</td>\n",
       "      <td>16</td>\n",
       "      <td>step 1</td>\n",
       "      <td>1</td>\n",
       "      <td>User-049</td>\n",
       "    </tr>\n",
       "    <tr>\n",
       "      <th>49</th>\n",
       "      <td>Sc1</td>\n",
       "      <td>2021-09-14 22:26:31.035134</td>\n",
       "      <td>16</td>\n",
       "      <td>step 1</td>\n",
       "      <td>1</td>\n",
       "      <td>User-050</td>\n",
       "    </tr>\n",
       "    <tr>\n",
       "      <th>50</th>\n",
       "      <td>Sc1</td>\n",
       "      <td>2021-09-14 22:26:31.035134</td>\n",
       "      <td>16</td>\n",
       "      <td>step 1</td>\n",
       "      <td>1</td>\n",
       "      <td>User-051</td>\n",
       "    </tr>\n",
       "    <tr>\n",
       "      <th>51</th>\n",
       "      <td>Sc1</td>\n",
       "      <td>2021-09-14 22:27:31.035134</td>\n",
       "      <td>17</td>\n",
       "      <td>step 1</td>\n",
       "      <td>1</td>\n",
       "      <td>User-052</td>\n",
       "    </tr>\n",
       "    <tr>\n",
       "      <th>52</th>\n",
       "      <td>Sc1</td>\n",
       "      <td>2021-09-14 22:27:31.035134</td>\n",
       "      <td>17</td>\n",
       "      <td>step 1</td>\n",
       "      <td>1</td>\n",
       "      <td>User-053</td>\n",
       "    </tr>\n",
       "    <tr>\n",
       "      <th>53</th>\n",
       "      <td>Sc1</td>\n",
       "      <td>2021-09-14 22:27:31.035134</td>\n",
       "      <td>17</td>\n",
       "      <td>step 1</td>\n",
       "      <td>1</td>\n",
       "      <td>User-054</td>\n",
       "    </tr>\n",
       "    <tr>\n",
       "      <th>54</th>\n",
       "      <td>Sc1</td>\n",
       "      <td>2021-09-14 22:28:31.035134</td>\n",
       "      <td>18</td>\n",
       "      <td>step 1</td>\n",
       "      <td>1</td>\n",
       "      <td>User-055</td>\n",
       "    </tr>\n",
       "    <tr>\n",
       "      <th>55</th>\n",
       "      <td>Sc1</td>\n",
       "      <td>2021-09-14 22:28:31.035134</td>\n",
       "      <td>18</td>\n",
       "      <td>step 1</td>\n",
       "      <td>1</td>\n",
       "      <td>User-056</td>\n",
       "    </tr>\n",
       "    <tr>\n",
       "      <th>56</th>\n",
       "      <td>Sc1</td>\n",
       "      <td>2021-09-14 22:28:31.035134</td>\n",
       "      <td>18</td>\n",
       "      <td>step 1</td>\n",
       "      <td>1</td>\n",
       "      <td>User-057</td>\n",
       "    </tr>\n",
       "    <tr>\n",
       "      <th>57</th>\n",
       "      <td>Sc1</td>\n",
       "      <td>2021-09-14 22:29:31.035134</td>\n",
       "      <td>19</td>\n",
       "      <td>step 1</td>\n",
       "      <td>1</td>\n",
       "      <td>User-058</td>\n",
       "    </tr>\n",
       "    <tr>\n",
       "      <th>58</th>\n",
       "      <td>Sc1</td>\n",
       "      <td>2021-09-14 22:29:31.035134</td>\n",
       "      <td>19</td>\n",
       "      <td>step 1</td>\n",
       "      <td>1</td>\n",
       "      <td>User-059</td>\n",
       "    </tr>\n",
       "    <tr>\n",
       "      <th>59</th>\n",
       "      <td>Sc1</td>\n",
       "      <td>2021-09-14 22:29:31.035134</td>\n",
       "      <td>19</td>\n",
       "      <td>step 1</td>\n",
       "      <td>1</td>\n",
       "      <td>User-060</td>\n",
       "    </tr>\n",
       "  </tbody>\n",
       "</table>\n",
       "</div>"
      ],
      "text/plain": [
       "   Scenario                      Start  StartMark    Task  TaskId  Username\n",
       "0       Sc1 2021-09-14 22:10:31.035134          0  step 1       1  User-001\n",
       "1       Sc1 2021-09-14 22:10:31.035134          0  step 1       1  User-002\n",
       "2       Sc1 2021-09-14 22:10:31.035134          0  step 1       1  User-003\n",
       "3       Sc1 2021-09-14 22:11:31.035134          1  step 1       1  User-004\n",
       "4       Sc1 2021-09-14 22:11:31.035134          1  step 1       1  User-005\n",
       "5       Sc1 2021-09-14 22:11:31.035134          1  step 1       1  User-006\n",
       "6       Sc1 2021-09-14 22:12:31.035134          2  step 1       1  User-007\n",
       "7       Sc1 2021-09-14 22:12:31.035134          2  step 1       1  User-008\n",
       "8       Sc1 2021-09-14 22:12:31.035134          2  step 1       1  User-009\n",
       "9       Sc1 2021-09-14 22:13:31.035134          3  step 1       1  User-010\n",
       "10      Sc1 2021-09-14 22:13:31.035134          3  step 1       1  User-011\n",
       "11      Sc1 2021-09-14 22:13:31.035134          3  step 1       1  User-012\n",
       "12      Sc1 2021-09-14 22:14:31.035134          4  step 1       1  User-013\n",
       "13      Sc1 2021-09-14 22:14:31.035134          4  step 1       1  User-014\n",
       "14      Sc1 2021-09-14 22:14:31.035134          4  step 1       1  User-015\n",
       "15      Sc1 2021-09-14 22:15:31.035134          5  step 1       1  User-016\n",
       "16      Sc1 2021-09-14 22:15:31.035134          5  step 1       1  User-017\n",
       "17      Sc1 2021-09-14 22:15:31.035134          5  step 1       1  User-018\n",
       "18      Sc1 2021-09-14 22:16:31.035134          6  step 1       1  User-019\n",
       "19      Sc1 2021-09-14 22:16:31.035134          6  step 1       1  User-020\n",
       "20      Sc1 2021-09-14 22:16:31.035134          6  step 1       1  User-021\n",
       "21      Sc1 2021-09-14 22:17:31.035134          7  step 1       1  User-022\n",
       "22      Sc1 2021-09-14 22:17:31.035134          7  step 1       1  User-023\n",
       "23      Sc1 2021-09-14 22:17:31.035134          7  step 1       1  User-024\n",
       "24      Sc1 2021-09-14 22:18:31.035134          8  step 1       1  User-025\n",
       "25      Sc1 2021-09-14 22:18:31.035134          8  step 1       1  User-026\n",
       "26      Sc1 2021-09-14 22:18:31.035134          8  step 1       1  User-027\n",
       "27      Sc1 2021-09-14 22:19:31.035134          9  step 1       1  User-028\n",
       "28      Sc1 2021-09-14 22:19:31.035134          9  step 1       1  User-029\n",
       "29      Sc1 2021-09-14 22:19:31.035134          9  step 1       1  User-030\n",
       "30      Sc1 2021-09-14 22:20:31.035134         10  step 1       1  User-031\n",
       "31      Sc1 2021-09-14 22:20:31.035134         10  step 1       1  User-032\n",
       "32      Sc1 2021-09-14 22:20:31.035134         10  step 1       1  User-033\n",
       "33      Sc1 2021-09-14 22:21:31.035134         11  step 1       1  User-034\n",
       "34      Sc1 2021-09-14 22:21:31.035134         11  step 1       1  User-035\n",
       "35      Sc1 2021-09-14 22:21:31.035134         11  step 1       1  User-036\n",
       "36      Sc1 2021-09-14 22:22:31.035134         12  step 1       1  User-037\n",
       "37      Sc1 2021-09-14 22:22:31.035134         12  step 1       1  User-038\n",
       "38      Sc1 2021-09-14 22:22:31.035134         12  step 1       1  User-039\n",
       "39      Sc1 2021-09-14 22:23:31.035134         13  step 1       1  User-040\n",
       "40      Sc1 2021-09-14 22:23:31.035134         13  step 1       1  User-041\n",
       "41      Sc1 2021-09-14 22:23:31.035134         13  step 1       1  User-042\n",
       "42      Sc1 2021-09-14 22:24:31.035134         14  step 1       1  User-043\n",
       "43      Sc1 2021-09-14 22:24:31.035134         14  step 1       1  User-044\n",
       "44      Sc1 2021-09-14 22:24:31.035134         14  step 1       1  User-045\n",
       "45      Sc1 2021-09-14 22:25:31.035134         15  step 1       1  User-046\n",
       "46      Sc1 2021-09-14 22:25:31.035134         15  step 1       1  User-047\n",
       "47      Sc1 2021-09-14 22:25:31.035134         15  step 1       1  User-048\n",
       "48      Sc1 2021-09-14 22:26:31.035134         16  step 1       1  User-049\n",
       "49      Sc1 2021-09-14 22:26:31.035134         16  step 1       1  User-050\n",
       "50      Sc1 2021-09-14 22:26:31.035134         16  step 1       1  User-051\n",
       "51      Sc1 2021-09-14 22:27:31.035134         17  step 1       1  User-052\n",
       "52      Sc1 2021-09-14 22:27:31.035134         17  step 1       1  User-053\n",
       "53      Sc1 2021-09-14 22:27:31.035134         17  step 1       1  User-054\n",
       "54      Sc1 2021-09-14 22:28:31.035134         18  step 1       1  User-055\n",
       "55      Sc1 2021-09-14 22:28:31.035134         18  step 1       1  User-056\n",
       "56      Sc1 2021-09-14 22:28:31.035134         18  step 1       1  User-057\n",
       "57      Sc1 2021-09-14 22:29:31.035134         19  step 1       1  User-058\n",
       "58      Sc1 2021-09-14 22:29:31.035134         19  step 1       1  User-059\n",
       "59      Sc1 2021-09-14 22:29:31.035134         19  step 1       1  User-060"
      ]
     },
     "metadata": {},
     "output_type": "display_data"
    }
   ],
   "source": [
    "# debug\n",
    "df_start = pd.DataFrame(world.user_monitor.start_data)\n",
    "df_start_sorted = df_start.sort_values(by=['StartMark', 'Scenario', 'TaskId'])\n",
    "display(df_start_sorted)"
   ]
  },
  {
   "cell_type": "code",
   "execution_count": 61,
   "metadata": {},
   "outputs": [],
   "source": [
    "# debug\n",
    "#df_stop = pd.DataFrame(world.user_monitor.stop_data)\n",
    "#display(df_stop)"
   ]
  },
  {
   "cell_type": "code",
   "execution_count": 62,
   "metadata": {},
   "outputs": [],
   "source": [
    "# debug\n",
    "#df_stop.shape"
   ]
  },
  {
   "cell_type": "markdown",
   "metadata": {},
   "source": [
    "## Users chronogram"
   ]
  },
  {
   "cell_type": "code",
   "execution_count": 63,
   "metadata": {},
   "outputs": [
    {
     "data": {
      "text/html": [
       "<div>\n",
       "<style scoped>\n",
       "    .dataframe tbody tr th:only-of-type {\n",
       "        vertical-align: middle;\n",
       "    }\n",
       "\n",
       "    .dataframe tbody tr th {\n",
       "        vertical-align: top;\n",
       "    }\n",
       "\n",
       "    .dataframe thead th {\n",
       "        text-align: right;\n",
       "    }\n",
       "</style>\n",
       "<table border=\"1\" class=\"dataframe\">\n",
       "  <thead>\n",
       "    <tr style=\"text-align: right;\">\n",
       "      <th></th>\n",
       "      <th>Scenario</th>\n",
       "      <th>Start</th>\n",
       "      <th>StartMark</th>\n",
       "      <th>Task</th>\n",
       "      <th>TaskId</th>\n",
       "      <th>Username</th>\n",
       "      <th>Finish</th>\n",
       "      <th>FinishMark</th>\n",
       "      <th>Duration</th>\n",
       "    </tr>\n",
       "  </thead>\n",
       "  <tbody>\n",
       "    <tr>\n",
       "      <th>0</th>\n",
       "      <td>Sc1</td>\n",
       "      <td>2021-09-14 22:10:31.035134</td>\n",
       "      <td>0</td>\n",
       "      <td>step 1</td>\n",
       "      <td>1</td>\n",
       "      <td>User-001</td>\n",
       "      <td>2021-09-14 22:20:31.035134</td>\n",
       "      <td>10</td>\n",
       "      <td>10</td>\n",
       "    </tr>\n",
       "    <tr>\n",
       "      <th>1</th>\n",
       "      <td>Sc1</td>\n",
       "      <td>2021-09-14 22:10:31.035134</td>\n",
       "      <td>0</td>\n",
       "      <td>step 1</td>\n",
       "      <td>1</td>\n",
       "      <td>User-002</td>\n",
       "      <td>2021-09-14 22:20:31.035134</td>\n",
       "      <td>10</td>\n",
       "      <td>10</td>\n",
       "    </tr>\n",
       "    <tr>\n",
       "      <th>2</th>\n",
       "      <td>Sc1</td>\n",
       "      <td>2021-09-14 22:10:31.035134</td>\n",
       "      <td>0</td>\n",
       "      <td>step 1</td>\n",
       "      <td>1</td>\n",
       "      <td>User-003</td>\n",
       "      <td>2021-09-14 22:20:31.035134</td>\n",
       "      <td>10</td>\n",
       "      <td>10</td>\n",
       "    </tr>\n",
       "    <tr>\n",
       "      <th>3</th>\n",
       "      <td>Sc1</td>\n",
       "      <td>2021-09-14 22:11:31.035134</td>\n",
       "      <td>1</td>\n",
       "      <td>step 1</td>\n",
       "      <td>1</td>\n",
       "      <td>User-004</td>\n",
       "      <td>2021-09-14 22:21:31.035134</td>\n",
       "      <td>11</td>\n",
       "      <td>10</td>\n",
       "    </tr>\n",
       "    <tr>\n",
       "      <th>4</th>\n",
       "      <td>Sc1</td>\n",
       "      <td>2021-09-14 22:11:31.035134</td>\n",
       "      <td>1</td>\n",
       "      <td>step 1</td>\n",
       "      <td>1</td>\n",
       "      <td>User-005</td>\n",
       "      <td>2021-09-14 22:21:31.035134</td>\n",
       "      <td>11</td>\n",
       "      <td>10</td>\n",
       "    </tr>\n",
       "    <tr>\n",
       "      <th>5</th>\n",
       "      <td>Sc1</td>\n",
       "      <td>2021-09-14 22:11:31.035134</td>\n",
       "      <td>1</td>\n",
       "      <td>step 1</td>\n",
       "      <td>1</td>\n",
       "      <td>User-006</td>\n",
       "      <td>2021-09-14 22:21:31.035134</td>\n",
       "      <td>11</td>\n",
       "      <td>10</td>\n",
       "    </tr>\n",
       "    <tr>\n",
       "      <th>6</th>\n",
       "      <td>Sc1</td>\n",
       "      <td>2021-09-14 22:12:31.035134</td>\n",
       "      <td>2</td>\n",
       "      <td>step 1</td>\n",
       "      <td>1</td>\n",
       "      <td>User-007</td>\n",
       "      <td>2021-09-14 22:22:31.035134</td>\n",
       "      <td>12</td>\n",
       "      <td>10</td>\n",
       "    </tr>\n",
       "    <tr>\n",
       "      <th>7</th>\n",
       "      <td>Sc1</td>\n",
       "      <td>2021-09-14 22:12:31.035134</td>\n",
       "      <td>2</td>\n",
       "      <td>step 1</td>\n",
       "      <td>1</td>\n",
       "      <td>User-008</td>\n",
       "      <td>2021-09-14 22:22:31.035134</td>\n",
       "      <td>12</td>\n",
       "      <td>10</td>\n",
       "    </tr>\n",
       "    <tr>\n",
       "      <th>8</th>\n",
       "      <td>Sc1</td>\n",
       "      <td>2021-09-14 22:12:31.035134</td>\n",
       "      <td>2</td>\n",
       "      <td>step 1</td>\n",
       "      <td>1</td>\n",
       "      <td>User-009</td>\n",
       "      <td>2021-09-14 22:22:31.035134</td>\n",
       "      <td>12</td>\n",
       "      <td>10</td>\n",
       "    </tr>\n",
       "    <tr>\n",
       "      <th>9</th>\n",
       "      <td>Sc1</td>\n",
       "      <td>2021-09-14 22:13:31.035134</td>\n",
       "      <td>3</td>\n",
       "      <td>step 1</td>\n",
       "      <td>1</td>\n",
       "      <td>User-010</td>\n",
       "      <td>2021-09-14 22:23:31.035134</td>\n",
       "      <td>13</td>\n",
       "      <td>10</td>\n",
       "    </tr>\n",
       "    <tr>\n",
       "      <th>10</th>\n",
       "      <td>Sc1</td>\n",
       "      <td>2021-09-14 22:13:31.035134</td>\n",
       "      <td>3</td>\n",
       "      <td>step 1</td>\n",
       "      <td>1</td>\n",
       "      <td>User-011</td>\n",
       "      <td>2021-09-14 22:23:31.035134</td>\n",
       "      <td>13</td>\n",
       "      <td>10</td>\n",
       "    </tr>\n",
       "    <tr>\n",
       "      <th>11</th>\n",
       "      <td>Sc1</td>\n",
       "      <td>2021-09-14 22:13:31.035134</td>\n",
       "      <td>3</td>\n",
       "      <td>step 1</td>\n",
       "      <td>1</td>\n",
       "      <td>User-012</td>\n",
       "      <td>2021-09-14 22:23:31.035134</td>\n",
       "      <td>13</td>\n",
       "      <td>10</td>\n",
       "    </tr>\n",
       "    <tr>\n",
       "      <th>12</th>\n",
       "      <td>Sc1</td>\n",
       "      <td>2021-09-14 22:14:31.035134</td>\n",
       "      <td>4</td>\n",
       "      <td>step 1</td>\n",
       "      <td>1</td>\n",
       "      <td>User-013</td>\n",
       "      <td>2021-09-14 22:24:31.035134</td>\n",
       "      <td>14</td>\n",
       "      <td>10</td>\n",
       "    </tr>\n",
       "    <tr>\n",
       "      <th>13</th>\n",
       "      <td>Sc1</td>\n",
       "      <td>2021-09-14 22:14:31.035134</td>\n",
       "      <td>4</td>\n",
       "      <td>step 1</td>\n",
       "      <td>1</td>\n",
       "      <td>User-014</td>\n",
       "      <td>2021-09-14 22:24:31.035134</td>\n",
       "      <td>14</td>\n",
       "      <td>10</td>\n",
       "    </tr>\n",
       "    <tr>\n",
       "      <th>14</th>\n",
       "      <td>Sc1</td>\n",
       "      <td>2021-09-14 22:14:31.035134</td>\n",
       "      <td>4</td>\n",
       "      <td>step 1</td>\n",
       "      <td>1</td>\n",
       "      <td>User-015</td>\n",
       "      <td>2021-09-14 22:24:31.035134</td>\n",
       "      <td>14</td>\n",
       "      <td>10</td>\n",
       "    </tr>\n",
       "    <tr>\n",
       "      <th>15</th>\n",
       "      <td>Sc1</td>\n",
       "      <td>2021-09-14 22:15:31.035134</td>\n",
       "      <td>5</td>\n",
       "      <td>step 1</td>\n",
       "      <td>1</td>\n",
       "      <td>User-016</td>\n",
       "      <td>2021-09-14 22:25:31.035134</td>\n",
       "      <td>15</td>\n",
       "      <td>10</td>\n",
       "    </tr>\n",
       "    <tr>\n",
       "      <th>16</th>\n",
       "      <td>Sc1</td>\n",
       "      <td>2021-09-14 22:15:31.035134</td>\n",
       "      <td>5</td>\n",
       "      <td>step 1</td>\n",
       "      <td>1</td>\n",
       "      <td>User-017</td>\n",
       "      <td>2021-09-14 22:30:31.035134</td>\n",
       "      <td>20</td>\n",
       "      <td>15</td>\n",
       "    </tr>\n",
       "    <tr>\n",
       "      <th>17</th>\n",
       "      <td>Sc1</td>\n",
       "      <td>2021-09-14 22:15:31.035134</td>\n",
       "      <td>5</td>\n",
       "      <td>step 1</td>\n",
       "      <td>1</td>\n",
       "      <td>User-018</td>\n",
       "      <td>2021-09-14 22:30:31.035134</td>\n",
       "      <td>20</td>\n",
       "      <td>15</td>\n",
       "    </tr>\n",
       "    <tr>\n",
       "      <th>18</th>\n",
       "      <td>Sc1</td>\n",
       "      <td>2021-09-14 22:16:31.035134</td>\n",
       "      <td>6</td>\n",
       "      <td>step 1</td>\n",
       "      <td>1</td>\n",
       "      <td>User-019</td>\n",
       "      <td>2021-09-14 22:30:31.035134</td>\n",
       "      <td>20</td>\n",
       "      <td>14</td>\n",
       "    </tr>\n",
       "    <tr>\n",
       "      <th>19</th>\n",
       "      <td>Sc1</td>\n",
       "      <td>2021-09-14 22:16:31.035134</td>\n",
       "      <td>6</td>\n",
       "      <td>step 1</td>\n",
       "      <td>1</td>\n",
       "      <td>User-020</td>\n",
       "      <td>2021-09-14 22:31:31.035134</td>\n",
       "      <td>21</td>\n",
       "      <td>15</td>\n",
       "    </tr>\n",
       "    <tr>\n",
       "      <th>20</th>\n",
       "      <td>Sc1</td>\n",
       "      <td>2021-09-14 22:16:31.035134</td>\n",
       "      <td>6</td>\n",
       "      <td>step 1</td>\n",
       "      <td>1</td>\n",
       "      <td>User-021</td>\n",
       "      <td>2021-09-14 22:31:31.035134</td>\n",
       "      <td>21</td>\n",
       "      <td>15</td>\n",
       "    </tr>\n",
       "    <tr>\n",
       "      <th>21</th>\n",
       "      <td>Sc1</td>\n",
       "      <td>2021-09-14 22:17:31.035134</td>\n",
       "      <td>7</td>\n",
       "      <td>step 1</td>\n",
       "      <td>1</td>\n",
       "      <td>User-022</td>\n",
       "      <td>2021-09-14 22:31:31.035134</td>\n",
       "      <td>21</td>\n",
       "      <td>14</td>\n",
       "    </tr>\n",
       "    <tr>\n",
       "      <th>22</th>\n",
       "      <td>Sc1</td>\n",
       "      <td>2021-09-14 22:17:31.035134</td>\n",
       "      <td>7</td>\n",
       "      <td>step 1</td>\n",
       "      <td>1</td>\n",
       "      <td>User-023</td>\n",
       "      <td>2021-09-14 22:32:31.035134</td>\n",
       "      <td>22</td>\n",
       "      <td>15</td>\n",
       "    </tr>\n",
       "    <tr>\n",
       "      <th>23</th>\n",
       "      <td>Sc1</td>\n",
       "      <td>2021-09-14 22:17:31.035134</td>\n",
       "      <td>7</td>\n",
       "      <td>step 1</td>\n",
       "      <td>1</td>\n",
       "      <td>User-024</td>\n",
       "      <td>2021-09-14 22:32:31.035134</td>\n",
       "      <td>22</td>\n",
       "      <td>15</td>\n",
       "    </tr>\n",
       "    <tr>\n",
       "      <th>24</th>\n",
       "      <td>Sc1</td>\n",
       "      <td>2021-09-14 22:18:31.035134</td>\n",
       "      <td>8</td>\n",
       "      <td>step 1</td>\n",
       "      <td>1</td>\n",
       "      <td>User-025</td>\n",
       "      <td>2021-09-14 22:32:31.035134</td>\n",
       "      <td>22</td>\n",
       "      <td>14</td>\n",
       "    </tr>\n",
       "    <tr>\n",
       "      <th>25</th>\n",
       "      <td>Sc1</td>\n",
       "      <td>2021-09-14 22:18:31.035134</td>\n",
       "      <td>8</td>\n",
       "      <td>step 1</td>\n",
       "      <td>1</td>\n",
       "      <td>User-026</td>\n",
       "      <td>2021-09-14 22:33:31.035134</td>\n",
       "      <td>23</td>\n",
       "      <td>15</td>\n",
       "    </tr>\n",
       "    <tr>\n",
       "      <th>26</th>\n",
       "      <td>Sc1</td>\n",
       "      <td>2021-09-14 22:18:31.035134</td>\n",
       "      <td>8</td>\n",
       "      <td>step 1</td>\n",
       "      <td>1</td>\n",
       "      <td>User-027</td>\n",
       "      <td>2021-09-14 22:33:31.035134</td>\n",
       "      <td>23</td>\n",
       "      <td>15</td>\n",
       "    </tr>\n",
       "    <tr>\n",
       "      <th>27</th>\n",
       "      <td>Sc1</td>\n",
       "      <td>2021-09-14 22:19:31.035134</td>\n",
       "      <td>9</td>\n",
       "      <td>step 1</td>\n",
       "      <td>1</td>\n",
       "      <td>User-028</td>\n",
       "      <td>2021-09-14 22:33:31.035134</td>\n",
       "      <td>23</td>\n",
       "      <td>14</td>\n",
       "    </tr>\n",
       "    <tr>\n",
       "      <th>28</th>\n",
       "      <td>Sc1</td>\n",
       "      <td>2021-09-14 22:19:31.035134</td>\n",
       "      <td>9</td>\n",
       "      <td>step 1</td>\n",
       "      <td>1</td>\n",
       "      <td>User-029</td>\n",
       "      <td>2021-09-14 22:34:31.035134</td>\n",
       "      <td>24</td>\n",
       "      <td>15</td>\n",
       "    </tr>\n",
       "    <tr>\n",
       "      <th>29</th>\n",
       "      <td>Sc1</td>\n",
       "      <td>2021-09-14 22:19:31.035134</td>\n",
       "      <td>9</td>\n",
       "      <td>step 1</td>\n",
       "      <td>1</td>\n",
       "      <td>User-030</td>\n",
       "      <td>2021-09-14 22:34:31.035134</td>\n",
       "      <td>24</td>\n",
       "      <td>15</td>\n",
       "    </tr>\n",
       "    <tr>\n",
       "      <th>30</th>\n",
       "      <td>Sc1</td>\n",
       "      <td>2021-09-14 22:20:31.035134</td>\n",
       "      <td>10</td>\n",
       "      <td>step 1</td>\n",
       "      <td>1</td>\n",
       "      <td>User-031</td>\n",
       "      <td>2021-09-14 22:34:31.035134</td>\n",
       "      <td>24</td>\n",
       "      <td>14</td>\n",
       "    </tr>\n",
       "    <tr>\n",
       "      <th>31</th>\n",
       "      <td>Sc1</td>\n",
       "      <td>2021-09-14 22:20:31.035134</td>\n",
       "      <td>10</td>\n",
       "      <td>step 1</td>\n",
       "      <td>1</td>\n",
       "      <td>User-032</td>\n",
       "      <td>2021-09-14 22:35:31.035134</td>\n",
       "      <td>25</td>\n",
       "      <td>15</td>\n",
       "    </tr>\n",
       "    <tr>\n",
       "      <th>32</th>\n",
       "      <td>Sc1</td>\n",
       "      <td>2021-09-14 22:20:31.035134</td>\n",
       "      <td>10</td>\n",
       "      <td>step 1</td>\n",
       "      <td>1</td>\n",
       "      <td>User-033</td>\n",
       "      <td>2021-09-14 22:40:31.035134</td>\n",
       "      <td>30</td>\n",
       "      <td>20</td>\n",
       "    </tr>\n",
       "    <tr>\n",
       "      <th>33</th>\n",
       "      <td>Sc1</td>\n",
       "      <td>2021-09-14 22:21:31.035134</td>\n",
       "      <td>11</td>\n",
       "      <td>step 1</td>\n",
       "      <td>1</td>\n",
       "      <td>User-034</td>\n",
       "      <td>2021-09-14 22:40:31.035134</td>\n",
       "      <td>30</td>\n",
       "      <td>19</td>\n",
       "    </tr>\n",
       "    <tr>\n",
       "      <th>34</th>\n",
       "      <td>Sc1</td>\n",
       "      <td>2021-09-14 22:21:31.035134</td>\n",
       "      <td>11</td>\n",
       "      <td>step 1</td>\n",
       "      <td>1</td>\n",
       "      <td>User-035</td>\n",
       "      <td>2021-09-14 22:40:31.035134</td>\n",
       "      <td>30</td>\n",
       "      <td>19</td>\n",
       "    </tr>\n",
       "    <tr>\n",
       "      <th>35</th>\n",
       "      <td>Sc1</td>\n",
       "      <td>2021-09-14 22:21:31.035134</td>\n",
       "      <td>11</td>\n",
       "      <td>step 1</td>\n",
       "      <td>1</td>\n",
       "      <td>User-036</td>\n",
       "      <td>2021-09-14 22:41:31.035134</td>\n",
       "      <td>31</td>\n",
       "      <td>20</td>\n",
       "    </tr>\n",
       "    <tr>\n",
       "      <th>36</th>\n",
       "      <td>Sc1</td>\n",
       "      <td>2021-09-14 22:22:31.035134</td>\n",
       "      <td>12</td>\n",
       "      <td>step 1</td>\n",
       "      <td>1</td>\n",
       "      <td>User-037</td>\n",
       "      <td>2021-09-14 22:41:31.035134</td>\n",
       "      <td>31</td>\n",
       "      <td>19</td>\n",
       "    </tr>\n",
       "    <tr>\n",
       "      <th>37</th>\n",
       "      <td>Sc1</td>\n",
       "      <td>2021-09-14 22:22:31.035134</td>\n",
       "      <td>12</td>\n",
       "      <td>step 1</td>\n",
       "      <td>1</td>\n",
       "      <td>User-038</td>\n",
       "      <td>2021-09-14 22:41:31.035134</td>\n",
       "      <td>31</td>\n",
       "      <td>19</td>\n",
       "    </tr>\n",
       "    <tr>\n",
       "      <th>38</th>\n",
       "      <td>Sc1</td>\n",
       "      <td>2021-09-14 22:22:31.035134</td>\n",
       "      <td>12</td>\n",
       "      <td>step 1</td>\n",
       "      <td>1</td>\n",
       "      <td>User-039</td>\n",
       "      <td>2021-09-14 22:42:31.035134</td>\n",
       "      <td>32</td>\n",
       "      <td>20</td>\n",
       "    </tr>\n",
       "    <tr>\n",
       "      <th>39</th>\n",
       "      <td>Sc1</td>\n",
       "      <td>2021-09-14 22:23:31.035134</td>\n",
       "      <td>13</td>\n",
       "      <td>step 1</td>\n",
       "      <td>1</td>\n",
       "      <td>User-040</td>\n",
       "      <td>2021-09-14 22:42:31.035134</td>\n",
       "      <td>32</td>\n",
       "      <td>19</td>\n",
       "    </tr>\n",
       "    <tr>\n",
       "      <th>40</th>\n",
       "      <td>Sc1</td>\n",
       "      <td>2021-09-14 22:23:31.035134</td>\n",
       "      <td>13</td>\n",
       "      <td>step 1</td>\n",
       "      <td>1</td>\n",
       "      <td>User-041</td>\n",
       "      <td>2021-09-14 22:42:31.035134</td>\n",
       "      <td>32</td>\n",
       "      <td>19</td>\n",
       "    </tr>\n",
       "    <tr>\n",
       "      <th>41</th>\n",
       "      <td>Sc1</td>\n",
       "      <td>2021-09-14 22:23:31.035134</td>\n",
       "      <td>13</td>\n",
       "      <td>step 1</td>\n",
       "      <td>1</td>\n",
       "      <td>User-042</td>\n",
       "      <td>2021-09-14 22:43:31.035134</td>\n",
       "      <td>33</td>\n",
       "      <td>20</td>\n",
       "    </tr>\n",
       "    <tr>\n",
       "      <th>42</th>\n",
       "      <td>Sc1</td>\n",
       "      <td>2021-09-14 22:24:31.035134</td>\n",
       "      <td>14</td>\n",
       "      <td>step 1</td>\n",
       "      <td>1</td>\n",
       "      <td>User-043</td>\n",
       "      <td>2021-09-14 22:43:31.035134</td>\n",
       "      <td>33</td>\n",
       "      <td>19</td>\n",
       "    </tr>\n",
       "    <tr>\n",
       "      <th>43</th>\n",
       "      <td>Sc1</td>\n",
       "      <td>2021-09-14 22:24:31.035134</td>\n",
       "      <td>14</td>\n",
       "      <td>step 1</td>\n",
       "      <td>1</td>\n",
       "      <td>User-044</td>\n",
       "      <td>2021-09-14 22:43:31.035134</td>\n",
       "      <td>33</td>\n",
       "      <td>19</td>\n",
       "    </tr>\n",
       "    <tr>\n",
       "      <th>44</th>\n",
       "      <td>Sc1</td>\n",
       "      <td>2021-09-14 22:24:31.035134</td>\n",
       "      <td>14</td>\n",
       "      <td>step 1</td>\n",
       "      <td>1</td>\n",
       "      <td>User-045</td>\n",
       "      <td>2021-09-14 22:44:31.035134</td>\n",
       "      <td>34</td>\n",
       "      <td>20</td>\n",
       "    </tr>\n",
       "    <tr>\n",
       "      <th>45</th>\n",
       "      <td>Sc1</td>\n",
       "      <td>2021-09-14 22:25:31.035134</td>\n",
       "      <td>15</td>\n",
       "      <td>step 1</td>\n",
       "      <td>1</td>\n",
       "      <td>User-046</td>\n",
       "      <td>2021-09-14 22:44:31.035134</td>\n",
       "      <td>34</td>\n",
       "      <td>19</td>\n",
       "    </tr>\n",
       "    <tr>\n",
       "      <th>46</th>\n",
       "      <td>Sc1</td>\n",
       "      <td>2021-09-14 22:25:31.035134</td>\n",
       "      <td>15</td>\n",
       "      <td>step 1</td>\n",
       "      <td>1</td>\n",
       "      <td>User-047</td>\n",
       "      <td>2021-09-14 22:44:31.035134</td>\n",
       "      <td>34</td>\n",
       "      <td>19</td>\n",
       "    </tr>\n",
       "    <tr>\n",
       "      <th>47</th>\n",
       "      <td>Sc1</td>\n",
       "      <td>2021-09-14 22:25:31.035134</td>\n",
       "      <td>15</td>\n",
       "      <td>step 1</td>\n",
       "      <td>1</td>\n",
       "      <td>User-048</td>\n",
       "      <td>2021-09-14 22:45:31.035134</td>\n",
       "      <td>35</td>\n",
       "      <td>20</td>\n",
       "    </tr>\n",
       "    <tr>\n",
       "      <th>48</th>\n",
       "      <td>Sc1</td>\n",
       "      <td>2021-09-14 22:26:31.035134</td>\n",
       "      <td>16</td>\n",
       "      <td>step 1</td>\n",
       "      <td>1</td>\n",
       "      <td>User-049</td>\n",
       "      <td>2021-09-14 22:50:31.035134</td>\n",
       "      <td>40</td>\n",
       "      <td>24</td>\n",
       "    </tr>\n",
       "    <tr>\n",
       "      <th>49</th>\n",
       "      <td>Sc1</td>\n",
       "      <td>2021-09-14 22:26:31.035134</td>\n",
       "      <td>16</td>\n",
       "      <td>step 1</td>\n",
       "      <td>1</td>\n",
       "      <td>User-050</td>\n",
       "      <td>2021-09-14 22:50:31.035134</td>\n",
       "      <td>40</td>\n",
       "      <td>24</td>\n",
       "    </tr>\n",
       "    <tr>\n",
       "      <th>50</th>\n",
       "      <td>Sc1</td>\n",
       "      <td>2021-09-14 22:26:31.035134</td>\n",
       "      <td>16</td>\n",
       "      <td>step 1</td>\n",
       "      <td>1</td>\n",
       "      <td>User-051</td>\n",
       "      <td>2021-09-14 22:50:31.035134</td>\n",
       "      <td>40</td>\n",
       "      <td>24</td>\n",
       "    </tr>\n",
       "    <tr>\n",
       "      <th>51</th>\n",
       "      <td>Sc1</td>\n",
       "      <td>2021-09-14 22:27:31.035134</td>\n",
       "      <td>17</td>\n",
       "      <td>step 1</td>\n",
       "      <td>1</td>\n",
       "      <td>User-052</td>\n",
       "      <td>2021-09-14 22:51:31.035134</td>\n",
       "      <td>41</td>\n",
       "      <td>24</td>\n",
       "    </tr>\n",
       "    <tr>\n",
       "      <th>52</th>\n",
       "      <td>Sc1</td>\n",
       "      <td>2021-09-14 22:27:31.035134</td>\n",
       "      <td>17</td>\n",
       "      <td>step 1</td>\n",
       "      <td>1</td>\n",
       "      <td>User-053</td>\n",
       "      <td>2021-09-14 22:51:31.035134</td>\n",
       "      <td>41</td>\n",
       "      <td>24</td>\n",
       "    </tr>\n",
       "    <tr>\n",
       "      <th>53</th>\n",
       "      <td>Sc1</td>\n",
       "      <td>2021-09-14 22:27:31.035134</td>\n",
       "      <td>17</td>\n",
       "      <td>step 1</td>\n",
       "      <td>1</td>\n",
       "      <td>User-054</td>\n",
       "      <td>2021-09-14 22:51:31.035134</td>\n",
       "      <td>41</td>\n",
       "      <td>24</td>\n",
       "    </tr>\n",
       "    <tr>\n",
       "      <th>54</th>\n",
       "      <td>Sc1</td>\n",
       "      <td>2021-09-14 22:28:31.035134</td>\n",
       "      <td>18</td>\n",
       "      <td>step 1</td>\n",
       "      <td>1</td>\n",
       "      <td>User-055</td>\n",
       "      <td>2021-09-14 22:52:31.035134</td>\n",
       "      <td>42</td>\n",
       "      <td>24</td>\n",
       "    </tr>\n",
       "    <tr>\n",
       "      <th>55</th>\n",
       "      <td>Sc1</td>\n",
       "      <td>2021-09-14 22:28:31.035134</td>\n",
       "      <td>18</td>\n",
       "      <td>step 1</td>\n",
       "      <td>1</td>\n",
       "      <td>User-056</td>\n",
       "      <td>2021-09-14 22:52:31.035134</td>\n",
       "      <td>42</td>\n",
       "      <td>24</td>\n",
       "    </tr>\n",
       "    <tr>\n",
       "      <th>56</th>\n",
       "      <td>Sc1</td>\n",
       "      <td>2021-09-14 22:28:31.035134</td>\n",
       "      <td>18</td>\n",
       "      <td>step 1</td>\n",
       "      <td>1</td>\n",
       "      <td>User-057</td>\n",
       "      <td>2021-09-14 22:52:31.035134</td>\n",
       "      <td>42</td>\n",
       "      <td>24</td>\n",
       "    </tr>\n",
       "    <tr>\n",
       "      <th>57</th>\n",
       "      <td>Sc1</td>\n",
       "      <td>2021-09-14 22:29:31.035134</td>\n",
       "      <td>19</td>\n",
       "      <td>step 1</td>\n",
       "      <td>1</td>\n",
       "      <td>User-058</td>\n",
       "      <td>2021-09-14 22:53:31.035134</td>\n",
       "      <td>43</td>\n",
       "      <td>24</td>\n",
       "    </tr>\n",
       "    <tr>\n",
       "      <th>58</th>\n",
       "      <td>Sc1</td>\n",
       "      <td>2021-09-14 22:29:31.035134</td>\n",
       "      <td>19</td>\n",
       "      <td>step 1</td>\n",
       "      <td>1</td>\n",
       "      <td>User-059</td>\n",
       "      <td>2021-09-14 22:53:31.035134</td>\n",
       "      <td>43</td>\n",
       "      <td>24</td>\n",
       "    </tr>\n",
       "    <tr>\n",
       "      <th>59</th>\n",
       "      <td>Sc1</td>\n",
       "      <td>2021-09-14 22:29:31.035134</td>\n",
       "      <td>19</td>\n",
       "      <td>step 1</td>\n",
       "      <td>1</td>\n",
       "      <td>User-060</td>\n",
       "      <td>2021-09-14 22:53:31.035134</td>\n",
       "      <td>43</td>\n",
       "      <td>24</td>\n",
       "    </tr>\n",
       "  </tbody>\n",
       "</table>\n",
       "</div>"
      ],
      "text/plain": [
       "   Scenario                      Start  StartMark    Task  TaskId  Username  \\\n",
       "0       Sc1 2021-09-14 22:10:31.035134          0  step 1       1  User-001   \n",
       "1       Sc1 2021-09-14 22:10:31.035134          0  step 1       1  User-002   \n",
       "2       Sc1 2021-09-14 22:10:31.035134          0  step 1       1  User-003   \n",
       "3       Sc1 2021-09-14 22:11:31.035134          1  step 1       1  User-004   \n",
       "4       Sc1 2021-09-14 22:11:31.035134          1  step 1       1  User-005   \n",
       "5       Sc1 2021-09-14 22:11:31.035134          1  step 1       1  User-006   \n",
       "6       Sc1 2021-09-14 22:12:31.035134          2  step 1       1  User-007   \n",
       "7       Sc1 2021-09-14 22:12:31.035134          2  step 1       1  User-008   \n",
       "8       Sc1 2021-09-14 22:12:31.035134          2  step 1       1  User-009   \n",
       "9       Sc1 2021-09-14 22:13:31.035134          3  step 1       1  User-010   \n",
       "10      Sc1 2021-09-14 22:13:31.035134          3  step 1       1  User-011   \n",
       "11      Sc1 2021-09-14 22:13:31.035134          3  step 1       1  User-012   \n",
       "12      Sc1 2021-09-14 22:14:31.035134          4  step 1       1  User-013   \n",
       "13      Sc1 2021-09-14 22:14:31.035134          4  step 1       1  User-014   \n",
       "14      Sc1 2021-09-14 22:14:31.035134          4  step 1       1  User-015   \n",
       "15      Sc1 2021-09-14 22:15:31.035134          5  step 1       1  User-016   \n",
       "16      Sc1 2021-09-14 22:15:31.035134          5  step 1       1  User-017   \n",
       "17      Sc1 2021-09-14 22:15:31.035134          5  step 1       1  User-018   \n",
       "18      Sc1 2021-09-14 22:16:31.035134          6  step 1       1  User-019   \n",
       "19      Sc1 2021-09-14 22:16:31.035134          6  step 1       1  User-020   \n",
       "20      Sc1 2021-09-14 22:16:31.035134          6  step 1       1  User-021   \n",
       "21      Sc1 2021-09-14 22:17:31.035134          7  step 1       1  User-022   \n",
       "22      Sc1 2021-09-14 22:17:31.035134          7  step 1       1  User-023   \n",
       "23      Sc1 2021-09-14 22:17:31.035134          7  step 1       1  User-024   \n",
       "24      Sc1 2021-09-14 22:18:31.035134          8  step 1       1  User-025   \n",
       "25      Sc1 2021-09-14 22:18:31.035134          8  step 1       1  User-026   \n",
       "26      Sc1 2021-09-14 22:18:31.035134          8  step 1       1  User-027   \n",
       "27      Sc1 2021-09-14 22:19:31.035134          9  step 1       1  User-028   \n",
       "28      Sc1 2021-09-14 22:19:31.035134          9  step 1       1  User-029   \n",
       "29      Sc1 2021-09-14 22:19:31.035134          9  step 1       1  User-030   \n",
       "30      Sc1 2021-09-14 22:20:31.035134         10  step 1       1  User-031   \n",
       "31      Sc1 2021-09-14 22:20:31.035134         10  step 1       1  User-032   \n",
       "32      Sc1 2021-09-14 22:20:31.035134         10  step 1       1  User-033   \n",
       "33      Sc1 2021-09-14 22:21:31.035134         11  step 1       1  User-034   \n",
       "34      Sc1 2021-09-14 22:21:31.035134         11  step 1       1  User-035   \n",
       "35      Sc1 2021-09-14 22:21:31.035134         11  step 1       1  User-036   \n",
       "36      Sc1 2021-09-14 22:22:31.035134         12  step 1       1  User-037   \n",
       "37      Sc1 2021-09-14 22:22:31.035134         12  step 1       1  User-038   \n",
       "38      Sc1 2021-09-14 22:22:31.035134         12  step 1       1  User-039   \n",
       "39      Sc1 2021-09-14 22:23:31.035134         13  step 1       1  User-040   \n",
       "40      Sc1 2021-09-14 22:23:31.035134         13  step 1       1  User-041   \n",
       "41      Sc1 2021-09-14 22:23:31.035134         13  step 1       1  User-042   \n",
       "42      Sc1 2021-09-14 22:24:31.035134         14  step 1       1  User-043   \n",
       "43      Sc1 2021-09-14 22:24:31.035134         14  step 1       1  User-044   \n",
       "44      Sc1 2021-09-14 22:24:31.035134         14  step 1       1  User-045   \n",
       "45      Sc1 2021-09-14 22:25:31.035134         15  step 1       1  User-046   \n",
       "46      Sc1 2021-09-14 22:25:31.035134         15  step 1       1  User-047   \n",
       "47      Sc1 2021-09-14 22:25:31.035134         15  step 1       1  User-048   \n",
       "48      Sc1 2021-09-14 22:26:31.035134         16  step 1       1  User-049   \n",
       "49      Sc1 2021-09-14 22:26:31.035134         16  step 1       1  User-050   \n",
       "50      Sc1 2021-09-14 22:26:31.035134         16  step 1       1  User-051   \n",
       "51      Sc1 2021-09-14 22:27:31.035134         17  step 1       1  User-052   \n",
       "52      Sc1 2021-09-14 22:27:31.035134         17  step 1       1  User-053   \n",
       "53      Sc1 2021-09-14 22:27:31.035134         17  step 1       1  User-054   \n",
       "54      Sc1 2021-09-14 22:28:31.035134         18  step 1       1  User-055   \n",
       "55      Sc1 2021-09-14 22:28:31.035134         18  step 1       1  User-056   \n",
       "56      Sc1 2021-09-14 22:28:31.035134         18  step 1       1  User-057   \n",
       "57      Sc1 2021-09-14 22:29:31.035134         19  step 1       1  User-058   \n",
       "58      Sc1 2021-09-14 22:29:31.035134         19  step 1       1  User-059   \n",
       "59      Sc1 2021-09-14 22:29:31.035134         19  step 1       1  User-060   \n",
       "\n",
       "                       Finish  FinishMark  Duration  \n",
       "0  2021-09-14 22:20:31.035134          10        10  \n",
       "1  2021-09-14 22:20:31.035134          10        10  \n",
       "2  2021-09-14 22:20:31.035134          10        10  \n",
       "3  2021-09-14 22:21:31.035134          11        10  \n",
       "4  2021-09-14 22:21:31.035134          11        10  \n",
       "5  2021-09-14 22:21:31.035134          11        10  \n",
       "6  2021-09-14 22:22:31.035134          12        10  \n",
       "7  2021-09-14 22:22:31.035134          12        10  \n",
       "8  2021-09-14 22:22:31.035134          12        10  \n",
       "9  2021-09-14 22:23:31.035134          13        10  \n",
       "10 2021-09-14 22:23:31.035134          13        10  \n",
       "11 2021-09-14 22:23:31.035134          13        10  \n",
       "12 2021-09-14 22:24:31.035134          14        10  \n",
       "13 2021-09-14 22:24:31.035134          14        10  \n",
       "14 2021-09-14 22:24:31.035134          14        10  \n",
       "15 2021-09-14 22:25:31.035134          15        10  \n",
       "16 2021-09-14 22:30:31.035134          20        15  \n",
       "17 2021-09-14 22:30:31.035134          20        15  \n",
       "18 2021-09-14 22:30:31.035134          20        14  \n",
       "19 2021-09-14 22:31:31.035134          21        15  \n",
       "20 2021-09-14 22:31:31.035134          21        15  \n",
       "21 2021-09-14 22:31:31.035134          21        14  \n",
       "22 2021-09-14 22:32:31.035134          22        15  \n",
       "23 2021-09-14 22:32:31.035134          22        15  \n",
       "24 2021-09-14 22:32:31.035134          22        14  \n",
       "25 2021-09-14 22:33:31.035134          23        15  \n",
       "26 2021-09-14 22:33:31.035134          23        15  \n",
       "27 2021-09-14 22:33:31.035134          23        14  \n",
       "28 2021-09-14 22:34:31.035134          24        15  \n",
       "29 2021-09-14 22:34:31.035134          24        15  \n",
       "30 2021-09-14 22:34:31.035134          24        14  \n",
       "31 2021-09-14 22:35:31.035134          25        15  \n",
       "32 2021-09-14 22:40:31.035134          30        20  \n",
       "33 2021-09-14 22:40:31.035134          30        19  \n",
       "34 2021-09-14 22:40:31.035134          30        19  \n",
       "35 2021-09-14 22:41:31.035134          31        20  \n",
       "36 2021-09-14 22:41:31.035134          31        19  \n",
       "37 2021-09-14 22:41:31.035134          31        19  \n",
       "38 2021-09-14 22:42:31.035134          32        20  \n",
       "39 2021-09-14 22:42:31.035134          32        19  \n",
       "40 2021-09-14 22:42:31.035134          32        19  \n",
       "41 2021-09-14 22:43:31.035134          33        20  \n",
       "42 2021-09-14 22:43:31.035134          33        19  \n",
       "43 2021-09-14 22:43:31.035134          33        19  \n",
       "44 2021-09-14 22:44:31.035134          34        20  \n",
       "45 2021-09-14 22:44:31.035134          34        19  \n",
       "46 2021-09-14 22:44:31.035134          34        19  \n",
       "47 2021-09-14 22:45:31.035134          35        20  \n",
       "48 2021-09-14 22:50:31.035134          40        24  \n",
       "49 2021-09-14 22:50:31.035134          40        24  \n",
       "50 2021-09-14 22:50:31.035134          40        24  \n",
       "51 2021-09-14 22:51:31.035134          41        24  \n",
       "52 2021-09-14 22:51:31.035134          41        24  \n",
       "53 2021-09-14 22:51:31.035134          41        24  \n",
       "54 2021-09-14 22:52:31.035134          42        24  \n",
       "55 2021-09-14 22:52:31.035134          42        24  \n",
       "56 2021-09-14 22:52:31.035134          42        24  \n",
       "57 2021-09-14 22:53:31.035134          43        24  \n",
       "58 2021-09-14 22:53:31.035134          43        24  \n",
       "59 2021-09-14 22:53:31.035134          43        24  "
      ]
     },
     "metadata": {},
     "output_type": "display_data"
    }
   ],
   "source": [
    "df_users = world.user_monitor.collect()\n",
    "display(df_users)"
   ]
  },
  {
   "cell_type": "code",
   "execution_count": 64,
   "metadata": {},
   "outputs": [
    {
     "data": {
      "application/vnd.plotly.v1+json": {
       "config": {
        "plotlyServerURL": "https://plot.ly"
       },
       "data": [
        {
         "alignmentgroup": "True",
         "base": [
          "2021-09-14T22:10:31.035134",
          "2021-09-14T22:10:31.035134",
          "2021-09-14T22:10:31.035134",
          "2021-09-14T22:11:31.035134",
          "2021-09-14T22:11:31.035134",
          "2021-09-14T22:11:31.035134",
          "2021-09-14T22:12:31.035134",
          "2021-09-14T22:12:31.035134",
          "2021-09-14T22:12:31.035134",
          "2021-09-14T22:13:31.035134",
          "2021-09-14T22:13:31.035134",
          "2021-09-14T22:13:31.035134",
          "2021-09-14T22:14:31.035134",
          "2021-09-14T22:14:31.035134",
          "2021-09-14T22:14:31.035134",
          "2021-09-14T22:15:31.035134",
          "2021-09-14T22:15:31.035134",
          "2021-09-14T22:15:31.035134",
          "2021-09-14T22:16:31.035134",
          "2021-09-14T22:16:31.035134",
          "2021-09-14T22:16:31.035134",
          "2021-09-14T22:17:31.035134",
          "2021-09-14T22:17:31.035134",
          "2021-09-14T22:17:31.035134",
          "2021-09-14T22:18:31.035134",
          "2021-09-14T22:18:31.035134",
          "2021-09-14T22:18:31.035134",
          "2021-09-14T22:19:31.035134",
          "2021-09-14T22:19:31.035134",
          "2021-09-14T22:19:31.035134",
          "2021-09-14T22:20:31.035134",
          "2021-09-14T22:20:31.035134",
          "2021-09-14T22:20:31.035134",
          "2021-09-14T22:21:31.035134",
          "2021-09-14T22:21:31.035134",
          "2021-09-14T22:21:31.035134",
          "2021-09-14T22:22:31.035134",
          "2021-09-14T22:22:31.035134",
          "2021-09-14T22:22:31.035134",
          "2021-09-14T22:23:31.035134",
          "2021-09-14T22:23:31.035134",
          "2021-09-14T22:23:31.035134",
          "2021-09-14T22:24:31.035134",
          "2021-09-14T22:24:31.035134",
          "2021-09-14T22:24:31.035134",
          "2021-09-14T22:25:31.035134",
          "2021-09-14T22:25:31.035134",
          "2021-09-14T22:25:31.035134",
          "2021-09-14T22:26:31.035134",
          "2021-09-14T22:26:31.035134",
          "2021-09-14T22:26:31.035134",
          "2021-09-14T22:27:31.035134",
          "2021-09-14T22:27:31.035134",
          "2021-09-14T22:27:31.035134",
          "2021-09-14T22:28:31.035134",
          "2021-09-14T22:28:31.035134",
          "2021-09-14T22:28:31.035134",
          "2021-09-14T22:29:31.035134",
          "2021-09-14T22:29:31.035134",
          "2021-09-14T22:29:31.035134"
         ],
         "hovertemplate": "Scenario=Sc1<br>Start=%{base}<br>Finish=%{x}<br>Username=%{y}<extra></extra>",
         "legendgroup": "Sc1",
         "marker": {
          "color": "#636efa"
         },
         "name": "Sc1",
         "offsetgroup": "Sc1",
         "orientation": "h",
         "showlegend": true,
         "textposition": "auto",
         "type": "bar",
         "x": [
          600000,
          600000,
          600000,
          600000,
          600000,
          600000,
          600000,
          600000,
          600000,
          600000,
          600000,
          600000,
          600000,
          600000,
          600000,
          600000,
          900000,
          900000,
          840000,
          900000,
          900000,
          840000,
          900000,
          900000,
          840000,
          900000,
          900000,
          840000,
          900000,
          900000,
          840000,
          900000,
          1200000,
          1140000,
          1140000,
          1200000,
          1140000,
          1140000,
          1200000,
          1140000,
          1140000,
          1200000,
          1140000,
          1140000,
          1200000,
          1140000,
          1140000,
          1200000,
          1440000,
          1440000,
          1440000,
          1440000,
          1440000,
          1440000,
          1440000,
          1440000,
          1440000,
          1440000,
          1440000,
          1440000
         ],
         "xaxis": "x",
         "y": [
          "User-001",
          "User-002",
          "User-003",
          "User-004",
          "User-005",
          "User-006",
          "User-007",
          "User-008",
          "User-009",
          "User-010",
          "User-011",
          "User-012",
          "User-013",
          "User-014",
          "User-015",
          "User-016",
          "User-017",
          "User-018",
          "User-019",
          "User-020",
          "User-021",
          "User-022",
          "User-023",
          "User-024",
          "User-025",
          "User-026",
          "User-027",
          "User-028",
          "User-029",
          "User-030",
          "User-031",
          "User-032",
          "User-033",
          "User-034",
          "User-035",
          "User-036",
          "User-037",
          "User-038",
          "User-039",
          "User-040",
          "User-041",
          "User-042",
          "User-043",
          "User-044",
          "User-045",
          "User-046",
          "User-047",
          "User-048",
          "User-049",
          "User-050",
          "User-051",
          "User-052",
          "User-053",
          "User-054",
          "User-055",
          "User-056",
          "User-057",
          "User-058",
          "User-059",
          "User-060"
         ],
         "yaxis": "y"
        }
       ],
       "layout": {
        "barmode": "overlay",
        "legend": {
         "title": {
          "text": "Scenario"
         },
         "tracegroupgap": 0
        },
        "margin": {
         "t": 60
        },
        "template": {
         "data": {
          "bar": [
           {
            "error_x": {
             "color": "#2a3f5f"
            },
            "error_y": {
             "color": "#2a3f5f"
            },
            "marker": {
             "line": {
              "color": "#E5ECF6",
              "width": 0.5
             },
             "pattern": {
              "fillmode": "overlay",
              "size": 10,
              "solidity": 0.2
             }
            },
            "type": "bar"
           }
          ],
          "barpolar": [
           {
            "marker": {
             "line": {
              "color": "#E5ECF6",
              "width": 0.5
             },
             "pattern": {
              "fillmode": "overlay",
              "size": 10,
              "solidity": 0.2
             }
            },
            "type": "barpolar"
           }
          ],
          "carpet": [
           {
            "aaxis": {
             "endlinecolor": "#2a3f5f",
             "gridcolor": "white",
             "linecolor": "white",
             "minorgridcolor": "white",
             "startlinecolor": "#2a3f5f"
            },
            "baxis": {
             "endlinecolor": "#2a3f5f",
             "gridcolor": "white",
             "linecolor": "white",
             "minorgridcolor": "white",
             "startlinecolor": "#2a3f5f"
            },
            "type": "carpet"
           }
          ],
          "choropleth": [
           {
            "colorbar": {
             "outlinewidth": 0,
             "ticks": ""
            },
            "type": "choropleth"
           }
          ],
          "contour": [
           {
            "colorbar": {
             "outlinewidth": 0,
             "ticks": ""
            },
            "colorscale": [
             [
              0,
              "#0d0887"
             ],
             [
              0.1111111111111111,
              "#46039f"
             ],
             [
              0.2222222222222222,
              "#7201a8"
             ],
             [
              0.3333333333333333,
              "#9c179e"
             ],
             [
              0.4444444444444444,
              "#bd3786"
             ],
             [
              0.5555555555555556,
              "#d8576b"
             ],
             [
              0.6666666666666666,
              "#ed7953"
             ],
             [
              0.7777777777777778,
              "#fb9f3a"
             ],
             [
              0.8888888888888888,
              "#fdca26"
             ],
             [
              1,
              "#f0f921"
             ]
            ],
            "type": "contour"
           }
          ],
          "contourcarpet": [
           {
            "colorbar": {
             "outlinewidth": 0,
             "ticks": ""
            },
            "type": "contourcarpet"
           }
          ],
          "heatmap": [
           {
            "colorbar": {
             "outlinewidth": 0,
             "ticks": ""
            },
            "colorscale": [
             [
              0,
              "#0d0887"
             ],
             [
              0.1111111111111111,
              "#46039f"
             ],
             [
              0.2222222222222222,
              "#7201a8"
             ],
             [
              0.3333333333333333,
              "#9c179e"
             ],
             [
              0.4444444444444444,
              "#bd3786"
             ],
             [
              0.5555555555555556,
              "#d8576b"
             ],
             [
              0.6666666666666666,
              "#ed7953"
             ],
             [
              0.7777777777777778,
              "#fb9f3a"
             ],
             [
              0.8888888888888888,
              "#fdca26"
             ],
             [
              1,
              "#f0f921"
             ]
            ],
            "type": "heatmap"
           }
          ],
          "heatmapgl": [
           {
            "colorbar": {
             "outlinewidth": 0,
             "ticks": ""
            },
            "colorscale": [
             [
              0,
              "#0d0887"
             ],
             [
              0.1111111111111111,
              "#46039f"
             ],
             [
              0.2222222222222222,
              "#7201a8"
             ],
             [
              0.3333333333333333,
              "#9c179e"
             ],
             [
              0.4444444444444444,
              "#bd3786"
             ],
             [
              0.5555555555555556,
              "#d8576b"
             ],
             [
              0.6666666666666666,
              "#ed7953"
             ],
             [
              0.7777777777777778,
              "#fb9f3a"
             ],
             [
              0.8888888888888888,
              "#fdca26"
             ],
             [
              1,
              "#f0f921"
             ]
            ],
            "type": "heatmapgl"
           }
          ],
          "histogram": [
           {
            "marker": {
             "pattern": {
              "fillmode": "overlay",
              "size": 10,
              "solidity": 0.2
             }
            },
            "type": "histogram"
           }
          ],
          "histogram2d": [
           {
            "colorbar": {
             "outlinewidth": 0,
             "ticks": ""
            },
            "colorscale": [
             [
              0,
              "#0d0887"
             ],
             [
              0.1111111111111111,
              "#46039f"
             ],
             [
              0.2222222222222222,
              "#7201a8"
             ],
             [
              0.3333333333333333,
              "#9c179e"
             ],
             [
              0.4444444444444444,
              "#bd3786"
             ],
             [
              0.5555555555555556,
              "#d8576b"
             ],
             [
              0.6666666666666666,
              "#ed7953"
             ],
             [
              0.7777777777777778,
              "#fb9f3a"
             ],
             [
              0.8888888888888888,
              "#fdca26"
             ],
             [
              1,
              "#f0f921"
             ]
            ],
            "type": "histogram2d"
           }
          ],
          "histogram2dcontour": [
           {
            "colorbar": {
             "outlinewidth": 0,
             "ticks": ""
            },
            "colorscale": [
             [
              0,
              "#0d0887"
             ],
             [
              0.1111111111111111,
              "#46039f"
             ],
             [
              0.2222222222222222,
              "#7201a8"
             ],
             [
              0.3333333333333333,
              "#9c179e"
             ],
             [
              0.4444444444444444,
              "#bd3786"
             ],
             [
              0.5555555555555556,
              "#d8576b"
             ],
             [
              0.6666666666666666,
              "#ed7953"
             ],
             [
              0.7777777777777778,
              "#fb9f3a"
             ],
             [
              0.8888888888888888,
              "#fdca26"
             ],
             [
              1,
              "#f0f921"
             ]
            ],
            "type": "histogram2dcontour"
           }
          ],
          "mesh3d": [
           {
            "colorbar": {
             "outlinewidth": 0,
             "ticks": ""
            },
            "type": "mesh3d"
           }
          ],
          "parcoords": [
           {
            "line": {
             "colorbar": {
              "outlinewidth": 0,
              "ticks": ""
             }
            },
            "type": "parcoords"
           }
          ],
          "pie": [
           {
            "automargin": true,
            "type": "pie"
           }
          ],
          "scatter": [
           {
            "marker": {
             "colorbar": {
              "outlinewidth": 0,
              "ticks": ""
             }
            },
            "type": "scatter"
           }
          ],
          "scatter3d": [
           {
            "line": {
             "colorbar": {
              "outlinewidth": 0,
              "ticks": ""
             }
            },
            "marker": {
             "colorbar": {
              "outlinewidth": 0,
              "ticks": ""
             }
            },
            "type": "scatter3d"
           }
          ],
          "scattercarpet": [
           {
            "marker": {
             "colorbar": {
              "outlinewidth": 0,
              "ticks": ""
             }
            },
            "type": "scattercarpet"
           }
          ],
          "scattergeo": [
           {
            "marker": {
             "colorbar": {
              "outlinewidth": 0,
              "ticks": ""
             }
            },
            "type": "scattergeo"
           }
          ],
          "scattergl": [
           {
            "marker": {
             "colorbar": {
              "outlinewidth": 0,
              "ticks": ""
             }
            },
            "type": "scattergl"
           }
          ],
          "scattermapbox": [
           {
            "marker": {
             "colorbar": {
              "outlinewidth": 0,
              "ticks": ""
             }
            },
            "type": "scattermapbox"
           }
          ],
          "scatterpolar": [
           {
            "marker": {
             "colorbar": {
              "outlinewidth": 0,
              "ticks": ""
             }
            },
            "type": "scatterpolar"
           }
          ],
          "scatterpolargl": [
           {
            "marker": {
             "colorbar": {
              "outlinewidth": 0,
              "ticks": ""
             }
            },
            "type": "scatterpolargl"
           }
          ],
          "scatterternary": [
           {
            "marker": {
             "colorbar": {
              "outlinewidth": 0,
              "ticks": ""
             }
            },
            "type": "scatterternary"
           }
          ],
          "surface": [
           {
            "colorbar": {
             "outlinewidth": 0,
             "ticks": ""
            },
            "colorscale": [
             [
              0,
              "#0d0887"
             ],
             [
              0.1111111111111111,
              "#46039f"
             ],
             [
              0.2222222222222222,
              "#7201a8"
             ],
             [
              0.3333333333333333,
              "#9c179e"
             ],
             [
              0.4444444444444444,
              "#bd3786"
             ],
             [
              0.5555555555555556,
              "#d8576b"
             ],
             [
              0.6666666666666666,
              "#ed7953"
             ],
             [
              0.7777777777777778,
              "#fb9f3a"
             ],
             [
              0.8888888888888888,
              "#fdca26"
             ],
             [
              1,
              "#f0f921"
             ]
            ],
            "type": "surface"
           }
          ],
          "table": [
           {
            "cells": {
             "fill": {
              "color": "#EBF0F8"
             },
             "line": {
              "color": "white"
             }
            },
            "header": {
             "fill": {
              "color": "#C8D4E3"
             },
             "line": {
              "color": "white"
             }
            },
            "type": "table"
           }
          ]
         },
         "layout": {
          "annotationdefaults": {
           "arrowcolor": "#2a3f5f",
           "arrowhead": 0,
           "arrowwidth": 1
          },
          "autotypenumbers": "strict",
          "coloraxis": {
           "colorbar": {
            "outlinewidth": 0,
            "ticks": ""
           }
          },
          "colorscale": {
           "diverging": [
            [
             0,
             "#8e0152"
            ],
            [
             0.1,
             "#c51b7d"
            ],
            [
             0.2,
             "#de77ae"
            ],
            [
             0.3,
             "#f1b6da"
            ],
            [
             0.4,
             "#fde0ef"
            ],
            [
             0.5,
             "#f7f7f7"
            ],
            [
             0.6,
             "#e6f5d0"
            ],
            [
             0.7,
             "#b8e186"
            ],
            [
             0.8,
             "#7fbc41"
            ],
            [
             0.9,
             "#4d9221"
            ],
            [
             1,
             "#276419"
            ]
           ],
           "sequential": [
            [
             0,
             "#0d0887"
            ],
            [
             0.1111111111111111,
             "#46039f"
            ],
            [
             0.2222222222222222,
             "#7201a8"
            ],
            [
             0.3333333333333333,
             "#9c179e"
            ],
            [
             0.4444444444444444,
             "#bd3786"
            ],
            [
             0.5555555555555556,
             "#d8576b"
            ],
            [
             0.6666666666666666,
             "#ed7953"
            ],
            [
             0.7777777777777778,
             "#fb9f3a"
            ],
            [
             0.8888888888888888,
             "#fdca26"
            ],
            [
             1,
             "#f0f921"
            ]
           ],
           "sequentialminus": [
            [
             0,
             "#0d0887"
            ],
            [
             0.1111111111111111,
             "#46039f"
            ],
            [
             0.2222222222222222,
             "#7201a8"
            ],
            [
             0.3333333333333333,
             "#9c179e"
            ],
            [
             0.4444444444444444,
             "#bd3786"
            ],
            [
             0.5555555555555556,
             "#d8576b"
            ],
            [
             0.6666666666666666,
             "#ed7953"
            ],
            [
             0.7777777777777778,
             "#fb9f3a"
            ],
            [
             0.8888888888888888,
             "#fdca26"
            ],
            [
             1,
             "#f0f921"
            ]
           ]
          },
          "colorway": [
           "#636efa",
           "#EF553B",
           "#00cc96",
           "#ab63fa",
           "#FFA15A",
           "#19d3f3",
           "#FF6692",
           "#B6E880",
           "#FF97FF",
           "#FECB52"
          ],
          "font": {
           "color": "#2a3f5f"
          },
          "geo": {
           "bgcolor": "white",
           "lakecolor": "white",
           "landcolor": "#E5ECF6",
           "showlakes": true,
           "showland": true,
           "subunitcolor": "white"
          },
          "hoverlabel": {
           "align": "left"
          },
          "hovermode": "closest",
          "mapbox": {
           "style": "light"
          },
          "paper_bgcolor": "white",
          "plot_bgcolor": "#E5ECF6",
          "polar": {
           "angularaxis": {
            "gridcolor": "white",
            "linecolor": "white",
            "ticks": ""
           },
           "bgcolor": "#E5ECF6",
           "radialaxis": {
            "gridcolor": "white",
            "linecolor": "white",
            "ticks": ""
           }
          },
          "scene": {
           "xaxis": {
            "backgroundcolor": "#E5ECF6",
            "gridcolor": "white",
            "gridwidth": 2,
            "linecolor": "white",
            "showbackground": true,
            "ticks": "",
            "zerolinecolor": "white"
           },
           "yaxis": {
            "backgroundcolor": "#E5ECF6",
            "gridcolor": "white",
            "gridwidth": 2,
            "linecolor": "white",
            "showbackground": true,
            "ticks": "",
            "zerolinecolor": "white"
           },
           "zaxis": {
            "backgroundcolor": "#E5ECF6",
            "gridcolor": "white",
            "gridwidth": 2,
            "linecolor": "white",
            "showbackground": true,
            "ticks": "",
            "zerolinecolor": "white"
           }
          },
          "shapedefaults": {
           "line": {
            "color": "#2a3f5f"
           }
          },
          "ternary": {
           "aaxis": {
            "gridcolor": "white",
            "linecolor": "white",
            "ticks": ""
           },
           "baxis": {
            "gridcolor": "white",
            "linecolor": "white",
            "ticks": ""
           },
           "bgcolor": "#E5ECF6",
           "caxis": {
            "gridcolor": "white",
            "linecolor": "white",
            "ticks": ""
           }
          },
          "title": {
           "x": 0.05
          },
          "xaxis": {
           "automargin": true,
           "gridcolor": "white",
           "linecolor": "white",
           "ticks": "",
           "title": {
            "standoff": 15
           },
           "zerolinecolor": "white",
           "zerolinewidth": 2
          },
          "yaxis": {
           "automargin": true,
           "gridcolor": "white",
           "linecolor": "white",
           "ticks": "",
           "title": {
            "standoff": 15
           },
           "zerolinecolor": "white",
           "zerolinewidth": 2
          }
         }
        },
        "xaxis": {
         "anchor": "y",
         "domain": [
          0,
          1
         ],
         "type": "date"
        },
        "yaxis": {
         "anchor": "x",
         "categoryorder": "category descending",
         "domain": [
          0,
          1
         ],
         "title": {
          "text": "Username"
         }
        }
       }
      },
      "text/html": [
       "<div>                            <div id=\"3717f807-1a63-45ff-bfae-0d8afb22f1a9\" class=\"plotly-graph-div\" style=\"height:525px; width:100%;\"></div>            <script type=\"text/javascript\">                require([\"plotly\"], function(Plotly) {                    window.PLOTLYENV=window.PLOTLYENV || {};                                    if (document.getElementById(\"3717f807-1a63-45ff-bfae-0d8afb22f1a9\")) {                    Plotly.newPlot(                        \"3717f807-1a63-45ff-bfae-0d8afb22f1a9\",                        [{\"alignmentgroup\":\"True\",\"base\":[\"2021-09-14T22:10:31.035134\",\"2021-09-14T22:10:31.035134\",\"2021-09-14T22:10:31.035134\",\"2021-09-14T22:11:31.035134\",\"2021-09-14T22:11:31.035134\",\"2021-09-14T22:11:31.035134\",\"2021-09-14T22:12:31.035134\",\"2021-09-14T22:12:31.035134\",\"2021-09-14T22:12:31.035134\",\"2021-09-14T22:13:31.035134\",\"2021-09-14T22:13:31.035134\",\"2021-09-14T22:13:31.035134\",\"2021-09-14T22:14:31.035134\",\"2021-09-14T22:14:31.035134\",\"2021-09-14T22:14:31.035134\",\"2021-09-14T22:15:31.035134\",\"2021-09-14T22:15:31.035134\",\"2021-09-14T22:15:31.035134\",\"2021-09-14T22:16:31.035134\",\"2021-09-14T22:16:31.035134\",\"2021-09-14T22:16:31.035134\",\"2021-09-14T22:17:31.035134\",\"2021-09-14T22:17:31.035134\",\"2021-09-14T22:17:31.035134\",\"2021-09-14T22:18:31.035134\",\"2021-09-14T22:18:31.035134\",\"2021-09-14T22:18:31.035134\",\"2021-09-14T22:19:31.035134\",\"2021-09-14T22:19:31.035134\",\"2021-09-14T22:19:31.035134\",\"2021-09-14T22:20:31.035134\",\"2021-09-14T22:20:31.035134\",\"2021-09-14T22:20:31.035134\",\"2021-09-14T22:21:31.035134\",\"2021-09-14T22:21:31.035134\",\"2021-09-14T22:21:31.035134\",\"2021-09-14T22:22:31.035134\",\"2021-09-14T22:22:31.035134\",\"2021-09-14T22:22:31.035134\",\"2021-09-14T22:23:31.035134\",\"2021-09-14T22:23:31.035134\",\"2021-09-14T22:23:31.035134\",\"2021-09-14T22:24:31.035134\",\"2021-09-14T22:24:31.035134\",\"2021-09-14T22:24:31.035134\",\"2021-09-14T22:25:31.035134\",\"2021-09-14T22:25:31.035134\",\"2021-09-14T22:25:31.035134\",\"2021-09-14T22:26:31.035134\",\"2021-09-14T22:26:31.035134\",\"2021-09-14T22:26:31.035134\",\"2021-09-14T22:27:31.035134\",\"2021-09-14T22:27:31.035134\",\"2021-09-14T22:27:31.035134\",\"2021-09-14T22:28:31.035134\",\"2021-09-14T22:28:31.035134\",\"2021-09-14T22:28:31.035134\",\"2021-09-14T22:29:31.035134\",\"2021-09-14T22:29:31.035134\",\"2021-09-14T22:29:31.035134\"],\"hovertemplate\":\"Scenario=Sc1<br>Start=%{base}<br>Finish=%{x}<br>Username=%{y}<extra></extra>\",\"legendgroup\":\"Sc1\",\"marker\":{\"color\":\"#636efa\"},\"name\":\"Sc1\",\"offsetgroup\":\"Sc1\",\"orientation\":\"h\",\"showlegend\":true,\"textposition\":\"auto\",\"type\":\"bar\",\"x\":[600000.0,600000.0,600000.0,600000.0,600000.0,600000.0,600000.0,600000.0,600000.0,600000.0,600000.0,600000.0,600000.0,600000.0,600000.0,600000.0,900000.0,900000.0,840000.0,900000.0,900000.0,840000.0,900000.0,900000.0,840000.0,900000.0,900000.0,840000.0,900000.0,900000.0,840000.0,900000.0,1200000.0,1140000.0,1140000.0,1200000.0,1140000.0,1140000.0,1200000.0,1140000.0,1140000.0,1200000.0,1140000.0,1140000.0,1200000.0,1140000.0,1140000.0,1200000.0,1440000.0,1440000.0,1440000.0,1440000.0,1440000.0,1440000.0,1440000.0,1440000.0,1440000.0,1440000.0,1440000.0,1440000.0],\"xaxis\":\"x\",\"y\":[\"User-001\",\"User-002\",\"User-003\",\"User-004\",\"User-005\",\"User-006\",\"User-007\",\"User-008\",\"User-009\",\"User-010\",\"User-011\",\"User-012\",\"User-013\",\"User-014\",\"User-015\",\"User-016\",\"User-017\",\"User-018\",\"User-019\",\"User-020\",\"User-021\",\"User-022\",\"User-023\",\"User-024\",\"User-025\",\"User-026\",\"User-027\",\"User-028\",\"User-029\",\"User-030\",\"User-031\",\"User-032\",\"User-033\",\"User-034\",\"User-035\",\"User-036\",\"User-037\",\"User-038\",\"User-039\",\"User-040\",\"User-041\",\"User-042\",\"User-043\",\"User-044\",\"User-045\",\"User-046\",\"User-047\",\"User-048\",\"User-049\",\"User-050\",\"User-051\",\"User-052\",\"User-053\",\"User-054\",\"User-055\",\"User-056\",\"User-057\",\"User-058\",\"User-059\",\"User-060\"],\"yaxis\":\"y\"}],                        {\"barmode\":\"overlay\",\"legend\":{\"title\":{\"text\":\"Scenario\"},\"tracegroupgap\":0},\"margin\":{\"t\":60},\"template\":{\"data\":{\"bar\":[{\"error_x\":{\"color\":\"#2a3f5f\"},\"error_y\":{\"color\":\"#2a3f5f\"},\"marker\":{\"line\":{\"color\":\"#E5ECF6\",\"width\":0.5},\"pattern\":{\"fillmode\":\"overlay\",\"size\":10,\"solidity\":0.2}},\"type\":\"bar\"}],\"barpolar\":[{\"marker\":{\"line\":{\"color\":\"#E5ECF6\",\"width\":0.5},\"pattern\":{\"fillmode\":\"overlay\",\"size\":10,\"solidity\":0.2}},\"type\":\"barpolar\"}],\"carpet\":[{\"aaxis\":{\"endlinecolor\":\"#2a3f5f\",\"gridcolor\":\"white\",\"linecolor\":\"white\",\"minorgridcolor\":\"white\",\"startlinecolor\":\"#2a3f5f\"},\"baxis\":{\"endlinecolor\":\"#2a3f5f\",\"gridcolor\":\"white\",\"linecolor\":\"white\",\"minorgridcolor\":\"white\",\"startlinecolor\":\"#2a3f5f\"},\"type\":\"carpet\"}],\"choropleth\":[{\"colorbar\":{\"outlinewidth\":0,\"ticks\":\"\"},\"type\":\"choropleth\"}],\"contour\":[{\"colorbar\":{\"outlinewidth\":0,\"ticks\":\"\"},\"colorscale\":[[0.0,\"#0d0887\"],[0.1111111111111111,\"#46039f\"],[0.2222222222222222,\"#7201a8\"],[0.3333333333333333,\"#9c179e\"],[0.4444444444444444,\"#bd3786\"],[0.5555555555555556,\"#d8576b\"],[0.6666666666666666,\"#ed7953\"],[0.7777777777777778,\"#fb9f3a\"],[0.8888888888888888,\"#fdca26\"],[1.0,\"#f0f921\"]],\"type\":\"contour\"}],\"contourcarpet\":[{\"colorbar\":{\"outlinewidth\":0,\"ticks\":\"\"},\"type\":\"contourcarpet\"}],\"heatmap\":[{\"colorbar\":{\"outlinewidth\":0,\"ticks\":\"\"},\"colorscale\":[[0.0,\"#0d0887\"],[0.1111111111111111,\"#46039f\"],[0.2222222222222222,\"#7201a8\"],[0.3333333333333333,\"#9c179e\"],[0.4444444444444444,\"#bd3786\"],[0.5555555555555556,\"#d8576b\"],[0.6666666666666666,\"#ed7953\"],[0.7777777777777778,\"#fb9f3a\"],[0.8888888888888888,\"#fdca26\"],[1.0,\"#f0f921\"]],\"type\":\"heatmap\"}],\"heatmapgl\":[{\"colorbar\":{\"outlinewidth\":0,\"ticks\":\"\"},\"colorscale\":[[0.0,\"#0d0887\"],[0.1111111111111111,\"#46039f\"],[0.2222222222222222,\"#7201a8\"],[0.3333333333333333,\"#9c179e\"],[0.4444444444444444,\"#bd3786\"],[0.5555555555555556,\"#d8576b\"],[0.6666666666666666,\"#ed7953\"],[0.7777777777777778,\"#fb9f3a\"],[0.8888888888888888,\"#fdca26\"],[1.0,\"#f0f921\"]],\"type\":\"heatmapgl\"}],\"histogram\":[{\"marker\":{\"pattern\":{\"fillmode\":\"overlay\",\"size\":10,\"solidity\":0.2}},\"type\":\"histogram\"}],\"histogram2d\":[{\"colorbar\":{\"outlinewidth\":0,\"ticks\":\"\"},\"colorscale\":[[0.0,\"#0d0887\"],[0.1111111111111111,\"#46039f\"],[0.2222222222222222,\"#7201a8\"],[0.3333333333333333,\"#9c179e\"],[0.4444444444444444,\"#bd3786\"],[0.5555555555555556,\"#d8576b\"],[0.6666666666666666,\"#ed7953\"],[0.7777777777777778,\"#fb9f3a\"],[0.8888888888888888,\"#fdca26\"],[1.0,\"#f0f921\"]],\"type\":\"histogram2d\"}],\"histogram2dcontour\":[{\"colorbar\":{\"outlinewidth\":0,\"ticks\":\"\"},\"colorscale\":[[0.0,\"#0d0887\"],[0.1111111111111111,\"#46039f\"],[0.2222222222222222,\"#7201a8\"],[0.3333333333333333,\"#9c179e\"],[0.4444444444444444,\"#bd3786\"],[0.5555555555555556,\"#d8576b\"],[0.6666666666666666,\"#ed7953\"],[0.7777777777777778,\"#fb9f3a\"],[0.8888888888888888,\"#fdca26\"],[1.0,\"#f0f921\"]],\"type\":\"histogram2dcontour\"}],\"mesh3d\":[{\"colorbar\":{\"outlinewidth\":0,\"ticks\":\"\"},\"type\":\"mesh3d\"}],\"parcoords\":[{\"line\":{\"colorbar\":{\"outlinewidth\":0,\"ticks\":\"\"}},\"type\":\"parcoords\"}],\"pie\":[{\"automargin\":true,\"type\":\"pie\"}],\"scatter\":[{\"marker\":{\"colorbar\":{\"outlinewidth\":0,\"ticks\":\"\"}},\"type\":\"scatter\"}],\"scatter3d\":[{\"line\":{\"colorbar\":{\"outlinewidth\":0,\"ticks\":\"\"}},\"marker\":{\"colorbar\":{\"outlinewidth\":0,\"ticks\":\"\"}},\"type\":\"scatter3d\"}],\"scattercarpet\":[{\"marker\":{\"colorbar\":{\"outlinewidth\":0,\"ticks\":\"\"}},\"type\":\"scattercarpet\"}],\"scattergeo\":[{\"marker\":{\"colorbar\":{\"outlinewidth\":0,\"ticks\":\"\"}},\"type\":\"scattergeo\"}],\"scattergl\":[{\"marker\":{\"colorbar\":{\"outlinewidth\":0,\"ticks\":\"\"}},\"type\":\"scattergl\"}],\"scattermapbox\":[{\"marker\":{\"colorbar\":{\"outlinewidth\":0,\"ticks\":\"\"}},\"type\":\"scattermapbox\"}],\"scatterpolar\":[{\"marker\":{\"colorbar\":{\"outlinewidth\":0,\"ticks\":\"\"}},\"type\":\"scatterpolar\"}],\"scatterpolargl\":[{\"marker\":{\"colorbar\":{\"outlinewidth\":0,\"ticks\":\"\"}},\"type\":\"scatterpolargl\"}],\"scatterternary\":[{\"marker\":{\"colorbar\":{\"outlinewidth\":0,\"ticks\":\"\"}},\"type\":\"scatterternary\"}],\"surface\":[{\"colorbar\":{\"outlinewidth\":0,\"ticks\":\"\"},\"colorscale\":[[0.0,\"#0d0887\"],[0.1111111111111111,\"#46039f\"],[0.2222222222222222,\"#7201a8\"],[0.3333333333333333,\"#9c179e\"],[0.4444444444444444,\"#bd3786\"],[0.5555555555555556,\"#d8576b\"],[0.6666666666666666,\"#ed7953\"],[0.7777777777777778,\"#fb9f3a\"],[0.8888888888888888,\"#fdca26\"],[1.0,\"#f0f921\"]],\"type\":\"surface\"}],\"table\":[{\"cells\":{\"fill\":{\"color\":\"#EBF0F8\"},\"line\":{\"color\":\"white\"}},\"header\":{\"fill\":{\"color\":\"#C8D4E3\"},\"line\":{\"color\":\"white\"}},\"type\":\"table\"}]},\"layout\":{\"annotationdefaults\":{\"arrowcolor\":\"#2a3f5f\",\"arrowhead\":0,\"arrowwidth\":1},\"autotypenumbers\":\"strict\",\"coloraxis\":{\"colorbar\":{\"outlinewidth\":0,\"ticks\":\"\"}},\"colorscale\":{\"diverging\":[[0,\"#8e0152\"],[0.1,\"#c51b7d\"],[0.2,\"#de77ae\"],[0.3,\"#f1b6da\"],[0.4,\"#fde0ef\"],[0.5,\"#f7f7f7\"],[0.6,\"#e6f5d0\"],[0.7,\"#b8e186\"],[0.8,\"#7fbc41\"],[0.9,\"#4d9221\"],[1,\"#276419\"]],\"sequential\":[[0.0,\"#0d0887\"],[0.1111111111111111,\"#46039f\"],[0.2222222222222222,\"#7201a8\"],[0.3333333333333333,\"#9c179e\"],[0.4444444444444444,\"#bd3786\"],[0.5555555555555556,\"#d8576b\"],[0.6666666666666666,\"#ed7953\"],[0.7777777777777778,\"#fb9f3a\"],[0.8888888888888888,\"#fdca26\"],[1.0,\"#f0f921\"]],\"sequentialminus\":[[0.0,\"#0d0887\"],[0.1111111111111111,\"#46039f\"],[0.2222222222222222,\"#7201a8\"],[0.3333333333333333,\"#9c179e\"],[0.4444444444444444,\"#bd3786\"],[0.5555555555555556,\"#d8576b\"],[0.6666666666666666,\"#ed7953\"],[0.7777777777777778,\"#fb9f3a\"],[0.8888888888888888,\"#fdca26\"],[1.0,\"#f0f921\"]]},\"colorway\":[\"#636efa\",\"#EF553B\",\"#00cc96\",\"#ab63fa\",\"#FFA15A\",\"#19d3f3\",\"#FF6692\",\"#B6E880\",\"#FF97FF\",\"#FECB52\"],\"font\":{\"color\":\"#2a3f5f\"},\"geo\":{\"bgcolor\":\"white\",\"lakecolor\":\"white\",\"landcolor\":\"#E5ECF6\",\"showlakes\":true,\"showland\":true,\"subunitcolor\":\"white\"},\"hoverlabel\":{\"align\":\"left\"},\"hovermode\":\"closest\",\"mapbox\":{\"style\":\"light\"},\"paper_bgcolor\":\"white\",\"plot_bgcolor\":\"#E5ECF6\",\"polar\":{\"angularaxis\":{\"gridcolor\":\"white\",\"linecolor\":\"white\",\"ticks\":\"\"},\"bgcolor\":\"#E5ECF6\",\"radialaxis\":{\"gridcolor\":\"white\",\"linecolor\":\"white\",\"ticks\":\"\"}},\"scene\":{\"xaxis\":{\"backgroundcolor\":\"#E5ECF6\",\"gridcolor\":\"white\",\"gridwidth\":2,\"linecolor\":\"white\",\"showbackground\":true,\"ticks\":\"\",\"zerolinecolor\":\"white\"},\"yaxis\":{\"backgroundcolor\":\"#E5ECF6\",\"gridcolor\":\"white\",\"gridwidth\":2,\"linecolor\":\"white\",\"showbackground\":true,\"ticks\":\"\",\"zerolinecolor\":\"white\"},\"zaxis\":{\"backgroundcolor\":\"#E5ECF6\",\"gridcolor\":\"white\",\"gridwidth\":2,\"linecolor\":\"white\",\"showbackground\":true,\"ticks\":\"\",\"zerolinecolor\":\"white\"}},\"shapedefaults\":{\"line\":{\"color\":\"#2a3f5f\"}},\"ternary\":{\"aaxis\":{\"gridcolor\":\"white\",\"linecolor\":\"white\",\"ticks\":\"\"},\"baxis\":{\"gridcolor\":\"white\",\"linecolor\":\"white\",\"ticks\":\"\"},\"bgcolor\":\"#E5ECF6\",\"caxis\":{\"gridcolor\":\"white\",\"linecolor\":\"white\",\"ticks\":\"\"}},\"title\":{\"x\":0.05},\"xaxis\":{\"automargin\":true,\"gridcolor\":\"white\",\"linecolor\":\"white\",\"ticks\":\"\",\"title\":{\"standoff\":15},\"zerolinecolor\":\"white\",\"zerolinewidth\":2},\"yaxis\":{\"automargin\":true,\"gridcolor\":\"white\",\"linecolor\":\"white\",\"ticks\":\"\",\"title\":{\"standoff\":15},\"zerolinecolor\":\"white\",\"zerolinewidth\":2}}},\"xaxis\":{\"anchor\":\"y\",\"domain\":[0.0,1.0],\"type\":\"date\"},\"yaxis\":{\"anchor\":\"x\",\"categoryorder\":\"category descending\",\"domain\":[0.0,1.0],\"title\":{\"text\":\"Username\"}}},                        {\"responsive\": true}                    ).then(function(){\n",
       "                            \n",
       "var gd = document.getElementById('3717f807-1a63-45ff-bfae-0d8afb22f1a9');\n",
       "var x = new MutationObserver(function (mutations, observer) {{\n",
       "        var display = window.getComputedStyle(gd).display;\n",
       "        if (!display || display === 'none') {{\n",
       "            console.log([gd, 'removed!']);\n",
       "            Plotly.purge(gd);\n",
       "            observer.disconnect();\n",
       "        }}\n",
       "}});\n",
       "\n",
       "// Listen for the removal of the full notebook cells\n",
       "var notebookContainer = gd.closest('#notebook-container');\n",
       "if (notebookContainer) {{\n",
       "    x.observe(notebookContainer, {childList: true});\n",
       "}}\n",
       "\n",
       "// Listen for the clearing of the current output cell\n",
       "var outputEl = gd.closest('.output');\n",
       "if (outputEl) {{\n",
       "    x.observe(outputEl, {childList: true});\n",
       "}}\n",
       "\n",
       "                        })                };                });            </script>        </div>"
      ]
     },
     "metadata": {},
     "output_type": "display_data"
    }
   ],
   "source": [
    "#new\n",
    "#fig = px.timeline(df_users, x_start=\"Start\", x_end=\"Finish\", y=\"Username\")\n",
    "fig = px.timeline(df_users, x_start=\"Start\", x_end=\"Finish\", y=\"Username\", color=\"Scenario\")\n",
    "#fig.update_yaxes(autorange=\"reversed\") # otherwise tasks are listed from the bottom up\n",
    "fig.update_yaxes(categoryorder='category descending')\n",
    "fig.show()"
   ]
  },
  {
   "cell_type": "markdown",
   "metadata": {},
   "source": [
    "## Users activity distribution"
   ]
  },
  {
   "cell_type": "code",
   "execution_count": 65,
   "metadata": {},
   "outputs": [
    {
     "data": {
      "text/html": [
       "<div>\n",
       "<style scoped>\n",
       "    .dataframe tbody tr th:only-of-type {\n",
       "        vertical-align: middle;\n",
       "    }\n",
       "\n",
       "    .dataframe tbody tr th {\n",
       "        vertical-align: top;\n",
       "    }\n",
       "\n",
       "    .dataframe thead th {\n",
       "        text-align: right;\n",
       "    }\n",
       "</style>\n",
       "<table border=\"1\" class=\"dataframe\">\n",
       "  <thead>\n",
       "    <tr style=\"text-align: right;\">\n",
       "      <th></th>\n",
       "      <th>Duration</th>\n",
       "    </tr>\n",
       "  </thead>\n",
       "  <tbody>\n",
       "    <tr>\n",
       "      <th>count</th>\n",
       "      <td>60.000000</td>\n",
       "    </tr>\n",
       "    <tr>\n",
       "      <th>mean</th>\n",
       "      <td>16.550000</td>\n",
       "    </tr>\n",
       "    <tr>\n",
       "      <th>std</th>\n",
       "      <td>5.113707</td>\n",
       "    </tr>\n",
       "    <tr>\n",
       "      <th>min</th>\n",
       "      <td>10.000000</td>\n",
       "    </tr>\n",
       "    <tr>\n",
       "      <th>25%</th>\n",
       "      <td>10.000000</td>\n",
       "    </tr>\n",
       "    <tr>\n",
       "      <th>50%</th>\n",
       "      <td>15.000000</td>\n",
       "    </tr>\n",
       "    <tr>\n",
       "      <th>75%</th>\n",
       "      <td>20.000000</td>\n",
       "    </tr>\n",
       "    <tr>\n",
       "      <th>max</th>\n",
       "      <td>24.000000</td>\n",
       "    </tr>\n",
       "  </tbody>\n",
       "</table>\n",
       "</div>"
      ],
      "text/plain": [
       "        Duration\n",
       "count  60.000000\n",
       "mean   16.550000\n",
       "std     5.113707\n",
       "min    10.000000\n",
       "25%    10.000000\n",
       "50%    15.000000\n",
       "75%    20.000000\n",
       "max    24.000000"
      ]
     },
     "execution_count": 65,
     "metadata": {},
     "output_type": "execute_result"
    }
   ],
   "source": [
    "df_users[[\"Duration\"]].describe()"
   ]
  },
  {
   "cell_type": "code",
   "execution_count": 66,
   "metadata": {},
   "outputs": [
    {
     "data": {
      "application/vnd.plotly.v1+json": {
       "config": {
        "plotlyServerURL": "https://plot.ly"
       },
       "data": [
        {
         "alignmentgroup": "True",
         "bingroup": "x",
         "hovertemplate": "Duration=%{x}<br>count=%{y}<extra></extra>",
         "legendgroup": "",
         "marker": {
          "color": "#636efa",
          "pattern": {
           "shape": ""
          }
         },
         "name": "",
         "nbinsx": 20,
         "offsetgroup": "",
         "orientation": "v",
         "showlegend": false,
         "type": "histogram",
         "x": [
          10,
          10,
          10,
          10,
          10,
          10,
          10,
          10,
          10,
          10,
          10,
          10,
          10,
          10,
          10,
          10,
          15,
          15,
          14,
          15,
          15,
          14,
          15,
          15,
          14,
          15,
          15,
          14,
          15,
          15,
          14,
          15,
          20,
          19,
          19,
          20,
          19,
          19,
          20,
          19,
          19,
          20,
          19,
          19,
          20,
          19,
          19,
          20,
          24,
          24,
          24,
          24,
          24,
          24,
          24,
          24,
          24,
          24,
          24,
          24
         ],
         "xaxis": "x",
         "yaxis": "y"
        }
       ],
       "layout": {
        "barmode": "relative",
        "legend": {
         "tracegroupgap": 0
        },
        "margin": {
         "t": 60
        },
        "template": {
         "data": {
          "bar": [
           {
            "error_x": {
             "color": "#2a3f5f"
            },
            "error_y": {
             "color": "#2a3f5f"
            },
            "marker": {
             "line": {
              "color": "#E5ECF6",
              "width": 0.5
             },
             "pattern": {
              "fillmode": "overlay",
              "size": 10,
              "solidity": 0.2
             }
            },
            "type": "bar"
           }
          ],
          "barpolar": [
           {
            "marker": {
             "line": {
              "color": "#E5ECF6",
              "width": 0.5
             },
             "pattern": {
              "fillmode": "overlay",
              "size": 10,
              "solidity": 0.2
             }
            },
            "type": "barpolar"
           }
          ],
          "carpet": [
           {
            "aaxis": {
             "endlinecolor": "#2a3f5f",
             "gridcolor": "white",
             "linecolor": "white",
             "minorgridcolor": "white",
             "startlinecolor": "#2a3f5f"
            },
            "baxis": {
             "endlinecolor": "#2a3f5f",
             "gridcolor": "white",
             "linecolor": "white",
             "minorgridcolor": "white",
             "startlinecolor": "#2a3f5f"
            },
            "type": "carpet"
           }
          ],
          "choropleth": [
           {
            "colorbar": {
             "outlinewidth": 0,
             "ticks": ""
            },
            "type": "choropleth"
           }
          ],
          "contour": [
           {
            "colorbar": {
             "outlinewidth": 0,
             "ticks": ""
            },
            "colorscale": [
             [
              0,
              "#0d0887"
             ],
             [
              0.1111111111111111,
              "#46039f"
             ],
             [
              0.2222222222222222,
              "#7201a8"
             ],
             [
              0.3333333333333333,
              "#9c179e"
             ],
             [
              0.4444444444444444,
              "#bd3786"
             ],
             [
              0.5555555555555556,
              "#d8576b"
             ],
             [
              0.6666666666666666,
              "#ed7953"
             ],
             [
              0.7777777777777778,
              "#fb9f3a"
             ],
             [
              0.8888888888888888,
              "#fdca26"
             ],
             [
              1,
              "#f0f921"
             ]
            ],
            "type": "contour"
           }
          ],
          "contourcarpet": [
           {
            "colorbar": {
             "outlinewidth": 0,
             "ticks": ""
            },
            "type": "contourcarpet"
           }
          ],
          "heatmap": [
           {
            "colorbar": {
             "outlinewidth": 0,
             "ticks": ""
            },
            "colorscale": [
             [
              0,
              "#0d0887"
             ],
             [
              0.1111111111111111,
              "#46039f"
             ],
             [
              0.2222222222222222,
              "#7201a8"
             ],
             [
              0.3333333333333333,
              "#9c179e"
             ],
             [
              0.4444444444444444,
              "#bd3786"
             ],
             [
              0.5555555555555556,
              "#d8576b"
             ],
             [
              0.6666666666666666,
              "#ed7953"
             ],
             [
              0.7777777777777778,
              "#fb9f3a"
             ],
             [
              0.8888888888888888,
              "#fdca26"
             ],
             [
              1,
              "#f0f921"
             ]
            ],
            "type": "heatmap"
           }
          ],
          "heatmapgl": [
           {
            "colorbar": {
             "outlinewidth": 0,
             "ticks": ""
            },
            "colorscale": [
             [
              0,
              "#0d0887"
             ],
             [
              0.1111111111111111,
              "#46039f"
             ],
             [
              0.2222222222222222,
              "#7201a8"
             ],
             [
              0.3333333333333333,
              "#9c179e"
             ],
             [
              0.4444444444444444,
              "#bd3786"
             ],
             [
              0.5555555555555556,
              "#d8576b"
             ],
             [
              0.6666666666666666,
              "#ed7953"
             ],
             [
              0.7777777777777778,
              "#fb9f3a"
             ],
             [
              0.8888888888888888,
              "#fdca26"
             ],
             [
              1,
              "#f0f921"
             ]
            ],
            "type": "heatmapgl"
           }
          ],
          "histogram": [
           {
            "marker": {
             "pattern": {
              "fillmode": "overlay",
              "size": 10,
              "solidity": 0.2
             }
            },
            "type": "histogram"
           }
          ],
          "histogram2d": [
           {
            "colorbar": {
             "outlinewidth": 0,
             "ticks": ""
            },
            "colorscale": [
             [
              0,
              "#0d0887"
             ],
             [
              0.1111111111111111,
              "#46039f"
             ],
             [
              0.2222222222222222,
              "#7201a8"
             ],
             [
              0.3333333333333333,
              "#9c179e"
             ],
             [
              0.4444444444444444,
              "#bd3786"
             ],
             [
              0.5555555555555556,
              "#d8576b"
             ],
             [
              0.6666666666666666,
              "#ed7953"
             ],
             [
              0.7777777777777778,
              "#fb9f3a"
             ],
             [
              0.8888888888888888,
              "#fdca26"
             ],
             [
              1,
              "#f0f921"
             ]
            ],
            "type": "histogram2d"
           }
          ],
          "histogram2dcontour": [
           {
            "colorbar": {
             "outlinewidth": 0,
             "ticks": ""
            },
            "colorscale": [
             [
              0,
              "#0d0887"
             ],
             [
              0.1111111111111111,
              "#46039f"
             ],
             [
              0.2222222222222222,
              "#7201a8"
             ],
             [
              0.3333333333333333,
              "#9c179e"
             ],
             [
              0.4444444444444444,
              "#bd3786"
             ],
             [
              0.5555555555555556,
              "#d8576b"
             ],
             [
              0.6666666666666666,
              "#ed7953"
             ],
             [
              0.7777777777777778,
              "#fb9f3a"
             ],
             [
              0.8888888888888888,
              "#fdca26"
             ],
             [
              1,
              "#f0f921"
             ]
            ],
            "type": "histogram2dcontour"
           }
          ],
          "mesh3d": [
           {
            "colorbar": {
             "outlinewidth": 0,
             "ticks": ""
            },
            "type": "mesh3d"
           }
          ],
          "parcoords": [
           {
            "line": {
             "colorbar": {
              "outlinewidth": 0,
              "ticks": ""
             }
            },
            "type": "parcoords"
           }
          ],
          "pie": [
           {
            "automargin": true,
            "type": "pie"
           }
          ],
          "scatter": [
           {
            "marker": {
             "colorbar": {
              "outlinewidth": 0,
              "ticks": ""
             }
            },
            "type": "scatter"
           }
          ],
          "scatter3d": [
           {
            "line": {
             "colorbar": {
              "outlinewidth": 0,
              "ticks": ""
             }
            },
            "marker": {
             "colorbar": {
              "outlinewidth": 0,
              "ticks": ""
             }
            },
            "type": "scatter3d"
           }
          ],
          "scattercarpet": [
           {
            "marker": {
             "colorbar": {
              "outlinewidth": 0,
              "ticks": ""
             }
            },
            "type": "scattercarpet"
           }
          ],
          "scattergeo": [
           {
            "marker": {
             "colorbar": {
              "outlinewidth": 0,
              "ticks": ""
             }
            },
            "type": "scattergeo"
           }
          ],
          "scattergl": [
           {
            "marker": {
             "colorbar": {
              "outlinewidth": 0,
              "ticks": ""
             }
            },
            "type": "scattergl"
           }
          ],
          "scattermapbox": [
           {
            "marker": {
             "colorbar": {
              "outlinewidth": 0,
              "ticks": ""
             }
            },
            "type": "scattermapbox"
           }
          ],
          "scatterpolar": [
           {
            "marker": {
             "colorbar": {
              "outlinewidth": 0,
              "ticks": ""
             }
            },
            "type": "scatterpolar"
           }
          ],
          "scatterpolargl": [
           {
            "marker": {
             "colorbar": {
              "outlinewidth": 0,
              "ticks": ""
             }
            },
            "type": "scatterpolargl"
           }
          ],
          "scatterternary": [
           {
            "marker": {
             "colorbar": {
              "outlinewidth": 0,
              "ticks": ""
             }
            },
            "type": "scatterternary"
           }
          ],
          "surface": [
           {
            "colorbar": {
             "outlinewidth": 0,
             "ticks": ""
            },
            "colorscale": [
             [
              0,
              "#0d0887"
             ],
             [
              0.1111111111111111,
              "#46039f"
             ],
             [
              0.2222222222222222,
              "#7201a8"
             ],
             [
              0.3333333333333333,
              "#9c179e"
             ],
             [
              0.4444444444444444,
              "#bd3786"
             ],
             [
              0.5555555555555556,
              "#d8576b"
             ],
             [
              0.6666666666666666,
              "#ed7953"
             ],
             [
              0.7777777777777778,
              "#fb9f3a"
             ],
             [
              0.8888888888888888,
              "#fdca26"
             ],
             [
              1,
              "#f0f921"
             ]
            ],
            "type": "surface"
           }
          ],
          "table": [
           {
            "cells": {
             "fill": {
              "color": "#EBF0F8"
             },
             "line": {
              "color": "white"
             }
            },
            "header": {
             "fill": {
              "color": "#C8D4E3"
             },
             "line": {
              "color": "white"
             }
            },
            "type": "table"
           }
          ]
         },
         "layout": {
          "annotationdefaults": {
           "arrowcolor": "#2a3f5f",
           "arrowhead": 0,
           "arrowwidth": 1
          },
          "autotypenumbers": "strict",
          "coloraxis": {
           "colorbar": {
            "outlinewidth": 0,
            "ticks": ""
           }
          },
          "colorscale": {
           "diverging": [
            [
             0,
             "#8e0152"
            ],
            [
             0.1,
             "#c51b7d"
            ],
            [
             0.2,
             "#de77ae"
            ],
            [
             0.3,
             "#f1b6da"
            ],
            [
             0.4,
             "#fde0ef"
            ],
            [
             0.5,
             "#f7f7f7"
            ],
            [
             0.6,
             "#e6f5d0"
            ],
            [
             0.7,
             "#b8e186"
            ],
            [
             0.8,
             "#7fbc41"
            ],
            [
             0.9,
             "#4d9221"
            ],
            [
             1,
             "#276419"
            ]
           ],
           "sequential": [
            [
             0,
             "#0d0887"
            ],
            [
             0.1111111111111111,
             "#46039f"
            ],
            [
             0.2222222222222222,
             "#7201a8"
            ],
            [
             0.3333333333333333,
             "#9c179e"
            ],
            [
             0.4444444444444444,
             "#bd3786"
            ],
            [
             0.5555555555555556,
             "#d8576b"
            ],
            [
             0.6666666666666666,
             "#ed7953"
            ],
            [
             0.7777777777777778,
             "#fb9f3a"
            ],
            [
             0.8888888888888888,
             "#fdca26"
            ],
            [
             1,
             "#f0f921"
            ]
           ],
           "sequentialminus": [
            [
             0,
             "#0d0887"
            ],
            [
             0.1111111111111111,
             "#46039f"
            ],
            [
             0.2222222222222222,
             "#7201a8"
            ],
            [
             0.3333333333333333,
             "#9c179e"
            ],
            [
             0.4444444444444444,
             "#bd3786"
            ],
            [
             0.5555555555555556,
             "#d8576b"
            ],
            [
             0.6666666666666666,
             "#ed7953"
            ],
            [
             0.7777777777777778,
             "#fb9f3a"
            ],
            [
             0.8888888888888888,
             "#fdca26"
            ],
            [
             1,
             "#f0f921"
            ]
           ]
          },
          "colorway": [
           "#636efa",
           "#EF553B",
           "#00cc96",
           "#ab63fa",
           "#FFA15A",
           "#19d3f3",
           "#FF6692",
           "#B6E880",
           "#FF97FF",
           "#FECB52"
          ],
          "font": {
           "color": "#2a3f5f"
          },
          "geo": {
           "bgcolor": "white",
           "lakecolor": "white",
           "landcolor": "#E5ECF6",
           "showlakes": true,
           "showland": true,
           "subunitcolor": "white"
          },
          "hoverlabel": {
           "align": "left"
          },
          "hovermode": "closest",
          "mapbox": {
           "style": "light"
          },
          "paper_bgcolor": "white",
          "plot_bgcolor": "#E5ECF6",
          "polar": {
           "angularaxis": {
            "gridcolor": "white",
            "linecolor": "white",
            "ticks": ""
           },
           "bgcolor": "#E5ECF6",
           "radialaxis": {
            "gridcolor": "white",
            "linecolor": "white",
            "ticks": ""
           }
          },
          "scene": {
           "xaxis": {
            "backgroundcolor": "#E5ECF6",
            "gridcolor": "white",
            "gridwidth": 2,
            "linecolor": "white",
            "showbackground": true,
            "ticks": "",
            "zerolinecolor": "white"
           },
           "yaxis": {
            "backgroundcolor": "#E5ECF6",
            "gridcolor": "white",
            "gridwidth": 2,
            "linecolor": "white",
            "showbackground": true,
            "ticks": "",
            "zerolinecolor": "white"
           },
           "zaxis": {
            "backgroundcolor": "#E5ECF6",
            "gridcolor": "white",
            "gridwidth": 2,
            "linecolor": "white",
            "showbackground": true,
            "ticks": "",
            "zerolinecolor": "white"
           }
          },
          "shapedefaults": {
           "line": {
            "color": "#2a3f5f"
           }
          },
          "ternary": {
           "aaxis": {
            "gridcolor": "white",
            "linecolor": "white",
            "ticks": ""
           },
           "baxis": {
            "gridcolor": "white",
            "linecolor": "white",
            "ticks": ""
           },
           "bgcolor": "#E5ECF6",
           "caxis": {
            "gridcolor": "white",
            "linecolor": "white",
            "ticks": ""
           }
          },
          "title": {
           "x": 0.05
          },
          "xaxis": {
           "automargin": true,
           "gridcolor": "white",
           "linecolor": "white",
           "ticks": "",
           "title": {
            "standoff": 15
           },
           "zerolinecolor": "white",
           "zerolinewidth": 2
          },
          "yaxis": {
           "automargin": true,
           "gridcolor": "white",
           "linecolor": "white",
           "ticks": "",
           "title": {
            "standoff": 15
           },
           "zerolinecolor": "white",
           "zerolinewidth": 2
          }
         }
        },
        "xaxis": {
         "anchor": "y",
         "domain": [
          0,
          1
         ],
         "title": {
          "text": "Duration"
         }
        },
        "yaxis": {
         "anchor": "x",
         "domain": [
          0,
          1
         ],
         "title": {
          "text": "count"
         }
        }
       }
      },
      "text/html": [
       "<div>                            <div id=\"1b78c213-2687-4860-829e-f46140ae777a\" class=\"plotly-graph-div\" style=\"height:525px; width:100%;\"></div>            <script type=\"text/javascript\">                require([\"plotly\"], function(Plotly) {                    window.PLOTLYENV=window.PLOTLYENV || {};                                    if (document.getElementById(\"1b78c213-2687-4860-829e-f46140ae777a\")) {                    Plotly.newPlot(                        \"1b78c213-2687-4860-829e-f46140ae777a\",                        [{\"alignmentgroup\":\"True\",\"bingroup\":\"x\",\"hovertemplate\":\"Duration=%{x}<br>count=%{y}<extra></extra>\",\"legendgroup\":\"\",\"marker\":{\"color\":\"#636efa\",\"pattern\":{\"shape\":\"\"}},\"name\":\"\",\"nbinsx\":20,\"offsetgroup\":\"\",\"orientation\":\"v\",\"showlegend\":false,\"type\":\"histogram\",\"x\":[10,10,10,10,10,10,10,10,10,10,10,10,10,10,10,10,15,15,14,15,15,14,15,15,14,15,15,14,15,15,14,15,20,19,19,20,19,19,20,19,19,20,19,19,20,19,19,20,24,24,24,24,24,24,24,24,24,24,24,24],\"xaxis\":\"x\",\"yaxis\":\"y\"}],                        {\"barmode\":\"relative\",\"legend\":{\"tracegroupgap\":0},\"margin\":{\"t\":60},\"template\":{\"data\":{\"bar\":[{\"error_x\":{\"color\":\"#2a3f5f\"},\"error_y\":{\"color\":\"#2a3f5f\"},\"marker\":{\"line\":{\"color\":\"#E5ECF6\",\"width\":0.5},\"pattern\":{\"fillmode\":\"overlay\",\"size\":10,\"solidity\":0.2}},\"type\":\"bar\"}],\"barpolar\":[{\"marker\":{\"line\":{\"color\":\"#E5ECF6\",\"width\":0.5},\"pattern\":{\"fillmode\":\"overlay\",\"size\":10,\"solidity\":0.2}},\"type\":\"barpolar\"}],\"carpet\":[{\"aaxis\":{\"endlinecolor\":\"#2a3f5f\",\"gridcolor\":\"white\",\"linecolor\":\"white\",\"minorgridcolor\":\"white\",\"startlinecolor\":\"#2a3f5f\"},\"baxis\":{\"endlinecolor\":\"#2a3f5f\",\"gridcolor\":\"white\",\"linecolor\":\"white\",\"minorgridcolor\":\"white\",\"startlinecolor\":\"#2a3f5f\"},\"type\":\"carpet\"}],\"choropleth\":[{\"colorbar\":{\"outlinewidth\":0,\"ticks\":\"\"},\"type\":\"choropleth\"}],\"contour\":[{\"colorbar\":{\"outlinewidth\":0,\"ticks\":\"\"},\"colorscale\":[[0.0,\"#0d0887\"],[0.1111111111111111,\"#46039f\"],[0.2222222222222222,\"#7201a8\"],[0.3333333333333333,\"#9c179e\"],[0.4444444444444444,\"#bd3786\"],[0.5555555555555556,\"#d8576b\"],[0.6666666666666666,\"#ed7953\"],[0.7777777777777778,\"#fb9f3a\"],[0.8888888888888888,\"#fdca26\"],[1.0,\"#f0f921\"]],\"type\":\"contour\"}],\"contourcarpet\":[{\"colorbar\":{\"outlinewidth\":0,\"ticks\":\"\"},\"type\":\"contourcarpet\"}],\"heatmap\":[{\"colorbar\":{\"outlinewidth\":0,\"ticks\":\"\"},\"colorscale\":[[0.0,\"#0d0887\"],[0.1111111111111111,\"#46039f\"],[0.2222222222222222,\"#7201a8\"],[0.3333333333333333,\"#9c179e\"],[0.4444444444444444,\"#bd3786\"],[0.5555555555555556,\"#d8576b\"],[0.6666666666666666,\"#ed7953\"],[0.7777777777777778,\"#fb9f3a\"],[0.8888888888888888,\"#fdca26\"],[1.0,\"#f0f921\"]],\"type\":\"heatmap\"}],\"heatmapgl\":[{\"colorbar\":{\"outlinewidth\":0,\"ticks\":\"\"},\"colorscale\":[[0.0,\"#0d0887\"],[0.1111111111111111,\"#46039f\"],[0.2222222222222222,\"#7201a8\"],[0.3333333333333333,\"#9c179e\"],[0.4444444444444444,\"#bd3786\"],[0.5555555555555556,\"#d8576b\"],[0.6666666666666666,\"#ed7953\"],[0.7777777777777778,\"#fb9f3a\"],[0.8888888888888888,\"#fdca26\"],[1.0,\"#f0f921\"]],\"type\":\"heatmapgl\"}],\"histogram\":[{\"marker\":{\"pattern\":{\"fillmode\":\"overlay\",\"size\":10,\"solidity\":0.2}},\"type\":\"histogram\"}],\"histogram2d\":[{\"colorbar\":{\"outlinewidth\":0,\"ticks\":\"\"},\"colorscale\":[[0.0,\"#0d0887\"],[0.1111111111111111,\"#46039f\"],[0.2222222222222222,\"#7201a8\"],[0.3333333333333333,\"#9c179e\"],[0.4444444444444444,\"#bd3786\"],[0.5555555555555556,\"#d8576b\"],[0.6666666666666666,\"#ed7953\"],[0.7777777777777778,\"#fb9f3a\"],[0.8888888888888888,\"#fdca26\"],[1.0,\"#f0f921\"]],\"type\":\"histogram2d\"}],\"histogram2dcontour\":[{\"colorbar\":{\"outlinewidth\":0,\"ticks\":\"\"},\"colorscale\":[[0.0,\"#0d0887\"],[0.1111111111111111,\"#46039f\"],[0.2222222222222222,\"#7201a8\"],[0.3333333333333333,\"#9c179e\"],[0.4444444444444444,\"#bd3786\"],[0.5555555555555556,\"#d8576b\"],[0.6666666666666666,\"#ed7953\"],[0.7777777777777778,\"#fb9f3a\"],[0.8888888888888888,\"#fdca26\"],[1.0,\"#f0f921\"]],\"type\":\"histogram2dcontour\"}],\"mesh3d\":[{\"colorbar\":{\"outlinewidth\":0,\"ticks\":\"\"},\"type\":\"mesh3d\"}],\"parcoords\":[{\"line\":{\"colorbar\":{\"outlinewidth\":0,\"ticks\":\"\"}},\"type\":\"parcoords\"}],\"pie\":[{\"automargin\":true,\"type\":\"pie\"}],\"scatter\":[{\"marker\":{\"colorbar\":{\"outlinewidth\":0,\"ticks\":\"\"}},\"type\":\"scatter\"}],\"scatter3d\":[{\"line\":{\"colorbar\":{\"outlinewidth\":0,\"ticks\":\"\"}},\"marker\":{\"colorbar\":{\"outlinewidth\":0,\"ticks\":\"\"}},\"type\":\"scatter3d\"}],\"scattercarpet\":[{\"marker\":{\"colorbar\":{\"outlinewidth\":0,\"ticks\":\"\"}},\"type\":\"scattercarpet\"}],\"scattergeo\":[{\"marker\":{\"colorbar\":{\"outlinewidth\":0,\"ticks\":\"\"}},\"type\":\"scattergeo\"}],\"scattergl\":[{\"marker\":{\"colorbar\":{\"outlinewidth\":0,\"ticks\":\"\"}},\"type\":\"scattergl\"}],\"scattermapbox\":[{\"marker\":{\"colorbar\":{\"outlinewidth\":0,\"ticks\":\"\"}},\"type\":\"scattermapbox\"}],\"scatterpolar\":[{\"marker\":{\"colorbar\":{\"outlinewidth\":0,\"ticks\":\"\"}},\"type\":\"scatterpolar\"}],\"scatterpolargl\":[{\"marker\":{\"colorbar\":{\"outlinewidth\":0,\"ticks\":\"\"}},\"type\":\"scatterpolargl\"}],\"scatterternary\":[{\"marker\":{\"colorbar\":{\"outlinewidth\":0,\"ticks\":\"\"}},\"type\":\"scatterternary\"}],\"surface\":[{\"colorbar\":{\"outlinewidth\":0,\"ticks\":\"\"},\"colorscale\":[[0.0,\"#0d0887\"],[0.1111111111111111,\"#46039f\"],[0.2222222222222222,\"#7201a8\"],[0.3333333333333333,\"#9c179e\"],[0.4444444444444444,\"#bd3786\"],[0.5555555555555556,\"#d8576b\"],[0.6666666666666666,\"#ed7953\"],[0.7777777777777778,\"#fb9f3a\"],[0.8888888888888888,\"#fdca26\"],[1.0,\"#f0f921\"]],\"type\":\"surface\"}],\"table\":[{\"cells\":{\"fill\":{\"color\":\"#EBF0F8\"},\"line\":{\"color\":\"white\"}},\"header\":{\"fill\":{\"color\":\"#C8D4E3\"},\"line\":{\"color\":\"white\"}},\"type\":\"table\"}]},\"layout\":{\"annotationdefaults\":{\"arrowcolor\":\"#2a3f5f\",\"arrowhead\":0,\"arrowwidth\":1},\"autotypenumbers\":\"strict\",\"coloraxis\":{\"colorbar\":{\"outlinewidth\":0,\"ticks\":\"\"}},\"colorscale\":{\"diverging\":[[0,\"#8e0152\"],[0.1,\"#c51b7d\"],[0.2,\"#de77ae\"],[0.3,\"#f1b6da\"],[0.4,\"#fde0ef\"],[0.5,\"#f7f7f7\"],[0.6,\"#e6f5d0\"],[0.7,\"#b8e186\"],[0.8,\"#7fbc41\"],[0.9,\"#4d9221\"],[1,\"#276419\"]],\"sequential\":[[0.0,\"#0d0887\"],[0.1111111111111111,\"#46039f\"],[0.2222222222222222,\"#7201a8\"],[0.3333333333333333,\"#9c179e\"],[0.4444444444444444,\"#bd3786\"],[0.5555555555555556,\"#d8576b\"],[0.6666666666666666,\"#ed7953\"],[0.7777777777777778,\"#fb9f3a\"],[0.8888888888888888,\"#fdca26\"],[1.0,\"#f0f921\"]],\"sequentialminus\":[[0.0,\"#0d0887\"],[0.1111111111111111,\"#46039f\"],[0.2222222222222222,\"#7201a8\"],[0.3333333333333333,\"#9c179e\"],[0.4444444444444444,\"#bd3786\"],[0.5555555555555556,\"#d8576b\"],[0.6666666666666666,\"#ed7953\"],[0.7777777777777778,\"#fb9f3a\"],[0.8888888888888888,\"#fdca26\"],[1.0,\"#f0f921\"]]},\"colorway\":[\"#636efa\",\"#EF553B\",\"#00cc96\",\"#ab63fa\",\"#FFA15A\",\"#19d3f3\",\"#FF6692\",\"#B6E880\",\"#FF97FF\",\"#FECB52\"],\"font\":{\"color\":\"#2a3f5f\"},\"geo\":{\"bgcolor\":\"white\",\"lakecolor\":\"white\",\"landcolor\":\"#E5ECF6\",\"showlakes\":true,\"showland\":true,\"subunitcolor\":\"white\"},\"hoverlabel\":{\"align\":\"left\"},\"hovermode\":\"closest\",\"mapbox\":{\"style\":\"light\"},\"paper_bgcolor\":\"white\",\"plot_bgcolor\":\"#E5ECF6\",\"polar\":{\"angularaxis\":{\"gridcolor\":\"white\",\"linecolor\":\"white\",\"ticks\":\"\"},\"bgcolor\":\"#E5ECF6\",\"radialaxis\":{\"gridcolor\":\"white\",\"linecolor\":\"white\",\"ticks\":\"\"}},\"scene\":{\"xaxis\":{\"backgroundcolor\":\"#E5ECF6\",\"gridcolor\":\"white\",\"gridwidth\":2,\"linecolor\":\"white\",\"showbackground\":true,\"ticks\":\"\",\"zerolinecolor\":\"white\"},\"yaxis\":{\"backgroundcolor\":\"#E5ECF6\",\"gridcolor\":\"white\",\"gridwidth\":2,\"linecolor\":\"white\",\"showbackground\":true,\"ticks\":\"\",\"zerolinecolor\":\"white\"},\"zaxis\":{\"backgroundcolor\":\"#E5ECF6\",\"gridcolor\":\"white\",\"gridwidth\":2,\"linecolor\":\"white\",\"showbackground\":true,\"ticks\":\"\",\"zerolinecolor\":\"white\"}},\"shapedefaults\":{\"line\":{\"color\":\"#2a3f5f\"}},\"ternary\":{\"aaxis\":{\"gridcolor\":\"white\",\"linecolor\":\"white\",\"ticks\":\"\"},\"baxis\":{\"gridcolor\":\"white\",\"linecolor\":\"white\",\"ticks\":\"\"},\"bgcolor\":\"#E5ECF6\",\"caxis\":{\"gridcolor\":\"white\",\"linecolor\":\"white\",\"ticks\":\"\"}},\"title\":{\"x\":0.05},\"xaxis\":{\"automargin\":true,\"gridcolor\":\"white\",\"linecolor\":\"white\",\"ticks\":\"\",\"title\":{\"standoff\":15},\"zerolinecolor\":\"white\",\"zerolinewidth\":2},\"yaxis\":{\"automargin\":true,\"gridcolor\":\"white\",\"linecolor\":\"white\",\"ticks\":\"\",\"title\":{\"standoff\":15},\"zerolinecolor\":\"white\",\"zerolinewidth\":2}}},\"xaxis\":{\"anchor\":\"y\",\"domain\":[0.0,1.0],\"title\":{\"text\":\"Duration\"}},\"yaxis\":{\"anchor\":\"x\",\"domain\":[0.0,1.0],\"title\":{\"text\":\"count\"}}},                        {\"responsive\": true}                    ).then(function(){\n",
       "                            \n",
       "var gd = document.getElementById('1b78c213-2687-4860-829e-f46140ae777a');\n",
       "var x = new MutationObserver(function (mutations, observer) {{\n",
       "        var display = window.getComputedStyle(gd).display;\n",
       "        if (!display || display === 'none') {{\n",
       "            console.log([gd, 'removed!']);\n",
       "            Plotly.purge(gd);\n",
       "            observer.disconnect();\n",
       "        }}\n",
       "}});\n",
       "\n",
       "// Listen for the removal of the full notebook cells\n",
       "var notebookContainer = gd.closest('#notebook-container');\n",
       "if (notebookContainer) {{\n",
       "    x.observe(notebookContainer, {childList: true});\n",
       "}}\n",
       "\n",
       "// Listen for the clearing of the current output cell\n",
       "var outputEl = gd.closest('.output');\n",
       "if (outputEl) {{\n",
       "    x.observe(outputEl, {childList: true});\n",
       "}}\n",
       "\n",
       "                        })                };                });            </script>        </div>"
      ]
     },
     "metadata": {},
     "output_type": "display_data"
    }
   ],
   "source": [
    "mainLogger.debug(f\"max={max}\")\n",
    "fig = px.histogram(df_users, x=\"Duration\", nbins=20)\n",
    "fig.show()"
   ]
  },
  {
   "cell_type": "code",
   "execution_count": 67,
   "metadata": {},
   "outputs": [],
   "source": [
    "# when starts waiting - more or less 8 users\n",
    "# as much as processes - more or less 13 users"
   ]
  },
  {
   "cell_type": "markdown",
   "metadata": {},
   "source": [
    "# Logs"
   ]
  },
  {
   "cell_type": "code",
   "execution_count": 68,
   "metadata": {},
   "outputs": [
    {
     "name": "stdout",
     "output_type": "stream",
     "text": [
      "2021-09-14 22:10:30,897 - root - DEBUG - test\n",
      "2021-09-14 22:10:31,032 - root - INFO - creating simulation\n",
      "2021-09-14 22:10:31,034 - root - INFO - session name: nominal test\n",
      "2021-09-14 22:10:31,035 - root - INFO - scenarios_index: [0, 0]\n",
      "2021-09-14 22:10:31,035 - root - INFO - Clock created - base 1631650231.035134\n",
      "2021-09-14 22:10:31,035 - root - INFO - create resource with capacity 80\n",
      "2021-09-14 22:10:31,035 - root - INFO - initial level 80\n",
      "2021-09-14 22:10:31,035 - root - INFO - creating user generator for 60 users\n",
      "2021-09-14 22:10:31,035 - root - INFO - creating agent\n",
      "2021-09-14 22:10:31,036 - root - INFO - session name: nominal test\n",
      "2021-09-14 22:10:31,036 - root - INFO - scenarios_index: [0, 0]\n",
      "2021-09-14 22:10:31,042 - root - INFO - starting simulation\n",
      "2021-09-14 22:10:31,043 - root - INFO - user created User-001\n",
      "2021-09-14 22:10:31,043 - root - INFO - user created User-002\n",
      "2021-09-14 22:10:31,043 - root - INFO - user created User-003\n",
      "2021-09-14 22:10:31,043 - root - INFO - user created User-004\n",
      "2021-09-14 22:10:31,043 - root - INFO - user created User-005\n",
      "2021-09-14 22:10:31,043 - root - INFO - user created User-006\n",
      "2021-09-14 22:10:31,044 - root - INFO - user created User-007\n",
      "2021-09-14 22:10:31,044 - root - INFO - user created User-008\n",
      "2021-09-14 22:10:31,044 - root - INFO - user created User-009\n",
      "2021-09-14 22:10:31,044 - root - INFO - user created User-010\n",
      "2021-09-14 22:10:31,044 - root - INFO - user created User-011\n",
      "2021-09-14 22:10:31,044 - root - INFO - user created User-012\n",
      "2021-09-14 22:10:31,045 - root - INFO - user created User-013\n",
      "2021-09-14 22:10:31,045 - root - INFO - user created User-014\n",
      "2021-09-14 22:10:31,045 - root - INFO - user created User-015\n",
      "2021-09-14 22:10:31,046 - root - INFO - user created User-016\n",
      "2021-09-14 22:10:31,046 - root - INFO - user created User-017\n",
      "2021-09-14 22:10:31,046 - root - INFO - user created User-018\n",
      "2021-09-14 22:10:31,046 - root - INFO - user created User-019\n",
      "2021-09-14 22:10:31,047 - root - INFO - user created User-020\n",
      "2021-09-14 22:10:31,047 - root - INFO - user created User-021\n",
      "2021-09-14 22:10:31,047 - root - INFO - user created User-022\n",
      "2021-09-14 22:10:31,047 - root - INFO - user created User-023\n",
      "2021-09-14 22:10:31,047 - root - INFO - user created User-024\n",
      "2021-09-14 22:10:31,048 - root - INFO - user created User-025\n",
      "2021-09-14 22:10:31,048 - root - INFO - user created User-026\n",
      "2021-09-14 22:10:31,048 - root - INFO - user created User-027\n",
      "2021-09-14 22:10:31,048 - root - INFO - user created User-028\n",
      "2021-09-14 22:10:31,048 - root - INFO - user created User-029\n",
      "2021-09-14 22:10:31,049 - root - INFO - user created User-030\n",
      "2021-09-14 22:10:31,049 - root - INFO - user created User-031\n",
      "2021-09-14 22:10:31,049 - root - INFO - user created User-032\n",
      "2021-09-14 22:10:31,049 - root - INFO - user created User-033\n",
      "2021-09-14 22:10:31,050 - root - INFO - user created User-034\n",
      "2021-09-14 22:10:31,050 - root - INFO - user created User-035\n",
      "2021-09-14 22:10:31,050 - root - INFO - user created User-036\n",
      "2021-09-14 22:10:31,050 - root - INFO - user created User-037\n",
      "2021-09-14 22:10:31,050 - root - INFO - user created User-038\n",
      "2021-09-14 22:10:31,050 - root - INFO - user created User-039\n",
      "2021-09-14 22:10:31,051 - root - INFO - user created User-040\n",
      "2021-09-14 22:10:31,051 - root - INFO - user created User-041\n",
      "2021-09-14 22:10:31,051 - root - INFO - user created User-042\n",
      "2021-09-14 22:10:31,051 - root - INFO - user created User-043\n",
      "2021-09-14 22:10:31,051 - root - INFO - user created User-044\n",
      "2021-09-14 22:10:31,052 - root - INFO - user created User-045\n",
      "2021-09-14 22:10:31,052 - root - INFO - user created User-046\n",
      "2021-09-14 22:10:31,052 - root - INFO - user created User-047\n",
      "2021-09-14 22:10:31,052 - root - INFO - user created User-048\n",
      "2021-09-14 22:10:31,052 - root - INFO - user created User-049\n",
      "2021-09-14 22:10:31,052 - root - INFO - user created User-050\n",
      "2021-09-14 22:10:31,053 - root - INFO - user created User-051\n",
      "2021-09-14 22:10:31,053 - root - INFO - user created User-052\n",
      "2021-09-14 22:10:31,053 - root - INFO - user created User-053\n",
      "2021-09-14 22:10:31,053 - root - INFO - user created User-054\n",
      "2021-09-14 22:10:31,053 - root - INFO - user created User-055\n",
      "2021-09-14 22:10:31,053 - root - INFO - user created User-056\n",
      "2021-09-14 22:10:31,053 - root - INFO - user created User-057\n",
      "2021-09-14 22:10:31,054 - root - INFO - user created User-058\n",
      "2021-09-14 22:10:31,054 - root - INFO - user created User-059\n",
      "2021-09-14 22:10:31,054 - root - INFO - user created User-060\n",
      "\u0000\u0000\u0000\u0000\u0000\u0000\u0000\u0000\u0000\u0000\u0000\u0000\u0000\u0000\u0000\u0000\u0000\u0000\u0000\u0000\u0000\u0000\u0000\u0000\u0000\u0000\u0000\u0000\u0000\u0000\u0000\u0000\u0000\u0000\u0000\u0000\u0000\u0000\u0000\u0000\u0000\u0000\u0000\u0000\u0000\u0000\u0000\u0000\u0000\u0000\u0000\u0000\u0000\u0000\u0000\u0000\u0000\u0000\u0000\u00002021-09-14 22:10:30,897 - root - DEBUG - test\n",
      "2021-09-14 22:10:31,032 - root - INFO - creating simulation\n",
      "2021-09-14 22:10:31,034 - root - INFO - session name: nominal test\n",
      "2021-09-14 22:10:31,035 - root - INFO - scenarios_index: [0, 0]\n",
      "2021-09-14 22:10:31,035 - root - INFO - Clock created - base 1631650231.035134\n",
      "2021-09-14 22:10:31,035 - root - INFO - create resource with capacity 80\n",
      "2021-09-14 22:10:31,035 - root - INFO - initial level 80\n",
      "2021-09-14 22:10:31,035 - root - INFO - creating user generator for 60 users\n",
      "2021-09-14 22:10:31,035 - root - INFO - creating agent\n",
      "2021-09-14 22:10:31,036 - root - INFO - session name: nominal test\n",
      "2021-09-14 22:10:31,036 - root - INFO - scenarios_index: [0, 0]\n",
      "2021-09-14 22:10:31,042 - root - INFO - starting simulation\n",
      "2021-09-14 22:10:31,043 - root - INFO - user created User-001\n",
      "2021-09-14 22:10:31,043 - root - INFO - user created User-002\n",
      "2021-09-14 22:10:31,043 - root - INFO - user created User-003\n",
      "2021-09-14 22:10:31,043 - root - INFO - user created User-004\n",
      "2021-09-14 22:10:31,043 - root - INFO - user created User-005\n",
      "2021-09-14 22:10:31,043 - root - INFO - user created User-006\n",
      "2021-09-14 22:10:31,044 - root - INFO - user created User-007\n",
      "2021-09-14 22:10:31,044 - root - INFO - user created User-008\n",
      "2021-09-14 22:10:31,044 - root - INFO - user created User-009\n",
      "2021-09-14 22:10:31,044 - root - INFO - user created User-010\n",
      "2021-09-14 22:10:31,044 - root - INFO - user created User-011\n",
      "2021-09-14 22:10:31,044 - root - INFO - user created User-012\n",
      "2021-09-14 22:10:31,045 - root - INFO - user created User-013\n",
      "2021-09-14 22:10:31,045 - root - INFO - user created User-014\n",
      "2021-09-14 22:10:31,045 - root - INFO - user created User-015\n",
      "2021-09-14 22:10:31,046 - root - INFO - user created User-016\n",
      "2021-09-14 22:10:31,046 - root - INFO - user created User-017\n",
      "2021-09-14 22:10:31,046 - root - INFO - user created User-018\n",
      "2021-09-14 22:10:31,046 - root - INFO - user created User-019\n",
      "2021-09-14 22:10:31,047 - root - INFO - user created User-020\n",
      "2021-09-14 22:10:31,047 - root - INFO - user created User-021\n",
      "2021-09-14 22:10:31,047 - root - INFO - user created User-022\n",
      "2021-09-14 22:10:31,047 - root - INFO - user created User-023\n",
      "2021-09-14 22:10:31,047 - root - INFO - user created User-024\n",
      "2021-09-14 22:10:31,048 - root - INFO - user created User-025\n",
      "2021-09-14 22:10:31,048 - root - INFO - user created User-026\n",
      "2021-09-14 22:10:31,048 - root - INFO - user created User-027\n",
      "2021-09-14 22:10:31,048 - root - INFO - user created User-028\n",
      "2021-09-14 22:10:31,048 - root - INFO - user created User-029\n",
      "2021-09-14 22:10:31,049 - root - INFO - user created User-030\n",
      "2021-09-14 22:10:31,049 - root - INFO - user created User-031\n",
      "2021-09-14 22:10:31,049 - root - INFO - user created User-032\n",
      "2021-09-14 22:10:31,049 - root - INFO - user created User-033\n",
      "2021-09-14 22:10:31,050 - root - INFO - user created User-034\n",
      "2021-09-14 22:10:31,050 - root - INFO - user created User-035\n",
      "2021-09-14 22:10:31,050 - root - INFO - user created User-036\n",
      "2021-09-14 22:10:31,050 - root - INFO - user created User-037\n",
      "2021-09-14 22:10:31,050 - root - INFO - user created User-038\n",
      "2021-09-14 22:10:31,050 - root - INFO - user created User-039\n",
      "2021-09-14 22:10:31,051 - root - INFO - user created User-040\n",
      "2021-09-14 22:10:31,051 - root - INFO - user created User-041\n",
      "2021-09-14 22:10:31,051 - root - INFO - user created User-042\n",
      "2021-09-14 22:10:31,051 - root - INFO - user created User-043\n",
      "2021-09-14 22:10:31,051 - root - INFO - user created User-044\n",
      "2021-09-14 22:10:31,052 - root - INFO - user created User-045\n",
      "2021-09-14 22:10:31,052 - root - INFO - user created User-046\n",
      "2021-09-14 22:10:31,052 - root - INFO - user created User-047\n",
      "2021-09-14 22:10:31,052 - root - INFO - user created User-048\n",
      "2021-09-14 22:10:31,052 - root - INFO - user created User-049\n",
      "2021-09-14 22:10:31,052 - root - INFO - user created User-050\n",
      "2021-09-14 22:10:31,053 - root - INFO - user created User-051\n",
      "2021-09-14 22:10:31,053 - root - INFO - user created User-052\n",
      "2021-09-14 22:10:31,053 - root - INFO - user created User-053\n",
      "2021-09-14 22:10:31,053 - root - INFO - user created User-054\n",
      "2021-09-14 22:10:31,053 - root - INFO - user created User-055\n",
      "2021-09-14 22:10:31,053 - root - INFO - user created User-056\n",
      "2021-09-14 22:10:31,053 - root - INFO - user created User-057\n",
      "2021-09-14 22:10:31,054 - root - INFO - user created User-058\n",
      "2021-09-14 22:10:31,054 - root - INFO - user created User-059\n",
      "2021-09-14 22:10:31,054 - root - INFO - user created User-060\n",
      "\n"
     ]
    }
   ],
   "source": [
    "with open(log_filename) as log:\n",
    "            print(log.read())"
   ]
  },
  {
   "cell_type": "code",
   "execution_count": null,
   "metadata": {},
   "outputs": [],
   "source": []
  }
 ],
 "metadata": {
  "kernelspec": {
   "display_name": "Python 3",
   "language": "python",
   "name": "python3"
  },
  "language_info": {
   "codemirror_mode": {
    "name": "ipython",
    "version": 3
   },
   "file_extension": ".py",
   "mimetype": "text/x-python",
   "name": "python",
   "nbconvert_exporter": "python",
   "pygments_lexer": "ipython3",
   "version": "3.7.3"
  }
 },
 "nbformat": 4,
 "nbformat_minor": 2
}
