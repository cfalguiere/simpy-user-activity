{
 "cells": [
  {
   "cell_type": "markdown",
   "metadata": {},
   "source": [
    "# Configuration"
   ]
  },
  {
   "cell_type": "code",
   "execution_count": 35,
   "metadata": {},
   "outputs": [],
   "source": [
    "nb_users = 60\n",
    "resource_capacity = 80\n",
    "sim_duration = 360 # 1 = 1 mn"
   ]
  },
  {
   "cell_type": "code",
   "execution_count": 36,
   "metadata": {},
   "outputs": [],
   "source": [
    "#debug\n",
    "#nb_users = 1\n",
    "#resource_capacity = 80\n",
    "#sim_duration = 180 # 1 = 1 mn"
   ]
  },
  {
   "cell_type": "code",
   "execution_count": 37,
   "metadata": {},
   "outputs": [],
   "source": [
    "session_configuration = \"\"\"\\\n",
    "session:\n",
    "    name: nominal test\n",
    "    scenarios:\n",
    "        - name: Sc1\n",
    "          weight: 2\n",
    "          steps:\n",
    "                loop:\n",
    "                    tasks:\n",
    "                        - name: step 1\n",
    "                          duration: 10\n",
    "                          resources : 50   \n",
    "                          wait: 30\n",
    "        - name: Sc2\n",
    "          weight: 10\n",
    "          steps:\n",
    "                init:\n",
    "                    tasks:\n",
    "                        - name: load data\n",
    "                          duration: 5\n",
    "                          resources : 3\n",
    "                          parallel: 10\n",
    "                        - name: verify data\n",
    "                          duration: 10\n",
    "                loop:\n",
    "                    repeat: 2\n",
    "                    tasks:\n",
    "                        - name: step 1-3\n",
    "                          duration: 2\n",
    "                          resources : 5   \n",
    "                          wait: 5\n",
    "                          repeat: 3\n",
    "                        - name: step 4\n",
    "                          duration: 5\n",
    "                          resources : 10      \n",
    "                          wait: 30\n",
    "                finally:\n",
    "                    tasks:\n",
    "                        - name: whole step\n",
    "                          duration: 3\n",
    "                          resources : 7\n",
    "                          repeat: 4       \n",
    "\n",
    "\"\"\"\n",
    "\n"
   ]
  },
  {
   "cell_type": "markdown",
   "metadata": {},
   "source": [
    "# Functions"
   ]
  },
  {
   "cell_type": "code",
   "execution_count": 38,
   "metadata": {},
   "outputs": [
    {
     "name": "stdout",
     "output_type": "stream",
     "text": [
      "Requirement already satisfied: simpy in /Users/cfalguiere/anaconda3/lib/python3.7/site-packages (4.0.1)\r\n",
      "Requirement already satisfied: plotly in /Users/cfalguiere/anaconda3/lib/python3.7/site-packages (5.3.1)\r\n",
      "Requirement already satisfied: six in /Users/cfalguiere/anaconda3/lib/python3.7/site-packages (from plotly) (1.12.0)\r\n",
      "Requirement already satisfied: tenacity>=6.2.0 in /Users/cfalguiere/anaconda3/lib/python3.7/site-packages (from plotly) (8.0.1)\r\n"
     ]
    }
   ],
   "source": [
    "!pip install simpy plotly"
   ]
  },
  {
   "cell_type": "markdown",
   "metadata": {},
   "source": [
    "### Refactoring Goal\n",
    "- randomization of tasks duration\n",
    "- structure of user scenario\n"
   ]
  },
  {
   "cell_type": "code",
   "execution_count": 39,
   "metadata": {},
   "outputs": [],
   "source": [
    "import simpy\n",
    "import datetime\n",
    "import pandas as pd\n",
    "import plotly.express as px\n",
    "import logging\n",
    "from enum import Enum\n",
    "\n",
    "import random\n",
    "from itertools import repeat\n",
    "\n",
    "# new\n",
    "from ruamel.yaml import YAML\n"
   ]
  },
  {
   "cell_type": "code",
   "execution_count": 40,
   "metadata": {},
   "outputs": [],
   "source": [
    "log_filename = \"logs-10.log\"\n",
    "mainLogger = logging.getLogger()\n",
    "mainLogger = logging.getLogger()\n",
    "fhandler = logging.FileHandler(filename=log_filename, mode='w')\n",
    "formatter = logging.Formatter('%(asctime)s - %(name)s - %(levelname)s - %(message)s')\n",
    "fhandler.setFormatter(formatter)\n",
    "mainLogger.addHandler(fhandler)\n",
    "mainLogger.setLevel(logging.DEBUG)\n",
    "mainLogger.debug(\"test\")"
   ]
  },
  {
   "cell_type": "code",
   "execution_count": 41,
   "metadata": {},
   "outputs": [],
   "source": [
    "class Metric(Enum):\n",
    "    RW = \"Requests Waiting\"\n",
    "    BS = \"Busy Slots\"\n",
    "    AU = \"Active Users\""
   ]
  },
  {
   "cell_type": "code",
   "execution_count": 42,
   "metadata": {},
   "outputs": [],
   "source": [
    "class Scenario1_old:\n",
    "    def __init__(self):\n",
    "        self.name = \"Sc1\"\n",
    "        self.tasks = []\n",
    "        self.tasks.append( \n",
    "            { 'Name': \"Process-1\",\n",
    "              'Duration': 5,\n",
    "              'Res': 10\n",
    "            })        \n",
    "        self.tasks.append( \n",
    "            { 'Name': \"Verify-1\",\n",
    "              'Duration': 2\n",
    "            })\n",
    "\n",
    "class Scenario2_old:\n",
    "    def __init__(self):\n",
    "        self.name = \"Sc2\"\n",
    "        self.tasks = []\n",
    "        self.tasks.append( \n",
    "            { 'Name': \"Process-2.1\",\n",
    "              'Duration': 2,\n",
    "              'Res': 5\n",
    "            })        \n",
    "        self.tasks.append( \n",
    "            { 'Name': \"Verify-2.1\",\n",
    "              'Duration': 1\n",
    "            })\n",
    "        self.tasks.append( \n",
    "            { 'Name': \"Wait-2.1\",\n",
    "              'Duration': 1\n",
    "            })\n",
    "        self.tasks.append( \n",
    "            { 'Name': \"Process-2.2\",\n",
    "              'Duration': 3,\n",
    "              'Res': 5\n",
    "            })        \n",
    "        self.tasks.append( \n",
    "            { 'Name': \"Verify-2.2\",\n",
    "              'Duration': 1\n",
    "            })\n",
    "        \n",
    "class Scenario3_old:\n",
    "    def __init__(self):\n",
    "        self.name = \"Sc3\"\n",
    "        self.tasks = []\n",
    "        self.tasks.append( \n",
    "            { 'Name': \"Process-1\",\n",
    "              'Duration': 8,\n",
    "              'Res': 40\n",
    "            })        \n",
    "        self.tasks.append( \n",
    "            { 'Name': \"Verify-1\",\n",
    "              'Duration': 2\n",
    "            })\n",
    "\n"
   ]
  },
  {
   "cell_type": "code",
   "execution_count": 43,
   "metadata": {},
   "outputs": [],
   "source": [
    "class User:\n",
    "    def __init__(self, id, scenario, world):\n",
    "        self.id = id\n",
    "        self.scenario = scenario\n",
    "        self._world = world\n",
    "        self.taskid = 0 # new\n",
    "        self.create()\n",
    "        # Start the run process everytime an instance is created.\n",
    "        # create itself as a processs\n",
    "        self.action = self._world.env.process(self.run())\n",
    "\n",
    "    def create(self):\n",
    "        self.enteringAt = self._world.env.now\n",
    "        self.name = \"User-%03d\" % self.id\n",
    "        mainLogger.info(f\"user created {self.name}\")\n",
    "        self._world.user_monitor.report_new_user(self)\n",
    "\n",
    "    def run_old(self):\n",
    "        while True:\n",
    "            self.taskid += 1\n",
    "            for task in self.scenario.tasks:\n",
    "                taskname = task['Name']\n",
    "                task_duration = task['Duration']\n",
    "                mark = self._world.env.now\n",
    "                mainLogger.debug(f\"{self.name} starts task {taskname} at %d\" % mark)\n",
    "\n",
    "                if 'Res' in task:\n",
    "                    self._world.user_monitor.report_start(\n",
    "                            self.name, \n",
    "                            self.scenario, #new\n",
    "                            taskname, \n",
    "                            self.taskid)\n",
    "                    # We yield the process that process() returns\n",
    "                    # to wait for it to finish\n",
    "                    amount = task['Res']\n",
    "                    yield self._world.env.process(self.process_task(task_duration, amount))\n",
    "                    #yield self._world.env.process(self.process_task(task_duration))\n",
    "                    self._world.user_monitor.report_stop(\n",
    "                            self.name, \n",
    "                            self.scenario, #new\n",
    "                            taskname, \n",
    "                            self.taskid)\n",
    "                else:\n",
    "                    # wait some time even if no tracked\n",
    "                    yield self._world.env.timeout(task_duration)\n",
    "\n",
    "                mainLogger.debug(f\"{self.name} ends task {taskname} at %d\" % mark)\n",
    "\n",
    "    def run(self):\n",
    "        scenario = self.scenario\n",
    "        mainLogger.debug(f\"entering scenario: {scenario['name']}\")\n",
    "        mainLogger.debug(f\"steps: {scenario['steps']}\")\n",
    "        if 'init' in scenario['steps']:\n",
    "            mainLogger.debug(\"has init\") \n",
    "            mainLogger.debug(\"run_step_tasks init\")\n",
    "            process = self.run_step_tasks(scenario['steps']['init']['tasks'])\n",
    "            yield self._world.env.process(process)             \n",
    "\n",
    "        if 'loop' in scenario['steps']:\n",
    "            mainLogger.debug(\"has loop\")\n",
    "            step_loop = scenario['steps']['loop']\n",
    "            if 'repeat' in step_loop:\n",
    "                counter = 0\n",
    "                while counter < step_loop['repeat']:\n",
    "                    mainLogger.debug(\"run_step_tasks loop\")\n",
    "                    process = self.run_step_tasks(scenario['steps']['loop']['tasks'])\n",
    "                    yield self._world.env.process(process)             \n",
    "                    counter += 1\n",
    "            else:\n",
    "                mainLogger.debug(\"run_step_tasks loop infinite\")\n",
    "                process = self.run_step_tasks(scenario['steps']['loop']['tasks'])\n",
    "                yield self._world.env.process(process)             \n",
    "\n",
    "        if 'finally' in scenario['steps']:\n",
    "            mainLogger.debug(\"has finally\")\n",
    "            mainLogger.debug(\"run_step_tasks finally\")\n",
    "            process = self.run_step_tasks(scenario['steps']['finally']['tasks'])\n",
    "            yield self._world.env.process(process)             \n",
    "\n",
    "    def run_step_tasks(self, tasks):\n",
    "        mainLogger.debug(f\"entering run_step_tasks {tasks}\")\n",
    "        for task in tasks:\n",
    "            mainLogger.debug(f\"run_step_tasks::task: {task}\")\n",
    "            yield self._world.env.process(self.run_task(task))\n",
    "\n",
    "    def run_task(self, task):\n",
    "        mainLogger.debug(f\"entering run_task {task} id:{self.taskid}\")\n",
    "        max_count = 1\n",
    "        if 'repeat' in task:\n",
    "            max_count = task['repeat']\n",
    "        counter = 0\n",
    "        while counter < max_count:\n",
    "            self.taskid += 1\n",
    "            mainLogger.debug(f\"run task {task['name']} for {task['duration']}\")\n",
    "            if 'resources' in task:\n",
    "                res_amount = task['resources']\n",
    "                if 'parallel' in task:\n",
    "                    mainLogger.debug(f\"run_task::in parallel\")\n",
    "                    res_amount = res_amount * task['parallel']\n",
    "                mainLogger.debug(f\"task resources amount {res_amount}\")\n",
    "                self._world.user_monitor.report_start(\n",
    "                        self.name, \n",
    "                        self.scenario['name'],\n",
    "                        task['name'], \n",
    "                        self.taskid)\n",
    "                process = self.process_task(task['duration'], res_amount)\n",
    "                yield self._world.env.process(process)\n",
    "                self._world.user_monitor.report_stop(\n",
    "                        self.name, \n",
    "                        self.scenario['name'], \n",
    "                        task['name'], \n",
    "                        self.taskid)\n",
    "                mainLogger.debug(f\"task processing completed\")\n",
    "            else:\n",
    "                mainLogger.debug(f\"wait after task for {task['duration']}\")\n",
    "                yield self._world.env.timeout(task['duration'])\n",
    "                mainLogger.debug(f\"wait after task completed\")\n",
    "                            \n",
    "            if 'wait' in task:\n",
    "                mainLogger.debug(f\"manual task for {task['wait']}\")\n",
    "                yield self._world.env.timeout(task['wait'])\n",
    "                mainLogger.debug(f\"manual task completed\")\n",
    "            \n",
    "            # increment counter                    \n",
    "            counter += 1\n",
    "                  \n",
    "    def process_task(self, duration, amount):\n",
    "        mainLogger.debug(f\"entering process task at %d\" % self._world.env.now)\n",
    "        with Job(self._world.res,amount) as req:\n",
    "            yield req\n",
    "            yield self._world.env.timeout(duration)\n",
    "        mainLogger.debug(f\"exiting process task at %d\" % self._world.env.now)\n",
    "\n"
   ]
  },
  {
   "cell_type": "code",
   "execution_count": 44,
   "metadata": {},
   "outputs": [],
   "source": [
    "class Clock:\n",
    "    def __init__(self):\n",
    "        self.base_epoch = datetime.datetime.now().timestamp()\n",
    "        mainLogger.info(f\"Clock created - base {self.base_epoch}\")\n",
    "\n",
    "    def to_date(self, tick):\n",
    "        epoch_time = self.base_epoch + tick*60 #mn\n",
    "        datetime_time = datetime.datetime.fromtimestamp(epoch_time)\n",
    "        return datetime_time"
   ]
  },
  {
   "cell_type": "code",
   "execution_count": 45,
   "metadata": {},
   "outputs": [],
   "source": [
    "class UsersMonitor:\n",
    "    def __init__(self, world):\n",
    "        self._world = world # new\n",
    "        # init parameters are self reported\n",
    "        # start and stop events\n",
    "        self.start_data = []\n",
    "        self.stop_data = []\n",
    "        # list of users\n",
    "        self.users = []\n",
    "        \n",
    "    def report_new_user(self, user):\n",
    "        self.users.append(user)            \n",
    "        \n",
    "    #def report_start(self, username, taskname, taskid):\n",
    "    def report_start(self, username, scenarioname, taskname, taskid):\n",
    "        mark = self._world.env.now\n",
    "        self.start_data.append(\n",
    "            dict(  \n",
    "                StartMark=mark,\n",
    "                Start=world.clock.to_date(mark),\n",
    "                Username=username,\n",
    "                Scenario=scenarioname, # new\n",
    "                Task=taskname,\n",
    "                TaskId=taskid\n",
    "            )\n",
    "        )       \n",
    "        \n",
    "    #def report_stop(self, username, taskname, taskid):\n",
    "    def report_stop(self, username, scenarioname, taskname, taskid):\n",
    "        mark = self._world.env.now\n",
    "        self.stop_data.append(\n",
    "            dict(  \n",
    "                FinishMark=mark,\n",
    "                Finish=world.clock.to_date(mark),\n",
    "                Username=username,\n",
    "                Scenario=scenarioname, # new\n",
    "                Task=taskname,\n",
    "                TaskId=taskid\n",
    "            )\n",
    "        )\n",
    "        \n",
    "                \n",
    "    def collect(self):\n",
    "        df_start = pd.DataFrame(self.start_data)\n",
    "        df_stop = pd.DataFrame(self.stop_data)\n",
    "        df = pd.merge(df_start, df_stop, how='left', \n",
    "                      on = ['Username', 'Scenario', 'Task', 'TaskId'])\n",
    "        df['Duration'] = df['FinishMark'] - df['StartMark']\n",
    "        return df\n"
   ]
  },
  {
   "cell_type": "code",
   "execution_count": 46,
   "metadata": {},
   "outputs": [],
   "source": [
    "# wake up every tick and collect\n",
    "class UsersGenerator:\n",
    "    def __init__(self, world, max_nb_users=10):\n",
    "        self._world = world\n",
    "        self._max_nb_users = max_nb_users\n",
    "        mainLogger.info(\"creating user generator for %s users\", self._max_nb_users)\n",
    "        self.data = []\n",
    "        self.active_users = []\n",
    "        self.user_count = 0\n",
    "        # this will be used as a process\n",
    "        self.action = world.env.process(self.run())\n",
    "        # new - moves in world \n",
    "        #random.shuffle(self._world.scenarios)\n",
    "\n",
    "    def run(self):\n",
    "        while True:\n",
    "\n",
    "            if self.user_count < self._max_nb_users:\n",
    "                self.create_user()\n",
    "        \n",
    "            self.report()\n",
    "\n",
    "            tick_duration = 1\n",
    "            yield self._world.env.timeout(tick_duration)\n",
    "\n",
    "    def create_user(self):\n",
    "\n",
    "        # new - replaced method\n",
    "        #scenario = random.choice(self._world.scenarios)\n",
    "        # never run rare scenarios\n",
    "        \n",
    "        # count start at base 0\n",
    "        #i_scenario = self.user_count % len(scenarios)\n",
    "        #scenario = self._world.scenarios[i_scenario]\n",
    " \n",
    "        #new - first get scenario index in randomized list \n",
    "        # count start at base 0\n",
    "        #i_scenario = self.user_count % len(scenarios)\n",
    "        #scenario = self._world.scenarios[i_scenario]\n",
    "\n",
    "        i_scenario_index = self.user_count % len(self._world.scenarios_index)\n",
    "        i_scenario = self._world.scenarios_index[i_scenario_index]\n",
    "        scenario = self._world.scenarios[i_scenario]\n",
    "    \n",
    "        # first user is labelled -001\n",
    "        self.user_count += 1\n",
    "        user = User(self.user_count, \n",
    "                    scenario,\n",
    "                    self._world)\n",
    "        self.active_users.append(user)\n",
    "        mark = self._world.env.now\n",
    "        mainLogger.debug(f\"{len(self.active_users)} active users at %d\" % mark)\n",
    "        \n",
    "    def report(self):\n",
    "        mark = self._world.env.now\n",
    "        active_users_count = len(self.active_users)\n",
    "\n",
    "        self.data.append(\n",
    "            dict(  \n",
    "                Mark=mark,\n",
    "                Timestamp=self._world.clock.to_date(mark),\n",
    "                Metric=Metric.AU.value,\n",
    "                Value=active_users_count\n",
    "            )\n",
    "        )       \n",
    "        \n",
    "    \n",
    "    def collect(self):\n",
    "        return pd.DataFrame(self.data)\n"
   ]
  },
  {
   "cell_type": "code",
   "execution_count": 47,
   "metadata": {},
   "outputs": [],
   "source": [
    "class Job:\n",
    "    def __init__(self, res, items=1):\n",
    "        self.res = res\n",
    "        self.items = items\n",
    "        mainLogger.debug(f\"creating job with amount {self.items}\")\n",
    "        \n",
    "    def __enter__(self):\n",
    "        mainLogger.debug(\"__enter__\" )\n",
    "        return self.res.get(self.items).__enter__()\n",
    "\n",
    "    def __exit__(self, exc_type, exc_val, exc_tb):\n",
    "        mainLogger.debug(\"__exit__\" )\n",
    "        mainLogger.debug(\"exc_type {exc_type} exc_val {exc_val} exc_tb {exc_tb}\" )\n",
    "        self.res.put(self.items).__exit__(exc_type, exc_val, exc_tb)\n"
   ]
  },
  {
   "cell_type": "code",
   "execution_count": 48,
   "metadata": {},
   "outputs": [],
   "source": [
    "class SystemResource(simpy.resources.container.Container):\n",
    "    def __init__(self, *args, **kwargs):\n",
    "        super().__init__(*args, **kwargs)\n",
    "        mainLogger.info(f\"create resource with capacity {self.capacity}\")\n",
    "        self.processing_data = []\n",
    "        self.waiting_data = []\n",
    "        mainLogger.info(f\"initial level {self.level}\")\n",
    "\n",
    "    def get(self, *args, **kwargs):\n",
    "        amount = args[0]\n",
    "        mainLogger.debug(f\"received request resource - amount {amount} at %d\" % self._env.now)\n",
    "        mainLogger.debug(f\"level (available) {self.level} at %d\" % self._env.now)\n",
    "        mainLogger.debug(f\"{len(self.get_queue)} waiting at %d\" % self._env.now)\n",
    "        mainLogger.debug(f\"{self.used()} processing at %d\" % self._env.now)\n",
    "        self.processing_data.append((self._env.now, self.used()))\n",
    "        self.waiting_data.append((self._env.now, len(self.get_queue)))\n",
    "        return super().get(*args, **kwargs)\n",
    "\n",
    "    def put(self, *args, **kwargs):\n",
    "        amount = args[0]\n",
    "        mainLogger.debug(f\"received release resource - amount {amount} at %d\" % self._env.now)\n",
    "        mainLogger.debug(f\"level (available) {self.level} at %d\" % self._env.now)\n",
    "        mainLogger.debug(f\"{len(self.get_queue)} waiting at %d\" % self._env.now)\n",
    "        mainLogger.debug(f\"{self.used()} processing at %d\" % self._env.now)\n",
    "        self.processing_data.append((self._env.now, self.used()))\n",
    "        self.waiting_data.append((self._env.now, len(self.get_queue)))\n",
    "        return super().put(*args, **kwargs)\n",
    "\n",
    "    def used(self):\n",
    "        return self.capacity - self.level"
   ]
  },
  {
   "cell_type": "code",
   "execution_count": 49,
   "metadata": {},
   "outputs": [],
   "source": [
    "class SystemResource_old(simpy.Resource):\n",
    "    def __init__(self, *args, **kwargs):\n",
    "        super().__init__(*args, **kwargs)\n",
    "        mainLogger.info(f\"create resource with capacity {self.capacity}\")\n",
    "\n",
    "    def request(self, *args, **kwargs):\n",
    "        mainLogger.debug(\"request resource at %d\" % self._env.now)\n",
    "        return super().request(*args, **kwargs)\n",
    "\n",
    "    def release(self, *args, **kwargs):\n",
    "        mainLogger.debug(\"release resource at %d\" % self._env.now)\n",
    "        return super().release(*args, **kwargs)\n"
   ]
  },
  {
   "cell_type": "code",
   "execution_count": 50,
   "metadata": {},
   "outputs": [],
   "source": [
    "# wake up every tick and collect\n",
    "class SystemMonitoringAgent:\n",
    "    def __init__(self, world):\n",
    "        self._world = world\n",
    "        mainLogger.info(\"creating agent\")\n",
    "        self.data = []\n",
    "        # this will be used as a process\n",
    "        self.action = world.env.process(self.run())\n",
    "\n",
    "    def run(self):\n",
    "        while True:\n",
    "\n",
    "            mark = self._world.env.now\n",
    "            #occupied_slots = self._world.res.count\n",
    "            occupied_slots = self._world.res.used()\n",
    "            #requests_waiting = len(self._world.res.queue)\n",
    "            requests_waiting = len(self._world.res.get_queue)\n",
    "            \n",
    "            #new\n",
    "            mainLogger.debug(f\"level {self._world.res.level} at %d\" % mark)\n",
    "            mainLogger.debug(f\"{occupied_slots} occupied slots at %d\" % mark)\n",
    "            mainLogger.debug(f\"{requests_waiting} requests waiting at %d\" % mark)\n",
    "\n",
    "            self.data.append(\n",
    "                dict(  \n",
    "                    Mark=mark,\n",
    "                    Timestamp=self._world.clock.to_date(mark),\n",
    "                    Metric=Metric.BS.value,\n",
    "                    Value=occupied_slots\n",
    "                )\n",
    "            )       \n",
    "            self.data.append(\n",
    "                dict(  \n",
    "                    Mark=mark,\n",
    "                    Timestamp=self._world.clock.to_date(mark),\n",
    "                    Metric=Metric.RW.value,\n",
    "                    Value=requests_waiting\n",
    "                )\n",
    "            ) \n",
    "            \n",
    "            tick_duration = 1\n",
    "            yield self._world.env.timeout(tick_duration)\n",
    "\n",
    "        \n",
    "                \n",
    "    def collect(self):\n",
    "        return pd.DataFrame(self.data)\n"
   ]
  },
  {
   "cell_type": "code",
   "execution_count": 51,
   "metadata": {},
   "outputs": [],
   "source": [
    "class World:\n",
    "    \n",
    "    #def __init__(self, scenarios, nb_users=20, resource_capacity=5):\n",
    "    def __init__(self,  nb_users=20, resource_capacity=5):\n",
    "        mainLogger.info(f\"creating simulation\")\n",
    "        #self.scenarios = scenarios # new\n",
    "        self.load_scenarios()\n",
    "        self.env = simpy.Environment()\n",
    "        self.clock = Clock()\n",
    "        self.res = SystemResource(self.env, \n",
    "                                  init=resource_capacity, #new\n",
    "                                  capacity=resource_capacity)\n",
    "        self.user_monitor = UsersMonitor(self)\n",
    "        self.user_gen = UsersGenerator(self, max_nb_users=nb_users)\n",
    "        self.res_agent = SystemMonitoringAgent(self)\n",
    "        self.load_scenarios()\n",
    "        \n",
    "    # new                \n",
    "    def load_scenarios(self):\n",
    "        yaml = YAML(typ='safe')   # default, if not specfied, is 'rt' (round-trip)\n",
    "        session = yaml.load(session_configuration)\n",
    "        self.session_name = session['session']['name']\n",
    "        mainLogger.info(f\"session name: {self.session_name}\")\n",
    "        \n",
    "        self.scenarios = session['session']['scenarios']\n",
    "        self.scenarios_index = []\n",
    "        for i in range(len(self.scenarios)):\n",
    "            weight = self.scenarios[i]['weight']\n",
    "            self.scenarios_index.extend(repeat(i, weight))\n",
    "        # randomize index\n",
    "        random.shuffle(self.scenarios_index)\n",
    "        mainLogger.info(f\"scenarios_index: {self.scenarios_index}\")\n",
    "                        \n",
    "    def start(self, sim_duration = 20):\n",
    "        mainLogger.info(f\"starting simulation\")\n",
    "        self.env.run(until=sim_duration)"
   ]
  },
  {
   "cell_type": "markdown",
   "metadata": {},
   "source": [
    "## Main "
   ]
  },
  {
   "cell_type": "code",
   "execution_count": 52,
   "metadata": {},
   "outputs": [],
   "source": [
    "# new -> remplace par yaml et variables en debut de notebook\n",
    "world = World(nb_users = nb_users, resource_capacity = resource_capacity)"
   ]
  },
  {
   "cell_type": "code",
   "execution_count": 53,
   "metadata": {},
   "outputs": [],
   "source": [
    "mainLogger.setLevel(logging.INFO)\n",
    "world.start(sim_duration = sim_duration) # 1 = 1mn"
   ]
  },
  {
   "cell_type": "code",
   "execution_count": 54,
   "metadata": {},
   "outputs": [],
   "source": [
    "# debug\n",
    "if False:\n",
    "    session_configuration = \"\"\"\\\n",
    "    session:\n",
    "        name: nominal test\n",
    "        scenarios:\n",
    "            - name: Sc1\n",
    "              weight: 2\n",
    "              steps:\n",
    "                    loop:\n",
    "                        tasks:\n",
    "                            - name: step 1 debug\n",
    "                              duration: 10\n",
    "                              resources : 3   \n",
    "                              wait: 5\n",
    "    \"\"\"\n",
    "    world = World(nb_users = 1, resource_capacity = 5 )\n",
    "    mainLogger.setLevel(logging.DEBUG)\n",
    "    world.start(sim_duration = 20)\n"
   ]
  },
  {
   "cell_type": "markdown",
   "metadata": {},
   "source": [
    "# Time Series"
   ]
  },
  {
   "cell_type": "code",
   "execution_count": 55,
   "metadata": {},
   "outputs": [],
   "source": [
    "df_system = world.res_agent.collect()\n",
    "#display(df_system)"
   ]
  },
  {
   "cell_type": "markdown",
   "metadata": {},
   "source": [
    "## Occupied slots"
   ]
  },
  {
   "cell_type": "code",
   "execution_count": 56,
   "metadata": {},
   "outputs": [
    {
     "data": {
      "application/vnd.plotly.v1+json": {
       "config": {
        "plotlyServerURL": "https://plot.ly"
       },
       "data": [
        {
         "alignmentgroup": "True",
         "hovertemplate": "Timestamp=%{x}<br>Value=%{y}<extra></extra>",
         "legendgroup": "",
         "marker": {
          "color": "#636efa",
          "pattern": {
           "shape": ""
          }
         },
         "name": "",
         "offsetgroup": "",
         "orientation": "v",
         "showlegend": false,
         "textposition": "auto",
         "type": "bar",
         "x": [
          "2021-09-12T17:26:58.629235",
          "2021-09-12T17:27:58.629235",
          "2021-09-12T17:28:58.629235",
          "2021-09-12T17:29:58.629235",
          "2021-09-12T17:30:58.629235",
          "2021-09-12T17:31:58.629235",
          "2021-09-12T17:32:58.629235",
          "2021-09-12T17:33:58.629235",
          "2021-09-12T17:34:58.629235",
          "2021-09-12T17:35:58.629235",
          "2021-09-12T17:36:58.629235",
          "2021-09-12T17:37:58.629235",
          "2021-09-12T17:38:58.629235",
          "2021-09-12T17:39:58.629235",
          "2021-09-12T17:40:58.629235",
          "2021-09-12T17:41:58.629235",
          "2021-09-12T17:42:58.629235",
          "2021-09-12T17:43:58.629235",
          "2021-09-12T17:44:58.629235",
          "2021-09-12T17:45:58.629235",
          "2021-09-12T17:46:58.629235",
          "2021-09-12T17:47:58.629235",
          "2021-09-12T17:48:58.629235",
          "2021-09-12T17:49:58.629235",
          "2021-09-12T17:50:58.629235",
          "2021-09-12T17:51:58.629235",
          "2021-09-12T17:52:58.629235",
          "2021-09-12T17:53:58.629235",
          "2021-09-12T17:54:58.629235",
          "2021-09-12T17:55:58.629235",
          "2021-09-12T17:56:58.629235",
          "2021-09-12T17:57:58.629235",
          "2021-09-12T17:58:58.629235",
          "2021-09-12T17:59:58.629235",
          "2021-09-12T18:00:58.629235",
          "2021-09-12T18:01:58.629235",
          "2021-09-12T18:02:58.629235",
          "2021-09-12T18:03:58.629235",
          "2021-09-12T18:04:58.629235",
          "2021-09-12T18:05:58.629235",
          "2021-09-12T18:06:58.629235",
          "2021-09-12T18:07:58.629235",
          "2021-09-12T18:08:58.629235",
          "2021-09-12T18:09:58.629235",
          "2021-09-12T18:10:58.629235",
          "2021-09-12T18:11:58.629235",
          "2021-09-12T18:12:58.629235",
          "2021-09-12T18:13:58.629235",
          "2021-09-12T18:14:58.629235",
          "2021-09-12T18:15:58.629235",
          "2021-09-12T18:16:58.629235",
          "2021-09-12T18:17:58.629235",
          "2021-09-12T18:18:58.629235",
          "2021-09-12T18:19:58.629235",
          "2021-09-12T18:20:58.629235",
          "2021-09-12T18:21:58.629235",
          "2021-09-12T18:22:58.629235",
          "2021-09-12T18:23:58.629235",
          "2021-09-12T18:24:58.629235",
          "2021-09-12T18:25:58.629235",
          "2021-09-12T18:26:58.629235",
          "2021-09-12T18:27:58.629235",
          "2021-09-12T18:28:58.629235",
          "2021-09-12T18:29:58.629235",
          "2021-09-12T18:30:58.629235",
          "2021-09-12T18:31:58.629235",
          "2021-09-12T18:32:58.629235",
          "2021-09-12T18:33:58.629235",
          "2021-09-12T18:34:58.629235",
          "2021-09-12T18:35:58.629235",
          "2021-09-12T18:36:58.629235",
          "2021-09-12T18:37:58.629235",
          "2021-09-12T18:38:58.629235",
          "2021-09-12T18:39:58.629235",
          "2021-09-12T18:40:58.629235",
          "2021-09-12T18:41:58.629235",
          "2021-09-12T18:42:58.629235",
          "2021-09-12T18:43:58.629235",
          "2021-09-12T18:44:58.629235",
          "2021-09-12T18:45:58.629235",
          "2021-09-12T18:46:58.629235",
          "2021-09-12T18:47:58.629235",
          "2021-09-12T18:48:58.629235",
          "2021-09-12T18:49:58.629235",
          "2021-09-12T18:50:58.629235",
          "2021-09-12T18:51:58.629235",
          "2021-09-12T18:52:58.629235",
          "2021-09-12T18:53:58.629235",
          "2021-09-12T18:54:58.629235",
          "2021-09-12T18:55:58.629235",
          "2021-09-12T18:56:58.629235",
          "2021-09-12T18:57:58.629235",
          "2021-09-12T18:58:58.629235",
          "2021-09-12T18:59:58.629235",
          "2021-09-12T19:00:58.629235",
          "2021-09-12T19:01:58.629235",
          "2021-09-12T19:02:58.629235",
          "2021-09-12T19:03:58.629235",
          "2021-09-12T19:04:58.629235",
          "2021-09-12T19:05:58.629235",
          "2021-09-12T19:06:58.629235",
          "2021-09-12T19:07:58.629235",
          "2021-09-12T19:08:58.629235",
          "2021-09-12T19:09:58.629235",
          "2021-09-12T19:10:58.629235",
          "2021-09-12T19:11:58.629235",
          "2021-09-12T19:12:58.629235",
          "2021-09-12T19:13:58.629235",
          "2021-09-12T19:14:58.629235",
          "2021-09-12T19:15:58.629235",
          "2021-09-12T19:16:58.629235",
          "2021-09-12T19:17:58.629235",
          "2021-09-12T19:18:58.629235",
          "2021-09-12T19:19:58.629235",
          "2021-09-12T19:20:58.629235",
          "2021-09-12T19:21:58.629235",
          "2021-09-12T19:22:58.629235",
          "2021-09-12T19:23:58.629235",
          "2021-09-12T19:24:58.629235",
          "2021-09-12T19:25:58.629235",
          "2021-09-12T19:26:58.629235",
          "2021-09-12T19:27:58.629235",
          "2021-09-12T19:28:58.629235",
          "2021-09-12T19:29:58.629235",
          "2021-09-12T19:30:58.629235",
          "2021-09-12T19:31:58.629235",
          "2021-09-12T19:32:58.629235",
          "2021-09-12T19:33:58.629235",
          "2021-09-12T19:34:58.629235",
          "2021-09-12T19:35:58.629235",
          "2021-09-12T19:36:58.629235",
          "2021-09-12T19:37:58.629235",
          "2021-09-12T19:38:58.629235",
          "2021-09-12T19:39:58.629235",
          "2021-09-12T19:40:58.629235",
          "2021-09-12T19:41:58.629235",
          "2021-09-12T19:42:58.629235",
          "2021-09-12T19:43:58.629235",
          "2021-09-12T19:44:58.629235",
          "2021-09-12T19:45:58.629235",
          "2021-09-12T19:46:58.629235",
          "2021-09-12T19:47:58.629235",
          "2021-09-12T19:48:58.629235",
          "2021-09-12T19:49:58.629235",
          "2021-09-12T19:50:58.629235",
          "2021-09-12T19:51:58.629235",
          "2021-09-12T19:52:58.629235",
          "2021-09-12T19:53:58.629235",
          "2021-09-12T19:54:58.629235",
          "2021-09-12T19:55:58.629235",
          "2021-09-12T19:56:58.629235",
          "2021-09-12T19:57:58.629235",
          "2021-09-12T19:58:58.629235",
          "2021-09-12T19:59:58.629235",
          "2021-09-12T20:00:58.629235",
          "2021-09-12T20:01:58.629235",
          "2021-09-12T20:02:58.629235",
          "2021-09-12T20:03:58.629235",
          "2021-09-12T20:04:58.629235",
          "2021-09-12T20:05:58.629235",
          "2021-09-12T20:06:58.629235",
          "2021-09-12T20:07:58.629235",
          "2021-09-12T20:08:58.629235",
          "2021-09-12T20:09:58.629235",
          "2021-09-12T20:10:58.629235",
          "2021-09-12T20:11:58.629235",
          "2021-09-12T20:12:58.629235",
          "2021-09-12T20:13:58.629235",
          "2021-09-12T20:14:58.629235",
          "2021-09-12T20:15:58.629235",
          "2021-09-12T20:16:58.629235",
          "2021-09-12T20:17:58.629235",
          "2021-09-12T20:18:58.629235",
          "2021-09-12T20:19:58.629235",
          "2021-09-12T20:20:58.629235",
          "2021-09-12T20:21:58.629235",
          "2021-09-12T20:22:58.629235",
          "2021-09-12T20:23:58.629235",
          "2021-09-12T20:24:58.629235",
          "2021-09-12T20:25:58.629235",
          "2021-09-12T20:26:58.629235",
          "2021-09-12T20:27:58.629235",
          "2021-09-12T20:28:58.629235",
          "2021-09-12T20:29:58.629235",
          "2021-09-12T20:30:58.629235",
          "2021-09-12T20:31:58.629235",
          "2021-09-12T20:32:58.629235",
          "2021-09-12T20:33:58.629235",
          "2021-09-12T20:34:58.629235",
          "2021-09-12T20:35:58.629235",
          "2021-09-12T20:36:58.629235",
          "2021-09-12T20:37:58.629235",
          "2021-09-12T20:38:58.629235",
          "2021-09-12T20:39:58.629235",
          "2021-09-12T20:40:58.629235",
          "2021-09-12T20:41:58.629235",
          "2021-09-12T20:42:58.629235",
          "2021-09-12T20:43:58.629235",
          "2021-09-12T20:44:58.629235",
          "2021-09-12T20:45:58.629235",
          "2021-09-12T20:46:58.629235",
          "2021-09-12T20:47:58.629235",
          "2021-09-12T20:48:58.629235",
          "2021-09-12T20:49:58.629235",
          "2021-09-12T20:50:58.629235",
          "2021-09-12T20:51:58.629235",
          "2021-09-12T20:52:58.629235",
          "2021-09-12T20:53:58.629235",
          "2021-09-12T20:54:58.629235",
          "2021-09-12T20:55:58.629235",
          "2021-09-12T20:56:58.629235",
          "2021-09-12T20:57:58.629235",
          "2021-09-12T20:58:58.629235",
          "2021-09-12T20:59:58.629235",
          "2021-09-12T21:00:58.629235",
          "2021-09-12T21:01:58.629235",
          "2021-09-12T21:02:58.629235",
          "2021-09-12T21:03:58.629235",
          "2021-09-12T21:04:58.629235",
          "2021-09-12T21:05:58.629235",
          "2021-09-12T21:06:58.629235",
          "2021-09-12T21:07:58.629235",
          "2021-09-12T21:08:58.629235",
          "2021-09-12T21:09:58.629235",
          "2021-09-12T21:10:58.629235",
          "2021-09-12T21:11:58.629235",
          "2021-09-12T21:12:58.629235",
          "2021-09-12T21:13:58.629235",
          "2021-09-12T21:14:58.629235",
          "2021-09-12T21:15:58.629235",
          "2021-09-12T21:16:58.629235",
          "2021-09-12T21:17:58.629235",
          "2021-09-12T21:18:58.629235",
          "2021-09-12T21:19:58.629235",
          "2021-09-12T21:20:58.629235",
          "2021-09-12T21:21:58.629235",
          "2021-09-12T21:22:58.629235",
          "2021-09-12T21:23:58.629235",
          "2021-09-12T21:24:58.629235",
          "2021-09-12T21:25:58.629235",
          "2021-09-12T21:26:58.629235",
          "2021-09-12T21:27:58.629235",
          "2021-09-12T21:28:58.629235",
          "2021-09-12T21:29:58.629235",
          "2021-09-12T21:30:58.629235",
          "2021-09-12T21:31:58.629235",
          "2021-09-12T21:32:58.629235",
          "2021-09-12T21:33:58.629235",
          "2021-09-12T21:34:58.629235",
          "2021-09-12T21:35:58.629235",
          "2021-09-12T21:36:58.629235",
          "2021-09-12T21:37:58.629235",
          "2021-09-12T21:38:58.629235",
          "2021-09-12T21:39:58.629235",
          "2021-09-12T21:40:58.629235",
          "2021-09-12T21:41:58.629235",
          "2021-09-12T21:42:58.629235",
          "2021-09-12T21:43:58.629235",
          "2021-09-12T21:44:58.629235",
          "2021-09-12T21:45:58.629235",
          "2021-09-12T21:46:58.629235",
          "2021-09-12T21:47:58.629235",
          "2021-09-12T21:48:58.629235",
          "2021-09-12T21:49:58.629235",
          "2021-09-12T21:50:58.629235",
          "2021-09-12T21:51:58.629235",
          "2021-09-12T21:52:58.629235",
          "2021-09-12T21:53:58.629235",
          "2021-09-12T21:54:58.629235",
          "2021-09-12T21:55:58.629235",
          "2021-09-12T21:56:58.629235",
          "2021-09-12T21:57:58.629235",
          "2021-09-12T21:58:58.629235",
          "2021-09-12T21:59:58.629235",
          "2021-09-12T22:00:58.629235",
          "2021-09-12T22:01:58.629235",
          "2021-09-12T22:02:58.629235",
          "2021-09-12T22:03:58.629235",
          "2021-09-12T22:04:58.629235",
          "2021-09-12T22:05:58.629235",
          "2021-09-12T22:06:58.629235",
          "2021-09-12T22:07:58.629235",
          "2021-09-12T22:08:58.629235",
          "2021-09-12T22:09:58.629235",
          "2021-09-12T22:10:58.629235",
          "2021-09-12T22:11:58.629235",
          "2021-09-12T22:12:58.629235",
          "2021-09-12T22:13:58.629235",
          "2021-09-12T22:14:58.629235",
          "2021-09-12T22:15:58.629235",
          "2021-09-12T22:16:58.629235",
          "2021-09-12T22:17:58.629235",
          "2021-09-12T22:18:58.629235",
          "2021-09-12T22:19:58.629235",
          "2021-09-12T22:20:58.629235",
          "2021-09-12T22:21:58.629235",
          "2021-09-12T22:22:58.629235",
          "2021-09-12T22:23:58.629235",
          "2021-09-12T22:24:58.629235",
          "2021-09-12T22:25:58.629235",
          "2021-09-12T22:26:58.629235",
          "2021-09-12T22:27:58.629235",
          "2021-09-12T22:28:58.629235",
          "2021-09-12T22:29:58.629235",
          "2021-09-12T22:30:58.629235",
          "2021-09-12T22:31:58.629235",
          "2021-09-12T22:32:58.629235",
          "2021-09-12T22:33:58.629235",
          "2021-09-12T22:34:58.629235",
          "2021-09-12T22:35:58.629235",
          "2021-09-12T22:36:58.629235",
          "2021-09-12T22:37:58.629235",
          "2021-09-12T22:38:58.629235",
          "2021-09-12T22:39:58.629235",
          "2021-09-12T22:40:58.629235",
          "2021-09-12T22:41:58.629235",
          "2021-09-12T22:42:58.629235",
          "2021-09-12T22:43:58.629235",
          "2021-09-12T22:44:58.629235",
          "2021-09-12T22:45:58.629235",
          "2021-09-12T22:46:58.629235",
          "2021-09-12T22:47:58.629235",
          "2021-09-12T22:48:58.629235",
          "2021-09-12T22:49:58.629235",
          "2021-09-12T22:50:58.629235",
          "2021-09-12T22:51:58.629235",
          "2021-09-12T22:52:58.629235",
          "2021-09-12T22:53:58.629235",
          "2021-09-12T22:54:58.629235",
          "2021-09-12T22:55:58.629235",
          "2021-09-12T22:56:58.629235",
          "2021-09-12T22:57:58.629235",
          "2021-09-12T22:58:58.629235",
          "2021-09-12T22:59:58.629235",
          "2021-09-12T23:00:58.629235",
          "2021-09-12T23:01:58.629235",
          "2021-09-12T23:02:58.629235",
          "2021-09-12T23:03:58.629235",
          "2021-09-12T23:04:58.629235",
          "2021-09-12T23:05:58.629235",
          "2021-09-12T23:06:58.629235",
          "2021-09-12T23:07:58.629235",
          "2021-09-12T23:08:58.629235",
          "2021-09-12T23:09:58.629235",
          "2021-09-12T23:10:58.629235",
          "2021-09-12T23:11:58.629235",
          "2021-09-12T23:12:58.629235",
          "2021-09-12T23:13:58.629235",
          "2021-09-12T23:14:58.629235",
          "2021-09-12T23:15:58.629235",
          "2021-09-12T23:16:58.629235",
          "2021-09-12T23:17:58.629235",
          "2021-09-12T23:18:58.629235",
          "2021-09-12T23:19:58.629235",
          "2021-09-12T23:20:58.629235",
          "2021-09-12T23:21:58.629235",
          "2021-09-12T23:22:58.629235",
          "2021-09-12T23:23:58.629235",
          "2021-09-12T23:24:58.629235",
          "2021-09-12T23:25:58.629235"
         ],
         "xaxis": "x",
         "y": [
          0,
          60,
          60,
          60,
          60,
          60,
          60,
          60,
          60,
          60,
          60,
          60,
          60,
          60,
          60,
          80,
          80,
          80,
          80,
          80,
          80,
          50,
          50,
          50,
          50,
          80,
          80,
          80,
          80,
          80,
          80,
          80,
          80,
          80,
          80,
          60,
          60,
          60,
          60,
          60,
          60,
          60,
          60,
          60,
          60,
          70,
          70,
          60,
          60,
          60,
          80,
          80,
          80,
          80,
          80,
          80,
          80,
          80,
          80,
          80,
          0,
          55,
          50,
          80,
          80,
          80,
          80,
          50,
          55,
          50,
          30,
          60,
          60,
          60,
          30,
          30,
          65,
          60,
          60,
          30,
          35,
          60,
          60,
          60,
          30,
          30,
          60,
          60,
          60,
          30,
          50,
          80,
          80,
          80,
          80,
          50,
          55,
          50,
          50,
          0,
          80,
          80,
          80,
          80,
          50,
          80,
          80,
          80,
          80,
          0,
          60,
          60,
          60,
          60,
          0,
          60,
          60,
          60,
          60,
          0,
          65,
          60,
          60,
          60,
          0,
          80,
          80,
          80,
          80,
          50,
          80,
          80,
          80,
          80,
          0,
          80,
          80,
          80,
          80,
          50,
          55,
          50,
          80,
          80,
          30,
          60,
          30,
          60,
          60,
          30,
          60,
          30,
          70,
          60,
          30,
          70,
          30,
          60,
          60,
          30,
          60,
          30,
          80,
          80,
          50,
          80,
          80,
          80,
          80,
          50,
          60,
          0,
          80,
          80,
          80,
          80,
          50,
          80,
          80,
          80,
          80,
          0,
          80,
          30,
          80,
          30,
          50,
          30,
          50,
          30,
          50,
          50,
          30,
          75,
          30,
          50,
          40,
          55,
          55,
          65,
          45,
          55,
          45,
          55,
          50,
          60,
          60,
          60,
          50,
          70,
          70,
          70,
          55,
          40,
          70,
          70,
          80,
          60,
          35,
          60,
          70,
          80,
          70,
          40,
          60,
          70,
          80,
          70,
          40,
          55,
          55,
          55,
          45,
          20,
          0,
          0,
          25,
          20,
          25,
          35,
          15,
          5,
          15,
          25,
          30,
          30,
          35,
          20,
          20,
          45,
          40,
          40,
          45,
          55,
          60,
          60,
          50,
          50,
          25,
          65,
          45,
          65,
          50,
          50,
          60,
          40,
          60,
          40,
          70,
          60,
          70,
          50,
          50,
          45,
          40,
          70,
          60,
          70,
          60,
          40,
          65,
          30,
          80,
          70,
          70,
          55,
          25,
          57,
          77,
          70,
          70,
          40,
          60,
          75,
          30,
          64,
          78,
          44,
          65,
          49,
          45,
          66,
          59,
          45,
          56,
          56,
          42,
          56,
          56,
          42,
          56,
          56,
          42,
          56,
          56,
          42,
          56,
          56,
          42,
          56,
          56,
          42,
          56,
          56,
          42,
          56,
          56,
          42,
          56,
          56,
          42,
          56,
          56,
          42,
          56,
          56,
          42,
          56,
          56,
          42,
          56,
          56,
          42,
          56,
          56,
          42,
          56,
          56,
          42,
          49,
          28,
          7,
          7,
          0,
          0,
          0,
          0,
          0,
          0,
          0
         ],
         "yaxis": "y"
        }
       ],
       "layout": {
        "barmode": "relative",
        "legend": {
         "tracegroupgap": 0
        },
        "margin": {
         "t": 60
        },
        "template": {
         "data": {
          "bar": [
           {
            "error_x": {
             "color": "#2a3f5f"
            },
            "error_y": {
             "color": "#2a3f5f"
            },
            "marker": {
             "line": {
              "color": "#E5ECF6",
              "width": 0.5
             },
             "pattern": {
              "fillmode": "overlay",
              "size": 10,
              "solidity": 0.2
             }
            },
            "type": "bar"
           }
          ],
          "barpolar": [
           {
            "marker": {
             "line": {
              "color": "#E5ECF6",
              "width": 0.5
             },
             "pattern": {
              "fillmode": "overlay",
              "size": 10,
              "solidity": 0.2
             }
            },
            "type": "barpolar"
           }
          ],
          "carpet": [
           {
            "aaxis": {
             "endlinecolor": "#2a3f5f",
             "gridcolor": "white",
             "linecolor": "white",
             "minorgridcolor": "white",
             "startlinecolor": "#2a3f5f"
            },
            "baxis": {
             "endlinecolor": "#2a3f5f",
             "gridcolor": "white",
             "linecolor": "white",
             "minorgridcolor": "white",
             "startlinecolor": "#2a3f5f"
            },
            "type": "carpet"
           }
          ],
          "choropleth": [
           {
            "colorbar": {
             "outlinewidth": 0,
             "ticks": ""
            },
            "type": "choropleth"
           }
          ],
          "contour": [
           {
            "colorbar": {
             "outlinewidth": 0,
             "ticks": ""
            },
            "colorscale": [
             [
              0,
              "#0d0887"
             ],
             [
              0.1111111111111111,
              "#46039f"
             ],
             [
              0.2222222222222222,
              "#7201a8"
             ],
             [
              0.3333333333333333,
              "#9c179e"
             ],
             [
              0.4444444444444444,
              "#bd3786"
             ],
             [
              0.5555555555555556,
              "#d8576b"
             ],
             [
              0.6666666666666666,
              "#ed7953"
             ],
             [
              0.7777777777777778,
              "#fb9f3a"
             ],
             [
              0.8888888888888888,
              "#fdca26"
             ],
             [
              1,
              "#f0f921"
             ]
            ],
            "type": "contour"
           }
          ],
          "contourcarpet": [
           {
            "colorbar": {
             "outlinewidth": 0,
             "ticks": ""
            },
            "type": "contourcarpet"
           }
          ],
          "heatmap": [
           {
            "colorbar": {
             "outlinewidth": 0,
             "ticks": ""
            },
            "colorscale": [
             [
              0,
              "#0d0887"
             ],
             [
              0.1111111111111111,
              "#46039f"
             ],
             [
              0.2222222222222222,
              "#7201a8"
             ],
             [
              0.3333333333333333,
              "#9c179e"
             ],
             [
              0.4444444444444444,
              "#bd3786"
             ],
             [
              0.5555555555555556,
              "#d8576b"
             ],
             [
              0.6666666666666666,
              "#ed7953"
             ],
             [
              0.7777777777777778,
              "#fb9f3a"
             ],
             [
              0.8888888888888888,
              "#fdca26"
             ],
             [
              1,
              "#f0f921"
             ]
            ],
            "type": "heatmap"
           }
          ],
          "heatmapgl": [
           {
            "colorbar": {
             "outlinewidth": 0,
             "ticks": ""
            },
            "colorscale": [
             [
              0,
              "#0d0887"
             ],
             [
              0.1111111111111111,
              "#46039f"
             ],
             [
              0.2222222222222222,
              "#7201a8"
             ],
             [
              0.3333333333333333,
              "#9c179e"
             ],
             [
              0.4444444444444444,
              "#bd3786"
             ],
             [
              0.5555555555555556,
              "#d8576b"
             ],
             [
              0.6666666666666666,
              "#ed7953"
             ],
             [
              0.7777777777777778,
              "#fb9f3a"
             ],
             [
              0.8888888888888888,
              "#fdca26"
             ],
             [
              1,
              "#f0f921"
             ]
            ],
            "type": "heatmapgl"
           }
          ],
          "histogram": [
           {
            "marker": {
             "pattern": {
              "fillmode": "overlay",
              "size": 10,
              "solidity": 0.2
             }
            },
            "type": "histogram"
           }
          ],
          "histogram2d": [
           {
            "colorbar": {
             "outlinewidth": 0,
             "ticks": ""
            },
            "colorscale": [
             [
              0,
              "#0d0887"
             ],
             [
              0.1111111111111111,
              "#46039f"
             ],
             [
              0.2222222222222222,
              "#7201a8"
             ],
             [
              0.3333333333333333,
              "#9c179e"
             ],
             [
              0.4444444444444444,
              "#bd3786"
             ],
             [
              0.5555555555555556,
              "#d8576b"
             ],
             [
              0.6666666666666666,
              "#ed7953"
             ],
             [
              0.7777777777777778,
              "#fb9f3a"
             ],
             [
              0.8888888888888888,
              "#fdca26"
             ],
             [
              1,
              "#f0f921"
             ]
            ],
            "type": "histogram2d"
           }
          ],
          "histogram2dcontour": [
           {
            "colorbar": {
             "outlinewidth": 0,
             "ticks": ""
            },
            "colorscale": [
             [
              0,
              "#0d0887"
             ],
             [
              0.1111111111111111,
              "#46039f"
             ],
             [
              0.2222222222222222,
              "#7201a8"
             ],
             [
              0.3333333333333333,
              "#9c179e"
             ],
             [
              0.4444444444444444,
              "#bd3786"
             ],
             [
              0.5555555555555556,
              "#d8576b"
             ],
             [
              0.6666666666666666,
              "#ed7953"
             ],
             [
              0.7777777777777778,
              "#fb9f3a"
             ],
             [
              0.8888888888888888,
              "#fdca26"
             ],
             [
              1,
              "#f0f921"
             ]
            ],
            "type": "histogram2dcontour"
           }
          ],
          "mesh3d": [
           {
            "colorbar": {
             "outlinewidth": 0,
             "ticks": ""
            },
            "type": "mesh3d"
           }
          ],
          "parcoords": [
           {
            "line": {
             "colorbar": {
              "outlinewidth": 0,
              "ticks": ""
             }
            },
            "type": "parcoords"
           }
          ],
          "pie": [
           {
            "automargin": true,
            "type": "pie"
           }
          ],
          "scatter": [
           {
            "marker": {
             "colorbar": {
              "outlinewidth": 0,
              "ticks": ""
             }
            },
            "type": "scatter"
           }
          ],
          "scatter3d": [
           {
            "line": {
             "colorbar": {
              "outlinewidth": 0,
              "ticks": ""
             }
            },
            "marker": {
             "colorbar": {
              "outlinewidth": 0,
              "ticks": ""
             }
            },
            "type": "scatter3d"
           }
          ],
          "scattercarpet": [
           {
            "marker": {
             "colorbar": {
              "outlinewidth": 0,
              "ticks": ""
             }
            },
            "type": "scattercarpet"
           }
          ],
          "scattergeo": [
           {
            "marker": {
             "colorbar": {
              "outlinewidth": 0,
              "ticks": ""
             }
            },
            "type": "scattergeo"
           }
          ],
          "scattergl": [
           {
            "marker": {
             "colorbar": {
              "outlinewidth": 0,
              "ticks": ""
             }
            },
            "type": "scattergl"
           }
          ],
          "scattermapbox": [
           {
            "marker": {
             "colorbar": {
              "outlinewidth": 0,
              "ticks": ""
             }
            },
            "type": "scattermapbox"
           }
          ],
          "scatterpolar": [
           {
            "marker": {
             "colorbar": {
              "outlinewidth": 0,
              "ticks": ""
             }
            },
            "type": "scatterpolar"
           }
          ],
          "scatterpolargl": [
           {
            "marker": {
             "colorbar": {
              "outlinewidth": 0,
              "ticks": ""
             }
            },
            "type": "scatterpolargl"
           }
          ],
          "scatterternary": [
           {
            "marker": {
             "colorbar": {
              "outlinewidth": 0,
              "ticks": ""
             }
            },
            "type": "scatterternary"
           }
          ],
          "surface": [
           {
            "colorbar": {
             "outlinewidth": 0,
             "ticks": ""
            },
            "colorscale": [
             [
              0,
              "#0d0887"
             ],
             [
              0.1111111111111111,
              "#46039f"
             ],
             [
              0.2222222222222222,
              "#7201a8"
             ],
             [
              0.3333333333333333,
              "#9c179e"
             ],
             [
              0.4444444444444444,
              "#bd3786"
             ],
             [
              0.5555555555555556,
              "#d8576b"
             ],
             [
              0.6666666666666666,
              "#ed7953"
             ],
             [
              0.7777777777777778,
              "#fb9f3a"
             ],
             [
              0.8888888888888888,
              "#fdca26"
             ],
             [
              1,
              "#f0f921"
             ]
            ],
            "type": "surface"
           }
          ],
          "table": [
           {
            "cells": {
             "fill": {
              "color": "#EBF0F8"
             },
             "line": {
              "color": "white"
             }
            },
            "header": {
             "fill": {
              "color": "#C8D4E3"
             },
             "line": {
              "color": "white"
             }
            },
            "type": "table"
           }
          ]
         },
         "layout": {
          "annotationdefaults": {
           "arrowcolor": "#2a3f5f",
           "arrowhead": 0,
           "arrowwidth": 1
          },
          "autotypenumbers": "strict",
          "coloraxis": {
           "colorbar": {
            "outlinewidth": 0,
            "ticks": ""
           }
          },
          "colorscale": {
           "diverging": [
            [
             0,
             "#8e0152"
            ],
            [
             0.1,
             "#c51b7d"
            ],
            [
             0.2,
             "#de77ae"
            ],
            [
             0.3,
             "#f1b6da"
            ],
            [
             0.4,
             "#fde0ef"
            ],
            [
             0.5,
             "#f7f7f7"
            ],
            [
             0.6,
             "#e6f5d0"
            ],
            [
             0.7,
             "#b8e186"
            ],
            [
             0.8,
             "#7fbc41"
            ],
            [
             0.9,
             "#4d9221"
            ],
            [
             1,
             "#276419"
            ]
           ],
           "sequential": [
            [
             0,
             "#0d0887"
            ],
            [
             0.1111111111111111,
             "#46039f"
            ],
            [
             0.2222222222222222,
             "#7201a8"
            ],
            [
             0.3333333333333333,
             "#9c179e"
            ],
            [
             0.4444444444444444,
             "#bd3786"
            ],
            [
             0.5555555555555556,
             "#d8576b"
            ],
            [
             0.6666666666666666,
             "#ed7953"
            ],
            [
             0.7777777777777778,
             "#fb9f3a"
            ],
            [
             0.8888888888888888,
             "#fdca26"
            ],
            [
             1,
             "#f0f921"
            ]
           ],
           "sequentialminus": [
            [
             0,
             "#0d0887"
            ],
            [
             0.1111111111111111,
             "#46039f"
            ],
            [
             0.2222222222222222,
             "#7201a8"
            ],
            [
             0.3333333333333333,
             "#9c179e"
            ],
            [
             0.4444444444444444,
             "#bd3786"
            ],
            [
             0.5555555555555556,
             "#d8576b"
            ],
            [
             0.6666666666666666,
             "#ed7953"
            ],
            [
             0.7777777777777778,
             "#fb9f3a"
            ],
            [
             0.8888888888888888,
             "#fdca26"
            ],
            [
             1,
             "#f0f921"
            ]
           ]
          },
          "colorway": [
           "#636efa",
           "#EF553B",
           "#00cc96",
           "#ab63fa",
           "#FFA15A",
           "#19d3f3",
           "#FF6692",
           "#B6E880",
           "#FF97FF",
           "#FECB52"
          ],
          "font": {
           "color": "#2a3f5f"
          },
          "geo": {
           "bgcolor": "white",
           "lakecolor": "white",
           "landcolor": "#E5ECF6",
           "showlakes": true,
           "showland": true,
           "subunitcolor": "white"
          },
          "hoverlabel": {
           "align": "left"
          },
          "hovermode": "closest",
          "mapbox": {
           "style": "light"
          },
          "paper_bgcolor": "white",
          "plot_bgcolor": "#E5ECF6",
          "polar": {
           "angularaxis": {
            "gridcolor": "white",
            "linecolor": "white",
            "ticks": ""
           },
           "bgcolor": "#E5ECF6",
           "radialaxis": {
            "gridcolor": "white",
            "linecolor": "white",
            "ticks": ""
           }
          },
          "scene": {
           "xaxis": {
            "backgroundcolor": "#E5ECF6",
            "gridcolor": "white",
            "gridwidth": 2,
            "linecolor": "white",
            "showbackground": true,
            "ticks": "",
            "zerolinecolor": "white"
           },
           "yaxis": {
            "backgroundcolor": "#E5ECF6",
            "gridcolor": "white",
            "gridwidth": 2,
            "linecolor": "white",
            "showbackground": true,
            "ticks": "",
            "zerolinecolor": "white"
           },
           "zaxis": {
            "backgroundcolor": "#E5ECF6",
            "gridcolor": "white",
            "gridwidth": 2,
            "linecolor": "white",
            "showbackground": true,
            "ticks": "",
            "zerolinecolor": "white"
           }
          },
          "shapedefaults": {
           "line": {
            "color": "#2a3f5f"
           }
          },
          "ternary": {
           "aaxis": {
            "gridcolor": "white",
            "linecolor": "white",
            "ticks": ""
           },
           "baxis": {
            "gridcolor": "white",
            "linecolor": "white",
            "ticks": ""
           },
           "bgcolor": "#E5ECF6",
           "caxis": {
            "gridcolor": "white",
            "linecolor": "white",
            "ticks": ""
           }
          },
          "title": {
           "x": 0.05
          },
          "xaxis": {
           "automargin": true,
           "gridcolor": "white",
           "linecolor": "white",
           "ticks": "",
           "title": {
            "standoff": 15
           },
           "zerolinecolor": "white",
           "zerolinewidth": 2
          },
          "yaxis": {
           "automargin": true,
           "gridcolor": "white",
           "linecolor": "white",
           "ticks": "",
           "title": {
            "standoff": 15
           },
           "zerolinecolor": "white",
           "zerolinewidth": 2
          }
         }
        },
        "xaxis": {
         "anchor": "y",
         "domain": [
          0,
          1
         ],
         "title": {
          "text": "Timestamp"
         }
        },
        "yaxis": {
         "anchor": "x",
         "domain": [
          0,
          1
         ],
         "title": {
          "text": "Value"
         }
        }
       }
      },
      "text/html": [
       "<div>                            <div id=\"1860331e-342b-4c23-913e-df3ae9d6ed81\" class=\"plotly-graph-div\" style=\"height:525px; width:100%;\"></div>            <script type=\"text/javascript\">                require([\"plotly\"], function(Plotly) {                    window.PLOTLYENV=window.PLOTLYENV || {};                                    if (document.getElementById(\"1860331e-342b-4c23-913e-df3ae9d6ed81\")) {                    Plotly.newPlot(                        \"1860331e-342b-4c23-913e-df3ae9d6ed81\",                        [{\"alignmentgroup\":\"True\",\"hovertemplate\":\"Timestamp=%{x}<br>Value=%{y}<extra></extra>\",\"legendgroup\":\"\",\"marker\":{\"color\":\"#636efa\",\"pattern\":{\"shape\":\"\"}},\"name\":\"\",\"offsetgroup\":\"\",\"orientation\":\"v\",\"showlegend\":false,\"textposition\":\"auto\",\"type\":\"bar\",\"x\":[\"2021-09-12T17:26:58.629235\",\"2021-09-12T17:27:58.629235\",\"2021-09-12T17:28:58.629235\",\"2021-09-12T17:29:58.629235\",\"2021-09-12T17:30:58.629235\",\"2021-09-12T17:31:58.629235\",\"2021-09-12T17:32:58.629235\",\"2021-09-12T17:33:58.629235\",\"2021-09-12T17:34:58.629235\",\"2021-09-12T17:35:58.629235\",\"2021-09-12T17:36:58.629235\",\"2021-09-12T17:37:58.629235\",\"2021-09-12T17:38:58.629235\",\"2021-09-12T17:39:58.629235\",\"2021-09-12T17:40:58.629235\",\"2021-09-12T17:41:58.629235\",\"2021-09-12T17:42:58.629235\",\"2021-09-12T17:43:58.629235\",\"2021-09-12T17:44:58.629235\",\"2021-09-12T17:45:58.629235\",\"2021-09-12T17:46:58.629235\",\"2021-09-12T17:47:58.629235\",\"2021-09-12T17:48:58.629235\",\"2021-09-12T17:49:58.629235\",\"2021-09-12T17:50:58.629235\",\"2021-09-12T17:51:58.629235\",\"2021-09-12T17:52:58.629235\",\"2021-09-12T17:53:58.629235\",\"2021-09-12T17:54:58.629235\",\"2021-09-12T17:55:58.629235\",\"2021-09-12T17:56:58.629235\",\"2021-09-12T17:57:58.629235\",\"2021-09-12T17:58:58.629235\",\"2021-09-12T17:59:58.629235\",\"2021-09-12T18:00:58.629235\",\"2021-09-12T18:01:58.629235\",\"2021-09-12T18:02:58.629235\",\"2021-09-12T18:03:58.629235\",\"2021-09-12T18:04:58.629235\",\"2021-09-12T18:05:58.629235\",\"2021-09-12T18:06:58.629235\",\"2021-09-12T18:07:58.629235\",\"2021-09-12T18:08:58.629235\",\"2021-09-12T18:09:58.629235\",\"2021-09-12T18:10:58.629235\",\"2021-09-12T18:11:58.629235\",\"2021-09-12T18:12:58.629235\",\"2021-09-12T18:13:58.629235\",\"2021-09-12T18:14:58.629235\",\"2021-09-12T18:15:58.629235\",\"2021-09-12T18:16:58.629235\",\"2021-09-12T18:17:58.629235\",\"2021-09-12T18:18:58.629235\",\"2021-09-12T18:19:58.629235\",\"2021-09-12T18:20:58.629235\",\"2021-09-12T18:21:58.629235\",\"2021-09-12T18:22:58.629235\",\"2021-09-12T18:23:58.629235\",\"2021-09-12T18:24:58.629235\",\"2021-09-12T18:25:58.629235\",\"2021-09-12T18:26:58.629235\",\"2021-09-12T18:27:58.629235\",\"2021-09-12T18:28:58.629235\",\"2021-09-12T18:29:58.629235\",\"2021-09-12T18:30:58.629235\",\"2021-09-12T18:31:58.629235\",\"2021-09-12T18:32:58.629235\",\"2021-09-12T18:33:58.629235\",\"2021-09-12T18:34:58.629235\",\"2021-09-12T18:35:58.629235\",\"2021-09-12T18:36:58.629235\",\"2021-09-12T18:37:58.629235\",\"2021-09-12T18:38:58.629235\",\"2021-09-12T18:39:58.629235\",\"2021-09-12T18:40:58.629235\",\"2021-09-12T18:41:58.629235\",\"2021-09-12T18:42:58.629235\",\"2021-09-12T18:43:58.629235\",\"2021-09-12T18:44:58.629235\",\"2021-09-12T18:45:58.629235\",\"2021-09-12T18:46:58.629235\",\"2021-09-12T18:47:58.629235\",\"2021-09-12T18:48:58.629235\",\"2021-09-12T18:49:58.629235\",\"2021-09-12T18:50:58.629235\",\"2021-09-12T18:51:58.629235\",\"2021-09-12T18:52:58.629235\",\"2021-09-12T18:53:58.629235\",\"2021-09-12T18:54:58.629235\",\"2021-09-12T18:55:58.629235\",\"2021-09-12T18:56:58.629235\",\"2021-09-12T18:57:58.629235\",\"2021-09-12T18:58:58.629235\",\"2021-09-12T18:59:58.629235\",\"2021-09-12T19:00:58.629235\",\"2021-09-12T19:01:58.629235\",\"2021-09-12T19:02:58.629235\",\"2021-09-12T19:03:58.629235\",\"2021-09-12T19:04:58.629235\",\"2021-09-12T19:05:58.629235\",\"2021-09-12T19:06:58.629235\",\"2021-09-12T19:07:58.629235\",\"2021-09-12T19:08:58.629235\",\"2021-09-12T19:09:58.629235\",\"2021-09-12T19:10:58.629235\",\"2021-09-12T19:11:58.629235\",\"2021-09-12T19:12:58.629235\",\"2021-09-12T19:13:58.629235\",\"2021-09-12T19:14:58.629235\",\"2021-09-12T19:15:58.629235\",\"2021-09-12T19:16:58.629235\",\"2021-09-12T19:17:58.629235\",\"2021-09-12T19:18:58.629235\",\"2021-09-12T19:19:58.629235\",\"2021-09-12T19:20:58.629235\",\"2021-09-12T19:21:58.629235\",\"2021-09-12T19:22:58.629235\",\"2021-09-12T19:23:58.629235\",\"2021-09-12T19:24:58.629235\",\"2021-09-12T19:25:58.629235\",\"2021-09-12T19:26:58.629235\",\"2021-09-12T19:27:58.629235\",\"2021-09-12T19:28:58.629235\",\"2021-09-12T19:29:58.629235\",\"2021-09-12T19:30:58.629235\",\"2021-09-12T19:31:58.629235\",\"2021-09-12T19:32:58.629235\",\"2021-09-12T19:33:58.629235\",\"2021-09-12T19:34:58.629235\",\"2021-09-12T19:35:58.629235\",\"2021-09-12T19:36:58.629235\",\"2021-09-12T19:37:58.629235\",\"2021-09-12T19:38:58.629235\",\"2021-09-12T19:39:58.629235\",\"2021-09-12T19:40:58.629235\",\"2021-09-12T19:41:58.629235\",\"2021-09-12T19:42:58.629235\",\"2021-09-12T19:43:58.629235\",\"2021-09-12T19:44:58.629235\",\"2021-09-12T19:45:58.629235\",\"2021-09-12T19:46:58.629235\",\"2021-09-12T19:47:58.629235\",\"2021-09-12T19:48:58.629235\",\"2021-09-12T19:49:58.629235\",\"2021-09-12T19:50:58.629235\",\"2021-09-12T19:51:58.629235\",\"2021-09-12T19:52:58.629235\",\"2021-09-12T19:53:58.629235\",\"2021-09-12T19:54:58.629235\",\"2021-09-12T19:55:58.629235\",\"2021-09-12T19:56:58.629235\",\"2021-09-12T19:57:58.629235\",\"2021-09-12T19:58:58.629235\",\"2021-09-12T19:59:58.629235\",\"2021-09-12T20:00:58.629235\",\"2021-09-12T20:01:58.629235\",\"2021-09-12T20:02:58.629235\",\"2021-09-12T20:03:58.629235\",\"2021-09-12T20:04:58.629235\",\"2021-09-12T20:05:58.629235\",\"2021-09-12T20:06:58.629235\",\"2021-09-12T20:07:58.629235\",\"2021-09-12T20:08:58.629235\",\"2021-09-12T20:09:58.629235\",\"2021-09-12T20:10:58.629235\",\"2021-09-12T20:11:58.629235\",\"2021-09-12T20:12:58.629235\",\"2021-09-12T20:13:58.629235\",\"2021-09-12T20:14:58.629235\",\"2021-09-12T20:15:58.629235\",\"2021-09-12T20:16:58.629235\",\"2021-09-12T20:17:58.629235\",\"2021-09-12T20:18:58.629235\",\"2021-09-12T20:19:58.629235\",\"2021-09-12T20:20:58.629235\",\"2021-09-12T20:21:58.629235\",\"2021-09-12T20:22:58.629235\",\"2021-09-12T20:23:58.629235\",\"2021-09-12T20:24:58.629235\",\"2021-09-12T20:25:58.629235\",\"2021-09-12T20:26:58.629235\",\"2021-09-12T20:27:58.629235\",\"2021-09-12T20:28:58.629235\",\"2021-09-12T20:29:58.629235\",\"2021-09-12T20:30:58.629235\",\"2021-09-12T20:31:58.629235\",\"2021-09-12T20:32:58.629235\",\"2021-09-12T20:33:58.629235\",\"2021-09-12T20:34:58.629235\",\"2021-09-12T20:35:58.629235\",\"2021-09-12T20:36:58.629235\",\"2021-09-12T20:37:58.629235\",\"2021-09-12T20:38:58.629235\",\"2021-09-12T20:39:58.629235\",\"2021-09-12T20:40:58.629235\",\"2021-09-12T20:41:58.629235\",\"2021-09-12T20:42:58.629235\",\"2021-09-12T20:43:58.629235\",\"2021-09-12T20:44:58.629235\",\"2021-09-12T20:45:58.629235\",\"2021-09-12T20:46:58.629235\",\"2021-09-12T20:47:58.629235\",\"2021-09-12T20:48:58.629235\",\"2021-09-12T20:49:58.629235\",\"2021-09-12T20:50:58.629235\",\"2021-09-12T20:51:58.629235\",\"2021-09-12T20:52:58.629235\",\"2021-09-12T20:53:58.629235\",\"2021-09-12T20:54:58.629235\",\"2021-09-12T20:55:58.629235\",\"2021-09-12T20:56:58.629235\",\"2021-09-12T20:57:58.629235\",\"2021-09-12T20:58:58.629235\",\"2021-09-12T20:59:58.629235\",\"2021-09-12T21:00:58.629235\",\"2021-09-12T21:01:58.629235\",\"2021-09-12T21:02:58.629235\",\"2021-09-12T21:03:58.629235\",\"2021-09-12T21:04:58.629235\",\"2021-09-12T21:05:58.629235\",\"2021-09-12T21:06:58.629235\",\"2021-09-12T21:07:58.629235\",\"2021-09-12T21:08:58.629235\",\"2021-09-12T21:09:58.629235\",\"2021-09-12T21:10:58.629235\",\"2021-09-12T21:11:58.629235\",\"2021-09-12T21:12:58.629235\",\"2021-09-12T21:13:58.629235\",\"2021-09-12T21:14:58.629235\",\"2021-09-12T21:15:58.629235\",\"2021-09-12T21:16:58.629235\",\"2021-09-12T21:17:58.629235\",\"2021-09-12T21:18:58.629235\",\"2021-09-12T21:19:58.629235\",\"2021-09-12T21:20:58.629235\",\"2021-09-12T21:21:58.629235\",\"2021-09-12T21:22:58.629235\",\"2021-09-12T21:23:58.629235\",\"2021-09-12T21:24:58.629235\",\"2021-09-12T21:25:58.629235\",\"2021-09-12T21:26:58.629235\",\"2021-09-12T21:27:58.629235\",\"2021-09-12T21:28:58.629235\",\"2021-09-12T21:29:58.629235\",\"2021-09-12T21:30:58.629235\",\"2021-09-12T21:31:58.629235\",\"2021-09-12T21:32:58.629235\",\"2021-09-12T21:33:58.629235\",\"2021-09-12T21:34:58.629235\",\"2021-09-12T21:35:58.629235\",\"2021-09-12T21:36:58.629235\",\"2021-09-12T21:37:58.629235\",\"2021-09-12T21:38:58.629235\",\"2021-09-12T21:39:58.629235\",\"2021-09-12T21:40:58.629235\",\"2021-09-12T21:41:58.629235\",\"2021-09-12T21:42:58.629235\",\"2021-09-12T21:43:58.629235\",\"2021-09-12T21:44:58.629235\",\"2021-09-12T21:45:58.629235\",\"2021-09-12T21:46:58.629235\",\"2021-09-12T21:47:58.629235\",\"2021-09-12T21:48:58.629235\",\"2021-09-12T21:49:58.629235\",\"2021-09-12T21:50:58.629235\",\"2021-09-12T21:51:58.629235\",\"2021-09-12T21:52:58.629235\",\"2021-09-12T21:53:58.629235\",\"2021-09-12T21:54:58.629235\",\"2021-09-12T21:55:58.629235\",\"2021-09-12T21:56:58.629235\",\"2021-09-12T21:57:58.629235\",\"2021-09-12T21:58:58.629235\",\"2021-09-12T21:59:58.629235\",\"2021-09-12T22:00:58.629235\",\"2021-09-12T22:01:58.629235\",\"2021-09-12T22:02:58.629235\",\"2021-09-12T22:03:58.629235\",\"2021-09-12T22:04:58.629235\",\"2021-09-12T22:05:58.629235\",\"2021-09-12T22:06:58.629235\",\"2021-09-12T22:07:58.629235\",\"2021-09-12T22:08:58.629235\",\"2021-09-12T22:09:58.629235\",\"2021-09-12T22:10:58.629235\",\"2021-09-12T22:11:58.629235\",\"2021-09-12T22:12:58.629235\",\"2021-09-12T22:13:58.629235\",\"2021-09-12T22:14:58.629235\",\"2021-09-12T22:15:58.629235\",\"2021-09-12T22:16:58.629235\",\"2021-09-12T22:17:58.629235\",\"2021-09-12T22:18:58.629235\",\"2021-09-12T22:19:58.629235\",\"2021-09-12T22:20:58.629235\",\"2021-09-12T22:21:58.629235\",\"2021-09-12T22:22:58.629235\",\"2021-09-12T22:23:58.629235\",\"2021-09-12T22:24:58.629235\",\"2021-09-12T22:25:58.629235\",\"2021-09-12T22:26:58.629235\",\"2021-09-12T22:27:58.629235\",\"2021-09-12T22:28:58.629235\",\"2021-09-12T22:29:58.629235\",\"2021-09-12T22:30:58.629235\",\"2021-09-12T22:31:58.629235\",\"2021-09-12T22:32:58.629235\",\"2021-09-12T22:33:58.629235\",\"2021-09-12T22:34:58.629235\",\"2021-09-12T22:35:58.629235\",\"2021-09-12T22:36:58.629235\",\"2021-09-12T22:37:58.629235\",\"2021-09-12T22:38:58.629235\",\"2021-09-12T22:39:58.629235\",\"2021-09-12T22:40:58.629235\",\"2021-09-12T22:41:58.629235\",\"2021-09-12T22:42:58.629235\",\"2021-09-12T22:43:58.629235\",\"2021-09-12T22:44:58.629235\",\"2021-09-12T22:45:58.629235\",\"2021-09-12T22:46:58.629235\",\"2021-09-12T22:47:58.629235\",\"2021-09-12T22:48:58.629235\",\"2021-09-12T22:49:58.629235\",\"2021-09-12T22:50:58.629235\",\"2021-09-12T22:51:58.629235\",\"2021-09-12T22:52:58.629235\",\"2021-09-12T22:53:58.629235\",\"2021-09-12T22:54:58.629235\",\"2021-09-12T22:55:58.629235\",\"2021-09-12T22:56:58.629235\",\"2021-09-12T22:57:58.629235\",\"2021-09-12T22:58:58.629235\",\"2021-09-12T22:59:58.629235\",\"2021-09-12T23:00:58.629235\",\"2021-09-12T23:01:58.629235\",\"2021-09-12T23:02:58.629235\",\"2021-09-12T23:03:58.629235\",\"2021-09-12T23:04:58.629235\",\"2021-09-12T23:05:58.629235\",\"2021-09-12T23:06:58.629235\",\"2021-09-12T23:07:58.629235\",\"2021-09-12T23:08:58.629235\",\"2021-09-12T23:09:58.629235\",\"2021-09-12T23:10:58.629235\",\"2021-09-12T23:11:58.629235\",\"2021-09-12T23:12:58.629235\",\"2021-09-12T23:13:58.629235\",\"2021-09-12T23:14:58.629235\",\"2021-09-12T23:15:58.629235\",\"2021-09-12T23:16:58.629235\",\"2021-09-12T23:17:58.629235\",\"2021-09-12T23:18:58.629235\",\"2021-09-12T23:19:58.629235\",\"2021-09-12T23:20:58.629235\",\"2021-09-12T23:21:58.629235\",\"2021-09-12T23:22:58.629235\",\"2021-09-12T23:23:58.629235\",\"2021-09-12T23:24:58.629235\",\"2021-09-12T23:25:58.629235\"],\"xaxis\":\"x\",\"y\":[0,60,60,60,60,60,60,60,60,60,60,60,60,60,60,80,80,80,80,80,80,50,50,50,50,80,80,80,80,80,80,80,80,80,80,60,60,60,60,60,60,60,60,60,60,70,70,60,60,60,80,80,80,80,80,80,80,80,80,80,0,55,50,80,80,80,80,50,55,50,30,60,60,60,30,30,65,60,60,30,35,60,60,60,30,30,60,60,60,30,50,80,80,80,80,50,55,50,50,0,80,80,80,80,50,80,80,80,80,0,60,60,60,60,0,60,60,60,60,0,65,60,60,60,0,80,80,80,80,50,80,80,80,80,0,80,80,80,80,50,55,50,80,80,30,60,30,60,60,30,60,30,70,60,30,70,30,60,60,30,60,30,80,80,50,80,80,80,80,50,60,0,80,80,80,80,50,80,80,80,80,0,80,30,80,30,50,30,50,30,50,50,30,75,30,50,40,55,55,65,45,55,45,55,50,60,60,60,50,70,70,70,55,40,70,70,80,60,35,60,70,80,70,40,60,70,80,70,40,55,55,55,45,20,0,0,25,20,25,35,15,5,15,25,30,30,35,20,20,45,40,40,45,55,60,60,50,50,25,65,45,65,50,50,60,40,60,40,70,60,70,50,50,45,40,70,60,70,60,40,65,30,80,70,70,55,25,57,77,70,70,40,60,75,30,64,78,44,65,49,45,66,59,45,56,56,42,56,56,42,56,56,42,56,56,42,56,56,42,56,56,42,56,56,42,56,56,42,56,56,42,56,56,42,56,56,42,56,56,42,56,56,42,56,56,42,56,56,42,49,28,7,7,0,0,0,0,0,0,0],\"yaxis\":\"y\"}],                        {\"barmode\":\"relative\",\"legend\":{\"tracegroupgap\":0},\"margin\":{\"t\":60},\"template\":{\"data\":{\"bar\":[{\"error_x\":{\"color\":\"#2a3f5f\"},\"error_y\":{\"color\":\"#2a3f5f\"},\"marker\":{\"line\":{\"color\":\"#E5ECF6\",\"width\":0.5},\"pattern\":{\"fillmode\":\"overlay\",\"size\":10,\"solidity\":0.2}},\"type\":\"bar\"}],\"barpolar\":[{\"marker\":{\"line\":{\"color\":\"#E5ECF6\",\"width\":0.5},\"pattern\":{\"fillmode\":\"overlay\",\"size\":10,\"solidity\":0.2}},\"type\":\"barpolar\"}],\"carpet\":[{\"aaxis\":{\"endlinecolor\":\"#2a3f5f\",\"gridcolor\":\"white\",\"linecolor\":\"white\",\"minorgridcolor\":\"white\",\"startlinecolor\":\"#2a3f5f\"},\"baxis\":{\"endlinecolor\":\"#2a3f5f\",\"gridcolor\":\"white\",\"linecolor\":\"white\",\"minorgridcolor\":\"white\",\"startlinecolor\":\"#2a3f5f\"},\"type\":\"carpet\"}],\"choropleth\":[{\"colorbar\":{\"outlinewidth\":0,\"ticks\":\"\"},\"type\":\"choropleth\"}],\"contour\":[{\"colorbar\":{\"outlinewidth\":0,\"ticks\":\"\"},\"colorscale\":[[0.0,\"#0d0887\"],[0.1111111111111111,\"#46039f\"],[0.2222222222222222,\"#7201a8\"],[0.3333333333333333,\"#9c179e\"],[0.4444444444444444,\"#bd3786\"],[0.5555555555555556,\"#d8576b\"],[0.6666666666666666,\"#ed7953\"],[0.7777777777777778,\"#fb9f3a\"],[0.8888888888888888,\"#fdca26\"],[1.0,\"#f0f921\"]],\"type\":\"contour\"}],\"contourcarpet\":[{\"colorbar\":{\"outlinewidth\":0,\"ticks\":\"\"},\"type\":\"contourcarpet\"}],\"heatmap\":[{\"colorbar\":{\"outlinewidth\":0,\"ticks\":\"\"},\"colorscale\":[[0.0,\"#0d0887\"],[0.1111111111111111,\"#46039f\"],[0.2222222222222222,\"#7201a8\"],[0.3333333333333333,\"#9c179e\"],[0.4444444444444444,\"#bd3786\"],[0.5555555555555556,\"#d8576b\"],[0.6666666666666666,\"#ed7953\"],[0.7777777777777778,\"#fb9f3a\"],[0.8888888888888888,\"#fdca26\"],[1.0,\"#f0f921\"]],\"type\":\"heatmap\"}],\"heatmapgl\":[{\"colorbar\":{\"outlinewidth\":0,\"ticks\":\"\"},\"colorscale\":[[0.0,\"#0d0887\"],[0.1111111111111111,\"#46039f\"],[0.2222222222222222,\"#7201a8\"],[0.3333333333333333,\"#9c179e\"],[0.4444444444444444,\"#bd3786\"],[0.5555555555555556,\"#d8576b\"],[0.6666666666666666,\"#ed7953\"],[0.7777777777777778,\"#fb9f3a\"],[0.8888888888888888,\"#fdca26\"],[1.0,\"#f0f921\"]],\"type\":\"heatmapgl\"}],\"histogram\":[{\"marker\":{\"pattern\":{\"fillmode\":\"overlay\",\"size\":10,\"solidity\":0.2}},\"type\":\"histogram\"}],\"histogram2d\":[{\"colorbar\":{\"outlinewidth\":0,\"ticks\":\"\"},\"colorscale\":[[0.0,\"#0d0887\"],[0.1111111111111111,\"#46039f\"],[0.2222222222222222,\"#7201a8\"],[0.3333333333333333,\"#9c179e\"],[0.4444444444444444,\"#bd3786\"],[0.5555555555555556,\"#d8576b\"],[0.6666666666666666,\"#ed7953\"],[0.7777777777777778,\"#fb9f3a\"],[0.8888888888888888,\"#fdca26\"],[1.0,\"#f0f921\"]],\"type\":\"histogram2d\"}],\"histogram2dcontour\":[{\"colorbar\":{\"outlinewidth\":0,\"ticks\":\"\"},\"colorscale\":[[0.0,\"#0d0887\"],[0.1111111111111111,\"#46039f\"],[0.2222222222222222,\"#7201a8\"],[0.3333333333333333,\"#9c179e\"],[0.4444444444444444,\"#bd3786\"],[0.5555555555555556,\"#d8576b\"],[0.6666666666666666,\"#ed7953\"],[0.7777777777777778,\"#fb9f3a\"],[0.8888888888888888,\"#fdca26\"],[1.0,\"#f0f921\"]],\"type\":\"histogram2dcontour\"}],\"mesh3d\":[{\"colorbar\":{\"outlinewidth\":0,\"ticks\":\"\"},\"type\":\"mesh3d\"}],\"parcoords\":[{\"line\":{\"colorbar\":{\"outlinewidth\":0,\"ticks\":\"\"}},\"type\":\"parcoords\"}],\"pie\":[{\"automargin\":true,\"type\":\"pie\"}],\"scatter\":[{\"marker\":{\"colorbar\":{\"outlinewidth\":0,\"ticks\":\"\"}},\"type\":\"scatter\"}],\"scatter3d\":[{\"line\":{\"colorbar\":{\"outlinewidth\":0,\"ticks\":\"\"}},\"marker\":{\"colorbar\":{\"outlinewidth\":0,\"ticks\":\"\"}},\"type\":\"scatter3d\"}],\"scattercarpet\":[{\"marker\":{\"colorbar\":{\"outlinewidth\":0,\"ticks\":\"\"}},\"type\":\"scattercarpet\"}],\"scattergeo\":[{\"marker\":{\"colorbar\":{\"outlinewidth\":0,\"ticks\":\"\"}},\"type\":\"scattergeo\"}],\"scattergl\":[{\"marker\":{\"colorbar\":{\"outlinewidth\":0,\"ticks\":\"\"}},\"type\":\"scattergl\"}],\"scattermapbox\":[{\"marker\":{\"colorbar\":{\"outlinewidth\":0,\"ticks\":\"\"}},\"type\":\"scattermapbox\"}],\"scatterpolar\":[{\"marker\":{\"colorbar\":{\"outlinewidth\":0,\"ticks\":\"\"}},\"type\":\"scatterpolar\"}],\"scatterpolargl\":[{\"marker\":{\"colorbar\":{\"outlinewidth\":0,\"ticks\":\"\"}},\"type\":\"scatterpolargl\"}],\"scatterternary\":[{\"marker\":{\"colorbar\":{\"outlinewidth\":0,\"ticks\":\"\"}},\"type\":\"scatterternary\"}],\"surface\":[{\"colorbar\":{\"outlinewidth\":0,\"ticks\":\"\"},\"colorscale\":[[0.0,\"#0d0887\"],[0.1111111111111111,\"#46039f\"],[0.2222222222222222,\"#7201a8\"],[0.3333333333333333,\"#9c179e\"],[0.4444444444444444,\"#bd3786\"],[0.5555555555555556,\"#d8576b\"],[0.6666666666666666,\"#ed7953\"],[0.7777777777777778,\"#fb9f3a\"],[0.8888888888888888,\"#fdca26\"],[1.0,\"#f0f921\"]],\"type\":\"surface\"}],\"table\":[{\"cells\":{\"fill\":{\"color\":\"#EBF0F8\"},\"line\":{\"color\":\"white\"}},\"header\":{\"fill\":{\"color\":\"#C8D4E3\"},\"line\":{\"color\":\"white\"}},\"type\":\"table\"}]},\"layout\":{\"annotationdefaults\":{\"arrowcolor\":\"#2a3f5f\",\"arrowhead\":0,\"arrowwidth\":1},\"autotypenumbers\":\"strict\",\"coloraxis\":{\"colorbar\":{\"outlinewidth\":0,\"ticks\":\"\"}},\"colorscale\":{\"diverging\":[[0,\"#8e0152\"],[0.1,\"#c51b7d\"],[0.2,\"#de77ae\"],[0.3,\"#f1b6da\"],[0.4,\"#fde0ef\"],[0.5,\"#f7f7f7\"],[0.6,\"#e6f5d0\"],[0.7,\"#b8e186\"],[0.8,\"#7fbc41\"],[0.9,\"#4d9221\"],[1,\"#276419\"]],\"sequential\":[[0.0,\"#0d0887\"],[0.1111111111111111,\"#46039f\"],[0.2222222222222222,\"#7201a8\"],[0.3333333333333333,\"#9c179e\"],[0.4444444444444444,\"#bd3786\"],[0.5555555555555556,\"#d8576b\"],[0.6666666666666666,\"#ed7953\"],[0.7777777777777778,\"#fb9f3a\"],[0.8888888888888888,\"#fdca26\"],[1.0,\"#f0f921\"]],\"sequentialminus\":[[0.0,\"#0d0887\"],[0.1111111111111111,\"#46039f\"],[0.2222222222222222,\"#7201a8\"],[0.3333333333333333,\"#9c179e\"],[0.4444444444444444,\"#bd3786\"],[0.5555555555555556,\"#d8576b\"],[0.6666666666666666,\"#ed7953\"],[0.7777777777777778,\"#fb9f3a\"],[0.8888888888888888,\"#fdca26\"],[1.0,\"#f0f921\"]]},\"colorway\":[\"#636efa\",\"#EF553B\",\"#00cc96\",\"#ab63fa\",\"#FFA15A\",\"#19d3f3\",\"#FF6692\",\"#B6E880\",\"#FF97FF\",\"#FECB52\"],\"font\":{\"color\":\"#2a3f5f\"},\"geo\":{\"bgcolor\":\"white\",\"lakecolor\":\"white\",\"landcolor\":\"#E5ECF6\",\"showlakes\":true,\"showland\":true,\"subunitcolor\":\"white\"},\"hoverlabel\":{\"align\":\"left\"},\"hovermode\":\"closest\",\"mapbox\":{\"style\":\"light\"},\"paper_bgcolor\":\"white\",\"plot_bgcolor\":\"#E5ECF6\",\"polar\":{\"angularaxis\":{\"gridcolor\":\"white\",\"linecolor\":\"white\",\"ticks\":\"\"},\"bgcolor\":\"#E5ECF6\",\"radialaxis\":{\"gridcolor\":\"white\",\"linecolor\":\"white\",\"ticks\":\"\"}},\"scene\":{\"xaxis\":{\"backgroundcolor\":\"#E5ECF6\",\"gridcolor\":\"white\",\"gridwidth\":2,\"linecolor\":\"white\",\"showbackground\":true,\"ticks\":\"\",\"zerolinecolor\":\"white\"},\"yaxis\":{\"backgroundcolor\":\"#E5ECF6\",\"gridcolor\":\"white\",\"gridwidth\":2,\"linecolor\":\"white\",\"showbackground\":true,\"ticks\":\"\",\"zerolinecolor\":\"white\"},\"zaxis\":{\"backgroundcolor\":\"#E5ECF6\",\"gridcolor\":\"white\",\"gridwidth\":2,\"linecolor\":\"white\",\"showbackground\":true,\"ticks\":\"\",\"zerolinecolor\":\"white\"}},\"shapedefaults\":{\"line\":{\"color\":\"#2a3f5f\"}},\"ternary\":{\"aaxis\":{\"gridcolor\":\"white\",\"linecolor\":\"white\",\"ticks\":\"\"},\"baxis\":{\"gridcolor\":\"white\",\"linecolor\":\"white\",\"ticks\":\"\"},\"bgcolor\":\"#E5ECF6\",\"caxis\":{\"gridcolor\":\"white\",\"linecolor\":\"white\",\"ticks\":\"\"}},\"title\":{\"x\":0.05},\"xaxis\":{\"automargin\":true,\"gridcolor\":\"white\",\"linecolor\":\"white\",\"ticks\":\"\",\"title\":{\"standoff\":15},\"zerolinecolor\":\"white\",\"zerolinewidth\":2},\"yaxis\":{\"automargin\":true,\"gridcolor\":\"white\",\"linecolor\":\"white\",\"ticks\":\"\",\"title\":{\"standoff\":15},\"zerolinecolor\":\"white\",\"zerolinewidth\":2}}},\"xaxis\":{\"anchor\":\"y\",\"domain\":[0.0,1.0],\"title\":{\"text\":\"Timestamp\"}},\"yaxis\":{\"anchor\":\"x\",\"domain\":[0.0,1.0],\"title\":{\"text\":\"Value\"}}},                        {\"responsive\": true}                    ).then(function(){\n",
       "                            \n",
       "var gd = document.getElementById('1860331e-342b-4c23-913e-df3ae9d6ed81');\n",
       "var x = new MutationObserver(function (mutations, observer) {{\n",
       "        var display = window.getComputedStyle(gd).display;\n",
       "        if (!display || display === 'none') {{\n",
       "            console.log([gd, 'removed!']);\n",
       "            Plotly.purge(gd);\n",
       "            observer.disconnect();\n",
       "        }}\n",
       "}});\n",
       "\n",
       "// Listen for the removal of the full notebook cells\n",
       "var notebookContainer = gd.closest('#notebook-container');\n",
       "if (notebookContainer) {{\n",
       "    x.observe(notebookContainer, {childList: true});\n",
       "}}\n",
       "\n",
       "// Listen for the clearing of the current output cell\n",
       "var outputEl = gd.closest('.output');\n",
       "if (outputEl) {{\n",
       "    x.observe(outputEl, {childList: true});\n",
       "}}\n",
       "\n",
       "                        })                };                });            </script>        </div>"
      ]
     },
     "metadata": {},
     "output_type": "display_data"
    }
   ],
   "source": [
    "#df = dfs['occupied_slots']\n",
    "df = df_system[ df_system.Metric == Metric.BS.value ]\n",
    "fig = px.bar(df, x='Timestamp', y='Value')\n",
    "fig.show()"
   ]
  },
  {
   "cell_type": "markdown",
   "metadata": {},
   "source": [
    "## Requests waiting"
   ]
  },
  {
   "cell_type": "code",
   "execution_count": 57,
   "metadata": {},
   "outputs": [
    {
     "data": {
      "application/vnd.plotly.v1+json": {
       "config": {
        "plotlyServerURL": "https://plot.ly"
       },
       "data": [
        {
         "alignmentgroup": "True",
         "hovertemplate": "Timestamp=%{x}<br>Value=%{y}<extra></extra>",
         "legendgroup": "",
         "marker": {
          "color": "#636efa",
          "pattern": {
           "shape": ""
          }
         },
         "name": "",
         "offsetgroup": "",
         "orientation": "v",
         "showlegend": false,
         "textposition": "auto",
         "type": "bar",
         "x": [
          "2021-09-12T17:26:58.629235",
          "2021-09-12T17:27:58.629235",
          "2021-09-12T17:28:58.629235",
          "2021-09-12T17:29:58.629235",
          "2021-09-12T17:30:58.629235",
          "2021-09-12T17:31:58.629235",
          "2021-09-12T17:32:58.629235",
          "2021-09-12T17:33:58.629235",
          "2021-09-12T17:34:58.629235",
          "2021-09-12T17:35:58.629235",
          "2021-09-12T17:36:58.629235",
          "2021-09-12T17:37:58.629235",
          "2021-09-12T17:38:58.629235",
          "2021-09-12T17:39:58.629235",
          "2021-09-12T17:40:58.629235",
          "2021-09-12T17:41:58.629235",
          "2021-09-12T17:42:58.629235",
          "2021-09-12T17:43:58.629235",
          "2021-09-12T17:44:58.629235",
          "2021-09-12T17:45:58.629235",
          "2021-09-12T17:46:58.629235",
          "2021-09-12T17:47:58.629235",
          "2021-09-12T17:48:58.629235",
          "2021-09-12T17:49:58.629235",
          "2021-09-12T17:50:58.629235",
          "2021-09-12T17:51:58.629235",
          "2021-09-12T17:52:58.629235",
          "2021-09-12T17:53:58.629235",
          "2021-09-12T17:54:58.629235",
          "2021-09-12T17:55:58.629235",
          "2021-09-12T17:56:58.629235",
          "2021-09-12T17:57:58.629235",
          "2021-09-12T17:58:58.629235",
          "2021-09-12T17:59:58.629235",
          "2021-09-12T18:00:58.629235",
          "2021-09-12T18:01:58.629235",
          "2021-09-12T18:02:58.629235",
          "2021-09-12T18:03:58.629235",
          "2021-09-12T18:04:58.629235",
          "2021-09-12T18:05:58.629235",
          "2021-09-12T18:06:58.629235",
          "2021-09-12T18:07:58.629235",
          "2021-09-12T18:08:58.629235",
          "2021-09-12T18:09:58.629235",
          "2021-09-12T18:10:58.629235",
          "2021-09-12T18:11:58.629235",
          "2021-09-12T18:12:58.629235",
          "2021-09-12T18:13:58.629235",
          "2021-09-12T18:14:58.629235",
          "2021-09-12T18:15:58.629235",
          "2021-09-12T18:16:58.629235",
          "2021-09-12T18:17:58.629235",
          "2021-09-12T18:18:58.629235",
          "2021-09-12T18:19:58.629235",
          "2021-09-12T18:20:58.629235",
          "2021-09-12T18:21:58.629235",
          "2021-09-12T18:22:58.629235",
          "2021-09-12T18:23:58.629235",
          "2021-09-12T18:24:58.629235",
          "2021-09-12T18:25:58.629235",
          "2021-09-12T18:26:58.629235",
          "2021-09-12T18:27:58.629235",
          "2021-09-12T18:28:58.629235",
          "2021-09-12T18:29:58.629235",
          "2021-09-12T18:30:58.629235",
          "2021-09-12T18:31:58.629235",
          "2021-09-12T18:32:58.629235",
          "2021-09-12T18:33:58.629235",
          "2021-09-12T18:34:58.629235",
          "2021-09-12T18:35:58.629235",
          "2021-09-12T18:36:58.629235",
          "2021-09-12T18:37:58.629235",
          "2021-09-12T18:38:58.629235",
          "2021-09-12T18:39:58.629235",
          "2021-09-12T18:40:58.629235",
          "2021-09-12T18:41:58.629235",
          "2021-09-12T18:42:58.629235",
          "2021-09-12T18:43:58.629235",
          "2021-09-12T18:44:58.629235",
          "2021-09-12T18:45:58.629235",
          "2021-09-12T18:46:58.629235",
          "2021-09-12T18:47:58.629235",
          "2021-09-12T18:48:58.629235",
          "2021-09-12T18:49:58.629235",
          "2021-09-12T18:50:58.629235",
          "2021-09-12T18:51:58.629235",
          "2021-09-12T18:52:58.629235",
          "2021-09-12T18:53:58.629235",
          "2021-09-12T18:54:58.629235",
          "2021-09-12T18:55:58.629235",
          "2021-09-12T18:56:58.629235",
          "2021-09-12T18:57:58.629235",
          "2021-09-12T18:58:58.629235",
          "2021-09-12T18:59:58.629235",
          "2021-09-12T19:00:58.629235",
          "2021-09-12T19:01:58.629235",
          "2021-09-12T19:02:58.629235",
          "2021-09-12T19:03:58.629235",
          "2021-09-12T19:04:58.629235",
          "2021-09-12T19:05:58.629235",
          "2021-09-12T19:06:58.629235",
          "2021-09-12T19:07:58.629235",
          "2021-09-12T19:08:58.629235",
          "2021-09-12T19:09:58.629235",
          "2021-09-12T19:10:58.629235",
          "2021-09-12T19:11:58.629235",
          "2021-09-12T19:12:58.629235",
          "2021-09-12T19:13:58.629235",
          "2021-09-12T19:14:58.629235",
          "2021-09-12T19:15:58.629235",
          "2021-09-12T19:16:58.629235",
          "2021-09-12T19:17:58.629235",
          "2021-09-12T19:18:58.629235",
          "2021-09-12T19:19:58.629235",
          "2021-09-12T19:20:58.629235",
          "2021-09-12T19:21:58.629235",
          "2021-09-12T19:22:58.629235",
          "2021-09-12T19:23:58.629235",
          "2021-09-12T19:24:58.629235",
          "2021-09-12T19:25:58.629235",
          "2021-09-12T19:26:58.629235",
          "2021-09-12T19:27:58.629235",
          "2021-09-12T19:28:58.629235",
          "2021-09-12T19:29:58.629235",
          "2021-09-12T19:30:58.629235",
          "2021-09-12T19:31:58.629235",
          "2021-09-12T19:32:58.629235",
          "2021-09-12T19:33:58.629235",
          "2021-09-12T19:34:58.629235",
          "2021-09-12T19:35:58.629235",
          "2021-09-12T19:36:58.629235",
          "2021-09-12T19:37:58.629235",
          "2021-09-12T19:38:58.629235",
          "2021-09-12T19:39:58.629235",
          "2021-09-12T19:40:58.629235",
          "2021-09-12T19:41:58.629235",
          "2021-09-12T19:42:58.629235",
          "2021-09-12T19:43:58.629235",
          "2021-09-12T19:44:58.629235",
          "2021-09-12T19:45:58.629235",
          "2021-09-12T19:46:58.629235",
          "2021-09-12T19:47:58.629235",
          "2021-09-12T19:48:58.629235",
          "2021-09-12T19:49:58.629235",
          "2021-09-12T19:50:58.629235",
          "2021-09-12T19:51:58.629235",
          "2021-09-12T19:52:58.629235",
          "2021-09-12T19:53:58.629235",
          "2021-09-12T19:54:58.629235",
          "2021-09-12T19:55:58.629235",
          "2021-09-12T19:56:58.629235",
          "2021-09-12T19:57:58.629235",
          "2021-09-12T19:58:58.629235",
          "2021-09-12T19:59:58.629235",
          "2021-09-12T20:00:58.629235",
          "2021-09-12T20:01:58.629235",
          "2021-09-12T20:02:58.629235",
          "2021-09-12T20:03:58.629235",
          "2021-09-12T20:04:58.629235",
          "2021-09-12T20:05:58.629235",
          "2021-09-12T20:06:58.629235",
          "2021-09-12T20:07:58.629235",
          "2021-09-12T20:08:58.629235",
          "2021-09-12T20:09:58.629235",
          "2021-09-12T20:10:58.629235",
          "2021-09-12T20:11:58.629235",
          "2021-09-12T20:12:58.629235",
          "2021-09-12T20:13:58.629235",
          "2021-09-12T20:14:58.629235",
          "2021-09-12T20:15:58.629235",
          "2021-09-12T20:16:58.629235",
          "2021-09-12T20:17:58.629235",
          "2021-09-12T20:18:58.629235",
          "2021-09-12T20:19:58.629235",
          "2021-09-12T20:20:58.629235",
          "2021-09-12T20:21:58.629235",
          "2021-09-12T20:22:58.629235",
          "2021-09-12T20:23:58.629235",
          "2021-09-12T20:24:58.629235",
          "2021-09-12T20:25:58.629235",
          "2021-09-12T20:26:58.629235",
          "2021-09-12T20:27:58.629235",
          "2021-09-12T20:28:58.629235",
          "2021-09-12T20:29:58.629235",
          "2021-09-12T20:30:58.629235",
          "2021-09-12T20:31:58.629235",
          "2021-09-12T20:32:58.629235",
          "2021-09-12T20:33:58.629235",
          "2021-09-12T20:34:58.629235",
          "2021-09-12T20:35:58.629235",
          "2021-09-12T20:36:58.629235",
          "2021-09-12T20:37:58.629235",
          "2021-09-12T20:38:58.629235",
          "2021-09-12T20:39:58.629235",
          "2021-09-12T20:40:58.629235",
          "2021-09-12T20:41:58.629235",
          "2021-09-12T20:42:58.629235",
          "2021-09-12T20:43:58.629235",
          "2021-09-12T20:44:58.629235",
          "2021-09-12T20:45:58.629235",
          "2021-09-12T20:46:58.629235",
          "2021-09-12T20:47:58.629235",
          "2021-09-12T20:48:58.629235",
          "2021-09-12T20:49:58.629235",
          "2021-09-12T20:50:58.629235",
          "2021-09-12T20:51:58.629235",
          "2021-09-12T20:52:58.629235",
          "2021-09-12T20:53:58.629235",
          "2021-09-12T20:54:58.629235",
          "2021-09-12T20:55:58.629235",
          "2021-09-12T20:56:58.629235",
          "2021-09-12T20:57:58.629235",
          "2021-09-12T20:58:58.629235",
          "2021-09-12T20:59:58.629235",
          "2021-09-12T21:00:58.629235",
          "2021-09-12T21:01:58.629235",
          "2021-09-12T21:02:58.629235",
          "2021-09-12T21:03:58.629235",
          "2021-09-12T21:04:58.629235",
          "2021-09-12T21:05:58.629235",
          "2021-09-12T21:06:58.629235",
          "2021-09-12T21:07:58.629235",
          "2021-09-12T21:08:58.629235",
          "2021-09-12T21:09:58.629235",
          "2021-09-12T21:10:58.629235",
          "2021-09-12T21:11:58.629235",
          "2021-09-12T21:12:58.629235",
          "2021-09-12T21:13:58.629235",
          "2021-09-12T21:14:58.629235",
          "2021-09-12T21:15:58.629235",
          "2021-09-12T21:16:58.629235",
          "2021-09-12T21:17:58.629235",
          "2021-09-12T21:18:58.629235",
          "2021-09-12T21:19:58.629235",
          "2021-09-12T21:20:58.629235",
          "2021-09-12T21:21:58.629235",
          "2021-09-12T21:22:58.629235",
          "2021-09-12T21:23:58.629235",
          "2021-09-12T21:24:58.629235",
          "2021-09-12T21:25:58.629235",
          "2021-09-12T21:26:58.629235",
          "2021-09-12T21:27:58.629235",
          "2021-09-12T21:28:58.629235",
          "2021-09-12T21:29:58.629235",
          "2021-09-12T21:30:58.629235",
          "2021-09-12T21:31:58.629235",
          "2021-09-12T21:32:58.629235",
          "2021-09-12T21:33:58.629235",
          "2021-09-12T21:34:58.629235",
          "2021-09-12T21:35:58.629235",
          "2021-09-12T21:36:58.629235",
          "2021-09-12T21:37:58.629235",
          "2021-09-12T21:38:58.629235",
          "2021-09-12T21:39:58.629235",
          "2021-09-12T21:40:58.629235",
          "2021-09-12T21:41:58.629235",
          "2021-09-12T21:42:58.629235",
          "2021-09-12T21:43:58.629235",
          "2021-09-12T21:44:58.629235",
          "2021-09-12T21:45:58.629235",
          "2021-09-12T21:46:58.629235",
          "2021-09-12T21:47:58.629235",
          "2021-09-12T21:48:58.629235",
          "2021-09-12T21:49:58.629235",
          "2021-09-12T21:50:58.629235",
          "2021-09-12T21:51:58.629235",
          "2021-09-12T21:52:58.629235",
          "2021-09-12T21:53:58.629235",
          "2021-09-12T21:54:58.629235",
          "2021-09-12T21:55:58.629235",
          "2021-09-12T21:56:58.629235",
          "2021-09-12T21:57:58.629235",
          "2021-09-12T21:58:58.629235",
          "2021-09-12T21:59:58.629235",
          "2021-09-12T22:00:58.629235",
          "2021-09-12T22:01:58.629235",
          "2021-09-12T22:02:58.629235",
          "2021-09-12T22:03:58.629235",
          "2021-09-12T22:04:58.629235",
          "2021-09-12T22:05:58.629235",
          "2021-09-12T22:06:58.629235",
          "2021-09-12T22:07:58.629235",
          "2021-09-12T22:08:58.629235",
          "2021-09-12T22:09:58.629235",
          "2021-09-12T22:10:58.629235",
          "2021-09-12T22:11:58.629235",
          "2021-09-12T22:12:58.629235",
          "2021-09-12T22:13:58.629235",
          "2021-09-12T22:14:58.629235",
          "2021-09-12T22:15:58.629235",
          "2021-09-12T22:16:58.629235",
          "2021-09-12T22:17:58.629235",
          "2021-09-12T22:18:58.629235",
          "2021-09-12T22:19:58.629235",
          "2021-09-12T22:20:58.629235",
          "2021-09-12T22:21:58.629235",
          "2021-09-12T22:22:58.629235",
          "2021-09-12T22:23:58.629235",
          "2021-09-12T22:24:58.629235",
          "2021-09-12T22:25:58.629235",
          "2021-09-12T22:26:58.629235",
          "2021-09-12T22:27:58.629235",
          "2021-09-12T22:28:58.629235",
          "2021-09-12T22:29:58.629235",
          "2021-09-12T22:30:58.629235",
          "2021-09-12T22:31:58.629235",
          "2021-09-12T22:32:58.629235",
          "2021-09-12T22:33:58.629235",
          "2021-09-12T22:34:58.629235",
          "2021-09-12T22:35:58.629235",
          "2021-09-12T22:36:58.629235",
          "2021-09-12T22:37:58.629235",
          "2021-09-12T22:38:58.629235",
          "2021-09-12T22:39:58.629235",
          "2021-09-12T22:40:58.629235",
          "2021-09-12T22:41:58.629235",
          "2021-09-12T22:42:58.629235",
          "2021-09-12T22:43:58.629235",
          "2021-09-12T22:44:58.629235",
          "2021-09-12T22:45:58.629235",
          "2021-09-12T22:46:58.629235",
          "2021-09-12T22:47:58.629235",
          "2021-09-12T22:48:58.629235",
          "2021-09-12T22:49:58.629235",
          "2021-09-12T22:50:58.629235",
          "2021-09-12T22:51:58.629235",
          "2021-09-12T22:52:58.629235",
          "2021-09-12T22:53:58.629235",
          "2021-09-12T22:54:58.629235",
          "2021-09-12T22:55:58.629235",
          "2021-09-12T22:56:58.629235",
          "2021-09-12T22:57:58.629235",
          "2021-09-12T22:58:58.629235",
          "2021-09-12T22:59:58.629235",
          "2021-09-12T23:00:58.629235",
          "2021-09-12T23:01:58.629235",
          "2021-09-12T23:02:58.629235",
          "2021-09-12T23:03:58.629235",
          "2021-09-12T23:04:58.629235",
          "2021-09-12T23:05:58.629235",
          "2021-09-12T23:06:58.629235",
          "2021-09-12T23:07:58.629235",
          "2021-09-12T23:08:58.629235",
          "2021-09-12T23:09:58.629235",
          "2021-09-12T23:10:58.629235",
          "2021-09-12T23:11:58.629235",
          "2021-09-12T23:12:58.629235",
          "2021-09-12T23:13:58.629235",
          "2021-09-12T23:14:58.629235",
          "2021-09-12T23:15:58.629235",
          "2021-09-12T23:16:58.629235",
          "2021-09-12T23:17:58.629235",
          "2021-09-12T23:18:58.629235",
          "2021-09-12T23:19:58.629235",
          "2021-09-12T23:20:58.629235",
          "2021-09-12T23:21:58.629235",
          "2021-09-12T23:22:58.629235",
          "2021-09-12T23:23:58.629235",
          "2021-09-12T23:24:58.629235",
          "2021-09-12T23:25:58.629235"
         ],
         "xaxis": "x",
         "y": [
          0,
          0,
          1,
          2,
          3,
          3,
          3,
          4,
          5,
          6,
          6,
          6,
          7,
          8,
          9,
          9,
          10,
          12,
          13,
          14,
          15,
          17,
          19,
          20,
          21,
          20,
          22,
          24,
          25,
          26,
          26,
          27,
          29,
          30,
          31,
          30,
          31,
          32,
          33,
          34,
          33,
          35,
          36,
          37,
          38,
          35,
          37,
          38,
          39,
          40,
          39,
          42,
          45,
          46,
          47,
          47,
          50,
          51,
          52,
          53,
          53,
          53,
          53,
          52,
          52,
          52,
          53,
          54,
          53,
          53,
          52,
          52,
          52,
          52,
          53,
          52,
          50,
          50,
          51,
          51,
          49,
          48,
          49,
          49,
          49,
          49,
          50,
          50,
          50,
          50,
          50,
          50,
          50,
          50,
          50,
          51,
          51,
          51,
          51,
          51,
          50,
          51,
          52,
          52,
          52,
          51,
          52,
          52,
          52,
          52,
          50,
          50,
          50,
          50,
          50,
          49,
          49,
          49,
          49,
          49,
          47,
          47,
          47,
          47,
          47,
          47,
          48,
          48,
          48,
          48,
          49,
          49,
          49,
          49,
          49,
          49,
          49,
          49,
          49,
          49,
          49,
          49,
          48,
          48,
          48,
          48,
          49,
          48,
          48,
          48,
          48,
          48,
          45,
          45,
          45,
          42,
          42,
          42,
          44,
          44,
          44,
          46,
          46,
          46,
          46,
          46,
          46,
          47,
          47,
          47,
          46,
          46,
          45,
          45,
          45,
          46,
          48,
          47,
          47,
          47,
          48,
          48,
          37,
          37,
          27,
          27,
          17,
          12,
          12,
          6,
          6,
          0,
          5,
          1,
          8,
          6,
          6,
          11,
          11,
          15,
          16,
          20,
          19,
          15,
          19,
          14,
          16,
          17,
          17,
          19,
          23,
          22,
          25,
          25,
          23,
          22,
          21,
          21,
          20,
          16,
          14,
          13,
          13,
          12,
          8,
          7,
          6,
          6,
          5,
          1,
          0,
          0,
          0,
          0,
          0,
          0,
          0,
          0,
          0,
          0,
          0,
          0,
          0,
          0,
          0,
          0,
          0,
          0,
          0,
          0,
          0,
          0,
          0,
          0,
          6,
          9,
          9,
          9,
          7,
          5,
          7,
          7,
          10,
          11,
          11,
          13,
          13,
          13,
          10,
          13,
          12,
          14,
          16,
          13,
          12,
          8,
          8,
          7,
          9,
          7,
          8,
          8,
          6,
          6,
          5,
          5,
          4,
          5,
          4,
          6,
          7,
          7,
          2,
          4,
          6,
          6,
          6,
          6,
          4,
          6,
          2,
          3,
          5,
          7,
          8,
          7,
          7,
          8,
          7,
          7,
          9,
          8,
          9,
          8,
          9,
          9,
          9,
          13,
          13,
          12,
          11,
          12,
          14,
          16,
          16,
          15,
          14,
          14,
          16,
          16,
          19,
          19,
          16,
          16,
          13,
          13,
          13,
          13,
          13,
          13,
          11,
          9,
          9,
          8,
          6,
          6,
          4,
          2,
          1,
          0,
          0,
          0,
          0,
          0,
          0,
          0,
          0,
          0,
          0,
          0
         ],
         "yaxis": "y"
        }
       ],
       "layout": {
        "barmode": "relative",
        "legend": {
         "tracegroupgap": 0
        },
        "margin": {
         "t": 60
        },
        "template": {
         "data": {
          "bar": [
           {
            "error_x": {
             "color": "#2a3f5f"
            },
            "error_y": {
             "color": "#2a3f5f"
            },
            "marker": {
             "line": {
              "color": "#E5ECF6",
              "width": 0.5
             },
             "pattern": {
              "fillmode": "overlay",
              "size": 10,
              "solidity": 0.2
             }
            },
            "type": "bar"
           }
          ],
          "barpolar": [
           {
            "marker": {
             "line": {
              "color": "#E5ECF6",
              "width": 0.5
             },
             "pattern": {
              "fillmode": "overlay",
              "size": 10,
              "solidity": 0.2
             }
            },
            "type": "barpolar"
           }
          ],
          "carpet": [
           {
            "aaxis": {
             "endlinecolor": "#2a3f5f",
             "gridcolor": "white",
             "linecolor": "white",
             "minorgridcolor": "white",
             "startlinecolor": "#2a3f5f"
            },
            "baxis": {
             "endlinecolor": "#2a3f5f",
             "gridcolor": "white",
             "linecolor": "white",
             "minorgridcolor": "white",
             "startlinecolor": "#2a3f5f"
            },
            "type": "carpet"
           }
          ],
          "choropleth": [
           {
            "colorbar": {
             "outlinewidth": 0,
             "ticks": ""
            },
            "type": "choropleth"
           }
          ],
          "contour": [
           {
            "colorbar": {
             "outlinewidth": 0,
             "ticks": ""
            },
            "colorscale": [
             [
              0,
              "#0d0887"
             ],
             [
              0.1111111111111111,
              "#46039f"
             ],
             [
              0.2222222222222222,
              "#7201a8"
             ],
             [
              0.3333333333333333,
              "#9c179e"
             ],
             [
              0.4444444444444444,
              "#bd3786"
             ],
             [
              0.5555555555555556,
              "#d8576b"
             ],
             [
              0.6666666666666666,
              "#ed7953"
             ],
             [
              0.7777777777777778,
              "#fb9f3a"
             ],
             [
              0.8888888888888888,
              "#fdca26"
             ],
             [
              1,
              "#f0f921"
             ]
            ],
            "type": "contour"
           }
          ],
          "contourcarpet": [
           {
            "colorbar": {
             "outlinewidth": 0,
             "ticks": ""
            },
            "type": "contourcarpet"
           }
          ],
          "heatmap": [
           {
            "colorbar": {
             "outlinewidth": 0,
             "ticks": ""
            },
            "colorscale": [
             [
              0,
              "#0d0887"
             ],
             [
              0.1111111111111111,
              "#46039f"
             ],
             [
              0.2222222222222222,
              "#7201a8"
             ],
             [
              0.3333333333333333,
              "#9c179e"
             ],
             [
              0.4444444444444444,
              "#bd3786"
             ],
             [
              0.5555555555555556,
              "#d8576b"
             ],
             [
              0.6666666666666666,
              "#ed7953"
             ],
             [
              0.7777777777777778,
              "#fb9f3a"
             ],
             [
              0.8888888888888888,
              "#fdca26"
             ],
             [
              1,
              "#f0f921"
             ]
            ],
            "type": "heatmap"
           }
          ],
          "heatmapgl": [
           {
            "colorbar": {
             "outlinewidth": 0,
             "ticks": ""
            },
            "colorscale": [
             [
              0,
              "#0d0887"
             ],
             [
              0.1111111111111111,
              "#46039f"
             ],
             [
              0.2222222222222222,
              "#7201a8"
             ],
             [
              0.3333333333333333,
              "#9c179e"
             ],
             [
              0.4444444444444444,
              "#bd3786"
             ],
             [
              0.5555555555555556,
              "#d8576b"
             ],
             [
              0.6666666666666666,
              "#ed7953"
             ],
             [
              0.7777777777777778,
              "#fb9f3a"
             ],
             [
              0.8888888888888888,
              "#fdca26"
             ],
             [
              1,
              "#f0f921"
             ]
            ],
            "type": "heatmapgl"
           }
          ],
          "histogram": [
           {
            "marker": {
             "pattern": {
              "fillmode": "overlay",
              "size": 10,
              "solidity": 0.2
             }
            },
            "type": "histogram"
           }
          ],
          "histogram2d": [
           {
            "colorbar": {
             "outlinewidth": 0,
             "ticks": ""
            },
            "colorscale": [
             [
              0,
              "#0d0887"
             ],
             [
              0.1111111111111111,
              "#46039f"
             ],
             [
              0.2222222222222222,
              "#7201a8"
             ],
             [
              0.3333333333333333,
              "#9c179e"
             ],
             [
              0.4444444444444444,
              "#bd3786"
             ],
             [
              0.5555555555555556,
              "#d8576b"
             ],
             [
              0.6666666666666666,
              "#ed7953"
             ],
             [
              0.7777777777777778,
              "#fb9f3a"
             ],
             [
              0.8888888888888888,
              "#fdca26"
             ],
             [
              1,
              "#f0f921"
             ]
            ],
            "type": "histogram2d"
           }
          ],
          "histogram2dcontour": [
           {
            "colorbar": {
             "outlinewidth": 0,
             "ticks": ""
            },
            "colorscale": [
             [
              0,
              "#0d0887"
             ],
             [
              0.1111111111111111,
              "#46039f"
             ],
             [
              0.2222222222222222,
              "#7201a8"
             ],
             [
              0.3333333333333333,
              "#9c179e"
             ],
             [
              0.4444444444444444,
              "#bd3786"
             ],
             [
              0.5555555555555556,
              "#d8576b"
             ],
             [
              0.6666666666666666,
              "#ed7953"
             ],
             [
              0.7777777777777778,
              "#fb9f3a"
             ],
             [
              0.8888888888888888,
              "#fdca26"
             ],
             [
              1,
              "#f0f921"
             ]
            ],
            "type": "histogram2dcontour"
           }
          ],
          "mesh3d": [
           {
            "colorbar": {
             "outlinewidth": 0,
             "ticks": ""
            },
            "type": "mesh3d"
           }
          ],
          "parcoords": [
           {
            "line": {
             "colorbar": {
              "outlinewidth": 0,
              "ticks": ""
             }
            },
            "type": "parcoords"
           }
          ],
          "pie": [
           {
            "automargin": true,
            "type": "pie"
           }
          ],
          "scatter": [
           {
            "marker": {
             "colorbar": {
              "outlinewidth": 0,
              "ticks": ""
             }
            },
            "type": "scatter"
           }
          ],
          "scatter3d": [
           {
            "line": {
             "colorbar": {
              "outlinewidth": 0,
              "ticks": ""
             }
            },
            "marker": {
             "colorbar": {
              "outlinewidth": 0,
              "ticks": ""
             }
            },
            "type": "scatter3d"
           }
          ],
          "scattercarpet": [
           {
            "marker": {
             "colorbar": {
              "outlinewidth": 0,
              "ticks": ""
             }
            },
            "type": "scattercarpet"
           }
          ],
          "scattergeo": [
           {
            "marker": {
             "colorbar": {
              "outlinewidth": 0,
              "ticks": ""
             }
            },
            "type": "scattergeo"
           }
          ],
          "scattergl": [
           {
            "marker": {
             "colorbar": {
              "outlinewidth": 0,
              "ticks": ""
             }
            },
            "type": "scattergl"
           }
          ],
          "scattermapbox": [
           {
            "marker": {
             "colorbar": {
              "outlinewidth": 0,
              "ticks": ""
             }
            },
            "type": "scattermapbox"
           }
          ],
          "scatterpolar": [
           {
            "marker": {
             "colorbar": {
              "outlinewidth": 0,
              "ticks": ""
             }
            },
            "type": "scatterpolar"
           }
          ],
          "scatterpolargl": [
           {
            "marker": {
             "colorbar": {
              "outlinewidth": 0,
              "ticks": ""
             }
            },
            "type": "scatterpolargl"
           }
          ],
          "scatterternary": [
           {
            "marker": {
             "colorbar": {
              "outlinewidth": 0,
              "ticks": ""
             }
            },
            "type": "scatterternary"
           }
          ],
          "surface": [
           {
            "colorbar": {
             "outlinewidth": 0,
             "ticks": ""
            },
            "colorscale": [
             [
              0,
              "#0d0887"
             ],
             [
              0.1111111111111111,
              "#46039f"
             ],
             [
              0.2222222222222222,
              "#7201a8"
             ],
             [
              0.3333333333333333,
              "#9c179e"
             ],
             [
              0.4444444444444444,
              "#bd3786"
             ],
             [
              0.5555555555555556,
              "#d8576b"
             ],
             [
              0.6666666666666666,
              "#ed7953"
             ],
             [
              0.7777777777777778,
              "#fb9f3a"
             ],
             [
              0.8888888888888888,
              "#fdca26"
             ],
             [
              1,
              "#f0f921"
             ]
            ],
            "type": "surface"
           }
          ],
          "table": [
           {
            "cells": {
             "fill": {
              "color": "#EBF0F8"
             },
             "line": {
              "color": "white"
             }
            },
            "header": {
             "fill": {
              "color": "#C8D4E3"
             },
             "line": {
              "color": "white"
             }
            },
            "type": "table"
           }
          ]
         },
         "layout": {
          "annotationdefaults": {
           "arrowcolor": "#2a3f5f",
           "arrowhead": 0,
           "arrowwidth": 1
          },
          "autotypenumbers": "strict",
          "coloraxis": {
           "colorbar": {
            "outlinewidth": 0,
            "ticks": ""
           }
          },
          "colorscale": {
           "diverging": [
            [
             0,
             "#8e0152"
            ],
            [
             0.1,
             "#c51b7d"
            ],
            [
             0.2,
             "#de77ae"
            ],
            [
             0.3,
             "#f1b6da"
            ],
            [
             0.4,
             "#fde0ef"
            ],
            [
             0.5,
             "#f7f7f7"
            ],
            [
             0.6,
             "#e6f5d0"
            ],
            [
             0.7,
             "#b8e186"
            ],
            [
             0.8,
             "#7fbc41"
            ],
            [
             0.9,
             "#4d9221"
            ],
            [
             1,
             "#276419"
            ]
           ],
           "sequential": [
            [
             0,
             "#0d0887"
            ],
            [
             0.1111111111111111,
             "#46039f"
            ],
            [
             0.2222222222222222,
             "#7201a8"
            ],
            [
             0.3333333333333333,
             "#9c179e"
            ],
            [
             0.4444444444444444,
             "#bd3786"
            ],
            [
             0.5555555555555556,
             "#d8576b"
            ],
            [
             0.6666666666666666,
             "#ed7953"
            ],
            [
             0.7777777777777778,
             "#fb9f3a"
            ],
            [
             0.8888888888888888,
             "#fdca26"
            ],
            [
             1,
             "#f0f921"
            ]
           ],
           "sequentialminus": [
            [
             0,
             "#0d0887"
            ],
            [
             0.1111111111111111,
             "#46039f"
            ],
            [
             0.2222222222222222,
             "#7201a8"
            ],
            [
             0.3333333333333333,
             "#9c179e"
            ],
            [
             0.4444444444444444,
             "#bd3786"
            ],
            [
             0.5555555555555556,
             "#d8576b"
            ],
            [
             0.6666666666666666,
             "#ed7953"
            ],
            [
             0.7777777777777778,
             "#fb9f3a"
            ],
            [
             0.8888888888888888,
             "#fdca26"
            ],
            [
             1,
             "#f0f921"
            ]
           ]
          },
          "colorway": [
           "#636efa",
           "#EF553B",
           "#00cc96",
           "#ab63fa",
           "#FFA15A",
           "#19d3f3",
           "#FF6692",
           "#B6E880",
           "#FF97FF",
           "#FECB52"
          ],
          "font": {
           "color": "#2a3f5f"
          },
          "geo": {
           "bgcolor": "white",
           "lakecolor": "white",
           "landcolor": "#E5ECF6",
           "showlakes": true,
           "showland": true,
           "subunitcolor": "white"
          },
          "hoverlabel": {
           "align": "left"
          },
          "hovermode": "closest",
          "mapbox": {
           "style": "light"
          },
          "paper_bgcolor": "white",
          "plot_bgcolor": "#E5ECF6",
          "polar": {
           "angularaxis": {
            "gridcolor": "white",
            "linecolor": "white",
            "ticks": ""
           },
           "bgcolor": "#E5ECF6",
           "radialaxis": {
            "gridcolor": "white",
            "linecolor": "white",
            "ticks": ""
           }
          },
          "scene": {
           "xaxis": {
            "backgroundcolor": "#E5ECF6",
            "gridcolor": "white",
            "gridwidth": 2,
            "linecolor": "white",
            "showbackground": true,
            "ticks": "",
            "zerolinecolor": "white"
           },
           "yaxis": {
            "backgroundcolor": "#E5ECF6",
            "gridcolor": "white",
            "gridwidth": 2,
            "linecolor": "white",
            "showbackground": true,
            "ticks": "",
            "zerolinecolor": "white"
           },
           "zaxis": {
            "backgroundcolor": "#E5ECF6",
            "gridcolor": "white",
            "gridwidth": 2,
            "linecolor": "white",
            "showbackground": true,
            "ticks": "",
            "zerolinecolor": "white"
           }
          },
          "shapedefaults": {
           "line": {
            "color": "#2a3f5f"
           }
          },
          "ternary": {
           "aaxis": {
            "gridcolor": "white",
            "linecolor": "white",
            "ticks": ""
           },
           "baxis": {
            "gridcolor": "white",
            "linecolor": "white",
            "ticks": ""
           },
           "bgcolor": "#E5ECF6",
           "caxis": {
            "gridcolor": "white",
            "linecolor": "white",
            "ticks": ""
           }
          },
          "title": {
           "x": 0.05
          },
          "xaxis": {
           "automargin": true,
           "gridcolor": "white",
           "linecolor": "white",
           "ticks": "",
           "title": {
            "standoff": 15
           },
           "zerolinecolor": "white",
           "zerolinewidth": 2
          },
          "yaxis": {
           "automargin": true,
           "gridcolor": "white",
           "linecolor": "white",
           "ticks": "",
           "title": {
            "standoff": 15
           },
           "zerolinecolor": "white",
           "zerolinewidth": 2
          }
         }
        },
        "xaxis": {
         "anchor": "y",
         "domain": [
          0,
          1
         ],
         "title": {
          "text": "Timestamp"
         }
        },
        "yaxis": {
         "anchor": "x",
         "domain": [
          0,
          1
         ],
         "title": {
          "text": "Value"
         }
        }
       }
      },
      "text/html": [
       "<div>                            <div id=\"ad1ee5ae-e805-42e0-a24e-176262e8a430\" class=\"plotly-graph-div\" style=\"height:525px; width:100%;\"></div>            <script type=\"text/javascript\">                require([\"plotly\"], function(Plotly) {                    window.PLOTLYENV=window.PLOTLYENV || {};                                    if (document.getElementById(\"ad1ee5ae-e805-42e0-a24e-176262e8a430\")) {                    Plotly.newPlot(                        \"ad1ee5ae-e805-42e0-a24e-176262e8a430\",                        [{\"alignmentgroup\":\"True\",\"hovertemplate\":\"Timestamp=%{x}<br>Value=%{y}<extra></extra>\",\"legendgroup\":\"\",\"marker\":{\"color\":\"#636efa\",\"pattern\":{\"shape\":\"\"}},\"name\":\"\",\"offsetgroup\":\"\",\"orientation\":\"v\",\"showlegend\":false,\"textposition\":\"auto\",\"type\":\"bar\",\"x\":[\"2021-09-12T17:26:58.629235\",\"2021-09-12T17:27:58.629235\",\"2021-09-12T17:28:58.629235\",\"2021-09-12T17:29:58.629235\",\"2021-09-12T17:30:58.629235\",\"2021-09-12T17:31:58.629235\",\"2021-09-12T17:32:58.629235\",\"2021-09-12T17:33:58.629235\",\"2021-09-12T17:34:58.629235\",\"2021-09-12T17:35:58.629235\",\"2021-09-12T17:36:58.629235\",\"2021-09-12T17:37:58.629235\",\"2021-09-12T17:38:58.629235\",\"2021-09-12T17:39:58.629235\",\"2021-09-12T17:40:58.629235\",\"2021-09-12T17:41:58.629235\",\"2021-09-12T17:42:58.629235\",\"2021-09-12T17:43:58.629235\",\"2021-09-12T17:44:58.629235\",\"2021-09-12T17:45:58.629235\",\"2021-09-12T17:46:58.629235\",\"2021-09-12T17:47:58.629235\",\"2021-09-12T17:48:58.629235\",\"2021-09-12T17:49:58.629235\",\"2021-09-12T17:50:58.629235\",\"2021-09-12T17:51:58.629235\",\"2021-09-12T17:52:58.629235\",\"2021-09-12T17:53:58.629235\",\"2021-09-12T17:54:58.629235\",\"2021-09-12T17:55:58.629235\",\"2021-09-12T17:56:58.629235\",\"2021-09-12T17:57:58.629235\",\"2021-09-12T17:58:58.629235\",\"2021-09-12T17:59:58.629235\",\"2021-09-12T18:00:58.629235\",\"2021-09-12T18:01:58.629235\",\"2021-09-12T18:02:58.629235\",\"2021-09-12T18:03:58.629235\",\"2021-09-12T18:04:58.629235\",\"2021-09-12T18:05:58.629235\",\"2021-09-12T18:06:58.629235\",\"2021-09-12T18:07:58.629235\",\"2021-09-12T18:08:58.629235\",\"2021-09-12T18:09:58.629235\",\"2021-09-12T18:10:58.629235\",\"2021-09-12T18:11:58.629235\",\"2021-09-12T18:12:58.629235\",\"2021-09-12T18:13:58.629235\",\"2021-09-12T18:14:58.629235\",\"2021-09-12T18:15:58.629235\",\"2021-09-12T18:16:58.629235\",\"2021-09-12T18:17:58.629235\",\"2021-09-12T18:18:58.629235\",\"2021-09-12T18:19:58.629235\",\"2021-09-12T18:20:58.629235\",\"2021-09-12T18:21:58.629235\",\"2021-09-12T18:22:58.629235\",\"2021-09-12T18:23:58.629235\",\"2021-09-12T18:24:58.629235\",\"2021-09-12T18:25:58.629235\",\"2021-09-12T18:26:58.629235\",\"2021-09-12T18:27:58.629235\",\"2021-09-12T18:28:58.629235\",\"2021-09-12T18:29:58.629235\",\"2021-09-12T18:30:58.629235\",\"2021-09-12T18:31:58.629235\",\"2021-09-12T18:32:58.629235\",\"2021-09-12T18:33:58.629235\",\"2021-09-12T18:34:58.629235\",\"2021-09-12T18:35:58.629235\",\"2021-09-12T18:36:58.629235\",\"2021-09-12T18:37:58.629235\",\"2021-09-12T18:38:58.629235\",\"2021-09-12T18:39:58.629235\",\"2021-09-12T18:40:58.629235\",\"2021-09-12T18:41:58.629235\",\"2021-09-12T18:42:58.629235\",\"2021-09-12T18:43:58.629235\",\"2021-09-12T18:44:58.629235\",\"2021-09-12T18:45:58.629235\",\"2021-09-12T18:46:58.629235\",\"2021-09-12T18:47:58.629235\",\"2021-09-12T18:48:58.629235\",\"2021-09-12T18:49:58.629235\",\"2021-09-12T18:50:58.629235\",\"2021-09-12T18:51:58.629235\",\"2021-09-12T18:52:58.629235\",\"2021-09-12T18:53:58.629235\",\"2021-09-12T18:54:58.629235\",\"2021-09-12T18:55:58.629235\",\"2021-09-12T18:56:58.629235\",\"2021-09-12T18:57:58.629235\",\"2021-09-12T18:58:58.629235\",\"2021-09-12T18:59:58.629235\",\"2021-09-12T19:00:58.629235\",\"2021-09-12T19:01:58.629235\",\"2021-09-12T19:02:58.629235\",\"2021-09-12T19:03:58.629235\",\"2021-09-12T19:04:58.629235\",\"2021-09-12T19:05:58.629235\",\"2021-09-12T19:06:58.629235\",\"2021-09-12T19:07:58.629235\",\"2021-09-12T19:08:58.629235\",\"2021-09-12T19:09:58.629235\",\"2021-09-12T19:10:58.629235\",\"2021-09-12T19:11:58.629235\",\"2021-09-12T19:12:58.629235\",\"2021-09-12T19:13:58.629235\",\"2021-09-12T19:14:58.629235\",\"2021-09-12T19:15:58.629235\",\"2021-09-12T19:16:58.629235\",\"2021-09-12T19:17:58.629235\",\"2021-09-12T19:18:58.629235\",\"2021-09-12T19:19:58.629235\",\"2021-09-12T19:20:58.629235\",\"2021-09-12T19:21:58.629235\",\"2021-09-12T19:22:58.629235\",\"2021-09-12T19:23:58.629235\",\"2021-09-12T19:24:58.629235\",\"2021-09-12T19:25:58.629235\",\"2021-09-12T19:26:58.629235\",\"2021-09-12T19:27:58.629235\",\"2021-09-12T19:28:58.629235\",\"2021-09-12T19:29:58.629235\",\"2021-09-12T19:30:58.629235\",\"2021-09-12T19:31:58.629235\",\"2021-09-12T19:32:58.629235\",\"2021-09-12T19:33:58.629235\",\"2021-09-12T19:34:58.629235\",\"2021-09-12T19:35:58.629235\",\"2021-09-12T19:36:58.629235\",\"2021-09-12T19:37:58.629235\",\"2021-09-12T19:38:58.629235\",\"2021-09-12T19:39:58.629235\",\"2021-09-12T19:40:58.629235\",\"2021-09-12T19:41:58.629235\",\"2021-09-12T19:42:58.629235\",\"2021-09-12T19:43:58.629235\",\"2021-09-12T19:44:58.629235\",\"2021-09-12T19:45:58.629235\",\"2021-09-12T19:46:58.629235\",\"2021-09-12T19:47:58.629235\",\"2021-09-12T19:48:58.629235\",\"2021-09-12T19:49:58.629235\",\"2021-09-12T19:50:58.629235\",\"2021-09-12T19:51:58.629235\",\"2021-09-12T19:52:58.629235\",\"2021-09-12T19:53:58.629235\",\"2021-09-12T19:54:58.629235\",\"2021-09-12T19:55:58.629235\",\"2021-09-12T19:56:58.629235\",\"2021-09-12T19:57:58.629235\",\"2021-09-12T19:58:58.629235\",\"2021-09-12T19:59:58.629235\",\"2021-09-12T20:00:58.629235\",\"2021-09-12T20:01:58.629235\",\"2021-09-12T20:02:58.629235\",\"2021-09-12T20:03:58.629235\",\"2021-09-12T20:04:58.629235\",\"2021-09-12T20:05:58.629235\",\"2021-09-12T20:06:58.629235\",\"2021-09-12T20:07:58.629235\",\"2021-09-12T20:08:58.629235\",\"2021-09-12T20:09:58.629235\",\"2021-09-12T20:10:58.629235\",\"2021-09-12T20:11:58.629235\",\"2021-09-12T20:12:58.629235\",\"2021-09-12T20:13:58.629235\",\"2021-09-12T20:14:58.629235\",\"2021-09-12T20:15:58.629235\",\"2021-09-12T20:16:58.629235\",\"2021-09-12T20:17:58.629235\",\"2021-09-12T20:18:58.629235\",\"2021-09-12T20:19:58.629235\",\"2021-09-12T20:20:58.629235\",\"2021-09-12T20:21:58.629235\",\"2021-09-12T20:22:58.629235\",\"2021-09-12T20:23:58.629235\",\"2021-09-12T20:24:58.629235\",\"2021-09-12T20:25:58.629235\",\"2021-09-12T20:26:58.629235\",\"2021-09-12T20:27:58.629235\",\"2021-09-12T20:28:58.629235\",\"2021-09-12T20:29:58.629235\",\"2021-09-12T20:30:58.629235\",\"2021-09-12T20:31:58.629235\",\"2021-09-12T20:32:58.629235\",\"2021-09-12T20:33:58.629235\",\"2021-09-12T20:34:58.629235\",\"2021-09-12T20:35:58.629235\",\"2021-09-12T20:36:58.629235\",\"2021-09-12T20:37:58.629235\",\"2021-09-12T20:38:58.629235\",\"2021-09-12T20:39:58.629235\",\"2021-09-12T20:40:58.629235\",\"2021-09-12T20:41:58.629235\",\"2021-09-12T20:42:58.629235\",\"2021-09-12T20:43:58.629235\",\"2021-09-12T20:44:58.629235\",\"2021-09-12T20:45:58.629235\",\"2021-09-12T20:46:58.629235\",\"2021-09-12T20:47:58.629235\",\"2021-09-12T20:48:58.629235\",\"2021-09-12T20:49:58.629235\",\"2021-09-12T20:50:58.629235\",\"2021-09-12T20:51:58.629235\",\"2021-09-12T20:52:58.629235\",\"2021-09-12T20:53:58.629235\",\"2021-09-12T20:54:58.629235\",\"2021-09-12T20:55:58.629235\",\"2021-09-12T20:56:58.629235\",\"2021-09-12T20:57:58.629235\",\"2021-09-12T20:58:58.629235\",\"2021-09-12T20:59:58.629235\",\"2021-09-12T21:00:58.629235\",\"2021-09-12T21:01:58.629235\",\"2021-09-12T21:02:58.629235\",\"2021-09-12T21:03:58.629235\",\"2021-09-12T21:04:58.629235\",\"2021-09-12T21:05:58.629235\",\"2021-09-12T21:06:58.629235\",\"2021-09-12T21:07:58.629235\",\"2021-09-12T21:08:58.629235\",\"2021-09-12T21:09:58.629235\",\"2021-09-12T21:10:58.629235\",\"2021-09-12T21:11:58.629235\",\"2021-09-12T21:12:58.629235\",\"2021-09-12T21:13:58.629235\",\"2021-09-12T21:14:58.629235\",\"2021-09-12T21:15:58.629235\",\"2021-09-12T21:16:58.629235\",\"2021-09-12T21:17:58.629235\",\"2021-09-12T21:18:58.629235\",\"2021-09-12T21:19:58.629235\",\"2021-09-12T21:20:58.629235\",\"2021-09-12T21:21:58.629235\",\"2021-09-12T21:22:58.629235\",\"2021-09-12T21:23:58.629235\",\"2021-09-12T21:24:58.629235\",\"2021-09-12T21:25:58.629235\",\"2021-09-12T21:26:58.629235\",\"2021-09-12T21:27:58.629235\",\"2021-09-12T21:28:58.629235\",\"2021-09-12T21:29:58.629235\",\"2021-09-12T21:30:58.629235\",\"2021-09-12T21:31:58.629235\",\"2021-09-12T21:32:58.629235\",\"2021-09-12T21:33:58.629235\",\"2021-09-12T21:34:58.629235\",\"2021-09-12T21:35:58.629235\",\"2021-09-12T21:36:58.629235\",\"2021-09-12T21:37:58.629235\",\"2021-09-12T21:38:58.629235\",\"2021-09-12T21:39:58.629235\",\"2021-09-12T21:40:58.629235\",\"2021-09-12T21:41:58.629235\",\"2021-09-12T21:42:58.629235\",\"2021-09-12T21:43:58.629235\",\"2021-09-12T21:44:58.629235\",\"2021-09-12T21:45:58.629235\",\"2021-09-12T21:46:58.629235\",\"2021-09-12T21:47:58.629235\",\"2021-09-12T21:48:58.629235\",\"2021-09-12T21:49:58.629235\",\"2021-09-12T21:50:58.629235\",\"2021-09-12T21:51:58.629235\",\"2021-09-12T21:52:58.629235\",\"2021-09-12T21:53:58.629235\",\"2021-09-12T21:54:58.629235\",\"2021-09-12T21:55:58.629235\",\"2021-09-12T21:56:58.629235\",\"2021-09-12T21:57:58.629235\",\"2021-09-12T21:58:58.629235\",\"2021-09-12T21:59:58.629235\",\"2021-09-12T22:00:58.629235\",\"2021-09-12T22:01:58.629235\",\"2021-09-12T22:02:58.629235\",\"2021-09-12T22:03:58.629235\",\"2021-09-12T22:04:58.629235\",\"2021-09-12T22:05:58.629235\",\"2021-09-12T22:06:58.629235\",\"2021-09-12T22:07:58.629235\",\"2021-09-12T22:08:58.629235\",\"2021-09-12T22:09:58.629235\",\"2021-09-12T22:10:58.629235\",\"2021-09-12T22:11:58.629235\",\"2021-09-12T22:12:58.629235\",\"2021-09-12T22:13:58.629235\",\"2021-09-12T22:14:58.629235\",\"2021-09-12T22:15:58.629235\",\"2021-09-12T22:16:58.629235\",\"2021-09-12T22:17:58.629235\",\"2021-09-12T22:18:58.629235\",\"2021-09-12T22:19:58.629235\",\"2021-09-12T22:20:58.629235\",\"2021-09-12T22:21:58.629235\",\"2021-09-12T22:22:58.629235\",\"2021-09-12T22:23:58.629235\",\"2021-09-12T22:24:58.629235\",\"2021-09-12T22:25:58.629235\",\"2021-09-12T22:26:58.629235\",\"2021-09-12T22:27:58.629235\",\"2021-09-12T22:28:58.629235\",\"2021-09-12T22:29:58.629235\",\"2021-09-12T22:30:58.629235\",\"2021-09-12T22:31:58.629235\",\"2021-09-12T22:32:58.629235\",\"2021-09-12T22:33:58.629235\",\"2021-09-12T22:34:58.629235\",\"2021-09-12T22:35:58.629235\",\"2021-09-12T22:36:58.629235\",\"2021-09-12T22:37:58.629235\",\"2021-09-12T22:38:58.629235\",\"2021-09-12T22:39:58.629235\",\"2021-09-12T22:40:58.629235\",\"2021-09-12T22:41:58.629235\",\"2021-09-12T22:42:58.629235\",\"2021-09-12T22:43:58.629235\",\"2021-09-12T22:44:58.629235\",\"2021-09-12T22:45:58.629235\",\"2021-09-12T22:46:58.629235\",\"2021-09-12T22:47:58.629235\",\"2021-09-12T22:48:58.629235\",\"2021-09-12T22:49:58.629235\",\"2021-09-12T22:50:58.629235\",\"2021-09-12T22:51:58.629235\",\"2021-09-12T22:52:58.629235\",\"2021-09-12T22:53:58.629235\",\"2021-09-12T22:54:58.629235\",\"2021-09-12T22:55:58.629235\",\"2021-09-12T22:56:58.629235\",\"2021-09-12T22:57:58.629235\",\"2021-09-12T22:58:58.629235\",\"2021-09-12T22:59:58.629235\",\"2021-09-12T23:00:58.629235\",\"2021-09-12T23:01:58.629235\",\"2021-09-12T23:02:58.629235\",\"2021-09-12T23:03:58.629235\",\"2021-09-12T23:04:58.629235\",\"2021-09-12T23:05:58.629235\",\"2021-09-12T23:06:58.629235\",\"2021-09-12T23:07:58.629235\",\"2021-09-12T23:08:58.629235\",\"2021-09-12T23:09:58.629235\",\"2021-09-12T23:10:58.629235\",\"2021-09-12T23:11:58.629235\",\"2021-09-12T23:12:58.629235\",\"2021-09-12T23:13:58.629235\",\"2021-09-12T23:14:58.629235\",\"2021-09-12T23:15:58.629235\",\"2021-09-12T23:16:58.629235\",\"2021-09-12T23:17:58.629235\",\"2021-09-12T23:18:58.629235\",\"2021-09-12T23:19:58.629235\",\"2021-09-12T23:20:58.629235\",\"2021-09-12T23:21:58.629235\",\"2021-09-12T23:22:58.629235\",\"2021-09-12T23:23:58.629235\",\"2021-09-12T23:24:58.629235\",\"2021-09-12T23:25:58.629235\"],\"xaxis\":\"x\",\"y\":[0,0,1,2,3,3,3,4,5,6,6,6,7,8,9,9,10,12,13,14,15,17,19,20,21,20,22,24,25,26,26,27,29,30,31,30,31,32,33,34,33,35,36,37,38,35,37,38,39,40,39,42,45,46,47,47,50,51,52,53,53,53,53,52,52,52,53,54,53,53,52,52,52,52,53,52,50,50,51,51,49,48,49,49,49,49,50,50,50,50,50,50,50,50,50,51,51,51,51,51,50,51,52,52,52,51,52,52,52,52,50,50,50,50,50,49,49,49,49,49,47,47,47,47,47,47,48,48,48,48,49,49,49,49,49,49,49,49,49,49,49,49,48,48,48,48,49,48,48,48,48,48,45,45,45,42,42,42,44,44,44,46,46,46,46,46,46,47,47,47,46,46,45,45,45,46,48,47,47,47,48,48,37,37,27,27,17,12,12,6,6,0,5,1,8,6,6,11,11,15,16,20,19,15,19,14,16,17,17,19,23,22,25,25,23,22,21,21,20,16,14,13,13,12,8,7,6,6,5,1,0,0,0,0,0,0,0,0,0,0,0,0,0,0,0,0,0,0,0,0,0,0,0,0,6,9,9,9,7,5,7,7,10,11,11,13,13,13,10,13,12,14,16,13,12,8,8,7,9,7,8,8,6,6,5,5,4,5,4,6,7,7,2,4,6,6,6,6,4,6,2,3,5,7,8,7,7,8,7,7,9,8,9,8,9,9,9,13,13,12,11,12,14,16,16,15,14,14,16,16,19,19,16,16,13,13,13,13,13,13,11,9,9,8,6,6,4,2,1,0,0,0,0,0,0,0,0,0,0,0],\"yaxis\":\"y\"}],                        {\"barmode\":\"relative\",\"legend\":{\"tracegroupgap\":0},\"margin\":{\"t\":60},\"template\":{\"data\":{\"bar\":[{\"error_x\":{\"color\":\"#2a3f5f\"},\"error_y\":{\"color\":\"#2a3f5f\"},\"marker\":{\"line\":{\"color\":\"#E5ECF6\",\"width\":0.5},\"pattern\":{\"fillmode\":\"overlay\",\"size\":10,\"solidity\":0.2}},\"type\":\"bar\"}],\"barpolar\":[{\"marker\":{\"line\":{\"color\":\"#E5ECF6\",\"width\":0.5},\"pattern\":{\"fillmode\":\"overlay\",\"size\":10,\"solidity\":0.2}},\"type\":\"barpolar\"}],\"carpet\":[{\"aaxis\":{\"endlinecolor\":\"#2a3f5f\",\"gridcolor\":\"white\",\"linecolor\":\"white\",\"minorgridcolor\":\"white\",\"startlinecolor\":\"#2a3f5f\"},\"baxis\":{\"endlinecolor\":\"#2a3f5f\",\"gridcolor\":\"white\",\"linecolor\":\"white\",\"minorgridcolor\":\"white\",\"startlinecolor\":\"#2a3f5f\"},\"type\":\"carpet\"}],\"choropleth\":[{\"colorbar\":{\"outlinewidth\":0,\"ticks\":\"\"},\"type\":\"choropleth\"}],\"contour\":[{\"colorbar\":{\"outlinewidth\":0,\"ticks\":\"\"},\"colorscale\":[[0.0,\"#0d0887\"],[0.1111111111111111,\"#46039f\"],[0.2222222222222222,\"#7201a8\"],[0.3333333333333333,\"#9c179e\"],[0.4444444444444444,\"#bd3786\"],[0.5555555555555556,\"#d8576b\"],[0.6666666666666666,\"#ed7953\"],[0.7777777777777778,\"#fb9f3a\"],[0.8888888888888888,\"#fdca26\"],[1.0,\"#f0f921\"]],\"type\":\"contour\"}],\"contourcarpet\":[{\"colorbar\":{\"outlinewidth\":0,\"ticks\":\"\"},\"type\":\"contourcarpet\"}],\"heatmap\":[{\"colorbar\":{\"outlinewidth\":0,\"ticks\":\"\"},\"colorscale\":[[0.0,\"#0d0887\"],[0.1111111111111111,\"#46039f\"],[0.2222222222222222,\"#7201a8\"],[0.3333333333333333,\"#9c179e\"],[0.4444444444444444,\"#bd3786\"],[0.5555555555555556,\"#d8576b\"],[0.6666666666666666,\"#ed7953\"],[0.7777777777777778,\"#fb9f3a\"],[0.8888888888888888,\"#fdca26\"],[1.0,\"#f0f921\"]],\"type\":\"heatmap\"}],\"heatmapgl\":[{\"colorbar\":{\"outlinewidth\":0,\"ticks\":\"\"},\"colorscale\":[[0.0,\"#0d0887\"],[0.1111111111111111,\"#46039f\"],[0.2222222222222222,\"#7201a8\"],[0.3333333333333333,\"#9c179e\"],[0.4444444444444444,\"#bd3786\"],[0.5555555555555556,\"#d8576b\"],[0.6666666666666666,\"#ed7953\"],[0.7777777777777778,\"#fb9f3a\"],[0.8888888888888888,\"#fdca26\"],[1.0,\"#f0f921\"]],\"type\":\"heatmapgl\"}],\"histogram\":[{\"marker\":{\"pattern\":{\"fillmode\":\"overlay\",\"size\":10,\"solidity\":0.2}},\"type\":\"histogram\"}],\"histogram2d\":[{\"colorbar\":{\"outlinewidth\":0,\"ticks\":\"\"},\"colorscale\":[[0.0,\"#0d0887\"],[0.1111111111111111,\"#46039f\"],[0.2222222222222222,\"#7201a8\"],[0.3333333333333333,\"#9c179e\"],[0.4444444444444444,\"#bd3786\"],[0.5555555555555556,\"#d8576b\"],[0.6666666666666666,\"#ed7953\"],[0.7777777777777778,\"#fb9f3a\"],[0.8888888888888888,\"#fdca26\"],[1.0,\"#f0f921\"]],\"type\":\"histogram2d\"}],\"histogram2dcontour\":[{\"colorbar\":{\"outlinewidth\":0,\"ticks\":\"\"},\"colorscale\":[[0.0,\"#0d0887\"],[0.1111111111111111,\"#46039f\"],[0.2222222222222222,\"#7201a8\"],[0.3333333333333333,\"#9c179e\"],[0.4444444444444444,\"#bd3786\"],[0.5555555555555556,\"#d8576b\"],[0.6666666666666666,\"#ed7953\"],[0.7777777777777778,\"#fb9f3a\"],[0.8888888888888888,\"#fdca26\"],[1.0,\"#f0f921\"]],\"type\":\"histogram2dcontour\"}],\"mesh3d\":[{\"colorbar\":{\"outlinewidth\":0,\"ticks\":\"\"},\"type\":\"mesh3d\"}],\"parcoords\":[{\"line\":{\"colorbar\":{\"outlinewidth\":0,\"ticks\":\"\"}},\"type\":\"parcoords\"}],\"pie\":[{\"automargin\":true,\"type\":\"pie\"}],\"scatter\":[{\"marker\":{\"colorbar\":{\"outlinewidth\":0,\"ticks\":\"\"}},\"type\":\"scatter\"}],\"scatter3d\":[{\"line\":{\"colorbar\":{\"outlinewidth\":0,\"ticks\":\"\"}},\"marker\":{\"colorbar\":{\"outlinewidth\":0,\"ticks\":\"\"}},\"type\":\"scatter3d\"}],\"scattercarpet\":[{\"marker\":{\"colorbar\":{\"outlinewidth\":0,\"ticks\":\"\"}},\"type\":\"scattercarpet\"}],\"scattergeo\":[{\"marker\":{\"colorbar\":{\"outlinewidth\":0,\"ticks\":\"\"}},\"type\":\"scattergeo\"}],\"scattergl\":[{\"marker\":{\"colorbar\":{\"outlinewidth\":0,\"ticks\":\"\"}},\"type\":\"scattergl\"}],\"scattermapbox\":[{\"marker\":{\"colorbar\":{\"outlinewidth\":0,\"ticks\":\"\"}},\"type\":\"scattermapbox\"}],\"scatterpolar\":[{\"marker\":{\"colorbar\":{\"outlinewidth\":0,\"ticks\":\"\"}},\"type\":\"scatterpolar\"}],\"scatterpolargl\":[{\"marker\":{\"colorbar\":{\"outlinewidth\":0,\"ticks\":\"\"}},\"type\":\"scatterpolargl\"}],\"scatterternary\":[{\"marker\":{\"colorbar\":{\"outlinewidth\":0,\"ticks\":\"\"}},\"type\":\"scatterternary\"}],\"surface\":[{\"colorbar\":{\"outlinewidth\":0,\"ticks\":\"\"},\"colorscale\":[[0.0,\"#0d0887\"],[0.1111111111111111,\"#46039f\"],[0.2222222222222222,\"#7201a8\"],[0.3333333333333333,\"#9c179e\"],[0.4444444444444444,\"#bd3786\"],[0.5555555555555556,\"#d8576b\"],[0.6666666666666666,\"#ed7953\"],[0.7777777777777778,\"#fb9f3a\"],[0.8888888888888888,\"#fdca26\"],[1.0,\"#f0f921\"]],\"type\":\"surface\"}],\"table\":[{\"cells\":{\"fill\":{\"color\":\"#EBF0F8\"},\"line\":{\"color\":\"white\"}},\"header\":{\"fill\":{\"color\":\"#C8D4E3\"},\"line\":{\"color\":\"white\"}},\"type\":\"table\"}]},\"layout\":{\"annotationdefaults\":{\"arrowcolor\":\"#2a3f5f\",\"arrowhead\":0,\"arrowwidth\":1},\"autotypenumbers\":\"strict\",\"coloraxis\":{\"colorbar\":{\"outlinewidth\":0,\"ticks\":\"\"}},\"colorscale\":{\"diverging\":[[0,\"#8e0152\"],[0.1,\"#c51b7d\"],[0.2,\"#de77ae\"],[0.3,\"#f1b6da\"],[0.4,\"#fde0ef\"],[0.5,\"#f7f7f7\"],[0.6,\"#e6f5d0\"],[0.7,\"#b8e186\"],[0.8,\"#7fbc41\"],[0.9,\"#4d9221\"],[1,\"#276419\"]],\"sequential\":[[0.0,\"#0d0887\"],[0.1111111111111111,\"#46039f\"],[0.2222222222222222,\"#7201a8\"],[0.3333333333333333,\"#9c179e\"],[0.4444444444444444,\"#bd3786\"],[0.5555555555555556,\"#d8576b\"],[0.6666666666666666,\"#ed7953\"],[0.7777777777777778,\"#fb9f3a\"],[0.8888888888888888,\"#fdca26\"],[1.0,\"#f0f921\"]],\"sequentialminus\":[[0.0,\"#0d0887\"],[0.1111111111111111,\"#46039f\"],[0.2222222222222222,\"#7201a8\"],[0.3333333333333333,\"#9c179e\"],[0.4444444444444444,\"#bd3786\"],[0.5555555555555556,\"#d8576b\"],[0.6666666666666666,\"#ed7953\"],[0.7777777777777778,\"#fb9f3a\"],[0.8888888888888888,\"#fdca26\"],[1.0,\"#f0f921\"]]},\"colorway\":[\"#636efa\",\"#EF553B\",\"#00cc96\",\"#ab63fa\",\"#FFA15A\",\"#19d3f3\",\"#FF6692\",\"#B6E880\",\"#FF97FF\",\"#FECB52\"],\"font\":{\"color\":\"#2a3f5f\"},\"geo\":{\"bgcolor\":\"white\",\"lakecolor\":\"white\",\"landcolor\":\"#E5ECF6\",\"showlakes\":true,\"showland\":true,\"subunitcolor\":\"white\"},\"hoverlabel\":{\"align\":\"left\"},\"hovermode\":\"closest\",\"mapbox\":{\"style\":\"light\"},\"paper_bgcolor\":\"white\",\"plot_bgcolor\":\"#E5ECF6\",\"polar\":{\"angularaxis\":{\"gridcolor\":\"white\",\"linecolor\":\"white\",\"ticks\":\"\"},\"bgcolor\":\"#E5ECF6\",\"radialaxis\":{\"gridcolor\":\"white\",\"linecolor\":\"white\",\"ticks\":\"\"}},\"scene\":{\"xaxis\":{\"backgroundcolor\":\"#E5ECF6\",\"gridcolor\":\"white\",\"gridwidth\":2,\"linecolor\":\"white\",\"showbackground\":true,\"ticks\":\"\",\"zerolinecolor\":\"white\"},\"yaxis\":{\"backgroundcolor\":\"#E5ECF6\",\"gridcolor\":\"white\",\"gridwidth\":2,\"linecolor\":\"white\",\"showbackground\":true,\"ticks\":\"\",\"zerolinecolor\":\"white\"},\"zaxis\":{\"backgroundcolor\":\"#E5ECF6\",\"gridcolor\":\"white\",\"gridwidth\":2,\"linecolor\":\"white\",\"showbackground\":true,\"ticks\":\"\",\"zerolinecolor\":\"white\"}},\"shapedefaults\":{\"line\":{\"color\":\"#2a3f5f\"}},\"ternary\":{\"aaxis\":{\"gridcolor\":\"white\",\"linecolor\":\"white\",\"ticks\":\"\"},\"baxis\":{\"gridcolor\":\"white\",\"linecolor\":\"white\",\"ticks\":\"\"},\"bgcolor\":\"#E5ECF6\",\"caxis\":{\"gridcolor\":\"white\",\"linecolor\":\"white\",\"ticks\":\"\"}},\"title\":{\"x\":0.05},\"xaxis\":{\"automargin\":true,\"gridcolor\":\"white\",\"linecolor\":\"white\",\"ticks\":\"\",\"title\":{\"standoff\":15},\"zerolinecolor\":\"white\",\"zerolinewidth\":2},\"yaxis\":{\"automargin\":true,\"gridcolor\":\"white\",\"linecolor\":\"white\",\"ticks\":\"\",\"title\":{\"standoff\":15},\"zerolinecolor\":\"white\",\"zerolinewidth\":2}}},\"xaxis\":{\"anchor\":\"y\",\"domain\":[0.0,1.0],\"title\":{\"text\":\"Timestamp\"}},\"yaxis\":{\"anchor\":\"x\",\"domain\":[0.0,1.0],\"title\":{\"text\":\"Value\"}}},                        {\"responsive\": true}                    ).then(function(){\n",
       "                            \n",
       "var gd = document.getElementById('ad1ee5ae-e805-42e0-a24e-176262e8a430');\n",
       "var x = new MutationObserver(function (mutations, observer) {{\n",
       "        var display = window.getComputedStyle(gd).display;\n",
       "        if (!display || display === 'none') {{\n",
       "            console.log([gd, 'removed!']);\n",
       "            Plotly.purge(gd);\n",
       "            observer.disconnect();\n",
       "        }}\n",
       "}});\n",
       "\n",
       "// Listen for the removal of the full notebook cells\n",
       "var notebookContainer = gd.closest('#notebook-container');\n",
       "if (notebookContainer) {{\n",
       "    x.observe(notebookContainer, {childList: true});\n",
       "}}\n",
       "\n",
       "// Listen for the clearing of the current output cell\n",
       "var outputEl = gd.closest('.output');\n",
       "if (outputEl) {{\n",
       "    x.observe(outputEl, {childList: true});\n",
       "}}\n",
       "\n",
       "                        })                };                });            </script>        </div>"
      ]
     },
     "metadata": {},
     "output_type": "display_data"
    }
   ],
   "source": [
    "#df = dfs['requests_waiting']\n",
    "df = df_system[ df_system.Metric == Metric.RW.value ]\n",
    "fig = px.bar(df, x='Timestamp', y='Value')\n",
    "fig.show()"
   ]
  },
  {
   "cell_type": "markdown",
   "metadata": {},
   "source": [
    "## Active Users"
   ]
  },
  {
   "cell_type": "code",
   "execution_count": 58,
   "metadata": {},
   "outputs": [],
   "source": [
    "df_users_active = world.user_gen.collect()\n",
    "#display(df_users_active)"
   ]
  },
  {
   "cell_type": "code",
   "execution_count": 59,
   "metadata": {},
   "outputs": [
    {
     "data": {
      "application/vnd.plotly.v1+json": {
       "config": {
        "plotlyServerURL": "https://plot.ly"
       },
       "data": [
        {
         "alignmentgroup": "True",
         "hovertemplate": "Timestamp=%{x}<br>Value=%{y}<extra></extra>",
         "legendgroup": "",
         "marker": {
          "color": "#636efa",
          "pattern": {
           "shape": ""
          }
         },
         "name": "",
         "offsetgroup": "",
         "orientation": "v",
         "showlegend": false,
         "textposition": "auto",
         "type": "bar",
         "x": [
          "2021-09-12T17:26:58.629235",
          "2021-09-12T17:27:58.629235",
          "2021-09-12T17:28:58.629235",
          "2021-09-12T17:29:58.629235",
          "2021-09-12T17:30:58.629235",
          "2021-09-12T17:31:58.629235",
          "2021-09-12T17:32:58.629235",
          "2021-09-12T17:33:58.629235",
          "2021-09-12T17:34:58.629235",
          "2021-09-12T17:35:58.629235",
          "2021-09-12T17:36:58.629235",
          "2021-09-12T17:37:58.629235",
          "2021-09-12T17:38:58.629235",
          "2021-09-12T17:39:58.629235",
          "2021-09-12T17:40:58.629235",
          "2021-09-12T17:41:58.629235",
          "2021-09-12T17:42:58.629235",
          "2021-09-12T17:43:58.629235",
          "2021-09-12T17:44:58.629235",
          "2021-09-12T17:45:58.629235",
          "2021-09-12T17:46:58.629235",
          "2021-09-12T17:47:58.629235",
          "2021-09-12T17:48:58.629235",
          "2021-09-12T17:49:58.629235",
          "2021-09-12T17:50:58.629235",
          "2021-09-12T17:51:58.629235",
          "2021-09-12T17:52:58.629235",
          "2021-09-12T17:53:58.629235",
          "2021-09-12T17:54:58.629235",
          "2021-09-12T17:55:58.629235",
          "2021-09-12T17:56:58.629235",
          "2021-09-12T17:57:58.629235",
          "2021-09-12T17:58:58.629235",
          "2021-09-12T17:59:58.629235",
          "2021-09-12T18:00:58.629235",
          "2021-09-12T18:01:58.629235",
          "2021-09-12T18:02:58.629235",
          "2021-09-12T18:03:58.629235",
          "2021-09-12T18:04:58.629235",
          "2021-09-12T18:05:58.629235",
          "2021-09-12T18:06:58.629235",
          "2021-09-12T18:07:58.629235",
          "2021-09-12T18:08:58.629235",
          "2021-09-12T18:09:58.629235",
          "2021-09-12T18:10:58.629235",
          "2021-09-12T18:11:58.629235",
          "2021-09-12T18:12:58.629235",
          "2021-09-12T18:13:58.629235",
          "2021-09-12T18:14:58.629235",
          "2021-09-12T18:15:58.629235",
          "2021-09-12T18:16:58.629235",
          "2021-09-12T18:17:58.629235",
          "2021-09-12T18:18:58.629235",
          "2021-09-12T18:19:58.629235",
          "2021-09-12T18:20:58.629235",
          "2021-09-12T18:21:58.629235",
          "2021-09-12T18:22:58.629235",
          "2021-09-12T18:23:58.629235",
          "2021-09-12T18:24:58.629235",
          "2021-09-12T18:25:58.629235",
          "2021-09-12T18:26:58.629235",
          "2021-09-12T18:27:58.629235",
          "2021-09-12T18:28:58.629235",
          "2021-09-12T18:29:58.629235",
          "2021-09-12T18:30:58.629235",
          "2021-09-12T18:31:58.629235",
          "2021-09-12T18:32:58.629235",
          "2021-09-12T18:33:58.629235",
          "2021-09-12T18:34:58.629235",
          "2021-09-12T18:35:58.629235",
          "2021-09-12T18:36:58.629235",
          "2021-09-12T18:37:58.629235",
          "2021-09-12T18:38:58.629235",
          "2021-09-12T18:39:58.629235",
          "2021-09-12T18:40:58.629235",
          "2021-09-12T18:41:58.629235",
          "2021-09-12T18:42:58.629235",
          "2021-09-12T18:43:58.629235",
          "2021-09-12T18:44:58.629235",
          "2021-09-12T18:45:58.629235",
          "2021-09-12T18:46:58.629235",
          "2021-09-12T18:47:58.629235",
          "2021-09-12T18:48:58.629235",
          "2021-09-12T18:49:58.629235",
          "2021-09-12T18:50:58.629235",
          "2021-09-12T18:51:58.629235",
          "2021-09-12T18:52:58.629235",
          "2021-09-12T18:53:58.629235",
          "2021-09-12T18:54:58.629235",
          "2021-09-12T18:55:58.629235",
          "2021-09-12T18:56:58.629235",
          "2021-09-12T18:57:58.629235",
          "2021-09-12T18:58:58.629235",
          "2021-09-12T18:59:58.629235",
          "2021-09-12T19:00:58.629235",
          "2021-09-12T19:01:58.629235",
          "2021-09-12T19:02:58.629235",
          "2021-09-12T19:03:58.629235",
          "2021-09-12T19:04:58.629235",
          "2021-09-12T19:05:58.629235",
          "2021-09-12T19:06:58.629235",
          "2021-09-12T19:07:58.629235",
          "2021-09-12T19:08:58.629235",
          "2021-09-12T19:09:58.629235",
          "2021-09-12T19:10:58.629235",
          "2021-09-12T19:11:58.629235",
          "2021-09-12T19:12:58.629235",
          "2021-09-12T19:13:58.629235",
          "2021-09-12T19:14:58.629235",
          "2021-09-12T19:15:58.629235",
          "2021-09-12T19:16:58.629235",
          "2021-09-12T19:17:58.629235",
          "2021-09-12T19:18:58.629235",
          "2021-09-12T19:19:58.629235",
          "2021-09-12T19:20:58.629235",
          "2021-09-12T19:21:58.629235",
          "2021-09-12T19:22:58.629235",
          "2021-09-12T19:23:58.629235",
          "2021-09-12T19:24:58.629235",
          "2021-09-12T19:25:58.629235",
          "2021-09-12T19:26:58.629235",
          "2021-09-12T19:27:58.629235",
          "2021-09-12T19:28:58.629235",
          "2021-09-12T19:29:58.629235",
          "2021-09-12T19:30:58.629235",
          "2021-09-12T19:31:58.629235",
          "2021-09-12T19:32:58.629235",
          "2021-09-12T19:33:58.629235",
          "2021-09-12T19:34:58.629235",
          "2021-09-12T19:35:58.629235",
          "2021-09-12T19:36:58.629235",
          "2021-09-12T19:37:58.629235",
          "2021-09-12T19:38:58.629235",
          "2021-09-12T19:39:58.629235",
          "2021-09-12T19:40:58.629235",
          "2021-09-12T19:41:58.629235",
          "2021-09-12T19:42:58.629235",
          "2021-09-12T19:43:58.629235",
          "2021-09-12T19:44:58.629235",
          "2021-09-12T19:45:58.629235",
          "2021-09-12T19:46:58.629235",
          "2021-09-12T19:47:58.629235",
          "2021-09-12T19:48:58.629235",
          "2021-09-12T19:49:58.629235",
          "2021-09-12T19:50:58.629235",
          "2021-09-12T19:51:58.629235",
          "2021-09-12T19:52:58.629235",
          "2021-09-12T19:53:58.629235",
          "2021-09-12T19:54:58.629235",
          "2021-09-12T19:55:58.629235",
          "2021-09-12T19:56:58.629235",
          "2021-09-12T19:57:58.629235",
          "2021-09-12T19:58:58.629235",
          "2021-09-12T19:59:58.629235",
          "2021-09-12T20:00:58.629235",
          "2021-09-12T20:01:58.629235",
          "2021-09-12T20:02:58.629235",
          "2021-09-12T20:03:58.629235",
          "2021-09-12T20:04:58.629235",
          "2021-09-12T20:05:58.629235",
          "2021-09-12T20:06:58.629235",
          "2021-09-12T20:07:58.629235",
          "2021-09-12T20:08:58.629235",
          "2021-09-12T20:09:58.629235",
          "2021-09-12T20:10:58.629235",
          "2021-09-12T20:11:58.629235",
          "2021-09-12T20:12:58.629235",
          "2021-09-12T20:13:58.629235",
          "2021-09-12T20:14:58.629235",
          "2021-09-12T20:15:58.629235",
          "2021-09-12T20:16:58.629235",
          "2021-09-12T20:17:58.629235",
          "2021-09-12T20:18:58.629235",
          "2021-09-12T20:19:58.629235",
          "2021-09-12T20:20:58.629235",
          "2021-09-12T20:21:58.629235",
          "2021-09-12T20:22:58.629235",
          "2021-09-12T20:23:58.629235",
          "2021-09-12T20:24:58.629235",
          "2021-09-12T20:25:58.629235",
          "2021-09-12T20:26:58.629235",
          "2021-09-12T20:27:58.629235",
          "2021-09-12T20:28:58.629235",
          "2021-09-12T20:29:58.629235",
          "2021-09-12T20:30:58.629235",
          "2021-09-12T20:31:58.629235",
          "2021-09-12T20:32:58.629235",
          "2021-09-12T20:33:58.629235",
          "2021-09-12T20:34:58.629235",
          "2021-09-12T20:35:58.629235",
          "2021-09-12T20:36:58.629235",
          "2021-09-12T20:37:58.629235",
          "2021-09-12T20:38:58.629235",
          "2021-09-12T20:39:58.629235",
          "2021-09-12T20:40:58.629235",
          "2021-09-12T20:41:58.629235",
          "2021-09-12T20:42:58.629235",
          "2021-09-12T20:43:58.629235",
          "2021-09-12T20:44:58.629235",
          "2021-09-12T20:45:58.629235",
          "2021-09-12T20:46:58.629235",
          "2021-09-12T20:47:58.629235",
          "2021-09-12T20:48:58.629235",
          "2021-09-12T20:49:58.629235",
          "2021-09-12T20:50:58.629235",
          "2021-09-12T20:51:58.629235",
          "2021-09-12T20:52:58.629235",
          "2021-09-12T20:53:58.629235",
          "2021-09-12T20:54:58.629235",
          "2021-09-12T20:55:58.629235",
          "2021-09-12T20:56:58.629235",
          "2021-09-12T20:57:58.629235",
          "2021-09-12T20:58:58.629235",
          "2021-09-12T20:59:58.629235",
          "2021-09-12T21:00:58.629235",
          "2021-09-12T21:01:58.629235",
          "2021-09-12T21:02:58.629235",
          "2021-09-12T21:03:58.629235",
          "2021-09-12T21:04:58.629235",
          "2021-09-12T21:05:58.629235",
          "2021-09-12T21:06:58.629235",
          "2021-09-12T21:07:58.629235",
          "2021-09-12T21:08:58.629235",
          "2021-09-12T21:09:58.629235",
          "2021-09-12T21:10:58.629235",
          "2021-09-12T21:11:58.629235",
          "2021-09-12T21:12:58.629235",
          "2021-09-12T21:13:58.629235",
          "2021-09-12T21:14:58.629235",
          "2021-09-12T21:15:58.629235",
          "2021-09-12T21:16:58.629235",
          "2021-09-12T21:17:58.629235",
          "2021-09-12T21:18:58.629235",
          "2021-09-12T21:19:58.629235",
          "2021-09-12T21:20:58.629235",
          "2021-09-12T21:21:58.629235",
          "2021-09-12T21:22:58.629235",
          "2021-09-12T21:23:58.629235",
          "2021-09-12T21:24:58.629235",
          "2021-09-12T21:25:58.629235",
          "2021-09-12T21:26:58.629235",
          "2021-09-12T21:27:58.629235",
          "2021-09-12T21:28:58.629235",
          "2021-09-12T21:29:58.629235",
          "2021-09-12T21:30:58.629235",
          "2021-09-12T21:31:58.629235",
          "2021-09-12T21:32:58.629235",
          "2021-09-12T21:33:58.629235",
          "2021-09-12T21:34:58.629235",
          "2021-09-12T21:35:58.629235",
          "2021-09-12T21:36:58.629235",
          "2021-09-12T21:37:58.629235",
          "2021-09-12T21:38:58.629235",
          "2021-09-12T21:39:58.629235",
          "2021-09-12T21:40:58.629235",
          "2021-09-12T21:41:58.629235",
          "2021-09-12T21:42:58.629235",
          "2021-09-12T21:43:58.629235",
          "2021-09-12T21:44:58.629235",
          "2021-09-12T21:45:58.629235",
          "2021-09-12T21:46:58.629235",
          "2021-09-12T21:47:58.629235",
          "2021-09-12T21:48:58.629235",
          "2021-09-12T21:49:58.629235",
          "2021-09-12T21:50:58.629235",
          "2021-09-12T21:51:58.629235",
          "2021-09-12T21:52:58.629235",
          "2021-09-12T21:53:58.629235",
          "2021-09-12T21:54:58.629235",
          "2021-09-12T21:55:58.629235",
          "2021-09-12T21:56:58.629235",
          "2021-09-12T21:57:58.629235",
          "2021-09-12T21:58:58.629235",
          "2021-09-12T21:59:58.629235",
          "2021-09-12T22:00:58.629235",
          "2021-09-12T22:01:58.629235",
          "2021-09-12T22:02:58.629235",
          "2021-09-12T22:03:58.629235",
          "2021-09-12T22:04:58.629235",
          "2021-09-12T22:05:58.629235",
          "2021-09-12T22:06:58.629235",
          "2021-09-12T22:07:58.629235",
          "2021-09-12T22:08:58.629235",
          "2021-09-12T22:09:58.629235",
          "2021-09-12T22:10:58.629235",
          "2021-09-12T22:11:58.629235",
          "2021-09-12T22:12:58.629235",
          "2021-09-12T22:13:58.629235",
          "2021-09-12T22:14:58.629235",
          "2021-09-12T22:15:58.629235",
          "2021-09-12T22:16:58.629235",
          "2021-09-12T22:17:58.629235",
          "2021-09-12T22:18:58.629235",
          "2021-09-12T22:19:58.629235",
          "2021-09-12T22:20:58.629235",
          "2021-09-12T22:21:58.629235",
          "2021-09-12T22:22:58.629235",
          "2021-09-12T22:23:58.629235",
          "2021-09-12T22:24:58.629235",
          "2021-09-12T22:25:58.629235",
          "2021-09-12T22:26:58.629235",
          "2021-09-12T22:27:58.629235",
          "2021-09-12T22:28:58.629235",
          "2021-09-12T22:29:58.629235",
          "2021-09-12T22:30:58.629235",
          "2021-09-12T22:31:58.629235",
          "2021-09-12T22:32:58.629235",
          "2021-09-12T22:33:58.629235",
          "2021-09-12T22:34:58.629235",
          "2021-09-12T22:35:58.629235",
          "2021-09-12T22:36:58.629235",
          "2021-09-12T22:37:58.629235",
          "2021-09-12T22:38:58.629235",
          "2021-09-12T22:39:58.629235",
          "2021-09-12T22:40:58.629235",
          "2021-09-12T22:41:58.629235",
          "2021-09-12T22:42:58.629235",
          "2021-09-12T22:43:58.629235",
          "2021-09-12T22:44:58.629235",
          "2021-09-12T22:45:58.629235",
          "2021-09-12T22:46:58.629235",
          "2021-09-12T22:47:58.629235",
          "2021-09-12T22:48:58.629235",
          "2021-09-12T22:49:58.629235",
          "2021-09-12T22:50:58.629235",
          "2021-09-12T22:51:58.629235",
          "2021-09-12T22:52:58.629235",
          "2021-09-12T22:53:58.629235",
          "2021-09-12T22:54:58.629235",
          "2021-09-12T22:55:58.629235",
          "2021-09-12T22:56:58.629235",
          "2021-09-12T22:57:58.629235",
          "2021-09-12T22:58:58.629235",
          "2021-09-12T22:59:58.629235",
          "2021-09-12T23:00:58.629235",
          "2021-09-12T23:01:58.629235",
          "2021-09-12T23:02:58.629235",
          "2021-09-12T23:03:58.629235",
          "2021-09-12T23:04:58.629235",
          "2021-09-12T23:05:58.629235",
          "2021-09-12T23:06:58.629235",
          "2021-09-12T23:07:58.629235",
          "2021-09-12T23:08:58.629235",
          "2021-09-12T23:09:58.629235",
          "2021-09-12T23:10:58.629235",
          "2021-09-12T23:11:58.629235",
          "2021-09-12T23:12:58.629235",
          "2021-09-12T23:13:58.629235",
          "2021-09-12T23:14:58.629235",
          "2021-09-12T23:15:58.629235",
          "2021-09-12T23:16:58.629235",
          "2021-09-12T23:17:58.629235",
          "2021-09-12T23:18:58.629235",
          "2021-09-12T23:19:58.629235",
          "2021-09-12T23:20:58.629235",
          "2021-09-12T23:21:58.629235",
          "2021-09-12T23:22:58.629235",
          "2021-09-12T23:23:58.629235",
          "2021-09-12T23:24:58.629235",
          "2021-09-12T23:25:58.629235"
         ],
         "xaxis": "x",
         "y": [
          1,
          2,
          3,
          4,
          5,
          6,
          7,
          8,
          9,
          10,
          11,
          12,
          13,
          14,
          15,
          16,
          17,
          18,
          19,
          20,
          21,
          22,
          23,
          24,
          25,
          26,
          27,
          28,
          29,
          30,
          31,
          32,
          33,
          34,
          35,
          36,
          37,
          38,
          39,
          40,
          41,
          42,
          43,
          44,
          45,
          46,
          47,
          48,
          49,
          50,
          51,
          52,
          53,
          54,
          55,
          56,
          57,
          58,
          59,
          60,
          60,
          60,
          60,
          60,
          60,
          60,
          60,
          60,
          60,
          60,
          60,
          60,
          60,
          60,
          60,
          60,
          60,
          60,
          60,
          60,
          60,
          60,
          60,
          60,
          60,
          60,
          60,
          60,
          60,
          60,
          60,
          60,
          60,
          60,
          60,
          60,
          60,
          60,
          60,
          60,
          60,
          60,
          60,
          60,
          60,
          60,
          60,
          60,
          60,
          60,
          60,
          60,
          60,
          60,
          60,
          60,
          60,
          60,
          60,
          60,
          60,
          60,
          60,
          60,
          60,
          60,
          60,
          60,
          60,
          60,
          60,
          60,
          60,
          60,
          60,
          60,
          60,
          60,
          60,
          60,
          60,
          60,
          60,
          60,
          60,
          60,
          60,
          60,
          60,
          60,
          60,
          60,
          60,
          60,
          60,
          60,
          60,
          60,
          60,
          60,
          60,
          60,
          60,
          60,
          60,
          60,
          60,
          60,
          60,
          60,
          60,
          60,
          60,
          60,
          60,
          60,
          60,
          60,
          60,
          60,
          60,
          60,
          60,
          60,
          60,
          60,
          60,
          60,
          60,
          60,
          60,
          60,
          60,
          60,
          60,
          60,
          60,
          60,
          60,
          60,
          60,
          60,
          60,
          60,
          60,
          60,
          60,
          60,
          60,
          60,
          60,
          60,
          60,
          60,
          60,
          60,
          60,
          60,
          60,
          60,
          60,
          60,
          60,
          60,
          60,
          60,
          60,
          60,
          60,
          60,
          60,
          60,
          60,
          60,
          60,
          60,
          60,
          60,
          60,
          60,
          60,
          60,
          60,
          60,
          60,
          60,
          60,
          60,
          60,
          60,
          60,
          60,
          60,
          60,
          60,
          60,
          60,
          60,
          60,
          60,
          60,
          60,
          60,
          60,
          60,
          60,
          60,
          60,
          60,
          60,
          60,
          60,
          60,
          60,
          60,
          60,
          60,
          60,
          60,
          60,
          60,
          60,
          60,
          60,
          60,
          60,
          60,
          60,
          60,
          60,
          60,
          60,
          60,
          60,
          60,
          60,
          60,
          60,
          60,
          60,
          60,
          60,
          60,
          60,
          60,
          60,
          60,
          60,
          60,
          60,
          60,
          60,
          60,
          60,
          60,
          60,
          60,
          60,
          60,
          60,
          60,
          60,
          60,
          60,
          60,
          60,
          60,
          60,
          60,
          60,
          60,
          60,
          60,
          60,
          60,
          60,
          60,
          60,
          60,
          60,
          60,
          60,
          60,
          60,
          60,
          60,
          60,
          60,
          60,
          60,
          60,
          60,
          60,
          60,
          60,
          60,
          60,
          60,
          60,
          60
         ],
         "yaxis": "y"
        }
       ],
       "layout": {
        "barmode": "relative",
        "legend": {
         "tracegroupgap": 0
        },
        "margin": {
         "t": 60
        },
        "template": {
         "data": {
          "bar": [
           {
            "error_x": {
             "color": "#2a3f5f"
            },
            "error_y": {
             "color": "#2a3f5f"
            },
            "marker": {
             "line": {
              "color": "#E5ECF6",
              "width": 0.5
             },
             "pattern": {
              "fillmode": "overlay",
              "size": 10,
              "solidity": 0.2
             }
            },
            "type": "bar"
           }
          ],
          "barpolar": [
           {
            "marker": {
             "line": {
              "color": "#E5ECF6",
              "width": 0.5
             },
             "pattern": {
              "fillmode": "overlay",
              "size": 10,
              "solidity": 0.2
             }
            },
            "type": "barpolar"
           }
          ],
          "carpet": [
           {
            "aaxis": {
             "endlinecolor": "#2a3f5f",
             "gridcolor": "white",
             "linecolor": "white",
             "minorgridcolor": "white",
             "startlinecolor": "#2a3f5f"
            },
            "baxis": {
             "endlinecolor": "#2a3f5f",
             "gridcolor": "white",
             "linecolor": "white",
             "minorgridcolor": "white",
             "startlinecolor": "#2a3f5f"
            },
            "type": "carpet"
           }
          ],
          "choropleth": [
           {
            "colorbar": {
             "outlinewidth": 0,
             "ticks": ""
            },
            "type": "choropleth"
           }
          ],
          "contour": [
           {
            "colorbar": {
             "outlinewidth": 0,
             "ticks": ""
            },
            "colorscale": [
             [
              0,
              "#0d0887"
             ],
             [
              0.1111111111111111,
              "#46039f"
             ],
             [
              0.2222222222222222,
              "#7201a8"
             ],
             [
              0.3333333333333333,
              "#9c179e"
             ],
             [
              0.4444444444444444,
              "#bd3786"
             ],
             [
              0.5555555555555556,
              "#d8576b"
             ],
             [
              0.6666666666666666,
              "#ed7953"
             ],
             [
              0.7777777777777778,
              "#fb9f3a"
             ],
             [
              0.8888888888888888,
              "#fdca26"
             ],
             [
              1,
              "#f0f921"
             ]
            ],
            "type": "contour"
           }
          ],
          "contourcarpet": [
           {
            "colorbar": {
             "outlinewidth": 0,
             "ticks": ""
            },
            "type": "contourcarpet"
           }
          ],
          "heatmap": [
           {
            "colorbar": {
             "outlinewidth": 0,
             "ticks": ""
            },
            "colorscale": [
             [
              0,
              "#0d0887"
             ],
             [
              0.1111111111111111,
              "#46039f"
             ],
             [
              0.2222222222222222,
              "#7201a8"
             ],
             [
              0.3333333333333333,
              "#9c179e"
             ],
             [
              0.4444444444444444,
              "#bd3786"
             ],
             [
              0.5555555555555556,
              "#d8576b"
             ],
             [
              0.6666666666666666,
              "#ed7953"
             ],
             [
              0.7777777777777778,
              "#fb9f3a"
             ],
             [
              0.8888888888888888,
              "#fdca26"
             ],
             [
              1,
              "#f0f921"
             ]
            ],
            "type": "heatmap"
           }
          ],
          "heatmapgl": [
           {
            "colorbar": {
             "outlinewidth": 0,
             "ticks": ""
            },
            "colorscale": [
             [
              0,
              "#0d0887"
             ],
             [
              0.1111111111111111,
              "#46039f"
             ],
             [
              0.2222222222222222,
              "#7201a8"
             ],
             [
              0.3333333333333333,
              "#9c179e"
             ],
             [
              0.4444444444444444,
              "#bd3786"
             ],
             [
              0.5555555555555556,
              "#d8576b"
             ],
             [
              0.6666666666666666,
              "#ed7953"
             ],
             [
              0.7777777777777778,
              "#fb9f3a"
             ],
             [
              0.8888888888888888,
              "#fdca26"
             ],
             [
              1,
              "#f0f921"
             ]
            ],
            "type": "heatmapgl"
           }
          ],
          "histogram": [
           {
            "marker": {
             "pattern": {
              "fillmode": "overlay",
              "size": 10,
              "solidity": 0.2
             }
            },
            "type": "histogram"
           }
          ],
          "histogram2d": [
           {
            "colorbar": {
             "outlinewidth": 0,
             "ticks": ""
            },
            "colorscale": [
             [
              0,
              "#0d0887"
             ],
             [
              0.1111111111111111,
              "#46039f"
             ],
             [
              0.2222222222222222,
              "#7201a8"
             ],
             [
              0.3333333333333333,
              "#9c179e"
             ],
             [
              0.4444444444444444,
              "#bd3786"
             ],
             [
              0.5555555555555556,
              "#d8576b"
             ],
             [
              0.6666666666666666,
              "#ed7953"
             ],
             [
              0.7777777777777778,
              "#fb9f3a"
             ],
             [
              0.8888888888888888,
              "#fdca26"
             ],
             [
              1,
              "#f0f921"
             ]
            ],
            "type": "histogram2d"
           }
          ],
          "histogram2dcontour": [
           {
            "colorbar": {
             "outlinewidth": 0,
             "ticks": ""
            },
            "colorscale": [
             [
              0,
              "#0d0887"
             ],
             [
              0.1111111111111111,
              "#46039f"
             ],
             [
              0.2222222222222222,
              "#7201a8"
             ],
             [
              0.3333333333333333,
              "#9c179e"
             ],
             [
              0.4444444444444444,
              "#bd3786"
             ],
             [
              0.5555555555555556,
              "#d8576b"
             ],
             [
              0.6666666666666666,
              "#ed7953"
             ],
             [
              0.7777777777777778,
              "#fb9f3a"
             ],
             [
              0.8888888888888888,
              "#fdca26"
             ],
             [
              1,
              "#f0f921"
             ]
            ],
            "type": "histogram2dcontour"
           }
          ],
          "mesh3d": [
           {
            "colorbar": {
             "outlinewidth": 0,
             "ticks": ""
            },
            "type": "mesh3d"
           }
          ],
          "parcoords": [
           {
            "line": {
             "colorbar": {
              "outlinewidth": 0,
              "ticks": ""
             }
            },
            "type": "parcoords"
           }
          ],
          "pie": [
           {
            "automargin": true,
            "type": "pie"
           }
          ],
          "scatter": [
           {
            "marker": {
             "colorbar": {
              "outlinewidth": 0,
              "ticks": ""
             }
            },
            "type": "scatter"
           }
          ],
          "scatter3d": [
           {
            "line": {
             "colorbar": {
              "outlinewidth": 0,
              "ticks": ""
             }
            },
            "marker": {
             "colorbar": {
              "outlinewidth": 0,
              "ticks": ""
             }
            },
            "type": "scatter3d"
           }
          ],
          "scattercarpet": [
           {
            "marker": {
             "colorbar": {
              "outlinewidth": 0,
              "ticks": ""
             }
            },
            "type": "scattercarpet"
           }
          ],
          "scattergeo": [
           {
            "marker": {
             "colorbar": {
              "outlinewidth": 0,
              "ticks": ""
             }
            },
            "type": "scattergeo"
           }
          ],
          "scattergl": [
           {
            "marker": {
             "colorbar": {
              "outlinewidth": 0,
              "ticks": ""
             }
            },
            "type": "scattergl"
           }
          ],
          "scattermapbox": [
           {
            "marker": {
             "colorbar": {
              "outlinewidth": 0,
              "ticks": ""
             }
            },
            "type": "scattermapbox"
           }
          ],
          "scatterpolar": [
           {
            "marker": {
             "colorbar": {
              "outlinewidth": 0,
              "ticks": ""
             }
            },
            "type": "scatterpolar"
           }
          ],
          "scatterpolargl": [
           {
            "marker": {
             "colorbar": {
              "outlinewidth": 0,
              "ticks": ""
             }
            },
            "type": "scatterpolargl"
           }
          ],
          "scatterternary": [
           {
            "marker": {
             "colorbar": {
              "outlinewidth": 0,
              "ticks": ""
             }
            },
            "type": "scatterternary"
           }
          ],
          "surface": [
           {
            "colorbar": {
             "outlinewidth": 0,
             "ticks": ""
            },
            "colorscale": [
             [
              0,
              "#0d0887"
             ],
             [
              0.1111111111111111,
              "#46039f"
             ],
             [
              0.2222222222222222,
              "#7201a8"
             ],
             [
              0.3333333333333333,
              "#9c179e"
             ],
             [
              0.4444444444444444,
              "#bd3786"
             ],
             [
              0.5555555555555556,
              "#d8576b"
             ],
             [
              0.6666666666666666,
              "#ed7953"
             ],
             [
              0.7777777777777778,
              "#fb9f3a"
             ],
             [
              0.8888888888888888,
              "#fdca26"
             ],
             [
              1,
              "#f0f921"
             ]
            ],
            "type": "surface"
           }
          ],
          "table": [
           {
            "cells": {
             "fill": {
              "color": "#EBF0F8"
             },
             "line": {
              "color": "white"
             }
            },
            "header": {
             "fill": {
              "color": "#C8D4E3"
             },
             "line": {
              "color": "white"
             }
            },
            "type": "table"
           }
          ]
         },
         "layout": {
          "annotationdefaults": {
           "arrowcolor": "#2a3f5f",
           "arrowhead": 0,
           "arrowwidth": 1
          },
          "autotypenumbers": "strict",
          "coloraxis": {
           "colorbar": {
            "outlinewidth": 0,
            "ticks": ""
           }
          },
          "colorscale": {
           "diverging": [
            [
             0,
             "#8e0152"
            ],
            [
             0.1,
             "#c51b7d"
            ],
            [
             0.2,
             "#de77ae"
            ],
            [
             0.3,
             "#f1b6da"
            ],
            [
             0.4,
             "#fde0ef"
            ],
            [
             0.5,
             "#f7f7f7"
            ],
            [
             0.6,
             "#e6f5d0"
            ],
            [
             0.7,
             "#b8e186"
            ],
            [
             0.8,
             "#7fbc41"
            ],
            [
             0.9,
             "#4d9221"
            ],
            [
             1,
             "#276419"
            ]
           ],
           "sequential": [
            [
             0,
             "#0d0887"
            ],
            [
             0.1111111111111111,
             "#46039f"
            ],
            [
             0.2222222222222222,
             "#7201a8"
            ],
            [
             0.3333333333333333,
             "#9c179e"
            ],
            [
             0.4444444444444444,
             "#bd3786"
            ],
            [
             0.5555555555555556,
             "#d8576b"
            ],
            [
             0.6666666666666666,
             "#ed7953"
            ],
            [
             0.7777777777777778,
             "#fb9f3a"
            ],
            [
             0.8888888888888888,
             "#fdca26"
            ],
            [
             1,
             "#f0f921"
            ]
           ],
           "sequentialminus": [
            [
             0,
             "#0d0887"
            ],
            [
             0.1111111111111111,
             "#46039f"
            ],
            [
             0.2222222222222222,
             "#7201a8"
            ],
            [
             0.3333333333333333,
             "#9c179e"
            ],
            [
             0.4444444444444444,
             "#bd3786"
            ],
            [
             0.5555555555555556,
             "#d8576b"
            ],
            [
             0.6666666666666666,
             "#ed7953"
            ],
            [
             0.7777777777777778,
             "#fb9f3a"
            ],
            [
             0.8888888888888888,
             "#fdca26"
            ],
            [
             1,
             "#f0f921"
            ]
           ]
          },
          "colorway": [
           "#636efa",
           "#EF553B",
           "#00cc96",
           "#ab63fa",
           "#FFA15A",
           "#19d3f3",
           "#FF6692",
           "#B6E880",
           "#FF97FF",
           "#FECB52"
          ],
          "font": {
           "color": "#2a3f5f"
          },
          "geo": {
           "bgcolor": "white",
           "lakecolor": "white",
           "landcolor": "#E5ECF6",
           "showlakes": true,
           "showland": true,
           "subunitcolor": "white"
          },
          "hoverlabel": {
           "align": "left"
          },
          "hovermode": "closest",
          "mapbox": {
           "style": "light"
          },
          "paper_bgcolor": "white",
          "plot_bgcolor": "#E5ECF6",
          "polar": {
           "angularaxis": {
            "gridcolor": "white",
            "linecolor": "white",
            "ticks": ""
           },
           "bgcolor": "#E5ECF6",
           "radialaxis": {
            "gridcolor": "white",
            "linecolor": "white",
            "ticks": ""
           }
          },
          "scene": {
           "xaxis": {
            "backgroundcolor": "#E5ECF6",
            "gridcolor": "white",
            "gridwidth": 2,
            "linecolor": "white",
            "showbackground": true,
            "ticks": "",
            "zerolinecolor": "white"
           },
           "yaxis": {
            "backgroundcolor": "#E5ECF6",
            "gridcolor": "white",
            "gridwidth": 2,
            "linecolor": "white",
            "showbackground": true,
            "ticks": "",
            "zerolinecolor": "white"
           },
           "zaxis": {
            "backgroundcolor": "#E5ECF6",
            "gridcolor": "white",
            "gridwidth": 2,
            "linecolor": "white",
            "showbackground": true,
            "ticks": "",
            "zerolinecolor": "white"
           }
          },
          "shapedefaults": {
           "line": {
            "color": "#2a3f5f"
           }
          },
          "ternary": {
           "aaxis": {
            "gridcolor": "white",
            "linecolor": "white",
            "ticks": ""
           },
           "baxis": {
            "gridcolor": "white",
            "linecolor": "white",
            "ticks": ""
           },
           "bgcolor": "#E5ECF6",
           "caxis": {
            "gridcolor": "white",
            "linecolor": "white",
            "ticks": ""
           }
          },
          "title": {
           "x": 0.05
          },
          "xaxis": {
           "automargin": true,
           "gridcolor": "white",
           "linecolor": "white",
           "ticks": "",
           "title": {
            "standoff": 15
           },
           "zerolinecolor": "white",
           "zerolinewidth": 2
          },
          "yaxis": {
           "automargin": true,
           "gridcolor": "white",
           "linecolor": "white",
           "ticks": "",
           "title": {
            "standoff": 15
           },
           "zerolinecolor": "white",
           "zerolinewidth": 2
          }
         }
        },
        "xaxis": {
         "anchor": "y",
         "domain": [
          0,
          1
         ],
         "title": {
          "text": "Timestamp"
         }
        },
        "yaxis": {
         "anchor": "x",
         "domain": [
          0,
          1
         ],
         "title": {
          "text": "Value"
         }
        }
       }
      },
      "text/html": [
       "<div>                            <div id=\"eb271893-3f1e-45d0-8b71-7c5977639b7b\" class=\"plotly-graph-div\" style=\"height:525px; width:100%;\"></div>            <script type=\"text/javascript\">                require([\"plotly\"], function(Plotly) {                    window.PLOTLYENV=window.PLOTLYENV || {};                                    if (document.getElementById(\"eb271893-3f1e-45d0-8b71-7c5977639b7b\")) {                    Plotly.newPlot(                        \"eb271893-3f1e-45d0-8b71-7c5977639b7b\",                        [{\"alignmentgroup\":\"True\",\"hovertemplate\":\"Timestamp=%{x}<br>Value=%{y}<extra></extra>\",\"legendgroup\":\"\",\"marker\":{\"color\":\"#636efa\",\"pattern\":{\"shape\":\"\"}},\"name\":\"\",\"offsetgroup\":\"\",\"orientation\":\"v\",\"showlegend\":false,\"textposition\":\"auto\",\"type\":\"bar\",\"x\":[\"2021-09-12T17:26:58.629235\",\"2021-09-12T17:27:58.629235\",\"2021-09-12T17:28:58.629235\",\"2021-09-12T17:29:58.629235\",\"2021-09-12T17:30:58.629235\",\"2021-09-12T17:31:58.629235\",\"2021-09-12T17:32:58.629235\",\"2021-09-12T17:33:58.629235\",\"2021-09-12T17:34:58.629235\",\"2021-09-12T17:35:58.629235\",\"2021-09-12T17:36:58.629235\",\"2021-09-12T17:37:58.629235\",\"2021-09-12T17:38:58.629235\",\"2021-09-12T17:39:58.629235\",\"2021-09-12T17:40:58.629235\",\"2021-09-12T17:41:58.629235\",\"2021-09-12T17:42:58.629235\",\"2021-09-12T17:43:58.629235\",\"2021-09-12T17:44:58.629235\",\"2021-09-12T17:45:58.629235\",\"2021-09-12T17:46:58.629235\",\"2021-09-12T17:47:58.629235\",\"2021-09-12T17:48:58.629235\",\"2021-09-12T17:49:58.629235\",\"2021-09-12T17:50:58.629235\",\"2021-09-12T17:51:58.629235\",\"2021-09-12T17:52:58.629235\",\"2021-09-12T17:53:58.629235\",\"2021-09-12T17:54:58.629235\",\"2021-09-12T17:55:58.629235\",\"2021-09-12T17:56:58.629235\",\"2021-09-12T17:57:58.629235\",\"2021-09-12T17:58:58.629235\",\"2021-09-12T17:59:58.629235\",\"2021-09-12T18:00:58.629235\",\"2021-09-12T18:01:58.629235\",\"2021-09-12T18:02:58.629235\",\"2021-09-12T18:03:58.629235\",\"2021-09-12T18:04:58.629235\",\"2021-09-12T18:05:58.629235\",\"2021-09-12T18:06:58.629235\",\"2021-09-12T18:07:58.629235\",\"2021-09-12T18:08:58.629235\",\"2021-09-12T18:09:58.629235\",\"2021-09-12T18:10:58.629235\",\"2021-09-12T18:11:58.629235\",\"2021-09-12T18:12:58.629235\",\"2021-09-12T18:13:58.629235\",\"2021-09-12T18:14:58.629235\",\"2021-09-12T18:15:58.629235\",\"2021-09-12T18:16:58.629235\",\"2021-09-12T18:17:58.629235\",\"2021-09-12T18:18:58.629235\",\"2021-09-12T18:19:58.629235\",\"2021-09-12T18:20:58.629235\",\"2021-09-12T18:21:58.629235\",\"2021-09-12T18:22:58.629235\",\"2021-09-12T18:23:58.629235\",\"2021-09-12T18:24:58.629235\",\"2021-09-12T18:25:58.629235\",\"2021-09-12T18:26:58.629235\",\"2021-09-12T18:27:58.629235\",\"2021-09-12T18:28:58.629235\",\"2021-09-12T18:29:58.629235\",\"2021-09-12T18:30:58.629235\",\"2021-09-12T18:31:58.629235\",\"2021-09-12T18:32:58.629235\",\"2021-09-12T18:33:58.629235\",\"2021-09-12T18:34:58.629235\",\"2021-09-12T18:35:58.629235\",\"2021-09-12T18:36:58.629235\",\"2021-09-12T18:37:58.629235\",\"2021-09-12T18:38:58.629235\",\"2021-09-12T18:39:58.629235\",\"2021-09-12T18:40:58.629235\",\"2021-09-12T18:41:58.629235\",\"2021-09-12T18:42:58.629235\",\"2021-09-12T18:43:58.629235\",\"2021-09-12T18:44:58.629235\",\"2021-09-12T18:45:58.629235\",\"2021-09-12T18:46:58.629235\",\"2021-09-12T18:47:58.629235\",\"2021-09-12T18:48:58.629235\",\"2021-09-12T18:49:58.629235\",\"2021-09-12T18:50:58.629235\",\"2021-09-12T18:51:58.629235\",\"2021-09-12T18:52:58.629235\",\"2021-09-12T18:53:58.629235\",\"2021-09-12T18:54:58.629235\",\"2021-09-12T18:55:58.629235\",\"2021-09-12T18:56:58.629235\",\"2021-09-12T18:57:58.629235\",\"2021-09-12T18:58:58.629235\",\"2021-09-12T18:59:58.629235\",\"2021-09-12T19:00:58.629235\",\"2021-09-12T19:01:58.629235\",\"2021-09-12T19:02:58.629235\",\"2021-09-12T19:03:58.629235\",\"2021-09-12T19:04:58.629235\",\"2021-09-12T19:05:58.629235\",\"2021-09-12T19:06:58.629235\",\"2021-09-12T19:07:58.629235\",\"2021-09-12T19:08:58.629235\",\"2021-09-12T19:09:58.629235\",\"2021-09-12T19:10:58.629235\",\"2021-09-12T19:11:58.629235\",\"2021-09-12T19:12:58.629235\",\"2021-09-12T19:13:58.629235\",\"2021-09-12T19:14:58.629235\",\"2021-09-12T19:15:58.629235\",\"2021-09-12T19:16:58.629235\",\"2021-09-12T19:17:58.629235\",\"2021-09-12T19:18:58.629235\",\"2021-09-12T19:19:58.629235\",\"2021-09-12T19:20:58.629235\",\"2021-09-12T19:21:58.629235\",\"2021-09-12T19:22:58.629235\",\"2021-09-12T19:23:58.629235\",\"2021-09-12T19:24:58.629235\",\"2021-09-12T19:25:58.629235\",\"2021-09-12T19:26:58.629235\",\"2021-09-12T19:27:58.629235\",\"2021-09-12T19:28:58.629235\",\"2021-09-12T19:29:58.629235\",\"2021-09-12T19:30:58.629235\",\"2021-09-12T19:31:58.629235\",\"2021-09-12T19:32:58.629235\",\"2021-09-12T19:33:58.629235\",\"2021-09-12T19:34:58.629235\",\"2021-09-12T19:35:58.629235\",\"2021-09-12T19:36:58.629235\",\"2021-09-12T19:37:58.629235\",\"2021-09-12T19:38:58.629235\",\"2021-09-12T19:39:58.629235\",\"2021-09-12T19:40:58.629235\",\"2021-09-12T19:41:58.629235\",\"2021-09-12T19:42:58.629235\",\"2021-09-12T19:43:58.629235\",\"2021-09-12T19:44:58.629235\",\"2021-09-12T19:45:58.629235\",\"2021-09-12T19:46:58.629235\",\"2021-09-12T19:47:58.629235\",\"2021-09-12T19:48:58.629235\",\"2021-09-12T19:49:58.629235\",\"2021-09-12T19:50:58.629235\",\"2021-09-12T19:51:58.629235\",\"2021-09-12T19:52:58.629235\",\"2021-09-12T19:53:58.629235\",\"2021-09-12T19:54:58.629235\",\"2021-09-12T19:55:58.629235\",\"2021-09-12T19:56:58.629235\",\"2021-09-12T19:57:58.629235\",\"2021-09-12T19:58:58.629235\",\"2021-09-12T19:59:58.629235\",\"2021-09-12T20:00:58.629235\",\"2021-09-12T20:01:58.629235\",\"2021-09-12T20:02:58.629235\",\"2021-09-12T20:03:58.629235\",\"2021-09-12T20:04:58.629235\",\"2021-09-12T20:05:58.629235\",\"2021-09-12T20:06:58.629235\",\"2021-09-12T20:07:58.629235\",\"2021-09-12T20:08:58.629235\",\"2021-09-12T20:09:58.629235\",\"2021-09-12T20:10:58.629235\",\"2021-09-12T20:11:58.629235\",\"2021-09-12T20:12:58.629235\",\"2021-09-12T20:13:58.629235\",\"2021-09-12T20:14:58.629235\",\"2021-09-12T20:15:58.629235\",\"2021-09-12T20:16:58.629235\",\"2021-09-12T20:17:58.629235\",\"2021-09-12T20:18:58.629235\",\"2021-09-12T20:19:58.629235\",\"2021-09-12T20:20:58.629235\",\"2021-09-12T20:21:58.629235\",\"2021-09-12T20:22:58.629235\",\"2021-09-12T20:23:58.629235\",\"2021-09-12T20:24:58.629235\",\"2021-09-12T20:25:58.629235\",\"2021-09-12T20:26:58.629235\",\"2021-09-12T20:27:58.629235\",\"2021-09-12T20:28:58.629235\",\"2021-09-12T20:29:58.629235\",\"2021-09-12T20:30:58.629235\",\"2021-09-12T20:31:58.629235\",\"2021-09-12T20:32:58.629235\",\"2021-09-12T20:33:58.629235\",\"2021-09-12T20:34:58.629235\",\"2021-09-12T20:35:58.629235\",\"2021-09-12T20:36:58.629235\",\"2021-09-12T20:37:58.629235\",\"2021-09-12T20:38:58.629235\",\"2021-09-12T20:39:58.629235\",\"2021-09-12T20:40:58.629235\",\"2021-09-12T20:41:58.629235\",\"2021-09-12T20:42:58.629235\",\"2021-09-12T20:43:58.629235\",\"2021-09-12T20:44:58.629235\",\"2021-09-12T20:45:58.629235\",\"2021-09-12T20:46:58.629235\",\"2021-09-12T20:47:58.629235\",\"2021-09-12T20:48:58.629235\",\"2021-09-12T20:49:58.629235\",\"2021-09-12T20:50:58.629235\",\"2021-09-12T20:51:58.629235\",\"2021-09-12T20:52:58.629235\",\"2021-09-12T20:53:58.629235\",\"2021-09-12T20:54:58.629235\",\"2021-09-12T20:55:58.629235\",\"2021-09-12T20:56:58.629235\",\"2021-09-12T20:57:58.629235\",\"2021-09-12T20:58:58.629235\",\"2021-09-12T20:59:58.629235\",\"2021-09-12T21:00:58.629235\",\"2021-09-12T21:01:58.629235\",\"2021-09-12T21:02:58.629235\",\"2021-09-12T21:03:58.629235\",\"2021-09-12T21:04:58.629235\",\"2021-09-12T21:05:58.629235\",\"2021-09-12T21:06:58.629235\",\"2021-09-12T21:07:58.629235\",\"2021-09-12T21:08:58.629235\",\"2021-09-12T21:09:58.629235\",\"2021-09-12T21:10:58.629235\",\"2021-09-12T21:11:58.629235\",\"2021-09-12T21:12:58.629235\",\"2021-09-12T21:13:58.629235\",\"2021-09-12T21:14:58.629235\",\"2021-09-12T21:15:58.629235\",\"2021-09-12T21:16:58.629235\",\"2021-09-12T21:17:58.629235\",\"2021-09-12T21:18:58.629235\",\"2021-09-12T21:19:58.629235\",\"2021-09-12T21:20:58.629235\",\"2021-09-12T21:21:58.629235\",\"2021-09-12T21:22:58.629235\",\"2021-09-12T21:23:58.629235\",\"2021-09-12T21:24:58.629235\",\"2021-09-12T21:25:58.629235\",\"2021-09-12T21:26:58.629235\",\"2021-09-12T21:27:58.629235\",\"2021-09-12T21:28:58.629235\",\"2021-09-12T21:29:58.629235\",\"2021-09-12T21:30:58.629235\",\"2021-09-12T21:31:58.629235\",\"2021-09-12T21:32:58.629235\",\"2021-09-12T21:33:58.629235\",\"2021-09-12T21:34:58.629235\",\"2021-09-12T21:35:58.629235\",\"2021-09-12T21:36:58.629235\",\"2021-09-12T21:37:58.629235\",\"2021-09-12T21:38:58.629235\",\"2021-09-12T21:39:58.629235\",\"2021-09-12T21:40:58.629235\",\"2021-09-12T21:41:58.629235\",\"2021-09-12T21:42:58.629235\",\"2021-09-12T21:43:58.629235\",\"2021-09-12T21:44:58.629235\",\"2021-09-12T21:45:58.629235\",\"2021-09-12T21:46:58.629235\",\"2021-09-12T21:47:58.629235\",\"2021-09-12T21:48:58.629235\",\"2021-09-12T21:49:58.629235\",\"2021-09-12T21:50:58.629235\",\"2021-09-12T21:51:58.629235\",\"2021-09-12T21:52:58.629235\",\"2021-09-12T21:53:58.629235\",\"2021-09-12T21:54:58.629235\",\"2021-09-12T21:55:58.629235\",\"2021-09-12T21:56:58.629235\",\"2021-09-12T21:57:58.629235\",\"2021-09-12T21:58:58.629235\",\"2021-09-12T21:59:58.629235\",\"2021-09-12T22:00:58.629235\",\"2021-09-12T22:01:58.629235\",\"2021-09-12T22:02:58.629235\",\"2021-09-12T22:03:58.629235\",\"2021-09-12T22:04:58.629235\",\"2021-09-12T22:05:58.629235\",\"2021-09-12T22:06:58.629235\",\"2021-09-12T22:07:58.629235\",\"2021-09-12T22:08:58.629235\",\"2021-09-12T22:09:58.629235\",\"2021-09-12T22:10:58.629235\",\"2021-09-12T22:11:58.629235\",\"2021-09-12T22:12:58.629235\",\"2021-09-12T22:13:58.629235\",\"2021-09-12T22:14:58.629235\",\"2021-09-12T22:15:58.629235\",\"2021-09-12T22:16:58.629235\",\"2021-09-12T22:17:58.629235\",\"2021-09-12T22:18:58.629235\",\"2021-09-12T22:19:58.629235\",\"2021-09-12T22:20:58.629235\",\"2021-09-12T22:21:58.629235\",\"2021-09-12T22:22:58.629235\",\"2021-09-12T22:23:58.629235\",\"2021-09-12T22:24:58.629235\",\"2021-09-12T22:25:58.629235\",\"2021-09-12T22:26:58.629235\",\"2021-09-12T22:27:58.629235\",\"2021-09-12T22:28:58.629235\",\"2021-09-12T22:29:58.629235\",\"2021-09-12T22:30:58.629235\",\"2021-09-12T22:31:58.629235\",\"2021-09-12T22:32:58.629235\",\"2021-09-12T22:33:58.629235\",\"2021-09-12T22:34:58.629235\",\"2021-09-12T22:35:58.629235\",\"2021-09-12T22:36:58.629235\",\"2021-09-12T22:37:58.629235\",\"2021-09-12T22:38:58.629235\",\"2021-09-12T22:39:58.629235\",\"2021-09-12T22:40:58.629235\",\"2021-09-12T22:41:58.629235\",\"2021-09-12T22:42:58.629235\",\"2021-09-12T22:43:58.629235\",\"2021-09-12T22:44:58.629235\",\"2021-09-12T22:45:58.629235\",\"2021-09-12T22:46:58.629235\",\"2021-09-12T22:47:58.629235\",\"2021-09-12T22:48:58.629235\",\"2021-09-12T22:49:58.629235\",\"2021-09-12T22:50:58.629235\",\"2021-09-12T22:51:58.629235\",\"2021-09-12T22:52:58.629235\",\"2021-09-12T22:53:58.629235\",\"2021-09-12T22:54:58.629235\",\"2021-09-12T22:55:58.629235\",\"2021-09-12T22:56:58.629235\",\"2021-09-12T22:57:58.629235\",\"2021-09-12T22:58:58.629235\",\"2021-09-12T22:59:58.629235\",\"2021-09-12T23:00:58.629235\",\"2021-09-12T23:01:58.629235\",\"2021-09-12T23:02:58.629235\",\"2021-09-12T23:03:58.629235\",\"2021-09-12T23:04:58.629235\",\"2021-09-12T23:05:58.629235\",\"2021-09-12T23:06:58.629235\",\"2021-09-12T23:07:58.629235\",\"2021-09-12T23:08:58.629235\",\"2021-09-12T23:09:58.629235\",\"2021-09-12T23:10:58.629235\",\"2021-09-12T23:11:58.629235\",\"2021-09-12T23:12:58.629235\",\"2021-09-12T23:13:58.629235\",\"2021-09-12T23:14:58.629235\",\"2021-09-12T23:15:58.629235\",\"2021-09-12T23:16:58.629235\",\"2021-09-12T23:17:58.629235\",\"2021-09-12T23:18:58.629235\",\"2021-09-12T23:19:58.629235\",\"2021-09-12T23:20:58.629235\",\"2021-09-12T23:21:58.629235\",\"2021-09-12T23:22:58.629235\",\"2021-09-12T23:23:58.629235\",\"2021-09-12T23:24:58.629235\",\"2021-09-12T23:25:58.629235\"],\"xaxis\":\"x\",\"y\":[1,2,3,4,5,6,7,8,9,10,11,12,13,14,15,16,17,18,19,20,21,22,23,24,25,26,27,28,29,30,31,32,33,34,35,36,37,38,39,40,41,42,43,44,45,46,47,48,49,50,51,52,53,54,55,56,57,58,59,60,60,60,60,60,60,60,60,60,60,60,60,60,60,60,60,60,60,60,60,60,60,60,60,60,60,60,60,60,60,60,60,60,60,60,60,60,60,60,60,60,60,60,60,60,60,60,60,60,60,60,60,60,60,60,60,60,60,60,60,60,60,60,60,60,60,60,60,60,60,60,60,60,60,60,60,60,60,60,60,60,60,60,60,60,60,60,60,60,60,60,60,60,60,60,60,60,60,60,60,60,60,60,60,60,60,60,60,60,60,60,60,60,60,60,60,60,60,60,60,60,60,60,60,60,60,60,60,60,60,60,60,60,60,60,60,60,60,60,60,60,60,60,60,60,60,60,60,60,60,60,60,60,60,60,60,60,60,60,60,60,60,60,60,60,60,60,60,60,60,60,60,60,60,60,60,60,60,60,60,60,60,60,60,60,60,60,60,60,60,60,60,60,60,60,60,60,60,60,60,60,60,60,60,60,60,60,60,60,60,60,60,60,60,60,60,60,60,60,60,60,60,60,60,60,60,60,60,60,60,60,60,60,60,60,60,60,60,60,60,60,60,60,60,60,60,60,60,60,60,60,60,60,60,60,60,60,60,60,60,60,60,60,60,60,60,60,60,60,60,60,60,60,60,60,60,60,60,60,60,60,60,60,60,60,60,60,60,60,60,60,60,60,60,60,60,60,60,60,60,60],\"yaxis\":\"y\"}],                        {\"barmode\":\"relative\",\"legend\":{\"tracegroupgap\":0},\"margin\":{\"t\":60},\"template\":{\"data\":{\"bar\":[{\"error_x\":{\"color\":\"#2a3f5f\"},\"error_y\":{\"color\":\"#2a3f5f\"},\"marker\":{\"line\":{\"color\":\"#E5ECF6\",\"width\":0.5},\"pattern\":{\"fillmode\":\"overlay\",\"size\":10,\"solidity\":0.2}},\"type\":\"bar\"}],\"barpolar\":[{\"marker\":{\"line\":{\"color\":\"#E5ECF6\",\"width\":0.5},\"pattern\":{\"fillmode\":\"overlay\",\"size\":10,\"solidity\":0.2}},\"type\":\"barpolar\"}],\"carpet\":[{\"aaxis\":{\"endlinecolor\":\"#2a3f5f\",\"gridcolor\":\"white\",\"linecolor\":\"white\",\"minorgridcolor\":\"white\",\"startlinecolor\":\"#2a3f5f\"},\"baxis\":{\"endlinecolor\":\"#2a3f5f\",\"gridcolor\":\"white\",\"linecolor\":\"white\",\"minorgridcolor\":\"white\",\"startlinecolor\":\"#2a3f5f\"},\"type\":\"carpet\"}],\"choropleth\":[{\"colorbar\":{\"outlinewidth\":0,\"ticks\":\"\"},\"type\":\"choropleth\"}],\"contour\":[{\"colorbar\":{\"outlinewidth\":0,\"ticks\":\"\"},\"colorscale\":[[0.0,\"#0d0887\"],[0.1111111111111111,\"#46039f\"],[0.2222222222222222,\"#7201a8\"],[0.3333333333333333,\"#9c179e\"],[0.4444444444444444,\"#bd3786\"],[0.5555555555555556,\"#d8576b\"],[0.6666666666666666,\"#ed7953\"],[0.7777777777777778,\"#fb9f3a\"],[0.8888888888888888,\"#fdca26\"],[1.0,\"#f0f921\"]],\"type\":\"contour\"}],\"contourcarpet\":[{\"colorbar\":{\"outlinewidth\":0,\"ticks\":\"\"},\"type\":\"contourcarpet\"}],\"heatmap\":[{\"colorbar\":{\"outlinewidth\":0,\"ticks\":\"\"},\"colorscale\":[[0.0,\"#0d0887\"],[0.1111111111111111,\"#46039f\"],[0.2222222222222222,\"#7201a8\"],[0.3333333333333333,\"#9c179e\"],[0.4444444444444444,\"#bd3786\"],[0.5555555555555556,\"#d8576b\"],[0.6666666666666666,\"#ed7953\"],[0.7777777777777778,\"#fb9f3a\"],[0.8888888888888888,\"#fdca26\"],[1.0,\"#f0f921\"]],\"type\":\"heatmap\"}],\"heatmapgl\":[{\"colorbar\":{\"outlinewidth\":0,\"ticks\":\"\"},\"colorscale\":[[0.0,\"#0d0887\"],[0.1111111111111111,\"#46039f\"],[0.2222222222222222,\"#7201a8\"],[0.3333333333333333,\"#9c179e\"],[0.4444444444444444,\"#bd3786\"],[0.5555555555555556,\"#d8576b\"],[0.6666666666666666,\"#ed7953\"],[0.7777777777777778,\"#fb9f3a\"],[0.8888888888888888,\"#fdca26\"],[1.0,\"#f0f921\"]],\"type\":\"heatmapgl\"}],\"histogram\":[{\"marker\":{\"pattern\":{\"fillmode\":\"overlay\",\"size\":10,\"solidity\":0.2}},\"type\":\"histogram\"}],\"histogram2d\":[{\"colorbar\":{\"outlinewidth\":0,\"ticks\":\"\"},\"colorscale\":[[0.0,\"#0d0887\"],[0.1111111111111111,\"#46039f\"],[0.2222222222222222,\"#7201a8\"],[0.3333333333333333,\"#9c179e\"],[0.4444444444444444,\"#bd3786\"],[0.5555555555555556,\"#d8576b\"],[0.6666666666666666,\"#ed7953\"],[0.7777777777777778,\"#fb9f3a\"],[0.8888888888888888,\"#fdca26\"],[1.0,\"#f0f921\"]],\"type\":\"histogram2d\"}],\"histogram2dcontour\":[{\"colorbar\":{\"outlinewidth\":0,\"ticks\":\"\"},\"colorscale\":[[0.0,\"#0d0887\"],[0.1111111111111111,\"#46039f\"],[0.2222222222222222,\"#7201a8\"],[0.3333333333333333,\"#9c179e\"],[0.4444444444444444,\"#bd3786\"],[0.5555555555555556,\"#d8576b\"],[0.6666666666666666,\"#ed7953\"],[0.7777777777777778,\"#fb9f3a\"],[0.8888888888888888,\"#fdca26\"],[1.0,\"#f0f921\"]],\"type\":\"histogram2dcontour\"}],\"mesh3d\":[{\"colorbar\":{\"outlinewidth\":0,\"ticks\":\"\"},\"type\":\"mesh3d\"}],\"parcoords\":[{\"line\":{\"colorbar\":{\"outlinewidth\":0,\"ticks\":\"\"}},\"type\":\"parcoords\"}],\"pie\":[{\"automargin\":true,\"type\":\"pie\"}],\"scatter\":[{\"marker\":{\"colorbar\":{\"outlinewidth\":0,\"ticks\":\"\"}},\"type\":\"scatter\"}],\"scatter3d\":[{\"line\":{\"colorbar\":{\"outlinewidth\":0,\"ticks\":\"\"}},\"marker\":{\"colorbar\":{\"outlinewidth\":0,\"ticks\":\"\"}},\"type\":\"scatter3d\"}],\"scattercarpet\":[{\"marker\":{\"colorbar\":{\"outlinewidth\":0,\"ticks\":\"\"}},\"type\":\"scattercarpet\"}],\"scattergeo\":[{\"marker\":{\"colorbar\":{\"outlinewidth\":0,\"ticks\":\"\"}},\"type\":\"scattergeo\"}],\"scattergl\":[{\"marker\":{\"colorbar\":{\"outlinewidth\":0,\"ticks\":\"\"}},\"type\":\"scattergl\"}],\"scattermapbox\":[{\"marker\":{\"colorbar\":{\"outlinewidth\":0,\"ticks\":\"\"}},\"type\":\"scattermapbox\"}],\"scatterpolar\":[{\"marker\":{\"colorbar\":{\"outlinewidth\":0,\"ticks\":\"\"}},\"type\":\"scatterpolar\"}],\"scatterpolargl\":[{\"marker\":{\"colorbar\":{\"outlinewidth\":0,\"ticks\":\"\"}},\"type\":\"scatterpolargl\"}],\"scatterternary\":[{\"marker\":{\"colorbar\":{\"outlinewidth\":0,\"ticks\":\"\"}},\"type\":\"scatterternary\"}],\"surface\":[{\"colorbar\":{\"outlinewidth\":0,\"ticks\":\"\"},\"colorscale\":[[0.0,\"#0d0887\"],[0.1111111111111111,\"#46039f\"],[0.2222222222222222,\"#7201a8\"],[0.3333333333333333,\"#9c179e\"],[0.4444444444444444,\"#bd3786\"],[0.5555555555555556,\"#d8576b\"],[0.6666666666666666,\"#ed7953\"],[0.7777777777777778,\"#fb9f3a\"],[0.8888888888888888,\"#fdca26\"],[1.0,\"#f0f921\"]],\"type\":\"surface\"}],\"table\":[{\"cells\":{\"fill\":{\"color\":\"#EBF0F8\"},\"line\":{\"color\":\"white\"}},\"header\":{\"fill\":{\"color\":\"#C8D4E3\"},\"line\":{\"color\":\"white\"}},\"type\":\"table\"}]},\"layout\":{\"annotationdefaults\":{\"arrowcolor\":\"#2a3f5f\",\"arrowhead\":0,\"arrowwidth\":1},\"autotypenumbers\":\"strict\",\"coloraxis\":{\"colorbar\":{\"outlinewidth\":0,\"ticks\":\"\"}},\"colorscale\":{\"diverging\":[[0,\"#8e0152\"],[0.1,\"#c51b7d\"],[0.2,\"#de77ae\"],[0.3,\"#f1b6da\"],[0.4,\"#fde0ef\"],[0.5,\"#f7f7f7\"],[0.6,\"#e6f5d0\"],[0.7,\"#b8e186\"],[0.8,\"#7fbc41\"],[0.9,\"#4d9221\"],[1,\"#276419\"]],\"sequential\":[[0.0,\"#0d0887\"],[0.1111111111111111,\"#46039f\"],[0.2222222222222222,\"#7201a8\"],[0.3333333333333333,\"#9c179e\"],[0.4444444444444444,\"#bd3786\"],[0.5555555555555556,\"#d8576b\"],[0.6666666666666666,\"#ed7953\"],[0.7777777777777778,\"#fb9f3a\"],[0.8888888888888888,\"#fdca26\"],[1.0,\"#f0f921\"]],\"sequentialminus\":[[0.0,\"#0d0887\"],[0.1111111111111111,\"#46039f\"],[0.2222222222222222,\"#7201a8\"],[0.3333333333333333,\"#9c179e\"],[0.4444444444444444,\"#bd3786\"],[0.5555555555555556,\"#d8576b\"],[0.6666666666666666,\"#ed7953\"],[0.7777777777777778,\"#fb9f3a\"],[0.8888888888888888,\"#fdca26\"],[1.0,\"#f0f921\"]]},\"colorway\":[\"#636efa\",\"#EF553B\",\"#00cc96\",\"#ab63fa\",\"#FFA15A\",\"#19d3f3\",\"#FF6692\",\"#B6E880\",\"#FF97FF\",\"#FECB52\"],\"font\":{\"color\":\"#2a3f5f\"},\"geo\":{\"bgcolor\":\"white\",\"lakecolor\":\"white\",\"landcolor\":\"#E5ECF6\",\"showlakes\":true,\"showland\":true,\"subunitcolor\":\"white\"},\"hoverlabel\":{\"align\":\"left\"},\"hovermode\":\"closest\",\"mapbox\":{\"style\":\"light\"},\"paper_bgcolor\":\"white\",\"plot_bgcolor\":\"#E5ECF6\",\"polar\":{\"angularaxis\":{\"gridcolor\":\"white\",\"linecolor\":\"white\",\"ticks\":\"\"},\"bgcolor\":\"#E5ECF6\",\"radialaxis\":{\"gridcolor\":\"white\",\"linecolor\":\"white\",\"ticks\":\"\"}},\"scene\":{\"xaxis\":{\"backgroundcolor\":\"#E5ECF6\",\"gridcolor\":\"white\",\"gridwidth\":2,\"linecolor\":\"white\",\"showbackground\":true,\"ticks\":\"\",\"zerolinecolor\":\"white\"},\"yaxis\":{\"backgroundcolor\":\"#E5ECF6\",\"gridcolor\":\"white\",\"gridwidth\":2,\"linecolor\":\"white\",\"showbackground\":true,\"ticks\":\"\",\"zerolinecolor\":\"white\"},\"zaxis\":{\"backgroundcolor\":\"#E5ECF6\",\"gridcolor\":\"white\",\"gridwidth\":2,\"linecolor\":\"white\",\"showbackground\":true,\"ticks\":\"\",\"zerolinecolor\":\"white\"}},\"shapedefaults\":{\"line\":{\"color\":\"#2a3f5f\"}},\"ternary\":{\"aaxis\":{\"gridcolor\":\"white\",\"linecolor\":\"white\",\"ticks\":\"\"},\"baxis\":{\"gridcolor\":\"white\",\"linecolor\":\"white\",\"ticks\":\"\"},\"bgcolor\":\"#E5ECF6\",\"caxis\":{\"gridcolor\":\"white\",\"linecolor\":\"white\",\"ticks\":\"\"}},\"title\":{\"x\":0.05},\"xaxis\":{\"automargin\":true,\"gridcolor\":\"white\",\"linecolor\":\"white\",\"ticks\":\"\",\"title\":{\"standoff\":15},\"zerolinecolor\":\"white\",\"zerolinewidth\":2},\"yaxis\":{\"automargin\":true,\"gridcolor\":\"white\",\"linecolor\":\"white\",\"ticks\":\"\",\"title\":{\"standoff\":15},\"zerolinecolor\":\"white\",\"zerolinewidth\":2}}},\"xaxis\":{\"anchor\":\"y\",\"domain\":[0.0,1.0],\"title\":{\"text\":\"Timestamp\"}},\"yaxis\":{\"anchor\":\"x\",\"domain\":[0.0,1.0],\"title\":{\"text\":\"Value\"}}},                        {\"responsive\": true}                    ).then(function(){\n",
       "                            \n",
       "var gd = document.getElementById('eb271893-3f1e-45d0-8b71-7c5977639b7b');\n",
       "var x = new MutationObserver(function (mutations, observer) {{\n",
       "        var display = window.getComputedStyle(gd).display;\n",
       "        if (!display || display === 'none') {{\n",
       "            console.log([gd, 'removed!']);\n",
       "            Plotly.purge(gd);\n",
       "            observer.disconnect();\n",
       "        }}\n",
       "}});\n",
       "\n",
       "// Listen for the removal of the full notebook cells\n",
       "var notebookContainer = gd.closest('#notebook-container');\n",
       "if (notebookContainer) {{\n",
       "    x.observe(notebookContainer, {childList: true});\n",
       "}}\n",
       "\n",
       "// Listen for the clearing of the current output cell\n",
       "var outputEl = gd.closest('.output');\n",
       "if (outputEl) {{\n",
       "    x.observe(outputEl, {childList: true});\n",
       "}}\n",
       "\n",
       "                        })                };                });            </script>        </div>"
      ]
     },
     "metadata": {},
     "output_type": "display_data"
    }
   ],
   "source": [
    "fig = px.bar(df_users_active, x='Timestamp', y='Value')\n",
    "fig.show()"
   ]
  },
  {
   "cell_type": "markdown",
   "metadata": {},
   "source": [
    "# Users activity"
   ]
  },
  {
   "cell_type": "code",
   "execution_count": 60,
   "metadata": {},
   "outputs": [
    {
     "data": {
      "text/html": [
       "<div>\n",
       "<style scoped>\n",
       "    .dataframe tbody tr th:only-of-type {\n",
       "        vertical-align: middle;\n",
       "    }\n",
       "\n",
       "    .dataframe tbody tr th {\n",
       "        vertical-align: top;\n",
       "    }\n",
       "\n",
       "    .dataframe thead th {\n",
       "        text-align: right;\n",
       "    }\n",
       "</style>\n",
       "<table border=\"1\" class=\"dataframe\">\n",
       "  <thead>\n",
       "    <tr style=\"text-align: right;\">\n",
       "      <th></th>\n",
       "      <th>Scenario</th>\n",
       "      <th>Start</th>\n",
       "      <th>StartMark</th>\n",
       "      <th>Task</th>\n",
       "      <th>TaskId</th>\n",
       "      <th>Username</th>\n",
       "    </tr>\n",
       "  </thead>\n",
       "  <tbody>\n",
       "    <tr>\n",
       "      <th>0</th>\n",
       "      <td>Sc2</td>\n",
       "      <td>2021-09-12 17:26:58.629235</td>\n",
       "      <td>0</td>\n",
       "      <td>load data</td>\n",
       "      <td>1</td>\n",
       "      <td>User-001</td>\n",
       "    </tr>\n",
       "    <tr>\n",
       "      <th>1</th>\n",
       "      <td>Sc2</td>\n",
       "      <td>2021-09-12 17:27:58.629235</td>\n",
       "      <td>1</td>\n",
       "      <td>load data</td>\n",
       "      <td>1</td>\n",
       "      <td>User-002</td>\n",
       "    </tr>\n",
       "    <tr>\n",
       "      <th>2</th>\n",
       "      <td>Sc2</td>\n",
       "      <td>2021-09-12 17:28:58.629235</td>\n",
       "      <td>2</td>\n",
       "      <td>load data</td>\n",
       "      <td>1</td>\n",
       "      <td>User-003</td>\n",
       "    </tr>\n",
       "    <tr>\n",
       "      <th>3</th>\n",
       "      <td>Sc2</td>\n",
       "      <td>2021-09-12 17:29:58.629235</td>\n",
       "      <td>3</td>\n",
       "      <td>load data</td>\n",
       "      <td>1</td>\n",
       "      <td>User-004</td>\n",
       "    </tr>\n",
       "    <tr>\n",
       "      <th>4</th>\n",
       "      <td>Sc2</td>\n",
       "      <td>2021-09-12 17:30:58.629235</td>\n",
       "      <td>4</td>\n",
       "      <td>load data</td>\n",
       "      <td>1</td>\n",
       "      <td>User-005</td>\n",
       "    </tr>\n",
       "    <tr>\n",
       "      <th>5</th>\n",
       "      <td>Sc2</td>\n",
       "      <td>2021-09-12 17:31:58.629235</td>\n",
       "      <td>5</td>\n",
       "      <td>load data</td>\n",
       "      <td>1</td>\n",
       "      <td>User-006</td>\n",
       "    </tr>\n",
       "    <tr>\n",
       "      <th>6</th>\n",
       "      <td>Sc1</td>\n",
       "      <td>2021-09-12 17:32:58.629235</td>\n",
       "      <td>6</td>\n",
       "      <td>step 1</td>\n",
       "      <td>1</td>\n",
       "      <td>User-007</td>\n",
       "    </tr>\n",
       "    <tr>\n",
       "      <th>7</th>\n",
       "      <td>Sc2</td>\n",
       "      <td>2021-09-12 17:33:58.629235</td>\n",
       "      <td>7</td>\n",
       "      <td>load data</td>\n",
       "      <td>1</td>\n",
       "      <td>User-008</td>\n",
       "    </tr>\n",
       "    <tr>\n",
       "      <th>8</th>\n",
       "      <td>Sc1</td>\n",
       "      <td>2021-09-12 17:34:58.629235</td>\n",
       "      <td>8</td>\n",
       "      <td>step 1</td>\n",
       "      <td>1</td>\n",
       "      <td>User-009</td>\n",
       "    </tr>\n",
       "    <tr>\n",
       "      <th>9</th>\n",
       "      <td>Sc2</td>\n",
       "      <td>2021-09-12 17:35:58.629235</td>\n",
       "      <td>9</td>\n",
       "      <td>load data</td>\n",
       "      <td>1</td>\n",
       "      <td>User-010</td>\n",
       "    </tr>\n",
       "    <tr>\n",
       "      <th>10</th>\n",
       "      <td>Sc2</td>\n",
       "      <td>2021-09-12 17:36:58.629235</td>\n",
       "      <td>10</td>\n",
       "      <td>load data</td>\n",
       "      <td>1</td>\n",
       "      <td>User-011</td>\n",
       "    </tr>\n",
       "    <tr>\n",
       "      <th>11</th>\n",
       "      <td>Sc2</td>\n",
       "      <td>2021-09-12 17:37:58.629235</td>\n",
       "      <td>11</td>\n",
       "      <td>load data</td>\n",
       "      <td>1</td>\n",
       "      <td>User-012</td>\n",
       "    </tr>\n",
       "    <tr>\n",
       "      <th>12</th>\n",
       "      <td>Sc2</td>\n",
       "      <td>2021-09-12 17:38:58.629235</td>\n",
       "      <td>12</td>\n",
       "      <td>load data</td>\n",
       "      <td>1</td>\n",
       "      <td>User-013</td>\n",
       "    </tr>\n",
       "    <tr>\n",
       "      <th>13</th>\n",
       "      <td>Sc2</td>\n",
       "      <td>2021-09-12 17:39:58.629235</td>\n",
       "      <td>13</td>\n",
       "      <td>load data</td>\n",
       "      <td>1</td>\n",
       "      <td>User-014</td>\n",
       "    </tr>\n",
       "    <tr>\n",
       "      <th>14</th>\n",
       "      <td>Sc2</td>\n",
       "      <td>2021-09-12 17:40:58.629235</td>\n",
       "      <td>14</td>\n",
       "      <td>load data</td>\n",
       "      <td>1</td>\n",
       "      <td>User-015</td>\n",
       "    </tr>\n",
       "    <tr>\n",
       "      <th>15</th>\n",
       "      <td>Sc2</td>\n",
       "      <td>2021-09-12 17:41:58.629235</td>\n",
       "      <td>15</td>\n",
       "      <td>load data</td>\n",
       "      <td>1</td>\n",
       "      <td>User-016</td>\n",
       "    </tr>\n",
       "    <tr>\n",
       "      <th>16</th>\n",
       "      <td>Sc2</td>\n",
       "      <td>2021-09-12 17:41:58.629235</td>\n",
       "      <td>15</td>\n",
       "      <td>step 1-3</td>\n",
       "      <td>3</td>\n",
       "      <td>User-001</td>\n",
       "    </tr>\n",
       "    <tr>\n",
       "      <th>17</th>\n",
       "      <td>Sc2</td>\n",
       "      <td>2021-09-12 17:42:58.629235</td>\n",
       "      <td>16</td>\n",
       "      <td>load data</td>\n",
       "      <td>1</td>\n",
       "      <td>User-017</td>\n",
       "    </tr>\n",
       "    <tr>\n",
       "      <th>18</th>\n",
       "      <td>Sc2</td>\n",
       "      <td>2021-09-12 17:42:58.629235</td>\n",
       "      <td>16</td>\n",
       "      <td>step 1-3</td>\n",
       "      <td>3</td>\n",
       "      <td>User-002</td>\n",
       "    </tr>\n",
       "    <tr>\n",
       "      <th>19</th>\n",
       "      <td>Sc2</td>\n",
       "      <td>2021-09-12 17:43:58.629235</td>\n",
       "      <td>17</td>\n",
       "      <td>load data</td>\n",
       "      <td>1</td>\n",
       "      <td>User-018</td>\n",
       "    </tr>\n",
       "    <tr>\n",
       "      <th>20</th>\n",
       "      <td>Sc1</td>\n",
       "      <td>2021-09-12 17:44:58.629235</td>\n",
       "      <td>18</td>\n",
       "      <td>step 1</td>\n",
       "      <td>1</td>\n",
       "      <td>User-019</td>\n",
       "    </tr>\n",
       "    <tr>\n",
       "      <th>21</th>\n",
       "      <td>Sc2</td>\n",
       "      <td>2021-09-12 17:45:58.629235</td>\n",
       "      <td>19</td>\n",
       "      <td>load data</td>\n",
       "      <td>1</td>\n",
       "      <td>User-020</td>\n",
       "    </tr>\n",
       "    <tr>\n",
       "      <th>22</th>\n",
       "      <td>Sc1</td>\n",
       "      <td>2021-09-12 17:46:58.629235</td>\n",
       "      <td>20</td>\n",
       "      <td>step 1</td>\n",
       "      <td>1</td>\n",
       "      <td>User-021</td>\n",
       "    </tr>\n",
       "    <tr>\n",
       "      <th>23</th>\n",
       "      <td>Sc2</td>\n",
       "      <td>2021-09-12 17:46:58.629235</td>\n",
       "      <td>20</td>\n",
       "      <td>step 1-3</td>\n",
       "      <td>3</td>\n",
       "      <td>User-003</td>\n",
       "    </tr>\n",
       "    <tr>\n",
       "      <th>24</th>\n",
       "      <td>Sc2</td>\n",
       "      <td>2021-09-12 17:47:58.629235</td>\n",
       "      <td>21</td>\n",
       "      <td>load data</td>\n",
       "      <td>1</td>\n",
       "      <td>User-022</td>\n",
       "    </tr>\n",
       "    <tr>\n",
       "      <th>25</th>\n",
       "      <td>Sc2</td>\n",
       "      <td>2021-09-12 17:47:58.629235</td>\n",
       "      <td>21</td>\n",
       "      <td>step 1-3</td>\n",
       "      <td>3</td>\n",
       "      <td>User-004</td>\n",
       "    </tr>\n",
       "    <tr>\n",
       "      <th>26</th>\n",
       "      <td>Sc2</td>\n",
       "      <td>2021-09-12 17:48:58.629235</td>\n",
       "      <td>22</td>\n",
       "      <td>load data</td>\n",
       "      <td>1</td>\n",
       "      <td>User-023</td>\n",
       "    </tr>\n",
       "    <tr>\n",
       "      <th>27</th>\n",
       "      <td>Sc2</td>\n",
       "      <td>2021-09-12 17:49:58.629235</td>\n",
       "      <td>23</td>\n",
       "      <td>load data</td>\n",
       "      <td>1</td>\n",
       "      <td>User-024</td>\n",
       "    </tr>\n",
       "    <tr>\n",
       "      <th>28</th>\n",
       "      <td>Sc2</td>\n",
       "      <td>2021-09-12 17:50:58.629235</td>\n",
       "      <td>24</td>\n",
       "      <td>load data</td>\n",
       "      <td>1</td>\n",
       "      <td>User-025</td>\n",
       "    </tr>\n",
       "    <tr>\n",
       "      <th>29</th>\n",
       "      <td>Sc2</td>\n",
       "      <td>2021-09-12 17:51:58.629235</td>\n",
       "      <td>25</td>\n",
       "      <td>load data</td>\n",
       "      <td>1</td>\n",
       "      <td>User-026</td>\n",
       "    </tr>\n",
       "    <tr>\n",
       "      <th>...</th>\n",
       "      <td>...</td>\n",
       "      <td>...</td>\n",
       "      <td>...</td>\n",
       "      <td>...</td>\n",
       "      <td>...</td>\n",
       "      <td>...</td>\n",
       "    </tr>\n",
       "    <tr>\n",
       "      <th>630</th>\n",
       "      <td>Sc2</td>\n",
       "      <td>2021-09-12 23:03:58.629235</td>\n",
       "      <td>337</td>\n",
       "      <td>whole step</td>\n",
       "      <td>12</td>\n",
       "      <td>User-058</td>\n",
       "    </tr>\n",
       "    <tr>\n",
       "      <th>631</th>\n",
       "      <td>Sc2</td>\n",
       "      <td>2021-09-12 23:03:58.629235</td>\n",
       "      <td>337</td>\n",
       "      <td>whole step</td>\n",
       "      <td>12</td>\n",
       "      <td>User-059</td>\n",
       "    </tr>\n",
       "    <tr>\n",
       "      <th>632</th>\n",
       "      <td>Sc2</td>\n",
       "      <td>2021-09-12 23:04:58.629235</td>\n",
       "      <td>338</td>\n",
       "      <td>whole step</td>\n",
       "      <td>13</td>\n",
       "      <td>User-049</td>\n",
       "    </tr>\n",
       "    <tr>\n",
       "      <th>633</th>\n",
       "      <td>Sc2</td>\n",
       "      <td>2021-09-12 23:04:58.629235</td>\n",
       "      <td>338</td>\n",
       "      <td>whole step</td>\n",
       "      <td>13</td>\n",
       "      <td>User-050</td>\n",
       "    </tr>\n",
       "    <tr>\n",
       "      <th>634</th>\n",
       "      <td>Sc2</td>\n",
       "      <td>2021-09-12 23:04:58.629235</td>\n",
       "      <td>338</td>\n",
       "      <td>whole step</td>\n",
       "      <td>14</td>\n",
       "      <td>User-040</td>\n",
       "    </tr>\n",
       "    <tr>\n",
       "      <th>636</th>\n",
       "      <td>Sc2</td>\n",
       "      <td>2021-09-12 23:05:58.629235</td>\n",
       "      <td>339</td>\n",
       "      <td>whole step</td>\n",
       "      <td>13</td>\n",
       "      <td>User-051</td>\n",
       "    </tr>\n",
       "    <tr>\n",
       "      <th>637</th>\n",
       "      <td>Sc2</td>\n",
       "      <td>2021-09-12 23:05:58.629235</td>\n",
       "      <td>339</td>\n",
       "      <td>whole step</td>\n",
       "      <td>13</td>\n",
       "      <td>User-052</td>\n",
       "    </tr>\n",
       "    <tr>\n",
       "      <th>635</th>\n",
       "      <td>Sc2</td>\n",
       "      <td>2021-09-12 23:05:58.629235</td>\n",
       "      <td>339</td>\n",
       "      <td>whole step</td>\n",
       "      <td>14</td>\n",
       "      <td>User-041</td>\n",
       "    </tr>\n",
       "    <tr>\n",
       "      <th>638</th>\n",
       "      <td>Sc2</td>\n",
       "      <td>2021-09-12 23:06:58.629235</td>\n",
       "      <td>340</td>\n",
       "      <td>whole step</td>\n",
       "      <td>14</td>\n",
       "      <td>User-042</td>\n",
       "    </tr>\n",
       "    <tr>\n",
       "      <th>640</th>\n",
       "      <td>Sc2</td>\n",
       "      <td>2021-09-12 23:07:58.629235</td>\n",
       "      <td>341</td>\n",
       "      <td>whole step</td>\n",
       "      <td>12</td>\n",
       "      <td>User-060</td>\n",
       "    </tr>\n",
       "    <tr>\n",
       "      <th>641</th>\n",
       "      <td>Sc2</td>\n",
       "      <td>2021-09-12 23:07:58.629235</td>\n",
       "      <td>341</td>\n",
       "      <td>whole step</td>\n",
       "      <td>13</td>\n",
       "      <td>User-053</td>\n",
       "    </tr>\n",
       "    <tr>\n",
       "      <th>639</th>\n",
       "      <td>Sc2</td>\n",
       "      <td>2021-09-12 23:07:58.629235</td>\n",
       "      <td>341</td>\n",
       "      <td>whole step</td>\n",
       "      <td>14</td>\n",
       "      <td>User-044</td>\n",
       "    </tr>\n",
       "    <tr>\n",
       "      <th>642</th>\n",
       "      <td>Sc2</td>\n",
       "      <td>2021-09-12 23:08:58.629235</td>\n",
       "      <td>342</td>\n",
       "      <td>whole step</td>\n",
       "      <td>13</td>\n",
       "      <td>User-054</td>\n",
       "    </tr>\n",
       "    <tr>\n",
       "      <th>643</th>\n",
       "      <td>Sc2</td>\n",
       "      <td>2021-09-12 23:08:58.629235</td>\n",
       "      <td>342</td>\n",
       "      <td>whole step</td>\n",
       "      <td>14</td>\n",
       "      <td>User-046</td>\n",
       "    </tr>\n",
       "    <tr>\n",
       "      <th>644</th>\n",
       "      <td>Sc2</td>\n",
       "      <td>2021-09-12 23:08:58.629235</td>\n",
       "      <td>342</td>\n",
       "      <td>whole step</td>\n",
       "      <td>14</td>\n",
       "      <td>User-047</td>\n",
       "    </tr>\n",
       "    <tr>\n",
       "      <th>645</th>\n",
       "      <td>Sc2</td>\n",
       "      <td>2021-09-12 23:08:58.629235</td>\n",
       "      <td>342</td>\n",
       "      <td>whole step</td>\n",
       "      <td>14</td>\n",
       "      <td>User-048</td>\n",
       "    </tr>\n",
       "    <tr>\n",
       "      <th>646</th>\n",
       "      <td>Sc2</td>\n",
       "      <td>2021-09-12 23:09:58.629235</td>\n",
       "      <td>343</td>\n",
       "      <td>whole step</td>\n",
       "      <td>13</td>\n",
       "      <td>User-056</td>\n",
       "    </tr>\n",
       "    <tr>\n",
       "      <th>647</th>\n",
       "      <td>Sc2</td>\n",
       "      <td>2021-09-12 23:10:58.629235</td>\n",
       "      <td>344</td>\n",
       "      <td>whole step</td>\n",
       "      <td>13</td>\n",
       "      <td>User-058</td>\n",
       "    </tr>\n",
       "    <tr>\n",
       "      <th>648</th>\n",
       "      <td>Sc2</td>\n",
       "      <td>2021-09-12 23:10:58.629235</td>\n",
       "      <td>344</td>\n",
       "      <td>whole step</td>\n",
       "      <td>13</td>\n",
       "      <td>User-059</td>\n",
       "    </tr>\n",
       "    <tr>\n",
       "      <th>649</th>\n",
       "      <td>Sc2</td>\n",
       "      <td>2021-09-12 23:10:58.629235</td>\n",
       "      <td>344</td>\n",
       "      <td>whole step</td>\n",
       "      <td>14</td>\n",
       "      <td>User-049</td>\n",
       "    </tr>\n",
       "    <tr>\n",
       "      <th>650</th>\n",
       "      <td>Sc2</td>\n",
       "      <td>2021-09-12 23:11:58.629235</td>\n",
       "      <td>345</td>\n",
       "      <td>whole step</td>\n",
       "      <td>14</td>\n",
       "      <td>User-050</td>\n",
       "    </tr>\n",
       "    <tr>\n",
       "      <th>651</th>\n",
       "      <td>Sc2</td>\n",
       "      <td>2021-09-12 23:11:58.629235</td>\n",
       "      <td>345</td>\n",
       "      <td>whole step</td>\n",
       "      <td>14</td>\n",
       "      <td>User-051</td>\n",
       "    </tr>\n",
       "    <tr>\n",
       "      <th>652</th>\n",
       "      <td>Sc2</td>\n",
       "      <td>2021-09-12 23:11:58.629235</td>\n",
       "      <td>345</td>\n",
       "      <td>whole step</td>\n",
       "      <td>14</td>\n",
       "      <td>User-052</td>\n",
       "    </tr>\n",
       "    <tr>\n",
       "      <th>653</th>\n",
       "      <td>Sc2</td>\n",
       "      <td>2021-09-12 23:12:58.629235</td>\n",
       "      <td>346</td>\n",
       "      <td>whole step</td>\n",
       "      <td>13</td>\n",
       "      <td>User-060</td>\n",
       "    </tr>\n",
       "    <tr>\n",
       "      <th>654</th>\n",
       "      <td>Sc2</td>\n",
       "      <td>2021-09-12 23:13:58.629235</td>\n",
       "      <td>347</td>\n",
       "      <td>whole step</td>\n",
       "      <td>14</td>\n",
       "      <td>User-053</td>\n",
       "    </tr>\n",
       "    <tr>\n",
       "      <th>655</th>\n",
       "      <td>Sc2</td>\n",
       "      <td>2021-09-12 23:13:58.629235</td>\n",
       "      <td>347</td>\n",
       "      <td>whole step</td>\n",
       "      <td>14</td>\n",
       "      <td>User-054</td>\n",
       "    </tr>\n",
       "    <tr>\n",
       "      <th>656</th>\n",
       "      <td>Sc2</td>\n",
       "      <td>2021-09-12 23:14:58.629235</td>\n",
       "      <td>348</td>\n",
       "      <td>whole step</td>\n",
       "      <td>14</td>\n",
       "      <td>User-056</td>\n",
       "    </tr>\n",
       "    <tr>\n",
       "      <th>657</th>\n",
       "      <td>Sc2</td>\n",
       "      <td>2021-09-12 23:14:58.629235</td>\n",
       "      <td>348</td>\n",
       "      <td>whole step</td>\n",
       "      <td>14</td>\n",
       "      <td>User-058</td>\n",
       "    </tr>\n",
       "    <tr>\n",
       "      <th>658</th>\n",
       "      <td>Sc2</td>\n",
       "      <td>2021-09-12 23:14:58.629235</td>\n",
       "      <td>348</td>\n",
       "      <td>whole step</td>\n",
       "      <td>14</td>\n",
       "      <td>User-059</td>\n",
       "    </tr>\n",
       "    <tr>\n",
       "      <th>659</th>\n",
       "      <td>Sc2</td>\n",
       "      <td>2021-09-12 23:16:58.629235</td>\n",
       "      <td>350</td>\n",
       "      <td>whole step</td>\n",
       "      <td>14</td>\n",
       "      <td>User-060</td>\n",
       "    </tr>\n",
       "  </tbody>\n",
       "</table>\n",
       "<p>660 rows × 6 columns</p>\n",
       "</div>"
      ],
      "text/plain": [
       "    Scenario                      Start  StartMark        Task  TaskId  \\\n",
       "0        Sc2 2021-09-12 17:26:58.629235          0   load data       1   \n",
       "1        Sc2 2021-09-12 17:27:58.629235          1   load data       1   \n",
       "2        Sc2 2021-09-12 17:28:58.629235          2   load data       1   \n",
       "3        Sc2 2021-09-12 17:29:58.629235          3   load data       1   \n",
       "4        Sc2 2021-09-12 17:30:58.629235          4   load data       1   \n",
       "5        Sc2 2021-09-12 17:31:58.629235          5   load data       1   \n",
       "6        Sc1 2021-09-12 17:32:58.629235          6      step 1       1   \n",
       "7        Sc2 2021-09-12 17:33:58.629235          7   load data       1   \n",
       "8        Sc1 2021-09-12 17:34:58.629235          8      step 1       1   \n",
       "9        Sc2 2021-09-12 17:35:58.629235          9   load data       1   \n",
       "10       Sc2 2021-09-12 17:36:58.629235         10   load data       1   \n",
       "11       Sc2 2021-09-12 17:37:58.629235         11   load data       1   \n",
       "12       Sc2 2021-09-12 17:38:58.629235         12   load data       1   \n",
       "13       Sc2 2021-09-12 17:39:58.629235         13   load data       1   \n",
       "14       Sc2 2021-09-12 17:40:58.629235         14   load data       1   \n",
       "15       Sc2 2021-09-12 17:41:58.629235         15   load data       1   \n",
       "16       Sc2 2021-09-12 17:41:58.629235         15    step 1-3       3   \n",
       "17       Sc2 2021-09-12 17:42:58.629235         16   load data       1   \n",
       "18       Sc2 2021-09-12 17:42:58.629235         16    step 1-3       3   \n",
       "19       Sc2 2021-09-12 17:43:58.629235         17   load data       1   \n",
       "20       Sc1 2021-09-12 17:44:58.629235         18      step 1       1   \n",
       "21       Sc2 2021-09-12 17:45:58.629235         19   load data       1   \n",
       "22       Sc1 2021-09-12 17:46:58.629235         20      step 1       1   \n",
       "23       Sc2 2021-09-12 17:46:58.629235         20    step 1-3       3   \n",
       "24       Sc2 2021-09-12 17:47:58.629235         21   load data       1   \n",
       "25       Sc2 2021-09-12 17:47:58.629235         21    step 1-3       3   \n",
       "26       Sc2 2021-09-12 17:48:58.629235         22   load data       1   \n",
       "27       Sc2 2021-09-12 17:49:58.629235         23   load data       1   \n",
       "28       Sc2 2021-09-12 17:50:58.629235         24   load data       1   \n",
       "29       Sc2 2021-09-12 17:51:58.629235         25   load data       1   \n",
       "..       ...                        ...        ...         ...     ...   \n",
       "630      Sc2 2021-09-12 23:03:58.629235        337  whole step      12   \n",
       "631      Sc2 2021-09-12 23:03:58.629235        337  whole step      12   \n",
       "632      Sc2 2021-09-12 23:04:58.629235        338  whole step      13   \n",
       "633      Sc2 2021-09-12 23:04:58.629235        338  whole step      13   \n",
       "634      Sc2 2021-09-12 23:04:58.629235        338  whole step      14   \n",
       "636      Sc2 2021-09-12 23:05:58.629235        339  whole step      13   \n",
       "637      Sc2 2021-09-12 23:05:58.629235        339  whole step      13   \n",
       "635      Sc2 2021-09-12 23:05:58.629235        339  whole step      14   \n",
       "638      Sc2 2021-09-12 23:06:58.629235        340  whole step      14   \n",
       "640      Sc2 2021-09-12 23:07:58.629235        341  whole step      12   \n",
       "641      Sc2 2021-09-12 23:07:58.629235        341  whole step      13   \n",
       "639      Sc2 2021-09-12 23:07:58.629235        341  whole step      14   \n",
       "642      Sc2 2021-09-12 23:08:58.629235        342  whole step      13   \n",
       "643      Sc2 2021-09-12 23:08:58.629235        342  whole step      14   \n",
       "644      Sc2 2021-09-12 23:08:58.629235        342  whole step      14   \n",
       "645      Sc2 2021-09-12 23:08:58.629235        342  whole step      14   \n",
       "646      Sc2 2021-09-12 23:09:58.629235        343  whole step      13   \n",
       "647      Sc2 2021-09-12 23:10:58.629235        344  whole step      13   \n",
       "648      Sc2 2021-09-12 23:10:58.629235        344  whole step      13   \n",
       "649      Sc2 2021-09-12 23:10:58.629235        344  whole step      14   \n",
       "650      Sc2 2021-09-12 23:11:58.629235        345  whole step      14   \n",
       "651      Sc2 2021-09-12 23:11:58.629235        345  whole step      14   \n",
       "652      Sc2 2021-09-12 23:11:58.629235        345  whole step      14   \n",
       "653      Sc2 2021-09-12 23:12:58.629235        346  whole step      13   \n",
       "654      Sc2 2021-09-12 23:13:58.629235        347  whole step      14   \n",
       "655      Sc2 2021-09-12 23:13:58.629235        347  whole step      14   \n",
       "656      Sc2 2021-09-12 23:14:58.629235        348  whole step      14   \n",
       "657      Sc2 2021-09-12 23:14:58.629235        348  whole step      14   \n",
       "658      Sc2 2021-09-12 23:14:58.629235        348  whole step      14   \n",
       "659      Sc2 2021-09-12 23:16:58.629235        350  whole step      14   \n",
       "\n",
       "     Username  \n",
       "0    User-001  \n",
       "1    User-002  \n",
       "2    User-003  \n",
       "3    User-004  \n",
       "4    User-005  \n",
       "5    User-006  \n",
       "6    User-007  \n",
       "7    User-008  \n",
       "8    User-009  \n",
       "9    User-010  \n",
       "10   User-011  \n",
       "11   User-012  \n",
       "12   User-013  \n",
       "13   User-014  \n",
       "14   User-015  \n",
       "15   User-016  \n",
       "16   User-001  \n",
       "17   User-017  \n",
       "18   User-002  \n",
       "19   User-018  \n",
       "20   User-019  \n",
       "21   User-020  \n",
       "22   User-021  \n",
       "23   User-003  \n",
       "24   User-022  \n",
       "25   User-004  \n",
       "26   User-023  \n",
       "27   User-024  \n",
       "28   User-025  \n",
       "29   User-026  \n",
       "..        ...  \n",
       "630  User-058  \n",
       "631  User-059  \n",
       "632  User-049  \n",
       "633  User-050  \n",
       "634  User-040  \n",
       "636  User-051  \n",
       "637  User-052  \n",
       "635  User-041  \n",
       "638  User-042  \n",
       "640  User-060  \n",
       "641  User-053  \n",
       "639  User-044  \n",
       "642  User-054  \n",
       "643  User-046  \n",
       "644  User-047  \n",
       "645  User-048  \n",
       "646  User-056  \n",
       "647  User-058  \n",
       "648  User-059  \n",
       "649  User-049  \n",
       "650  User-050  \n",
       "651  User-051  \n",
       "652  User-052  \n",
       "653  User-060  \n",
       "654  User-053  \n",
       "655  User-054  \n",
       "656  User-056  \n",
       "657  User-058  \n",
       "658  User-059  \n",
       "659  User-060  \n",
       "\n",
       "[660 rows x 6 columns]"
      ]
     },
     "metadata": {},
     "output_type": "display_data"
    }
   ],
   "source": [
    "# debug\n",
    "df_start = pd.DataFrame(world.user_monitor.start_data)\n",
    "df_start_sorted = df_start.sort_values(by=['StartMark', 'Scenario', 'TaskId'])\n",
    "display(df_start_sorted)"
   ]
  },
  {
   "cell_type": "code",
   "execution_count": 61,
   "metadata": {},
   "outputs": [],
   "source": [
    "# debug\n",
    "#df_stop = pd.DataFrame(world.user_monitor.stop_data)\n",
    "#display(df_stop)"
   ]
  },
  {
   "cell_type": "code",
   "execution_count": 62,
   "metadata": {},
   "outputs": [],
   "source": [
    "# debug\n",
    "#df_stop.shape"
   ]
  },
  {
   "cell_type": "markdown",
   "metadata": {},
   "source": [
    "## Users chronogram"
   ]
  },
  {
   "cell_type": "code",
   "execution_count": 63,
   "metadata": {},
   "outputs": [
    {
     "data": {
      "text/html": [
       "<div>\n",
       "<style scoped>\n",
       "    .dataframe tbody tr th:only-of-type {\n",
       "        vertical-align: middle;\n",
       "    }\n",
       "\n",
       "    .dataframe tbody tr th {\n",
       "        vertical-align: top;\n",
       "    }\n",
       "\n",
       "    .dataframe thead th {\n",
       "        text-align: right;\n",
       "    }\n",
       "</style>\n",
       "<table border=\"1\" class=\"dataframe\">\n",
       "  <thead>\n",
       "    <tr style=\"text-align: right;\">\n",
       "      <th></th>\n",
       "      <th>Scenario</th>\n",
       "      <th>Start</th>\n",
       "      <th>StartMark</th>\n",
       "      <th>Task</th>\n",
       "      <th>TaskId</th>\n",
       "      <th>Username</th>\n",
       "      <th>Finish</th>\n",
       "      <th>FinishMark</th>\n",
       "      <th>Duration</th>\n",
       "    </tr>\n",
       "  </thead>\n",
       "  <tbody>\n",
       "    <tr>\n",
       "      <th>0</th>\n",
       "      <td>Sc2</td>\n",
       "      <td>2021-09-12 17:26:58.629235</td>\n",
       "      <td>0</td>\n",
       "      <td>load data</td>\n",
       "      <td>1</td>\n",
       "      <td>User-001</td>\n",
       "      <td>2021-09-12 17:31:58.629235</td>\n",
       "      <td>5</td>\n",
       "      <td>5</td>\n",
       "    </tr>\n",
       "    <tr>\n",
       "      <th>1</th>\n",
       "      <td>Sc2</td>\n",
       "      <td>2021-09-12 17:27:58.629235</td>\n",
       "      <td>1</td>\n",
       "      <td>load data</td>\n",
       "      <td>1</td>\n",
       "      <td>User-002</td>\n",
       "      <td>2021-09-12 17:32:58.629235</td>\n",
       "      <td>6</td>\n",
       "      <td>5</td>\n",
       "    </tr>\n",
       "    <tr>\n",
       "      <th>2</th>\n",
       "      <td>Sc2</td>\n",
       "      <td>2021-09-12 17:28:58.629235</td>\n",
       "      <td>2</td>\n",
       "      <td>load data</td>\n",
       "      <td>1</td>\n",
       "      <td>User-003</td>\n",
       "      <td>2021-09-12 17:36:58.629235</td>\n",
       "      <td>10</td>\n",
       "      <td>8</td>\n",
       "    </tr>\n",
       "    <tr>\n",
       "      <th>3</th>\n",
       "      <td>Sc2</td>\n",
       "      <td>2021-09-12 17:29:58.629235</td>\n",
       "      <td>3</td>\n",
       "      <td>load data</td>\n",
       "      <td>1</td>\n",
       "      <td>User-004</td>\n",
       "      <td>2021-09-12 17:37:58.629235</td>\n",
       "      <td>11</td>\n",
       "      <td>8</td>\n",
       "    </tr>\n",
       "    <tr>\n",
       "      <th>4</th>\n",
       "      <td>Sc2</td>\n",
       "      <td>2021-09-12 17:30:58.629235</td>\n",
       "      <td>4</td>\n",
       "      <td>load data</td>\n",
       "      <td>1</td>\n",
       "      <td>User-005</td>\n",
       "      <td>2021-09-12 17:41:58.629235</td>\n",
       "      <td>15</td>\n",
       "      <td>11</td>\n",
       "    </tr>\n",
       "    <tr>\n",
       "      <th>5</th>\n",
       "      <td>Sc2</td>\n",
       "      <td>2021-09-12 17:31:58.629235</td>\n",
       "      <td>5</td>\n",
       "      <td>load data</td>\n",
       "      <td>1</td>\n",
       "      <td>User-006</td>\n",
       "      <td>2021-09-12 17:42:58.629235</td>\n",
       "      <td>16</td>\n",
       "      <td>11</td>\n",
       "    </tr>\n",
       "    <tr>\n",
       "      <th>6</th>\n",
       "      <td>Sc1</td>\n",
       "      <td>2021-09-12 17:32:58.629235</td>\n",
       "      <td>6</td>\n",
       "      <td>step 1</td>\n",
       "      <td>1</td>\n",
       "      <td>User-007</td>\n",
       "      <td>2021-09-12 17:51:58.629235</td>\n",
       "      <td>25</td>\n",
       "      <td>19</td>\n",
       "    </tr>\n",
       "    <tr>\n",
       "      <th>7</th>\n",
       "      <td>Sc2</td>\n",
       "      <td>2021-09-12 17:33:58.629235</td>\n",
       "      <td>7</td>\n",
       "      <td>load data</td>\n",
       "      <td>1</td>\n",
       "      <td>User-008</td>\n",
       "      <td>2021-09-12 17:47:58.629235</td>\n",
       "      <td>21</td>\n",
       "      <td>14</td>\n",
       "    </tr>\n",
       "    <tr>\n",
       "      <th>8</th>\n",
       "      <td>Sc1</td>\n",
       "      <td>2021-09-12 17:34:58.629235</td>\n",
       "      <td>8</td>\n",
       "      <td>step 1</td>\n",
       "      <td>1</td>\n",
       "      <td>User-009</td>\n",
       "      <td>2021-09-12 18:01:58.629235</td>\n",
       "      <td>35</td>\n",
       "      <td>27</td>\n",
       "    </tr>\n",
       "    <tr>\n",
       "      <th>9</th>\n",
       "      <td>Sc2</td>\n",
       "      <td>2021-09-12 17:35:58.629235</td>\n",
       "      <td>9</td>\n",
       "      <td>load data</td>\n",
       "      <td>1</td>\n",
       "      <td>User-010</td>\n",
       "      <td>2021-09-12 17:56:58.629235</td>\n",
       "      <td>30</td>\n",
       "      <td>21</td>\n",
       "    </tr>\n",
       "    <tr>\n",
       "      <th>10</th>\n",
       "      <td>Sc2</td>\n",
       "      <td>2021-09-12 17:36:58.629235</td>\n",
       "      <td>10</td>\n",
       "      <td>load data</td>\n",
       "      <td>1</td>\n",
       "      <td>User-011</td>\n",
       "      <td>2021-09-12 18:01:58.629235</td>\n",
       "      <td>35</td>\n",
       "      <td>25</td>\n",
       "    </tr>\n",
       "    <tr>\n",
       "      <th>11</th>\n",
       "      <td>Sc2</td>\n",
       "      <td>2021-09-12 17:37:58.629235</td>\n",
       "      <td>11</td>\n",
       "      <td>load data</td>\n",
       "      <td>1</td>\n",
       "      <td>User-012</td>\n",
       "      <td>2021-09-12 18:06:58.629235</td>\n",
       "      <td>40</td>\n",
       "      <td>29</td>\n",
       "    </tr>\n",
       "    <tr>\n",
       "      <th>12</th>\n",
       "      <td>Sc2</td>\n",
       "      <td>2021-09-12 17:38:58.629235</td>\n",
       "      <td>12</td>\n",
       "      <td>load data</td>\n",
       "      <td>1</td>\n",
       "      <td>User-013</td>\n",
       "      <td>2021-09-12 18:06:58.629235</td>\n",
       "      <td>40</td>\n",
       "      <td>28</td>\n",
       "    </tr>\n",
       "    <tr>\n",
       "      <th>13</th>\n",
       "      <td>Sc2</td>\n",
       "      <td>2021-09-12 17:39:58.629235</td>\n",
       "      <td>13</td>\n",
       "      <td>load data</td>\n",
       "      <td>1</td>\n",
       "      <td>User-014</td>\n",
       "      <td>2021-09-12 18:11:58.629235</td>\n",
       "      <td>45</td>\n",
       "      <td>32</td>\n",
       "    </tr>\n",
       "    <tr>\n",
       "      <th>14</th>\n",
       "      <td>Sc2</td>\n",
       "      <td>2021-09-12 17:40:58.629235</td>\n",
       "      <td>14</td>\n",
       "      <td>load data</td>\n",
       "      <td>1</td>\n",
       "      <td>User-015</td>\n",
       "      <td>2021-09-12 18:11:58.629235</td>\n",
       "      <td>45</td>\n",
       "      <td>31</td>\n",
       "    </tr>\n",
       "    <tr>\n",
       "      <th>15</th>\n",
       "      <td>Sc2</td>\n",
       "      <td>2021-09-12 17:41:58.629235</td>\n",
       "      <td>15</td>\n",
       "      <td>load data</td>\n",
       "      <td>1</td>\n",
       "      <td>User-016</td>\n",
       "      <td>2021-09-12 18:16:58.629235</td>\n",
       "      <td>50</td>\n",
       "      <td>35</td>\n",
       "    </tr>\n",
       "    <tr>\n",
       "      <th>16</th>\n",
       "      <td>Sc2</td>\n",
       "      <td>2021-09-12 17:41:58.629235</td>\n",
       "      <td>15</td>\n",
       "      <td>step 1-3</td>\n",
       "      <td>3</td>\n",
       "      <td>User-001</td>\n",
       "      <td>2021-09-12 18:13:58.629235</td>\n",
       "      <td>47</td>\n",
       "      <td>32</td>\n",
       "    </tr>\n",
       "    <tr>\n",
       "      <th>17</th>\n",
       "      <td>Sc2</td>\n",
       "      <td>2021-09-12 17:42:58.629235</td>\n",
       "      <td>16</td>\n",
       "      <td>load data</td>\n",
       "      <td>1</td>\n",
       "      <td>User-017</td>\n",
       "      <td>2021-09-12 18:16:58.629235</td>\n",
       "      <td>50</td>\n",
       "      <td>34</td>\n",
       "    </tr>\n",
       "    <tr>\n",
       "      <th>18</th>\n",
       "      <td>Sc2</td>\n",
       "      <td>2021-09-12 17:42:58.629235</td>\n",
       "      <td>16</td>\n",
       "      <td>step 1-3</td>\n",
       "      <td>3</td>\n",
       "      <td>User-002</td>\n",
       "      <td>2021-09-12 18:13:58.629235</td>\n",
       "      <td>47</td>\n",
       "      <td>31</td>\n",
       "    </tr>\n",
       "    <tr>\n",
       "      <th>19</th>\n",
       "      <td>Sc2</td>\n",
       "      <td>2021-09-12 17:43:58.629235</td>\n",
       "      <td>17</td>\n",
       "      <td>load data</td>\n",
       "      <td>1</td>\n",
       "      <td>User-018</td>\n",
       "      <td>2021-09-12 18:21:58.629235</td>\n",
       "      <td>55</td>\n",
       "      <td>38</td>\n",
       "    </tr>\n",
       "    <tr>\n",
       "      <th>20</th>\n",
       "      <td>Sc1</td>\n",
       "      <td>2021-09-12 17:44:58.629235</td>\n",
       "      <td>18</td>\n",
       "      <td>step 1</td>\n",
       "      <td>1</td>\n",
       "      <td>User-019</td>\n",
       "      <td>2021-09-12 18:26:58.629235</td>\n",
       "      <td>60</td>\n",
       "      <td>42</td>\n",
       "    </tr>\n",
       "    <tr>\n",
       "      <th>21</th>\n",
       "      <td>Sc2</td>\n",
       "      <td>2021-09-12 17:45:58.629235</td>\n",
       "      <td>19</td>\n",
       "      <td>load data</td>\n",
       "      <td>1</td>\n",
       "      <td>User-020</td>\n",
       "      <td>2021-09-12 18:26:58.629235</td>\n",
       "      <td>60</td>\n",
       "      <td>41</td>\n",
       "    </tr>\n",
       "    <tr>\n",
       "      <th>22</th>\n",
       "      <td>Sc1</td>\n",
       "      <td>2021-09-12 17:46:58.629235</td>\n",
       "      <td>20</td>\n",
       "      <td>step 1</td>\n",
       "      <td>1</td>\n",
       "      <td>User-021</td>\n",
       "      <td>2021-09-12 18:36:58.629235</td>\n",
       "      <td>70</td>\n",
       "      <td>50</td>\n",
       "    </tr>\n",
       "    <tr>\n",
       "      <th>23</th>\n",
       "      <td>Sc2</td>\n",
       "      <td>2021-09-12 17:46:58.629235</td>\n",
       "      <td>20</td>\n",
       "      <td>step 1-3</td>\n",
       "      <td>3</td>\n",
       "      <td>User-003</td>\n",
       "      <td>2021-09-12 18:28:58.629235</td>\n",
       "      <td>62</td>\n",
       "      <td>42</td>\n",
       "    </tr>\n",
       "    <tr>\n",
       "      <th>24</th>\n",
       "      <td>Sc2</td>\n",
       "      <td>2021-09-12 17:47:58.629235</td>\n",
       "      <td>21</td>\n",
       "      <td>load data</td>\n",
       "      <td>1</td>\n",
       "      <td>User-022</td>\n",
       "      <td>2021-09-12 18:33:58.629235</td>\n",
       "      <td>67</td>\n",
       "      <td>46</td>\n",
       "    </tr>\n",
       "    <tr>\n",
       "      <th>25</th>\n",
       "      <td>Sc2</td>\n",
       "      <td>2021-09-12 17:47:58.629235</td>\n",
       "      <td>21</td>\n",
       "      <td>step 1-3</td>\n",
       "      <td>3</td>\n",
       "      <td>User-004</td>\n",
       "      <td>2021-09-12 18:35:58.629235</td>\n",
       "      <td>69</td>\n",
       "      <td>48</td>\n",
       "    </tr>\n",
       "    <tr>\n",
       "      <th>26</th>\n",
       "      <td>Sc2</td>\n",
       "      <td>2021-09-12 17:48:58.629235</td>\n",
       "      <td>22</td>\n",
       "      <td>load data</td>\n",
       "      <td>1</td>\n",
       "      <td>User-023</td>\n",
       "      <td>2021-09-12 18:40:58.629235</td>\n",
       "      <td>74</td>\n",
       "      <td>52</td>\n",
       "    </tr>\n",
       "    <tr>\n",
       "      <th>27</th>\n",
       "      <td>Sc2</td>\n",
       "      <td>2021-09-12 17:49:58.629235</td>\n",
       "      <td>23</td>\n",
       "      <td>load data</td>\n",
       "      <td>1</td>\n",
       "      <td>User-024</td>\n",
       "      <td>2021-09-12 18:41:58.629235</td>\n",
       "      <td>75</td>\n",
       "      <td>52</td>\n",
       "    </tr>\n",
       "    <tr>\n",
       "      <th>28</th>\n",
       "      <td>Sc2</td>\n",
       "      <td>2021-09-12 17:50:58.629235</td>\n",
       "      <td>24</td>\n",
       "      <td>load data</td>\n",
       "      <td>1</td>\n",
       "      <td>User-025</td>\n",
       "      <td>2021-09-12 18:45:58.629235</td>\n",
       "      <td>79</td>\n",
       "      <td>55</td>\n",
       "    </tr>\n",
       "    <tr>\n",
       "      <th>29</th>\n",
       "      <td>Sc2</td>\n",
       "      <td>2021-09-12 17:51:58.629235</td>\n",
       "      <td>25</td>\n",
       "      <td>load data</td>\n",
       "      <td>1</td>\n",
       "      <td>User-026</td>\n",
       "      <td>2021-09-12 18:46:58.629235</td>\n",
       "      <td>80</td>\n",
       "      <td>55</td>\n",
       "    </tr>\n",
       "    <tr>\n",
       "      <th>...</th>\n",
       "      <td>...</td>\n",
       "      <td>...</td>\n",
       "      <td>...</td>\n",
       "      <td>...</td>\n",
       "      <td>...</td>\n",
       "      <td>...</td>\n",
       "      <td>...</td>\n",
       "      <td>...</td>\n",
       "      <td>...</td>\n",
       "    </tr>\n",
       "    <tr>\n",
       "      <th>630</th>\n",
       "      <td>Sc2</td>\n",
       "      <td>2021-09-12 23:03:58.629235</td>\n",
       "      <td>337</td>\n",
       "      <td>whole step</td>\n",
       "      <td>12</td>\n",
       "      <td>User-058</td>\n",
       "      <td>2021-09-12 23:10:58.629235</td>\n",
       "      <td>344</td>\n",
       "      <td>7</td>\n",
       "    </tr>\n",
       "    <tr>\n",
       "      <th>631</th>\n",
       "      <td>Sc2</td>\n",
       "      <td>2021-09-12 23:03:58.629235</td>\n",
       "      <td>337</td>\n",
       "      <td>whole step</td>\n",
       "      <td>12</td>\n",
       "      <td>User-059</td>\n",
       "      <td>2021-09-12 23:10:58.629235</td>\n",
       "      <td>344</td>\n",
       "      <td>7</td>\n",
       "    </tr>\n",
       "    <tr>\n",
       "      <th>632</th>\n",
       "      <td>Sc2</td>\n",
       "      <td>2021-09-12 23:04:58.629235</td>\n",
       "      <td>338</td>\n",
       "      <td>whole step</td>\n",
       "      <td>13</td>\n",
       "      <td>User-049</td>\n",
       "      <td>2021-09-12 23:10:58.629235</td>\n",
       "      <td>344</td>\n",
       "      <td>6</td>\n",
       "    </tr>\n",
       "    <tr>\n",
       "      <th>633</th>\n",
       "      <td>Sc2</td>\n",
       "      <td>2021-09-12 23:04:58.629235</td>\n",
       "      <td>338</td>\n",
       "      <td>whole step</td>\n",
       "      <td>13</td>\n",
       "      <td>User-050</td>\n",
       "      <td>2021-09-12 23:11:58.629235</td>\n",
       "      <td>345</td>\n",
       "      <td>7</td>\n",
       "    </tr>\n",
       "    <tr>\n",
       "      <th>634</th>\n",
       "      <td>Sc2</td>\n",
       "      <td>2021-09-12 23:04:58.629235</td>\n",
       "      <td>338</td>\n",
       "      <td>whole step</td>\n",
       "      <td>14</td>\n",
       "      <td>User-040</td>\n",
       "      <td>2021-09-12 23:11:58.629235</td>\n",
       "      <td>345</td>\n",
       "      <td>7</td>\n",
       "    </tr>\n",
       "    <tr>\n",
       "      <th>635</th>\n",
       "      <td>Sc2</td>\n",
       "      <td>2021-09-12 23:05:58.629235</td>\n",
       "      <td>339</td>\n",
       "      <td>whole step</td>\n",
       "      <td>14</td>\n",
       "      <td>User-041</td>\n",
       "      <td>2021-09-12 23:11:58.629235</td>\n",
       "      <td>345</td>\n",
       "      <td>6</td>\n",
       "    </tr>\n",
       "    <tr>\n",
       "      <th>636</th>\n",
       "      <td>Sc2</td>\n",
       "      <td>2021-09-12 23:05:58.629235</td>\n",
       "      <td>339</td>\n",
       "      <td>whole step</td>\n",
       "      <td>13</td>\n",
       "      <td>User-051</td>\n",
       "      <td>2021-09-12 23:11:58.629235</td>\n",
       "      <td>345</td>\n",
       "      <td>6</td>\n",
       "    </tr>\n",
       "    <tr>\n",
       "      <th>637</th>\n",
       "      <td>Sc2</td>\n",
       "      <td>2021-09-12 23:05:58.629235</td>\n",
       "      <td>339</td>\n",
       "      <td>whole step</td>\n",
       "      <td>13</td>\n",
       "      <td>User-052</td>\n",
       "      <td>2021-09-12 23:11:58.629235</td>\n",
       "      <td>345</td>\n",
       "      <td>6</td>\n",
       "    </tr>\n",
       "    <tr>\n",
       "      <th>638</th>\n",
       "      <td>Sc2</td>\n",
       "      <td>2021-09-12 23:06:58.629235</td>\n",
       "      <td>340</td>\n",
       "      <td>whole step</td>\n",
       "      <td>14</td>\n",
       "      <td>User-042</td>\n",
       "      <td>2021-09-12 23:12:58.629235</td>\n",
       "      <td>346</td>\n",
       "      <td>6</td>\n",
       "    </tr>\n",
       "    <tr>\n",
       "      <th>639</th>\n",
       "      <td>Sc2</td>\n",
       "      <td>2021-09-12 23:07:58.629235</td>\n",
       "      <td>341</td>\n",
       "      <td>whole step</td>\n",
       "      <td>14</td>\n",
       "      <td>User-044</td>\n",
       "      <td>2021-09-12 23:12:58.629235</td>\n",
       "      <td>346</td>\n",
       "      <td>5</td>\n",
       "    </tr>\n",
       "    <tr>\n",
       "      <th>640</th>\n",
       "      <td>Sc2</td>\n",
       "      <td>2021-09-12 23:07:58.629235</td>\n",
       "      <td>341</td>\n",
       "      <td>whole step</td>\n",
       "      <td>12</td>\n",
       "      <td>User-060</td>\n",
       "      <td>2021-09-12 23:12:58.629235</td>\n",
       "      <td>346</td>\n",
       "      <td>5</td>\n",
       "    </tr>\n",
       "    <tr>\n",
       "      <th>641</th>\n",
       "      <td>Sc2</td>\n",
       "      <td>2021-09-12 23:07:58.629235</td>\n",
       "      <td>341</td>\n",
       "      <td>whole step</td>\n",
       "      <td>13</td>\n",
       "      <td>User-053</td>\n",
       "      <td>2021-09-12 23:13:58.629235</td>\n",
       "      <td>347</td>\n",
       "      <td>6</td>\n",
       "    </tr>\n",
       "    <tr>\n",
       "      <th>642</th>\n",
       "      <td>Sc2</td>\n",
       "      <td>2021-09-12 23:08:58.629235</td>\n",
       "      <td>342</td>\n",
       "      <td>whole step</td>\n",
       "      <td>13</td>\n",
       "      <td>User-054</td>\n",
       "      <td>2021-09-12 23:13:58.629235</td>\n",
       "      <td>347</td>\n",
       "      <td>5</td>\n",
       "    </tr>\n",
       "    <tr>\n",
       "      <th>643</th>\n",
       "      <td>Sc2</td>\n",
       "      <td>2021-09-12 23:08:58.629235</td>\n",
       "      <td>342</td>\n",
       "      <td>whole step</td>\n",
       "      <td>14</td>\n",
       "      <td>User-046</td>\n",
       "      <td>2021-09-12 23:13:58.629235</td>\n",
       "      <td>347</td>\n",
       "      <td>5</td>\n",
       "    </tr>\n",
       "    <tr>\n",
       "      <th>644</th>\n",
       "      <td>Sc2</td>\n",
       "      <td>2021-09-12 23:08:58.629235</td>\n",
       "      <td>342</td>\n",
       "      <td>whole step</td>\n",
       "      <td>14</td>\n",
       "      <td>User-047</td>\n",
       "      <td>2021-09-12 23:14:58.629235</td>\n",
       "      <td>348</td>\n",
       "      <td>6</td>\n",
       "    </tr>\n",
       "    <tr>\n",
       "      <th>645</th>\n",
       "      <td>Sc2</td>\n",
       "      <td>2021-09-12 23:08:58.629235</td>\n",
       "      <td>342</td>\n",
       "      <td>whole step</td>\n",
       "      <td>14</td>\n",
       "      <td>User-048</td>\n",
       "      <td>2021-09-12 23:14:58.629235</td>\n",
       "      <td>348</td>\n",
       "      <td>6</td>\n",
       "    </tr>\n",
       "    <tr>\n",
       "      <th>646</th>\n",
       "      <td>Sc2</td>\n",
       "      <td>2021-09-12 23:09:58.629235</td>\n",
       "      <td>343</td>\n",
       "      <td>whole step</td>\n",
       "      <td>13</td>\n",
       "      <td>User-056</td>\n",
       "      <td>2021-09-12 23:14:58.629235</td>\n",
       "      <td>348</td>\n",
       "      <td>5</td>\n",
       "    </tr>\n",
       "    <tr>\n",
       "      <th>647</th>\n",
       "      <td>Sc2</td>\n",
       "      <td>2021-09-12 23:10:58.629235</td>\n",
       "      <td>344</td>\n",
       "      <td>whole step</td>\n",
       "      <td>13</td>\n",
       "      <td>User-058</td>\n",
       "      <td>2021-09-12 23:14:58.629235</td>\n",
       "      <td>348</td>\n",
       "      <td>4</td>\n",
       "    </tr>\n",
       "    <tr>\n",
       "      <th>648</th>\n",
       "      <td>Sc2</td>\n",
       "      <td>2021-09-12 23:10:58.629235</td>\n",
       "      <td>344</td>\n",
       "      <td>whole step</td>\n",
       "      <td>13</td>\n",
       "      <td>User-059</td>\n",
       "      <td>2021-09-12 23:14:58.629235</td>\n",
       "      <td>348</td>\n",
       "      <td>4</td>\n",
       "    </tr>\n",
       "    <tr>\n",
       "      <th>649</th>\n",
       "      <td>Sc2</td>\n",
       "      <td>2021-09-12 23:10:58.629235</td>\n",
       "      <td>344</td>\n",
       "      <td>whole step</td>\n",
       "      <td>14</td>\n",
       "      <td>User-049</td>\n",
       "      <td>2021-09-12 23:15:58.629235</td>\n",
       "      <td>349</td>\n",
       "      <td>5</td>\n",
       "    </tr>\n",
       "    <tr>\n",
       "      <th>650</th>\n",
       "      <td>Sc2</td>\n",
       "      <td>2021-09-12 23:11:58.629235</td>\n",
       "      <td>345</td>\n",
       "      <td>whole step</td>\n",
       "      <td>14</td>\n",
       "      <td>User-050</td>\n",
       "      <td>2021-09-12 23:15:58.629235</td>\n",
       "      <td>349</td>\n",
       "      <td>4</td>\n",
       "    </tr>\n",
       "    <tr>\n",
       "      <th>651</th>\n",
       "      <td>Sc2</td>\n",
       "      <td>2021-09-12 23:11:58.629235</td>\n",
       "      <td>345</td>\n",
       "      <td>whole step</td>\n",
       "      <td>14</td>\n",
       "      <td>User-051</td>\n",
       "      <td>2021-09-12 23:15:58.629235</td>\n",
       "      <td>349</td>\n",
       "      <td>4</td>\n",
       "    </tr>\n",
       "    <tr>\n",
       "      <th>652</th>\n",
       "      <td>Sc2</td>\n",
       "      <td>2021-09-12 23:11:58.629235</td>\n",
       "      <td>345</td>\n",
       "      <td>whole step</td>\n",
       "      <td>14</td>\n",
       "      <td>User-052</td>\n",
       "      <td>2021-09-12 23:16:58.629235</td>\n",
       "      <td>350</td>\n",
       "      <td>5</td>\n",
       "    </tr>\n",
       "    <tr>\n",
       "      <th>653</th>\n",
       "      <td>Sc2</td>\n",
       "      <td>2021-09-12 23:12:58.629235</td>\n",
       "      <td>346</td>\n",
       "      <td>whole step</td>\n",
       "      <td>13</td>\n",
       "      <td>User-060</td>\n",
       "      <td>2021-09-12 23:16:58.629235</td>\n",
       "      <td>350</td>\n",
       "      <td>4</td>\n",
       "    </tr>\n",
       "    <tr>\n",
       "      <th>654</th>\n",
       "      <td>Sc2</td>\n",
       "      <td>2021-09-12 23:13:58.629235</td>\n",
       "      <td>347</td>\n",
       "      <td>whole step</td>\n",
       "      <td>14</td>\n",
       "      <td>User-053</td>\n",
       "      <td>2021-09-12 23:16:58.629235</td>\n",
       "      <td>350</td>\n",
       "      <td>3</td>\n",
       "    </tr>\n",
       "    <tr>\n",
       "      <th>655</th>\n",
       "      <td>Sc2</td>\n",
       "      <td>2021-09-12 23:13:58.629235</td>\n",
       "      <td>347</td>\n",
       "      <td>whole step</td>\n",
       "      <td>14</td>\n",
       "      <td>User-054</td>\n",
       "      <td>2021-09-12 23:17:58.629235</td>\n",
       "      <td>351</td>\n",
       "      <td>4</td>\n",
       "    </tr>\n",
       "    <tr>\n",
       "      <th>656</th>\n",
       "      <td>Sc2</td>\n",
       "      <td>2021-09-12 23:14:58.629235</td>\n",
       "      <td>348</td>\n",
       "      <td>whole step</td>\n",
       "      <td>14</td>\n",
       "      <td>User-056</td>\n",
       "      <td>2021-09-12 23:17:58.629235</td>\n",
       "      <td>351</td>\n",
       "      <td>3</td>\n",
       "    </tr>\n",
       "    <tr>\n",
       "      <th>657</th>\n",
       "      <td>Sc2</td>\n",
       "      <td>2021-09-12 23:14:58.629235</td>\n",
       "      <td>348</td>\n",
       "      <td>whole step</td>\n",
       "      <td>14</td>\n",
       "      <td>User-058</td>\n",
       "      <td>2021-09-12 23:17:58.629235</td>\n",
       "      <td>351</td>\n",
       "      <td>3</td>\n",
       "    </tr>\n",
       "    <tr>\n",
       "      <th>658</th>\n",
       "      <td>Sc2</td>\n",
       "      <td>2021-09-12 23:14:58.629235</td>\n",
       "      <td>348</td>\n",
       "      <td>whole step</td>\n",
       "      <td>14</td>\n",
       "      <td>User-059</td>\n",
       "      <td>2021-09-12 23:17:58.629235</td>\n",
       "      <td>351</td>\n",
       "      <td>3</td>\n",
       "    </tr>\n",
       "    <tr>\n",
       "      <th>659</th>\n",
       "      <td>Sc2</td>\n",
       "      <td>2021-09-12 23:16:58.629235</td>\n",
       "      <td>350</td>\n",
       "      <td>whole step</td>\n",
       "      <td>14</td>\n",
       "      <td>User-060</td>\n",
       "      <td>2021-09-12 23:19:58.629235</td>\n",
       "      <td>353</td>\n",
       "      <td>3</td>\n",
       "    </tr>\n",
       "  </tbody>\n",
       "</table>\n",
       "<p>660 rows × 9 columns</p>\n",
       "</div>"
      ],
      "text/plain": [
       "    Scenario                      Start  StartMark        Task  TaskId  \\\n",
       "0        Sc2 2021-09-12 17:26:58.629235          0   load data       1   \n",
       "1        Sc2 2021-09-12 17:27:58.629235          1   load data       1   \n",
       "2        Sc2 2021-09-12 17:28:58.629235          2   load data       1   \n",
       "3        Sc2 2021-09-12 17:29:58.629235          3   load data       1   \n",
       "4        Sc2 2021-09-12 17:30:58.629235          4   load data       1   \n",
       "5        Sc2 2021-09-12 17:31:58.629235          5   load data       1   \n",
       "6        Sc1 2021-09-12 17:32:58.629235          6      step 1       1   \n",
       "7        Sc2 2021-09-12 17:33:58.629235          7   load data       1   \n",
       "8        Sc1 2021-09-12 17:34:58.629235          8      step 1       1   \n",
       "9        Sc2 2021-09-12 17:35:58.629235          9   load data       1   \n",
       "10       Sc2 2021-09-12 17:36:58.629235         10   load data       1   \n",
       "11       Sc2 2021-09-12 17:37:58.629235         11   load data       1   \n",
       "12       Sc2 2021-09-12 17:38:58.629235         12   load data       1   \n",
       "13       Sc2 2021-09-12 17:39:58.629235         13   load data       1   \n",
       "14       Sc2 2021-09-12 17:40:58.629235         14   load data       1   \n",
       "15       Sc2 2021-09-12 17:41:58.629235         15   load data       1   \n",
       "16       Sc2 2021-09-12 17:41:58.629235         15    step 1-3       3   \n",
       "17       Sc2 2021-09-12 17:42:58.629235         16   load data       1   \n",
       "18       Sc2 2021-09-12 17:42:58.629235         16    step 1-3       3   \n",
       "19       Sc2 2021-09-12 17:43:58.629235         17   load data       1   \n",
       "20       Sc1 2021-09-12 17:44:58.629235         18      step 1       1   \n",
       "21       Sc2 2021-09-12 17:45:58.629235         19   load data       1   \n",
       "22       Sc1 2021-09-12 17:46:58.629235         20      step 1       1   \n",
       "23       Sc2 2021-09-12 17:46:58.629235         20    step 1-3       3   \n",
       "24       Sc2 2021-09-12 17:47:58.629235         21   load data       1   \n",
       "25       Sc2 2021-09-12 17:47:58.629235         21    step 1-3       3   \n",
       "26       Sc2 2021-09-12 17:48:58.629235         22   load data       1   \n",
       "27       Sc2 2021-09-12 17:49:58.629235         23   load data       1   \n",
       "28       Sc2 2021-09-12 17:50:58.629235         24   load data       1   \n",
       "29       Sc2 2021-09-12 17:51:58.629235         25   load data       1   \n",
       "..       ...                        ...        ...         ...     ...   \n",
       "630      Sc2 2021-09-12 23:03:58.629235        337  whole step      12   \n",
       "631      Sc2 2021-09-12 23:03:58.629235        337  whole step      12   \n",
       "632      Sc2 2021-09-12 23:04:58.629235        338  whole step      13   \n",
       "633      Sc2 2021-09-12 23:04:58.629235        338  whole step      13   \n",
       "634      Sc2 2021-09-12 23:04:58.629235        338  whole step      14   \n",
       "635      Sc2 2021-09-12 23:05:58.629235        339  whole step      14   \n",
       "636      Sc2 2021-09-12 23:05:58.629235        339  whole step      13   \n",
       "637      Sc2 2021-09-12 23:05:58.629235        339  whole step      13   \n",
       "638      Sc2 2021-09-12 23:06:58.629235        340  whole step      14   \n",
       "639      Sc2 2021-09-12 23:07:58.629235        341  whole step      14   \n",
       "640      Sc2 2021-09-12 23:07:58.629235        341  whole step      12   \n",
       "641      Sc2 2021-09-12 23:07:58.629235        341  whole step      13   \n",
       "642      Sc2 2021-09-12 23:08:58.629235        342  whole step      13   \n",
       "643      Sc2 2021-09-12 23:08:58.629235        342  whole step      14   \n",
       "644      Sc2 2021-09-12 23:08:58.629235        342  whole step      14   \n",
       "645      Sc2 2021-09-12 23:08:58.629235        342  whole step      14   \n",
       "646      Sc2 2021-09-12 23:09:58.629235        343  whole step      13   \n",
       "647      Sc2 2021-09-12 23:10:58.629235        344  whole step      13   \n",
       "648      Sc2 2021-09-12 23:10:58.629235        344  whole step      13   \n",
       "649      Sc2 2021-09-12 23:10:58.629235        344  whole step      14   \n",
       "650      Sc2 2021-09-12 23:11:58.629235        345  whole step      14   \n",
       "651      Sc2 2021-09-12 23:11:58.629235        345  whole step      14   \n",
       "652      Sc2 2021-09-12 23:11:58.629235        345  whole step      14   \n",
       "653      Sc2 2021-09-12 23:12:58.629235        346  whole step      13   \n",
       "654      Sc2 2021-09-12 23:13:58.629235        347  whole step      14   \n",
       "655      Sc2 2021-09-12 23:13:58.629235        347  whole step      14   \n",
       "656      Sc2 2021-09-12 23:14:58.629235        348  whole step      14   \n",
       "657      Sc2 2021-09-12 23:14:58.629235        348  whole step      14   \n",
       "658      Sc2 2021-09-12 23:14:58.629235        348  whole step      14   \n",
       "659      Sc2 2021-09-12 23:16:58.629235        350  whole step      14   \n",
       "\n",
       "     Username                     Finish  FinishMark  Duration  \n",
       "0    User-001 2021-09-12 17:31:58.629235           5         5  \n",
       "1    User-002 2021-09-12 17:32:58.629235           6         5  \n",
       "2    User-003 2021-09-12 17:36:58.629235          10         8  \n",
       "3    User-004 2021-09-12 17:37:58.629235          11         8  \n",
       "4    User-005 2021-09-12 17:41:58.629235          15        11  \n",
       "5    User-006 2021-09-12 17:42:58.629235          16        11  \n",
       "6    User-007 2021-09-12 17:51:58.629235          25        19  \n",
       "7    User-008 2021-09-12 17:47:58.629235          21        14  \n",
       "8    User-009 2021-09-12 18:01:58.629235          35        27  \n",
       "9    User-010 2021-09-12 17:56:58.629235          30        21  \n",
       "10   User-011 2021-09-12 18:01:58.629235          35        25  \n",
       "11   User-012 2021-09-12 18:06:58.629235          40        29  \n",
       "12   User-013 2021-09-12 18:06:58.629235          40        28  \n",
       "13   User-014 2021-09-12 18:11:58.629235          45        32  \n",
       "14   User-015 2021-09-12 18:11:58.629235          45        31  \n",
       "15   User-016 2021-09-12 18:16:58.629235          50        35  \n",
       "16   User-001 2021-09-12 18:13:58.629235          47        32  \n",
       "17   User-017 2021-09-12 18:16:58.629235          50        34  \n",
       "18   User-002 2021-09-12 18:13:58.629235          47        31  \n",
       "19   User-018 2021-09-12 18:21:58.629235          55        38  \n",
       "20   User-019 2021-09-12 18:26:58.629235          60        42  \n",
       "21   User-020 2021-09-12 18:26:58.629235          60        41  \n",
       "22   User-021 2021-09-12 18:36:58.629235          70        50  \n",
       "23   User-003 2021-09-12 18:28:58.629235          62        42  \n",
       "24   User-022 2021-09-12 18:33:58.629235          67        46  \n",
       "25   User-004 2021-09-12 18:35:58.629235          69        48  \n",
       "26   User-023 2021-09-12 18:40:58.629235          74        52  \n",
       "27   User-024 2021-09-12 18:41:58.629235          75        52  \n",
       "28   User-025 2021-09-12 18:45:58.629235          79        55  \n",
       "29   User-026 2021-09-12 18:46:58.629235          80        55  \n",
       "..        ...                        ...         ...       ...  \n",
       "630  User-058 2021-09-12 23:10:58.629235         344         7  \n",
       "631  User-059 2021-09-12 23:10:58.629235         344         7  \n",
       "632  User-049 2021-09-12 23:10:58.629235         344         6  \n",
       "633  User-050 2021-09-12 23:11:58.629235         345         7  \n",
       "634  User-040 2021-09-12 23:11:58.629235         345         7  \n",
       "635  User-041 2021-09-12 23:11:58.629235         345         6  \n",
       "636  User-051 2021-09-12 23:11:58.629235         345         6  \n",
       "637  User-052 2021-09-12 23:11:58.629235         345         6  \n",
       "638  User-042 2021-09-12 23:12:58.629235         346         6  \n",
       "639  User-044 2021-09-12 23:12:58.629235         346         5  \n",
       "640  User-060 2021-09-12 23:12:58.629235         346         5  \n",
       "641  User-053 2021-09-12 23:13:58.629235         347         6  \n",
       "642  User-054 2021-09-12 23:13:58.629235         347         5  \n",
       "643  User-046 2021-09-12 23:13:58.629235         347         5  \n",
       "644  User-047 2021-09-12 23:14:58.629235         348         6  \n",
       "645  User-048 2021-09-12 23:14:58.629235         348         6  \n",
       "646  User-056 2021-09-12 23:14:58.629235         348         5  \n",
       "647  User-058 2021-09-12 23:14:58.629235         348         4  \n",
       "648  User-059 2021-09-12 23:14:58.629235         348         4  \n",
       "649  User-049 2021-09-12 23:15:58.629235         349         5  \n",
       "650  User-050 2021-09-12 23:15:58.629235         349         4  \n",
       "651  User-051 2021-09-12 23:15:58.629235         349         4  \n",
       "652  User-052 2021-09-12 23:16:58.629235         350         5  \n",
       "653  User-060 2021-09-12 23:16:58.629235         350         4  \n",
       "654  User-053 2021-09-12 23:16:58.629235         350         3  \n",
       "655  User-054 2021-09-12 23:17:58.629235         351         4  \n",
       "656  User-056 2021-09-12 23:17:58.629235         351         3  \n",
       "657  User-058 2021-09-12 23:17:58.629235         351         3  \n",
       "658  User-059 2021-09-12 23:17:58.629235         351         3  \n",
       "659  User-060 2021-09-12 23:19:58.629235         353         3  \n",
       "\n",
       "[660 rows x 9 columns]"
      ]
     },
     "metadata": {},
     "output_type": "display_data"
    }
   ],
   "source": [
    "df_users = world.user_monitor.collect()\n",
    "display(df_users)"
   ]
  },
  {
   "cell_type": "code",
   "execution_count": 64,
   "metadata": {},
   "outputs": [
    {
     "data": {
      "application/vnd.plotly.v1+json": {
       "config": {
        "plotlyServerURL": "https://plot.ly"
       },
       "data": [
        {
         "alignmentgroup": "True",
         "base": [
          "2021-09-12T17:26:58.629235",
          "2021-09-12T17:27:58.629235",
          "2021-09-12T17:28:58.629235",
          "2021-09-12T17:29:58.629235",
          "2021-09-12T17:30:58.629235",
          "2021-09-12T17:31:58.629235",
          "2021-09-12T17:33:58.629235",
          "2021-09-12T17:35:58.629235",
          "2021-09-12T17:36:58.629235",
          "2021-09-12T17:37:58.629235",
          "2021-09-12T17:38:58.629235",
          "2021-09-12T17:39:58.629235",
          "2021-09-12T17:40:58.629235",
          "2021-09-12T17:41:58.629235",
          "2021-09-12T17:41:58.629235",
          "2021-09-12T17:42:58.629235",
          "2021-09-12T17:42:58.629235",
          "2021-09-12T17:43:58.629235",
          "2021-09-12T17:45:58.629235",
          "2021-09-12T17:46:58.629235",
          "2021-09-12T17:47:58.629235",
          "2021-09-12T17:47:58.629235",
          "2021-09-12T17:48:58.629235",
          "2021-09-12T17:49:58.629235",
          "2021-09-12T17:50:58.629235",
          "2021-09-12T17:51:58.629235",
          "2021-09-12T17:51:58.629235",
          "2021-09-12T17:52:58.629235",
          "2021-09-12T17:52:58.629235",
          "2021-09-12T17:53:58.629235",
          "2021-09-12T17:54:58.629235",
          "2021-09-12T17:55:58.629235",
          "2021-09-12T17:57:58.629235",
          "2021-09-12T17:57:58.629235",
          "2021-09-12T17:59:58.629235",
          "2021-09-12T18:00:58.629235",
          "2021-09-12T18:01:58.629235",
          "2021-09-12T18:02:58.629235",
          "2021-09-12T18:03:58.629235",
          "2021-09-12T18:04:58.629235",
          "2021-09-12T18:05:58.629235",
          "2021-09-12T18:06:58.629235",
          "2021-09-12T18:06:58.629235",
          "2021-09-12T18:07:58.629235",
          "2021-09-12T18:09:58.629235",
          "2021-09-12T18:11:58.629235",
          "2021-09-12T18:11:58.629235",
          "2021-09-12T18:12:58.629235",
          "2021-09-12T18:13:58.629235",
          "2021-09-12T18:14:58.629235",
          "2021-09-12T18:15:58.629235",
          "2021-09-12T18:16:58.629235",
          "2021-09-12T18:16:58.629235",
          "2021-09-12T18:16:58.629235",
          "2021-09-12T18:17:58.629235",
          "2021-09-12T18:18:58.629235",
          "2021-09-12T18:18:58.629235",
          "2021-09-12T18:18:58.629235",
          "2021-09-12T18:19:58.629235",
          "2021-09-12T18:21:58.629235",
          "2021-09-12T18:21:58.629235",
          "2021-09-12T18:21:58.629235",
          "2021-09-12T18:23:58.629235",
          "2021-09-12T18:24:58.629235",
          "2021-09-12T18:25:58.629235",
          "2021-09-12T18:26:58.629235",
          "2021-09-12T18:26:58.629235",
          "2021-09-12T18:31:58.629235",
          "2021-09-12T18:33:58.629235",
          "2021-09-12T18:36:58.629235",
          "2021-09-12T18:40:58.629235",
          "2021-09-12T18:43:58.629235",
          "2021-09-12T18:48:58.629235",
          "2021-09-12T18:50:58.629235",
          "2021-09-12T18:51:58.629235",
          "2021-09-12T18:52:58.629235",
          "2021-09-12T18:55:58.629235",
          "2021-09-12T18:56:58.629235",
          "2021-09-12T19:00:58.629235",
          "2021-09-12T19:01:58.629235",
          "2021-09-12T19:05:58.629235",
          "2021-09-12T19:06:58.629235",
          "2021-09-12T19:08:58.629235",
          "2021-09-12T19:11:58.629235",
          "2021-09-12T19:20:58.629235",
          "2021-09-12T19:25:58.629235",
          "2021-09-12T19:30:58.629235",
          "2021-09-12T19:30:58.629235",
          "2021-09-12T19:32:58.629235",
          "2021-09-12T19:35:58.629235",
          "2021-09-12T19:35:58.629235",
          "2021-09-12T19:40:58.629235",
          "2021-09-12T19:40:58.629235",
          "2021-09-12T19:45:58.629235",
          "2021-09-12T19:50:58.629235",
          "2021-09-12T19:52:58.629235",
          "2021-09-12T19:55:58.629235",
          "2021-09-12T20:02:58.629235",
          "2021-09-12T20:04:58.629235",
          "2021-09-12T20:04:58.629235",
          "2021-09-12T20:05:58.629235",
          "2021-09-12T20:07:58.629235",
          "2021-09-12T20:07:58.629235",
          "2021-09-12T20:07:58.629235",
          "2021-09-12T20:10:58.629235",
          "2021-09-12T20:12:58.629235",
          "2021-09-12T20:15:58.629235",
          "2021-09-12T20:17:58.629235",
          "2021-09-12T20:20:58.629235",
          "2021-09-12T20:22:58.629235",
          "2021-09-12T20:22:58.629235",
          "2021-09-12T20:25:58.629235",
          "2021-09-12T20:32:58.629235",
          "2021-09-12T20:34:58.629235",
          "2021-09-12T20:34:58.629235",
          "2021-09-12T20:34:58.629235",
          "2021-09-12T20:34:58.629235",
          "2021-09-12T20:34:58.629235",
          "2021-09-12T20:34:58.629235",
          "2021-09-12T20:34:58.629235",
          "2021-09-12T20:34:58.629235",
          "2021-09-12T20:34:58.629235",
          "2021-09-12T20:34:58.629235",
          "2021-09-12T20:36:58.629235",
          "2021-09-12T20:36:58.629235",
          "2021-09-12T20:36:58.629235",
          "2021-09-12T20:36:58.629235",
          "2021-09-12T20:36:58.629235",
          "2021-09-12T20:36:58.629235",
          "2021-09-12T20:36:58.629235",
          "2021-09-12T20:36:58.629235",
          "2021-09-12T20:36:58.629235",
          "2021-09-12T20:36:58.629235",
          "2021-09-12T20:37:58.629235",
          "2021-09-12T20:38:58.629235",
          "2021-09-12T20:38:58.629235",
          "2021-09-12T20:38:58.629235",
          "2021-09-12T20:38:58.629235",
          "2021-09-12T20:38:58.629235",
          "2021-09-12T20:38:58.629235",
          "2021-09-12T20:38:58.629235",
          "2021-09-12T20:38:58.629235",
          "2021-09-12T20:38:58.629235",
          "2021-09-12T20:38:58.629235",
          "2021-09-12T20:39:58.629235",
          "2021-09-12T20:39:58.629235",
          "2021-09-12T20:39:58.629235",
          "2021-09-12T20:39:58.629235",
          "2021-09-12T20:39:58.629235",
          "2021-09-12T20:39:58.629235",
          "2021-09-12T20:40:58.629235",
          "2021-09-12T20:40:58.629235",
          "2021-09-12T20:40:58.629235",
          "2021-09-12T20:40:58.629235",
          "2021-09-12T20:40:58.629235",
          "2021-09-12T20:40:58.629235",
          "2021-09-12T20:40:58.629235",
          "2021-09-12T20:40:58.629235",
          "2021-09-12T20:40:58.629235",
          "2021-09-12T20:40:58.629235",
          "2021-09-12T20:41:58.629235",
          "2021-09-12T20:41:58.629235",
          "2021-09-12T20:41:58.629235",
          "2021-09-12T20:41:58.629235",
          "2021-09-12T20:41:58.629235",
          "2021-09-12T20:41:58.629235",
          "2021-09-12T20:42:58.629235",
          "2021-09-12T20:42:58.629235",
          "2021-09-12T20:42:58.629235",
          "2021-09-12T20:42:58.629235",
          "2021-09-12T20:42:58.629235",
          "2021-09-12T20:42:58.629235",
          "2021-09-12T20:42:58.629235",
          "2021-09-12T20:43:58.629235",
          "2021-09-12T20:43:58.629235",
          "2021-09-12T20:43:58.629235",
          "2021-09-12T20:43:58.629235",
          "2021-09-12T20:43:58.629235",
          "2021-09-12T20:43:58.629235",
          "2021-09-12T20:43:58.629235",
          "2021-09-12T20:43:58.629235",
          "2021-09-12T20:43:58.629235",
          "2021-09-12T20:43:58.629235",
          "2021-09-12T20:44:58.629235",
          "2021-09-12T20:45:58.629235",
          "2021-09-12T20:45:58.629235",
          "2021-09-12T20:45:58.629235",
          "2021-09-12T20:45:58.629235",
          "2021-09-12T20:45:58.629235",
          "2021-09-12T20:45:58.629235",
          "2021-09-12T20:45:58.629235",
          "2021-09-12T20:45:58.629235",
          "2021-09-12T20:45:58.629235",
          "2021-09-12T20:45:58.629235",
          "2021-09-12T20:46:58.629235",
          "2021-09-12T20:46:58.629235",
          "2021-09-12T20:46:58.629235",
          "2021-09-12T20:46:58.629235",
          "2021-09-12T20:46:58.629235",
          "2021-09-12T20:46:58.629235",
          "2021-09-12T20:47:58.629235",
          "2021-09-12T20:47:58.629235",
          "2021-09-12T20:47:58.629235",
          "2021-09-12T20:47:58.629235",
          "2021-09-12T20:47:58.629235",
          "2021-09-12T20:47:58.629235",
          "2021-09-12T20:47:58.629235",
          "2021-09-12T20:47:58.629235",
          "2021-09-12T20:48:58.629235",
          "2021-09-12T20:48:58.629235",
          "2021-09-12T20:48:58.629235",
          "2021-09-12T20:48:58.629235",
          "2021-09-12T20:49:58.629235",
          "2021-09-12T20:49:58.629235",
          "2021-09-12T20:49:58.629235",
          "2021-09-12T20:49:58.629235",
          "2021-09-12T20:49:58.629235",
          "2021-09-12T20:50:58.629235",
          "2021-09-12T20:51:58.629235",
          "2021-09-12T20:51:58.629235",
          "2021-09-12T20:51:58.629235",
          "2021-09-12T20:51:58.629235",
          "2021-09-12T20:51:58.629235",
          "2021-09-12T20:52:58.629235",
          "2021-09-12T20:52:58.629235",
          "2021-09-12T20:52:58.629235",
          "2021-09-12T20:53:58.629235",
          "2021-09-12T20:53:58.629235",
          "2021-09-12T20:53:58.629235",
          "2021-09-12T20:54:58.629235",
          "2021-09-12T20:54:58.629235",
          "2021-09-12T20:54:58.629235",
          "2021-09-12T20:54:58.629235",
          "2021-09-12T20:54:58.629235",
          "2021-09-12T20:55:58.629235",
          "2021-09-12T20:55:58.629235",
          "2021-09-12T20:55:58.629235",
          "2021-09-12T20:55:58.629235",
          "2021-09-12T20:55:58.629235",
          "2021-09-12T20:57:58.629235",
          "2021-09-12T20:57:58.629235",
          "2021-09-12T20:57:58.629235",
          "2021-09-12T20:57:58.629235",
          "2021-09-12T20:58:58.629235",
          "2021-09-12T20:58:58.629235",
          "2021-09-12T20:59:58.629235",
          "2021-09-12T20:59:58.629235",
          "2021-09-12T21:04:58.629235",
          "2021-09-12T21:10:58.629235",
          "2021-09-12T21:15:58.629235",
          "2021-09-12T21:16:58.629235",
          "2021-09-12T21:17:58.629235",
          "2021-09-12T21:18:58.629235",
          "2021-09-12T21:18:58.629235",
          "2021-09-12T21:21:58.629235",
          "2021-09-12T21:21:58.629235",
          "2021-09-12T21:21:58.629235",
          "2021-09-12T21:22:58.629235",
          "2021-09-12T21:23:58.629235",
          "2021-09-12T21:23:58.629235",
          "2021-09-12T21:24:58.629235",
          "2021-09-12T21:24:58.629235",
          "2021-09-12T21:24:58.629235",
          "2021-09-12T21:25:58.629235",
          "2021-09-12T21:25:58.629235",
          "2021-09-12T21:25:58.629235",
          "2021-09-12T21:26:58.629235",
          "2021-09-12T21:27:58.629235",
          "2021-09-12T21:28:58.629235",
          "2021-09-12T21:28:58.629235",
          "2021-09-12T21:28:58.629235",
          "2021-09-12T21:28:58.629235",
          "2021-09-12T21:29:58.629235",
          "2021-09-12T21:29:58.629235",
          "2021-09-12T21:29:58.629235",
          "2021-09-12T21:29:58.629235",
          "2021-09-12T21:30:58.629235",
          "2021-09-12T21:30:58.629235",
          "2021-09-12T21:30:58.629235",
          "2021-09-12T21:31:58.629235",
          "2021-09-12T21:31:58.629235",
          "2021-09-12T21:31:58.629235",
          "2021-09-12T21:31:58.629235",
          "2021-09-12T21:32:58.629235",
          "2021-09-12T21:32:58.629235",
          "2021-09-12T21:32:58.629235",
          "2021-09-12T21:33:58.629235",
          "2021-09-12T21:33:58.629235",
          "2021-09-12T21:33:58.629235",
          "2021-09-12T21:34:58.629235",
          "2021-09-12T21:34:58.629235",
          "2021-09-12T21:34:58.629235",
          "2021-09-12T21:34:58.629235",
          "2021-09-12T21:34:58.629235",
          "2021-09-12T21:35:58.629235",
          "2021-09-12T21:35:58.629235",
          "2021-09-12T21:35:58.629235",
          "2021-09-12T21:35:58.629235",
          "2021-09-12T21:35:58.629235",
          "2021-09-12T21:36:58.629235",
          "2021-09-12T21:36:58.629235",
          "2021-09-12T21:36:58.629235",
          "2021-09-12T21:36:58.629235",
          "2021-09-12T21:36:58.629235",
          "2021-09-12T21:37:58.629235",
          "2021-09-12T21:37:58.629235",
          "2021-09-12T21:37:58.629235",
          "2021-09-12T21:38:58.629235",
          "2021-09-12T21:38:58.629235",
          "2021-09-12T21:38:58.629235",
          "2021-09-12T21:38:58.629235",
          "2021-09-12T21:38:58.629235",
          "2021-09-12T21:39:58.629235",
          "2021-09-12T21:39:58.629235",
          "2021-09-12T21:39:58.629235",
          "2021-09-12T21:39:58.629235",
          "2021-09-12T21:39:58.629235",
          "2021-09-12T21:39:58.629235",
          "2021-09-12T21:39:58.629235",
          "2021-09-12T21:40:58.629235",
          "2021-09-12T21:40:58.629235",
          "2021-09-12T21:40:58.629235",
          "2021-09-12T21:40:58.629235",
          "2021-09-12T21:40:58.629235",
          "2021-09-12T21:41:58.629235",
          "2021-09-12T21:41:58.629235",
          "2021-09-12T21:41:58.629235",
          "2021-09-12T21:41:58.629235",
          "2021-09-12T21:41:58.629235",
          "2021-09-12T21:41:58.629235",
          "2021-09-12T21:42:58.629235",
          "2021-09-12T21:42:58.629235",
          "2021-09-12T21:42:58.629235",
          "2021-09-12T21:42:58.629235",
          "2021-09-12T21:42:58.629235",
          "2021-09-12T21:43:58.629235",
          "2021-09-12T21:43:58.629235",
          "2021-09-12T21:43:58.629235",
          "2021-09-12T21:43:58.629235",
          "2021-09-12T21:43:58.629235",
          "2021-09-12T21:44:58.629235",
          "2021-09-12T21:44:58.629235",
          "2021-09-12T21:44:58.629235",
          "2021-09-12T21:44:58.629235",
          "2021-09-12T21:44:58.629235",
          "2021-09-12T21:44:58.629235",
          "2021-09-12T21:45:58.629235",
          "2021-09-12T21:45:58.629235",
          "2021-09-12T21:45:58.629235",
          "2021-09-12T21:45:58.629235",
          "2021-09-12T21:45:58.629235",
          "2021-09-12T21:45:58.629235",
          "2021-09-12T21:46:58.629235",
          "2021-09-12T21:46:58.629235",
          "2021-09-12T21:46:58.629235",
          "2021-09-12T21:47:58.629235",
          "2021-09-12T21:47:58.629235",
          "2021-09-12T21:47:58.629235",
          "2021-09-12T21:47:58.629235",
          "2021-09-12T21:48:58.629235",
          "2021-09-12T21:48:58.629235",
          "2021-09-12T21:48:58.629235",
          "2021-09-12T21:48:58.629235",
          "2021-09-12T21:48:58.629235",
          "2021-09-12T21:49:58.629235",
          "2021-09-12T21:49:58.629235",
          "2021-09-12T21:49:58.629235",
          "2021-09-12T21:49:58.629235",
          "2021-09-12T21:49:58.629235",
          "2021-09-12T21:49:58.629235",
          "2021-09-12T21:49:58.629235",
          "2021-09-12T21:49:58.629235",
          "2021-09-12T21:49:58.629235",
          "2021-09-12T21:50:58.629235",
          "2021-09-12T21:50:58.629235",
          "2021-09-12T21:50:58.629235",
          "2021-09-12T21:50:58.629235",
          "2021-09-12T21:51:58.629235",
          "2021-09-12T21:51:58.629235",
          "2021-09-12T21:51:58.629235",
          "2021-09-12T21:51:58.629235",
          "2021-09-12T21:51:58.629235",
          "2021-09-12T21:51:58.629235",
          "2021-09-12T21:51:58.629235",
          "2021-09-12T21:52:58.629235",
          "2021-09-12T21:52:58.629235",
          "2021-09-12T21:52:58.629235",
          "2021-09-12T21:53:58.629235",
          "2021-09-12T21:53:58.629235",
          "2021-09-12T21:53:58.629235",
          "2021-09-12T21:54:58.629235",
          "2021-09-12T21:54:58.629235",
          "2021-09-12T21:55:58.629235",
          "2021-09-12T21:55:58.629235",
          "2021-09-12T21:55:58.629235",
          "2021-09-12T21:55:58.629235",
          "2021-09-12T21:56:58.629235",
          "2021-09-12T21:56:58.629235",
          "2021-09-12T21:56:58.629235",
          "2021-09-12T21:56:58.629235",
          "2021-09-12T21:56:58.629235",
          "2021-09-12T21:57:58.629235",
          "2021-09-12T21:57:58.629235",
          "2021-09-12T21:57:58.629235",
          "2021-09-12T21:57:58.629235",
          "2021-09-12T21:58:58.629235",
          "2021-09-12T21:58:58.629235",
          "2021-09-12T21:58:58.629235",
          "2021-09-12T21:58:58.629235",
          "2021-09-12T21:58:58.629235",
          "2021-09-12T21:58:58.629235",
          "2021-09-12T22:00:58.629235",
          "2021-09-12T22:00:58.629235",
          "2021-09-12T22:00:58.629235",
          "2021-09-12T22:00:58.629235",
          "2021-09-12T22:02:58.629235",
          "2021-09-12T22:02:58.629235",
          "2021-09-12T22:03:58.629235",
          "2021-09-12T22:03:58.629235",
          "2021-09-12T22:04:58.629235",
          "2021-09-12T22:04:58.629235",
          "2021-09-12T22:04:58.629235",
          "2021-09-12T22:04:58.629235",
          "2021-09-12T22:05:58.629235",
          "2021-09-12T22:05:58.629235",
          "2021-09-12T22:05:58.629235",
          "2021-09-12T22:05:58.629235",
          "2021-09-12T22:05:58.629235",
          "2021-09-12T22:06:58.629235",
          "2021-09-12T22:06:58.629235",
          "2021-09-12T22:07:58.629235",
          "2021-09-12T22:07:58.629235",
          "2021-09-12T22:08:58.629235",
          "2021-09-12T22:08:58.629235",
          "2021-09-12T22:10:58.629235",
          "2021-09-12T22:10:58.629235",
          "2021-09-12T22:11:58.629235",
          "2021-09-12T22:11:58.629235",
          "2021-09-12T22:11:58.629235",
          "2021-09-12T22:12:58.629235",
          "2021-09-12T22:12:58.629235",
          "2021-09-12T22:12:58.629235",
          "2021-09-12T22:12:58.629235",
          "2021-09-12T22:12:58.629235",
          "2021-09-12T22:12:58.629235",
          "2021-09-12T22:13:58.629235",
          "2021-09-12T22:14:58.629235",
          "2021-09-12T22:14:58.629235",
          "2021-09-12T22:15:58.629235",
          "2021-09-12T22:16:58.629235",
          "2021-09-12T22:16:58.629235",
          "2021-09-12T22:17:58.629235",
          "2021-09-12T22:18:58.629235",
          "2021-09-12T22:18:58.629235",
          "2021-09-12T22:18:58.629235",
          "2021-09-12T22:18:58.629235",
          "2021-09-12T22:19:58.629235",
          "2021-09-12T22:19:58.629235",
          "2021-09-12T22:20:58.629235",
          "2021-09-12T22:20:58.629235",
          "2021-09-12T22:20:58.629235",
          "2021-09-12T22:20:58.629235",
          "2021-09-12T22:20:58.629235",
          "2021-09-12T22:21:58.629235",
          "2021-09-12T22:21:58.629235",
          "2021-09-12T22:23:58.629235",
          "2021-09-12T22:23:58.629235",
          "2021-09-12T22:23:58.629235",
          "2021-09-12T22:24:58.629235",
          "2021-09-12T22:24:58.629235",
          "2021-09-12T22:24:58.629235",
          "2021-09-12T22:24:58.629235",
          "2021-09-12T22:26:58.629235",
          "2021-09-12T22:26:58.629235",
          "2021-09-12T22:26:58.629235",
          "2021-09-12T22:26:58.629235",
          "2021-09-12T22:26:58.629235",
          "2021-09-12T22:26:58.629235",
          "2021-09-12T22:27:58.629235",
          "2021-09-12T22:27:58.629235",
          "2021-09-12T22:27:58.629235",
          "2021-09-12T22:27:58.629235",
          "2021-09-12T22:28:58.629235",
          "2021-09-12T22:28:58.629235",
          "2021-09-12T22:28:58.629235",
          "2021-09-12T22:28:58.629235",
          "2021-09-12T22:28:58.629235",
          "2021-09-12T22:29:58.629235",
          "2021-09-12T22:29:58.629235",
          "2021-09-12T22:29:58.629235",
          "2021-09-12T22:29:58.629235",
          "2021-09-12T22:29:58.629235",
          "2021-09-12T22:29:58.629235",
          "2021-09-12T22:30:58.629235",
          "2021-09-12T22:30:58.629235",
          "2021-09-12T22:31:58.629235",
          "2021-09-12T22:31:58.629235",
          "2021-09-12T22:31:58.629235",
          "2021-09-12T22:32:58.629235",
          "2021-09-12T22:32:58.629235",
          "2021-09-12T22:32:58.629235",
          "2021-09-12T22:32:58.629235",
          "2021-09-12T22:32:58.629235",
          "2021-09-12T22:32:58.629235",
          "2021-09-12T22:33:58.629235",
          "2021-09-12T22:33:58.629235",
          "2021-09-12T22:34:58.629235",
          "2021-09-12T22:34:58.629235",
          "2021-09-12T22:34:58.629235",
          "2021-09-12T22:35:58.629235",
          "2021-09-12T22:35:58.629235",
          "2021-09-12T22:35:58.629235",
          "2021-09-12T22:35:58.629235",
          "2021-09-12T22:35:58.629235",
          "2021-09-12T22:35:58.629235",
          "2021-09-12T22:35:58.629235",
          "2021-09-12T22:36:58.629235",
          "2021-09-12T22:36:58.629235",
          "2021-09-12T22:37:58.629235",
          "2021-09-12T22:37:58.629235",
          "2021-09-12T22:37:58.629235",
          "2021-09-12T22:37:58.629235",
          "2021-09-12T22:38:58.629235",
          "2021-09-12T22:38:58.629235",
          "2021-09-12T22:38:58.629235",
          "2021-09-12T22:38:58.629235",
          "2021-09-12T22:39:58.629235",
          "2021-09-12T22:39:58.629235",
          "2021-09-12T22:39:58.629235",
          "2021-09-12T22:39:58.629235",
          "2021-09-12T22:40:58.629235",
          "2021-09-12T22:40:58.629235",
          "2021-09-12T22:40:58.629235",
          "2021-09-12T22:41:58.629235",
          "2021-09-12T22:41:58.629235",
          "2021-09-12T22:41:58.629235",
          "2021-09-12T22:41:58.629235",
          "2021-09-12T22:41:58.629235",
          "2021-09-12T22:42:58.629235",
          "2021-09-12T22:42:58.629235",
          "2021-09-12T22:42:58.629235",
          "2021-09-12T22:42:58.629235",
          "2021-09-12T22:42:58.629235",
          "2021-09-12T22:42:58.629235",
          "2021-09-12T22:42:58.629235",
          "2021-09-12T22:43:58.629235",
          "2021-09-12T22:43:58.629235",
          "2021-09-12T22:43:58.629235",
          "2021-09-12T22:44:58.629235",
          "2021-09-12T22:44:58.629235",
          "2021-09-12T22:44:58.629235",
          "2021-09-12T22:44:58.629235",
          "2021-09-12T22:45:58.629235",
          "2021-09-12T22:45:58.629235",
          "2021-09-12T22:46:58.629235",
          "2021-09-12T22:46:58.629235",
          "2021-09-12T22:46:58.629235",
          "2021-09-12T22:46:58.629235",
          "2021-09-12T22:47:58.629235",
          "2021-09-12T22:47:58.629235",
          "2021-09-12T22:47:58.629235",
          "2021-09-12T22:47:58.629235",
          "2021-09-12T22:47:58.629235",
          "2021-09-12T22:47:58.629235",
          "2021-09-12T22:47:58.629235",
          "2021-09-12T22:48:58.629235",
          "2021-09-12T22:48:58.629235",
          "2021-09-12T22:48:58.629235",
          "2021-09-12T22:48:58.629235",
          "2021-09-12T22:48:58.629235",
          "2021-09-12T22:49:58.629235",
          "2021-09-12T22:49:58.629235",
          "2021-09-12T22:49:58.629235",
          "2021-09-12T22:50:58.629235",
          "2021-09-12T22:50:58.629235",
          "2021-09-12T22:50:58.629235",
          "2021-09-12T22:50:58.629235",
          "2021-09-12T22:51:58.629235",
          "2021-09-12T22:51:58.629235",
          "2021-09-12T22:52:58.629235",
          "2021-09-12T22:52:58.629235",
          "2021-09-12T22:52:58.629235",
          "2021-09-12T22:53:58.629235",
          "2021-09-12T22:53:58.629235",
          "2021-09-12T22:53:58.629235",
          "2021-09-12T22:53:58.629235",
          "2021-09-12T22:53:58.629235",
          "2021-09-12T22:53:58.629235",
          "2021-09-12T22:53:58.629235",
          "2021-09-12T22:54:58.629235",
          "2021-09-12T22:54:58.629235",
          "2021-09-12T22:54:58.629235",
          "2021-09-12T22:55:58.629235",
          "2021-09-12T22:55:58.629235",
          "2021-09-12T22:55:58.629235",
          "2021-09-12T22:55:58.629235",
          "2021-09-12T22:55:58.629235",
          "2021-09-12T22:55:58.629235",
          "2021-09-12T22:56:58.629235",
          "2021-09-12T22:56:58.629235",
          "2021-09-12T22:56:58.629235",
          "2021-09-12T22:56:58.629235",
          "2021-09-12T22:56:58.629235",
          "2021-09-12T22:58:58.629235",
          "2021-09-12T22:58:58.629235",
          "2021-09-12T22:58:58.629235",
          "2021-09-12T22:59:58.629235",
          "2021-09-12T22:59:58.629235",
          "2021-09-12T23:00:58.629235",
          "2021-09-12T23:00:58.629235",
          "2021-09-12T23:00:58.629235",
          "2021-09-12T23:01:58.629235",
          "2021-09-12T23:01:58.629235",
          "2021-09-12T23:01:58.629235",
          "2021-09-12T23:02:58.629235",
          "2021-09-12T23:02:58.629235",
          "2021-09-12T23:02:58.629235",
          "2021-09-12T23:02:58.629235",
          "2021-09-12T23:02:58.629235",
          "2021-09-12T23:03:58.629235",
          "2021-09-12T23:03:58.629235",
          "2021-09-12T23:03:58.629235",
          "2021-09-12T23:04:58.629235",
          "2021-09-12T23:04:58.629235",
          "2021-09-12T23:04:58.629235",
          "2021-09-12T23:05:58.629235",
          "2021-09-12T23:05:58.629235",
          "2021-09-12T23:05:58.629235",
          "2021-09-12T23:06:58.629235",
          "2021-09-12T23:07:58.629235",
          "2021-09-12T23:07:58.629235",
          "2021-09-12T23:07:58.629235",
          "2021-09-12T23:08:58.629235",
          "2021-09-12T23:08:58.629235",
          "2021-09-12T23:08:58.629235",
          "2021-09-12T23:08:58.629235",
          "2021-09-12T23:09:58.629235",
          "2021-09-12T23:10:58.629235",
          "2021-09-12T23:10:58.629235",
          "2021-09-12T23:10:58.629235",
          "2021-09-12T23:11:58.629235",
          "2021-09-12T23:11:58.629235",
          "2021-09-12T23:11:58.629235",
          "2021-09-12T23:12:58.629235",
          "2021-09-12T23:13:58.629235",
          "2021-09-12T23:13:58.629235",
          "2021-09-12T23:14:58.629235",
          "2021-09-12T23:14:58.629235",
          "2021-09-12T23:14:58.629235",
          "2021-09-12T23:16:58.629235"
         ],
         "hovertemplate": "Scenario=Sc2<br>Start=%{base}<br>Finish=%{x}<br>Username=%{y}<extra></extra>",
         "legendgroup": "Sc2",
         "marker": {
          "color": "#636efa"
         },
         "name": "Sc2",
         "offsetgroup": "Sc2",
         "orientation": "h",
         "showlegend": true,
         "textposition": "auto",
         "type": "bar",
         "x": [
          300000,
          300000,
          480000,
          480000,
          660000,
          660000,
          840000,
          1260000,
          1500000,
          1740000,
          1680000,
          1920000,
          1860000,
          2100000,
          1920000,
          2040000,
          1860000,
          2280000,
          2460000,
          2520000,
          2760000,
          2880000,
          3120000,
          3120000,
          3300000,
          3300000,
          3120000,
          3480000,
          3300000,
          3480000,
          3660000,
          3660000,
          3840000,
          3960000,
          4260000,
          4500000,
          4740000,
          4680000,
          4920000,
          4860000,
          5100000,
          5040000,
          4860000,
          5280000,
          5460000,
          5640000,
          5760000,
          6000000,
          6120000,
          6180000,
          6300000,
          6360000,
          6180000,
          6180000,
          6480000,
          6240000,
          6240000,
          6540000,
          6660000,
          6840000,
          6960000,
          6960000,
          7140000,
          7380000,
          7620000,
          7380000,
          7380000,
          7080000,
          6960000,
          6780000,
          6540000,
          6360000,
          6060000,
          5940000,
          5880000,
          5940000,
          5760000,
          5700000,
          5460000,
          5400000,
          5160000,
          5100000,
          4980000,
          4800000,
          4260000,
          4080000,
          3780000,
          3780000,
          3660000,
          3480000,
          3480000,
          3180000,
          3180000,
          2880000,
          2580000,
          2520000,
          2340000,
          1920000,
          1800000,
          1800000,
          1740000,
          1680000,
          1680000,
          1680000,
          1500000,
          1380000,
          1200000,
          1080000,
          900000,
          780000,
          780000,
          660000,
          240000,
          120000,
          120000,
          120000,
          120000,
          180000,
          180000,
          180000,
          180000,
          180000,
          180000,
          120000,
          120000,
          120000,
          120000,
          120000,
          120000,
          120000,
          120000,
          120000,
          120000,
          120000,
          120000,
          120000,
          120000,
          120000,
          120000,
          120000,
          120000,
          120000,
          120000,
          120000,
          120000,
          120000,
          120000,
          120000,
          120000,
          120000,
          120000,
          120000,
          120000,
          120000,
          120000,
          120000,
          120000,
          120000,
          300000,
          360000,
          120000,
          120000,
          120000,
          120000,
          180000,
          360000,
          120000,
          120000,
          120000,
          120000,
          360000,
          360000,
          180000,
          180000,
          180000,
          180000,
          180000,
          180000,
          240000,
          240000,
          240000,
          480000,
          480000,
          240000,
          180000,
          180000,
          240000,
          240000,
          240000,
          240000,
          240000,
          300000,
          300000,
          480000,
          240000,
          240000,
          240000,
          480000,
          480000,
          540000,
          300000,
          300000,
          300000,
          300000,
          360000,
          360000,
          540000,
          600000,
          360000,
          360000,
          600000,
          600000,
          600000,
          600000,
          600000,
          660000,
          720000,
          540000,
          720000,
          720000,
          780000,
          780000,
          780000,
          720000,
          780000,
          840000,
          720000,
          900000,
          960000,
          900000,
          900000,
          900000,
          960000,
          960000,
          960000,
          1080000,
          1140000,
          1140000,
          1140000,
          1020000,
          1080000,
          1080000,
          1140000,
          1200000,
          1260000,
          1200000,
          1200000,
          720000,
          600000,
          120000,
          120000,
          120000,
          120000,
          120000,
          300000,
          120000,
          120000,
          120000,
          120000,
          120000,
          120000,
          120000,
          120000,
          120000,
          120000,
          120000,
          120000,
          120000,
          120000,
          120000,
          120000,
          120000,
          120000,
          120000,
          120000,
          120000,
          120000,
          120000,
          120000,
          120000,
          120000,
          120000,
          120000,
          120000,
          120000,
          120000,
          120000,
          120000,
          120000,
          120000,
          120000,
          120000,
          120000,
          120000,
          120000,
          120000,
          120000,
          120000,
          120000,
          120000,
          120000,
          120000,
          300000,
          120000,
          120000,
          120000,
          300000,
          120000,
          120000,
          120000,
          300000,
          120000,
          120000,
          300000,
          300000,
          120000,
          180000,
          180000,
          180000,
          120000,
          180000,
          180000,
          180000,
          180000,
          180000,
          180000,
          180000,
          180000,
          180000,
          180000,
          180000,
          180000,
          180000,
          360000,
          420000,
          180000,
          180000,
          180000,
          180000,
          180000,
          120000,
          300000,
          120000,
          180000,
          180000,
          180000,
          180000,
          180000,
          360000,
          360000,
          180000,
          240000,
          180000,
          420000,
          240000,
          180000,
          180000,
          180000,
          420000,
          180000,
          180000,
          180000,
          180000,
          240000,
          180000,
          180000,
          180000,
          240000,
          240000,
          420000,
          240000,
          240000,
          240000,
          180000,
          420000,
          420000,
          300000,
          240000,
          240000,
          240000,
          420000,
          420000,
          480000,
          540000,
          300000,
          300000,
          360000,
          300000,
          360000,
          540000,
          300000,
          300000,
          240000,
          300000,
          300000,
          300000,
          240000,
          240000,
          480000,
          480000,
          300000,
          240000,
          480000,
          480000,
          480000,
          240000,
          240000,
          300000,
          300000,
          540000,
          540000,
          300000,
          300000,
          360000,
          540000,
          240000,
          300000,
          240000,
          420000,
          180000,
          180000,
          180000,
          420000,
          420000,
          420000,
          420000,
          420000,
          420000,
          300000,
          300000,
          300000,
          540000,
          300000,
          300000,
          180000,
          420000,
          360000,
          360000,
          240000,
          300000,
          360000,
          360000,
          480000,
          540000,
          480000,
          420000,
          360000,
          360000,
          300000,
          180000,
          420000,
          360000,
          420000,
          420000,
          420000,
          300000,
          240000,
          300000,
          240000,
          360000,
          360000,
          360000,
          360000,
          300000,
          360000,
          240000,
          300000,
          300000,
          360000,
          240000,
          300000,
          300000,
          180000,
          180000,
          180000,
          240000,
          240000,
          300000,
          240000,
          240000,
          300000,
          300000,
          240000,
          240000,
          240000,
          300000,
          300000,
          240000,
          300000,
          300000,
          300000,
          360000,
          360000,
          300000,
          300000,
          240000,
          300000,
          300000,
          240000,
          300000,
          300000,
          300000,
          360000,
          360000,
          300000,
          300000,
          240000,
          300000,
          300000,
          240000,
          300000,
          300000,
          300000,
          360000,
          360000,
          360000,
          300000,
          300000,
          300000,
          300000,
          300000,
          360000,
          300000,
          300000,
          360000,
          360000,
          300000,
          300000,
          300000,
          360000,
          300000,
          300000,
          360000,
          300000,
          300000,
          360000,
          360000,
          360000,
          300000,
          300000,
          360000,
          360000,
          360000,
          420000,
          420000,
          360000,
          420000,
          420000,
          360000,
          360000,
          360000,
          420000,
          360000,
          360000,
          360000,
          360000,
          360000,
          420000,
          360000,
          360000,
          360000,
          360000,
          420000,
          420000,
          420000,
          420000,
          420000,
          420000,
          480000,
          480000,
          420000,
          420000,
          420000,
          420000,
          420000,
          420000,
          480000,
          420000,
          420000,
          420000,
          420000,
          420000,
          360000,
          360000,
          420000,
          420000,
          420000,
          480000,
          480000,
          420000,
          480000,
          480000,
          420000,
          420000,
          420000,
          480000,
          480000,
          480000,
          480000,
          480000,
          480000,
          540000,
          540000,
          420000,
          420000,
          420000,
          420000,
          420000,
          360000,
          420000,
          420000,
          360000,
          420000,
          420000,
          360000,
          360000,
          360000,
          420000,
          420000,
          360000,
          420000,
          420000,
          360000,
          420000,
          420000,
          360000,
          360000,
          360000,
          360000,
          300000,
          300000,
          360000,
          300000,
          300000,
          360000,
          360000,
          300000,
          240000,
          240000,
          300000,
          240000,
          240000,
          300000,
          240000,
          180000,
          240000,
          180000,
          180000,
          180000,
          180000
         ],
         "xaxis": "x",
         "y": [
          "User-001",
          "User-002",
          "User-003",
          "User-004",
          "User-005",
          "User-006",
          "User-008",
          "User-010",
          "User-011",
          "User-012",
          "User-013",
          "User-014",
          "User-015",
          "User-016",
          "User-001",
          "User-017",
          "User-002",
          "User-018",
          "User-020",
          "User-003",
          "User-022",
          "User-004",
          "User-023",
          "User-024",
          "User-025",
          "User-026",
          "User-005",
          "User-027",
          "User-006",
          "User-028",
          "User-029",
          "User-030",
          "User-032",
          "User-008",
          "User-034",
          "User-035",
          "User-036",
          "User-037",
          "User-038",
          "User-039",
          "User-040",
          "User-041",
          "User-010",
          "User-042",
          "User-044",
          "User-046",
          "User-011",
          "User-047",
          "User-048",
          "User-049",
          "User-050",
          "User-051",
          "User-012",
          "User-013",
          "User-052",
          "User-001",
          "User-002",
          "User-053",
          "User-054",
          "User-056",
          "User-014",
          "User-015",
          "User-058",
          "User-059",
          "User-060",
          "User-016",
          "User-017",
          "User-018",
          "User-003",
          "User-020",
          "User-004",
          "User-022",
          "User-005",
          "User-023",
          "User-024",
          "User-006",
          "User-025",
          "User-026",
          "User-027",
          "User-028",
          "User-029",
          "User-030",
          "User-008",
          "User-032",
          "User-034",
          "User-035",
          "User-036",
          "User-037",
          "User-010",
          "User-038",
          "User-039",
          "User-040",
          "User-041",
          "User-042",
          "User-044",
          "User-011",
          "User-046",
          "User-047",
          "User-012",
          "User-013",
          "User-048",
          "User-001",
          "User-002",
          "User-049",
          "User-050",
          "User-051",
          "User-052",
          "User-053",
          "User-054",
          "User-014",
          "User-015",
          "User-056",
          "User-058",
          "User-016",
          "User-017",
          "User-018",
          "User-003",
          "User-020",
          "User-004",
          "User-022",
          "User-005",
          "User-023",
          "User-024",
          "User-006",
          "User-025",
          "User-026",
          "User-027",
          "User-028",
          "User-029",
          "User-030",
          "User-008",
          "User-032",
          "User-034",
          "User-059",
          "User-035",
          "User-036",
          "User-037",
          "User-010",
          "User-038",
          "User-039",
          "User-040",
          "User-041",
          "User-042",
          "User-044",
          "User-011",
          "User-046",
          "User-047",
          "User-012",
          "User-013",
          "User-048",
          "User-049",
          "User-050",
          "User-051",
          "User-052",
          "User-053",
          "User-054",
          "User-014",
          "User-015",
          "User-001",
          "User-002",
          "User-056",
          "User-058",
          "User-016",
          "User-017",
          "User-018",
          "User-003",
          "User-020",
          "User-022",
          "User-023",
          "User-024",
          "User-004",
          "User-005",
          "User-060",
          "User-025",
          "User-026",
          "User-027",
          "User-028",
          "User-029",
          "User-030",
          "User-032",
          "User-034",
          "User-006",
          "User-008",
          "User-059",
          "User-035",
          "User-036",
          "User-037",
          "User-038",
          "User-039",
          "User-040",
          "User-041",
          "User-042",
          "User-044",
          "User-010",
          "User-046",
          "User-047",
          "User-048",
          "User-011",
          "User-012",
          "User-013",
          "User-049",
          "User-050",
          "User-051",
          "User-052",
          "User-053",
          "User-054",
          "User-014",
          "User-015",
          "User-056",
          "User-058",
          "User-016",
          "User-017",
          "User-018",
          "User-020",
          "User-022",
          "User-023",
          "User-024",
          "User-060",
          "User-025",
          "User-026",
          "User-027",
          "User-028",
          "User-029",
          "User-030",
          "User-032",
          "User-034",
          "User-059",
          "User-035",
          "User-036",
          "User-037",
          "User-038",
          "User-039",
          "User-040",
          "User-041",
          "User-042",
          "User-044",
          "User-046",
          "User-047",
          "User-048",
          "User-049",
          "User-050",
          "User-051",
          "User-052",
          "User-053",
          "User-054",
          "User-056",
          "User-058",
          "User-060",
          "User-059",
          "User-001",
          "User-002",
          "User-003",
          "User-004",
          "User-005",
          "User-060",
          "User-006",
          "User-008",
          "User-001",
          "User-002",
          "User-010",
          "User-003",
          "User-011",
          "User-012",
          "User-004",
          "User-005",
          "User-013",
          "User-014",
          "User-015",
          "User-006",
          "User-008",
          "User-016",
          "User-017",
          "User-001",
          "User-018",
          "User-020",
          "User-022",
          "User-002",
          "User-010",
          "User-023",
          "User-003",
          "User-011",
          "User-012",
          "User-024",
          "User-004",
          "User-005",
          "User-013",
          "User-014",
          "User-025",
          "User-026",
          "User-015",
          "User-027",
          "User-028",
          "User-029",
          "User-030",
          "User-006",
          "User-008",
          "User-016",
          "User-017",
          "User-032",
          "User-018",
          "User-020",
          "User-022",
          "User-001",
          "User-034",
          "User-010",
          "User-023",
          "User-002",
          "User-011",
          "User-012",
          "User-024",
          "User-003",
          "User-035",
          "User-013",
          "User-004",
          "User-005",
          "User-036",
          "User-037",
          "User-038",
          "User-039",
          "User-014",
          "User-025",
          "User-026",
          "User-040",
          "User-041",
          "User-015",
          "User-027",
          "User-028",
          "User-029",
          "User-030",
          "User-042",
          "User-016",
          "User-017",
          "User-032",
          "User-006",
          "User-008",
          "User-018",
          "User-020",
          "User-022",
          "User-034",
          "User-044",
          "User-023",
          "User-010",
          "User-046",
          "User-047",
          "User-048",
          "User-049",
          "User-024",
          "User-035",
          "User-011",
          "User-012",
          "User-050",
          "User-051",
          "User-036",
          "User-013",
          "User-052",
          "User-037",
          "User-038",
          "User-039",
          "User-014",
          "User-025",
          "User-026",
          "User-040",
          "User-041",
          "User-053",
          "User-027",
          "User-028",
          "User-029",
          "User-030",
          "User-042",
          "User-015",
          "User-054",
          "User-056",
          "User-058",
          "User-032",
          "User-016",
          "User-017",
          "User-059",
          "User-034",
          "User-044",
          "User-046",
          "User-018",
          "User-020",
          "User-022",
          "User-023",
          "User-047",
          "User-048",
          "User-049",
          "User-035",
          "User-050",
          "User-024",
          "User-051",
          "User-036",
          "User-052",
          "User-037",
          "User-038",
          "User-039",
          "User-040",
          "User-041",
          "User-025",
          "User-026",
          "User-060",
          "User-053",
          "User-027",
          "User-028",
          "User-029",
          "User-042",
          "User-054",
          "User-056",
          "User-058",
          "User-030",
          "User-032",
          "User-059",
          "User-044",
          "User-046",
          "User-034",
          "User-047",
          "User-048",
          "User-049",
          "User-035",
          "User-050",
          "User-051",
          "User-052",
          "User-036",
          "User-037",
          "User-038",
          "User-039",
          "User-040",
          "User-041",
          "User-060",
          "User-053",
          "User-054",
          "User-042",
          "User-056",
          "User-058",
          "User-059",
          "User-044",
          "User-046",
          "User-047",
          "User-001",
          "User-048",
          "User-049",
          "User-050",
          "User-051",
          "User-052",
          "User-002",
          "User-003",
          "User-004",
          "User-005",
          "User-001",
          "User-060",
          "User-053",
          "User-054",
          "User-056",
          "User-058",
          "User-059",
          "User-006",
          "User-008",
          "User-010",
          "User-002",
          "User-003",
          "User-004",
          "User-005",
          "User-001",
          "User-011",
          "User-012",
          "User-006",
          "User-008",
          "User-013",
          "User-060",
          "User-010",
          "User-002",
          "User-014",
          "User-003",
          "User-004",
          "User-005",
          "User-001",
          "User-011",
          "User-015",
          "User-012",
          "User-006",
          "User-016",
          "User-017",
          "User-008",
          "User-013",
          "User-010",
          "User-018",
          "User-020",
          "User-002",
          "User-014",
          "User-003",
          "User-004",
          "User-005",
          "User-022",
          "User-011",
          "User-023",
          "User-015",
          "User-012",
          "User-006",
          "User-016",
          "User-017",
          "User-008",
          "User-013",
          "User-010",
          "User-024",
          "User-018",
          "User-020",
          "User-014",
          "User-025",
          "User-026",
          "User-022",
          "User-011",
          "User-023",
          "User-015",
          "User-027",
          "User-028",
          "User-029",
          "User-012",
          "User-016",
          "User-017",
          "User-013",
          "User-030",
          "User-032",
          "User-024",
          "User-018",
          "User-020",
          "User-014",
          "User-025",
          "User-026",
          "User-022",
          "User-034",
          "User-023",
          "User-015",
          "User-035",
          "User-027",
          "User-028",
          "User-029",
          "User-016",
          "User-036",
          "User-017",
          "User-030",
          "User-037",
          "User-038",
          "User-039",
          "User-040",
          "User-041",
          "User-032",
          "User-024",
          "User-018",
          "User-020",
          "User-025",
          "User-026",
          "User-022",
          "User-034",
          "User-023",
          "User-035",
          "User-027",
          "User-028",
          "User-042",
          "User-029",
          "User-036",
          "User-030",
          "User-044",
          "User-046",
          "User-047",
          "User-048",
          "User-037",
          "User-038",
          "User-039",
          "User-049",
          "User-050",
          "User-040",
          "User-041",
          "User-032",
          "User-024",
          "User-025",
          "User-026",
          "User-051",
          "User-034",
          "User-052",
          "User-035",
          "User-027",
          "User-028",
          "User-042",
          "User-029",
          "User-036",
          "User-030",
          "User-044",
          "User-053",
          "User-054",
          "User-046",
          "User-047",
          "User-048",
          "User-037",
          "User-038",
          "User-039",
          "User-056",
          "User-058",
          "User-059",
          "User-049",
          "User-050",
          "User-040",
          "User-041",
          "User-032",
          "User-051",
          "User-034",
          "User-052",
          "User-035",
          "User-042",
          "User-036",
          "User-044",
          "User-060",
          "User-053",
          "User-054",
          "User-046",
          "User-047",
          "User-048",
          "User-037",
          "User-038",
          "User-039",
          "User-056",
          "User-058",
          "User-059",
          "User-049",
          "User-050",
          "User-040",
          "User-041",
          "User-051",
          "User-052",
          "User-042",
          "User-044",
          "User-060",
          "User-053",
          "User-054",
          "User-046",
          "User-047",
          "User-048",
          "User-056",
          "User-058",
          "User-059",
          "User-049",
          "User-050",
          "User-051",
          "User-052",
          "User-060",
          "User-053",
          "User-054",
          "User-056",
          "User-058",
          "User-059",
          "User-060"
         ],
         "yaxis": "y"
        },
        {
         "alignmentgroup": "True",
         "base": [
          "2021-09-12T17:32:58.629235",
          "2021-09-12T17:34:58.629235",
          "2021-09-12T17:44:58.629235",
          "2021-09-12T17:46:58.629235",
          "2021-09-12T17:56:58.629235",
          "2021-09-12T17:58:58.629235",
          "2021-09-12T18:08:58.629235",
          "2021-09-12T18:10:58.629235",
          "2021-09-12T18:20:58.629235",
          "2021-09-12T18:22:58.629235"
         ],
         "hovertemplate": "Scenario=Sc1<br>Start=%{base}<br>Finish=%{x}<br>Username=%{y}<extra></extra>",
         "legendgroup": "Sc1",
         "marker": {
          "color": "#EF553B"
         },
         "name": "Sc1",
         "offsetgroup": "Sc1",
         "orientation": "h",
         "showlegend": true,
         "textposition": "auto",
         "type": "bar",
         "x": [
          1140000,
          1620000,
          2520000,
          3000000,
          4140000,
          4620000,
          5520000,
          6000000,
          7020000,
          7500000
         ],
         "xaxis": "x",
         "y": [
          "User-007",
          "User-009",
          "User-019",
          "User-021",
          "User-031",
          "User-033",
          "User-043",
          "User-045",
          "User-055",
          "User-057"
         ],
         "yaxis": "y"
        }
       ],
       "layout": {
        "barmode": "overlay",
        "legend": {
         "title": {
          "text": "Scenario"
         },
         "tracegroupgap": 0
        },
        "margin": {
         "t": 60
        },
        "template": {
         "data": {
          "bar": [
           {
            "error_x": {
             "color": "#2a3f5f"
            },
            "error_y": {
             "color": "#2a3f5f"
            },
            "marker": {
             "line": {
              "color": "#E5ECF6",
              "width": 0.5
             },
             "pattern": {
              "fillmode": "overlay",
              "size": 10,
              "solidity": 0.2
             }
            },
            "type": "bar"
           }
          ],
          "barpolar": [
           {
            "marker": {
             "line": {
              "color": "#E5ECF6",
              "width": 0.5
             },
             "pattern": {
              "fillmode": "overlay",
              "size": 10,
              "solidity": 0.2
             }
            },
            "type": "barpolar"
           }
          ],
          "carpet": [
           {
            "aaxis": {
             "endlinecolor": "#2a3f5f",
             "gridcolor": "white",
             "linecolor": "white",
             "minorgridcolor": "white",
             "startlinecolor": "#2a3f5f"
            },
            "baxis": {
             "endlinecolor": "#2a3f5f",
             "gridcolor": "white",
             "linecolor": "white",
             "minorgridcolor": "white",
             "startlinecolor": "#2a3f5f"
            },
            "type": "carpet"
           }
          ],
          "choropleth": [
           {
            "colorbar": {
             "outlinewidth": 0,
             "ticks": ""
            },
            "type": "choropleth"
           }
          ],
          "contour": [
           {
            "colorbar": {
             "outlinewidth": 0,
             "ticks": ""
            },
            "colorscale": [
             [
              0,
              "#0d0887"
             ],
             [
              0.1111111111111111,
              "#46039f"
             ],
             [
              0.2222222222222222,
              "#7201a8"
             ],
             [
              0.3333333333333333,
              "#9c179e"
             ],
             [
              0.4444444444444444,
              "#bd3786"
             ],
             [
              0.5555555555555556,
              "#d8576b"
             ],
             [
              0.6666666666666666,
              "#ed7953"
             ],
             [
              0.7777777777777778,
              "#fb9f3a"
             ],
             [
              0.8888888888888888,
              "#fdca26"
             ],
             [
              1,
              "#f0f921"
             ]
            ],
            "type": "contour"
           }
          ],
          "contourcarpet": [
           {
            "colorbar": {
             "outlinewidth": 0,
             "ticks": ""
            },
            "type": "contourcarpet"
           }
          ],
          "heatmap": [
           {
            "colorbar": {
             "outlinewidth": 0,
             "ticks": ""
            },
            "colorscale": [
             [
              0,
              "#0d0887"
             ],
             [
              0.1111111111111111,
              "#46039f"
             ],
             [
              0.2222222222222222,
              "#7201a8"
             ],
             [
              0.3333333333333333,
              "#9c179e"
             ],
             [
              0.4444444444444444,
              "#bd3786"
             ],
             [
              0.5555555555555556,
              "#d8576b"
             ],
             [
              0.6666666666666666,
              "#ed7953"
             ],
             [
              0.7777777777777778,
              "#fb9f3a"
             ],
             [
              0.8888888888888888,
              "#fdca26"
             ],
             [
              1,
              "#f0f921"
             ]
            ],
            "type": "heatmap"
           }
          ],
          "heatmapgl": [
           {
            "colorbar": {
             "outlinewidth": 0,
             "ticks": ""
            },
            "colorscale": [
             [
              0,
              "#0d0887"
             ],
             [
              0.1111111111111111,
              "#46039f"
             ],
             [
              0.2222222222222222,
              "#7201a8"
             ],
             [
              0.3333333333333333,
              "#9c179e"
             ],
             [
              0.4444444444444444,
              "#bd3786"
             ],
             [
              0.5555555555555556,
              "#d8576b"
             ],
             [
              0.6666666666666666,
              "#ed7953"
             ],
             [
              0.7777777777777778,
              "#fb9f3a"
             ],
             [
              0.8888888888888888,
              "#fdca26"
             ],
             [
              1,
              "#f0f921"
             ]
            ],
            "type": "heatmapgl"
           }
          ],
          "histogram": [
           {
            "marker": {
             "pattern": {
              "fillmode": "overlay",
              "size": 10,
              "solidity": 0.2
             }
            },
            "type": "histogram"
           }
          ],
          "histogram2d": [
           {
            "colorbar": {
             "outlinewidth": 0,
             "ticks": ""
            },
            "colorscale": [
             [
              0,
              "#0d0887"
             ],
             [
              0.1111111111111111,
              "#46039f"
             ],
             [
              0.2222222222222222,
              "#7201a8"
             ],
             [
              0.3333333333333333,
              "#9c179e"
             ],
             [
              0.4444444444444444,
              "#bd3786"
             ],
             [
              0.5555555555555556,
              "#d8576b"
             ],
             [
              0.6666666666666666,
              "#ed7953"
             ],
             [
              0.7777777777777778,
              "#fb9f3a"
             ],
             [
              0.8888888888888888,
              "#fdca26"
             ],
             [
              1,
              "#f0f921"
             ]
            ],
            "type": "histogram2d"
           }
          ],
          "histogram2dcontour": [
           {
            "colorbar": {
             "outlinewidth": 0,
             "ticks": ""
            },
            "colorscale": [
             [
              0,
              "#0d0887"
             ],
             [
              0.1111111111111111,
              "#46039f"
             ],
             [
              0.2222222222222222,
              "#7201a8"
             ],
             [
              0.3333333333333333,
              "#9c179e"
             ],
             [
              0.4444444444444444,
              "#bd3786"
             ],
             [
              0.5555555555555556,
              "#d8576b"
             ],
             [
              0.6666666666666666,
              "#ed7953"
             ],
             [
              0.7777777777777778,
              "#fb9f3a"
             ],
             [
              0.8888888888888888,
              "#fdca26"
             ],
             [
              1,
              "#f0f921"
             ]
            ],
            "type": "histogram2dcontour"
           }
          ],
          "mesh3d": [
           {
            "colorbar": {
             "outlinewidth": 0,
             "ticks": ""
            },
            "type": "mesh3d"
           }
          ],
          "parcoords": [
           {
            "line": {
             "colorbar": {
              "outlinewidth": 0,
              "ticks": ""
             }
            },
            "type": "parcoords"
           }
          ],
          "pie": [
           {
            "automargin": true,
            "type": "pie"
           }
          ],
          "scatter": [
           {
            "marker": {
             "colorbar": {
              "outlinewidth": 0,
              "ticks": ""
             }
            },
            "type": "scatter"
           }
          ],
          "scatter3d": [
           {
            "line": {
             "colorbar": {
              "outlinewidth": 0,
              "ticks": ""
             }
            },
            "marker": {
             "colorbar": {
              "outlinewidth": 0,
              "ticks": ""
             }
            },
            "type": "scatter3d"
           }
          ],
          "scattercarpet": [
           {
            "marker": {
             "colorbar": {
              "outlinewidth": 0,
              "ticks": ""
             }
            },
            "type": "scattercarpet"
           }
          ],
          "scattergeo": [
           {
            "marker": {
             "colorbar": {
              "outlinewidth": 0,
              "ticks": ""
             }
            },
            "type": "scattergeo"
           }
          ],
          "scattergl": [
           {
            "marker": {
             "colorbar": {
              "outlinewidth": 0,
              "ticks": ""
             }
            },
            "type": "scattergl"
           }
          ],
          "scattermapbox": [
           {
            "marker": {
             "colorbar": {
              "outlinewidth": 0,
              "ticks": ""
             }
            },
            "type": "scattermapbox"
           }
          ],
          "scatterpolar": [
           {
            "marker": {
             "colorbar": {
              "outlinewidth": 0,
              "ticks": ""
             }
            },
            "type": "scatterpolar"
           }
          ],
          "scatterpolargl": [
           {
            "marker": {
             "colorbar": {
              "outlinewidth": 0,
              "ticks": ""
             }
            },
            "type": "scatterpolargl"
           }
          ],
          "scatterternary": [
           {
            "marker": {
             "colorbar": {
              "outlinewidth": 0,
              "ticks": ""
             }
            },
            "type": "scatterternary"
           }
          ],
          "surface": [
           {
            "colorbar": {
             "outlinewidth": 0,
             "ticks": ""
            },
            "colorscale": [
             [
              0,
              "#0d0887"
             ],
             [
              0.1111111111111111,
              "#46039f"
             ],
             [
              0.2222222222222222,
              "#7201a8"
             ],
             [
              0.3333333333333333,
              "#9c179e"
             ],
             [
              0.4444444444444444,
              "#bd3786"
             ],
             [
              0.5555555555555556,
              "#d8576b"
             ],
             [
              0.6666666666666666,
              "#ed7953"
             ],
             [
              0.7777777777777778,
              "#fb9f3a"
             ],
             [
              0.8888888888888888,
              "#fdca26"
             ],
             [
              1,
              "#f0f921"
             ]
            ],
            "type": "surface"
           }
          ],
          "table": [
           {
            "cells": {
             "fill": {
              "color": "#EBF0F8"
             },
             "line": {
              "color": "white"
             }
            },
            "header": {
             "fill": {
              "color": "#C8D4E3"
             },
             "line": {
              "color": "white"
             }
            },
            "type": "table"
           }
          ]
         },
         "layout": {
          "annotationdefaults": {
           "arrowcolor": "#2a3f5f",
           "arrowhead": 0,
           "arrowwidth": 1
          },
          "autotypenumbers": "strict",
          "coloraxis": {
           "colorbar": {
            "outlinewidth": 0,
            "ticks": ""
           }
          },
          "colorscale": {
           "diverging": [
            [
             0,
             "#8e0152"
            ],
            [
             0.1,
             "#c51b7d"
            ],
            [
             0.2,
             "#de77ae"
            ],
            [
             0.3,
             "#f1b6da"
            ],
            [
             0.4,
             "#fde0ef"
            ],
            [
             0.5,
             "#f7f7f7"
            ],
            [
             0.6,
             "#e6f5d0"
            ],
            [
             0.7,
             "#b8e186"
            ],
            [
             0.8,
             "#7fbc41"
            ],
            [
             0.9,
             "#4d9221"
            ],
            [
             1,
             "#276419"
            ]
           ],
           "sequential": [
            [
             0,
             "#0d0887"
            ],
            [
             0.1111111111111111,
             "#46039f"
            ],
            [
             0.2222222222222222,
             "#7201a8"
            ],
            [
             0.3333333333333333,
             "#9c179e"
            ],
            [
             0.4444444444444444,
             "#bd3786"
            ],
            [
             0.5555555555555556,
             "#d8576b"
            ],
            [
             0.6666666666666666,
             "#ed7953"
            ],
            [
             0.7777777777777778,
             "#fb9f3a"
            ],
            [
             0.8888888888888888,
             "#fdca26"
            ],
            [
             1,
             "#f0f921"
            ]
           ],
           "sequentialminus": [
            [
             0,
             "#0d0887"
            ],
            [
             0.1111111111111111,
             "#46039f"
            ],
            [
             0.2222222222222222,
             "#7201a8"
            ],
            [
             0.3333333333333333,
             "#9c179e"
            ],
            [
             0.4444444444444444,
             "#bd3786"
            ],
            [
             0.5555555555555556,
             "#d8576b"
            ],
            [
             0.6666666666666666,
             "#ed7953"
            ],
            [
             0.7777777777777778,
             "#fb9f3a"
            ],
            [
             0.8888888888888888,
             "#fdca26"
            ],
            [
             1,
             "#f0f921"
            ]
           ]
          },
          "colorway": [
           "#636efa",
           "#EF553B",
           "#00cc96",
           "#ab63fa",
           "#FFA15A",
           "#19d3f3",
           "#FF6692",
           "#B6E880",
           "#FF97FF",
           "#FECB52"
          ],
          "font": {
           "color": "#2a3f5f"
          },
          "geo": {
           "bgcolor": "white",
           "lakecolor": "white",
           "landcolor": "#E5ECF6",
           "showlakes": true,
           "showland": true,
           "subunitcolor": "white"
          },
          "hoverlabel": {
           "align": "left"
          },
          "hovermode": "closest",
          "mapbox": {
           "style": "light"
          },
          "paper_bgcolor": "white",
          "plot_bgcolor": "#E5ECF6",
          "polar": {
           "angularaxis": {
            "gridcolor": "white",
            "linecolor": "white",
            "ticks": ""
           },
           "bgcolor": "#E5ECF6",
           "radialaxis": {
            "gridcolor": "white",
            "linecolor": "white",
            "ticks": ""
           }
          },
          "scene": {
           "xaxis": {
            "backgroundcolor": "#E5ECF6",
            "gridcolor": "white",
            "gridwidth": 2,
            "linecolor": "white",
            "showbackground": true,
            "ticks": "",
            "zerolinecolor": "white"
           },
           "yaxis": {
            "backgroundcolor": "#E5ECF6",
            "gridcolor": "white",
            "gridwidth": 2,
            "linecolor": "white",
            "showbackground": true,
            "ticks": "",
            "zerolinecolor": "white"
           },
           "zaxis": {
            "backgroundcolor": "#E5ECF6",
            "gridcolor": "white",
            "gridwidth": 2,
            "linecolor": "white",
            "showbackground": true,
            "ticks": "",
            "zerolinecolor": "white"
           }
          },
          "shapedefaults": {
           "line": {
            "color": "#2a3f5f"
           }
          },
          "ternary": {
           "aaxis": {
            "gridcolor": "white",
            "linecolor": "white",
            "ticks": ""
           },
           "baxis": {
            "gridcolor": "white",
            "linecolor": "white",
            "ticks": ""
           },
           "bgcolor": "#E5ECF6",
           "caxis": {
            "gridcolor": "white",
            "linecolor": "white",
            "ticks": ""
           }
          },
          "title": {
           "x": 0.05
          },
          "xaxis": {
           "automargin": true,
           "gridcolor": "white",
           "linecolor": "white",
           "ticks": "",
           "title": {
            "standoff": 15
           },
           "zerolinecolor": "white",
           "zerolinewidth": 2
          },
          "yaxis": {
           "automargin": true,
           "gridcolor": "white",
           "linecolor": "white",
           "ticks": "",
           "title": {
            "standoff": 15
           },
           "zerolinecolor": "white",
           "zerolinewidth": 2
          }
         }
        },
        "xaxis": {
         "anchor": "y",
         "domain": [
          0,
          1
         ],
         "type": "date"
        },
        "yaxis": {
         "anchor": "x",
         "categoryorder": "category descending",
         "domain": [
          0,
          1
         ],
         "title": {
          "text": "Username"
         }
        }
       }
      },
      "text/html": [
       "<div>                            <div id=\"067aa005-b822-4870-a058-46b421bc2089\" class=\"plotly-graph-div\" style=\"height:525px; width:100%;\"></div>            <script type=\"text/javascript\">                require([\"plotly\"], function(Plotly) {                    window.PLOTLYENV=window.PLOTLYENV || {};                                    if (document.getElementById(\"067aa005-b822-4870-a058-46b421bc2089\")) {                    Plotly.newPlot(                        \"067aa005-b822-4870-a058-46b421bc2089\",                        [{\"alignmentgroup\":\"True\",\"base\":[\"2021-09-12T17:26:58.629235\",\"2021-09-12T17:27:58.629235\",\"2021-09-12T17:28:58.629235\",\"2021-09-12T17:29:58.629235\",\"2021-09-12T17:30:58.629235\",\"2021-09-12T17:31:58.629235\",\"2021-09-12T17:33:58.629235\",\"2021-09-12T17:35:58.629235\",\"2021-09-12T17:36:58.629235\",\"2021-09-12T17:37:58.629235\",\"2021-09-12T17:38:58.629235\",\"2021-09-12T17:39:58.629235\",\"2021-09-12T17:40:58.629235\",\"2021-09-12T17:41:58.629235\",\"2021-09-12T17:41:58.629235\",\"2021-09-12T17:42:58.629235\",\"2021-09-12T17:42:58.629235\",\"2021-09-12T17:43:58.629235\",\"2021-09-12T17:45:58.629235\",\"2021-09-12T17:46:58.629235\",\"2021-09-12T17:47:58.629235\",\"2021-09-12T17:47:58.629235\",\"2021-09-12T17:48:58.629235\",\"2021-09-12T17:49:58.629235\",\"2021-09-12T17:50:58.629235\",\"2021-09-12T17:51:58.629235\",\"2021-09-12T17:51:58.629235\",\"2021-09-12T17:52:58.629235\",\"2021-09-12T17:52:58.629235\",\"2021-09-12T17:53:58.629235\",\"2021-09-12T17:54:58.629235\",\"2021-09-12T17:55:58.629235\",\"2021-09-12T17:57:58.629235\",\"2021-09-12T17:57:58.629235\",\"2021-09-12T17:59:58.629235\",\"2021-09-12T18:00:58.629235\",\"2021-09-12T18:01:58.629235\",\"2021-09-12T18:02:58.629235\",\"2021-09-12T18:03:58.629235\",\"2021-09-12T18:04:58.629235\",\"2021-09-12T18:05:58.629235\",\"2021-09-12T18:06:58.629235\",\"2021-09-12T18:06:58.629235\",\"2021-09-12T18:07:58.629235\",\"2021-09-12T18:09:58.629235\",\"2021-09-12T18:11:58.629235\",\"2021-09-12T18:11:58.629235\",\"2021-09-12T18:12:58.629235\",\"2021-09-12T18:13:58.629235\",\"2021-09-12T18:14:58.629235\",\"2021-09-12T18:15:58.629235\",\"2021-09-12T18:16:58.629235\",\"2021-09-12T18:16:58.629235\",\"2021-09-12T18:16:58.629235\",\"2021-09-12T18:17:58.629235\",\"2021-09-12T18:18:58.629235\",\"2021-09-12T18:18:58.629235\",\"2021-09-12T18:18:58.629235\",\"2021-09-12T18:19:58.629235\",\"2021-09-12T18:21:58.629235\",\"2021-09-12T18:21:58.629235\",\"2021-09-12T18:21:58.629235\",\"2021-09-12T18:23:58.629235\",\"2021-09-12T18:24:58.629235\",\"2021-09-12T18:25:58.629235\",\"2021-09-12T18:26:58.629235\",\"2021-09-12T18:26:58.629235\",\"2021-09-12T18:31:58.629235\",\"2021-09-12T18:33:58.629235\",\"2021-09-12T18:36:58.629235\",\"2021-09-12T18:40:58.629235\",\"2021-09-12T18:43:58.629235\",\"2021-09-12T18:48:58.629235\",\"2021-09-12T18:50:58.629235\",\"2021-09-12T18:51:58.629235\",\"2021-09-12T18:52:58.629235\",\"2021-09-12T18:55:58.629235\",\"2021-09-12T18:56:58.629235\",\"2021-09-12T19:00:58.629235\",\"2021-09-12T19:01:58.629235\",\"2021-09-12T19:05:58.629235\",\"2021-09-12T19:06:58.629235\",\"2021-09-12T19:08:58.629235\",\"2021-09-12T19:11:58.629235\",\"2021-09-12T19:20:58.629235\",\"2021-09-12T19:25:58.629235\",\"2021-09-12T19:30:58.629235\",\"2021-09-12T19:30:58.629235\",\"2021-09-12T19:32:58.629235\",\"2021-09-12T19:35:58.629235\",\"2021-09-12T19:35:58.629235\",\"2021-09-12T19:40:58.629235\",\"2021-09-12T19:40:58.629235\",\"2021-09-12T19:45:58.629235\",\"2021-09-12T19:50:58.629235\",\"2021-09-12T19:52:58.629235\",\"2021-09-12T19:55:58.629235\",\"2021-09-12T20:02:58.629235\",\"2021-09-12T20:04:58.629235\",\"2021-09-12T20:04:58.629235\",\"2021-09-12T20:05:58.629235\",\"2021-09-12T20:07:58.629235\",\"2021-09-12T20:07:58.629235\",\"2021-09-12T20:07:58.629235\",\"2021-09-12T20:10:58.629235\",\"2021-09-12T20:12:58.629235\",\"2021-09-12T20:15:58.629235\",\"2021-09-12T20:17:58.629235\",\"2021-09-12T20:20:58.629235\",\"2021-09-12T20:22:58.629235\",\"2021-09-12T20:22:58.629235\",\"2021-09-12T20:25:58.629235\",\"2021-09-12T20:32:58.629235\",\"2021-09-12T20:34:58.629235\",\"2021-09-12T20:34:58.629235\",\"2021-09-12T20:34:58.629235\",\"2021-09-12T20:34:58.629235\",\"2021-09-12T20:34:58.629235\",\"2021-09-12T20:34:58.629235\",\"2021-09-12T20:34:58.629235\",\"2021-09-12T20:34:58.629235\",\"2021-09-12T20:34:58.629235\",\"2021-09-12T20:34:58.629235\",\"2021-09-12T20:36:58.629235\",\"2021-09-12T20:36:58.629235\",\"2021-09-12T20:36:58.629235\",\"2021-09-12T20:36:58.629235\",\"2021-09-12T20:36:58.629235\",\"2021-09-12T20:36:58.629235\",\"2021-09-12T20:36:58.629235\",\"2021-09-12T20:36:58.629235\",\"2021-09-12T20:36:58.629235\",\"2021-09-12T20:36:58.629235\",\"2021-09-12T20:37:58.629235\",\"2021-09-12T20:38:58.629235\",\"2021-09-12T20:38:58.629235\",\"2021-09-12T20:38:58.629235\",\"2021-09-12T20:38:58.629235\",\"2021-09-12T20:38:58.629235\",\"2021-09-12T20:38:58.629235\",\"2021-09-12T20:38:58.629235\",\"2021-09-12T20:38:58.629235\",\"2021-09-12T20:38:58.629235\",\"2021-09-12T20:38:58.629235\",\"2021-09-12T20:39:58.629235\",\"2021-09-12T20:39:58.629235\",\"2021-09-12T20:39:58.629235\",\"2021-09-12T20:39:58.629235\",\"2021-09-12T20:39:58.629235\",\"2021-09-12T20:39:58.629235\",\"2021-09-12T20:40:58.629235\",\"2021-09-12T20:40:58.629235\",\"2021-09-12T20:40:58.629235\",\"2021-09-12T20:40:58.629235\",\"2021-09-12T20:40:58.629235\",\"2021-09-12T20:40:58.629235\",\"2021-09-12T20:40:58.629235\",\"2021-09-12T20:40:58.629235\",\"2021-09-12T20:40:58.629235\",\"2021-09-12T20:40:58.629235\",\"2021-09-12T20:41:58.629235\",\"2021-09-12T20:41:58.629235\",\"2021-09-12T20:41:58.629235\",\"2021-09-12T20:41:58.629235\",\"2021-09-12T20:41:58.629235\",\"2021-09-12T20:41:58.629235\",\"2021-09-12T20:42:58.629235\",\"2021-09-12T20:42:58.629235\",\"2021-09-12T20:42:58.629235\",\"2021-09-12T20:42:58.629235\",\"2021-09-12T20:42:58.629235\",\"2021-09-12T20:42:58.629235\",\"2021-09-12T20:42:58.629235\",\"2021-09-12T20:43:58.629235\",\"2021-09-12T20:43:58.629235\",\"2021-09-12T20:43:58.629235\",\"2021-09-12T20:43:58.629235\",\"2021-09-12T20:43:58.629235\",\"2021-09-12T20:43:58.629235\",\"2021-09-12T20:43:58.629235\",\"2021-09-12T20:43:58.629235\",\"2021-09-12T20:43:58.629235\",\"2021-09-12T20:43:58.629235\",\"2021-09-12T20:44:58.629235\",\"2021-09-12T20:45:58.629235\",\"2021-09-12T20:45:58.629235\",\"2021-09-12T20:45:58.629235\",\"2021-09-12T20:45:58.629235\",\"2021-09-12T20:45:58.629235\",\"2021-09-12T20:45:58.629235\",\"2021-09-12T20:45:58.629235\",\"2021-09-12T20:45:58.629235\",\"2021-09-12T20:45:58.629235\",\"2021-09-12T20:45:58.629235\",\"2021-09-12T20:46:58.629235\",\"2021-09-12T20:46:58.629235\",\"2021-09-12T20:46:58.629235\",\"2021-09-12T20:46:58.629235\",\"2021-09-12T20:46:58.629235\",\"2021-09-12T20:46:58.629235\",\"2021-09-12T20:47:58.629235\",\"2021-09-12T20:47:58.629235\",\"2021-09-12T20:47:58.629235\",\"2021-09-12T20:47:58.629235\",\"2021-09-12T20:47:58.629235\",\"2021-09-12T20:47:58.629235\",\"2021-09-12T20:47:58.629235\",\"2021-09-12T20:47:58.629235\",\"2021-09-12T20:48:58.629235\",\"2021-09-12T20:48:58.629235\",\"2021-09-12T20:48:58.629235\",\"2021-09-12T20:48:58.629235\",\"2021-09-12T20:49:58.629235\",\"2021-09-12T20:49:58.629235\",\"2021-09-12T20:49:58.629235\",\"2021-09-12T20:49:58.629235\",\"2021-09-12T20:49:58.629235\",\"2021-09-12T20:50:58.629235\",\"2021-09-12T20:51:58.629235\",\"2021-09-12T20:51:58.629235\",\"2021-09-12T20:51:58.629235\",\"2021-09-12T20:51:58.629235\",\"2021-09-12T20:51:58.629235\",\"2021-09-12T20:52:58.629235\",\"2021-09-12T20:52:58.629235\",\"2021-09-12T20:52:58.629235\",\"2021-09-12T20:53:58.629235\",\"2021-09-12T20:53:58.629235\",\"2021-09-12T20:53:58.629235\",\"2021-09-12T20:54:58.629235\",\"2021-09-12T20:54:58.629235\",\"2021-09-12T20:54:58.629235\",\"2021-09-12T20:54:58.629235\",\"2021-09-12T20:54:58.629235\",\"2021-09-12T20:55:58.629235\",\"2021-09-12T20:55:58.629235\",\"2021-09-12T20:55:58.629235\",\"2021-09-12T20:55:58.629235\",\"2021-09-12T20:55:58.629235\",\"2021-09-12T20:57:58.629235\",\"2021-09-12T20:57:58.629235\",\"2021-09-12T20:57:58.629235\",\"2021-09-12T20:57:58.629235\",\"2021-09-12T20:58:58.629235\",\"2021-09-12T20:58:58.629235\",\"2021-09-12T20:59:58.629235\",\"2021-09-12T20:59:58.629235\",\"2021-09-12T21:04:58.629235\",\"2021-09-12T21:10:58.629235\",\"2021-09-12T21:15:58.629235\",\"2021-09-12T21:16:58.629235\",\"2021-09-12T21:17:58.629235\",\"2021-09-12T21:18:58.629235\",\"2021-09-12T21:18:58.629235\",\"2021-09-12T21:21:58.629235\",\"2021-09-12T21:21:58.629235\",\"2021-09-12T21:21:58.629235\",\"2021-09-12T21:22:58.629235\",\"2021-09-12T21:23:58.629235\",\"2021-09-12T21:23:58.629235\",\"2021-09-12T21:24:58.629235\",\"2021-09-12T21:24:58.629235\",\"2021-09-12T21:24:58.629235\",\"2021-09-12T21:25:58.629235\",\"2021-09-12T21:25:58.629235\",\"2021-09-12T21:25:58.629235\",\"2021-09-12T21:26:58.629235\",\"2021-09-12T21:27:58.629235\",\"2021-09-12T21:28:58.629235\",\"2021-09-12T21:28:58.629235\",\"2021-09-12T21:28:58.629235\",\"2021-09-12T21:28:58.629235\",\"2021-09-12T21:29:58.629235\",\"2021-09-12T21:29:58.629235\",\"2021-09-12T21:29:58.629235\",\"2021-09-12T21:29:58.629235\",\"2021-09-12T21:30:58.629235\",\"2021-09-12T21:30:58.629235\",\"2021-09-12T21:30:58.629235\",\"2021-09-12T21:31:58.629235\",\"2021-09-12T21:31:58.629235\",\"2021-09-12T21:31:58.629235\",\"2021-09-12T21:31:58.629235\",\"2021-09-12T21:32:58.629235\",\"2021-09-12T21:32:58.629235\",\"2021-09-12T21:32:58.629235\",\"2021-09-12T21:33:58.629235\",\"2021-09-12T21:33:58.629235\",\"2021-09-12T21:33:58.629235\",\"2021-09-12T21:34:58.629235\",\"2021-09-12T21:34:58.629235\",\"2021-09-12T21:34:58.629235\",\"2021-09-12T21:34:58.629235\",\"2021-09-12T21:34:58.629235\",\"2021-09-12T21:35:58.629235\",\"2021-09-12T21:35:58.629235\",\"2021-09-12T21:35:58.629235\",\"2021-09-12T21:35:58.629235\",\"2021-09-12T21:35:58.629235\",\"2021-09-12T21:36:58.629235\",\"2021-09-12T21:36:58.629235\",\"2021-09-12T21:36:58.629235\",\"2021-09-12T21:36:58.629235\",\"2021-09-12T21:36:58.629235\",\"2021-09-12T21:37:58.629235\",\"2021-09-12T21:37:58.629235\",\"2021-09-12T21:37:58.629235\",\"2021-09-12T21:38:58.629235\",\"2021-09-12T21:38:58.629235\",\"2021-09-12T21:38:58.629235\",\"2021-09-12T21:38:58.629235\",\"2021-09-12T21:38:58.629235\",\"2021-09-12T21:39:58.629235\",\"2021-09-12T21:39:58.629235\",\"2021-09-12T21:39:58.629235\",\"2021-09-12T21:39:58.629235\",\"2021-09-12T21:39:58.629235\",\"2021-09-12T21:39:58.629235\",\"2021-09-12T21:39:58.629235\",\"2021-09-12T21:40:58.629235\",\"2021-09-12T21:40:58.629235\",\"2021-09-12T21:40:58.629235\",\"2021-09-12T21:40:58.629235\",\"2021-09-12T21:40:58.629235\",\"2021-09-12T21:41:58.629235\",\"2021-09-12T21:41:58.629235\",\"2021-09-12T21:41:58.629235\",\"2021-09-12T21:41:58.629235\",\"2021-09-12T21:41:58.629235\",\"2021-09-12T21:41:58.629235\",\"2021-09-12T21:42:58.629235\",\"2021-09-12T21:42:58.629235\",\"2021-09-12T21:42:58.629235\",\"2021-09-12T21:42:58.629235\",\"2021-09-12T21:42:58.629235\",\"2021-09-12T21:43:58.629235\",\"2021-09-12T21:43:58.629235\",\"2021-09-12T21:43:58.629235\",\"2021-09-12T21:43:58.629235\",\"2021-09-12T21:43:58.629235\",\"2021-09-12T21:44:58.629235\",\"2021-09-12T21:44:58.629235\",\"2021-09-12T21:44:58.629235\",\"2021-09-12T21:44:58.629235\",\"2021-09-12T21:44:58.629235\",\"2021-09-12T21:44:58.629235\",\"2021-09-12T21:45:58.629235\",\"2021-09-12T21:45:58.629235\",\"2021-09-12T21:45:58.629235\",\"2021-09-12T21:45:58.629235\",\"2021-09-12T21:45:58.629235\",\"2021-09-12T21:45:58.629235\",\"2021-09-12T21:46:58.629235\",\"2021-09-12T21:46:58.629235\",\"2021-09-12T21:46:58.629235\",\"2021-09-12T21:47:58.629235\",\"2021-09-12T21:47:58.629235\",\"2021-09-12T21:47:58.629235\",\"2021-09-12T21:47:58.629235\",\"2021-09-12T21:48:58.629235\",\"2021-09-12T21:48:58.629235\",\"2021-09-12T21:48:58.629235\",\"2021-09-12T21:48:58.629235\",\"2021-09-12T21:48:58.629235\",\"2021-09-12T21:49:58.629235\",\"2021-09-12T21:49:58.629235\",\"2021-09-12T21:49:58.629235\",\"2021-09-12T21:49:58.629235\",\"2021-09-12T21:49:58.629235\",\"2021-09-12T21:49:58.629235\",\"2021-09-12T21:49:58.629235\",\"2021-09-12T21:49:58.629235\",\"2021-09-12T21:49:58.629235\",\"2021-09-12T21:50:58.629235\",\"2021-09-12T21:50:58.629235\",\"2021-09-12T21:50:58.629235\",\"2021-09-12T21:50:58.629235\",\"2021-09-12T21:51:58.629235\",\"2021-09-12T21:51:58.629235\",\"2021-09-12T21:51:58.629235\",\"2021-09-12T21:51:58.629235\",\"2021-09-12T21:51:58.629235\",\"2021-09-12T21:51:58.629235\",\"2021-09-12T21:51:58.629235\",\"2021-09-12T21:52:58.629235\",\"2021-09-12T21:52:58.629235\",\"2021-09-12T21:52:58.629235\",\"2021-09-12T21:53:58.629235\",\"2021-09-12T21:53:58.629235\",\"2021-09-12T21:53:58.629235\",\"2021-09-12T21:54:58.629235\",\"2021-09-12T21:54:58.629235\",\"2021-09-12T21:55:58.629235\",\"2021-09-12T21:55:58.629235\",\"2021-09-12T21:55:58.629235\",\"2021-09-12T21:55:58.629235\",\"2021-09-12T21:56:58.629235\",\"2021-09-12T21:56:58.629235\",\"2021-09-12T21:56:58.629235\",\"2021-09-12T21:56:58.629235\",\"2021-09-12T21:56:58.629235\",\"2021-09-12T21:57:58.629235\",\"2021-09-12T21:57:58.629235\",\"2021-09-12T21:57:58.629235\",\"2021-09-12T21:57:58.629235\",\"2021-09-12T21:58:58.629235\",\"2021-09-12T21:58:58.629235\",\"2021-09-12T21:58:58.629235\",\"2021-09-12T21:58:58.629235\",\"2021-09-12T21:58:58.629235\",\"2021-09-12T21:58:58.629235\",\"2021-09-12T22:00:58.629235\",\"2021-09-12T22:00:58.629235\",\"2021-09-12T22:00:58.629235\",\"2021-09-12T22:00:58.629235\",\"2021-09-12T22:02:58.629235\",\"2021-09-12T22:02:58.629235\",\"2021-09-12T22:03:58.629235\",\"2021-09-12T22:03:58.629235\",\"2021-09-12T22:04:58.629235\",\"2021-09-12T22:04:58.629235\",\"2021-09-12T22:04:58.629235\",\"2021-09-12T22:04:58.629235\",\"2021-09-12T22:05:58.629235\",\"2021-09-12T22:05:58.629235\",\"2021-09-12T22:05:58.629235\",\"2021-09-12T22:05:58.629235\",\"2021-09-12T22:05:58.629235\",\"2021-09-12T22:06:58.629235\",\"2021-09-12T22:06:58.629235\",\"2021-09-12T22:07:58.629235\",\"2021-09-12T22:07:58.629235\",\"2021-09-12T22:08:58.629235\",\"2021-09-12T22:08:58.629235\",\"2021-09-12T22:10:58.629235\",\"2021-09-12T22:10:58.629235\",\"2021-09-12T22:11:58.629235\",\"2021-09-12T22:11:58.629235\",\"2021-09-12T22:11:58.629235\",\"2021-09-12T22:12:58.629235\",\"2021-09-12T22:12:58.629235\",\"2021-09-12T22:12:58.629235\",\"2021-09-12T22:12:58.629235\",\"2021-09-12T22:12:58.629235\",\"2021-09-12T22:12:58.629235\",\"2021-09-12T22:13:58.629235\",\"2021-09-12T22:14:58.629235\",\"2021-09-12T22:14:58.629235\",\"2021-09-12T22:15:58.629235\",\"2021-09-12T22:16:58.629235\",\"2021-09-12T22:16:58.629235\",\"2021-09-12T22:17:58.629235\",\"2021-09-12T22:18:58.629235\",\"2021-09-12T22:18:58.629235\",\"2021-09-12T22:18:58.629235\",\"2021-09-12T22:18:58.629235\",\"2021-09-12T22:19:58.629235\",\"2021-09-12T22:19:58.629235\",\"2021-09-12T22:20:58.629235\",\"2021-09-12T22:20:58.629235\",\"2021-09-12T22:20:58.629235\",\"2021-09-12T22:20:58.629235\",\"2021-09-12T22:20:58.629235\",\"2021-09-12T22:21:58.629235\",\"2021-09-12T22:21:58.629235\",\"2021-09-12T22:23:58.629235\",\"2021-09-12T22:23:58.629235\",\"2021-09-12T22:23:58.629235\",\"2021-09-12T22:24:58.629235\",\"2021-09-12T22:24:58.629235\",\"2021-09-12T22:24:58.629235\",\"2021-09-12T22:24:58.629235\",\"2021-09-12T22:26:58.629235\",\"2021-09-12T22:26:58.629235\",\"2021-09-12T22:26:58.629235\",\"2021-09-12T22:26:58.629235\",\"2021-09-12T22:26:58.629235\",\"2021-09-12T22:26:58.629235\",\"2021-09-12T22:27:58.629235\",\"2021-09-12T22:27:58.629235\",\"2021-09-12T22:27:58.629235\",\"2021-09-12T22:27:58.629235\",\"2021-09-12T22:28:58.629235\",\"2021-09-12T22:28:58.629235\",\"2021-09-12T22:28:58.629235\",\"2021-09-12T22:28:58.629235\",\"2021-09-12T22:28:58.629235\",\"2021-09-12T22:29:58.629235\",\"2021-09-12T22:29:58.629235\",\"2021-09-12T22:29:58.629235\",\"2021-09-12T22:29:58.629235\",\"2021-09-12T22:29:58.629235\",\"2021-09-12T22:29:58.629235\",\"2021-09-12T22:30:58.629235\",\"2021-09-12T22:30:58.629235\",\"2021-09-12T22:31:58.629235\",\"2021-09-12T22:31:58.629235\",\"2021-09-12T22:31:58.629235\",\"2021-09-12T22:32:58.629235\",\"2021-09-12T22:32:58.629235\",\"2021-09-12T22:32:58.629235\",\"2021-09-12T22:32:58.629235\",\"2021-09-12T22:32:58.629235\",\"2021-09-12T22:32:58.629235\",\"2021-09-12T22:33:58.629235\",\"2021-09-12T22:33:58.629235\",\"2021-09-12T22:34:58.629235\",\"2021-09-12T22:34:58.629235\",\"2021-09-12T22:34:58.629235\",\"2021-09-12T22:35:58.629235\",\"2021-09-12T22:35:58.629235\",\"2021-09-12T22:35:58.629235\",\"2021-09-12T22:35:58.629235\",\"2021-09-12T22:35:58.629235\",\"2021-09-12T22:35:58.629235\",\"2021-09-12T22:35:58.629235\",\"2021-09-12T22:36:58.629235\",\"2021-09-12T22:36:58.629235\",\"2021-09-12T22:37:58.629235\",\"2021-09-12T22:37:58.629235\",\"2021-09-12T22:37:58.629235\",\"2021-09-12T22:37:58.629235\",\"2021-09-12T22:38:58.629235\",\"2021-09-12T22:38:58.629235\",\"2021-09-12T22:38:58.629235\",\"2021-09-12T22:38:58.629235\",\"2021-09-12T22:39:58.629235\",\"2021-09-12T22:39:58.629235\",\"2021-09-12T22:39:58.629235\",\"2021-09-12T22:39:58.629235\",\"2021-09-12T22:40:58.629235\",\"2021-09-12T22:40:58.629235\",\"2021-09-12T22:40:58.629235\",\"2021-09-12T22:41:58.629235\",\"2021-09-12T22:41:58.629235\",\"2021-09-12T22:41:58.629235\",\"2021-09-12T22:41:58.629235\",\"2021-09-12T22:41:58.629235\",\"2021-09-12T22:42:58.629235\",\"2021-09-12T22:42:58.629235\",\"2021-09-12T22:42:58.629235\",\"2021-09-12T22:42:58.629235\",\"2021-09-12T22:42:58.629235\",\"2021-09-12T22:42:58.629235\",\"2021-09-12T22:42:58.629235\",\"2021-09-12T22:43:58.629235\",\"2021-09-12T22:43:58.629235\",\"2021-09-12T22:43:58.629235\",\"2021-09-12T22:44:58.629235\",\"2021-09-12T22:44:58.629235\",\"2021-09-12T22:44:58.629235\",\"2021-09-12T22:44:58.629235\",\"2021-09-12T22:45:58.629235\",\"2021-09-12T22:45:58.629235\",\"2021-09-12T22:46:58.629235\",\"2021-09-12T22:46:58.629235\",\"2021-09-12T22:46:58.629235\",\"2021-09-12T22:46:58.629235\",\"2021-09-12T22:47:58.629235\",\"2021-09-12T22:47:58.629235\",\"2021-09-12T22:47:58.629235\",\"2021-09-12T22:47:58.629235\",\"2021-09-12T22:47:58.629235\",\"2021-09-12T22:47:58.629235\",\"2021-09-12T22:47:58.629235\",\"2021-09-12T22:48:58.629235\",\"2021-09-12T22:48:58.629235\",\"2021-09-12T22:48:58.629235\",\"2021-09-12T22:48:58.629235\",\"2021-09-12T22:48:58.629235\",\"2021-09-12T22:49:58.629235\",\"2021-09-12T22:49:58.629235\",\"2021-09-12T22:49:58.629235\",\"2021-09-12T22:50:58.629235\",\"2021-09-12T22:50:58.629235\",\"2021-09-12T22:50:58.629235\",\"2021-09-12T22:50:58.629235\",\"2021-09-12T22:51:58.629235\",\"2021-09-12T22:51:58.629235\",\"2021-09-12T22:52:58.629235\",\"2021-09-12T22:52:58.629235\",\"2021-09-12T22:52:58.629235\",\"2021-09-12T22:53:58.629235\",\"2021-09-12T22:53:58.629235\",\"2021-09-12T22:53:58.629235\",\"2021-09-12T22:53:58.629235\",\"2021-09-12T22:53:58.629235\",\"2021-09-12T22:53:58.629235\",\"2021-09-12T22:53:58.629235\",\"2021-09-12T22:54:58.629235\",\"2021-09-12T22:54:58.629235\",\"2021-09-12T22:54:58.629235\",\"2021-09-12T22:55:58.629235\",\"2021-09-12T22:55:58.629235\",\"2021-09-12T22:55:58.629235\",\"2021-09-12T22:55:58.629235\",\"2021-09-12T22:55:58.629235\",\"2021-09-12T22:55:58.629235\",\"2021-09-12T22:56:58.629235\",\"2021-09-12T22:56:58.629235\",\"2021-09-12T22:56:58.629235\",\"2021-09-12T22:56:58.629235\",\"2021-09-12T22:56:58.629235\",\"2021-09-12T22:58:58.629235\",\"2021-09-12T22:58:58.629235\",\"2021-09-12T22:58:58.629235\",\"2021-09-12T22:59:58.629235\",\"2021-09-12T22:59:58.629235\",\"2021-09-12T23:00:58.629235\",\"2021-09-12T23:00:58.629235\",\"2021-09-12T23:00:58.629235\",\"2021-09-12T23:01:58.629235\",\"2021-09-12T23:01:58.629235\",\"2021-09-12T23:01:58.629235\",\"2021-09-12T23:02:58.629235\",\"2021-09-12T23:02:58.629235\",\"2021-09-12T23:02:58.629235\",\"2021-09-12T23:02:58.629235\",\"2021-09-12T23:02:58.629235\",\"2021-09-12T23:03:58.629235\",\"2021-09-12T23:03:58.629235\",\"2021-09-12T23:03:58.629235\",\"2021-09-12T23:04:58.629235\",\"2021-09-12T23:04:58.629235\",\"2021-09-12T23:04:58.629235\",\"2021-09-12T23:05:58.629235\",\"2021-09-12T23:05:58.629235\",\"2021-09-12T23:05:58.629235\",\"2021-09-12T23:06:58.629235\",\"2021-09-12T23:07:58.629235\",\"2021-09-12T23:07:58.629235\",\"2021-09-12T23:07:58.629235\",\"2021-09-12T23:08:58.629235\",\"2021-09-12T23:08:58.629235\",\"2021-09-12T23:08:58.629235\",\"2021-09-12T23:08:58.629235\",\"2021-09-12T23:09:58.629235\",\"2021-09-12T23:10:58.629235\",\"2021-09-12T23:10:58.629235\",\"2021-09-12T23:10:58.629235\",\"2021-09-12T23:11:58.629235\",\"2021-09-12T23:11:58.629235\",\"2021-09-12T23:11:58.629235\",\"2021-09-12T23:12:58.629235\",\"2021-09-12T23:13:58.629235\",\"2021-09-12T23:13:58.629235\",\"2021-09-12T23:14:58.629235\",\"2021-09-12T23:14:58.629235\",\"2021-09-12T23:14:58.629235\",\"2021-09-12T23:16:58.629235\"],\"hovertemplate\":\"Scenario=Sc2<br>Start=%{base}<br>Finish=%{x}<br>Username=%{y}<extra></extra>\",\"legendgroup\":\"Sc2\",\"marker\":{\"color\":\"#636efa\"},\"name\":\"Sc2\",\"offsetgroup\":\"Sc2\",\"orientation\":\"h\",\"showlegend\":true,\"textposition\":\"auto\",\"type\":\"bar\",\"x\":[300000.0,300000.0,480000.0,480000.0,660000.0,660000.0,840000.0,1260000.0,1500000.0,1740000.0,1680000.0,1920000.0,1860000.0,2100000.0,1920000.0,2040000.0,1860000.0,2280000.0,2460000.0,2520000.0,2760000.0,2880000.0,3120000.0,3120000.0,3300000.0,3300000.0,3120000.0,3480000.0,3300000.0,3480000.0,3660000.0,3660000.0,3840000.0,3960000.0,4260000.0,4500000.0,4740000.0,4680000.0,4920000.0,4860000.0,5100000.0,5040000.0,4860000.0,5280000.0,5460000.0,5640000.0,5760000.0,6000000.0,6120000.0,6180000.0,6300000.0,6360000.0,6180000.0,6180000.0,6480000.0,6240000.0,6240000.0,6540000.0,6660000.0,6840000.0,6960000.0,6960000.0,7140000.0,7380000.0,7620000.0,7380000.0,7380000.0,7080000.0,6960000.0,6780000.0,6540000.0,6360000.0,6060000.0,5940000.0,5880000.0,5940000.0,5760000.0,5700000.0,5460000.0,5400000.0,5160000.0,5100000.0,4980000.0,4800000.0,4260000.0,4080000.0,3780000.0,3780000.0,3660000.0,3480000.0,3480000.0,3180000.0,3180000.0,2880000.0,2580000.0,2520000.0,2340000.0,1920000.0,1800000.0,1800000.0,1740000.0,1680000.0,1680000.0,1680000.0,1500000.0,1380000.0,1200000.0,1080000.0,900000.0,780000.0,780000.0,660000.0,240000.0,120000.0,120000.0,120000.0,120000.0,180000.0,180000.0,180000.0,180000.0,180000.0,180000.0,120000.0,120000.0,120000.0,120000.0,120000.0,120000.0,120000.0,120000.0,120000.0,120000.0,120000.0,120000.0,120000.0,120000.0,120000.0,120000.0,120000.0,120000.0,120000.0,120000.0,120000.0,120000.0,120000.0,120000.0,120000.0,120000.0,120000.0,120000.0,120000.0,120000.0,120000.0,120000.0,120000.0,120000.0,120000.0,300000.0,360000.0,120000.0,120000.0,120000.0,120000.0,180000.0,360000.0,120000.0,120000.0,120000.0,120000.0,360000.0,360000.0,180000.0,180000.0,180000.0,180000.0,180000.0,180000.0,240000.0,240000.0,240000.0,480000.0,480000.0,240000.0,180000.0,180000.0,240000.0,240000.0,240000.0,240000.0,240000.0,300000.0,300000.0,480000.0,240000.0,240000.0,240000.0,480000.0,480000.0,540000.0,300000.0,300000.0,300000.0,300000.0,360000.0,360000.0,540000.0,600000.0,360000.0,360000.0,600000.0,600000.0,600000.0,600000.0,600000.0,660000.0,720000.0,540000.0,720000.0,720000.0,780000.0,780000.0,780000.0,720000.0,780000.0,840000.0,720000.0,900000.0,960000.0,900000.0,900000.0,900000.0,960000.0,960000.0,960000.0,1080000.0,1140000.0,1140000.0,1140000.0,1020000.0,1080000.0,1080000.0,1140000.0,1200000.0,1260000.0,1200000.0,1200000.0,720000.0,600000.0,120000.0,120000.0,120000.0,120000.0,120000.0,300000.0,120000.0,120000.0,120000.0,120000.0,120000.0,120000.0,120000.0,120000.0,120000.0,120000.0,120000.0,120000.0,120000.0,120000.0,120000.0,120000.0,120000.0,120000.0,120000.0,120000.0,120000.0,120000.0,120000.0,120000.0,120000.0,120000.0,120000.0,120000.0,120000.0,120000.0,120000.0,120000.0,120000.0,120000.0,120000.0,120000.0,120000.0,120000.0,120000.0,120000.0,120000.0,120000.0,120000.0,120000.0,120000.0,120000.0,120000.0,300000.0,120000.0,120000.0,120000.0,300000.0,120000.0,120000.0,120000.0,300000.0,120000.0,120000.0,300000.0,300000.0,120000.0,180000.0,180000.0,180000.0,120000.0,180000.0,180000.0,180000.0,180000.0,180000.0,180000.0,180000.0,180000.0,180000.0,180000.0,180000.0,180000.0,180000.0,360000.0,420000.0,180000.0,180000.0,180000.0,180000.0,180000.0,120000.0,300000.0,120000.0,180000.0,180000.0,180000.0,180000.0,180000.0,360000.0,360000.0,180000.0,240000.0,180000.0,420000.0,240000.0,180000.0,180000.0,180000.0,420000.0,180000.0,180000.0,180000.0,180000.0,240000.0,180000.0,180000.0,180000.0,240000.0,240000.0,420000.0,240000.0,240000.0,240000.0,180000.0,420000.0,420000.0,300000.0,240000.0,240000.0,240000.0,420000.0,420000.0,480000.0,540000.0,300000.0,300000.0,360000.0,300000.0,360000.0,540000.0,300000.0,300000.0,240000.0,300000.0,300000.0,300000.0,240000.0,240000.0,480000.0,480000.0,300000.0,240000.0,480000.0,480000.0,480000.0,240000.0,240000.0,300000.0,300000.0,540000.0,540000.0,300000.0,300000.0,360000.0,540000.0,240000.0,300000.0,240000.0,420000.0,180000.0,180000.0,180000.0,420000.0,420000.0,420000.0,420000.0,420000.0,420000.0,300000.0,300000.0,300000.0,540000.0,300000.0,300000.0,180000.0,420000.0,360000.0,360000.0,240000.0,300000.0,360000.0,360000.0,480000.0,540000.0,480000.0,420000.0,360000.0,360000.0,300000.0,180000.0,420000.0,360000.0,420000.0,420000.0,420000.0,300000.0,240000.0,300000.0,240000.0,360000.0,360000.0,360000.0,360000.0,300000.0,360000.0,240000.0,300000.0,300000.0,360000.0,240000.0,300000.0,300000.0,180000.0,180000.0,180000.0,240000.0,240000.0,300000.0,240000.0,240000.0,300000.0,300000.0,240000.0,240000.0,240000.0,300000.0,300000.0,240000.0,300000.0,300000.0,300000.0,360000.0,360000.0,300000.0,300000.0,240000.0,300000.0,300000.0,240000.0,300000.0,300000.0,300000.0,360000.0,360000.0,300000.0,300000.0,240000.0,300000.0,300000.0,240000.0,300000.0,300000.0,300000.0,360000.0,360000.0,360000.0,300000.0,300000.0,300000.0,300000.0,300000.0,360000.0,300000.0,300000.0,360000.0,360000.0,300000.0,300000.0,300000.0,360000.0,300000.0,300000.0,360000.0,300000.0,300000.0,360000.0,360000.0,360000.0,300000.0,300000.0,360000.0,360000.0,360000.0,420000.0,420000.0,360000.0,420000.0,420000.0,360000.0,360000.0,360000.0,420000.0,360000.0,360000.0,360000.0,360000.0,360000.0,420000.0,360000.0,360000.0,360000.0,360000.0,420000.0,420000.0,420000.0,420000.0,420000.0,420000.0,480000.0,480000.0,420000.0,420000.0,420000.0,420000.0,420000.0,420000.0,480000.0,420000.0,420000.0,420000.0,420000.0,420000.0,360000.0,360000.0,420000.0,420000.0,420000.0,480000.0,480000.0,420000.0,480000.0,480000.0,420000.0,420000.0,420000.0,480000.0,480000.0,480000.0,480000.0,480000.0,480000.0,540000.0,540000.0,420000.0,420000.0,420000.0,420000.0,420000.0,360000.0,420000.0,420000.0,360000.0,420000.0,420000.0,360000.0,360000.0,360000.0,420000.0,420000.0,360000.0,420000.0,420000.0,360000.0,420000.0,420000.0,360000.0,360000.0,360000.0,360000.0,300000.0,300000.0,360000.0,300000.0,300000.0,360000.0,360000.0,300000.0,240000.0,240000.0,300000.0,240000.0,240000.0,300000.0,240000.0,180000.0,240000.0,180000.0,180000.0,180000.0,180000.0],\"xaxis\":\"x\",\"y\":[\"User-001\",\"User-002\",\"User-003\",\"User-004\",\"User-005\",\"User-006\",\"User-008\",\"User-010\",\"User-011\",\"User-012\",\"User-013\",\"User-014\",\"User-015\",\"User-016\",\"User-001\",\"User-017\",\"User-002\",\"User-018\",\"User-020\",\"User-003\",\"User-022\",\"User-004\",\"User-023\",\"User-024\",\"User-025\",\"User-026\",\"User-005\",\"User-027\",\"User-006\",\"User-028\",\"User-029\",\"User-030\",\"User-032\",\"User-008\",\"User-034\",\"User-035\",\"User-036\",\"User-037\",\"User-038\",\"User-039\",\"User-040\",\"User-041\",\"User-010\",\"User-042\",\"User-044\",\"User-046\",\"User-011\",\"User-047\",\"User-048\",\"User-049\",\"User-050\",\"User-051\",\"User-012\",\"User-013\",\"User-052\",\"User-001\",\"User-002\",\"User-053\",\"User-054\",\"User-056\",\"User-014\",\"User-015\",\"User-058\",\"User-059\",\"User-060\",\"User-016\",\"User-017\",\"User-018\",\"User-003\",\"User-020\",\"User-004\",\"User-022\",\"User-005\",\"User-023\",\"User-024\",\"User-006\",\"User-025\",\"User-026\",\"User-027\",\"User-028\",\"User-029\",\"User-030\",\"User-008\",\"User-032\",\"User-034\",\"User-035\",\"User-036\",\"User-037\",\"User-010\",\"User-038\",\"User-039\",\"User-040\",\"User-041\",\"User-042\",\"User-044\",\"User-011\",\"User-046\",\"User-047\",\"User-012\",\"User-013\",\"User-048\",\"User-001\",\"User-002\",\"User-049\",\"User-050\",\"User-051\",\"User-052\",\"User-053\",\"User-054\",\"User-014\",\"User-015\",\"User-056\",\"User-058\",\"User-016\",\"User-017\",\"User-018\",\"User-003\",\"User-020\",\"User-004\",\"User-022\",\"User-005\",\"User-023\",\"User-024\",\"User-006\",\"User-025\",\"User-026\",\"User-027\",\"User-028\",\"User-029\",\"User-030\",\"User-008\",\"User-032\",\"User-034\",\"User-059\",\"User-035\",\"User-036\",\"User-037\",\"User-010\",\"User-038\",\"User-039\",\"User-040\",\"User-041\",\"User-042\",\"User-044\",\"User-011\",\"User-046\",\"User-047\",\"User-012\",\"User-013\",\"User-048\",\"User-049\",\"User-050\",\"User-051\",\"User-052\",\"User-053\",\"User-054\",\"User-014\",\"User-015\",\"User-001\",\"User-002\",\"User-056\",\"User-058\",\"User-016\",\"User-017\",\"User-018\",\"User-003\",\"User-020\",\"User-022\",\"User-023\",\"User-024\",\"User-004\",\"User-005\",\"User-060\",\"User-025\",\"User-026\",\"User-027\",\"User-028\",\"User-029\",\"User-030\",\"User-032\",\"User-034\",\"User-006\",\"User-008\",\"User-059\",\"User-035\",\"User-036\",\"User-037\",\"User-038\",\"User-039\",\"User-040\",\"User-041\",\"User-042\",\"User-044\",\"User-010\",\"User-046\",\"User-047\",\"User-048\",\"User-011\",\"User-012\",\"User-013\",\"User-049\",\"User-050\",\"User-051\",\"User-052\",\"User-053\",\"User-054\",\"User-014\",\"User-015\",\"User-056\",\"User-058\",\"User-016\",\"User-017\",\"User-018\",\"User-020\",\"User-022\",\"User-023\",\"User-024\",\"User-060\",\"User-025\",\"User-026\",\"User-027\",\"User-028\",\"User-029\",\"User-030\",\"User-032\",\"User-034\",\"User-059\",\"User-035\",\"User-036\",\"User-037\",\"User-038\",\"User-039\",\"User-040\",\"User-041\",\"User-042\",\"User-044\",\"User-046\",\"User-047\",\"User-048\",\"User-049\",\"User-050\",\"User-051\",\"User-052\",\"User-053\",\"User-054\",\"User-056\",\"User-058\",\"User-060\",\"User-059\",\"User-001\",\"User-002\",\"User-003\",\"User-004\",\"User-005\",\"User-060\",\"User-006\",\"User-008\",\"User-001\",\"User-002\",\"User-010\",\"User-003\",\"User-011\",\"User-012\",\"User-004\",\"User-005\",\"User-013\",\"User-014\",\"User-015\",\"User-006\",\"User-008\",\"User-016\",\"User-017\",\"User-001\",\"User-018\",\"User-020\",\"User-022\",\"User-002\",\"User-010\",\"User-023\",\"User-003\",\"User-011\",\"User-012\",\"User-024\",\"User-004\",\"User-005\",\"User-013\",\"User-014\",\"User-025\",\"User-026\",\"User-015\",\"User-027\",\"User-028\",\"User-029\",\"User-030\",\"User-006\",\"User-008\",\"User-016\",\"User-017\",\"User-032\",\"User-018\",\"User-020\",\"User-022\",\"User-001\",\"User-034\",\"User-010\",\"User-023\",\"User-002\",\"User-011\",\"User-012\",\"User-024\",\"User-003\",\"User-035\",\"User-013\",\"User-004\",\"User-005\",\"User-036\",\"User-037\",\"User-038\",\"User-039\",\"User-014\",\"User-025\",\"User-026\",\"User-040\",\"User-041\",\"User-015\",\"User-027\",\"User-028\",\"User-029\",\"User-030\",\"User-042\",\"User-016\",\"User-017\",\"User-032\",\"User-006\",\"User-008\",\"User-018\",\"User-020\",\"User-022\",\"User-034\",\"User-044\",\"User-023\",\"User-010\",\"User-046\",\"User-047\",\"User-048\",\"User-049\",\"User-024\",\"User-035\",\"User-011\",\"User-012\",\"User-050\",\"User-051\",\"User-036\",\"User-013\",\"User-052\",\"User-037\",\"User-038\",\"User-039\",\"User-014\",\"User-025\",\"User-026\",\"User-040\",\"User-041\",\"User-053\",\"User-027\",\"User-028\",\"User-029\",\"User-030\",\"User-042\",\"User-015\",\"User-054\",\"User-056\",\"User-058\",\"User-032\",\"User-016\",\"User-017\",\"User-059\",\"User-034\",\"User-044\",\"User-046\",\"User-018\",\"User-020\",\"User-022\",\"User-023\",\"User-047\",\"User-048\",\"User-049\",\"User-035\",\"User-050\",\"User-024\",\"User-051\",\"User-036\",\"User-052\",\"User-037\",\"User-038\",\"User-039\",\"User-040\",\"User-041\",\"User-025\",\"User-026\",\"User-060\",\"User-053\",\"User-027\",\"User-028\",\"User-029\",\"User-042\",\"User-054\",\"User-056\",\"User-058\",\"User-030\",\"User-032\",\"User-059\",\"User-044\",\"User-046\",\"User-034\",\"User-047\",\"User-048\",\"User-049\",\"User-035\",\"User-050\",\"User-051\",\"User-052\",\"User-036\",\"User-037\",\"User-038\",\"User-039\",\"User-040\",\"User-041\",\"User-060\",\"User-053\",\"User-054\",\"User-042\",\"User-056\",\"User-058\",\"User-059\",\"User-044\",\"User-046\",\"User-047\",\"User-001\",\"User-048\",\"User-049\",\"User-050\",\"User-051\",\"User-052\",\"User-002\",\"User-003\",\"User-004\",\"User-005\",\"User-001\",\"User-060\",\"User-053\",\"User-054\",\"User-056\",\"User-058\",\"User-059\",\"User-006\",\"User-008\",\"User-010\",\"User-002\",\"User-003\",\"User-004\",\"User-005\",\"User-001\",\"User-011\",\"User-012\",\"User-006\",\"User-008\",\"User-013\",\"User-060\",\"User-010\",\"User-002\",\"User-014\",\"User-003\",\"User-004\",\"User-005\",\"User-001\",\"User-011\",\"User-015\",\"User-012\",\"User-006\",\"User-016\",\"User-017\",\"User-008\",\"User-013\",\"User-010\",\"User-018\",\"User-020\",\"User-002\",\"User-014\",\"User-003\",\"User-004\",\"User-005\",\"User-022\",\"User-011\",\"User-023\",\"User-015\",\"User-012\",\"User-006\",\"User-016\",\"User-017\",\"User-008\",\"User-013\",\"User-010\",\"User-024\",\"User-018\",\"User-020\",\"User-014\",\"User-025\",\"User-026\",\"User-022\",\"User-011\",\"User-023\",\"User-015\",\"User-027\",\"User-028\",\"User-029\",\"User-012\",\"User-016\",\"User-017\",\"User-013\",\"User-030\",\"User-032\",\"User-024\",\"User-018\",\"User-020\",\"User-014\",\"User-025\",\"User-026\",\"User-022\",\"User-034\",\"User-023\",\"User-015\",\"User-035\",\"User-027\",\"User-028\",\"User-029\",\"User-016\",\"User-036\",\"User-017\",\"User-030\",\"User-037\",\"User-038\",\"User-039\",\"User-040\",\"User-041\",\"User-032\",\"User-024\",\"User-018\",\"User-020\",\"User-025\",\"User-026\",\"User-022\",\"User-034\",\"User-023\",\"User-035\",\"User-027\",\"User-028\",\"User-042\",\"User-029\",\"User-036\",\"User-030\",\"User-044\",\"User-046\",\"User-047\",\"User-048\",\"User-037\",\"User-038\",\"User-039\",\"User-049\",\"User-050\",\"User-040\",\"User-041\",\"User-032\",\"User-024\",\"User-025\",\"User-026\",\"User-051\",\"User-034\",\"User-052\",\"User-035\",\"User-027\",\"User-028\",\"User-042\",\"User-029\",\"User-036\",\"User-030\",\"User-044\",\"User-053\",\"User-054\",\"User-046\",\"User-047\",\"User-048\",\"User-037\",\"User-038\",\"User-039\",\"User-056\",\"User-058\",\"User-059\",\"User-049\",\"User-050\",\"User-040\",\"User-041\",\"User-032\",\"User-051\",\"User-034\",\"User-052\",\"User-035\",\"User-042\",\"User-036\",\"User-044\",\"User-060\",\"User-053\",\"User-054\",\"User-046\",\"User-047\",\"User-048\",\"User-037\",\"User-038\",\"User-039\",\"User-056\",\"User-058\",\"User-059\",\"User-049\",\"User-050\",\"User-040\",\"User-041\",\"User-051\",\"User-052\",\"User-042\",\"User-044\",\"User-060\",\"User-053\",\"User-054\",\"User-046\",\"User-047\",\"User-048\",\"User-056\",\"User-058\",\"User-059\",\"User-049\",\"User-050\",\"User-051\",\"User-052\",\"User-060\",\"User-053\",\"User-054\",\"User-056\",\"User-058\",\"User-059\",\"User-060\"],\"yaxis\":\"y\"},{\"alignmentgroup\":\"True\",\"base\":[\"2021-09-12T17:32:58.629235\",\"2021-09-12T17:34:58.629235\",\"2021-09-12T17:44:58.629235\",\"2021-09-12T17:46:58.629235\",\"2021-09-12T17:56:58.629235\",\"2021-09-12T17:58:58.629235\",\"2021-09-12T18:08:58.629235\",\"2021-09-12T18:10:58.629235\",\"2021-09-12T18:20:58.629235\",\"2021-09-12T18:22:58.629235\"],\"hovertemplate\":\"Scenario=Sc1<br>Start=%{base}<br>Finish=%{x}<br>Username=%{y}<extra></extra>\",\"legendgroup\":\"Sc1\",\"marker\":{\"color\":\"#EF553B\"},\"name\":\"Sc1\",\"offsetgroup\":\"Sc1\",\"orientation\":\"h\",\"showlegend\":true,\"textposition\":\"auto\",\"type\":\"bar\",\"x\":[1140000.0,1620000.0,2520000.0,3000000.0,4140000.0,4620000.0,5520000.0,6000000.0,7020000.0,7500000.0],\"xaxis\":\"x\",\"y\":[\"User-007\",\"User-009\",\"User-019\",\"User-021\",\"User-031\",\"User-033\",\"User-043\",\"User-045\",\"User-055\",\"User-057\"],\"yaxis\":\"y\"}],                        {\"barmode\":\"overlay\",\"legend\":{\"title\":{\"text\":\"Scenario\"},\"tracegroupgap\":0},\"margin\":{\"t\":60},\"template\":{\"data\":{\"bar\":[{\"error_x\":{\"color\":\"#2a3f5f\"},\"error_y\":{\"color\":\"#2a3f5f\"},\"marker\":{\"line\":{\"color\":\"#E5ECF6\",\"width\":0.5},\"pattern\":{\"fillmode\":\"overlay\",\"size\":10,\"solidity\":0.2}},\"type\":\"bar\"}],\"barpolar\":[{\"marker\":{\"line\":{\"color\":\"#E5ECF6\",\"width\":0.5},\"pattern\":{\"fillmode\":\"overlay\",\"size\":10,\"solidity\":0.2}},\"type\":\"barpolar\"}],\"carpet\":[{\"aaxis\":{\"endlinecolor\":\"#2a3f5f\",\"gridcolor\":\"white\",\"linecolor\":\"white\",\"minorgridcolor\":\"white\",\"startlinecolor\":\"#2a3f5f\"},\"baxis\":{\"endlinecolor\":\"#2a3f5f\",\"gridcolor\":\"white\",\"linecolor\":\"white\",\"minorgridcolor\":\"white\",\"startlinecolor\":\"#2a3f5f\"},\"type\":\"carpet\"}],\"choropleth\":[{\"colorbar\":{\"outlinewidth\":0,\"ticks\":\"\"},\"type\":\"choropleth\"}],\"contour\":[{\"colorbar\":{\"outlinewidth\":0,\"ticks\":\"\"},\"colorscale\":[[0.0,\"#0d0887\"],[0.1111111111111111,\"#46039f\"],[0.2222222222222222,\"#7201a8\"],[0.3333333333333333,\"#9c179e\"],[0.4444444444444444,\"#bd3786\"],[0.5555555555555556,\"#d8576b\"],[0.6666666666666666,\"#ed7953\"],[0.7777777777777778,\"#fb9f3a\"],[0.8888888888888888,\"#fdca26\"],[1.0,\"#f0f921\"]],\"type\":\"contour\"}],\"contourcarpet\":[{\"colorbar\":{\"outlinewidth\":0,\"ticks\":\"\"},\"type\":\"contourcarpet\"}],\"heatmap\":[{\"colorbar\":{\"outlinewidth\":0,\"ticks\":\"\"},\"colorscale\":[[0.0,\"#0d0887\"],[0.1111111111111111,\"#46039f\"],[0.2222222222222222,\"#7201a8\"],[0.3333333333333333,\"#9c179e\"],[0.4444444444444444,\"#bd3786\"],[0.5555555555555556,\"#d8576b\"],[0.6666666666666666,\"#ed7953\"],[0.7777777777777778,\"#fb9f3a\"],[0.8888888888888888,\"#fdca26\"],[1.0,\"#f0f921\"]],\"type\":\"heatmap\"}],\"heatmapgl\":[{\"colorbar\":{\"outlinewidth\":0,\"ticks\":\"\"},\"colorscale\":[[0.0,\"#0d0887\"],[0.1111111111111111,\"#46039f\"],[0.2222222222222222,\"#7201a8\"],[0.3333333333333333,\"#9c179e\"],[0.4444444444444444,\"#bd3786\"],[0.5555555555555556,\"#d8576b\"],[0.6666666666666666,\"#ed7953\"],[0.7777777777777778,\"#fb9f3a\"],[0.8888888888888888,\"#fdca26\"],[1.0,\"#f0f921\"]],\"type\":\"heatmapgl\"}],\"histogram\":[{\"marker\":{\"pattern\":{\"fillmode\":\"overlay\",\"size\":10,\"solidity\":0.2}},\"type\":\"histogram\"}],\"histogram2d\":[{\"colorbar\":{\"outlinewidth\":0,\"ticks\":\"\"},\"colorscale\":[[0.0,\"#0d0887\"],[0.1111111111111111,\"#46039f\"],[0.2222222222222222,\"#7201a8\"],[0.3333333333333333,\"#9c179e\"],[0.4444444444444444,\"#bd3786\"],[0.5555555555555556,\"#d8576b\"],[0.6666666666666666,\"#ed7953\"],[0.7777777777777778,\"#fb9f3a\"],[0.8888888888888888,\"#fdca26\"],[1.0,\"#f0f921\"]],\"type\":\"histogram2d\"}],\"histogram2dcontour\":[{\"colorbar\":{\"outlinewidth\":0,\"ticks\":\"\"},\"colorscale\":[[0.0,\"#0d0887\"],[0.1111111111111111,\"#46039f\"],[0.2222222222222222,\"#7201a8\"],[0.3333333333333333,\"#9c179e\"],[0.4444444444444444,\"#bd3786\"],[0.5555555555555556,\"#d8576b\"],[0.6666666666666666,\"#ed7953\"],[0.7777777777777778,\"#fb9f3a\"],[0.8888888888888888,\"#fdca26\"],[1.0,\"#f0f921\"]],\"type\":\"histogram2dcontour\"}],\"mesh3d\":[{\"colorbar\":{\"outlinewidth\":0,\"ticks\":\"\"},\"type\":\"mesh3d\"}],\"parcoords\":[{\"line\":{\"colorbar\":{\"outlinewidth\":0,\"ticks\":\"\"}},\"type\":\"parcoords\"}],\"pie\":[{\"automargin\":true,\"type\":\"pie\"}],\"scatter\":[{\"marker\":{\"colorbar\":{\"outlinewidth\":0,\"ticks\":\"\"}},\"type\":\"scatter\"}],\"scatter3d\":[{\"line\":{\"colorbar\":{\"outlinewidth\":0,\"ticks\":\"\"}},\"marker\":{\"colorbar\":{\"outlinewidth\":0,\"ticks\":\"\"}},\"type\":\"scatter3d\"}],\"scattercarpet\":[{\"marker\":{\"colorbar\":{\"outlinewidth\":0,\"ticks\":\"\"}},\"type\":\"scattercarpet\"}],\"scattergeo\":[{\"marker\":{\"colorbar\":{\"outlinewidth\":0,\"ticks\":\"\"}},\"type\":\"scattergeo\"}],\"scattergl\":[{\"marker\":{\"colorbar\":{\"outlinewidth\":0,\"ticks\":\"\"}},\"type\":\"scattergl\"}],\"scattermapbox\":[{\"marker\":{\"colorbar\":{\"outlinewidth\":0,\"ticks\":\"\"}},\"type\":\"scattermapbox\"}],\"scatterpolar\":[{\"marker\":{\"colorbar\":{\"outlinewidth\":0,\"ticks\":\"\"}},\"type\":\"scatterpolar\"}],\"scatterpolargl\":[{\"marker\":{\"colorbar\":{\"outlinewidth\":0,\"ticks\":\"\"}},\"type\":\"scatterpolargl\"}],\"scatterternary\":[{\"marker\":{\"colorbar\":{\"outlinewidth\":0,\"ticks\":\"\"}},\"type\":\"scatterternary\"}],\"surface\":[{\"colorbar\":{\"outlinewidth\":0,\"ticks\":\"\"},\"colorscale\":[[0.0,\"#0d0887\"],[0.1111111111111111,\"#46039f\"],[0.2222222222222222,\"#7201a8\"],[0.3333333333333333,\"#9c179e\"],[0.4444444444444444,\"#bd3786\"],[0.5555555555555556,\"#d8576b\"],[0.6666666666666666,\"#ed7953\"],[0.7777777777777778,\"#fb9f3a\"],[0.8888888888888888,\"#fdca26\"],[1.0,\"#f0f921\"]],\"type\":\"surface\"}],\"table\":[{\"cells\":{\"fill\":{\"color\":\"#EBF0F8\"},\"line\":{\"color\":\"white\"}},\"header\":{\"fill\":{\"color\":\"#C8D4E3\"},\"line\":{\"color\":\"white\"}},\"type\":\"table\"}]},\"layout\":{\"annotationdefaults\":{\"arrowcolor\":\"#2a3f5f\",\"arrowhead\":0,\"arrowwidth\":1},\"autotypenumbers\":\"strict\",\"coloraxis\":{\"colorbar\":{\"outlinewidth\":0,\"ticks\":\"\"}},\"colorscale\":{\"diverging\":[[0,\"#8e0152\"],[0.1,\"#c51b7d\"],[0.2,\"#de77ae\"],[0.3,\"#f1b6da\"],[0.4,\"#fde0ef\"],[0.5,\"#f7f7f7\"],[0.6,\"#e6f5d0\"],[0.7,\"#b8e186\"],[0.8,\"#7fbc41\"],[0.9,\"#4d9221\"],[1,\"#276419\"]],\"sequential\":[[0.0,\"#0d0887\"],[0.1111111111111111,\"#46039f\"],[0.2222222222222222,\"#7201a8\"],[0.3333333333333333,\"#9c179e\"],[0.4444444444444444,\"#bd3786\"],[0.5555555555555556,\"#d8576b\"],[0.6666666666666666,\"#ed7953\"],[0.7777777777777778,\"#fb9f3a\"],[0.8888888888888888,\"#fdca26\"],[1.0,\"#f0f921\"]],\"sequentialminus\":[[0.0,\"#0d0887\"],[0.1111111111111111,\"#46039f\"],[0.2222222222222222,\"#7201a8\"],[0.3333333333333333,\"#9c179e\"],[0.4444444444444444,\"#bd3786\"],[0.5555555555555556,\"#d8576b\"],[0.6666666666666666,\"#ed7953\"],[0.7777777777777778,\"#fb9f3a\"],[0.8888888888888888,\"#fdca26\"],[1.0,\"#f0f921\"]]},\"colorway\":[\"#636efa\",\"#EF553B\",\"#00cc96\",\"#ab63fa\",\"#FFA15A\",\"#19d3f3\",\"#FF6692\",\"#B6E880\",\"#FF97FF\",\"#FECB52\"],\"font\":{\"color\":\"#2a3f5f\"},\"geo\":{\"bgcolor\":\"white\",\"lakecolor\":\"white\",\"landcolor\":\"#E5ECF6\",\"showlakes\":true,\"showland\":true,\"subunitcolor\":\"white\"},\"hoverlabel\":{\"align\":\"left\"},\"hovermode\":\"closest\",\"mapbox\":{\"style\":\"light\"},\"paper_bgcolor\":\"white\",\"plot_bgcolor\":\"#E5ECF6\",\"polar\":{\"angularaxis\":{\"gridcolor\":\"white\",\"linecolor\":\"white\",\"ticks\":\"\"},\"bgcolor\":\"#E5ECF6\",\"radialaxis\":{\"gridcolor\":\"white\",\"linecolor\":\"white\",\"ticks\":\"\"}},\"scene\":{\"xaxis\":{\"backgroundcolor\":\"#E5ECF6\",\"gridcolor\":\"white\",\"gridwidth\":2,\"linecolor\":\"white\",\"showbackground\":true,\"ticks\":\"\",\"zerolinecolor\":\"white\"},\"yaxis\":{\"backgroundcolor\":\"#E5ECF6\",\"gridcolor\":\"white\",\"gridwidth\":2,\"linecolor\":\"white\",\"showbackground\":true,\"ticks\":\"\",\"zerolinecolor\":\"white\"},\"zaxis\":{\"backgroundcolor\":\"#E5ECF6\",\"gridcolor\":\"white\",\"gridwidth\":2,\"linecolor\":\"white\",\"showbackground\":true,\"ticks\":\"\",\"zerolinecolor\":\"white\"}},\"shapedefaults\":{\"line\":{\"color\":\"#2a3f5f\"}},\"ternary\":{\"aaxis\":{\"gridcolor\":\"white\",\"linecolor\":\"white\",\"ticks\":\"\"},\"baxis\":{\"gridcolor\":\"white\",\"linecolor\":\"white\",\"ticks\":\"\"},\"bgcolor\":\"#E5ECF6\",\"caxis\":{\"gridcolor\":\"white\",\"linecolor\":\"white\",\"ticks\":\"\"}},\"title\":{\"x\":0.05},\"xaxis\":{\"automargin\":true,\"gridcolor\":\"white\",\"linecolor\":\"white\",\"ticks\":\"\",\"title\":{\"standoff\":15},\"zerolinecolor\":\"white\",\"zerolinewidth\":2},\"yaxis\":{\"automargin\":true,\"gridcolor\":\"white\",\"linecolor\":\"white\",\"ticks\":\"\",\"title\":{\"standoff\":15},\"zerolinecolor\":\"white\",\"zerolinewidth\":2}}},\"xaxis\":{\"anchor\":\"y\",\"domain\":[0.0,1.0],\"type\":\"date\"},\"yaxis\":{\"anchor\":\"x\",\"categoryorder\":\"category descending\",\"domain\":[0.0,1.0],\"title\":{\"text\":\"Username\"}}},                        {\"responsive\": true}                    ).then(function(){\n",
       "                            \n",
       "var gd = document.getElementById('067aa005-b822-4870-a058-46b421bc2089');\n",
       "var x = new MutationObserver(function (mutations, observer) {{\n",
       "        var display = window.getComputedStyle(gd).display;\n",
       "        if (!display || display === 'none') {{\n",
       "            console.log([gd, 'removed!']);\n",
       "            Plotly.purge(gd);\n",
       "            observer.disconnect();\n",
       "        }}\n",
       "}});\n",
       "\n",
       "// Listen for the removal of the full notebook cells\n",
       "var notebookContainer = gd.closest('#notebook-container');\n",
       "if (notebookContainer) {{\n",
       "    x.observe(notebookContainer, {childList: true});\n",
       "}}\n",
       "\n",
       "// Listen for the clearing of the current output cell\n",
       "var outputEl = gd.closest('.output');\n",
       "if (outputEl) {{\n",
       "    x.observe(outputEl, {childList: true});\n",
       "}}\n",
       "\n",
       "                        })                };                });            </script>        </div>"
      ]
     },
     "metadata": {},
     "output_type": "display_data"
    }
   ],
   "source": [
    "#new\n",
    "#fig = px.timeline(df_users, x_start=\"Start\", x_end=\"Finish\", y=\"Username\")\n",
    "fig = px.timeline(df_users, x_start=\"Start\", x_end=\"Finish\", y=\"Username\", color=\"Scenario\")\n",
    "#fig.update_yaxes(autorange=\"reversed\") # otherwise tasks are listed from the bottom up\n",
    "fig.update_yaxes(categoryorder='category descending')\n",
    "fig.show()"
   ]
  },
  {
   "cell_type": "markdown",
   "metadata": {},
   "source": [
    "## Users activity distribution"
   ]
  },
  {
   "cell_type": "code",
   "execution_count": 65,
   "metadata": {},
   "outputs": [
    {
     "data": {
      "text/html": [
       "<div>\n",
       "<style scoped>\n",
       "    .dataframe tbody tr th:only-of-type {\n",
       "        vertical-align: middle;\n",
       "    }\n",
       "\n",
       "    .dataframe tbody tr th {\n",
       "        vertical-align: top;\n",
       "    }\n",
       "\n",
       "    .dataframe thead th {\n",
       "        text-align: right;\n",
       "    }\n",
       "</style>\n",
       "<table border=\"1\" class=\"dataframe\">\n",
       "  <thead>\n",
       "    <tr style=\"text-align: right;\">\n",
       "      <th></th>\n",
       "      <th>Duration</th>\n",
       "    </tr>\n",
       "  </thead>\n",
       "  <tbody>\n",
       "    <tr>\n",
       "      <th>count</th>\n",
       "      <td>660.0000</td>\n",
       "    </tr>\n",
       "    <tr>\n",
       "      <th>mean</th>\n",
       "      <td>16.5000</td>\n",
       "    </tr>\n",
       "    <tr>\n",
       "      <th>std</th>\n",
       "      <td>28.0381</td>\n",
       "    </tr>\n",
       "    <tr>\n",
       "      <th>min</th>\n",
       "      <td>2.0000</td>\n",
       "    </tr>\n",
       "    <tr>\n",
       "      <th>25%</th>\n",
       "      <td>3.0000</td>\n",
       "    </tr>\n",
       "    <tr>\n",
       "      <th>50%</th>\n",
       "      <td>6.0000</td>\n",
       "    </tr>\n",
       "    <tr>\n",
       "      <th>75%</th>\n",
       "      <td>9.0000</td>\n",
       "    </tr>\n",
       "    <tr>\n",
       "      <th>max</th>\n",
       "      <td>127.0000</td>\n",
       "    </tr>\n",
       "  </tbody>\n",
       "</table>\n",
       "</div>"
      ],
      "text/plain": [
       "       Duration\n",
       "count  660.0000\n",
       "mean    16.5000\n",
       "std     28.0381\n",
       "min      2.0000\n",
       "25%      3.0000\n",
       "50%      6.0000\n",
       "75%      9.0000\n",
       "max    127.0000"
      ]
     },
     "execution_count": 65,
     "metadata": {},
     "output_type": "execute_result"
    }
   ],
   "source": [
    "df_users[[\"Duration\"]].describe()"
   ]
  },
  {
   "cell_type": "code",
   "execution_count": 66,
   "metadata": {},
   "outputs": [
    {
     "data": {
      "application/vnd.plotly.v1+json": {
       "config": {
        "plotlyServerURL": "https://plot.ly"
       },
       "data": [
        {
         "alignmentgroup": "True",
         "bingroup": "x",
         "hovertemplate": "Duration=%{x}<br>count=%{y}<extra></extra>",
         "legendgroup": "",
         "marker": {
          "color": "#636efa",
          "pattern": {
           "shape": ""
          }
         },
         "name": "",
         "nbinsx": 20,
         "offsetgroup": "",
         "orientation": "v",
         "showlegend": false,
         "type": "histogram",
         "x": [
          5,
          5,
          8,
          8,
          11,
          11,
          19,
          14,
          27,
          21,
          25,
          29,
          28,
          32,
          31,
          35,
          32,
          34,
          31,
          38,
          42,
          41,
          50,
          42,
          46,
          48,
          52,
          52,
          55,
          55,
          52,
          58,
          55,
          58,
          61,
          61,
          69,
          64,
          66,
          77,
          71,
          75,
          79,
          78,
          82,
          81,
          85,
          84,
          81,
          88,
          92,
          91,
          100,
          94,
          96,
          100,
          102,
          103,
          105,
          106,
          103,
          103,
          108,
          104,
          104,
          109,
          111,
          117,
          114,
          116,
          116,
          125,
          119,
          123,
          127,
          123,
          123,
          118,
          116,
          113,
          109,
          106,
          101,
          99,
          98,
          99,
          96,
          95,
          91,
          90,
          86,
          85,
          83,
          80,
          71,
          68,
          63,
          63,
          61,
          58,
          58,
          53,
          53,
          48,
          43,
          42,
          39,
          32,
          30,
          30,
          29,
          28,
          28,
          28,
          25,
          23,
          20,
          18,
          15,
          13,
          13,
          11,
          4,
          2,
          2,
          2,
          2,
          3,
          3,
          3,
          3,
          3,
          3,
          2,
          2,
          2,
          2,
          2,
          2,
          2,
          2,
          2,
          2,
          2,
          2,
          2,
          2,
          2,
          2,
          2,
          2,
          2,
          2,
          2,
          2,
          2,
          2,
          2,
          2,
          2,
          2,
          2,
          2,
          2,
          2,
          2,
          2,
          2,
          5,
          6,
          2,
          2,
          2,
          2,
          3,
          6,
          2,
          2,
          2,
          2,
          6,
          6,
          3,
          3,
          3,
          3,
          3,
          3,
          4,
          4,
          4,
          8,
          8,
          4,
          3,
          3,
          4,
          4,
          4,
          4,
          4,
          5,
          5,
          8,
          4,
          4,
          4,
          8,
          8,
          9,
          5,
          5,
          5,
          5,
          6,
          6,
          9,
          10,
          6,
          6,
          10,
          10,
          10,
          10,
          10,
          11,
          12,
          9,
          12,
          12,
          13,
          13,
          13,
          12,
          13,
          14,
          12,
          15,
          16,
          15,
          15,
          15,
          16,
          16,
          16,
          18,
          19,
          19,
          19,
          17,
          18,
          18,
          19,
          20,
          21,
          20,
          20,
          12,
          10,
          2,
          2,
          2,
          2,
          2,
          5,
          2,
          2,
          2,
          2,
          2,
          2,
          2,
          2,
          2,
          2,
          2,
          2,
          2,
          2,
          2,
          2,
          2,
          2,
          2,
          2,
          2,
          2,
          2,
          2,
          2,
          2,
          2,
          2,
          2,
          2,
          2,
          2,
          2,
          2,
          2,
          2,
          2,
          2,
          2,
          2,
          2,
          2,
          2,
          2,
          2,
          2,
          2,
          5,
          2,
          2,
          2,
          5,
          2,
          2,
          2,
          5,
          2,
          2,
          5,
          5,
          2,
          3,
          3,
          3,
          2,
          3,
          3,
          3,
          3,
          3,
          3,
          3,
          3,
          3,
          3,
          3,
          3,
          3,
          6,
          7,
          3,
          3,
          3,
          3,
          3,
          2,
          5,
          2,
          3,
          3,
          3,
          3,
          3,
          6,
          6,
          3,
          4,
          3,
          7,
          4,
          3,
          3,
          3,
          7,
          3,
          3,
          3,
          3,
          4,
          3,
          3,
          3,
          4,
          4,
          7,
          4,
          4,
          4,
          3,
          7,
          7,
          5,
          4,
          4,
          4,
          7,
          7,
          8,
          9,
          5,
          5,
          6,
          5,
          6,
          9,
          5,
          5,
          4,
          5,
          5,
          5,
          4,
          4,
          8,
          8,
          5,
          4,
          8,
          8,
          8,
          4,
          4,
          5,
          5,
          9,
          9,
          5,
          5,
          6,
          9,
          4,
          5,
          4,
          7,
          3,
          3,
          3,
          7,
          7,
          7,
          7,
          7,
          7,
          5,
          5,
          5,
          9,
          5,
          5,
          3,
          7,
          6,
          6,
          4,
          5,
          6,
          6,
          8,
          9,
          8,
          7,
          6,
          6,
          5,
          3,
          7,
          6,
          7,
          7,
          7,
          5,
          4,
          5,
          4,
          6,
          6,
          6,
          6,
          5,
          6,
          4,
          5,
          5,
          6,
          4,
          5,
          5,
          3,
          3,
          3,
          4,
          4,
          5,
          4,
          4,
          5,
          5,
          4,
          4,
          4,
          5,
          5,
          4,
          5,
          5,
          5,
          6,
          6,
          5,
          5,
          4,
          5,
          5,
          4,
          5,
          5,
          5,
          6,
          6,
          5,
          5,
          4,
          5,
          5,
          4,
          5,
          5,
          5,
          6,
          6,
          6,
          5,
          5,
          5,
          5,
          5,
          6,
          5,
          5,
          6,
          6,
          5,
          5,
          5,
          6,
          5,
          5,
          6,
          5,
          5,
          6,
          6,
          6,
          5,
          5,
          6,
          6,
          6,
          7,
          7,
          6,
          7,
          7,
          6,
          6,
          6,
          7,
          6,
          6,
          6,
          6,
          6,
          7,
          6,
          6,
          6,
          6,
          7,
          7,
          7,
          7,
          7,
          7,
          8,
          8,
          7,
          7,
          7,
          7,
          7,
          7,
          8,
          7,
          7,
          7,
          7,
          7,
          6,
          6,
          7,
          7,
          7,
          8,
          8,
          7,
          8,
          8,
          7,
          7,
          7,
          8,
          8,
          8,
          8,
          8,
          8,
          9,
          9,
          7,
          7,
          7,
          7,
          7,
          6,
          7,
          7,
          6,
          7,
          7,
          6,
          6,
          6,
          7,
          7,
          6,
          7,
          7,
          6,
          7,
          7,
          6,
          6,
          6,
          6,
          5,
          5,
          6,
          5,
          5,
          6,
          6,
          5,
          4,
          4,
          5,
          4,
          4,
          5,
          4,
          3,
          4,
          3,
          3,
          3,
          3
         ],
         "xaxis": "x",
         "yaxis": "y"
        }
       ],
       "layout": {
        "barmode": "relative",
        "legend": {
         "tracegroupgap": 0
        },
        "margin": {
         "t": 60
        },
        "template": {
         "data": {
          "bar": [
           {
            "error_x": {
             "color": "#2a3f5f"
            },
            "error_y": {
             "color": "#2a3f5f"
            },
            "marker": {
             "line": {
              "color": "#E5ECF6",
              "width": 0.5
             },
             "pattern": {
              "fillmode": "overlay",
              "size": 10,
              "solidity": 0.2
             }
            },
            "type": "bar"
           }
          ],
          "barpolar": [
           {
            "marker": {
             "line": {
              "color": "#E5ECF6",
              "width": 0.5
             },
             "pattern": {
              "fillmode": "overlay",
              "size": 10,
              "solidity": 0.2
             }
            },
            "type": "barpolar"
           }
          ],
          "carpet": [
           {
            "aaxis": {
             "endlinecolor": "#2a3f5f",
             "gridcolor": "white",
             "linecolor": "white",
             "minorgridcolor": "white",
             "startlinecolor": "#2a3f5f"
            },
            "baxis": {
             "endlinecolor": "#2a3f5f",
             "gridcolor": "white",
             "linecolor": "white",
             "minorgridcolor": "white",
             "startlinecolor": "#2a3f5f"
            },
            "type": "carpet"
           }
          ],
          "choropleth": [
           {
            "colorbar": {
             "outlinewidth": 0,
             "ticks": ""
            },
            "type": "choropleth"
           }
          ],
          "contour": [
           {
            "colorbar": {
             "outlinewidth": 0,
             "ticks": ""
            },
            "colorscale": [
             [
              0,
              "#0d0887"
             ],
             [
              0.1111111111111111,
              "#46039f"
             ],
             [
              0.2222222222222222,
              "#7201a8"
             ],
             [
              0.3333333333333333,
              "#9c179e"
             ],
             [
              0.4444444444444444,
              "#bd3786"
             ],
             [
              0.5555555555555556,
              "#d8576b"
             ],
             [
              0.6666666666666666,
              "#ed7953"
             ],
             [
              0.7777777777777778,
              "#fb9f3a"
             ],
             [
              0.8888888888888888,
              "#fdca26"
             ],
             [
              1,
              "#f0f921"
             ]
            ],
            "type": "contour"
           }
          ],
          "contourcarpet": [
           {
            "colorbar": {
             "outlinewidth": 0,
             "ticks": ""
            },
            "type": "contourcarpet"
           }
          ],
          "heatmap": [
           {
            "colorbar": {
             "outlinewidth": 0,
             "ticks": ""
            },
            "colorscale": [
             [
              0,
              "#0d0887"
             ],
             [
              0.1111111111111111,
              "#46039f"
             ],
             [
              0.2222222222222222,
              "#7201a8"
             ],
             [
              0.3333333333333333,
              "#9c179e"
             ],
             [
              0.4444444444444444,
              "#bd3786"
             ],
             [
              0.5555555555555556,
              "#d8576b"
             ],
             [
              0.6666666666666666,
              "#ed7953"
             ],
             [
              0.7777777777777778,
              "#fb9f3a"
             ],
             [
              0.8888888888888888,
              "#fdca26"
             ],
             [
              1,
              "#f0f921"
             ]
            ],
            "type": "heatmap"
           }
          ],
          "heatmapgl": [
           {
            "colorbar": {
             "outlinewidth": 0,
             "ticks": ""
            },
            "colorscale": [
             [
              0,
              "#0d0887"
             ],
             [
              0.1111111111111111,
              "#46039f"
             ],
             [
              0.2222222222222222,
              "#7201a8"
             ],
             [
              0.3333333333333333,
              "#9c179e"
             ],
             [
              0.4444444444444444,
              "#bd3786"
             ],
             [
              0.5555555555555556,
              "#d8576b"
             ],
             [
              0.6666666666666666,
              "#ed7953"
             ],
             [
              0.7777777777777778,
              "#fb9f3a"
             ],
             [
              0.8888888888888888,
              "#fdca26"
             ],
             [
              1,
              "#f0f921"
             ]
            ],
            "type": "heatmapgl"
           }
          ],
          "histogram": [
           {
            "marker": {
             "pattern": {
              "fillmode": "overlay",
              "size": 10,
              "solidity": 0.2
             }
            },
            "type": "histogram"
           }
          ],
          "histogram2d": [
           {
            "colorbar": {
             "outlinewidth": 0,
             "ticks": ""
            },
            "colorscale": [
             [
              0,
              "#0d0887"
             ],
             [
              0.1111111111111111,
              "#46039f"
             ],
             [
              0.2222222222222222,
              "#7201a8"
             ],
             [
              0.3333333333333333,
              "#9c179e"
             ],
             [
              0.4444444444444444,
              "#bd3786"
             ],
             [
              0.5555555555555556,
              "#d8576b"
             ],
             [
              0.6666666666666666,
              "#ed7953"
             ],
             [
              0.7777777777777778,
              "#fb9f3a"
             ],
             [
              0.8888888888888888,
              "#fdca26"
             ],
             [
              1,
              "#f0f921"
             ]
            ],
            "type": "histogram2d"
           }
          ],
          "histogram2dcontour": [
           {
            "colorbar": {
             "outlinewidth": 0,
             "ticks": ""
            },
            "colorscale": [
             [
              0,
              "#0d0887"
             ],
             [
              0.1111111111111111,
              "#46039f"
             ],
             [
              0.2222222222222222,
              "#7201a8"
             ],
             [
              0.3333333333333333,
              "#9c179e"
             ],
             [
              0.4444444444444444,
              "#bd3786"
             ],
             [
              0.5555555555555556,
              "#d8576b"
             ],
             [
              0.6666666666666666,
              "#ed7953"
             ],
             [
              0.7777777777777778,
              "#fb9f3a"
             ],
             [
              0.8888888888888888,
              "#fdca26"
             ],
             [
              1,
              "#f0f921"
             ]
            ],
            "type": "histogram2dcontour"
           }
          ],
          "mesh3d": [
           {
            "colorbar": {
             "outlinewidth": 0,
             "ticks": ""
            },
            "type": "mesh3d"
           }
          ],
          "parcoords": [
           {
            "line": {
             "colorbar": {
              "outlinewidth": 0,
              "ticks": ""
             }
            },
            "type": "parcoords"
           }
          ],
          "pie": [
           {
            "automargin": true,
            "type": "pie"
           }
          ],
          "scatter": [
           {
            "marker": {
             "colorbar": {
              "outlinewidth": 0,
              "ticks": ""
             }
            },
            "type": "scatter"
           }
          ],
          "scatter3d": [
           {
            "line": {
             "colorbar": {
              "outlinewidth": 0,
              "ticks": ""
             }
            },
            "marker": {
             "colorbar": {
              "outlinewidth": 0,
              "ticks": ""
             }
            },
            "type": "scatter3d"
           }
          ],
          "scattercarpet": [
           {
            "marker": {
             "colorbar": {
              "outlinewidth": 0,
              "ticks": ""
             }
            },
            "type": "scattercarpet"
           }
          ],
          "scattergeo": [
           {
            "marker": {
             "colorbar": {
              "outlinewidth": 0,
              "ticks": ""
             }
            },
            "type": "scattergeo"
           }
          ],
          "scattergl": [
           {
            "marker": {
             "colorbar": {
              "outlinewidth": 0,
              "ticks": ""
             }
            },
            "type": "scattergl"
           }
          ],
          "scattermapbox": [
           {
            "marker": {
             "colorbar": {
              "outlinewidth": 0,
              "ticks": ""
             }
            },
            "type": "scattermapbox"
           }
          ],
          "scatterpolar": [
           {
            "marker": {
             "colorbar": {
              "outlinewidth": 0,
              "ticks": ""
             }
            },
            "type": "scatterpolar"
           }
          ],
          "scatterpolargl": [
           {
            "marker": {
             "colorbar": {
              "outlinewidth": 0,
              "ticks": ""
             }
            },
            "type": "scatterpolargl"
           }
          ],
          "scatterternary": [
           {
            "marker": {
             "colorbar": {
              "outlinewidth": 0,
              "ticks": ""
             }
            },
            "type": "scatterternary"
           }
          ],
          "surface": [
           {
            "colorbar": {
             "outlinewidth": 0,
             "ticks": ""
            },
            "colorscale": [
             [
              0,
              "#0d0887"
             ],
             [
              0.1111111111111111,
              "#46039f"
             ],
             [
              0.2222222222222222,
              "#7201a8"
             ],
             [
              0.3333333333333333,
              "#9c179e"
             ],
             [
              0.4444444444444444,
              "#bd3786"
             ],
             [
              0.5555555555555556,
              "#d8576b"
             ],
             [
              0.6666666666666666,
              "#ed7953"
             ],
             [
              0.7777777777777778,
              "#fb9f3a"
             ],
             [
              0.8888888888888888,
              "#fdca26"
             ],
             [
              1,
              "#f0f921"
             ]
            ],
            "type": "surface"
           }
          ],
          "table": [
           {
            "cells": {
             "fill": {
              "color": "#EBF0F8"
             },
             "line": {
              "color": "white"
             }
            },
            "header": {
             "fill": {
              "color": "#C8D4E3"
             },
             "line": {
              "color": "white"
             }
            },
            "type": "table"
           }
          ]
         },
         "layout": {
          "annotationdefaults": {
           "arrowcolor": "#2a3f5f",
           "arrowhead": 0,
           "arrowwidth": 1
          },
          "autotypenumbers": "strict",
          "coloraxis": {
           "colorbar": {
            "outlinewidth": 0,
            "ticks": ""
           }
          },
          "colorscale": {
           "diverging": [
            [
             0,
             "#8e0152"
            ],
            [
             0.1,
             "#c51b7d"
            ],
            [
             0.2,
             "#de77ae"
            ],
            [
             0.3,
             "#f1b6da"
            ],
            [
             0.4,
             "#fde0ef"
            ],
            [
             0.5,
             "#f7f7f7"
            ],
            [
             0.6,
             "#e6f5d0"
            ],
            [
             0.7,
             "#b8e186"
            ],
            [
             0.8,
             "#7fbc41"
            ],
            [
             0.9,
             "#4d9221"
            ],
            [
             1,
             "#276419"
            ]
           ],
           "sequential": [
            [
             0,
             "#0d0887"
            ],
            [
             0.1111111111111111,
             "#46039f"
            ],
            [
             0.2222222222222222,
             "#7201a8"
            ],
            [
             0.3333333333333333,
             "#9c179e"
            ],
            [
             0.4444444444444444,
             "#bd3786"
            ],
            [
             0.5555555555555556,
             "#d8576b"
            ],
            [
             0.6666666666666666,
             "#ed7953"
            ],
            [
             0.7777777777777778,
             "#fb9f3a"
            ],
            [
             0.8888888888888888,
             "#fdca26"
            ],
            [
             1,
             "#f0f921"
            ]
           ],
           "sequentialminus": [
            [
             0,
             "#0d0887"
            ],
            [
             0.1111111111111111,
             "#46039f"
            ],
            [
             0.2222222222222222,
             "#7201a8"
            ],
            [
             0.3333333333333333,
             "#9c179e"
            ],
            [
             0.4444444444444444,
             "#bd3786"
            ],
            [
             0.5555555555555556,
             "#d8576b"
            ],
            [
             0.6666666666666666,
             "#ed7953"
            ],
            [
             0.7777777777777778,
             "#fb9f3a"
            ],
            [
             0.8888888888888888,
             "#fdca26"
            ],
            [
             1,
             "#f0f921"
            ]
           ]
          },
          "colorway": [
           "#636efa",
           "#EF553B",
           "#00cc96",
           "#ab63fa",
           "#FFA15A",
           "#19d3f3",
           "#FF6692",
           "#B6E880",
           "#FF97FF",
           "#FECB52"
          ],
          "font": {
           "color": "#2a3f5f"
          },
          "geo": {
           "bgcolor": "white",
           "lakecolor": "white",
           "landcolor": "#E5ECF6",
           "showlakes": true,
           "showland": true,
           "subunitcolor": "white"
          },
          "hoverlabel": {
           "align": "left"
          },
          "hovermode": "closest",
          "mapbox": {
           "style": "light"
          },
          "paper_bgcolor": "white",
          "plot_bgcolor": "#E5ECF6",
          "polar": {
           "angularaxis": {
            "gridcolor": "white",
            "linecolor": "white",
            "ticks": ""
           },
           "bgcolor": "#E5ECF6",
           "radialaxis": {
            "gridcolor": "white",
            "linecolor": "white",
            "ticks": ""
           }
          },
          "scene": {
           "xaxis": {
            "backgroundcolor": "#E5ECF6",
            "gridcolor": "white",
            "gridwidth": 2,
            "linecolor": "white",
            "showbackground": true,
            "ticks": "",
            "zerolinecolor": "white"
           },
           "yaxis": {
            "backgroundcolor": "#E5ECF6",
            "gridcolor": "white",
            "gridwidth": 2,
            "linecolor": "white",
            "showbackground": true,
            "ticks": "",
            "zerolinecolor": "white"
           },
           "zaxis": {
            "backgroundcolor": "#E5ECF6",
            "gridcolor": "white",
            "gridwidth": 2,
            "linecolor": "white",
            "showbackground": true,
            "ticks": "",
            "zerolinecolor": "white"
           }
          },
          "shapedefaults": {
           "line": {
            "color": "#2a3f5f"
           }
          },
          "ternary": {
           "aaxis": {
            "gridcolor": "white",
            "linecolor": "white",
            "ticks": ""
           },
           "baxis": {
            "gridcolor": "white",
            "linecolor": "white",
            "ticks": ""
           },
           "bgcolor": "#E5ECF6",
           "caxis": {
            "gridcolor": "white",
            "linecolor": "white",
            "ticks": ""
           }
          },
          "title": {
           "x": 0.05
          },
          "xaxis": {
           "automargin": true,
           "gridcolor": "white",
           "linecolor": "white",
           "ticks": "",
           "title": {
            "standoff": 15
           },
           "zerolinecolor": "white",
           "zerolinewidth": 2
          },
          "yaxis": {
           "automargin": true,
           "gridcolor": "white",
           "linecolor": "white",
           "ticks": "",
           "title": {
            "standoff": 15
           },
           "zerolinecolor": "white",
           "zerolinewidth": 2
          }
         }
        },
        "xaxis": {
         "anchor": "y",
         "domain": [
          0,
          1
         ],
         "title": {
          "text": "Duration"
         }
        },
        "yaxis": {
         "anchor": "x",
         "domain": [
          0,
          1
         ],
         "title": {
          "text": "count"
         }
        }
       }
      },
      "text/html": [
       "<div>                            <div id=\"383679b9-9864-4917-b39b-f2158c429c70\" class=\"plotly-graph-div\" style=\"height:525px; width:100%;\"></div>            <script type=\"text/javascript\">                require([\"plotly\"], function(Plotly) {                    window.PLOTLYENV=window.PLOTLYENV || {};                                    if (document.getElementById(\"383679b9-9864-4917-b39b-f2158c429c70\")) {                    Plotly.newPlot(                        \"383679b9-9864-4917-b39b-f2158c429c70\",                        [{\"alignmentgroup\":\"True\",\"bingroup\":\"x\",\"hovertemplate\":\"Duration=%{x}<br>count=%{y}<extra></extra>\",\"legendgroup\":\"\",\"marker\":{\"color\":\"#636efa\",\"pattern\":{\"shape\":\"\"}},\"name\":\"\",\"nbinsx\":20,\"offsetgroup\":\"\",\"orientation\":\"v\",\"showlegend\":false,\"type\":\"histogram\",\"x\":[5,5,8,8,11,11,19,14,27,21,25,29,28,32,31,35,32,34,31,38,42,41,50,42,46,48,52,52,55,55,52,58,55,58,61,61,69,64,66,77,71,75,79,78,82,81,85,84,81,88,92,91,100,94,96,100,102,103,105,106,103,103,108,104,104,109,111,117,114,116,116,125,119,123,127,123,123,118,116,113,109,106,101,99,98,99,96,95,91,90,86,85,83,80,71,68,63,63,61,58,58,53,53,48,43,42,39,32,30,30,29,28,28,28,25,23,20,18,15,13,13,11,4,2,2,2,2,3,3,3,3,3,3,2,2,2,2,2,2,2,2,2,2,2,2,2,2,2,2,2,2,2,2,2,2,2,2,2,2,2,2,2,2,2,2,2,2,2,5,6,2,2,2,2,3,6,2,2,2,2,6,6,3,3,3,3,3,3,4,4,4,8,8,4,3,3,4,4,4,4,4,5,5,8,4,4,4,8,8,9,5,5,5,5,6,6,9,10,6,6,10,10,10,10,10,11,12,9,12,12,13,13,13,12,13,14,12,15,16,15,15,15,16,16,16,18,19,19,19,17,18,18,19,20,21,20,20,12,10,2,2,2,2,2,5,2,2,2,2,2,2,2,2,2,2,2,2,2,2,2,2,2,2,2,2,2,2,2,2,2,2,2,2,2,2,2,2,2,2,2,2,2,2,2,2,2,2,2,2,2,2,2,5,2,2,2,5,2,2,2,5,2,2,5,5,2,3,3,3,2,3,3,3,3,3,3,3,3,3,3,3,3,3,6,7,3,3,3,3,3,2,5,2,3,3,3,3,3,6,6,3,4,3,7,4,3,3,3,7,3,3,3,3,4,3,3,3,4,4,7,4,4,4,3,7,7,5,4,4,4,7,7,8,9,5,5,6,5,6,9,5,5,4,5,5,5,4,4,8,8,5,4,8,8,8,4,4,5,5,9,9,5,5,6,9,4,5,4,7,3,3,3,7,7,7,7,7,7,5,5,5,9,5,5,3,7,6,6,4,5,6,6,8,9,8,7,6,6,5,3,7,6,7,7,7,5,4,5,4,6,6,6,6,5,6,4,5,5,6,4,5,5,3,3,3,4,4,5,4,4,5,5,4,4,4,5,5,4,5,5,5,6,6,5,5,4,5,5,4,5,5,5,6,6,5,5,4,5,5,4,5,5,5,6,6,6,5,5,5,5,5,6,5,5,6,6,5,5,5,6,5,5,6,5,5,6,6,6,5,5,6,6,6,7,7,6,7,7,6,6,6,7,6,6,6,6,6,7,6,6,6,6,7,7,7,7,7,7,8,8,7,7,7,7,7,7,8,7,7,7,7,7,6,6,7,7,7,8,8,7,8,8,7,7,7,8,8,8,8,8,8,9,9,7,7,7,7,7,6,7,7,6,7,7,6,6,6,7,7,6,7,7,6,7,7,6,6,6,6,5,5,6,5,5,6,6,5,4,4,5,4,4,5,4,3,4,3,3,3,3],\"xaxis\":\"x\",\"yaxis\":\"y\"}],                        {\"barmode\":\"relative\",\"legend\":{\"tracegroupgap\":0},\"margin\":{\"t\":60},\"template\":{\"data\":{\"bar\":[{\"error_x\":{\"color\":\"#2a3f5f\"},\"error_y\":{\"color\":\"#2a3f5f\"},\"marker\":{\"line\":{\"color\":\"#E5ECF6\",\"width\":0.5},\"pattern\":{\"fillmode\":\"overlay\",\"size\":10,\"solidity\":0.2}},\"type\":\"bar\"}],\"barpolar\":[{\"marker\":{\"line\":{\"color\":\"#E5ECF6\",\"width\":0.5},\"pattern\":{\"fillmode\":\"overlay\",\"size\":10,\"solidity\":0.2}},\"type\":\"barpolar\"}],\"carpet\":[{\"aaxis\":{\"endlinecolor\":\"#2a3f5f\",\"gridcolor\":\"white\",\"linecolor\":\"white\",\"minorgridcolor\":\"white\",\"startlinecolor\":\"#2a3f5f\"},\"baxis\":{\"endlinecolor\":\"#2a3f5f\",\"gridcolor\":\"white\",\"linecolor\":\"white\",\"minorgridcolor\":\"white\",\"startlinecolor\":\"#2a3f5f\"},\"type\":\"carpet\"}],\"choropleth\":[{\"colorbar\":{\"outlinewidth\":0,\"ticks\":\"\"},\"type\":\"choropleth\"}],\"contour\":[{\"colorbar\":{\"outlinewidth\":0,\"ticks\":\"\"},\"colorscale\":[[0.0,\"#0d0887\"],[0.1111111111111111,\"#46039f\"],[0.2222222222222222,\"#7201a8\"],[0.3333333333333333,\"#9c179e\"],[0.4444444444444444,\"#bd3786\"],[0.5555555555555556,\"#d8576b\"],[0.6666666666666666,\"#ed7953\"],[0.7777777777777778,\"#fb9f3a\"],[0.8888888888888888,\"#fdca26\"],[1.0,\"#f0f921\"]],\"type\":\"contour\"}],\"contourcarpet\":[{\"colorbar\":{\"outlinewidth\":0,\"ticks\":\"\"},\"type\":\"contourcarpet\"}],\"heatmap\":[{\"colorbar\":{\"outlinewidth\":0,\"ticks\":\"\"},\"colorscale\":[[0.0,\"#0d0887\"],[0.1111111111111111,\"#46039f\"],[0.2222222222222222,\"#7201a8\"],[0.3333333333333333,\"#9c179e\"],[0.4444444444444444,\"#bd3786\"],[0.5555555555555556,\"#d8576b\"],[0.6666666666666666,\"#ed7953\"],[0.7777777777777778,\"#fb9f3a\"],[0.8888888888888888,\"#fdca26\"],[1.0,\"#f0f921\"]],\"type\":\"heatmap\"}],\"heatmapgl\":[{\"colorbar\":{\"outlinewidth\":0,\"ticks\":\"\"},\"colorscale\":[[0.0,\"#0d0887\"],[0.1111111111111111,\"#46039f\"],[0.2222222222222222,\"#7201a8\"],[0.3333333333333333,\"#9c179e\"],[0.4444444444444444,\"#bd3786\"],[0.5555555555555556,\"#d8576b\"],[0.6666666666666666,\"#ed7953\"],[0.7777777777777778,\"#fb9f3a\"],[0.8888888888888888,\"#fdca26\"],[1.0,\"#f0f921\"]],\"type\":\"heatmapgl\"}],\"histogram\":[{\"marker\":{\"pattern\":{\"fillmode\":\"overlay\",\"size\":10,\"solidity\":0.2}},\"type\":\"histogram\"}],\"histogram2d\":[{\"colorbar\":{\"outlinewidth\":0,\"ticks\":\"\"},\"colorscale\":[[0.0,\"#0d0887\"],[0.1111111111111111,\"#46039f\"],[0.2222222222222222,\"#7201a8\"],[0.3333333333333333,\"#9c179e\"],[0.4444444444444444,\"#bd3786\"],[0.5555555555555556,\"#d8576b\"],[0.6666666666666666,\"#ed7953\"],[0.7777777777777778,\"#fb9f3a\"],[0.8888888888888888,\"#fdca26\"],[1.0,\"#f0f921\"]],\"type\":\"histogram2d\"}],\"histogram2dcontour\":[{\"colorbar\":{\"outlinewidth\":0,\"ticks\":\"\"},\"colorscale\":[[0.0,\"#0d0887\"],[0.1111111111111111,\"#46039f\"],[0.2222222222222222,\"#7201a8\"],[0.3333333333333333,\"#9c179e\"],[0.4444444444444444,\"#bd3786\"],[0.5555555555555556,\"#d8576b\"],[0.6666666666666666,\"#ed7953\"],[0.7777777777777778,\"#fb9f3a\"],[0.8888888888888888,\"#fdca26\"],[1.0,\"#f0f921\"]],\"type\":\"histogram2dcontour\"}],\"mesh3d\":[{\"colorbar\":{\"outlinewidth\":0,\"ticks\":\"\"},\"type\":\"mesh3d\"}],\"parcoords\":[{\"line\":{\"colorbar\":{\"outlinewidth\":0,\"ticks\":\"\"}},\"type\":\"parcoords\"}],\"pie\":[{\"automargin\":true,\"type\":\"pie\"}],\"scatter\":[{\"marker\":{\"colorbar\":{\"outlinewidth\":0,\"ticks\":\"\"}},\"type\":\"scatter\"}],\"scatter3d\":[{\"line\":{\"colorbar\":{\"outlinewidth\":0,\"ticks\":\"\"}},\"marker\":{\"colorbar\":{\"outlinewidth\":0,\"ticks\":\"\"}},\"type\":\"scatter3d\"}],\"scattercarpet\":[{\"marker\":{\"colorbar\":{\"outlinewidth\":0,\"ticks\":\"\"}},\"type\":\"scattercarpet\"}],\"scattergeo\":[{\"marker\":{\"colorbar\":{\"outlinewidth\":0,\"ticks\":\"\"}},\"type\":\"scattergeo\"}],\"scattergl\":[{\"marker\":{\"colorbar\":{\"outlinewidth\":0,\"ticks\":\"\"}},\"type\":\"scattergl\"}],\"scattermapbox\":[{\"marker\":{\"colorbar\":{\"outlinewidth\":0,\"ticks\":\"\"}},\"type\":\"scattermapbox\"}],\"scatterpolar\":[{\"marker\":{\"colorbar\":{\"outlinewidth\":0,\"ticks\":\"\"}},\"type\":\"scatterpolar\"}],\"scatterpolargl\":[{\"marker\":{\"colorbar\":{\"outlinewidth\":0,\"ticks\":\"\"}},\"type\":\"scatterpolargl\"}],\"scatterternary\":[{\"marker\":{\"colorbar\":{\"outlinewidth\":0,\"ticks\":\"\"}},\"type\":\"scatterternary\"}],\"surface\":[{\"colorbar\":{\"outlinewidth\":0,\"ticks\":\"\"},\"colorscale\":[[0.0,\"#0d0887\"],[0.1111111111111111,\"#46039f\"],[0.2222222222222222,\"#7201a8\"],[0.3333333333333333,\"#9c179e\"],[0.4444444444444444,\"#bd3786\"],[0.5555555555555556,\"#d8576b\"],[0.6666666666666666,\"#ed7953\"],[0.7777777777777778,\"#fb9f3a\"],[0.8888888888888888,\"#fdca26\"],[1.0,\"#f0f921\"]],\"type\":\"surface\"}],\"table\":[{\"cells\":{\"fill\":{\"color\":\"#EBF0F8\"},\"line\":{\"color\":\"white\"}},\"header\":{\"fill\":{\"color\":\"#C8D4E3\"},\"line\":{\"color\":\"white\"}},\"type\":\"table\"}]},\"layout\":{\"annotationdefaults\":{\"arrowcolor\":\"#2a3f5f\",\"arrowhead\":0,\"arrowwidth\":1},\"autotypenumbers\":\"strict\",\"coloraxis\":{\"colorbar\":{\"outlinewidth\":0,\"ticks\":\"\"}},\"colorscale\":{\"diverging\":[[0,\"#8e0152\"],[0.1,\"#c51b7d\"],[0.2,\"#de77ae\"],[0.3,\"#f1b6da\"],[0.4,\"#fde0ef\"],[0.5,\"#f7f7f7\"],[0.6,\"#e6f5d0\"],[0.7,\"#b8e186\"],[0.8,\"#7fbc41\"],[0.9,\"#4d9221\"],[1,\"#276419\"]],\"sequential\":[[0.0,\"#0d0887\"],[0.1111111111111111,\"#46039f\"],[0.2222222222222222,\"#7201a8\"],[0.3333333333333333,\"#9c179e\"],[0.4444444444444444,\"#bd3786\"],[0.5555555555555556,\"#d8576b\"],[0.6666666666666666,\"#ed7953\"],[0.7777777777777778,\"#fb9f3a\"],[0.8888888888888888,\"#fdca26\"],[1.0,\"#f0f921\"]],\"sequentialminus\":[[0.0,\"#0d0887\"],[0.1111111111111111,\"#46039f\"],[0.2222222222222222,\"#7201a8\"],[0.3333333333333333,\"#9c179e\"],[0.4444444444444444,\"#bd3786\"],[0.5555555555555556,\"#d8576b\"],[0.6666666666666666,\"#ed7953\"],[0.7777777777777778,\"#fb9f3a\"],[0.8888888888888888,\"#fdca26\"],[1.0,\"#f0f921\"]]},\"colorway\":[\"#636efa\",\"#EF553B\",\"#00cc96\",\"#ab63fa\",\"#FFA15A\",\"#19d3f3\",\"#FF6692\",\"#B6E880\",\"#FF97FF\",\"#FECB52\"],\"font\":{\"color\":\"#2a3f5f\"},\"geo\":{\"bgcolor\":\"white\",\"lakecolor\":\"white\",\"landcolor\":\"#E5ECF6\",\"showlakes\":true,\"showland\":true,\"subunitcolor\":\"white\"},\"hoverlabel\":{\"align\":\"left\"},\"hovermode\":\"closest\",\"mapbox\":{\"style\":\"light\"},\"paper_bgcolor\":\"white\",\"plot_bgcolor\":\"#E5ECF6\",\"polar\":{\"angularaxis\":{\"gridcolor\":\"white\",\"linecolor\":\"white\",\"ticks\":\"\"},\"bgcolor\":\"#E5ECF6\",\"radialaxis\":{\"gridcolor\":\"white\",\"linecolor\":\"white\",\"ticks\":\"\"}},\"scene\":{\"xaxis\":{\"backgroundcolor\":\"#E5ECF6\",\"gridcolor\":\"white\",\"gridwidth\":2,\"linecolor\":\"white\",\"showbackground\":true,\"ticks\":\"\",\"zerolinecolor\":\"white\"},\"yaxis\":{\"backgroundcolor\":\"#E5ECF6\",\"gridcolor\":\"white\",\"gridwidth\":2,\"linecolor\":\"white\",\"showbackground\":true,\"ticks\":\"\",\"zerolinecolor\":\"white\"},\"zaxis\":{\"backgroundcolor\":\"#E5ECF6\",\"gridcolor\":\"white\",\"gridwidth\":2,\"linecolor\":\"white\",\"showbackground\":true,\"ticks\":\"\",\"zerolinecolor\":\"white\"}},\"shapedefaults\":{\"line\":{\"color\":\"#2a3f5f\"}},\"ternary\":{\"aaxis\":{\"gridcolor\":\"white\",\"linecolor\":\"white\",\"ticks\":\"\"},\"baxis\":{\"gridcolor\":\"white\",\"linecolor\":\"white\",\"ticks\":\"\"},\"bgcolor\":\"#E5ECF6\",\"caxis\":{\"gridcolor\":\"white\",\"linecolor\":\"white\",\"ticks\":\"\"}},\"title\":{\"x\":0.05},\"xaxis\":{\"automargin\":true,\"gridcolor\":\"white\",\"linecolor\":\"white\",\"ticks\":\"\",\"title\":{\"standoff\":15},\"zerolinecolor\":\"white\",\"zerolinewidth\":2},\"yaxis\":{\"automargin\":true,\"gridcolor\":\"white\",\"linecolor\":\"white\",\"ticks\":\"\",\"title\":{\"standoff\":15},\"zerolinecolor\":\"white\",\"zerolinewidth\":2}}},\"xaxis\":{\"anchor\":\"y\",\"domain\":[0.0,1.0],\"title\":{\"text\":\"Duration\"}},\"yaxis\":{\"anchor\":\"x\",\"domain\":[0.0,1.0],\"title\":{\"text\":\"count\"}}},                        {\"responsive\": true}                    ).then(function(){\n",
       "                            \n",
       "var gd = document.getElementById('383679b9-9864-4917-b39b-f2158c429c70');\n",
       "var x = new MutationObserver(function (mutations, observer) {{\n",
       "        var display = window.getComputedStyle(gd).display;\n",
       "        if (!display || display === 'none') {{\n",
       "            console.log([gd, 'removed!']);\n",
       "            Plotly.purge(gd);\n",
       "            observer.disconnect();\n",
       "        }}\n",
       "}});\n",
       "\n",
       "// Listen for the removal of the full notebook cells\n",
       "var notebookContainer = gd.closest('#notebook-container');\n",
       "if (notebookContainer) {{\n",
       "    x.observe(notebookContainer, {childList: true});\n",
       "}}\n",
       "\n",
       "// Listen for the clearing of the current output cell\n",
       "var outputEl = gd.closest('.output');\n",
       "if (outputEl) {{\n",
       "    x.observe(outputEl, {childList: true});\n",
       "}}\n",
       "\n",
       "                        })                };                });            </script>        </div>"
      ]
     },
     "metadata": {},
     "output_type": "display_data"
    }
   ],
   "source": [
    "mainLogger.debug(f\"max={max}\")\n",
    "fig = px.histogram(df_users, x=\"Duration\", nbins=20)\n",
    "fig.show()"
   ]
  },
  {
   "cell_type": "code",
   "execution_count": 67,
   "metadata": {},
   "outputs": [],
   "source": [
    "# when starts waiting - more or less 8 users\n",
    "# as much as processes - more or less 13 users"
   ]
  },
  {
   "cell_type": "markdown",
   "metadata": {},
   "source": [
    "# Logs"
   ]
  },
  {
   "cell_type": "code",
   "execution_count": 68,
   "metadata": {},
   "outputs": [
    {
     "name": "stdout",
     "output_type": "stream",
     "text": [
      "2021-09-12 17:26:58,490 - root - DEBUG - test\n",
      "2021-09-12 17:26:58,626 - root - INFO - creating simulation\n",
      "2021-09-12 17:26:58,628 - root - INFO - session name: nominal test\n",
      "2021-09-12 17:26:58,629 - root - INFO - scenarios_index: [1, 1, 1, 1, 1, 1, 1, 1, 0, 1, 1, 0]\n",
      "2021-09-12 17:26:58,629 - root - INFO - Clock created - base 1631460418.629235\n",
      "2021-09-12 17:26:58,629 - root - INFO - create resource with capacity 80\n",
      "2021-09-12 17:26:58,629 - root - INFO - initial level 80\n",
      "2021-09-12 17:26:58,629 - root - INFO - creating user generator for 60 users\n",
      "2021-09-12 17:26:58,629 - root - INFO - creating agent\n",
      "2021-09-12 17:26:58,631 - root - INFO - session name: nominal test\n",
      "2021-09-12 17:26:58,631 - root - INFO - scenarios_index: [1, 1, 1, 1, 1, 1, 0, 1, 0, 1, 1, 1]\n",
      "2021-09-12 17:26:58,635 - root - INFO - starting simulation\n",
      "2021-09-12 17:26:58,635 - root - INFO - user created User-001\n",
      "2021-09-12 17:26:58,635 - root - INFO - user created User-002\n",
      "2021-09-12 17:26:58,636 - root - INFO - user created User-003\n",
      "2021-09-12 17:26:58,636 - root - INFO - user created User-004\n",
      "2021-09-12 17:26:58,636 - root - INFO - user created User-005\n",
      "2021-09-12 17:26:58,637 - root - INFO - user created User-006\n",
      "2021-09-12 17:26:58,637 - root - INFO - user created User-007\n",
      "2021-09-12 17:26:58,637 - root - INFO - user created User-008\n",
      "2021-09-12 17:26:58,638 - root - INFO - user created User-009\n",
      "2021-09-12 17:26:58,638 - root - INFO - user created User-010\n",
      "2021-09-12 17:26:58,638 - root - INFO - user created User-011\n",
      "2021-09-12 17:26:58,639 - root - INFO - user created User-012\n",
      "2021-09-12 17:26:58,639 - root - INFO - user created User-013\n",
      "2021-09-12 17:26:58,640 - root - INFO - user created User-014\n",
      "2021-09-12 17:26:58,640 - root - INFO - user created User-015\n",
      "2021-09-12 17:26:58,640 - root - INFO - user created User-016\n",
      "2021-09-12 17:26:58,641 - root - INFO - user created User-017\n",
      "2021-09-12 17:26:58,641 - root - INFO - user created User-018\n",
      "2021-09-12 17:26:58,641 - root - INFO - user created User-019\n",
      "2021-09-12 17:26:58,641 - root - INFO - user created User-020\n",
      "2021-09-12 17:26:58,642 - root - INFO - user created User-021\n",
      "2021-09-12 17:26:58,642 - root - INFO - user created User-022\n",
      "2021-09-12 17:26:58,642 - root - INFO - user created User-023\n",
      "2021-09-12 17:26:58,642 - root - INFO - user created User-024\n",
      "2021-09-12 17:26:58,642 - root - INFO - user created User-025\n",
      "2021-09-12 17:26:58,643 - root - INFO - user created User-026\n",
      "2021-09-12 17:26:58,643 - root - INFO - user created User-027\n",
      "2021-09-12 17:26:58,643 - root - INFO - user created User-028\n",
      "2021-09-12 17:26:58,643 - root - INFO - user created User-029\n",
      "2021-09-12 17:26:58,644 - root - INFO - user created User-030\n",
      "2021-09-12 17:26:58,644 - root - INFO - user created User-031\n",
      "2021-09-12 17:26:58,644 - root - INFO - user created User-032\n",
      "2021-09-12 17:26:58,644 - root - INFO - user created User-033\n",
      "2021-09-12 17:26:58,644 - root - INFO - user created User-034\n",
      "2021-09-12 17:26:58,644 - root - INFO - user created User-035\n",
      "2021-09-12 17:26:58,645 - root - INFO - user created User-036\n",
      "2021-09-12 17:26:58,645 - root - INFO - user created User-037\n",
      "2021-09-12 17:26:58,645 - root - INFO - user created User-038\n",
      "2021-09-12 17:26:58,646 - root - INFO - user created User-039\n",
      "2021-09-12 17:26:58,646 - root - INFO - user created User-040\n",
      "2021-09-12 17:26:58,646 - root - INFO - user created User-041\n",
      "2021-09-12 17:26:58,646 - root - INFO - user created User-042\n",
      "2021-09-12 17:26:58,647 - root - INFO - user created User-043\n",
      "2021-09-12 17:26:58,647 - root - INFO - user created User-044\n",
      "2021-09-12 17:26:58,647 - root - INFO - user created User-045\n",
      "2021-09-12 17:26:58,647 - root - INFO - user created User-046\n",
      "2021-09-12 17:26:58,647 - root - INFO - user created User-047\n",
      "2021-09-12 17:26:58,648 - root - INFO - user created User-048\n",
      "2021-09-12 17:26:58,648 - root - INFO - user created User-049\n",
      "2021-09-12 17:26:58,648 - root - INFO - user created User-050\n",
      "2021-09-12 17:26:58,648 - root - INFO - user created User-051\n",
      "2021-09-12 17:26:58,649 - root - INFO - user created User-052\n",
      "2021-09-12 17:26:58,649 - root - INFO - user created User-053\n",
      "2021-09-12 17:26:58,649 - root - INFO - user created User-054\n",
      "2021-09-12 17:26:58,649 - root - INFO - user created User-055\n",
      "2021-09-12 17:26:58,650 - root - INFO - user created User-056\n",
      "2021-09-12 17:26:58,650 - root - INFO - user created User-057\n",
      "2021-09-12 17:26:58,650 - root - INFO - user created User-058\n",
      "2021-09-12 17:26:58,650 - root - INFO - user created User-059\n",
      "2021-09-12 17:26:58,651 - root - INFO - user created User-060\n",
      "user created User-046\n",
      "2021-09-12 17:26:58,647 - root - INFO - user created User-047\n",
      "2021-09-12 17:26:58,648 - root - INFO - user created User-048\n",
      "2021-09-12 17:26:58,648 - root - INFO - user created User-049\n",
      "2021-09-12 17:26:58,648 - root - INFO - user created User-050\n",
      "2021-09-12 17:26:58,648 - root - INFO - user created User-051\n",
      "2021-09-12 17:26:58,649 - root - INFO - user created User-052\n",
      "2021-09-12 17:26:58,649 - root - INFO - user created User-053\n",
      "2021-09-12 17:26:58,649 - root - INFO - user created User-054\n",
      "2021-09-12 17:26:58,649 - root - INFO - user created User-055\n",
      "2021-09-12 17:26:58,650 - root - INFO - user created User-056\n",
      "2021-09-12 17:26:58,650 - root - INFO - user created User-057\n",
      "2021-09-12 17:26:58,650 - root - INFO - user created User-058\n",
      "2021-09-12 17:26:58,650 - root - INFO - user created User-059\n",
      "2021-09-12 17:26:58,651 - root - INFO - user created User-060\n",
      "\n"
     ]
    }
   ],
   "source": [
    "with open(log_filename) as log:\n",
    "            print(log.read())"
   ]
  },
  {
   "cell_type": "code",
   "execution_count": null,
   "metadata": {},
   "outputs": [],
   "source": []
  }
 ],
 "metadata": {
  "kernelspec": {
   "display_name": "Python 3",
   "language": "python",
   "name": "python3"
  },
  "language_info": {
   "codemirror_mode": {
    "name": "ipython",
    "version": 3
   },
   "file_extension": ".py",
   "mimetype": "text/x-python",
   "name": "python",
   "nbconvert_exporter": "python",
   "pygments_lexer": "ipython3",
   "version": "3.7.3"
  }
 },
 "nbformat": 4,
 "nbformat_minor": 2
}
